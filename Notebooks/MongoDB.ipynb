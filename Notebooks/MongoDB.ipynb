{
 "cells": [
  {
   "cell_type": "code",
   "execution_count": 1,
   "metadata": {
    "collapsed": true
   },
   "outputs": [],
   "source": [
    "#make sure you have installed \"pymongo\" package\n",
    "#MongoDB uses documents and collections.\n",
    "#each collection is a DB object and each document is a JSON object\n",
    "#we can access collections and objects using dots"
   ]
  },
  {
   "cell_type": "code",
   "execution_count": 1,
   "metadata": {},
   "outputs": [
    {
     "name": "stdout",
     "output_type": "stream",
     "text": [
      "<pymongo.cursor.Cursor object at 0x0000000004C82978>\n"
     ]
    },
    {
     "name": "stderr",
     "output_type": "stream",
     "text": [
      "C:\\Users\\Sore\\AppData\\Roaming\\Python\\Python27\\site-packages\\ipykernel\\__main__.py:18: DeprecationWarning: insert is deprecated. Use insert_one or insert_many instead.\n"
     ]
    }
   ],
   "source": [
    "# import connection requests library\n",
    "from pymongo import MongoClient\n",
    "\n",
    "# Create a new connection to a single MongoDB instance at host:port.\n",
    "connection = MongoClient()\n",
    "\n",
    "# Create and get a data base (db) from this connection\n",
    "db = connection.test\n",
    "\n",
    "# Create and get a collection named \"collect\" from the data base named \"db\" from the connection named \"connection\"\n",
    "collection = db.collect\n",
    "\n",
    "# Create an entry and insert in the collection\n",
    "age = 30\n",
    "entry = {\"Name\": \"Ralph\",\n",
    "         \"Address\": \"16, Av Foch\",\n",
    "         \"Age in Years\": age}\n",
    "collection.insert(entry)\n",
    "\n",
    "# Print out the inserted entry\n",
    "print(list(collection.find()))\n",
    "\n",
    "# close connection\n",
    "connection.close()"
   ]
  },
  {
   "cell_type": "code",
   "execution_count": null,
   "outputs": [],
   "source": [
    ""
   ]
  }
 ],
 "metadata": {
  "kernelspec": {
   "display_name": "Python 2",
   "language": "python",
   "name": "python2"
  },
  "language_info": {
   "codemirror_mode": {
    "name": "ipython",
    "version": 2.0
   },
   "file_extension": ".py",
   "mimetype": "text/x-python",
   "name": "python",
   "nbconvert_exporter": "python",
   "pygments_lexer": "ipython2",
   "version": "2.7.6"
  }
 },
 "nbformat": 4,
 "nbformat_minor": 0
}