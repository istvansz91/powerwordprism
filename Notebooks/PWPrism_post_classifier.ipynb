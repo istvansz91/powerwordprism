{
 "cells": [
  {
   "cell_type": "code",
   "execution_count": 24,
   "metadata": {
    "collapsed": true
   },
   "outputs": [],
   "source": [
    "from bs4 import BeautifulSoup\n",
    "from pprint import pprint\n",
    "from urllib import request\n",
    "from nltk import sent_tokenize\n",
    "import nltk.data\n",
    "from nltk.corpus import stopwords\n",
    "# import matplotlib.pyplot as plt\n",
    "import nltk\n",
    "import json\n",
    "import time\n",
    "import sys\n",
    "import re\n",
    "import numpy\n",
    "from nltk.sentiment import vader\n",
    "from nltk.sentiment.vader import SentimentIntensityAnalyzer\n",
    "import math\n",
    "\n",
    "nltk.data.path.append('D:/WS/MSc/TMP/nltk_data')\n",
    "\n",
    "RESOURCES_PATH_LINKS = 'Resources/Corpora/EU/Links/'\n",
    "RESOURCES_PATH_POSTS = 'Resources/Corpora/EU/Posts/'\n",
    "RESOURCES_COMPLETE_CORPORA_FILENAME = 'complete_wow_class_posts_dict'\n",
    "\n",
    "\n",
    "class WowClassesResources:\n",
    "\n",
    "    def __init__(self):\n",
    "        None\n",
    "\n",
    "    WOW_FORUM_ROOT_URL_EU = 'http://eu.battle.net'\n",
    "    WOW_FORUM_ROOT_URL_US = 'http://us.battle.net'\n",
    "    WOW_FORUM_MID_URL = '/forums/en/wow/'\n",
    "    URL_PAGE_ATTRIBUTE = \"?page=\"\n",
    "\n",
    "    WOW_CLASS_LIST_EU = [('Death Knight', \"874789/\"),\n",
    "                      ('Demon Hunter', \"19369494/\"),\n",
    "                      ('Druid', \"874790/\"),\n",
    "                      ('Hunter', \"874791/\"),\n",
    "                      ('Mage', \"874792/\"),\n",
    "                      ('Monk', \"6038099/\"),\n",
    "                      ('Paladin', \"874793/\"),\n",
    "                      ('Priest', \"874794/\"),\n",
    "                      ('Rogue', \"874795/\"),\n",
    "                      ('Shaman', \"874796/\"),\n",
    "                      ('Warlock', \"874929/\"),\n",
    "                      ('Warrior', \"874930/\")]\n",
    "    WOW_CLASS_LIST_US = [('Death Knight', \"1012662/\"),\n",
    "                      ('Demon Hunter', \"22813967/\"),\n",
    "                      ('Druid', \"1012663/\"),\n",
    "                      ('Hunter', \"1012664/\"),\n",
    "                      ('Mage', \"1012760/\"),\n",
    "                      ('Monk', \"7379141/\"),\n",
    "                      ('Paladin', \"1012668/\"),\n",
    "                      ('Priest', \"1012666/\"),\n",
    "                      ('Rogue', \"1012667/\"),\n",
    "                      ('Shaman', \"1012669/\"),\n",
    "                      ('Warlock', \"1012670/\"),\n",
    "                      ('Warrior', \"1012759/\")]\n",
    "\n",
    "    class GameType:\n",
    "        # PVP: 2v2 3v3 5v5 cc\n",
    "        # AB, AV, BET, DR, Efc, EotS, FC, FR, FRR, IoC, LH, LM, Mid, MT, SW, Stags,\n",
    "        # SoTA, SSM, ST, TB, ToK, TP, TP, WG, WSG, WV, WW, arena\n",
    "        PVP = 'pvp'\n",
    "        # PVE: heroic, mythic, mythic+, m+, scenario, boss, mobs, time-walking\n",
    "        # LFR\n",
    "        # ZF, WC, VC, DM, Ulda, UBRS, Strat, Stocks, Stockade, ST, AH, SM, SH, SFK, Scholo, RFK, RFD, RFC, MC, Mara, LBRS, Gnomer, DM Warpwood, DM East, BWL, BRD, BFD, AQ40, TAQ, AQ10, RAQ, \n",
    "        PVE = 'pve'\n",
    "        OTHER = 'other'\n",
    "        PVP_CRITERIA = ['pvp', '2v2', '3v3', '5v5', 'cc',\n",
    "                        'AB', 'AV', 'BET', 'DR', 'Efc', 'EotS', 'FC', 'FR', 'FRR', 'IoC',\n",
    "                        'LH', 'LM', 'Mid', 'MT', 'SW', 'Stags', 'SoTA', 'SSM', 'ST', 'TB',\n",
    "                        'ToK', 'TP', 'TP', 'WG', 'WSG', 'WV', 'WW',\n",
    "                        'arena', 'bg', 'rbg', 'warsong', 'flag', 'capture', 'fr', 'fc', 'ftw',\n",
    "                        'duel', 'skirmish', 'lom', 'arathi', 'los', 'focus', 'nuke', 'poly',\n",
    "                        'sheep', 'alterac', '2s', '3s', '5s', 'rated', 'rating', 'battleground',\n",
    "                        'battle ground', 'nagrand', 'blade\\'s edge', 'blades edge',\n",
    "                        'tiger\\'s peak', 'tigers peak', 'ashamane\\'s fall', 'ashamanes fall',\n",
    "                        'black rook hold', 'tol\\'viron', 'tolviron', 'dalaran', 'ruins',\n",
    "                        'championship', 'deepwind gorge', 'kotmogu', 'silvershard',\n",
    "                        'twin peaks', 'gilneas', 'strand', 'ashran', 'gladiator', 'mmr',\n",
    "                        'honor', 'prestige']\n",
    "        PVE_CRITERIA = ['pve', 'heroic', 'mythic', 'mythic+', 'm+', 'scenario', 'boss', 'mobs',\n",
    "                        'time-walk', 'time-walking'\n",
    "                        'RFC', 'VC', 'DM', 'WC', 'SFK', 'Stocks', 'Stockade', 'BFD', 'Gnomer', \n",
    "                        'SH', 'SM', 'RFK', 'Mara', 'Ulda', 'DM', 'Warpwood', 'DM', 'East', 'Scholo', \n",
    "                        'RFD', 'Strat', 'ZF', 'BRD', 'ST', 'AH', 'LBRS', 'UBRS', 'AQ', 'RAQ', 'MC',\n",
    "                        'BWL', 'AQ40', 'TAQ', 'Ramps', 'BF', 'SP', 'UB', 'MT', 'AC', 'AS', 'Seth',\n",
    "                        'Seth', 'Halls', 'SV', 'SH', 'Shatt', 'Halls', 'SL', 'Slabs', 'OH',\n",
    "                        'DH', 'DK', 'Durn', 'Mech', 'Bot', 'Arc', 'BM', 'MgT', 'Terrace', 'MrT',\n",
    "                        'HoR', 'Naxx', 'OS', 'Sarth', 'Vault', 'VoA', 'Maly',\n",
    "                        'EoE', 'Uld', 'TC', 'ToC', 'TotC', 'ToGC', '(Heroic)', 'Ony',\n",
    "                        'RS', 'Hal', 'ICC', 'UK', 'UTK', 'Nexus', 'Nex', 'AZN', 'AN', 'ANK',\n",
    "                        'OLD', 'AKO', 'OK', 'DTK', 'VH', 'GD', 'HOS', 'Occ', 'HOL', 'UP', 'Culling',\n",
    "                        'COS', 'Champ', 'ToC', 'FoS', 'PoS', 'TotT', 'BRC', 'SC', 'VP', 'LCoT', 'GB',\n",
    "                        'HoO', 'H-DM', 'H-VC', 'H-SFK', 'ZA', 'ZG', 'ET', 'WoE', 'HoT', 'BH',\n",
    "                        'BoT', 'TFW', 'BWD', 'FL', 'DS', 'SH', 'Scholo', 'TJS', 'SB', 'MP',\n",
    "                        'SPM', 'GSS', 'SNT', 'MV', 'HoF', 'TES', 'ToT', 'SoO', 'BSM', 'Auch', 'SR',\n",
    "                        'GD', 'SBG', 'EB', 'UBRS', 'HM', 'BF', 'BRF', 'HC', 'HFC', 'arc', 'VoW', 'MoS',\n",
    "                        'CoS', 'EN', 'BRH', 'RtK', 'arc', 'ToV', 'VH', 'CoN', 'EoZ', 'NL', 'HoV', 'GR',\n",
    "                        'DHT', 'DT']\n",
    "\n",
    "WOW_TOPIC_URLS_EU = \\\n",
    "    [(c, WowClassesResources.WOW_FORUM_ROOT_URL_EU + WowClassesResources.WOW_FORUM_MID_URL + u)\n",
    "     for (c, u) in WowClassesResources.WOW_CLASS_LIST_EU]"
   ]
  },
  {
   "cell_type": "code",
   "execution_count": 25,
   "metadata": {
    "collapsed": true
   },
   "outputs": [
    {
     "name": "stdout",
     "output_type": "stream",
     "text": [
      "('Death Knight', 'http://eu.battle.net/forums/en/wow/874789/')\n"
     ]
    },
    {
     "name": "stdout",
     "output_type": "stream",
     "text": [
      "\n\n\n<html xmlns=\"http://www.w3.org/1999/xhtml\">\n\n<head>\n\t<meta http-equiv=\"X-UA-Compatible\" content=\"\n"
     ]
    }
   ],
   "source": [
    "print(WOW_TOPIC_URLS_EU[0])\n",
    "url = WOW_TOPIC_URLS_EU[0][1]\n",
    "# req = request.Request(url)\n",
    "response = request.urlopen(url)\n",
    "html = response.read().decode('utf8')\n",
    "print(html[:100])"
   ]
  },
  {
   "cell_type": "code",
   "execution_count": 26,
   "metadata": {
    "collapsed": false
   },
   "outputs": [],
   "source": [
    "def get_page_content(url):\n",
    "    attempt_number = 0\n",
    "    while True:\n",
    "        attempt_number += 1\n",
    "        if attempt_number > 5:\n",
    "            return None\n",
    "        try:\n",
    "            response = request.urlopen(url)\n",
    "        except request.HTTPError as e:\n",
    "            print('HTTPError = ' + str(e.code))\n",
    "            continue\n",
    "        except Exception as e:\n",
    "            print(e)\n",
    "            continue\n",
    "        except e:\n",
    "            print(e)\n",
    "            continue\n",
    "        html = response.read().decode('utf8')\n",
    "        break\n",
    "    return html\n",
    "\n",
    "\n",
    "def topic_scrape(forum_url):\n",
    "    all_links = []\n",
    "    i = 1\n",
    "    while True:\n",
    "        html = get_page_content(forum_url + WowClassesResources.URL_PAGE_ATTRIBUTE + str(i))\n",
    "        if html is None:\n",
    "            return []\n",
    "        bs_html = BeautifulSoup(html, \"html.parser\")\n",
    "\n",
    "        all_link_elements = bs_html.find_all(\"a\", class_=\"ForumTopic\")\n",
    "        # pprint(all_link_elements)\n",
    "        link_count = len(all_link_elements)\n",
    "        print(str(i) + ' ' + str(link_count))\n",
    "\n",
    "        if link_count == 0:\n",
    "            print('Exiting')\n",
    "            break\n",
    "        for a in all_link_elements:\n",
    "            # print a\n",
    "            title = a.find(class_='ForumTopic-title').get_text().strip()\n",
    "            # print title\n",
    "            all_links.append((a['href'], title))\n",
    "        i += 1\n",
    "        time.sleep(3)\n",
    "    return all_links\n",
    "\n",
    "\n",
    "def extract_topic(topic_title_url_tuple):\n",
    "    topic_url_ending = topic_title_url_tuple[0]\n",
    "    topic_title = topic_title_url_tuple[1]\n",
    "    pprint('[' + topic_title + '] (' + topic_url_ending + ')')\n",
    "    all_posts = []\n",
    "    i = 1\n",
    "    while True:\n",
    "        html = get_page_content(\n",
    "            WowClassesResources.WOW_FORUM_ROOT_URL_EU + topic_url_ending + WowClassesResources.URL_PAGE_ATTRIBUTE + str(\n",
    "                i))\n",
    "        if html is None:\n",
    "            return []\n",
    "        bs_html = BeautifulSoup(html, \"html.parser\")\n",
    "\n",
    "        all_topic_post_elements = bs_html.find_all(\"div\", class_=\"TopicPost-content\")\n",
    "        # pprint(all_topic_post_elements)\n",
    "        link_count = len(all_topic_post_elements)\n",
    "        # print str(i) + ' ' + str(link_count)\n",
    "\n",
    "        if link_count == 0:\n",
    "            print('Exiting')\n",
    "            break\n",
    "        for element in all_topic_post_elements:\n",
    "            # print a\n",
    "            post_body = element.find(class_='TopicPost-bodyContent').get_text().strip()\n",
    "            post_date = element.find(\"a\", class_='TopicPost-timestamp')['data-tooltip-content']\n",
    "            author_element = element.find(\"span\", class_='Author-name')\n",
    "            if author_element is not None:\n",
    "                # post_author = '<UNKNOWN>'\n",
    "                if author_element.a is not None:\n",
    "                    post_author = author_element.a.get_text().strip()\n",
    "                else:\n",
    "                    post_author = author_element.get_text().strip()\n",
    "                all_posts.append((topic_title, post_date, post_author, post_body))\n",
    "        i += 1\n",
    "        time.sleep(5)\n",
    "    pprint('posts: ' + str(len(all_posts)))\n",
    "    return all_posts\n",
    "\n",
    "\n",
    "def save_to_json_file(path, file_name, content, mode):\n",
    "    with open(path + file_name + '.json', mode) as out_file:\n",
    "        json.dump(content, out_file)\n",
    "\n",
    "\n",
    "def read_from_json_file(path, file_name):\n",
    "    try:\n",
    "        with open(path + file_name + '.json', 'r') as in_file:\n",
    "            return json.load(in_file)\n",
    "    except FileNotFoundError as e:\n",
    "        print('File not found, skipping read for: ' + path + file_name)"
   ]
  },
  {
   "cell_type": "code",
   "execution_count": 27,
   "metadata": {
    "collapsed": true
   },
   "outputs": [
    {
     "name": "stdout",
     "output_type": "stream",
     "text": [
      "Current Class: Death Knight, URL: http://eu.battle.net/forums/en/wow/874789/\n"
     ]
    },
    {
     "name": "stdout",
     "output_type": "stream",
     "text": [
      "Number of posts: 34186\n"
     ]
    },
    {
     "name": "stdout",
     "output_type": "stream",
     "text": [
      "dict_keys(['Demon Hunter', 'Death Knight'])\nDemon Hunter: 11916 posts\t\tLongest post length: 7895\nDeath Knight: 34186 posts\t\tLongest post length: 14170\nProcessing: Demon Hunter\n"
     ]
    },
    {
     "name": "stdout",
     "output_type": "stream",
     "text": [
      "Progress: 1000/11916\n"
     ]
    },
    {
     "name": "stdout",
     "output_type": "stream",
     "text": [
      "Progress: 2000/11916\n"
     ]
    },
    {
     "name": "stdout",
     "output_type": "stream",
     "text": [
      "Progress: 3000/11916\n"
     ]
    },
    {
     "name": "stdout",
     "output_type": "stream",
     "text": [
      "Progress: 4000/11916\n"
     ]
    },
    {
     "name": "stdout",
     "output_type": "stream",
     "text": [
      "Progress: 5000/11916\n"
     ]
    },
    {
     "name": "stdout",
     "output_type": "stream",
     "text": [
      "Progress: 6000/11916\n"
     ]
    },
    {
     "name": "stdout",
     "output_type": "stream",
     "text": [
      "Progress: 7000/11916\n"
     ]
    },
    {
     "name": "stdout",
     "output_type": "stream",
     "text": [
      "Progress: 8000/11916\n"
     ]
    },
    {
     "name": "stdout",
     "output_type": "stream",
     "text": [
      "Progress: 9000/11916\n"
     ]
    },
    {
     "name": "stdout",
     "output_type": "stream",
     "text": [
      "Progress: 10000/11916\n"
     ]
    },
    {
     "name": "stdout",
     "output_type": "stream",
     "text": [
      "Progress: 11000/11916\n"
     ]
    },
    {
     "name": "stdout",
     "output_type": "stream",
     "text": [
      "Processing: Death Knight\n"
     ]
    },
    {
     "name": "stdout",
     "output_type": "stream",
     "text": [
      "Progress: 1000/34186\n"
     ]
    },
    {
     "name": "stdout",
     "output_type": "stream",
     "text": [
      "Progress: 2000/34186\n"
     ]
    },
    {
     "name": "stdout",
     "output_type": "stream",
     "text": [
      "Progress: 3000/34186\n"
     ]
    },
    {
     "name": "stdout",
     "output_type": "stream",
     "text": [
      "Progress: 4000/34186\n"
     ]
    },
    {
     "name": "stdout",
     "output_type": "stream",
     "text": [
      "Progress: 5000/34186\n"
     ]
    },
    {
     "name": "stdout",
     "output_type": "stream",
     "text": [
      "Progress: 6000/34186\n"
     ]
    },
    {
     "name": "stdout",
     "output_type": "stream",
     "text": [
      "Progress: 7000/34186\n"
     ]
    },
    {
     "name": "stdout",
     "output_type": "stream",
     "text": [
      "Progress: 8000/34186\n"
     ]
    },
    {
     "name": "stdout",
     "output_type": "stream",
     "text": [
      "Progress: 9000/34186\n"
     ]
    },
    {
     "name": "stdout",
     "output_type": "stream",
     "text": [
      "Progress: 10000/34186\n"
     ]
    },
    {
     "name": "stdout",
     "output_type": "stream",
     "text": [
      "Progress: 11000/34186\n"
     ]
    },
    {
     "name": "stdout",
     "output_type": "stream",
     "text": [
      "Progress: 12000/34186\n"
     ]
    },
    {
     "name": "stdout",
     "output_type": "stream",
     "text": [
      "Progress: 13000/34186\n"
     ]
    },
    {
     "name": "stdout",
     "output_type": "stream",
     "text": [
      "Progress: 14000/34186\n"
     ]
    },
    {
     "name": "stdout",
     "output_type": "stream",
     "text": [
      "Progress: 15000/34186\n"
     ]
    },
    {
     "name": "stdout",
     "output_type": "stream",
     "text": [
      "Progress: 16000/34186\n"
     ]
    },
    {
     "name": "stdout",
     "output_type": "stream",
     "text": [
      "Progress: 17000/34186\n"
     ]
    },
    {
     "name": "stdout",
     "output_type": "stream",
     "text": [
      "Progress: 18000/34186\n"
     ]
    },
    {
     "name": "stdout",
     "output_type": "stream",
     "text": [
      "Progress: 19000/34186\n"
     ]
    },
    {
     "name": "stdout",
     "output_type": "stream",
     "text": [
      "Progress: 20000/34186\n"
     ]
    },
    {
     "name": "stdout",
     "output_type": "stream",
     "text": [
      "Progress: 21000/34186\n"
     ]
    },
    {
     "name": "stdout",
     "output_type": "stream",
     "text": [
      "Progress: 22000/34186\n"
     ]
    },
    {
     "name": "stdout",
     "output_type": "stream",
     "text": [
      "Progress: 23000/34186\n"
     ]
    },
    {
     "name": "stdout",
     "output_type": "stream",
     "text": [
      "Progress: 24000/34186\n"
     ]
    },
    {
     "name": "stdout",
     "output_type": "stream",
     "text": [
      "Progress: 25000/34186\n"
     ]
    },
    {
     "name": "stdout",
     "output_type": "stream",
     "text": [
      "Progress: 26000/34186\n"
     ]
    },
    {
     "name": "stdout",
     "output_type": "stream",
     "text": [
      "Progress: 27000/34186\n"
     ]
    },
    {
     "name": "stdout",
     "output_type": "stream",
     "text": [
      "Progress: 28000/34186\n"
     ]
    },
    {
     "name": "stdout",
     "output_type": "stream",
     "text": [
      "Progress: 29000/34186\n"
     ]
    },
    {
     "name": "stdout",
     "output_type": "stream",
     "text": [
      "Progress: 30000/34186\n"
     ]
    },
    {
     "name": "stdout",
     "output_type": "stream",
     "text": [
      "Progress: 31000/34186\n"
     ]
    },
    {
     "name": "stdout",
     "output_type": "stream",
     "text": [
      "Progress: 32000/34186\n"
     ]
    },
    {
     "name": "stdout",
     "output_type": "stream",
     "text": [
      "Progress: 33000/34186\n"
     ]
    },
    {
     "name": "stdout",
     "output_type": "stream",
     "text": [
      "Progress: 34000/34186\n"
     ]
    },
    {
     "name": "stdout",
     "output_type": "stream",
     "text": [
      "dict_keys(['Demon Hunter', 'Death Knight'])\n[['[Guide]Death Knight 101 (Updated for 7.03)',\n  '22/05/2014 11:27',\n  'Hakuteiken',\n  'This if for all the really new Death Knights; my guide on the class '\n  \"overall. In this guide I'll be covering our resource system, what abilities \"\n  \"you have, how they work and what they do. I'll also throw in some \"\n  'suggestions on gameplay that should make things somewhat easier for '\n  \"you.It's worth nothing that Death Knights, at lower levels, are \"\n  'ridiculously powerful which is a state of affairs I found to be really dull '\n  \"when leveling my latest Death Knight; it's not much fun when you're \"\n  'immortal and killing things with 2-3 attacks, but anyway, here goes.First '\n  \"thing's first; Resources-We have two different resources; Runes and Runic \"\n  'Power.We have a total of 6 runes which can be used for any attack that '\n  'costs Runes; Obliterate, Howling Blast, Festering Strike, Marrowrend '\n  'etc.-Runic Power is generated from used runes and the amount of runic power '\n  'generated is based on the rune cost abilities, for example, Howling Blast '\n  'cost 1 rune, and therefore will generate only 10 runic power, Marrowrend '\n  'costs 2 runes and will generate 20 runic power.Pretty straight forward on '\n  'paper. Now we get to how they interact with each other.Runes begin a '\n  'regeneration cycle of no more than 10 seconds when used; Haste will '\n  'decrease this time but not by much.If all 6 runes are used in succession, '\n  'the first 3 runes to be used will begin their recharge, while the remaining '\n  '3 will not. The second set of 3 runes will begin their recharge only when '\n  'the first set is completely recharged.There are certain talents and built '\n  'in passive abilities to speed this process up; these talents and abilities '\n  'differ from spec to spec.Blood - Soulgorge; consumes Blood Plague from '\n  'everything in 30 yards to increase rune recharge.-Blood Tap; restores 1 '\n  'rune per use, limited to 2 charges.Unlike Frost or Unholy, there is no '\n  'passive ability that will assist the rune recharge time.Frost - Runic '\n  'Empowerment; passive, has 1% chance per runic power spent to activate on '\n  \"Frost Strike. After some time testing, I've found it's about 50% chance (5 \"\n  'in 10 Frost Strikes).-Murderous Efficiency; using the Killing Machine '\n  'effect has a 50% chance to to restore 1 rune.-Horn of Winter; restores 2 '\n  'runes and generates 10 runic power.-Hungering Rune Weapon; Horn of Winter '\n  'restores 2 runes and generates 10 runic power while Hungering Rune Weapon '\n  'restores 1 rune and 5 runic power instantly and then restores runes and '\n  'runic power every 1.5 seconds for 12 seconds.Unholy - Runic Corruption, '\n  'passive, has 1.25% chance per runic power spent to activate, granting 100% '\n  \"rune regeneration for a short time. Requires Death Coil. After testing I've \"\n  'found that this works out that +/- 1 in 3 Death Coils will activate Runic '\n  'Corruption.Abilities - How They WorkEach ability a Death Knight has has a '\n  'rune or runic power cost. The following are abilities that cost only 1 rune '\n  \"and will generate 10 runic power per use.-Blood Spec:Heart Strike, Death's \"\n  'Caress, Rune Tap, Death and Decay (if talented)Note: Heart Strike generates '\n  '15 runic power.-Frost Runes; Howling Blast, Frostscythe (if '\n  'specced),Remorseless Winter,-Unholy Runes; Scourge Strike (Clawing Shadows, '\n  'talent), Death and Decay, Epidemic (talent), Outbreak, Chains of Ice, '\n  'Defile(talent)The following cost two runes and will generate 20 runic power '\n  'when used.-Blood Spec: Marrowrend-Frost Spec: Obliterate-Unholy: Festering '\n  'StrikeUnholy retains Army of the Dead at a cost of 3 runes which generates '\n  '30 runic power.Runic Power - will activate Runic Empowerment or Runic '\n  'Corruption via the use of Frost Strike or Death Coil respectively.-Death '\n  \"Coil; usable Unholy spec. It's a ranged attack with 30 yard range and costs \"\n  '35 runic power. This will also restore 10 energy to your ghoul per Death '\n  'Coil fired.-Frost Strike; exclusive to Frost spec, single target melee '\n  \"attack.Death Coil and Frost Strike are often best used when you're at, or \"\n  'approaching, 100 runic power, but are ideally used when spaced out across '\n  'your \"rotation\" which brings me neatly to the next part of the '\n  'guide.Abilities - What to use and WhenThis will require in-depth guides of '\n  'their own but there are certain universal abilities you can make use '\n  'of.-Anti-Magic Shell - use to soak high incoming magic damage; it generates '\n  \"runic power.-Icebound Fortitude - use when you're taking high damage or are \"\n  'about to, or to break and become immune to stuns.-Death Grip - when you '\n  'need to close the distance to your target or interrupt a crucial cast. The '\n  'adds on Kilrogg Deadeye is a good example of the uses of Death Grip-Wraith '\n  \"Walk - useful for closing distances and clearing root or slow effects.I'll \"\n  'be preparing basic guides for Blood, Frost and Unholy specs, but those '\n  \"aren't coming before Legion release.For now, as I said, this was meant to \"\n  \"cover the very basics of the class for people who haven't played Death \"\n  'Knight before.',\n  'pve'],\n ['[Guide]Death Knight 101 (Updated for 7.03)',\n  '22/05/2014 13:38',\n  'Emilboc',\n  'verry nice work! i hope u make a good guide for 2h frost dk, maybe a '\n  'youtube guide, with stats , enchants, glyph s , best comps for 2v2, 3v3.. '\n  'for PVP Great job!!!!!',\n  'pve'],\n ['[Guide]Death Knight 101 (Updated for 7.03)',\n  '22/05/2014 23:15',\n  'Hakuteiken',\n  '22/05/2014 14:38Posted by Emilbocmaybe a youtube guideI wish! Sadly my PC '\n  \"isn't hi-tech enough for me to have good FPS while recording.I've been more \"\n  \"or less out of the PvP scene but I'll see what I can do; will take some \"\n  'time though :D',\n  'pvp']]\n"
     ]
    }
   ],
   "source": [
    "# READ CURRENT CLASS TO WORK WITH, READ ALL CORPORA\n",
    "currentClass = WOW_TOPIC_URLS_EU[0]\n",
    "print('Current Class: ' + currentClass[0] + ', URL: ' + currentClass[1])\n",
    "# READ DICTIONARY OF POSTS\n",
    "posts_by_class = read_from_json_file('Resources/Corpora/EU/Posts/', 'corpora_posts_' + currentClass[0])\n",
    "print('Number of posts: ' + str(len(posts_by_class[currentClass[0]])))\n",
    "# print('First post:\\n' + posts_by_class[currentClass[0]][0][3])\n",
    "\n",
    "all_posts_dict = read_from_json_file(RESOURCES_PATH_POSTS, RESOURCES_COMPLETE_CORPORA_FILENAME)\n",
    "print(all_posts_dict.keys())\n",
    "for wow_class in all_posts_dict:\n",
    "    print(wow_class + ': ' + str(len(all_posts_dict.get(wow_class))) + ' posts\\t\\t' \n",
    "          + 'Longest post length: ' + str(max(len(p[3]) for p in all_posts_dict[wow_class])))\n",
    "    \n",
    "# print(sys.maxsize)\n",
    "# posts_with_game_type = {currentClass[0]: []}\n",
    "from _operator import index\n",
    "\n",
    "posts_with_game_type_dict = {}\n",
    "\n",
    "for wow_class in all_posts_dict:\n",
    "    print('Processing: ' + wow_class)\n",
    "    posts_with_game_type_dict[wow_class] = []\n",
    "    i = 0\n",
    "    for post in all_posts_dict[wow_class]:\n",
    "        i += 1\n",
    "        if i % 1000 == 0:\n",
    "            print(\"Progress: \" + str(i) + '/' + str(len(all_posts_dict[wow_class])))\n",
    "        \n",
    "        postBody = post[3]\n",
    "        post.append(WowClassesResources.GameType.OTHER)\n",
    "        pvpIndex = sys.maxsize\n",
    "        pveIndex = sys.maxsize\n",
    "        \n",
    "        # find PVP minimum index\n",
    "        for crit in WowClassesResources.GameType.PVP_CRITERIA:\n",
    "            critMatch = re.search(r'\\b' + crit.lower() + r'\\b', postBody.lower())\n",
    "            if critMatch is not None:\n",
    "                ind = critMatch.start()\n",
    "            else:\n",
    "                continue\n",
    "            if ind != -1:\n",
    "                pvpIndex = min(pvpIndex, ind)\n",
    "        # find PVE minimum index\n",
    "        for crit in WowClassesResources.GameType.PVE_CRITERIA:\n",
    "            critMatch = re.search(r'\\b' + crit.lower() + r'\\b', postBody.lower())\n",
    "            if critMatch is not None:\n",
    "                ind = critMatch.start()\n",
    "            else:\n",
    "                continue\n",
    "            if ind != -1:\n",
    "                pveIndex = min(pveIndex, ind)\n",
    "\n",
    "        if pvpIndex == sys.maxsize and pveIndex == sys.maxsize:\n",
    "            post[4] = WowClassesResources.GameType.OTHER\n",
    "        elif pvpIndex != sys.maxsize and pveIndex == sys.maxsize:\n",
    "            post[4] = WowClassesResources.GameType.PVP\n",
    "        elif pvpIndex == sys.maxsize and pveIndex != sys.maxsize:\n",
    "            post[4] = WowClassesResources.GameType.PVE\n",
    "        elif pvpIndex <= pveIndex:\n",
    "            post[4] = WowClassesResources.GameType.PVP\n",
    "        else:\n",
    "            post[4] = WowClassesResources.GameType.PVE\n",
    "        # posts_with_game_type_dict[wow_class].append(post)\n",
    "\n",
    "posts_with_game_type_dict = all_posts_dict\n",
    "# pprint(posts_with_game_type[currentClass[0]][:10])\n",
    "print(posts_with_game_type_dict.keys())\n",
    "pprint(posts_with_game_type_dict['Death Knight'][:3])"
   ]
  },
  {
   "cell_type": "code",
   "execution_count": 28,
   "metadata": {
    "collapsed": true
   },
   "outputs": [
    {
     "name": "stdout",
     "output_type": "stream",
     "text": [
      "**** Death Knight\n** pve: 4340\n** pvp: 1268\n** other: 4400\n**** Demon Hunter\n** pve: 1683\n** pvp: 536\n** other: 1691\n46102\n"
     ]
    }
   ],
   "source": [
    "# RESTRUCTURE TO CLASS/Game Type/author/list of posts\n",
    "# pprint([w[3] for w in posts_with_game_type_dict['Death Knight'] if w[4] == 'pve'][2:15])\n",
    "posts_by_class_gametype_author = {}\n",
    "    \n",
    "for wow_class in posts_with_game_type_dict:\n",
    "    # print('***' + wow_class)\n",
    "    posts_by_class_gametype_author[wow_class] = {'pve': {}, 'pvp': {}, 'other': {}}\n",
    "    for w in posts_with_game_type_dict[wow_class]:\n",
    "        # print(w[2])\n",
    "        if w[2] not in posts_by_class_gametype_author[wow_class][w[4]]:\n",
    "            # print(w[4] + ': ' + w[2])\n",
    "            posts_by_class_gametype_author[wow_class][w[4]][w[2]] = []\n",
    "        posts_by_class_gametype_author[wow_class][w[4]][w[2]].append((sent_tokenize(w[3]), w[1]))\n",
    "\n",
    "# COUNT posts\n",
    "c = 0\n",
    "for wow_class in posts_by_class_gametype_author:\n",
    "    print('**** ' + wow_class)\n",
    "    for gt in posts_by_class_gametype_author[wow_class]:\n",
    "        print('** ' + gt + ': ' + str(len(posts_by_class_gametype_author[wow_class][gt])))\n",
    "        for au in posts_by_class_gametype_author[wow_class][gt]:\n",
    "            for p in posts_by_class_gametype_author[wow_class][gt][au]:\n",
    "                c += 1\n",
    "            # print(au)\n",
    "print(c)\n",
    "\n",
    "# CURRENT STRUCTURE:\n",
    "#   WOW_CLASS\n",
    "#       PVE/PVE/OTHER\n",
    "#           AUTHOR\n",
    "#               (POST, DATE)"
   ]
  },
  {
   "cell_type": "code",
   "execution_count": 29,
   "metadata": {
    "collapsed": true
   },
   "outputs": [
    {
     "name": "stdout",
     "output_type": "stream",
     "text": [
      "Demon Hunter\n  pve other   pvp \n 6112  4655  1149 \nNone\n"
     ]
    },
    {
     "data": {
      "image/png": "[encoded data removed]",
      "text/plain": [
       "<matplotlib.figure.Figure at 0x88da748>"
      ]
     },
     "metadata": {},
     "output_type": "display_data"
    },
    {
     "name": "stdout",
     "output_type": "stream",
     "text": [
      "None\nDeath Knight\n  pve other   pvp \n17063 14008  3115 \nNone\n"
     ]
    },
    {
     "data": {
      "image/png": "[encoded data removed]",
      "text/plain": [
       "<matplotlib.figure.Figure at 0x8905c18>"
      ]
     },
     "metadata": {},
     "output_type": "display_data"
    },
    {
     "name": "stdout",
     "output_type": "stream",
     "text": [
      "None\n"
     ]
    }
   ],
   "source": [
    "# plot histogram of findings\n",
    "for wow_class in posts_with_game_type_dict:\n",
    "    post_game_type_distribution = [post[4] for post in posts_with_game_type_dict.get(wow_class)]\n",
    "    fdistGameType = nltk.FreqDist(post_game_type_distribution)\n",
    "    print(wow_class)\n",
    "    pprint(fdistGameType.tabulate())\n",
    "    pprint(fdistGameType.plot())"
   ]
  },
  {
   "cell_type": "code",
   "execution_count": 30,
   "metadata": {
    "collapsed": false
   },
   "outputs": [
    {
     "name": "stdout",
     "output_type": "stream",
     "text": [
      "\"Dict level 1: dict_keys(['Death Knight', 'Demon Hunter'])\"\n\"Dict level 2: dict_keys(['pve', 'pvp', 'other'])\"\n\"Dict level 3: ['Exerz', 'Kayte', 'Mahl', 'Anomalous', 'Dextor'] ...\"\n('Dict level 4: [([\\'Pact.\\', \"Conversion is dog now since the healing from it '\n \"has been nerfed and you can't double tap it anymore.Conversion for RBGs \"\n 'though.\", \\'But just not in Arena.\\', \"In a melee cleave season conversion '\n 'doesn\\'t do jack.\", \\'It was good against lock teams last season - and '\n \"almost every team had a Lock.'], '25/12/2014 02:56')]\")\n"
     ]
    }
   ],
   "source": [
    "# Print structure:\n",
    "pprint('Dict level 1: ' + str(posts_by_class_gametype_author.keys()))\n",
    "pprint('Dict level 2: ' + str(posts_by_class_gametype_author['Death Knight'].keys()))\n",
    "pprint('Dict level 3: ' + str(list(posts_by_class_gametype_author['Death Knight']['pvp'])[:5]) + ' ...')\n",
    "pprint('Dict level 4: ' + str(posts_by_class_gametype_author['Death Knight']['pvp']['Symmetry']))"
   ]
  },
  {
   "cell_type": "code",
   "execution_count": 35,
   "metadata": {
    "collapsed": true
   },
   "outputs": [
    {
     "name": "stdout",
     "output_type": "stream",
     "text": [
      "Death Knight pve: 4340\nExerz: -0.8312\nCarminax: 0.9485\nVoadiicia: 0.2779625\nSylmarien: 0.50255\nBrewfasa: 0.294685714286\nZølack: 0.64715\nАзриил: 0.294683333333\nAnastas: -0.055875\nOh: 0.514325\nFallìng: 0.48368\nMelvinftw: 0.6369\nEilith: 0.4939\nMongwan: -0.346266666667\nZackarus: 0.4361\nXethys: 0.2013\nTerkan: 0.2990125\nHaros: 0.9285\nRágnarök: -0.38404\nShagnasty: -0.64595\nUntaraél: 0.3612\nMarwix: -0.9359\n"
     ]
    },
    {
     "name": "stderr",
     "output_type": "stream",
     "text": [
      "D:\\Soft\\python351\\lib\\site-packages\\numpy\\core\\_methods.py:59: RuntimeWarning: Mean of empty slice.\n  warnings.warn(\"Mean of empty slice.\", RuntimeWarning)\nD:\\Soft\\python351\\lib\\site-packages\\numpy\\core\\_methods.py:70: RuntimeWarning: invalid value encountered in double_scalars\n  ret = ret.dtype.type(ret / rcount)\n"
     ]
    },
    {
     "name": "stdout",
     "output_type": "stream",
     "text": [
      "Larixana: -0.07775\nPlaguespawn: 0.2828\nRevorgus: 0.50485\nGraufenstein: 0.0272833333333\nStinka: 0.269125\nBlaaky: 0.4019\nKlegane: -0.313025\nBaji: -0.6387\nSephrael: 0.63995\nFaxes: 0.450375\nMothsphere: 0.7628\nAzthea: 0.328385714286\nAdamxyy: -0.33882\nThestor: 0.77945\nKalgash: 0.7131\nIcetalon: -0.5106\nDelaluz: 0.2747\nMøbstarz: 0.4493\nSamsing: 0.4035\nBraylicious: -0.296\nGideach: 0.49005\nFarycane: 0.2911\nVerror: -0.510066666667\nLickity: 0.4404\n"
     ]
    },
    {
     "name": "stdout",
     "output_type": "stream",
     "text": [
      "Helwinter: 0.265975\nPakslaag: 0.629633333333\nAnomalouß: 0.9332\nOmar: -0.60615\nSunflowers: 0.40605\nFuture: 0.3982\nDesecrated: -0.3727\nEvìlyn: 0.7251\nYmirjar: 0.2732\nWorldpeace: 0.67565\nRottencherry: -0.52825\nLandthel: -0.34\nRozpierducha: 0.53005\nElfelavaisel: 0.6584\nMàlavon: 0.301633333333\n"
     ]
    },
    {
     "name": "stdout",
     "output_type": "stream",
     "text": [
      "Willyv: 0.256975\nFrostgank: -0.3102\nFuzzah: 0.38575\nOmnima: 0.5108\nWarferno: -0.34095\nDagleish: 0.9874\nNofi: 0.6901\nCheatéd: 0.557466666667\nNeckbone: 0.916\nMorthuus: 0.46295\nKeanax: 0.857\nAljaska: 0.9661\nKelton: 0.4939\nDecapitation: -0.4003\nRôckstar: -0.6908\nWölund: -0.3544\nGathion: -0.336175\nMemorta: -0.3631\nZephius: -0.8133\nShagun: -0.4118\nTokka: 0.42114\nXersia: -0.032075\nTsujiro: 0.8409\nViperlime: 0.48985\nMorrigän: 0.5302\nWychwård: -0.5578\n"
     ]
    },
    {
     "name": "stdout",
     "output_type": "stream",
     "text": [
      "Fennrir: 0.2520375\nGrizzlechin: -0.2997\nDrjack: -0.369957142857\nUmbrakhor: -0.7134\nАвел: 0.5266\nMorgrann: -0.7184\nLightzum: 0.5267\nAzryel: -0.25698\nCariboulou: 0.3315\nWorlvius: -0.486608333333\nRylaicrystal: 0.439975\nThedraes: 0.407775\nNecrozis: 0.5558\nSpîrît: 0.259116666667\nHardwire: -0.743\nRegá: 0.33245\nManicure: -0.66805\nDscourge: -0.42888\nArchima: -0.296\nBadbobby: 0.3909\nXyko: -0.658566666667\n"
     ]
    },
    {
     "name": "stdout",
     "output_type": "stream",
     "text": [
      "Koltrane: -0.461833333333\nZalduun: 0.27565\nBlacklily: -0.8481\nEquívalent: -0.4512\nTerroto: -0.1786\nHelkedir: 0.9756\nAushtaras: -0.4678\nLuxan: 0.4215\nEntaari: -0.271041666667\nGrimrose: 0.34\nNøtsoholy: 0.3683\nJáimé: -0.4005\nGrezknight: -0.610866666667\nRawflow: -0.3592\nThetracer: 0.605\n"
     ]
    },
    {
     "name": "stdout",
     "output_type": "stream",
     "text": [
      "Ajgistos: -0.380375\nBrozone: 0.9712\nArthorious: 0.29495\nDallemi: 0.3682\nNoxa: 0.2997\nZouch: -0.46185\nLucy: 0.3988\nIíìl: 0.4572\nMugoilolxoxo: -0.4549\nRíva: -0.3831\nJoeysoap: -0.4939\nKaíne: -0.9136\nKylezsa: -0.38715\nMàndy: 0.311033333333\nSinvicta: -0.6369\nSøwtis: 0.4588\nDreagnor: 0.4659\nAsphyxica: 0.4341\nMelendir: -0.05645\nIganku: -0.06835\nRivornell: 0.27495\n"
     ]
    },
    {
     "name": "stdout",
     "output_type": "stream",
     "text": [
      "Obake: 0.04008\nSakon: -0.6554\nLeothyr: 0.51405\nJesi: -0.3023\nOckham: 0.41584\nJudgément: 0.383333333333\nFushi: 0.4706\n>>>\n>>>Progress: 250/4340\nShinybaron: 0.874\nDerethas: -0.4777\nMusti: 0.248133333333\nMabu: 0.264925\nBesu: -0.4528\nHeaat: 0.330816666667\nVoldro: -0.2915\nRiplela: 0.4696\nIlirah: -0.355933333333\nNarali: 0.7227\nBroloff: -0.9355\nRexipher: 0.273975\nElevenhunter: -0.51546\nBeneteau: -0.5859\nRaakkh: 0.3291\n"
     ]
    },
    {
     "name": "stdout",
     "output_type": "stream",
     "text": [
      "Wrathzz: -0.2987\nChrissucks: 0.238625\nVíncent: 0.8867\nAlonehunter: -0.326633333333\nFragshunter: -0.8625\nTenzarin: 0.5106\nLarloch: -0.27115\nAracnophobia: -0.0193\nAzathes: 0.34144\nColdbringer: 0.30915\nLuckragol: -0.296\nMakron: -0.6344625\nRevudas: 0.2732\nTozhiro: 0.67905\nDrought: 0.9445\nDashra: 0.3978\nLustraiser: -0.4106\nRaskunda: -0.645633333333\nNuiq: 0.28595\nMelaia: -0.3259\nChopen: -0.37134\nYama: 0.7979\n"
     ]
    },
    {
     "name": "stdout",
     "output_type": "stream",
     "text": [
      "Forxina: 0.5574\nDarastus: 0.3612\nDenzay: 0.37095\nParames: 0.36685\nAngmaar: -0.3182\nSemirha: 0.6433\nWilpo: 0.2625\nDaylgiht: 0.5942\nFarant: -0.379785714286\nRozza: 0.3506\nKadjitsu: -0.488875\nMâgisch: 0.5542\nNedlandftw: 0.3918\nRemorselessx: 0.4939\nZeytoon: -0.300175\nEvilempire: 0.3592\nGagö: 0.45175\nRimehoof: -0.34805\nRordor: 0.518\nÐeadelf: 0.86985\nDarkanthem: -0.9398\nArthemida: 0.43895\n"
     ]
    },
    {
     "name": "stdout",
     "output_type": "stream",
     "text": [
      "Ahoqq: 0.4916\nLyriana: 0.3612\nPlaguemane: 0.73425\nMisscelirith: 0.6261\nSoraeveth: -0.29\nBloodknght: -0.4767\nZakazh: 0.3089\nThórken: 0.5871\nBorgúr: 0.4158\nRaz: 0.561966666667\nHoshino: 0.7034\nGallantmon: -0.7944\nCaitie: -0.695\nNimzana: 0.1852\nAtilÿa: 0.29595\nChandelle: 0.7479\nTlite: 0.5574\n"
     ]
    },
    {
     "name": "stdout",
     "output_type": "stream",
     "text": [
      "Zeekor: -0.11245\nBryan: 0.032125\nTheralion: 0.26532\nKátyperry: 0.44115\nAnklebiterr: 0.9136\nZyglrox: 0.580033333333\nMuimoridin: -0.8834\nDadruy: -0.4323\nNocturnil: 0.14925\nHericide: -0.3525\nIcandomagic: 0.7469\nHordrim: 0.52565\nFelborn: -0.258866666667\nSoviet: 0.4318\nShinrayz: 0.4215\nJonasty: -0.3612\nNazragel: 0.5423\nLakoon: 0.4939\nSaynis: -0.3929\nXuen: 0.639933333333\nRaykim: 0.7717\nBreakingßad: -0.9584\nAvulsia: -0.5448\n"
     ]
    },
    {
     "name": "stdout",
     "output_type": "stream",
     "text": [
      "Leathertramp: 0.271733333333\nBonishin: 0.33068\nDeathuni: -0.315925\nDrundeath: 0.6249\nThalandrel: 0.6249\nAnatheme: -0.00204166666667\nSkjaldmö: 0.37095\nSollacer: 0.4767\nShadoweye: -0.131425\nDizlen: 0.6705\nDushen: -0.304375\nYobe: 0.8271\nAsfdkljasd: -0.3246\nÈsto: -0.2772\nKùth: 0.7184\nShyonia: -0.332175\nAdidasler: 0.300575\nJenika: 0.8286\nKnaxfudscha: -0.47655\nKrurkan: -0.265633333333\nRelios: -0.56485\nDestroyer: 0.792666666667\nTorvald: 0.4496\nWaffy: 0.6369\nVincénth: 0.6114\nSithar: 0.29228\nEinherjar: -0.47785\nGromga: 0.72185\n"
     ]
    },
    {
     "name": "stdout",
     "output_type": "stream",
     "text": [
      "Cezare: -0.4757\nGilberto: -0.3626\nNysche: 0.6208\nMxpain: -0.2588\nPxpx: 0.422566666667\nLfr: 0.8594\nAwsa: 0.563814285714\nHollowed: -0.432466666667\nAntinine: 0.351475\nJingknight: 0.2576\nNeelkanth: 0.526\nGeckoz: -0.37505\nRiverblood: 0.31062\n"
     ]
    },
    {
     "name": "stdout",
     "output_type": "stream",
     "text": [
      "Xweiia: 0.573471428571\nScourged: -0.24235\nFärdigheten: 0.8087\nLanabee: -0.4019\nYafellron: 0.57354\nLacandon: 0.6597\nRagæ: 0.6727\n>>>\n>>>Progress: 500/4340\nDarnarius: -0.4544\nIsilindalë: -0.482275\nDeathyz: -0.2969\nYafellorn: 0.6779875\nTinababy: 0.3182\nKaenaster: 0.4588\nArdenaz: 0.022375\nLifemagic: 0.7964\nOrichira: 0.2874\nMoredith: -0.349514285714\nСмердус: 0.307525\nLaozhai: 0.5574\nInfèrno: -0.284733333333\nJericho: 0.0128\nHabrasay: 0.31525\nVulgrath: 0.09447\nHazuron: -0.7037\nTinypazuzu: -0.4536\nSkullblast: 0.88155\nTinerius: 0.5674\nTinypanzer: 0.14455\nGaudium: -0.28595\nHrotha: -0.3716\nThrodir: 0.56335\nSilia: 0.365016666667\nJkes: 0.6249\n"
     ]
    },
    {
     "name": "stdout",
     "output_type": "stream",
     "text": [
      "Clontarf: -0.717975\nTerryworgén: 0.464333333333\nAncientfrost: 0.65805\nЗлойдикей: -0.9052\nPixxels: 0.526583333333\nJeens: 0.34375\nXpería: 0.26204\nSeph: -0.374975\nFnx: -0.8591\nKrizzdarkzor: -0.7999\nJudgepsycho: 0.876\nXyon: 0.59395\nWòózgrim: -0.446433333333\nRokanz: -0.6936\nOrcasim: 0.418\nRineth: -0.277566666667\nZarozinia: 0.32362\nNeliel: 0.409433333333\nIcyblade: 0.6369\nZackarn: -0.287716666667\nLaylaril: 0.62045\nMassäcrë: 0.4588\nIsabél: 0.6908\nSuvah: 0.3896\nSkaadra: 0.2504\nSartheris: 0.4225\nNedhealr: 0.502875\nKorae: -0.3213\nCalloway: -0.257233333333\n"
     ]
    },
    {
     "name": "stdout",
     "output_type": "stream",
     "text": [
      "Deadoqg: 0.34\nHárgor: 0.6155\nElisora: 0.385866666667\nTyne: -0.016125\nXylho: 0.64615\nZantious: 0.30538\nEnthyy: -0.417\nMahtoro: 0.253183333333\nTsaritsin: 0.2063\nCusean: 0.3294\nGezrug: 0.7939\nKredo: -0.296\nZeusaijin: 0.6946\nRoxaar: 0.8088\nDeathfortold: -0.7319\nDeathnander: 0.32436\nReliandra: 0.6696\nValherü: 0.3415\nVelgrol: 0.252383333333\nAbloodhunter: -0.3639625\nAtkins: 0.35015\nSeadweller: 0.4019\nBabe: 0.2893\nTrinitÿ: 0.54495\nSoméoné: 0.6369\nГолод: -0.401433333333\nNadreal: 0.9118\n"
     ]
    },
    {
     "name": "stdout",
     "output_type": "stream",
     "text": [
      "Morbidsaint: 0.39015\nDesolve: -0.345875\nKhaan: -0.458225\nXeoss: 0.846\nÖenomaus: 0.8591\nKenshyrø: 0.70095\nNeytira: -0.5256\nFrostynar: 0.8126\nXyrosa: 0.041475\nTroxa: -0.29545\nMortime: -0.430466666667\nStocken: 0.5499\nCellice: -0.8838\nCorripio: 0.401616666667\nSymbolistic: 0.53865\nSaldura: 0.2732\nBasementkat: 0.6018\nThebasher: 0.004\nBlighthoof: 0.3565\nMechi: 0.34\nTuonii: 0.3182\nAbôlisher: -0.412125\nSneakysweep: 0.399933333333\nKerathane: -0.0134375\nMedínah: 0.86595\nTusani: 0.395075\nDavse: 0.377316666667\n"
     ]
    },
    {
     "name": "stdout",
     "output_type": "stream",
     "text": [
      "Rencarex: -0.75425\nStickx: -0.5256\nRunechampion: 0.310058333333\nDeathhoix: 0.330575\nNaklofen: -0.3818\nGohda: 0.2757\nMundus: -0.60485\nBigknickers: -0.334566666667\nArinyaa: 0.6369\nXeneith: -0.45765\nBeann: -0.378475\nGrowlersdk: -0.410166666667\nHillbílly: -0.40145\nSukebe: 0.500707142857\nSerathil: 0.37634\nHaargroth: 0.3182\nAshwillow: -0.2713\nAirell: 0.76815\nLoonsta: -0.8307\nHopesedge: -0.5528\nUlaër: 0.7104\nКагэрис: -0.36755\nÁdel: 0.382225\nNaxû: 0.26335\nNethir: -0.34965\nBrainlezz: 0.5952\n"
     ]
    },
    {
     "name": "stdout",
     "output_type": "stream",
     "text": [
      "Káge: 0.07743\nHinansho: 0.334\nAlendoran: 0.254314285714\nWxms: 0.534633333333\n>>>\n>>>Progress: 750/4340\nCyriël: 0.7003\nSheltzy: 0.9661\nMiylee: 0.411765\nNecrotiqx: -0.503066666667\nGronuk: -0.26335\nLurkenhej: 0.5304\nBendo: 0.371975\nKynrin: -0.2553\nMolismeni: 0.4168\nKorro: 0.34\nHephaistíon: -0.2876\nMizchief: 0.3818\nCaranor: 0.3953\nYunera: -0.4301\nNïmed: -0.03715\nDeathzkrav: -0.4062\nFdgdrtaer: 0.307666666667\nSchmilblik: -0.02825\nNocturne: 0.2563\n"
     ]
    },
    {
     "name": "stdout",
     "output_type": "stream",
     "text": [
      "Billybones: 0.2722\nДоталошатало: -0.323966666667\nCìffíx: 0.6901\nÁdmíral: 0.592466666667\nTimertx: 0.2592\nRaggaskank: -0.25458\nNecyia: -0.7177\nVeritor: 0.7436\nВалхаллен: -0.3404\nThisqt: -0.5106\nKungfuskillz: -0.0500291666667\nRealdurrty: 0.714\nDarkrizk: 0.405066666667\nKoromas: 0.306875\nNägash: -0.7506\nYôlô: 0.3612\nАмерсх: 0.42315\nSkatsecks: 0.30825\nZodd: 0.5927\nUnholix: -0.6068\nSobieski: 0.2997\nBomberr: 0.250266666667\nOrochîmaru: 0.531433333333\n"
     ]
    },
    {
     "name": "stdout",
     "output_type": "stream",
     "text": [
      "Shazura: -0.349266666667\nOmgkd: -0.561542857143\nThaenkur: 0.4215\nChariza: -0.367733333333\nVandrain: 0.4506\nShiftrune: 0.525683333333\nSkorn: 0.4247\nТевеш: 0.267416666667\nGrimbane: 0.0503333333333\nAraghon: 0.9674\nRaidou: 0.6993\nEvsknight: 0.8073\nDié: 0.431833333333\nDybbuk: -0.4767\n"
     ]
    },
    {
     "name": "stdout",
     "output_type": "stream",
     "text": [
      "Cératus: 0.8268\nZzjo: 0.8074\nDknynot: 0.54905\nStillrotting: 0.6963\nUnholydiver: 0.2997\nCeridwynne: 0.6908\nWarcon: 0.8679\nDracthar: 0.808\nMalanos: -0.290128571429\nAllòut: -0.00778125\nDamoana: 0.397133333333\nAccenato: 0.02685\nCadea: 0.1460375\nSherise: 0.5719\nRagganmore: 0.3612\nCrow: -0.04328\nHakuteiken: 0.35805\nTezeniz: -0.3943\nMustis: -0.0532\nSwemalin: -0.032225\nFennix: 0.9231\nAbezethibod: 0.30995\n"
     ]
    },
    {
     "name": "stdout",
     "output_type": "stream",
     "text": [
      "Lunatic: 0.9719\nMannenntmìch: -0.360863636364\nZalamar: 0.7964\nParenthesis: -0.339866666667\nMisery: 0.4344\nXubaju: 0.48068\nSnowwight: -0.31415\nNincie: -0.257275\nAjjhala: 0.5824\nHellmer: -0.384\nSylosís: -0.480085714286\nAngryßull: -0.4404\nVektron: 0.4215\nDifionex: 0.425233333333\nTalledon: 0.367228571429\nUntwoord: -0.296\nAncìlla: 0.59715\nAsmodaii: -0.9084\nCrushallvein: 0.157725\nRelictus: 0.631\n"
     ]
    },
    {
     "name": "stdout",
     "output_type": "stream",
     "text": [
      "Sikee: 0.42446\nSmidz: -0.6983\nGrommarr: 0.3294\nLîara: -0.3243\nUruwashii: 0.9403\nCorbak: -0.5103\nGekkenhuis: 0.2676\nRithiel: 0.0229\nCál: 0.297333333333\nBonesnap: 0.25058\nSenathor: -0.4389\nBetabarry: 0.6696\nSmackalot: 0.4019\nHairygrowler: 0.2824\nKung: 0.8504\nAdlian: -0.322168402778\nBloodgaw: -0.328\nCrìmson: -0.31935\nSae: -0.2701\n"
     ]
    },
    {
     "name": "stdout",
     "output_type": "stream",
     "text": [
      "Darksuit: -0.49618\nIlyrian: 0.8228\nAstöria: 0.435071428571\nDraenej: -0.2734\nTaosunglou: -0.0810875\nDottie: 0.4404\nSephirìa: 0.53145\nNumberzero: -0.2633\nHatébreed: 0.4375\nElauria: -0.4802\nGauldur: 0.282775\nKilyox: 0.388175\nLovecoil: -0.309266666667\nGamlesverker: 0.6537\nPestbuster: -0.160275\nThymalean: -0.8658\nZoldrage: -0.726625\nVollaittaa: 0.3109\nSahji: 0.4791\nRunik: 0.33852\nDjkarverqtx: 0.296\nNoden: -0.19805\nVylenia: 0.7959\n"
     ]
    },
    {
     "name": "stdout",
     "output_type": "stream",
     "text": [
      "Saber: -0.265733333333\nThysalae: -0.4041\n>>>\n>>>Progress: 1000/4340\nElyssarain: 0.3039\nGarimto: 0.596466666667\nZenty: -0.293\nRimereaver: 0.34\nBryantko: -0.0267\nBelioro: 0.31525\nFrankiefigz: -0.251\nFortvila: 0.5709\nInfect: 0.6705\nWolfskinner: -0.7774\nGødlikez: 0.5017\nAdam: 0.5387\nUòtinie: 0.25115\nDarksyn: 0.38752\nMetalcurse: -0.39225\nArhcon: 0.30795\nÉnnasus: -0.19302\nLivepoopoo: 0.6369\nSßx: 0.411025\n"
     ]
    },
    {
     "name": "stdout",
     "output_type": "stream",
     "text": [
      "Malvagius: -0.29295\nChryz: -0.30557\nDéstróyer: -0.0434\nAvenjielde: 0.5768\nOcularis: -0.4215\nFragarch: 0.0430375\nRained: 0.0777\nMasus: 0.4678\nMinhaw: 0.383064285714\nGalagor: -0.7999\nZardak: 0.4588\nEmilboc: 0.473666666667\nLitharia: -0.30325\nChondra: 0.49075\n"
     ]
    },
    {
     "name": "stdout",
     "output_type": "stream",
     "text": [
      "Dondeath: 0.4029\nConception: 0.28285\nIcefever: -0.9274\nHelqq: 0.534725\nOmniyah: 0.27055\nFrostfoxi: 0.139083333333\nRaeda: 0.6915\nAélyra: 0.52235\nNoveralia: -0.7524\nCarant: -0.7291\nBlightcube: 0.4404\nCervée: -0.3072875\nAntidepresiv: 0.7876\nCyrisela: 0.6124\nDeemorbid: 0.3252\nYlraa: -0.3825\n"
     ]
    },
    {
     "name": "stdout",
     "output_type": "stream",
     "text": [
      "Deepmoon: -0.55405\nBananadeath: 0.280691666667\nIcelyn: -0.3013\nKindri: 0.4325\nDestiñy: 0.33525\nHyaki: 0.64445\nElrinaa: 0.277675\nDayyka: -0.374457142857\nLarthur: -0.1564125\nSstopme: 0.17435\nFallthor: 0.31845\nGaddek: 0.3612\nArlaen: 0.5661\nVéndetta: 0.0315375\nSariku: 0.30645\nEpicly: -0.2796\nLunch: 0.431\nSlugathor: 0.3612\nWindeath: -0.279033333333\nIkerion: 0.1030875\nTyvalt: -0.395\nFuturistic: 0.5955\nFatwreck: -0.4643\nNecrotickiss: -0.3734\nTyriev: 0.34\nGoodnigut: 0.334116666667\nAzgodan: 0.7615\nSoulcalíbur: -0.1393\n"
     ]
    },
    {
     "name": "stdout",
     "output_type": "stream",
     "text": [
      "Noloa: 0.27495\nMadvis: -0.7911\nSusannia: -0.2732\nAnnihilia: 0.27115\nSteelshade: 0.2752\nEmo: -0.3645\nSefriol: 0.5095\nShïnou: -0.301675\nAthrod: 0.5859\nArdenth: 0.31418\nMione: -0.5423\nFelturtle: -0.4391\nDespotica: 0.2732\nPoweryakdk: 0.285033333333\nGueh: 0.773766666667\nEbonbladeje: 0.491325\nRotflap: -0.0127133333333\nHack: 0.259833333333\nThaldamar: 0.3367\nKarzgrath: 0.55545\nNudler: -0.6808\nDaruik: 0.27065\nDreadhôôf: 0.8508\nAlesxandra: 0.803\nVansy: 0.6109\nTrýnks: 0.285566666667\nEsdeath: 0.357466666667\nSkeewy: -0.394533333333\nCalyhee: 0.42425\n"
     ]
    },
    {
     "name": "stdout",
     "output_type": "stream",
     "text": [
      "Ghoullove: 0.5716625\nZoliaxen: 0.3612\nRaksada: -0.38915\nAnothelas: 0.28535\nSynixer: -0.29\nAjpeyo: -0.275\nPim: 0.5859\nDzerok: 0.290571428571\nSyreana: 0.25905\nNorhul: -0.339666666667\nArsonn: -0.7579\nAkirian: -0.34995\nFrostholic: 0.8264\nShiroz: 0.3393\nSnør: 0.7668\nZåel: 0.365655\nAlleriä: 0.8779\nKorktre: -0.9732\nMiseras: -0.0334\nKubarian: -0.8635\nKyrru: -0.3818\nAurghmeister: 0.277225\nGabenewell: -0.34\nDiamondez: 0.438\nPerwerka: 0.3626\nNickolps: -0.33985\nÁrjalainen: 0.278866666667\nVeranell: -0.28825\nCohèn: 0.73855\nTiella: 0.303257142857\n>>>\n>>>Progress: 1250/4340\nFrostfury: 0.277633333333\nRennoi: 0.317\n"
     ]
    },
    {
     "name": "stdout",
     "output_type": "stream",
     "text": [
      "Metelatas: 0.3535\nKhazir: 0.1548\nEuthanasia: 0.498933333333\nHunteroulaki: 0.6105\nDkpk: 0.156328571429\nDardelion: 0.4199\nSandalf: -0.6457\nAbyssion: 0.3876\nTenebrìum: -0.8967\nDayzer: -0.34\nMobíus: 0.4404\nSugah: -0.4939\nToreslol: 0.09042\nDjungeln: -0.2997\nDeceiverz: 0.3818\nCrønus: -0.3622\nAkarî: -0.308166666667\nRokvar: 0.3612\nKiite: -0.8779\nSinthya: 0.7269\nXernath: -0.68425\nMidan: -0.29605\nCirassel: 0.43275\nLeapin: -0.261316666667\nAlphéus: 0.443175\nMordreth: 0.6539\nZwart: -0.282525\nPutsvinje: 0.62675\nSàtyr: -0.578925\nKogran: 0.4404\nFacts: -0.3818\n"
     ]
    },
    {
     "name": "stdout",
     "output_type": "stream",
     "text": [
      "Whiteline: -0.5413\nEndyn: -0.577866666667\nKermytina: -0.5423\nCorenus: -0.3412\nKulîmu: 0.6369\nJetx: 0.4215\nSugartastic: -0.5994\nКэйтонх: 0.3818\nVaderia: -0.6597\nChrosis: -0.0454333333333\nÉmo: 0.3071\nHalonox: 0.7456\nLoxarion: -0.31845\nGamias: 0.365833333333\nChimichonga: 0.358766666667\nShodowfang: 0.6369\nSquatthrust: -0.4066\nKarabor: 0.8977\nPuntz: 0.5315\nTarana: -0.69535\nZáchary: 0.36755\nJokio: -0.3736\nTinasõdur: -0.2553\nLksnn: 0.3612\nBlossom: -0.00998\nDirtymiki: -0.46218\nTarsilin: -0.0196\nHemski: 0.39135\nMólina: -0.243733333333\n"
     ]
    },
    {
     "name": "stdout",
     "output_type": "stream",
     "text": [
      "Northug: -0.3953\nDarkrage: 0.5423\nMadflipz: 0.0222321428571\nNebhaal: 0.70145\nDeebug: 0.0723357142857\nMorguhl: 0.3275\nMohrn: -0.6749\nNamae: 0.7161\nThisfacker: 0.11145\nMísanthrope: 0.317133333333\nBladeandsoul: 0.4754\nEmuhack: 0.6705\nMarmaros: 0.2869\nNaught: 0.25115\nDrayser: 0.7319\nKlaparen: -0.36755\nWrathael: -0.398873333333\nDyylan: 0.2967\nDxilence: 0.53045\nTheophilus: 0.6064\nPifflord: 0.5267\nPhoiyt: -0.4767\nEmizel: -0.0816\nJaphet: 0.4847\nKeenann: -0.3428\nDreadeyes: -0.57285\n"
     ]
    },
    {
     "name": "stdout",
     "output_type": "stream",
     "text": [
      "Telkas: 0.51385\nDestru: 0.31245\nShadowmourne: -0.00155\nVaeyn: -0.50684\nNightshrike: 0.31805\nАльцеон: 0.44935\nSóxx: 0.6052\nThalea: 0.49905\nMixtli: 0.5574\nTrevoo: -0.2584\nGyr: 0.3472\nArmanispree: 0.4404\nKoeienvanger: -0.66125\nNecrofeelye: 0.337933333333\nTinawien: 0.4497\nKarkantas: -0.8715\nLéddi: 0.528475\nAvixhawkk: 0.528366666667\nKailoren: 0.4215\nImpøssible: 0.2752\nSlamberry: -0.316833333333\nNoìre: 0.457766666667\nBenje: 0.39675\nThános: 0.52885\nGrômkar: 0.4979\nFélian: -0.4168\nIzaniel: -0.3564\nРитуал: -0.9659\nKorangar: -0.38065\n"
     ]
    },
    {
     "name": "stdout",
     "output_type": "stream",
     "text": [
      "Inflameprox: -0.293175\nBanterus: 0.456\nSallahadin: 0.325575\nHurgo: 0.2781\nDour: -0.373\nBizzbrah: -0.282466666667\nVinnicus: 0.8452\nCuoco: 0.644075\nXivali: 0.4588\nDwarloc: 0.255957142857\nCaplin: 0.8089\nRhawen: 0.76715\nFiryal: 0.6908\nBoneflayer: 0.31438\nDkdonkey: -0.2601\nKopke: -0.76635\nIndicaqt: 0.31905\nJúdgey: 0.607233333333\nJessicajones: 0.130633333333\nWeazul: 0.4019\nGnul: -0.27222\nAntiyou: 0.270566666667\nAvelie: -0.5102\nLorax: 0.542927777778\nNímzana: 0.6901\n"
     ]
    },
    {
     "name": "stdout",
     "output_type": "stream",
     "text": [
      "Mikkelsén: 0.31234\n>>>\n>>>Progress: 1500/4340\nStrife: 0.55735\nScrump: 0.39225\nStinkysocks: 0.5773\nCallmezli: -0.8537\nSinndragossa: 0.7193\nZilpui: -0.5578\nFilnaen: 0.7096\nDreadscream: 0.37895\nXarok: 0.8264\nZalrea: 0.04195\nAvirah: 0.33715\nDaarkknight: 0.443966666667\nMchammered: -0.3454\nZolgi: 0.5608\nVengerous: 0.6249\nArmágeddön: 0.68245\nDecrementix: -0.619842857143\nMoxjet: 0.64285\nSmackin: 0.3391\nHéat: -0.2889\n"
     ]
    },
    {
     "name": "stdout",
     "output_type": "stream",
     "text": [
      "Nephs: -0.30535\nCnedra: 0.3243\nKikipow: 0.2702\nNecria: 0.537\nWrolnik: -0.371528571429\nViki: 0.5199\nSazir: 0.6229\nСифрельдар: 0.286673333333\nZealie: 0.4135\nKaiko: 0.7685\nÐevastate: 0.6124\nIsuril: 0.9253\nRooted: 0.2545\nAlactus: 0.433466666667\nSilaedru: 0.58985\nHerpes: 0.44525\nEnderer: 0.733633333333\nJayred: -0.2732\n"
     ]
    },
    {
     "name": "stdout",
     "output_type": "stream",
     "text": [
      "Evesion: 0.3419625\nDoomstone: 0.71405\nSparg: 0.6648\nAwwsorry: 0.369833333333\nVholchick: -0.11985\nGeroz: -0.256866666667\nBlightbeard: 0.448625\nDuskspell: 0.74285\nAberath: 0.44695\nSlashi: 0.46705\nBill: 0.4927\nKharthal: -0.7314\nIsengrim: -0.3057\nCrønøs: -0.64355\nLittlekunt: -0.5267\nChilicharlie: 0.6411\n"
     ]
    },
    {
     "name": "stdout",
     "output_type": "stream",
     "text": [
      "Dawngate: -0.4584\nRixxen: 0.55165\nPsyox: 0.3612\nGrimgor: 0.82605\nSkampie: 0.7951\nTrikola: -0.638233333333\nAshing: 0.336125\nJasmille: -0.4008\nCryptelon: -0.197946666667\nTriandis: 0.285428571429\nÐarkiing: -0.3624\nWalkonwind: -0.3424\nLothyhar: 0.6035\nMacer: -0.398\nMurgthar: -0.544633333333\nCeliu: 0.3121\nSmouchiie: -0.303733333333\nBiffie: -0.297416666667\nSpìne: 0.5859\nOmgapaladin: 0.7491\nSeaal: 0.71055\nUnemployment: 0.3913\nBaoao: 0.7717\nKvasir: -0.7845\nArgaraf: -0.2918\nHeruini: 0.7425\nEndemic: 0.534825\n"
     ]
    },
    {
     "name": "stdout",
     "output_type": "stream",
     "text": [
      "Rumanaama: 0.260814285714\nTaigershock: -0.25115\nShíela: -0.262533333333\nEdazlol: -0.37095\nBatspine: 0.7964\nSczezly: 0.6877\nOndmann: 0.7717\nHellgrave: 0.0912\nDüracell: -0.296\nQrmas: 0.3291\nSonarok: -0.72762\nCadlnvrdies: 0.28084\nNyk: -0.3491\nKortaz: -0.662275\nZionknight: -0.3548\nMolocow: 0.3544\nNocturnäs: -0.6113\nShowc: 0.7253\nJulía: -0.2732\nPsiharq: -0.743\nValarjar: 0.6898\nGyrm: 0.56045\nLazorcat: -0.2813\nMortacai: -0.953\nPredlùlz: 0.480416666667\nVinkiiz: 0.45625\n"
     ]
    },
    {
     "name": "stdout",
     "output_type": "stream",
     "text": [
      "Grymvild: -0.502382608696\nDragonsworn: 0.43705\nGeelgamesh: -0.35015\nRotten: 0.4404\nАрхисоло: -0.73605\nBloodgrave: 0.376333333333\nSchmu: -0.499066666667\nDarkhyper: -0.8795\nVirulent: 0.5983\nEnnuyée: -0.4479\nAbalore: 0.2542\nZupermutant: 0.350666666667\nKojhuiyte: -0.4754\nBlindsoul: 0.3186\nGareth: 0.42745\nHiigh: 0.30015\nTeldorma: -0.337675\nReturn: -0.596425\nNorlegende: 0.6114\nPanzerfâust: 0.425\nGutan: 0.9464\nConors: 0.6417\nIkuya: 0.296\nDeathshroud: 0.3609\n>>>\n>>>Progress: 1750/4340\nAlleine: -0.5143\nKarnage: 0.8468\nFiloviridae: -0.8492\nAlnya: 0.469975\n"
     ]
    },
    {
     "name": "stdout",
     "output_type": "stream",
     "text": [
      "Icecøld: 0.337633333333\nWesslén: 0.25115\nTorakin: 0.7264\nBarill: 0.2775\nAgonishdeath: 0.4824\nRcz: 0.296\nStanson: 0.4927\nThaendil: -0.2553\nSinister: 0.538066666667\nKiiljah: 0.35315\nTuledk: 0.7269\nStranger: -0.564575\nMalthaèl: 0.2745\nRedglare: -0.42055\nTive: -0.5533\nDequé: 0.3313\nBastiôn: 0.8776\nArchaus: 0.285166666667\nTarskal: 0.8807\nKemii: -0.451033333333\nPichkoza: 0.377433333333\nSepsis: -0.3071\nGitsan: -0.3662\nXumo: -0.4825\nJhinjíe: -0.68685\n"
     ]
    },
    {
     "name": "stdout",
     "output_type": "stream",
     "text": [
      "Touchtoomuch: 0.292875\nOnryn: 0.496533333333\nKronik: -0.111141666667\nJimjam: -0.08265\nBig: 0.6597\nFrigidtouch: 0.446433333333\nUnðedrtelðús: -0.2732\nSlaggeh: -0.3349\nDhalan: -0.3592325\nAyaney: 0.5635\nReotheras: 0.6249\nNappyrash: 0.6249\nGokuson: 0.6124\nLoreleí: 0.28574\nInsegnoo: -0.2784\nSadblade: -0.5267\nDarth: 0.609133333333\nSugarlol: 0.3818\nKhörni: 0.2912\nArotha: 0.6116\nGrímjaw: 0.509733333333\nTribaleyes: -0.68775\nVarinia: 0.368766666667\nBuldrek: 0.233375\nEasyn: -0.29975\nCrágoth: -0.6428\nHeallarious: 0.8386\nAlorian: -0.253417391304\nMewuvyou: 0.25915\nHammurabi: 0.411875\nAule: -0.25685\nDeathteamer: 0.0293666666667\n"
     ]
    },
    {
     "name": "stdout",
     "output_type": "stream",
     "text": [
      "Lefthanded: 0.49265\nTipee: 0.639894444444\nThanah: 0.297\nPeterdkay: -0.39085\nDrekthull: -0.499975\nValendra: 0.2621\nYmiron: -0.351333333333\nNerovar: -0.320977777778\nMifra: 0.9001\nCirkus: 0.386325\nAkrisae: 0.4088\n"
     ]
    },
    {
     "name": "stdout",
     "output_type": "stream",
     "text": [
      "Vathos: -0.631\nTyrusaran: -0.6207\nOttila: -0.5267\nHoldmybeer: 0.49108\nSulin: 0.3816875\nLumpenlarry: 0.5574\nGinka: 0.4102\nEluneela: 0.7351\nElorisse: 0.25116\nHuntsmead: 0.34125\nSejanus: -0.341866666667\nCatstrangler: -0.885\nLoneaxes: -0.4019\nKarglat: -0.33135\nDarkemporer: -0.268\nDeinhardt: 0.3592125\nHélion: 0.475233333333\nKalcron: -0.513166666667\nThaldes: 0.9265\nTúrwaithon: -0.5994\n"
     ]
    },
    {
     "name": "stdout",
     "output_type": "stream",
     "text": [
      "Icecóld: 0.4218\nValiera: 0.574433333333\nAnnounced: 0.351227272727\nMinorah: -0.396575\nGlaciel: 0.3729\nAsukà: -0.7579\nNodeal: 0.492966666667\nQari: 0.6369\nGamir: 0.64765\nTukam: -0.507\nAyshas: 0.502783333333\nWinterchillz: 0.2545\nKhaine: 0.418966666667\nÇróòw: 0.9666\nSunyai: 0.304433333333\nNÿv: 0.133683333333\n"
     ]
    },
    {
     "name": "stdout",
     "output_type": "stream",
     "text": [
      "Sonofálich: -0.578358333333\nElondrë: 0.5667\nTonolo: 0.7414\nJohnnybgoode: 0.75695\nBudiax: -0.0113125\nLichepriest: 0.7783\nBuvarette: 0.6801\nDeathcomes: 0.3548\nBasiun: -0.7862\nLorgus: 0.3412\nSwaggerz: -0.3818\nSkinnyhotted: -0.296\nArcaon: 0.421933333333\nParamet: 0.547933333333\nDunderbald: 0.327174285714\nBamischijf: 0.5106\nHogglebog: 0.784\nTäll: -0.3812\nInsomníum: -0.3732\n>>>\n>>>Progress: 2000/4340\n"
     ]
    },
    {
     "name": "stdout",
     "output_type": "stream",
     "text": [
      "Atermon: -0.696\nAnlloverxx: 0.4404\nSaiyko: 0.4215\nArmand: 0.04445\nTheahl: -0.375716666667\nDreamie: 0.30515\nAzreth: 0.8176\nDnighte: -0.34\nMalícé: 0.6908\nLypton: 0.31345\nJerollo: -0.7851\nJavool: 0.40565\nSyñergy: -0.4293\nValravn: -0.408188888889\nßigdikhorror: 0.89905\nThyranos: 0.554\nSyraliss: -0.379471428571\nHarukana: 0.38585\nRumstick: 0.293725\nCéldora: 0.9473\nZevasra: -0.63495\nChompz: 0.267233333333\nIdtankthat: 0.476\nStyx: 0.38075\nWraithcaller: 0.42595\nDk: 0.54536\nByenkow: 0.66845\nKukuxumusu: -0.4382\nIcaroz: 0.6761\nSkurkovic: -0.279531578947\nAltzyx: 0.31845\nMachaera: 0.6743\n"
     ]
    },
    {
     "name": "stdout",
     "output_type": "stream",
     "text": [
      "Skarthis: -0.360566666667\nHaemund: 0.1142\nClirver: 0.49135\nShapain: 0.426225\nAsag: 0.50605\nXulrogg: 0.62675\nCarnagz: 0.445175\nZolktte: 0.45005\nBlite: 0.639933333333\nTakralus: 0.5852\nAnfauglith: 0.43545\nRaidenrox: -0.28145\nUndeadmortis: -0.3818\nLemiqt: 0.1285\nRepid: 0.4588\nMoudi: -0.887\nGanway: 0.31975\nNightskye: 0.72825\nKryael: 0.4019\nTasedo: 0.288183333333\nNurglle: 0.9426\nNecrotíq: -0.19265\nOmkommen: 0.9155\nNarmôrà: -0.282027272727\nFrostbaslisk: -0.26335\nIsdroppe: -0.489525\nRokuma: -0.836\nKorrosh: 0.391842857143\nAvnar: 0.25418\nTrekhan: 0.7149\nSyldrea: -0.8232\n"
     ]
    },
    {
     "name": "stdout",
     "output_type": "stream",
     "text": [
      "Sael: -0.8777\nTasz: 0.81835\nCaskirensys: 0.615641666667\nAzzizz: 0.252866666667\nMyrdhraal: 0.4221\nPryscilla: 0.34745\nLashin: 0.7175\nCombo: 0.7329\nAzihant: 0.6115\nNeteari: 0.665175\nNathanél: -0.334146666667\nInfuria: 0.491933333333\nVelikan: 0.2874\nDoijh: 0.1922125\nGrotargh: 0.5859\nNorwyn: -0.5224\nMokkoo: -0.5889\nLaindessiel: 0.3062\nBelszazar: 0.57195\nHoldane: 0.277475\nMoshyy: 0.3618\n"
     ]
    },
    {
     "name": "stdout",
     "output_type": "stream",
     "text": [
      "Valaisawsome: 0.4653\nNegru: 0.5722375\nNeiriel: 0.0237166666667\nIsildas: 0.448866666667\nAhneasten: -0.7113\nTjãpps: -0.4363\nHase: 0.7269\nTargray: 0.36708\nNecrona: 0.4461\nDreshar: 0.6444\nSubstratum: -0.36345\nDrekzhul: -0.29558\nJezzebelle: 0.322266666667\nTehreaper: 0.5481\nScoot: -0.3485\nRihannah: 0.463615\nMagharlogosh: 0.7118\n"
     ]
    },
    {
     "name": "stdout",
     "output_type": "stream",
     "text": [
      "Degek: -0.3432\nEyescream: -0.43215\nWerebeazt: -0.5672\nBenicetome: -0.297666666667\nFlúmmer: 0.7242\nDescend: 0.569725\nRuairí: 0.5476\nKezest: -0.6304\nBaiter: 0.712175\nEthioc: 0.265458333333\nBîshop: -0.3474\nHzero: 0.278457142857\nWhufflen: 0.45725\nYurmama: 0.509883333333\nAmduscas: 0.2608\nHemsläp: 0.56955\n"
     ]
    },
    {
     "name": "stdout",
     "output_type": "stream",
     "text": [
      "Alzmeel: -0.26636\nElivagar: -0.649\nDecite: -0.148425\nArthaniun: -0.0554125\nSouldron: 0.3716\nRrose: 0.3682\nEranicus: -0.28494\nFartsparkle: 0.2995\nDenar: -0.32422\nZedroth: 0.423925\nVislisis: 0.291766666667\nVerfluch: -0.37645\nCataclic: -0.4243\nSneakyrascal: 0.27155\nInsegnoh: 0.4391\nCiene: -0.543266666667\nBogragnok: 0.4311\nFankay: 0.3755\n"
     ]
    },
    {
     "name": "stdout",
     "output_type": "stream",
     "text": [
      "Souluk: 0.3612\nChillinthano: 0.8399\nWraith: -0.2652\nTrìstess: 0.250175\nDeathknerd: 0.266325\nXkorpmonk: 0.2997\nUj: 0.252725\nRoxcy: 0.8591\nMelviin: 0.5363\nVecis: -0.697\n>>>\n>>>Progress: 2250/4340\nKoltiran: -0.449475\nIlyania: -0.278971428571\nSceysch: 0.456583333333\nResahsan: -0.8919\nCakeinface: -0.26335\nBritomartis: 0.7133\nSónofalich: -0.53\nFeelsorcman: -0.28655\nRecinius: 0.6239\nHungër: 0.4011\nRachnaros: -0.328766666667\nEroan: 0.357166666667\nSìn: -0.317475\nOkisor: 0.3765\n"
     ]
    },
    {
     "name": "stdout",
     "output_type": "stream",
     "text": [
      "Sjóri: -0.4404\nTaurus: 0.5729\nNëmain: 0.6237\nNaradel: 0.3995\nCytale: -0.2997\nLichesta: 0.443375\nVryth: 0.4215\nSeraphel: 0.508\nKraugerys: -0.65015\nВирейм: 0.557033333333\nTurulszem: 0.39445\nBlodlys: 0.00500833333333\nHafnia: 0.3393\nSherawr: 0.8126\n"
     ]
    },
    {
     "name": "stdout",
     "output_type": "stream",
     "text": [
      "Midiar: 0.443\nSubzero: 0.265366666667\nCrosbie: 0.119433333333\nYagyu: 0.3431\nTirtos: -0.3818\nAzazeél: 0.5696\nBarke: 0.5588\nAeronwen: -0.454725\nRotgore: 0.382866666667\nRazalghoul: 0.735375\nRivallah: 0.255863333333\nFemmefatale: 0.3612\nDödsgreppet: 0.28442\nNéwt: -0.7075\nOutworld: -0.6486\nFeïla: 0.5023\nHotshot: 0.3595\nMorthem: -0.3485\nDeathgranter: 0.9186\nOkog: -0.9769\nDestrauntais: -0.3182\nOutfit: 0.26325\nBlight: -0.296\nNordrak: 0.74345\nBombata: 0.130625\nFlailing: -0.4215\nVyper: -0.3506\nTragga: 0.2732\nMassicor: 0.203\nNekromanis: 0.6705\nKateleth: 0.4404\nMalghanis: 0.41235\nMelkorii: 0.9769\nDreadednyx: 0.4622\nKanalje: -0.27075\nApøtika: 0.743\nSarethen: 0.3459\nSethrod: 0.3506\n"
     ]
    },
    {
     "name": "stdout",
     "output_type": "stream",
     "text": [
      "Taevi: 0.3167\nTattarpippi: 0.331477777778\nMonobrow: -0.58685\nBlitzerx: 0.4404\nYatsh: 0.44975\nCathelion: 0.74255\n"
     ]
    },
    {
     "name": "stdout",
     "output_type": "stream",
     "text": [
      "Goresin: 0.5429\nFrostbeard: -0.270558333333\nGhadgar: 0.450725\nWayneth: 0.9201\nStormgrim: 0.42405\nArpegius: 0.3053\nSerpént: -0.2557\nCozbarian: -0.7705\nDespina: 0.0363\nSmolley: 0.49\nRefrigeratio: 0.8196\nJacqaues: -0.5583\nReave: 0.396525\nExodus: -0.296\nWindpanda: 0.397\nAmbjörn: 0.3879\nNpftd: 0.357125\nDarkronus: 0.4297\nDarklion: -0.7876\nAalesìa: 0.421909848485\nKoradan: -0.7218\nZundap: 0.62235\nNurfed: 0.5835875\nArgurra: -0.29525\nPhatima: -0.3979\n"
     ]
    },
    {
     "name": "stdout",
     "output_type": "stream",
     "text": [
      "Bromama: -0.9042\nMagil: -0.27865\nQuadkillz: -0.155775\nStabil: 0.5093\nGabryell: 0.3182\nÐarkingz: -0.398133333333\nBiogen: 0.293966666667\nYozzadeath: -0.3182\nEllarianna: -0.270866666667\nRachika: 0.8038\nCandyman: -0.281816666667\nDearielle: 0.4404\nShuanyu: 0.7671\nScarscream: 0.263075\nAstelan: -0.4767\nTidorro: 0.77915\nWajoba: -0.6293\nVishudhara: 0.289525\nMeneas: 0.35555\nMàhmoud: -0.56175\nGizndaez: 0.30815\nArkar: 0.364785714286\nScárecrów: 0.133925\nLjdlfjs: 0.4748\nZombae: -0.7964\nTenebraeus: -0.8922\nWhiipz: -0.265733333333\nBrayden: 0.7717\nØldschòólbrø: 0.6705\nHauntix: -0.4389\nInsy: -0.51495\nBugknight: -0.9348\nDïnker: 0.3238\nKatyla: -0.3071\n"
     ]
    },
    {
     "name": "stdout",
     "output_type": "stream",
     "text": [
      "Rayken: 0.555033333333\nAhnaar: -0.285033333333\nProtectio: 0.8278\nRazzier: -0.47565\nWofig: 0.3294\n>>>\n>>>Progress: 2500/4340\nRaynbeaux: 0.8195\nCeliby: -0.4708\nGrafschennis: 0.088\nBumpy: 0.5994\nPunishment: 0.3931\nTeddybéar: 0.5093\nWrathbourne: -0.5180375\nBeardmire: -0.623133333333\nDaquandrix: 0.7343\nAmpère: 0.5158\nThingy: 0.2911\n"
     ]
    },
    {
     "name": "stdout",
     "output_type": "stream",
     "text": [
      "Norsilian: 0.4386\nKhabib: 0.73765\nGrävskopa: -0.30155\nGnomercy: 0.3612\nUlgoroth: 0.2905\nHalp: -0.338933333333\nAnoriann: 0.9709\nKetsuma: 0.003375\nStalima: -0.3873375\nVejeta: 0.748566666667\nTherakin: 0.2775\nPeters: 0.9308\nMorgiana: 0.252633333333\nEnlevendk: 0.8088\nIguana: 0.7311\nZombak: -0.2559\nGrubass: 0.65005\nSindrelia: 0.6369\nNihilas: 0.28545\nJugger: -0.3612\nSerikos: -0.492425\nAchlyss: 0.2548\nEryya: 0.253325\nNethalythic: -0.29595\nSlapsteady: -0.4045\nMjõlnir: 0.5859\nPilois: 0.350925\nSnutch: -0.6482\nBloodfrost: 0.28595\nFixatión: 0.426066666667\n"
     ]
    },
    {
     "name": "stdout",
     "output_type": "stream",
     "text": [
      "Frenx: -0.4798375\nPapshmir: 0.6369\nKorsbaek: 0.7351\nCroode: -0.29445\nNovezz: -0.2582\nKratós: 0.25995\nHypermist: 0.25895\nMcjustice: 0.2787\nPùnishér: 0.6155\nDremorá: 0.9297\nOsudin: 0.267125\nHuggstah: 0.6705\nVulgorm: -0.2755\nAztheoden: -0.926\nGormmash: 0.71175\nTyrant: 0.5719\nLogard: 0.765\nOrdinator: -0.7698\n"
     ]
    },
    {
     "name": "stdout",
     "output_type": "stream",
     "text": [
      "Luná: 0.59795\nDheta: 0.542666666667\nReavax: 0.267033333333\nKunxion: 0.7424\nZeleik: -0.4588\nMatharias: 0.38915\nScreampunk: -0.8817\nWillempie: 0.7778\nKronuk: -0.5104\nIsfendiyar: 0.279628571429\nTraeton: -0.33856\nEsa: 0.4404\nDeath: 0.4019\nAthrosh: -0.03595\nKillerfrostt: 0.40215\nSlukson: 0.3063625\nKwelthain: 0.28402\nRivendane: -0.7043\nPsymix: -0.6124\nAsheena: 0.7003\nSoulain: 0.45069\nDeathdisease: -0.3542\nMalcator: 0.6597\nIllanox: -0.4474\nLastborn: -0.4902\nShyael: 0.460333333333\n"
     ]
    },
    {
     "name": "stdout",
     "output_type": "stream",
     "text": [
      "Vuxiu: 0.2824\nShaolinjoey: 0.9464\nTriø: -0.64705\nLethyss: 0.521733333333\nStannes: -0.34\nKishaar: 0.719075\nInfected: 0.6249\nGrakhul: 0.253075\nBadpitt: -5e-05\nSurvie: -0.7627\nElogyl: 0.9179\nFunkabella: 0.4845\nXypril: 0.3513\nEvilgoose: 0.578133333333\nVahx: 0.6369\nDeadmoo: -0.5\nRagechild: -0.4622\nLupcold: 0.6239\nRalmeida: 0.4404\nNailtrouhand: 0.43335\nDkjävel: 0.37305\nMoovit: 0.2732\nKrmenadl: 0.2869\nGeckø: 0.4154\nHänkxoxo: -0.3412\nFleetwoodmac: 0.6908\nPrédation: 0.663625\nLevík: -0.26704\nDemon: 0.2732\nFloinky: -0.6125\nPandora: 0.4188\nHagbean: 0.8555\nAlexfaniv: -0.38775\nValach: 0.4677\nPlzyes: 0.57835\nSukidsugib: -0.32495\nRaejar: 0.4215\n"
     ]
    },
    {
     "name": "stdout",
     "output_type": "stream",
     "text": [
      "Melretheas: -0.7584\nSchöne: -0.8322\nChansee: 0.33196\nGriev: 0.6581\nRobarcane: -0.46645\nIlidarklight: -0.265933333333\nLihamonsteri: 0.34235\n"
     ]
    },
    {
     "name": "stdout",
     "output_type": "stream",
     "text": [
      "Galbana: -0.67025\nKyuubi: 0.290154545455\nShredbrah: 0.4008\nTruelies: 0.7086\nFrodomir: 0.276016666667\nAzaléa: 0.6309\nZlakki: -0.33005\nNekrataalx: 0.3541\nBénafflóck: -0.51105\nQuinshar: 0.5994\n"
     ]
    },
    {
     "name": "stdout",
     "output_type": "stream",
     "text": [
      "Dawnstone: -0.42155\nDancefever: 0.41032\nBulawl: 0.2542\nFeministi: 0.432116666667\nTheriginator: 0.416575\nWhyamidead: -0.336633333333\nZock: -0.6183\nTuulan: 0.3991\nWall: -0.6124\nRumbaba: -0.4215\nXsteak: -0.37975\nUptonqt: 0.26704\nAemithil: 0.8126\nVibron: -0.7998\n>>>\n>>>Progress: 2750/4340\nMagnifficent: -0.397966666667\nScylla: 0.8052\nFlaxozz: -0.3608\nKomenasai: 0.18768\nAnaemia: 0.259814285714\nSpyci: -0.338133333333\nJambiya: -0.403233333333\nKeedrokasas: 0.33735\nTotal: 0.4389\nShayliana: 0.3612\nTariro: 0.63555\nQuarrel: -0.4404\n"
     ]
    },
    {
     "name": "stdout",
     "output_type": "stream",
     "text": [
      "Megainius: 0.2854\nCelistís: 0.34785\nRedigit: 0.5423\nSteeldeep: 0.47354\nUmadbrro: -0.2765\nBlazeit: 0.27225\nMixzi: 0.9201\nTrampjuice: 0.31681\nZeyon: -0.698\nArhaindir: 0.8554\nStarftlord: 0.7219\nSoulcleaver: -0.6745\nFlukey: -0.5452\nËlsa: -0.7345\nXekus: -0.306216666667\nNecro: 0.2792\nKarashka: -0.786\nMaggotsnout: 0.7574\nUnholyhaze: 0.540666666667\nMaladi: -0.06136\nRathior: 0.578675\nCharlõtte: 0.3612\nXiess: 0.291733333333\nPupmloni: 0.4404\nKaikuri: 0.37885\n"
     ]
    },
    {
     "name": "stdout",
     "output_type": "stream",
     "text": [
      "Rígormortis: -0.29915\nAmexi: -0.9504\nAngmor: -0.2997\nTróhai: -0.250433333333\nAstrig: 0.4588\nFiendishly: -0.25485\nSakkii: 0.8995\nKillyox: 0.5859\nStévè: -0.602775\nHorribleclas: 0.5473\nAsmodaï: -0.5267\nKirpii: 0.4215\nAltiria: -0.57285\nMusherah: -0.293511111111\nCorvinous: 0.9001\nHokusai: 0.585425\nNavaros: 0.259\nDelmare: -0.765\nTraser: -0.39945\nJaikouh: 0.5178\nGazbowdk: 0.448\nArchfiender: 0.48445\nMelaekker: -0.270911111111\n"
     ]
    },
    {
     "name": "stdout",
     "output_type": "stream",
     "text": [
      "Shroomzz: -0.4897\nFrontlinert: 0.6274\nVeng: 0.53265\nKeltorin: 0.2997\nSpmcy: -0.6342\nBlindtank: -0.4588\nYknuf: 0.6369\nFörbannad: 0.5023\nИнфинус: -0.2992\nAnvarra: 0.29855\nShailen: -0.7351\nPrystale: 0.4983\nCastiel: 0.5465\n"
     ]
    },
    {
     "name": "stdout",
     "output_type": "stream",
     "text": [
      "Corgi: -0.3243\nEzalia: -0.3504\nSlagerno: 0.6849\nSepheris: -0.01025\nMinimoose: 0.27694\nMirun: 0.472533333333\nDonkeylee: 0.318\nBearsalad: 0.4404\nMetallus: 0.596\nThisnthat: 0.0122\nAllyana: 0.395983333333\nPestilence: -0.57875\nUøeno: 0.45975\nThekokoja: 0.2827\nRêapêr: 0.765\nRapidoro: 0.3182\nIrisviel: -0.96495\nNecronomus: -0.335258333333\nExemplis: 0.421466666667\nMakî: 0.3744\nGorhuk: 0.459333333333\nStray: -0.559775\nHarrison: 0.2845\nMahia: 0.6486\nKaal: -0.296\nLianew: 0.14495\n"
     ]
    },
    {
     "name": "stdout",
     "output_type": "stream",
     "text": [
      "Dasrinus: 0.4404\nSilventhal: 0.3135\nNatsamies: 0.265866666667\nZetsumai: -0.364425\nJcoops: 0.254\nDraenoris: 0.8658\nSneakýsquid: -0.6597\nZurduk: 0.61805\nMephalá: 0.4588\nYölöö: 0.3119\nSigfreud: 0.37768\nEniqma: 0.191275\nAstároth: 0.29205\nIllidanas: -0.596466666667\nCryogenian: -0.5719\nLonsecia: -0.27992\nChaosgrunt: -0.3663\nFrknye: 0.595\nRaakh: -0.58155\nSweetbro: 0.366425\nDeathing: 0.3634\nZénzár: -0.20805\nDankboi: 0.267933333333\nSelaris: -0.8399\nNohex: 0.4709\n"
     ]
    },
    {
     "name": "stdout",
     "output_type": "stream",
     "text": [
      "Potatike: -0.330166666667\nSuffocate: 0.5803\nDaevva: -0.5288\nBarashade: -0.663775\nRumtum: -0.7964\nFeárless: 0.6732\nViluhe: 0.021225\nSchevendalk: -0.611\nGavgaroth: -0.3313\nSacredsinful: 0.8519\nRunárc: 0.391425\nJaqobé: -0.39335\nMitts: 0.7759\nSaqib: 0.7118\nRedmass: 0.3692\nAerythlea: 0.35015\nPhathazé: -0.5423\nPanicrockz: 0.5267\nDarthozzy: -0.3818\nHúmús: -0.4215\nDreadgos: -0.3044875\nCiel: -0.7984\nGrayfóx: 0.144316666667\nKeilen: 0.5267125\nSacra: 0.7003\n>>>\n>>>Progress: 3000/4340\nShesha: -0.8717\nSlapdancer: 0.26175\nAcephali: -0.6118\nQiralyn: 0.9549\nSiffrah: 0.524183333333\nAvaric: -0.2755\nExoda: 0.054525\nGalgarion: 0.87515\nLoknoru: 0.306375\nArctice: 0.5859\nJeina: 0.8596\nVert: 0.0546\nBoraden: 0.34\n"
     ]
    },
    {
     "name": "stdout",
     "output_type": "stream",
     "text": [
      "Flobzy: 0.6157\nHyneken: -0.7258\nGaldon: 0.3856\nGinug: 0.4939\nKassina: 0.8104\nTabori: 0.461075\nThunderrhoof: 0.3802\nXorek: 0.290416666667\nZartaras: -0.351666666667\nShoov: 0.51695\nLerdenarian: -0.2904\nDkjin: 0.8162\nPalemaster: 0.659\nDiscworld: 0.895\nWasga: 0.268733333333\nLuthalor: -0.263142857143\nDrägus: 0.3404\nAndreasffs: -0.5351\nDerza: 0.9785\nAereneha: 0.347\nMatudk: 0.33135\nBanê: 0.61135\nÐoctorbees: -0.400116666667\n"
     ]
    },
    {
     "name": "stdout",
     "output_type": "stream",
     "text": [
      "Berstuk: -0.387\nHugedeal: 0.9352\nNecrotical: -0.34\nRashgarroth: 0.6735\nZachaian: -0.257636363636\nCheesits: -0.596725\nAcaélz: 0.872\nOvertime: -0.8079\nPurifier: 0.7906\nNocylah: 0.908\nAsunje: 0.6114\nDiscobird: -0.296\nFinaso: -0.55545\nMogatroll: 0.9413\nBthem: 0.8377\nWatchmetrap: 0.6875\nSouenryu: 0.3818\nThwarin: -0.9393\nMacleodros: 0.7783\nGteezie: 0.8358\nSchizoid: -0.112475\nAkì: 0.514525\n"
     ]
    },
    {
     "name": "stdout",
     "output_type": "stream",
     "text": [
      "Môèè: -0.3631\nAngeelicus: 0.25225\nExoozen: -0.00435\nDekahr: 0.3306\nZonthuur: -0.5994\nHaoxiong: 0.260133333333\nXstasea: 0.0276527777778\nAbominabilis: -0.5719\nTateybread: 0.44695\nDomx: 0.40505\nAbraxaes: -0.359483333333\nBigiel: 0.7132\nDrae: -0.325\nAzeron: -0.1316\nAdvanced: 0.4215\nSighuman: 0.69\nStarkness: 0.4939\nBootyjuice: -0.8074\nKaizo: 0.612585714286\nObelisk: -0.8316\nBlightreaper: 0.3774\nShingekí: 0.9417\n"
     ]
    },
    {
     "name": "stdout",
     "output_type": "stream",
     "text": [
      "Whosyp: -0.402866666667\nLazlunaar: 0.4377\nCarnivoze: -0.4477\nMyté: -0.52515\nZorka: 0.3805\nDhallia: -0.8964\nCaédes: 0.4813\nÐayne: 0.41125\nVesuvius: -0.5265\nKoeleskabet: 0.4404\nMabb: -0.5680375\nArtêmis: 0.3682\nForbiidden: 0.6498\nNavhkrin: 0.43475\nHeleva: 0.5658\nFrostblíght: 0.49655\nRexbex: -0.296\nTergid: -0.3018\nAriakan: 0.8813\nLockaflocka: -0.5719\nZackarius: 0.312866666667\nMobgoblin: -0.48355\nGriff: -0.891\nMurgash: -0.5232\nTaurlordz: 0.68185\nXinstal: 0.4585\nRathiór: 0.47315\nKlöppelhans: 0.29984\nSyl: 0.2553\nTaigerblood: 0.2502\nFourtrinkets: 0.2732\nWellmetxd: 0.57791\nDanskén: 0.2975\nNyphelim: 0.4922\n"
     ]
    },
    {
     "name": "stdout",
     "output_type": "stream",
     "text": [
      "Drartul: 0.1214\nCorrupting: -0.3847\nKashendra: -0.9849\nKurosu: 0.3927\nSlanêêsh: 0.324366666667\nComwell: 0.27815\nIzilla: -0.61815\nRichietugnut: -0.5992\nTaneriel: 0.2574\nNalraki: 0.45168\nSverkir: -0.3149125\nAbyssius: 0.2846\nJenifurpls: 0.6833\nNzelm: 0.41518\nBrassy: -0.4536\nChrozor: -0.024075\nZaghon: 0.738\nTurgid: 0.29335\nVailanis: 0.54785\nTihac: 0.3953\nWraithinia: -0.7519\nMefjus: 0.35535\nZregski: 0.8748\nNervóus: -0.7246\nTeebufall: -0.5366\n>>>\n>>>Progress: 3250/4340\nEbonmar: -0.3071\n"
     ]
    },
    {
     "name": "stdout",
     "output_type": "stream",
     "text": [
      "Mallorox: 0.305837362637\nMalazâth: 0.277825\nKalrea: -0.3568\nQuerion: 0.6725375\nGreave: 0.8834\nAphexis: 0.325\nTallys: 0.306466666667\nMekiwa: 0.4995\nDøde: 0.1\nEathelin: -0.29565\nDkbloodshed: 0.3294\nSlanzer: -0.3066\nTailborn: -0.263266666667\nDeadduchess: -0.9477\nEvania: 0.418371428571\nDoffý: 0.4927\nNaynay: -0.5708\nSendern: -0.364366666667\nKteh: 0.6875\nÓdessit: 0.6488\nRenekke: 0.8625\nSleeprest: 0.7964\nBankabanana: -0.2517375\nRaarrgh: 0.0674\nErébus: 0.46045\n"
     ]
    },
    {
     "name": "stdout",
     "output_type": "stream",
     "text": [
      "Elenwyn: -0.568225\nKoudbeap: 0.8207\nChaosly: 0.296\nElaenore: -0.4199\nDelhrak: 0.55545\nRudybloody: 0.4767\nArkibald: 0.4593\nIliar: 0.9029\nUdargjin: -0.537175\nEllipsìs: -0.4748\nSavebilly: -0.5546\nVidlana: -0.29145\nKiarn: -0.482266666667\nDuhski: 0.260233333333\nMoriar: 0.275433333333\nÈvelìn: 0.477675\nGrimdaal: 0.563125\nLyanne: 0.2617\nAquilion: -0.5423\nPlaguelady: 0.372325\nSlutknight: 0.8904\nFelnore: 0.5106\nFrozenfangs: -0.413625\n"
     ]
    },
    {
     "name": "stdout",
     "output_type": "stream",
     "text": [
      "Runicfrost: 0.3121\nSancta: 0.575\nAzinò: 0.7198\nKreeve: -0.6007\nThêkid: 0.31944\nMorfanel: -0.39715\nZorpheus: 0.3102\nDave: 0.9826\nGeráld: -0.29795\nCatsword: 0.2576\nZuthius: 0.425975\nTinkrish: 0.31245\nRfaa: 0.3643\nVerknuspert: -0.3111\nЙцуяя: 0.4061\nAkuji: 0.3612\nKunshaa: -0.4078\nPoundfist: -0.4939\nIleet: -0.04045\nXénu: 0.8832\nKainston: -0.8533\nFallén: 0.3021\nDjtrashcan: -0.807\nDëàth: 0.362225\nSzayel: -0.29505\nMasshysteria: -0.440275\n"
     ]
    },
    {
     "name": "stdout",
     "output_type": "stream",
     "text": [
      "Maxillion: -0.3595\nTeresâ: 0.4774\nNadu: -0.32715\nFled: 0.301666666667\nRaewyn: 0.26335\nSordurar: -0.8759\nLynta: 0.33855\nObliterater: 0.4752\nGgnore: -0.0242\nRanankar: 0.28135\nSuccumb: 0.5075\nAzriyel: -0.4647\nHolycappy: 0.3387\nShaguar: 0.172825\nMollytje: 0.2541\nEpicfailugy: -0.7582\nBrummbär: 0.7263\nNecrofest: -0.6526\nWussie: 0.56975\nBbøypärädice: 0.37015\nKealtair: 0.7717\nVläd: -0.9321\nMazuga: 0.31785\nPrebijach: -0.37652\nKioma: -0.3818\n"
     ]
    },
    {
     "name": "stdout",
     "output_type": "stream",
     "text": [
      "Coldsteel: 0.296\nAnubís: 0.9042\nValdarimm: -0.256075\nKorkesh: -0.7363\nCalacus: -0.5423\nMüzgü: -0.333166666667\nHauorn: 0.4072\nInfectsalot: 0.653066666667\nDednite: 0.41035\nTethyr: 0.284666666667\nXstasheep: 0.51405\nHuntoord: 0.474966666667\nThanitos: 0.5572\nAnubisaths: 0.4003\nPunger: 0.6678\nReddocc: -0.3916\nPrøtpala: 0.4404\nGoldoonn: 0.3958\nMollismeni: -0.069075\nEnherji: 0.4497\nDeathwhisper: 0.5106\nCalufur: 0.360183333333\nDenix: 0.4359\nKyteh: -0.43392\n"
     ]
    },
    {
     "name": "stdout",
     "output_type": "stream",
     "text": [
      "Batriel: 0.474492307692\nLbj: 0.31845\nAgimeres: 0.5894\nVelnira: 0.613966666667\nChillbane: 0.612466666667\nRotcake: 0.2837\nChiller: 0.39376\nKámu: 0.6142\nAelthanas: -0.6998\nNeeli: 0.3612\nMortia: 0.310176470588\nAllarie: -0.333047058824\nFenleenao: 0.4926\nRutic: 0.572233333333\nVédma: 0.281166666667\nBerrybarry: -0.4939\nTála: 0.572725\nDorethien: 0.349125\nShinigamí: 0.8765\n"
     ]
    },
    {
     "name": "stdout",
     "output_type": "stream",
     "text": [
      "Áléría: -0.5574\nRainedtbh: 0.3183\nRunefaust: 0.72455\nHarricke: 0.5994\n>>>\n>>>Progress: 3500/4340\nRoxygon: 0.324233333333\nDeathmetal: 0.44738\nAbrakkar: -0.317114285714\nTakeyourtime: 0.7723\nVytari: 0.8008\nTherinea: 0.5238\nNeiel: 0.722\nMekky: 0.2552\nAzrayeel: 0.2897\nShéele: 0.6808\nKisandra: -0.25465\nGrimfeld: 0.50885\nLinero: -0.253411111111\nHeísenberg: 0.8116\nTokado: 0.634225\nGaston: 0.4931\nKelan: 0.9387\nKorvate: 0.490475\n"
     ]
    },
    {
     "name": "stdout",
     "output_type": "stream",
     "text": [
      "Deathgrozger: 0.46354\nDesitra: -0.256133333333\nStórmez: 0.5719\nKanayamaryam: 0.3083\nIwillreku: 0.7066\nBlóódspiller: -0.02685\nAinacair: 0.41125\nVredd: -0.5423\nBlice: -0.5776\nSmokeyegg: -0.66665\nSemikätyri: 0.5764\nMoxemerald: 0.7184\nPombalito: -0.28312\nVideo: 0.6574\nXhaco: 0.79785\nXyloslol: 0.3648\nMirawen: -0.4843\nSawse: 0.34\nSnootchie: -0.41708\nGram: 0.4437\nNeitoperho: 0.4824\nStallios: 0.04765\nTreufus: 0.765\nVassal: 0.263585714286\nNour: 0.5423\nHyugarr: 0.3374\nScárleaf: 0.3774\nStrazael: 0.4767\nVictor: 0.5376\nГлюшенка: 0.4173\nAkuyama: 0.5294\nRocknrollá: 0.3659\n"
     ]
    },
    {
     "name": "stdout",
     "output_type": "stream",
     "text": [
      "Габаров: 0.345495\nChillingear: 0.6997\nCantkillme: 0.581333333333\nSinio: 0.5642\nDarkfix: 0.3931\nImortalios: 0.4048\nVordon: 0.30028\nNadejha: 0.383333333333\nAankar: 0.3536\nSenni: 0.40742\nAelarath: 0.55535\nKaellial: 0.02055\nEdstur: 0.7717\nRooachîe: -0.2997\nTariakh: 0.4968\nRajini: -0.796\nFrostember: -0.6597\nTerankar: 0.714\nCorvina: 0.7089\nAmideád: 0.48845\nYelldar: 0.1486\nQuach: -0.560475\nDraccin: 0.404266666667\nSeptic: -0.2559\nFluuss: 0.472766666667\n"
     ]
    },
    {
     "name": "stdout",
     "output_type": "stream",
     "text": [
      "Ballabird: 0.93815\nShadów: 0.31295\nPhôbetør: 0.34\nLoanel: -0.669084782609\nUnknowny: -0.3818\nSapience: 0.61406\nGuldfesk: -0.9349\nReel: -0.370175\nDeathborne: -0.152433333333\nBarteox: -0.45056\nSvarthe: 0.29635\nEhrencrona: 0.3612\nRagnalock: -0.4215\nZljo: -0.9555\nThörin: -0.7964\n"
     ]
    },
    {
     "name": "stdout",
     "output_type": "stream",
     "text": [
      "Moarrunes: 0.7495\nMalvious: 0.6138\nAmazín: -0.500870634921\nSherkhan: 0.544333333333\nCiyn: 0.8986\nHazalan: 0.6249\nMayuwen: 0.3082\nStrygg: 0.4404\nSoverol: -0.391175\nXarlanthar: 0.61905\nMurgleys: -0.27315\nGráves: 0.644725\nDjibir: -0.3192\nLethalityr: -0.33065\nJääpaketti: 0.678366666667\nKakzak: 0.7783\nKoraboros: -0.588825\nDixrnice: -0.434875\nZymosis: 0.4268\nKrahai: 0.6047\nUmíe: 0.31845\n"
     ]
    },
    {
     "name": "stdout",
     "output_type": "stream",
     "text": [
      "Ragaash: -0.8222\nWoevick: -0.2887\nSlyzz: 0.251033333333\nNoggí: 0.6663\nWorldboss: 0.3404\nKhagalat: -0.8439\nKoltir: 0.269275\nNavhkrinn: 0.8074\nSlaystation: 0.29635\nNîcole: 0.49775\nUruk: 0.3548\nScøurge: 0.5719\nAethyioa: 0.9216\nEverson: 0.308375\nLarrz: 0.4767\nExcrementa: 0.296\nLyryxia: -0.471233333333\nRerrandra: 0.3078\nGekkonn: 0.79865\nTuubal: 0.518066666667\nФеминиджи: 0.44895\nHatedemon: 0.1133375\n"
     ]
    },
    {
     "name": "stdout",
     "output_type": "stream",
     "text": [
      "Tyraxes: 0.58925\nVioletmoon: -0.4391\nInsanitylol: 0.4418\nDraganarius: 0.582633333333\nLancette: 0.0624\nKâska: 0.2534\nPowerfulwiz: 0.44965\nAgéntsmith: 0.9251\nÀrthäs: -0.5267\nThethickness: 0.296657142857\nKyler: 0.3811\nVathir: 0.00383333333333\nFriea: 0.26484\n>>>\n>>>Progress: 3750/4340\nDeeg: 0.3838\nËvelìn: -0.3956\nUzziro: -0.5975\nMegazia: 0.4508\nWhitefluids: 0.4215\n"
     ]
    },
    {
     "name": "stdout",
     "output_type": "stream",
     "text": [
      "Bossi: 0.467825\nXadidk: 0.3397\nDemíse: 0.325633333333\nDeadhorus: -0.393333333333\nFarora: -0.4227\nUenon: 0.4954\nFiftyfive: 0.358933333333\nTausaurus: 0.5719\nLachdanon: 0.3082\nNoomers: 0.6548\nNjorgandr: 0.2787\nDarkdlver: 0.7434\nNarstie: 0.36205\nSetheria: -0.32885\nJagerwarrior: 0.41135\nMalgur: 0.87285\nArathon: -0.836\nMokpa: 0.433266666667\nGado: 0.0984285714286\nLloretta: -0.4607\nPhalandor: 0.469625\n"
     ]
    },
    {
     "name": "stdout",
     "output_type": "stream",
     "text": [
      "Nakaburok: 0.7335\nProfox: -0.69545\nVardun: 0.9346\nNareida: -0.0928\nGarmesh: 0.0192\nAzrael: 0.4404\nKurasa: -0.2923\nMinxy: 0.9762\nSeikyo: 0.254283333333\nFyhr: -0.3849\nIburnz: 0.37404\nBrunsausen: -0.59465\nLuffy: 0.26045\nAspershield: 0.453533333333\nCarlfwolf: -0.3818\nWicked: 0.440466666667\nAleit: 0.360466666667\nDrudgery: 0.32785\n"
     ]
    },
    {
     "name": "stdout",
     "output_type": "stream",
     "text": [
      "Draylock: 0.374425\nInfernalfame: 0.421775\nKvitrafn: 0.8856\nAzraleth: -0.416453846154\nRwqrqw: -0.6705\nEvelîn: -0.67605\nTaurenkrizz: 0.9782\nXentrus: 0.35896\nGroktah: 0.5994\nMelthazina: 0.0100068181818\nEmofrog: 0.449\nTodoran: 0.7391\nLevril: -0.743\nValdred: -0.608366666667\nSenpaî: 0.4179\nPlúsy: -0.347875\nRúnarc: 0.836\nSàuron: -0.3182\nGlupson: 0.48385\nGorethaz: 0.75875\nManfredjones: 0.3404\nTurandot: 0.438433333333\nZaemonuemoch: 0.4271\n"
     ]
    },
    {
     "name": "stdout",
     "output_type": "stream",
     "text": [
      "Hegzer: -0.6037\nDantê: 0.331775\nMoserah: 0.45305\nInserva: 0.32615\nRèlic: -0.4703\nSacranos: 0.34\nÊldritch: 0.70935\nPrïsm: 0.35405\nSchoachim: 0.4939\nYozo: -0.4285\nDeadbreed: 0.6576375\nAeslin: 0.78675\nEaffair: -0.424902083333\nTenebrium: 0.4243\nXylja: -0.4215\nFrozenfruit: 0.9506\nAphrodìté: -0.94315\nElack: 0.0281916666667\n"
     ]
    },
    {
     "name": "stdout",
     "output_type": "stream",
     "text": [
      "Kuntzee: 0.6908\nGalarion: -0.2578\nNirvia: 0.6361\nWildlive: 0.5571\nThebecchino: 0.9664\nLladya: 0.000816666666667\nSunuwar: -0.559766666667\nXufer: 0.4404\nVenteta: 0.9262\nLupius: -0.33745\nGlejpner: -0.35585\nRird: 0.259775\nZmaychek: 0.52885\nSaivara: 0.8468\nIkerius: 0.2732\nFrozenknight: -0.52245\nHepatitus: 0.3612\nBeyondts: 0.8458\nAxtros: -0.2535\nFrostidude: 0.4939\nEreziah: -0.38875\nDeeble: 0.64925\nDeathfist: 0.138975\nKayte: -0.9227\nSeriousless: -0.4939\nOoul: 0.388633333333\n"
     ]
    },
    {
     "name": "stdout",
     "output_type": "stream",
     "text": [
      "Laín: -0.26585\nSkido: 0.42255\nFershie: -0.27085\nMightywombat: 0.8169\nBeonar: 0.47445\nCalopsya: 0.45415\nTalszbet: 0.4404\nOrcporks: 0.83785\nYpung: -0.3207\nFrostman: 0.8137\nSgtdeath: 0.3566\n"
     ]
    },
    {
     "name": "stdout",
     "output_type": "stream",
     "text": [
      "Inuba: 0.04329\nBabakï: 0.4404\nSpencer: 0.3918\nMolaag: -0.5574\nKellei: 0.4155\nApheon: 0.63645\nUmadbrah: 0.5106\nKeeill: 0.7722\nDextor: 0.752816666667\nHarriett: 0.5023\nUnholybolt: -0.29395\nAntenora: -0.6057\nNathrizarri: 0.7227\nLastsentinel: -0.6769\nWormlord: 0.9011\nWennix: 0.62595\nFrostsworn: -0.917\nMurath: 0.3825\nGuttri: 0.296\n>>>\n>>>Progress: 4000/4340\nClowncrusty: -0.8869\nGrxkas: 0.5077\n"
     ]
    },
    {
     "name": "stdout",
     "output_type": "stream",
     "text": [
      "Morgause: 0.43148\nHomeboypeter: -0.765\nYrulan: -0.36485\nRinnve: -0.74595\nNineties: 0.518925\nElsliverleaf: 0.744\nDethlok: 0.6145\nUmrak: -0.3234875\nClymidia: 0.287733333333\nTírión: 0.7971\nArcten: -0.89\nKuroyaksha: 0.6705\nMaldrum: -0.148175\nLugerz: 0.486475\nBobslee: 0.2919\nSkillgrip: -0.2787\nPookee: 0.571\nDerríckróse: -0.26485\nSaedlak: 0.42775\n"
     ]
    },
    {
     "name": "stdout",
     "output_type": "stream",
     "text": [
      "Cronaki: 0.3139\nSaftn: 0.257916666667\nKyúk: 0.286433333333\nApokalypze: 0.35915\nAbacinate: 0.858\nDeathral: -0.2858\nOpusmek: 0.70295\nRespire: 0.7674\nMethuzahla: 0.4622\nAlcho: 0.8765\nSindaheal: 0.9001\nMakinho: 0.41846\nVm: 0.48225\nSoilwork: 0.37205\nSpunkmeyer: 0.55805\nLugia: 0.0612333333333\nTiriha: 0.257183333333\nLakutus: 0.62755625\n"
     ]
    },
    {
     "name": "stdout",
     "output_type": "stream",
     "text": [
      "Allout: -0.28915\nSikoly: -0.7964\nJkér: 0.33268\nKashon: -0.351466666667\nLinkedblood: 0.6367\nLarts: -0.128975\nShuckle: -0.3818\nMíldor: 0.332730769231\nDjdeathspank: 0.7952\nChewsday: -0.401585714286\nDarthwind: 0.6486\nExenfae: 0.439225\nNekrah: 0.40985\nToyouke: 0.276357142857\nXendrith: 0.3813\nMosaru: 0.3612\nElvenzeek: 0.3841\nFãßûløüsxø: 0.251\nZárthas: 0.45205\nZensarok: 0.433075\nAlysdair: 0.0587083333333\nRayland: -0.705\nSalaeith: -0.268\nDrayiicha: 0.567225\nZandall: 0.61985\nZenaphin: -0.6037\nNecronx: -0.685475\nNecrowillyac: 0.4404\nMelanthia: -0.264033333333\nLawc: -0.9275\nFaralet: -0.5508\nJayce: 0.4588\nVrek: -0.3286\nVanaxarion: -0.8302\nPietri: 0.6696\nXeptic: -0.25398\nIshwish: -0.9468\nGemmaker: 0.5629\nGotcha: 0.4008\nSelandra: -0.7906\nCvetelina: 0.3506\n"
     ]
    },
    {
     "name": "stdout",
     "output_type": "stream",
     "text": [
      "Rixis: 0.8225\nAinarien: -0.38076\nNasranejdk: 0.11115\nSnayk: -0.506\nTappotumppi: -0.25435\nSwagzílla: 0.5147\nZmaychex: 0.87145\nBodom: -0.5291\nAllmeria: 0.31845\nSungraze: 0.47875\nBleakiss: 0.6597\nBarock: 0.1805\nPopidge: 0.33484\nPythaganos: 0.674\nWinterpwnd: -0.474175\nPhoenixium: -0.256366666667\nBonershield: 0.1442\nTjoening: 0.47775\nRénnz: 0.0\nAerrir: -0.25365\nPiromysl: -0.0408\nMijaki: 0.6332\nPunany: 0.772166666667\nZauru: -0.4778\nSeregorn: 0.42465\nßloodßaße: 0.4404\nValkryss: 0.7717\n"
     ]
    },
    {
     "name": "stdout",
     "output_type": "stream",
     "text": [
      "Clepto: 0.377166666667\nRewoken: -0.373133333333\nForteske: 0.298633333333\nZyrtx: 0.66825\nSensui: -0.33205\nRagganese: 0.26245\nNardeth: 0.569666666667\nMorgooth: -0.6818\nDotsfx: -0.4835\nAristides: 0.409475\nTaril: 0.060115\nGobì: -0.330085714286\nAragirl: 0.0195\nIrcheffypoo: -0.0593\nVolttaar: 0.27995\nDarkmite: -0.60223125\nГаррил: -0.5542\nCaedmos: 0.6597\nZilent: 0.84545\nAxelstorm: 0.31736\nBejs: -0.3182\n"
     ]
    },
    {
     "name": "stdout",
     "output_type": "stream",
     "text": [
      "Doge: 0.59235\nLevhunt: -0.429425\nDekata: 0.6239\nZolißá: 0.286807692308\nTobias: 0.4215\nBrawlie: 0.316\nPupster: 0.2628\nTofu: -0.615933333333\nRegergek: 0.7269\nNeviel: 0.31735\nAshenbreath: -0.097625\nRapidor: 0.5661\nIloveenya: 0.28135\nDeekutar: 0.402425\nAlacritus: 0.2709\nHawkthorne: 0.6315\nExyth: 0.7684\nÐaniel: -0.578533333333\nGrauduse: 0.3454\nDinake: -0.289566666667\nAsedas: 0.51225\nShognar: -0.2897\n"
     ]
    },
    {
     "name": "stdout",
     "output_type": "stream",
     "text": [
      "Hayzed: 0.4275\n>>>\n>>>Progress: 4250/4340\nVèximus: 0.32745\nKaftoy: 0.483133333333\nJadiss: -0.6486\nZitpopper: -0.3544\nPreview: -0.3818\nWalsky: -0.3167\nGorehog: 0.9051\nBarastyr: -0.27065\nZacnafein: 0.4515\nGelidus: 0.309666666667\nWarfiend: 0.7579\nKrónog: -0.6249\nNìcky: 0.3062\nImperivus: 0.4927\nMidgetmagic: -0.8437\nZepps: -0.0085\nRevengeance: -0.0265\nImmortall: -0.254\nNatharya: -0.4468\nPericlltor: -0.273733333333\nHallow: 0.4633\nBorbatinto: 0.3612\nDeathbytitz: 0.3527\nHraga: 0.48765\nBhairava: 0.3365\nDamioz: 0.353\nEdotensei: 0.8905\nInstïnct: 0.34\nMortarrion: 0.518166666667\n"
     ]
    },
    {
     "name": "stdout",
     "output_type": "stream",
     "text": [
      "Dreadmight: 0.4372\nSeung: -0.7234\nSilversword: -0.5772\nKneffus: 0.451166666667\nCroder: 0.266866666667\nYjor: 0.4053\nMassmurderer: 0.6400625\nChogar: -0.516066666667\nMcnaxll: -0.25115\nAntiface: 0.8176\nPandemonium: -0.28195\nDeposition: 0.2553\nNecuro: -0.0307283333333\nManbeárpig: 0.3823\nUnholyknight: 0.413975\nCathwoman: 0.6647\nJawzy: 0.301975\nNabu: -0.5117125\n"
     ]
    },
    {
     "name": "stdout",
     "output_type": "stream",
     "text": [
      "Kvitrafnx: -0.978\nSyveli: 0.47355\nTanyria: 0.6927\nKiqjaq: -0.276\nLucà: -0.818233333333\n***\n** Death Knight pve: 0.149727206722\nDeath Knight pvp: 1268\nKayte: 0.2695\nAnomalous: -0.7964\nDextor: 0.285866666667\nEbonmar: 0.1364125\nSkaraton: -0.3318\nKalrea: 0.377522222222\nMitts: 0.2672\nAphexis: 0.4417\nConception: -0.4906\nÉvelîn: 0.3715\nMurm: 0.7096\nEfrite: 0.3172\nTethir: -0.4496\nDeadduchess: -0.284575\nEilith: 0.417266666667\nDogyz: 0.2757\nCharilock: 0.295414285714\nÑërôx: -0.33904\nUntaraél: 0.8479\nБаграмян: 0.53102\nSleeprest: 0.4404\nHanenor: -0.446875\nDjenghis: 0.64265\nCyrisela: 0.6369\n"
     ]
    },
    {
     "name": "stdout",
     "output_type": "stream",
     "text": [
      "Rakkhan: 0.410683333333\nRihannah: 0.3266\nDuffy: 0.42595\nIcebane: 0.4404\nIamtheattack: 0.311266666667\nVaeyn: 0.6002\nGraufenstein: 0.0125\nDelhrak: -0.4404\nZhynne: -0.4767\nDayyka: 0.7717\nLarthur: 0.73\nHauorn: 0.26505\nBugknight: -0.8126\nUdargjin: -0.49492\nAibiz: -0.59405\nMåus: 0.6369\nTarokk: 0.34395\nEpicly: 0.03965\nTassur: -0.398266666667\nChrozor: 0.55655\nStranger: -0.658383333333\nRaykim: -0.77\nGrubfoot: -0.7825\nHelwinter: 0.5766\nNekrah: 0.7269\nThereatwo: -0.28838\nSlukson: 0.3644125\nNís: 0.549575\nRunicfrost: 0.257825\n"
     ]
    },
    {
     "name": "stdout",
     "output_type": "stream",
     "text": [
      "Sixpackdrums: -0.29214\nEzekíel: 0.569242307692\nDesecrated: 0.7154\nAzinò: 0.56545\nFrostfoxi: -0.6325\nSinatos: -0.5171\nWormlord: 0.982\nIlyania: -0.30465\nFinisher: 0.7506\nFrostgank: 0.4404\nCakeinface: -0.409708333333\nGeráld: 0.33626\nGasthejews: 0.6249\nEryan: 0.47594\nBôby: 0.269366666667\nMhyas: 0.3612\nMelonfuzz: 0.4588\nNëmain: 0.58555\nMedinah: 0.5775\nRotflap: 0.502925\nTragga: 0.55\nFallén: 0.360225\nSeraphel: 0.765\nDjtrashcan: -0.2104\nGravetouch: 0.05795\nSeregorn: -0.42975\nKteh: -0.676466666667\nDreadhôôf: -0.7391\n"
     ]
    },
    {
     "name": "stdout",
     "output_type": "stream",
     "text": [
      "Prosít: 0.69\nSaraga: -0.36345\nRunárc: -0.1131\nDrayos: 0.296925\nFled: 0.9881\nDïablô: 0.6369\nGrizzlechin: 0.300133333333\nSynixer: -0.30368\nSuccumb: 0.469633333333\nBarke: -0.45055\nDzerok: 0.412566666667\nDumpgubbler: 0.3612\nAeronwen: 0.34735\nDeepsheep: -0.4158\nIcycola: -0.5739\n"
     ]
    },
    {
     "name": "stdout",
     "output_type": "stream",
     "text": [
      "Sorrowcaster: -0.337\nHennyx: 0.5889\nVarjostaaja: -0.26595\nßùù: 0.9074\nDesecrator: -0.39616\nPangboss: 0.33176\nKlegane: 0.7096\nWalentinex: 0.26986\nAnaariel: 0.5374\nNickolps: -0.73395\nDestrauntais: 0.291071428571\nShaguar: 0.311433333333\nWandlamp: 0.28775\nMilaky: 0.4019\nImurpapa: 0.4019\nKyteh: -0.4588\nSollicitus: -0.6394\nLollerboller: -0.8955\nGaahl: 0.324375\nIareth: 0.4417\nElpolakoo: 0.8381\nRithiel: 0.3403\n"
     ]
    },
    {
     "name": "stdout",
     "output_type": "stream",
     "text": [
      "Slutknight: -0.66275\nHunteroulaki: 0.565375\nValgris: 0.2944\nChaosgrunt: 0.368\nDamnmate: 0.5999\nDurissimus: 0.38775\nKunja: 0.3695\nBobhardpecs: -0.4003\nPunger: 0.4071\nThetracer: -0.8957\nReddocc: 0.66975\nNuci: 0.31705\nMaelboja: -0.2779\nSkilletína: 0.5719\nShiroz: -0.3404\nTattarpippi: 0.69995\n>>>\n>>>Progress: 250/1268\nZoliaxen: 0.7378\nAnarchìa: 0.40405\nTwistedlight: 0.3295\nGordas: 0.34575\nJoeysoap: -0.296\nBourousis: 0.3062\nFacemeat: 0.2788\nAmdesius: 0.32765\nAngelus: -0.5994\nReaaver: 0.291966666667\nPlatefist: 0.5568\n"
     ]
    },
    {
     "name": "stdout",
     "output_type": "stream",
     "text": [
      "Julosch: 0.467983333333\nBalphagoria: 0.326525\nLøre: -0.9796\nVédma: 0.281433333333\nChillingear: 0.81325\nNalraki: 0.431\nTrámpoline: -0.4057\nDorethien: -0.6247\nNéwt: -0.8972\nJesi: -0.62765\nShinigamí: 0.64315\nÁléría: 0.4939\nRencarex: 0.33755\nDexaff: 0.285625\nFushi: 0.375375\nPharaah: 0.8818\nSívér: -0.5859\nHarricke: -0.4939\nNazhgul: -0.7915\nRedemptiion: -0.275283333333\nRiplela: 0.3902\nRocksólid: 0.37478\nLejl: -0.35345\nNarali: -0.55545\nDiscobird: 0.37714\nZenaphin: -0.4223\nArxelas: 0.30575\nRaakkh: 0.45343\nZórlak: 0.4157\nZedragonbane: 0.342155555556\nSankei: -0.4215\nÐarkingz: 0.5106\n"
     ]
    },
    {
     "name": "stdout",
     "output_type": "stream",
     "text": [
      "Boringlance: -0.4767\nMerkith: 0.3904\nIss: 0.55545\nAtropus: -0.51765\nLksnn: -0.3877\nShamanoss: 0.5647\nAracnophobia: -0.172791666667\nWatchmegrip: -0.3494\nNorthug: -0.3235\nMéatwall: 0.30235\nCoffeeman: 0.4389\nPopje: -0.327566666667\nArkar: 0.48245\nBeleni: 0.4824\nBryanxoxo: 0.29295\nBlóódspiller: 0.4088\nEraladrox: 0.3702\nKaane: -0.3182\nZombae: -0.5719\nKiiljah: 0.50635\nSmokeyegg: -0.3698\nAshiraya: 0.38424\nAlkizon: 0.6858\nCievek: 0.43095\nChopen: 0.330788888889\nFistsoffury: -0.6782\nYama: -0.55045\nXhaco: 0.45895\nMaxpimpin: 0.542975\nBallilxam: 0.306\nRaakh: -0.10705\nDenzay: 0.8225\nSnootchie: 0.3818\nPrncssdup: 0.27115\nAmbjörn: 0.5791\nAngmaar: 0.37955\nDolyak: 0.802\nDreadmight: 0.8011\n"
     ]
    },
    {
     "name": "stdout",
     "output_type": "stream",
     "text": [
      "Ooul: 0.25465\nEdworgcullen: -0.3712\nShadowmourne: 0.6124\nSmittorisk: 0.81185\nKadjitsu: -0.6408\nGilletta: 0.8248\nБракус: 0.5445\nAtermon: -0.0989\nDelfen: -0.8329\nHuggstah: 0.3251625\nTékkérs: 0.2817\nDeltadk: -0.2757\nNadejha: -0.4718\nßelleclaire: -0.5693\nSwiftstream: 0.4427\nNimzana: 0.9776\nEndoralol: 0.4588\nImpøssible: -0.007275\nTerankar: 0.5445\n"
     ]
    },
    {
     "name": "stdout",
     "output_type": "stream",
     "text": [
      "Stalima: -0.3597\nTherakin: -0.3179\nMelvinftw: 0.4261\nNikerto: 0.311\nCorpulax: -0.4588\nKorangar: -0.281166666667\nQuach: 0.3728\nGuldfesk: 0.765\nBrida: 0.62705\nHasslehøøf: 0.867\nShadów: 0.8166\nFaxes: 0.9402\nBlastz: 0.63145\nHafnia: -0.31438\nFamily: -0.68075\nElvadia: 0.745475\nRhawen: 0.447425\nTrenchhead: 0.3818\nDeathborne: -0.5423\nBoneflayer: 0.296\nDkdonkey: 0.6865\nCmere: -0.4939\nNèmo: 0.533566666667\nFrodomir: 0.486291666667\nPapshmir: 0.4833\nIndicaqt: 0.6448\nJúdgey: -0.391075\nDespina: 0.3346\nDaevva: -0.7096\nLeeonidas: 0.4215\nPlayed: 0.4019\n"
     ]
    },
    {
     "name": "stdout",
     "output_type": "stream",
     "text": [
      "Verony: 0.4003\n>>>\n>>>Progress: 500/1268\nCroode: 0.3182\nCiyn: 0.11055\nNecromania: -0.27055\nLefthanded: -0.329266666667\nMikkelsén: -0.3818\nAgeca: 0.57125\nMerathin: -0.3241\nZas: 0.257933333333\nLoxaerion: -0.4329\nStrife: -0.5256\nPocketdeath: -0.29945\nWaruk: 0.5106\nOrdinator: -0.2732\nRobóbro: -0.1989\nSoulboundz: 0.51482\nFilnaen: 0.9308\nZeleik: 0.353\nXarok: 0.2609\nZalrea: -0.705\n"
     ]
    },
    {
     "name": "stdout",
     "output_type": "stream",
     "text": [
      "Matharias: 0.324925\nRagaash: 0.2577\nMisanthrope: 0.7538\nElundryel: 0.306633333333\nHagbean: 0.34\nRiverolf: 0.45855\nEsa: 0.501275\nStaggs: -0.30856\nZibor: 0.575733333333\nAthrosh: 0.00362916666667\nSkrauhg: 0.32875\nUruk: 0.270933333333\nBitterness: -0.41995\nDeadbreed: 0.2969\nKrónen: 0.5093\nHrugoth: 0.4014\nDarkdavidzee: 0.9136\nSollix: 0.42655\nAbrakkar: 0.5927\nElvanos: -0.6284\nRastadeath: 0.9389\nXekus: 0.67515\nËlsa: 0.4215\nAcelius: -0.8488\nIusedtochew: 0.6537\nPlaguemaster: -0.309833333333\nDrahkaro: 0.922\nIgniter: -0.4767\nTriø: 0.024875\nRedgy: -0.38865\nLöpo: 0.386957142857\n"
     ]
    },
    {
     "name": "stdout",
     "output_type": "stream",
     "text": [
      "Chrosis: -0.603\nFelcannon: -0.3875\nDeathmorning: -0.3083\nGazar: -0.3906\nNecrophat: 0.8029\nCrode: 0.1569625\nAkamel: -0.8936\nHollowed: -0.9837\nBlightbeard: 0.360575\nVahx: 0.348366666667\nZoldrage: 0.9343\nRielle: -0.499\nSefirod: 0.3172\nDkjävel: -0.57525\nAwwsorry: 0.475025\nËvelìn: -0.0815625\nScourged: 0.8632\nKassina: 0.64995\nMnemara: 0.2691\nWraith: 0.7034\nHakuteiken: 0.61115\nYêvon: 0.494733333333\nInstïnct: -0.8274\nBonnieroten: 0.4767\nPandora: 0.7233\nCrønøs: -0.5994\n"
     ]
    },
    {
     "name": "stdout",
     "output_type": "stream",
     "text": [
      "Evida: 0.413433333333\nTobiás: 0.425175\nNightplague: -0.29295\nSusannia: 0.7543\nPansarplåt: 0.72055\nMelthas: -0.6086\nRichietugnut: 0.52895\nGrimgor: 0.4295\nKronkor: 0.3456\nEnosya: 0.6265\nKadie: 0.2553\nTriandis: -0.25365\nSteelskindc: 0.303333333333\nKogarasu: -0.6637\nVengerous: 0.959\nNoth: 0.26195\nMazan: 0.404225\nXiaven: 0.4427\nAríon: -0.0259761904762\n"
     ]
    },
    {
     "name": "stdout",
     "output_type": "stream",
     "text": [
      "Ancientfrost: 0.64475\nЗлойдикей: 0.111683333333\nKaylan: -0.7003\nBulawl: 0.3352\nTheriginator: -0.347633333333\nSoullreaverr: 0.3066\nTuulan: 0.074975\nTausodoy: 0.2972\nÐevastate: 0.3351\nStrongjohn: 0.615266666667\nDeestruction: 0.0459875\nZephius: -0.470075\nChillbane: 0.427333333333\n"
     ]
    },
    {
     "name": "stdout",
     "output_type": "stream",
     "text": [
      "Vibron: -0.6806\nZoúnkla: 0.9638\nQrmas: -0.624033333333\nPlúsy: 0.31365\nLarloch: -0.409675\nSulin: 0.45355\nDamaskinos: -0.269342857143\nDeathfriend: 0.402725\nShandreal: -0.426633333333\nSylverwen: -0.821\nSháenna: 0.4221\nRyuudavve: 0.31845\nTidorro: -0.6597\nMafaldekas: 0.569833333333\nAdrialle: 0.455775\nPredlùlz: 0.383742857143\nChaxx: -0.3429\nBellamorte: 0.9134\nYozo: -0.4033\nHehr: -0.5768\nZeusaijin: 0.34285\nNecro: 0.714\nKarashka: 0.4939\nXiore: -0.5994\nValherü: -0.148925\n"
     ]
    },
    {
     "name": "stdout",
     "output_type": "stream",
     "text": [
      "Hristoslaptr: 0.6076\nPetroni: 0.2787\n>>>\n>>>Progress: 750/1268\nTerryworgén: 0.4404\nJengul: 0.494525\nHegzer: 0.26995\nKryptonian: -0.5859\nRetier: -0.4201\n"
     ]
    },
    {
     "name": "stdout",
     "output_type": "stream",
     "text": [
      "Vymeza: 0.288871428571\nSoméoné: 0.703\nKojhuiyte: -0.65975\nAlatristë: 0.57675\nAphrodìté: 0.7906\nArkal: -0.7351\nVileox: 0.395225\nDesolve: 0.47325\nNecrofenix: 0.7687\nSunuwar: 0.89775\nKillyox: 0.3454\nXufer: 0.421666666667\nXdaddy: 0.7345\nZilpui: 0.7003\nGallagor: 0.61865\nRovver: -0.311166666667\nUmadbrah: -0.4497\nLúnrà: 0.4939\nDorsha: 0.42518\nSlaggeh: -0.8866\nZephos: -0.3901\nTrimack: -0.0118375\nEreziah: 0.277225\n"
     ]
    },
    {
     "name": "stdout",
     "output_type": "stream",
     "text": [
      "Vaelrun: 0.3342\nPlaguemane: -0.3604\nDagamoth: 0.310875\nDecaisy: 0.44855\nThjazì: -0.35445\nAbôlisher: 0.3241\nUland: 0.6856\nAppelboom: 0.31845\nCirkus: 0.45625\nFlashfìre: 0.5106\nSkido: -0.01655\nDust: -0.2788125\nGlaw: 0.335483333333\nFrozik: -0.47756\nValsheres: -0.02465\nDeathwalk: 0.3559\nKlaffe: 0.25568\nAxelstorm: -0.60605\nBeaniel: 0.7998\nCastiel: 0.037\nCorgi: 0.8679\nTuledk: -0.4019\nSeleniele: 0.8074\nHavóc: 0.34\nDeathhoix: 0.445933333333\nRevan: -0.4089\nEvelin: 0.512433333333\n"
     ]
    },
    {
     "name": "stdout",
     "output_type": "stream",
     "text": [
      "Fuzzah: -0.70815\nKemii: -0.58345\nTenpi: 0.300825\nThisnthat: 0.8044\nDxpachado: 0.2794\nCaralys: 0.3645\nPestilence: 0.434566666667\nAntenora: -0.03932\nMayuwen: -0.432331944444\nBootyjuice: -0.667\nIrisviel: -0.6705\nExemplis: -0.00945\nHopesedge: 0.317566666667\nBloodweiser: 0.8402\nUlaër: 0.64985\nAvnar: -0.41035\nFrostsworn: 0.5994\n"
     ]
    },
    {
     "name": "stdout",
     "output_type": "stream",
     "text": [
      "Skillgrip: 0.6415\nVerestrasz: 0.58935\nIamtheattqck: -0.3673\nShinu: -0.33035\nKáge: 0.390625\nHyunlei: -0.3214\nKhörni: 0.2936\nCryogenian: 0.8932\nInterïtus: -0.4215\nSheltzy: -0.7449\nKuroyaksha: 0.6369\nEystein: 0.45095\nGroggrogge: -0.51565\nBryan: -0.7693\nCaranor: 0.472166666667\nAlastoria: -0.4526\nMobius: -0.3808375\nRayken: -0.6322\nFdgdrtaer: 0.4137\nBillybones: -0.34\n"
     ]
    },
    {
     "name": "stdout",
     "output_type": "stream",
     "text": [
      "Matta: -0.70025\nCrayons: -0.294023529412\nAlchemiczka: 0.4939\nNyxh: -0.8238\nMâlguur: 0.6219\nElfelavaisel: 0.332633333333\nInstaeugen: 0.25445\nKyuubi: 0.2936\nAlnya: -0.418\nHúmús: -0.4218\nAllout: -0.5263\nTyrusaran: 0.5994\nZensarok: 0.5255\nTragar: 0.7319\n"
     ]
    },
    {
     "name": "stdout",
     "output_type": "stream",
     "text": [
      "Grayfóx: 0.076325\nDringoat: -0.3735\nLarts: 0.5994\nDarkrizk: 0.386\nThebasher: -0.5499\nSàuron: 0.4404\nDrèco: 0.9667\nTiagon: 0.9465\nChewsday: -0.4843\nMådnezz: 0.3612\nWxmz: -0.6054\nАмерсх: 0.35875\nDeinhardt: -0.872\nCrosbie: 0.9243\n"
     ]
    },
    {
     "name": "stdout",
     "output_type": "stream",
     "text": [
      "Eboladisease: 0.289766666667\nNecronx: 0.459866666667\nNadreal: 0.49135\nVandrain: -0.342175\nTepel: 0.30595\nShiftrune: 0.3966\nPunzibower: -0.8712\n>>>\n>>>Progress: 1000/1268\nVrek: 0.6061\nGaldon: -0.4019\nMaggelan: -0.53765\nNorsilian: 0.482316666667\nDknynot: -0.7783\nScoot: 0.5849\nBridgey: 0.3725\nThargok: 0.9554\nJaïme: -0.46128\n"
     ]
    },
    {
     "name": "stdout",
     "output_type": "stream",
     "text": [
      "Pàg: 0.4174\nFrostateexam: -0.377445454545\nRorog: 0.3818\nDownbreak: 0.6597\nSaliih: -0.4588\nKedavra: -0.34505\nLaspaso: -0.323785714286\nAccenato: -0.8322\nSonofálich: -0.618275\nRagganmore: 0.743\nNoden: 0.4588\nPrixterman: 0.6369\n"
     ]
    },
    {
     "name": "stdout",
     "output_type": "stream",
     "text": [
      "Aipetikos: 0.5423\nBudiax: -0.327755555556\nCrouchgoth: 0.9165\nComwell: 0.47895\nSàtánâs: 0.6369\nNightsorrow: 0.641\nCripxoo: 0.8271\nRashgarroth: -0.2031875\nBravalo: 0.4215\nDjkarverqtx: 0.401466666667\nPhobrial: -0.6239\nBasiun: -0.5106\nTetanka: 0.0009\nTwann: 0.802\nLuckragol: 0.42195\nDainsleif: -0.3806\nVials: 0.57035\nSnooptroll: 0.25835\nCovertness: -0.26715\nFinaso: -0.4939\nKhaine: 0.378\n"
     ]
    },
    {
     "name": "stdout",
     "output_type": "stream",
     "text": [
      "Довольнософи: -0.4939\nAristides: 0.50505\nUruwashii: -0.7677\nTruèwarlock: 0.9244\nBrained: 0.34318\nSylpheiidk: -0.37066\nSaiyko: -0.42595\nLaroxia: 0.28265\nImpêrius: 0.7003\nDreamie: 0.3243\nNimakkry: -0.09975\nRainedtbh: 0.8769\nDomx: -0.328175\nChrissucks: -0.4914\nDanimal: 0.48535\nHemski: 0.65055\nSetekh: 0.33925\nBejs: 0.3254\nFeelsdkman: 0.414833333333\nJuste: -0.555\nDoge: -0.5719\nSae: -0.360585714286\nValravn: 0.6908\n"
     ]
    },
    {
     "name": "stdout",
     "output_type": "stream",
     "text": [
      "Exoda: 0.32506\nFsdasdas: -0.9424\nAceofclubx: -0.3818\nRimehoof: 0.3295\nRegergek: 0.304675\nKyobo: 0.6973\nWhosyp: -0.32235\nBloodglass: 0.3796\nGauldur: 0.7221\nAnarkeel: -0.305125\nXcgffbg: 0.6808\nRicky: 0.5423\nDeathknife: 0.9692\nTála: -0.308614285714\nSoeki: 0.6396\nDatpala: 0.3182\nAmakudari: 0.338333333333\nQenna: 0.4767\nFragarch: 0.6124\nStokely: 0.360183333333\nNÿv: 0.7783\nRosh: -0.296\n"
     ]
    },
    {
     "name": "stdout",
     "output_type": "stream",
     "text": [
      "Nakinaki: -0.312727777778\nTúrböúrpò: 0.4824\nLksn: 0.3612\nGeowarr: -0.7266\nPerwerka: -0.4779\nAtkins: 0.3577\nUndeadmortis: -0.4497\nArcanus: -0.3612\nAnubisath: -0.3181\nAleal: -0.66535\nZenty: 0.25758\nFesteroth: 0.7901\nDanj: -0.289038461538\nKarlmarxlol: -0.421575\nLladya: -0.2559\nTezeniz: 0.3682625\nHordrim: 0.096875\nNatharya: -0.456375\nEvelïn: 0.5571\n"
     ]
    },
    {
     "name": "stdout",
     "output_type": "stream",
     "text": [
      "Gilrom: -0.425383333333\nMjølnìr: -0.745633333333\nWòózgrim: 0.8444\nHraga: 0.7184\nLawkoh: -0.3311\nDeathcruiser: -0.3612\nNecrotik: 0.438133333333\nMâgisch: -0.41673\nAmigaria: -0.8289\nÍzuàl: -0.4404\nTargaryea: 0.3416\nSyldrea: -0.36445\nSael: -0.4019\nValdri: 0.8176\nCengznucël: 0.533\nBlinkfloyd: -0.8834\nRisp: -0.2771\nKeebi: 0.84195\nKurosu: 0.596883333333\nFreezër: 0.309575\nWhitemare: 0.4848\nAmnezy: 0.4019\nInfuria: -0.35565\nDeffers: 0.31868\nPandemonium: 0.4019\nGreavon: 0.6239\nPanzerfâust: 0.2732\nBismark: 0.606733333333\nChryz: -0.8074\n"
     ]
    },
    {
     "name": "stdout",
     "output_type": "stream",
     "text": [
      "Redgart: 0.657166666667\nRooachîe: -0.0114\nVampigore: 0.63805\nNortos: -0.6249\nPietri: 0.257575\nKorvik: -0.47515\nTaurnine: 0.40195\n>>>\n>>>Progress: 1250/1268\nNojawjim: -0.5267\nZregski: 0.4019\nOmnima: -0.8236\nHijackero: 0.7301\nDips: 0.82155\nYates: 0.46\n***\n** Death Knight pvp: 0.135097924505\nDeath Knight other: 4400\nVelka: -0.7964\nExerz: -0.4019\nUøeno: -0.2755\nVoadiicia: -0.2553\nKyverra: 0.9485\nSaedlak: 0.39185\nАзриил: -0.6533\nRhostir: 0.2787\nNoden: 0.08505\nShaque: 0.7603\nXethys: -0.3671\nVolcan: 0.4588\nHaros: -0.322366666667\nUntaraél: -0.4064\nDespite: 0.53995\nZyrøth: 0.2622\nShiraza: -0.2755\nTyrlion: 0.3182\nHumanracial: -0.7492\nDklara: 0.8519\nRedember: -0.4071\nPlaguespawn: 0.6569\nIberion: 0.3946\nGraufenstein: 0.9618\nLucás: -0.34\nChrissucks: -0.4789\nInf: 0.577875\nKlegane: 0.486\nRøøach: 0.4404\nLetifa: 0.7906\nMothsphere: 0.4678\nNudler: 0.8154\nDåyne: 0.4215\nAdamxyy: 0.3612\nMøbstarz: 0.4934\nSamsing: -0.5447\nGideach: 0.5106\nAarounimus: 0.7333\nWowciaran: -0.5622\nSailordoom: 0.292525\nAnfáuglith: -0.29825\nVrek: 0.6627\nCeirille: -0.4588\nSixpackdrums: 0.5967\n"
     ]
    },
    {
     "name": "stdout",
     "output_type": "stream",
     "text": [
      "Cnedra: 0.71715\nRottencherry: 0.538016666667\nRozpierducha: -0.296\nMokba: 0.76675\nNiros: 0.5719\nTyrionlynch: -0.3612\nNinetysevens: -0.5423\nUnmoved: 0.047375\nSceysch: 0.35015\nHopesedge: 0.4497\nDagleish: 0.8442\nBiaen: -0.5939\nCheatéd: 0.7615\nFoxyferret: 0.6705\nNadreal: 0.4179\nPhäntömel: 0.8658\nGridlink: 0.2732\nTeneth: 0.7003\nDecapitation: -0.7906\nSoulcalibur: 0.6166\nDìngo: -0.421125\nEvilbimbo: 0.5284\nÐjdkgødqtxð: 0.431\nAshwillow: 0.56435\nDragulas: 0.4019\nGravetouch: -0.62045\nSeregorn: 0.399133333333\nGallest: 0.5267\nNimcer: 0.4404\nAzorgh: 0.2589\nRehabilitate: -0.8625\nSeekar: -0.39225\nObzeen: 0.3533\nRotheart: 0.50805\nDcmonroe: 0.9292\nWychwård: -0.16005\nThancresh: 0.296\nGrizzlechin: 0.357\nPsychð: -0.26048\nWolfcastle: -0.339\nPliffy: 0.6762\nTxp: 0.2535\nHadês: 0.296\nHazzahx: 0.32835\nVanro: 0.5994\nWorlvius: 0.4019\nRylaicrystal: -0.8788\nResorb: -0.013225\nLynari: 0.5213\nRunik: -0.34\nBoldus: 0.3326\nHardwire: 0.3384\nExecutionerz: 0.4215\nShandrina: 0.3612\nKedavra: -0.5267\nTarsilin: 0.33525\nZatori: -0.296\nTerroto: 0.3348\nHelkedir: 0.27815\nEntaari: 0.741675\nXarroc: 0.6054\nTyendra: 0.6597\nGelefisk: 0.47155\nCmere: 0.7003\nSunshine: 0.2568\nThetracer: 0.4404\nAjgistos: 0.4404\nBrozone: 0.4824\nKanj: 0.46565\nHolguin: -0.36135\nLashiel: 0.7125\nMack: 0.3939\nIndicaqt: 0.4201\nRíva: 0.5484\nMàndy: 0.1051\nNaleya: 0.257233333333\nKazruha: 0.4753\nReaaver: -0.4404\nPaarsla: 0.37775\nLøre: 0.05315\nZazkya: 0.3277\nNheron: -0.351125\nLizzykenzie: 0.56395\nAgrozh: -0.5994\nRivornell: -0.8225\nObake: -0.8402\nJesi: 0.8519\nFøniks: -0.2952\nExtahr: 0.4767\n>>>\n>>>Progress: 250/4400\nLemon: -0.57585\nHjelpestoff: -0.3612\nMusti: 0.581675\nBaeurn: 0.5423\nMabu: 0.3177\nShhion: -0.444166666667\nBesu: -0.7637\nDestur: 0.3591\nHoschelhoff: 0.7783\nNarali: 0.7506\nNegru: 0.875\nAvatär: 0.5367\nLokklokk: 0.3612\nRaakkh: 0.8175\nSeretin: -0.586425\nWincer: 0.431\nKael: 0.5854\nRapidoro: 0.5848\nNeximus: 0.34\nMagesie: -0.3818\nThrograz: -0.3491\nIkerius: 0.7603\nTinkabang: 0.3832\nFutamonster: 0.32985\nQúart: 0.3057\nOnlynxm: 0.66735\nDrought: 0.3612\nDeathdelay: 0.3612\nArctícwolf: 0.4359\nDjokema: 0.7506\nCiyn: -0.7003\nStålkalle: 0.36755\nWornlord: 0.8442\nLindqvíst: -0.079125\nYama: 0.5277\nGaiusbaltars: 0.8591\nLovejuice: 0.3818\nKentroze: 0.71255\nSolya: -0.3178\nSheffy: 0.5719\nMelkxz: -0.4019\nDenzay: 0.3802\nEhldran: 0.3182\n"
     ]
    },
    {
     "name": "stdout",
     "output_type": "stream",
     "text": [
      "Dreadmight: -0.8047\nBiffie: -0.4477\nGorgonis: 0.6581\nShåx: 0.4023\nKadjitsu: -0.7643\nCassiie: 0.4404\nLimbowar: -0.3115\nZeytoon: 0.159975\nJeckáa: -0.2608\nRimehoof: 0.9081\nRordor: 0.6588\nKaien: 0.3419\nSneakysweep: -0.5764\nXarlanthar: 0.955\nKorrosh: 0.373766666667\nGallantmon: 0.9175\nDurament: -0.6282\nFenight: -0.295975\nNimzana: 0.8422\nMahl: -0.7506\nAndrev: 0.29484\nDreangons: 0.402975\nThundergnome: 0.3612\nThronn: 0.3404\nAgrotera: -0.7878\nKátyperry: 0.5207\nRagnaz: 0.7096\nCaédes: 0.7901\nMuimoridin: -0.5122\nDadruy: -0.5719\nМанхэттен: 0.7184\nHericide: -0.28135\nVilwyn: -0.1736\nFilri: 0.3182\nNotrashplz: -0.40845\nDespina: 0.40325\nNapua: 0.875\nUkuza: 0.8231\nSnozï: 0.47755\nCoig: 0.4215\nSaynis: -0.143\nRaykim: -0.1848\nTrathei: 0.270925\nAvulsia: 0.8418\nDïnker: 0.2948\nBonishin: -0.7194\nNürglé: 0.4939\nCallmezli: 0.6366\nPopje: 0.955\nХьяргрим: -0.7845\nThalandrel: 0.8225\nLollollól: 0.6486\nIsmedz: -0.2755\nRichter: 0.6705\nTorren: 0.43095\nFleksy: 0.3612\nSanngriðr: -0.6486\nAfterman: 0.4939\nTurtlebona: 0.4199\nZagrax: -0.4019\nShadoweye: -0.7717\nDizlen: 0.4671\nPijanica: -0.73125\nSindrel: 0.2877\nAsterotx: -0.42434\nYobe: -0.2732\nAsfdkljasd: 0.223575\nÈsto: -0.4588\nKùth: 0.0334\nShyonia: 0.3612\nMerthtp: 0.4215\nGoa: -0.8481\nLuncor: -0.2997\nXartim: 0.3818\nFreyleyes: 0.5859\nMelblaze: 0.6597\nFlinkén: -0.4939\nDragór: -0.06255\nXhanath: 0.7632\nCorypheus: 0.28595\nKalazam: 0.5267\nRastadeath: -0.32205\nEinherjar: -0.6597\nCheeseberry: 0.4404\nPalpatina: 0.6705\nMawemu: -0.6249\nPxpx: 0.4215\nLfr: 0.6597\nNerdbane: -0.296\nKerenis: 0.7394\nWhoof: -0.26335\nHollowed: 0.012625\nMchammered: -0.5106\nMatta: 0.7096\nSedacra: 0.875\n>>>\n>>>Progress: 500/4400\nCreecher: -0.6808\nPenetrallia: -0.5411\nScourged: 0.8402\nGommié: 0.6247\nGreytech: -0.7133\nKrónargh: 0.7637\nKaliedrin: 0.257475\nCheetjuh: 0.4847\nXerdan: 0.1836\nAnivaries: -0.4391\nThyrios: 0.296\nDeinhardt: 0.3682\nArdenaz: -0.25265\nIeeroy: -0.4588\nPanicrockz: 0.8172\nСмердус: 0.27115\nEntolól: 0.55315\nFrostmaiden: 0.8271\nNoodler: -0.27795\nHazuron: 0.8765\nKjanar: 0.4767\nZibor: 0.3872\nDaelroth: -0.4163\nAlynea: 0.59735\nZárthas: 0.4404\nWildhaze: 0.6705\nFamine: 0.4404\nAnterus: 0.4847\nRuda: 0.6187\nUruk: 0.37095\nAncientfrost: 0.5043\nMiezz: 0.6124\nBarnakus: -0.5448\nDefnait: 0.4939\nVerkas: 0.7923\nKoltiran: 0.5994\nUstabîl: 0.414166666667\nLuvyoubb: 0.3612\nJudgepsycho: 0.6044\nXyon: 0.3612\nPunkinism: 0.3612\nXpon: 0.3182\nHalbrecht: 0.7687\nWòózgrim: 0.64355\nAzaiah: 0.4404\nCarissime: -0.903\nIcyblade: 0.7269\nKarfai: 0.3818\nMinimonkey: 0.2529\nLaylaril: 0.61155\nCakeinface: -0.00821666666667\nLariz: 0.4927\nSkaadra: 0.5414\nVengarl: 0.2975\nArmageddón: 0.45845\nPowhh: 0.2973\nNecroaids: 0.5788\nNedhealr: -0.4767\nEryan: 0.460666666667\nImpurex: 0.5719\nNieves: -0.34315\nKoeleskabet: -0.276\nBladehand: -0.4767\nDeadoqg: 0.2732\nTailborn: 0.6705\nXylho: 0.6381\nZantious: -0.3622\n"
     ]
    },
    {
     "name": "stdout",
     "output_type": "stream",
     "text": [
      "Myrdhraal: 0.9231\nGlitterstorm: -0.4071\nKoltir: 0.9229\nZeusaijin: 0.092975\nWildclaw: 0.603775\nBonergarage: 0.27115\nQuelaagh: 0.0364\nFalsified: 0.2732\nAmeasun: -0.504\nValadhiell: -0.5574\nChaossmash: 0.65885\nМнемос: -0.314066666667\nValherü: 0.08245\nËmpathy: -0.5216\nNescafè: 0.3397\nMorgath: -0.4019\nAtkins: -0.4916\nCharacter: 0.3612\nSelenian: 0.286833333333\nGaahl: 0.5859\nГолод: -0.5423\nSentrox: 0.5194\nArkal: -0.431\nWrâthbríngêr: -0.9179\nPwaite: -0.6486\nFreddycarpx: 0.6908\nÖenomaus: -0.5719\nAldrathor: 0.6249\nVirtualbully: 0.432433333333\nAlthaer: 0.3384\nKastinia: -0.5096\nMortime: -0.5932\nMoxor: -0.28595\nMojoqt: 0.7428\nTrimack: 0.36755\nJadeknight: 0.4749\nLoallolollol: 0.5719\nCorripio: 0.19986\nSymbolistic: 0.6808\nXiangtsu: 0.4215\nDreyanar: 0.5719\nXilleth: -0.345\nLevayura: 0.4939\nWâr: -0.5859\nSlyzz: 0.5568\nMoju: 0.7041\nSerenda: -0.4215\nTusani: 0.7964\nKonradcurze: 0.51585\nKlaffe: 0.5106\nZyliax: -0.4777\nEldknight: 0.4215\nVarnahost: 0.38585\nRencarex: -0.43745\nSiffrah: -0.5994\nOutbreak: -0.296\nDeathhoix: 0.7096\nQuincy: 0.54125\nMundus: 0.35945\nKokodesuka: 0.42275\nArinyaa: 0.3612\nMomentous: -0.2732\nBeann: 0.6124\nTalore: -0.5859\nAngabarad: 0.4697\nKaylestraza: -0.5469\nPhoiyt: 0.5574\nAurellion: -0.7027\nNyela: 0.43265\nKrayzie: -0.4031\nSerathil: 0.8701\nGoongan: -0.61105\nХалгур: -0.387625\nMungdungus: 0.4404\nBasementkat: 0.70625\nGuren: 0.4824\n>>>\n>>>Progress: 750/4400\nXuon: 0.68125\nAbusivepanda: -0.4588\nBelenoss: -0.4404\nArchonath: 0.37415\nÆðey: 0.54\nBabakï: 0.4767\nNethir: 0.4404\nPowerfulwiz: -0.7351\nRúnarc: -0.875\nIamtheattqck: 0.7002\nBlood: 0.4019\nRél: 0.5255\nOrdisious: -0.007625\nYeezys: -0.28595\nNecrotiqx: 0.371925\nGronuk: -0.296\nTopdon: 0.7394\nBogragnok: 0.66045\nGùrthang: 0.7269\nGothmogx: 0.2609\nGroggrogge: 0.3511\nBryan: 0.4215\nLycira: 0.2716\nCaranor: 0.7203\nExmortuus: 0.3404\nAspira: -0.35734\nOblion: -0.3372\nHeiza: 0.8155\nChihan: -0.7269\nIgnite: 0.624\nDeathzkrav: 0.4215\nSchmilblik: -0.5733\nBillybones: 0.6808\nPillum: 0.4479\nSaxhyttan: 0.3612\nAlastor: -0.6597\nGaldon: -0.7964\nSaevuss: -0.5994\nKhom: 0.36694\nAlienpasta: 0.3595\nEvesion: -0.9485\n"
     ]
    },
    {
     "name": "stdout",
     "output_type": "stream",
     "text": [
      "Gegga: 0.26668\nKishar: 0.3902\nLucifae: 0.3612\nНартес: -0.3979\nDrèco: -0.3365\nNavyk: 0.431\nShallin: -0.4063\nАмерсх: 0.3062\nSkatsecks: 0.4215\nCartas: 0.6597\nReex: 0.47755\nSobieski: 0.7992\nBomberr: 0.2553\nAngelhearth: 0.47635\nOmgkd: 0.08735\nDotception: 0.5719\nScortum: 0.8567\nSharooz: 0.6105\nMollox: -0.4404\nAveindha: 0.5225\nTharras: 0.5149\nShiftrune: 0.2913\nVoices: 0.29915\nTørrfisk: 0.4404\nAtrossius: 0.3612\nAretaeus: 0.4404\nWitheredfang: -0.34\nSakrëth: -0.3182\nCératus: 0.1895\nDknynot: -0.4215\nStillrotting: 0.5254\nLejl: -0.4019\nUsula: -0.2595\nRhecksa: 0.4019\nLeonïdas: 0.6486\nVarjin: 0.53345\nDuckhorse: 0.5147\nCadea: -0.185791666667\nEontaras: -0.34\nArhi: 0.5563\nUmbrakhor: 0.4588\nMashnakh: 0.31845\nAmnail: 0.4428\nUnholyforu: 0.4201\nTezeniz: -0.4731\nMustis: 0.8316\nSwemalin: 0.705\nFennix: -0.068175\nAbezethibod: -0.4767\nBriga: 0.4019\nBankadín: 0.4019\nXubaju: -0.5719\nTyranikus: 0.58205\nNincie: 0.4404\nRitaliin: 0.3454\nAbalore: 0.269533333333\nIraymur: -0.3612\nDifionex: 0.7088\nJamulabar: 0.41\nLobhiel: -0.5448\nNímzana: 0.6124\nCrushallvein: 0.7684\nWoosar: -0.3612\nEbonbladeje: 0.40385\nVoreck: -0.4482\nAiola: -0.6597\nNaudiz: 0.62765\nVanauge: 0.7345\nVoltós: 0.8074\nDecaisy: 0.7574\nSoilwork: 0.4505\nAphyxion: 0.5994\nKajbert: 0.31245\nYrkanda: 0.3182\nSmmiky: 0.6361\nGladio: -0.4767\nOnisako: -0.39705\nBloodgaw: 0.4588\nRonar: 0.42755\nBütcher: -0.5927\nGelrith: 0.0377833333333\nDrayser: 0.6369\nHuumejorma: 0.4824\nAstöria: -0.4939\nDjtrashcan: 0.7345\nPantheòn: 0.4404\nStoppablelul: 0.3612\nJeraley: -0.3241\nSonofalich: 0.3612\nElauria: 0.475\nTassera: -0.5994\nGamlesverker: -0.27115\n>>>\n>>>Progress: 1000/4400\nLäderlappen: -0.2732\nObliteratër: -0.29635\nCåin: -0.4215\nQenna: 0.4588\nDinii: -0.07585\nYaneesh: 0.784\nAzaeandra: -0.3127\nDjkarverqtx: -0.2732\nZerranor: 0.6249\nSaber: 0.7845\nZionknight: 0.2732\nElyssarain: 0.396608333333\nKozebamsen: 0.85\nNashara: 0.365425\nShadowfexd: 0.4215\nSilentmysong: -0.5096\nSonofshadow: 0.6908\nTurlok: 0.6597\nSyncopee: 0.4215\nОмикронс: -0.4588\nBullstriker: 0.4215\nWolfskinner: 0.4404\nBlightrèavèr: -0.4574\nNecronize: 0.4588\nDocmercy: -0.03095\nHeleva: 0.3243\nFúrion: -0.61815\nKittycatman: 0.4847\nElorisse: -0.296\nHacked: 0.6705\nWhitemare: 0.685325\nFloffí: 0.76745\nNímury: 0.5719\nKormavet: 0.3454\nGrimgor: -0.0201222222222\nMograinde: -0.306769230769\nZozo: -0.296\nDéstróyer: 0.6369\n"
     ]
    },
    {
     "name": "stdout",
     "output_type": "stream",
     "text": [
      "Avenjielde: 0.5919\nLichfaen: 0.50625\nZombicide: 0.6166\nBaronvonbob: 0.3612\nFragarch: 0.4215\nRained: -0.3404\nAndorym: 0.4404\nYrulan: 0.4201\nMinhaw: 0.436966666667\nTethyr: 0.5106\nAccenato: 0.7824\nYerug: -0.5106\nEsdeåth: 0.8922\nRedgart: -0.45615\nFrancìs: -0.6712\nRashgarroth: 0.6166\nÉvelîn: 0.31845\nDondeath: 0.4136\nHelewise: 0.343\nHelqq: -0.4372\nAanubis: 0.27115\nAnnounced: 0.6696\nEfrite: -0.1429\nShinigamí: -0.329\nDogyz: 0.6808\nПрайслесс: -0.401383333333\nLsia: 0.4836\nZárathi: 0.4767\nStormgarde: 0.46705\nSarainia: 0.6908\nCarant: 0.31355\nSchuberth: -0.4215\nGorefrost: 0.4404\nDjenghis: 0.2737\nAzeralon: 0.0211\nCyrisela: -0.3553\nDeemorbid: -0.296\nРазорон: -0.329966666667\nRyjudo: -0.7096\nFobian: 0.4404\nZouch: 0.4404\nNocylah: 0.4939\nDrëdd: 0.4939\nDeepmoon: 0.0814\nIcelyn: 0.2849\nMortisz: 0.4939\nDariion: 0.368\nAsch: 0.45125\nDaquandrix: 0.4215\nArlaen: 0.6369\nRaizou: -0.3576\nAlièl: 0.29295\nBoneshard: -0.296\nEpicly: 0.56035\nSobieskii: 0.31245\nMoograine: 0.76875\nWindeath: 0.3818\nRynd: -0.2608\nAmynah: 0.52525\nRalius: -0.4587\nVampigore: 0.4048\nSlukson: 0.27175\nMerix: 0.41\nIlez: 0.2958\nSoulcalíbur: 0.3182\nHänkxoxo: -0.3832\nElvanos: -0.7698\nSusannia: 0.2611\nSilveryz: 0.40765\nMegainius: 0.6124\nMuzlocke: 0.3246\nSteelshade: 0.3182\nVarraxa: 0.4428\nFinisher: 0.4588\nNulathi: -0.3612\nVardak: 0.446166666667\nShadowraith: -0.5769125\nBrunhíldé: 0.2699875\nAlayaya: 0.6705\nAthrod: 0.4404\nArdenth: 0.570841666667\nBambinos: 0.3612\nBruisepaw: 0.34\nDespotica: 0.3612\nCorvix: 0.34\nRotflap: 0.6369\nDiszi: 0.27985\nRuby: -0.5095\nShaofdanger: 0.5106\nDeathtatus: -0.2755\nParamet: -0.2617\nRugsa: -0.4939\nNaguu: 0.6249\nLeonaras: 0.802\nBencarr: -0.2617\nSmallflower: -0.4767\nYenta: -0.5106\nTyrolen: -0.452675\nSlapdancer: 0.3182\nÐisturbed: 0.04285\nZoliaxen: 0.3536\nEdorah: 0.3404\nBantur: 0.4588\nAqwseda: 0.7925\nEv: 0.004625\n>>>\n>>>Progress: 1250/4400\nHarfold: -0.3083\nIcycola: 0.55015\nShiroz: -0.5848\nAlleriä: 0.7424\nFîre: 0.3612\nAurghmeister: -0.3336\nNjorgandr: 0.31245\nAzír: -0.296\nSupervised: 0.633633333333\nNickolps: 0.2415\nDambob: -0.4404\nAvanta: 0.4728\nTiella: 0.6369\nMaràad: -0.612166666667\nFrostfury: 0.6486\nMunjun: 0.64885\nÐuci: -0.7425\nIareth: -0.5267\nBätman: 0.2553\nHunteroulaki: -0.28555\nEvarov: -0.6808\nSandalf: -0.6597\nMorfanel: -0.9719\nReddocc: 0.7269\nTenebrìum: 0.0482\nMobíus: 0.4404\nEddur: -0.296\nKudah: 0.524116666667\n"
     ]
    },
    {
     "name": "stdout",
     "output_type": "stream",
     "text": [
      "Rokvar: 0.4404\nKorgosh: -0.66115\nKiite: 0.6808\nSael: 0.7184\nTwistedlight: 0.4226\nSkrymr: 0.357\nAngeelicus: -0.58105\nVio: 0.6369\nLeapin: 0.3994\nWräthexx: 0.7845\nHemskidk: -0.8225\nUmadbrah: 0.4404\nKisandra: -0.34845\nZwart: -0.624\nBloodydude: -0.5994\nTizzue: 0.6369\nRollô: 0.8979\nSkahdi: -0.4037\nDeathsezz: -0.4404\nAlaaris: 0.4215\nBlóódspiller: 0.7845\nTrámpoline: 0.4588\nDawngate: -0.7814\nJahmily: -0.0065\nMorthius: 0.4704\nJámescon: -0.4019\nRockwell: -0.5994\nJetx: 0.4215\nKoltira: 0.3612\nPadfootj: 0.3568\nBryantko: 0.617325\nRíckson: 0.3612\nZyvea: -0.636\nNeaïrah: 0.7902\nDonttrust: 0.4215\nMëph: 0.4756\nKarabor: 0.4024\nSankei: 0.4215\nTarana: 0.6369\nDarthai: -0.8873\nAix: -0.14325\nKizamaru: 0.5411\nTinasõdur: 0.4658\nLksnn: 0.16375\nMôéé: -0.6476\nBlossom: -0.658\nHemski: 0.4939\nNorthug: 0.0715\nLancette: 0.802\nSleevés: 0.6166\nMortanous: 0.04965\nSaintkargoth: 0.6597\nGrimfallen: 0.4404\nLuthron: 0.4199\nNedlandftw: -0.3818\nPrebzzi: -0.25626\nAsgardsor: 0.4215\nMorazz: 0.07615\nScourging: -0.4011\nKalrell: 0.56775\nCrìmson: 0.3612\nDamaskinos: 0.336333333333\nBonobo: 0.4087\nDxilence: 0.8885\nVólks: 0.3147\nDeadwin: -0.4588\nMornathal: 0.41105\nShadowmourne: 0.34\nThalea: 0.1265\nMixtli: 0.296\nBen: 0.2811\nBootyjuice: 0.2924\nAndorai: -0.2732\nNecrofeelye: 0.6739\nKarkantas: 0.26955\nDrakter: 0.46635\nKaizo: -0.6597\nDoja: 0.43255\nFidgety: -0.2847\nGrasp: 0.7297\nNoìre: 0.6597\nLarixana: -0.0267\nOrcasim: 0.3804\nNéwos: 0.45205\nErnestine: 0.4926\nNaami: -0.9338\nBlastz: -0.378233333333\nDislikable: -0.42055\nWoodwardo: -0.3632\nBanderaaz: -0.6486\nKrixis: 0.62555\nJelezni: 0.4404\nBoneflayer: 0.56705\nDkdonkey: -0.19915\nVaelanduil: -0.9349\nIntersectt: 0.8588\n>>>\n>>>Progress: 1500/4400\nDeathwarrie: 0.3979\nUdorn: 0.4404\nJúdgey: 0.7003\nFroji: -0.3612\nGoregrip: 0.4989\nLastator: -0.2755\nDuggy: 0.8481\nArgroth: 0.3182\nSeptuginta: 0.6202\nAvatary: -0.34\nVegarqt: 0.34\nYapeeth: 0.4754\nAnmael: 0.2598\nDrakhorr: -0.4404\nStrife: 0.26335\nTule: 0.596133333333\nJohnnybravoo: 0.5719\nZaxxis: 0.26335\n"
     ]
    },
    {
     "name": "stdout",
     "output_type": "stream",
     "text": [
      "Sinndragossa: 0.6166\nWollveren: 0.8893\nBotasky: -0.37075\nFilnaen: 0.6369\nRapturé: -0.3049\nXarok: -0.3612\nZalrea: 0.64545\nAdamantium: 0.7506\nArgurra: 0.49305\nStaggs: -0.642033333333\nSkullblast: 0.62605\nArmágeddön: 0.6916\nReconocido: 0.3164\nСамыйчеткийй: 0.8176\nMcmick: 0.5324\nEurk: 0.5433\nNephs: 0.4754\nGothgor: 0.3182\nEndyn: -0.296\nGnarlyy: 0.80945\nAethrael: 0.9147\nRezzlebolt: 0.27\nWrolnik: 0.802\nCràbby: 0.3818\nViki: 0.34\nCyrrax: -0.4497\nDrahkaro: 0.31845\nOriachi: 0.4588\nFailgar: 0.636\nChichomisho: 0.07195\nDeathmorning: 0.653675\nMakaán: 0.4995\nKaiko: -0.5423\nHorknuthza: 0.6705\nGuywitaxe: 0.036\nLota: 0.512466666667\nAlactus: 0.9491\nKiisses: 0.6369\nZurr: 0.2939\nMjølnìr: -0.2787\nEnderer: 0.318\nBharogh: 0.6166\nDunrohk: -0.8478\nSparg: 0.5093\nKuroyaksha: 0.4404\nAwwsorry: 0.45102\nVholchick: -0.5423\nLiepaja: -0.2755\nGeroz: 0.9175\nPharanush: -0.5362\nBlightbeard: 0.3057\nInstïnct: -0.3381\nAnghellic: -0.4215\nSolvick: 0.5106\nProdknp: -0.5122\nIceicebaby: 0.44855\nWoby: 0.6111\nIsengrim: 0.2732\nSwehunterdk: 0.6369\nDarkmavis: 0.2836\nNecrotik: 0.332833333333\nChillscream: -0.1682\nCrønøs: 0.9253\nRickyy: 0.8807\nRazelia: 0.4404\nLixuz: 0.6588\nCervántes: -0.2732\nBiobull: -0.5405\nColdstrikez: 0.6958\nHidån: 0.2975\nDesolve: -0.296\nTriandis: 0.35015\nKogarasu: 0.8091\nBadmrfrosty: 0.34\nGlarial: -0.8335\nCeliu: -0.4489\nGeilkatze: 0.3612\nBouffetripes: 0.480775\nSeaal: 0.3612\nKanamechann: 0.4927\nNanccy: -0.4404\nStukæ: 0.4757\nPlagueclaw: 0.36065\nArtwood: 0.5945\nEsimora: -0.3637\nGravebane: 0.4215\nBaoao: 0.586116666667\nOmaar: 0.2755\nNarkotix: -0.8776\nGhoullove: 0.06535\nHeruini: 0.40765\nRiiw: 0.5423\nEndemic: 0.8957\nSoullreaverr: -0.52905\nShamanenelis: -0.296\nEkhrun: 0.51585\nMannfred: 0.28595\nZoúnkla: 0.3119\nArcariuss: 0.34\nQrmas: -0.8109\nCadlnvrdies: 0.394133333333\nChimichonga: 0.2803\nAilbhe: -0.1175\nDeadmeme: 0.8004\nJánden: -0.38915\nLittlemoses: 0.6369\nLehrän: 0.3454\nSháenna: -0.6143\n"
     ]
    },
    {
     "name": "stdout",
     "output_type": "stream",
     "text": [
      "Garimto: 0.31245\nFennrir: 0.4713\nHiimom: 0.6964\nBicepspump: 0.2878\nSvassless: 0.444075\nOmax: 0.7717\nAntrakz: 0.4215\nIhasrunes: 0.4549\nZorlak: -0.3883\nTraffy: 0.8439\nFreshfrifly: -0.7579\nArliyaa: -0.2651\nLïnny: 0.4199\nАрхисоло: 0.10205\nPresco: -0.4767\nInsumia: 0.6696\nFenglow: 0.19055\nKryptonian: 0.32605\nDarkhyper: -0.42115\nTusktooth: -0.4698\nEnnuyée: -0.3612\n>>>\n>>>Progress: 1750/4400\nKojhuiyte: -0.765\nKönsbröl: 0.4019\nZregski: -0.29295\nImmortalias: 0.6486\nStahlreck: 0.55545\nLuxis: -0.5365\nHemopheliac: 0.4215\nIcaroz: 0.38015\nMordrathar: -0.2673\nIxen: 0.7523\nMagikmurlok: 0.31845\nDesknight: 0.62565\nRovver: -0.4404\nTarskal: -0.8126\nOokthydooker: 0.6249\nReavan: 0.4215\nTyrantius: 0.4588\nKardagh: -0.4019\nNozzîe: 0.3612\nPssh: 0.431616666667\nCáptaincool: 0.7469\nBuiws: 0.913\nSoxs: -0.61665\nDarthzanna: 0.339733333333\nBaiter: 0.3294\nIcecøld: 0.43935\nNeszwo: 0.4215\nSkilletína: -0.2997\nValsheres: -0.3182\nMedabee: 0.6696\nFrozenclaw: 0.807\nAilissa: -0.3276\nZilpui: 0.4824\nRichendithas: 0.7717\nNicole: 0.681875\nAwzumm: -0.2784\nHaemund: -0.2891\nArthraz: 0.40855\nPuntz: -0.40155\nRhawn: 0.6124\nLetmewin: 0.6369\nMalthaèl: 0.4939\nRevan: 0.2682\nDequé: -0.7579\nBastiôn: -0.2755\nDagraine: 0.3022\nQuicko: 0.3612\nValendra: 0.4201\nKemii: 0.494933333333\nТранслитдк: -0.9062\nDizeazd: 0.72215\nDxpachado: 0.4019\nOnryn: 0.2732\nAyanis: 0.6369\nTvat: 0.567\nSunbublé: -0.05435\nRotcake: 0.3488\nMageincage: -0.7351\nBloodweiser: 0.2732\nAyaney: -0.3098\nKoranith: -0.4487\nMalachai: 0.6696\nInsegnoo: 0.8225\nFuzzah: 0.0532833333333\nPestilencia: 0.4404\nDarth: 0.5086\nCridar: 0.7783\nLupursus: 0.7579\nXalala: -0.443525\nIncestinator: 0.431\nGlacia: -0.296\nNewdestinite: 0.3147\nArgowan: -0.3243\nTheias: 0.6369\nRavenouz: -0.5499\nDarthozzy: 0.7769\nßow: 0.4404\nBerlag: 0.132275\nLefthanded: 0.3831\nSagacity: 0.4588\nTipee: 0.6146\nThanah: -0.7414\nДефк: 0.45535\nPeterdkay: 0.267766666667\nGundark: 0.7717\nNerovar: -0.3324\nÉnnasus: 0.363233333333\nJæ: 0.5106\nCorpus: 0.5667\nHuckerino: 0.5362\nTreloagori: 0.2997\nLichdk: -0.34025\nDizle: -0.4404\nPraetoriani: 0.4215\nTyrusaran: 0.202225\nSulin: 0.2609\nNäyah: -0.4404\nGinka: 0.8115\nStormreave: -0.02685\nByserion: 0.6486\nHuntsmead: 0.6486\nNecrah: -0.322266666667\nKyúk: 0.8158\nKarglat: 0.4144\nIce: 0.2732\nIcetea: 0.2997\nRampage: 0.44505\nKalcron: 0.382033333333\nDeadgrumpy: 0.7351\nTúrwaithon: -0.4939\nSoulboundz: 0.42485\nDauðurmaður: 0.4404\nCryptelon: 0.4847\nZhaam: 0.38585\nThibault: 0.4939\nJerollo: -0.5848\nTabori: -0.02095\nVoracek: 0.7082\nCrazy: 0.8074\nMiisterkaka: 0.3182\nThaladra: 0.444433333333\nRime: -0.5719\nWulfbane: 0.59785\nUnkleer: 0.54985\nBlarry: -0.6908\nMedínah: 0.342\nThondrak: 0.08945\nDharomir: 0.3176\nNÿv: 0.3612\nRhîl: 0.4868\nHazardrox: -0.7494\nMojjin: 0.4404\nPronounce: 0.3855\n>>>\n>>>Progress: 2000/4400\nBudiax: -0.2997\nScoxt: 0.1184\nDeathraiser: 0.71695\nAbyssius: 0.02315\nAllòut: -0.493366666667\nMaltheon: 0.4594\nMorgooth: 0.431\nLorgus: -0.296\nGigantuss: 0.7474\nAlech: -0.3538\nDainsleif: 0.76075\nБенц: 0.3715\nFelnore: 0.8622\nGrymn: 0.3609\nDulmar: 0.4404\nCarmiel: 0.3528\nLinwood: 0.379575\n"
     ]
    },
    {
     "name": "stdout",
     "output_type": "stream",
     "text": [
      "Aríon: 0.61405\nUtfrusen: 0.7096\nEnragedone: 0.7386\nKaratechopz: 0.4215\nCupcake: 0.40095\nInsomníum: 0.468166666667\nMísanthrope: 0.53865\nAnubisaths: 0.5719\nSaiyko: -0.34\nDreamie: 0.567\nStanson: 0.2732\nMalícé: 0.6369\nZharakyl: -0.35375\nАэрлин: -0.4019\nZvanish: 0.3592\nShéele: -0.41055\nJavool: 0.4215\nNiqqi: -0.4012\nPurgatorio: 0.0629\nNeiro: -0.296\nYhula: 0.3089\nDeathbysound: 0.5046\nSpenno: 0.75545\nChaos: -0.296\nFatpojke: 0.4404\nArchron: 0.6249\nCéldora: 0.3976\nPeeltotem: -0.14735\nGlavorn: 0.6369\nCeilingkat: -0.297866666667\nDk: 0.63215\nElricdeath: 0.4404\nAlagiel: 0.42765\nTála: 0.5859\nAlanar: 0.6436\nXulrogg: 0.7962\nCarnagz: 0.536733333333\nAmakudari: -0.5255\nLùnd: 0.7592\nNormql: 0.705\nMykella: 0.3182\nLetrus: 0.4215\nNaxriel: 0.34\nZavianna: 0.4588\nHessel: 0.4215\nTakralus: 0.7901\nAnfauglith: 0.4404\nUndeadmortis: -0.631\nEvelìn: -0.13528\nShandrall: -0.711\nMoudi: 0.01985\nSutileza: -0.296\nKryael: 0.7184\nFremor: -0.5994\nMâlguur: 0.5264\nSlaziaar: 0.4404\nRedglare: 0.564\nGùldán: 0.4404\nZëphiix: 0.792\nFanatìk: 0.25715\nRokuma: 0.8422\nMâgisch: -0.8724\nMalfael: 0.6166\nLerelennor: 0.12155\nTasz: 0.4357\nMobius: -0.17155\nMechnatize: 0.5423\nSinner: -0.3535\nDipsid: 0.357466666667\nPryscilla: 0.4404\nVõdka: 0.55115\nEzekíel: 0.479445833333\nZoohath: 0.5588\nInfuria: -0.2789\nNiternus: -0.5812\nVuong: -0.5949\nSkrymirr: 0.4449\nZsebelek: 0.4926\nDeix: 0.4404\nRiskymilk: 0.3914\nInpius: 0.40275\nHughslackman: 0.32985\nLovestrike: 0.6908\nSophéná: -0.5511\nImsobeast: 0.2553\nNeiriel: 0.27985\nIsildas: 0.4926\nCritchicken: 0.4215\nBlóódehlf: 0.4499\nEvelïn: 0.449516666667\nRotbutt: 0.6369\nChillingear: 0.377475\nManticora: 0.3612\nNecrona: 0.51765\nJezzebelle: 0.33525\nTethir: 0.6705\nMatatta: 0.4614\nIareherb: -0.34\nRihannah: 0.6736\nPeters: -0.5911\nXumo: 0.4927\nDara: -0.464\nBenicetome: 0.76365\nIzylla: -0.4215\nSöuldealer: 0.765\nFlúmmer: 0.7579\nYei: -0.08405\nCharilock: -0.561675\nCarl: 0.7506\nZerathif: -0.40285\nPoppamies: -0.4404\nDrakara: 0.4326375\nEthioc: 0.362575\nItburns: 0.3612\nLànathell: 0.32985\nBîshop: -0.520233333333\nUnholybolt: 0.19665\nMalazâth: 0.3421\nIinanna: -0.2997\nBanlea: 0.8677\nAmduscas: 0.3144\nNóx: -0.9136\nHayés: 0.4215\nBerch: -0.054575\nAphexis: 0.706825\nNergon: 0.6369\nNitoed: 0.2553\nZedroth: 0.093825\n>>>\n>>>Progress: 2250/4400\nOfheat: 0.4522\nOrbix: 0.8519\nTelthas: -0.5719\nInsegnoh: -0.3682\nFjällkon: 0.3291\nNootsi: -0.2553\nLainathiel: -0.296\nBellybaron: -0.60975\nMythwic: 0.79115\nNitropox: 0.254966666667\nRosenfalle: -0.3243\n"
     ]
    },
    {
     "name": "stdout",
     "output_type": "stream",
     "text": [
      "Insomnia: 0.69\nStarkwind: 0.7351\nKarl: 0.4019\nWraith: 0.25775\nBeshnak: 0.321933333333\nElfinatrix: -0.6106\nMelviin: -0.4404\nFrostfoxi: 0.51105\nWaouly: 0.7701\nSinatos: -0.7771\nFeelsorcman: 0.36695\nRecinius: -0.5033\nReliandra: 0.36755\nSjóri: -0.5994\nNëmain: 0.91375\nPerroy: 0.3818\nTallanz: 0.807\nNaradel: -0.283966666667\nVryth: 0.7987\nFel: 0.6641\nGanlain: 0.3182\nAennaalt: -0.07245\nSeraphel: -0.45932\nDeathshate: 0.4404\nKraugerys: 0.7002\nArleia: -0.6597\nBlodlys: 0.58115\nRaegwyn: 0.6249\nFulldps: 0.6486\nDeathofrats: 0.396225\nCrosbie: 0.7213\nYagyu: 0.2732\nBarke: 0.257233333333\nLightfyre: 0.3182\nShadèz: 0.0326\nAeronwen: -0.3818\nFangsong: 0.4022\nRotgore: 0.336483333333\nMewmewméw: 0.4588\nThorandil: -0.4019\nWreckeddk: -0.489166666667\nFliptables: 0.6166\nOutworld: -0.572566666667\nFeïla: 0.6202\nOverknight: 0.503\nDamidos: -0.7096\nNalraki: 0.3339\nDilucidus: 0.7503\nOkog: 0.3055\nSpecop: 0.6705\nIaleth: 0.4215\nAttentat: 0.4717\nThorrok: -0.296\nKaleron: 0.2162\nBombata: -0.296\nAlastis: 0.7537\nMassicor: -0.3774\nChaosgrunt: 0.32935\nSkullanti: 0.3612\nDreadednyx: 0.8625\nLincey: -0.636\nTaevi: -0.4215\nRox: 0.70915\nFanii: 0.4215\nCathelion: 0.6249\nTúoppe: 0.7506\nTrizwoléy: -0.6608\nMilkmez: 0.5106\nThydrea: 0.729\nTyrkisk: 0.7906\nCorinthus: -0.9072\nOakybaby: -0.4767\nSmolley: 0.6101\nJacqaues: -0.4404\nЗулубас: -0.458275\nAlkizon: -0.4611\nTaifú: 0.8239\nAmbjörn: -0.3506\nStamkos: 0.6808\nÉnzehh: -0.7902\nKoradan: -0.7178\nElenwyn: 0.6908\nSwek: 0.3182\nNurfed: 0.7096\nCroode: 0.31742\nRocksólid: 0.7585\nValmara: 0.7269\nDillåke: 0.6114\nElmachete: 0.3832\nChaosly: -0.2755\nMerkyace: -0.6114\nArxelas: -0.3182\nCilindro: 0.5994\nStabil: 0.4588\nMlgdk: 0.5031\nÐarkingz: 0.4215\nGuiltyas: 0.5423\nCandyman: 0.5106\nShuanyu: 0.765\nUmadbrro: -0.648783333333\nEldramhor: 0.4215\nArkar: -0.6268\nBryanxoxo: 0.9105\nDayyka: -0.3357\nLjdlfjs: 0.579233333333\nLarthur: 0.6705\n>>>\n>>>Progress: 2500/4400\nRhodium: 0.2553\nLexíßelle: -0.3182\nSoulexile: -0.296\nInsy: 0.296\nPombalito: 0.31195\nBliznak: 0.431\nIkerion: 0.587225\n"
     ]
    },
    {
     "name": "stdout",
     "output_type": "stream",
     "text": [
      "Katyla: 0.5937\nRayken: 0.2234\nAhnaar: 0.2554\nLeulz: 0.4301\nRazzier: -0.5284\nPanny: 0.78595\nAxepwn: 0.4215\nClinckers: 0.055375\nKalise: 0.3566\nPlaguelich: 0.35015\nRazgakh: 0.653\nHvorgandr: -0.0374366666667\nOlaina: -0.651266666667\nGrafschennis: -0.296\nKamicazi: 0.6007\nBorell: 0.277566666667\nArmand: -0.33725\nMåus: 0.48145\nEnzobenzo: 0.2894\nHabitat: 0.65975\nNyzhao: -0.5423\nWorgmented: -0.70385\nCrágoth: 0.56865\nKhabib: 0.26335\nAlexastrider: -0.5932\nAnoriann: 0.7901\nMirijam: 0.8055\nZierz: -0.5994\nEbolkaa: 0.9022\nCarter: 0.32135\nStalima: 0.39175\nKaelna: -0.4404\nCiceró: 0.8807\nSithar: 0.7096\nNerfmemoar: 0.3612\nIzayon: -0.25405\nNecó: 0.2968\nKibsie: 0.4019\nOdd: -0.323125\nBrida: 0.635275\nAnduin: 0.2732\nCappslohk: 0.3182\nEvelin: 0.2889\nKriton: 0.4316\nCyndri: -0.3595\nSillybutt: -0.8531\nMineral: 0.3421\nMiria: -0.3182\nHemophobia: 0.4295\nNovezz: 0.3716\nKanum: -0.8481\nJonastus: 0.6868\nHypermist: 0.3333\nLuná: 0.6429\nNearial: 0.7506\nDeflected: 0.288475\nOsudin: 0.8834\nSlutknight: 0.6974\nWallywest: 0.0142\nJolon: 0.772\nRcz: 0.54785\nTyrant: 0.91\nZelhaeith: 0.8176\nArchon: 0.4215\nObliviox: 0.4404\nGajaurunashi: 0.91\n"
     ]
    },
    {
     "name": "stdout",
     "output_type": "stream",
     "text": [
      "Zeleik: 0.3167\nMaxeimus: 0.254933333333\nFeddx: 0.6705\nMatharias: 0.5135\nMuhandiaz: -0.51145\nTboned: 0.5423\nArthasl: 0.4199\nArtylike: 0.6696\nJastè: 0.8622\nMavron: 0.3213\nEsa: 0.44225\nTyphiss: 0.6705\nAthrosh: 0.3919\nHolyflexarn: -0.7779\nQuinshar: -0.5267\nGaully: 0.6124\nTaltia: 0.44605\nMoraear: 0.6705\nCrunix: -0.8055\nHarrowin: -0.2787\nTwistknot: 0.4215\nAnubisath: 0.4215\nScourgefury: -0.31095\nIllanox: 0.6059\nMalfurien: 0.5473\nMethuzahla: 0.3612\nBalzog: 0.9359\nStannes: 0.44475\nInfected: 0.9395\nBarnabix: -0.511825\nGrakhul: 0.36905\nZinwrathys: -0.272175\nMallots: 0.442566666667\nSurvie: 0.6621\nNedflanders: 0.2732\nBanish: 0.6133\nAxyle: 0.3384\nVahx: 0.3787\nÐays: -0.3612\nSuumi: -0.7096\nNailtrouhand: 0.4111\nSerflord: 0.291525\nMagharlogosh: 0.8402\nSkore: 0.6166\nAndreasffs: -0.4341\nPrédation: 0.63585\nDemon: 0.7603\nPandora: 0.3856\nHagbean: 0.7219\nAzeron: -0.42765\nFrostskada: -0.4215\nDoomsquid: -0.2665\nChapunie: -0.65725\nPresistente: -0.4111\nSchöne: -0.4378\nHatébreed: 0.3818\nInhibitor: 0.5994\nHab: 0.2672\nAltaïrr: -0.7213\nVyscha: 0.50615\nFrodomir: -0.3651\nАсмерадван: 0.4215\n>>>\n>>>Progress: 2750/4400\nShìkí: 0.5574\nTirrion: -0.348725\nFuriazul: -0.31245\nYuritard: -0.6258\nYummyddosx: 0.5719\nWhyamidead: -0.2997\nCÿborg: 0.3057\nGaeriel: -0.2732\nRumbaba: 0.3847\nDilemmas: 0.7082\nKwelthain: -0.418966666667\nChipchub: 0.4215\nLlarian: 0.2551\nGarmesh: 0.3875\nScylla: 0.4151\nCawlin: 0.5009\nFlaxozz: 0.02025\nArtifáx: -0.7269\nKomenasai: 0.7351\nApatheyo: 0.369166666667\nKeedrokasas: 0.5195\nTariro: 0.4404\nSissela: -0.32035\nAwdawdawdfaw: -0.3612\nNadejha: -0.130725\nStagger: -0.6486\nMurthhslave: -0.77905\nFx: 0.10115\nFizzleklonk: 0.27115\nSoulain: 0.6054\nAzagro: -0.4939\nValfader: 0.09755\nVarlden: 0.6916\nAdrialle: 0.7804\nMeckina: 0.3182\nScandalna: 0.27495\nBellamorte: 0.449\nPhosaidexx: 0.5574\nFlukey: 0.4215\nXekus: 0.6369\nNecro: 0.70015\nLegendary: 0.4404\nUnholyhaze: 0.7034\nRas: 0.2732\nThornaun: 0.4767\nRathior: -0.31465\nInfectio: 0.347075\nHarrowdread: 0.27\nDarion: 0.0722\nModelýna: 0.4863\nDotzõn: 0.6249\nGletrix: 0.4574\nSacranos: 0.8645\nAmbushlol: 0.3815\nSavagë: 0.3404\nMugenkaguro: 0.61912\nAstrig: 0.4927\nMakavéli: 0.6249\nFiendishly: -0.3774\nChewsday: -0.8402\nExoristos: -0.43606\nStévè: -0.6124\nMordrez: 0.44395\nCirkus: 0.8074\nXdaddy: 0.52635\nSekt: -0.8299\nRavesty: 0.4562\nAltiria: 0.2763\nTelaani: 0.5106\nThijsgijs: 0.44395\nDelmare: -0.1187\nNaminin: -0.3749\nTwistedmindx: 0.3612\nKeñshi: -0.412266666667\nLessingham: -0.9573\nSpirytysta: 0.32445\nHardfrost: -0.3373\nPsylocybina: 0.6249\nAzurro: 0.7906\nKeltorin: 0.37495\nWubwubsub: 0.2883\nYknuf: 0.7778\nNoxa: 0.05815\nMíská: 0.4215\nWôrgenator: 0.7096\nCorgi: 0.7992\nAengwë: 0.3928\nEzalia: -0.31175\nSlagerno: -0.6697\nVinnicus: -0.3612\nMenthala: 0.3818\n"
     ]
    },
    {
     "name": "stdout",
     "output_type": "stream",
     "text": [
      "Sepheris: 0.75005\nMirun: 0.3427\nZensarok: -0.3551\nMairon: 0.5049\nЗмейко: -0.6847\nKromoth: 0.2732\nThisnthat: -0.4767\nVaryos: 0.4215\nAllyana: 0.3612\nЗерика: 0.31845\nÆlvis: -0.4753\nJeperty: -0.5859\nÁkamaru: 0.296\nIrisviel: 0.47505\nExemplis: -0.154775\nBelamy: 0.5802\nAlds: 0.6557\nGorhuk: 0.39065\nRotgrinder: 0.6908\nStoryteller: -0.296\nNévermoré: 0.554391666667\nNecryl: 0.38155\nArtemishd: -0.4404\nRöhnis: 0.301533333333\nXypril: 0.5236375\nCraig: 0.2732\nCryogenian: 0.6705\nIloveenya: -0.34\nAttrebia: 0.376325\nCatalya: 0.349933333333\nGrafite: -0.27115\nRaakh: -0.27615\nDrêad: -0.4767\nDeathing: 0.3182\nKalith: 0.4658\nPond: 0.5705\nRavehole: -0.6418\nZénzár: 0.296\nDeathwish: -0.384\nDaevva: -0.60985\n>>>\n>>>Progress: 3000/4400\nFeárless: 0.4595\nAwh: 0.7378\nKrurkan: -0.8144\nKanayamaryam: -0.01935\nHemane: 0.296\nDawnyield: -0.2714\nDerxor: 0.6249\nHúmús: 0.4927\nDreadgos: -0.4575\nBöte: 0.3294\nBstmstrzhary: -0.48295\nCunupakua: 0.4404\nLunatic: -0.29675\nQari: -0.5994\nAgoron: 0.3141\nTommyqt: 0.4665\nArthas: 0.6731\nRuneytoonz: 0.4019\nDëstruo: 0.6801\nDarkingz: 0.0799\nAvaric: 0.4927\nSideon: 0.5859\nZegazhór: 0.4404\nDïablô: 0.8464\nGalgarion: 0.7096\nLoknoru: 0.50854\nVert: -0.4767\nAlkaia: 0.5106\nFlubela: -0.44165\nFlobzy: 0.5859\nKaapek: 0.751\nRnngwthscsrs: 0.4588\nHårbinger: 0.594\nFrozendare: -0.3564\nThorvas: 0.2889\nTroldemort: 0.5106\nSelendis: 0.4939\nZeraxenna: 0.4831\nAszrael: -0.4215\nSuccumb: 0.523875\nPalemaster: 0.8748\nCobrius: 0.91\nDownbreak: -0.5106\nWasga: -0.4019\nDerza: 0.4404\nDzerok: 0.6402\nBelíeve: 0.6579\nAllmeria: 0.6597\nInsaniity: 0.4754\nRéq: -0.263633333333\nBanê: 0.7283\nSkarthis: -0.29295\nHugedeal: 0.0273\nNecrotical: -0.0564333333333\nGalagor: 0.49265\nRyegen: 0.3612\nPurifier: 0.34345\nSalina: 0.7096\nNèphalim: 0.431\nScarletrose: 0.3612\nEmo: 0.4588\nBthem: -0.4019\n"
     ]
    },
    {
     "name": "stdout",
     "output_type": "stream",
     "text": [
      "Bloodriot: 0.3612\nForlin: 0.83005\nVládimir: 0.4588\nQuartei: 0.494883333333\nAhzil: 0.5574\nThugslife: 0.6705\nSchizoid: 0.5927\nMôèè: 0.7269\nLurkenhej: 0.7964\nDinnerßox: -0.5719\nAngelus: 0.09165\nNimakkry: 0.53215\nBerkthgar: -0.3635\nPromixius: 0.3521\nMiseras: 0.552\nSighuman: 0.2528\nScholseymia: 0.05165\nAzryél: -0.5267\nMcjustice: -0.39405\nTáy: -0.8273\nBlightreaper: -0.3612\nZalamar: 0.8591\nWhosyp: -0.3612\nOrichira: 0.068675\nBloodglass: 0.5994\nBimboss: 0.4019\nBarock: -0.6597\nSkrubz: 0.8555\nGûldän: 0.2732\nTekay: 0.4635\nRicky: 0.3182\nMorbidar: -0.42375\nDhallia: 0.3612\nWizot: 0.5719\nVuxpas: -0.26335\nMabb: -0.30935\nForbiidden: 0.2015\nNavhkrin: 0.281025\nDirtz: -0.8105\nNikicich: -0.3123\nGlacyr: 0.2553\nAriakan: 0.4215\nGarloth: 0.4404\nHehr: -0.7464\nBure: 0.6369\nYakamoz: 0.4404\nLutrwths: 0.743\nTumato: 0.50895\nRathiór: 0.478925\nGiblette: 0.6369\nArchaus: 0.8383\nTruman: 0.74355\nWellmetxd: 0.422833333333\nShailen: 0.34655\nPathosis: 0.3612\nChanen: -0.6249\nKeila: 0.3612\nNyphelim: 0.518\nSylvanaraven: 0.7717\nSlanêêsh: -0.76355\nDúnn: 0.39745\nShargra: -0.4215\nComwell: 0.0302\nIzilla: -0.483425\nDeath: 0.3182\nRichietugnut: 0.2944\nTaneriel: -0.6661\nDeffers: 0.6291\nDomx: -0.5187\n>>>\n>>>Progress: 3250/4400\nSòza: 0.4588\nDeathwhisper: 0.4212\nVamunk: 0.2716\nChrozor: 0.3137\nMarjhan: 0.9365\nVeloria: 0.56935\nVladilena: -0.296\nAkante: 0.27815\nDyrant: 0.7351\nScúffý: 0.5634\nCronz: -0.6597\nTeebufall: 0.4588\nFeelcool: 0.5859\nWrayn: -0.5728\nScroufe: 0.3182\nDebalall: -0.3592\nEbonmar: 0.7506\nTyrantas: 0.4215\nItáchí: 0.6535\nNinyata: 0.6696\nVankelmir: 0.4404\nGhøstknight: 0.4805\nChromesoul: 0.7264\nConfetti: -0.5994\nDkbloodshed: 0.4215\nRivendane: 0.5221\nSlanzer: -0.34\nAgassis: 0.3875\nDeathcomes: 0.38155\nDenix: -0.34\nElrìc: 0.2732\nKteh: 0.69205\nPetergrippin: -0.2997\nRenekke: 0.4939\nShinosenshi: 0.1077\nScreampunk: 0.25435\nStormgrim: 0.4993\nCibum: 0.368\nWolvarrus: 0.6166\nFacemeat: -0.0954\nLucieonowns: -0.518\nIcebane: 0.4767\nAxél: -0.3774\nFaeith: 0.6369\nJaqobé: 0.717\nElaenore: 0.4019\nPanzerbrezer: 0.9098\nKerrigen: -0.448725\nBearmon: 0.4767\nFenarian: 0.7003\nZooler: 0.31592\nChuui: 0.3612\nAshyx: 0.4019\nOnslow: 0.6369\nGrubfoot: 0.802\nKrebsritter: -0.5994\nHayward: 0.31845\nMeatshake: 0.5134\nRunicfrost: 0.0009\nRígamortis: -0.6486\nKreeve: 0.52855\nEllila: 0.4927\nExesum: -0.46005\nRazorjack: 0.7184\nKnífelife: 0.3612\nWítcher: 0.4454\nDave: 0.4824\nGeráld: 0.385275\nAquiliani: -0.5106\nForthwynn: 0.7184\nMiath: -0.38885\nNardeth: 0.8016\nColdrar: -0.38585\nNohana: 0.6486\nSkillknight: -0.6597\nBrianholinka: 0.9279\nDancefever: 0.3873\nCâmael: -0.0276\nFallén: 0.4497\nAdeny: -0.2755\nStocken: -0.296\nDamalen: 0.4404\nMaxillion: -0.4404\nNadu: 0.4019\nFled: 0.7479\nObliterater: 0.3396\nGgnore: -0.06565\nHolystan: 0.3612\nAzriyel: 0.7579\n"
     ]
    },
    {
     "name": "stdout",
     "output_type": "stream",
     "text": [
      "Horker: -0.25045\nZalaer: -0.4404\nNøntaÿ: 0.4357\nSephrael: 0.84\nTuulan: -0.8429\nJenkosaurus: -0.198\nPiromysl: -0.3182\nKealtair: 0.4565\nPuddlefudge: 0.3612\nPinksokk: 0.6696\nTergid: 0.4201\nDiamonds: 0.325233333333\nAntigel: 0.34735\nRothoof: 0.3182\nStorozhevoy: 0.6064\nAmbrosious: -0.8481\nTäll: 0.323933333333\nMerekx: -0.4066\nHealthpacks: 0.3529\nKyteh: 0.71195\nRenéx: 0.8096\nHajottaa: 0.2553\nKithoras: 0.599166666667\nDeîmos: 0.4019\nTolric: 0.3612\nDednite: 0.6124\nNightsmile: -0.34\nPunger: 0.4939\nNightbané: 0.4588\nWolfzpri: 0.5423\nMoredith: 0.295525\nMalanorei: 0.08595\nSaedelaerex: 0.11865\nNíghtcrawler: 0.7644\nRazkip: 0.5719\nAgimeres: 0.44765\nRythax: 0.415333333333\nChillbane: -0.0694\nZephyrx: 0.379125\nZaia: 0.7845\nAléxa: -0.2637\nXstasea: -0.7845\nAzreth: 0.743\nЛолрен: 0.4019\nSnowmeow: 0.6908\n>>>\n>>>Progress: 3500/4400\nPftd: 0.4201\nXenorain: -0.3093\nVédma: -0.5785\nDorethien: 0.9286\nArhaeon: 0.4319\nKïra: 0.3934\nRhime: 0.5515\nAngrytauren: 0.6369\nCharleston: -0.4404\nChorrus: -0.2755\nKhagalat: -0.55895\nLoldemort: 0.5994\nResurreccion: -0.422\nDeathmetal: -0.4588\nPeeves: 0.7003\nDiscobird: 0.0293\nStinka: 0.7096\nDrakksen: 0.7684\nDuvaniel: -0.279433333333\nSoultamer: 0.5738\nMerkith: 0.508096666667\nGaston: 0.6124\nGlosez: 0.257425\nIwillreku: 0.37365\nDkx: 0.3612\nTossbag: -0.296\nAinacair: 0.5907\nIzabell: 0.3237\nDrãgura: 0.31315\nBuckingflizz: 0.3724\nPricus: 0.6059\nJeysbane: -0.594\nDekei: -0.7893\nAshenur: 0.4824\nFenleenao: -0.280575\nSawse: 0.4404\nRunehoof: 0.587075\nHellfang: 0.4939\nCuddlepooh: 0.8455\nNorsilian: 0.7894\nGnomozilla: 0.6705\nDníte: 0.513625\nThyranos: 0.4496\nBastuber: -0.34\nGonedark: -0.836\nRocknrollá: -0.4005\nГабаров: -0.3786\n"
     ]
    },
    {
     "name": "stdout",
     "output_type": "stream",
     "text": [
      "Daveh: -0.4588\nDarkfix: -0.2533\nScythia: -0.6192\nVordon: 0.8225\nWalsky: 0.7184\nAankar: 0.431433333333\nVoidheart: 0.036175\nAráthyen: -0.2628\nKaellial: -0.3653\nRooachîe: -0.35855\nDethjin: 0.2732\nTerankar: -0.4404\nStranger: 0.34815\nBleakboy: 0.31845\nSelandra: -0.296\nYelldar: 0.5423\nQuach: -0.7125\nDraccin: 0.4215\nSimeroth: 0.3274\nWìndfuhrer: 0.395533333333\nDesecrated: -0.9001\nSorel: 0.6369\nAngryspectre: 0.3818\nUnholytocak: -0.56955\nDoombringer: 0.3612\nVindictaz: 0.4404\nShadów: 0.3182\nZigenaren: 0.885\nEisenheimer: 0.293433333333\nMemorta: -0.30082\nCrazed: 0.2732\nFamily: -0.0192\nDkworger: 0.25115\nSiorus: -0.062075\nElvadia: 0.4442\nTrenchhead: -0.539225\nLorthes: -0.6486\nJunoreactor: 0.356\nHelvetica: 0.43035\nPockethorror: -0.8885\nWorstdhever: -0.4853\nMoarrunes: 0.31845\nAmazín: 0.352033333333\nNenabit: -0.5256\nNabek: -0.2641\nDraeloth: 0.6083\nMayuwen: 0.7906\nDarlvenga: -0.08165\nNoctrael: 0.56995\nStrygg: 0.5948\nMurgleys: -0.41915\nGráves: 0.12015\nDjibir: -0.401275\nMoribundus: -0.07415\nKakzak: -0.0052\nKoraboros: 0.4404\nBeoulf: 0.0128833333333\nDixrnice: -0.8428\nMortalnomore: 0.5859\nZymosis: 0.8668\nRagaash: 0.52775\nWoevick: -0.03015\nGojûraji: 0.4215\nNoggí: 0.6249\nGalathia: -0.5093\nErza: -0.3818\nDirestout: -0.7828\nRycerz: -0.6348\nValarienn: -0.5719\nSoulflesh: 0.366075\nNîcole: 0.8124\nBackstaboo: 0.3182\nJustiça: 0.6597\nTerryworgén: 0.794525\nBitterness: 0.43125\nDarklion: -0.5574\nAethyioa: 0.431\nRunesorrow: 0.4588\nLarrz: 0.6914\nDemigon: 0.8357\nLyryxia: 0.3384\nKredo: 0.2952\nRâgé: 0.7579\nRerrandra: 0.6369\nФеминиджи: 0.34345\nSighduck: -0.5849\nHatedemon: 0.2606\nZae: 0.6063\nSvaggier: 0.7865\nDárkseph: -0.29775\n>>>\n>>>Progress: 3750/4400\nGrimdecay: 0.7941\nDraganarius: 0.13555\nSenni: 0.3156\nTalviyo: -0.6557\nBludhaven: 0.2616\nHardest: 0.4588\nZerobeat: 0.59145\nSláystatíon: 0.353733333333\nCarrymate: 0.3818\nOmglolwtfgg: 0.3062\nThethickness: 0.3083\nVathir: 0.5707\nStafford: 0.41395\nVeltharia: 0.27\nHakuteiken: 0.595866666667\nAragirl: -0.14945\nSaelica: 0.3182\nEquívalent: 0.4939\nGrimreaper: 0.3612\nDreadscythe: 0.426366666667\nFragman: 0.38585\nTyranha: 0.3182\nDarthmuck: 0.4468\nBioorc: 0.5574\nDiaboni: 0.605366666667\nPestbuster: -0.3738\nDarkdlver: 0.8122\nUnknowny: -0.6537\nPansarplåt: 0.65305\nMokpa: 0.52085\nRhekk: 0.6166\nZedragonbane: 0.6705\nFaúst: 0.7668\nPhalandor: -0.3336\nNakaburok: 0.4824\nGandrim: 0.6757\nTod: 0.4389\nKurasa: -0.6808\nFyhr: 0.8555\nDeathteamer: 0.4019\nLuffy: 0.583925\nCarlfwolf: 0.40055\nParmezan: 0.08035\nWorgnfleaman: 0.6486\nMessianic: 0.3904\nQelric: 0.2997\nTòràk: 0.6369\nSoulshake: 0.6369\nSolid: -0.5994\nDafuqz: 0.4215\nMiranha: -0.5994\nRwqrqw: -0.5423\nDreadhorn: 0.307866666667\nEvelîn: 0.4019\nOgnir: -0.630966666667\nGroktah: 0.211825\nXiriah: 0.6486\nNiniël: 0.6696\nTappotumppi: -0.4144\nTodoran: 0.4215\nLevril: -0.5023\nValdred: -0.562033333333\nÉmo: 0.71855\nSenpaî: -0.34\nRetardstrong: 0.28185\nArangast: 0.4588\nKaralebaja: -0.7723\nBettypancake: -0.4767\nTelkas: 0.873\nVelthus: -0.28275\nNecrid: -0.4215\nDezgul: 0.31355\nHegzer: 0.349825\nThorgahl: 0.4602\nBravebeard: -0.2997\nKrenbluk: 0.7003\nMandor: -0.2997\nGhardnok: 0.9152\nHellmiong: 0.61945\nSchoachim: -0.0139\nSampyre: 0.6249\nCalyhee: 0.9022\nDeadbreed: -0.003575\nAeslin: 0.7184\n"
     ]
    },
    {
     "name": "stdout",
     "output_type": "stream",
     "text": [
      "Lughnasadh: 0.5114\nXiore: 0.34465\nTenebrium: -0.6326\nCreditor: 0.4199\nHeadçase: 0.7485\nJorus: -0.2769\nIgnitious: 0.4201\nLeeonidas: -0.4576\nZavage: 0.5897\nFdrsfsre: 0.4404\nEryrbag: -0.765\nBolestan: 0.7269\nRetier: -0.2831\nElack: 0.4522\nEsøtraz: 0.0\nHellgrave: 0.34\nKuntzee: 0.5927\nTarmalina: 0.5916\nDedzio: 0.298033333333\nAstaer: -0.6486\nDarkherald: 0.35405\nNecrotíq: 0.8225\nArchfiender: -0.355833333333\nBeamiel: 0.2516\nArgannos: 0.4955\nStinkysocks: 0.4258\nGorliat: 0.5574\nOmar: 0.3793\nAnatheme: 0.34\nVerdíco: 0.9287\nSlaggeh: 0.29295\nWandlamp: -0.3243\nHeavyweapons: 0.4215\nFrozenknight: -0.4215\nKalona: 0.3612\nFreezler: -0.5994\nEreziah: -0.836\nMisakoee: 0.8314\nDeathfist: 0.4215\nMandrix: 0.411\nSuprm: 0.7539\nLethiana: 0.3612\nJasmille: -0.40994\nKallonain: 0.5859\nNorthernwolf: 0.330333333333\nDeathloord: 0.7845\nAoemeister: -0.296\nMightywombat: 0.6161\nFrostman: 0.3612\nBandwagon: 0.2846\nSgtdeath: 0.5319\nBeolynn: 0.3612\nMiastrae: 0.522\nDrekt: 0.4404\nNorlegende: 0.51215\nInuba: -0.7506\n>>>\n>>>Progress: 4000/4400\nSeleniele: -0.3182\nRoshnak: 0.4939\nIss: 0.5574\nKellei: 0.06635\nSouldier: -0.3243\nAevebrii: 0.4824\nDaemagor: -0.39495\nVodajo: -0.4767\nNerdja: -0.5472\nDextor: 0.7091\nJailynn: -0.3887\nPepperoni: 0.6249\nUwotuwot: 0.4926\nByteh: -0.4404\nFatpaw: -0.296\nMissgem: 0.317133333333\nJöröjyrä: 0.5106\nMør: -0.5106\nValanash: -0.6801\nHayatyeni: 0.4404\nRimeforge: 0.908\nArtym: -0.5994\nHieldox: 0.25115\nFrostsworn: 0.9331\nHumansbane: 0.3612\nGrxkas: 0.444633333333\nMórtus: 0.3612\nMakeubetter: 0.4404\nMordina: 0.3804\nGakin: 0.4754\nWayneth: 0.4199\nKnoxius: 0.802\nTírión: 0.8225\nArcten: 0.3345\nRêem: -0.38385\nOhrakh: 0.4404\nProtectio: 0.4435\nMorguhl: -0.1099\nLëgionarius: 0.3568\nАмменаммен: 0.6239\nNatashia: 0.4459\nAzraelle: -0.296\nOmkara: 0.33135\nJhinjíe: -0.296\nMaxpimpin: 0.345633333333\nPíllow: -0.265466666667\nKadreth: -0.7579\nDerríckróse: 0.3543\nPlaguemoon: 0.3675375\nSaftn: 0.3612\nMichelly: -0.4364\nGalning: -0.30575\nWollox: -0.36345\nJuyo: 0.13315\nAlcho: 0.04185\nHílloo: 0.64355\nVm: 0.5698\nNecrofeelyá: 0.59715\nTrawn: 0.5922125\nGazar: 0.7845\nSpunkmeyer: -0.2553\nPag: 0.26475\nHallonmunk: 0.4939\nLakutus: 0.5574\nAllout: -0.3877\nJkér: 0.5757\nLarts: 0.43095\nAlatristë: -0.4767\nShuckle: 0.4215\nKillyox: 0.1003\nDarthwind: 0.4404\nNekrah: 0.70675\nToyouke: 0.36985\n"
     ]
    },
    {
     "name": "stdout",
     "output_type": "stream",
     "text": [
      "Mosaru: 0.4696\nVulcan: 0.3638\nRohkuja: 0.7071\nAqz: 0.4404\nSalaeith: -0.4471\nSmutasek: 0.2708375\nDrayiicha: -0.8271\nRetstomp: 0.4404\nNecronx: -0.50475\nLubê: 0.4588\nMelanthia: -0.296\nTepel: 0.56885\nLawc: -0.21235\nSturmgeist: 0.4199\nPietri: 0.301366666667\nMorgthar: 0.5037\nCayen: 0.4404\nKúrgan: -0.4312\nCailean: -0.2787\nAertas: 0.5859\nKirakisha: 0.28655\nLimus: 0.4404\nNasranejdk: 0.4753\nDreian: 0.4215\nZarima: 0.3496\nCyânide: 0.4215\nBodom: -0.38112\nAnomalouß: 0.9359\nSungraze: 0.6124\nNaufragusa: 0.6705\nIcecoldmilk: 0.62415\nPanzerfâust: -0.4811\nКордан: -0.2664\nArmorvaid: 0.4618\nWinterpwnd: -0.1330625\nSillyboo: -0.4939\nPuraaks: 0.4215\nThevil: -0.373925\nPunany: 0.4215\nZauru: 0.3612\nАсмерокс: 0.31245\nHorask: 0.6369\nArkibald: 0.34625\nMeronn: -0.296\nEärnur: 0.0087\nDzorain: 0.836\nMadluk: 0.3612\nZorpheus: -0.7184\nFlubber: 0.6369\nJordang: 0.4215\nFrostsorrow: 0.3612\nKhazir: -0.4767\nMuse: 0.44015\nLynta: 0.5574\nCujoe: -0.4958\nSylpheiidk: 0.7422\nMüzgü: 0.0149666666667\nTehreaper: 0.0423\nEnemy: -0.4449\nGorefriend: 0.5267\nVolttaar: -0.4939\n>>>\n>>>Progress: 4250/4400\nYeuleu: -0.3612\nPakudeekoo: -0.4215\nShiinx: 0.28595\nYazatá: 0.6326\nPachiku: 0.5719\nDoge: 0.906\nOrnstein: 0.021875\nYofka: 0.4213\nEther: 0.135816666667\nVerou: 0.602266666667\nKurosu: 0.5725\nÁzrael: 0.4045\nAlacritus: 0.5603\nGuttri: 0.38205\nFáceróller: 0.8531\nHawkthorne: 0.46045\nCastiel: 0.4767\nNaptime: 0.0066\nKecewá: 0.41695\nGrauduse: -0.296\nFashawn: 0.6696\nBovinebother: 0.2732\nShognar: -0.7506\nVèximus: 0.8842\nCanarifull: 0.5106\nVudak: -0.296\nRazâlgul: -0.4939\nBraeze: -0.4571\nMene: 0.6808\nNakinaki: 0.4404\nHomez: 0.4199\nLksn: 0.5574\nPreview: -0.8519\nGreydeath: 0.3802\nGlupson: -0.2584\nCintel: -0.2732\nAzmah: 0.7003\nKronghar: 0.5551\nDarkfallen: 0.255175\nPericlltor: -0.2732\nHallow: 0.9109\nXhaco: 0.7536\nAlker: 0.3612\nSupikka: 0.0444\nHraga: -0.4404\nKireath: 0.4754\nSukebe: 0.3337\nBhairava: 0.311033333333\nDeadboii: 0.3612\nFangledangle: 0.5115\nGetorez: -0.310966666667\nFilav: 0.6249\nGavgarot: 0.4215\nSeung: -0.3682\nMachetejoe: 0.4462\nDoomtusk: 0.3344\nSilversword: 0.6369\nßloodßaße: -0.44315\nSamox: 0.6908\nSkatck: 0.3268\nАвстер: -0.6908\nSamsong: 0.29295\nDeposition: -0.65465\nNecuro: 0.4665\nKealdric: 0.6617\nHowlingrunes: 0.7096\nUnholyknight: 0.3612\nAndrossi: -0.287325\nRaoghnailt: -0.8347\nGallow: 0.4404\nJawzy: 0.8748\nÐårkñåsgül: 0.802\nPapshmir: -0.001025\nCyroh: 0.4201\nSyveli: 0.3612\n***\n** Death Knight other: 0.206599456826\nDemon Hunter pve: 1683\nUlwhednar: -0.392025\nDimihunter: 0.303825\nZinadari: 0.47565\n"
     ]
    },
    {
     "name": "stdout",
     "output_type": "stream",
     "text": [
      "Chethabadi: -0.3612\nTuskerini: -0.5378\nÃve: 0.9169\nViercilla: -0.4019\nNågãsh: -0.7096\nDeema: 0.588666666667\nSnagur: 0.452233333333\nGorastus: -0.5237\nIshtan: 0.4939\nMerilith: -0.5863\nUvi: 0.4497\nLegiana: -0.319416666667\nWanheda: -0.6486\nAegion: -0.3873\nShazidra: -0.493066666667\nNyxzz: 0.577575\nGunerstile: -0.5197\nGulduck: -0.32918\nShaoliin: -0.7152\nRakestun: -0.6491\n"
     ]
    },
    {
     "name": "stdout",
     "output_type": "stream",
     "text": [
      "Mytheas: -0.3384\nBruceleet: 0.4358\nMightydee: -0.3832\nBethrezin: -0.2869\nSaiken: -0.3612\nSearius: 0.377304\nCrucialz: 0.8271\nHadashi: -0.9477\nRaygor: 0.687875\nIzylla: 0.394575\nWarferno: -0.6641\nBlackari: 0.8494\nAfflikt: 0.397\nFelblazed: 0.265\nBraezen: -0.4675\nAldryk: 0.9364\nBlazze: 0.20895\nEthredel: 0.4364\nEridu: -0.2584\nКот: -0.250966666667\nJadendorris: 0.73325\nNightmaresx: -0.042485\nYennifae: -0.359275\nSneakyedge: -0.4767\nKhrunix: -0.38655\nCuddlewaffle: -0.1856\nGediminas: 0.4232\nEvelake: -0.364058333333\nMaragoth: 0.491133333333\nWychwård: 0.4497\nGrímm: 0.5707\nZbir: -0.292566666667\n"
     ]
    },
    {
     "name": "stdout",
     "output_type": "stream",
     "text": [
      "Xyphy: 0.876\nSatharis: -0.3493375\nKyrihs: 0.6631\nAeronwen: 0.7034\nTwenzi: -0.6475\nRachnera: 0.2732\nAtrx: 0.4939\nZàndramas: -0.58965\nDehmonik: 0.5859\nIyzebel: 0.7579\nDödsgreppet: 0.586775\nCanrith: 0.8492\nCelice: 0.63965\nVarathir: -0.47875\nShrift: 0.354638461538\nElggun: -0.70205\nFelcraze: 0.8442\nKìtsy: -0.6808\nKhaas: -0.52556\nHinkertink: -0.35845\nMerasmus: 0.3473\nSarlix: 0.451414285714\nMöè: 0.7964\nEntaari: 0.599466666667\nNatharok: 0.583475\n"
     ]
    },
    {
     "name": "stdout",
     "output_type": "stream",
     "text": [
      "Smosht: 0.306\nXalem: -0.4926\nValerrie: 0.672225\nRaarrgh: 0.296\nKiporion: 0.4151\nDiscochoppa: 0.265725\nTellie: 0.64515\nTaevi: -0.5574\nStormfury: 0.4404\nKillidari: 0.7783\nDemoniel: 0.45905\nGrifen: -0.29245\nNamatus: 0.7597\nTrazik: -0.4588\nInarrin: 0.5261\nVillidan: 0.0265\nMythadros: -0.6787\nDeebug: -0.296\nKwamatis: -0.296\nBeukaapje: 0.6337\nPhocron: 0.0635333333333\nMaevin: 0.4791\n"
     ]
    },
    {
     "name": "stdout",
     "output_type": "stream",
     "text": [
      "Récall: 0.2794\nExequiel: 0.624825\nJesi: 0.3269\nAndraél: -0.4417\nMistyphied: 0.5095\nSarthennis: -0.5513\nNarkis: 0.6705\nSicael: 0.8439\nGhostie: -0.5574\nArchoron: 0.6124\nSlúmer: 0.3461\nMaldaer: 0.3612\nKeayra: -0.552133333333\nLorsan: 0.3901\nHeaat: 0.6165\nVoldro: -0.406233333333\nRiplela: -0.5423\nVilishras: 0.9598\nZealz: -0.50435\nVisas: 0.4466\nInterïtus: 0.5166\nSaichi: 0.8419\nFiddlestixx: -0.5496\nKordelise: 0.63655\nGevera: 0.2806\nCru: 0.27055\nMattdemøn: -0.59302\nRazeloth: -0.294325\n"
     ]
    },
    {
     "name": "stdout",
     "output_type": "stream",
     "text": [
      "Illiradis: 0.4767\nFunkie: 0.326\nHephaistion: 0.5699\nDuskrider: 0.330241666667\nStaggs: 0.47695\nMehlos: 0.8226\nKominax: 0.9905\nJeet: 0.7561\nAroneth: -0.8402\nCobra: 0.5999\nGrumblebeard: -0.76975\nFlóffy: 0.5998\n>>>\n>>>Progress: 250/1683\nTizzle: 0.302133333333\nDinoza: -0.4315\nIllm: 0.8126\nDarktijger: -0.422333333333\nZaili: 0.343\nDreodh: 0.3005\nRavendire: -0.4226\nAugument: 0.296666666667\nSatÿr: 0.375433333333\nVilu: 0.45835\nVerith: 0.71565\nShankszz: -0.6801\n"
     ]
    },
    {
     "name": "stdout",
     "output_type": "stream",
     "text": [
      "Snaplèxity: -0.91265\nKurnous: 0.5374\nProyouknow: 0.278275\nMoochoswag: 0.281666666667\nDooth: -0.27115\nIncubbus: 0.67775\nTsontson: 0.4008\nFilidan: 0.63175\nQaren: 0.567066666667\nShagaru: 0.63145\nKormark: 0.30925\nKayoz: 0.4019\nXaranthia: -0.337833333333\nFeverplx: -0.291066666667\nNyquel: 0.9098\nMemerino: -0.50965\nZensor: 0.2976\nRyutzun: 0.514125\nCyrellia: -0.2997\nMiashu: 0.4319\n"
     ]
    },
    {
     "name": "stdout",
     "output_type": "stream",
     "text": [
      "Kaminar: -0.7541\nTharn: 0.9103\nTriçkster: 0.279925\nVoreck: 0.18255\nEluñê: -0.60065\nÀpple: -0.25624\nJuxtah: 0.7789\nHorrendously: 0.4003\nMathreas: -0.2941\nZenidhari: -0.7096\nKreemzy: 0.611733333333\nStyire: 0.477\nZanae: 0.7111\nDemonsax: -0.422975\nHealerino: 0.70955\nSigurrós: 0.8412\nKalibas: 0.3525\nKibsie: 0.5989\nAliceqt: -0.0172666666667\n"
     ]
    },
    {
     "name": "stdout",
     "output_type": "stream",
     "text": [
      "Coarse: -0.00943333333333\nChíquíta: 0.4213375\nLethalien: -0.5423\nBlindfold: 0.31095\nSevatarian: 0.32044\nRankler: 0.6066\nProtectorz: 0.507366666667\nRaavan: 0.262875\nAiraclya: -0.325675\nBlindoflove: -0.5829\nTokenyogg: 0.29546\nNirom: 0.3548\nPentosaurus: 0.58445\nKalldar: -0.4871\nTokinari: 0.629\nWabisuke: 0.265933333333\nShirvael: 0.629066666667\nFelcannon: -0.37895\nIllidarï: -0.9018\nJerah: 0.4917125\nWarpex: 0.32745\nFelfeather: 0.6477\nVisrys: 0.296\nVilses: 0.8519\nIwillwin: -0.78695\n"
     ]
    },
    {
     "name": "stdout",
     "output_type": "stream",
     "text": [
      "Myamih: -0.31564\nSikozuh: 0.60785\nTazal: 0.4404\nLickin: -0.4588\nKhaosdemon: 0.532616666667\nKachi: 0.8626\nValach: -0.28295\nIhandil: -0.6378\nIllidonk: -0.29325\nLeyendal: -0.45845\nNetalli: 0.3071\nEldainss: -0.6911\nFylgos: 0.7717\nSliske: 0.5859\nIgnasius: 0.7345\nGenei: -0.351708333333\nHornette: -0.6429\nEôsphoros: 0.9239\nSonrisha: 0.47065\nValdanyr: 0.327825\nLeraran: -0.4728\nLahetheas: 0.3612\nDsaasdds: 0.7037\nZerzei: 0.31245\nSaucefar: 0.9276\nZardu: 0.0429\nIzany: 0.498666666667\nIllerin: 0.66445\nChipchub: 0.5728\n"
     ]
    },
    {
     "name": "stdout",
     "output_type": "stream",
     "text": [
      "Lockvd: 0.0048\nKomenasai: 0.3902\nSonuko: 0.4128\nZíát: 0.3182\nShayliana: 0.29032\nQqx: -0.2884\nNavalhas: -0.4404\nSerael: -0.275257142857\nAzaeras: 0.167733333333\nCinyk: 0.54565\nNarvi: 0.4158\nMorrekdarash: -0.8001\nTarttarus: -0.6996\nKimahell: 0.303966666667\nSorcerus: 0.25764\nCthulhú: 0.520633333333\nLemonpanter: 0.383866666667\nFelmortus: -0.615475\nÁlena: 0.31765\nMollyra: -0.3428\nBbmorti: 0.2737\nMikuh: 0.51535\nKaikuri: 0.50135\nИллиам: 0.7436\n"
     ]
    },
    {
     "name": "stdout",
     "output_type": "stream",
     "text": [
      "Suj: 0.59915\n>>>\n>>>Progress: 500/1683\nEmeter: 0.722425\nRazorjack: 0.3141\nØrwell: 0.8984\nAetheríus: 0.2593\nRedoc: 0.3612\nDenshu: -0.34\nMeixy: -0.7344\nOutswagged: -0.4144\nКьённэ: 0.314716666667\nТуози: 0.5574\n"
     ]
    },
    {
     "name": "stdout",
     "output_type": "stream",
     "text": [
      "Blighthoof: 0.7297\nRendosa: -0.265\nLuciferlol: 0.2732\nBriana: -0.3901\nÎllïdan: -0.401233333333\nSeamstress: 0.387266666667\nProskill: -0.32665625\nSoulforged: 0.5719\nElleynrianda: 0.5574\nStans: -0.368671428571\nZarexis: 0.30384\nStickx: -0.8541\nLilras: 0.7814\nFelrius: 0.296\nKyler: 0.429766666667\nOffset: 0.31245\nFrazzit: -0.5588\nPriamos: -0.8205\nRamlethal: 0.8689\nPhosphoros: 0.336\nIrisviel: 0.9859\nSlashmasterx: 0.16999375\nFatish: 0.797\nBelenoss: 0.471033333333\nLaeneya: 0.8221\nGrossgore: 0.28204\nCrode: -0.6641\nHakla: 0.0954166666667\n"
     ]
    },
    {
     "name": "stdout",
     "output_type": "stream",
     "text": [
      "Gravetouch: 0.5998\nIshammael: 0.3022\nHanjaab: 0.5994\nAzdryan: 0.33835\nAzszora: 0.2584\nGrantlerlein: -0.5106\nThemountainn: 0.34735\nRipsaaw: -0.4313\nMiylee: 0.6278\nNecrotiqx: 0.516733333333\nNòmm: -0.4019\n"
     ]
    },
    {
     "name": "stdout",
     "output_type": "stream",
     "text": [
      "Sivala: -0.26736\nDevlish: -0.42865\nYsab: 0.2787\nNeronter: 0.43095\nJæveljeger: 0.325466666667\nFærina: 0.6027\nVarmathridas: 0.4199\nIgnite: -0.3612\nTiyanai: -0.3098\nSchmilblik: -0.40025\nHolleeder: 0.320266666667\nDemonkillers: -0.466275\nIsmodai: 0.45819\nТсаледар: 0.298633333333\nRaigo: 0.4404\nAerythlea: 0.42195\nTiera: -0.25835\nÓlszál: -0.08515\nMaargul: 0.403420833333\nAlienpasta: -0.43055\nVorithien: -0.6597\nÉryne: -0.9029\nDhjengiss: 0.8581\nKazadorx: 0.382116666667\nNauriel: 0.274054166667\nDevilseeker: 0.385833333333\nVusi: -0.25995\nНаарт: -0.4939\nMaleficara: -0.3384\nVarinak: 0.2664\nSilvergrace: 0.5719\nAlodan: -0.7475\n"
     ]
    },
    {
     "name": "stdout",
     "output_type": "stream",
     "text": [
      "Rédd: 0.37865\nGwynolis: -0.3646\nZykor: 0.3407\nKallidan: 0.773925\nSartharion: -0.2757\nAmorcito: -0.8957\nElysibeth: -0.278421428571\nAlgalord: 0.83525\nMaggelan: 0.469\nDemonhaunter: 0.33775\nGloris: -0.457\nHofferson: 0.7783\nRademon: -0.31535\nCeres: 0.8415\nUlfrahn: -0.3506\nTalvarsyl: -0.20165\nSalazzin: -0.57205\nDownbreak: 0.7184\nWasga: -0.4406\nAewynn: 0.2787\nRononoa: 0.9542\nSerhaak: 0.28315\nNetjeret: -0.6083\n"
     ]
    },
    {
     "name": "stdout",
     "output_type": "stream",
     "text": [
      "Illili: 0.35665\nHakuteiken: 0.2716\nCyrandis: -0.429075\nCeleras: 0.33245\nParasiitti: 0.34852\nJaunt: 0.5927\nKryxus: 0.2557\nFelanna: 0.6908\nÙnsullied: 0.29755\nTyrannica: -0.261866666667\nIhadorka: -0.006925\nMégazia: 0.40905\nElleron: -0.31245\nCynthell: 0.2966\n"
     ]
    },
    {
     "name": "stdout",
     "output_type": "stream",
     "text": [
      "Necrogasm: -0.323666666667\nDin: -0.3149\nMshén: 0.5601\nРитуалз: 0.6379\nAgateophobia: 0.7766\nNyné: -0.361188888889\nSharnor: -0.4019\nRenron: -0.73125\nMyrling: 0.449\nYunashi: 0.5757\nWaynekarr: -0.4767\n>>>\n>>>Progress: 750/1683\nSyeira: 0.3612\nTurbochode: -0.0097\nKoradan: 0.5719\nSithral: 0.5599\nAlwyr: 0.4311\nCalluxus: -0.159175\n"
     ]
    },
    {
     "name": "stdout",
     "output_type": "stream",
     "text": [
      "Elynaee: 0.349883333333\nRicharddh: -0.29705\nArvadus: 0.45805\nVerathix: -0.5966\nNavhkrin: 0.50105\nBlygekenta: -0.32185\nMaedya: 0.273333333333\nTerilius: 0.3738\nRekham: 0.06155\nShagrak: -0.34344\nDotneyspears: 0.7615\nEvilbefall: -0.6705\nCyreath: -0.8187\nRexwell: -0.7783\nGreedø: 0.4008\nThornial: -0.0837583333333\nTraxië: 0.34\nKhazir: 0.05975\nHannibalurg: 0.4019\nÓberon: 0.4639\nFunkfenix: -0.5199\n"
     ]
    },
    {
     "name": "stdout",
     "output_type": "stream",
     "text": [
      "Sebnemleon: 0.55346\nQuasar: -0.691666666667\nDherica: 0.8126\nNemata: 0.2797\nNhadaly: 0.60625\nDtpx: -0.3675\nRaiev: -0.4542\nFloffí: 0.4557\nIzilla: -0.442733333333\nZag: 0.540733333333\nFeloranis: -0.27795\nVulgrath: 0.8479\nSatlaeash: 0.296\n"
     ]
    },
    {
     "name": "stdout",
     "output_type": "stream",
     "text": [
      "Kialea: 0.537\nOndeugend: -0.1855\nNortos: 0.0412791666667\nNaxxos: 0.8765\nFelears: 0.585883333333\nRehok: -0.5719\nVashilya: -0.558033333333\nVolniir: 0.541078571429\nOffense: -0.9231\nMugiwarasan: 0.9273\nAdrahim: -0.455825\nMàdñess: -0.457\nIronyi: 0.63665\nYamidenis: 0.4566\nAftermäth: -0.33185\nDemonaliza: 0.52164\nRashbah: 0.80175\nAdaryn: 0.255133333333\nAnyaka: -0.52565\nZpanky: 0.4404\nUsagikun: 0.7824\nGilrom: 0.584183333333\nSad: -0.3243\nDarthbow: 0.9757\nSeriouslyy: 0.6908\nXianxiesiwan: 0.46625\nHiki: -0.5423\nWtficantsee: 0.5106\nZerrael: -0.6368\n"
     ]
    },
    {
     "name": "stdout",
     "output_type": "stream",
     "text": [
      "Seraphim: 0.3888\nKeelvaen: 0.278533333333\nShcylla: 0.6432\nRopuchen: 0.7402\nPlsnurfme: 0.43335\nLyanne: 0.3482\nSeluniel: -0.5994\nRylárth: -0.4009\nMaziane: -0.296166666667\nYstah: 0.48615\nMirjiam: 0.8968\nNatlian: -0.3141\nSeruuna: 0.27564\nChillydan: 0.28595\nValquirian: 0.54985\nKazima: 0.501466666667\nBückshot: 0.6124\nLilliedan: 0.7579\nKoumas: 0.7178\nXilliän: 0.0751119047619\nImlerith: -0.6249\n"
     ]
    },
    {
     "name": "stdout",
     "output_type": "stream",
     "text": [
      "Myriwen: -0.673\nEustathious: 0.40295\nLelnadryn: -0.5325\nCrackbaby: 0.421576190476\nMabb: 0.4019\nAellar: 0.6166\nTerranis: 0.271333333333\nXugo: -0.300575\nHarambae: -0.33011875\nSarachiya: -0.002325\nSilphey: 0.7551\nXevac: 0.5759\nRocknu: -0.4939\nGeiger: -0.303355\nShâdòw: 0.264\nVädos: -0.3162\nBaalgrind: 0.289233333333\nKesari: 0.3109\nFroghunter: 0.2615\nAnathíel: 0.309375\nSelaani: -0.9393\nWoxiok: -0.0543\nBonbonx: -0.448233333333\nGraice: 0.555875\n"
     ]
    },
    {
     "name": "stdout",
     "output_type": "stream",
     "text": [
      "Viriael: 0.2169\nVelori: 0.45115\nAdipose: 0.6705\nZekken: 0.36865\nVålnad: 0.3595\nRey: 0.468766666667\nTimbô: -0.224175\nRetnuhnomdé: 0.28535\nLillydari: 0.26955\nFelpassion: 0.4046\nNelatharri: -0.3607\nEnsouled: -0.398792307692\nDemonkitty: -0.8074\nAentael: 0.8868\nFluidic: 0.9891\nCarantir: -0.8194\nHeeat: 0.31845\nTuppot: 0.4019\nXeidohn: -0.478925\nTiás: -0.2582\n"
     ]
    },
    {
     "name": "stdout",
     "output_type": "stream",
     "text": [
      "Flaminea: -0.078625\n>>>\n>>>Progress: 1000/1683\nKheála: 0.416925\nÏcøn: 0.7267\nAfly: 0.455475\nHolyester: 0.38915\nНатуралыч: 0.420033333333\nMandemz: 0.4105125\nChaijong: 0.6356\nRoxanys: -0.340433333333\nAlyenna: 0.13515\nZianai: 0.4939\nTaelan: 0.4404\nNekktarine: 0.6317\nVoidwind: 0.51565\nVetement: 0.4588\nRivler: 0.44\nXánxus: 0.4719\nBurshy: -0.49961\nDyute: 0.6466\nEleli: 0.7689\nCritq: -0.43745\nSmørholm: 0.46485\n"
     ]
    },
    {
     "name": "stdout",
     "output_type": "stream",
     "text": [
      "Marethari: 0.22849\nRottén: -0.311216666667\nMeyér: 0.5786\nOsmosys: 0.290766666667\nKamenn: 0.349733333333\nJerred: -0.0312666666667\nShamanoss: 0.9204\nJacks: 0.3417\nKyoto: 0.431\nLamasantu: 0.26045\nMadflipz: -0.31565\nVenteta: -0.3821\nLuissa: 0.7351\nZoomout: -0.5106\nElle: -0.3243\nRonzal: 0.475733333333\nNieur: 0.29784\nCrizzd: 0.35375\nWipsie: -0.39334\nNewgameplus: 0.6908\nIsabellethea: 0.3155\nGoodfelling: -0.37895\nКоссат: 0.308666666667\nShadowmourne: -0.3662\nDathedr: 0.7783\n"
     ]
    },
    {
     "name": "stdout",
     "output_type": "stream",
     "text": [
      "Anteran: -0.3903\nГлюшенка: -0.4927\nRhevan: 0.3321\nDeskari: 0.3773\nRoponmatsu: -0.504975\nRalffeh: -0.64935\nGlewair: -0.469833333333\nHawaiipizza: -0.391033333333\nZherlthsh: -0.9595\nTsuburu: 0.348858333333\nNôwâ: 0.8074\nMacillidan: 0.51145\nTukkîî: 0.5565\nGrimshank: 0.348666666667\nZeraph: 0.7269\nKarlaen: -0.477433333333\nFuturesoundx: 0.283525\nChckn: 0.2553\nSimeroth: 0.8388\nMonsterbaby: -0.4013\nÍnvictús: 0.4506875\nDariun: 0.308841666667\nZiyra: 0.743\nАлхея: 0.6946\nSilmacil: -0.3982\nКинетт: -0.296\nValithrîa: -0.2997\nLigeia: 0.3682\n"
     ]
    },
    {
     "name": "stdout",
     "output_type": "stream",
     "text": [
      "Boomtatoe: 0.9395\nEldina: 0.278757142857\nLoconfetti: 0.520557142857\nKylér: 0.4262\nOgayth: 0.511325\nValarjar: 0.2581\nRaynella: 0.40005\nSkazií: 0.3054\nAlataiwin: 0.392725\nMornìngstar: -0.5067\nWoits: -0.9246\nMattdæmon: 0.3994\nStrygg: 0.420214285714\nZérrín: 0.485525\nVthedh: -0.597683333333\nHeellraiser: 0.471183333333\n"
     ]
    },
    {
     "name": "stdout",
     "output_type": "stream",
     "text": [
      "Thebetrayed: -0.53765\nIhealhard: -0.27035\nVandeta: 0.5415\nOmgkillme: 0.3634\nRazab: 0.4588\nPorkgai: 0.7506\nBatchick: 0.26825\nGiforce: 0.4696\nDemønlord: -0.267233333333\nVorkalt: 0.266733333333\nCorypheus: -0.734\nZeryn: 0.4019\nThoran: -0.3182\nAngstridden: -0.0787\nBitterness: -0.57105\nKazoon: -0.0479321428571\nDiaøxydh: 0.471275\nKogoshi: 0.430925\nVesra: -0.4106\nDravahki: 0.47095\nLeoteras: -0.27815\nAlgeriano: 0.27\nGoreqt: -0.403316666667\nTahamine: -0.318571590909\nAragonix: 0.2524\nStarlet: -0.824\n"
     ]
    },
    {
     "name": "stdout",
     "output_type": "stream",
     "text": [
      "Samhaine: 0.9134\nDarkath: -0.3415\nVeyoun: -0.34\nVaelanduil: 0.4019\nPacorra: 0.4926\nShírudan: 0.273333333333\nBlackgrip: -0.5229\nDølly: 0.7063\nSúms: -0.256044444444\nRagnay: 0.56035\nAwka: -0.5324\nVaylok: 0.283363333333\nManirai: -0.6778\nDylfs: 0.7402\nVolgorth: 0.453533333333\n"
     ]
    },
    {
     "name": "stdout",
     "output_type": "stream",
     "text": [
      "Supergokuman: -0.3182\nLóec: 0.8732\nDarkkara: 0.722\nKnuckz: -0.268\nVamph: -0.8338\nSathath: 0.6369\nZaliria: -0.4404\nDarkdlver: -0.836\nHolleeders: 0.3948\nBizniss: -0.5613\nDankfuse: 0.3806\n>>>\n>>>Progress: 1250/1683\nFalíndra: 0.43435\nKrri: 0.3612\nSwecat: -0.4735\nNikital: 0.51205\nSterin: -0.03376\nStormchaser: 0.308133333333\nCables: 0.4484\nBórog: 0.882\nDemonkel: -0.5563\nShammoz: -0.296916666667\nShakegirl: -0.483033333333\nÖptixy: -0.288875\n"
     ]
    },
    {
     "name": "stdout",
     "output_type": "stream",
     "text": [
      "Shyvani: -0.399025\nLiluth: 0.9552\nLillyneh: -0.3818\nJenovia: 0.5106\nIllidelrey: 0.5106\nYvöw: -0.1742\nKhronix: -0.4941\nSøulbolt: 0.365925\nAvelaach: -0.752\nReavx: 0.112775\nPayday: 0.2834\nThecrow: -0.56605\nVâlac: 0.32118\n"
     ]
    },
    {
     "name": "stdout",
     "output_type": "stream",
     "text": [
      "Anacondra: 0.457533333333\nZayle: -0.482933333333\nRagneroker: -0.4588\nAnshrr: -0.3104\nDhluuk: -0.3276\nDreadroute: -0.4934\nPalomides: -0.57245\nStonefire: -0.72735\nTorushfor: -0.434566666667\nPeka: -0.4939\nElstaniel: 0.358683333333\nWuwy: -0.0935875\nHúmúz: -0.34895\nGriselband: 0.257925\nGalatea: -0.2509\nDragonsworn: 0.7493\nSeverence: 0.4423\nDûcky: 0.816075\nIllidansmom: 0.2553\nZordrager: -0.208275\nGreymalkin: 0.293533333333\n"
     ]
    },
    {
     "name": "stdout",
     "output_type": "stream",
     "text": [
      "Melinoè: 0.28315\nVellani: 0.6296\nSolidari: -0.304375\nPokémøn: 0.3811\nHogard: 0.6221\nRôbin: 0.4951\nFreazy: 0.7051\nKryptonia: -0.7506\nSorrowsong: 0.8225\nBrodyx: -0.4019\nVolcethra: 0.3243\nSaivara: -0.31845\nOrdps: 0.28955\nSadnessdh: -0.560375\nStraizo: 0.266166666667\nSwattó: -0.008\nAlnya: 0.5409\nTelraniel: 0.623833333333\nStarbringer: -0.26426\nNishraa: 0.38114\nXrn: -0.302775\nSomeoneelse: -0.9513\n"
     ]
    },
    {
     "name": "stdout",
     "output_type": "stream",
     "text": [
      "Nazurel: 0.428183333333\nDanteresist: 0.44345\nGiac: -0.7184\nCrityqt: 0.7905\nRovver: 0.5935\nYavwren: 0.3062\nAlthaer: 0.4063\nOrlanditto: 0.4088\nÄbbadon: 0.51535\nSzynszyla: 0.4588\nSmør: 0.2923\nConcobanus: 0.4153\nKujareph: 0.29998\nGlaive: -0.8567\nMerch: -0.3315\nTaehrah: 0.0323\nValac: 0.2732\nTobby: 0.587375\nCeased: 0.319375\nSylaria: 0.9117\n"
     ]
    },
    {
     "name": "stdout",
     "output_type": "stream",
     "text": [
      "Stalliona: -0.00482828282828\nTrajyah: -0.0824\nAureliol: 0.4404\nGrayhound: 0.2905\nGhazzy: 0.305125\nRhoxy: -0.37962\nHelyavesh: 0.00478333333333\nMalicerose: 0.250225\nFenyx: 0.4449\nNoztar: 0.70465\nWibodemonas: -0.48395\nRépia: -0.2601\n"
     ]
    },
    {
     "name": "stdout",
     "output_type": "stream",
     "text": [
      "Felspark: 0.303966666667\nMacglaiver: 0.388254545455\nMaliceph: 0.458975\nOrbie: -0.263727272727\nMuchilala: 0.361033333333\nChuckbuss: 0.5574\nNivarra: 0.5041\nKyaren: 0.622788888889\nKaelía: 0.3291\nAbacinate: 0.348366666667\nCelesie: 0.875\nJeduthun: 0.6486\nDrainhope: 0.79595\nDoglatemlive: 0.6369\nAltheseus: -0.296\nDestaine: -0.8319\nMileyycyrus: 0.758033333333\nNightrapture: 0.277533333333\nLakutus: 0.1101\nPhuerox: -0.66245\nDragush: -0.289133333333\nDocness: 0.297625\nAnate: 0.2723\nQuarrel: 0.34\nRadwell: 0.48215\n"
     ]
    },
    {
     "name": "stdout",
     "output_type": "stream",
     "text": [
      "Illadinxx: 0.502275\nSorén: -0.6818\nKillyox: 0.3883\nReckez: 0.6114\nAcaru: 0.4404\nPhizz: -0.527\nMisanthropy: 0.38155\n>>>\n>>>Progress: 1500/1683\nZibarr: 0.353666666667\nThaalia: 0.62935\nKunxxion: 0.582\nEltheas: 0.469133333333\nDhrow: 0.296\nMaglyx: 0.5572\nCouchidan: -0.332125\nKairijo: 0.2732\nDamnata: -0.5994\nMae: 0.3454\nCaim: -0.432366666667\nXulphur: 0.34675\nFelstahl: 0.639566666667\nRainel: 0.296\nHod: -0.42255\nVyleren: 0.58855\nBackscuttler: -0.36355\nPlundari: -0.03795\nLouislítt: 0.1737\nIllitonkk: 0.3054\nKíllídan: -0.6557\nNihilan: 0.6597\nVzag: 0.7874\nAravan: 0.5994\n"
     ]
    },
    {
     "name": "stdout",
     "output_type": "stream",
     "text": [
      "Dhianeila: 0.39065\nPaleboy: 0.40835\nHvalen: -0.294222222222\nШерхану: -0.5267\nCelisè: -0.3429\nMeronn: 0.6494\nOrx: -0.270857142857\nValjar: 0.56575\nShadowglaive: -0.5059\nDayumcrit: 0.319683333333\nElmerfud: 0.4003\nWhätislove: -0.296\nSignless: 0.34255\nBukav: 0.7865\nMollismeni: 0.5017\nVesane: -0.9404\nRaijú: 0.43955\n"
     ]
    },
    {
     "name": "stdout",
     "output_type": "stream",
     "text": [
      "Arnathon: -0.27612\nEuthanize: -0.5719\nKulvar: 0.1993875\nXeanee: 0.355133333333\nCennix: -0.268366666667\nEthaliranan: 0.252808333333\nHuntsman: -0.44615\nFraghunterdh: 0.4111\nAviemore: 0.34\nMókoo: 0.67325\nIntruder: 0.29226\nJahaira: 0.8765\n"
     ]
    },
    {
     "name": "stdout",
     "output_type": "stream",
     "text": [
      "Astarhel: 0.448866666667\nGrafschennis: 0.8708\nHaydor: 0.29675\nSaelyber: 0.408357142857\nFelash: 0.298733333333\nReyalyn: 0.279833333333\nXulrogg: 0.3528\nNikolase: 0.36704\nKorran: -0.319333333333\nThyrit: 0.513616666667\nEbonsoul: 0.319625\nJerracho: 0.4767\nWolfzgang: -0.6256\nAleal: 0.3758\nDeepwood: 0.4278\nVesperina: 0.4926\nSaelar: -0.2948\nBrammerr: 0.34\nPreparedbg: 0.26335\nZanvean: 0.765\nDragonoth: 0.7096\nHoltt: -0.401575\nYatsuchi: 0.50225\n"
     ]
    },
    {
     "name": "stdout",
     "output_type": "stream",
     "text": [
      "Jinxexs: 0.29052\nLilîith: 0.593066666667\nZaeros: 0.5478\nLilidyn: 0.43015\nSpeckblade: -0.7717\nBloodwrath: 0.030025\nEiranni: 0.4724\nVikingu: -0.474725\nKrayzie: 0.341683333333\nFershiedh: 0.6166\nMorwena: -0.465\nPirjoanneli: -0.3467\nKratos: 0.243766666667\nHexanis: -0.442733333333\nRyuzáki: -0.27055\nArath: -0.45175\nCorridh: 0.405\n"
     ]
    },
    {
     "name": "stdout",
     "output_type": "stream",
     "text": [
      "Lazerhawk: 0.399433333333\nReyalynn: 0.4753\nArokhantoss: -0.4215\nRhâziel: 0.6824\nPetérpwn: 0.28375\nLeylin: 0.57585\nSaifon: 0.08482\nTaleyn: -0.379225\nÐevil: 0.638266666667\n***\n** Demon Hunter pve: 0.142761201042\nDemon Hunter pvp: 536\nCoolstoryßro: -0.25125\nMetallus: -0.3587\nGenei: -0.329216666667\nChroth: 0.327675\nPriamos: 0.6486\nRaphner: 0.0902833333333\nHosomaki: -0.427766666667\nСиднайт: -0.3784\nTrotten: 0.33652\nDsaasdds: -0.3248\nLillyneh: -0.3794\n"
     ]
    },
    {
     "name": "stdout",
     "output_type": "stream",
     "text": [
      "Khronix: -0.3057\nFraghunter: 0.368925\nSaracenn: -0.5106\nDemoniel: -0.04535\nKámu: 0.3756\nТебепривет: 0.3421\nFlameztar: 0.374633333333\nReavx: -0.495365\nThecrow: -0.287361538462\nAegion: -0.09425\nRøland: 0.3612\nWolfzgang: 0.8105\nPinkapopper: 0.85065\nRrose: -0.257372727273\nMove: 0.3612\nAzurex: 0.5093\nQqx: -0.363275\nLeoteras: -0.332553846154\nLatexfear: -0.594566666667\nSelephius: -0.75065\nJagreenlem: -0.257775\nRagneroker: 0.320425\nSicarìus: 0.9557\nWoxkazbrez: -0.426733333333\nKeelvaen: -0.5267\nShcylla: 0.26994\nDreadroute: 0.8178\nMyriwen: -0.6115\nCelerithxixx: 0.5729\n"
     ]
    },
    {
     "name": "stdout",
     "output_type": "stream",
     "text": [
      "Adirei: -0.4642\nPeka: 0.707\nYstah: -0.538775\nZanaeh: 0.67855\nHúmúz: 0.27155\nSilevren: 0.2785\nKaun: 0.3869\nHadashi: 0.62355\nVusi: -0.269528571429\nValerrie: 0.166725\nValdanyr: 0.446233333333\nAò: 0.7528\nRhennyn: -0.406677857143\nThemetal: -0.2814\nXtal: 0.31555\nShinokaze: -0.269433333333\nSolidari: 0.5517\nElendion: 0.5404\nEmeter: -0.8689\nAldryk: 0.82355\nHarambae: -0.5033\n"
     ]
    },
    {
     "name": "stdout",
     "output_type": "stream",
     "text": [
      "Sorrowsong: 0.3328625\nFlaminea: -0.296\nBlackhunter: 0.936\nWireframe: -0.4939\nJadendorris: -0.34\nPyrthinius: 0.3454\nHepburn: 0.394377777778\nIzany: 0.355\nNexiliaa: 0.7767\nSadnessdh: 0.26095\nOrbie: 0.446233333333\nAshandil: -0.7177\nBlighthoof: 0.60325\nVädos: -0.467566666667\nZhamyr: 0.40235\nXrn: -0.8608\nDafante: 0.3818\nIrimi: -0.6486\nUda: -0.882\nGilrom: -0.3605\nZalaer: -0.29618\n"
     ]
    },
    {
     "name": "stdout",
     "output_type": "stream",
     "text": [
      "Dödsgreppet: 0.261666666667\nDahlzul: -0.28208\nTaziel: -0.26335\nZarexis: -0.475975\nBraybark: 0.255175\nGiac: 0.6808\nCorgi: 0.2846\nAzaraphiela: 0.3841\nVarathir: -0.162425\nLinasu: -0.3468\nSkazií: -0.5513\nVaelanduil: -0.309816666667\nFelcannon: 0.4939\nSzynszyla: -0.8689\nAftermäth: 0.4939\nScarletcrusd: 0.6059\nHemondunterr: -0.5848\nMerasmus: -0.39495\nМезмерия: -0.4115\nKrayzie: 0.4358\nAstarhel: -0.326533333333\nNatharok: 0.5997\nNekromanis: 0.26065\nAthalnarei: 0.39302\nValac: -0.4939\nRazidd: -0.3179\n"
     ]
    },
    {
     "name": "stdout",
     "output_type": "stream",
     "text": [
      "Tellie: -0.9022\nGrossgore: -0.4939\nIamtheattqck: 0.32465\nAlibabaali: 0.4221\nLøp: 0.270014285714\nMegumín: 0.44415\nSaivara: 0.040325\nCanibabe: -0.253666666667\nZaeros: 0.501733333333\nGhazzy: -0.3172\nIhandil: -0.4404\nGordas: 0.34575\nDemønbolt: 0.6083\nVillidan: 0.8824\n"
     ]
    },
    {
     "name": "stdout",
     "output_type": "stream",
     "text": [
      "Liluth: 0.79455\nSeriouslyy: 0.394116666667\nLãin: -0.6249\nKak: -0.5022\nInterïtus: -0.4576\nGlevenhuddl: 0.35835\nDreadless: -0.68315\nLøre: -0.8708\nBumpy: -0.373276666667\nWran: 0.8126\nLockvd: 0.349933333333\nHotsandrun: -0.4184\nÄkuma: -0.4767\nEstinien: 0.69955\nQthunterr: -0.4696\n>>>\n>>>Progress: 250/536\nHayling: 0.3103125\nKoradan: -0.2575\nXevac: 0.208835\nSicael: -0.0388625\nNøkiya: 0.6369\n"
     ]
    },
    {
     "name": "stdout",
     "output_type": "stream",
     "text": [
      "Burshy: 0.4215\nFelmortus: 0.8111\nShowc: 0.44095\nRiplela: 0.4707\nIsmodai: 0.443908333333\nZealz: -0.6925\nMarethari: 0.08605\nDoglatemlive: -0.6369\nBaleah: 0.6369\nMaargul: 0.444525\nKarrados: -0.34\nFelfeather: 0.34\nMileyycyrus: -0.355533333333\nCru: -0.4915\nVaralorne: 0.34\nIlliradis: -0.007825\nRúsëa: 0.323225\nMaevin: -0.4869\nHephaistion: 0.3062\nIlladinxx: -0.311433333333\nDevilseeker: 0.711375\nSorén: 0.67565\nAzhu: 0.4588\nAcaru: -0.28528\nHornsalot: -0.269133333333\nBlindandevil: -0.299133333333\nOrphx: -0.38125\nZherlthsh: -0.34132\nRaiev: 0.46295\n"
     ]
    },
    {
     "name": "stdout",
     "output_type": "stream",
     "text": [
      "Blindoflove: -0.34\nJeet: -0.375171428571\nFlóffy: -0.297266666667\nSnapoff: 0.299666666667\nMaglyx: -0.4767\nRahesh: -0.338333333333\nElisse: -0.520525\nDeepoxysbabe: 0.59235\nDamnata: 0.475133333333\nDarktijger: -0.8655\nTukam: -0.76195\nZaili: 0.385633333333\nMagrador: 0.2785\nSarthennis: -0.49065\nKratos: -0.711466666667\nIsabellethea: -0.141641666667\nAlyenna: -0.5127\nWalhor: -0.257925\nIle: -0.3548\nMorgraith: -0.9001\n"
     ]
    },
    {
     "name": "stdout",
     "output_type": "stream",
     "text": [
      "Severemon: 0.45455\nHakuteiken: 0.6733\nSnaplèxity: -0.9201\nAdam: -0.4841\nNishraa: 0.557675\nNaure: 0.521383333333\nKurnous: 0.205025\nZekken: -0.188533333333\nSalmahayak: 0.7809\nHvalen: 0.45985\nDevlish: 0.5106\nQwned: 0.31235\nVoìd: 0.62475\nShagaru: -0.85225\nTaelan: -0.632833333333\nGrantlerlein: -0.765\nMorrekdarash: -0.27186\nNekktarine: -0.403875\nDeithwen: -0.4019\nSolanj: -0.57585\nAngwestrife: 0.3612\n"
     ]
    },
    {
     "name": "stdout",
     "output_type": "stream",
     "text": [
      "Voidwind: 0.348866666667\nStrife: -0.5574\nSyannea: -0.4158\nDarqin: 0.5032\nMollismeni: 0.0469833333333\nCroniq: -0.3412\nBoomtatoe: 0.27425\nImpêrius: -0.0602416666667\nAdun: -0.9244\nTontikbunny: 0.325833333333\nEluñê: -0.6658\nАакс: 0.5766\nCennix: -0.426366666667\nFraghunterdh: 0.383785714286\nZérrín: 0.3118\nMurgleys: 0.424333333333\nLatex: 0.7184\n"
     ]
    },
    {
     "name": "stdout",
     "output_type": "stream",
     "text": [
      "Thebetrayed: -0.377385714286\nNoskillidan: -0.28425\nMornìngstar: 0.3864\nDudlicek: 0.6369\nFelender: -0.34\nSaelyber: -0.4008\nMóvex: 0.519533333333\nPorkgai: 0.3182\nMatharias: -0.463\nMeldy: -0.26495\nCropain: -0.9244\nCorypheus: -0.28915\nNavhkrin: 0.3171\nStrygg: 0.54185\nGrevyn: -0.4215\n"
     ]
    },
    {
     "name": "stdout",
     "output_type": "stream",
     "text": [
      "Bitterness: 0.507\nMalistar: 0.4404\nDiaøxydh: 0.4215\nRekham: -0.6908\nGarloth: 0.6369\nGoreqt: 0.60345\nFerolas: 0.501366666667\nDtpx: 0.551625\nLükë: 0.387342857143\nLithae: -0.3987\nThyferion: 0.4019\nJinxexs: 0.354909090909\nZae: 0.682433333333\nElinchayiel: -0.441033333333\nBatchick: -0.3067\nFunkfenix: 0.26355\n"
     ]
    },
    {
     "name": "stdout",
     "output_type": "stream",
     "text": [
      "Bloodwrath: -0.4588\nEnforcer: 0.561175\nExotrix: -0.6134\nEiranni: -0.29295\n>>>\n>>>Progress: 500/536\nSmørholm: 0.604166666667\nFershiedh: -0.296\nEfialtes: 0.8658\nVolgorth: -0.84\nAvinix: 0.5658\nSupergokuman: 0.2714\nFúrion: 0.8442\nNortos: 0.1303\nGrombo: 0.263483333333\nPensive: 0.7351\nEldainss: -0.4247\nYashuoara: -0.46275\nSliske: 0.35915\n***\n** Demon Hunter pvp: 0.0206202245819\nDemon Hunter other: 1691\nDunyc: 0.4199\nColdaralon: 0.3818\nEasymodus: -0.4215\nPaisho: -0.3447\nRozee: -0.296\nGorastus: 0.5285\nKhârn: -0.5423\nIlldain: -0.4391\nDeelu: 0.4696\nIalda: -0.4341\nViercilla: 0.4404\nNågãsh: -0.4939\nZzoodd: -0.5423\nArtven: 0.547775\nCuboom: -0.6488\nMorvran: -0.32985\nÁhlii: 0.6166\nAlmenara: 0.4199\nSaracenn: 0.7351\nNormal: 0.4588\nMerilith: 0.61195\nFysm: 0.5719\nMaladis: 0.4215\n"
     ]
    },
    {
     "name": "stdout",
     "output_type": "stream",
     "text": [
      "Astarhel: -0.00865\nPinkapopper: 0.366\nVinzii: 0.53415\nРитуалз: 0.14205\nNyxzz: -0.7459\nCouchidan: 0.5589\nKantaris: 0.2825\nLiangyu: 0.09145\nGlaive: 0.16675\nKealtaron: 0.2598\nBellymugger: -0.04295\nBruceleet: 0.48865\nFindabair: 0.49195\nDeäthlogen: -0.0316\nSaiken: -0.5271\nIrisviel: 0.56425\nZhae: -0.4721\nDanomel: 0.3612\nMikenshi: -0.7394\nGoodgrip: -0.9153\nZedalon: 0.4404\nDolffz: 0.2516\nAglaron: 0.7906\nMercraw: 0.7845\nAnimist: 0.3238\nØrwell: 0.4404\nValtr: 0.5927\nBlazze: -0.5423\nBafometz: 0.5847\nMonoceroz: 0.3612\nGravetouch: -0.8591\nVidia: 0.2732\nKhrunix: -0.1213\nDunlad: -0.5994\nMaryjaned: 0.728475\nÁlida: 0.6249\nZpanky: 0.3096\nSeredrin: 0.2553\nSatharis: 0.3397\nKyrihs: -0.5261\nRehymaen: 0.3488\nZàndramas: 0.264266666667\nCanrith: -0.9285\nTaziel: 0.6124\nShrift: 0.7351\nArchima: 0.3612\nKìtsy: -0.02075\nDaery: 0.34\nWarning: 0.7184\nElendion: -0.48845\nOrlandomisch: -0.455133333333\nLillidanx: 0.2553\nShindalah: 0.5423\nNatharok: 0.3348\nBazgrael: 0.7184\nMercuriò: -0.35795\nKiporion: -0.6293\nSaleera: -0.78215\nZerrael: -0.6908\nLilinne: -0.9118\nStormfury: 0.5346\nKorvús: 0.2732\nOxene: 0.3612\nInarrin: -0.557675\nNetharêl: 0.6597\nГриняш: 0.7184\nMimimí: 0.8126\nShalreyth: 0.4588\nFlorenzi: 0.5859\nKwamatis: 0.53915\nDhungerous: 0.38035\nMemedan: 0.6249\n"
     ]
    },
    {
     "name": "stdout",
     "output_type": "stream",
     "text": [
      "Wran: 0.4404\nBlindfool: 0.403225\nFelhari: 0.6652\nEoria: 0.3612\nHyperi: 0.349066666667\nJesi: -0.7217\nElinchayiel: 0.3502\nKoradan: 0.8011\nMettifrags: 0.3651\nHavoc: -0.00925\nFluidic: -0.4157\nSicael: 0.6124\nNøkiya: 0.6597\nArchoron: 0.8573\nAsherán: -0.3398\nZerritus: 0.30045\nKeayra: -0.2755\nHeaat: 0.8705\nRiplela: 0.34\nSquallec: 0.7929\nVilishras: 0.7804\nZealz: -0.5423\nDeadlymínd: 0.4404\nFïnïä: -0.7906\nGevera: 0.4824\nCru: -0.3182\nIzany: 0.5648\nRazeloth: 0.328854166667\nIlliradis: -0.5574\nMarsimotó: -0.3237\nFylgos: 0.62105\nKarzara: -0.28545\nBåtkliarn: -0.296\nAllerielle: 0.7096\nKroepoek: 0.3587\nSkazií: -0.5146\n>>>\n>>>Progress: 250/1691\nDecymus: -0.2732\nRanjana: -0.3404\nJeet: 0.3821125\nSaani: 0.8807\nFlóffy: 0.2553\nRaýzor: 0.4642\nElisse: 0.739\nCurdle: -0.264\nScu: 0.4581\nMûuhh: -0.5994\nVallaç: 0.4404\nGrafschennis: -0.5719\nDemonmarks: 0.5816\nReyalyn: -0.080575\nMirawr: -0.255\nPopof: -0.3612\nHrmmf: 0.34\nKurnous: -0.46905\nLatex: 0.783\nGulduck: -0.4019\nHiki: 0.4588\nShagaru: 0.553466666667\nEzamae: 0.4927\nBalkanhero: 0.3987\nBeshalora: 0.2717\nValanhyr: -0.2985\nHatefxck: 0.50475\nThebetrayed: 0.0759\nMemerino: -0.7131\nZensor: -0.7827\nShinrayz: 0.6369\nScared: 0.4588\nSenay: 0.4796875\nNoskillidan: 0.3321\nTriçkster: -0.4404\nCrawish: 0.7989\nLorsan: 0.514166666667\nPyttipanda: -0.8005\nEluñê: -0.746\nAlorían: -0.4939\nBonishin: 0.5473\nZenidhari: 0.356933333333\nAlyhara: 0.3724\nKhareal: -0.289083333333\nCarlzon: 0.351\nDemonsax: -0.28073\nKreemzy: -0.5727\nGorelol: -0.5544\nVivus: -0.6249\nShirvael: 0.563266666667\nLorgar: 0.3612\nCoarse: 0.5106\nAina: 0.3182\nZeronis: -0.6369\nBlindfold: 0.624\nJunghak: 0.3286\nAsheem: 0.28082\nDragøn: 0.6808\nBlindoflove: 0.42695\nSlàÿér: 0.289533333333\nXelsiroc: -0.441\nPentosaurus: 0.009625\nMelolin: 0.4037\nRazool: 0.2673\n"
     ]
    },
    {
     "name": "stdout",
     "output_type": "stream",
     "text": [
      "Kibsie: 0.9062\nWabisuke: 0.4926\nAureliol: -0.3241\nFelcannon: -0.6249\nRymi: 0.0655\nKimthas: 0.4404\nWarpex: 0.31115\nEnforcer: -0.3715\nCleggers: 0.36135\nSquirrel: -0.5662\nRaiden: 0.3612\nFelfeather: 0.9192\nAtzira: -0.3548\nVisrys: 0.4754\nSansis: 0.4404\nLurgon: 0.2975\nPhaedriel: 0.6705\nMyamih: -0.6124\nScherep: 0.3115\nSathyas: -0.6901\nLickin: 0.705\nBehelmon: -0.5009\nJaegrinn: -0.5624\nAeiouy: 0.5093\nZéref: -0.3453\nIllidonk: 0.2787\nHotlikeme: -0.5773\nLaggyluke: 0.6908\nCorve: 0.468683333333\nSakari: -0.3612\nYashuoara: 0.2583\nZarlack: 0.5584\nHolypopcorn: -0.30775\nIgnasius: -0.08025\nDiepp: 0.4939\nNineth: -0.4218\nHornette: 0.0551\nMarb: -0.3818\nEôsphoros: 0.7845\nValdanyr: 0.5291\nIllidiggle: 0.5023\nAò: 0.5837\nDemonballz: 0.4215\nLahetheas: -0.5423\nZerzei: 0.5994\nAura: -0.7424\nOptixy: -0.8176\nIllerin: 0.4215\nKámu: -0.4939\nCymorìl: -0.8734\nRoxanys: -0.353275\nLockvd: -0.3592\nSonuko: 0.54065\nLoliiten: 0.3848\nIllidandhdh: 0.3804\nВиттян: 0.6124\nNythse: -0.30015\nLucifér: 0.4404\nQqx: 0.359316666667\nZarentia: 0.4019\nKosmòs: 0.4404\nKylàr: 0.7783\nMorrekdarash: 0.397733333333\nClincherina: 0.47875\nTaleriar: 0.34845\nKimahell: 0.3337\nSorcerus: 0.5449\nMiltiadez: 0.27\nLemonpanter: 0.3612\nNamatus: -0.289366666667\nDailon: -0.4767\nMollyra: 0.4221\nGoreqt: 0.6747\nNinjaa: 0.9269\nOseiron: 0.4215\nEvangel: 0.4215\n>>>\n>>>Progress: 500/1691\nYomammasofat: -0.3924\nIlthalas: -0.353928571429\nShind: -0.296\nBanquets: 0.35525\nAsaena: -0.27825\nBlackstone: 0.4404\nRespek: 0.39425\nIllidamn: 0.6908\nRazidd: 0.7213\nFelforged: 0.5106\nFenyx: -0.36345\nVilsaiya: 0.6124\nInanis: -0.021425\nOakley: -0.69245\nCumsoaked: -0.5719\nDrainhope: 0.33525\nZipidy: 0.5773\nRúsëa: 0.350433333333\nBlighthoof: 0.47565\nRendosa: 0.3591\nMalediccio: -0.4767\nBriana: 0.376533333333\nMuriidan: 0.5264\nStrygwyrl: 0.3773\nCartman: 0.3182\nProskill: 0.3612\nStans: 0.3363\n"
     ]
    },
    {
     "name": "stdout",
     "output_type": "stream",
     "text": [
      "Atheres: -0.06325\nNiff: 0.3885\nLiradormi: 0.4939\nParadox: 0.516966666667\nMetallus: 0.4685\nÂmazon: 0.6948\nThalandras: 0.7003\nExemplis: 0.36305\nThørn: 0.5023\nCogito: -0.404925\nFyara: -0.67415\nLaeneya: 0.42475\nÖfke: 0.3182\nEku: 0.4404\nSägë: 0.4754\nArylea: -0.12165\nIshammael: 0.2846\nBogrimm: 0.5707\nWacher: -0.3252\nOrdisious: -0.51415\nÐevil: 0.3612\nGrantlerlein: -0.4404\nTyrruqt: 0.4754\nThemountainn: -0.6983\nNemesis: 0.4404\nMiylee: 0.584\nDeeble: 0.329533333333\nDevlish: 0.32745\nEstinien: 0.0314166666667\nFærina: -0.3988\nSacrilegias: 0.3915\nIshtan: -0.2755\nIgnite: 0.42195\nJí: -0.4767\nIsmodai: 0.31845\nVorithien: 0.592\nDhjengiss: 0.61385\nIordanny: 0.4215\nIllidriselba: 0.3182\nMythranduir: 0.8402\nEvelake: 0.4613\nDevilseeker: -0.6486\nVusi: 0.27815\nНаарт: -0.5423\nSurgam: 0.296\nFanzer: 0.4939\nGrímm: 0.2732\nLeyrísa: -0.67555\nИниен: 0.4404\nPalabubble: 0.4939\nAzi: 0.40515\nIkyrion: 0.4019\nCutîepie: -0.284425\nDizzygirl: 0.6777\nDeepoxysbabe: -0.60465\nNelthar: 0.6908\nBetzefer: 0.3425\nTalvarsyl: 0.306875\nCobrius: -0.5023\nElutheone: -0.0120583333333\nSúítti: 0.52805\nCelesie: 0.5023\nGridlink: 0.3871\nSupergokuman: 0.39175\nMônkerina: 0.7528\nZheryn: 0.4767\nSoulcleavage: 0.4939\nRoflmal: -0.6486\nWakemeupded: 0.4588\nFelanna: 0.431\nAllarius: -0.32985\nVelocíty: 0.32615\nBrammerr: -0.2997\nDeithwen: 0.4404\nElleron: 0.8126\nNecrogasm: -0.27055\nHordika: 0.69\nGlaivesong: -0.59488\nSyrenah: 0.3951\nSarvekas: 0.7351\nФимбул: -0.5594\nFradychwr: 0.0378\nKásdéya: 0.4939\nDyroxus: 0.2584\nJeley: -0.286833333333\nSharnor: -0.4734\nMyrling: 0.5859\nMyniellé: -0.5423\nWaynekarr: 0.270733333333\nRaethalar: 0.6771\n>>>\n>>>Progress: 750/1691\nCry: 0.3818\nCalluxus: -0.9282\nHázl: -0.296\nPastmaster: 0.69\nZoldrage: -0.6486\nДжэбэ: 0.54835\nNavhkrin: 0.2859\nNetherglaive: 0.4019\nSanxei: -0.296\nKermadec: 0.3612\nTerilius: -0.5023\nEternica: 0.277966666667\nQuïet: -0.3612\nGromgár: -0.7579\nMegum: 0.4215\nGilrom: 0.5199\nCarebear: -0.56215\nBladewytch: 0.2516\nSyreath: -0.3182\nHatedx: 0.53985\nJoesoap: -0.3818\nFunkfenix: -0.0008\nHeeat: -0.04315\nXarel: -0.3156\nFlexiia: 0.451025\nFellan: -0.296\nPrizkilla: 0.4939\nNhadaly: 0.5168\nDtpx: -0.330633333333\nAccelero: -0.3182\nRaiev: 0.3212\nFloffí: 0.7865\nHacks: 0.4215\n"
     ]
    },
    {
     "name": "stdout",
     "output_type": "stream",
     "text": [
      "Khàos: 0.7064\nFalkenfel: 0.4215\nNightmareez: -0.3804\nNortos: 0.36975\nMieshataint: 0.4674\nCelibyx: 0.705066666667\nFelears: 0.62575\nUnderhuggare: -0.6597\nThyrón: 0.4115\nViwil: 0.707\nPrillidan: 0.4199\nYsab: 0.4895\nRojyar: 0.296\nÂrmadis: -0.3612\nШерхану: 0.2709\nVihara: 0.2528\nKinedge: 0.7635\nVoidbane: 0.2628\nMikoico: -0.2997\nNotsodan: 0.6223\nСиднайт: 0.0939\nMethalik: -0.5994\nIhrga: 0.624\nJayce: -0.5994\nAlu: -0.41125\nNothingtoxic: -0.7171\nIlligjon: -0.5859\nZarros: 0.3008\nFlameztar: -0.05965\nAmneth: 0.8126\nNehlo: 0.3182\nIola: 0.36025\nKlarissa: 0.2813\nKuubu: -0.5994\nGlaives: -0.27115\nKeelvaen: 0.286333333333\nShcylla: -0.00745\nKireth: 0.5859\nKayraz: 0.4753\nSeluniel: -0.5052\nMoonshroud: 0.6187\nSneakyknives: 0.4834\nTelynna: 0.7184\nShallin: -0.6607\nReígn: -0.652\nFelfrost: 0.5719\nJerah: 0.3326\nFelarnia: 0.280233333333\nVerathix: 0.4158\nSeruuna: 0.402933333333\nPokdémon: -0.3721\nFeltea: 0.0106\nNightbound: 0.7311\nDivicious: 0.8869\nValerrie: -0.61555\nRazorjack: 0.607683333333\nKazima: 0.6908\nChromefel: -0.296\nXilliän: 0.0706333333333\nMyriwen: -0.048825\nLelnadryn: 0.28535\nVatghern: 0.4019\nFelspark: 0.4755\nMêxa: 0.5859\nRahesh: 0.4404\nLandlady: 0.5498\nLadiris: -0.305866666667\nVaskania: -0.4939\nMeorion: 0.4484\nShyvani: 0.41355\nAshandil: 0.2808\nAbend: -0.2748\nNexiliaa: 0.765\nAuraka: 0.3612\nXevac: 0.3107\nWolferlin: 0.4008\nFelith: 0.3452\nShâdòw: 0.4965\nTellie: 0.5574\nBaalgrind: 0.64135\nGladîator: -0.391\nTyronel: 0.396525\nUlfrahn: 0.5859\nDraknozz: 0.6166\nMaximuscle: 0.8488\nSkelgar: 0.29525\nYerzo: 0.323\nVaramas: 0.4588\nGraice: 0.0496\nYabzz: 0.4215\nFelblazed: 0.0306\nGewelf: 0.305733333333\n"
     ]
    },
    {
     "name": "stdout",
     "output_type": "stream",
     "text": [
      "Brightlight: 0.872\nAdipose: -0.3089\nZheralis: 0.60525\nKorgra: 0.3026\nTimbô: 0.6802\nRetnuhnomdé: -0.53805\nRaeyen: -0.296\nMoògle: 0.2671\nHealthpacks: 0.6908\nMeqxód: 0.06275\nDevmor: 0.2992\nAentael: -0.6705\nFarondis: 0.2835\nZaeros: 0.176825\nAiona: 0.7543\nDarthweeder: 0.2732\nShàdy: 0.3612\nErwarthon: -0.252866666667\nXuetah: 0.425\nFlaminea: -0.583366666667\nNyné: -0.9011\nIhandil: -0.3182\nAzingor: 0.4876\nArnathon: -0.01025\nHolyester: 0.2942\nEngelwren: -0.276366666667\nAcanthastrea: 0.7136\n>>>\n>>>Progress: 1000/1691\nIle: 0.400225\nЙудзи: 0.4939\nAlyenna: 0.634525\nRalffeh: 0.6486\nLegionthus: 0.5827\nÄkuma: 0.3182\nNekktarine: 0.348225\nKailishna: -0.57825\nWoits: 0.5334\nBurshy: -0.26335\nBizzyd: -0.4019\nTexo: -0.2713\nZiamount: 0.4171\nSmørholm: 0.34\nMarethari: 0.5106\nAstralhaze: 0.3994\nMdee: 0.4576\nShamanoss: -0.25125\nEllgaria: 0.51705\nKyoto: 0.4037\nNeko: 0.7003\nChaax: 0.4927\nHelri: -0.19965\nSpannerz: 0.4404\nAzhu: 0.3294\nEldérian: 0.8879\nZoomout: 0.03375\nNieur: -0.5574\nVynom: -0.5994\nEllween: -0.4767\nDëmö: -0.5329\nKrauserdh: 0.6593\nStelødøn: 0.847\nIamedgy: 0.6369\nRynamia: -0.4813\nGoodfelling: 0.2553\nLibu: -0.312341666667\nTalisker: -0.8851\nRaznar: 0.4753\nDathedr: 0.4008\nAisely: 0.09694\nKimerian: 0.7603\nZayle: -0.2657\nKerrodari: -0.328975\nSymviosis: -0.296\nNetjeret: -0.30385\nSeveremon: -0.34135\nHemphill: 0.6249\nAvidius: -0.2732\nTsuburu: -0.356325\nKryza: 0.3498\nMacillidan: -0.6274\nTukkîî: 0.7936\nGrimshank: 0.5228\nKarlaen: 0.46075\nFuturesoundx: -0.4417\nAlathaen: 0.3976\nChckn: 0.2619\nZanvean: 0.34\nZotek: 0.527033333333\nDariun: -0.4767\nDemonchek: 0.8155\nCelpheducate: -0.296\nXalrina: 0.285033333333\nOmril: 0.7684\nDkdonkey: -0.8192\nCroniq: -0.435433333333\nBoomtatoe: 0.0176\nKylér: 0.25465\nEfom: 0.7257\nCallíss: -0.5647\nRaynella: 0.4404\nAzriul: -0.6486\nRagaran: 0.6166\nArienessa: 0.6988\nArbórescence: 0.6483\nFelfist: 0.7269\nVonkarma: 0.41365\nNadilli: 0.3592\nStrygg: 0.02585\nZérrín: -0.38425\nVthedh: -0.025675\nTomislion: 0.87965\nAnikee: -0.2755\nTharn: -0.6605\nThorianas: 0.9186\nNelphazar: 0.7125\nGûldän: 0.3612\nLoathen: 0.7579\nGrizhnack: -0.17005\nSlúmer: 0.35\nGiforce: 0.5267\nIllusiel: 0.53925\nBananbrus: 0.4063\nSierosan: 0.41895\nUruk: -0.5983\nMikuh: 0.1565\nMototopa: 0.4588\nVesra: -0.4215\nAe: -0.395\nLeoteras: -0.296\nArkhsalem: 0.443575\nAlgeriano: 0.18525\nBlademasterz: -0.7003\nTahamine: -0.5719\nManthix: -0.5574\n"
     ]
    },
    {
     "name": "stdout",
     "output_type": "stream",
     "text": [
      "Samhaine: 0.636\nKroix: 0.9665\nVaelanduil: -0.272625\nSlashmasterx: -0.15695\nVaylok: -0.5859\nManirai: 0.59165\nEfialtes: 0.9412\nFalíndra: 0.46605\nVanthiriel: -0.76015\nVolgorth: -0.34\nAhimza: 0.855\nAvinix: -0.3412\nHakuteiken: 0.296\nFlappyflappy: 0.7297\nIhadorka: -0.4588\nDarkkara: -0.29145\nKnuckz: 0.4588\nSteelidan: 0.3243\nMadryn: 0.33295\nDellyrium: 0.61415\nHaestin: 0.5885\nThysalae: 0.4215\nEffrit: -0.2755\nRoydaz: -0.4215\nEllania: 0.7003\nBbmorti: 0.636\nInvisibru: 0.30595\n>>>\n>>>Progress: 1250/1691\nJadiss: 0.5774\nVaryn: 0.3182\nSwecat: -0.584\nRawlins: 0.371633333333\nAchillesheel: -0.3903\nYasmini: -0.4767\nSterin: -0.4939\nSacrifices: 0.3182\nSuperprodh: -0.301925\nDhnrone: -0.31245\nLeothis: 0.39675\nAztazel: 0.45995\nEldorei: 0.4658\nShakegirl: 0.2618\nSarachiya: 0.40364\nVolce: 0.5719\nJenovia: 0.9716\nIllidelrey: 0.5609\nYvöw: 0.0325\nKhronix: -0.1895\nGruzzly: -0.50065\nSøulbolt: 0.4215\nTalkraa: -0.463366666667\nRaadran: 0.68\nCelerithxi: -0.2984\nReinhelm: 0.19715\nXerophus: 0.3612\nInflex: -0.350966666667\nJunglá: -0.426766666667\nRocknarr: -0.6981\nDhluuk: 0.124066666667\nDreadroute: 0.8402\nIronyi: 0.873\nPeka: 0.296\nWuwy: 0.26585\nHúmúz: -0.82665\nGriselband: 0.3404\nIlerin: -0.5181\nIllidansmom: 0.7804\nZordrager: 0.6739\nTowelee: 0.4939\nMalahai: -0.05095\nEmlil: 0.333883333333\nThemetal: 0.306\nElrinaa: 0.5838\nSolidari: 0.3612\nPsychd: 0.47186\nXadera: 0.2724\nPalacethamol: 0.3083\nSmør: -0.634633333333\nSunder: 0.4173\nDabriell: 0.4215\nSeranna: 0.300233333333\nSadnessdh: 0.6249\nSagotrax: 0.6423\nSwattó: 0.1215\nStarbringer: -0.6739\nWalid: -0.2997\nNishraa: -0.296\nArktal: 0.7414\nCooperlv: 0.3612\nUdinas: 0.51315\nNikè: 0.27805\nMírdandir: 0.9187\nRahsur: -0.4138\nKazehira: -0.3919\nUnprepared: -0.05095\nKaydar: -0.0606\nVélmulriik: 0.6705\nFelgasm: 0.4201\nWiings: 0.54375\nRamlethal: 0.26155\nJustsultry: -0.312585714286\nEdgelord: 0.4939\nTheevilone: 0.6124\nYavwren: 0.4183\nTînkerbell: -0.3875\nSzynszyla: -0.28595\nNikumi: 0.417233333333\nIdolatrine: 0.6593\n"
     ]
    },
    {
     "name": "stdout",
     "output_type": "stream",
     "text": [
      "Elenorpaw: -0.4821\nDemongasm: 0.6166\nConcobanus: 0.42115\nShadowsworn: 0.3612\nValac: -0.231016666667\nPerseus: 0.34\nAzhy: 0.386\nStalliona: 0.7783\nMacbookair: -0.3071\nCaradoc: 0.3164\nYúdzi: 0.370866666667\nXalala: -0.6757\nDïeyoüng: 0.4588\nCamió: -0.3909\nNoztar: -0.6124\nZenin: 0.4215\nRépia: 0.96\nOrlandinime: -0.2528\nStalk: 0.4588\nCylvius: 0.6705\nWintercat: 0.58405\nMacglaiver: 0.4215\nValefetal: 0.3397\nJulissa: 0.4019\nMidboss: 0.0355011111111\nXafirot: 0.3612\nNivarra: 0.3612\nHallagi: -0.7964\nKaelía: 0.1517\nAgaeon: -0.2732\nShaïtan: -0.5789\nGidwin: 0.765\nJeduthun: 0.6908\nSalynthra: -0.0274916666667\nKhaosdemon: -0.54205\nDestaine: 0.8176\nMileyycyrus: 0.6908\nIntérnèt: 0.304166666667\nLakutus: 0.4404\nDragush: 0.7227\nRadwell: -0.2755\nIlladinxx: 0.4588\nFelmortus: -0.5423\nSorén: 0.3387\nElthurien: -0.50065\nJaina: 0.3612\nTwinlee: 0.3612\nBigbazz: -0.7506\nElathiena: -0.3374\nOrphx: 0.4404\nLolladin: 0.28535\nRaktor: -0.4715\nThaalia: 0.50055\nDahlialol: 0.4574\nAgvilas: 0.6486\nNekromantis: -0.3577\nThaekxo: -0.6908\nHellia: -0.5267\nDhrow: -0.7003\nKletos: 0.359866666667\nSnapoff: -0.28595\n>>>\n>>>Progress: 1500/1691\nDamnata: 0.5106\nMae: -0.79535\nAbutanki: 0.8934\nNézghàn: 0.6705\nMerlindis: -0.34\nFurrymagisch: 0.3612\nPöx: 0.5098\nSolanj: 0.8206\nExeqtr: 0.264166666667\nShadowmourne: 0.5095\nBelmodar: -0.2608\nPlundari: 0.629466666667\nAlwyr: 0.296\nKaigangokai: -0.5994\nLouislítt: 0.522075\nKynrar: -0.50735\nMagrador: 0.59265\nRenzia: 0.474\nTrogdor: 0.65885\nSanet: -0.407466666667\nArath: 0.026575\nZekken: 0.457775\nHvalen: -0.05035\nMaragoth: 0.134875\nElium: 0.4019\nIzidro: -0.048725\nMeronn: 0.7783\nSparklystarz: 0.7003\nDaundertaker: 0.4019\nCarieth: 0.5292\nBladér: -0.36475\nßetrayed: -0.29495\nBaldazart: 0.4759\nLimecake: 0.2758\nHuggyjackson: 0.8211\nXeiduhr: -0.4023\nNaytirí: 0.3724\nMallistar: -0.9527\nFraghunter: 0.31525\nZhaine: 0.1393\nLurantis: 0.6131\nMollismeni: 0.296\nAnnjá: 0.2732\nXinshi: 0.52515\nZardu: -0.7964\nEuthanize: 0.6369\nXeanee: -0.3506\nEllsbeth: 0.378625\nAzrius: 0.4588\n"
     ]
    },
    {
     "name": "stdout",
     "output_type": "stream",
     "text": [
      "Cennix: 0.276533333333\nAmnaethis: -0.296\nBoidae: -0.3595\nAizen: 0.4033\nNenrai: -0.3905\nФлайтуртлз: -0.4015\nBelethas: 0.431\nAverademon: 0.4754\nSaelyber: 0.7227\nFelash: 0.4587\nHotwinqs: 0.3612\nBywater: 0.3382\nAltharian: 0.7267\nDuskuh: 0.6486\nErebõs: -0.2732\nMazeltov: 0.28535\nРеошеот: 0.4215\nCinnia: 0.4497\nFaegnes: 0.555\nJarec: -0.6249\nManiaxz: 0.7781\nSylny: -0.59755\nRaginhildr: -0.39995\nTharor: 0.4399\nRottén: -0.576175\nСаргирус: -0.33205\nRìkku: -0.872\nFelare: -0.296\nTsaila: 0.4019\nJinxexs: -0.27115\nLilîith: 0.4019\nOstalius: -0.25125\nMmisuky: 0.594325\nNyx: 0.265333333333\nNethirian: 0.5423\nBloodwrath: 0.45205\nCabara: 0.7916\nYuxan: 0.6166\nJiirik: 0.09825\nRahn: 0.2732\nFershiedh: 0.7476\nLesbidan: 0.5719\nTazkram: -0.2732\nKratos: -0.9398\nLynaia: -0.5106\nMorgunsólin: -0.701\nProyouknow: -0.7351\nMizy: 0.6124\nSinishadow: 0.8707\nGárviel: 0.7184\nArmadis: 0.27225\nKaméhameha: 0.281175\nPetérpwn: 0.29395\nVolniir: -0.14685\nВенатори: -0.27115\nSmashdatass: 0.5719\nJacdan: 0.7184\nЛокстар: -0.9709\n***\n** Demon Hunter other: 0.157561843278\nDONE!!!\n"
     ]
    }
   ],
   "source": [
    "sid = SentimentIntensityAnalyzer()\n",
    "# print(sid.polarity_scores('good bad ugly beautiful.'))\n",
    "scores_by_class_gametype_author_post = {}\n",
    "scores_by_class_gametype_author = {}\n",
    "scores_by_class_gametype = {}\n",
    "for wow_class in posts_by_class_gametype_author:\n",
    "    scores_by_class_gametype_author_post[wow_class] = {}\n",
    "    scores_by_class_gametype_author[wow_class] = {}\n",
    "    scores_by_class_gametype[wow_class] = {}\n",
    "    for gt in posts_by_class_gametype_author[wow_class]:\n",
    "        scores_by_class_gametype_author_post[wow_class][gt] = {}\n",
    "        scores_by_class_gametype_author[wow_class][gt] = []\n",
    "        print(wow_class + ' ' + gt + ': ' + str(len(posts_by_class_gametype_author[wow_class][gt])))\n",
    "        i = 0\n",
    "        for author in posts_by_class_gametype_author[wow_class][gt]:\n",
    "            scores_by_class_gametype_author_post[wow_class][gt][author] = []\n",
    "            i += 1\n",
    "            if i % 250 == 0:\n",
    "                print(\">>>\\n>>>Progress: \" + str(i) + '/'\n",
    "                      + str(len(posts_by_class_gametype_author[wow_class][gt])))\n",
    "            for post in posts_by_class_gametype_author[wow_class][gt][author][:2]:\n",
    "                post_score = []\n",
    "                for sent in post[0]:\n",
    "                    post_score.append(sid.polarity_scores(sent)['compound'])\n",
    "                #print(post_score)\n",
    "                post_score_array = numpy.array(post_score)\n",
    "                sc = numpy.mean(post_score_array)\n",
    "                if sc > 0.5 or sc < -0.5:\n",
    "                    # print(sc)\n",
    "                    scores_by_class_gametype_author_post[wow_class][gt][author].append([post[0], sc])\n",
    "            author_score_array = numpy.array([au_sc[1] for au_sc \n",
    "                                             in scores_by_class_gametype_author_post[wow_class][gt][author]])\n",
    "            auth_sc = numpy.mean(author_score_array)\n",
    "            if not math.isnan(auth_sc):\n",
    "                scores_by_class_gametype_author[wow_class][gt].append((author, auth_sc))\n",
    "                # print(author + ': ' + str(auth_sc))\n",
    "        gt_score_array = numpy.\\\n",
    "            array([au_sc[1] for au_sc in scores_by_class_gametype_author[wow_class][gt]])\n",
    "        gt_score = numpy.mean(gt_score_array)\n",
    "        if not math.isnan(gt_score):\n",
    "            scores_by_class_gametype[wow_class][gt] = gt_score\n",
    "            print('***\\n** ' + wow_class + ' ' + gt + ': ' + str(gt_score))\n",
    "\n",
    "print('DONE!!!')"
   ]
  },
  {
   "cell_type": "code",
   "execution_count": 32,
   "metadata": {},
   "outputs": [],
   "source": [
    "save_to_json_file('Resources/Corpora/EU/Scores/', 'complete_scores_by_author',\n",
    "                  scores_by_class_gametype_author, 'w')\n",
    "save_to_json_file('Resources/Corpora/EU/Scores/', 'complete_scores_by_gametype',\n",
    "                  scores_by_class_gametype, 'w')"
   ]
  },
  {
   "cell_type": "code",
   "execution_count": 36,
   "metadata": {},
   "outputs": [
    {
     "name": "stdout",
     "output_type": "stream",
     "text": [
      "{'Death Knight': {'other': 0.2065994568255409,\n                  'pve': 0.14972720672230425,\n                  'pvp': 0.135097924504987},\n 'Demon Hunter': {'other': 0.15756184327766573,\n                  'pve': 0.14276120104216566,\n                  'pvp': 0.020620224581876199}}\nDemon Hunter pve: 912\nDemon Hunter pvp: 277\nDemon Hunter other: 921\nDeath Knight pve: 2474\nDeath Knight pvp: 676\nDeath Knight other: 2373\n"
     ]
    }
   ],
   "source": [
    "pprint(scores_by_class_gametype)\n",
    "\n",
    "for wow_class in scores_by_class_gametype_author:\n",
    "    for gt in scores_by_class_gametype_author[wow_class]:\n",
    "        print(wow_class + ' ' + gt + ': ' +\n",
    "              str(len(scores_by_class_gametype_author[wow_class][gt])))"
   ]
  },
  {
   "cell_type": "code",
   "execution_count": 39,
   "metadata": {
    "collapsed": true
   },
   "outputs": [
    {
     "name": "stdout",
     "output_type": "stream",
     "text": [
      "[OWLXML.Destruction, OWLXML.Mage, OWLXML.Shaman, OWLXML.Rogue, OWLXML.Beast_Mastery, OWLXML.Elemental, OWLXML.Druid, OWLXML.H, OWLXML.Arcane, OWLXML.Prot, OWLXML.Demon_Hunter, OWLXML.Fire, OWLXML.Arms, OWLXML.Priest, OWLXML.Mistweaver, OWLXML.Affliction, OWLXML.Balance, OWLXML.Survival, OWLXML.Holy, OWLXML.Demonology, OWLXML.Shadow, OWLXML.Warrior]\n<?xml version=\"1.0\"?>\n<!DOCTYPE Ontology [\n    <!ENTITY xsd \"http://www.w3.org/2001/XMLSchema#\" >\n    <!ENTITY rdf \"http://www.w3.org/1999/02/22-rdf-syntax-ns#\" >\n    <!ENTITY rdfs \"http://www.w3.org/2000/01/rdf-schema#\" >\n    <!ENTITY owl \"http://www.w3.org/2002/07/owl#\" >\n]>\n<Ontology xmlns=\"http://www.w3.org/2002/07/owl#\" xml:base=\"file://Resources/Ontology/OWLXML.owl\" ontologyIRI=\"file://Resources/Ontology/OWLXML.owl\"\n     xmlns:rdfs=\"http://www.w3.org/2000/01/rdf-schema#\"\n     xmlns:xsd=\"http://www.w3.org/2001/XMLSchema#\"\n     xmlns:rdf=\"http://www.w3.org/1999/02/22-rdf-syntax-ns#\"\n     xmlns:xml=\"http://www.w3.org/XML/1998/namespace\"\n>\n<Prefix name=\"\" IRI=\"file://Resources/Ontology/OWLXML.owl\"/>\n<Prefix name=\"owl\" IRI=\"http://www.w3.org/2002/07/owl#\"/>\n<Prefix name=\"rdf\" IRI=\"http://www.w3.org/1999/02/22-rdf-syntax-ns#\"/>\n<Prefix name=\"xsd\" IRI=\"http://www.w3.org/2001/XMLSchema#\"/>\n<Prefix name=\"rdfs\" IRI=\"http://www.w3.org/2000/01/rdf-schema#\"/>\n<Prefix name=\"OWLXML\" IRI=\"file://Resources/Ontology/OWLXML.owl\"/>\n\n<Declaration><Class IRI=\"file://Resources/Ontology/OWLXML.owl#Destruction\"/></Declaration>\n<Declaration><Class IRI=\"file://Resources/Ontology/OWLXML.owl#Mage\"/></Declaration>\n<Declaration><Class IRI=\"file://Resources/Ontology/OWLXML.owl#Shaman\"/></Declaration>\n<Declaration><Class IRI=\"file://Resources/Ontology/OWLXML.owl#Rogue\"/></Declaration>\n<Declaration><Class IRI=\"file://Resources/Ontology/OWLXML.owl#Beast_Mastery\"/></Declaration>\n<Declaration><Class IRI=\"file://Resources/Ontology/OWLXML.owl#Elemental\"/></Declaration>\n<Declaration><Class IRI=\"file://Resources/Ontology/OWLXML.owl#Druid\"/></Declaration>\n<Declaration><Class IRI=\"file://Resources/Ontology/OWLXML.owl#H\"/></Declaration>\n<Declaration><Class IRI=\"file://Resources/Ontology/OWLXML.owl#Arcane\"/></Declaration>\n<Declaration><Class IRI=\"file://Resources/Ontology/OWLXML.owl#Prot\"/></Declaration>\n<Declaration><Class IRI=\"file://Resources/Ontology/OWLXML.owl#Demon_Hunter\"/></Declaration>\n<Declaration><Class IRI=\"file://Resources/Ontology/OWLXML.owl#Fire\"/></Declaration>\n<Declaration><Class IRI=\"file://Resources/Ontology/OWLXML.owl#Arms\"/></Declaration>\n<Declaration><Class IRI=\"file://Resources/Ontology/OWLXML.owl#Priest\"/></Declaration>\n<Declaration><Class IRI=\"file://Resources/Ontology/OWLXML.owl#Mistweaver\"/></Declaration>\n<Declaration><Class IRI=\"file://Resources/Ontology/OWLXML.owl#Affliction\"/></Declaration>\n<Declaration><Class IRI=\"file://Resources/Ontology/OWLXML.owl#Balance\"/></Declaration>\n<Declaration><Class IRI=\"file://Resources/Ontology/OWLXML.owl#Survival\"/></Declaration>\n<Declaration><Class IRI=\"file://Resources/Ontology/OWLXML.owl#Holy\"/></Declaration>\n<Declaration><Class IRI=\"file://Resources/Ontology/OWLXML.owl#Demonology\"/></Declaration>\n<Declaration><Class IRI=\"file://Resources/Ontology/OWLXML.owl#Shadow\"/></Declaration>\n<Declaration><Class IRI=\"file://Resources/Ontology/OWLXML.owl#Warrior\"/></Declaration>\n<Declaration><NamedIndividual IRI=\"file://Resources/Ontology/OWLXML.owl#Protection\"/></Declaration>\n\n\n\n\n\n\n\n\n\n\n\n\n\n\n\n\n\n\n\n\n\n\n\n<ClassAssertion><Class IRI=\"http://www.w3.org/2002/07/owl#Thing\"/><NamedIndividual IRI=\"file://Resources/Ontology/OWLXML.owl#Protection\"/></ClassAssertion>\n\n</Ontology>\n\n"
     ]
    }
   ],
   "source": [
    "# READ ONTOLOGY\n",
    "from owlready import *\n",
    "onto_path.clear()\n",
    "#onto_path.append(\"./Resources/\")\n",
    "wowOnto = get_ontology('file://Resources/Ontology/OWLXML.owl').load(True)\n",
    "\n",
    "print(wowOnto.classes)\n",
    "print(to_owl(wowOnto))"
   ]
  },
  {
   "cell_type": "code",
   "execution_count": null,
   "metadata": {},
   "outputs": [],
   "source": [
    ""
   ]
  }
 ],
 "metadata": {
  "kernelspec": {
   "display_name": "Python 2",
   "language": "python",
   "name": "python2"
  },
  "language_info": {
   "codemirror_mode": {
    "name": "ipython",
    "version": 2.0
   },
   "file_extension": ".py",
   "mimetype": "text/x-python",
   "name": "python",
   "nbconvert_exporter": "python",
   "pygments_lexer": "ipython2",
   "version": "2.7.6"
  }
 },
 "nbformat": 4,
 "nbformat_minor": 0
}