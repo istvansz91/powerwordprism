{
 "cells": [
  {
   "cell_type": "code",
   "execution_count": 2,
   "metadata": {
    "collapsed": true
   },
   "outputs": [],
   "source": [
    "from bs4 import BeautifulSoup\n",
    "from pprint import pprint\n",
    "from urllib import request\n",
    "from nltk import sent_tokenize\n",
    "import nltk.data\n",
    "from nltk.corpus import stopwords\n",
    "# import matplotlib.pyplot as plt\n",
    "import nltk\n",
    "import json\n",
    "import time\n",
    "import sys\n",
    "import re\n",
    "import numpy\n",
    "\n",
    "nltk.data.path.append('D:/WS/MSc/TMP/nltk_data')\n",
    "\n",
    "RESOURCES_PATH_LINKS = 'Resources/Corpora/EU/Links/'\n",
    "RESOURCES_PATH_POSTS = 'Resources/Corpora/EU/Posts/'\n",
    "RESOURCES_COMPLETE_CORPORA_FILENAME = 'complete_wow_class_posts_dict'\n",
    "\n",
    "\n",
    "class WowClassesResources:\n",
    "\n",
    "    def __init__(self):\n",
    "        None\n",
    "\n",
    "    WOW_FORUM_ROOT_URL_EU = 'http://eu.battle.net'\n",
    "    WOW_FORUM_ROOT_URL_US = 'http://us.battle.net'\n",
    "    WOW_FORUM_MID_URL = '/forums/en/wow/'\n",
    "    URL_PAGE_ATTRIBUTE = \"?page=\"\n",
    "\n",
    "    WOW_CLASS_LIST_EU = [('Death Knight', \"874789/\"),\n",
    "                      ('Demon Hunter', \"19369494/\"),\n",
    "                      ('Druid', \"874790/\"),\n",
    "                      ('Hunter', \"874791/\"),\n",
    "                      ('Mage', \"874792/\"),\n",
    "                      ('Monk', \"6038099/\"),\n",
    "                      ('Paladin', \"874793/\"),\n",
    "                      ('Priest', \"874794/\"),\n",
    "                      ('Rogue', \"874795/\"),\n",
    "                      ('Shaman', \"874796/\"),\n",
    "                      ('Warlock', \"874929/\"),\n",
    "                      ('Warrior', \"874930/\")]\n",
    "    WOW_CLASS_LIST_US = [('Death Knight', \"1012662/\"),\n",
    "                      ('Demon Hunter', \"22813967/\"),\n",
    "                      ('Druid', \"1012663/\"),\n",
    "                      ('Hunter', \"1012664/\"),\n",
    "                      ('Mage', \"1012760/\"),\n",
    "                      ('Monk', \"7379141/\"),\n",
    "                      ('Paladin', \"1012668/\"),\n",
    "                      ('Priest', \"1012666/\"),\n",
    "                      ('Rogue', \"1012667/\"),\n",
    "                      ('Shaman', \"1012669/\"),\n",
    "                      ('Warlock', \"1012670/\"),\n",
    "                      ('Warrior', \"1012759/\")]\n",
    "\n",
    "    class GameType:\n",
    "        # PVP: 2v2 3v3 5v5 cc\n",
    "        # AB, AV, BET, DR, Efc, EotS, FC, FR, FRR, IoC, LH, LM, Mid, MT, SW, Stags,\n",
    "        # SoTA, SSM, ST, TB, ToK, TP, TP, WG, WSG, WV, WW, arena\n",
    "        PVP = 'pvp'\n",
    "        # PVE: heroic, mythic, mythic+, m+, scenario, boss, mobs, time-walking\n",
    "        # LFR\n",
    "        # ZF, WC, VC, DM, Ulda, UBRS, Strat, Stocks, Stockade, ST, AH, SM, SH, SFK, Scholo, RFK, RFD, RFC, MC, Mara, LBRS, Gnomer, DM Warpwood, DM East, BWL, BRD, BFD, AQ40, TAQ, AQ10, RAQ, \n",
    "        PVE = 'pve'\n",
    "        OTHER = 'other'\n",
    "        PVP_CRITERIA = ['pvp', '2v2', '3v3', '5v5', 'cc',\n",
    "                        'AB', 'AV', 'BET', 'DR', 'Efc', 'EotS', 'FC', 'FR', 'FRR', 'IoC',\n",
    "                        'LH', 'LM', 'Mid', 'MT', 'SW', 'Stags', 'SoTA', 'SSM', 'ST', 'TB',\n",
    "                        'ToK', 'TP', 'TP', 'WG', 'WSG', 'WV', 'WW',\n",
    "                        'arena', 'bg', 'rbg', 'warsong', 'flag', 'capture', 'fr', 'fc', 'ftw',\n",
    "                        'duel', 'skirmish', 'lom', 'arathi', 'los', 'focus', 'nuke', 'poly',\n",
    "                        'sheep', 'alterac']\n",
    "        PVE_CRITERIA = ['pve', 'heroic', 'mythic', 'mythic+', 'm+', 'scenario', 'boss', 'mobs',\n",
    "                        'time-walk', 'time-walking'\n",
    "                        'RFC', 'VC', 'DM', 'WC', 'SFK', 'Stocks', 'Stockade', 'BFD', 'Gnomer', \n",
    "                        'SH', 'SM', 'RFK', 'Mara', 'Ulda', 'DM', 'Warpwood', 'DM', 'East', 'Scholo', \n",
    "                        'RFD', 'Strat', 'ZF', 'BRD', 'ST', 'AH', 'LBRS', 'UBRS', 'AQ', 'RAQ', 'MC',\n",
    "                        'BWL', 'AQ40', 'TAQ', 'Ramps', 'BF', 'SP', 'UB', 'MT', 'AC', 'AS', 'Seth',\n",
    "                        'Seth', 'Halls', 'SV', 'SH', 'Shatt', 'Halls', 'SL', 'Slabs', 'OH',\n",
    "                        'DH', 'DK', 'Durn', 'Mech', 'Bot', 'Arc', 'BM', 'MgT', 'Terrace', 'MrT',\n",
    "                        'HoR', 'Naxx', 'OS', 'Sarth', 'Vault', 'VoA', 'Maly',\n",
    "                        'EoE', 'Uld', 'TC', 'ToC', 'TotC', 'ToGC', '(Heroic)', 'Ony',\n",
    "                        'RS', 'Hal', 'ICC', 'UK', 'UTK', 'Nexus', 'Nex', 'AZN', 'AN', 'ANK',\n",
    "                        'OLD', 'AKO', 'OK', 'DTK', 'VH', 'GD', 'HOS', 'Occ', 'HOL', 'UP', 'Culling',\n",
    "                        'COS', 'Champ', 'ToC', 'FoS', 'PoS', 'TotT', 'BRC', 'SC', 'VP', 'LCoT', 'GB',\n",
    "                        'HoO', 'H-DM', 'H-VC', 'H-SFK', 'ZA', 'ZG', 'ET', 'WoE', 'HoT', 'BH',\n",
    "                        'BoT', 'TFW', 'BWD', 'FL', 'DS', 'SH', 'SM', 'Scholo', 'TJS', 'SB', 'MP',\n",
    "                        'SPM', 'GSS', 'SNT', 'MV', 'HoF', 'TES', 'ToT', 'SoO', 'BSM', 'Auch', 'SR',\n",
    "                        'GD', 'SBG', 'EB', 'UBRS', 'HM', 'BF', 'BRF', 'HC', 'HFC', 'arc', 'VoW', 'MoS',\n",
    "                        'CoS', 'EN', 'BRH', 'RtK', 'arc', 'ToV', 'VH', 'CoN', 'EoZ', 'NL', 'HoV', 'GR',\n",
    "                        'DHT', 'DT']\n",
    "\n",
    "WOW_TOPIC_URLS_EU = \\\n",
    "    [(c, WowClassesResources.WOW_FORUM_ROOT_URL_EU + WowClassesResources.WOW_FORUM_MID_URL + u)\n",
    "     for (c, u) in WowClassesResources.WOW_CLASS_LIST_EU]"
   ]
  },
  {
   "cell_type": "code",
   "execution_count": 3,
   "metadata": {
    "collapsed": true
   },
   "outputs": [
    {
     "name": "stdout",
     "output_type": "stream",
     "text": [
      "('Death Knight', 'http://eu.battle.net/forums/en/wow/874789/')\n"
     ]
    },
    {
     "name": "stdout",
     "output_type": "stream",
     "text": [
      "\n\n\n<html xmlns=\"http://www.w3.org/1999/xhtml\">\n\n<head>\n\t<meta http-equiv=\"X-UA-Compatible\" content=\"\n"
     ]
    }
   ],
   "source": [
    "print(WOW_TOPIC_URLS_EU[0])\n",
    "url = WOW_TOPIC_URLS_EU[0][1]\n",
    "# req = request.Request(url)\n",
    "response = request.urlopen(url)\n",
    "html = response.read().decode('utf8')\n",
    "print(html[:100])"
   ]
  },
  {
   "cell_type": "code",
   "execution_count": 4,
   "metadata": {
    "collapsed": false
   },
   "outputs": [],
   "source": [
    "def get_page_content(url):\n",
    "    attempt_number = 0\n",
    "    while True:\n",
    "        attempt_number += 1\n",
    "        if attempt_number > 5:\n",
    "            return None\n",
    "        try:\n",
    "            response = request.urlopen(url)\n",
    "        except request.HTTPError as e:\n",
    "            print('HTTPError = ' + str(e.code))\n",
    "            continue\n",
    "        except Exception as e:\n",
    "            print(e)\n",
    "            continue\n",
    "        except e:\n",
    "            print(e)\n",
    "            continue\n",
    "        html = response.read().decode('utf8')\n",
    "        break\n",
    "    return html\n",
    "\n",
    "\n",
    "def topic_scrape(forum_url):\n",
    "    all_links = []\n",
    "    i = 1\n",
    "    while True:\n",
    "        html = get_page_content(forum_url + WowClassesResources.URL_PAGE_ATTRIBUTE + str(i))\n",
    "        if html is None:\n",
    "            return []\n",
    "        bs_html = BeautifulSoup(html, \"html.parser\")\n",
    "\n",
    "        all_link_elements = bs_html.find_all(\"a\", class_=\"ForumTopic\")\n",
    "        # pprint(all_link_elements)\n",
    "        link_count = len(all_link_elements)\n",
    "        print(str(i) + ' ' + str(link_count))\n",
    "\n",
    "        if link_count == 0:\n",
    "            print('Exiting')\n",
    "            break\n",
    "        for a in all_link_elements:\n",
    "            # print a\n",
    "            title = a.find(class_='ForumTopic-title').get_text().strip()\n",
    "            # print title\n",
    "            all_links.append((a['href'], title))\n",
    "        i += 1\n",
    "        time.sleep(3)\n",
    "    return all_links\n",
    "\n",
    "\n",
    "def extract_topic(topic_title_url_tuple):\n",
    "    topic_url_ending = topic_title_url_tuple[0]\n",
    "    topic_title = topic_title_url_tuple[1]\n",
    "    pprint('[' + topic_title + '] (' + topic_url_ending + ')')\n",
    "    all_posts = []\n",
    "    i = 1\n",
    "    while True:\n",
    "        html = get_page_content(\n",
    "            WowClassesResources.WOW_FORUM_ROOT_URL_EU + topic_url_ending + WowClassesResources.URL_PAGE_ATTRIBUTE + str(\n",
    "                i))\n",
    "        if html is None:\n",
    "            return []\n",
    "        bs_html = BeautifulSoup(html, \"html.parser\")\n",
    "\n",
    "        all_topic_post_elements = bs_html.find_all(\"div\", class_=\"TopicPost-content\")\n",
    "        # pprint(all_topic_post_elements)\n",
    "        link_count = len(all_topic_post_elements)\n",
    "        # print str(i) + ' ' + str(link_count)\n",
    "\n",
    "        if link_count == 0:\n",
    "            print('Exiting')\n",
    "            break\n",
    "        for element in all_topic_post_elements:\n",
    "            # print a\n",
    "            post_body = element.find(class_='TopicPost-bodyContent').get_text().strip()\n",
    "            post_date = element.find(\"a\", class_='TopicPost-timestamp')['data-tooltip-content']\n",
    "            author_element = element.find(\"span\", class_='Author-name')\n",
    "            if author_element is not None:\n",
    "                # post_author = '<UNKNOWN>'\n",
    "                if author_element.a is not None:\n",
    "                    post_author = author_element.a.get_text().strip()\n",
    "                else:\n",
    "                    post_author = author_element.get_text().strip()\n",
    "                all_posts.append((topic_title, post_date, post_author, post_body))\n",
    "        i += 1\n",
    "        time.sleep(5)\n",
    "    pprint('posts: ' + str(len(all_posts)))\n",
    "    return all_posts\n",
    "\n",
    "\n",
    "def save_to_json_file(path, file_name, content, mode):\n",
    "    with open(path + file_name + '.json', mode) as out_file:\n",
    "        json.dump(content, out_file)\n",
    "\n",
    "\n",
    "def read_from_json_file(path, file_name):\n",
    "    try:\n",
    "        with open(path + file_name + '.json', 'r') as in_file:\n",
    "            return json.load(in_file)\n",
    "    except FileNotFoundError as e:\n",
    "        print('File not found, skipping read for: ' + path + file_name)"
   ]
  },
  {
   "cell_type": "code",
   "execution_count": 5,
   "metadata": {
    "collapsed": true
   },
   "outputs": [
    {
     "name": "stdout",
     "output_type": "stream",
     "text": [
      "Current Class: Death Knight, URL: http://eu.battle.net/forums/en/wow/874789/\nNumber of posts: 34186\n"
     ]
    },
    {
     "name": "stdout",
     "output_type": "stream",
     "text": [
      "dict_keys(['Demon Hunter', 'Death Knight'])\nDemon Hunter: 11916 posts\t\tLongest post length: 7895\nDeath Knight: 34186 posts\t\tLongest post length: 14170\nProcessing: Demon Hunter\n"
     ]
    },
    {
     "name": "stdout",
     "output_type": "stream",
     "text": [
      "Progress: 1000/11916\n"
     ]
    },
    {
     "name": "stdout",
     "output_type": "stream",
     "text": [
      "Progress: 2000/11916\n"
     ]
    },
    {
     "name": "stdout",
     "output_type": "stream",
     "text": [
      "Progress: 3000/11916\n"
     ]
    },
    {
     "name": "stdout",
     "output_type": "stream",
     "text": [
      "Progress: 4000/11916\n"
     ]
    },
    {
     "name": "stdout",
     "output_type": "stream",
     "text": [
      "Progress: 5000/11916\n"
     ]
    },
    {
     "name": "stdout",
     "output_type": "stream",
     "text": [
      "Progress: 6000/11916\n"
     ]
    },
    {
     "name": "stdout",
     "output_type": "stream",
     "text": [
      "Progress: 7000/11916\n"
     ]
    },
    {
     "name": "stdout",
     "output_type": "stream",
     "text": [
      "Progress: 8000/11916\n"
     ]
    },
    {
     "name": "stdout",
     "output_type": "stream",
     "text": [
      "Progress: 9000/11916\n"
     ]
    },
    {
     "name": "stdout",
     "output_type": "stream",
     "text": [
      "Progress: 10000/11916\n"
     ]
    },
    {
     "name": "stdout",
     "output_type": "stream",
     "text": [
      "Progress: 11000/11916\n"
     ]
    },
    {
     "name": "stdout",
     "output_type": "stream",
     "text": [
      "Processing: Death Knight\n"
     ]
    },
    {
     "name": "stdout",
     "output_type": "stream",
     "text": [
      "Progress: 1000/34186\n"
     ]
    },
    {
     "name": "stdout",
     "output_type": "stream",
     "text": [
      "Progress: 2000/34186\n"
     ]
    },
    {
     "name": "stdout",
     "output_type": "stream",
     "text": [
      "Progress: 3000/34186\n"
     ]
    },
    {
     "name": "stdout",
     "output_type": "stream",
     "text": [
      "Progress: 4000/34186\n"
     ]
    },
    {
     "name": "stdout",
     "output_type": "stream",
     "text": [
      "Progress: 5000/34186\n"
     ]
    },
    {
     "name": "stdout",
     "output_type": "stream",
     "text": [
      "Progress: 6000/34186\n"
     ]
    },
    {
     "name": "stdout",
     "output_type": "stream",
     "text": [
      "Progress: 7000/34186\n"
     ]
    },
    {
     "name": "stdout",
     "output_type": "stream",
     "text": [
      "Progress: 8000/34186\n"
     ]
    },
    {
     "name": "stdout",
     "output_type": "stream",
     "text": [
      "Progress: 9000/34186\n"
     ]
    },
    {
     "name": "stdout",
     "output_type": "stream",
     "text": [
      "Progress: 10000/34186\n"
     ]
    },
    {
     "name": "stdout",
     "output_type": "stream",
     "text": [
      "Progress: 11000/34186\n"
     ]
    },
    {
     "name": "stdout",
     "output_type": "stream",
     "text": [
      "Progress: 12000/34186\n"
     ]
    },
    {
     "name": "stdout",
     "output_type": "stream",
     "text": [
      "Progress: 13000/34186\n"
     ]
    },
    {
     "name": "stdout",
     "output_type": "stream",
     "text": [
      "Progress: 14000/34186\n"
     ]
    },
    {
     "name": "stdout",
     "output_type": "stream",
     "text": [
      "Progress: 15000/34186\n"
     ]
    },
    {
     "name": "stdout",
     "output_type": "stream",
     "text": [
      "Progress: 16000/34186\n"
     ]
    },
    {
     "name": "stdout",
     "output_type": "stream",
     "text": [
      "Progress: 17000/34186\n"
     ]
    },
    {
     "name": "stdout",
     "output_type": "stream",
     "text": [
      "Progress: 18000/34186\n"
     ]
    },
    {
     "name": "stdout",
     "output_type": "stream",
     "text": [
      "Progress: 19000/34186\n"
     ]
    },
    {
     "name": "stdout",
     "output_type": "stream",
     "text": [
      "Progress: 20000/34186\n"
     ]
    },
    {
     "name": "stdout",
     "output_type": "stream",
     "text": [
      "Progress: 21000/34186\n"
     ]
    },
    {
     "name": "stdout",
     "output_type": "stream",
     "text": [
      "Progress: 22000/34186\n"
     ]
    },
    {
     "name": "stdout",
     "output_type": "stream",
     "text": [
      "Progress: 23000/34186\n"
     ]
    },
    {
     "name": "stdout",
     "output_type": "stream",
     "text": [
      "Progress: 24000/34186\n"
     ]
    },
    {
     "name": "stdout",
     "output_type": "stream",
     "text": [
      "Progress: 25000/34186\n"
     ]
    },
    {
     "name": "stdout",
     "output_type": "stream",
     "text": [
      "Progress: 26000/34186\n"
     ]
    },
    {
     "name": "stdout",
     "output_type": "stream",
     "text": [
      "Progress: 27000/34186\n"
     ]
    },
    {
     "name": "stdout",
     "output_type": "stream",
     "text": [
      "Progress: 28000/34186\n"
     ]
    },
    {
     "name": "stdout",
     "output_type": "stream",
     "text": [
      "Progress: 29000/34186\n"
     ]
    },
    {
     "name": "stdout",
     "output_type": "stream",
     "text": [
      "Progress: 30000/34186\n"
     ]
    },
    {
     "name": "stdout",
     "output_type": "stream",
     "text": [
      "Progress: 31000/34186\n"
     ]
    },
    {
     "name": "stdout",
     "output_type": "stream",
     "text": [
      "Progress: 32000/34186\n"
     ]
    },
    {
     "name": "stdout",
     "output_type": "stream",
     "text": [
      "Progress: 33000/34186\n"
     ]
    },
    {
     "name": "stdout",
     "output_type": "stream",
     "text": [
      "Progress: 34000/34186\n"
     ]
    },
    {
     "name": "stdout",
     "output_type": "stream",
     "text": [
      "dict_keys(['Demon Hunter', 'Death Knight'])\n[['[Guide]Death Knight 101 (Updated for 7.03)',\n  '22/05/2014 11:27',\n  'Hakuteiken',\n  'This if for all the really new Death Knights; my guide on the class '\n  \"overall. In this guide I'll be covering our resource system, what abilities \"\n  \"you have, how they work and what they do. I'll also throw in some \"\n  'suggestions on gameplay that should make things somewhat easier for '\n  \"you.It's worth nothing that Death Knights, at lower levels, are \"\n  'ridiculously powerful which is a state of affairs I found to be really dull '\n  \"when leveling my latest Death Knight; it's not much fun when you're \"\n  'immortal and killing things with 2-3 attacks, but anyway, here goes.First '\n  \"thing's first; Resources-We have two different resources; Runes and Runic \"\n  'Power.We have a total of 6 runes which can be used for any attack that '\n  'costs Runes; Obliterate, Howling Blast, Festering Strike, Marrowrend '\n  'etc.-Runic Power is generated from used runes and the amount of runic power '\n  'generated is based on the rune cost abilities, for example, Howling Blast '\n  'cost 1 rune, and therefore will generate only 10 runic power, Marrowrend '\n  'costs 2 runes and will generate 20 runic power.Pretty straight forward on '\n  'paper. Now we get to how they interact with each other.Runes begin a '\n  'regeneration cycle of no more than 10 seconds when used; Haste will '\n  'decrease this time but not by much.If all 6 runes are used in succession, '\n  'the first 3 runes to be used will begin their recharge, while the remaining '\n  '3 will not. The second set of 3 runes will begin their recharge only when '\n  'the first set is completely recharged.There are certain talents and built '\n  'in passive abilities to speed this process up; these talents and abilities '\n  'differ from spec to spec.Blood - Soulgorge; consumes Blood Plague from '\n  'everything in 30 yards to increase rune recharge.-Blood Tap; restores 1 '\n  'rune per use, limited to 2 charges.Unlike Frost or Unholy, there is no '\n  'passive ability that will assist the rune recharge time.Frost - Runic '\n  'Empowerment; passive, has 1% chance per runic power spent to activate on '\n  \"Frost Strike. After some time testing, I've found it's about 50% chance (5 \"\n  'in 10 Frost Strikes).-Murderous Efficiency; using the Killing Machine '\n  'effect has a 50% chance to to restore 1 rune.-Horn of Winter; restores 2 '\n  'runes and generates 10 runic power.-Hungering Rune Weapon; Horn of Winter '\n  'restores 2 runes and generates 10 runic power while Hungering Rune Weapon '\n  'restores 1 rune and 5 runic power instantly and then restores runes and '\n  'runic power every 1.5 seconds for 12 seconds.Unholy - Runic Corruption, '\n  'passive, has 1.25% chance per runic power spent to activate, granting 100% '\n  \"rune regeneration for a short time. Requires Death Coil. After testing I've \"\n  'found that this works out that +/- 1 in 3 Death Coils will activate Runic '\n  'Corruption.Abilities - How They WorkEach ability a Death Knight has has a '\n  'rune or runic power cost. The following are abilities that cost only 1 rune '\n  \"and will generate 10 runic power per use.-Blood Spec:Heart Strike, Death's \"\n  'Caress, Rune Tap, Death and Decay (if talented)Note: Heart Strike generates '\n  '15 runic power.-Frost Runes; Howling Blast, Frostscythe (if '\n  'specced),Remorseless Winter,-Unholy Runes; Scourge Strike (Clawing Shadows, '\n  'talent), Death and Decay, Epidemic (talent), Outbreak, Chains of Ice, '\n  'Defile(talent)The following cost two runes and will generate 20 runic power '\n  'when used.-Blood Spec: Marrowrend-Frost Spec: Obliterate-Unholy: Festering '\n  'StrikeUnholy retains Army of the Dead at a cost of 3 runes which generates '\n  '30 runic power.Runic Power - will activate Runic Empowerment or Runic '\n  'Corruption via the use of Frost Strike or Death Coil respectively.-Death '\n  \"Coil; usable Unholy spec. It's a ranged attack with 30 yard range and costs \"\n  '35 runic power. This will also restore 10 energy to your ghoul per Death '\n  'Coil fired.-Frost Strike; exclusive to Frost spec, single target melee '\n  \"attack.Death Coil and Frost Strike are often best used when you're at, or \"\n  'approaching, 100 runic power, but are ideally used when spaced out across '\n  'your \"rotation\" which brings me neatly to the next part of the '\n  'guide.Abilities - What to use and WhenThis will require in-depth guides of '\n  'their own but there are certain universal abilities you can make use '\n  'of.-Anti-Magic Shell - use to soak high incoming magic damage; it generates '\n  \"runic power.-Icebound Fortitude - use when you're taking high damage or are \"\n  'about to, or to break and become immune to stuns.-Death Grip - when you '\n  'need to close the distance to your target or interrupt a crucial cast. The '\n  'adds on Kilrogg Deadeye is a good example of the uses of Death Grip-Wraith '\n  \"Walk - useful for closing distances and clearing root or slow effects.I'll \"\n  'be preparing basic guides for Blood, Frost and Unholy specs, but those '\n  \"aren't coming before Legion release.For now, as I said, this was meant to \"\n  \"cover the very basics of the class for people who haven't played Death \"\n  'Knight before.',\n  'pve'],\n ['[Guide]Death Knight 101 (Updated for 7.03)',\n  '22/05/2014 13:38',\n  'Emilboc',\n  'verry nice work! i hope u make a good guide for 2h frost dk, maybe a '\n  'youtube guide, with stats , enchants, glyph s , best comps for 2v2, 3v3.. '\n  'for PVP Great job!!!!!',\n  'pve'],\n ['[Guide]Death Knight 101 (Updated for 7.03)',\n  '22/05/2014 23:15',\n  'Hakuteiken',\n  '22/05/2014 14:38Posted by Emilbocmaybe a youtube guideI wish! Sadly my PC '\n  \"isn't hi-tech enough for me to have good FPS while recording.I've been more \"\n  \"or less out of the PvP scene but I'll see what I can do; will take some \"\n  'time though :D',\n  'pvp']]\n"
     ]
    }
   ],
   "source": [
    "# READ CURRENT CLASS TO WORK WITH, READ ALL CORPORA\n",
    "currentClass = WOW_TOPIC_URLS_EU[0]\n",
    "print('Current Class: ' + currentClass[0] + ', URL: ' + currentClass[1])\n",
    "# READ DICTIONARY OF POSTS\n",
    "posts_by_class = read_from_json_file('Resources/Corpora/EU/Posts/', 'corpora_posts_' + currentClass[0])\n",
    "print('Number of posts: ' + str(len(posts_by_class[currentClass[0]])))\n",
    "# print('First post:\\n' + posts_by_class[currentClass[0]][0][3])\n",
    "\n",
    "all_posts_dict = read_from_json_file(RESOURCES_PATH_POSTS, RESOURCES_COMPLETE_CORPORA_FILENAME)\n",
    "print(all_posts_dict.keys())\n",
    "for wow_class in all_posts_dict:\n",
    "    print(wow_class + ': ' + str(len(all_posts_dict.get(wow_class))) + ' posts\\t\\t' \n",
    "          + 'Longest post length: ' + str(max(len(p[3]) for p in all_posts_dict[wow_class])))\n",
    "    \n",
    "# print(sys.maxsize)\n",
    "# posts_with_game_type = {currentClass[0]: []}\n",
    "from _operator import index\n",
    "\n",
    "posts_with_game_type_dict = {}\n",
    "\n",
    "for wow_class in all_posts_dict:\n",
    "    print('Processing: ' + wow_class)\n",
    "    posts_with_game_type_dict[wow_class] = []\n",
    "    i = 0\n",
    "    for post in all_posts_dict[wow_class]:\n",
    "        i += 1\n",
    "        if i % 1000 == 0:\n",
    "            print(\"Progress: \" + str(i) + '/' + str(len(all_posts_dict[wow_class])))\n",
    "        \n",
    "        postBody = post[3]\n",
    "        post.append(WowClassesResources.GameType.OTHER)\n",
    "        pvpIndex = sys.maxsize\n",
    "        pveIndex = sys.maxsize\n",
    "        \n",
    "        # find PVP minimum index\n",
    "        for crit in WowClassesResources.GameType.PVP_CRITERIA:\n",
    "            critMatch = re.search(r'\\b' + crit.lower() + r'\\b', postBody.lower())\n",
    "            if critMatch is not None:\n",
    "                ind = critMatch.start()\n",
    "            else:\n",
    "                continue\n",
    "            if ind != -1:\n",
    "                pvpIndex = min(pvpIndex, ind)\n",
    "        # find PVE minimum index\n",
    "        for crit in WowClassesResources.GameType.PVE_CRITERIA:\n",
    "            critMatch = re.search(r'\\b' + crit.lower() + r'\\b', postBody.lower())\n",
    "            if critMatch is not None:\n",
    "                ind = critMatch.start()\n",
    "            else:\n",
    "                continue\n",
    "            if ind != -1:\n",
    "                pveIndex = min(pveIndex, ind)\n",
    "\n",
    "        if pvpIndex == sys.maxsize and pveIndex == sys.maxsize:\n",
    "            post[4] = WowClassesResources.GameType.OTHER\n",
    "        elif pvpIndex != sys.maxsize and pveIndex == sys.maxsize:\n",
    "            post[4] = WowClassesResources.GameType.PVP\n",
    "        elif pvpIndex == sys.maxsize and pveIndex != sys.maxsize:\n",
    "            post[4] = WowClassesResources.GameType.PVE\n",
    "        elif pvpIndex <= pveIndex:\n",
    "            post[4] = WowClassesResources.GameType.PVP\n",
    "        else:\n",
    "            post[4] = WowClassesResources.GameType.PVE\n",
    "        # posts_with_game_type_dict[wow_class].append(post)\n",
    "\n",
    "posts_with_game_type_dict = all_posts_dict\n",
    "# pprint(posts_with_game_type[currentClass[0]][:10])\n",
    "print(posts_with_game_type_dict.keys())\n",
    "pprint(posts_with_game_type_dict['Death Knight'][:3])"
   ]
  },
  {
   "cell_type": "code",
   "execution_count": 6,
   "metadata": {
    "collapsed": true
   },
   "outputs": [
    {
     "name": "stdout",
     "output_type": "stream",
     "text": [
      "**** Death Knight\n** pve: 4366\n** pvp: 1129\n** other: 4436\n**** Demon Hunter\n** pve: 1694\n** pvp: 493\n** other: 1704\n46102\n"
     ]
    }
   ],
   "source": [
    "# RESTRUCTURE TO CLASS/Game Type/author/list of posts\n",
    "# pprint([w[3] for w in posts_with_game_type_dict['Death Knight'] if w[4] == 'pve'][2:15])\n",
    "posts_by_class_gametype_author = {}\n",
    "    \n",
    "for wow_class in posts_with_game_type_dict:\n",
    "    # print('***' + wow_class)\n",
    "    posts_by_class_gametype_author[wow_class] = {'pve': {}, 'pvp': {}, 'other': {}}\n",
    "    for w in posts_with_game_type_dict[wow_class]:\n",
    "        # print(w[2])\n",
    "        if w[2] not in posts_by_class_gametype_author[wow_class][w[4]]:\n",
    "            # print(w[4] + ': ' + w[2])\n",
    "            posts_by_class_gametype_author[wow_class][w[4]][w[2]] = []\n",
    "        posts_by_class_gametype_author[wow_class][w[4]][w[2]].append((sent_tokenize(w[3]), w[1]))\n",
    "\n",
    "# COUNT posts\n",
    "c = 0\n",
    "for wow_class in posts_by_class_gametype_author:\n",
    "    print('**** ' + wow_class)\n",
    "    for gt in posts_by_class_gametype_author[wow_class]:\n",
    "        print('** ' + gt + ': ' + str(len(posts_by_class_gametype_author[wow_class][gt])))\n",
    "        for au in posts_by_class_gametype_author[wow_class][gt]:\n",
    "            for p in posts_by_class_gametype_author[wow_class][gt][au]:\n",
    "                c += 1\n",
    "            # print(au)\n",
    "print(c)\n",
    "\n",
    "# CURRENT STRUCTURE:\n",
    "#   WOW_CLASS\n",
    "#       PVE/PVE/OTHER\n",
    "#           AUTHOR\n",
    "#               (POST, DATE)"
   ]
  },
  {
   "cell_type": "code",
   "execution_count": 7,
   "metadata": {
    "collapsed": true
   },
   "outputs": [
    {
     "name": "stdout",
     "output_type": "stream",
     "text": [
      "Demon Hunter\n  pve other   pvp \n 6169  4709  1038 \nNone\n"
     ]
    },
    {
     "data": {
      "image/png": "[encoded data removed]",
      "text/plain": [
       "<matplotlib.figure.Figure at 0x710df28>"
      ]
     },
     "metadata": {},
     "output_type": "display_data"
    },
    {
     "name": "stdout",
     "output_type": "stream",
     "text": [
      "None\nDeath Knight\n  pve other   pvp \n17275 14226  2685 \nNone\n"
     ]
    },
    {
     "data": {
      "image/png": "[encoded data removed]",
      "text/plain": [
       "<matplotlib.figure.Figure at 0x70396d8>"
      ]
     },
     "metadata": {},
     "output_type": "display_data"
    },
    {
     "name": "stdout",
     "output_type": "stream",
     "text": [
      "None\n"
     ]
    }
   ],
   "source": [
    "# plot histogram of findings\n",
    "for wow_class in posts_with_game_type_dict:\n",
    "    post_game_type_distribution = [post[4] for post in posts_with_game_type_dict.get(wow_class)]\n",
    "    fdistGameType = nltk.FreqDist(post_game_type_distribution)\n",
    "    print(wow_class)\n",
    "    pprint(fdistGameType.tabulate())\n",
    "    pprint(fdistGameType.plot())"
   ]
  },
  {
   "cell_type": "code",
   "execution_count": 8,
   "metadata": {
    "collapsed": false
   },
   "outputs": [
    {
     "name": "stdout",
     "output_type": "stream",
     "text": [
      "\"Dict level 1: dict_keys(['Death Knight', 'Demon Hunter'])\"\n\"Dict level 2: dict_keys(['pve', 'pvp', 'other'])\"\n\"Dict level 3: ['Exerz', 'Kayte', 'Mahl', 'Anomalous', 'Tethir'] ...\"\n('Dict level 4: [([\\'Pact.\\', \"Conversion is dog now since the healing from it '\n \"has been nerfed and you can't double tap it anymore.Conversion for RBGs \"\n 'though.\", \\'But just not in Arena.\\', \"In a melee cleave season conversion '\n 'doesn\\'t do jack.\", \\'It was good against lock teams last season - and '\n \"almost every team had a Lock.'], '25/12/2014 02:56')]\")\n"
     ]
    }
   ],
   "source": [
    "# Print structure:\n",
    "pprint('Dict level 1: ' + str(posts_by_class_gametype_author.keys()))\n",
    "pprint('Dict level 2: ' + str(posts_by_class_gametype_author['Death Knight'].keys()))\n",
    "pprint('Dict level 3: ' + str(list(posts_by_class_gametype_author['Death Knight']['pvp'])[:5]) + ' ...')\n",
    "pprint('Dict level 4: ' + str(posts_by_class_gametype_author['Death Knight']['pvp']['Symmetry']))"
   ]
  },
  {
   "cell_type": "code",
   "execution_count": 18,
   "metadata": {
    "collapsed": true
   },
   "outputs": [
    {
     "name": "stdout",
     "output_type": "stream",
     "text": [
      "Death Knight pve: 4366\nExerz: -0.8312\nCarminax: 0.9485\nSylmarien: 0.50255\nZølack: 0.64715\nOh: 0.514325\nMelvinftw: 0.6369\nXethys: 0.8126\n"
     ]
    },
    {
     "name": "stderr",
     "output_type": "stream",
     "text": [
      "D:\\Soft\\python351\\lib\\site-packages\\numpy\\core\\_methods.py:59: RuntimeWarning: Mean of empty slice.\n  warnings.warn(\"Mean of empty slice.\", RuntimeWarning)\nD:\\Soft\\python351\\lib\\site-packages\\numpy\\core\\_methods.py:70: RuntimeWarning: invalid value encountered in double_scalars\n  ret = ret.dtype.type(ret / rcount)\n"
     ]
    },
    {
     "name": "stdout",
     "output_type": "stream",
     "text": [
      "Haros: 0.9285\nShagnasty: -0.64595\nMarwix: -0.9359\nLarixana: -0.5574\nRevorgus: 0.50485\nBaji: -0.6387\nSephrael: 0.63995\nAibiz: -0.59405\nFaxes: 0.63035\nMothsphere: 0.7628\nThestor: 0.77945\nKalgash: 0.7131\nIcetalon: -0.5106\nGideach: 0.5983\nVerror: -0.510066666667\nPakslaag: 0.629633333333\n"
     ]
    },
    {
     "name": "stdout",
     "output_type": "stream",
     "text": [
      "Evìlyn: 0.7251\nWorldpeace: 0.67565\nRottencherry: -0.52825\nRozpierducha: 0.53005\nElfelavaisel: 0.6584\nOmnima: 0.7044\nDagleish: 0.9874\nNofi: 0.6901\nCheatéd: 0.557466666667\nNeckbone: 0.916\nKeanax: 0.857\nAljaska: 0.9661\nRôckstar: -0.6908\nZephius: -0.8133\n"
     ]
    },
    {
     "name": "stdout",
     "output_type": "stream",
     "text": [
      "Xersia: -0.032075\nTsujiro: 0.8409\nMorrigän: 0.5302\nWychwård: -0.5578\nUmbrakhor: -0.7134\nАвел: 0.5266\nMorgrann: -0.7184\nLightzum: 0.5267\nWorlvius: -0.57395\nNecrozis: 0.6177\n"
     ]
    },
    {
     "name": "stdout",
     "output_type": "stream",
     "text": [
      "Hardwire: -0.743\nManicure: -0.66805\nXyko: -0.658566666667\nBlacklily: -0.8481\nTerroto: -0.8348\nHelkedir: 0.9756\nGrezknight: -0.9426\nThetracer: 0.9062\nBrozone: 0.9712\n"
     ]
    },
    {
     "name": "stdout",
     "output_type": "stream",
     "text": [
      "Iíìl: 0.5532\nKaíne: -0.9136\nSinvicta: -0.6369\nMelendir: -0.05645\nObake: 0.04008\nSakon: -0.6554\nLeothyr: 0.51405\n>>>\n>>>Progress: 250/4366\nShinybaron: 0.874\n"
     ]
    },
    {
     "name": "stdout",
     "output_type": "stream",
     "text": [
      "Musti: 0.8176\nNarali: 0.7227\nBroloff: -0.9355\nElevenhunter: -0.51546\nBeneteau: -0.5859\nChrissucks: 0.7461\nVíncent: 0.8867\nFragshunter: -0.8625\nTenzarin: 0.5106\nAracnophobia: -0.0193\nMakron: -0.9001\nTozhiro: 0.67905\nDrought: 0.9445\nRaskunda: -0.645633333333\n"
     ]
    },
    {
     "name": "stdout",
     "output_type": "stream",
     "text": [
      "Yama: 0.7979\nForxina: 0.5574\nSemirha: 0.6433\nDaylgiht: 0.5942\nKadjitsu: -0.5423\nMâgisch: 0.5542\nRordor: 0.518\nÐeadelf: 0.86985\nDarkanthem: -0.9398\nPlaguemane: 0.73425\nMisscelirith: 0.891\nThórken: 0.5871\nRaz: 0.561966666667\n"
     ]
    },
    {
     "name": "stdout",
     "output_type": "stream",
     "text": [
      "Hoshino: 0.7034\nGallantmon: -0.7944\nCaitie: -0.695\nNimzana: 0.1852\nChandelle: 0.7479\nTlite: 0.5574\nZeekor: -0.70265\nAnklebiterr: 0.9136\nZyglrox: 0.580033333333\nMuimoridin: -0.8834\nNocturnil: 0.7184\n"
     ]
    },
    {
     "name": "stdout",
     "output_type": "stream",
     "text": [
      "Icandomagic: 0.7469\nHordrim: 0.52565\nNazragel: 0.5423\nXuen: 0.639933333333\nRaykim: 0.7717\nBreakingßad: -0.9584\nAvulsia: -0.5448\nDrundeath: 0.6249\nThalandrel: 0.6249\nShadoweye: -0.6652\nDizlen: 0.6705\nYobe: 0.8271\n"
     ]
    },
    {
     "name": "stdout",
     "output_type": "stream",
     "text": [
      "Kùth: 0.7184\nJenika: 0.8286\nRelios: -0.56485\nDestroyer: 0.792666666667\nWaffy: 0.6369\nVincénth: 0.6114\nEinherjar: -0.6597\nGromga: 0.72185\nNysche: 0.6208\n"
     ]
    },
    {
     "name": "stdout",
     "output_type": "stream",
     "text": [
      "Lfr: 0.8594\nAwsa: 0.563814285714\nNeelkanth: 0.526\nXweiia: 0.802\nNyxh: -0.8238\n>>>\n>>>Progress: 500/4366\nYafellron: 0.57354\nLacandon: 0.6597\nRagæ: 0.6727\nYafellorn: 0.9488\n"
     ]
    },
    {
     "name": "stdout",
     "output_type": "stream",
     "text": [
      "Lifemagic: 0.7964\nLaozhai: 0.5574\nJericho: 0.0128\nVulgrath: 0.66274\nHazuron: -0.7037\nSkullblast: 0.88155\nTinerius: 0.5674\nTinypanzer: 0.783\nThrodir: 0.7244\nJkes: 0.6249\nClontarf: -0.717975\nAncientfrost: 0.8573\nЗлойдикей: -0.9052\nPixxels: 0.526583333333\n"
     ]
    },
    {
     "name": "stdout",
     "output_type": "stream",
     "text": [
      "Fnx: -0.8591\nKrizzdarkzor: -0.7999\nJudgepsycho: 0.876\nXyon: 0.9304\nRokanz: -0.6936\nIcyblade: 0.6369\nLaylaril: 0.62045\nIsabél: 0.6908\nSkaadra: 0.9517\nNedhealr: 0.6705\nHárgor: 0.6155\nXylho: 0.64615\nEnthyy: -0.50935\nTsaritsin: 0.6908\nGezrug: 0.7939\nZeusaijin: 0.6946\nRoxaar: 0.8088\n"
     ]
    },
    {
     "name": "stdout",
     "output_type": "stream",
     "text": [
      "Deathfortold: -0.7319\nReliandra: 0.6696\nTrinitÿ: 0.7717\nSoméoné: 0.6369\nNadreal: 0.9118\n"
     ]
    },
    {
     "name": "stdout",
     "output_type": "stream",
     "text": [
      "Desolve: -0.9493\nXeoss: 0.846\nÖenomaus: 0.8591\nKenshyrø: 0.70095\nNeytira: -0.5256\nFrostynar: 0.8126\nStocken: 0.5499\nCellice: -0.8838\nSymbolistic: 0.53865\nBasementkat: 0.6018\nAbôlisher: -0.5383\nMedínah: 0.86595\n"
     ]
    },
    {
     "name": "stdout",
     "output_type": "stream",
     "text": [
      "Rencarex: -0.75425\nStickx: -0.5256\nMundus: -0.60485\nArinyaa: 0.6369\nBeann: -0.5017\nSukebe: 0.6204\nAirell: 0.76815\nLoonsta: -0.8307\nHopesedge: -0.5528\nUlaër: 0.7104\nBrainlezz: 0.5952\n"
     ]
    },
    {
     "name": "stdout",
     "output_type": "stream",
     "text": [
      ">>>\n>>>Progress: 750/4366\nWxms: 0.534633333333\nCyriël: 0.7003\nSheltzy: 0.9661\nNecrotiqx: -0.503066666667\nLurkenhej: 0.5304\nSchmilblik: -0.02825\n"
     ]
    },
    {
     "name": "stdout",
     "output_type": "stream",
     "text": [
      "Cìffíx: 0.6901\nÁdmíral: 0.592466666667\nNecyia: -0.7177\nVeritor: 0.7436\nThisqt: -0.5106\nRealdurrty: 0.714\nNägash: -0.7506\nZodd: 0.5927\nUnholix: -0.6068\nOrochîmaru: 0.531433333333\n"
     ]
    },
    {
     "name": "stdout",
     "output_type": "stream",
     "text": [
      "Omgkd: -0.561542857143\nShiftrune: 0.525683333333\nSkorn: 0.5423\nAraghon: 0.9674\nRaidou: 0.6993\nEvsknight: 0.8073\nCératus: 0.8268\nZzjo: 0.8074\nDknynot: 0.7469\nStillrotting: 0.6963\nCeridwynne: 0.6908\nWarcon: 0.8679\n"
     ]
    },
    {
     "name": "stdout",
     "output_type": "stream",
     "text": [
      "Dracthar: 0.808\nAccenato: 0.02685\nCadea: 0.6249\nSherise: 0.5719\nMustis: -0.5279\nFennix: 0.9231\nLunatic: 0.9719\nZalamar: 0.7964\n"
     ]
    },
    {
     "name": "stdout",
     "output_type": "stream",
     "text": [
      "Ajjhala: 0.5824\nAncìlla: 0.59715\nAsmodaii: -0.9084\nCrushallvein: 0.7077\nRelictus: 0.631\nSmidz: -0.6983\nUruwashii: 0.9403\nCorbak: -0.5103\nRithiel: 0.0229\nBetabarry: 0.6696\nKung: 0.8504\n"
     ]
    },
    {
     "name": "stdout",
     "output_type": "stream",
     "text": [
      "Ilyrian: 0.8228\nSephirìa: 0.53145\nGamlesverker: 0.6537\nPestbuster: -0.743\nThymalean: -0.8658\nZoldrage: -0.726625\n>>>\n>>>Progress: 1000/4366\nNoden: -0.8365\nVylenia: 0.7959\n"
     ]
    },
    {
     "name": "stdout",
     "output_type": "stream",
     "text": [
      "Garimto: 0.596466666667\nBryantko: -0.0267\nFortvila: 0.5709\nInfect: 0.6705\nWolfskinner: -0.7774\nGødlikez: 0.5017\nAdam: 0.5387\nÉnnasus: -0.6486\nLivepoopoo: 0.6369\n"
     ]
    },
    {
     "name": "stdout",
     "output_type": "stream",
     "text": [
      "Déstróyer: -0.5272\nAvenjielde: 0.6597\nRained: 0.625033333333\nGalagor: -0.7999\nIcefever: -0.9274\n"
     ]
    },
    {
     "name": "stdout",
     "output_type": "stream",
     "text": [
      "Helqq: 0.5994\nFrostfoxi: 0.5417\nRaeda: 0.6915\nAélyra: 0.52235\nNoveralia: -0.7524\nCarant: -0.7291\nAntidepresiv: 0.7876\nCyrisela: 0.6124\nDeepmoon: -0.55405\nHyaki: 0.64445\nLarthur: -0.6025\nSstopme: 0.6259\n"
     ]
    },
    {
     "name": "stdout",
     "output_type": "stream",
     "text": [
      "Arlaen: 0.5661\nIkerion: 0.567375\nFuturistic: 0.5955\nAzgodan: 0.7615\nSoulcalíbur: -0.1393\nMadvis: -0.7911\nSteelshade: 0.9595\n"
     ]
    },
    {
     "name": "stdout",
     "output_type": "stream",
     "text": [
      "Sefriol: 0.5095\nAthrod: 0.5859\nMione: -0.5423\nGueh: 0.773766666667\nKarzgrath: 0.55545\nNudler: -0.6808\nDreadhôôf: 0.8508\nAlesxandra: 0.803\nVansy: 0.6109\nGhoullove: 0.8126\nPim: 0.5859\nArsonn: -0.7579\nFrostholic: 0.8264\nSnør: 0.7668\n"
     ]
    },
    {
     "name": "stdout",
     "output_type": "stream",
     "text": [
      "Alleriä: 0.8779\nKorktre: -0.9732\nKubarian: -0.8635\nNickolps: -0.9716\n>>>\n>>>Progress: 1250/4366\nCohèn: 0.73855\nKhazir: 0.6249\nHunteroulaki: 0.6105\nDkpk: 0.6369\nSandalf: -0.6457\nTenebrìum: -0.8967\n"
     ]
    },
    {
     "name": "stdout",
     "output_type": "stream",
     "text": [
      "Kiite: -0.8779\nSinthya: 0.7269\nXernath: -0.68425\nMordreth: 0.6539\nZwart: -0.969\nPutsvinje: 0.62675\nSàtyr: -0.66515\nWhiteline: -0.5413\nEndyn: -0.577866666667\nKermytina: -0.5423\nKulîmu: 0.6369\nSugartastic: -0.5994\nVaderia: -0.6597\nHalonox: 0.7456\n"
     ]
    },
    {
     "name": "stdout",
     "output_type": "stream",
     "text": [
      "Shodowfang: 0.6369\nKarabor: 0.8977\nPuntz: 0.5315\nTarana: -0.8934\nTarsilin: -0.0196\nMólina: -0.7717\nDarkrage: 0.5423\nMadflipz: 0.53265\nNebhaal: 0.70145\nMohrn: -0.6749\nNamae: 0.7161\nThisfacker: 0.11145\nEmuhack: 0.6705\nEnosya: 0.6265\n"
     ]
    },
    {
     "name": "stdout",
     "output_type": "stream",
     "text": [
      "Drayser: 0.7319\nDxilence: 0.53045\nTheophilus: 0.6064\nPifflord: 0.5267\nEmizel: -0.0816\nDreadeyes: -0.57285\nTelkas: 0.51385\nShadowmourne: -0.00155\nVaeyn: -0.50684\nSóxx: 0.6052\nMixtli: 0.5574\nKoeienvanger: -0.66125\nKarkantas: -0.8715\n"
     ]
    },
    {
     "name": "stdout",
     "output_type": "stream",
     "text": [
      "Léddi: 0.76915\nAvixhawkk: 0.528366666667\nThános: 0.52885\nРитуал: -0.9659\nVinnicus: 0.8452\nCuoco: 0.644075\nCaplin: 0.8089\nRhawen: 0.76715\nFiryal: 0.6908\nDkdonkey: -0.7735\nKopke: -0.76635\nIndicaqt: 0.6448\nJúdgey: 0.765\n"
     ]
    },
    {
     "name": "stdout",
     "output_type": "stream",
     "text": [
      "Jessicajones: 0.130633333333\nAvelie: -0.5102\n>>>\n>>>Progress: 1500/4366\nLorax: 0.542927777778\nNímzana: 0.6901\nStrife: 0.55735\nStinkysocks: 0.5773\nCallmezli: -0.8537\nSinndragossa: 0.7193\nZilpui: -0.5578\nFilnaen: 0.7096\nXarok: 0.8264\n"
     ]
    },
    {
     "name": "stdout",
     "output_type": "stream",
     "text": [
      "Zolgi: 0.5608\nVengerous: 0.6249\nArmágeddön: 0.68245\nDecrementix: -0.619842857143\nMoxjet: 0.64285\nNecria: 0.74415\nViki: 0.5199\nSazir: 0.6229\nKaiko: 0.7685\nNecrophat: 0.8029\nÐevastate: 0.6124\nIsuril: 0.9253\n"
     ]
    },
    {
     "name": "stdout",
     "output_type": "stream",
     "text": [
      "Silaedru: 0.58985\nEnderer: 0.733633333333\nDoomstone: 0.71405\nSparg: 0.6648\nVholchick: -0.6369\nBlightbeard: 0.6276\nDuskspell: 0.74285\nKharthal: -0.7314\nLittlekunt: -0.5267\nChilicharlie: 0.6411\n"
     ]
    },
    {
     "name": "stdout",
     "output_type": "stream",
     "text": [
      "Rixxen: 0.55165\nGrimgor: 0.82605\nSkampie: 0.7951\nTrikola: -0.638233333333\nCryptelon: -0.700733333333\nLothyhar: 0.9274\nMurgthar: -0.544633333333\nSpìne: 0.5859\nOmgapaladin: 0.7491\nSeaal: 0.71055\nBaoao: 0.7717\nKvasir: -0.7845\nHeruini: 0.7425\nEndemic: 0.6369\n"
     ]
    },
    {
     "name": "stdout",
     "output_type": "stream",
     "text": [
      "Batspine: 0.7964\nSczezly: 0.6877\nOndmann: 0.7717\nHellgrave: 0.0912\nSonarok: -0.72762\nKortaz: -0.89335\nNocturnäs: -0.6113\nShowc: 0.7253\nPsiharq: -0.743\nValarjar: 0.6898\nGyrm: 0.56045\nMortacai: -0.953\nPredlùlz: 0.5574\nGrymvild: -0.502382608696\n"
     ]
    },
    {
     "name": "stdout",
     "output_type": "stream",
     "text": [
      "Архисоло: -0.73605\nDarkhyper: -0.8795\nVirulent: 0.8434\nHiigh: 0.8835\nReturn: -0.596425\nNorlegende: 0.6114\nGutan: 0.9464\nConors: 0.6417\n>>>\n>>>Progress: 1750/4366\nAlleine: -0.5143\nKarnage: 0.8468\nFiloviridae: -0.8492\nAlnya: 0.5719\nTorakin: 0.7264\n"
     ]
    },
    {
     "name": "stdout",
     "output_type": "stream",
     "text": [
      "Sinister: 0.538066666667\nTuledk: 0.7269\nStranger: -0.658383333333\nTive: -0.5533\nBastiôn: 0.8776\nTarskal: 0.8807\nJhinjíe: -0.68685\nKronik: -0.53445\nJimjam: -0.5868\nBig: 0.6597\nAyaney: 0.5635\nReotheras: 0.6249\nNappyrash: 0.6249\nGokuson: 0.6124\nSadblade: -0.5267\nDarth: 0.609133333333\n"
     ]
    },
    {
     "name": "stdout",
     "output_type": "stream",
     "text": [
      "Arotha: 0.6116\nGrímjaw: 0.509733333333\nTribaleyes: -0.68775\nBuldrek: 0.8225\nCrágoth: -0.6428\nHeallarious: 0.8386\nTipee: 0.639894444444\nDrekthull: -0.6664\n"
     ]
    },
    {
     "name": "stdout",
     "output_type": "stream",
     "text": [
      "Mifra: 0.9001\nCirkus: 0.5033\nVathos: -0.631\nTyrusaran: -0.6207\nOttila: -0.5267\nLumpenlarry: 0.5574\nEluneela: 0.7351\nCatstrangler: -0.885\n"
     ]
    },
    {
     "name": "stdout",
     "output_type": "stream",
     "text": [
      "Kalcron: -0.513166666667\nThaldes: 0.9265\nTúrwaithon: -0.5994\nValiera: 0.574433333333\nAsukà: -0.7579\nQari: 0.6369\nGamir: 0.64765\nTukam: -0.507\nAyshas: 0.502783333333\n"
     ]
    },
    {
     "name": "stdout",
     "output_type": "stream",
     "text": [
      "Çróòw: 0.9666\nNÿv: 0.546066666667\nSonofálich: -0.8316\n"
     ]
    },
    {
     "name": "stdout",
     "output_type": "stream",
     "text": [
      "Elondrë: 0.5667\nTonolo: 0.7414\nJohnnybgoode: 0.75695\nLichepriest: 0.7783\nBuvarette: 0.6801\nBasiun: -0.7862\nParamet: 0.547933333333\n>>>\n>>>Progress: 2000/4366\nBamischijf: 0.5106\nHogglebog: 0.784\n"
     ]
    },
    {
     "name": "stdout",
     "output_type": "stream",
     "text": [
      "Atermon: -0.696\nAzreth: 0.8176\nMalícé: 0.6908\nJerollo: -0.7851\nßigdikhorror: 0.89905\nThyranos: 0.554\nCéldora: 0.9473\nZevasra: -0.63495\nDk: 0.54536\nByenkow: 0.66845\n"
     ]
    },
    {
     "name": "stdout",
     "output_type": "stream",
     "text": [
      "Icaroz: 0.6761\nMachaera: 0.6743\n"
     ]
    },
    {
     "name": "stdout",
     "output_type": "stream",
     "text": [
      "Haemund: 0.1142\nAsag: 0.50605\nXulrogg: 0.62675\nBlite: 0.639933333333\nTakralus: 0.5852\nLemiqt: 0.1285\nMoudi: -0.887\nNightskye: 0.72825\nNurglle: 0.9426\nNecrotíq: -0.7263\nOmkommen: 0.9155\nRokuma: -0.836\nTrekhan: 0.7149\nSyldrea: -0.8232\n"
     ]
    },
    {
     "name": "stdout",
     "output_type": "stream",
     "text": [
      "Sael: -0.8777\nTasz: 0.81835\nCaskirensys: 0.74085\nLashin: 0.7175\nCombo: 0.7329\nAzihant: 0.6115\nNeteari: 0.8745\nDoijh: 0.8126\nGrotargh: 0.5859\nNorwyn: -0.5224\nMokkoo: -0.5889\nBelszazar: 0.57195\nNegru: 0.8303\n"
     ]
    },
    {
     "name": "stdout",
     "output_type": "stream",
     "text": [
      "Ahneasten: -0.7113\nHase: 0.7269\nDreshar: 0.6444\nTehreaper: 0.5481\nRihannah: 0.61468\nMagharlogosh: 0.7118\nWerebeazt: -0.5672\n"
     ]
    },
    {
     "name": "stdout",
     "output_type": "stream",
     "text": [
      "Benicetome: -0.9312\nFlúmmer: 0.7242\nDescend: 0.7865\nRuairí: 0.5994\nKezest: -0.6304\nBaiter: 0.712175\nYurmama: 0.509883333333\nHemsläp: 0.56955\nElivagar: -0.649\nDecite: -0.59285\n"
     ]
    },
    {
     "name": "stdout",
     "output_type": "stream",
     "text": [
      "Arthaniun: -0.0554125\nCiene: -0.543266666667\nChillinthano: 0.8399\n>>>\n>>>Progress: 2250/4366\nWraith: 0.7034\n"
     ]
    },
    {
     "name": "stdout",
     "output_type": "stream",
     "text": [
      "Roxcy: 0.8591\nMelviin: 0.5363\nVecis: -0.697\nResahsan: -0.8919\nBritomartis: 0.9678\nSónofalich: -0.53\nRecinius: 0.6239\nTaurus: 0.5729\nNëmain: 0.7707\nSeraphel: 0.508\nKraugerys: -0.65015\nВирейм: 0.557033333333\n"
     ]
    },
    {
     "name": "stdout",
     "output_type": "stream",
     "text": [
      "Sherawr: 0.8126\n"
     ]
    },
    {
     "name": "stdout",
     "output_type": "stream",
     "text": [
      "Crosbie: 0.5354\nAzazeél: 0.69135\nBarke: 0.5588\nRazalghoul: 0.735375\nNéwt: -0.7075\nOutworld: -0.6486\nFeïla: 0.5023\nDeathgranter: 0.9186\nOkog: -0.9769\nNordrak: 0.74345\nBombata: 0.6114\nMassicor: 0.203\nDamnmate: 0.5999\nNekromanis: 0.6705\nMelkorii: 0.9769\nApøtika: 0.743\n"
     ]
    },
    {
     "name": "stdout",
     "output_type": "stream",
     "text": [
      "Monobrow: -0.58685\nCathelion: 0.74255\nGoresin: 0.5429\nWayneth: 0.9201\n"
     ]
    },
    {
     "name": "stdout",
     "output_type": "stream",
     "text": [
      "Cozbarian: -0.7705\nDespina: 0.0363\nSmolley: 0.5719\nRefrigeratio: 0.8196\nJacqaues: -0.5583\nDarklion: -0.7876\nAalesìa: 0.535936363636\nKoradan: -0.7218\nZundap: 0.62235\nNurfed: 0.5835875\nBromama: -0.9042\nStabil: 0.5093\nRachika: 0.8038\n"
     ]
    },
    {
     "name": "stdout",
     "output_type": "stream",
     "text": [
      "Candyman: -0.8677\nShuanyu: 0.7671\nTidorro: 0.77915\nWajoba: -0.6293\nMàhmoud: -0.56175\nScárecrów: 0.66285\nZombae: -0.7964\nTenebraeus: -0.8922\nBrayden: 0.7717\nØldschòólbrø: 0.6705\nInsy: -0.51495\nBugknight: -0.9348\nRayken: 0.555033333333\n>>>\n>>>Progress: 2500/4366\n"
     ]
    },
    {
     "name": "stdout",
     "output_type": "stream",
     "text": [
      "Protectio: 0.8278\nRaynbeaux: 0.8195\nGrafschennis: 0.088\nBumpy: 0.5994\nTeddybéar: 0.5093\nWrathbourne: -0.5180375\nBeardmire: -0.623133333333\nDaquandrix: 0.7343\nAmpère: 0.5158\nKhabib: 0.73765\n"
     ]
    },
    {
     "name": "stdout",
     "output_type": "stream",
     "text": [
      "Anoriann: 0.9709\nVejeta: 0.748566666667\nPeters: 0.9308\nEnlevendk: 0.8088\nIguana: 0.7311\nGrubass: 0.65005\nSindrelia: 0.6369\nSerikos: -0.6114\nMjõlnir: 0.5859\nSnutch: -0.6482\n"
     ]
    },
    {
     "name": "stdout",
     "output_type": "stream",
     "text": [
      "Papshmir: 0.6369\nKorsbaek: 0.7351\nKratós: 0.8943\nPùnishér: 0.891\nDremorá: 0.9297\nHuggstah: 0.6705\nAztheoden: -0.926\nGormmash: 0.71175\nTyrant: 0.5719\nLogard: 0.765\nOrdinator: -0.7698\nLuná: 0.59795\nDheta: 0.542666666667\nKunxion: 0.7424\n"
     ]
    },
    {
     "name": "stdout",
     "output_type": "stream",
     "text": [
      "Screampunk: -0.8817\nWillempie: 0.7778\nKronuk: -0.5104\nRivendane: -0.7043\nPsymix: -0.6124\nAsheena: 0.7003\nSoulain: 0.625\nMalcator: 0.6597\nShaolinjoey: 0.9464\nTriø: -0.64705\nLethyss: 0.521733333333\n"
     ]
    },
    {
     "name": "stdout",
     "output_type": "stream",
     "text": [
      "Kishaar: 0.719075\nInfected: 0.6249\nSurvie: -0.7627\nElogyl: 0.9179\nEvilgoose: 0.578133333333\nVahx: 0.6369\nLupcold: 0.6239\nFleetwoodmac: 0.6908\nPrédation: 0.9201\nFloinky: -0.6125\nHagbean: 0.8555\nPlzyes: 0.57835\nMelretheas: -0.7584\nSchöne: -0.8322\nGriev: 0.9006\n"
     ]
    },
    {
     "name": "stdout",
     "output_type": "stream",
     "text": [
      "Galbana: -0.67025\nTruelies: 0.7086\nAzaléa: 0.6309\nBénafflóck: -0.7604\nQuinshar: 0.5994\n"
     ]
    },
    {
     "name": "stdout",
     "output_type": "stream",
     "text": [
      "Bulawl: 0.9575\n>>>\n>>>Progress: 2750/4366\nZock: -0.6183\nWall: -0.6124\nAemithil: 0.8126\nVibron: -0.7998\nScylla: 0.8052\nKomenasai: 0.6808\nTariro: 0.63555\n"
     ]
    },
    {
     "name": "stdout",
     "output_type": "stream",
     "text": [
      "Redigit: 0.5423\nBlazeit: 0.8442\nMixzi: 0.9201\nTrampjuice: 0.9465\nZeyon: -0.698\nArhaindir: 0.8554\nStarftlord: 0.7219\nSoulcleaver: -0.6745\nFlukey: -0.5452\nËlsa: -0.7345\nKarashka: -0.786\nMaggotsnout: 0.7574\nUnholyhaze: 0.540666666667\nMaladi: -0.5423\nRathior: 0.578675\nAmexi: -0.9504\n"
     ]
    },
    {
     "name": "stdout",
     "output_type": "stream",
     "text": [
      "Sakkii: 0.8995\nKillyox: 0.8126\nStévè: -0.602775\nHorribleclas: 0.5473\nAsmodaï: -0.5267\nAltiria: -0.57285\nCorvinous: 0.9001\nHokusai: 0.8779\nDelmare: -0.765\nJaikouh: 0.5178\nFrontlinert: 0.6274\nVeng: 0.53265\n"
     ]
    },
    {
     "name": "stdout",
     "output_type": "stream",
     "text": [
      "Spmcy: -0.6342\nCrouchgoth: 0.9165\nYknuf: 0.6369\nFörbannad: 0.5023\nShailen: -0.7351\nCastiel: 0.5465\n"
     ]
    },
    {
     "name": "stdout",
     "output_type": "stream",
     "text": [
      "Slagerno: 0.9483\nSepheris: -0.01025\nMetallus: 0.9341\nThisnthat: 0.0122\nPestilence: -0.57875\nRêapêr: 0.765\nIrisviel: -0.96495\nStray: -0.559775\nMahia: 0.6486\nLianew: 0.5859\nDraenoris: 0.8658\nSneakýsquid: -0.6597\nZurduk: 0.61805\nEniqma: 0.6854\nIllidanas: -0.596466666667\nCryogenian: -0.5719\n"
     ]
    },
    {
     "name": "stdout",
     "output_type": "stream",
     "text": [
      "Frknye: 0.595\nRaakh: -0.58155\nZénzár: -0.20805\nSelaris: -0.8399\nSuffocate: 0.5803\nDaevva: -0.5288\nBarashade: -0.663775\nRumtum: -0.7964\nFeárless: 0.6732\nViluhe: 0.021225\nSchevendalk: -0.611\nSacredsinful: 0.8519\nMitts: 0.7759\nSaqib: 0.7118\n>>>\n>>>Progress: 3000/4366\nPhathazé: -0.5423\nPanicrockz: 0.5267\n"
     ]
    },
    {
     "name": "stdout",
     "output_type": "stream",
     "text": [
      "Ciel: -0.7984\nGrayfóx: 0.7177\nKeilen: 0.5267125\nSacra: 0.7003\nShesha: -0.8717\nAcephali: -0.6118\nQiralyn: 0.9549\nSiffrah: 0.524183333333\nExoda: 0.054525\nDïablô: 0.6369\nGalgarion: 0.87515\nArctice: 0.5859\nJeina: 0.8596\nVert: 0.5859\nFlobzy: 0.6157\nHyneken: -0.7258\nKassina: 0.8104\nTabori: 0.62795\nShoov: 0.51695\nDkjin: 0.8162\nPalemaster: 0.659\n"
     ]
    },
    {
     "name": "stdout",
     "output_type": "stream",
     "text": [
      "Discworld: 0.895\nAndreasffs: -0.5351\nDerza: 0.9785\nBanê: 0.9267\nHugedeal: 0.9352\nRashgarroth: 0.6735\nCheesits: -0.7964\nAcaélz: 0.872\nOvertime: -0.8079\nPurifier: 0.7906\nNocylah: 0.908\nAsunje: 0.6114\nFinaso: -0.55545\n"
     ]
    },
    {
     "name": "stdout",
     "output_type": "stream",
     "text": [
      "Mogatroll: 0.9413\nBthem: 0.8377\nWatchmetrap: 0.6875\nThwarin: -0.9393\nFärdigheten: 0.8087\nMacleodros: 0.7783\nGteezie: 0.8358\nSchizoid: -0.5213\nAkì: 0.60895\nExoozen: -0.00435\nZonthuur: -0.5994\nAbominabilis: -0.5719\nBigiel: 0.7132\nAzeron: -0.1316\nSighuman: 0.69\n"
     ]
    },
    {
     "name": "stdout",
     "output_type": "stream",
     "text": [
      "Bootyjuice: -0.8074\nKaizo: 0.612585714286\nObelisk: -0.8316\nAnomalouß: 0.9332\nShingekí: 0.9417\nMyté: -0.52515\nDhallia: -0.8964\nVesuvius: -0.5265\nMabb: -0.7766\nForbiidden: 0.6498\nNavhkrin: 0.5528\nHeleva: 0.5658\nAriakan: 0.8813\nLockaflocka: -0.5719\n"
     ]
    },
    {
     "name": "stdout",
     "output_type": "stream",
     "text": [
      "Griff: -0.891\nMurgash: -0.6249\nTaurlordz: 0.68185\nWellmetxd: 0.7579\nDrartul: 0.5719\nKashendra: -0.9849\nIzilla: -0.61815\nRichietugnut: -0.5992\nJenifurpls: 0.6833\n>>>\n>>>Progress: 3250/4366\nZaghon: 0.738\nVailanis: 0.54785\nWraithinia: -0.7519\nZregski: 0.8748\nNervóus: -0.7246\n"
     ]
    },
    {
     "name": "stdout",
     "output_type": "stream",
     "text": [
      "Teebufall: -0.765\nQuerion: 0.6725375\nGreave: 0.8834\nEathelin: -0.9022\nDeadduchess: -0.9477\nNaynay: -0.695\nKteh: 0.6875\nÓdessit: 0.6488\nRenekke: 0.8625\nSleeprest: 0.7964\n"
     ]
    },
    {
     "name": "stdout",
     "output_type": "stream",
     "text": [
      "Raarrgh: 0.56915\nElenwyn: -0.8428\nKoudbeap: 0.8207\nDelhrak: 0.6908\nIliar: 0.9029\nUdargjin: -0.537175\nSavebilly: -0.5546\nÈvelìn: 0.6369\nGrimdaal: 0.563125\nAquilion: -0.5423\nSlutknight: 0.8904\nFelnore: 0.5106\n"
     ]
    },
    {
     "name": "stdout",
     "output_type": "stream",
     "text": [
      "Sancta: 0.575\nAzinò: 0.7198\nKreeve: -0.7717\nDave: 0.9826\nIleet: -0.04045\nXénu: 0.8832\nKainston: -0.8533\nDjtrashcan: -0.807\n"
     ]
    },
    {
     "name": "stdout",
     "output_type": "stream",
     "text": [
      "Sordurar: -0.8759\nObliterater: 0.63\nGgnore: -0.5423\nSuccumb: 0.5075\nShaguar: 0.6808\nEpicfailugy: -0.7582\nBrummbär: 0.7263\nNecrofest: -0.6526\nWussie: 0.56975\nKealtair: 0.7717\nVläd: -0.9321\n"
     ]
    },
    {
     "name": "stdout",
     "output_type": "stream",
     "text": [
      "Anubís: 0.9042\nKorkesh: -0.7363\nCalacus: -0.5423\nInfectsalot: 0.653066666667\nXstasheep: 0.51405\nThanitos: 0.5572\nPunger: 0.6678\nReddocc: 0.66975\nMollismeni: -0.612\nDeathwhisper: 0.5106\n"
     ]
    },
    {
     "name": "stdout",
     "output_type": "stream",
     "text": [
      "Agimeres: 0.5894\nVelnira: 0.613966666667\nChillbane: 0.612466666667\nKámu: 0.8173\nAelthanas: -0.6998\n>>>\n>>>Progress: 3500/4366\nRutic: 0.572233333333\nTála: 0.8201\nShinigamí: 0.8765\nÁléría: -0.656\n"
     ]
    },
    {
     "name": "stdout",
     "output_type": "stream",
     "text": [
      "Runefaust: 0.72455\nHarricke: 0.5994\nAbrakkar: -0.9547\nTakeyourtime: 0.7723\nVytari: 0.8008\nTherinea: 0.5238\nNeiel: 0.722\nShéele: 0.6808\nGrimfeld: 0.50885\nHeísenberg: 0.8116\nTokado: 0.634225\nKelan: 0.9387\nKorvate: 0.5653\nStórmez: 0.5719\nIwillreku: 0.7066\nBlóódspiller: -0.02685\nVredd: -0.5423\nBlice: -0.5776\n"
     ]
    },
    {
     "name": "stdout",
     "output_type": "stream",
     "text": [
      "Smokeyegg: -0.9586\nSemikätyri: 0.5764\nMoxemerald: 0.7184\nVideo: 0.6574\nXhaco: 0.79785\nGram: 0.52645\nStallios: 0.04765\nTreufus: 0.765\nNour: 0.5423\nVictor: 0.5376\nAkuyama: 0.5294\nChillingear: 0.6997\nCantkillme: 0.581333333333\nSinio: 0.5642\n"
     ]
    },
    {
     "name": "stdout",
     "output_type": "stream",
     "text": [
      "Aelarath: 0.55535\nEdstur: 0.7717\nRajini: -0.796\nFrostember: -0.6597\nTerankar: 0.714\nCorvina: 0.7089\nYelldar: 0.5574\nQuach: -0.560475\nBallabird: 0.93815\nLoanel: -0.8636\nSapience: 0.61406\nGuldfesk: -0.9349\n"
     ]
    },
    {
     "name": "stdout",
     "output_type": "stream",
     "text": [
      "Deathborne: -0.791966666667\nZljo: -0.9555\nThörin: -0.7964\nMoarrunes: 0.7495\nMalvious: 0.6138\nAmazín: -0.602455555556\nSherkhan: 0.544333333333\nCiyn: 0.8986\nHazalan: 0.6249\nXarlanthar: 0.61905\nGráves: 0.644725\nJääpaketti: 0.678366666667\nKakzak: 0.7783\n"
     ]
    },
    {
     "name": "stdout",
     "output_type": "stream",
     "text": [
      "Koraboros: -0.9104\nKrahai: 0.6047\nRagaash: -0.8222\nNoggí: 0.6663\nKhagalat: -0.8439\nNavhkrinn: 0.8074\nScøurge: 0.5719\nAethyioa: 0.9216\nGekkonn: 0.79865\nTuubal: 0.518066666667\nHatedemon: 0.6597\n"
     ]
    },
    {
     "name": "stdout",
     "output_type": "stream",
     "text": [
      "Tyraxes: 0.58925\n>>>\n>>>Progress: 3750/4366\nDraganarius: 0.582633333333\nLancette: 0.5267\nAgéntsmith: 0.9251\nÀrthäs: -0.5267\nUzziro: -0.5975\nMegazia: 0.5859\n"
     ]
    },
    {
     "name": "stdout",
     "output_type": "stream",
     "text": [
      "Tausaurus: 0.5719\nNoomers: 0.6548\nDarkdlver: 0.7434\nMalgur: 0.87285\nArathon: -0.836\nGado: 0.5106\nPhalandor: 0.59725\nNakaburok: 0.7335\nProfox: -0.69545\nVardun: 0.9346\nNareida: -0.0928\n"
     ]
    },
    {
     "name": "stdout",
     "output_type": "stream",
     "text": [
      "Minxy: 0.9762\nBrunsausen: -0.59465\nKvitrafn: 0.8856\nRwqrqw: -0.6705\nEvelîn: -0.67605\nTaurenkrizz: 0.9782\nGroktah: 0.5994\n"
     ]
    },
    {
     "name": "stdout",
     "output_type": "stream",
     "text": [
      "Todoran: 0.7391\nLevril: -0.743\nValdred: -0.608366666667\nRúnarc: 0.836\nGorethaz: 0.75875\nHegzer: -0.6037\nMoserah: 0.6329\nÊldritch: 0.70935\nDeadbreed: 0.6576375\nAeslin: 0.78675\nEaffair: -0.571266666667\n"
     ]
    },
    {
     "name": "stdout",
     "output_type": "stream",
     "text": [
      "Frozenfruit: 0.9506\nAphrodìté: -0.94315\nKuntzee: 0.6908\nNirvia: 0.6361\nWildlive: 0.5571\nThebecchino: 0.9664\nSunuwar: -0.559766666667\nVenteta: 0.9262\nZmaychek: 0.52885\nSaivara: 0.8468\nFrozenknight: -0.52245\nBeyondts: 0.8458\nDeeble: 0.64925\nDeathfist: 0.7341\nKayte: -0.9227\n"
     ]
    },
    {
     "name": "stdout",
     "output_type": "stream",
     "text": [
      "Mightywombat: 0.8169\nOrcporks: 0.83785\nFrostman: 0.8137\nInuba: 0.04329\nMolaag: -0.5574\nApheon: 0.63645\n>>>\n>>>Progress: 4000/4366\nUmadbrah: 0.5106\nKeeill: 0.7722\nDextor: 0.752816666667\nHarriett: 0.5023\nAntenora: -0.8934\nNathrizarri: 0.7227\nLastsentinel: -0.6769\nWormlord: 0.9011\nWennix: 0.62595\nFrostsworn: -0.1588\n"
     ]
    },
    {
     "name": "stdout",
     "output_type": "stream",
     "text": [
      "Clowncrusty: -0.8869\nGrxkas: 0.5077\nHomeboypeter: -0.765\nRinnve: -0.74595\nNineties: 0.63705\nElsliverleaf: 0.744\nDethlok: 0.6145\nTírión: 0.7971\nArcten: -0.89\nKuroyaksha: 0.6705\nMaldrum: -0.59235\nPookee: 0.571\n"
     ]
    },
    {
     "name": "stdout",
     "output_type": "stream",
     "text": [
      "Abacinate: 0.858\nOpusmek: 0.70295\nRespire: 0.7674\nAlcho: 0.8765\nSindaheal: 0.9001\nVm: 0.677\nSpunkmeyer: 0.55805\nTiriha: 0.8504\nLakutus: 0.62755625\nSikoly: -0.7964\nLinkedblood: 0.6367\nLarts: -0.128975\n"
     ]
    },
    {
     "name": "stdout",
     "output_type": "stream",
     "text": [
      "Djdeathspank: 0.7952\nDarthwind: 0.6486\nNekrah: 0.5255\nRayland: -0.705\nDrayiicha: 0.567225\nZandall: 0.61985\nZenaphin: -0.6037\nNecronx: -0.685475\nLawc: -0.9275\nFaralet: -0.5508\nVanaxarion: -0.8302\nPietri: 0.6696\nIshwish: -0.9468\nGemmaker: 0.5629\nSelandra: -0.7906\nRixis: 0.8225\nNasranejdk: 0.11115\nSnayk: -0.506\n"
     ]
    },
    {
     "name": "stdout",
     "output_type": "stream",
     "text": [
      "Swagzílla: 0.5147\nZmaychex: 0.87145\nBodom: -0.5291\nSungraze: 0.6654\nBleakiss: 0.6597\nBarock: 0.8253\nPythaganos: 0.674\nWinterpwnd: -0.5196\nBonershield: 0.6486\nMijaki: 0.6332\nPunany: 0.772166666667\nValkryss: 0.7717\nZyrtx: 0.66825\n"
     ]
    },
    {
     "name": "stdout",
     "output_type": "stream",
     "text": [
      "Ragganese: 0.8573\nNardeth: 0.569666666667\nMorgooth: -0.6818\nDarkmite: -0.8913\nГаррил: -0.5542\nCaedmos: 0.6597\nZilent: 0.84545\nAxelstorm: -0.60605\nDoge: 0.59235\nDekata: 0.6239\nTofu: -0.615933333333\nRegergek: 0.7269\n>>>\n>>>Progress: 4250/4366\n"
     ]
    },
    {
     "name": "stdout",
     "output_type": "stream",
     "text": [
      "Ashenbreath: -0.097625\nRapidor: 0.5661\nHawkthorne: 0.6315\nExyth: 0.7684\nÐaniel: -0.578533333333\nAsedas: 0.51225\nKaftoy: 0.6811\nJadiss: -0.6486\nGorehog: 0.9051\nWarfiend: 0.7579\nKrónog: -0.6249\nMidgetmagic: -0.8437\n"
     ]
    },
    {
     "name": "stdout",
     "output_type": "stream",
     "text": [
      "Hraga: 0.5949\nOmar: -0.7184\nEdotensei: 0.8905\nMortarrion: 0.518166666667\nSeung: -0.7234\nSilversword: -0.5772\nMassmurderer: 0.8567\nChogar: -0.516066666667\nAntiface: 0.8176\nCathwoman: 0.6647\nJawzy: 0.9338\n"
     ]
    },
    {
     "name": "stdout",
     "output_type": "stream",
     "text": [
      "Nabu: -0.6705\nKvitrafnx: -0.978\nTanyria: 0.6927\nLucà: -0.818233333333\n***\n** Death Knight pve: 0.234111721682\nDeath Knight pvp: 1129\nAnomalous: -0.7964\nEbonmar: 0.1364125\nMurm: 0.7096\nUntaraél: 0.8479\nБаграмян: 0.53102\n"
     ]
    },
    {
     "name": "stdout",
     "output_type": "stream",
     "text": [
      "Elpolakoo: 0.8381\nDjenghis: 0.64265\nCyrisela: 0.6369\nVaeyn: 0.6002\nGraufenstein: 0.0125\nDayyka: 0.7717\nLarthur: 0.73\nBugknight: -0.8126\nMåus: 0.6369\nEpicly: 0.7042\nChrozor: 0.55655\nStranger: -0.51508\nRaykim: -0.77\nGrubfoot: -0.7825\nHelwinter: 0.5766\nNekrah: 0.7269\nNís: 0.549575\nDesecrated: 0.7154\n"
     ]
    },
    {
     "name": "stdout",
     "output_type": "stream",
     "text": [
      "Azinò: 0.775\nFrostfoxi: -0.6325\nSinatos: -0.5171\nWormlord: 0.982\nFinisher: 0.7506\nGasthejews: 0.6249\nRotflap: 0.73265\nTragga: 0.55\nSeraphel: 0.765\nDjtrashcan: -0.8796\nGravetouch: 0.05795\nKteh: -0.676466666667\nProsít: 0.69\nRunárc: -0.5106\n"
     ]
    },
    {
     "name": "stdout",
     "output_type": "stream",
     "text": [
      "Fled: 0.9881\nCrosbie: 0.9243\nWorlvius: 0.8474\nHennyx: 0.5889\nNéwt: -0.8972\nßùù: 0.9074\n"
     ]
    },
    {
     "name": "stdout",
     "output_type": "stream",
     "text": [
      "Klegane: 0.7096\nAnaariel: 0.5374\nNickolps: -0.73395\nSollicitus: -0.6705\nSlutknight: -0.8316\nHunteroulaki: 0.8378\nThetracer: -0.8957\nReddocc: -0.658775\nWòózgrim: 0.8444\nTattarpippi: 0.69995\nZoliaxen: 0.7378\n"
     ]
    },
    {
     "name": "stdout",
     "output_type": "stream",
     "text": [
      "Platefist: 0.5568\nJulosch: 0.5423\nLøre: -0.9796\nVédma: -0.8872\n>>>\n>>>Progress: 250/1129\nChillingear: 0.81325\nDorethien: -0.8832\nJesi: -0.62765\nShinigamí: 0.64315\nPharaah: 0.8818\nSívér: -0.5859\nNazhgul: -0.7915\nRaakkh: 0.6318\nÐarkingz: 0.5106\nAracnophobia: -0.64515\n"
     ]
    },
    {
     "name": "stdout",
     "output_type": "stream",
     "text": [
      "Bryanxoxo: 0.67155\nZombae: -0.5719\nKiiljah: 0.5723\nAlkizon: 0.6858\nFistsoffury: -0.6782\nYama: -0.7397\nMaxpimpin: 0.542975\nRaakh: -0.6908\nDenzay: 0.8225\nAmbjörn: 0.5791\nDolyak: 0.802\nDjkarverqtx: 0.5423\nDreadmight: 0.8011\nNorsilian: 0.5938\nShadowmourne: 0.6124\nSmittorisk: 0.81185\nKadjitsu: -0.6408\nGilletta: 0.8248\nБракус: 0.5445\nAtermon: -0.0989\n"
     ]
    },
    {
     "name": "stdout",
     "output_type": "stream",
     "text": [
      "Delfen: -0.8329\nAgeca: 0.57125\nNatharya: -0.52065\nßelleclaire: -0.5693\nRooachîe: -0.5052\nTerankar: 0.6486\nBrida: 0.8118\nHasslehøøf: 0.867\nShadów: 0.8166\n"
     ]
    },
    {
     "name": "stdout",
     "output_type": "stream",
     "text": [
      "Faxes: 0.9402\nBlastz: 0.63145\nFamily: -0.68075\nElvadia: 0.745475\nRhawen: 0.5026\nDeathborne: -0.5423\nDkdonkey: 0.6865\nNèmo: 0.6361\nFrodomir: 0.59235\nDaevva: -0.7096\nCiyn: 0.11055\nHuggstah: 0.9284\nStrife: -0.5256\nWaruk: 0.5106\nRobóbro: -0.1989\n"
     ]
    },
    {
     "name": "stdout",
     "output_type": "stream",
     "text": [
      "Soulboundz: 0.51482\nFilnaen: 0.9308\nMisanthrope: 0.7538\nRicky: 0.5423\nEsa: 0.5949\nZibor: 0.575733333333\nKrónen: 0.5093\nDarkdavidzee: 0.9136\nElvanos: -0.6284\n>>>\n>>>Progress: 500/1129\nRastadeath: 0.9389\nXekus: 0.67515\nIusedtochew: 0.6537\n"
     ]
    },
    {
     "name": "stdout",
     "output_type": "stream",
     "text": [
      "Drahkaro: 0.922\nChrosis: -0.603\nAcelius: -0.8488\nCrode: 0.5757\nAkamel: -0.8936\nHollowed: -0.9837\nZoldrage: 0.9343\nDkjävel: -0.57525\nAwwsorry: 0.68245\nËvelìn: -0.0815625\nScourged: -0.5994\nKassina: 0.64995\nWraith: 0.7488\nHakuteiken: 0.61115\nInstïnct: -0.8274\nPandora: 0.7233\nCrønøs: -0.5994\n"
     ]
    },
    {
     "name": "stdout",
     "output_type": "stream",
     "text": [
      "Susannia: 0.7543\nPansarplåt: 0.72055\nRichietugnut: 0.52895\nKogarasu: -0.6637\nVengerous: 0.959\nAncientfrost: 0.62255\nЗлойдикей: 0.6369\nKaylan: -0.7003\n"
     ]
    },
    {
     "name": "stdout",
     "output_type": "stream",
     "text": [
      "Tuulan: 0.6162\nStrongjohn: 0.615266666667\nVibron: -0.6806\nZoúnkla: 0.9638\nSylverwen: -0.821\nTidorro: -0.6597\nMafaldekas: 0.569833333333\nBellamorte: 0.9134\n"
     ]
    },
    {
     "name": "stdout",
     "output_type": "stream",
     "text": [
      "Hehr: -0.5768\nNecro: 0.714\nXiore: -0.5994\nValherü: -0.148925\nHristoslaptr: 0.6076\nJengul: 0.6592\nSoméoné: 0.703\n"
     ]
    },
    {
     "name": "stdout",
     "output_type": "stream",
     "text": [
      "Kojhuiyte: -0.9783\nAlatristë: 0.57675\nAphrodìté: 0.7906\nNecrofenix: 0.7687\nSunuwar: 0.89775\nXdaddy: 0.7345\nZilpui: 0.7003\nGallagor: 0.61865\nSlaggeh: -0.8866\nUland: 0.6856\nSkido: -0.01655\nSàtánâs: 0.6369\nTriø: -0.7063\nValsheres: -0.02465\n"
     ]
    },
    {
     "name": "stdout",
     "output_type": "stream",
     "text": [
      "Beaniel: 0.7998\nCastiel: 0.037\nCorgi: 0.8679\nSeleniele: 0.8074\n>>>\n>>>Progress: 750/1129\nFuzzah: -0.70815\nKemii: -0.58345\n"
     ]
    },
    {
     "name": "stdout",
     "output_type": "stream",
     "text": [
      "Thisnthat: 0.8044\nMayuwen: -0.556075\nUlaër: 0.64985\nSkillgrip: 0.6415\nVerestrasz: 0.58935\nAmigaria: -0.8289\nCryogenian: 0.8932\nSheltzy: -0.7449\nKuroyaksha: 0.6369\nGroggrogge: -0.51565\nBryan: -0.7693\n"
     ]
    },
    {
     "name": "stdout",
     "output_type": "stream",
     "text": [
      "Rayken: -0.6322\nMatta: -0.9614\nMâlguur: 0.6219\nAllout: -0.687\nTyrusaran: 0.5994\nZensarok: 0.5255\nTragar: 0.7319\nLarts: 0.5994\n"
     ]
    },
    {
     "name": "stdout",
     "output_type": "stream",
     "text": [
      "Thebasher: -0.5499\nDrèco: 0.9667\nTiagon: 0.9465\nWxmz: -0.6054\nDeinhardt: -0.872\nNecronx: 0.5927\nPunzibower: -0.8712\nVrek: 0.6061\nMaggelan: -0.53765\nDknynot: -0.7783\nScoot: 0.5849\nEzekíel: 0.7929\n"
     ]
    },
    {
     "name": "stdout",
     "output_type": "stream",
     "text": [
      "Thargok: 0.9554\nDownbreak: 0.6597\nAccenato: -0.8322\nSonofálich: -0.9428\nRagganmore: 0.743\nPrixterman: 0.6369\nHijackero: 0.7301\nAipetikos: 0.5423\nDeestruction: 0.0459875\nNightsorrow: 0.641\nCripxoo: 0.8271\nRashgarroth: -0.7003\n"
     ]
    },
    {
     "name": "stdout",
     "output_type": "stream",
     "text": [
      "Seregorn: -0.5213\nPhobrial: -0.6239\nBasiun: -0.5106\nTwann: 0.802\nVials: 0.57035\nIcycola: -0.5739\nAristides: 0.50505\nUruwashii: -0.7677\nTruèwarlock: 0.9244\nIss: 0.55545\nMísanthrope: -0.7148\nImpêrius: 0.7003\nNimakkry: -0.09975\nJavool: 0.5179\nHemski: 0.65055\nDoge: -0.5719\nValravn: 0.6908\nFsdasdas: -0.9424\n>>>\n>>>Progress: 1000/1129\nBootyjuice: -0.667\nKyobo: 0.6973\n"
     ]
    },
    {
     "name": "stdout",
     "output_type": "stream",
     "text": [
      "Gauldur: 0.7221\nXcgffbg: 0.6808\nAngelus: -0.5994\nDeathknife: 0.9692\nSoeki: 0.6396\nFragarch: 0.6124\nNÿv: 0.7783\nDeadduchess: 0.5224\nGeowarr: -0.7266\nAleal: -0.66535\nHordrim: 0.6118\n"
     ]
    },
    {
     "name": "stdout",
     "output_type": "stream",
     "text": [
      "Evelïn: 0.5571\nMjølnìr: -0.745633333333\nHraga: 0.7184\nAvnar: 0.7351\nMâgisch: -0.5174\nValdri: 0.8176\nCengznucël: 0.533\nBlinkfloyd: -0.8834\nKeebi: 0.84195\nKurosu: 0.9018\nGreavon: 0.6239\nBismark: 0.606733333333\nChryz: -0.8074\nNimzana: 0.9776\n"
     ]
    },
    {
     "name": "stdout",
     "output_type": "stream",
     "text": [
      "Vampigore: 0.9528\nNortos: -0.6249\nNojawjim: -0.5267\nOmnima: -0.8236\nDips: 0.82155\n***\n** Death Knight pvp: 0.198701314681\nDeath Knight other: 4436\nVelka: -0.7964\nKyverra: 0.9485\nАзриил: -0.6533\nNoden: 0.5267\nShaque: 0.7603\nDespite: 0.53995\nHumanracial: -0.7492\nDklara: 0.8519\nPlaguespawn: 0.6569\nGraufenstein: 0.9618\nInf: 0.68075\nLetifa: 0.7906\nNudler: 0.8154\nSamsing: -0.5447\nGideach: 0.5106\nAarounimus: 0.7333\nWowciaran: -0.5622\nAnfáuglith: -0.8519\nVrek: 0.6627\nSixpackdrums: 0.5967\nCnedra: 0.71715\nRottencherry: 0.7269\nMokba: 0.76675\nNiros: 0.5719\nNinetysevens: -0.5423\n"
     ]
    },
    {
     "name": "stdout",
     "output_type": "stream",
     "text": [
      "Dagleish: 0.8442\nBiaen: -0.9325\nCheatéd: 0.7615\nFoxyferret: 0.6705\nPhäntömel: 0.8658\nTeneth: 0.7003\nDecapitation: -0.7906\nSoulcalibur: 0.6166\nDìngo: -0.5563\nEvilbimbo: 0.5284\nAshwillow: 0.56435\nGravetouch: -0.62045\nGallest: 0.5267\nRehabilitate: -0.8625\nRotheart: 0.6549\nDcmonroe: 0.9292\nWychwård: -0.60605\nPliffy: 0.6762\nVanro: 0.5994\nRylaicrystal: -0.8788\nLynari: 0.5213\nKedavra: -0.5267\nEntaari: 0.741675\nXarroc: 0.6054\nTyendra: 0.6597\nCmere: 0.7003\nLashiel: 0.7125\nRíva: 0.5484\nMàndy: 0.1051\nLizzykenzie: 0.7667\nAgrozh: -0.5994\nRivornell: -0.8225\nObake: -0.8402\nJesi: 0.8519\n>>>\n>>>Progress: 250/4436\nFushi: 0.7034\nLemon: -0.57585\nMusti: 0.7178\nBaeurn: 0.5423\nBesu: -0.7637\nHoschelhoff: 0.7783\nNarali: 0.7506\nNegru: 0.875\nAvatär: 0.5367\nRaakkh: 0.8175\nSeretin: -0.7655\nKael: 0.5854\nRapidoro: 0.5848\nIkerius: 0.7603\nOnlynxm: 0.66735\nDjokema: 0.7506\nCiyn: -0.7003\nWornlord: 0.8442\nYama: 0.5277\nGaiusbaltars: 0.8591\nKentroze: 0.71255\nSheffy: 0.5719\n"
     ]
    },
    {
     "name": "stdout",
     "output_type": "stream",
     "text": [
      "Dreadmight: -0.8047\nGorgonis: 0.6581\nKadjitsu: -0.7643\nZeytoon: 0.7035\nRimehoof: 0.9081\nRordor: 0.6588\nSneakysweep: -0.5764\nXarlanthar: 0.955\nGallantmon: 0.9175\nDurament: -0.6282\nNimzana: 0.8422\nMahl: -0.7506\nAgrotera: -0.7878\nKátyperry: 0.6522\nRagnaz: 0.7096\nCaédes: 0.7901\nMuimoridin: -0.5122\nDadruy: -0.5719\nМанхэттен: 0.7184\nVilwyn: -0.8225\nNapua: 0.875\nUkuza: 0.8231\nSnozï: 0.6369\nSaynis: -0.143\nRaykim: -0.6249\nAvulsia: 0.8418\nBonishin: -0.7194\nCallmezli: 0.7793\nIgnite: 0.624\nХьяргрим: -0.7845\nThalandrel: 0.8225\nLollollól: 0.6486\nRichter: 0.6705\nTorren: 0.59325\nSanngriðr: -0.6486\nShadoweye: -0.7717\nPijanica: -0.73125\nAsfdkljasd: 0.836\nGoa: -0.8481\nFreyleyes: 0.5859\nMelblaze: 0.6597\nXhanath: 0.7632\nKalazam: 0.5267\nEinherjar: -0.6597\nPalpatina: 0.6705\nMawemu: -0.6249\nLfr: 0.6597\nKerenis: 0.7394\nMchammered: -0.5106\nMatta: 0.7096\n>>>\n>>>Progress: 500/4436\nSedacra: 0.875\nCreecher: -0.6808\nPenetrallia: -0.5411\nScourged: 0.8402\nGommié: 0.6247\nGreytech: -0.7133\nKrónargh: 0.7637\nXerdan: 0.7076\nPanicrockz: 0.8172\nEntolól: 0.55315\nFrostmaiden: 0.8271\n"
     ]
    },
    {
     "name": "stdout",
     "output_type": "stream",
     "text": [
      "Hazuron: 0.8765\nDaelroth: -0.5283\nAlynea: 0.59735\nWildhaze: 0.6705\nRuda: 0.6187\nAncientfrost: 0.7003\nMiezz: 0.6124\nBarnakus: -0.5448\nVerkas: 0.7923\nKoltiran: 0.5994\nJudgepsycho: 0.6044\nHalbrecht: 0.7687\nWòózgrim: 0.64355\nCarissime: -0.903\nIcyblade: 0.7269\nLaylaril: 0.61155\nSkaadra: 0.5414\nNecroaids: 0.5788\nImpurex: 0.5719\nTailborn: 0.6705\nXylho: 0.6381\nMyrdhraal: 0.9231\nKoltir: 0.9229\nZeusaijin: 0.5006\nWildclaw: 0.603775\nQuelaagh: 0.0364\nAmeasun: -0.504\nValadhiell: -0.5574\nChaossmash: 0.65885\nËmpathy: -0.5216\nAtkins: -0.5256\nGaahl: 0.5859\nГолод: -0.5423\nSentrox: 0.6369\nArkal: -0.7351\nWrâthbríngêr: -0.9179\nPwaite: -0.6486\nFreddycarpx: 0.6908\nÖenomaus: -0.5719\nAldrathor: 0.6249\nKastinia: -0.5096\nMortime: -0.5932\nMojoqt: 0.7428\nLoallolollol: 0.5719\nCorripio: 0.7003\nSymbolistic: 0.6808\nDreyanar: 0.5719\nWâr: -0.5859\nSlyzz: 0.5568\nMoju: 0.7041\nTusani: 0.7964\nKonradcurze: 0.6705\nKlaffe: 0.5106\nSiffrah: -0.5994\nDeathhoix: 0.7096\nQuincy: 0.54125\nBeann: 0.6124\nTalore: -0.5859\nKaylestraza: -0.5469\nPhoiyt: 0.5574\nAurellion: -0.7027\nSerathil: 0.8701\nGoongan: -0.61105\n>>>\n>>>Progress: 750/4436\nBasementkat: 0.70625\nXuon: 0.68125\nÆðey: 0.54\nPowerfulwiz: -0.7351\nRúnarc: -0.875\nIamtheattqck: 0.7002\nSharooz: 0.6105\n"
     ]
    },
    {
     "name": "stdout",
     "output_type": "stream",
     "text": [
      "Rél: 0.5255\nOrdisious: -0.5047\nTopdon: 0.7394\nBogragnok: 0.8805\nGùrthang: 0.7269\nCaranor: 0.7203\nHeiza: 0.8155\nChihan: -0.7269\nSchmilblik: -0.5733\nBillybones: 0.6808\nAlastor: -0.6597\nGaldon: -0.7964\nSaevuss: -0.5994\nEvesion: -0.9485\nCartas: 0.6597\nSobieski: 0.7992\nOmgkd: 0.08735\nDotception: 0.5719\nScortum: 0.8567\nAveindha: 0.5225\nTharras: 0.5149\nCératus: 0.7609\nStillrotting: 0.7096\nLeonïdas: 0.6486\nVarjin: 0.53345\nDuckhorse: 0.5147\nCadea: -0.74095\nArhi: 0.5563\nAmnail: 0.6124\nMustis: 0.8316\nSwemalin: 0.705\nFennix: -0.068175\nXubaju: -0.5719\nTyranikus: 0.6901\nDifionex: 0.7088\nLobhiel: -0.5448\nNímzana: 0.6124\nCrushallvein: 0.7684\nAiola: -0.6597\nNaudiz: 0.62765\nVanauge: 0.7345\nVoltós: 0.8074\nDecaisy: 0.7574\nSoilwork: 0.5719\nAphyxion: 0.5994\nSmmiky: 0.6361\nBütcher: -0.5927\nDrayser: 0.6369\nDjtrashcan: 0.7345\n>>>\n>>>Progress: 1000/4436\nElauria: 0.5267\nTassera: -0.5994\nDinii: -0.6105\nYaneesh: 0.784\n"
     ]
    },
    {
     "name": "stdout",
     "output_type": "stream",
     "text": [
      "Zerranor: 0.6249\nSaber: 0.7845\nKozebamsen: 0.85\nSilentmysong: -0.5096\nSonofshadow: 0.6908\nTurlok: 0.6597\nFúrion: -0.61815\nHacked: 0.6705\nWhitemare: 0.685325\nFloffí: 0.76745\nNímury: 0.5719\nDéstróyer: 0.6369\nAvenjielde: 0.7506\nLichfaen: 0.6588\nZombicide: 0.6166\nTethyr: 0.5106\nAccenato: 0.7824\nYerug: -0.5106\nEsdeåth: 0.8922\nRedgart: 0.657166666667\nFrancìs: -0.6712\nRashgarroth: 0.6166\nLollerboller: -0.8955\nAnnounced: 0.6696\nEfrite: -0.1429\nFrostfoxi: 0.5647\nDogyz: 0.6808\nПрайслесс: -0.5216\nSarainia: 0.6908\nRyjudo: -0.7096\nArlaen: 0.6369\nEpicly: 0.7615\nMoograine: 0.76875\nAmynah: 0.52525\nElvanos: -0.7698\nMegainius: 0.6124\nShadowraith: -0.5769125\nAlayaya: 0.6705\nArdenth: 0.702733333333\nMedinah: 0.5775\nRotflap: 0.6369\nRuby: -0.5095\nShaofdanger: 0.5106\nNaguu: 0.6249\nLeonaras: 0.802\nYenta: -0.5106\n>>>\n>>>Progress: 1250/4436\nAqwseda: 0.7925\n"
     ]
    },
    {
     "name": "stdout",
     "output_type": "stream",
     "text": [
      "Icycola: 0.6249\nShiroz: -0.5848\nAlleriä: 0.7424\nSupervised: 0.633633333333\nNickolps: 0.7562\nTiella: 0.6369\nMaràad: -0.612166666667\nFrostfury: 0.6486\nMunjun: 0.8573\nÐuci: -0.7425\nIareth: -0.5267\nEvarov: -0.6808\nSandalf: -0.6597\nMorfanel: -0.9719\nReddocc: 0.7269\nTenebrìum: 0.0482\nKudah: 0.5791\nKorgosh: -0.66115\nKiite: 0.6808\nSael: 0.7184\nTwistedlight: 0.5757\nAngeelicus: -0.58105\nVio: 0.6369\nWräthexx: 0.7845\nHemskidk: -0.8225\nZwart: -0.992\nBloodydude: -0.5994\nTizzue: 0.6369\nRollô: 0.8979\nBlóódspiller: 0.7845\nDawngate: -0.7814\nJahmily: -0.0065\nRockwell: -0.5994\nBryantko: 0.7717\nZyvea: -0.636\nNeaïrah: 0.7902\nTarana: 0.6369\nDarthai: -0.8873\nAix: -0.7269\nKizamaru: 0.5411\nTinasõdur: 0.64565\nLksnn: 0.5859\nMôéé: -0.6476\nBlossom: -0.658\nNorthug: 0.6369\nLancette: 0.802\nSleevés: 0.6166\nMortanous: 0.04965\nSaintkargoth: 0.6597\nJuste: -0.555\nMorazz: 0.5927\nScourging: -0.5267\nKalrell: 0.56775\nDxilence: 0.8885\nThalea: 0.1265\nNecrofeelye: 0.6739\nKaizo: -0.6597\nGrasp: 0.7297\nNoìre: 0.6597\nLarixana: -0.5473\nNéwos: 0.5859\n"
     ]
    },
    {
     "name": "stdout",
     "output_type": "stream",
     "text": [
      "Naami: -0.9338\n>>>\n>>>Progress: 1500/4436\nBanderaaz: -0.6486\nKrixis: 0.62555\nBoneflayer: 0.56705\nDkdonkey: -0.7383\nVaelanduil: -0.9349\nIntersectt: 0.8588\nJúdgey: 0.7003\nGoregrip: 0.5574\nDuggy: 0.8481\nSeptuginta: 0.6202\nTule: 0.596133333333\nJohnnybravoo: 0.5719\nSinndragossa: 0.6166\nWollveren: 0.8893\nFilnaen: 0.6369\nZalrea: 0.64545\nAdamantium: 0.7506\nArgurra: 0.6249\nStaggs: -0.642033333333\nSkullblast: 0.62605\nArmágeddön: 0.6916\nСамыйчеткийй: 0.8176\nMcmick: 0.5324\nEurk: 0.5433\nGnarlyy: 0.80945\nAethrael: 0.9147\nWrolnik: 0.802\nFailgar: 0.636\nChichomisho: 0.07195\nDeathmorning: 0.8625\nKaiko: -0.5423\nHorknuthza: 0.6705\nLota: 0.512466666667\nAlactus: 0.9491\nKiisses: 0.6369\nBharogh: 0.6166\nDunrohk: -0.8478\nSparg: 0.5093\nVholchick: -0.5423\nGeroz: 0.9175\nPharanush: -0.5362\nSolvick: 0.5106\nProdknp: -0.5122\nWoby: 0.6111\nSwehunterdk: 0.6369\nCrønøs: 0.9253\nRickyy: 0.8807\nLixuz: 0.6588\nBiobull: -0.5405\nColdstrikez: 0.6958\nKogarasu: 0.8091\nGlarial: -0.8335\nBouffetripes: 0.6756\nArtwood: 0.5945\nBaoao: 0.8442\nNarkotix: -0.8776\nGhoullove: 0.06535\nRiiw: 0.5423\nEndemic: 0.8957\nSoullreaverr: -0.6908\nEkhrun: 0.51585\n"
     ]
    },
    {
     "name": "stdout",
     "output_type": "stream",
     "text": [
      "Qrmas: -0.8109\nAilbhe: -0.1175\nDeadmeme: 0.8004\nLittlemoses: 0.6369\nSháenna: -0.6143\nHiimom: 0.6964\nSvassless: 0.6369\nOmax: 0.7717\nTraffy: 0.8439\nFreshfrifly: -0.7579\nАрхисоло: 0.10205\n>>>\n>>>Progress: 1750/4436\nInsumia: 0.6696\nFenglow: 0.6808\nKryptonian: -0.5859\nKojhuiyte: -0.765\nImmortalias: 0.6486\nStahlreck: 0.55545\nLuxis: -0.5365\nIxen: 0.7523\nDesknight: 0.8109\nTarskal: -0.8126\nOokthydooker: 0.6249\nPssh: 0.532133333333\nCáptaincool: 0.7469\nBuiws: 0.913\nSoxs: -0.7783\nSkilletína: 0.5719\nMedabee: 0.6696\nFrozenclaw: 0.807\nRichendithas: 0.7717\nNicole: 0.681875\nRhawn: 0.6124\nLetmewin: 0.6369\nDequé: -0.7579\nТранслитдк: -0.9062\nDizeazd: 0.72215\nAyanis: 0.6369\nTvat: 0.6597\nSunbublé: -0.5106\nMalachai: 0.6696\nInsegnoo: 0.8225\nDarth: 0.5423\nCridar: 0.7783\nLupursus: 0.7579\nXalala: -0.54665\nTheias: 0.6369\nRavenouz: -0.5499\nDarthozzy: 0.7769\nBerlag: 0.6059\nTipee: 0.6146\nThanah: -0.7414\nGundark: 0.7717\nJæ: 0.5106\nCorpus: 0.7119\nHuckerino: 0.5362\nTyrusaran: 0.7331\nGinka: 0.8115\nStormreave: -0.02685\nByserion: 0.6486\nHuntsmead: 0.6486\nKyúk: 0.8158\nRampage: 0.588\nDeadgrumpy: 0.7351\n"
     ]
    },
    {
     "name": "stdout",
     "output_type": "stream",
     "text": [
      "Jerollo: -0.5848\nVoracek: 0.7082\nCrazy: 0.8074\nRime: -0.5719\n>>>\n>>>Progress: 2000/4436\nWulfbane: 0.59785\nUnkleer: 0.54985\nBlarry: -0.6908\nThondrak: 0.08945\nHazardrox: -0.7494\nScoxt: 0.1184\nDeathraiser: 0.71695\nAbyssius: 0.02315\nGigantuss: 0.7474\nDainsleif: 0.76075\nFelnore: 0.8622\nAríon: 0.8881\nUtfrusen: 0.7096\nEnragedone: 0.7386\nMísanthrope: 0.6369\nAnubisaths: 0.5719\nDreamie: 0.567\nMalícé: 0.6369\nPurgatorio: 0.0629\nDeathbysound: 0.5046\nSpenno: 0.75545\nArchron: 0.6249\nPeeltotem: -0.7351\nGlavorn: 0.6369\nDk: 0.63215\nTála: 0.5859\nAlanar: 0.6436\nXulrogg: 0.7962\nCarnagz: 0.536733333333\nAmakudari: -0.5255\nLùnd: 0.7592\nNormql: 0.705\nTakralus: 0.7901\nUndeadmortis: -0.631\nEvelìn: -0.57676\nShandrall: -0.711\nKryael: 0.7184\nFremor: -0.5994\nMâlguur: 0.5264\nRedglare: 0.564\nZëphiix: 0.792\nRokuma: 0.8422\nMâgisch: -0.8724\nMalfael: 0.6166\nLerelennor: 0.6249\nTasz: 0.5423\nMobius: -0.6674\nMechnatize: 0.5423\nVõdka: 0.55115\nEzekíel: 0.6633\nZoohath: 0.5588\nNiternus: -0.5812\nVuong: -0.5949\nLovestrike: 0.6908\nSophéná: -0.5511\nBlóódehlf: 0.6038\nRotbutt: 0.6369\n"
     ]
    },
    {
     "name": "stdout",
     "output_type": "stream",
     "text": [
      "Necrona: 0.51765\nTethir: 0.6705\nMageincage: -0.7351\nRihannah: 0.8734\nPeters: -0.5911\nBenicetome: 0.76365\nSöuldealer: 0.765\nFlúmmer: 0.7579\nYei: -0.08405\nCharilock: -0.561675\nCarl: 0.7506\nDrakara: 0.57085\nBîshop: -0.520233333333\n>>>\n>>>Progress: 2250/4436\nUnholybolt: 0.87\nBanlea: 0.8677\nNóx: -0.9136\nAphexis: 0.706825\nNergon: 0.6369\nOrbix: 0.8519\nTelthas: -0.5719\nBellybaron: -0.60975\nMythwic: 0.79115\nInsomnia: 0.69\nStarkwind: 0.7351\nElfinatrix: -0.6106\nWaouly: 0.7701\nSinatos: -0.7771\nRecinius: -0.5033\nSjóri: -0.5994\nNëmain: 0.741825\nTallanz: 0.807\nVryth: 0.7987\nFel: 0.6641\nAennaalt: -0.5267\nKraugerys: 0.7002\nArleia: -0.6597\nBlodlys: 0.6696\nRaegwyn: 0.6249\nFulldps: 0.6486\nCrosbie: 0.7213\nFliptables: 0.6166\nOutworld: -0.572566666667\nFeïla: 0.6202\nOverknight: 0.503\nDamidos: -0.7096\nDilucidus: 0.7503\nSpecop: 0.6705\nKaleron: 0.7506\nAlastis: 0.7537\nDreadednyx: 0.8625\nLincey: -0.636\n"
     ]
    },
    {
     "name": "stdout",
     "output_type": "stream",
     "text": [
      "Rox: 0.70915\nCathelion: 0.6249\nTúoppe: 0.7506\nTrizwoléy: -0.6608\nMilkmez: 0.5106\nThydrea: 0.729\nTyrkisk: 0.7906\nCorinthus: -0.9072\nSmolley: 0.6101\nTaifú: 0.8239\nStamkos: 0.6808\nÉnzehh: -0.7902\nKoradan: -0.7178\nElenwyn: 0.6908\nNurfed: 0.7096\nRocksólid: 0.7585\nValmara: 0.7269\nDillåke: 0.6114\nMerkyace: -0.6114\nCilindro: 0.5994\nMlgdk: 0.5031\nGuiltyas: 0.5423\nCandyman: 0.5106\n>>>\n>>>Progress: 2500/4436\nShuanyu: 0.765\nUmadbrro: -0.648783333333\nArkar: -0.6268\nBryanxoxo: 0.9105\nLjdlfjs: 0.579233333333\nLarthur: 0.6705\nIkerion: 0.7149\nKatyla: 0.807\nRayken: 0.765\nRazzier: -0.5284\nPanny: 0.78595\nRazgakh: 0.653\nOlaina: -0.651266666667\nKamicazi: 0.6007\nMåus: 0.6705\nHabitat: 0.65975\nNyzhao: -0.5423\nWorgmented: -0.70385\nAlexastrider: -0.8464\nAnoriann: 0.7901\nMirijam: 0.8055\nZierz: -0.5994\nEbolkaa: 0.9022\nCiceró: 0.8807\nSithar: 0.7096\nPopje: 0.955\nBrida: 0.8341\nSillybutt: -0.8531\n"
     ]
    },
    {
     "name": "stdout",
     "output_type": "stream",
     "text": [
      "Kanum: -0.8481\nJonastus: 0.6868\nLuná: 0.8643\nNearial: 0.7506\nOsudin: 0.8834\nSlutknight: 0.6974\nJolon: 0.772\nRcz: 0.54785\nTyrant: 0.91\nZelhaeith: 0.8176\nGajaurunashi: 0.91\nFeddx: 0.6705\nMatharias: 0.5135\nMuhandiaz: -0.51145\nTboned: 0.5423\nArtylike: 0.6696\nJastè: 0.8622\nEsa: 0.5688\nTyphiss: 0.6705\nHolyflexarn: -0.7779\nQuinshar: -0.5267\nGaully: 0.6124\nMoraear: 0.6705\nCrunix: -0.8055\nIllanox: 0.6059\nMalfurien: 0.5473\nBalzog: 0.9359\nInfected: 0.9395\nBarnabix: -0.511825\nSurvie: 0.6621\nBanish: 0.6133\nSuumi: -0.7096\nMagharlogosh: 0.8402\nSkore: 0.6166\nPrédation: 0.63585\nDemon: 0.7603\nHagbean: 0.7219\nChapunie: -0.65725\n>>>\n>>>Progress: 2750/4436\nSchöne: -0.5574\nInhibitor: 0.5994\nAltaïrr: -0.7213\nVyscha: 0.6892\nShìkí: 0.5574\nYuritard: -0.6258\nYummyddosx: 0.5719\nDilemmas: 0.7082\nDragór: -0.06255\nCawlin: 0.5009\nFlaxozz: 0.02025\nArtifáx: -0.7269\nKomenasai: 0.7351\nKeedrokasas: 0.743\nNadejha: -0.5739\nStagger: -0.6486\nMurthhslave: -0.77905\nFx: 0.5423\nSoulain: 0.6054\nValfader: 0.6166\nVarlden: 0.6916\nAdrialle: 0.7804\nPhosaidexx: 0.5574\nXekus: 0.6369\nNecro: 0.70015\nUnholyhaze: 0.7034\nDotzõn: 0.6249\nSacranos: 0.8645\n"
     ]
    },
    {
     "name": "stdout",
     "output_type": "stream",
     "text": [
      "Mugenkaguro: 0.7865\nMakavéli: 0.6249\nChewsday: -0.8402\nStévè: -0.6124\nCirkus: 0.8074\nXdaddy: 0.6249\nSekt: -0.8299\nTelaani: 0.5106\nThijsgijs: 0.5267\nDelmare: -0.5106\nLessingham: -0.9573\nPsylocybina: 0.6249\nAzurro: 0.7906\nYknuf: 0.7778\nWôrgenator: 0.7096\nCorgi: 0.7992\nSlagerno: -0.6697\nSepheris: 0.75005\nMairon: 0.5049\nЗмейко: -0.6847\nJeperty: -0.5859\nExemplis: -0.713\nBelamy: 0.694\nAlds: 0.6557\nRotgrinder: 0.6908\nNévermoré: 0.554391666667\n>>>\n>>>Progress: 3000/4436\nXypril: 0.6249\nCryogenian: 0.6705\nPond: 0.5705\nRavehole: -0.6418\nDaevva: -0.60985\nAwh: 0.7378\nKrurkan: -0.8144\nDerxor: 0.6249\nQari: -0.5994\nArthas: 0.6731\nDëstruo: 0.6801\nSideon: 0.5859\nDïablô: 0.8464\nGalgarion: 0.7096\nLoknoru: 0.50854\nAlkaia: 0.5106\nFlobzy: 0.5859\nKaapek: 0.751\nHårbinger: 0.594\nTroldemort: 0.5106\n"
     ]
    },
    {
     "name": "stdout",
     "output_type": "stream",
     "text": [
      "Succumb: 0.6239\nPalemaster: 0.8748\nCobrius: 0.91\nDownbreak: -0.5106\nDzerok: 0.6402\nBelíeve: 0.6579\nAllmeria: 0.6597\nBanê: 0.7283\nGalagor: 0.6453\nSollicitus: -0.6083\nSalina: 0.7096\nDreadhôôf: -0.7391\nForlin: 0.83005\nAhzil: 0.5574\nThugslife: 0.6705\nSchizoid: 0.5927\nMôèè: 0.7269\nLurkenhej: 0.7964\nDinnerßox: -0.5719\nNimakkry: 0.53215\nMiseras: 0.552\nAzryél: -0.5267\nTáy: -0.8273\nZalamar: 0.8591\nBloodglass: 0.5994\nBarock: -0.6597\nSkrubz: 0.8555\nWizot: 0.5719\nForbiidden: 0.743\nDirtz: -0.8105\nHehr: -0.7464\nBure: 0.6369\nLutrwths: 0.743\nTumato: 0.50895\nGiblette: 0.6369\nArchaus: 0.8383\n>>>\n>>>Progress: 3250/4436\nTruman: 0.74355\nChanen: -0.6249\nNyphelim: 0.518\nSylvanaraven: 0.7717\nSlanêêsh: -0.76355\nComwell: 0.5106\nIzilla: -0.5719\nTaneriel: -0.6661\nDeffers: 0.8107\nDomx: -0.5187\nMarjhan: 0.9365\nVeloria: 0.56935\nDyrant: 0.7351\nScúffý: 0.5634\nCronz: -0.6597\nFeelcool: 0.5859\nWrayn: -0.5728\nEbonmar: 0.7506\nItáchí: 0.6535\nNinyata: 0.6696\nChromesoul: 0.7264\nConfetti: -0.5994\nRivendane: 0.5221\nKteh: 0.69205\nShinosenshi: 0.6369\nWolvarrus: 0.6166\n"
     ]
    },
    {
     "name": "stdout",
     "output_type": "stream",
     "text": [
      "Facemeat: -0.5256\nLucieonowns: -0.518\nFaeith: 0.6369\nJaqobé: 0.717\nPanzerbrezer: 0.9098\nFenarian: 0.7003\nOnslow: 0.6369\nGrubfoot: 0.802\nKrebsritter: -0.5994\nMeatshake: 0.6249\nRígamortis: -0.6486\nKreeve: 0.52855\nRazorjack: 0.7184\nAquiliani: -0.5106\nForthwynn: 0.7184\nNardeth: 0.8016\nNohana: 0.6486\nSkillknight: -0.6597\nBrianholinka: 0.9279\nFled: 0.7479\nGgnore: -0.5106\nAzriyel: 0.7579\nSephrael: 0.84\nTuulan: -0.8429\nJenkosaurus: -0.198\nPinksokk: 0.6696\nStorozhevoy: 0.8516\nAmbrosious: -0.8481\nKyteh: 0.9482\nRenéx: 0.8096\nKithoras: 0.599166666667\nDednite: 0.6124\nWolfzpri: 0.5423\nGorefriend: 0.5267\nMalanorei: 0.08595\n>>>\n>>>Progress: 3500/4436\nNíghtcrawler: 0.7644\nRazkip: 0.5719\nAgimeres: 0.5569\nChillbane: -0.0694\nZaia: 0.7845\nXstasea: -0.7845\nAzreth: 0.743\nSnowmeow: 0.6908\n"
     ]
    },
    {
     "name": "stdout",
     "output_type": "stream",
     "text": [
      "Védma: -0.5785\nDorethien: 0.9286\nRhime: 0.5515\nAngrytauren: 0.6369\nKhagalat: -0.55895\nLoldemort: 0.5994\nPeeves: 0.7003\nStinka: 0.7096\nDrakksen: 0.7684\nSoultamer: 0.6652\nMerkith: 0.58156\nGaston: 0.6124\nAinacair: 0.5907\nPricus: 0.6059\nJeysbane: -0.594\nDekei: -0.7893\nRunehoof: 0.587075\nCuddlepooh: 0.8455\nNorsilian: 0.7894\nGnomozilla: 0.6705\nDníte: 0.6597\nGonedark: -0.836\nScythia: -0.6192\nVordon: 0.8225\nWalsky: 0.7184\nVoidheart: 0.036175\nYelldar: 0.5423\nQuach: -0.7125\nShinigamí: -0.9663\nDesecrated: -0.9001\nSorel: 0.6369\nUnholytocak: -0.56955\nZigenaren: 0.885\nTrenchhead: -0.8126\nLorthes: -0.6486\nPockethorror: -0.8885\nNenabit: -0.5256\nDraeloth: 0.6083\nMayuwen: 0.7906\nDarlvenga: -0.08165\nNoctrael: 0.7184\nStrygg: 0.5948\nGráves: 0.6369\nKakzak: -0.0052\nDixrnice: -0.8428\nMortalnomore: 0.5859\nZymosis: 0.8668\nRagaash: 0.52775\nNoggí: 0.6249\nGalathia: -0.5093\nDirestout: -0.7828\nRycerz: -0.6348\nValarienn: -0.5719\nNîcole: 0.8124\n>>>\n>>>Progress: 3750/4436\nJustiça: 0.6597\nTerryworgén: 0.794525\nDarklion: -0.5574\nLarrz: 0.6914\nDemigon: 0.8357\nRâgé: 0.7579\nRerrandra: 0.6369\nSighduck: -0.5849\nZae: 0.6063\nSvaggier: 0.7865\nGrimdecay: 0.7941\nDraganarius: 0.5994\nTalviyo: -0.6557\nZerobeat: 0.8217\nVathir: 0.5707\n"
     ]
    },
    {
     "name": "stdout",
     "output_type": "stream",
     "text": [
      "Hakuteiken: 0.595866666667\nAragirl: -0.7184\nBioorc: 0.5574\nDiaboni: 0.605366666667\nDarkdlver: 0.8122\nUnknowny: -0.6537\nPansarplåt: 0.65305\nMokpa: 0.6329\nRhekk: 0.6166\nZedragonbane: 0.6705\nFaúst: 0.7668\nGandrim: 0.6757\nKurasa: -0.6808\nFyhr: 0.8555\nLuffy: 0.7264\nParmezan: 0.08035\nWorgnfleaman: 0.6486\nTòràk: 0.6369\nSoulshake: 0.6369\nSolid: -0.5994\nMiranha: -0.5994\nRwqrqw: -0.5423\nOgnir: -0.630966666667\nGroktah: 0.7096\nXiriah: 0.6486\nNiniël: 0.6696\nLevril: -0.5023\nValdred: -0.562033333333\nÉmo: 0.71855\nKaralebaja: -0.7723\nTelkas: 0.873\nKrenbluk: 0.7003\nGhardnok: 0.9152\nHellmiong: 0.8777\nSampyre: 0.6249\nCalyhee: 0.9022\nAeslin: 0.7184\nLughnasadh: 0.5114\nTenebrium: -0.6326\nHeadçase: 0.7485\nZavage: 0.5897\nEryrbag: -0.765\nBolestan: 0.7269\nKuntzee: 0.5927\nTarmalina: 0.7184\nAstaer: -0.6486\nNecrotíq: 0.8225\nStinkysocks: 0.5784\nGorliat: 0.5574\nVerdíco: 0.9287\nFreezler: -0.5994\nEreziah: -0.836\nMisakoee: 0.8314\n>>>\n>>>Progress: 4000/4436\nSuprm: 0.7539\nFlashfìre: 0.5106\nKallonain: 0.5859\nDeathloord: 0.7845\nMightywombat: 0.6161\n"
     ]
    },
    {
     "name": "stdout",
     "output_type": "stream",
     "text": [
      "Sgtdeath: 0.5319\nMiastrae: 0.522\nNorlegende: 0.51215\nInuba: -0.7506\nIss: 0.5574\nNerdja: -0.5472\nDextor: 0.7091\nPepperoni: 0.6249\nJöröjyrä: 0.5106\nMør: -0.5106\nValanash: -0.6801\nRimeforge: 0.908\nArtym: -0.5994\nFrostsworn: 0.9331\nKnoxius: 0.802\nTírión: 0.8225\nMorguhl: -0.581\nАмменаммен: 0.6239\nKadreth: -0.7579\nJuyo: 0.5574\nHílloo: 0.64355\nVm: 0.6808\nNecrofeelyá: 0.59715\nTrawn: 0.8084\nGazar: 0.7845\nLakutus: 0.5574\nJkér: 0.5757\nKillyox: 0.5824\nNekrah: 0.70675\nRohkuja: 0.7071\nSalaeith: -0.6187\nDrayiicha: -0.8271\nNecronx: -0.6077\nTepel: 0.56885\nLawc: -0.7717\nMorgthar: 0.5037\nChillscream: -0.6976\nAertas: 0.5859\nAnomalouß: 0.9359\nSungraze: 0.6124\nNaufragusa: 0.6705\nIcecoldmilk: 0.62415\nWinterpwnd: -0.6014\nHorask: 0.6369\nEärnur: 0.0087\n>>>\n>>>Progress: 4250/4436\nDzorain: 0.836\nZorpheus: -0.7184\nFlubber: 0.6369\nLynta: 0.5574\nSylpheiidk: 0.7422\nTehreaper: 0.0423\nYazatá: 0.6326\nPachiku: 0.5719\nDoge: 0.906\nEther: 0.5785\n"
     ]
    },
    {
     "name": "stdout",
     "output_type": "stream",
     "text": [
      "Verou: 0.602266666667\nKurosu: 0.5725\nAlacritus: 0.7595\nFáceróller: 0.8531\nFashawn: 0.6696\nShognar: -0.7506\nVèximus: 0.8842\nCanarifull: 0.5106\nMene: 0.6808\nLksn: 0.5574\nPreview: -0.8519\nFesteroth: 0.7901\nAzmah: 0.7003\nKronghar: 0.5551\nDarkfallen: 0.8402\nHallow: 0.9109\nXhaco: 0.7536\nSupikka: 0.0444\nFangledangle: 0.5115\nFilav: 0.6249\nSilversword: 0.6369\nSamox: 0.6908\nАвстер: -0.6908\nDeposition: -0.65465\nKealdric: 0.6617\nHowlingrunes: 0.7096\nRaoghnailt: -0.8347\nJawzy: 0.8748\nÐårkñåsgül: 0.802\nPapshmir: 0.5267\n***\n** Death Knight other: 0.298032127676\nDemon Hunter pve: 1694\n"
     ]
    },
    {
     "name": "stdout",
     "output_type": "stream",
     "text": [
      "Tuskerini: -0.5378\nÃve: 0.9169\nNågãsh: -0.7096\nDeema: 0.588666666667\nGorastus: -0.5237\nMerilith: -0.7615\nWanheda: -0.6486\nNyxzz: 0.577575\nGunerstile: -0.5197\n"
     ]
    },
    {
     "name": "stdout",
     "output_type": "stream",
     "text": [
      "Shaoliin: -0.7152\nRakestun: -0.6491\nCrucialz: 0.8271\nHadashi: -0.9477\nRaygor: 0.687875\nWarferno: -0.6641\nBlackari: 0.8494\nAldryk: 0.9364\nBlazze: 0.7579\nJadendorris: 0.73325\n"
     ]
    },
    {
     "name": "stdout",
     "output_type": "stream",
     "text": [
      "Cuddlewaffle: -0.8642\nGrímm: 0.5707\nXyphy: 0.876\nKyrihs: 0.6631\nAeronwen: 0.7034\nTwenzi: -0.6475\nZàndramas: -0.58965\nDehmonik: 0.5859\nIyzebel: 0.7579\nDödsgreppet: 0.586775\nCanrith: 0.8492\nCelice: 0.9611\nVarathir: -0.606533333333\nElggun: -0.70205\nFelcraze: 0.8442\nKìtsy: -0.6808\nKhaas: -0.52556\n"
     ]
    },
    {
     "name": "stdout",
     "output_type": "stream",
     "text": [
      "Möè: 0.7964\nEntaari: 0.599466666667\nNatharok: 0.583475\nRopuchen: 0.7402\nValerrie: 0.672225\nTellie: 0.64515\nTaevi: -0.5574\nKillidari: 0.7783\nDemoniel: 0.5999\nNamatus: 0.7597\nInarrin: 0.5261\nVillidan: 0.0265\n"
     ]
    },
    {
     "name": "stdout",
     "output_type": "stream",
     "text": [
      "Mythadros: -0.6787\nBeukaapje: 0.6337\nExequiel: 0.7947\nMistyphied: 0.5095\nSarthennis: -0.5513\nNarkis: 0.6705\nSicael: 0.8439\nGhostie: -0.5574\nArchoron: 0.6124\nKeayra: -0.552133333333\nHeaat: 0.6165\nRiplela: -0.5423\nVilishras: 0.9598\n"
     ]
    },
    {
     "name": "stdout",
     "output_type": "stream",
     "text": [
      "Zealz: -0.5719\nInterïtus: 0.5568\nSaichi: 0.8419\nFiddlestixx: -0.5496\nKordelise: 0.63655\nMattdemøn: -0.59302\nHephaistion: 0.5699\nMehlos: 0.8226\nKominax: 0.9905\nJeet: 0.7561\nAroneth: -0.8402\nCobra: 0.5999\nGrumblebeard: -0.76975\nFlóffy: 0.5998\n>>>\n>>>Progress: 250/1694\nIllm: 0.8126\n"
     ]
    },
    {
     "name": "stdout",
     "output_type": "stream",
     "text": [
      "Verith: 0.71565\nShankszz: -0.6801\nSnaplèxity: -0.91265\nKurnous: 0.5374\nIncubbus: 0.922\nFilidan: 0.63175\nQaren: 0.567066666667\nShagaru: 0.63145\n"
     ]
    },
    {
     "name": "stdout",
     "output_type": "stream",
     "text": [
      "Nyquel: 0.9098\nMemerino: -0.50965\nRyutzun: 0.514125\nKaminar: -0.7541\nTharn: 0.9103\nVoreck: 0.7776\nEluñê: -0.60065\nJuxtah: 0.7789\nZenidhari: -0.7096\nKreemzy: 0.611733333333\nZanae: 0.7111\n"
     ]
    },
    {
     "name": "stdout",
     "output_type": "stream",
     "text": [
      "Healerino: 0.70955\nSigurrós: 0.8412\nKibsie: 0.5989\nChíquíta: 0.549275\nLethalien: -0.5423\nRankler: 0.6066\nProtectorz: 0.507366666667\nBlindoflove: -0.5829\nPentosaurus: 0.8689\nTokinari: 0.629\nShirvael: 0.802\nIllidarï: -0.9018\n"
     ]
    },
    {
     "name": "stdout",
     "output_type": "stream",
     "text": [
      "Felfeather: 0.8544\nVilses: 0.8519\nIwillwin: -0.78695\nSikozuh: 0.60785\nKhaosdemon: 0.7096\nKachi: 0.8626\nIhandil: -0.6378\nEldainss: -0.6911\nFylgos: 0.7717\nSliske: 0.5859\nIgnasius: 0.7345\nHornette: -0.6429\nEôsphoros: 0.9239\n"
     ]
    },
    {
     "name": "stdout",
     "output_type": "stream",
     "text": [
      "Dsaasdds: 0.7037\nSaucefar: 0.9276\nIllerin: 0.66445\nChipchub: 0.5728\nLockvd: 0.0048\nAzaeras: 0.5906\nCinyk: 0.54565\nMorrekdarash: -0.8001\nTarttarus: -0.6996\nCthulhú: 0.520633333333\nFelmortus: -0.7893\n"
     ]
    },
    {
     "name": "stdout",
     "output_type": "stream",
     "text": [
      "Mikuh: 0.5748\nKaikuri: 0.50135\nИллиам: 0.7436\n>>>\n>>>Progress: 500/1694\nSuj: 0.59915\nEmeter: 0.9541\nØrwell: 0.8984\nMeixy: -0.7344\n"
     ]
    },
    {
     "name": "stdout",
     "output_type": "stream",
     "text": [
      "Туози: 0.5574\nBlighthoof: 0.7297\nSoulforged: 0.5719\nElleynrianda: 0.5574\nStickx: -0.8541\nLilras: 0.7814\nFrazzit: -0.5588\nPriamos: -0.8205\nRamlethal: 0.8689\n"
     ]
    },
    {
     "name": "stdout",
     "output_type": "stream",
     "text": [
      "Irisviel: 0.9859\nSlashmasterx: 0.8121\nFatish: 0.797\nLaeneya: 0.8221\nCrode: -0.6641\nHakla: 0.6289\nGravetouch: 0.5998\nHanjaab: 0.5994\nGrantlerlein: -0.5106\nMiylee: 0.6278\nNecrotiqx: 0.516733333333\n"
     ]
    },
    {
     "name": "stdout",
     "output_type": "stream",
     "text": [
      "Færina: 0.6027\nSchmilblik: -0.5302\nDemonkillers: -0.6169\nÓlszál: -0.6291\nVorithien: -0.6597\nDhjengiss: 0.8581\nVusi: -0.926\nSilvergrace: 0.5719\nAlodan: -0.7475\n"
     ]
    },
    {
     "name": "stdout",
     "output_type": "stream",
     "text": [
      "Kallidan: 0.773925\nAmorcito: -0.8957\nAlgalord: 0.83525\nMaggelan: 0.5768\nHofferson: 0.7783\nCeres: 0.8415\nTalvarsyl: -0.7645\nSalazzin: -0.57205\nDownbreak: 0.7184\nRononoa: 0.9542\n"
     ]
    },
    {
     "name": "stdout",
     "output_type": "stream",
     "text": [
      "Netjeret: -0.6083\nJaunt: 0.5927\nFelanna: 0.6908\nHiki: -0.5423\n"
     ]
    },
    {
     "name": "stdout",
     "output_type": "stream",
     "text": [
      "Mshén: 0.5601\nРитуалз: 0.6379\nAgateophobia: 0.7766\nRenron: -0.73125\n>>>\n>>>Progress: 750/1694\nYunashi: 0.5757\nKoradan: 0.5719\nSithral: 0.5599\nCalluxus: -0.159175\nVerathix: -0.5966\n"
     ]
    },
    {
     "name": "stdout",
     "output_type": "stream",
     "text": [
      "Navhkrin: 0.50105\nRekham: 0.85\nDotneyspears: 0.7615\nEvilbefall: -0.6705\nCyreath: -0.8187\nRexwell: -0.7783\nThornial: -0.66455\nKhazir: 0.5599\nFunkfenix: -0.7071\nSebnemleon: 0.55346\n"
     ]
    },
    {
     "name": "stdout",
     "output_type": "stream",
     "text": [
      "Quasar: -0.691666666667\nDherica: 0.8126\nNhadaly: 0.9165\nZag: 0.540733333333\nVulgrath: 0.8479\nKialea: 0.537\nOndeugend: -0.8074\nNaxxos: 0.8765\nFelears: 0.784\nRehok: -0.5719\nVashilya: -0.558033333333\nVolniir: 0.8271\nOffense: -0.9231\nMugiwarasan: 0.9273\nIronyi: 0.8545\n"
     ]
    },
    {
     "name": "stdout",
     "output_type": "stream",
     "text": [
      "Demonaliza: 0.52164\nRashbah: 0.80175\nAnyaka: -0.52565\nUsagikun: 0.7824\nGilrom: 0.8625\nDarthbow: 0.9757\nSeriouslyy: 0.6908\nWtficantsee: 0.5106\nZerrael: -0.9493\nShcylla: 0.6432\n"
     ]
    },
    {
     "name": "stdout",
     "output_type": "stream",
     "text": [
      "Seluniel: -0.5994\nYstah: 0.6678\nMirjiam: 0.8968\nValquirian: 0.54985\nKazima: 0.720833333333\nBückshot: 0.6124\nLilliedan: 0.7579\nKoumas: 0.7178\nImlerith: -0.6249\nMyriwen: -0.673\nLelnadryn: -0.5325\nAellar: 0.6166\nSilphey: 0.7551\n"
     ]
    },
    {
     "name": "stdout",
     "output_type": "stream",
     "text": [
      "Xevac: 0.5759\nSelaani: -0.9393\nGraice: 0.64515\nViriael: 0.7579\nAdipose: 0.6705\nTimbô: -0.7343\n"
     ]
    },
    {
     "name": "stdout",
     "output_type": "stream",
     "text": [
      "Demonkitty: -0.8074\nAentael: 0.8868\nFluidic: 0.9891\nCarantir: -0.8194\n>>>\n>>>Progress: 1000/1694\nFlaminea: -0.5007\nÏcøn: 0.7267\nKak: -0.5022\nChaijong: 0.6356\nAlyenna: 0.13515\nNekktarine: 0.6317\n"
     ]
    },
    {
     "name": "stdout",
     "output_type": "stream",
     "text": [
      "Voidwind: 0.6597\nXánxus: 0.5106\nBurshy: -0.6858\nDyute: 0.6466\nEleli: 0.7689\nMarethari: 0.7537\nMeyér: 0.5786\nShamanoss: 0.9204\nLuissa: 0.7351\nZoomout: -0.5106\nNewgameplus: 0.6908\nDathedr: 0.7783\n"
     ]
    },
    {
     "name": "stdout",
     "output_type": "stream",
     "text": [
      "Roponmatsu: -0.504975\nRalffeh: -0.64935\nZherlthsh: -0.9595\nNôwâ: 0.8074\nMacillidan: 0.5483\nTukkîî: 0.5565\nZeraph: 0.7269\nSimeroth: 0.8388\nÍnvictús: 0.605025\nZiyra: 0.743\nАлхея: 0.6946\nBoomtatoe: 0.9395\n"
     ]
    },
    {
     "name": "stdout",
     "output_type": "stream",
     "text": [
      "Loconfetti: 0.520557142857\nOgayth: 0.511325\nMornìngstar: -0.5067\nWoits: -0.9246\nZérrín: 0.51625\nVthedh: -0.8934\nThebetrayed: -0.53765\n"
     ]
    },
    {
     "name": "stdout",
     "output_type": "stream",
     "text": [
      "Vandeta: 0.5415\nPorkgai: 0.7506\nCorypheus: -0.734\nAngstridden: -0.0787\nBitterness: -0.57105\nAlgeriano: 0.836\nGoreqt: -0.5349\nStarlet: -0.824\nSamhaine: 0.9134\n"
     ]
    },
    {
     "name": "stdout",
     "output_type": "stream",
     "text": [
      "Blackgrip: -0.5229\nDølly: 0.7063\nÉryne: -0.9029\nRagnay: 0.56035\nAwka: -0.5324\nManirai: -0.6778\nDylfs: 0.7402\nLóec: 0.8732\nDarkkara: 0.722\nKnuckz: -0.836\nVamph: -0.8338\nSathath: 0.6369\n>>>\n>>>Progress: 1250/1694\nDarkdlver: -0.836\n"
     ]
    },
    {
     "name": "stdout",
     "output_type": "stream",
     "text": [
      "Dûcky: 0.816075\nBizniss: -0.5613\nCrityqt: 0.7905\nNikital: 0.5849\nBórog: 0.882\nDemonkel: -0.5563\nLiluth: 0.9552\nJenovia: 0.5106\nIllidelrey: 0.5106\n"
     ]
    },
    {
     "name": "stdout",
     "output_type": "stream",
     "text": [
      "Yvöw: -0.7096\nKhronix: -0.5859\nAvelaach: -0.752\nReavx: 0.112775\nThecrow: -0.56605\nPalomides: -0.57245\nStonefire: -0.72735\n"
     ]
    },
    {
     "name": "stdout",
     "output_type": "stream",
     "text": [
      "Wuwy: -0.6045\nDragonsworn: 0.7493\nZordrager: -0.6924\nVellani: 0.6296\nHogard: 0.6221\nFreazy: 0.7051\nKryptonia: -0.7506\nSorrowsong: 0.8225\nÄbbadon: 0.51535\nSadnessdh: -0.7717\nAlnya: 0.5409\nTelraniel: 0.623833333333\n"
     ]
    },
    {
     "name": "stdout",
     "output_type": "stream",
     "text": [
      "Someoneelse: -0.9513\nNazurel: 0.587533333333\nGiac: -0.7184\nRovver: 0.5935\nGlaive: -0.8567\n"
     ]
    },
    {
     "name": "stdout",
     "output_type": "stream",
     "text": [
      "Tobby: 0.587375\nSylaria: 0.9117\n"
     ]
    },
    {
     "name": "stdout",
     "output_type": "stream",
     "text": [
      "Noztar: 0.70465\nChuckbuss: 0.5574\nNivarra: 0.5041\nKyaren: 0.7917\nCelesie: 0.875\nJeduthun: 0.6486\nDrainhope: 0.79595\nDoglatemlive: 0.6369\nDestaine: -0.8319\nMileyycyrus: 0.758033333333\nLakutus: 0.6221\nPhuerox: -0.66245\n"
     ]
    },
    {
     "name": "stdout",
     "output_type": "stream",
     "text": [
      "Illadinxx: 0.58305\nSorén: -0.6818\n>>>\n>>>Progress: 1500/1694\nReckez: 0.6114\nPhizz: -0.527\nThaalia: 0.62935\nKunxxion: 0.582\nMaglyx: 0.5572\nDamnata: -0.5994\nFelstahl: 0.639566666667\nVyleren: 0.58855\n"
     ]
    },
    {
     "name": "stdout",
     "output_type": "stream",
     "text": [
      "Plundari: -0.03795\nLouislítt: 0.8126\nKíllídan: -0.6557\nNihilan: 0.6597\nVzag: 0.7874\nAravan: 0.5994\nШерхану: -0.5267\nMeronn: 0.6494\nValjar: 0.56575\nShadowglaive: -0.5059\nBukav: 0.7865\nMollismeni: 0.5017\n"
     ]
    },
    {
     "name": "stdout",
     "output_type": "stream",
     "text": [
      "Vesane: -0.9404\nEuthanize: -0.5719\nKulvar: 0.1993875\nMókoo: 0.902\n"
     ]
    },
    {
     "name": "stdout",
     "output_type": "stream",
     "text": [
      "Jahaira: 0.8765\nGrafschennis: 0.8708\nThyrit: 0.6597\nWolfzgang: -0.6256\nZanvean: 0.765\n"
     ]
    },
    {
     "name": "stdout",
     "output_type": "stream",
     "text": [
      "Dragonoth: 0.7096\nYatsuchi: 0.50225\nLilîith: 0.593066666667\nZaeros: 0.5478\nSpeckblade: -0.7717\nEiranni: 0.5496\nFershiedh: 0.6166\nKratos: 0.8516\n"
     ]
    },
    {
     "name": "stdout",
     "output_type": "stream",
     "text": [
      "Rhâziel: 0.6824\nLeylin: 0.57585\nÐevil: 0.638266666667\n***\n** Demon Hunter pve: 0.226931834115\nDemon Hunter pvp: 493\nRaphner: 0.0902833333333\nCelerithxixx: 0.5729\nShagaru: -0.85225\nDemoniel: -0.5106\n"
     ]
    },
    {
     "name": "stdout",
     "output_type": "stream",
     "text": [
      "Reavx: -0.69765\nWolfzgang: 0.8105\nPinkapopper: 0.85065\nSelephius: -0.75065\nSicarìus: 0.9557\nKeelvaen: -0.5267\nDreadroute: 0.8178\nMyriwen: -0.6115\nPeka: 0.707\nYstah: -0.538775\nFelmortus: 0.8111\n"
     ]
    },
    {
     "name": "stdout",
     "output_type": "stream",
     "text": [
      "Hadashi: 0.62355\nValerrie: 0.7226\nAò: 0.7528\nSolidari: 0.5517\nElendion: 0.5404\nEmeter: -0.8689\nAldryk: 0.82355\nHarambae: -0.5033\nBlackhunter: 0.936\nNexiliaa: 0.7767\n"
     ]
    },
    {
     "name": "stdout",
     "output_type": "stream",
     "text": [
      "Ashandil: -0.7177\nBlighthoof: 0.60325\nXrn: -0.8608\nUda: -0.882\nZarexis: -0.53045\nGiac: 0.6808\nVarathir: -0.74635\n"
     ]
    },
    {
     "name": "stdout",
     "output_type": "stream",
     "text": [
      "Szynszyla: -0.8689\nPriamos: 0.6486\nScarletcrusd: 0.6059\nHemondunterr: -0.5848\nTellie: -0.9022\nVoìd: 0.62475\nDemønbolt: 0.6083\n"
     ]
    },
    {
     "name": "stdout",
     "output_type": "stream",
     "text": [
      "Villidan: 0.8824\nLiluth: 0.79455\nLãin: -0.6249\nGrantlerlein: -0.765\nXalala: -0.5366\nDreadless: -0.68315\nLøre: -0.8708\n"
     ]
    },
    {
     "name": "stdout",
     "output_type": "stream",
     "text": [
      "Wran: 0.8126\nEstinien: 0.69955\nXevac: 0.76105\nNøkiya: 0.6369\nZealz: -0.6925\nMarethari: -0.886\n>>>\n>>>Progress: 250/493\nDoglatemlive: -0.6369\nBaleah: 0.6369\nDevilseeker: 0.711375\nSorén: 0.67565\n"
     ]
    },
    {
     "name": "stdout",
     "output_type": "stream",
     "text": [
      "Elisse: -0.520525\nDeepoxysbabe: 0.59235\nDamnata: 0.6369\nDarktijger: -0.8655\nTukam: -0.76195\nSarthennis: -0.6401\nIsabellethea: -0.141641666667\nAlyenna: -0.5127\nMorgraith: -0.9001\nHakuteiken: 0.6733\nSnaplèxity: -0.9201\nNishraa: 0.7855\nNaure: 0.555033333333\nKurnous: 0.70095\nZekken: -0.6486\nSalmahayak: 0.7809\nDevlish: 0.5106\n"
     ]
    },
    {
     "name": "stdout",
     "output_type": "stream",
     "text": [
      "Saracenn: -0.5106\nNekktarine: -0.5499\nStrife: -0.5574\nDarqin: 0.5032\nAdun: -0.9244\n"
     ]
    },
    {
     "name": "stdout",
     "output_type": "stream",
     "text": [
      "Eluñê: -0.6658\nАакс: 0.5766\nLatex: 0.7184\nDudlicek: 0.6369\nCropain: -0.9244\nMóvex: 0.519533333333\n"
     ]
    },
    {
     "name": "stdout",
     "output_type": "stream",
     "text": [
      "Irimi: -0.6486\nStrygg: 0.54185\nBitterness: 0.507\nGarloth: 0.6369\nGoreqt: 0.60345\nFúrion: 0.8442\nFerolas: 0.501366666667\nDtpx: 0.70135\nLithae: -0.538666666667\nZae: 0.682433333333\nZaeros: 0.501733333333\n"
     ]
    },
    {
     "name": "stdout",
     "output_type": "stream",
     "text": [
      "Enforcer: 0.561175\nExotrix: -0.7845\nSmørholm: 0.604166666667\nEfialtes: 0.8658\nKratos: -0.711466666667\nVolgorth: -0.84\nAvinix: 0.5658\nNortos: 0.6704\nPensive: 0.7351\nYashuoara: -0.504\n***\n** Demon Hunter pvp: 0.0735083333333\nDemon Hunter other: 1704\nGorastus: 0.6369\nKhârn: -0.5423\n"
     ]
    },
    {
     "name": "stdout",
     "output_type": "stream",
     "text": [
      "Zzoodd: -0.5423\nArtven: 0.7603\nCuboom: -0.6488\nÁhlii: 0.6166\nSaracenn: 0.7351\nMerilith: 0.61195\nFysm: 0.5719\nAstarhel: -0.00865\nVinzii: 0.5859\nNyxzz: -0.7459\nCouchidan: 0.5589\nAzurex: 0.5093\nLiangyu: 0.09145\nGlaive: 0.7739\nBellymugger: -0.04295\nZanaeh: 0.67855\nSaiken: -0.5271\nIrisviel: 0.7383\nMikenshi: -0.7394\nGoodgrip: -0.9153\nAglaron: 0.7906\nMercraw: 0.7845\nValtr: 0.5927\nBlazze: -0.5423\nBafometz: 0.5847\nGravetouch: -0.8591\nKhrunix: -0.6808\nDunlad: -0.5994\nMaryjaned: 0.728475\nÁlida: 0.6249\nKyrihs: -0.734\nFindabair: 0.57035\nCanrith: -0.9285\nTaziel: 0.6124\nShrift: 0.7351\nWarning: 0.7184\nShindalah: 0.5423\nBazgrael: 0.7184\nKiporion: -0.6293\nSaleera: -0.78215\nLilinne: -0.9118\nStormfury: 0.5346\nInarrin: -0.557675\nNetharêl: 0.6597\nГриняш: 0.7184\nMimimí: 0.8126\nFlorenzi: 0.5859\nKwamatis: 0.65715\nMemedan: 0.6249\nFelhari: 0.6652\nJesi: -0.7217\nKoradan: 0.8011\n"
     ]
    },
    {
     "name": "stdout",
     "output_type": "stream",
     "text": [
      "Sicael: 0.6124\nNøkiya: 0.6597\nArchoron: 0.8573\nHeaat: 0.8705\nSquallec: 0.7929\nVilishras: 0.7804\nZealz: -0.5423\nFïnïä: -0.7906\nIzany: 0.5648\nIlliradis: -0.5574\nFylgos: 0.7968\nAllerielle: 0.7096\n>>>\n>>>Progress: 250/1704\nSaani: 0.8807\nElisse: 0.739\nMûuhh: -0.5994\nGrafschennis: -0.5719\nDemonmarks: 0.5816\nReyalyn: -0.6542\nLatex: 0.783\nShagaru: 0.553466666667\nHatefxck: 0.5106\nThebetrayed: 0.0759\nMemerino: -0.7131\nZensor: -0.7827\nShinrayz: 0.6369\nSenay: 0.5567\nCrawish: 0.7989\nLorsan: 0.514166666667\nPyttipanda: -0.8005\nEluñê: -0.746\nBonishin: 0.5473\n"
     ]
    },
    {
     "name": "stdout",
     "output_type": "stream",
     "text": [
      "Kreemzy: -0.5727\nGorelol: -0.5544\nVivus: -0.6249\nShirvael: 0.563266666667\nCoarse: 0.5106\nZeronis: -0.6369\nBlindfold: 0.624\nDragøn: 0.6808\nKibsie: 0.9062\nFelcannon: -0.6249\nRymi: 0.0655\nSquirrel: -0.5662\nFelfeather: 0.9192\nPhaedriel: 0.6705\nMyamih: -0.6124\nSathyas: -0.6901\nLickin: 0.705\nBehelmon: -0.5009\nJaegrinn: -0.743\nAeiouy: 0.5093\nHotlikeme: -0.5773\nLaggyluke: 0.6908\nCorve: 0.6696\nZarlack: 0.5584\nHornette: 0.0551\nEôsphoros: 0.7845\nValdanyr: 0.5291\nIllidiggle: 0.5023\nAò: 0.5837\nLahetheas: -0.5423\nZerzei: 0.5994\nAura: -0.7424\nOptixy: -0.8176\nCymorìl: -0.8734\nSonuko: 0.7853\nВиттян: 0.6124\nSorcerus: 0.5449\nGoreqt: 0.8555\nNinjaa: 0.9269\n>>>\n>>>Progress: 500/1704\nRespek: 0.5098\nIllidamn: 0.6908\nRazidd: 0.7213\nFelforged: 0.5106\nVilsaiya: 0.6124\nOakley: -0.69245\nCumsoaked: -0.5719\nZipidy: 0.5773\nBlighthoof: 0.6705\nMuriidan: 0.5264\n"
     ]
    },
    {
     "name": "stdout",
     "output_type": "stream",
     "text": [
      "Atheres: -0.06325\nSkazií: -0.5146\nParadox: 0.516966666667\nÂmazon: 0.6948\nThalandras: 0.7003\nThørn: 0.5023\nCogito: -0.5106\nFyara: -0.67415\nArylea: -0.5574\nBogrimm: 0.5707\nOrdisious: -0.51415\nThemountainn: -0.6983\nMiylee: 0.584\nFærina: -0.5423\nVorithien: 0.592\nDhjengiss: 0.8258\nMythranduir: 0.8402\nDevilseeker: -0.6486\nНаарт: -0.5423\nLeyrísa: -0.67555\nDizzygirl: 0.6777\nDeepoxysbabe: -0.8074\nNelthar: 0.6908\nCobrius: -0.5023\nSúítti: 0.52805\nCelesie: 0.5023\nMônkerina: 0.7528\nRoflmal: -0.6486\nElleron: 0.8126\nHordika: 0.69\nGlaivesong: -0.59488\nSarvekas: 0.7351\nРитуалз: 0.6369\nФимбул: -0.5594\nFradychwr: 0.0378\nMyrling: 0.5859\n>>>\n>>>Progress: 750/1704\nMyniellé: -0.5423\nRaethalar: 0.6771\nCalluxus: -0.9282\nPastmaster: 0.69\nZoldrage: -0.6486\nДжэбэ: 0.54835\nTerilius: -0.5023\n"
     ]
    },
    {
     "name": "stdout",
     "output_type": "stream",
     "text": [
      "Gromgár: -0.7579\nGilrom: 0.5199\nCarebear: -0.56215\nHatedx: 0.7615\nHeeat: -0.5267\nFlexiia: 0.60605\nNhadaly: 0.5168\nFloffí: 0.7865\nKhàos: 0.7064\nMieshataint: 0.6166\nCelibyx: 0.705066666667\nFelears: 0.62575\nUnderhuggare: -0.6597\nViwil: 0.707\nYsab: 0.5719\nKinedge: 0.7635\nNotsodan: 0.8834\nСиднайт: 0.5473\nMethalik: -0.5994\nIhrga: 0.624\nJayce: -0.5994\nNothingtoxic: -0.9793\nIlligjon: -0.5859\nAmneth: 0.8126\nZerrael: -0.6908\nKuubu: -0.5994\nShcylla: -0.00745\nKireth: 0.5859\nSeluniel: -0.5052\nMoonshroud: 0.6187\nTelynna: 0.7184\nShallin: -0.6607\nReígn: -0.652\nFelfrost: 0.5719\nNightbound: 0.7311\nDivicious: 0.8869\nValerrie: -0.7783\nRazorjack: 0.607683333333\nKazima: 0.6908\nMêxa: 0.5859\nLandlady: 0.5498\nNexiliaa: 0.765\nTellie: 0.5574\nBaalgrind: 0.64135\nUlfrahn: 0.5859\nDraknozz: 0.6166\nMaximuscle: 0.8488\nFelblazed: 0.0306\nBrightlight: 0.872\n"
     ]
    },
    {
     "name": "stdout",
     "output_type": "stream",
     "text": [
      "Zheralis: 0.60525\nTimbô: 0.6802\nRetnuhnomdé: -0.5994\nHealthpacks: 0.6908\nAentael: -0.6705\nZaeros: 0.176825\nAiona: 0.7543\nFlaminea: -0.583366666667\nNyné: -0.9011\n>>>\n>>>Progress: 1000/1704\nArnathon: -0.01025\nAcanthastrea: 0.7136\nIle: 0.5187\nAlyenna: 0.8402\nRalffeh: 0.6486\nLegionthus: 0.872\nKailishna: -0.57825\nWoits: 0.5334\nEllgaria: 0.6729\nNeko: 0.7003\nHelri: -0.8581\nEldérian: 0.8879\nNieur: -0.5574\nVynom: -0.5994\nDëmö: -0.5329\nKrauserdh: 0.6593\nStelødøn: 0.847\nIamedgy: 0.6369\nTalisker: -0.8851\nKimerian: 0.7603\nNetjeret: -0.9498\nHemphill: 0.6249\nMacillidan: -0.8529\nTukkîî: 0.7936\nGrimshank: 0.5228\nZotek: 0.527033333333\nDemonchek: 0.8155\nOmril: 0.7684\nDkdonkey: -0.8192\nBoomtatoe: 0.0176\nEfom: 0.7257\nCallíss: -0.5647\nAzriul: -0.6486\nRagaran: 0.6166\nArienessa: 0.6988\nArbórescence: 0.6483\nFelfist: 0.7269\n"
     ]
    },
    {
     "name": "stdout",
     "output_type": "stream",
     "text": [
      "Tomislion: 0.87965\nTharn: -0.6605\nThorianas: 0.9186\nNelphazar: 0.7125\nLoathen: 0.7579\nGrizhnack: -0.7013\nGiforce: 0.5267\nIllusiel: 0.53925\nUruk: -0.5983\nMikuh: 0.6808\nAlgeriano: 0.8109\nBlademasterz: -0.7003\nTahamine: -0.5719\nManthix: -0.5574\nSamhaine: 0.636\nKroix: 0.9665\nSlashmasterx: -0.15695\nVaylok: -0.5859\nManirai: 0.59165\nEfialtes: 0.9412\nFalíndra: 0.5106\nVanthiriel: -0.76015\nAhimza: 0.855\nFlappyflappy: 0.7297\nDellyrium: 0.61415\nHaestin: 0.5885\n>>>\n>>>Progress: 1250/1704\nEllania: 0.7003\nBbmorti: 0.636\nJadiss: 0.5774\nSwecat: -0.584\nVolce: 0.5719\nJenovia: 0.9716\nIllidelrey: 0.7003\nRekham: -0.6908\nYvöw: 0.0325\nKhronix: -0.1895\nGruzzly: -0.5994\nRaadran: 0.68\nReinhelm: 0.7065\nRocknarr: -0.6981\nDhluuk: 0.675133333333\nDreadroute: 0.8402\nIronyi: 0.873\nHúmúz: -0.82665\nIlerin: -0.5181\nIllidansmom: 0.7804\nZordrager: 0.6739\nMalahai: -0.5423\nElrinaa: 0.5838\nPsychd: 0.6401\nSmør: -0.634633333333\nSadnessdh: 0.6249\nSagotrax: 0.6423\nSwattó: 0.7184\nStarbringer: -0.6739\nArktal: 0.7414\nUdinas: 0.51315\nMírdandir: 0.9187\nUnprepared: -0.5423\nKaydar: -0.0606\nVélmulriik: 0.6705\nWiings: 0.54375\nRamlethal: 0.8402\nTheevilone: 0.6124\nIdolatrine: 0.6593\nDemongasm: 0.6166\nValac: -0.8122\nStalliona: 0.7783\n"
     ]
    },
    {
     "name": "stdout",
     "output_type": "stream",
     "text": [
      "Noztar: -0.6124\nRépia: 0.96\nCylvius: 0.6705\nWintercat: 0.7371\nHallagi: -0.7964\nKaelía: 0.5994\nShaïtan: -0.5789\nGidwin: 0.765\nJeduthun: 0.6908\nKhaosdemon: -0.54205\nDestaine: 0.8176\nMileyycyrus: 0.6908\nDragush: 0.7227\nRadwell: -0.891\nFelmortus: -0.5423\nElthurien: -0.50065\nBigbazz: -0.7506\nThaalia: 0.50055\nAgvilas: 0.6486\n>>>\n>>>Progress: 1500/1704\nThaekxo: -0.6908\nHellia: -0.5267\nDhrow: -0.7003\nDamnata: 0.5106\nMae: -0.79535\nAbutanki: 0.8934\nNézghàn: 0.6705\nPöx: 0.5098\nSolanj: 0.8206\nShadowmourne: 0.5095\nPlundari: 0.629466666667\nKaigangokai: -0.5994\nLouislítt: 0.6652\nKynrar: -0.50735\nMagrador: 0.59265\nTrogdor: 0.8353\nZekken: 0.57255\nMaragoth: 0.61015\nIzidro: -0.048725\nMeronn: 0.7783\nSparklystarz: 0.7003\nCarieth: 0.5292\nHuggyjackson: 0.8211\nMallistar: -0.9527\nZhaine: 0.1393\nLurantis: 0.6131\nXinshi: 0.7543\nZardu: -0.7964\nEuthanize: 0.6369\n"
     ]
    },
    {
     "name": "stdout",
     "output_type": "stream",
     "text": [
      "Saelyber: 0.7227\nAltharian: 0.7267\nDuskuh: 0.6486\nKylàr: 0.7783\nFaegnes: 0.555\nJarec: -0.6249\nLatexfear: -0.594566666667\nManiaxz: 0.7781\nSylny: -0.7184\nRottén: -0.8225\nRìkku: -0.872\nMmisuky: 0.8957\nNethirian: 0.5423\nCabara: 0.7916\nYuxan: 0.6166\nJiirik: 0.6369\nFershiedh: 0.7476\nLesbidan: 0.5719\nKratos: -0.9398\nLynaia: -0.5106\nMorgunsólin: -0.701\nProyouknow: -0.7351\nMizy: 0.6124\nSinishadow: 0.8707\nGárviel: 0.7184\nVolniir: -0.7615\nSmashdatass: 0.5719\nJacdan: 0.7184\nЛокстар: -0.9709\n***\n** Demon Hunter other: 0.199143653078\nDONE!!!\n"
     ]
    }
   ],
   "source": [
    "from nltk.sentiment import vader\n",
    "from nltk.sentiment.vader import SentimentIntensityAnalyzer\n",
    "import math\n",
    "sid = SentimentIntensityAnalyzer()\n",
    "# print(sid.polarity_scores('good bad ugly beautiful.'))\n",
    "scores_by_class_gametype_author_post = {}\n",
    "scores_by_class_gametype_author = {}\n",
    "scores_by_class_gametype = {}\n",
    "for wow_class in posts_by_class_gametype_author:\n",
    "    scores_by_class_gametype_author_post[wow_class] = {}\n",
    "    scores_by_class_gametype_author[wow_class] = {}\n",
    "    scores_by_class_gametype[wow_class] = {}\n",
    "    for gt in posts_by_class_gametype_author[wow_class]:\n",
    "        scores_by_class_gametype_author_post[wow_class][gt] = {}\n",
    "        scores_by_class_gametype_author[wow_class][gt] = []\n",
    "        print(wow_class + ' ' + gt + ': ' + str(len(posts_by_class_gametype_author[wow_class][gt])))\n",
    "        i = 0\n",
    "        for author in posts_by_class_gametype_author[wow_class][gt]:\n",
    "            scores_by_class_gametype_author_post[wow_class][gt][author] = []\n",
    "            i += 1\n",
    "            if i % 250 == 0:\n",
    "                print(\">>>\\n>>>Progress: \" + str(i) + '/'\n",
    "                      + str(len(posts_by_class_gametype_author[wow_class][gt])))\n",
    "            for post in posts_by_class_gametype_author[wow_class][gt][author][:2]:\n",
    "                post_score = []\n",
    "                for sent in post[0]:\n",
    "                    post_score.append(sid.polarity_scores(sent)['compound'])\n",
    "                #print(post_score)\n",
    "                post_score_array = numpy.array(post_score)\n",
    "                sc = numpy.mean(post_score_array)\n",
    "                if sc > 0.5 or sc < -0.5:\n",
    "                    # print(sc)\n",
    "                    scores_by_class_gametype_author_post[wow_class][gt][author].append([post[0], sc])\n",
    "            author_score_array = numpy.array([au_sc[1] for au_sc \n",
    "                                             in scores_by_class_gametype_author_post[wow_class][gt][author]])\n",
    "            auth_sc = numpy.mean(author_score_array)\n",
    "            if not math.isnan(auth_sc):\n",
    "                scores_by_class_gametype_author[wow_class][gt].append((author, auth_sc))\n",
    "                print(author + ': ' + str(auth_sc))\n",
    "        gt_score_array = numpy.\\\n",
    "            array([au_sc[1] for au_sc in scores_by_class_gametype_author[wow_class][gt]])\n",
    "        gt_score = numpy.mean(gt_score_array)\n",
    "        if not math.isnan(gt_score):\n",
    "            scores_by_class_gametype[wow_class][gt] = gt_score\n",
    "            print('***\\n** ' + wow_class + ' ' + gt + ': ' + str(gt_score))\n",
    "\n",
    "print('DONE!!!')"
   ]
  },
  {
   "cell_type": "code",
   "execution_count": 39,
   "metadata": {
    "collapsed": true
   },
   "outputs": [
    {
     "name": "stdout",
     "output_type": "stream",
     "text": [
      "[OWLXML.Destruction, OWLXML.Mage, OWLXML.Shaman, OWLXML.Rogue, OWLXML.Beast_Mastery, OWLXML.Elemental, OWLXML.Druid, OWLXML.H, OWLXML.Arcane, OWLXML.Prot, OWLXML.Demon_Hunter, OWLXML.Fire, OWLXML.Arms, OWLXML.Priest, OWLXML.Mistweaver, OWLXML.Affliction, OWLXML.Balance, OWLXML.Survival, OWLXML.Holy, OWLXML.Demonology, OWLXML.Shadow, OWLXML.Warrior]\n<?xml version=\"1.0\"?>\n<!DOCTYPE Ontology [\n    <!ENTITY xsd \"http://www.w3.org/2001/XMLSchema#\" >\n    <!ENTITY rdf \"http://www.w3.org/1999/02/22-rdf-syntax-ns#\" >\n    <!ENTITY rdfs \"http://www.w3.org/2000/01/rdf-schema#\" >\n    <!ENTITY owl \"http://www.w3.org/2002/07/owl#\" >\n]>\n<Ontology xmlns=\"http://www.w3.org/2002/07/owl#\" xml:base=\"file://Resources/Ontology/OWLXML.owl\" ontologyIRI=\"file://Resources/Ontology/OWLXML.owl\"\n     xmlns:rdfs=\"http://www.w3.org/2000/01/rdf-schema#\"\n     xmlns:xsd=\"http://www.w3.org/2001/XMLSchema#\"\n     xmlns:rdf=\"http://www.w3.org/1999/02/22-rdf-syntax-ns#\"\n     xmlns:xml=\"http://www.w3.org/XML/1998/namespace\"\n>\n<Prefix name=\"\" IRI=\"file://Resources/Ontology/OWLXML.owl\"/>\n<Prefix name=\"owl\" IRI=\"http://www.w3.org/2002/07/owl#\"/>\n<Prefix name=\"rdf\" IRI=\"http://www.w3.org/1999/02/22-rdf-syntax-ns#\"/>\n<Prefix name=\"xsd\" IRI=\"http://www.w3.org/2001/XMLSchema#\"/>\n<Prefix name=\"rdfs\" IRI=\"http://www.w3.org/2000/01/rdf-schema#\"/>\n<Prefix name=\"OWLXML\" IRI=\"file://Resources/Ontology/OWLXML.owl\"/>\n\n<Declaration><Class IRI=\"file://Resources/Ontology/OWLXML.owl#Destruction\"/></Declaration>\n<Declaration><Class IRI=\"file://Resources/Ontology/OWLXML.owl#Mage\"/></Declaration>\n<Declaration><Class IRI=\"file://Resources/Ontology/OWLXML.owl#Shaman\"/></Declaration>\n<Declaration><Class IRI=\"file://Resources/Ontology/OWLXML.owl#Rogue\"/></Declaration>\n<Declaration><Class IRI=\"file://Resources/Ontology/OWLXML.owl#Beast_Mastery\"/></Declaration>\n<Declaration><Class IRI=\"file://Resources/Ontology/OWLXML.owl#Elemental\"/></Declaration>\n<Declaration><Class IRI=\"file://Resources/Ontology/OWLXML.owl#Druid\"/></Declaration>\n<Declaration><Class IRI=\"file://Resources/Ontology/OWLXML.owl#H\"/></Declaration>\n<Declaration><Class IRI=\"file://Resources/Ontology/OWLXML.owl#Arcane\"/></Declaration>\n<Declaration><Class IRI=\"file://Resources/Ontology/OWLXML.owl#Prot\"/></Declaration>\n<Declaration><Class IRI=\"file://Resources/Ontology/OWLXML.owl#Demon_Hunter\"/></Declaration>\n<Declaration><Class IRI=\"file://Resources/Ontology/OWLXML.owl#Fire\"/></Declaration>\n<Declaration><Class IRI=\"file://Resources/Ontology/OWLXML.owl#Arms\"/></Declaration>\n<Declaration><Class IRI=\"file://Resources/Ontology/OWLXML.owl#Priest\"/></Declaration>\n<Declaration><Class IRI=\"file://Resources/Ontology/OWLXML.owl#Mistweaver\"/></Declaration>\n<Declaration><Class IRI=\"file://Resources/Ontology/OWLXML.owl#Affliction\"/></Declaration>\n<Declaration><Class IRI=\"file://Resources/Ontology/OWLXML.owl#Balance\"/></Declaration>\n<Declaration><Class IRI=\"file://Resources/Ontology/OWLXML.owl#Survival\"/></Declaration>\n<Declaration><Class IRI=\"file://Resources/Ontology/OWLXML.owl#Holy\"/></Declaration>\n<Declaration><Class IRI=\"file://Resources/Ontology/OWLXML.owl#Demonology\"/></Declaration>\n<Declaration><Class IRI=\"file://Resources/Ontology/OWLXML.owl#Shadow\"/></Declaration>\n<Declaration><Class IRI=\"file://Resources/Ontology/OWLXML.owl#Warrior\"/></Declaration>\n<Declaration><NamedIndividual IRI=\"file://Resources/Ontology/OWLXML.owl#Protection\"/></Declaration>\n\n\n\n\n\n\n\n\n\n\n\n\n\n\n\n\n\n\n\n\n\n\n\n<ClassAssertion><Class IRI=\"http://www.w3.org/2002/07/owl#Thing\"/><NamedIndividual IRI=\"file://Resources/Ontology/OWLXML.owl#Protection\"/></ClassAssertion>\n\n</Ontology>\n\n"
     ]
    }
   ],
   "source": [
    "# READ ONTOLOGY\n",
    "from owlready import *\n",
    "onto_path.clear()\n",
    "#onto_path.append(\"./Resources/\")\n",
    "wowOnto = get_ontology('file://Resources/Ontology/OWLXML.owl').load(True)\n",
    "\n",
    "print(wowOnto.classes)\n",
    "print(to_owl(wowOnto))"
   ]
  },
  {
   "cell_type": "code",
   "execution_count": null,
   "metadata": {},
   "outputs": [],
   "source": [
    ""
   ]
  }
 ],
 "metadata": {
  "kernelspec": {
   "display_name": "Python 2",
   "language": "python",
   "name": "python2"
  },
  "language_info": {
   "codemirror_mode": {
    "name": "ipython",
    "version": 2.0
   },
   "file_extension": ".py",
   "mimetype": "text/x-python",
   "name": "python",
   "nbconvert_exporter": "python",
   "pygments_lexer": "ipython2",
   "version": "2.7.6"
  }
 },
 "nbformat": 4,
 "nbformat_minor": 0
}