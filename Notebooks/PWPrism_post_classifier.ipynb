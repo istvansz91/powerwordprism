{
 "cells": [
  {
   "cell_type": "code",
   "execution_count": 19,
   "metadata": {
    "collapsed": true
   },
   "outputs": [],
   "source": [
    "from bs4 import BeautifulSoup\n",
    "from pprint import pprint\n",
    "from urllib import request\n",
    "# import matplotlib.pyplot as plt\n",
    "import nltk\n",
    "import json\n",
    "import time\n",
    "import sys\n",
    "import re\n",
    "\n",
    "RESOURCES_PATH_LINKS = 'Resources/Corpora/EU/Links/'\n",
    "RESOURCES_PATH_POSTS = 'Resources/Corpora/EU/Posts/'\n",
    "RESOURCES_COMPLETE_CORPORA_FILENAME = 'complete_wow_class_posts_dict'\n",
    "\n",
    "\n",
    "class WowClassesResources:\n",
    "\n",
    "    def __init__(self):\n",
    "        None\n",
    "\n",
    "    WOW_FORUM_ROOT_URL_EU = 'http://eu.battle.net'\n",
    "    WOW_FORUM_ROOT_URL_US = 'http://us.battle.net'\n",
    "    WOW_FORUM_MID_URL = '/forums/en/wow/'\n",
    "    URL_PAGE_ATTRIBUTE = \"?page=\"\n",
    "\n",
    "    WOW_CLASS_LIST_EU = [('Death Knight', \"874789/\"),\n",
    "                      ('Demon Hunter', \"19369494/\"),\n",
    "                      ('Druid', \"874790/\"),\n",
    "                      ('Hunter', \"874791/\"),\n",
    "                      ('Mage', \"874792/\"),\n",
    "                      ('Monk', \"6038099/\"),\n",
    "                      ('Paladin', \"874793/\"),\n",
    "                      ('Priest', \"874794/\"),\n",
    "                      ('Rogue', \"874795/\"),\n",
    "                      ('Shaman', \"874796/\"),\n",
    "                      ('Warlock', \"874929/\"),\n",
    "                      ('Warrior', \"874930/\")]\n",
    "    WOW_CLASS_LIST_US = [('Death Knight', \"1012662/\"),\n",
    "                      ('Demon Hunter', \"22813967/\"),\n",
    "                      ('Druid', \"1012663/\"),\n",
    "                      ('Hunter', \"1012664/\"),\n",
    "                      ('Mage', \"1012760/\"),\n",
    "                      ('Monk', \"7379141/\"),\n",
    "                      ('Paladin', \"1012668/\"),\n",
    "                      ('Priest', \"1012666/\"),\n",
    "                      ('Rogue', \"1012667/\"),\n",
    "                      ('Shaman', \"1012669/\"),\n",
    "                      ('Warlock', \"1012670/\"),\n",
    "                      ('Warrior', \"1012759/\")]\n",
    "\n",
    "    class GameType:\n",
    "        # PVP: 2v2 3v3 5v5 cc\n",
    "        # AB, AV, BET, DR, Efc, EotS, FC, FR, FRR, IoC, LH, LM, Mid, MT, SW, Stags,\n",
    "        # SoTA, SSM, ST, TB, ToK, TP, TP, WG, WSG, WV, WW, arena\n",
    "        PVP = 'pvp'\n",
    "        # PVE: heroic, mythic, mythic+, m+, scenario, boss, mobs, time-walking\n",
    "        # LFR\n",
    "        # ZF, WC, VC, DM, Ulda, UBRS, Strat, Stocks, Stockade, ST, AH, SM, SH, SFK, Scholo, RFK, RFD, RFC, MC, Mara, LBRS, Gnomer, DM Warpwood, DM East, BWL, BRD, BFD, AQ40, TAQ, AQ10, RAQ, \n",
    "        PVE = 'pve'\n",
    "        OTHER = 'other'\n",
    "        PVP_CRITERIA = ['pvp', '2v2', '3v3', '5v5', 'cc',\n",
    "                        'AB', 'AV', 'BET', 'DR', 'Efc', 'EotS', 'FC', 'FR', 'FRR', 'IoC',\n",
    "                        'LH', 'LM', 'Mid', 'MT', 'SW', 'Stags', 'SoTA', 'SSM', 'ST', 'TB',\n",
    "                        'ToK', 'TP', 'TP', 'WG', 'WSG', 'WV', 'WW',\n",
    "                        'arena']\n",
    "        PVE_CRITERIA = ['pve', 'heroic', 'mythic', 'mythic+', 'm+', 'scenario', 'boss', 'mobs',\n",
    "                        'time-walk', 'time-walking'\n",
    "                        'RFC', 'VC', 'DM', 'WC', 'SFK', 'Stocks', 'Stockade', 'BFD', 'Gnomer', \n",
    "                        'SH', 'SM', 'RFK', 'Mara', 'Ulda', 'DM', 'Warpwood', 'DM', 'East', 'Scholo', \n",
    "                        'RFD', 'Strat', 'ZF', 'BRD', 'ST', 'AH', 'LBRS', 'UBRS', 'AQ', 'RAQ', 'MC',\n",
    "                        'BWL', 'AQ40', 'TAQ', 'Ramps', 'BF', 'SP', 'UB', 'MT', 'AC', 'AS', 'Seth',\n",
    "                        'Seth', 'Halls', 'SV', 'SH', 'Shatt', 'Halls', 'SL', 'Slabs', 'OH',\n",
    "                        'DH', 'DK', 'Durn', 'Mech', 'Bot', 'Arc', 'BM', 'MgT', 'Terrace', 'MrT',\n",
    "                        'HoR', 'Naxx', 'OS', 'Sarth', 'Vault', 'VoA', 'Maly',\n",
    "                        'EoE', 'Uld', 'TC', 'ToC', 'TotC', 'ToGC', '(Heroic)', 'Ony',\n",
    "                        'RS', 'Hal', 'ICC', 'UK', 'UTK', 'Nexus', 'Nex', 'AZN', 'AN', 'ANK',\n",
    "                        'OLD', 'AKO', 'OK', 'DTK', 'VH', 'GD', 'HOS', 'Occ', 'HOL', 'UP', 'Culling',\n",
    "                        'COS', 'Champ', 'ToC', 'FoS', 'PoS', 'TotT', 'BRC', 'SC', 'VP', 'LCoT', 'GB',\n",
    "                        'HoO', 'H-DM', 'H-VC', 'H-SFK', 'ZA', 'ZG', 'ET', 'WoE', 'HoT', 'BH',\n",
    "                        'BoT', 'TFW', 'BWD', 'FL', 'DS', 'SH', 'SM', 'Scholo', 'TJS', 'SB', 'MP',\n",
    "                        'SPM', 'GSS', 'SNT', 'MV', 'HoF', 'TES', 'ToT', 'SoO', 'BSM', 'Auch', 'SR',\n",
    "                        'GD', 'SBG', 'EB', 'UBRS', 'HM', 'BF', 'BRF', 'HC', 'HFC', 'arc', 'VoW', 'MoS',\n",
    "                        'CoS', 'EN', 'BRH', 'RtK', 'arc', 'ToV', 'VH', 'CoN', 'EoZ', 'NL', 'HoV', 'GR',\n",
    "                        'DHT', 'DT']\n",
    "\n",
    "WOW_TOPIC_URLS_EU = \\\n",
    "    [(c, WowClassesResources.WOW_FORUM_ROOT_URL_EU + WowClassesResources.WOW_FORUM_MID_URL + u)\n",
    "     for (c, u) in WowClassesResources.WOW_CLASS_LIST_EU]"
   ]
  },
  {
   "cell_type": "code",
   "execution_count": 20,
   "metadata": {
    "collapsed": true
   },
   "outputs": [
    {
     "name": "stdout",
     "output_type": "stream",
     "text": [
      "('Death Knight', 'http://eu.battle.net/forums/en/wow/874789/')\n"
     ]
    },
    {
     "name": "stdout",
     "output_type": "stream",
     "text": [
      "\n\n\n<html xmlns=\"http://www.w3.org/1999/xhtml\">\n\n<head>\n\t<meta http-equiv=\"X-UA-Compatible\" content=\"\n"
     ]
    }
   ],
   "source": [
    "print(WOW_TOPIC_URLS_EU[0])\n",
    "url = WOW_TOPIC_URLS_EU[0][1]\n",
    "# req = request.Request(url)\n",
    "response = request.urlopen(url)\n",
    "html = response.read().decode('utf8')\n",
    "print(html[:100])"
   ]
  },
  {
   "cell_type": "code",
   "execution_count": 21,
   "metadata": {
    "collapsed": false
   },
   "outputs": [],
   "source": [
    "def get_page_content(url):\n",
    "    attempt_number = 0\n",
    "    while True:\n",
    "        attempt_number += 1\n",
    "        if attempt_number > 5:\n",
    "            return None\n",
    "        try:\n",
    "            response = request.urlopen(url)\n",
    "        except request.HTTPError as e:\n",
    "            print('HTTPError = ' + str(e.code))\n",
    "            continue\n",
    "        except Exception as e:\n",
    "            print(e)\n",
    "            continue\n",
    "        except e:\n",
    "            print(e)\n",
    "            continue\n",
    "        html = response.read().decode('utf8')\n",
    "        break\n",
    "    return html\n",
    "\n",
    "\n",
    "def topic_scrape(forum_url):\n",
    "    all_links = []\n",
    "    i = 1\n",
    "    while True:\n",
    "        html = get_page_content(forum_url + WowClassesResources.URL_PAGE_ATTRIBUTE + str(i))\n",
    "        if html is None:\n",
    "            return []\n",
    "        bs_html = BeautifulSoup(html, \"html.parser\")\n",
    "\n",
    "        all_link_elements = bs_html.find_all(\"a\", class_=\"ForumTopic\")\n",
    "        # pprint(all_link_elements)\n",
    "        link_count = len(all_link_elements)\n",
    "        print(str(i) + ' ' + str(link_count))\n",
    "\n",
    "        if link_count == 0:\n",
    "            print('Exiting')\n",
    "            break\n",
    "        for a in all_link_elements:\n",
    "            # print a\n",
    "            title = a.find(class_='ForumTopic-title').get_text().strip()\n",
    "            # print title\n",
    "            all_links.append((a['href'], title))\n",
    "        i += 1\n",
    "        time.sleep(3)\n",
    "    return all_links\n",
    "\n",
    "\n",
    "def extract_topic(topic_title_url_tuple):\n",
    "    topic_url_ending = topic_title_url_tuple[0]\n",
    "    topic_title = topic_title_url_tuple[1]\n",
    "    pprint('[' + topic_title + '] (' + topic_url_ending + ')')\n",
    "    all_posts = []\n",
    "    i = 1\n",
    "    while True:\n",
    "        html = get_page_content(\n",
    "            WowClassesResources.WOW_FORUM_ROOT_URL_EU + topic_url_ending + WowClassesResources.URL_PAGE_ATTRIBUTE + str(\n",
    "                i))\n",
    "        if html is None:\n",
    "            return []\n",
    "        bs_html = BeautifulSoup(html, \"html.parser\")\n",
    "\n",
    "        all_topic_post_elements = bs_html.find_all(\"div\", class_=\"TopicPost-content\")\n",
    "        # pprint(all_topic_post_elements)\n",
    "        link_count = len(all_topic_post_elements)\n",
    "        # print str(i) + ' ' + str(link_count)\n",
    "\n",
    "        if link_count == 0:\n",
    "            print('Exiting')\n",
    "            break\n",
    "        for element in all_topic_post_elements:\n",
    "            # print a\n",
    "            post_body = element.find(class_='TopicPost-bodyContent').get_text().strip()\n",
    "            post_date = element.find(\"a\", class_='TopicPost-timestamp')['data-tooltip-content']\n",
    "            author_element = element.find(\"span\", class_='Author-name')\n",
    "            if author_element is not None:\n",
    "                # post_author = '<UNKNOWN>'\n",
    "                if author_element.a is not None:\n",
    "                    post_author = author_element.a.get_text().strip()\n",
    "                else:\n",
    "                    post_author = author_element.get_text().strip()\n",
    "                all_posts.append((topic_title, post_date, post_author, post_body))\n",
    "        i += 1\n",
    "        time.sleep(5)\n",
    "    pprint('posts: ' + str(len(all_posts)))\n",
    "    return all_posts\n",
    "\n",
    "\n",
    "def save_to_json_file(path, file_name, content, mode):\n",
    "    with open(path + file_name + '.json', mode) as out_file:\n",
    "        json.dump(content, out_file)\n",
    "\n",
    "\n",
    "def read_from_json_file(path, file_name):\n",
    "    try:\n",
    "        with open(path + file_name + '.json', 'r') as in_file:\n",
    "            return json.load(in_file)\n",
    "    except FileNotFoundError as e:\n",
    "        print('File not found, skipping read for: ' + path + file_name)"
   ]
  },
  {
   "cell_type": "code",
   "execution_count": 22,
   "metadata": {
    "collapsed": true
   },
   "outputs": [
    {
     "name": "stdout",
     "output_type": "stream",
     "text": [
      "Current Class: Death Knight, URL: http://eu.battle.net/forums/en/wow/874789/\nNumber of posts: 34186\n"
     ]
    },
    {
     "name": "stdout",
     "output_type": "stream",
     "text": [
      "dict_keys(['Death Knight', 'Demon Hunter'])\nDeath Knight: 34186 posts\t\tLongest post length: 14170\nDemon Hunter: 11916 posts\t\tLongest post length: 7895\nProcessing: Death Knight\n"
     ]
    },
    {
     "name": "stdout",
     "output_type": "stream",
     "text": [
      "Progress: 1000/34186\n"
     ]
    },
    {
     "name": "stdout",
     "output_type": "stream",
     "text": [
      "Progress: 2000/34186\n"
     ]
    },
    {
     "name": "stdout",
     "output_type": "stream",
     "text": [
      "Progress: 3000/34186\n"
     ]
    },
    {
     "name": "stdout",
     "output_type": "stream",
     "text": [
      "Progress: 4000/34186\n"
     ]
    },
    {
     "name": "stdout",
     "output_type": "stream",
     "text": [
      "Progress: 5000/34186\n"
     ]
    },
    {
     "name": "stdout",
     "output_type": "stream",
     "text": [
      "Progress: 6000/34186\n"
     ]
    },
    {
     "name": "stdout",
     "output_type": "stream",
     "text": [
      "Progress: 7000/34186\n"
     ]
    },
    {
     "name": "stdout",
     "output_type": "stream",
     "text": [
      "Progress: 8000/34186\n"
     ]
    },
    {
     "name": "stdout",
     "output_type": "stream",
     "text": [
      "Progress: 9000/34186\n"
     ]
    },
    {
     "name": "stdout",
     "output_type": "stream",
     "text": [
      "Progress: 10000/34186\n"
     ]
    },
    {
     "name": "stdout",
     "output_type": "stream",
     "text": [
      "Progress: 11000/34186\n"
     ]
    },
    {
     "name": "stdout",
     "output_type": "stream",
     "text": [
      "Progress: 12000/34186\n"
     ]
    },
    {
     "name": "stdout",
     "output_type": "stream",
     "text": [
      "Progress: 13000/34186\n"
     ]
    },
    {
     "name": "stdout",
     "output_type": "stream",
     "text": [
      "Progress: 14000/34186\n"
     ]
    },
    {
     "name": "stdout",
     "output_type": "stream",
     "text": [
      "Progress: 15000/34186\n"
     ]
    },
    {
     "name": "stdout",
     "output_type": "stream",
     "text": [
      "Progress: 16000/34186\n"
     ]
    },
    {
     "name": "stdout",
     "output_type": "stream",
     "text": [
      "Progress: 17000/34186\n"
     ]
    },
    {
     "name": "stdout",
     "output_type": "stream",
     "text": [
      "Progress: 18000/34186\n"
     ]
    },
    {
     "name": "stdout",
     "output_type": "stream",
     "text": [
      "Progress: 19000/34186\n"
     ]
    },
    {
     "name": "stdout",
     "output_type": "stream",
     "text": [
      "Progress: 20000/34186\n"
     ]
    },
    {
     "name": "stdout",
     "output_type": "stream",
     "text": [
      "Progress: 21000/34186\n"
     ]
    },
    {
     "name": "stdout",
     "output_type": "stream",
     "text": [
      "Progress: 22000/34186\n"
     ]
    },
    {
     "name": "stdout",
     "output_type": "stream",
     "text": [
      "Progress: 23000/34186\n"
     ]
    },
    {
     "name": "stdout",
     "output_type": "stream",
     "text": [
      "Progress: 24000/34186\n"
     ]
    },
    {
     "name": "stdout",
     "output_type": "stream",
     "text": [
      "Progress: 25000/34186\n"
     ]
    },
    {
     "name": "stdout",
     "output_type": "stream",
     "text": [
      "Progress: 26000/34186\n"
     ]
    },
    {
     "name": "stdout",
     "output_type": "stream",
     "text": [
      "Progress: 27000/34186\n"
     ]
    },
    {
     "name": "stdout",
     "output_type": "stream",
     "text": [
      "Progress: 28000/34186\n"
     ]
    },
    {
     "name": "stdout",
     "output_type": "stream",
     "text": [
      "Progress: 29000/34186\n"
     ]
    },
    {
     "name": "stdout",
     "output_type": "stream",
     "text": [
      "Progress: 30000/34186\n"
     ]
    },
    {
     "name": "stdout",
     "output_type": "stream",
     "text": [
      "Progress: 31000/34186\n"
     ]
    },
    {
     "name": "stdout",
     "output_type": "stream",
     "text": [
      "Progress: 32000/34186\n"
     ]
    },
    {
     "name": "stdout",
     "output_type": "stream",
     "text": [
      "Progress: 33000/34186\n"
     ]
    },
    {
     "name": "stdout",
     "output_type": "stream",
     "text": [
      "Progress: 34000/34186\n"
     ]
    },
    {
     "name": "stdout",
     "output_type": "stream",
     "text": [
      "Processing: Demon Hunter\n"
     ]
    },
    {
     "name": "stdout",
     "output_type": "stream",
     "text": [
      "Progress: 1000/11916\n"
     ]
    },
    {
     "name": "stdout",
     "output_type": "stream",
     "text": [
      "Progress: 2000/11916\n"
     ]
    },
    {
     "name": "stdout",
     "output_type": "stream",
     "text": [
      "Progress: 3000/11916\n"
     ]
    },
    {
     "name": "stdout",
     "output_type": "stream",
     "text": [
      "Progress: 4000/11916\n"
     ]
    },
    {
     "name": "stdout",
     "output_type": "stream",
     "text": [
      "Progress: 5000/11916\n"
     ]
    },
    {
     "name": "stdout",
     "output_type": "stream",
     "text": [
      "Progress: 6000/11916\n"
     ]
    },
    {
     "name": "stdout",
     "output_type": "stream",
     "text": [
      "Progress: 7000/11916\n"
     ]
    },
    {
     "name": "stdout",
     "output_type": "stream",
     "text": [
      "Progress: 8000/11916\n"
     ]
    },
    {
     "name": "stdout",
     "output_type": "stream",
     "text": [
      "Progress: 9000/11916\n"
     ]
    },
    {
     "name": "stdout",
     "output_type": "stream",
     "text": [
      "Progress: 10000/11916\n"
     ]
    },
    {
     "name": "stdout",
     "output_type": "stream",
     "text": [
      "Progress: 11000/11916\n"
     ]
    },
    {
     "name": "stdout",
     "output_type": "stream",
     "text": [
      "dict_keys(['Death Knight', 'Demon Hunter'])\n[['[Guide]Death Knight 101 (Updated for 7.03)',\n  '22/05/2014 11:27',\n  'Hakuteiken',\n  'This if for all the really new Death Knights; my guide on the class '\n  \"overall. In this guide I'll be covering our resource system, what abilities \"\n  \"you have, how they work and what they do. I'll also throw in some \"\n  'suggestions on gameplay that should make things somewhat easier for '\n  \"you.It's worth nothing that Death Knights, at lower levels, are \"\n  'ridiculously powerful which is a state of affairs I found to be really dull '\n  \"when leveling my latest Death Knight; it's not much fun when you're \"\n  'immortal and killing things with 2-3 attacks, but anyway, here goes.First '\n  \"thing's first; Resources-We have two different resources; Runes and Runic \"\n  'Power.We have a total of 6 runes which can be used for any attack that '\n  'costs Runes; Obliterate, Howling Blast, Festering Strike, Marrowrend '\n  'etc.-Runic Power is generated from used runes and the amount of runic power '\n  'generated is based on the rune cost abilities, for example, Howling Blast '\n  'cost 1 rune, and therefore will generate only 10 runic power, Marrowrend '\n  'costs 2 runes and will generate 20 runic power.Pretty straight forward on '\n  'paper. Now we get to how they interact with each other.Runes begin a '\n  'regeneration cycle of no more than 10 seconds when used; Haste will '\n  'decrease this time but not by much.If all 6 runes are used in succession, '\n  'the first 3 runes to be used will begin their recharge, while the remaining '\n  '3 will not. The second set of 3 runes will begin their recharge only when '\n  'the first set is completely recharged.There are certain talents and built '\n  'in passive abilities to speed this process up; these talents and abilities '\n  'differ from spec to spec.Blood - Soulgorge; consumes Blood Plague from '\n  'everything in 30 yards to increase rune recharge.-Blood Tap; restores 1 '\n  'rune per use, limited to 2 charges.Unlike Frost or Unholy, there is no '\n  'passive ability that will assist the rune recharge time.Frost - Runic '\n  'Empowerment; passive, has 1% chance per runic power spent to activate on '\n  \"Frost Strike. After some time testing, I've found it's about 50% chance (5 \"\n  'in 10 Frost Strikes).-Murderous Efficiency; using the Killing Machine '\n  'effect has a 50% chance to to restore 1 rune.-Horn of Winter; restores 2 '\n  'runes and generates 10 runic power.-Hungering Rune Weapon; Horn of Winter '\n  'restores 2 runes and generates 10 runic power while Hungering Rune Weapon '\n  'restores 1 rune and 5 runic power instantly and then restores runes and '\n  'runic power every 1.5 seconds for 12 seconds.Unholy - Runic Corruption, '\n  'passive, has 1.25% chance per runic power spent to activate, granting 100% '\n  \"rune regeneration for a short time. Requires Death Coil. After testing I've \"\n  'found that this works out that +/- 1 in 3 Death Coils will activate Runic '\n  'Corruption.Abilities - How They WorkEach ability a Death Knight has has a '\n  'rune or runic power cost. The following are abilities that cost only 1 rune '\n  \"and will generate 10 runic power per use.-Blood Spec:Heart Strike, Death's \"\n  'Caress, Rune Tap, Death and Decay (if talented)Note: Heart Strike generates '\n  '15 runic power.-Frost Runes; Howling Blast, Frostscythe (if '\n  'specced),Remorseless Winter,-Unholy Runes; Scourge Strike (Clawing Shadows, '\n  'talent), Death and Decay, Epidemic (talent), Outbreak, Chains of Ice, '\n  'Defile(talent)The following cost two runes and will generate 20 runic power '\n  'when used.-Blood Spec: Marrowrend-Frost Spec: Obliterate-Unholy: Festering '\n  'StrikeUnholy retains Army of the Dead at a cost of 3 runes which generates '\n  '30 runic power.Runic Power - will activate Runic Empowerment or Runic '\n  'Corruption via the use of Frost Strike or Death Coil respectively.-Death '\n  \"Coil; usable Unholy spec. It's a ranged attack with 30 yard range and costs \"\n  '35 runic power. This will also restore 10 energy to your ghoul per Death '\n  'Coil fired.-Frost Strike; exclusive to Frost spec, single target melee '\n  \"attack.Death Coil and Frost Strike are often best used when you're at, or \"\n  'approaching, 100 runic power, but are ideally used when spaced out across '\n  'your \"rotation\" which brings me neatly to the next part of the '\n  'guide.Abilities - What to use and WhenThis will require in-depth guides of '\n  'their own but there are certain universal abilities you can make use '\n  'of.-Anti-Magic Shell - use to soak high incoming magic damage; it generates '\n  \"runic power.-Icebound Fortitude - use when you're taking high damage or are \"\n  'about to, or to break and become immune to stuns.-Death Grip - when you '\n  'need to close the distance to your target or interrupt a crucial cast. The '\n  'adds on Kilrogg Deadeye is a good example of the uses of Death Grip-Wraith '\n  \"Walk - useful for closing distances and clearing root or slow effects.I'll \"\n  'be preparing basic guides for Blood, Frost and Unholy specs, but those '\n  \"aren't coming before Legion release.For now, as I said, this was meant to \"\n  \"cover the very basics of the class for people who haven't played Death \"\n  'Knight before.',\n  'pve'],\n ['[Guide]Death Knight 101 (Updated for 7.03)',\n  '22/05/2014 13:38',\n  'Emilboc',\n  'verry nice work! i hope u make a good guide for 2h frost dk, maybe a '\n  'youtube guide, with stats , enchants, glyph s , best comps for 2v2, 3v3.. '\n  'for PVP Great job!!!!!',\n  'pve'],\n ['[Guide]Death Knight 101 (Updated for 7.03)',\n  '22/05/2014 23:15',\n  'Hakuteiken',\n  '22/05/2014 14:38Posted by Emilbocmaybe a youtube guideI wish! Sadly my PC '\n  \"isn't hi-tech enough for me to have good FPS while recording.I've been more \"\n  \"or less out of the PvP scene but I'll see what I can do; will take some \"\n  'time though :D',\n  'pvp']]\n"
     ]
    }
   ],
   "source": [
    "# READ CURRENT CLASS TO WORK WITH, READ ALL CORPORA\n",
    "currentClass = WOW_TOPIC_URLS_EU[0]\n",
    "print('Current Class: ' + currentClass[0] + ', URL: ' + currentClass[1])\n",
    "# READ DICTIONARY OF POSTS\n",
    "posts_by_class = read_from_json_file('Resources/Corpora/EU/Posts/', 'corpora_posts_' + currentClass[0])\n",
    "print('Number of posts: ' + str(len(posts_by_class[currentClass[0]])))\n",
    "# print('First post:\\n' + posts_by_class[currentClass[0]][0][3])\n",
    "\n",
    "all_posts_dict = read_from_json_file(RESOURCES_PATH_POSTS, RESOURCES_COMPLETE_CORPORA_FILENAME)\n",
    "print(all_posts_dict.keys())\n",
    "for wow_class in all_posts_dict:\n",
    "    print(wow_class + ': ' + str(len(all_posts_dict.get(wow_class))) + ' posts\\t\\t' \n",
    "          + 'Longest post length: ' + str(max(len(p[3]) for p in all_posts_dict[wow_class])))\n",
    "    \n",
    "# print(sys.maxsize)\n",
    "# posts_with_game_type = {currentClass[0]: []}\n",
    "from _operator import index\n",
    "\n",
    "posts_with_game_type_dict = {}\n",
    "\n",
    "for wow_class in all_posts_dict:\n",
    "    print('Processing: ' + wow_class)\n",
    "    posts_with_game_type_dict[wow_class] = []\n",
    "    i = 0\n",
    "    for post in all_posts_dict[wow_class]:\n",
    "        i += 1\n",
    "        if i % 1000 == 0:\n",
    "            print(\"Progress: \" + str(i) + '/' + str(len(all_posts_dict[wow_class])))\n",
    "        \n",
    "        postBody = post[3]\n",
    "        post.append(WowClassesResources.GameType.OTHER)\n",
    "        pvpIndex = sys.maxsize\n",
    "        pveIndex = sys.maxsize\n",
    "        \n",
    "        # find PVP minimum index\n",
    "        for crit in WowClassesResources.GameType.PVP_CRITERIA:\n",
    "            critMatch = re.search(r'\\b' + crit.lower() + r'\\b', postBody.lower())\n",
    "            if critMatch is not None:\n",
    "                ind = critMatch.start()\n",
    "            else:\n",
    "                continue\n",
    "            if ind != -1:\n",
    "                pvpIndex = min(pvpIndex, ind)\n",
    "        # find PVE minimum index\n",
    "        for crit in WowClassesResources.GameType.PVE_CRITERIA:\n",
    "            critMatch = re.search(r'\\b' + crit.lower() + r'\\b', postBody.lower())\n",
    "            if critMatch is not None:\n",
    "                ind = critMatch.start()\n",
    "            else:\n",
    "                continue\n",
    "            if ind != -1:\n",
    "                pveIndex = min(pveIndex, ind)\n",
    "\n",
    "        if pvpIndex == sys.maxsize and pveIndex == sys.maxsize:\n",
    "            post[4] = WowClassesResources.GameType.OTHER\n",
    "        elif pvpIndex != sys.maxsize and pveIndex == sys.maxsize:\n",
    "            post[4] = WowClassesResources.GameType.PVP\n",
    "        elif pvpIndex == sys.maxsize and pveIndex != sys.maxsize:\n",
    "            post[4] = WowClassesResources.GameType.PVE\n",
    "        elif pvpIndex <= pveIndex:\n",
    "            post[4] = WowClassesResources.GameType.PVP\n",
    "        else:\n",
    "            post[4] = WowClassesResources.GameType.PVE\n",
    "        # posts_with_game_type_dict[wow_class].append(post)\n",
    "\n",
    "posts_with_game_type_dict = all_posts_dict\n",
    "# pprint(posts_with_game_type[currentClass[0]][:10])\n",
    "print(posts_with_game_type_dict.keys())\n",
    "pprint(posts_with_game_type_dict['Death Knight'][:3])"
   ]
  },
  {
   "cell_type": "code",
   "execution_count": 23,
   "metadata": {
    "collapsed": true
   },
   "outputs": [
    {
     "name": "stdout",
     "output_type": "stream",
     "text": [
      "['Please never use CLC for your ability maximisation, ever.  Not only will it '\n 'often make bad decisions for you, it allows you no room to grow so even as a '\n \"beginner's tool it's degenerative at best.  There's really only one way to \"\n 'master a spec: Spend days in front of a training dummy.  If you are new, '\n \"spend an hour reading, then several more practicing; there's no shortcut.I \"\n \"didn't see a mention of the of AMZ and how it interacts with our abilities \"\n 'and our stat weights.  AMS soaking is literally the most important skill in '\n 'the development of a DK player, giving about an equal boost to Frost and '\n 'Unholy.  I would have liked to see it highlighted in the guide and '\n 'specifically how it devalues our haste rating, and why if you simply refuse '\n \"to use it (there are some out there), you're actually supposed to reforge \"\n 'and gem into haste up to one of the GCD breakpoints.  Maybe leave out the '\n '/cancelaura macro for newbies though, they can browse the EJ thread for that '\n 'later.Addons deserve a mention too I suppose.  A good runic power tracker, '\n 'decent visible rune trackers and DKDiseases, which is an absolute '\n 'requirement for Unholy and to an extent Frost for the icon that monitors '\n 'Soul Reaper.Maybe also give a brief shoutout to Festerblight if a new player '\n 'comes back here to see where they should advance to when they have the '\n 'basics down.  Even though Tricks was nerfed and we no longer have Fether, FB '\n 'still has its place on certain bosses.',\n \"Thanks Socratex for your suggestions. I've made a note of them; I was pretty \"\n 'close to the character limit on the OP as it was so those will be guides for '\n 'another day. 23/05/2014 06:28Posted by SocratexPlease never use CLC for your '\n \"ability maximisation, ever.I recommended it for beginners until they're more \"\n \"familiar with how their spec works. That's how I did it, and it worked out \"\n 'well for me.Your point about AMS soaking is a good one but delving into stat '\n 'weights and scaling and GCD breakpoints might seem highly complicated and '\n 'intimidating to the person starting a DK for the first time. Just keeping it '\n \"simple; guides for another day, though honestly, I don't worry myself too \"\n \"much with that sort of thing in my own game play. It's enough to know the \"\n 'stat priority and how to optimize reforges and gemming.23/05/2014 '\n '06:28Posted by SocratexAddons deserve a mention too I suppose. A good runic '\n 'power tracker, decent visible rune trackers and DKDiseases, which is an '\n 'absolute requirement for Unholy and to an extent Frost for the icon that '\n 'monitors Soul Reaper.Okay, so you said not to use CLC DK but you want addons '\n 'for stuff that you can do yourself if you keep your eyes open? Sorry, it '\n \"doesn't make much sense. CLC DK will track all of the above for you and \"\n 'suggest an ability to use based on available runes, runic power, buffs and '\n \"procs. It's a pretty good addon and it only gives suggestions; it's not \"\n \"meant to replace a person's own initiative.\",\n 'Fantastic work really. I go on dk forum regularly waiting for your posts '\n 'about dks. They are extremely helpful but one day I see you making a whole '\n 'guide topic. I jumped from joy when I saw it.Expecting to see Unholy guide '\n 'though. I really hate frost sorry. Also if you decide to make a youtube '\n 'channel. I will be your first sub :) Cheers ^^EDIT: Sticky requested!',\n 'Well, with addons and and UI in general, you always walk the fine line '\n 'between tracking useful information in an intuitive way that lets you make '\n 'intelligent decisions, and setting up a pseudo-auto pilot.  Afflic locks '\n 'fall into the latter IMO, and end up just staring at their bars the whole '\n 'fight.Tracking your blood tap charges, your runes, runic power, your '\n 'available buffs, the strength of your diseases as Unholy ect, allows you to '\n 'have all the info you need to hand, with the decision down to you of what to '\n 'press.  CLC technically just provides suggestions of useful abilities, but I '\n \"imagine if I was new, I'd just the suggestions as the gospel 'correct' \"\n 'answer.  I suppose using the Soul Reaper icon from DKDiseases as Frost is '\n 'the closest thing to a CLC addon, but really, who when the boss reaches 35% '\n 'is going to open their character sheet, make a split second mental note of '\n 'their AP and Wep damage and quickly work out (((Weapon min damage + weapon '\n 'max damage)/2) *1.3 + (2.4 *(X/ 14)))*1.15*1.04*0.68 + (60000 '\n '+1.2X)*1.15*1.05 < (499 + 0.8487X) * 1.10*1.05*1.15 *Mastery value to know '\n \"if they should use SR?  We have to use the tracker for this because it's \"\n \"broke on Blizz's end.Also, if you can get all the info you need to play a DK \"\n \"to a decent standard from that abysmal standard UI, you're a damn better \"\n \"player than me.  Especially the rune tracker that hasn't been updated even \"\n 'after the 6 rune system finished.',\n \"23/05/2014 17:02Posted by SocratexI'd just the suggestions as the gospel \"\n \"'correct' answer.Fair point but I should point out that the newer versions \"\n 'of CLC DK allows you to add or remove abilities within the \"rotation\". I can '\n 'have it add Empower Rune Weapon for me if I want to, Outbreak, Death and '\n 'Decay. I can even set it to Festerblight rotation for me if I '\n 'want.23/05/2014 17:02Posted by SocratexAlso, if you can get all the info you '\n \"need to play a DK to a decent standard from that abysmal standard UI, you're \"\n \"a damn better player than me.Haha! When I'm not tanking on in arena or RBGs \"\n 'I have myself set as focus which helps me track my buffs; also I use ExtraCD '\n 'which tracks the cool down of my trinkets and legendary cloak allowing me to '\n 'align my cool downs for when everything is up. I used to do that by '\n 'following my buffs on the focus frame but ExtraCD makes it so much easier '\n \"and streamlined; don't have all the other buffs clogging up my view. Other \"\n 'than that I have no UI modifications.23/05/2014 16:05Posted by '\n 'EronekoExpecting to see Unholy guide though.Already working on it '\n ':P23/05/2014 16:49Posted by TakralusLovely guide, thanks Hakuteiken!Many '\n 'thanks :) I have achieved greatness!',\n 'I guess we have very different ideas of what easy and streamlined are.  '\n 'Having to look in opposite corners of a monitor for info that I need to hand '\n 'all the time (BT charges, runes), is so backwards to me.This is what I use:  '\n \"http://i.imgur.com/FBpCEKq.jpg?1For all the other buffs, well I can't think \"\n 'of more important info to be tracking to really max out your playstyle...  '\n 'What separates an OK player from a really good player comes down to buff '\n 'tracking alone imo.  How on earth do you time PoF and ideal ERW? GEV MAI UR '\n \"SECRETZ!  I'd not track the metagem or legendary procs ofc; they're so \"\n \"passive and proc so often they're not part of any meaningful decision making \"\n \"process, and I don't track it on any of my chars.And for the customisation \"\n 'of CLC, I still worry that new players would only play with the custom '\n 'settings after some time when the damage is done and the bad habits are '\n 'set...  I just had a play with it now and it recommended PS over HB on '\n 'Garrosh with the P1 adds, just because my main target (the Wolfrider), had '\n 'no Blood Plague.  It was also recommending pestilence for some strange '\n 'reason.  I still think it has no place for DKs and should be avoided like '\n 'the plague (pun totally intended!).',\n '23/05/2014 18:31Posted by SocratexHow on earth do you time PoF and ideal '\n 'ERW?I hit Pillar of Frost when one or both my trinkets proc and really just '\n \"do DPS as normal from that point on and if I'm running low on both runes and \"\n \"runic power with some time on Pillar of Frost and trinket procs I'll use \"\n \"Empower Rune Weapon to maximize my DPS.Here's what my interface looks like. \"\n 'http://i.imgur.com/YnMqMSs.jpgBehind the character screen is my target '\n 'frame. Focus frame shows my buffs and debuffs, I can track my runes and '\n 'runic power with the player frame there and I also made a script to increase '\n 'the size of the runebar. /run RuneFrame:SetScale(1.0) ;RuneFrame:SetPoint '\n '(\"CENTER\", -168, -38)Be careful with the values for positioning there.',\n 'As unholy with nothing to track the power of your diseases and when to '\n 'reapply strong DoTs?  Kiss goodbye to 30-40K DPS.Download DKDoTs or '\n \"DKDiseases and you'll see a strong increase for PvE, possible also PvP if \"\n \"you take the Glyph against a FC or something.  You'd be surprised of the \"\n \"best times to reapply; it's not just when trinks proc.Have to agree with ERW \"\n 'as DW frost.  For 2H and Unholy, substantially more DPS to blow everything, '\n 'spam away resources and pop ERW near the start so you can use it 3 times '\n 'rather than 2 over a fight (I forget the % increase, Mendenbarr mentioned '\n 'something about having a spreadsheet on it in Acherus a while back).  This '\n 'is why TMW and WA2 are important addons, because they can give you an '\n 'advance time countdown (which pops if you tell it to) for when PoF and '\n 'similar CDs are coming up, so you can do a resource dumb just as Raise Ghoul '\n 'and PoF are about to be available to line them up with a nice ERW.EDIT: Can '\n 'you post a pic in combat?',\n \"That's just not how Unholy's optimised.  Disease gaming is a major factor in \"\n 'our damage and you need tools to help you decide when to reapply and when '\n \"NOT to PL.  Like I said,23/05/2014 19:59Posted by SocratexYou'd be surprised \"\n \"of the best times to reapply; it's not just when trinks proc.I'm not \"\n 'understanding how less disease information is boosting your DPS.',\n \"I'm doing an in-depth look at the intricacies of Unholy for the guide I'm \"\n \"working on so I'll have to get back to you on this.The guides I make \"\n 'regarding each spec are, for the most part, based on how I play the spec. '\n \"This is going to sound really arrogant and cocky, but putting PvP aside I've \"\n 'never met a Death Knight who could out-perform me as Tank or DPS in raids '\n \"where our gear level was even so clearly I'm doing something right.\",\n 'I noticed a lot of new posts; people starting Death Knights for the first '\n 'time an not knowing the first thing about them, how anything works or what '\n 'anything does. The purpose of this OP was to provide the answers to the '\n 'questions they ask as a way of helping them figure the class out.The OP '\n \"certainly wasn't intended to showcase how great I am and so benchmarking \"\n \"myself against anyone is completely pointless. I don't play the class to the \"\n \"be the best, I don't make guides to pretend that I am the best, I don't play \"\n 'in such a way as to beat everyone on DPS or go out of my way to outperform '\n 'people.I play the class because I enjoy it. It has been my favorite class '\n \"for a very long time, and I wanted to share the knowledge I've picked up \"\n 'over the years, and so the guides reflect my way of playing. My way may not '\n \"be the best way, or the right way and it certainly isn't THE way to play the \"\n \"class, but for beginners it's a start and that was the whole point of the \"\n 'post.I wish that someone had done something like this when I started this '\n 'Death Knight, but as it is I had to learn the class 100% on my own which '\n 'involved hours beating on dummies learning what abilities did what, how they '\n \"affected runes and runic power; basically spending hours learning what I've \"\n 'posted here. It got much more painful when I ventured into PvP because '\n \"no-one I knew knew anything about Death Knights in PvP and I couldn't find \"\n \"any decent guides. In a nutshell, I've been where newbie Death Knights are \"\n \"when they start and it's not a great feeling; this post was to help them \"\n 'out, not to compare myself to anyone else.I have made notes of the points '\n 'you raised Socratex and will be addressing them in my spec specific guides.',\n \"There's no need to be defensive Hekuteiken.  You made the argument that you \"\n 'pull better DPS than any other similarly geared DK when I mentioned not '\n \"tracking DoT power reduces DPS. Just know that if you're finding success as \"\n \"Unholy you're doing so in spite of your UI choices, not because of them.I \"\n 'really do think that any new player at 90 is no more than 30 minutes of '\n 'practice away from learning how their DoTs work and how to track them.  '\n \"Don't get me wrong I appreciate the goal to help but not highlighting the \"\n 'importance of DoT tracking is doing more harm than good for people just '\n \"picking up the class.  It's not like they're learning snapshotting on a new \"\n 'boosted char or anything.',\n \"24/05/2014 18:43Posted by SocratexDon't get me wrong I appreciate the goal \"\n 'to help but not highlighting the importance of DoT tracking is doing more '\n 'harm than good for people just picking up the class.Fair point, but DoT '\n 'tracking or any form of DPS advice was not relevant to this guide. This was '\n 'to cover the very basics; what the resources are, how they work, what '\n \"abilities the class has, and how they affect the resources. It wasn't meant \"\n 'to go into actual game play.']\n"
     ]
    }
   ],
   "source": [
    "pprint([w[3] for w in posts_with_game_type_dict['Death Knight'] if w[4] == 'pve'][2:15])"
   ]
  },
  {
   "cell_type": "code",
   "execution_count": 24,
   "metadata": {
    "collapsed": false
   },
   "outputs": [
    {
     "name": "stdout",
     "output_type": "stream",
     "text": [
      "Death Knight\n  pve other   pvp \n17457 14346  2383 \nNone\n"
     ]
    },
    {
     "data": {
      "image/png": "[encoded data removed]",
      "text/plain": [
       "<matplotlib.figure.Figure at 0xc2efd30>"
      ]
     },
     "metadata": {},
     "output_type": "display_data"
    },
    {
     "name": "stdout",
     "output_type": "stream",
     "text": [
      "None\nDemon Hunter\n  pve other   pvp \n 6240  4750   926 \nNone\n"
     ]
    },
    {
     "data": {
      "image/png": "[encoded data removed]",
      "text/plain": [
       "<matplotlib.figure.Figure at 0xc2e47f0>"
      ]
     },
     "metadata": {},
     "output_type": "display_data"
    },
    {
     "name": "stdout",
     "output_type": "stream",
     "text": [
      "None\n"
     ]
    }
   ],
   "source": [
    "# plot histogram of findings\n",
    "for wow_class in posts_with_game_type_dict:\n",
    "    post_game_type_distribution = [post[4] for post in posts_with_game_type_dict.get(wow_class)]\n",
    "    fdistGameType = nltk.FreqDist(post_game_type_distribution)\n",
    "    print(wow_class)\n",
    "    pprint(fdistGameType.tabulate())\n",
    "    pprint(fdistGameType.plot())"
   ]
  },
  {
   "cell_type": "code",
   "execution_count": null,
   "metadata": {},
   "outputs": [],
   "source": [
    "# READ ONTOLOGY\n",
    "from owlready import *\n",
    "onto_path.clear()\n",
    "#onto_path.append(\"./Resources/\")\n",
    "wowOnto = get_ontology('file://Resources/Ontology/OWLXML.owl').load(True)\n",
    "\n",
    "print(wowOnto.classes)\n",
    "print(to_owl(wowOnto))"
   ]
  }
 ],
 "metadata": {
  "kernelspec": {
   "display_name": "Python 2",
   "language": "python",
   "name": "python2"
  },
  "language_info": {
   "codemirror_mode": {
    "name": "ipython",
    "version": 2.0
   },
   "file_extension": ".py",
   "mimetype": "text/x-python",
   "name": "python",
   "nbconvert_exporter": "python",
   "pygments_lexer": "ipython2",
   "version": "2.7.6"
  }
 },
 "nbformat": 4,
 "nbformat_minor": 0
}