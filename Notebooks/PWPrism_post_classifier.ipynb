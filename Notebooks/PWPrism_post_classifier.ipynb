{
 "cells": [
  {
   "cell_type": "code",
   "execution_count": 1,
   "metadata": {
    "collapsed": true
   },
   "outputs": [
    {
     "name": "stderr",
     "output_type": "stream",
     "text": [
      "D:\\Soft\\python351\\lib\\site-packages\\nltk\\twitter\\__init__.py:20: UserWarning: The twython library has not been installed. Some functionality from the twitter package will not be available.\n  warnings.warn(\"The twython library has not been installed. \"\n"
     ]
    }
   ],
   "source": [
    "from bs4 import BeautifulSoup\n",
    "from pprint import pprint\n",
    "from urllib import request\n",
    "from nltk import sent_tokenize\n",
    "import nltk.data\n",
    "from nltk.corpus import stopwords\n",
    "# import matplotlib.pyplot as plt\n",
    "import nltk\n",
    "import json\n",
    "import time\n",
    "import sys\n",
    "import re\n",
    "import numpy\n",
    "from nltk.sentiment import vader\n",
    "from nltk.sentiment.vader import SentimentIntensityAnalyzer\n",
    "import math\n",
    "\n",
    "nltk.data.path.append('D:/WS/MSc/TMP/nltk_data')\n",
    "\n",
    "RESOURCES_PATH_LINKS = 'Resources/Corpora/EU/Links/'\n",
    "RESOURCES_PATH_POSTS = 'Resources/Corpora/EU/Posts/'\n",
    "RESOURCES_COMPLETE_CORPORA_FILENAME = 'complete_wow_class_posts_dict'\n",
    "\n",
    "\n",
    "class WowClassesResources:\n",
    "\n",
    "    def __init__(self):\n",
    "        None\n",
    "\n",
    "    WOW_FORUM_ROOT_URL_EU = 'http://eu.battle.net'\n",
    "    WOW_FORUM_ROOT_URL_US = 'http://us.battle.net'\n",
    "    WOW_FORUM_MID_URL = '/forums/en/wow/'\n",
    "    URL_PAGE_ATTRIBUTE = \"?page=\"\n",
    "\n",
    "    WOW_CLASS_LIST_EU = [('Death Knight', \"874789/\"),\n",
    "                      ('Demon Hunter', \"19369494/\"),\n",
    "                      ('Druid', \"874790/\"),\n",
    "                      ('Hunter', \"874791/\"),\n",
    "                      ('Mage', \"874792/\"),\n",
    "                      ('Monk', \"6038099/\"),\n",
    "                      ('Paladin', \"874793/\"),\n",
    "                      ('Priest', \"874794/\"),\n",
    "                      ('Rogue', \"874795/\"),\n",
    "                      ('Shaman', \"874796/\"),\n",
    "                      ('Warlock', \"874929/\"),\n",
    "                      ('Warrior', \"874930/\")]\n",
    "    WOW_CLASS_LIST_US = [('Death Knight', \"1012662/\"),\n",
    "                      ('Demon Hunter', \"22813967/\"),\n",
    "                      ('Druid', \"1012663/\"),\n",
    "                      ('Hunter', \"1012664/\"),\n",
    "                      ('Mage', \"1012760/\"),\n",
    "                      ('Monk', \"7379141/\"),\n",
    "                      ('Paladin', \"1012668/\"),\n",
    "                      ('Priest', \"1012666/\"),\n",
    "                      ('Rogue', \"1012667/\"),\n",
    "                      ('Shaman', \"1012669/\"),\n",
    "                      ('Warlock', \"1012670/\"),\n",
    "                      ('Warrior', \"1012759/\")]\n",
    "\n",
    "    class GameType:\n",
    "        # PVP: 2v2 3v3 5v5 cc\n",
    "        # AB, AV, BET, DR, Efc, EotS, FC, FR, FRR, IoC, LH, LM, Mid, MT, SW, Stags,\n",
    "        # SoTA, SSM, ST, TB, ToK, TP, TP, WG, WSG, WV, WW, arena\n",
    "        PVP = 'pvp'\n",
    "        # PVE: heroic, mythic, mythic+, m+, scenario, boss, mobs, time-walking\n",
    "        # LFR\n",
    "        # ZF, WC, VC, DM, Ulda, UBRS, Strat, Stocks, Stockade, ST, AH, SM, SH, SFK, Scholo, RFK, RFD, RFC, MC, Mara, LBRS, Gnomer, DM Warpwood, DM East, BWL, BRD, BFD, AQ40, TAQ, AQ10, RAQ, \n",
    "        PVE = 'pve'\n",
    "        OTHER = 'other'\n",
    "        PVP_CRITERIA = ['pvp', '2v2', '3v3', '5v5', 'cc',\n",
    "                        'AB', 'AV', 'BET', 'DR', 'Efc', 'EotS', 'FC', 'FR', 'FRR', 'IoC',\n",
    "                        'LH', 'LM', 'Mid', 'MT', 'SW', 'Stags', 'SoTA', 'SSM', 'ST', 'TB',\n",
    "                        'ToK', 'TP', 'TP', 'WG', 'WSG', 'WV', 'WW',\n",
    "                        'arena', 'bg', 'rbg', 'warsong', 'flag', 'capture', 'fr', 'fc', 'ftw',\n",
    "                        'duel', 'skirmish', 'lom', 'arathi', 'los', 'focus', 'nuke', 'poly',\n",
    "                        'sheep', 'alterac', '2s', '3s', '5s', 'rated', 'rating', 'battleground',\n",
    "                        'battle ground', 'nagrand', 'blade\\'s edge', 'blades edge',\n",
    "                        'tiger\\'s peak', 'tigers peak', 'ashamane\\'s fall', 'ashamanes fall',\n",
    "                        'black rook hold', 'tol\\'viron', 'tolviron', 'dalaran', 'ruins',\n",
    "                        'championship', 'deepwind gorge', 'kotmogu', 'silvershard',\n",
    "                        'twin peaks', 'gilneas', 'strand', 'ashran', 'gladiator', 'mmr',\n",
    "                        'honor', 'prestige']\n",
    "        PVE_CRITERIA = ['pve', 'heroic', 'mythic', 'mythic+', 'm+', 'scenario', 'boss', 'mobs',\n",
    "                        'time-walk', 'time-walking'\n",
    "                        'RFC', 'VC', 'DM', 'WC', 'SFK', 'Stocks', 'Stockade', 'BFD', 'Gnomer', \n",
    "                        'SH', 'SM', 'RFK', 'Mara', 'Ulda', 'DM', 'Warpwood', 'DM', 'East', 'Scholo', \n",
    "                        'RFD', 'Strat', 'ZF', 'BRD', 'ST', 'AH', 'LBRS', 'UBRS', 'AQ', 'RAQ', 'MC',\n",
    "                        'BWL', 'AQ40', 'TAQ', 'Ramps', 'BF', 'SP', 'UB', 'MT', 'AC', 'AS', 'Seth',\n",
    "                        'Seth', 'Halls', 'SV', 'SH', 'Shatt', 'Halls', 'SL', 'Slabs', 'OH',\n",
    "                        'DH', 'DK', 'Durn', 'Mech', 'Bot', 'Arc', 'BM', 'MgT', 'Terrace', 'MrT',\n",
    "                        'HoR', 'Naxx', 'OS', 'Sarth', 'Vault', 'VoA', 'Maly',\n",
    "                        'EoE', 'Uld', 'TC', 'ToC', 'TotC', 'ToGC', '(Heroic)', 'Ony',\n",
    "                        'RS', 'Hal', 'ICC', 'UK', 'UTK', 'Nexus', 'Nex', 'AZN', 'AN', 'ANK',\n",
    "                        'OLD', 'AKO', 'OK', 'DTK', 'VH', 'GD', 'HOS', 'Occ', 'HOL', 'UP', 'Culling',\n",
    "                        'COS', 'Champ', 'ToC', 'FoS', 'PoS', 'TotT', 'BRC', 'SC', 'VP', 'LCoT', 'GB',\n",
    "                        'HoO', 'H-DM', 'H-VC', 'H-SFK', 'ZA', 'ZG', 'ET', 'WoE', 'HoT', 'BH',\n",
    "                        'BoT', 'TFW', 'BWD', 'FL', 'DS', 'SH', 'Scholo', 'TJS', 'SB', 'MP',\n",
    "                        'SPM', 'GSS', 'SNT', 'MV', 'HoF', 'TES', 'ToT', 'SoO', 'BSM', 'Auch', 'SR',\n",
    "                        'GD', 'SBG', 'EB', 'UBRS', 'HM', 'BF', 'BRF', 'HC', 'HFC', 'arc', 'VoW', 'MoS',\n",
    "                        'CoS', 'EN', 'BRH', 'RtK', 'arc', 'ToV', 'VH', 'CoN', 'EoZ', 'NL', 'HoV', 'GR',\n",
    "                        'DHT', 'DT']\n",
    "\n",
    "WOW_TOPIC_URLS_EU = \\\n",
    "    [(c, WowClassesResources.WOW_FORUM_ROOT_URL_EU + WowClassesResources.WOW_FORUM_MID_URL + u)\n",
    "     for (c, u) in WowClassesResources.WOW_CLASS_LIST_EU]"
   ]
  },
  {
   "cell_type": "code",
   "execution_count": 2,
   "metadata": {
    "collapsed": true
   },
   "outputs": [
    {
     "name": "stdout",
     "output_type": "stream",
     "text": [
      "('Death Knight', 'http://eu.battle.net/forums/en/wow/874789/')\n"
     ]
    },
    {
     "name": "stdout",
     "output_type": "stream",
     "text": [
      "\n\n\n<html xmlns=\"http://www.w3.org/1999/xhtml\">\n\n<head>\n\t<meta http-equiv=\"X-UA-Compatible\" content=\"\n"
     ]
    }
   ],
   "source": [
    "print(WOW_TOPIC_URLS_EU[0])\n",
    "url = WOW_TOPIC_URLS_EU[0][1]\n",
    "# req = request.Request(url)\n",
    "response = request.urlopen(url)\n",
    "html = response.read().decode('utf8')\n",
    "print(html[:100])"
   ]
  },
  {
   "cell_type": "code",
   "execution_count": 3,
   "metadata": {
    "collapsed": false
   },
   "outputs": [],
   "source": [
    "def get_page_content(url):\n",
    "    attempt_number = 0\n",
    "    while True:\n",
    "        attempt_number += 1\n",
    "        if attempt_number > 5:\n",
    "            return None\n",
    "        try:\n",
    "            response = request.urlopen(url)\n",
    "        except request.HTTPError as e:\n",
    "            print('HTTPError = ' + str(e.code))\n",
    "            continue\n",
    "        except Exception as e:\n",
    "            print(e)\n",
    "            continue\n",
    "        except e:\n",
    "            print(e)\n",
    "            continue\n",
    "        html = response.read().decode('utf8')\n",
    "        break\n",
    "    return html\n",
    "\n",
    "\n",
    "def topic_scrape(forum_url):\n",
    "    all_links = []\n",
    "    i = 1\n",
    "    while True:\n",
    "        html = get_page_content(forum_url + WowClassesResources.URL_PAGE_ATTRIBUTE + str(i))\n",
    "        if html is None:\n",
    "            return []\n",
    "        bs_html = BeautifulSoup(html, \"html.parser\")\n",
    "\n",
    "        all_link_elements = bs_html.find_all(\"a\", class_=\"ForumTopic\")\n",
    "        # pprint(all_link_elements)\n",
    "        link_count = len(all_link_elements)\n",
    "        print(str(i) + ' ' + str(link_count))\n",
    "\n",
    "        if link_count == 0:\n",
    "            print('Exiting')\n",
    "            break\n",
    "        for a in all_link_elements:\n",
    "            # print a\n",
    "            title = a.find(class_='ForumTopic-title').get_text().strip()\n",
    "            # print title\n",
    "            all_links.append((a['href'], title))\n",
    "        i += 1\n",
    "        time.sleep(3)\n",
    "    return all_links\n",
    "\n",
    "\n",
    "def extract_topic(topic_title_url_tuple):\n",
    "    topic_url_ending = topic_title_url_tuple[0]\n",
    "    topic_title = topic_title_url_tuple[1]\n",
    "    pprint('[' + topic_title + '] (' + topic_url_ending + ')')\n",
    "    all_posts = []\n",
    "    i = 1\n",
    "    while True:\n",
    "        html = get_page_content(\n",
    "            WowClassesResources.WOW_FORUM_ROOT_URL_EU + topic_url_ending + WowClassesResources.URL_PAGE_ATTRIBUTE + str(\n",
    "                i))\n",
    "        if html is None:\n",
    "            return []\n",
    "        bs_html = BeautifulSoup(html, \"html.parser\")\n",
    "\n",
    "        all_topic_post_elements = bs_html.find_all(\"div\", class_=\"TopicPost-content\")\n",
    "        # pprint(all_topic_post_elements)\n",
    "        link_count = len(all_topic_post_elements)\n",
    "        # print str(i) + ' ' + str(link_count)\n",
    "\n",
    "        if link_count == 0:\n",
    "            print('Exiting')\n",
    "            break\n",
    "        for element in all_topic_post_elements:\n",
    "            # print a\n",
    "            post_body = element.find(class_='TopicPost-bodyContent').get_text().strip()\n",
    "            post_date = element.find(\"a\", class_='TopicPost-timestamp')['data-tooltip-content']\n",
    "            author_element = element.find(\"span\", class_='Author-name')\n",
    "            if author_element is not None:\n",
    "                # post_author = '<UNKNOWN>'\n",
    "                if author_element.a is not None:\n",
    "                    post_author = author_element.a.get_text().strip()\n",
    "                else:\n",
    "                    post_author = author_element.get_text().strip()\n",
    "                all_posts.append((topic_title, post_date, post_author, post_body))\n",
    "        i += 1\n",
    "        time.sleep(5)\n",
    "    pprint('posts: ' + str(len(all_posts)))\n",
    "    return all_posts\n",
    "\n",
    "\n",
    "def save_to_json_file(path, file_name, content, mode):\n",
    "    with open(path + file_name + '.json', mode) as out_file:\n",
    "        json.dump(content, out_file)\n",
    "\n",
    "\n",
    "def read_from_json_file(path, file_name):\n",
    "    try:\n",
    "        with open(path + file_name + '.json', 'r') as in_file:\n",
    "            return json.load(in_file)\n",
    "    except FileNotFoundError as e:\n",
    "        print('File not found, skipping read for: ' + path + file_name)"
   ]
  },
  {
   "cell_type": "code",
   "execution_count": 4,
   "metadata": {
    "collapsed": true
   },
   "outputs": [
    {
     "name": "stdout",
     "output_type": "stream",
     "text": [
      "Current Class: Death Knight, URL: http://eu.battle.net/forums/en/wow/874789/\n"
     ]
    },
    {
     "name": "stdout",
     "output_type": "stream",
     "text": [
      "Number of posts: 34186\n"
     ]
    },
    {
     "name": "stdout",
     "output_type": "stream",
     "text": [
      "dict_keys(['Death Knight', 'Demon Hunter'])\nDeath Knight: 34186 posts\t\tLongest post length: 14170\nDemon Hunter: 11916 posts\t\tLongest post length: 7895\nProcessing: Death Knight\n"
     ]
    },
    {
     "name": "stdout",
     "output_type": "stream",
     "text": [
      "Progress: 1000/34186\n"
     ]
    },
    {
     "name": "stdout",
     "output_type": "stream",
     "text": [
      "Progress: 2000/34186\n"
     ]
    },
    {
     "name": "stdout",
     "output_type": "stream",
     "text": [
      "Progress: 3000/34186\n"
     ]
    },
    {
     "name": "stdout",
     "output_type": "stream",
     "text": [
      "Progress: 4000/34186\n"
     ]
    },
    {
     "name": "stdout",
     "output_type": "stream",
     "text": [
      "Progress: 5000/34186\n"
     ]
    },
    {
     "name": "stdout",
     "output_type": "stream",
     "text": [
      "Progress: 6000/34186\n"
     ]
    },
    {
     "name": "stdout",
     "output_type": "stream",
     "text": [
      "Progress: 7000/34186\n"
     ]
    },
    {
     "name": "stdout",
     "output_type": "stream",
     "text": [
      "Progress: 8000/34186\n"
     ]
    },
    {
     "name": "stdout",
     "output_type": "stream",
     "text": [
      "Progress: 9000/34186\n"
     ]
    },
    {
     "name": "stdout",
     "output_type": "stream",
     "text": [
      "Progress: 10000/34186\n"
     ]
    },
    {
     "name": "stdout",
     "output_type": "stream",
     "text": [
      "Progress: 11000/34186\n"
     ]
    },
    {
     "name": "stdout",
     "output_type": "stream",
     "text": [
      "Progress: 12000/34186\n"
     ]
    },
    {
     "name": "stdout",
     "output_type": "stream",
     "text": [
      "Progress: 13000/34186\n"
     ]
    },
    {
     "name": "stdout",
     "output_type": "stream",
     "text": [
      "Progress: 14000/34186\n"
     ]
    },
    {
     "name": "stdout",
     "output_type": "stream",
     "text": [
      "Progress: 15000/34186\n"
     ]
    },
    {
     "name": "stdout",
     "output_type": "stream",
     "text": [
      "Progress: 16000/34186\n"
     ]
    },
    {
     "name": "stdout",
     "output_type": "stream",
     "text": [
      "Progress: 17000/34186\n"
     ]
    },
    {
     "name": "stdout",
     "output_type": "stream",
     "text": [
      "Progress: 18000/34186\n"
     ]
    },
    {
     "name": "stdout",
     "output_type": "stream",
     "text": [
      "Progress: 19000/34186\n"
     ]
    },
    {
     "name": "stdout",
     "output_type": "stream",
     "text": [
      "Progress: 20000/34186\n"
     ]
    },
    {
     "name": "stdout",
     "output_type": "stream",
     "text": [
      "Progress: 21000/34186\n"
     ]
    },
    {
     "name": "stdout",
     "output_type": "stream",
     "text": [
      "Progress: 22000/34186\n"
     ]
    },
    {
     "name": "stdout",
     "output_type": "stream",
     "text": [
      "Progress: 23000/34186\n"
     ]
    },
    {
     "name": "stdout",
     "output_type": "stream",
     "text": [
      "Progress: 24000/34186\n"
     ]
    },
    {
     "name": "stdout",
     "output_type": "stream",
     "text": [
      "Progress: 25000/34186\n"
     ]
    },
    {
     "name": "stdout",
     "output_type": "stream",
     "text": [
      "Progress: 26000/34186\n"
     ]
    },
    {
     "name": "stdout",
     "output_type": "stream",
     "text": [
      "Progress: 27000/34186\n"
     ]
    },
    {
     "name": "stdout",
     "output_type": "stream",
     "text": [
      "Progress: 28000/34186\n"
     ]
    },
    {
     "name": "stdout",
     "output_type": "stream",
     "text": [
      "Progress: 29000/34186\n"
     ]
    },
    {
     "name": "stdout",
     "output_type": "stream",
     "text": [
      "Progress: 30000/34186\n"
     ]
    },
    {
     "name": "stdout",
     "output_type": "stream",
     "text": [
      "Progress: 31000/34186\n"
     ]
    },
    {
     "name": "stdout",
     "output_type": "stream",
     "text": [
      "Progress: 32000/34186\n"
     ]
    },
    {
     "name": "stdout",
     "output_type": "stream",
     "text": [
      "Progress: 33000/34186\n"
     ]
    },
    {
     "name": "stdout",
     "output_type": "stream",
     "text": [
      "Progress: 34000/34186\n"
     ]
    },
    {
     "name": "stdout",
     "output_type": "stream",
     "text": [
      "Processing: Demon Hunter\n"
     ]
    },
    {
     "name": "stdout",
     "output_type": "stream",
     "text": [
      "Progress: 1000/11916\n"
     ]
    },
    {
     "name": "stdout",
     "output_type": "stream",
     "text": [
      "Progress: 2000/11916\n"
     ]
    },
    {
     "name": "stdout",
     "output_type": "stream",
     "text": [
      "Progress: 3000/11916\n"
     ]
    },
    {
     "name": "stdout",
     "output_type": "stream",
     "text": [
      "Progress: 4000/11916\n"
     ]
    },
    {
     "name": "stdout",
     "output_type": "stream",
     "text": [
      "Progress: 5000/11916\n"
     ]
    },
    {
     "name": "stdout",
     "output_type": "stream",
     "text": [
      "Progress: 6000/11916\n"
     ]
    },
    {
     "name": "stdout",
     "output_type": "stream",
     "text": [
      "Progress: 7000/11916\n"
     ]
    },
    {
     "name": "stdout",
     "output_type": "stream",
     "text": [
      "Progress: 8000/11916\n"
     ]
    },
    {
     "name": "stdout",
     "output_type": "stream",
     "text": [
      "Progress: 9000/11916\n"
     ]
    },
    {
     "name": "stdout",
     "output_type": "stream",
     "text": [
      "Progress: 10000/11916\n"
     ]
    },
    {
     "name": "stdout",
     "output_type": "stream",
     "text": [
      "Progress: 11000/11916\n"
     ]
    },
    {
     "name": "stdout",
     "output_type": "stream",
     "text": [
      "dict_keys(['Death Knight', 'Demon Hunter'])\n[['[Guide]Death Knight 101 (Updated for 7.03)',\n  '22/05/2014 11:27',\n  'Hakuteiken',\n  'This if for all the really new Death Knights; my guide on the class '\n  \"overall. In this guide I'll be covering our resource system, what abilities \"\n  \"you have, how they work and what they do. I'll also throw in some \"\n  'suggestions on gameplay that should make things somewhat easier for '\n  \"you.It's worth nothing that Death Knights, at lower levels, are \"\n  'ridiculously powerful which is a state of affairs I found to be really dull '\n  \"when leveling my latest Death Knight; it's not much fun when you're \"\n  'immortal and killing things with 2-3 attacks, but anyway, here goes.First '\n  \"thing's first; Resources-We have two different resources; Runes and Runic \"\n  'Power.We have a total of 6 runes which can be used for any attack that '\n  'costs Runes; Obliterate, Howling Blast, Festering Strike, Marrowrend '\n  'etc.-Runic Power is generated from used runes and the amount of runic power '\n  'generated is based on the rune cost abilities, for example, Howling Blast '\n  'cost 1 rune, and therefore will generate only 10 runic power, Marrowrend '\n  'costs 2 runes and will generate 20 runic power.Pretty straight forward on '\n  'paper. Now we get to how they interact with each other.Runes begin a '\n  'regeneration cycle of no more than 10 seconds when used; Haste will '\n  'decrease this time but not by much.If all 6 runes are used in succession, '\n  'the first 3 runes to be used will begin their recharge, while the remaining '\n  '3 will not. The second set of 3 runes will begin their recharge only when '\n  'the first set is completely recharged.There are certain talents and built '\n  'in passive abilities to speed this process up; these talents and abilities '\n  'differ from spec to spec.Blood - Soulgorge; consumes Blood Plague from '\n  'everything in 30 yards to increase rune recharge.-Blood Tap; restores 1 '\n  'rune per use, limited to 2 charges.Unlike Frost or Unholy, there is no '\n  'passive ability that will assist the rune recharge time.Frost - Runic '\n  'Empowerment; passive, has 1% chance per runic power spent to activate on '\n  \"Frost Strike. After some time testing, I've found it's about 50% chance (5 \"\n  'in 10 Frost Strikes).-Murderous Efficiency; using the Killing Machine '\n  'effect has a 50% chance to to restore 1 rune.-Horn of Winter; restores 2 '\n  'runes and generates 10 runic power.-Hungering Rune Weapon; Horn of Winter '\n  'restores 2 runes and generates 10 runic power while Hungering Rune Weapon '\n  'restores 1 rune and 5 runic power instantly and then restores runes and '\n  'runic power every 1.5 seconds for 12 seconds.Unholy - Runic Corruption, '\n  'passive, has 1.25% chance per runic power spent to activate, granting 100% '\n  \"rune regeneration for a short time. Requires Death Coil. After testing I've \"\n  'found that this works out that +/- 1 in 3 Death Coils will activate Runic '\n  'Corruption.Abilities - How They WorkEach ability a Death Knight has has a '\n  'rune or runic power cost. The following are abilities that cost only 1 rune '\n  \"and will generate 10 runic power per use.-Blood Spec:Heart Strike, Death's \"\n  'Caress, Rune Tap, Death and Decay (if talented)Note: Heart Strike generates '\n  '15 runic power.-Frost Runes; Howling Blast, Frostscythe (if '\n  'specced),Remorseless Winter,-Unholy Runes; Scourge Strike (Clawing Shadows, '\n  'talent), Death and Decay, Epidemic (talent), Outbreak, Chains of Ice, '\n  'Defile(talent)The following cost two runes and will generate 20 runic power '\n  'when used.-Blood Spec: Marrowrend-Frost Spec: Obliterate-Unholy: Festering '\n  'StrikeUnholy retains Army of the Dead at a cost of 3 runes which generates '\n  '30 runic power.Runic Power - will activate Runic Empowerment or Runic '\n  'Corruption via the use of Frost Strike or Death Coil respectively.-Death '\n  \"Coil; usable Unholy spec. It's a ranged attack with 30 yard range and costs \"\n  '35 runic power. This will also restore 10 energy to your ghoul per Death '\n  'Coil fired.-Frost Strike; exclusive to Frost spec, single target melee '\n  \"attack.Death Coil and Frost Strike are often best used when you're at, or \"\n  'approaching, 100 runic power, but are ideally used when spaced out across '\n  'your \"rotation\" which brings me neatly to the next part of the '\n  'guide.Abilities - What to use and WhenThis will require in-depth guides of '\n  'their own but there are certain universal abilities you can make use '\n  'of.-Anti-Magic Shell - use to soak high incoming magic damage; it generates '\n  \"runic power.-Icebound Fortitude - use when you're taking high damage or are \"\n  'about to, or to break and become immune to stuns.-Death Grip - when you '\n  'need to close the distance to your target or interrupt a crucial cast. The '\n  'adds on Kilrogg Deadeye is a good example of the uses of Death Grip-Wraith '\n  \"Walk - useful for closing distances and clearing root or slow effects.I'll \"\n  'be preparing basic guides for Blood, Frost and Unholy specs, but those '\n  \"aren't coming before Legion release.For now, as I said, this was meant to \"\n  \"cover the very basics of the class for people who haven't played Death \"\n  'Knight before.',\n  'pve'],\n ['[Guide]Death Knight 101 (Updated for 7.03)',\n  '22/05/2014 13:38',\n  'Emilboc',\n  'verry nice work! i hope u make a good guide for 2h frost dk, maybe a '\n  'youtube guide, with stats , enchants, glyph s , best comps for 2v2, 3v3.. '\n  'for PVP Great job!!!!!',\n  'pve'],\n ['[Guide]Death Knight 101 (Updated for 7.03)',\n  '22/05/2014 23:15',\n  'Hakuteiken',\n  '22/05/2014 14:38Posted by Emilbocmaybe a youtube guideI wish! Sadly my PC '\n  \"isn't hi-tech enough for me to have good FPS while recording.I've been more \"\n  \"or less out of the PvP scene but I'll see what I can do; will take some \"\n  'time though :D',\n  'pvp']]\n"
     ]
    }
   ],
   "source": [
    "# READ CURRENT CLASS TO WORK WITH, READ ALL CORPORA\n",
    "currentClass = WOW_TOPIC_URLS_EU[0]\n",
    "print('Current Class: ' + currentClass[0] + ', URL: ' + currentClass[1])\n",
    "# READ DICTIONARY OF POSTS\n",
    "posts_by_class = read_from_json_file('Resources/Corpora/EU/Posts/', 'corpora_posts_' + currentClass[0])\n",
    "print('Number of posts: ' + str(len(posts_by_class[currentClass[0]])))\n",
    "# print('First post:\\n' + posts_by_class[currentClass[0]][0][3])\n",
    "\n",
    "all_posts_dict = read_from_json_file(RESOURCES_PATH_POSTS, RESOURCES_COMPLETE_CORPORA_FILENAME)\n",
    "print(all_posts_dict.keys())\n",
    "for wow_class in all_posts_dict:\n",
    "    print(wow_class + ': ' + str(len(all_posts_dict.get(wow_class))) + ' posts\\t\\t' \n",
    "          + 'Longest post length: ' + str(max(len(p[3]) for p in all_posts_dict[wow_class])))\n",
    "    \n",
    "# print(sys.maxsize)\n",
    "# posts_with_game_type = {currentClass[0]: []}\n",
    "from _operator import index\n",
    "\n",
    "posts_with_game_type_dict = {}\n",
    "\n",
    "for wow_class in all_posts_dict:\n",
    "    print('Processing: ' + wow_class)\n",
    "    posts_with_game_type_dict[wow_class] = []\n",
    "    i = 0\n",
    "    for post in all_posts_dict[wow_class]:\n",
    "        i += 1\n",
    "        if i % 1000 == 0:\n",
    "            print(\"Progress: \" + str(i) + '/' + str(len(all_posts_dict[wow_class])))\n",
    "        \n",
    "        postBody = post[3]\n",
    "        post.append(WowClassesResources.GameType.OTHER)\n",
    "        pvpIndex = sys.maxsize\n",
    "        pveIndex = sys.maxsize\n",
    "        \n",
    "        # find PVP minimum index\n",
    "        for crit in WowClassesResources.GameType.PVP_CRITERIA:\n",
    "            critMatch = re.search(r'\\b' + crit.lower() + r'\\b', postBody.lower())\n",
    "            if critMatch is not None:\n",
    "                ind = critMatch.start()\n",
    "            else:\n",
    "                continue\n",
    "            if ind != -1:\n",
    "                pvpIndex = min(pvpIndex, ind)\n",
    "        # find PVE minimum index\n",
    "        for crit in WowClassesResources.GameType.PVE_CRITERIA:\n",
    "            critMatch = re.search(r'\\b' + crit.lower() + r'\\b', postBody.lower())\n",
    "            if critMatch is not None:\n",
    "                ind = critMatch.start()\n",
    "            else:\n",
    "                continue\n",
    "            if ind != -1:\n",
    "                pveIndex = min(pveIndex, ind)\n",
    "\n",
    "        if pvpIndex == sys.maxsize and pveIndex == sys.maxsize:\n",
    "            post[4] = WowClassesResources.GameType.OTHER\n",
    "        elif pvpIndex != sys.maxsize and pveIndex == sys.maxsize:\n",
    "            post[4] = WowClassesResources.GameType.PVP\n",
    "        elif pvpIndex == sys.maxsize and pveIndex != sys.maxsize:\n",
    "            post[4] = WowClassesResources.GameType.PVE\n",
    "        elif pvpIndex <= pveIndex:\n",
    "            post[4] = WowClassesResources.GameType.PVP\n",
    "        else:\n",
    "            post[4] = WowClassesResources.GameType.PVE\n",
    "        # posts_with_game_type_dict[wow_class].append(post)\n",
    "\n",
    "posts_with_game_type_dict = all_posts_dict\n",
    "# pprint(posts_with_game_type[currentClass[0]][:10])\n",
    "print(posts_with_game_type_dict.keys())\n",
    "pprint(posts_with_game_type_dict['Death Knight'][:3])"
   ]
  },
  {
   "cell_type": "code",
   "execution_count": 5,
   "metadata": {
    "collapsed": true
   },
   "outputs": [
    {
     "name": "stdout",
     "output_type": "stream",
     "text": [
      "**** Death Knight\n** pvp: 1273\n** other: 4398\n** pve: 4336\n**** Demon Hunter\n** pvp: 542\n** other: 1686\n** pve: 1682\n46102\n"
     ]
    }
   ],
   "source": [
    "# RESTRUCTURE TO CLASS/Game Type/author/list of posts\n",
    "# pprint([w[3] for w in posts_with_game_type_dict['Death Knight'] if w[4] == 'pve'][2:15])\n",
    "posts_by_class_gametype_author = {}\n",
    "    \n",
    "for wow_class in posts_with_game_type_dict:\n",
    "    # print('***' + wow_class)\n",
    "    posts_by_class_gametype_author[wow_class] = {'pve': {}, 'pvp': {}, 'other': {}}\n",
    "    for w in posts_with_game_type_dict[wow_class]:\n",
    "        # print(w[2])\n",
    "        if w[2] not in posts_by_class_gametype_author[wow_class][w[4]]:\n",
    "            # print(w[4] + ': ' + w[2])\n",
    "            posts_by_class_gametype_author[wow_class][w[4]][w[2]] = []\n",
    "        posts_by_class_gametype_author[wow_class][w[4]][w[2]].append((sent_tokenize(w[3]), w[1]))\n",
    "\n",
    "# COUNT posts\n",
    "c = 0\n",
    "for wow_class in posts_by_class_gametype_author:\n",
    "    print('**** ' + wow_class)\n",
    "    for gt in posts_by_class_gametype_author[wow_class]:\n",
    "        print('** ' + gt + ': ' + str(len(posts_by_class_gametype_author[wow_class][gt])))\n",
    "        for au in posts_by_class_gametype_author[wow_class][gt]:\n",
    "            for p in posts_by_class_gametype_author[wow_class][gt][au]:\n",
    "                c += 1\n",
    "            # print(au)\n",
    "print(c)\n",
    "\n",
    "# CURRENT STRUCTURE:\n",
    "#   WOW_CLASS\n",
    "#       PVE/PVE/OTHER\n",
    "#           AUTHOR\n",
    "#               (POST, DATE)"
   ]
  },
  {
   "cell_type": "code",
   "execution_count": 6,
   "metadata": {
    "collapsed": true
   },
   "outputs": [
    {
     "name": "stdout",
     "output_type": "stream",
     "text": [
      "Death Knight\n  pve other   pvp \n17050 13995  3141 \nNone\n"
     ]
    },
    {
     "data": {
      "image/png": "[encoded data removed]",
      "text/plain": [
       "<matplotlib.figure.Figure at 0x71dd1d0>"
      ]
     },
     "metadata": {},
     "output_type": "display_data"
    },
    {
     "name": "stdout",
     "output_type": "stream",
     "text": [
      "None\nDemon Hunter\n  pve other   pvp \n 6105  4648  1163 \nNone\n"
     ]
    },
    {
     "data": {
      "image/png": "[encoded data removed]",
      "text/plain": [
       "<matplotlib.figure.Figure at 0xedab278>"
      ]
     },
     "metadata": {},
     "output_type": "display_data"
    },
    {
     "name": "stdout",
     "output_type": "stream",
     "text": [
      "None\n"
     ]
    }
   ],
   "source": [
    "# plot histogram of findings\n",
    "for wow_class in posts_with_game_type_dict:\n",
    "    post_game_type_distribution = [post[4] for post in posts_with_game_type_dict.get(wow_class)]\n",
    "    fdistGameType = nltk.FreqDist(post_game_type_distribution)\n",
    "    print(wow_class)\n",
    "    pprint(fdistGameType.tabulate())\n",
    "    pprint(fdistGameType.plot())"
   ]
  },
  {
   "cell_type": "code",
   "execution_count": 7,
   "metadata": {
    "collapsed": false
   },
   "outputs": [
    {
     "name": "stdout",
     "output_type": "stream",
     "text": [
      "\"Dict level 1: dict_keys(['Death Knight', 'Demon Hunter'])\"\n\"Dict level 2: dict_keys(['pvp', 'other', 'pve'])\"\n\"Dict level 3: ['Céldora', 'Drèco', 'Whosyp', 'Thjazì', 'Frostmane'] ...\"\n('Dict level 4: [([\\'Pact.\\', \"Conversion is dog now since the healing from it '\n \"has been nerfed and you can't double tap it anymore.Conversion for RBGs \"\n 'though.\", \\'But just not in Arena.\\', \"In a melee cleave season conversion '\n 'doesn\\'t do jack.\", \\'It was good against lock teams last season - and '\n \"almost every team had a Lock.'], '25/12/2014 02:56')]\")\n"
     ]
    }
   ],
   "source": [
    "# Print structure:\n",
    "pprint('Dict level 1: ' + str(posts_by_class_gametype_author.keys()))\n",
    "pprint('Dict level 2: ' + str(posts_by_class_gametype_author['Death Knight'].keys()))\n",
    "pprint('Dict level 3: ' + str(list(posts_by_class_gametype_author['Death Knight']['pvp'])[:5]) + ' ...')\n",
    "pprint('Dict level 4: ' + str(posts_by_class_gametype_author['Death Knight']['pvp']['Symmetry']))"
   ]
  },
  {
   "cell_type": "code",
   "execution_count": 8,
   "metadata": {
    "collapsed": true
   },
   "outputs": [
    {
     "name": "stdout",
     "output_type": "stream",
     "text": [
      "Death Knight pvp: 1273\n"
     ]
    },
    {
     "name": "stderr",
     "output_type": "stream",
     "text": [
      "D:\\Soft\\python351\\lib\\site-packages\\numpy\\core\\_methods.py:59: RuntimeWarning: Mean of empty slice.\n  warnings.warn(\"Mean of empty slice.\", RuntimeWarning)\nD:\\Soft\\python351\\lib\\site-packages\\numpy\\core\\_methods.py:70: RuntimeWarning: invalid value encountered in double_scalars\n  ret = ret.dtype.type(ret / rcount)\n"
     ]
    },
    {
     "name": "stdout",
     "output_type": "stream",
     "text": [
      ">>>\n>>>Progress: 250/1273\n"
     ]
    },
    {
     "name": "stdout",
     "output_type": "stream",
     "text": [
      ">>>\n>>>Progress: 500/1273\n"
     ]
    },
    {
     "name": "stdout",
     "output_type": "stream",
     "text": [
      ">>>\n>>>Progress: 750/1273\n"
     ]
    },
    {
     "name": "stdout",
     "output_type": "stream",
     "text": [
      ">>>\n>>>Progress: 1000/1273\n"
     ]
    },
    {
     "name": "stdout",
     "output_type": "stream",
     "text": [
      ">>>\n>>>Progress: 1250/1273\n"
     ]
    },
    {
     "name": "stdout",
     "output_type": "stream",
     "text": [
      "***\n** Death Knight pvp: 0.194032021452\nDeath Knight other: 4398\n"
     ]
    },
    {
     "name": "stdout",
     "output_type": "stream",
     "text": [
      ">>>\n>>>Progress: 250/4398\n"
     ]
    },
    {
     "name": "stdout",
     "output_type": "stream",
     "text": [
      ">>>\n>>>Progress: 500/4398\n"
     ]
    },
    {
     "name": "stdout",
     "output_type": "stream",
     "text": [
      ">>>\n>>>Progress: 750/4398\n"
     ]
    },
    {
     "name": "stdout",
     "output_type": "stream",
     "text": [
      ">>>\n>>>Progress: 1000/4398\n"
     ]
    },
    {
     "name": "stdout",
     "output_type": "stream",
     "text": [
      ">>>\n>>>Progress: 1250/4398\n"
     ]
    },
    {
     "name": "stdout",
     "output_type": "stream",
     "text": [
      ">>>\n>>>Progress: 1500/4398\n"
     ]
    },
    {
     "name": "stdout",
     "output_type": "stream",
     "text": [
      ">>>\n>>>Progress: 1750/4398\n"
     ]
    },
    {
     "name": "stdout",
     "output_type": "stream",
     "text": [
      ">>>\n>>>Progress: 2000/4398\n"
     ]
    },
    {
     "name": "stdout",
     "output_type": "stream",
     "text": [
      ">>>\n>>>Progress: 2250/4398\n"
     ]
    },
    {
     "name": "stdout",
     "output_type": "stream",
     "text": [
      ">>>\n>>>Progress: 2500/4398\n"
     ]
    },
    {
     "name": "stdout",
     "output_type": "stream",
     "text": [
      ">>>\n>>>Progress: 2750/4398\n"
     ]
    },
    {
     "name": "stdout",
     "output_type": "stream",
     "text": [
      ">>>\n>>>Progress: 3000/4398\n"
     ]
    },
    {
     "name": "stdout",
     "output_type": "stream",
     "text": [
      ">>>\n>>>Progress: 3250/4398\n"
     ]
    },
    {
     "name": "stdout",
     "output_type": "stream",
     "text": [
      ">>>\n>>>Progress: 3500/4398\n"
     ]
    },
    {
     "name": "stdout",
     "output_type": "stream",
     "text": [
      ">>>\n>>>Progress: 3750/4398\n"
     ]
    },
    {
     "name": "stdout",
     "output_type": "stream",
     "text": [
      ">>>\n>>>Progress: 4000/4398\n"
     ]
    },
    {
     "name": "stdout",
     "output_type": "stream",
     "text": [
      ">>>\n>>>Progress: 4250/4398\n***\n** Death Knight other: 0.301553385079\nDeath Knight pve: 4336\n"
     ]
    },
    {
     "name": "stdout",
     "output_type": "stream",
     "text": [
      ">>>\n>>>Progress: 250/4336\n"
     ]
    },
    {
     "name": "stdout",
     "output_type": "stream",
     "text": [
      ">>>\n>>>Progress: 500/4336\n"
     ]
    },
    {
     "name": "stdout",
     "output_type": "stream",
     "text": [
      ">>>\n>>>Progress: 750/4336\n"
     ]
    },
    {
     "name": "stdout",
     "output_type": "stream",
     "text": [
      ">>>\n>>>Progress: 1000/4336\n"
     ]
    },
    {
     "name": "stdout",
     "output_type": "stream",
     "text": [
      ">>>\n>>>Progress: 1250/4336\n"
     ]
    },
    {
     "name": "stdout",
     "output_type": "stream",
     "text": [
      ">>>\n>>>Progress: 1500/4336\n"
     ]
    },
    {
     "name": "stdout",
     "output_type": "stream",
     "text": [
      ">>>\n>>>Progress: 1750/4336\n"
     ]
    },
    {
     "name": "stdout",
     "output_type": "stream",
     "text": [
      ">>>\n>>>Progress: 2000/4336\n"
     ]
    },
    {
     "name": "stdout",
     "output_type": "stream",
     "text": [
      ">>>\n>>>Progress: 2250/4336\n"
     ]
    },
    {
     "name": "stdout",
     "output_type": "stream",
     "text": [
      ">>>\n>>>Progress: 2500/4336\n"
     ]
    },
    {
     "name": "stdout",
     "output_type": "stream",
     "text": [
      ">>>\n>>>Progress: 2750/4336\n"
     ]
    },
    {
     "name": "stdout",
     "output_type": "stream",
     "text": [
      ">>>\n>>>Progress: 3000/4336\n"
     ]
    },
    {
     "name": "stdout",
     "output_type": "stream",
     "text": [
      ">>>\n>>>Progress: 3250/4336\n"
     ]
    },
    {
     "name": "stdout",
     "output_type": "stream",
     "text": [
      ">>>\n>>>Progress: 3500/4336\n"
     ]
    },
    {
     "name": "stdout",
     "output_type": "stream",
     "text": [
      ">>>\n>>>Progress: 3750/4336\n"
     ]
    },
    {
     "name": "stdout",
     "output_type": "stream",
     "text": [
      ">>>\n>>>Progress: 4000/4336\n"
     ]
    },
    {
     "name": "stdout",
     "output_type": "stream",
     "text": [
      ">>>\n>>>Progress: 4250/4336\n"
     ]
    },
    {
     "name": "stdout",
     "output_type": "stream",
     "text": [
      "***\n** Death Knight pve: 0.229396658454\nDemon Hunter pvp: 542\n"
     ]
    },
    {
     "name": "stdout",
     "output_type": "stream",
     "text": [
      ">>>\n>>>Progress: 250/542\n"
     ]
    },
    {
     "name": "stdout",
     "output_type": "stream",
     "text": [
      ">>>\n>>>Progress: 500/542\n"
     ]
    },
    {
     "name": "stdout",
     "output_type": "stream",
     "text": [
      "***\n** Demon Hunter pvp: 0.0632010964912\nDemon Hunter other: 1686\n"
     ]
    },
    {
     "name": "stdout",
     "output_type": "stream",
     "text": [
      ">>>\n>>>Progress: 250/1686\n"
     ]
    },
    {
     "name": "stdout",
     "output_type": "stream",
     "text": [
      ">>>\n>>>Progress: 500/1686\n"
     ]
    },
    {
     "name": "stdout",
     "output_type": "stream",
     "text": [
      ">>>\n>>>Progress: 750/1686\n"
     ]
    },
    {
     "name": "stdout",
     "output_type": "stream",
     "text": [
      ">>>\n>>>Progress: 1000/1686\n"
     ]
    },
    {
     "name": "stdout",
     "output_type": "stream",
     "text": [
      ">>>\n>>>Progress: 1250/1686\n"
     ]
    },
    {
     "name": "stdout",
     "output_type": "stream",
     "text": [
      ">>>\n>>>Progress: 1500/1686\n"
     ]
    },
    {
     "name": "stdout",
     "output_type": "stream",
     "text": [
      "***\n** Demon Hunter other: 0.200352106538\nDemon Hunter pve: 1682\n"
     ]
    },
    {
     "name": "stdout",
     "output_type": "stream",
     "text": [
      ">>>\n>>>Progress: 250/1682\n"
     ]
    },
    {
     "name": "stdout",
     "output_type": "stream",
     "text": [
      ">>>\n>>>Progress: 500/1682\n"
     ]
    },
    {
     "name": "stdout",
     "output_type": "stream",
     "text": [
      ">>>\n>>>Progress: 750/1682\n"
     ]
    },
    {
     "name": "stdout",
     "output_type": "stream",
     "text": [
      ">>>\n>>>Progress: 1000/1682\n"
     ]
    },
    {
     "name": "stdout",
     "output_type": "stream",
     "text": [
      ">>>\n>>>Progress: 1250/1682\n"
     ]
    },
    {
     "name": "stdout",
     "output_type": "stream",
     "text": [
      ">>>\n>>>Progress: 1500/1682\n"
     ]
    },
    {
     "name": "stdout",
     "output_type": "stream",
     "text": [
      "***\n** Demon Hunter pve: 0.226781661543\nDONE!!!\n"
     ]
    }
   ],
   "source": [
    "sid = SentimentIntensityAnalyzer()\n",
    "# print(sid.polarity_scores('good bad ugly beautiful.'))\n",
    "scores_by_class_gametype_author_post = {}\n",
    "scores_by_class_gametype_author = {}\n",
    "scores_by_class_gametype = {}\n",
    "for wow_class in posts_by_class_gametype_author:\n",
    "    scores_by_class_gametype_author_post[wow_class] = {}\n",
    "    scores_by_class_gametype_author[wow_class] = {}\n",
    "    scores_by_class_gametype[wow_class] = {}\n",
    "    for gt in posts_by_class_gametype_author[wow_class]:\n",
    "        scores_by_class_gametype_author_post[wow_class][gt] = {}\n",
    "        scores_by_class_gametype_author[wow_class][gt] = []\n",
    "        print(wow_class + ' ' + gt + ': ' + str(len(posts_by_class_gametype_author[wow_class][gt])))\n",
    "        i = 0\n",
    "        for author in posts_by_class_gametype_author[wow_class][gt]:\n",
    "            scores_by_class_gametype_author_post[wow_class][gt][author] = []\n",
    "            i += 1\n",
    "            if i % 250 == 0:\n",
    "                print(\">>>\\n>>>Progress: \" + str(i) + '/'\n",
    "                      + str(len(posts_by_class_gametype_author[wow_class][gt])))\n",
    "            for post in posts_by_class_gametype_author[wow_class][gt][author][:2]:\n",
    "                post_score = []\n",
    "                for sent in post[0]:\n",
    "                    post_score.append(sid.polarity_scores(sent)['compound'])\n",
    "                #print(post_score)\n",
    "                post_score_array = numpy.array(post_score)\n",
    "                sc = numpy.mean(post_score_array)\n",
    "                if sc > 0.5 or sc < -0.5:\n",
    "                    # print(sc)\n",
    "                    scores_by_class_gametype_author_post[wow_class][gt][author].append([post[0], sc])\n",
    "            author_score_array = numpy.array([au_sc[1] for au_sc \n",
    "                                             in scores_by_class_gametype_author_post[wow_class][gt][author]])\n",
    "            auth_sc = numpy.mean(author_score_array)\n",
    "            if not math.isnan(auth_sc):\n",
    "                scores_by_class_gametype_author[wow_class][gt].append((author, auth_sc))\n",
    "                # print(author + ': ' + str(auth_sc))\n",
    "        gt_score_array = numpy.\\\n",
    "            array([au_sc[1] for au_sc in scores_by_class_gametype_author[wow_class][gt]])\n",
    "        gt_score = numpy.mean(gt_score_array)\n",
    "        if not math.isnan(gt_score):\n",
    "            scores_by_class_gametype[wow_class][gt] = gt_score\n",
    "            print('***\\n** ' + wow_class + ' ' + gt + ': ' + str(gt_score))\n",
    "\n",
    "print('DONE!!!')"
   ]
  },
  {
   "cell_type": "code",
   "execution_count": 18,
   "metadata": {},
   "outputs": [],
   "source": [
    "import datetime\n",
    "ALGORITHM = 'Vader'\n",
    "CURRENT_DATE = datetime.datetime.now().strftime(\"%Y-%m-%d_%H-%M-%S\")\n",
    "FILE_NAME = 'scores_auth_' + ALGORITHM + '_' + CURRENT_DATE\n",
    "# print(FILE_NAME)\n",
    "\n",
    "score_holder = {'meta': {}}\n",
    "score_holder['meta']['algorithm'] = ALGORITHM\n",
    "score_holder['meta']['date'] = CURRENT_DATE\n",
    "score_holder['score'] = scores_by_class_gametype_author\n",
    "\n",
    "save_to_json_file('Resources/Corpora/EU/Scores/', FILE_NAME,\n",
    "                  score_holder, 'w')\n",
    "FILE_NAME = 'scores_gt_' + ALGORITHM + '_' + CURRENT_DATE\n",
    "score_holder['score'] = scores_by_class_gametype\n",
    "save_to_json_file('Resources/Corpora/EU/Scores/', FILE_NAME,\n",
    "                  score_holder, 'w')"
   ]
  },
  {
   "cell_type": "code",
   "execution_count": 10,
   "metadata": {},
   "outputs": [
    {
     "name": "stdout",
     "output_type": "stream",
     "text": [
      "{'Death Knight': {'other': 0.30155338507877666,\n                  'pve': 0.22939665845351648,\n                  'pvp': 0.19403202145214521},\n 'Demon Hunter': {'other': 0.20035210653753024,\n                  'pve': 0.22678166154309826,\n                  'pvp': 0.06320109649122807}}\nDeath Knight pvp: 303\nDeath Knight other: 1079\nDeath Knight pve: 1101\nDemon Hunter pvp: 114\nDemon Hunter other: 413\nDemon Hunter pve: 395\n"
     ]
    }
   ],
   "source": [
    "pprint(scores_by_class_gametype)\n",
    "\n",
    "for wow_class in scores_by_class_gametype_author:\n",
    "    for gt in scores_by_class_gametype_author[wow_class]:\n",
    "        print(wow_class + ' ' + gt + ': ' +\n",
    "              str(len(scores_by_class_gametype_author[wow_class][gt])))"
   ]
  },
  {
   "cell_type": "code",
   "execution_count": 39,
   "metadata": {
    "collapsed": true
   },
   "outputs": [
    {
     "name": "stdout",
     "output_type": "stream",
     "text": [
      "[OWLXML.Destruction, OWLXML.Mage, OWLXML.Shaman, OWLXML.Rogue, OWLXML.Beast_Mastery, OWLXML.Elemental, OWLXML.Druid, OWLXML.H, OWLXML.Arcane, OWLXML.Prot, OWLXML.Demon_Hunter, OWLXML.Fire, OWLXML.Arms, OWLXML.Priest, OWLXML.Mistweaver, OWLXML.Affliction, OWLXML.Balance, OWLXML.Survival, OWLXML.Holy, OWLXML.Demonology, OWLXML.Shadow, OWLXML.Warrior]\n<?xml version=\"1.0\"?>\n<!DOCTYPE Ontology [\n    <!ENTITY xsd \"http://www.w3.org/2001/XMLSchema#\" >\n    <!ENTITY rdf \"http://www.w3.org/1999/02/22-rdf-syntax-ns#\" >\n    <!ENTITY rdfs \"http://www.w3.org/2000/01/rdf-schema#\" >\n    <!ENTITY owl \"http://www.w3.org/2002/07/owl#\" >\n]>\n<Ontology xmlns=\"http://www.w3.org/2002/07/owl#\" xml:base=\"file://Resources/Ontology/OWLXML.owl\" ontologyIRI=\"file://Resources/Ontology/OWLXML.owl\"\n     xmlns:rdfs=\"http://www.w3.org/2000/01/rdf-schema#\"\n     xmlns:xsd=\"http://www.w3.org/2001/XMLSchema#\"\n     xmlns:rdf=\"http://www.w3.org/1999/02/22-rdf-syntax-ns#\"\n     xmlns:xml=\"http://www.w3.org/XML/1998/namespace\"\n>\n<Prefix name=\"\" IRI=\"file://Resources/Ontology/OWLXML.owl\"/>\n<Prefix name=\"owl\" IRI=\"http://www.w3.org/2002/07/owl#\"/>\n<Prefix name=\"rdf\" IRI=\"http://www.w3.org/1999/02/22-rdf-syntax-ns#\"/>\n<Prefix name=\"xsd\" IRI=\"http://www.w3.org/2001/XMLSchema#\"/>\n<Prefix name=\"rdfs\" IRI=\"http://www.w3.org/2000/01/rdf-schema#\"/>\n<Prefix name=\"OWLXML\" IRI=\"file://Resources/Ontology/OWLXML.owl\"/>\n\n<Declaration><Class IRI=\"file://Resources/Ontology/OWLXML.owl#Destruction\"/></Declaration>\n<Declaration><Class IRI=\"file://Resources/Ontology/OWLXML.owl#Mage\"/></Declaration>\n<Declaration><Class IRI=\"file://Resources/Ontology/OWLXML.owl#Shaman\"/></Declaration>\n<Declaration><Class IRI=\"file://Resources/Ontology/OWLXML.owl#Rogue\"/></Declaration>\n<Declaration><Class IRI=\"file://Resources/Ontology/OWLXML.owl#Beast_Mastery\"/></Declaration>\n<Declaration><Class IRI=\"file://Resources/Ontology/OWLXML.owl#Elemental\"/></Declaration>\n<Declaration><Class IRI=\"file://Resources/Ontology/OWLXML.owl#Druid\"/></Declaration>\n<Declaration><Class IRI=\"file://Resources/Ontology/OWLXML.owl#H\"/></Declaration>\n<Declaration><Class IRI=\"file://Resources/Ontology/OWLXML.owl#Arcane\"/></Declaration>\n<Declaration><Class IRI=\"file://Resources/Ontology/OWLXML.owl#Prot\"/></Declaration>\n<Declaration><Class IRI=\"file://Resources/Ontology/OWLXML.owl#Demon_Hunter\"/></Declaration>\n<Declaration><Class IRI=\"file://Resources/Ontology/OWLXML.owl#Fire\"/></Declaration>\n<Declaration><Class IRI=\"file://Resources/Ontology/OWLXML.owl#Arms\"/></Declaration>\n<Declaration><Class IRI=\"file://Resources/Ontology/OWLXML.owl#Priest\"/></Declaration>\n<Declaration><Class IRI=\"file://Resources/Ontology/OWLXML.owl#Mistweaver\"/></Declaration>\n<Declaration><Class IRI=\"file://Resources/Ontology/OWLXML.owl#Affliction\"/></Declaration>\n<Declaration><Class IRI=\"file://Resources/Ontology/OWLXML.owl#Balance\"/></Declaration>\n<Declaration><Class IRI=\"file://Resources/Ontology/OWLXML.owl#Survival\"/></Declaration>\n<Declaration><Class IRI=\"file://Resources/Ontology/OWLXML.owl#Holy\"/></Declaration>\n<Declaration><Class IRI=\"file://Resources/Ontology/OWLXML.owl#Demonology\"/></Declaration>\n<Declaration><Class IRI=\"file://Resources/Ontology/OWLXML.owl#Shadow\"/></Declaration>\n<Declaration><Class IRI=\"file://Resources/Ontology/OWLXML.owl#Warrior\"/></Declaration>\n<Declaration><NamedIndividual IRI=\"file://Resources/Ontology/OWLXML.owl#Protection\"/></Declaration>\n\n\n\n\n\n\n\n\n\n\n\n\n\n\n\n\n\n\n\n\n\n\n\n<ClassAssertion><Class IRI=\"http://www.w3.org/2002/07/owl#Thing\"/><NamedIndividual IRI=\"file://Resources/Ontology/OWLXML.owl#Protection\"/></ClassAssertion>\n\n</Ontology>\n\n"
     ]
    }
   ],
   "source": [
    "# READ ONTOLOGY\n",
    "from owlready import *\n",
    "onto_path.clear()\n",
    "#onto_path.append(\"./Resources/\")\n",
    "wowOnto = get_ontology('file://Resources/Ontology/OWLXML.owl').load(True)\n",
    "\n",
    "print(wowOnto.classes)\n",
    "print(to_owl(wowOnto))"
   ]
  },
  {
   "cell_type": "code",
   "execution_count": null,
   "metadata": {},
   "outputs": [],
   "source": [
    ""
   ]
  }
 ],
 "metadata": {
  "kernelspec": {
   "display_name": "Python 2",
   "language": "python",
   "name": "python2"
  },
  "language_info": {
   "codemirror_mode": {
    "name": "ipython",
    "version": 2.0
   },
   "file_extension": ".py",
   "mimetype": "text/x-python",
   "name": "python",
   "nbconvert_exporter": "python",
   "pygments_lexer": "ipython2",
   "version": "2.7.6"
  }
 },
 "nbformat": 4,
 "nbformat_minor": 0
}