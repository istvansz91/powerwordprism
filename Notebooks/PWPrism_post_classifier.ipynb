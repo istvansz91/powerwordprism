{
 "cells": [
  {
   "cell_type": "code",
   "execution_count": 1,
   "metadata": {
    "collapsed": false
   },
   "outputs": [],
   "source": [
    "from bs4 import BeautifulSoup\n",
    "from pprint import pprint\n",
    "from urllib import request\n",
    "import json\n",
    "import time\n",
    "\n",
    "\n",
    "class WowClassesResources:\n",
    "    WOW_FORUM_ROOT_URL_EU = 'http://eu.battle.net'\n",
    "    WOW_FORUM_ROOT_URL_US = 'http://us.battle.net'\n",
    "    WOW_FORUM_MID_URL = '/forums/en/wow/'\n",
    "    URL_PAGE_ATTRIBUTE = \"?page=\"\n",
    "\n",
    "\n",
    "class WowClassesResources:\n",
    "    WOW_FORUM_ROOT_URL_EU = 'http://eu.battle.net'\n",
    "    WOW_FORUM_ROOT_URL_US = 'http://us.battle.net'\n",
    "    WOW_FORUM_MID_URL = '/forums/en/wow/'\n",
    "    URL_PAGE_ATTRIBUTE = \"?page=\"\n",
    "\n",
    "    WOW_CLASS_LIST_EU = [('Death Knight', \"874789/\"),\n",
    "                      ('Demon Hunter', \"19369494/\"),\n",
    "                      ('Druid', \"874790/\"),\n",
    "                      ('Hunter', \"874791/\"),\n",
    "                      ('Mage', \"874792/\"),\n",
    "                      ('Monk', \"6038099/\"),\n",
    "                      ('Paladin', \"874793/\"),\n",
    "                      ('Priest', \"874794/\"),\n",
    "                      ('Rogue', \"874795/\"),\n",
    "                      ('Shaman', \"874796/\"),\n",
    "                      ('Warlock', \"874929/\"),\n",
    "                      ('Warrior', \"874930/\")]\n",
    "    WOW_CLASS_LIST_US = [('Death Knight', \"1012662/\"),\n",
    "                      ('Demon Hunter', \"22813967/\"),\n",
    "                      ('Druid', \"1012663/\"),\n",
    "                      ('Hunter', \"1012664/\"),\n",
    "                      ('Mage', \"1012760/\"),\n",
    "                      ('Monk', \"7379141/\"),\n",
    "                      ('Paladin', \"1012668/\"),\n",
    "                      ('Priest', \"1012666/\"),\n",
    "                      ('Rogue', \"1012667/\"),\n",
    "                      ('Shaman', \"1012669/\"),\n",
    "                      ('Warlock', \"1012670/\"),\n",
    "                      ('Warrior', \"1012759/\")]\n",
    "    WOW_TOPIC_URLS_EU = [(c, WowClassesResources.WOW_FORUM_ROOT_URL_EU + WowClassesResources.WOW_FORUM_MID_URL + u) for (c, u) in WOW_CLASS_LIST_EU]"
   ]
  },
  {
   "cell_type": "code",
   "execution_count": 2,
   "metadata": {
    "collapsed": false
   },
   "outputs": [
    {
     "name": "stdout",
     "output_type": "stream",
     "text": [
      "('Death Knight', 'http://eu.battle.net/forums/en/wow/874789/')\n"
     ]
    },
    {
     "name": "stdout",
     "output_type": "stream",
     "text": [
      "\n\n\n<html xmlns=\"http://www.w3.org/1999/xhtml\">\n\n<head>\n\t<meta http-equiv=\"X-UA-Compatible\" content=\"\n"
     ]
    }
   ],
   "source": [
    "print(WowClassesResources.WOW_TOPIC_URLS_EU[0])\n",
    "url = WowClassesResources.WOW_TOPIC_URLS_EU[0][1]\n",
    "# req = request.Request(url)\n",
    "response = request.urlopen(url)\n",
    "html = response.read().decode('utf8')\n",
    "print(html[:100])"
   ]
  },
  {
   "cell_type": "code",
   "execution_count": 3,
   "metadata": {
    "collapsed": false
   },
   "outputs": [],
   "source": [
    "def get_page_content(url):\n",
    "    attempt_number = 0\n",
    "    while True:\n",
    "        attempt_number += 1\n",
    "        if attempt_number > 5:\n",
    "            return None\n",
    "        try:\n",
    "            response = request.urlopen(url)\n",
    "        except request.HTTPError as e:\n",
    "            print('HTTPError = ' + str(e.code))\n",
    "            continue\n",
    "        except Exception as e:\n",
    "            print(e)\n",
    "            continue\n",
    "        except e:\n",
    "            print(e)\n",
    "            continue\n",
    "        html = response.read().decode('utf8')\n",
    "        break\n",
    "    return html\n",
    "\n",
    "\n",
    "def topic_scrape(forum_url):\n",
    "    all_links = []\n",
    "    i = 1\n",
    "    while True:\n",
    "        html = get_page_content(forum_url + WowClassesResources.URL_PAGE_ATTRIBUTE + str(i))\n",
    "        if html is None:\n",
    "            return []\n",
    "        bs_html = BeautifulSoup(html, \"html.parser\")\n",
    "\n",
    "        all_link_elements = bs_html.find_all(\"a\", class_=\"ForumTopic\")\n",
    "        # pprint(all_link_elements)\n",
    "        link_count = len(all_link_elements)\n",
    "        print(str(i) + ' ' + str(link_count))\n",
    "\n",
    "        if link_count == 0:\n",
    "            print('Exiting')\n",
    "            break\n",
    "        for a in all_link_elements:\n",
    "            # print a\n",
    "            title = a.find(class_='ForumTopic-title').get_text().strip()\n",
    "            # print title\n",
    "            all_links.append((a['href'], title))\n",
    "        i += 1\n",
    "        time.sleep(10)\n",
    "    return all_links\n",
    "\n",
    "\n",
    "def extract_topic(topic_title_url_tuple):\n",
    "    topic_url_ending = topic_title_url_tuple[0]\n",
    "    topic_title = topic_title_url_tuple[1]\n",
    "    pprint('[' + topic_title + '] (' + topic_url_ending + ')')\n",
    "    all_posts = []\n",
    "    i = 1\n",
    "    while True:\n",
    "        html = get_page_content(\n",
    "            WowClassesResources.WOW_FORUM_ROOT_URL_EU + topic_url_ending + WowClassesResources.URL_PAGE_ATTRIBUTE + str(\n",
    "                i))\n",
    "        if html is None:\n",
    "            return []\n",
    "        bs_html = BeautifulSoup(html, \"html.parser\")\n",
    "\n",
    "        all_topic_post_elements = bs_html.find_all(\"div\", class_=\"TopicPost-content\")\n",
    "        # pprint(all_topic_post_elements)\n",
    "        link_count = len(all_topic_post_elements)\n",
    "        # print str(i) + ' ' + str(link_count)\n",
    "\n",
    "        if link_count == 0:\n",
    "            print('Exiting')\n",
    "            break\n",
    "        for element in all_topic_post_elements:\n",
    "            # print a\n",
    "            post_body = element.find(class_='TopicPost-bodyContent').get_text().strip()\n",
    "            post_date = element.find(\"a\", class_='TopicPost-timestamp')['data-tooltip-content']\n",
    "            author_element = element.find(\"span\", class_='Author-name')\n",
    "            if author_element is not None:\n",
    "                # post_author = '<UNKNOWN>'\n",
    "                if author_element.a is not None:\n",
    "                    post_author = author_element.a.get_text().strip()\n",
    "                else:\n",
    "                    post_author = author_element.get_text().strip()\n",
    "                all_posts.append((topic_title, post_date, post_author, post_body))\n",
    "        i += 1\n",
    "        time.sleep(3)\n",
    "    pprint('posts: ' + str(len(all_posts)))\n",
    "    return all_posts\n",
    "\n",
    "\n",
    "def save_to_json_file(path, file_name, topic_content_tuple_list, mode):\n",
    "    with open(path + file_name + '.json', mode) as out_file:\n",
    "        json.dump(topic_content_tuple_list, out_file)\n",
    "\n",
    "\n",
    "def read_from_json_file(path, file_name):\n",
    "    with open(path + file_name + '.json', 'r') as in_file:\n",
    "        return json.load(in_file)"
   ]
  },
  {
   "cell_type": "code",
   "execution_count": 5,
   "metadata": {},
   "outputs": [
    {
     "name": "stdout",
     "output_type": "stream",
     "text": [
      "Current Class: Death Knight, URL: http://eu.battle.net/forums/en/wow/874789/\nNumber of posts: 34186\n"
     ]
    }
   ],
   "source": [
    "# READ CURRENT CLASS TO WORK WITH\n",
    "currentClass = WowClassesResources.WOW_TOPIC_URLS_EU[0]\n",
    "print('Current Class: ' + currentClass[0] + ', URL: ' + currentClass[1])\n",
    "# READ DICTIONARY OF POSTS\n",
    "posts_by_class = read_from_json_file('Resources/Corpora/EU/Posts/', 'corpora_posts_' + currentClass[0])\n",
    "print('Number of posts: ' + str(len(posts_by_class[currentClass[0]])))"
   ]
  },
  {
   "cell_type": "code",
   "execution_count": 7,
   "metadata": {
    "collapsed": false
   },
   "outputs": [
    {
     "name": "stdout",
     "output_type": "stream",
     "text": [
      "[OWLXML.Destruction, OWLXML.Mage, OWLXML.Shaman, OWLXML.Rogue, OWLXML.Beast_Mastery, OWLXML.Elemental, OWLXML.Druid, OWLXML.H, OWLXML.Arcane, OWLXML.Prot, OWLXML.Demon_Hunter, OWLXML.Fire, OWLXML.Arms, OWLXML.Priest, OWLXML.Mistweaver, OWLXML.Affliction, OWLXML.Balance, OWLXML.Survival, OWLXML.Holy, OWLXML.Demonology, OWLXML.Shadow, OWLXML.Warrior]\n<?xml version=\"1.0\"?>\n<!DOCTYPE Ontology [\n    <!ENTITY xsd \"http://www.w3.org/2001/XMLSchema#\" >\n    <!ENTITY rdf \"http://www.w3.org/1999/02/22-rdf-syntax-ns#\" >\n    <!ENTITY rdfs \"http://www.w3.org/2000/01/rdf-schema#\" >\n    <!ENTITY owl \"http://www.w3.org/2002/07/owl#\" >\n]>\n<Ontology xmlns=\"http://www.w3.org/2002/07/owl#\" xml:base=\"file://Resources/Ontology/OWLXML.owl\" ontologyIRI=\"file://Resources/Ontology/OWLXML.owl\"\n     xmlns:rdfs=\"http://www.w3.org/2000/01/rdf-schema#\"\n     xmlns:xsd=\"http://www.w3.org/2001/XMLSchema#\"\n     xmlns:rdf=\"http://www.w3.org/1999/02/22-rdf-syntax-ns#\"\n     xmlns:xml=\"http://www.w3.org/XML/1998/namespace\"\n>\n<Prefix name=\"\" IRI=\"file://Resources/Ontology/OWLXML.owl\"/>\n<Prefix name=\"owl\" IRI=\"http://www.w3.org/2002/07/owl#\"/>\n<Prefix name=\"rdf\" IRI=\"http://www.w3.org/1999/02/22-rdf-syntax-ns#\"/>\n<Prefix name=\"xsd\" IRI=\"http://www.w3.org/2001/XMLSchema#\"/>\n<Prefix name=\"rdfs\" IRI=\"http://www.w3.org/2000/01/rdf-schema#\"/>\n<Prefix name=\"OWLXML\" IRI=\"file://Resources/Ontology/OWLXML.owl\"/>\n\n<Declaration><Class IRI=\"file://Resources/Ontology/OWLXML.owl#Destruction\"/></Declaration>\n<Declaration><Class IRI=\"file://Resources/Ontology/OWLXML.owl#Mage\"/></Declaration>\n<Declaration><Class IRI=\"file://Resources/Ontology/OWLXML.owl#Shaman\"/></Declaration>\n<Declaration><Class IRI=\"file://Resources/Ontology/OWLXML.owl#Rogue\"/></Declaration>\n<Declaration><Class IRI=\"file://Resources/Ontology/OWLXML.owl#Beast_Mastery\"/></Declaration>\n<Declaration><Class IRI=\"file://Resources/Ontology/OWLXML.owl#Elemental\"/></Declaration>\n<Declaration><Class IRI=\"file://Resources/Ontology/OWLXML.owl#Druid\"/></Declaration>\n<Declaration><Class IRI=\"file://Resources/Ontology/OWLXML.owl#H\"/></Declaration>\n<Declaration><Class IRI=\"file://Resources/Ontology/OWLXML.owl#Arcane\"/></Declaration>\n<Declaration><Class IRI=\"file://Resources/Ontology/OWLXML.owl#Prot\"/></Declaration>\n<Declaration><Class IRI=\"file://Resources/Ontology/OWLXML.owl#Demon_Hunter\"/></Declaration>\n<Declaration><Class IRI=\"file://Resources/Ontology/OWLXML.owl#Fire\"/></Declaration>\n<Declaration><Class IRI=\"file://Resources/Ontology/OWLXML.owl#Arms\"/></Declaration>\n<Declaration><Class IRI=\"file://Resources/Ontology/OWLXML.owl#Priest\"/></Declaration>\n<Declaration><Class IRI=\"file://Resources/Ontology/OWLXML.owl#Mistweaver\"/></Declaration>\n<Declaration><Class IRI=\"file://Resources/Ontology/OWLXML.owl#Affliction\"/></Declaration>\n<Declaration><Class IRI=\"file://Resources/Ontology/OWLXML.owl#Balance\"/></Declaration>\n<Declaration><Class IRI=\"file://Resources/Ontology/OWLXML.owl#Survival\"/></Declaration>\n<Declaration><Class IRI=\"file://Resources/Ontology/OWLXML.owl#Holy\"/></Declaration>\n<Declaration><Class IRI=\"file://Resources/Ontology/OWLXML.owl#Demonology\"/></Declaration>\n<Declaration><Class IRI=\"file://Resources/Ontology/OWLXML.owl#Shadow\"/></Declaration>\n<Declaration><Class IRI=\"file://Resources/Ontology/OWLXML.owl#Warrior\"/></Declaration>\n<Declaration><NamedIndividual IRI=\"file://Resources/Ontology/OWLXML.owl#Protection\"/></Declaration>\n\n\n\n\n\n\n\n\n\n\n\n\n\n\n\n\n\n\n\n\n\n\n\n<ClassAssertion><Class IRI=\"http://www.w3.org/2002/07/owl#Thing\"/><NamedIndividual IRI=\"file://Resources/Ontology/OWLXML.owl#Protection\"/></ClassAssertion>\n\n</Ontology>\n\n"
     ]
    }
   ],
   "source": [
    "# BUILD A CLASSIFIER TO ASSIGN SPECS TO POSTS\n",
    "from owlready import *\n",
    "onto_path.clear()\n",
    "#onto_path.append(\"./Resources/\")\n",
    "wowOnto = get_ontology('file://Resources/Ontology/OWLXML.owl').load(True)\n",
    "\n",
    "print(wowOnto.classes)\n",
    "print(to_owl(wowOnto))"
   ]
  }
 ],
 "metadata": {
  "kernelspec": {
   "display_name": "Python 2",
   "language": "python",
   "name": "python2"
  },
  "language_info": {
   "codemirror_mode": {
    "name": "ipython",
    "version": 2.0
   },
   "file_extension": ".py",
   "mimetype": "text/x-python",
   "name": "python",
   "nbconvert_exporter": "python",
   "pygments_lexer": "ipython2",
   "version": "2.7.6"
  }
 },
 "nbformat": 4,
 "nbformat_minor": 0
}