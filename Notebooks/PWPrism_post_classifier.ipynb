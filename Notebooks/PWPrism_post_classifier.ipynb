{
 "cells": [
  {
   "cell_type": "code",
   "execution_count": 1,
   "metadata": {
    "collapsed": true
   },
   "outputs": [],
   "source": [
    "from bs4 import BeautifulSoup\n",
    "from pprint import pprint\n",
    "from urllib import request\n",
    "import nltk\n",
    "import json\n",
    "import time\n",
    "\n",
    "\n",
    "class WowClassesResources:\n",
    "\n",
    "    def __init__(self):\n",
    "        None\n",
    "\n",
    "    WOW_FORUM_ROOT_URL_EU = 'http://eu.battle.net'\n",
    "    WOW_FORUM_ROOT_URL_US = 'http://us.battle.net'\n",
    "    WOW_FORUM_MID_URL = '/forums/en/wow/'\n",
    "    URL_PAGE_ATTRIBUTE = \"?page=\"\n",
    "\n",
    "    WOW_CLASS_LIST_EU = [('Death Knight', \"874789/\"),\n",
    "                      ('Demon Hunter', \"19369494/\"),\n",
    "                      ('Druid', \"874790/\"),\n",
    "                      ('Hunter', \"874791/\"),\n",
    "                      ('Mage', \"874792/\"),\n",
    "                      ('Monk', \"6038099/\"),\n",
    "                      ('Paladin', \"874793/\"),\n",
    "                      ('Priest', \"874794/\"),\n",
    "                      ('Rogue', \"874795/\"),\n",
    "                      ('Shaman', \"874796/\"),\n",
    "                      ('Warlock', \"874929/\"),\n",
    "                      ('Warrior', \"874930/\")]\n",
    "    WOW_CLASS_LIST_US = [('Death Knight', \"1012662/\"),\n",
    "                      ('Demon Hunter', \"22813967/\"),\n",
    "                      ('Druid', \"1012663/\"),\n",
    "                      ('Hunter', \"1012664/\"),\n",
    "                      ('Mage', \"1012760/\"),\n",
    "                      ('Monk', \"7379141/\"),\n",
    "                      ('Paladin', \"1012668/\"),\n",
    "                      ('Priest', \"1012666/\"),\n",
    "                      ('Rogue', \"1012667/\"),\n",
    "                      ('Shaman', \"1012669/\"),\n",
    "                      ('Warlock', \"1012670/\"),\n",
    "                      ('Warrior', \"1012759/\")]\n",
    "\n",
    "    class GameType:\n",
    "        # PVP: 2v2 3v3 5v5\n",
    "        PVP = 'pvp'\n",
    "        PVE = 'pve'\n",
    "        OTHER = 'other'\n",
    "\n",
    "WOW_TOPIC_URLS_EU = \\\n",
    "    [(c, WowClassesResources.WOW_FORUM_ROOT_URL_EU + WowClassesResources.WOW_FORUM_MID_URL + u)\n",
    "     for (c, u) in WowClassesResources.WOW_CLASS_LIST_EU]"
   ]
  },
  {
   "cell_type": "code",
   "execution_count": 2,
   "metadata": {
    "collapsed": true
   },
   "outputs": [
    {
     "name": "stdout",
     "output_type": "stream",
     "text": [
      "('Death Knight', 'http://eu.battle.net/forums/en/wow/874789/')\n"
     ]
    },
    {
     "name": "stdout",
     "output_type": "stream",
     "text": [
      "\n\n\n<html xmlns=\"http://www.w3.org/1999/xhtml\">\n\n<head>\n\t<meta http-equiv=\"X-UA-Compatible\" content=\"\n"
     ]
    }
   ],
   "source": [
    "print(WOW_TOPIC_URLS_EU[0])\n",
    "url = WOW_TOPIC_URLS_EU[0][1]\n",
    "# req = request.Request(url)\n",
    "response = request.urlopen(url)\n",
    "html = response.read().decode('utf8')\n",
    "print(html[:100])"
   ]
  },
  {
   "cell_type": "code",
   "execution_count": 3,
   "metadata": {
    "collapsed": false
   },
   "outputs": [],
   "source": [
    "def get_page_content(url):\n",
    "    attempt_number = 0\n",
    "    while True:\n",
    "        attempt_number += 1\n",
    "        if attempt_number > 5:\n",
    "            return None\n",
    "        try:\n",
    "            response = request.urlopen(url)\n",
    "        except request.HTTPError as e:\n",
    "            print('HTTPError = ' + str(e.code))\n",
    "            continue\n",
    "        except Exception as e:\n",
    "            print(e)\n",
    "            continue\n",
    "        except e:\n",
    "            print(e)\n",
    "            continue\n",
    "        html = response.read().decode('utf8')\n",
    "        break\n",
    "    return html\n",
    "\n",
    "\n",
    "def topic_scrape(forum_url):\n",
    "    all_links = []\n",
    "    i = 1\n",
    "    while True:\n",
    "        html = get_page_content(forum_url + WowClassesResources.URL_PAGE_ATTRIBUTE + str(i))\n",
    "        if html is None:\n",
    "            return []\n",
    "        bs_html = BeautifulSoup(html, \"html.parser\")\n",
    "\n",
    "        all_link_elements = bs_html.find_all(\"a\", class_=\"ForumTopic\")\n",
    "        # pprint(all_link_elements)\n",
    "        link_count = len(all_link_elements)\n",
    "        print(str(i) + ' ' + str(link_count))\n",
    "\n",
    "        if link_count == 0:\n",
    "            print('Exiting')\n",
    "            break\n",
    "        for a in all_link_elements:\n",
    "            # print a\n",
    "            title = a.find(class_='ForumTopic-title').get_text().strip()\n",
    "            # print title\n",
    "            all_links.append((a['href'], title))\n",
    "        i += 1\n",
    "        time.sleep(10)\n",
    "    return all_links\n",
    "\n",
    "\n",
    "def extract_topic(topic_title_url_tuple):\n",
    "    topic_url_ending = topic_title_url_tuple[0]\n",
    "    topic_title = topic_title_url_tuple[1]\n",
    "    pprint('[' + topic_title + '] (' + topic_url_ending + ')')\n",
    "    all_posts = []\n",
    "    i = 1\n",
    "    while True:\n",
    "        html = get_page_content(\n",
    "            WowClassesResources.WOW_FORUM_ROOT_URL_EU + topic_url_ending + WowClassesResources.URL_PAGE_ATTRIBUTE + str(\n",
    "                i))\n",
    "        if html is None:\n",
    "            return []\n",
    "        bs_html = BeautifulSoup(html, \"html.parser\")\n",
    "\n",
    "        all_topic_post_elements = bs_html.find_all(\"div\", class_=\"TopicPost-content\")\n",
    "        # pprint(all_topic_post_elements)\n",
    "        link_count = len(all_topic_post_elements)\n",
    "        # print str(i) + ' ' + str(link_count)\n",
    "\n",
    "        if link_count == 0:\n",
    "            print('Exiting')\n",
    "            break\n",
    "        for element in all_topic_post_elements:\n",
    "            # print a\n",
    "            post_body = element.find(class_='TopicPost-bodyContent').get_text().strip()\n",
    "            post_date = element.find(\"a\", class_='TopicPost-timestamp')['data-tooltip-content']\n",
    "            author_element = element.find(\"span\", class_='Author-name')\n",
    "            if author_element is not None:\n",
    "                # post_author = '<UNKNOWN>'\n",
    "                if author_element.a is not None:\n",
    "                    post_author = author_element.a.get_text().strip()\n",
    "                else:\n",
    "                    post_author = author_element.get_text().strip()\n",
    "                all_posts.append((topic_title, post_date, post_author, post_body))\n",
    "        i += 1\n",
    "        time.sleep(3)\n",
    "    pprint('posts: ' + str(len(all_posts)))\n",
    "    return all_posts\n",
    "\n",
    "\n",
    "def save_to_json_file(path, file_name, topic_content_tuple_list, mode):\n",
    "    with open(path + file_name + '.json', mode) as out_file:\n",
    "        json.dump(topic_content_tuple_list, out_file)\n",
    "\n",
    "\n",
    "def read_from_json_file(path, file_name):\n",
    "    with open(path + file_name + '.json', 'r') as in_file:\n",
    "        return json.load(in_file)"
   ]
  },
  {
   "cell_type": "code",
   "execution_count": 4,
   "metadata": {
    "collapsed": true
   },
   "outputs": [
    {
     "name": "stdout",
     "output_type": "stream",
     "text": [
      "Current Class: Death Knight, URL: http://eu.battle.net/forums/en/wow/874789/\n"
     ]
    },
    {
     "name": "stdout",
     "output_type": "stream",
     "text": [
      "Number of posts: 34186\n"
     ]
    }
   ],
   "source": [
    "# READ CURRENT CLASS TO WORK WITH\n",
    "currentClass = WOW_TOPIC_URLS_EU[0]\n",
    "print('Current Class: ' + currentClass[0] + ', URL: ' + currentClass[1])\n",
    "# READ DICTIONARY OF POSTS\n",
    "posts_by_class = read_from_json_file('Resources/Corpora/EU/Posts/', 'corpora_posts_' + currentClass[0])\n",
    "print('Number of posts: ' + str(len(posts_by_class[currentClass[0]])))\n",
    "# print('First post:\\n' + posts_by_class[currentClass[0]][0][3])"
   ]
  },
  {
   "cell_type": "code",
   "execution_count": 6,
   "metadata": {
    "collapsed": true
   },
   "outputs": [
    {
     "name": "stdout",
     "output_type": "stream",
     "text": [
      "[OWLXML.Destruction, OWLXML.Mage, OWLXML.Shaman, OWLXML.Rogue, OWLXML.Beast_Mastery, OWLXML.Elemental, OWLXML.Druid, OWLXML.H, OWLXML.Arcane, OWLXML.Prot, OWLXML.Demon_Hunter, OWLXML.Fire, OWLXML.Arms, OWLXML.Priest, OWLXML.Mistweaver, OWLXML.Affliction, OWLXML.Balance, OWLXML.Survival, OWLXML.Holy, OWLXML.Demonology, OWLXML.Shadow, OWLXML.Warrior]\n<?xml version=\"1.0\"?>\n<!DOCTYPE Ontology [\n    <!ENTITY xsd \"http://www.w3.org/2001/XMLSchema#\" >\n    <!ENTITY rdf \"http://www.w3.org/1999/02/22-rdf-syntax-ns#\" >\n    <!ENTITY rdfs \"http://www.w3.org/2000/01/rdf-schema#\" >\n    <!ENTITY owl \"http://www.w3.org/2002/07/owl#\" >\n]>\n<Ontology xmlns=\"http://www.w3.org/2002/07/owl#\" xml:base=\"file://Resources/Ontology/OWLXML.owl\" ontologyIRI=\"file://Resources/Ontology/OWLXML.owl\"\n     xmlns:rdfs=\"http://www.w3.org/2000/01/rdf-schema#\"\n     xmlns:xsd=\"http://www.w3.org/2001/XMLSchema#\"\n     xmlns:rdf=\"http://www.w3.org/1999/02/22-rdf-syntax-ns#\"\n     xmlns:xml=\"http://www.w3.org/XML/1998/namespace\"\n>\n<Prefix name=\"\" IRI=\"file://Resources/Ontology/OWLXML.owl\"/>\n<Prefix name=\"owl\" IRI=\"http://www.w3.org/2002/07/owl#\"/>\n<Prefix name=\"rdf\" IRI=\"http://www.w3.org/1999/02/22-rdf-syntax-ns#\"/>\n<Prefix name=\"xsd\" IRI=\"http://www.w3.org/2001/XMLSchema#\"/>\n<Prefix name=\"rdfs\" IRI=\"http://www.w3.org/2000/01/rdf-schema#\"/>\n<Prefix name=\"OWLXML\" IRI=\"file://Resources/Ontology/OWLXML.owl\"/>\n\n<Declaration><Class IRI=\"file://Resources/Ontology/OWLXML.owl#Destruction\"/></Declaration>\n<Declaration><Class IRI=\"file://Resources/Ontology/OWLXML.owl#Mage\"/></Declaration>\n<Declaration><Class IRI=\"file://Resources/Ontology/OWLXML.owl#Shaman\"/></Declaration>\n<Declaration><Class IRI=\"file://Resources/Ontology/OWLXML.owl#Rogue\"/></Declaration>\n<Declaration><Class IRI=\"file://Resources/Ontology/OWLXML.owl#Beast_Mastery\"/></Declaration>\n<Declaration><Class IRI=\"file://Resources/Ontology/OWLXML.owl#Elemental\"/></Declaration>\n<Declaration><Class IRI=\"file://Resources/Ontology/OWLXML.owl#Druid\"/></Declaration>\n<Declaration><Class IRI=\"file://Resources/Ontology/OWLXML.owl#H\"/></Declaration>\n<Declaration><Class IRI=\"file://Resources/Ontology/OWLXML.owl#Arcane\"/></Declaration>\n<Declaration><Class IRI=\"file://Resources/Ontology/OWLXML.owl#Prot\"/></Declaration>\n<Declaration><Class IRI=\"file://Resources/Ontology/OWLXML.owl#Demon_Hunter\"/></Declaration>\n<Declaration><Class IRI=\"file://Resources/Ontology/OWLXML.owl#Fire\"/></Declaration>\n<Declaration><Class IRI=\"file://Resources/Ontology/OWLXML.owl#Arms\"/></Declaration>\n<Declaration><Class IRI=\"file://Resources/Ontology/OWLXML.owl#Priest\"/></Declaration>\n<Declaration><Class IRI=\"file://Resources/Ontology/OWLXML.owl#Mistweaver\"/></Declaration>\n<Declaration><Class IRI=\"file://Resources/Ontology/OWLXML.owl#Affliction\"/></Declaration>\n<Declaration><Class IRI=\"file://Resources/Ontology/OWLXML.owl#Balance\"/></Declaration>\n<Declaration><Class IRI=\"file://Resources/Ontology/OWLXML.owl#Survival\"/></Declaration>\n<Declaration><Class IRI=\"file://Resources/Ontology/OWLXML.owl#Holy\"/></Declaration>\n<Declaration><Class IRI=\"file://Resources/Ontology/OWLXML.owl#Demonology\"/></Declaration>\n<Declaration><Class IRI=\"file://Resources/Ontology/OWLXML.owl#Shadow\"/></Declaration>\n<Declaration><Class IRI=\"file://Resources/Ontology/OWLXML.owl#Warrior\"/></Declaration>\n<Declaration><NamedIndividual IRI=\"file://Resources/Ontology/OWLXML.owl#Protection\"/></Declaration>\n\n\n\n\n\n\n\n\n\n\n\n\n\n\n\n\n\n\n\n\n\n\n\n<ClassAssertion><Class IRI=\"http://www.w3.org/2002/07/owl#Thing\"/><NamedIndividual IRI=\"file://Resources/Ontology/OWLXML.owl#Protection\"/></ClassAssertion>\n\n</Ontology>\n\n"
     ]
    }
   ],
   "source": [
    "# READ ONTOLOGY\n",
    "from owlready import *\n",
    "onto_path.clear()\n",
    "#onto_path.append(\"./Resources/\")\n",
    "wowOnto = get_ontology('file://Resources/Ontology/OWLXML.owl').load(True)\n",
    "\n",
    "print(wowOnto.classes)\n",
    "print(to_owl(wowOnto))"
   ]
  },
  {
   "cell_type": "code",
   "execution_count": 6,
   "metadata": {
    "collapsed": true
   },
   "outputs": [
    {
     "name": "stdout",
     "output_type": "stream",
     "text": [
      "[['[Guide]Death Knight 101 (Updated for 7.03)',\n  '22/05/2014 11:27',\n  'Hakuteiken',\n  'This if for all the really new Death Knights; my guide on the class '\n  \"overall. In this guide I'll be covering our resource system, what abilities \"\n  \"you have, how they work and what they do. I'll also throw in some \"\n  'suggestions on gameplay that should make things somewhat easier for '\n  \"you.It's worth nothing that Death Knights, at lower levels, are \"\n  'ridiculously powerful which is a state of affairs I found to be really dull '\n  \"when leveling my latest Death Knight; it's not much fun when you're \"\n  'immortal and killing things with 2-3 attacks, but anyway, here goes.First '\n  \"thing's first; Resources-We have two different resources; Runes and Runic \"\n  'Power.We have a total of 6 runes which can be used for any attack that '\n  'costs Runes; Obliterate, Howling Blast, Festering Strike, Marrowrend '\n  'etc.-Runic Power is generated from used runes and the amount of runic power '\n  'generated is based on the rune cost abilities, for example, Howling Blast '\n  'cost 1 rune, and therefore will generate only 10 runic power, Marrowrend '\n  'costs 2 runes and will generate 20 runic power.Pretty straight forward on '\n  'paper. Now we get to how they interact with each other.Runes begin a '\n  'regeneration cycle of no more than 10 seconds when used; Haste will '\n  'decrease this time but not by much.If all 6 runes are used in succession, '\n  'the first 3 runes to be used will begin their recharge, while the remaining '\n  '3 will not. The second set of 3 runes will begin their recharge only when '\n  'the first set is completely recharged.There are certain talents and built '\n  'in passive abilities to speed this process up; these talents and abilities '\n  'differ from spec to spec.Blood - Soulgorge; consumes Blood Plague from '\n  'everything in 30 yards to increase rune recharge.-Blood Tap; restores 1 '\n  'rune per use, limited to 2 charges.Unlike Frost or Unholy, there is no '\n  'passive ability that will assist the rune recharge time.Frost - Runic '\n  'Empowerment; passive, has 1% chance per runic power spent to activate on '\n  \"Frost Strike. After some time testing, I've found it's about 50% chance (5 \"\n  'in 10 Frost Strikes).-Murderous Efficiency; using the Killing Machine '\n  'effect has a 50% chance to to restore 1 rune.-Horn of Winter; restores 2 '\n  'runes and generates 10 runic power.-Hungering Rune Weapon; Horn of Winter '\n  'restores 2 runes and generates 10 runic power while Hungering Rune Weapon '\n  'restores 1 rune and 5 runic power instantly and then restores runes and '\n  'runic power every 1.5 seconds for 12 seconds.Unholy - Runic Corruption, '\n  'passive, has 1.25% chance per runic power spent to activate, granting 100% '\n  \"rune regeneration for a short time. Requires Death Coil. After testing I've \"\n  'found that this works out that +/- 1 in 3 Death Coils will activate Runic '\n  'Corruption.Abilities - How They WorkEach ability a Death Knight has has a '\n  'rune or runic power cost. The following are abilities that cost only 1 rune '\n  \"and will generate 10 runic power per use.-Blood Spec:Heart Strike, Death's \"\n  'Caress, Rune Tap, Death and Decay (if talented)Note: Heart Strike generates '\n  '15 runic power.-Frost Runes; Howling Blast, Frostscythe (if '\n  'specced),Remorseless Winter,-Unholy Runes; Scourge Strike (Clawing Shadows, '\n  'talent), Death and Decay, Epidemic (talent), Outbreak, Chains of Ice, '\n  'Defile(talent)The following cost two runes and will generate 20 runic power '\n  'when used.-Blood Spec: Marrowrend-Frost Spec: Obliterate-Unholy: Festering '\n  'StrikeUnholy retains Army of the Dead at a cost of 3 runes which generates '\n  '30 runic power.Runic Power - will activate Runic Empowerment or Runic '\n  'Corruption via the use of Frost Strike or Death Coil respectively.-Death '\n  \"Coil; usable Unholy spec. It's a ranged attack with 30 yard range and costs \"\n  '35 runic power. This will also restore 10 energy to your ghoul per Death '\n  'Coil fired.-Frost Strike; exclusive to Frost spec, single target melee '\n  \"attack.Death Coil and Frost Strike are often best used when you're at, or \"\n  'approaching, 100 runic power, but are ideally used when spaced out across '\n  'your \"rotation\" which brings me neatly to the next part of the '\n  'guide.Abilities - What to use and WhenThis will require in-depth guides of '\n  'their own but there are certain universal abilities you can make use '\n  'of.-Anti-Magic Shell - use to soak high incoming magic damage; it generates '\n  \"runic power.-Icebound Fortitude - use when you're taking high damage or are \"\n  'about to, or to break and become immune to stuns.-Death Grip - when you '\n  'need to close the distance to your target or interrupt a crucial cast. The '\n  'adds on Kilrogg Deadeye is a good example of the uses of Death Grip-Wraith '\n  \"Walk - useful for closing distances and clearing root or slow effects.I'll \"\n  'be preparing basic guides for Blood, Frost and Unholy specs, but those '\n  \"aren't coming before Legion release.For now, as I said, this was meant to \"\n  \"cover the very basics of the class for people who haven't played Death \"\n  'Knight before.',\n  'other',\n  'other'],\n ['[Guide]Death Knight 101 (Updated for 7.03)',\n  '22/05/2014 13:38',\n  'Emilboc',\n  'verry nice work! i hope u make a good guide for 2h frost dk, maybe a '\n  'youtube guide, with stats , enchants, glyph s , best comps for 2v2, 3v3.. '\n  'for PVP Great job!!!!!',\n  'pvp',\n  'other'],\n ['[Guide]Death Knight 101 (Updated for 7.03)',\n  '22/05/2014 23:15',\n  'Hakuteiken',\n  '22/05/2014 14:38Posted by Emilbocmaybe a youtube guideI wish! Sadly my PC '\n  \"isn't hi-tech enough for me to have good FPS while recording.I've been more \"\n  \"or less out of the PvP scene but I'll see what I can do; will take some \"\n  'time though :D',\n  'pvp',\n  'other'],\n ['[Guide]Death Knight 101 (Updated for 7.03)',\n  '23/05/2014 05:28',\n  'Néró',\n  'Please never use CLC for your ability maximisation, ever.  Not only will it '\n  'often make bad decisions for you, it allows you no room to grow so even as '\n  \"a beginner's tool it's degenerative at best.  There's really only one way \"\n  'to master a spec: Spend days in front of a training dummy.  If you are new, '\n  \"spend an hour reading, then several more practicing; there's no shortcut.I \"\n  \"didn't see a mention of the of AMZ and how it interacts with our abilities \"\n  'and our stat weights.  AMS soaking is literally the most important skill in '\n  'the development of a DK player, giving about an equal boost to Frost and '\n  'Unholy.  I would have liked to see it highlighted in the guide and '\n  'specifically how it devalues our haste rating, and why if you simply refuse '\n  \"to use it (there are some out there), you're actually supposed to reforge \"\n  'and gem into haste up to one of the GCD breakpoints.  Maybe leave out the '\n  '/cancelaura macro for newbies though, they can browse the EJ thread for '\n  'that later.Addons deserve a mention too I suppose.  A good runic power '\n  'tracker, decent visible rune trackers and DKDiseases, which is an absolute '\n  'requirement for Unholy and to an extent Frost for the icon that monitors '\n  'Soul Reaper.Maybe also give a brief shoutout to Festerblight if a new '\n  'player comes back here to see where they should advance to when they have '\n  'the basics down.  Even though Tricks was nerfed and we no longer have '\n  'Fether, FB still has its place on certain bosses.',\n  'other',\n  'other'],\n ['[Guide]Death Knight 101 (Updated for 7.03)',\n  '23/05/2014 08:17',\n  'Hakuteiken',\n  \"Thanks Socratex for your suggestions. I've made a note of them; I was \"\n  'pretty close to the character limit on the OP as it was so those will be '\n  'guides for another day. 23/05/2014 06:28Posted by SocratexPlease never use '\n  'CLC for your ability maximisation, ever.I recommended it for beginners '\n  \"until they're more familiar with how their spec works. That's how I did it, \"\n  'and it worked out well for me.Your point about AMS soaking is a good one '\n  'but delving into stat weights and scaling and GCD breakpoints might seem '\n  'highly complicated and intimidating to the person starting a DK for the '\n  'first time. Just keeping it simple; guides for another day, though '\n  \"honestly, I don't worry myself too much with that sort of thing in my own \"\n  \"game play. It's enough to know the stat priority and how to optimize \"\n  'reforges and gemming.23/05/2014 06:28Posted by SocratexAddons deserve a '\n  'mention too I suppose. A good runic power tracker, decent visible rune '\n  'trackers and DKDiseases, which is an absolute requirement for Unholy and to '\n  'an extent Frost for the icon that monitors Soul Reaper.Okay, so you said '\n  'not to use CLC DK but you want addons for stuff that you can do yourself if '\n  \"you keep your eyes open? Sorry, it doesn't make much sense. CLC DK will \"\n  'track all of the above for you and suggest an ability to use based on '\n  \"available runes, runic power, buffs and procs. It's a pretty good addon and \"\n  \"it only gives suggestions; it's not meant to replace a person's own \"\n  'initiative.',\n  'other',\n  'other'],\n ['[Guide]Death Knight 101 (Updated for 7.03)',\n  '23/05/2014 15:05',\n  'Kyuubi',\n  'Fantastic work really. I go on dk forum regularly waiting for your posts '\n  'about dks. They are extremely helpful but one day I see you making a whole '\n  'guide topic. I jumped from joy when I saw it.Expecting to see Unholy guide '\n  'though. I really hate frost sorry. Also if you decide to make a youtube '\n  'channel. I will be your first sub :) Cheers ^^EDIT: Sticky requested!',\n  'other',\n  'other'],\n ['[Guide]Death Knight 101 (Updated for 7.03)',\n  '23/05/2014 15:49',\n  'Takralus',\n  'Lovely guide, thanks Hakuteiken!',\n  'other',\n  'other'],\n ['[Guide]Death Knight 101 (Updated for 7.03)',\n  '23/05/2014 16:02',\n  'Néró',\n  'Well, with addons and and UI in general, you always walk the fine line '\n  'between tracking useful information in an intuitive way that lets you make '\n  'intelligent decisions, and setting up a pseudo-auto pilot.  Afflic locks '\n  'fall into the latter IMO, and end up just staring at their bars the whole '\n  'fight.Tracking your blood tap charges, your runes, runic power, your '\n  'available buffs, the strength of your diseases as Unholy ect, allows you to '\n  'have all the info you need to hand, with the decision down to you of what '\n  'to press.  CLC technically just provides suggestions of useful abilities, '\n  \"but I imagine if I was new, I'd just the suggestions as the gospel \"\n  \"'correct' answer.  I suppose using the Soul Reaper icon from DKDiseases as \"\n  'Frost is the closest thing to a CLC addon, but really, who when the boss '\n  'reaches 35% is going to open their character sheet, make a split second '\n  'mental note of their AP and Wep damage and quickly work out (((Weapon min '\n  'damage + weapon max damage)/2) *1.3 + (2.4 *(X/ 14)))*1.15*1.04*0.68 + '\n  '(60000 +1.2X)*1.15*1.05 < (499 + 0.8487X) * 1.10*1.05*1.15 *Mastery value '\n  'to know if they should use SR?  We have to use the tracker for this because '\n  \"it's broke on Blizz's end.Also, if you can get all the info you need to \"\n  \"play a DK to a decent standard from that abysmal standard UI, you're a damn \"\n  \"better player than me.  Especially the rune tracker that hasn't been \"\n  'updated even after the 6 rune system finished.',\n  'other',\n  'other'],\n ['[Guide]Death Knight 101 (Updated for 7.03)',\n  '23/05/2014 16:12',\n  'Hakuteiken',\n  \"23/05/2014 17:02Posted by SocratexI'd just the suggestions as the gospel \"\n  \"'correct' answer.Fair point but I should point out that the newer versions \"\n  'of CLC DK allows you to add or remove abilities within the \"rotation\". I '\n  'can have it add Empower Rune Weapon for me if I want to, Outbreak, Death '\n  'and Decay. I can even set it to Festerblight rotation for me if I '\n  'want.23/05/2014 17:02Posted by SocratexAlso, if you can get all the info '\n  'you need to play a DK to a decent standard from that abysmal standard UI, '\n  \"you're a damn better player than me.Haha! When I'm not tanking on in arena \"\n  'or RBGs I have myself set as focus which helps me track my buffs; also I '\n  'use ExtraCD which tracks the cool down of my trinkets and legendary cloak '\n  'allowing me to align my cool downs for when everything is up. I used to do '\n  'that by following my buffs on the focus frame but ExtraCD makes it so much '\n  \"easier and streamlined; don't have all the other buffs clogging up my view. \"\n  'Other than that I have no UI modifications.23/05/2014 16:05Posted by '\n  'EronekoExpecting to see Unholy guide though.Already working on it '\n  ':P23/05/2014 16:49Posted by TakralusLovely guide, thanks Hakuteiken!Many '\n  'thanks :) I have achieved greatness!',\n  'other',\n  'other'],\n ['[Guide]Death Knight 101 (Updated for 7.03)',\n  '23/05/2014 17:31',\n  'Néró',\n  'I guess we have very different ideas of what easy and streamlined are.  '\n  'Having to look in opposite corners of a monitor for info that I need to '\n  'hand all the time (BT charges, runes), is so backwards to me.This is what I '\n  \"use:  http://i.imgur.com/FBpCEKq.jpg?1For all the other buffs, well I can't \"\n  'think of more important info to be tracking to really max out your '\n  'playstyle...  What separates an OK player from a really good player comes '\n  'down to buff tracking alone imo.  How on earth do you time PoF and ideal '\n  \"ERW? GEV MAI UR SECRETZ!  I'd not track the metagem or legendary procs ofc; \"\n  \"they're so passive and proc so often they're not part of any meaningful \"\n  \"decision making process, and I don't track it on any of my chars.And for \"\n  'the customisation of CLC, I still worry that new players would only play '\n  'with the custom settings after some time when the damage is done and the '\n  'bad habits are set...  I just had a play with it now and it recommended PS '\n  'over HB on Garrosh with the P1 adds, just because my main target (the '\n  'Wolfrider), had no Blood Plague.  It was also recommending pestilence for '\n  'some strange reason.  I still think it has no place for DKs and should be '\n  'avoided like the plague (pun totally intended!).',\n  'other',\n  'other']]\n"
     ]
    }
   ],
   "source": [
    "posts_with_game_type = {}\n",
    "\n",
    "posts_with_game_type[currentClass[0]] = []\n",
    "for post in posts_by_class[currentClass[0]]:\n",
    "    # print(post[2] + '\\t' + post[0]\n",
    "    #       + '-\\t\\tpvp:\\t' + str(post[3].lower().find(WowClassesResources.GameType.PVP))\n",
    "    #       + '\\t\\tpve:\\t' + str(post[3].lower().find(WowClassesResources.GameType.PVE)))\n",
    "    updatedPost = post\n",
    "    updatedPost.append(WowClassesResources.GameType.OTHER)\n",
    "    pvpIndex = post[3].lower().find(WowClassesResources.GameType.PVP)\n",
    "    pveIndex = post[3].lower().find(WowClassesResources.GameType.PVE)\n",
    "    if pvpIndex == -1 and pveIndex == -1:\n",
    "        updatedPost[4] = WowClassesResources.GameType.OTHER\n",
    "    elif pvpIndex != -1 and pveIndex == -1:\n",
    "        updatedPost[4] = WowClassesResources.GameType.PVP\n",
    "    elif pvpIndex == -1 and pveIndex != -1:\n",
    "        updatedPost[4] = WowClassesResources.GameType.PVE\n",
    "    elif pvpIndex <= pveIndex:\n",
    "        updatedPost[4] = WowClassesResources.GameType.PVP\n",
    "    else:\n",
    "        updatedPost[4] = WowClassesResources.GameType.PVE\n",
    "    posts_with_game_type[currentClass[0]].append(updatedPost)\n",
    "\n",
    "# pprint(posts_with_game_type[currentClass[0]][:10])\n",
    "pprint(posts_by_class[currentClass[0]][:10])"
   ]
  },
  {
   "cell_type": "code",
   "execution_count": 7,
   "metadata": {},
   "outputs": [
    {
     "name": "stdout",
     "output_type": "stream",
     "text": [
      "other   pvp   pve \n30021  3064  1101 \nNone\n"
     ]
    },
    {
     "data": {
      "image/png": "[encoded data removed]",
      "text/plain": [
       "<matplotlib.figure.Figure at 0x86d0ac8>"
      ]
     },
     "metadata": {},
     "output_type": "display_data"
    },
    {
     "name": "stdout",
     "output_type": "stream",
     "text": [
      "None\n"
     ]
    }
   ],
   "source": [
    "# plot histogram of findings\n",
    "import matplotlib.pyplot as plt\n",
    "import numpy\n",
    "post_game_type_distribution = [post[4] for post in posts_with_game_type[currentClass[0]]]\n",
    "\n",
    "fdistGameType = nltk.FreqDist(post_game_type_distribution)\n",
    "pprint(fdistGameType.tabulate())\n",
    "pprint(fdistGameType.plot())"
   ]
  },
  {
   "cell_type": "code",
   "execution_count": null,
   "metadata": {},
   "outputs": [],
   "source": [
    ""
   ]
  }
 ],
 "metadata": {
  "kernelspec": {
   "display_name": "Python 2",
   "language": "python",
   "name": "python2"
  },
  "language_info": {
   "codemirror_mode": {
    "name": "ipython",
    "version": 2.0
   },
   "file_extension": ".py",
   "mimetype": "text/x-python",
   "name": "python",
   "nbconvert_exporter": "python",
   "pygments_lexer": "ipython2",
   "version": "2.7.6"
  }
 },
 "nbformat": 4,
 "nbformat_minor": 0
}