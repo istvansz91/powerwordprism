{
 "cells": [
  {
   "cell_type": "code",
   "execution_count": 1,
   "metadata": {
    "collapsed": true
   },
   "outputs": [
    {
     "name": "stderr",
     "output_type": "stream",
     "text": [
      "D:\\Soft\\python351\\lib\\site-packages\\nltk\\twitter\\__init__.py:20: UserWarning: The twython library has not been installed. Some functionality from the twitter package will not be available.\n  warnings.warn(\"The twython library has not been installed. \"\n"
     ]
    }
   ],
   "source": [
    "from bs4 import BeautifulSoup\n",
    "from pprint import pprint\n",
    "from urllib import request\n",
    "from nltk import sent_tokenize\n",
    "import nltk.data\n",
    "from nltk.corpus import stopwords\n",
    "# import matplotlib.pyplot as plt\n",
    "import nltk\n",
    "import json\n",
    "import time\n",
    "import sys\n",
    "import re\n",
    "import numpy\n",
    "from nltk.sentiment import vader\n",
    "from nltk.sentiment.vader import SentimentIntensityAnalyzer\n",
    "import math\n",
    "\n",
    "nltk.data.path.append('D:/WS/MSc/TMP/nltk_data')\n",
    "\n",
    "RESOURCES_PATH_LINKS = 'Resources/Corpora/EU/Links/'\n",
    "RESOURCES_PATH_POSTS = 'Resources/Corpora/EU/Posts/'\n",
    "RESOURCES_COMPLETE_CORPORA_FILENAME = 'complete_wow_class_posts_dict'\n",
    "\n",
    "\n",
    "class WowClassesResources:\n",
    "\n",
    "    def __init__(self):\n",
    "        None\n",
    "\n",
    "    WOW_FORUM_ROOT_URL_EU = 'http://eu.battle.net'\n",
    "    WOW_FORUM_ROOT_URL_US = 'http://us.battle.net'\n",
    "    WOW_FORUM_MID_URL = '/forums/en/wow/'\n",
    "    URL_PAGE_ATTRIBUTE = \"?page=\"\n",
    "\n",
    "    WOW_CLASS_LIST_EU = [('Death Knight', \"874789/\"),\n",
    "                      ('Demon Hunter', \"19369494/\"),\n",
    "                      ('Druid', \"874790/\"),\n",
    "                      ('Hunter', \"874791/\"),\n",
    "                      ('Mage', \"874792/\"),\n",
    "                      ('Monk', \"6038099/\"),\n",
    "                      ('Paladin', \"874793/\"),\n",
    "                      ('Priest', \"874794/\"),\n",
    "                      ('Rogue', \"874795/\"),\n",
    "                      ('Shaman', \"874796/\"),\n",
    "                      ('Warlock', \"874929/\"),\n",
    "                      ('Warrior', \"874930/\")]\n",
    "    WOW_CLASS_LIST_US = [('Death Knight', \"1012662/\"),\n",
    "                      ('Demon Hunter', \"22813967/\"),\n",
    "                      ('Druid', \"1012663/\"),\n",
    "                      ('Hunter', \"1012664/\"),\n",
    "                      ('Mage', \"1012760/\"),\n",
    "                      ('Monk', \"7379141/\"),\n",
    "                      ('Paladin', \"1012668/\"),\n",
    "                      ('Priest', \"1012666/\"),\n",
    "                      ('Rogue', \"1012667/\"),\n",
    "                      ('Shaman', \"1012669/\"),\n",
    "                      ('Warlock', \"1012670/\"),\n",
    "                      ('Warrior', \"1012759/\")]\n",
    "\n",
    "    class GameType:\n",
    "        # PVP: 2v2 3v3 5v5 cc\n",
    "        # AB, AV, BET, DR, Efc, EotS, FC, FR, FRR, IoC, LH, LM, Mid, MT, SW, Stags,\n",
    "        # SoTA, SSM, ST, TB, ToK, TP, TP, WG, WSG, WV, WW, arena\n",
    "        PVP = 'pvp'\n",
    "        # PVE: heroic, mythic, mythic+, m+, scenario, boss, mobs, time-walking\n",
    "        # LFR\n",
    "        # ZF, WC, VC, DM, Ulda, UBRS, Strat, Stocks, Stockade, ST, AH, SM, SH, SFK, Scholo, RFK, RFD, RFC, MC, Mara, LBRS, Gnomer, DM Warpwood, DM East, BWL, BRD, BFD, AQ40, TAQ, AQ10, RAQ,\n",
    "        PVE = 'pve'\n",
    "        OTHER = 'other'\n",
    "        PVP_CRITERIA = ['pvp', '2v2', '3v3', '5v5', 'cc',\n",
    "                        'AB', 'AV', 'BET', 'DR', 'Efc', 'EotS', 'FC', 'FR', 'FRR', 'IoC',\n",
    "                        'LH', 'LM', 'Mid', 'MT', 'SW', 'Stags', 'SoTA', 'SSM', 'ST', 'TB',\n",
    "                        'ToK', 'TP', 'TP', 'WG', 'WSG', 'WV', 'WW',\n",
    "                        'arena', 'bg', 'rbg', 'warsong', 'flag', 'capture', 'fr', 'fc', 'ftw',\n",
    "                        'duel', 'skirmish', 'lom', 'arathi', 'los', 'focus', 'nuke', 'poly',\n",
    "                        'sheep', 'alterac', '2s', '3s', '5s', 'rated', 'rating', 'battleground',\n",
    "                        'battle ground', 'nagrand', 'blade\\'s edge', 'blades edge',\n",
    "                        'tiger\\'s peak', 'tigers peak', 'ashamane\\'s fall', 'ashamanes fall',\n",
    "                        'black rook hold', 'tol\\'viron', 'tolviron', 'dalaran', 'ruins',\n",
    "                        'championship', 'deepwind gorge', 'kotmogu', 'silvershard',\n",
    "                        'twin peaks', 'gilneas', 'strand', 'ashran', 'gladiator', 'mmr',\n",
    "                        'honor', 'prestige']\n",
    "        PVE_CRITERIA = ['pve', 'heroic', 'mythic', 'mythic+', 'm+', 'scenario', 'boss', 'mobs',\n",
    "                        'time-walk', 'time-walking'\n",
    "                        'RFC', 'VC', 'DM', 'WC', 'SFK', 'Stocks', 'Stockade', 'BFD', 'Gnomer',\n",
    "                        'SH', 'SM', 'RFK', 'Mara', 'Ulda', 'DM', 'Warpwood', 'DM', 'East', 'Scholo',\n",
    "                        'RFD', 'Strat', 'ZF', 'BRD', 'ST', 'AH', 'LBRS', 'UBRS', 'AQ', 'RAQ', 'MC',\n",
    "                        'BWL', 'AQ40', 'TAQ', 'Ramps', 'BF', 'SP', 'UB', 'MT', 'AC', 'AS', 'Seth',\n",
    "                        'Seth', 'Halls', 'SV', 'SH', 'Shatt', 'Halls', 'SL', 'Slabs', 'OH',\n",
    "                        'DH', 'DK', 'Durn', 'Mech', 'Bot', 'Arc', 'BM', 'MgT', 'Terrace', 'MrT',\n",
    "                        'HoR', 'Naxx', 'OS', 'Sarth', 'Vault', 'VoA', 'Maly',\n",
    "                        'EoE', 'Uld', 'TC', 'ToC', 'TotC', 'ToGC', '(Heroic)', 'Ony',\n",
    "                        'RS', 'Hal', 'ICC', 'UK', 'UTK', 'Nexus', 'Nex', 'AZN', 'AN', 'ANK',\n",
    "                        'OLD', 'AKO', 'OK', 'DTK', 'VH', 'GD', 'HOS', 'Occ', 'HOL', 'UP', 'Culling',\n",
    "                        'COS', 'Champ', 'ToC', 'FoS', 'PoS', 'TotT', 'BRC', 'SC', 'VP', 'LCoT', 'GB',\n",
    "                        'HoO', 'H-DM', 'H-VC', 'H-SFK', 'ZA', 'ZG', 'ET', 'WoE', 'HoT', 'BH',\n",
    "                        'BoT', 'TFW', 'BWD', 'FL', 'DS', 'SH', 'Scholo', 'TJS', 'SB', 'MP',\n",
    "                        'SPM', 'GSS', 'SNT', 'MV', 'HoF', 'TES', 'ToT', 'SoO', 'BSM', 'Auch', 'SR',\n",
    "                        'GD', 'SBG', 'EB', 'UBRS', 'HM', 'BF', 'BRF', 'HC', 'HFC', 'arc', 'VoW', 'MoS',\n",
    "                        'CoS', 'EN', 'BRH', 'RtK', 'arc', 'ToV', 'VH', 'CoN', 'EoZ', 'NL', 'HoV', 'GR',\n",
    "                        'DHT', 'DT']\n",
    "\n",
    "\n",
    "def save_to_json_file(path, file_name, content, mode):\n",
    "    with open(path + file_name + '.json', mode) as out_file:\n",
    "        json.dump(content, out_file)\n",
    "\n",
    "\n",
    "def read_from_json_file(path, file_name):\n",
    "    try:\n",
    "        with open(path + file_name + '.json', 'r') as in_file:\n",
    "            return json.load(in_file)\n",
    "    except FileNotFoundError as e:\n",
    "        print('File not found, skipping read for: ' + path + file_name)"
   ]
  },
  {
   "cell_type": "code",
   "execution_count": 21,
   "metadata": {
    "collapsed": true
   },
   "outputs": [
    {
     "name": "stdout",
     "output_type": "stream",
     "text": [
      "'scores_auth_Vader_2017-01-20_11-27-22.json'\n'scores_gt_Vader_2017-01-20_11-27-22.json'\n{'Death Knight': {'other': 0.30155338507877666,\n                  'pve': 0.22939665845351648,\n                  'pvp': 0.1940320214521452},\n 'Demon Hunter': {'other': 0.20035210653753024,\n                  'pve': 0.22678166154309826,\n                  'pvp': 0.06320109649122807}}\n"
     ]
    }
   ],
   "source": [
    "from os import listdir\n",
    "from os.path import isfile, join\n",
    "import re\n",
    "\n",
    "SCORE_AUTH_FN = 'scores_auth_'\n",
    "SCORE_GT_FN = 'scores_gt_'\n",
    "ALGORITHM = 'Vader'\n",
    "\n",
    "my_path = 'Resources/Corpora/EU/Scores/'\n",
    "score_auth_files = [f for f in listdir(my_path) if isfile(join(my_path, f))\n",
    "                    and re.search(SCORE_AUTH_FN + ALGORITHM, f)]\n",
    "LATEST_SCORE_AUTH_FN = score_auth_files[-1]\n",
    "pprint(LATEST_SCORE_AUTH_FN)\n",
    "\n",
    "score_gt_files = [f for f in listdir(my_path) if isfile(join(my_path, f))\n",
    "                  and re.search(SCORE_GT_FN + ALGORITHM, f)]\n",
    "LATEST_SCORE_GT_FN = score_gt_files[-1]\n",
    "pprint(LATEST_SCORE_GT_FN)\n",
    " \n",
    "scores_auth_meta = read_from_json_file(my_path, LATEST_SCORE_AUTH_FN.replace('.json', ''))\n",
    "# pprint(scores_auth)\n",
    "scores_gt_meta = read_from_json_file(my_path, LATEST_SCORE_GT_FN.replace('.json', ''))\n",
    "scores_gt = scores_gt_meta['score']\n",
    "scores_auth = scores_auth_meta['score']\n",
    "pprint(scores_gt)"
   ]
  },
  {
   "cell_type": "code",
   "execution_count": 44,
   "metadata": {
    "collapsed": false
   },
   "outputs": [],
   "source": [
    "import matplotlib.pyplot as plt\n",
    "import numpy as np\n",
    "\n",
    "\n",
    "def bar_plot_gt_score(class_name, score_dict):\n",
    "    data = [(key, value) for key, value in score_dict.items()]\n",
    "    print(data)\n",
    "    plt.rcdefaults()\n",
    "\n",
    "    fig, ax = plt.subplots()\n",
    "\n",
    "    # Example data\n",
    "    gt = [gt_e for (gt_e, sc_e) in data]\n",
    "    y_pos = np.arange(len(gt))\n",
    "    score = [sc_e for (gt_e, sc_e) in data]\n",
    "    # error = np.random.rand(len(gt))\n",
    "\n",
    "    ax.barh(y_pos, score, align='center',\n",
    "            color='green', ecolor='black')\n",
    "    ax.set_yticks(y_pos)\n",
    "    ax.set_yticklabels(gt)\n",
    "    ax.invert_yaxis()  # labels read top-to-bottom\n",
    "    ax.set_xlabel('Score')\n",
    "    ax.set_title('Sentiment overview of ' + class_name)\n",
    "\n",
    "    plt.savefig(my_path + class_name + '.png')\n",
    "    plt.show()"
   ]
  },
  {
   "cell_type": "code",
   "execution_count": 45,
   "metadata": {},
   "outputs": [
    {
     "name": "stdout",
     "output_type": "stream",
     "text": [
      "[('pvp', 0.06320109649122807), ('pve', 0.22678166154309826), ('other', 0.20035210653753024)]\n"
     ]
    },
    {
     "data": {
      "text/plain": [
       "<matplotlib.figure.Figure at 0x80399b0>"
      ]
     },
     "execution_count": 0,
     "metadata": {},
     "output_type": "execute_result"
    },
    {
     "data": {
      "image/png": "[encoded data removed]",
      "text/plain": [
       "<matplotlib.figure.Figure at 0xa5c82b0>"
      ]
     },
     "metadata": {},
     "output_type": "display_data"
    },
    {
     "name": "stdout",
     "output_type": "stream",
     "text": [
      "[('pvp', 0.1940320214521452), ('pve', 0.22939665845351648), ('other', 0.30155338507877666)]\n"
     ]
    },
    {
     "data": {
      "image/png": "[encoded data removed]",
      "text/plain": [
       "<matplotlib.figure.Figure at 0x8034128>"
      ]
     },
     "metadata": {},
     "output_type": "display_data"
    }
   ],
   "source": [
    "for wow_class, score_dict in scores_gt.items():\n",
    "    bar_plot_gt_score(wow_class, score_dict)"
   ]
  }
 ],
 "metadata": {
  "kernelspec": {
   "display_name": "Python 2",
   "language": "python",
   "name": "python2"
  },
  "language_info": {
   "codemirror_mode": {
    "name": "ipython",
    "version": 2.0
   },
   "file_extension": ".py",
   "mimetype": "text/x-python",
   "name": "python",
   "nbconvert_exporter": "python",
   "pygments_lexer": "ipython2",
   "version": "2.7.6"
  }
 },
 "nbformat": 4,
 "nbformat_minor": 0
}