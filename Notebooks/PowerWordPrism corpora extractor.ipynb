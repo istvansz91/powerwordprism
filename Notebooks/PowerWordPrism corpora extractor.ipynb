{
 "cells": [
  {
   "cell_type": "code",
   "execution_count": 1,
   "metadata": {
    "collapsed": true,
    "scrolled": false
   },
   "outputs": [
    {
     "name": "stdout",
     "output_type": "stream",
     "text": [
      "('Death Knight', 'http://eu.battle.net/forums/en/wow/874789/')\n"
     ]
    },
    {
     "name": "stdout",
     "output_type": "stream",
     "text": [
      "\n\n\n<html xmlns=\"http://www.w3.org/1999/xhtml\">\n\n<head>\n\t<meta http-equiv=\"X-UA-Compatible\" content=\"\n"
     ]
    }
   ],
   "source": [
    "from bs4 import BeautifulSoup\n",
    "from pprint import pprint\n",
    "from urllib import request\n",
    "\n",
    "import json\n",
    "import time\n",
    "\n",
    "\n",
    "class WowClassesResources:\n",
    "\n",
    "    def __init__(self):\n",
    "        None\n",
    "\n",
    "    WOW_FORUM_ROOT_URL_EU = 'http://eu.battle.net'\n",
    "    WOW_FORUM_ROOT_URL_US = 'http://us.battle.net'\n",
    "    WOW_FORUM_MID_URL = '/forums/en/wow/'\n",
    "    URL_PAGE_ATTRIBUTE = \"?page=\"\n",
    "\n",
    "    WOW_CLASS_LIST_EU = [('Death Knight', \"874789/\"),\n",
    "                      ('Demon Hunter', \"19369494/\"),\n",
    "                      ('Druid', \"874790/\"),\n",
    "                      ('Hunter', \"874791/\"),\n",
    "                      ('Mage', \"874792/\"),\n",
    "                      ('Monk', \"6038099/\"),\n",
    "                      ('Paladin', \"874793/\"),\n",
    "                      ('Priest', \"874794/\"),\n",
    "                      ('Rogue', \"874795/\"),\n",
    "                      ('Shaman', \"874796/\"),\n",
    "                      ('Warlock', \"874929/\"),\n",
    "                      ('Warrior', \"874930/\")]\n",
    "    WOW_CLASS_LIST_US = [('Death Knight', \"1012662/\"),\n",
    "                      ('Demon Hunter', \"22813967/\"),\n",
    "                      ('Druid', \"1012663/\"),\n",
    "                      ('Hunter', \"1012664/\"),\n",
    "                      ('Mage', \"1012760/\"),\n",
    "                      ('Monk', \"7379141/\"),\n",
    "                      ('Paladin', \"1012668/\"),\n",
    "                      ('Priest', \"1012666/\"),\n",
    "                      ('Rogue', \"1012667/\"),\n",
    "                      ('Shaman', \"1012669/\"),\n",
    "                      ('Warlock', \"1012670/\"),\n",
    "                      ('Warrior', \"1012759/\")]\n",
    "\n",
    "    class GameType:\n",
    "        # PVP: 2v2 3v3 5v5\n",
    "        PVP = 'pvp'\n",
    "        PVE = 'pve'\n",
    "        OTHER = 'other'\n",
    "\n",
    "WOW_TOPIC_URLS_EU = \\\n",
    "    [(c, WowClassesResources.WOW_FORUM_ROOT_URL_EU + WowClassesResources.WOW_FORUM_MID_URL + u)\n",
    "     for (c, u) in WowClassesResources.WOW_CLASS_LIST_EU]\n",
    "\n",
    "print(WOW_TOPIC_URLS_EU[0])\n",
    "url = WOW_TOPIC_URLS_EU[0][1]\n",
    "# req = request.Request(url)\n",
    "response = request.urlopen(url)\n",
    "html = response.read().decode('utf8')\n",
    "print(html[:100])"
   ]
  },
  {
   "cell_type": "code",
   "execution_count": 7,
   "metadata": {
    "collapsed": false,
    "scrolled": true
   },
   "outputs": [],
   "source": [
    "def get_page_content(url):\n",
    "    attempt_number = 0\n",
    "    while True:\n",
    "        attempt_number += 1\n",
    "        if attempt_number > 5:\n",
    "            return None\n",
    "        try:\n",
    "            response = request.urlopen(url)\n",
    "        except request.HTTPError as e:\n",
    "            print('HTTPError = ' + str(e.code))\n",
    "            continue\n",
    "        except Exception as e:\n",
    "            print(e)\n",
    "            continue\n",
    "        except e:\n",
    "            print(e)\n",
    "            continue\n",
    "        html = response.read().decode('utf8')\n",
    "        break\n",
    "    return html\n",
    "\n",
    "\n",
    "def topic_scrape(forum_url):\n",
    "    all_links = []\n",
    "    i = 1\n",
    "    while True:\n",
    "        html = get_page_content(forum_url + WowClassesResources.URL_PAGE_ATTRIBUTE + str(i))\n",
    "        if html is None:\n",
    "            return []\n",
    "        bs_html = BeautifulSoup(html, \"html.parser\")\n",
    "\n",
    "        all_link_elements = bs_html.find_all(\"a\", class_=\"ForumTopic\")\n",
    "        # pprint(all_link_elements)\n",
    "        link_count = len(all_link_elements)\n",
    "        print(str(i) + ' ' + str(link_count))\n",
    "\n",
    "        if link_count == 0:\n",
    "            print('Exiting')\n",
    "            break\n",
    "        for a in all_link_elements:\n",
    "            # print a\n",
    "            title = a.find(class_='ForumTopic-title').get_text().strip()\n",
    "            # print title\n",
    "            all_links.append((a['href'], title))\n",
    "        i += 1\n",
    "        time.sleep(3)\n",
    "    return all_links\n",
    "\n",
    "\n",
    "def extract_topic(topic_title_url_tuple):\n",
    "    topic_url_ending = topic_title_url_tuple[0]\n",
    "    topic_title = topic_title_url_tuple[1]\n",
    "    pprint('[' + topic_title + '] (' + topic_url_ending + ')')\n",
    "    all_posts = []\n",
    "    i = 1\n",
    "    while True:\n",
    "        html = get_page_content(\n",
    "            WowClassesResources.WOW_FORUM_ROOT_URL_EU + topic_url_ending + WowClassesResources.URL_PAGE_ATTRIBUTE + str(\n",
    "                i))\n",
    "        if html is None:\n",
    "            return []\n",
    "        bs_html = BeautifulSoup(html, \"html.parser\")\n",
    "\n",
    "        all_topic_post_elements = bs_html.find_all(\"div\", class_=\"TopicPost-content\")\n",
    "        # pprint(all_topic_post_elements)\n",
    "        link_count = len(all_topic_post_elements)\n",
    "        # print str(i) + ' ' + str(link_count)\n",
    "\n",
    "        if link_count == 0:\n",
    "            print('Exiting')\n",
    "            break\n",
    "        for element in all_topic_post_elements:\n",
    "            # print a\n",
    "            post_body = element.find(class_='TopicPost-bodyContent').get_text().strip()\n",
    "            post_date = element.find(\"a\", class_='TopicPost-timestamp')['data-tooltip-content']\n",
    "            author_element = element.find(\"span\", class_='Author-name')\n",
    "            if author_element is not None:\n",
    "                # post_author = '<UNKNOWN>'\n",
    "                if author_element.a is not None:\n",
    "                    post_author = author_element.a.get_text().strip()\n",
    "                else:\n",
    "                    post_author = author_element.get_text().strip()\n",
    "                all_posts.append((topic_title, post_date, post_author, post_body))\n",
    "        i += 1\n",
    "        time.sleep(5)\n",
    "    pprint('posts: ' + str(len(all_posts)))\n",
    "    return all_posts\n",
    "\n",
    "\n",
    "def save_to_json_file(path, file_name, topic_content_tuple_list, mode):\n",
    "    with open(path + file_name + '.json', mode) as out_file:\n",
    "        json.dump(topic_content_tuple_list, out_file)\n",
    "\n",
    "\n",
    "def read_from_json_file(path, file_name):\n",
    "    with open(path + file_name + '.json', 'r') as in_file:\n",
    "        return json.load(in_file)"
   ]
  },
  {
   "cell_type": "code",
   "execution_count": 8,
   "metadata": {
    "collapsed": true
   },
   "outputs": [
    {
     "name": "stdout",
     "output_type": "stream",
     "text": [
      "Current Class: Demon Hunter, URL: http://eu.battle.net/forums/en/wow/19369494/\n"
     ]
    }
   ],
   "source": [
    "# READ CURRENT CLASS TO WORK WITH\n",
    "currentClass = WOW_TOPIC_URLS_EU[1]\n",
    "print('Current Class: ' + currentClass[0] + ', URL: ' + currentClass[1])"
   ]
  },
  {
   "cell_type": "code",
   "execution_count": null,
   "metadata": {
    "collapsed": false
   },
   "outputs": [
    {
     "name": "stdout",
     "output_type": "stream",
     "text": [
      "Death Knight\nhttp://eu.battle.net/forums/en/wow/874789/\n"
     ]
    }
   ],
   "source": [
    "# RUN TOPIC LINK EXTRACTION (ON CURRENT CLASS)\n",
    "corpora_links = {}\n",
    "currentClass_links = topic_scrape(currentClass[1])\n",
    "corpora_links[currentClass[0]] = currentClass_links\n",
    "pprint(corpora_links[currentClass[0]][:10])"
   ]
  },
  {
   "cell_type": "code",
   "execution_count": 7,
   "metadata": {
    "collapsed": true
   },
   "outputs": [],
   "source": [
    "# SAVE EXTRACTED LINKS\n",
    "save_to_json_file('Resources/Corpora/EU/Links/', 'corpora_topic_links_' + currentClass[0],\n",
    "                  corpora_links, 'w')"
   ]
  },
  {
   "cell_type": "code",
   "execution_count": 9,
   "metadata": {},
   "outputs": [
    {
     "name": "stdout",
     "output_type": "stream",
     "text": [
      "dict_keys(['Demon Hunter'])\n[['/forums/en/wow/topic/17613051842', 'Demon Hunter - Havoc in Legion 7.0.3'],\n ['/forums/en/wow/topic/17614542632', 'DH tanks?']]\n"
     ]
    }
   ],
   "source": [
    "# READ LINKS FOR A CLASS FROM FILE\n",
    "read_corpora_links_instance \\\n",
    "    = read_from_json_file('Resources/Corpora/EU/Links/', 'corpora_topic_links_' + currentClass[0])\n",
    "pprint(read_corpora_links_instance.keys())\n",
    "pprint(read_corpora_links_instance[currentClass[0]][:2])"
   ]
  },
  {
   "cell_type": "code",
   "execution_count": 10,
   "metadata": {
    "collapsed": false
   },
   "outputs": [
    {
     "name": "stdout",
     "output_type": "stream",
     "text": [
      "'[Demon Hunter - Havoc in Legion 7.0.3] (/forums/en/wow/topic/17613051842)'\n"
     ]
    },
    {
     "name": "stdout",
     "output_type": "stream",
     "text": [
      "Exiting\n'posts: 36'\nPROGRESS: 0% (1/1099)\n'[DH tanks?] (/forums/en/wow/topic/17614542632)'\n"
     ]
    },
    {
     "name": "stdout",
     "output_type": "stream",
     "text": [
      "Exiting\n'posts: 26'\nPROGRESS: 0% (2/1099)\n'[Rate DH T-mog above you! p2] (/forums/en/wow/topic/17613693084)'\n"
     ]
    },
    {
     "name": "stdout",
     "output_type": "stream",
     "text": [
      "HTTPError = 404\n"
     ]
    },
    {
     "name": "stdout",
     "output_type": "stream",
     "text": [
      "Exiting\n'posts: 264'\nPROGRESS: 0% (3/1099)\n'[So the Vengeance changes seem pretty good] (/forums/en/wow/topic/17614454826)'\n"
     ]
    },
    {
     "name": "stdout",
     "output_type": "stream",
     "text": [
      "HTTPError = 404\n"
     ]
    },
    {
     "name": "stdout",
     "output_type": "stream",
     "text": [
      "Exiting\n'posts: 38'\nPROGRESS: 0% (4/1099)\n'[Lack of Skills and Abilities] (/forums/en/wow/topic/17614484627)'\n"
     ]
    },
    {
     "name": "stdout",
     "output_type": "stream",
     "text": [
      "Exiting\n'posts: 15'\nPROGRESS: 0% (5/1099)\n'[Sigh... Blizzard Please...] (/forums/en/wow/topic/17614503956)'\n"
     ]
    },
    {
     "name": "stdout",
     "output_type": "stream",
     "text": [
      "Exiting\n'posts: 21'\nPROGRESS: 0% (6/1099)\n'[Spell Scaling Issues and Solutions] (/forums/en/wow/topic/17614514623)'\n"
     ]
    },
    {
     "name": "stdout",
     "output_type": "stream",
     "text": [
      "Exiting\n'posts: 5'\nPROGRESS: 0% (7/1099)\n'[Mana rift] (/forums/en/wow/topic/17614464733)'\n"
     ]
    },
    {
     "name": "stdout",
     "output_type": "stream",
     "text": [
      "Exiting\n'posts: 2'\nPROGRESS: 0% (8/1099)\n'[New PTR Build] (/forums/en/wow/topic/17614464644)'\n"
     ]
    },
    {
     "name": "stdout",
     "output_type": "stream",
     "text": [
      "HTTPError = 404\n"
     ]
    },
    {
     "name": "stdout",
     "output_type": "stream",
     "text": [
      "Exiting\n'posts: 11'\nPROGRESS: 0% (9/1099)\n'[Fel Rush Fix (URGENT!)] (/forums/en/wow/topic/17613342377)'\n"
     ]
    },
    {
     "name": "stdout",
     "output_type": "stream",
     "text": [
      "HTTPError = 404\n"
     ]
    },
    {
     "name": "stdout",
     "output_type": "stream",
     "text": [
      "HTTPError = 404\n"
     ]
    },
    {
     "name": "stdout",
     "output_type": "stream",
     "text": [
      "Exiting\n'posts: 45'\nPROGRESS: 0% (10/1099)\n'[Any DH stream?] (/forums/en/wow/topic/17614262400)'\n"
     ]
    },
    {
     "name": "stdout",
     "output_type": "stream",
     "text": [
      "HTTPError = 404\n"
     ]
    },
    {
     "name": "stdout",
     "output_type": "stream",
     "text": [
      "Exiting\n'posts: 6'\nPROGRESS: 1% (11/1099)\n'[7.1.5 Havoc PvP perspective] (/forums/en/wow/topic/17614422335)'\n"
     ]
    },
    {
     "name": "stdout",
     "output_type": "stream",
     "text": [
      "Exiting\n'posts: 17'\nPROGRESS: 1% (12/1099)\n'[Any DH Wallpapers] (/forums/en/wow/topic/17614542884)'\n"
     ]
    },
    {
     "name": "stdout",
     "output_type": "stream",
     "text": [
      "Exiting\n'posts: 6'\nPROGRESS: 1% (13/1099)\n'[Rain from above is ruined] (/forums/en/wow/topic/17614553739)'\n"
     ]
    },
    {
     "name": "stdout",
     "output_type": "stream",
     "text": [
      "Exiting\n'posts: 5'\nPROGRESS: 1% (14/1099)\n'[AOTHG stealth nerfed on Live Confirmed] (/forums/en/wow/topic/17614413004)'\n"
     ]
    },
    {
     "name": "stdout",
     "output_type": "stream",
     "text": [
      "Exiting\n'posts: 25'\nPROGRESS: 1% (15/1099)\n'[Two questions on Veng mechanics] (/forums/en/wow/topic/17614474405)'\n"
     ]
    },
    {
     "name": "stdout",
     "output_type": "stream",
     "text": [
      "Exiting\n'posts: 3'\nPROGRESS: 1% (16/1099)\n'[Demon Blades] (/forums/en/wow/topic/17614502815)'\n"
     ]
    },
    {
     "name": "stdout",
     "output_type": "stream",
     "text": [
      "Exiting\n'posts: 29'\nPROGRESS: 1% (17/1099)\n('[Our problems seem obvious, how to fix them?] '\n '(/forums/en/wow/topic/17614494241)')\n"
     ]
    },
    {
     "name": "stdout",
     "output_type": "stream",
     "text": [
      "HTTPError = 404\n"
     ]
    },
    {
     "name": "stdout",
     "output_type": "stream",
     "text": [
      "Exiting\n'posts: 2'\nPROGRESS: 1% (18/1099)\n'[Ask Mr Robot Generic 885 ST Sims] (/forums/en/wow/topic/17614404323)'\n"
     ]
    },
    {
     "name": "stdout",
     "output_type": "stream",
     "text": [
      "Exiting\n'posts: 17'\nPROGRESS: 1% (19/1099)\n'[What if the third spec was ranged?] (/forums/en/wow/topic/17613783370)'\n"
     ]
    },
    {
     "name": "stdout",
     "output_type": "stream",
     "text": [
      "Exiting\n'posts: 33'\nPROGRESS: 1% (20/1099)\n('[7.1.5 lets fix Dh with that way for both pve + pvp] '\n '(/forums/en/wow/topic/17614404193)')\nHTTPError = 404\n"
     ]
    },
    {
     "name": "stdout",
     "output_type": "stream",
     "text": [
      "HTTPError = 404\n"
     ]
    },
    {
     "name": "stdout",
     "output_type": "stream",
     "text": [
      "HTTPError = 404\n"
     ]
    },
    {
     "name": "stdout",
     "output_type": "stream",
     "text": [
      "Exiting\n'posts: 82'\nPROGRESS: 1% (21/1099)\n'[Havoc needs help with myth] (/forums/en/wow/topic/17614454287)'\n"
     ]
    },
    {
     "name": "stdout",
     "output_type": "stream",
     "text": [
      "Exiting\n'posts: 9'\nPROGRESS: 2% (22/1099)\n'[Fist Weapons] (/forums/en/wow/topic/17614432336)'\n"
     ]
    },
    {
     "name": "stdout",
     "output_type": "stream",
     "text": [
      "Exiting\n'posts: 15'\nPROGRESS: 2% (23/1099)\n'[Normal Felskin set is amazing!] (/forums/en/wow/topic/17614424280)'\nHTTPError = 404\n"
     ]
    },
    {
     "name": "stdout",
     "output_type": "stream",
     "text": [
      "Exiting\n'posts: 2'\nPROGRESS: 2% (24/1099)\n'[Veng DH - Aggro Loss] (/forums/en/wow/topic/17614484013)'\n"
     ]
    },
    {
     "name": "stdout",
     "output_type": "stream",
     "text": [
      "Exiting\n'posts: 6'\nPROGRESS: 2% (25/1099)\n'[Tome problems] (/forums/en/wow/topic/17614474252)'\n"
     ]
    },
    {
     "name": "stdout",
     "output_type": "stream",
     "text": [
      "HTTPError = 404\n"
     ]
    },
    {
     "name": "stdout",
     "output_type": "stream",
     "text": [
      "Exiting\n'posts: 2'\nPROGRESS: 2% (26/1099)\n'[7.15 Havoc, has blizzard lost it?] (/forums/en/wow/topic/17614501276)'\n"
     ]
    },
    {
     "name": "stdout",
     "output_type": "stream",
     "text": [
      "HTTPError = 404\n"
     ]
    },
    {
     "name": "stdout",
     "output_type": "stream",
     "text": [
      "HTTPError = 404\n"
     ]
    },
    {
     "name": "stdout",
     "output_type": "stream",
     "text": [
      "Exiting\n'posts: 81'\nPROGRESS: 2% (27/1099)\n'[[Havoc DH] Chaos Burn problem] (/forums/en/wow/topic/17614504221)'\n"
     ]
    },
    {
     "name": "stdout",
     "output_type": "stream",
     "text": [
      "HTTPError = 404\n"
     ]
    },
    {
     "name": "stdout",
     "output_type": "stream",
     "text": [
      "Exiting\n'posts: 8'\nPROGRESS: 2% (28/1099)\n'[Demon Hunter And Leech] (/forums/en/wow/topic/17613392122)'\nHTTPError = 404\nHTTPError = 404\n"
     ]
    },
    {
     "name": "stdout",
     "output_type": "stream",
     "text": [
      "HTTPError = 404\n"
     ]
    },
    {
     "name": "stdout",
     "output_type": "stream",
     "text": [
      "Exiting\n'posts: 18'\nPROGRESS: 2% (29/1099)\n'[Dh 2v2] (/forums/en/wow/topic/17614493271)'\n"
     ]
    },
    {
     "name": "stdout",
     "output_type": "stream",
     "text": [
      "Exiting\n'posts: 5'\nPROGRESS: 2% (30/1099)\n'[The irony] (/forums/en/wow/topic/17614464011)'\n"
     ]
    },
    {
     "name": "stdout",
     "output_type": "stream",
     "text": [
      "Exiting\n'posts: 18'\nPROGRESS: 2% (31/1099)\n\"[Demon Speed nerf ... don't go there!] (/forums/en/wow/topic/17614453012)\"\n"
     ]
    },
    {
     "name": "stdout",
     "output_type": "stream",
     "text": [
      "Exiting\n'posts: 20'\nPROGRESS: 2% (32/1099)\n'[Vengeance and Sephuz.] (/forums/en/wow/topic/17614423905)'\n"
     ]
    },
    {
     "name": "stdout",
     "output_type": "stream",
     "text": [
      "HTTPError = 404\n"
     ]
    },
    {
     "name": "stdout",
     "output_type": "stream",
     "text": [
      "Exiting\n'posts: 5'\nPROGRESS: 3% (33/1099)\n'[Time to discuss Fel Rush DC again] (/forums/en/wow/topic/17614423354)'\n"
     ]
    },
    {
     "name": "stdout",
     "output_type": "stream",
     "text": [
      "Exiting\n'posts: 8'\nPROGRESS: 3% (34/1099)\n'[Felblade or flame crash?] (/forums/en/wow/topic/17614473665)'\n"
     ]
    },
    {
     "name": "stdout",
     "output_type": "stream",
     "text": [
      "Exiting\n'posts: 9'\nPROGRESS: 3% (35/1099)\n'[Dps for DH tank.] (/forums/en/wow/topic/17614452539)'\n"
     ]
    },
    {
     "name": "stdout",
     "output_type": "stream",
     "text": [
      "Exiting\n'posts: 18'\nPROGRESS: 3% (36/1099)\n('[Legendary ring for DH with attack speed buff!!] '\n '(/forums/en/wow/topic/17614181296)')\n"
     ]
    },
    {
     "name": "stdout",
     "output_type": "stream",
     "text": [
      "Exiting\n'posts: 15'\nPROGRESS: 3% (37/1099)\n'[Worlds Highest Rated DH, here to help] (/forums/en/wow/topic/17614111841)'\n"
     ]
    },
    {
     "name": "stdout",
     "output_type": "stream",
     "text": [
      "Exiting\n'posts: 50'\nPROGRESS: 3% (38/1099)\n'[Vengeance stats baffle me] (/forums/en/wow/topic/17614513741)'\n"
     ]
    },
    {
     "name": "stdout",
     "output_type": "stream",
     "text": [
      "HTTPError = 404\n"
     ]
    },
    {
     "name": "stdout",
     "output_type": "stream",
     "text": [
      "Exiting\n'posts: 6'\nPROGRESS: 3% (39/1099)\n'[DH dps problem - need suggestions] (/forums/en/wow/topic/17614513717)'\n"
     ]
    },
    {
     "name": "stdout",
     "output_type": "stream",
     "text": [
      "HTTPError = 404\n"
     ]
    },
    {
     "name": "stdout",
     "output_type": "stream",
     "text": [
      "Exiting\n'posts: 3'\nPROGRESS: 3% (40/1099)\n'[PTR Question about Demonic Appetite] (/forums/en/wow/topic/17614403269)'\n"
     ]
    },
    {
     "name": "stdout",
     "output_type": "stream",
     "text": [
      "HTTPError = 404\n"
     ]
    },
    {
     "name": "stdout",
     "output_type": "stream",
     "text": [
      "Exiting\n'posts: 9'\nPROGRESS: 3% (41/1099)\n('[Easy way to get the Hidden tank appereance] '\n '(/forums/en/wow/topic/17614463384)')\n"
     ]
    },
    {
     "name": "stdout",
     "output_type": "stream",
     "text": [
      "HTTPError = 404\n"
     ]
    },
    {
     "name": "stdout",
     "output_type": "stream",
     "text": [
      "HTTPError = 404\n"
     ]
    },
    {
     "name": "stdout",
     "output_type": "stream",
     "text": [
      "Exiting\n'posts: 4'\nPROGRESS: 3% (42/1099)\n'[Fel Rush DCs] (/forums/en/wow/topic/17614462205)'\n"
     ]
    },
    {
     "name": "stdout",
     "output_type": "stream",
     "text": [
      "HTTPError = 404\n"
     ]
    },
    {
     "name": "stdout",
     "output_type": "stream",
     "text": [
      "Exiting\n'posts: 14'\nPROGRESS: 3% (43/1099)\n'[Low DPS - Your Input] (/forums/en/wow/topic/17614483569)'\n"
     ]
    },
    {
     "name": "stdout",
     "output_type": "stream",
     "text": [
      "Exiting\n'posts: 4'\nPROGRESS: 4% (44/1099)\n'[Talent question] (/forums/en/wow/topic/17614413385)'\n"
     ]
    },
    {
     "name": "stdout",
     "output_type": "stream",
     "text": [
      "HTTPError = 404\n"
     ]
    },
    {
     "name": "stdout",
     "output_type": "stream",
     "text": [
      "Exiting\n'posts: 3'\nPROGRESS: 4% (45/1099)\n'[3 spec] (/forums/en/wow/topic/17614542642)'\n"
     ]
    },
    {
     "name": "stdout",
     "output_type": "stream",
     "text": [
      "Exiting\n'posts: 1'\nPROGRESS: 4% (46/1099)\n'[There we go again] (/forums/en/wow/topic/17614481633)'\n"
     ]
    },
    {
     "name": "stdout",
     "output_type": "stream",
     "text": [
      "HTTPError = 404\n"
     ]
    },
    {
     "name": "stdout",
     "output_type": "stream",
     "text": [
      "Exiting\n'posts: 24'\nPROGRESS: 4% (47/1099)\n'[My fun just doubled!] (/forums/en/wow/topic/17614473613)'\n"
     ]
    },
    {
     "name": "stdout",
     "output_type": "stream",
     "text": [
      "Exiting\n'posts: 5'\nPROGRESS: 4% (48/1099)\n'[DH tank in pvp-arenas/bgs] (/forums/en/wow/topic/17614513567)'\n"
     ]
    },
    {
     "name": "stdout",
     "output_type": "stream",
     "text": [
      "Exiting\n'posts: 1'\nPROGRESS: 4% (49/1099)\n'[help in dueling dh] (/forums/en/wow/topic/17614503573)'\n"
     ]
    },
    {
     "name": "stdout",
     "output_type": "stream",
     "text": [
      "HTTPError = 404\n"
     ]
    },
    {
     "name": "stdout",
     "output_type": "stream",
     "text": [
      "Exiting\n'posts: 6'\nPROGRESS: 4% (50/1099)\n'[Disconnect Hunter] (/forums/en/wow/topic/17614131364)'\n"
     ]
    },
    {
     "name": "stdout",
     "output_type": "stream",
     "text": [
      "HTTPError = 404\n"
     ]
    },
    {
     "name": "stdout",
     "output_type": "stream",
     "text": [
      "Exiting\n'posts: 24'\nPROGRESS: 4% (51/1099)\n'[Demon Blades question] (/forums/en/wow/topic/17614472786)'\n"
     ]
    },
    {
     "name": "stdout",
     "output_type": "stream",
     "text": [
      "HTTPError = 404\n"
     ]
    },
    {
     "name": "stdout",
     "output_type": "stream",
     "text": [
      "Exiting\n'posts: 17'\nPROGRESS: 4% (52/1099)\n'[Felblade Suggestion] (/forums/en/wow/topic/17614431623)'\n"
     ]
    },
    {
     "name": "stdout",
     "output_type": "stream",
     "text": [
      "Exiting\n'posts: 21'\nPROGRESS: 4% (53/1099)\n'[Nerf DH] (/forums/en/wow/topic/17614492557)'\n"
     ]
    },
    {
     "name": "stdout",
     "output_type": "stream",
     "text": [
      "HTTPError = 404\n"
     ]
    },
    {
     "name": "stdout",
     "output_type": "stream",
     "text": [
      "Exiting\n'posts: 10'\nPROGRESS: 4% (54/1099)\n('[[Twinblades of the Deceiver] Violet recolor] '\n '(/forums/en/wow/topic/17614552114)')\n"
     ]
    },
    {
     "name": "stdout",
     "output_type": "stream",
     "text": [
      "HTTPError = 404\n"
     ]
    },
    {
     "name": "stdout",
     "output_type": "stream",
     "text": [
      "HTTPError = 404\n"
     ]
    },
    {
     "name": "stdout",
     "output_type": "stream",
     "text": [
      "Exiting\n'posts: 3'\nPROGRESS: 5% (55/1099)\n'[Demonic Trample Macro Help] (/forums/en/wow/topic/17614453075)'\n"
     ]
    },
    {
     "name": "stdout",
     "output_type": "stream",
     "text": [
      "Exiting\n'posts: 2'\nPROGRESS: 5% (56/1099)\n'[Why are Vengeance legendaries such trash?] (/forums/en/wow/topic/17614483117)'\n"
     ]
    },
    {
     "name": "stdout",
     "output_type": "stream",
     "text": [
      "HTTPError = 404\n"
     ]
    },
    {
     "name": "stdout",
     "output_type": "stream",
     "text": [
      "Exiting\n'posts: 2'\nPROGRESS: 5% (57/1099)\n('[DH Ring nerfed by 67% proof - join ptr post] '\n '(/forums/en/wow/topic/17614511813)')\n"
     ]
    },
    {
     "name": "stdout",
     "output_type": "stream",
     "text": [
      "Exiting\n'posts: 5'\nPROGRESS: 5% (58/1099)\n'[Demon Huntard Mobility] (/forums/en/wow/topic/17613725172)'\n"
     ]
    },
    {
     "name": "stdout",
     "output_type": "stream",
     "text": [
      "Exiting\n'posts: 32'\nPROGRESS: 5% (59/1099)\n\"[Can't see lots of havoc now] (/forums/en/wow/topic/17614382280)\"\n"
     ]
    },
    {
     "name": "stdout",
     "output_type": "stream",
     "text": [
      "Exiting\n'posts: 36'\nPROGRESS: 5% (60/1099)\n'[DHs in Europe, make your voices heard!] (/forums/en/wow/topic/17613763296)'\n"
     ]
    },
    {
     "name": "stdout",
     "output_type": "stream",
     "text": [
      "Exiting\n'posts: 123'\nPROGRESS: 5% (61/1099)\n'[i know it sounds silly but true..] (/forums/en/wow/topic/17614491981)'\n"
     ]
    },
    {
     "name": "stdout",
     "output_type": "stream",
     "text": [
      "Exiting\n'posts: 9'\nPROGRESS: 5% (62/1099)\n'[Chance against tank specced classes] (/forums/en/wow/topic/17614473081)'\nHTTPError = 404\n"
     ]
    },
    {
     "name": "stdout",
     "output_type": "stream",
     "text": [
      "Exiting\n'posts: 1'\nPROGRESS: 5% (63/1099)\n'[Eye of Guarm and BIS trinkets] (/forums/en/wow/topic/17614422501)'\n"
     ]
    },
    {
     "name": "stdout",
     "output_type": "stream",
     "text": [
      "Exiting\n'posts: 2'\nPROGRESS: 5% (64/1099)\n'[AOE] (/forums/en/wow/topic/17614461867)'\n"
     ]
    },
    {
     "name": "stdout",
     "output_type": "stream",
     "text": [
      "Exiting\n'posts: 4'\nPROGRESS: 5% (65/1099)\n'[Slow offhand] (/forums/en/wow/topic/17614492502)'\n"
     ]
    },
    {
     "name": "stdout",
     "output_type": "stream",
     "text": [
      "HTTPError = 404\n"
     ]
    },
    {
     "name": "stdout",
     "output_type": "stream",
     "text": [
      "Exiting\n'posts: 9'\nPROGRESS: 6% (66/1099)\n'[Wdf No buff to Loramus boots?] (/forums/en/wow/topic/17614472183)'\n"
     ]
    },
    {
     "name": "stdout",
     "output_type": "stream",
     "text": [
      "HTTPError = 404\n"
     ]
    },
    {
     "name": "stdout",
     "output_type": "stream",
     "text": [
      "Exiting\n'posts: 8'\nPROGRESS: 6% (67/1099)\n'[dk or frost dk?] (/forums/en/wow/topic/17614462761)'\n"
     ]
    },
    {
     "name": "stdout",
     "output_type": "stream",
     "text": [
      "HTTPError = 404\n"
     ]
    },
    {
     "name": "stdout",
     "output_type": "stream",
     "text": [
      "Exiting\n'posts: 2'\nPROGRESS: 6% (68/1099)\n\"[about DH's in skirmishes/random vs RATED] (/forums/en/wow/topic/17614551705)\"\n"
     ]
    },
    {
     "name": "stdout",
     "output_type": "stream",
     "text": [
      "Exiting\n'posts: 1'\nPROGRESS: 6% (69/1099)\n('[I made a huge post about why Momentum was still best] '\n '(/forums/en/wow/topic/17614511942)')\n"
     ]
    },
    {
     "name": "stdout",
     "output_type": "stream",
     "text": [
      "HTTPError = 404\n"
     ]
    },
    {
     "name": "stdout",
     "output_type": "stream",
     "text": [
      "Exiting\n'posts: 17'\nPROGRESS: 6% (70/1099)\n'[please nerf anger of the half giants ring] (/forums/en/wow/topic/17613775025)'\n"
     ]
    },
    {
     "name": "stdout",
     "output_type": "stream",
     "text": [
      "HTTPError = 404\n"
     ]
    },
    {
     "name": "stdout",
     "output_type": "stream",
     "text": [
      "HTTPError = 404\n"
     ]
    },
    {
     "name": "stdout",
     "output_type": "stream",
     "text": [
      "HTTPError = 404\n"
     ]
    },
    {
     "name": "stdout",
     "output_type": "stream",
     "text": [
      "HTTPError = 404\n"
     ]
    },
    {
     "name": "stdout",
     "output_type": "stream",
     "text": [
      "HTTPError = 404\n"
     ]
    },
    {
     "name": "stdout",
     "output_type": "stream",
     "text": [
      "Exiting\n'posts: 212'\nPROGRESS: 6% (71/1099)\n'[Vengeance > Havoc on ST PTR] (/forums/en/wow/topic/17614411957)'\n"
     ]
    },
    {
     "name": "stdout",
     "output_type": "stream",
     "text": [
      "HTTPError = 404\n"
     ]
    },
    {
     "name": "stdout",
     "output_type": "stream",
     "text": [
      "HTTPError = 404\n"
     ]
    },
    {
     "name": "stdout",
     "output_type": "stream",
     "text": [
      "Exiting\n'posts: 7'\nPROGRESS: 6% (72/1099)\n('[7.1.5 Chaos cleave increse cs damage on st too !!] '\n '(/forums/en/wow/topic/17614442047)')\n"
     ]
    },
    {
     "name": "stdout",
     "output_type": "stream",
     "text": [
      "Exiting\n'posts: 25'\nPROGRESS: 6% (73/1099)\n'[How to play a DH] (/forums/en/wow/topic/17614461954)'\n"
     ]
    },
    {
     "name": "stdout",
     "output_type": "stream",
     "text": [
      "Exiting\n'posts: 13'\nPROGRESS: 6% (74/1099)\n'[How about removing Monumentum completely?] (/forums/en/wow/topic/17614472128)'\n"
     ]
    },
    {
     "name": "stdout",
     "output_type": "stream",
     "text": [
      "Exiting\n'posts: 32'\nPROGRESS: 6% (75/1099)\n'[Should I play DH?] (/forums/en/wow/topic/17614432331)'\n"
     ]
    },
    {
     "name": "stdout",
     "output_type": "stream",
     "text": [
      "Exiting\n'posts: 3'\nPROGRESS: 6% (76/1099)\n'[DH PvP Status?] (/forums/en/wow/topic/17614462216)'\n"
     ]
    },
    {
     "name": "stdout",
     "output_type": "stream",
     "text": [
      "HTTPError = 404\n"
     ]
    },
    {
     "name": "stdout",
     "output_type": "stream",
     "text": [
      "Exiting\n'posts: 5'\nPROGRESS: 7% (77/1099)\n'[Improve Mana Break] (/forums/en/wow/topic/17614301957)'\n"
     ]
    },
    {
     "name": "stdout",
     "output_type": "stream",
     "text": [
      "HTTPError = 404\n"
     ]
    },
    {
     "name": "stdout",
     "output_type": "stream",
     "text": [
      "Exiting\n'posts: 11'\nPROGRESS: 7% (78/1099)\n'[Chaos Damage and Charred Warblades] (/forums/en/wow/topic/17614512151)'\n"
     ]
    },
    {
     "name": "stdout",
     "output_type": "stream",
     "text": [
      "HTTPError = 404\n"
     ]
    },
    {
     "name": "stdout",
     "output_type": "stream",
     "text": [
      "HTTPError = 404\n"
     ]
    },
    {
     "name": "stdout",
     "output_type": "stream",
     "text": [
      "Exiting\n'posts: 1'\nPROGRESS: 7% (79/1099)\n'[108 Talent Row Suggestions (Pve/PvP)] (/forums/en/wow/topic/17614451765)'\nHTTPError = 404\n"
     ]
    },
    {
     "name": "stdout",
     "output_type": "stream",
     "text": [
      "Exiting\n'posts: 5'\nPROGRESS: 7% (80/1099)\n('[Incredible amount of changes comming in 7.1.5] '\n '(/forums/en/wow/topic/17614401266)')\n"
     ]
    },
    {
     "name": "stdout",
     "output_type": "stream",
     "text": [
      "Exiting\n'posts: 44'\nPROGRESS: 7% (81/1099)\n('[Can someone with PTR access actually confirm/deny?] '\n '(/forums/en/wow/topic/17614461959)')\n"
     ]
    },
    {
     "name": "stdout",
     "output_type": "stream",
     "text": [
      "Exiting\n'posts: 8'\nPROGRESS: 7% (82/1099)\n'[Vengeance changes] (/forums/en/wow/topic/17614461311)'\n"
     ]
    },
    {
     "name": "stdout",
     "output_type": "stream",
     "text": [
      "Exiting\n'posts: 32'\nPROGRESS: 7% (83/1099)\n'[Momentum vs Nemesis question] (/forums/en/wow/topic/17614382399)'\n"
     ]
    },
    {
     "name": "stdout",
     "output_type": "stream",
     "text": [
      "Exiting\n'posts: 14'\nPROGRESS: 7% (84/1099)\n'[Relic q] (/forums/en/wow/topic/17614411954)'\n"
     ]
    },
    {
     "name": "stdout",
     "output_type": "stream",
     "text": [
      "Exiting\n'posts: 2'\nPROGRESS: 7% (85/1099)\n\"[It's just too much] (/forums/en/wow/topic/17614441831)\"\n"
     ]
    },
    {
     "name": "stdout",
     "output_type": "stream",
     "text": [
      "HTTPError = 404\n"
     ]
    },
    {
     "name": "stdout",
     "output_type": "stream",
     "text": [
      "Exiting\n'posts: 17'\nPROGRESS: 7% (86/1099)\n('[7.1.5 After a closer look , think about the meta build] '\n '(/forums/en/wow/topic/17614411553)')\n"
     ]
    },
    {
     "name": "stdout",
     "output_type": "stream",
     "text": [
      "Exiting\n'posts: 26'\nPROGRESS: 7% (87/1099)\n'[Fel Rush Dcs] (/forums/en/wow/topic/17614411942)'\n"
     ]
    },
    {
     "name": "stdout",
     "output_type": "stream",
     "text": [
      "Exiting\n'posts: 1'\nPROGRESS: 8% (88/1099)\n'[havoc demon hunter in PTR feels weak..] (/forums/en/wow/topic/17614401873)'\n"
     ]
    },
    {
     "name": "stdout",
     "output_type": "stream",
     "text": [
      "Exiting\n'posts: 5'\nPROGRESS: 8% (89/1099)\n'[I DEMAND JUSTICE!] (/forums/en/wow/topic/17614491642)'\n"
     ]
    },
    {
     "name": "stdout",
     "output_type": "stream",
     "text": [
      "HTTPError = 404\n"
     ]
    },
    {
     "name": "stdout",
     "output_type": "stream",
     "text": [
      "Exiting\n'posts: 10'\nPROGRESS: 8% (90/1099)\n'[Which mythic to tank?] (/forums/en/wow/topic/17614352776)'\n"
     ]
    },
    {
     "name": "stdout",
     "output_type": "stream",
     "text": [
      "Exiting\n'posts: 8'\nPROGRESS: 8% (91/1099)\n('[When can I start doing mythics and M+ after that?] '\n '(/forums/en/wow/topic/17614491754)')\n"
     ]
    },
    {
     "name": "stdout",
     "output_type": "stream",
     "text": [
      "Exiting\n'posts: 2'\nPROGRESS: 8% (92/1099)\n('[Ring NERF = 30% less ST dps on PTR. Period.] '\n '(/forums/en/wow/topic/17614481288)')\n"
     ]
    },
    {
     "name": "stdout",
     "output_type": "stream",
     "text": [
      "Exiting\n'posts: 18'\nPROGRESS: 8% (93/1099)\n('[Vengeance Tanking Mythic 10 and Onwards Possible?] '\n '(/forums/en/wow/topic/17614131476)')\n"
     ]
    },
    {
     "name": "stdout",
     "output_type": "stream",
     "text": [
      "Exiting\n'posts: 16'\nPROGRESS: 8% (94/1099)\n'[Emerald nightmare looking demon hunter?] (/forums/en/wow/topic/17614461718)'\nHTTPError = 404\n"
     ]
    },
    {
     "name": "stdout",
     "output_type": "stream",
     "text": [
      "HTTPError = 404\n"
     ]
    },
    {
     "name": "stdout",
     "output_type": "stream",
     "text": [
      "Exiting\n'posts: 1'\nPROGRESS: 8% (95/1099)\n'[Thank you] (/forums/en/wow/topic/17614461689)'\n"
     ]
    },
    {
     "name": "stdout",
     "output_type": "stream",
     "text": [
      "Exiting\n'posts: 3'\nPROGRESS: 8% (96/1099)\n'[[Vengeance] Stat priority post nerf] (/forums/en/wow/topic/17613482727)'\n"
     ]
    },
    {
     "name": "stdout",
     "output_type": "stream",
     "text": [
      "Exiting\n'posts: 77'\nPROGRESS: 8% (97/1099)\n\"[Oh hey runemaster's pauldrons suck less] (/forums/en/wow/topic/17614411301)\"\n"
     ]
    },
    {
     "name": "stdout",
     "output_type": "stream",
     "text": [
      "Exiting\n'posts: 2'\nPROGRESS: 8% (98/1099)\n'[Jeweled Signet of Melandrus] (/forums/en/wow/topic/17614461625)'\n"
     ]
    },
    {
     "name": "stdout",
     "output_type": "stream",
     "text": [
      "HTTPError = 404\n"
     ]
    },
    {
     "name": "stdout",
     "output_type": "stream",
     "text": [
      "Exiting\n'posts: 2'\nPROGRESS: 9% (99/1099)\n'[Chaos Cleave + DA] (/forums/en/wow/topic/17614511558)'\n"
     ]
    },
    {
     "name": "stdout",
     "output_type": "stream",
     "text": [
      "Exiting\n'posts: 1'\nPROGRESS: 9% (100/1099)\n'[have demons bite changed any on ptr?] (/forums/en/wow/topic/17614491512)'\n"
     ]
    },
    {
     "name": "stdout",
     "output_type": "stream",
     "text": [
      "HTTPError = 404\nHTTPError = 404\nHTTPError = 404\n"
     ]
    },
    {
     "name": "stdout",
     "output_type": "stream",
     "text": [
      "Exiting\n'posts: 2'\nPROGRESS: 9% (101/1099)\n'[Fel Mastery competing with Felblade] (/forums/en/wow/topic/17614481561)'\n"
     ]
    },
    {
     "name": "stdout",
     "output_type": "stream",
     "text": [
      "Exiting\n'posts: 5'\nPROGRESS: 9% (102/1099)\n'[I love my DH but] (/forums/en/wow/topic/17614471569)'\nHTTPError = 404\n"
     ]
    },
    {
     "name": "stdout",
     "output_type": "stream",
     "text": [
      "HTTPError = 404\n"
     ]
    },
    {
     "name": "stdout",
     "output_type": "stream",
     "text": [
      "Exiting\n'posts: 4'\nPROGRESS: 9% (103/1099)\n'[You ever gonna fix Fel Rush?] (/forums/en/wow/topic/17614441534)'\n"
     ]
    },
    {
     "name": "stdout",
     "output_type": "stream",
     "text": [
      "Exiting\n'posts: 1'\nPROGRESS: 9% (104/1099)\n'[Thank you Blizz] (/forums/en/wow/topic/17614491475)'\n"
     ]
    },
    {
     "name": "stdout",
     "output_type": "stream",
     "text": [
      "HTTPError = 404\n"
     ]
    },
    {
     "name": "stdout",
     "output_type": "stream",
     "text": [
      "Exiting\n'posts: 2'\nPROGRESS: 9% (105/1099)\n'[[PVP] Vengeance>Havoc] (/forums/en/wow/topic/17614392235)'\n"
     ]
    },
    {
     "name": "stdout",
     "output_type": "stream",
     "text": [
      "HTTPError = 404\n"
     ]
    },
    {
     "name": "stdout",
     "output_type": "stream",
     "text": [
      "Exiting\n'posts: 5'\nPROGRESS: 9% (106/1099)\n'[Blade Turning] (/forums/en/wow/topic/17614511387)'\nHTTPError = 404\n"
     ]
    },
    {
     "name": "stdout",
     "output_type": "stream",
     "text": [
      "HTTPError = 404\n"
     ]
    },
    {
     "name": "stdout",
     "output_type": "stream",
     "text": [
      "Exiting\n'posts: 2'\nPROGRESS: 9% (107/1099)\n'[big burst or sustain pvp] (/forums/en/wow/topic/17614431323)'\n"
     ]
    },
    {
     "name": "stdout",
     "output_type": "stream",
     "text": [
      "Exiting\n'posts: 2'\nPROGRESS: 9% (108/1099)\n'[New/Updated Generic/DH Legendaries] (/forums/en/wow/topic/17614421375)'\n"
     ]
    },
    {
     "name": "stdout",
     "output_type": "stream",
     "text": [
      "HTTPError = 404\n"
     ]
    },
    {
     "name": "stdout",
     "output_type": "stream",
     "text": [
      "Exiting\n'posts: 1'\nPROGRESS: 9% (109/1099)\n'[havoc or ww ?] (/forums/en/wow/topic/17614282616)'\nHTTPError = 404\n"
     ]
    },
    {
     "name": "stdout",
     "output_type": "stream",
     "text": [
      "Exiting\n'posts: 5'\nPROGRESS: 10% (110/1099)\n'[I need a sempai] (/forums/en/wow/topic/17614411306)'\nHTTPError = 404\n"
     ]
    },
    {
     "name": "stdout",
     "output_type": "stream",
     "text": [
      "Exiting\n'posts: 1'\nPROGRESS: 10% (111/1099)\n'[Is this what Blizzard want for Havok?] (/forums/en/wow/topic/17614401311)'\n"
     ]
    },
    {
     "name": "stdout",
     "output_type": "stream",
     "text": [
      "Exiting\n'posts: 3'\nPROGRESS: 10% (112/1099)\n('[7.1.5 - so much for used Talents going Baseline] '\n '(/forums/en/wow/topic/17614471286)')\n"
     ]
    },
    {
     "name": "stdout",
     "output_type": "stream",
     "text": [
      "Exiting\n'posts: 7'\nPROGRESS: 10% (113/1099)\n(\"[Spirit Bomb doesn't need buffing, it needs..] \"\n '(/forums/en/wow/topic/17614411295)')\n"
     ]
    },
    {
     "name": "stdout",
     "output_type": "stream",
     "text": [
      "Exiting\n'posts: 2'\nPROGRESS: 10% (114/1099)\n'[PTR Changes] (/forums/en/wow/topic/17614411269)'\n"
     ]
    },
    {
     "name": "stdout",
     "output_type": "stream",
     "text": [
      "HTTPError = 404\n"
     ]
    },
    {
     "name": "stdout",
     "output_type": "stream",
     "text": [
      "Exiting\n'posts: 4'\nPROGRESS: 10% (115/1099)\n('[Blur Change (stop giving us movement speed)] '\n '(/forums/en/wow/topic/17614382648)')\n"
     ]
    },
    {
     "name": "stdout",
     "output_type": "stream",
     "text": [
      "Exiting\n'posts: 12'\nPROGRESS: 10% (116/1099)\n'[Current State of DH?] (/forums/en/wow/topic/17614352359)'\n"
     ]
    },
    {
     "name": "stdout",
     "output_type": "stream",
     "text": [
      "Exiting\n'posts: 19'\nPROGRESS: 10% (117/1099)\n'[A more tanky looking DH (permanent Meta)] (/forums/en/wow/topic/17614332221)'\n"
     ]
    },
    {
     "name": "stdout",
     "output_type": "stream",
     "text": [
      "Exiting\n'posts: 4'\nPROGRESS: 10% (118/1099)\n'[DH PVP Status] (/forums/en/wow/topic/17614302367)'\n"
     ]
    },
    {
     "name": "stdout",
     "output_type": "stream",
     "text": [
      "Exiting\n'posts: 10'\nPROGRESS: 10% (119/1099)\n'[DH Tanking - damage taken] (/forums/en/wow/topic/17614352503)'\n"
     ]
    },
    {
     "name": "stdout",
     "output_type": "stream",
     "text": [
      "Exiting\n'posts: 14'\nPROGRESS: 10% (120/1099)\n'[Can you guys please fix Fel Rush?] (/forums/en/wow/topic/17614312518)'\n"
     ]
    },
    {
     "name": "stdout",
     "output_type": "stream",
     "text": [
      "Exiting\n'posts: 5'\nPROGRESS: 11% (121/1099)\n'[DH ST rotation...] (/forums/en/wow/topic/17614281427)'\nHTTPError = 404\n"
     ]
    },
    {
     "name": "stdout",
     "output_type": "stream",
     "text": [
      "Exiting\n'posts: 22'\nPROGRESS: 11% (122/1099)\n'[I AM SICK OF DISCONNECTING after fel rush] (/forums/en/wow/topic/17614282321)'\n"
     ]
    },
    {
     "name": "stdout",
     "output_type": "stream",
     "text": [
      "Exiting\n'posts: 9'\nPROGRESS: 11% (123/1099)\n'[DH or monk. Help] (/forums/en/wow/topic/17614261892)'\n"
     ]
    },
    {
     "name": "stdout",
     "output_type": "stream",
     "text": [
      "Exiting\n'posts: 12'\nPROGRESS: 11% (124/1099)\n'[Auto Glide] (/forums/en/wow/topic/17614391568)'\n"
     ]
    },
    {
     "name": "stdout",
     "output_type": "stream",
     "text": [
      "Exiting\n'posts: 8'\nPROGRESS: 11% (125/1099)\n'[Havoc - Dps advice needed] (/forums/en/wow/topic/17614312292)'\n"
     ]
    },
    {
     "name": "stdout",
     "output_type": "stream",
     "text": [
      "Exiting\n'posts: 11'\nPROGRESS: 11% (126/1099)\n'[Question about vengeance stats] (/forums/en/wow/topic/17614062020)'\n"
     ]
    },
    {
     "name": "stdout",
     "output_type": "stream",
     "text": [
      "HTTPError = 404\n"
     ]
    },
    {
     "name": "stdout",
     "output_type": "stream",
     "text": [
      "Exiting\n'posts: 2'\nPROGRESS: 11% (127/1099)\n'[Vengeance Trinkets] (/forums/en/wow/topic/17614231310)'\n"
     ]
    },
    {
     "name": "stdout",
     "output_type": "stream",
     "text": [
      "Exiting\n'posts: 2'\nPROGRESS: 11% (128/1099)\n'[What if...] (/forums/en/wow/topic/17614201305)'\n"
     ]
    },
    {
     "name": "stdout",
     "output_type": "stream",
     "text": [
      "Exiting\n'posts: 3'\nPROGRESS: 11% (129/1099)\n'[Hand of the Illidari is the only option] (/forums/en/wow/topic/17614282252)'\n"
     ]
    },
    {
     "name": "stdout",
     "output_type": "stream",
     "text": [
      "Exiting\n'posts: 4'\nPROGRESS: 11% (130/1099)\n'[Tanking Help] (/forums/en/wow/topic/17614312246)'\n"
     ]
    },
    {
     "name": "stdout",
     "output_type": "stream",
     "text": [
      "Exiting\n'posts: 2'\nPROGRESS: 11% (131/1099)\n'[Need help of geared tank DH advise!] (/forums/en/wow/topic/17614302386)'\nHTTPError = 404\n"
     ]
    },
    {
     "name": "stdout",
     "output_type": "stream",
     "text": [
      "HTTPError = 404\n"
     ]
    },
    {
     "name": "stdout",
     "output_type": "stream",
     "text": [
      "HTTPError = 404\n"
     ]
    },
    {
     "name": "stdout",
     "output_type": "stream",
     "text": [
      "HTTPError = 404\n"
     ]
    },
    {
     "name": "stdout",
     "output_type": "stream",
     "text": [
      "Exiting\n'posts: 4'\nPROGRESS: 12% (132/1099)\n'[Vengeance Hidden Appearance] (/forums/en/wow/topic/17613784412)'\n"
     ]
    },
    {
     "name": "stdout",
     "output_type": "stream",
     "text": [
      "Exiting\n'posts: 26'\nPROGRESS: 12% (133/1099)\n'[Fel rush disconnect] (/forums/en/wow/topic/17613712722)'\n"
     ]
    },
    {
     "name": "stdout",
     "output_type": "stream",
     "text": [
      "Exiting\n'posts: 17'\nPROGRESS: 12% (134/1099)\n'[Fel Rush DCs are getting annoying] (/forums/en/wow/topic/17614331671)'\n"
     ]
    },
    {
     "name": "stdout",
     "output_type": "stream",
     "text": [
      "Exiting\n'posts: 12'\nPROGRESS: 12% (135/1099)\n'[Vengeance PVP talents] (/forums/en/wow/topic/17614332270)'\nHTTPError = 404\n"
     ]
    },
    {
     "name": "stdout",
     "output_type": "stream",
     "text": [
      "Exiting\n'posts: 1'\nPROGRESS: 12% (136/1099)\n'[Demonic Appetite Orbs] (/forums/en/wow/topic/17614311657)'\n"
     ]
    },
    {
     "name": "stdout",
     "output_type": "stream",
     "text": [
      "Exiting\n'posts: 5'\nPROGRESS: 12% (137/1099)\n'[Demon Blades, is it intended?] (/forums/en/wow/topic/17614031242)'\nHTTPError = 404\n"
     ]
    },
    {
     "name": "stdout",
     "output_type": "stream",
     "text": [
      "Exiting\n'posts: 27'\nPROGRESS: 12% (138/1099)\n'[Mana break vs Resto Druid] (/forums/en/wow/topic/17614281764)'\n"
     ]
    },
    {
     "name": "stdout",
     "output_type": "stream",
     "text": [
      "HTTPError = 404\n"
     ]
    },
    {
     "name": "stdout",
     "output_type": "stream",
     "text": [
      "HTTPError = 404\n"
     ]
    },
    {
     "name": "stdout",
     "output_type": "stream",
     "text": [
      "Exiting\n'posts: 4'\nPROGRESS: 12% (139/1099)\n'[Should I roll a demon hunter?] (/forums/en/wow/topic/17614261427)'\n"
     ]
    },
    {
     "name": "stdout",
     "output_type": "stream",
     "text": [
      "Exiting\n'posts: 15'\nPROGRESS: 12% (140/1099)\n'[I finally hit the wall in m+] (/forums/en/wow/topic/17614032106)'\n"
     ]
    },
    {
     "name": "stdout",
     "output_type": "stream",
     "text": [
      "Exiting\n'posts: 6'\nPROGRESS: 12% (141/1099)\n\"[How are DH's in arena?] (/forums/en/wow/topic/17614331922)\"\n"
     ]
    },
    {
     "name": "stdout",
     "output_type": "stream",
     "text": [
      "Exiting\n'posts: 4'\nPROGRESS: 12% (142/1099)\n'[Single Target DPS] (/forums/en/wow/topic/17614031942)'\n"
     ]
    },
    {
     "name": "stdout",
     "output_type": "stream",
     "text": [
      "HTTPError = 404\n"
     ]
    },
    {
     "name": "stdout",
     "output_type": "stream",
     "text": [
      "Exiting\n'posts: 18'\nPROGRESS: 13% (143/1099)\n(\"[I don't see how demon hunter does low damage] \"\n '(/forums/en/wow/topic/17614281471)')\n"
     ]
    },
    {
     "name": "stdout",
     "output_type": "stream",
     "text": [
      "Exiting\n'posts: 29'\nPROGRESS: 13% (144/1099)\n\"[I've had enough] (/forums/en/wow/topic/17614031815)\"\n"
     ]
    },
    {
     "name": "stdout",
     "output_type": "stream",
     "text": [
      "Exiting\n'posts: 18'\nPROGRESS: 13% (145/1099)\n\"[Buff Demon's Bite] (/forums/en/wow/topic/17613805248)\"\n"
     ]
    },
    {
     "name": "stdout",
     "output_type": "stream",
     "text": [
      "Exiting\n'posts: 15'\nPROGRESS: 13% (146/1099)\n'[Eye beam is a dps loss] (/forums/en/wow/topic/17614301331)'\n"
     ]
    },
    {
     "name": "stdout",
     "output_type": "stream",
     "text": [
      "Exiting\n'posts: 15'\nPROGRESS: 13% (147/1099)\n'[Plz buff] (/forums/en/wow/topic/17614361463)'\n"
     ]
    },
    {
     "name": "stdout",
     "output_type": "stream",
     "text": [
      "Exiting\n'posts: 4'\nPROGRESS: 13% (148/1099)\n('[Demon Hunter Metamorphosis Customization Suggestions] '\n '(/forums/en/wow/topic/17614281467)')\n"
     ]
    },
    {
     "name": "stdout",
     "output_type": "stream",
     "text": [
      "HTTPError = 404\n"
     ]
    },
    {
     "name": "stdout",
     "output_type": "stream",
     "text": [
      "Exiting\n'posts: 2'\nPROGRESS: 13% (149/1099)\n'[Demon Hunter with a pet?] (/forums/en/wow/topic/17614141344)'\n"
     ]
    },
    {
     "name": "stdout",
     "output_type": "stream",
     "text": [
      "Exiting\n'posts: 9'\nPROGRESS: 13% (150/1099)\n'[tanking weapon ilvl] (/forums/en/wow/topic/17614331366)'\n"
     ]
    },
    {
     "name": "stdout",
     "output_type": "stream",
     "text": [
      "Exiting\n'posts: 2'\nPROGRESS: 13% (151/1099)\n'[PROBLEM WITH LEECH ! need fast help] (/forums/en/wow/topic/17614301267)'\nHTTPError = 404\n"
     ]
    },
    {
     "name": "stdout",
     "output_type": "stream",
     "text": [
      "Exiting\n'posts: 5'\nPROGRESS: 13% (152/1099)\n'[What changes are you hoping for 7.1.5?] (/forums/en/wow/topic/17614121966)'\n"
     ]
    },
    {
     "name": "stdout",
     "output_type": "stream",
     "text": [
      "HTTPError = 404\n"
     ]
    },
    {
     "name": "stdout",
     "output_type": "stream",
     "text": [
      "Exiting\n'posts: 13'\nPROGRESS: 13% (153/1099)\n'[Demon hunter artifact scenario bug] (/forums/en/wow/topic/17614231309)'\n"
     ]
    },
    {
     "name": "stdout",
     "output_type": "stream",
     "text": [
      "Exiting\n'posts: 3'\nPROGRESS: 14% (154/1099)\n'[My idea to fix DH Havoc] (/forums/en/wow/topic/17614171265)'\n"
     ]
    },
    {
     "name": "stdout",
     "output_type": "stream",
     "text": [
      "HTTPError = 404\n"
     ]
    },
    {
     "name": "stdout",
     "output_type": "stream",
     "text": [
      "Exiting\n'posts: 4'\nPROGRESS: 14% (155/1099)\n'[Vengeance: Fracture] (/forums/en/wow/topic/17614061506)'\n"
     ]
    },
    {
     "name": "stdout",
     "output_type": "stream",
     "text": [
      "HTTPError = 404\n"
     ]
    },
    {
     "name": "stdout",
     "output_type": "stream",
     "text": [
      "Exiting\n'posts: 6'\nPROGRESS: 14% (156/1099)\n'[Weapon transmog options] (/forums/en/wow/topic/17614231273)'\n"
     ]
    },
    {
     "name": "stdout",
     "output_type": "stream",
     "text": [
      "Exiting\n'posts: 5'\nPROGRESS: 14% (157/1099)\n'[Demon blades stopping attacking] (/forums/en/wow/topic/17614051303)'\nHTTPError = 404\n"
     ]
    },
    {
     "name": "stdout",
     "output_type": "stream",
     "text": [
      "Exiting\n'posts: 14'\nPROGRESS: 14% (158/1099)\n'[Crit related Question] (/forums/en/wow/topic/17614062150)'\n"
     ]
    },
    {
     "name": "stdout",
     "output_type": "stream",
     "text": [
      "Exiting\n'posts: 3'\nPROGRESS: 14% (159/1099)\n\"[Level 107 and no quest's anymore] (/forums/en/wow/topic/17614021960)\"\n"
     ]
    },
    {
     "name": "stdout",
     "output_type": "stream",
     "text": [
      "Exiting\n'posts: 5'\nPROGRESS: 14% (160/1099)\n'[Trinkets] (/forums/en/wow/topic/17614122041)'\n"
     ]
    },
    {
     "name": "stdout",
     "output_type": "stream",
     "text": [
      "Exiting\n'posts: 3'\nPROGRESS: 14% (161/1099)\n'[\"Chaos Nova/Rain from Above bug\"] (/forums/en/wow/topic/17613483178)'\n"
     ]
    },
    {
     "name": "stdout",
     "output_type": "stream",
     "text": [
      "HTTPError = 404\n"
     ]
    },
    {
     "name": "stdout",
     "output_type": "stream",
     "text": [
      "Exiting\n'posts: 2'\nPROGRESS: 14% (162/1099)\n'[VDH good choice for a tank?] (/forums/en/wow/topic/17614111621)'\n"
     ]
    },
    {
     "name": "stdout",
     "output_type": "stream",
     "text": [
      "Exiting\n'posts: 11'\nPROGRESS: 14% (163/1099)\n'[MFW Noxxic recommends Demon Reborn] (/forums/en/wow/topic/17613805254)'\n"
     ]
    },
    {
     "name": "stdout",
     "output_type": "stream",
     "text": [
      "HTTPError = 404\n"
     ]
    },
    {
     "name": "stdout",
     "output_type": "stream",
     "text": [
      "Exiting\n'posts: 56'\nPROGRESS: 14% (164/1099)\n'[Optimal opener on ST bosses?] (/forums/en/wow/topic/17613734828)'\n"
     ]
    },
    {
     "name": "stdout",
     "output_type": "stream",
     "text": [
      "HTTPError = 404\n"
     ]
    },
    {
     "name": "stdout",
     "output_type": "stream",
     "text": [
      "HTTPError = 404\n"
     ]
    },
    {
     "name": "stdout",
     "output_type": "stream",
     "text": [
      "Exiting\n'posts: 9'\nPROGRESS: 15% (165/1099)\n'[One tooltip change can change the class.] (/forums/en/wow/topic/17614041916)'\n"
     ]
    },
    {
     "name": "stdout",
     "output_type": "stream",
     "text": [
      "Exiting\n'posts: 1'\nPROGRESS: 15% (166/1099)\n'[Parry raiting question] (/forums/en/wow/topic/17614051773)'\n"
     ]
    },
    {
     "name": "stdout",
     "output_type": "stream",
     "text": [
      "Exiting\n'posts: 2'\nPROGRESS: 15% (167/1099)\n'[Vengeful Retreat [7.1]] (/forums/en/wow/topic/17614061847)'\n"
     ]
    },
    {
     "name": "stdout",
     "output_type": "stream",
     "text": [
      "HTTPError = 404\n"
     ]
    },
    {
     "name": "stdout",
     "output_type": "stream",
     "text": [
      "Exiting\n'posts: 2'\nPROGRESS: 15% (168/1099)\n'[Havoc/Vengeance PVP] (/forums/en/wow/topic/17614111709)'\n"
     ]
    },
    {
     "name": "stdout",
     "output_type": "stream",
     "text": [
      "Exiting\n'posts: 5'\nPROGRESS: 15% (169/1099)\n'[Reverse magic] (/forums/en/wow/topic/17614041611)'\n"
     ]
    },
    {
     "name": "stdout",
     "output_type": "stream",
     "text": [
      "Exiting\n'posts: 4'\nPROGRESS: 15% (170/1099)\n'[DH Class mount customization] (/forums/en/wow/topic/17614031794)'\n"
     ]
    },
    {
     "name": "stdout",
     "output_type": "stream",
     "text": [
      "HTTPError = 404\nHTTPError = 404\n"
     ]
    },
    {
     "name": "stdout",
     "output_type": "stream",
     "text": [
      "Exiting\n'posts: 5'\nPROGRESS: 15% (171/1099)\n'[Artifact Weapons gone] (/forums/en/wow/topic/17614071895)'\n"
     ]
    },
    {
     "name": "stdout",
     "output_type": "stream",
     "text": [
      "Exiting\n'posts: 2'\nPROGRESS: 15% (172/1099)\n\"[Do DH's suck in Arenas?] (/forums/en/wow/topic/17613735627)\"\n"
     ]
    },
    {
     "name": "stdout",
     "output_type": "stream",
     "text": [
      "Exiting\n'posts: 14'\nPROGRESS: 15% (173/1099)\n'[No DH Class Mount Preview?] (/forums/en/wow/topic/17614051567)'\n"
     ]
    },
    {
     "name": "stdout",
     "output_type": "stream",
     "text": [
      "Exiting\n'posts: 16'\nPROGRESS: 15% (174/1099)\n'[This is unacceptable!] (/forums/en/wow/topic/17613744822)'\n"
     ]
    },
    {
     "name": "stdout",
     "output_type": "stream",
     "text": [
      "Exiting\n'posts: 42'\nPROGRESS: 15% (175/1099)\n(\"[You know we're not even close to rock bottom right?] \"\n '(/forums/en/wow/topic/17614131621)')\n"
     ]
    },
    {
     "name": "stdout",
     "output_type": "stream",
     "text": [
      "Exiting\n'posts: 2'\nPROGRESS: 16% (176/1099)\n'[Blizzard are showing thier design flaws] (/forums/en/wow/topic/17613821208)'\n"
     ]
    },
    {
     "name": "stdout",
     "output_type": "stream",
     "text": [
      "Exiting\n'posts: 4'\nPROGRESS: 16% (177/1099)\n'[DH suggestion for st dps] (/forums/en/wow/topic/17613911257)'\n"
     ]
    },
    {
     "name": "stdout",
     "output_type": "stream",
     "text": [
      "Exiting\n'posts: 12'\nPROGRESS: 16% (178/1099)\n'[Give Us Meta Form Just For Fun] (/forums/en/wow/topic/17614111276)'\n"
     ]
    },
    {
     "name": "stdout",
     "output_type": "stream",
     "text": [
      "Exiting\n'posts: 3'\nPROGRESS: 16% (179/1099)\n'[How to get legendaries as a demonhunter] (/forums/en/wow/topic/17613763134)'\nHTTPError = 404\n"
     ]
    },
    {
     "name": "stdout",
     "output_type": "stream",
     "text": [
      "Exiting\n'posts: 13'\nPROGRESS: 16% (180/1099)\n'[A dh has reached 2.7k! Lets celebrate!!!] (/forums/en/wow/topic/17614111396)'\n"
     ]
    },
    {
     "name": "stdout",
     "output_type": "stream",
     "text": [
      "Exiting\n'posts: 5'\nPROGRESS: 16% (181/1099)\n'[monk vs dh... why bring the dh ?] (/forums/en/wow/topic/17613793862)'\n"
     ]
    },
    {
     "name": "stdout",
     "output_type": "stream",
     "text": [
      "Exiting\n'posts: 29'\nPROGRESS: 16% (182/1099)\n'[Warglaives] (/forums/en/wow/topic/17613971370)'\n"
     ]
    },
    {
     "name": "stdout",
     "output_type": "stream",
     "text": [
      "Exiting\n'posts: 4'\nPROGRESS: 16% (183/1099)\n'[\"BLUR\" ON/OFF Macro] (/forums/en/wow/topic/17614041393)'\n"
     ]
    },
    {
     "name": "stdout",
     "output_type": "stream",
     "text": [
      "Exiting\n'posts: 8'\nPROGRESS: 16% (184/1099)\n'[anger of the half giants] (/forums/en/wow/topic/17614131487)'\n"
     ]
    },
    {
     "name": "stdout",
     "output_type": "stream",
     "text": [
      "HTTPError = 404\n"
     ]
    },
    {
     "name": "stdout",
     "output_type": "stream",
     "text": [
      "Exiting\n'posts: 1'\nPROGRESS: 16% (185/1099)\n'[Demon Blades?] (/forums/en/wow/topic/17614121457)'\n"
     ]
    },
    {
     "name": "stdout",
     "output_type": "stream",
     "text": [
      "HTTPError = 404\n"
     ]
    },
    {
     "name": "stdout",
     "output_type": "stream",
     "text": [
      "HTTPError = 404\n"
     ]
    },
    {
     "name": "stdout",
     "output_type": "stream",
     "text": [
      "Exiting\n'posts: 2'\nPROGRESS: 16% (186/1099)\n'[Roots.] (/forums/en/wow/topic/17614091370)'\n"
     ]
    },
    {
     "name": "stdout",
     "output_type": "stream",
     "text": [
      "Exiting\n'posts: 4'\nPROGRESS: 17% (187/1099)\n'[DH Daily Boss?] (/forums/en/wow/topic/17613795221)'\n"
     ]
    },
    {
     "name": "stdout",
     "output_type": "stream",
     "text": [
      "HTTPError = 404\n"
     ]
    },
    {
     "name": "stdout",
     "output_type": "stream",
     "text": [
      "Exiting\n'posts: 4'\nPROGRESS: 17% (188/1099)\n'[Havoc- Versatility vs Mastery] (/forums/en/wow/topic/17613402157)'\n"
     ]
    },
    {
     "name": "stdout",
     "output_type": "stream",
     "text": [
      "Exiting\n'posts: 19'\nPROGRESS: 17% (189/1099)\n'[DH PVP Help :D?] (/forums/en/wow/topic/17614021272)'\nHTTPError = 404\n"
     ]
    },
    {
     "name": "stdout",
     "output_type": "stream",
     "text": [
      "HTTPError = 404\n"
     ]
    },
    {
     "name": "stdout",
     "output_type": "stream",
     "text": [
      "Exiting\n'posts: 3'\nPROGRESS: 17% (190/1099)\n'[Pvp nerf again] (/forums/en/wow/topic/17613714912)'\n"
     ]
    },
    {
     "name": "stdout",
     "output_type": "stream",
     "text": [
      "Exiting\n'posts: 12'\nPROGRESS: 17% (191/1099)\n'[Trying to do the Black Rook Rumble] (/forums/en/wow/topic/17613745476)'\n"
     ]
    },
    {
     "name": "stdout",
     "output_type": "stream",
     "text": [
      "HTTPError = 404\n"
     ]
    },
    {
     "name": "stdout",
     "output_type": "stream",
     "text": [
      "Exiting\n'posts: 7'\nPROGRESS: 17% (192/1099)\n\"[Chaos Strike nerf/bug after today's patch] (/forums/en/wow/topic/17614001293)\"\n"
     ]
    },
    {
     "name": "stdout",
     "output_type": "stream",
     "text": [
      "Exiting\n'posts: 4'\nPROGRESS: 17% (193/1099)\n'[5% Agility Buff , 10% stamina !!!] (/forums/en/wow/topic/17613951314)'\n"
     ]
    },
    {
     "name": "stdout",
     "output_type": "stream",
     "text": [
      "Exiting\n'posts: 10'\nPROGRESS: 17% (194/1099)\n'[Feast of Souls, Flame Crash Question] (/forums/en/wow/topic/17613981379)'\n"
     ]
    },
    {
     "name": "stdout",
     "output_type": "stream",
     "text": [
      "Exiting\n'posts: 3'\nPROGRESS: 17% (195/1099)\n'[Legendary before ilvl 850?] (/forums/en/wow/topic/17613911232)'\n"
     ]
    },
    {
     "name": "stdout",
     "output_type": "stream",
     "text": [
      "Exiting\n'posts: 7'\nPROGRESS: 17% (196/1099)\n'[Is leech buffed?] (/forums/en/wow/topic/17613971325)'\nHTTPError = 404\n"
     ]
    },
    {
     "name": "stdout",
     "output_type": "stream",
     "text": [
      "HTTPError = 404\n"
     ]
    },
    {
     "name": "stdout",
     "output_type": "stream",
     "text": [
      "Exiting\n'posts: 1'\nPROGRESS: 17% (197/1099)\n'[Choice vs two shoulder items] (/forums/en/wow/topic/17613991304)'\n"
     ]
    },
    {
     "name": "stdout",
     "output_type": "stream",
     "text": [
      "Exiting\n'posts: 3'\nPROGRESS: 18% (198/1099)\n'[How is vengeance doing now?] (/forums/en/wow/topic/17613802527)'\n"
     ]
    },
    {
     "name": "stdout",
     "output_type": "stream",
     "text": [
      "Exiting\n'posts: 23'\nPROGRESS: 18% (199/1099)\n'[Veng trinkets.] (/forums/en/wow/topic/17613785724)'\n"
     ]
    },
    {
     "name": "stdout",
     "output_type": "stream",
     "text": [
      "Exiting\n'posts: 2'\nPROGRESS: 18% (200/1099)\n('[Heavy stealth nerf/bug to chaos strike after 7.1] '\n '(/forums/en/wow/topic/17613745448)')\nHTTPError = 404\n"
     ]
    },
    {
     "name": "stdout",
     "output_type": "stream",
     "text": [
      "Exiting\n'posts: 9'\nPROGRESS: 18% (201/1099)\n(\"[Can DH's transmog glaives into fist weapons?] \"\n '(/forums/en/wow/topic/17613785754)')\n"
     ]
    },
    {
     "name": "stdout",
     "output_type": "stream",
     "text": [
      "Exiting\n'posts: 3'\nPROGRESS: 18% (202/1099)\n('[When a Legendary drop, you will feel excitement] '\n '(/forums/en/wow/topic/17613745454)')\n"
     ]
    },
    {
     "name": "stdout",
     "output_type": "stream",
     "text": [
      "Exiting\n'posts: 9'\nPROGRESS: 18% (203/1099)\n('[Why does mastery gives me a higher dps output?] '\n '(/forums/en/wow/topic/17613724763)')\n"
     ]
    },
    {
     "name": "stdout",
     "output_type": "stream",
     "text": [
      "Exiting\n'posts: 12'\nPROGRESS: 18% (204/1099)\n'[New meta macro in 7.1] (/forums/en/wow/topic/17613804459)'\n"
     ]
    },
    {
     "name": "stdout",
     "output_type": "stream",
     "text": [
      "Exiting\n'posts: 7'\nPROGRESS: 18% (205/1099)\n'[Soul Rending Talent.] (/forums/en/wow/topic/17613765694)'\n"
     ]
    },
    {
     "name": "stdout",
     "output_type": "stream",
     "text": [
      "HTTPError = 404\n"
     ]
    },
    {
     "name": "stdout",
     "output_type": "stream",
     "text": [
      "Exiting\n'posts: 6'\nPROGRESS: 18% (206/1099)\n'[Versatility gear for vengeance DH] (/forums/en/wow/topic/17613774531)'\n"
     ]
    },
    {
     "name": "stdout",
     "output_type": "stream",
     "text": [
      "Exiting\n'posts: 11'\nPROGRESS: 18% (207/1099)\n'[DH PVP is Horrendous!] (/forums/en/wow/topic/17613715080)'\n"
     ]
    },
    {
     "name": "stdout",
     "output_type": "stream",
     "text": [
      "Exiting\n'posts: 4'\nPROGRESS: 18% (208/1099)\n'[Flat havoc damage nerf/bug after 7.1?] (/forums/en/wow/topic/17613764771)'\n"
     ]
    },
    {
     "name": "stdout",
     "output_type": "stream",
     "text": [
      "Exiting\n'posts: 18'\nPROGRESS: 19% (209/1099)\n('[Demon Hunter is bad in PvP and mediocre in PvE] '\n '(/forums/en/wow/topic/17613705060)')\n"
     ]
    },
    {
     "name": "stdout",
     "output_type": "stream",
     "text": [
      "Exiting\n'posts: 16'\nPROGRESS: 19% (210/1099)\n'[Vengeance PvP] (/forums/en/wow/topic/17613341210)'\n"
     ]
    },
    {
     "name": "stdout",
     "output_type": "stream",
     "text": [
      "Exiting\n'posts: 22'\nPROGRESS: 19% (211/1099)\n'[some simple changes to fix dh in pvp !?] (/forums/en/wow/topic/17613785551)'\nHTTPError = 404\n"
     ]
    },
    {
     "name": "stdout",
     "output_type": "stream",
     "text": [
      "HTTPError = 404\nHTTPError = 404\n"
     ]
    },
    {
     "name": "stdout",
     "output_type": "stream",
     "text": [
      "Exiting\n'posts: 2'\nPROGRESS: 19% (212/1099)\n('[Fel rush bugged razer cancel animation macro] '\n '(/forums/en/wow/topic/17613785598)')\n"
     ]
    },
    {
     "name": "stdout",
     "output_type": "stream",
     "text": [
      "Exiting\n'posts: 3'\nPROGRESS: 19% (213/1099)\n'[Fury of the Illidari castable on self] (/forums/en/wow/topic/17613715077)'\n"
     ]
    },
    {
     "name": "stdout",
     "output_type": "stream",
     "text": [
      "Exiting\n'posts: 3'\nPROGRESS: 19% (214/1099)\n'[Best M+ stats for Tanking?] (/forums/en/wow/topic/17613802266)'\n"
     ]
    },
    {
     "name": "stdout",
     "output_type": "stream",
     "text": [
      "Exiting\n'posts: 32'\nPROGRESS: 19% (215/1099)\n'[State of DH as of patch 7.1 [PvP]] (/forums/en/wow/topic/17613805166)'\n"
     ]
    },
    {
     "name": "stdout",
     "output_type": "stream",
     "text": [
      "HTTPError = 404\nHTTPError = 404\n"
     ]
    },
    {
     "name": "stdout",
     "output_type": "stream",
     "text": [
      "Exiting\n'posts: 2'\nPROGRESS: 19% (216/1099)\n'[I got my first Legendary] (/forums/en/wow/topic/17613714748)'\n"
     ]
    },
    {
     "name": "stdout",
     "output_type": "stream",
     "text": [
      "Exiting\n'posts: 8'\nPROGRESS: 19% (217/1099)\n'[havoc hidden artifact question] (/forums/en/wow/topic/17613725700)'\n"
     ]
    },
    {
     "name": "stdout",
     "output_type": "stream",
     "text": [
      "Exiting\n'posts: 2'\nPROGRESS: 19% (218/1099)\n'[Natures call] (/forums/en/wow/topic/17613725543)'\n"
     ]
    },
    {
     "name": "stdout",
     "output_type": "stream",
     "text": [
      "Exiting\n'posts: 12'\nPROGRESS: 19% (219/1099)\n'[Chaos strike] (/forums/en/wow/topic/17613725577)'\n"
     ]
    },
    {
     "name": "stdout",
     "output_type": "stream",
     "text": [
      "HTTPError = 404\n"
     ]
    },
    {
     "name": "stdout",
     "output_type": "stream",
     "text": [
      "Exiting\n'posts: 4'\nPROGRESS: 20% (220/1099)\n'[Reverted Hotfix?] (/forums/en/wow/topic/17613804953)'\nHTTPError = 404\n"
     ]
    },
    {
     "name": "stdout",
     "output_type": "stream",
     "text": [
      "Exiting\n'posts: 2'\nPROGRESS: 20% (221/1099)\n'[New Demon Blades + Felblade] (/forums/en/wow/topic/17613704792)'\n"
     ]
    },
    {
     "name": "stdout",
     "output_type": "stream",
     "text": [
      "Exiting\n'posts: 6'\nPROGRESS: 20% (222/1099)\n'[Fel blade / fel eruption : not that bad ?] (/forums/en/wow/topic/17613804737)'\n"
     ]
    },
    {
     "name": "stdout",
     "output_type": "stream",
     "text": [
      "Exiting\n'posts: 21'\nPROGRESS: 20% (223/1099)\n'[Nemesis no longer on GCD] (/forums/en/wow/topic/17613725590)'\n"
     ]
    },
    {
     "name": "stdout",
     "output_type": "stream",
     "text": [
      "Exiting\n'posts: 2'\nPROGRESS: 20% (224/1099)\n'[need my quests back] (/forums/en/wow/topic/17613755066)'\n"
     ]
    },
    {
     "name": "stdout",
     "output_type": "stream",
     "text": [
      "Exiting\n'posts: 1'\nPROGRESS: 20% (225/1099)\n'[When will the changes in the class?] (/forums/en/wow/topic/17613735228)'\n"
     ]
    },
    {
     "name": "stdout",
     "output_type": "stream",
     "text": [
      "Exiting\n'posts: 1'\nPROGRESS: 20% (226/1099)\n'[Foresee the future] (/forums/en/wow/topic/17613704851)'\n"
     ]
    },
    {
     "name": "stdout",
     "output_type": "stream",
     "text": [
      "HTTPError = 404\n"
     ]
    },
    {
     "name": "stdout",
     "output_type": "stream",
     "text": [
      "Exiting\n'posts: 3'\nPROGRESS: 20% (227/1099)\n'[So... Felblade] (/forums/en/wow/topic/17613765283)'\n"
     ]
    },
    {
     "name": "stdout",
     "output_type": "stream",
     "text": [
      "HTTPError = 404\n"
     ]
    },
    {
     "name": "stdout",
     "output_type": "stream",
     "text": [
      "HTTPError = 404\n"
     ]
    },
    {
     "name": "stdout",
     "output_type": "stream",
     "text": [
      "Exiting\n'posts: 4'\nPROGRESS: 20% (228/1099)\n\"[Raddon's Cascading Eyes] (/forums/en/wow/topic/17613765300)\"\n"
     ]
    },
    {
     "name": "stdout",
     "output_type": "stream",
     "text": [
      "Exiting\n'posts: 6'\nPROGRESS: 20% (229/1099)\n'[Raid tanking DH?] (/forums/en/wow/topic/17613804775)'\n"
     ]
    },
    {
     "name": "stdout",
     "output_type": "stream",
     "text": [
      "HTTPError = 404\n"
     ]
    },
    {
     "name": "stdout",
     "output_type": "stream",
     "text": [
      "Exiting\n'posts: 6'\nPROGRESS: 20% (230/1099)\n'[hows the demon hunter?] (/forums/en/wow/topic/17613725429)'\n"
     ]
    },
    {
     "name": "stdout",
     "output_type": "stream",
     "text": [
      "Exiting\n'posts: 6'\nPROGRESS: 21% (231/1099)\n'[Demon Blades fix GJ] (/forums/en/wow/topic/17613744780)'\n"
     ]
    },
    {
     "name": "stdout",
     "output_type": "stream",
     "text": [
      "Exiting\n'posts: 9'\nPROGRESS: 21% (232/1099)\n'[Disconnect during Fel Rush.] (/forums/en/wow/topic/17613773046)'\n"
     ]
    },
    {
     "name": "stdout",
     "output_type": "stream",
     "text": [
      "HTTPError = 404\n"
     ]
    },
    {
     "name": "stdout",
     "output_type": "stream",
     "text": [
      "Exiting\n'posts: 27'\nPROGRESS: 21% (233/1099)\n'[Illidari tabard] (/forums/en/wow/topic/17613725068)'\n"
     ]
    },
    {
     "name": "stdout",
     "output_type": "stream",
     "text": [
      "Exiting\n'posts: 10'\nPROGRESS: 21% (234/1099)\n'[Help! A choice between three legendaries.] (/forums/en/wow/topic/17613754768)'\n"
     ]
    },
    {
     "name": "stdout",
     "output_type": "stream",
     "text": [
      "Exiting\n'posts: 6'\nPROGRESS: 21% (235/1099)\n('[Why does Demon Blades have to carry such heavy RNG] '\n '(/forums/en/wow/topic/17613725145)')\n"
     ]
    },
    {
     "name": "stdout",
     "output_type": "stream",
     "text": [
      "HTTPError = 404\n"
     ]
    },
    {
     "name": "stdout",
     "output_type": "stream",
     "text": [
      "Exiting\n'posts: 4'\nPROGRESS: 21% (236/1099)\n'[No loot from class hall demon?] (/forums/en/wow/topic/17613491319)'\n"
     ]
    },
    {
     "name": "stdout",
     "output_type": "stream",
     "text": [
      "Exiting\n'posts: 20'\nPROGRESS: 21% (237/1099)\n'[7.1 Demon Blades triggers while on GCD] (/forums/en/wow/topic/17613724487)'\n"
     ]
    },
    {
     "name": "stdout",
     "output_type": "stream",
     "text": [
      "HTTPError = 404\n"
     ]
    },
    {
     "name": "stdout",
     "output_type": "stream",
     "text": [
      "Exiting\n'posts: 21'\nPROGRESS: 21% (238/1099)\n'[Small QoL improvement in 7.1] (/forums/en/wow/topic/17613744966)'\n"
     ]
    },
    {
     "name": "stdout",
     "output_type": "stream",
     "text": [
      "HTTPError = 404\n"
     ]
    },
    {
     "name": "stdout",
     "output_type": "stream",
     "text": [
      "HTTPError = 404\n"
     ]
    },
    {
     "name": "stdout",
     "output_type": "stream",
     "text": [
      "Exiting\n'posts: 1'\nPROGRESS: 21% (239/1099)\n'[Class hall armour colour change] (/forums/en/wow/topic/17613804615)'\n"
     ]
    },
    {
     "name": "stdout",
     "output_type": "stream",
     "text": [
      "Exiting\n'posts: 5'\nPROGRESS: 21% (240/1099)\n'[thx for fixing havoc single target] (/forums/en/wow/topic/17613774665)'\n"
     ]
    },
    {
     "name": "stdout",
     "output_type": "stream",
     "text": [
      "Exiting\n'posts: 8'\nPROGRESS: 21% (241/1099)\n('[Anger of the Half Giants displays different values] '\n '(/forums/en/wow/topic/17613694732)')\n"
     ]
    },
    {
     "name": "stdout",
     "output_type": "stream",
     "text": [
      "Exiting\n'posts: 6'\nPROGRESS: 22% (242/1099)\n'[demonic talent] (/forums/en/wow/topic/17613804623)'\n"
     ]
    },
    {
     "name": "stdout",
     "output_type": "stream",
     "text": [
      "Exiting\n'posts: 5'\nPROGRESS: 22% (243/1099)\n'[Mana Break changed after the Patch.] (/forums/en/wow/topic/17613794690)'\n"
     ]
    },
    {
     "name": "stdout",
     "output_type": "stream",
     "text": [
      "Exiting\n'posts: 3'\nPROGRESS: 22% (244/1099)\n'[Do not continiue or buy legion for DH !] (/forums/en/wow/topic/17613753688)'\n"
     ]
    },
    {
     "name": "stdout",
     "output_type": "stream",
     "text": [
      "Exiting\n'posts: 12'\nPROGRESS: 22% (245/1099)\n'[Why is my DPS bad? (UPDATE 14th October)] (/forums/en/wow/topic/17613731877)'\n"
     ]
    },
    {
     "name": "stdout",
     "output_type": "stream",
     "text": [
      "HTTPError = 404\n"
     ]
    },
    {
     "name": "stdout",
     "output_type": "stream",
     "text": [
      "Exiting\n'posts: 28'\nPROGRESS: 22% (246/1099)\n'[7.1 changes] (/forums/en/wow/topic/17613744375)'\n"
     ]
    },
    {
     "name": "stdout",
     "output_type": "stream",
     "text": [
      "Exiting\n'posts: 11'\nPROGRESS: 22% (247/1099)\n('[Can the damage type on Spirit Bomb be changed to fire?] '\n '(/forums/en/wow/topic/17613724869)')\n"
     ]
    },
    {
     "name": "stdout",
     "output_type": "stream",
     "text": [
      "Exiting\n'posts: 3'\nPROGRESS: 22% (248/1099)\n('[Demon hunter  .......  -59% leech  wtf blizzz] '\n '(/forums/en/wow/topic/17613764829)')\n"
     ]
    },
    {
     "name": "stdout",
     "output_type": "stream",
     "text": [
      "HTTPError = 404\n"
     ]
    },
    {
     "name": "stdout",
     "output_type": "stream",
     "text": [
      "Exiting\n'posts: 6'\nPROGRESS: 22% (249/1099)\n'[Demons Blade] (/forums/en/wow/topic/17613694500)'\n"
     ]
    },
    {
     "name": "stdout",
     "output_type": "stream",
     "text": [
      "Exiting\n'posts: 8'\nPROGRESS: 22% (250/1099)\n'[Woop woop, woop woop woooop] (/forums/en/wow/topic/17613794409)'\n"
     ]
    },
    {
     "name": "stdout",
     "output_type": "stream",
     "text": [
      "HTTPError = 404\n"
     ]
    },
    {
     "name": "stdout",
     "output_type": "stream",
     "text": [
      "HTTPError = 404\n"
     ]
    },
    {
     "name": "stdout",
     "output_type": "stream",
     "text": [
      "Exiting\n'posts: 4'\nPROGRESS: 22% (251/1099)\n'[Dh in the dirt?] (/forums/en/wow/topic/17613753733)'\n"
     ]
    },
    {
     "name": "stdout",
     "output_type": "stream",
     "text": [
      "Exiting\n'posts: 5'\nPROGRESS: 22% (252/1099)\n'[Crit cap] (/forums/en/wow/topic/17613693561)'\n"
     ]
    },
    {
     "name": "stdout",
     "output_type": "stream",
     "text": [
      "Exiting\n'posts: 10'\nPROGRESS: 23% (253/1099)\n'[DH Havoc vs Hunter] (/forums/en/wow/topic/17613774383)'\n"
     ]
    },
    {
     "name": "stdout",
     "output_type": "stream",
     "text": [
      "HTTPError = 404\n"
     ]
    },
    {
     "name": "stdout",
     "output_type": "stream",
     "text": [
      "Exiting\n'posts: 8'\nPROGRESS: 23% (254/1099)\n'[Are we getting more glaives?] (/forums/en/wow/topic/17613693941)'\n"
     ]
    },
    {
     "name": "stdout",
     "output_type": "stream",
     "text": [
      "Exiting\n'posts: 10'\nPROGRESS: 23% (255/1099)\n'[Fury of the illidari buff] (/forums/en/wow/topic/17613764638)'\n"
     ]
    },
    {
     "name": "stdout",
     "output_type": "stream",
     "text": [
      "Exiting\n'posts: 4'\nPROGRESS: 23% (256/1099)\n'[Rate the DH name above you!] (/forums/en/wow/topic/17613783100)'\n"
     ]
    },
    {
     "name": "stdout",
     "output_type": "stream",
     "text": [
      "HTTPError = 404\n"
     ]
    },
    {
     "name": "stdout",
     "output_type": "stream",
     "text": [
      "Exiting\n'posts: 24'\nPROGRESS: 23% (257/1099)\n'[Crafted sets] (/forums/en/wow/topic/17613774439)'\n"
     ]
    },
    {
     "name": "stdout",
     "output_type": "stream",
     "text": [
      "Exiting\n'posts: 1'\nPROGRESS: 23% (258/1099)\n'[Delete Post there was a similar one xD!] (/forums/en/wow/topic/17613754178)'\nHTTPError = 404\n"
     ]
    },
    {
     "name": "stdout",
     "output_type": "stream",
     "text": [
      "Exiting\n'posts: 1'\nPROGRESS: 23% (259/1099)\n'[DH  legendary feedback] (/forums/en/wow/topic/17613764125)'\n"
     ]
    },
    {
     "name": "stdout",
     "output_type": "stream",
     "text": [
      "Exiting\n'posts: 8'\nPROGRESS: 23% (260/1099)\n'[Constructive Criticism Felblade] (/forums/en/wow/topic/17613704121)'\n"
     ]
    },
    {
     "name": "stdout",
     "output_type": "stream",
     "text": [
      "HTTPError = 404\n"
     ]
    },
    {
     "name": "stdout",
     "output_type": "stream",
     "text": [
      "Exiting\n'posts: 3'\nPROGRESS: 23% (261/1099)\n'[no nerfs to monk and no buffs to havoc] (/forums/en/wow/topic/17613794179)'\n"
     ]
    },
    {
     "name": "stdout",
     "output_type": "stream",
     "text": [
      "HTTPError = 404\nHTTPError = 404\n"
     ]
    },
    {
     "name": "stdout",
     "output_type": "stream",
     "text": [
      "Exiting\n'posts: 9'\nPROGRESS: 23% (262/1099)\n'[I am growing tired] (/forums/en/wow/topic/17613804230)'\n"
     ]
    },
    {
     "name": "stdout",
     "output_type": "stream",
     "text": [
      "Exiting\n'posts: 1'\nPROGRESS: 23% (263/1099)\n'[News on DH?] (/forums/en/wow/topic/17613734036)'\n"
     ]
    },
    {
     "name": "stdout",
     "output_type": "stream",
     "text": [
      "Exiting\n'posts: 13'\nPROGRESS: 24% (264/1099)\n'[New talent setup for Vengeance?] (/forums/en/wow/topic/17613754065)'\n"
     ]
    },
    {
     "name": "stdout",
     "output_type": "stream",
     "text": [
      "Exiting\n'posts: 3'\nPROGRESS: 24% (265/1099)\n('[when you use meta and  try to catch frost mage] '\n '(/forums/en/wow/topic/17613794155)')\nHTTPError = 404\n"
     ]
    },
    {
     "name": "stdout",
     "output_type": "stream",
     "text": [
      "Exiting\n'posts: 2'\nPROGRESS: 24% (266/1099)\n'[Potion of the old war question] (/forums/en/wow/topic/17613724287)'\n"
     ]
    },
    {
     "name": "stdout",
     "output_type": "stream",
     "text": [
      "HTTPError = 404\n"
     ]
    },
    {
     "name": "stdout",
     "output_type": "stream",
     "text": [
      "Exiting\n'posts: 4'\nPROGRESS: 24% (267/1099)\n'[Retired thread] (/forums/en/wow/topic/17613773519)'\n"
     ]
    },
    {
     "name": "stdout",
     "output_type": "stream",
     "text": [
      "Exiting\n'posts: 12'\nPROGRESS: 24% (268/1099)\n'[Demon Hunter PvP ?] (/forums/en/wow/topic/17613743632)'\n"
     ]
    },
    {
     "name": "stdout",
     "output_type": "stream",
     "text": [
      "Exiting\n'posts: 11'\nPROGRESS: 24% (269/1099)\n'[momentum] (/forums/en/wow/topic/17613733962)'\n"
     ]
    },
    {
     "name": "stdout",
     "output_type": "stream",
     "text": [
      "HTTPError = 404\n"
     ]
    },
    {
     "name": "stdout",
     "output_type": "stream",
     "text": [
      "Exiting\n'posts: 2'\nPROGRESS: 24% (270/1099)\n'[Lack of motivation to gear a DH Stat-wise] (/forums/en/wow/topic/17613773906)'\n"
     ]
    },
    {
     "name": "stdout",
     "output_type": "stream",
     "text": [
      "Exiting\n'posts: 4'\nPROGRESS: 24% (271/1099)\n'[just for you demon hunters] (/forums/en/wow/topic/17613773852)'\n"
     ]
    },
    {
     "name": "stdout",
     "output_type": "stream",
     "text": [
      "Exiting\n'posts: 4'\nPROGRESS: 24% (272/1099)\n'[Havoc Questions] (/forums/en/wow/topic/17613703626)'\n"
     ]
    },
    {
     "name": "stdout",
     "output_type": "stream",
     "text": [
      "Exiting\n'posts: 6'\nPROGRESS: 24% (273/1099)\n'[Emerald Nightmare top 300 DPS statistic] (/forums/en/wow/topic/17613703376)'\n"
     ]
    },
    {
     "name": "stdout",
     "output_type": "stream",
     "text": [
      "Exiting\n'posts: 5'\nPROGRESS: 24% (274/1099)\n'[Burst Opening Havoc in Raid] (/forums/en/wow/topic/17613703174)'\n"
     ]
    },
    {
     "name": "stdout",
     "output_type": "stream",
     "text": [
      "Exiting\n'posts: 18'\nPROGRESS: 25% (275/1099)\n'[Why are demon hunter legendaries so !@#$?] (/forums/en/wow/topic/17613773472)'\n"
     ]
    },
    {
     "name": "stdout",
     "output_type": "stream",
     "text": [
      "Exiting\n'posts: 11'\nPROGRESS: 25% (276/1099)\n'[How high can you go?] (/forums/en/wow/topic/17613732892)'\n"
     ]
    },
    {
     "name": "stdout",
     "output_type": "stream",
     "text": [
      "Exiting\n'posts: 13'\nPROGRESS: 25% (277/1099)\n\"[Xavius critically melee'd me?] (/forums/en/wow/topic/17613783881)\"\n"
     ]
    },
    {
     "name": "stdout",
     "output_type": "stream",
     "text": [
      "Exiting\n'posts: 1'\nPROGRESS: 25% (278/1099)\n'[822 ilvl Vengeance for Mythics] (/forums/en/wow/topic/17613693532)'\n"
     ]
    },
    {
     "name": "stdout",
     "output_type": "stream",
     "text": [
      "Exiting\n'posts: 11'\nPROGRESS: 25% (279/1099)\n('[Super useless talents constructive rage thread!] '\n '(/forums/en/wow/topic/17613753540)')\n"
     ]
    },
    {
     "name": "stdout",
     "output_type": "stream",
     "text": [
      "Exiting\n'posts: 4'\nPROGRESS: 25% (280/1099)\n'[Twisting Nether bug?] (/forums/en/wow/topic/17613801246)'\n"
     ]
    },
    {
     "name": "stdout",
     "output_type": "stream",
     "text": [
      "Exiting\n'posts: 3'\nPROGRESS: 25% (281/1099)\n'[Hc ursoc] (/forums/en/wow/topic/17613752842)'\n"
     ]
    },
    {
     "name": "stdout",
     "output_type": "stream",
     "text": [
      "HTTPError = 404\nHTTPError = 404\n"
     ]
    },
    {
     "name": "stdout",
     "output_type": "stream",
     "text": [
      "Exiting\n'posts: 10'\nPROGRESS: 25% (282/1099)\n('[Lack of cooldowns as a DH is hurting my group.] '\n '(/forums/en/wow/topic/17613783496)')\nHTTPError = 404\n"
     ]
    },
    {
     "name": "stdout",
     "output_type": "stream",
     "text": [
      "Exiting\n'posts: 5'\nPROGRESS: 25% (283/1099)\n'[Your Nynthendra DPS ?] (/forums/en/wow/topic/17613792224)'\n"
     ]
    },
    {
     "name": "stdout",
     "output_type": "stream",
     "text": [
      "HTTPError = 404\n"
     ]
    },
    {
     "name": "stdout",
     "output_type": "stream",
     "text": [
      "Exiting\n'posts: 12'\nPROGRESS: 25% (284/1099)\n('[How much damage should I do with Ilvl of 855?] '\n '(/forums/en/wow/topic/17613712680)')\n"
     ]
    },
    {
     "name": "stdout",
     "output_type": "stream",
     "text": [
      "Exiting\n'posts: 17'\nPROGRESS: 25% (285/1099)\n\"[sephuz's secret] (/forums/en/wow/topic/17613803400)\"\n"
     ]
    },
    {
     "name": "stdout",
     "output_type": "stream",
     "text": [
      "Exiting\n'posts: 2'\nPROGRESS: 26% (286/1099)\n'[Havoc Demon Hunter Feedback] (/forums/en/wow/topic/17613743379)'\n"
     ]
    },
    {
     "name": "stdout",
     "output_type": "stream",
     "text": [
      "Exiting\n'posts: 4'\nPROGRESS: 26% (287/1099)\n'[Downfall] (/forums/en/wow/topic/17613693207)'\n"
     ]
    },
    {
     "name": "stdout",
     "output_type": "stream",
     "text": [
      "Exiting\n'posts: 3'\nPROGRESS: 26% (288/1099)\n'[Inner Demons Artifact Trait] (/forums/en/wow/topic/17613693332)'\n"
     ]
    },
    {
     "name": "stdout",
     "output_type": "stream",
     "text": [
      "HTTPError = 404\n"
     ]
    },
    {
     "name": "stdout",
     "output_type": "stream",
     "text": [
      "Exiting\n'posts: 4'\nPROGRESS: 26% (289/1099)\n'[My dps bad for my ilvl?] (/forums/en/wow/topic/17613713195)'\n"
     ]
    },
    {
     "name": "stdout",
     "output_type": "stream",
     "text": [
      "Exiting\n'posts: 3'\nPROGRESS: 26% (290/1099)\n'[Is Demon Blades better than Prepared?] (/forums/en/wow/topic/17613692481)'\n"
     ]
    },
    {
     "name": "stdout",
     "output_type": "stream",
     "text": [
      "Exiting\n'posts: 17'\nPROGRESS: 26% (291/1099)\n'[Havoc Stat Priority] (/forums/en/wow/topic/17613341988)'\n"
     ]
    },
    {
     "name": "stdout",
     "output_type": "stream",
     "text": [
      "Exiting\n'posts: 18'\nPROGRESS: 26% (292/1099)\n'[Macro for casting sigil underneath me] (/forums/en/wow/topic/17613803007)'\n"
     ]
    },
    {
     "name": "stdout",
     "output_type": "stream",
     "text": [
      "HTTPError = 404\n"
     ]
    },
    {
     "name": "stdout",
     "output_type": "stream",
     "text": [
      "Exiting\n'posts: 7'\nPROGRESS: 26% (293/1099)\n'[Trinket choices] (/forums/en/wow/topic/17613693337)'\n"
     ]
    },
    {
     "name": "stdout",
     "output_type": "stream",
     "text": [
      "Exiting\n'posts: 1'\nPROGRESS: 26% (294/1099)\n'[FelGlideGlyph (Idea)] (/forums/en/wow/topic/17613773343)'\n"
     ]
    },
    {
     "name": "stdout",
     "output_type": "stream",
     "text": [
      "Exiting\n'posts: 1'\nPROGRESS: 26% (295/1099)\n('[What do the developers think about Demon Hunters?] '\n '(/forums/en/wow/topic/17613732734)')\nHTTPError = 404\n"
     ]
    },
    {
     "name": "stdout",
     "output_type": "stream",
     "text": [
      "Exiting\n'posts: 19'\nPROGRESS: 26% (296/1099)\n'[When will redesign DH ?] (/forums/en/wow/topic/17613743186)'\n"
     ]
    },
    {
     "name": "stdout",
     "output_type": "stream",
     "text": [
      "Exiting\n'posts: 7'\nPROGRESS: 27% (297/1099)\n'[My class is OP] (/forums/en/wow/topic/17613763392)'\n"
     ]
    },
    {
     "name": "stdout",
     "output_type": "stream",
     "text": [
      "Exiting\n'posts: 4'\nPROGRESS: 27% (298/1099)\n'[Havoc worldquest relic BUG?!] (/forums/en/wow/topic/17613442225)'\n"
     ]
    },
    {
     "name": "stdout",
     "output_type": "stream",
     "text": [
      "Exiting\n'posts: 29'\nPROGRESS: 27% (299/1099)\n'[Timewalking event trinkets too OP??] (/forums/en/wow/topic/17613693124)'\n"
     ]
    },
    {
     "name": "stdout",
     "output_type": "stream",
     "text": [
      "Exiting\n'posts: 5'\nPROGRESS: 27% (300/1099)\n'[DH in PvP ?_?] (/forums/en/wow/topic/17613692960)'\n"
     ]
    },
    {
     "name": "stdout",
     "output_type": "stream",
     "text": [
      "Exiting\n'posts: 10'\nPROGRESS: 27% (301/1099)\n'[Good Havoc DH DPS?] (/forums/en/wow/topic/17613181502)'\n"
     ]
    },
    {
     "name": "stdout",
     "output_type": "stream",
     "text": [
      "Exiting\n'posts: 13'\nPROGRESS: 27% (302/1099)\n'[Havoc needs redesign] (/forums/en/wow/topic/17613803149)'\n"
     ]
    },
    {
     "name": "stdout",
     "output_type": "stream",
     "text": [
      "Exiting\n'posts: 5'\nPROGRESS: 27% (303/1099)\n'[Havoc is in a bad place.] (/forums/en/wow/topic/17613742617)'\n"
     ]
    },
    {
     "name": "stdout",
     "output_type": "stream",
     "text": [
      "HTTPError = 404\n"
     ]
    },
    {
     "name": "stdout",
     "output_type": "stream",
     "text": [
      "Exiting\n'posts: 28'\nPROGRESS: 27% (304/1099)\n'[Spending more time on my Alters] (/forums/en/wow/topic/17613783261)'\n"
     ]
    },
    {
     "name": "stdout",
     "output_type": "stream",
     "text": [
      "Exiting\n'posts: 2'\nPROGRESS: 27% (305/1099)\n'[Feed the Demon vs Soul Rending] (/forums/en/wow/topic/17613792380)'\n"
     ]
    },
    {
     "name": "stdout",
     "output_type": "stream",
     "text": [
      "Exiting\n'posts: 16'\nPROGRESS: 27% (306/1099)\n'[Hey Wak up DH SUCK in ARENA] (/forums/en/wow/topic/17613733075)'\n"
     ]
    },
    {
     "name": "stdout",
     "output_type": "stream",
     "text": [
      "Exiting\n'posts: 8'\nPROGRESS: 27% (307/1099)\n'[Painbringer is bugged] (/forums/en/wow/topic/17613723275)'\n"
     ]
    },
    {
     "name": "stdout",
     "output_type": "stream",
     "text": [
      "Exiting\n'posts: 3'\nPROGRESS: 28% (308/1099)\n'[Fury of the Illidari Huge PvP bug] (/forums/en/wow/topic/17613722029)'\n"
     ]
    },
    {
     "name": "stdout",
     "output_type": "stream",
     "text": [
      "HTTPError = 404\n"
     ]
    },
    {
     "name": "stdout",
     "output_type": "stream",
     "text": [
      "Exiting\n'posts: 8'\nPROGRESS: 28% (309/1099)\n'[2 questions.] (/forums/en/wow/topic/17613763118)'\n"
     ]
    },
    {
     "name": "stdout",
     "output_type": "stream",
     "text": [
      "Exiting\n'posts: 7'\nPROGRESS: 28% (310/1099)\n'[Gear/Enchant/Talent check] (/forums/en/wow/topic/17613743050)'\n"
     ]
    },
    {
     "name": "stdout",
     "output_type": "stream",
     "text": [
      "Exiting\n'posts: 5'\nPROGRESS: 28% (311/1099)\n'[Rate DH T-mog above you!] (/forums/en/wow/topic/17613131321)'\nHTTPError = 404\n"
     ]
    },
    {
     "name": "stdout",
     "output_type": "stream",
     "text": [
      "HTTPError = 404\n"
     ]
    },
    {
     "name": "stdout",
     "output_type": "stream",
     "text": [
      "HTTPError = 404\n"
     ]
    },
    {
     "name": "stdout",
     "output_type": "stream",
     "text": [
      "HTTPError = 404\n"
     ]
    },
    {
     "name": "stdout",
     "output_type": "stream",
     "text": [
      "HTTPError = 404\n"
     ]
    },
    {
     "name": "stdout",
     "output_type": "stream",
     "text": [
      "HTTPError = 404\n"
     ]
    },
    {
     "name": "stdout",
     "output_type": "stream",
     "text": [
      "Exiting\n'posts: 487'\nPROGRESS: 28% (312/1099)\n\"[We're Becoming Demon Huntards] (/forums/en/wow/topic/17613762984)\"\nHTTPError = 404\n"
     ]
    },
    {
     "name": "stdout",
     "output_type": "stream",
     "text": [
      "Exiting\n'posts: 12'\nPROGRESS: 28% (313/1099)\n\"[Havoc DH's and their lazy design.] (/forums/en/wow/topic/17613772799)\"\n"
     ]
    },
    {
     "name": "stdout",
     "output_type": "stream",
     "text": [
      "HTTPError = 404\n"
     ]
    },
    {
     "name": "stdout",
     "output_type": "stream",
     "text": [
      "Exiting\n'posts: 5'\nPROGRESS: 28% (314/1099)\n'[ilvl 805 trinket beats i lvl 865 trinket] (/forums/en/wow/topic/17613792627)'\n"
     ]
    },
    {
     "name": "stdout",
     "output_type": "stream",
     "text": [
      "Exiting\n'posts: 4'\nPROGRESS: 28% (315/1099)\n'[Last Resort vs Soul Barrier] (/forums/en/wow/topic/17613463796)'\n"
     ]
    },
    {
     "name": "stdout",
     "output_type": "stream",
     "text": [
      "Exiting\n'posts: 49'\nPROGRESS: 28% (316/1099)\n'[Havoc?] (/forums/en/wow/topic/17613763022)'\n"
     ]
    },
    {
     "name": "stdout",
     "output_type": "stream",
     "text": [
      "HTTPError = 404\n"
     ]
    },
    {
     "name": "stdout",
     "output_type": "stream",
     "text": [
      "Exiting\n'posts: 3'\nPROGRESS: 28% (317/1099)\n\"[PSA: IF you can't play momentum...] (/forums/en/wow/topic/17613712395)\"\n"
     ]
    },
    {
     "name": "stdout",
     "output_type": "stream",
     "text": [
      "HTTPError = 404\n"
     ]
    },
    {
     "name": "stdout",
     "output_type": "stream",
     "text": [
      "Exiting\n'posts: 13'\nPROGRESS: 28% (318/1099)\n('[What class do you suggest after DH  disappointment?] '\n '(/forums/en/wow/topic/17613752607)')\n"
     ]
    },
    {
     "name": "stdout",
     "output_type": "stream",
     "text": [
      "HTTPError = 404\n"
     ]
    },
    {
     "name": "stdout",
     "output_type": "stream",
     "text": [
      "Exiting\n'posts: 13'\nPROGRESS: 29% (319/1099)\n'[Vengeance Trinkets] (/forums/en/wow/topic/17613741691)'\n"
     ]
    },
    {
     "name": "stdout",
     "output_type": "stream",
     "text": [
      "HTTPError = 404\n"
     ]
    },
    {
     "name": "stdout",
     "output_type": "stream",
     "text": [
      "Exiting\n'posts: 26'\nPROGRESS: 29% (320/1099)\n'[DH or Rogue?] (/forums/en/wow/topic/17613802833)'\n"
     ]
    },
    {
     "name": "stdout",
     "output_type": "stream",
     "text": [
      "Exiting\n'posts: 3'\nPROGRESS: 29% (321/1099)\n'[DH WeakAuras interface] (/forums/en/wow/topic/17613711391)'\nHTTPError = 404\n"
     ]
    },
    {
     "name": "stdout",
     "output_type": "stream",
     "text": [
      "HTTPError = 404\n"
     ]
    },
    {
     "name": "stdout",
     "output_type": "stream",
     "text": [
      "Exiting\n'posts: 3'\nPROGRESS: 29% (322/1099)\n'[Trinket Help] (/forums/en/wow/topic/17613732766)'\n"
     ]
    },
    {
     "name": "stdout",
     "output_type": "stream",
     "text": [
      "Exiting\n'posts: 5'\nPROGRESS: 29% (323/1099)\n('[Is Agility better than our secondary stats?] '\n '(/forums/en/wow/topic/17613732718)')\n"
     ]
    },
    {
     "name": "stdout",
     "output_type": "stream",
     "text": [
      "HTTPError = 404\n"
     ]
    },
    {
     "name": "stdout",
     "output_type": "stream",
     "text": [
      "Exiting\n'posts: 3'\nPROGRESS: 29% (324/1099)\n'[Seriously?!] (/forums/en/wow/topic/17613752391)'\n"
     ]
    },
    {
     "name": "stdout",
     "output_type": "stream",
     "text": [
      "Exiting\n'posts: 10'\nPROGRESS: 29% (325/1099)\n'[how to make DH a better class] (/forums/en/wow/topic/17613711669)'\nHTTPError = 404\n"
     ]
    },
    {
     "name": "stdout",
     "output_type": "stream",
     "text": [
      "Exiting\n'posts: 12'\nPROGRESS: 29% (326/1099)\n'[Fist Weapons] (/forums/en/wow/topic/17613782724)'\n"
     ]
    },
    {
     "name": "stdout",
     "output_type": "stream",
     "text": [
      "HTTPError = 404\n"
     ]
    },
    {
     "name": "stdout",
     "output_type": "stream",
     "text": [
      "Exiting\n'posts: 2'\nPROGRESS: 29% (327/1099)\n'[Neck Enchant] (/forums/en/wow/topic/17613752424)'\n"
     ]
    },
    {
     "name": "stdout",
     "output_type": "stream",
     "text": [
      "HTTPError = 404\n"
     ]
    },
    {
     "name": "stdout",
     "output_type": "stream",
     "text": [
      "Exiting\n'posts: 4'\nPROGRESS: 29% (328/1099)\n'[Deathwalker appearance - Too small?] (/forums/en/wow/topic/17613792554)'\n"
     ]
    },
    {
     "name": "stdout",
     "output_type": "stream",
     "text": [
      "HTTPError = 404\n"
     ]
    },
    {
     "name": "stdout",
     "output_type": "stream",
     "text": [
      "Exiting\n'posts: 5'\nPROGRESS: 29% (329/1099)\n'[ı have sacrificed everything for nothing] (/forums/en/wow/topic/17613772618)'\n"
     ]
    },
    {
     "name": "stdout",
     "output_type": "stream",
     "text": [
      "Exiting\n'posts: 1'\nPROGRESS: 30% (330/1099)\n'[DH Sucks] (/forums/en/wow/topic/17613473587)'\n"
     ]
    },
    {
     "name": "stdout",
     "output_type": "stream",
     "text": [
      "Exiting\n'posts: 42'\nPROGRESS: 30% (331/1099)\n'[Demon hunter class hall champions] (/forums/en/wow/topic/17613722697)'\n"
     ]
    },
    {
     "name": "stdout",
     "output_type": "stream",
     "text": [
      "HTTPError = 404\n"
     ]
    },
    {
     "name": "stdout",
     "output_type": "stream",
     "text": [
      "Exiting\n'posts: 1'\nPROGRESS: 30% (332/1099)\n'[PUG Raids, instant kick on invite?] (/forums/en/wow/topic/17613732450)'\n"
     ]
    },
    {
     "name": "stdout",
     "output_type": "stream",
     "text": [
      "Exiting\n'posts: 2'\nPROGRESS: 30% (333/1099)\n'[Demon Hunter in Arena] (/forums/en/wow/topic/17613772019)'\n"
     ]
    },
    {
     "name": "stdout",
     "output_type": "stream",
     "text": [
      "Exiting\n'posts: 18'\nPROGRESS: 30% (334/1099)\n\"[How Y'all Doing In Arena?] (/forums/en/wow/topic/17613772495)\"\n"
     ]
    },
    {
     "name": "stdout",
     "output_type": "stream",
     "text": [
      "HTTPError = 404\n"
     ]
    },
    {
     "name": "stdout",
     "output_type": "stream",
     "text": [
      "HTTPError = 404\n"
     ]
    },
    {
     "name": "stdout",
     "output_type": "stream",
     "text": [
      "Exiting\n'posts: 2'\nPROGRESS: 30% (335/1099)\n'[Prydaz Legendary - Annoyance] (/forums/en/wow/topic/17613702436)'\n"
     ]
    },
    {
     "name": "stdout",
     "output_type": "stream",
     "text": [
      "Exiting\n'posts: 4'\nPROGRESS: 30% (336/1099)\n'[Demon Blades accuracy boost?] (/forums/en/wow/topic/17613692569)'\n"
     ]
    },
    {
     "name": "stdout",
     "output_type": "stream",
     "text": [
      "Exiting\n'posts: 1'\nPROGRESS: 30% (337/1099)\n'[Trinket help!] (/forums/en/wow/topic/17613722363)'\n"
     ]
    },
    {
     "name": "stdout",
     "output_type": "stream",
     "text": [
      "Exiting\n'posts: 6'\nPROGRESS: 30% (338/1099)\n('[How much agility to crit ratio is acceptable?] '\n '(/forums/en/wow/topic/17613762206)')\n"
     ]
    },
    {
     "name": "stdout",
     "output_type": "stream",
     "text": [
      "Exiting\n'posts: 5'\nPROGRESS: 30% (339/1099)\n'[Inner Demons Possible Revamp?] (/forums/en/wow/topic/17613761947)'\nHTTPError = 404\n"
     ]
    },
    {
     "name": "stdout",
     "output_type": "stream",
     "text": [
      "Exiting\n'posts: 9'\nPROGRESS: 30% (340/1099)\n'[RBG] (/forums/en/wow/topic/17613701817)'\n"
     ]
    },
    {
     "name": "stdout",
     "output_type": "stream",
     "text": [
      "HTTPError = 404\n"
     ]
    },
    {
     "name": "stdout",
     "output_type": "stream",
     "text": [
      "Exiting\n'posts: 5'\nPROGRESS: 31% (341/1099)\n'[DH tanks!] (/forums/en/wow/topic/17613751911)'\n"
     ]
    },
    {
     "name": "stdout",
     "output_type": "stream",
     "text": [
      "Exiting\n'posts: 14'\nPROGRESS: 31% (342/1099)\n('[A Small buff for tanking (suggestion to devs)] '\n '(/forums/en/wow/topic/17613483201)')\n"
     ]
    },
    {
     "name": "stdout",
     "output_type": "stream",
     "text": [
      "HTTPError = 404\n"
     ]
    },
    {
     "name": "stdout",
     "output_type": "stream",
     "text": [
      "Exiting\n'posts: 19'\nPROGRESS: 31% (343/1099)\n'[talent choice] (/forums/en/wow/topic/17613453504)'\n"
     ]
    },
    {
     "name": "stdout",
     "output_type": "stream",
     "text": [
      "Exiting\n'posts: 12'\nPROGRESS: 31% (344/1099)\n'[Trinkets] (/forums/en/wow/topic/17613742359)'\n"
     ]
    },
    {
     "name": "stdout",
     "output_type": "stream",
     "text": [
      "HTTPError = 404\n"
     ]
    },
    {
     "name": "stdout",
     "output_type": "stream",
     "text": [
      "Exiting\n'posts: 2'\nPROGRESS: 31% (345/1099)\n'[Help me git gud ( logs )] (/forums/en/wow/topic/17613742333)'\n"
     ]
    },
    {
     "name": "stdout",
     "output_type": "stream",
     "text": [
      "Exiting\n'posts: 1'\nPROGRESS: 31% (346/1099)\n'[How much stats can i sacrifice for crit?] (/forums/en/wow/topic/17613742330)'\n"
     ]
    },
    {
     "name": "stdout",
     "output_type": "stream",
     "text": [
      "Exiting\n'posts: 1'\nPROGRESS: 31% (347/1099)\n'[I have sacrificed everything] (/forums/en/wow/topic/17613801753)'\n"
     ]
    },
    {
     "name": "stdout",
     "output_type": "stream",
     "text": [
      "Exiting\n'posts: 13'\nPROGRESS: 31% (348/1099)\n'[Problems in arena vs Disc Priest] (/forums/en/wow/topic/17613781848)'\n"
     ]
    },
    {
     "name": "stdout",
     "output_type": "stream",
     "text": [
      "Exiting\n'posts: 8'\nPROGRESS: 31% (349/1099)\n'[Havoc DPS] (/forums/en/wow/topic/17613453557)'\n"
     ]
    },
    {
     "name": "stdout",
     "output_type": "stream",
     "text": [
      "Exiting\n'posts: 18'\nPROGRESS: 31% (350/1099)\n(\"[Question about ''Darkness'' + ''C'Strike Totem''.] \"\n '(/forums/en/wow/topic/17613742263)')\n"
     ]
    },
    {
     "name": "stdout",
     "output_type": "stream",
     "text": [
      "Exiting\n'posts: 2'\nPROGRESS: 31% (351/1099)\n(\"[Looking at Havoc's kit makes Veng look bad] \"\n '(/forums/en/wow/topic/17613691757)')\n"
     ]
    },
    {
     "name": "stdout",
     "output_type": "stream",
     "text": [
      "HTTPError = 404\nHTTPError = 404\n"
     ]
    },
    {
     "name": "stdout",
     "output_type": "stream",
     "text": [
      "Exiting\n'posts: 11'\nPROGRESS: 32% (352/1099)\n\"[Question about Sephuz's secret] (/forums/en/wow/topic/17613691722)\"\n"
     ]
    },
    {
     "name": "stdout",
     "output_type": "stream",
     "text": [
      "Exiting\n'posts: 6'\nPROGRESS: 32% (353/1099)\n'[SimCraft results Vers. vs. Mastery] (/forums/en/wow/topic/17613751796)'\n"
     ]
    },
    {
     "name": "stdout",
     "output_type": "stream",
     "text": [
      "Exiting\n'posts: 11'\nPROGRESS: 32% (354/1099)\n'[Devastation Boring gameplay (IMO)] (/forums/en/wow/topic/17613761266)'\n"
     ]
    },
    {
     "name": "stdout",
     "output_type": "stream",
     "text": [
      "Exiting\n'posts: 11'\nPROGRESS: 32% (355/1099)\n'[Rain from Above in arena...] (/forums/en/wow/topic/17613791932)'\n"
     ]
    },
    {
     "name": "stdout",
     "output_type": "stream",
     "text": [
      "HTTPError = 404\n"
     ]
    },
    {
     "name": "stdout",
     "output_type": "stream",
     "text": [
      "Exiting\n'posts: 4'\nPROGRESS: 32% (356/1099)\n'[What arena comps do DH work well in?] (/forums/en/wow/topic/17613691982)'\nHTTPError = 404\n"
     ]
    },
    {
     "name": "stdout",
     "output_type": "stream",
     "text": [
      "HTTPError = 404\n"
     ]
    },
    {
     "name": "stdout",
     "output_type": "stream",
     "text": [
      "Exiting\n'posts: 3'\nPROGRESS: 32% (357/1099)\n'[Darkness] (/forums/en/wow/topic/17613801845)'\n"
     ]
    },
    {
     "name": "stdout",
     "output_type": "stream",
     "text": [
      "HTTPError = 404\n"
     ]
    },
    {
     "name": "stdout",
     "output_type": "stream",
     "text": [
      "Exiting\n'posts: 2'\nPROGRESS: 32% (358/1099)\n('[Nemesis talent feels too weak and badly designed] '\n '(/forums/en/wow/topic/17613692023)')\n"
     ]
    },
    {
     "name": "stdout",
     "output_type": "stream",
     "text": [
      "Exiting\n'posts: 3'\nPROGRESS: 32% (359/1099)\n'[Demon Hunter PvP Advice] (/forums/en/wow/topic/17613731894)'\n"
     ]
    },
    {
     "name": "stdout",
     "output_type": "stream",
     "text": [
      "Exiting\n'posts: 2'\nPROGRESS: 32% (360/1099)\n'[Pimp my Eyebeam - an idea] (/forums/en/wow/topic/17613771866)'\n"
     ]
    },
    {
     "name": "stdout",
     "output_type": "stream",
     "text": [
      "Exiting\n'posts: 2'\nPROGRESS: 32% (361/1099)\n'[Please help, how to survive Meta?] (/forums/en/wow/topic/17613751224)'\n"
     ]
    },
    {
     "name": "stdout",
     "output_type": "stream",
     "text": [
      "Exiting\n'posts: 10'\nPROGRESS: 32% (362/1099)\n'[Third Spec using Scythe/2h] (/forums/en/wow/topic/17613571250)'\n"
     ]
    },
    {
     "name": "stdout",
     "output_type": "stream",
     "text": [
      "Exiting\n'posts: 24'\nPROGRESS: 33% (363/1099)\n'[MetaForm/Color Variants] (/forums/en/wow/topic/17613711781)'\n"
     ]
    },
    {
     "name": "stdout",
     "output_type": "stream",
     "text": [
      "Exiting\n'posts: 2'\nPROGRESS: 33% (364/1099)\n'[how to improve vengance tanks] (/forums/en/wow/topic/17613701560)'\n"
     ]
    },
    {
     "name": "stdout",
     "output_type": "stream",
     "text": [
      "Exiting\n'posts: 9'\nPROGRESS: 33% (365/1099)\n'[warcraft discord server] (/forums/en/wow/topic/17613771732)'\n"
     ]
    },
    {
     "name": "stdout",
     "output_type": "stream",
     "text": [
      "HTTPError = 404\n"
     ]
    },
    {
     "name": "stdout",
     "output_type": "stream",
     "text": [
      "Exiting\n'posts: 1'\nPROGRESS: 33% (366/1099)\n'[Dh havoc random meta?] (/forums/en/wow/topic/17613691763)'\n"
     ]
    },
    {
     "name": "stdout",
     "output_type": "stream",
     "text": [
      "Exiting\n'posts: 3'\nPROGRESS: 33% (367/1099)\n(\"[I don't use bloodlet and master of the glaive....] \"\n '(/forums/en/wow/topic/17613771406)')\n"
     ]
    },
    {
     "name": "stdout",
     "output_type": "stream",
     "text": [
      "Exiting\n'posts: 14'\nPROGRESS: 33% (368/1099)\n'[DH Havoc Stat Weights?] (/forums/en/wow/topic/17613781218)'\n"
     ]
    },
    {
     "name": "stdout",
     "output_type": "stream",
     "text": [
      "HTTPError = 404\n"
     ]
    },
    {
     "name": "stdout",
     "output_type": "stream",
     "text": [
      "Exiting\n'posts: 12'\nPROGRESS: 33% (369/1099)\n'[Nemesis build pondering] (/forums/en/wow/topic/17613801383)'\n"
     ]
    },
    {
     "name": "stdout",
     "output_type": "stream",
     "text": [
      "HTTPError = 404\n"
     ]
    },
    {
     "name": "stdout",
     "output_type": "stream",
     "text": [
      "Exiting\n'posts: 5'\nPROGRESS: 33% (370/1099)\n'[Is icy veins still true?] (/forums/en/wow/topic/17613523668)'\n"
     ]
    },
    {
     "name": "stdout",
     "output_type": "stream",
     "text": [
      "HTTPError = 404\n"
     ]
    },
    {
     "name": "stdout",
     "output_type": "stream",
     "text": [
      "Exiting\n'posts: 12'\nPROGRESS: 33% (371/1099)\n'[DH relics and world quests - bugged?] (/forums/en/wow/topic/17613731525)'\nHTTPError = 404\n"
     ]
    },
    {
     "name": "stdout",
     "output_type": "stream",
     "text": [
      "HTTPError = 404\n"
     ]
    },
    {
     "name": "stdout",
     "output_type": "stream",
     "text": [
      "Exiting\n'posts: 2'\nPROGRESS: 33% (372/1099)\n\"[What do I do with Candrael's Charm?] (/forums/en/wow/topic/17613751550)\"\n"
     ]
    },
    {
     "name": "stdout",
     "output_type": "stream",
     "text": [
      "HTTPError = 404\n"
     ]
    },
    {
     "name": "stdout",
     "output_type": "stream",
     "text": [
      "Exiting\n'posts: 2'\nPROGRESS: 33% (373/1099)\n('[Fel Rush bugs and lack of sustain for Havoc] '\n '(/forums/en/wow/topic/17612962144)')\n"
     ]
    },
    {
     "name": "stdout",
     "output_type": "stream",
     "text": [
      "Exiting\n'posts: 17'\nPROGRESS: 34% (374/1099)\n'[does demon hunters scale like !@#$?] (/forums/en/wow/topic/17613791348)'\n"
     ]
    },
    {
     "name": "stdout",
     "output_type": "stream",
     "text": [
      "HTTPError = 404\nHTTPError = 404\nHTTPError = 404\n"
     ]
    },
    {
     "name": "stdout",
     "output_type": "stream",
     "text": [
      "Exiting\n'posts: 10'\nPROGRESS: 34% (375/1099)\n'[Demon Blades with legendary ring] (/forums/en/wow/topic/17613691567)'\n"
     ]
    },
    {
     "name": "stdout",
     "output_type": "stream",
     "text": [
      "Exiting\n'posts: 2'\nPROGRESS: 34% (376/1099)\n'[Demon Hunter vs snares] (/forums/en/wow/topic/17613791441)'\n"
     ]
    },
    {
     "name": "stdout",
     "output_type": "stream",
     "text": [
      "HTTPError = 404\n"
     ]
    },
    {
     "name": "stdout",
     "output_type": "stream",
     "text": [
      "Exiting\n'posts: 6'\nPROGRESS: 34% (377/1099)\n'[Dh and LFG in arena] (/forums/en/wow/topic/17613581343)'\n"
     ]
    },
    {
     "name": "stdout",
     "output_type": "stream",
     "text": [
      "HTTPError = 404\n"
     ]
    },
    {
     "name": "stdout",
     "output_type": "stream",
     "text": [
      "HTTPError = 404\n"
     ]
    },
    {
     "name": "stdout",
     "output_type": "stream",
     "text": [
      "HTTPError = 404\n"
     ]
    },
    {
     "name": "stdout",
     "output_type": "stream",
     "text": [
      "HTTPError = 404\n"
     ]
    },
    {
     "name": "stdout",
     "output_type": "stream",
     "text": [
      "HTTPError = 404\n"
     ]
    },
    {
     "name": "stdout",
     "output_type": "stream",
     "text": [
      "Exiting\n'posts: 6'\nPROGRESS: 34% (378/1099)\n'[DPS help] (/forums/en/wow/topic/17613721527)'\n"
     ]
    },
    {
     "name": "stdout",
     "output_type": "stream",
     "text": [
      "HTTPError = 404\n"
     ]
    },
    {
     "name": "stdout",
     "output_type": "stream",
     "text": [
      "Exiting\n'posts: 4'\nPROGRESS: 34% (379/1099)\n('[Dont buy Legion Expansion for Demon Hunter PVP] '\n '(/forums/en/wow/topic/17613241775)')\n"
     ]
    },
    {
     "name": "stdout",
     "output_type": "stream",
     "text": [
      "Exiting\n'posts: 67'\nPROGRESS: 34% (380/1099)\n'[Fel Rush Bug] (/forums/en/wow/topic/17613801466)'\n"
     ]
    },
    {
     "name": "stdout",
     "output_type": "stream",
     "text": [
      "HTTPError = 404\n"
     ]
    },
    {
     "name": "stdout",
     "output_type": "stream",
     "text": [
      "HTTPError = 404\n"
     ]
    },
    {
     "name": "stdout",
     "output_type": "stream",
     "text": [
      "Exiting\n'posts: 6'\nPROGRESS: 34% (381/1099)\n'[Demon Hunter Issues/Bugs] (/forums/en/wow/topic/17613721520)'\n"
     ]
    },
    {
     "name": "stdout",
     "output_type": "stream",
     "text": [
      "HTTPError = 404\n"
     ]
    },
    {
     "name": "stdout",
     "output_type": "stream",
     "text": [
      "Exiting\n'posts: 1'\nPROGRESS: 34% (382/1099)\n'[Dh pvp] (/forums/en/wow/topic/17613711367)'\n"
     ]
    },
    {
     "name": "stdout",
     "output_type": "stream",
     "text": [
      "Exiting\n'posts: 1'\nPROGRESS: 34% (383/1099)\n'[Legendary Chest Bonus.] (/forums/en/wow/topic/17613691243)'\n"
     ]
    },
    {
     "name": "stdout",
     "output_type": "stream",
     "text": [
      "Exiting\n'posts: 4'\nPROGRESS: 34% (384/1099)\n'[Some help with enhancement] (/forums/en/wow/topic/17613691317)'\n"
     ]
    },
    {
     "name": "stdout",
     "output_type": "stream",
     "text": [
      "Exiting\n'posts: 2'\nPROGRESS: 35% (385/1099)\n'[Demon Rage Vs Contained Fury] (/forums/en/wow/topic/17613701325)'\n"
     ]
    },
    {
     "name": "stdout",
     "output_type": "stream",
     "text": [
      "Exiting\n'posts: 2'\nPROGRESS: 35% (386/1099)\n('[Character Server/Realm transfer question(Blue plz)] '\n '(/forums/en/wow/topic/17613721237)')\n"
     ]
    },
    {
     "name": "stdout",
     "output_type": "stream",
     "text": [
      "HTTPError = 404\n"
     ]
    },
    {
     "name": "stdout",
     "output_type": "stream",
     "text": [
      "Exiting\n'posts: 2'\nPROGRESS: 35% (387/1099)\n'[Dh leech] (/forums/en/wow/topic/17613463689)'\n"
     ]
    },
    {
     "name": "stdout",
     "output_type": "stream",
     "text": [
      "HTTPError = 404\n"
     ]
    },
    {
     "name": "stdout",
     "output_type": "stream",
     "text": [
      "Exiting\n'posts: 11'\nPROGRESS: 35% (388/1099)\n'[Tier 19 question] (/forums/en/wow/topic/17613741308)'\n"
     ]
    },
    {
     "name": "stdout",
     "output_type": "stream",
     "text": [
      "HTTPError = 404\nHTTPError = 404\nHTTPError = 404\n"
     ]
    },
    {
     "name": "stdout",
     "output_type": "stream",
     "text": [
      "Exiting\n'posts: 1'\nPROGRESS: 35% (389/1099)\n'[Vengeance Demon Hunter Feedback] (/forums/en/wow/topic/17613553887)'\n"
     ]
    },
    {
     "name": "stdout",
     "output_type": "stream",
     "text": [
      "Exiting\n'posts: 7'\nPROGRESS: 35% (390/1099)\n'[Late night ST/Cleave idea] (/forums/en/wow/topic/17613631253)'\n"
     ]
    },
    {
     "name": "stdout",
     "output_type": "stream",
     "text": [
      "Exiting\n'posts: 5'\nPROGRESS: 35% (391/1099)\n'[Blade Dance for cleave?] (/forums/en/wow/topic/17613553883)'\n"
     ]
    },
    {
     "name": "stdout",
     "output_type": "stream",
     "text": [
      "Exiting\n'posts: 10'\nPROGRESS: 35% (392/1099)\n'[Vengeance Stat Priority] (/forums/en/wow/topic/17613523072)'\n"
     ]
    },
    {
     "name": "stdout",
     "output_type": "stream",
     "text": [
      "HTTPError = 404\nHTTPError = 404\n"
     ]
    },
    {
     "name": "stdout",
     "output_type": "stream",
     "text": [
      "Exiting\n'posts: 27'\nPROGRESS: 35% (393/1099)\n'[Class Campaign] (/forums/en/wow/topic/17613461889)'\n"
     ]
    },
    {
     "name": "stdout",
     "output_type": "stream",
     "text": [
      "Exiting\n'posts: 4'\nPROGRESS: 35% (394/1099)\n\"[Why I despise Demon's Bite] (/forums/en/wow/topic/17613651234)\"\n"
     ]
    },
    {
     "name": "stdout",
     "output_type": "stream",
     "text": [
      "Exiting\n'posts: 11'\nPROGRESS: 35% (395/1099)\n'[Preparation vs Demons Blade] (/forums/en/wow/topic/17613651288)'\n"
     ]
    },
    {
     "name": "stdout",
     "output_type": "stream",
     "text": [
      "HTTPError = 404\n"
     ]
    },
    {
     "name": "stdout",
     "output_type": "stream",
     "text": [
      "Exiting\n'posts: 2'\nPROGRESS: 36% (396/1099)\n'[DH PVP] (/forums/en/wow/topic/17613681320)'\n"
     ]
    },
    {
     "name": "stdout",
     "output_type": "stream",
     "text": [
      "HTTPError = 404\n"
     ]
    },
    {
     "name": "stdout",
     "output_type": "stream",
     "text": [
      "Exiting\n'posts: 1'\nPROGRESS: 36% (397/1099)\n'[combat ally] (/forums/en/wow/topic/17613631271)'\n"
     ]
    },
    {
     "name": "stdout",
     "output_type": "stream",
     "text": [
      "Exiting\n'posts: 5'\nPROGRESS: 36% (398/1099)\n'[LF Comprehensive Momentum Guide] (/forums/en/wow/topic/17613611299)'\n"
     ]
    },
    {
     "name": "stdout",
     "output_type": "stream",
     "text": [
      "Exiting\n'posts: 3'\nPROGRESS: 36% (399/1099)\n'[Nemesis talent] (/forums/en/wow/topic/17613523819)'\n"
     ]
    },
    {
     "name": "stdout",
     "output_type": "stream",
     "text": [
      "Exiting\n'posts: 12'\nPROGRESS: 36% (400/1099)\n'[veng tank mythic +... how?] (/forums/en/wow/topic/17613493747)'\n"
     ]
    },
    {
     "name": "stdout",
     "output_type": "stream",
     "text": [
      "Exiting\n'posts: 20'\nPROGRESS: 36% (401/1099)\n('[Demon hunter to weak for mythic raid progress?] '\n '(/forums/en/wow/topic/17613581243)')\n"
     ]
    },
    {
     "name": "stdout",
     "output_type": "stream",
     "text": [
      "Exiting\n'posts: 5'\nPROGRESS: 36% (402/1099)\n'[The state of Havoc.] (/forums/en/wow/topic/17613591208)'\n"
     ]
    },
    {
     "name": "stdout",
     "output_type": "stream",
     "text": [
      "Exiting\n'posts: 7'\nPROGRESS: 36% (403/1099)\n'[Question about few things.] (/forums/en/wow/topic/17613671268)'\n"
     ]
    },
    {
     "name": "stdout",
     "output_type": "stream",
     "text": [
      "Exiting\n'posts: 2'\nPROGRESS: 36% (404/1099)\n'[Declined from Mythics] (/forums/en/wow/topic/17613621235)'\n"
     ]
    },
    {
     "name": "stdout",
     "output_type": "stream",
     "text": [
      "Exiting\n'posts: 4'\nPROGRESS: 36% (405/1099)\n'[pvp] (/forums/en/wow/topic/17613571221)'\n"
     ]
    },
    {
     "name": "stdout",
     "output_type": "stream",
     "text": [
      "Exiting\n'posts: 2'\nPROGRESS: 36% (406/1099)\n'[Chaos Blades vs Fel Barrage] (/forums/en/wow/topic/17613493557)'\n"
     ]
    },
    {
     "name": "stdout",
     "output_type": "stream",
     "text": [
      "Exiting\n'posts: 11'\nPROGRESS: 37% (407/1099)\n'[Vengence suggestion] (/forums/en/wow/topic/17613523600)'\n"
     ]
    },
    {
     "name": "stdout",
     "output_type": "stream",
     "text": [
      "Exiting\n'posts: 9'\nPROGRESS: 37% (408/1099)\n'[Warglaives of Azzinoth mog] (/forums/en/wow/topic/17613483300)'\n"
     ]
    },
    {
     "name": "stdout",
     "output_type": "stream",
     "text": [
      "Exiting\n'posts: 10'\nPROGRESS: 37% (409/1099)\n'[Soul Barrier ?] (/forums/en/wow/topic/17613513386)'\n"
     ]
    },
    {
     "name": "stdout",
     "output_type": "stream",
     "text": [
      "HTTPError = 404\n"
     ]
    },
    {
     "name": "stdout",
     "output_type": "stream",
     "text": [
      "Exiting\n'posts: 21'\nPROGRESS: 37% (410/1099)\n'[Help me Improve my DPS] (/forums/en/wow/topic/17613553830)'\n"
     ]
    },
    {
     "name": "stdout",
     "output_type": "stream",
     "text": [
      "HTTPError = 404\n"
     ]
    },
    {
     "name": "stdout",
     "output_type": "stream",
     "text": [
      "Exiting\n'posts: 2'\nPROGRESS: 37% (411/1099)\n'[The truth about the missinformed NERF!] (/forums/en/wow/topic/17613472483)'\n"
     ]
    },
    {
     "name": "stdout",
     "output_type": "stream",
     "text": [
      "Exiting\n'posts: 20'\nPROGRESS: 37% (412/1099)\n('[Blizzard you dropped the ball on this one.] '\n '(/forums/en/wow/topic/17613513665)')\n"
     ]
    },
    {
     "name": "stdout",
     "output_type": "stream",
     "text": [
      "Exiting\n'posts: 4'\nPROGRESS: 37% (413/1099)\n\"[It's about time Demon Hunters got nerfed] (/forums/en/wow/topic/17613513439)\"\n"
     ]
    },
    {
     "name": "stdout",
     "output_type": "stream",
     "text": [
      "Exiting\n'posts: 28'\nPROGRESS: 37% (414/1099)\n'[Help me Improve my DPS] (/forums/en/wow/topic/17613523778)'\n"
     ]
    },
    {
     "name": "stdout",
     "output_type": "stream",
     "text": [
      "HTTPError = 404\n"
     ]
    },
    {
     "name": "stdout",
     "output_type": "stream",
     "text": [
      "Exiting\n'posts: 1'\nPROGRESS: 37% (415/1099)\n('[Tank DH working on Havoc OS - several questions] '\n '(/forums/en/wow/topic/17613553788)')\n"
     ]
    },
    {
     "name": "stdout",
     "output_type": "stream",
     "text": [
      "HTTPError = 404\n"
     ]
    },
    {
     "name": "stdout",
     "output_type": "stream",
     "text": [
      "Exiting\n'posts: 2'\nPROGRESS: 37% (416/1099)\n'[Questions about the PvP] (/forums/en/wow/topic/17613553736)'\n"
     ]
    },
    {
     "name": "stdout",
     "output_type": "stream",
     "text": [
      "Exiting\n'posts: 2'\nPROGRESS: 37% (417/1099)\n'[DH dagger transmog] (/forums/en/wow/topic/17613483591)'\n"
     ]
    },
    {
     "name": "stdout",
     "output_type": "stream",
     "text": [
      "Exiting\n'posts: 6'\nPROGRESS: 38% (418/1099)\n'[DH Transmog - Fist Weapons] (/forums/en/wow/topic/17613523636)'\n"
     ]
    },
    {
     "name": "stdout",
     "output_type": "stream",
     "text": [
      "Exiting\n'posts: 4'\nPROGRESS: 38% (419/1099)\n\"[Runemaster's Pauldrons legendary bugged?] (/forums/en/wow/topic/17613483417)\"\n"
     ]
    },
    {
     "name": "stdout",
     "output_type": "stream",
     "text": [
      "Exiting\n'posts: 6'\nPROGRESS: 38% (420/1099)\n'[Fighting for #1 against ppl 10 IL lower] (/forums/en/wow/topic/17613533143)'\n"
     ]
    },
    {
     "name": "stdout",
     "output_type": "stream",
     "text": [
      "Exiting\n'posts: 21'\nPROGRESS: 38% (421/1099)\n'[A quick guide to using SimulationCraft] (/forums/en/wow/topic/17613453281)'\n"
     ]
    },
    {
     "name": "stdout",
     "output_type": "stream",
     "text": [
      "Exiting\n'posts: 5'\nPROGRESS: 38% (422/1099)\n'[[Vengeance] Am I prepared?] (/forums/en/wow/topic/17613533012)'\n"
     ]
    },
    {
     "name": "stdout",
     "output_type": "stream",
     "text": [
      "Exiting\n'posts: 21'\nPROGRESS: 38% (423/1099)\n'[What to do after nerfs?] (/forums/en/wow/topic/17613533185)'\n"
     ]
    },
    {
     "name": "stdout",
     "output_type": "stream",
     "text": [
      "Exiting\n'posts: 35'\nPROGRESS: 38% (424/1099)\n'[Demonhunter nerf ???why???] (/forums/en/wow/topic/17613563133)'\n"
     ]
    },
    {
     "name": "stdout",
     "output_type": "stream",
     "text": [
      "Exiting\n'posts: 14'\nPROGRESS: 38% (425/1099)\n('[is our damage in the score board/logs bugged?] '\n '(/forums/en/wow/topic/17613453470)')\n"
     ]
    },
    {
     "name": "stdout",
     "output_type": "stream",
     "text": [
      "Exiting\n'posts: 1'\nPROGRESS: 38% (426/1099)\n'[Why i quite PvP with DH] (/forums/en/wow/topic/17613543209)'\n"
     ]
    },
    {
     "name": "stdout",
     "output_type": "stream",
     "text": [
      "Exiting\n'posts: 16'\nPROGRESS: 38% (427/1099)\n'[Xavius HC - Havoc DH PoV] (/forums/en/wow/topic/17613522705)'\n"
     ]
    },
    {
     "name": "stdout",
     "output_type": "stream",
     "text": [
      "Exiting\n'posts: 20'\nPROGRESS: 38% (428/1099)\n'[New Spell (from US forums :) )] (/forums/en/wow/topic/17613533036)'\n"
     ]
    },
    {
     "name": "stdout",
     "output_type": "stream",
     "text": [
      "HTTPError = 404\n"
     ]
    },
    {
     "name": "stdout",
     "output_type": "stream",
     "text": [
      "Exiting\n'posts: 3'\nPROGRESS: 39% (429/1099)\n\"[Fel Hammer's Wrath or Focused War Effort] (/forums/en/wow/topic/17613552869)\"\n"
     ]
    },
    {
     "name": "stdout",
     "output_type": "stream",
     "text": [
      "Exiting\n'posts: 7'\nPROGRESS: 39% (430/1099)\n'[Demon Blades] (/forums/en/wow/topic/17613493435)'\n"
     ]
    },
    {
     "name": "stdout",
     "output_type": "stream",
     "text": [
      "Exiting\n'posts: 1'\nPROGRESS: 39% (431/1099)\n'[pvE/pvp Guide after the hotfix] (/forums/en/wow/topic/17613523416)'\n"
     ]
    },
    {
     "name": "stdout",
     "output_type": "stream",
     "text": [
      "Exiting\n'posts: 3'\nPROGRESS: 39% (432/1099)\n'[A Constructive Thread about DPS] (/forums/en/wow/topic/17613453272)'\n"
     ]
    },
    {
     "name": "stdout",
     "output_type": "stream",
     "text": [
      "Exiting\n'posts: 9'\nPROGRESS: 39% (433/1099)\n'[Vengeance tank nerf] (/forums/en/wow/topic/17613473131)'\n"
     ]
    },
    {
     "name": "stdout",
     "output_type": "stream",
     "text": [
      "Exiting\n'posts: 7'\nPROGRESS: 39% (434/1099)\n'[DH is the Loser Class] (/forums/en/wow/topic/17613452589)'\n"
     ]
    },
    {
     "name": "stdout",
     "output_type": "stream",
     "text": [
      "Exiting\n'posts: 58'\nPROGRESS: 39% (435/1099)\n('[Problem with Multiple Playstyes in one Spec] '\n '(/forums/en/wow/topic/17613523388)')\n"
     ]
    },
    {
     "name": "stdout",
     "output_type": "stream",
     "text": [
      "HTTPError = 404\n"
     ]
    },
    {
     "name": "stdout",
     "output_type": "stream",
     "text": [
      "Exiting\n'posts: 1'\nPROGRESS: 39% (436/1099)\n('[To those who tells us to stop whining/complaining] '\n '(/forums/en/wow/topic/17613553364)')\n"
     ]
    },
    {
     "name": "stdout",
     "output_type": "stream",
     "text": [
      "Exiting\n'posts: 6'\nPROGRESS: 39% (437/1099)\n('[[Vengeance] Issue with Mastery + possible Solution] '\n '(/forums/en/wow/topic/17613472437)')\n"
     ]
    },
    {
     "name": "stdout",
     "output_type": "stream",
     "text": [
      "Exiting\n'posts: 4'\nPROGRESS: 39% (438/1099)\n('[Vegeance threath generation in raids to low?] '\n '(/forums/en/wow/topic/17613493232)')\n"
     ]
    },
    {
     "name": "stdout",
     "output_type": "stream",
     "text": [
      "Exiting\n'posts: 5'\nPROGRESS: 39% (439/1099)\n'[My numbers after nerf] (/forums/en/wow/topic/17613503244)'\n"
     ]
    },
    {
     "name": "stdout",
     "output_type": "stream",
     "text": [
      "Exiting\n'posts: 5'\nPROGRESS: 40% (440/1099)\n'[st dmg] (/forums/en/wow/topic/17613453267)'\n"
     ]
    },
    {
     "name": "stdout",
     "output_type": "stream",
     "text": [
      "Exiting\n'posts: 2'\nPROGRESS: 40% (441/1099)\n'[Tanking Tips.] (/forums/en/wow/topic/17613562930)'\n"
     ]
    },
    {
     "name": "stdout",
     "output_type": "stream",
     "text": [
      "Exiting\n'posts: 7'\nPROGRESS: 40% (442/1099)\n'[Arena European Championship] (/forums/en/wow/topic/17613553274)'\n"
     ]
    },
    {
     "name": "stdout",
     "output_type": "stream",
     "text": [
      "HTTPError = 404\n"
     ]
    },
    {
     "name": "stdout",
     "output_type": "stream",
     "text": [
      "Exiting\n'posts: 3'\nPROGRESS: 40% (443/1099)\n'[Another nerf?!!? Are you kidding?!] (/forums/en/wow/topic/17613523105)'\n"
     ]
    },
    {
     "name": "stdout",
     "output_type": "stream",
     "text": [
      "HTTPError = 404\n"
     ]
    },
    {
     "name": "stdout",
     "output_type": "stream",
     "text": [
      "Exiting\n'posts: 20'\nPROGRESS: 40% (444/1099)\n\"[I've sacrificed my HC raid tank spot] (/forums/en/wow/topic/17613552810)\"\n"
     ]
    },
    {
     "name": "stdout",
     "output_type": "stream",
     "text": [
      "Exiting\n'posts: 24'\nPROGRESS: 40% (445/1099)\n'[Random 60% Leech?] (/forums/en/wow/topic/17613533204)'\n"
     ]
    },
    {
     "name": "stdout",
     "output_type": "stream",
     "text": [
      "Exiting\n'posts: 5'\nPROGRESS: 40% (446/1099)\n('[[Havoc] Stop complaining & making us look bad please.] '\n '(/forums/en/wow/topic/17613523032)')\n"
     ]
    },
    {
     "name": "stdout",
     "output_type": "stream",
     "text": [
      "Exiting\n'posts: 21'\nPROGRESS: 40% (447/1099)\n'[obliterum and class campaign] (/forums/en/wow/topic/17613553266)'\n"
     ]
    },
    {
     "name": "stdout",
     "output_type": "stream",
     "text": [
      "Exiting\n'posts: 2'\nPROGRESS: 40% (448/1099)\n'[Inner Demons] (/forums/en/wow/topic/17613463172)'\n"
     ]
    },
    {
     "name": "stdout",
     "output_type": "stream",
     "text": [
      "Exiting\n'posts: 2'\nPROGRESS: 40% (449/1099)\n'[Dear devs] (/forums/en/wow/topic/17613483083)'\n"
     ]
    },
    {
     "name": "stdout",
     "output_type": "stream",
     "text": [
      "HTTPError = 404\n"
     ]
    },
    {
     "name": "stdout",
     "output_type": "stream",
     "text": [
      "Exiting\n'posts: 2'\nPROGRESS: 40% (450/1099)\n'[Why can auto-hits miss?] (/forums/en/wow/topic/17613463170)'\n"
     ]
    },
    {
     "name": "stdout",
     "output_type": "stream",
     "text": [
      "HTTPError = 404\n"
     ]
    },
    {
     "name": "stdout",
     "output_type": "stream",
     "text": [
      "Exiting\n'posts: 2'\nPROGRESS: 41% (451/1099)\n'[Demonic Appetite Proc visual] (/forums/en/wow/topic/17613513126)'\n"
     ]
    },
    {
     "name": "stdout",
     "output_type": "stream",
     "text": [
      "Exiting\n'posts: 4'\nPROGRESS: 41% (452/1099)\n'[Nerf -] (/forums/en/wow/topic/17613502453)'\n"
     ]
    },
    {
     "name": "stdout",
     "output_type": "stream",
     "text": [
      "HTTPError = 404\n"
     ]
    },
    {
     "name": "stdout",
     "output_type": "stream",
     "text": [
      "Exiting\n'posts: 13'\nPROGRESS: 41% (453/1099)\n'[Dh in Pvp? Still viable, or?] (/forums/en/wow/topic/17613462897)'\n"
     ]
    },
    {
     "name": "stdout",
     "output_type": "stream",
     "text": [
      "Exiting\n'posts: 13'\nPROGRESS: 41% (454/1099)\n'[Demon Hunter - Vengeance 7.0.3 Guide] (/forums/en/wow/topic/17613423481)'\n"
     ]
    },
    {
     "name": "stdout",
     "output_type": "stream",
     "text": [
      "Exiting\n'posts: 49'\nPROGRESS: 41% (455/1099)\n'[Relics] (/forums/en/wow/topic/17613493094)'\n"
     ]
    },
    {
     "name": "stdout",
     "output_type": "stream",
     "text": [
      "Exiting\n'posts: 1'\nPROGRESS: 41% (456/1099)\n('[Suggestion: Make Demonic (talent) an active ability] '\n '(/forums/en/wow/topic/17613492968)')\n"
     ]
    },
    {
     "name": "stdout",
     "output_type": "stream",
     "text": [
      "Exiting\n'posts: 5'\nPROGRESS: 41% (457/1099)\n(\"[Mythic EN logs show that DH aren't mythic raid material] \"\n '(/forums/en/wow/topic/17613462796)')\n"
     ]
    },
    {
     "name": "stdout",
     "output_type": "stream",
     "text": [
      "HTTPError = 404\n"
     ]
    },
    {
     "name": "stdout",
     "output_type": "stream",
     "text": [
      "Exiting\n'posts: 13'\nPROGRESS: 41% (458/1099)\n'[Declined - Havoc] (/forums/en/wow/topic/17613492850)'\n"
     ]
    },
    {
     "name": "stdout",
     "output_type": "stream",
     "text": [
      "Exiting\n'posts: 18'\nPROGRESS: 41% (459/1099)\n'[Demon Hunter Havoc Post-Nerf] (/forums/en/wow/topic/17613462985)'\n"
     ]
    },
    {
     "name": "stdout",
     "output_type": "stream",
     "text": [
      "Exiting\n'posts: 6'\nPROGRESS: 41% (460/1099)\n'[Just gonna leave this here...] (/forums/en/wow/topic/17613482866)'\n"
     ]
    },
    {
     "name": "stdout",
     "output_type": "stream",
     "text": [
      "Exiting\n'posts: 12'\nPROGRESS: 41% (461/1099)\n'[Is it just me?] (/forums/en/wow/topic/17613452698)'\n"
     ]
    },
    {
     "name": "stdout",
     "output_type": "stream",
     "text": [
      "HTTPError = 404\n"
     ]
    },
    {
     "name": "stdout",
     "output_type": "stream",
     "text": [
      "Exiting\n'posts: 10'\nPROGRESS: 42% (462/1099)\n'[Some doubts about BiS gear] (/forums/en/wow/topic/17613482930)'\n"
     ]
    },
    {
     "name": "stdout",
     "output_type": "stream",
     "text": [
      "Exiting\n'posts: 3'\nPROGRESS: 42% (463/1099)\n('[What stats should I look for in items as havoc?] '\n '(/forums/en/wow/topic/17613512918)')\n"
     ]
    },
    {
     "name": "stdout",
     "output_type": "stream",
     "text": [
      "Exiting\n'posts: 4'\nPROGRESS: 42% (464/1099)\n'[Glyph of Fel-Enemies] (/forums/en/wow/topic/17613503061)'\n"
     ]
    },
    {
     "name": "stdout",
     "output_type": "stream",
     "text": [
      "Exiting\n'posts: 1'\nPROGRESS: 42% (465/1099)\n'[Good news! (Hotfixes: September 26)] (/forums/en/wow/topic/17613542529)'\n"
     ]
    },
    {
     "name": "stdout",
     "output_type": "stream",
     "text": [
      "Exiting\n'posts: 50'\nPROGRESS: 42% (466/1099)\n'[Stat weights after Wednesday] (/forums/en/wow/topic/17613542578)'\n"
     ]
    },
    {
     "name": "stdout",
     "output_type": "stream",
     "text": [
      "Exiting\n'posts: 8'\nPROGRESS: 42% (467/1099)\n'[Declined] (/forums/en/wow/topic/17613482764)'\n"
     ]
    },
    {
     "name": "stdout",
     "output_type": "stream",
     "text": [
      "HTTPError = 404\nHTTPError = 404\n"
     ]
    },
    {
     "name": "stdout",
     "output_type": "stream",
     "text": [
      "HTTPError = 404\n"
     ]
    },
    {
     "name": "stdout",
     "output_type": "stream",
     "text": [
      "Exiting\n'posts: 52'\nPROGRESS: 42% (468/1099)\n'[Atleast fix the ST...] (/forums/en/wow/topic/17613512829)'\n"
     ]
    },
    {
     "name": "stdout",
     "output_type": "stream",
     "text": [
      "HTTPError = 404\n"
     ]
    },
    {
     "name": "stdout",
     "output_type": "stream",
     "text": [
      "Exiting\n'posts: 10'\nPROGRESS: 42% (469/1099)\n('[Thank You Dev team!To make me stop playing] '\n '(/forums/en/wow/topic/17613462881)')\n"
     ]
    },
    {
     "name": "stdout",
     "output_type": "stream",
     "text": [
      "Exiting\n'posts: 6'\nPROGRESS: 42% (470/1099)\n'[Patch/nerf results] (/forums/en/wow/topic/17613552822)'\n"
     ]
    },
    {
     "name": "stdout",
     "output_type": "stream",
     "text": [
      "HTTPError = 404\n"
     ]
    },
    {
     "name": "stdout",
     "output_type": "stream",
     "text": [
      "Exiting\n'posts: 34'\nPROGRESS: 42% (471/1099)\n'[Havoc Demon Hunter Dad Pug Life Ruined] (/forums/en/wow/topic/17613552929)'\n"
     ]
    },
    {
     "name": "stdout",
     "output_type": "stream",
     "text": [
      "Exiting\n'posts: 6'\nPROGRESS: 42% (472/1099)\n'[Question about Pinning Glare (PvP talent)] (/forums/en/wow/topic/17613542960)'\n"
     ]
    },
    {
     "name": "stdout",
     "output_type": "stream",
     "text": [
      "Exiting\n'posts: 1'\nPROGRESS: 43% (473/1099)\n'[Is there any reason to play DH anymore ?] (/forums/en/wow/topic/17613452845)'\n"
     ]
    },
    {
     "name": "stdout",
     "output_type": "stream",
     "text": [
      "Exiting\n'posts: 11'\nPROGRESS: 43% (474/1099)\n'[This class is fun :)] (/forums/en/wow/topic/17613542502)'\n"
     ]
    },
    {
     "name": "stdout",
     "output_type": "stream",
     "text": [
      "Exiting\n'posts: 8'\nPROGRESS: 43% (475/1099)\n'[Choice between two trinkets] (/forums/en/wow/topic/17613512870)'\n"
     ]
    },
    {
     "name": "stdout",
     "output_type": "stream",
     "text": [
      "Exiting\n'posts: 2'\nPROGRESS: 43% (476/1099)\n\"[[Candrael's Charm] drop] (/forums/en/wow/topic/17613462663)\"\n"
     ]
    },
    {
     "name": "stdout",
     "output_type": "stream",
     "text": [
      "Exiting\n'posts: 4'\nPROGRESS: 43% (477/1099)\n'[Are you kidding me?] (/forums/en/wow/topic/17613492880)'\n"
     ]
    },
    {
     "name": "stdout",
     "output_type": "stream",
     "text": [
      "Exiting\n'posts: 4'\nPROGRESS: 43% (478/1099)\n'[PVE nerf too huge] (/forums/en/wow/topic/17613512885)'\n"
     ]
    },
    {
     "name": "stdout",
     "output_type": "stream",
     "text": [
      "HTTPError = 404\n"
     ]
    },
    {
     "name": "stdout",
     "output_type": "stream",
     "text": [
      "Exiting\n'posts: 3'\nPROGRESS: 43% (479/1099)\n('[[Vengeance] How do you get accepted to Mythic+ runs?] '\n '(/forums/en/wow/topic/17613472534)')\n"
     ]
    },
    {
     "name": "stdout",
     "output_type": "stream",
     "text": [
      "HTTPError = 404\nHTTPError = 404\nHTTPError = 404\n"
     ]
    },
    {
     "name": "stdout",
     "output_type": "stream",
     "text": [
      "Exiting\n'posts: 15'\nPROGRESS: 43% (480/1099)\n\"[I can't believe there's even a debate] (/forums/en/wow/topic/17613532486)\"\n"
     ]
    },
    {
     "name": "stdout",
     "output_type": "stream",
     "text": [
      "HTTPError = 404\n"
     ]
    },
    {
     "name": "stdout",
     "output_type": "stream",
     "text": [
      "Exiting\n'posts: 29'\nPROGRESS: 43% (481/1099)\n(\"[Let's try to give some feedback to the devs (Havoc)] \"\n '(/forums/en/wow/topic/17613492783)')\n"
     ]
    },
    {
     "name": "stdout",
     "output_type": "stream",
     "text": [
      "Exiting\n'posts: 15'\nPROGRESS: 43% (482/1099)\n'[DH nerf] (/forums/en/wow/topic/17613562462)'\n"
     ]
    },
    {
     "name": "stdout",
     "output_type": "stream",
     "text": [
      "Exiting\n'posts: 14'\nPROGRESS: 43% (483/1099)\n'[#MakeDHGreatAgain......] (/forums/en/wow/topic/17613502481)'\n"
     ]
    },
    {
     "name": "stdout",
     "output_type": "stream",
     "text": [
      "Exiting\n'posts: 9'\nPROGRESS: 44% (484/1099)\n'[150% Bloodlet will still be too good] (/forums/en/wow/topic/17613502715)'\n"
     ]
    },
    {
     "name": "stdout",
     "output_type": "stream",
     "text": [
      "Exiting\n'posts: 23'\nPROGRESS: 44% (485/1099)\n'[The nerf is here] (/forums/en/wow/topic/17613522787)'\n"
     ]
    },
    {
     "name": "stdout",
     "output_type": "stream",
     "text": [
      "Exiting\n'posts: 7'\nPROGRESS: 44% (486/1099)\n'[Mastery nerf worse than expected] (/forums/en/wow/topic/17613522699)'\n"
     ]
    },
    {
     "name": "stdout",
     "output_type": "stream",
     "text": [
      "HTTPError = 404\n"
     ]
    },
    {
     "name": "stdout",
     "output_type": "stream",
     "text": [
      "Exiting\n'posts: 32'\nPROGRESS: 44% (487/1099)\n'[FoTM] (/forums/en/wow/topic/17613462612)'\n"
     ]
    },
    {
     "name": "stdout",
     "output_type": "stream",
     "text": [
      "HTTPError = 404\n"
     ]
    },
    {
     "name": "stdout",
     "output_type": "stream",
     "text": [
      "Exiting\n'posts: 4'\nPROGRESS: 44% (488/1099)\n'[Good news!] (/forums/en/wow/topic/17613472537)'\n"
     ]
    },
    {
     "name": "stdout",
     "output_type": "stream",
     "text": [
      "HTTPError = 404\n"
     ]
    },
    {
     "name": "stdout",
     "output_type": "stream",
     "text": [
      "Exiting\n'posts: 13'\nPROGRESS: 44% (489/1099)\n'[DH + PVP = JOKE] (/forums/en/wow/topic/17613404495)'\n"
     ]
    },
    {
     "name": "stdout",
     "output_type": "stream",
     "text": [
      "Exiting\n'posts: 28'\nPROGRESS: 44% (490/1099)\n'[The nerf on DH tanks....???] (/forums/en/wow/topic/17613481635)'\n"
     ]
    },
    {
     "name": "stdout",
     "output_type": "stream",
     "text": [
      "Exiting\n'posts: 55'\nPROGRESS: 44% (491/1099)\n'[damage calculation update] (/forums/en/wow/topic/17613532469)'\n"
     ]
    },
    {
     "name": "stdout",
     "output_type": "stream",
     "text": [
      "HTTPError = 404\n"
     ]
    },
    {
     "name": "stdout",
     "output_type": "stream",
     "text": [
      "Exiting\n'posts: 16'\nPROGRESS: 44% (492/1099)\n'[Disconnects on pull/skill spam] (/forums/en/wow/topic/17613492599)'\n"
     ]
    },
    {
     "name": "stdout",
     "output_type": "stream",
     "text": [
      "Exiting\n'posts: 3'\nPROGRESS: 44% (493/1099)\n'[Ahem] (/forums/en/wow/topic/17613512717)'\n"
     ]
    },
    {
     "name": "stdout",
     "output_type": "stream",
     "text": [
      "Exiting\n'posts: 2'\nPROGRESS: 44% (494/1099)\n\"[Candreal's Charm] (/forums/en/wow/topic/17613491671)\"\n"
     ]
    },
    {
     "name": "stdout",
     "output_type": "stream",
     "text": [
      "HTTPError = 404\n"
     ]
    },
    {
     "name": "stdout",
     "output_type": "stream",
     "text": [
      "Exiting\n'posts: 31'\nPROGRESS: 45% (495/1099)\n('[DH is dead. Havoc and Vengeance were murdered.] '\n '(/forums/en/wow/topic/17613502668)')\n"
     ]
    },
    {
     "name": "stdout",
     "output_type": "stream",
     "text": [
      "Exiting\n'posts: 12'\nPROGRESS: 45% (496/1099)\n'[Havoc bloodlet] (/forums/en/wow/topic/17613472701)'\n"
     ]
    },
    {
     "name": "stdout",
     "output_type": "stream",
     "text": [
      "Exiting\n'posts: 11'\nPROGRESS: 45% (497/1099)\n'[NERF CANCELED FOR HAVOC] (/forums/en/wow/topic/17613482594)'\n"
     ]
    },
    {
     "name": "stdout",
     "output_type": "stream",
     "text": [
      "Exiting\n'posts: 11'\nPROGRESS: 45% (498/1099)\n'[Inner Demon is a... Female?] (/forums/en/wow/topic/17613411909)'\n"
     ]
    },
    {
     "name": "stdout",
     "output_type": "stream",
     "text": [
      "Exiting\n'posts: 21'\nPROGRESS: 45% (499/1099)\n'[Back to Mardum] (/forums/en/wow/topic/17613332891)'\n"
     ]
    },
    {
     "name": "stdout",
     "output_type": "stream",
     "text": [
      "Exiting\n'posts: 5'\nPROGRESS: 45% (500/1099)\n'[Bloodlet(cleave) > Felblade(ST). Why?] (/forums/en/wow/topic/17613452573)'\n"
     ]
    },
    {
     "name": "stdout",
     "output_type": "stream",
     "text": [
      "Exiting\n'posts: 3'\nPROGRESS: 45% (501/1099)\n'[DH Nerf Opinions etc] (/forums/en/wow/topic/17613562060)'\n"
     ]
    },
    {
     "name": "stdout",
     "output_type": "stream",
     "text": [
      "HTTPError = 404\n"
     ]
    },
    {
     "name": "stdout",
     "output_type": "stream",
     "text": [
      "Exiting\n'posts: 77'\nPROGRESS: 45% (502/1099)\n('[Now, we just ride out the storm and remain patient.] '\n '(/forums/en/wow/topic/17613512583)')\n"
     ]
    },
    {
     "name": "stdout",
     "output_type": "stream",
     "text": [
      "Exiting\n'posts: 4'\nPROGRESS: 45% (503/1099)\n'[Havoc help: Rotation/traits/stats] (/forums/en/wow/topic/17613452541)'\n"
     ]
    },
    {
     "name": "stdout",
     "output_type": "stream",
     "text": [
      "HTTPError = 404\n"
     ]
    },
    {
     "name": "stdout",
     "output_type": "stream",
     "text": [
      "Exiting\n'posts: 3'\nPROGRESS: 45% (504/1099)\n('[so do we get a refund on artifact power spent?] '\n '(/forums/en/wow/topic/17613452517)')\n"
     ]
    },
    {
     "name": "stdout",
     "output_type": "stream",
     "text": [
      "Exiting\n'posts: 8'\nPROGRESS: 45% (505/1099)\n'[This is madness] (/forums/en/wow/topic/17613512586)'\n"
     ]
    },
    {
     "name": "stdout",
     "output_type": "stream",
     "text": [
      "Exiting\n'posts: 2'\nPROGRESS: 46% (506/1099)\n'[Demon hunter have wrong base design.] (/forums/en/wow/topic/17613522568)'\n"
     ]
    },
    {
     "name": "stdout",
     "output_type": "stream",
     "text": [
      "Exiting\n'posts: 8'\nPROGRESS: 46% (507/1099)\n'[Best 2v2 DH Partner] (/forums/en/wow/topic/17613562619)'\n"
     ]
    },
    {
     "name": "stdout",
     "output_type": "stream",
     "text": [
      "HTTPError = 404\n"
     ]
    },
    {
     "name": "stdout",
     "output_type": "stream",
     "text": [
      "Exiting\n'posts: 2'\nPROGRESS: 46% (508/1099)\n'[I just started wow :D] (/forums/en/wow/topic/17613482526)'\n"
     ]
    },
    {
     "name": "stdout",
     "output_type": "stream",
     "text": [
      "Exiting\n'posts: 1'\nPROGRESS: 46% (509/1099)\n'[logout on fel rush] (/forums/en/wow/topic/17613492428)'\n"
     ]
    },
    {
     "name": "stdout",
     "output_type": "stream",
     "text": [
      "Exiting\n'posts: 6'\nPROGRESS: 46% (510/1099)\n'[Still waiting for Passive leech] (/forums/en/wow/topic/17613552579)'\n"
     ]
    },
    {
     "name": "stdout",
     "output_type": "stream",
     "text": [
      "Exiting\n'posts: 1'\nPROGRESS: 46% (511/1099)\n'[Blizzard logic with DH nerf] (/forums/en/wow/topic/17613492516)'\n"
     ]
    },
    {
     "name": "stdout",
     "output_type": "stream",
     "text": [
      "Exiting\n'posts: 2'\nPROGRESS: 46% (512/1099)\n'[DH Tanks] (/forums/en/wow/topic/17613451947)'\n"
     ]
    },
    {
     "name": "stdout",
     "output_type": "stream",
     "text": [
      "HTTPError = 404\n"
     ]
    },
    {
     "name": "stdout",
     "output_type": "stream",
     "text": [
      "Exiting\n'posts: 5'\nPROGRESS: 46% (513/1099)\n'[DH tankimg in raids] (/forums/en/wow/topic/17613562439)'\n"
     ]
    },
    {
     "name": "stdout",
     "output_type": "stream",
     "text": [
      "Exiting\n'posts: 9'\nPROGRESS: 46% (514/1099)\n'[No Dalaran Hearthstone] (/forums/en/wow/topic/17613331446)'\n"
     ]
    },
    {
     "name": "stdout",
     "output_type": "stream",
     "text": [
      "Exiting\n'posts: 7'\nPROGRESS: 46% (515/1099)\n'[How Blizzard should change the nerfs...] (/forums/en/wow/topic/17613502408)'\n"
     ]
    },
    {
     "name": "stdout",
     "output_type": "stream",
     "text": [
      "HTTPError = 404\n"
     ]
    },
    {
     "name": "stdout",
     "output_type": "stream",
     "text": [
      "Exiting\n'posts: 8'\nPROGRESS: 46% (516/1099)\n'[Upcoming dh nerf] (/forums/en/wow/topic/17613552370)'\n"
     ]
    },
    {
     "name": "stdout",
     "output_type": "stream",
     "text": [
      "HTTPError = 404\n"
     ]
    },
    {
     "name": "stdout",
     "output_type": "stream",
     "text": [
      "Exiting\n'posts: 20'\nPROGRESS: 47% (517/1099)\n'[Soul Barrier or Last Resort] (/forums/en/wow/topic/17613462383)'\n"
     ]
    },
    {
     "name": "stdout",
     "output_type": "stream",
     "text": [
      "HTTPError = 404\n"
     ]
    },
    {
     "name": "stdout",
     "output_type": "stream",
     "text": [
      "Exiting\n'posts: 5'\nPROGRESS: 47% (518/1099)\n'[Talents after nerf] (/forums/en/wow/topic/17613522498)'\n"
     ]
    },
    {
     "name": "stdout",
     "output_type": "stream",
     "text": [
      "Exiting\n'posts: 5'\nPROGRESS: 47% (519/1099)\n'[Demon Hunter Artifact Relic] (/forums/en/wow/topic/17613482391)'\n"
     ]
    },
    {
     "name": "stdout",
     "output_type": "stream",
     "text": [
      "Exiting\n'posts: 3'\nPROGRESS: 47% (520/1099)\n('[The tank spec is best for leveling afterall?] '\n '(/forums/en/wow/topic/17613342252)')\n"
     ]
    },
    {
     "name": "stdout",
     "output_type": "stream",
     "text": [
      "Exiting\n'posts: 16'\nPROGRESS: 47% (521/1099)\n'[Our EN trinket choices blow.] (/forums/en/wow/topic/17613542344)'\n"
     ]
    },
    {
     "name": "stdout",
     "output_type": "stream",
     "text": [
      "HTTPError = 404\n"
     ]
    },
    {
     "name": "stdout",
     "output_type": "stream",
     "text": [
      "Exiting\n'posts: 4'\nPROGRESS: 47% (522/1099)\n'[Reroll time?] (/forums/en/wow/topic/17613502353)'\n"
     ]
    },
    {
     "name": "stdout",
     "output_type": "stream",
     "text": [
      "Exiting\n'posts: 5'\nPROGRESS: 47% (523/1099)\n'[Hidden Artifact Dropped] (/forums/en/wow/topic/17613562330)'\n"
     ]
    },
    {
     "name": "stdout",
     "output_type": "stream",
     "text": [
      "Exiting\n'posts: 10'\nPROGRESS: 47% (524/1099)\n('[Guise of the Deathwalker // THANKS BLIZZ!!!] '\n '(/forums/en/wow/topic/17613532218)')\n"
     ]
    },
    {
     "name": "stdout",
     "output_type": "stream",
     "text": [
      "Exiting\n'posts: 16'\nPROGRESS: 47% (525/1099)\n\"[Havoc nerfs aren't final] (/forums/en/wow/topic/17613462353)\"\n"
     ]
    },
    {
     "name": "stdout",
     "output_type": "stream",
     "text": [
      "Exiting\n'posts: 7'\nPROGRESS: 47% (526/1099)\n'[Talking about rerolling...] (/forums/en/wow/topic/17613472375)'\n"
     ]
    },
    {
     "name": "stdout",
     "output_type": "stream",
     "text": [
      "Exiting\n'posts: 5'\nPROGRESS: 47% (527/1099)\n'[Help me with DPS techniques] (/forums/en/wow/topic/17613532382)'\n"
     ]
    },
    {
     "name": "stdout",
     "output_type": "stream",
     "text": [
      "HTTPError = 404\n"
     ]
    },
    {
     "name": "stdout",
     "output_type": "stream",
     "text": [
      "Exiting\n'posts: 3'\nPROGRESS: 48% (528/1099)\n('[[Vengeance] i will get hit for 17% more physical damage] '\n '(/forums/en/wow/topic/17613502180)')\n"
     ]
    },
    {
     "name": "stdout",
     "output_type": "stream",
     "text": [
      "Exiting\n'posts: 19'\nPROGRESS: 48% (529/1099)\n('[#reroll....... rest in peace my lovely DH.....] '\n '(/forums/en/wow/topic/17613532121)')\n"
     ]
    },
    {
     "name": "stdout",
     "output_type": "stream",
     "text": [
      "HTTPError = 404\n"
     ]
    },
    {
     "name": "stdout",
     "output_type": "stream",
     "text": [
      "Exiting\n'posts: 40'\nPROGRESS: 48% (530/1099)\n'[Dazed?] (/forums/en/wow/topic/17613451894)'\n"
     ]
    },
    {
     "name": "stdout",
     "output_type": "stream",
     "text": [
      "Exiting\n'posts: 3'\nPROGRESS: 48% (531/1099)\n'[Our spells animations are too green] (/forums/en/wow/topic/17613502381)'\n"
     ]
    },
    {
     "name": "stdout",
     "output_type": "stream",
     "text": [
      "Exiting\n'posts: 6'\nPROGRESS: 48% (532/1099)\n'[Fel Rush Disconnects] (/forums/en/wow/topic/17613472363)'\n"
     ]
    },
    {
     "name": "stdout",
     "output_type": "stream",
     "text": [
      "Exiting\n'posts: 6'\nPROGRESS: 48% (533/1099)\n'[HAVOC HIDDEN SKIN OMGOMG] (/forums/en/wow/topic/17613423607)'\n"
     ]
    },
    {
     "name": "stdout",
     "output_type": "stream",
     "text": [
      "Exiting\n'posts: 18'\nPROGRESS: 48% (534/1099)\n(\"[Damage nerf - ok, but don't destroy our playstyle] \"\n '(/forums/en/wow/topic/17613512153)')\n"
     ]
    },
    {
     "name": "stdout",
     "output_type": "stream",
     "text": [
      "Exiting\n'posts: 5'\nPROGRESS: 48% (535/1099)\n'[Talent balance instead of pure nerf] (/forums/en/wow/topic/17613502164)'\n"
     ]
    },
    {
     "name": "stdout",
     "output_type": "stream",
     "text": [
      "HTTPError = 404\n"
     ]
    },
    {
     "name": "stdout",
     "output_type": "stream",
     "text": [
      "Exiting\n'posts: 3'\nPROGRESS: 48% (536/1099)\n'[My numbers regarding hotfix.] (/forums/en/wow/topic/17613512133)'\n"
     ]
    },
    {
     "name": "stdout",
     "output_type": "stream",
     "text": [
      "HTTPError = 404\n"
     ]
    },
    {
     "name": "stdout",
     "output_type": "stream",
     "text": [
      "Exiting\n'posts: 18'\nPROGRESS: 48% (537/1099)\n'[Regarding the nerfs] (/forums/en/wow/topic/17613542291)'\n"
     ]
    },
    {
     "name": "stdout",
     "output_type": "stream",
     "text": [
      "Exiting\n'posts: 3'\nPROGRESS: 48% (538/1099)\n'[Havoc Raiding Brought Concerns] (/forums/en/wow/topic/17613542295)'\n"
     ]
    },
    {
     "name": "stdout",
     "output_type": "stream",
     "text": [
      "HTTPError = 404\n"
     ]
    },
    {
     "name": "stdout",
     "output_type": "stream",
     "text": [
      "Exiting\n'posts: 3'\nPROGRESS: 49% (539/1099)\n'[DH feels too weak] (/forums/en/wow/topic/17613542248)'\n"
     ]
    },
    {
     "name": "stdout",
     "output_type": "stream",
     "text": [
      "Exiting\n'posts: 4'\nPROGRESS: 49% (540/1099)\n'[Why nerfing our Single Target?] (/forums/en/wow/topic/17613512050)'\n"
     ]
    },
    {
     "name": "stdout",
     "output_type": "stream",
     "text": [
      "Exiting\n'posts: 25'\nPROGRESS: 49% (541/1099)\n('[A Constructive Discussion to Havoc Changes] '\n '(/forums/en/wow/topic/17613532209)')\n"
     ]
    },
    {
     "name": "stdout",
     "output_type": "stream",
     "text": [
      "Exiting\n'posts: 22'\nPROGRESS: 49% (542/1099)\n'[Illogical nerf to DH...] (/forums/en/wow/topic/17613502289)'\n"
     ]
    },
    {
     "name": "stdout",
     "output_type": "stream",
     "text": [
      "Exiting\n'posts: 2'\nPROGRESS: 49% (543/1099)\n('[Please make First Blood a viable ST talent.] '\n '(/forums/en/wow/topic/17613472319)')\n"
     ]
    },
    {
     "name": "stdout",
     "output_type": "stream",
     "text": [
      "Exiting\n'posts: 1'\nPROGRESS: 49% (544/1099)\n'[Demon blades and felblade] (/forums/en/wow/topic/17613502225)'\n"
     ]
    },
    {
     "name": "stdout",
     "output_type": "stream",
     "text": [
      "HTTPError = 404\n"
     ]
    },
    {
     "name": "stdout",
     "output_type": "stream",
     "text": [
      "Exiting\n'posts: 6'\nPROGRESS: 49% (545/1099)\n'[New talent builds with new path] (/forums/en/wow/topic/17613502179)'\n"
     ]
    },
    {
     "name": "stdout",
     "output_type": "stream",
     "text": [
      "Exiting\n'posts: 5'\nPROGRESS: 49% (546/1099)\n'[NERFS UNACCEPTABLE this xpac!] (/forums/en/wow/topic/17613522320)'\n"
     ]
    },
    {
     "name": "stdout",
     "output_type": "stream",
     "text": [
      "Exiting\n'posts: 1'\nPROGRESS: 49% (547/1099)\n'[Havoc Hidden Look] (/forums/en/wow/topic/17613482237)'\n"
     ]
    },
    {
     "name": "stdout",
     "output_type": "stream",
     "text": [
      "HTTPError = 404\n"
     ]
    },
    {
     "name": "stdout",
     "output_type": "stream",
     "text": [
      "Exiting\n'posts: 2'\nPROGRESS: 49% (548/1099)\n'[As a non DH you nerfed this class to much] (/forums/en/wow/topic/17613472198)'\n"
     ]
    },
    {
     "name": "stdout",
     "output_type": "stream",
     "text": [
      "Exiting\n'posts: 5'\nPROGRESS: 49% (549/1099)\n'[Feedback: Upcoming Havoc changes] (/forums/en/wow/topic/17613542210)'\n"
     ]
    },
    {
     "name": "stdout",
     "output_type": "stream",
     "text": [
      "HTTPError = 404\n"
     ]
    },
    {
     "name": "stdout",
     "output_type": "stream",
     "text": [
      "Exiting\n'posts: 1'\nPROGRESS: 50% (550/1099)\n'[Infernal Alchemist Trinket] (/forums/en/wow/topic/17613532247)'\n"
     ]
    },
    {
     "name": "stdout",
     "output_type": "stream",
     "text": [
      "Exiting\n'posts: 1'\nPROGRESS: 50% (551/1099)\n'[What is the point in such a strong nerf?] (/forums/en/wow/topic/17613522272)'\n"
     ]
    },
    {
     "name": "stdout",
     "output_type": "stream",
     "text": [
      "Exiting\n'posts: 2'\nPROGRESS: 50% (552/1099)\n'[Im sure...] (/forums/en/wow/topic/17613512231)'\n"
     ]
    },
    {
     "name": "stdout",
     "output_type": "stream",
     "text": [
      "Exiting\n'posts: 3'\nPROGRESS: 50% (553/1099)\n'[Vengance, we need to talk about this.] (/forums/en/wow/topic/17613532188)'\n"
     ]
    },
    {
     "name": "stdout",
     "output_type": "stream",
     "text": [
      "Exiting\n'posts: 4'\nPROGRESS: 50% (554/1099)\n'[Interesting debacle about the DH nerfs] (/forums/en/wow/topic/17613492160)'\n"
     ]
    },
    {
     "name": "stdout",
     "output_type": "stream",
     "text": [
      "HTTPError = 404\n"
     ]
    },
    {
     "name": "stdout",
     "output_type": "stream",
     "text": [
      "Exiting\n'posts: 2'\nPROGRESS: 50% (555/1099)\n\"[Don't Touch My Single Target] (/forums/en/wow/topic/17613472250)\"\n"
     ]
    },
    {
     "name": "stdout",
     "output_type": "stream",
     "text": [
      "Exiting\n'posts: 2'\nPROGRESS: 50% (556/1099)\n('[Lets reason now, what do you honestly think?] '\n '(/forums/en/wow/topic/17613512118)')\n"
     ]
    },
    {
     "name": "stdout",
     "output_type": "stream",
     "text": [
      "HTTPError = 404\n"
     ]
    },
    {
     "name": "stdout",
     "output_type": "stream",
     "text": [
      "Exiting\n'posts: 17'\nPROGRESS: 50% (557/1099)\n'[Worse Tank Nerfed, Ignore Pain Untouched] (/forums/en/wow/topic/17613482083)'\n"
     ]
    },
    {
     "name": "stdout",
     "output_type": "stream",
     "text": [
      "HTTPError = 404\n"
     ]
    },
    {
     "name": "stdout",
     "output_type": "stream",
     "text": [
      "Exiting\n'posts: 8'\nPROGRESS: 50% (558/1099)\n('[Update on Havoc and Spriests from the devs.] '\n '(/forums/en/wow/topic/17613552198)')\n"
     ]
    },
    {
     "name": "stdout",
     "output_type": "stream",
     "text": [
      "Exiting\n'posts: 7'\nPROGRESS: 50% (559/1099)\n'[Understanding the Nerfs] (/forums/en/wow/topic/17613492125)'\n"
     ]
    },
    {
     "name": "stdout",
     "output_type": "stream",
     "text": [
      "HTTPError = 404\n"
     ]
    },
    {
     "name": "stdout",
     "output_type": "stream",
     "text": [
      "Exiting\n'posts: 25'\nPROGRESS: 50% (560/1099)\n'[Changing stat prio] (/forums/en/wow/topic/17613522161)'\n"
     ]
    },
    {
     "name": "stdout",
     "output_type": "stream",
     "text": [
      "HTTPError = 404\nHTTPError = 404\n"
     ]
    },
    {
     "name": "stdout",
     "output_type": "stream",
     "text": [
      "Exiting\n'posts: 10'\nPROGRESS: 51% (561/1099)\n(\"[So what happened to 'No major nerfs all of a sudden'?] \"\n '(/forums/en/wow/topic/17613512105)')\n"
     ]
    },
    {
     "name": "stdout",
     "output_type": "stream",
     "text": [
      "Exiting\n'posts: 21'\nPROGRESS: 51% (562/1099)\n'[There is still hope!] (/forums/en/wow/topic/17613562258)'\n"
     ]
    },
    {
     "name": "stdout",
     "output_type": "stream",
     "text": [
      "Exiting\n'posts: 1'\nPROGRESS: 51% (563/1099)\n\"[It's not the end of the Illidari...] (/forums/en/wow/topic/17613472229)\"\n"
     ]
    },
    {
     "name": "stdout",
     "output_type": "stream",
     "text": [
      "Exiting\n'posts: 4'\nPROGRESS: 51% (564/1099)\n'[HP problem] (/forums/en/wow/topic/17613542147)'\n"
     ]
    },
    {
     "name": "stdout",
     "output_type": "stream",
     "text": [
      "Exiting\n'posts: 1'\nPROGRESS: 51% (565/1099)\n'[Macro-ing Felblade] (/forums/en/wow/topic/17613462198)'\n"
     ]
    },
    {
     "name": "stdout",
     "output_type": "stream",
     "text": [
      "Exiting\n'posts: 3'\nPROGRESS: 51% (566/1099)\n('[Confirmation - Hidden artifact Skin has dropped] '\n '(/forums/en/wow/topic/17613562219)')\n"
     ]
    },
    {
     "name": "stdout",
     "output_type": "stream",
     "text": [
      "Exiting\n'posts: 2'\nPROGRESS: 51% (567/1099)\n'[Guise of the Deadwalker, possible lead.] (/forums/en/wow/topic/17613491467)'\n"
     ]
    },
    {
     "name": "stdout",
     "output_type": "stream",
     "text": [
      "Exiting\n'posts: 6'\nPROGRESS: 51% (568/1099)\n'[DH Nerfs were merely a setback! ...] (/forums/en/wow/topic/17613532094)'\n"
     ]
    },
    {
     "name": "stdout",
     "output_type": "stream",
     "text": [
      "Exiting\n'posts: 9'\nPROGRESS: 51% (569/1099)\n'[Common misunderstanding Soul Barrier] (/forums/en/wow/topic/17613492122)'\n"
     ]
    },
    {
     "name": "stdout",
     "output_type": "stream",
     "text": [
      "Exiting\n'posts: 1'\nPROGRESS: 51% (570/1099)\n'[After many hours of nerf research...] (/forums/en/wow/topic/17613452091)'\n"
     ]
    },
    {
     "name": "stdout",
     "output_type": "stream",
     "text": [
      "HTTPError = 404\n"
     ]
    },
    {
     "name": "stdout",
     "output_type": "stream",
     "text": [
      "Exiting\n'posts: 22'\nPROGRESS: 51% (571/1099)\n'[Such heavy nerfing was uncalled for] (/forums/en/wow/topic/17613532158)'\n"
     ]
    },
    {
     "name": "stdout",
     "output_type": "stream",
     "text": [
      "Exiting\n'posts: 1'\nPROGRESS: 52% (572/1099)\n'[Demon Hunters are broken in 2s] (/forums/en/wow/topic/17613521773)'\n"
     ]
    },
    {
     "name": "stdout",
     "output_type": "stream",
     "text": [
      "Exiting\n'posts: 7'\nPROGRESS: 52% (573/1099)\n'[To all of those saying too many nerfs] (/forums/en/wow/topic/17613522117)'\n"
     ]
    },
    {
     "name": "stdout",
     "output_type": "stream",
     "text": [
      "HTTPError = 404\n"
     ]
    },
    {
     "name": "stdout",
     "output_type": "stream",
     "text": [
      "Exiting\n'posts: 11'\nPROGRESS: 52% (574/1099)\n'[nerf] (/forums/en/wow/topic/17613512167)'\n"
     ]
    },
    {
     "name": "stdout",
     "output_type": "stream",
     "text": [
      "HTTPError = 404\n"
     ]
    },
    {
     "name": "stdout",
     "output_type": "stream",
     "text": [
      "Exiting\n'posts: 1'\nPROGRESS: 52% (575/1099)\n'[Nerfs?!] (/forums/en/wow/topic/17613472175)'\n"
     ]
    },
    {
     "name": "stdout",
     "output_type": "stream",
     "text": [
      "Exiting\n'posts: 1'\nPROGRESS: 52% (576/1099)\n'[Solutions.] (/forums/en/wow/topic/17613532078)'\n"
     ]
    },
    {
     "name": "stdout",
     "output_type": "stream",
     "text": [
      "HTTPError = 404\n"
     ]
    },
    {
     "name": "stdout",
     "output_type": "stream",
     "text": [
      "HTTPError = 404\n"
     ]
    },
    {
     "name": "stdout",
     "output_type": "stream",
     "text": [
      "Exiting\n'posts: 3'\nPROGRESS: 52% (577/1099)\n('[We gonna turn into free kills for warriors and rogues..] '\n '(/forums/en/wow/topic/17613472158)')\n"
     ]
    },
    {
     "name": "stdout",
     "output_type": "stream",
     "text": [
      "HTTPError = 404\n"
     ]
    },
    {
     "name": "stdout",
     "output_type": "stream",
     "text": [
      "Exiting\n'posts: 1'\nPROGRESS: 52% (578/1099)\n('[\"No Nerfs , We will buff the underperformers\"] '\n '(/forums/en/wow/topic/17613452065)')\n"
     ]
    },
    {
     "name": "stdout",
     "output_type": "stream",
     "text": [
      "HTTPError = 404\n"
     ]
    },
    {
     "name": "stdout",
     "output_type": "stream",
     "text": [
      "Exiting\n'posts: 3'\nPROGRESS: 52% (579/1099)\n\"[One thing I can't understand] (/forums/en/wow/topic/17613482092)\"\n"
     ]
    },
    {
     "name": "stdout",
     "output_type": "stream",
     "text": [
      "HTTPError = 404\n"
     ]
    },
    {
     "name": "stdout",
     "output_type": "stream",
     "text": [
      "Exiting\n'posts: 1'\nPROGRESS: 52% (580/1099)\n('[The Illidari cannot be stopped! (DH Nerfs)] '\n '(/forums/en/wow/topic/17613462097)')\n"
     ]
    },
    {
     "name": "stdout",
     "output_type": "stream",
     "text": [
      "Exiting\n'posts: 12'\nPROGRESS: 52% (581/1099)\n'[Only 2 Champions unlocked at lvl 104] (/forums/en/wow/topic/17613472116)'\n"
     ]
    },
    {
     "name": "stdout",
     "output_type": "stream",
     "text": [
      "Exiting\n'posts: 2'\nPROGRESS: 52% (582/1099)\n('[TOO GOOD AOE DMG, ok we will nerf your ST dmg] '\n '(/forums/en/wow/topic/17613502078)')\n"
     ]
    },
    {
     "name": "stdout",
     "output_type": "stream",
     "text": [
      "HTTPError = 404\n"
     ]
    },
    {
     "name": "stdout",
     "output_type": "stream",
     "text": [
      "Exiting\n'posts: 2'\nPROGRESS: 53% (583/1099)\n'[DH nerfs] (/forums/en/wow/topic/17613542078)'\n"
     ]
    },
    {
     "name": "stdout",
     "output_type": "stream",
     "text": [
      "Exiting\n'posts: 7'\nPROGRESS: 53% (584/1099)\n'[DH for other races.] (/forums/en/wow/topic/17613384387)'\n"
     ]
    },
    {
     "name": "stdout",
     "output_type": "stream",
     "text": [
      "Exiting\n'posts: 15'\nPROGRESS: 53% (585/1099)\n'[Vestment of Second Sight] (/forums/en/wow/topic/17613532081)'\n"
     ]
    },
    {
     "name": "stdout",
     "output_type": "stream",
     "text": [
      "HTTPError = 404\n"
     ]
    },
    {
     "name": "stdout",
     "output_type": "stream",
     "text": [
      "Exiting\n'posts: 1'\nPROGRESS: 53% (586/1099)\n('[Will DH be top tier in PVP after the nerfammer ?] '\n '(/forums/en/wow/topic/17613562139)')\n"
     ]
    },
    {
     "name": "stdout",
     "output_type": "stream",
     "text": [
      "HTTPError = 404\n"
     ]
    },
    {
     "name": "stdout",
     "output_type": "stream",
     "text": [
      "Exiting\n'posts: 1'\nPROGRESS: 53% (587/1099)\n'[Havoc dps help] (/forums/en/wow/topic/17613461670)'\n"
     ]
    },
    {
     "name": "stdout",
     "output_type": "stream",
     "text": [
      "Exiting\n'posts: 12'\nPROGRESS: 53% (588/1099)\n'[DH nerfs and why they are wrong] (/forums/en/wow/topic/17613542038)'\n"
     ]
    },
    {
     "name": "stdout",
     "output_type": "stream",
     "text": [
      "Exiting\n'posts: 2'\nPROGRESS: 53% (589/1099)\n('[Brand new nerfs for the balance tuning.....ow...] '\n '(/forums/en/wow/topic/17613522037)')\n"
     ]
    },
    {
     "name": "stdout",
     "output_type": "stream",
     "text": [
      "Exiting\n'posts: 22'\nPROGRESS: 53% (590/1099)\n'[predicting DH future] (/forums/en/wow/topic/17613532077)'\n"
     ]
    },
    {
     "name": "stdout",
     "output_type": "stream",
     "text": [
      "Exiting\n'posts: 1'\nPROGRESS: 53% (591/1099)\n'[Havoc PvP Spec speculation] (/forums/en/wow/topic/17613512088)'\n"
     ]
    },
    {
     "name": "stdout",
     "output_type": "stream",
     "text": [
      "Exiting\n'posts: 2'\nPROGRESS: 53% (592/1099)\n'[What do we spec now?] (/forums/en/wow/topic/17613491991)'\n"
     ]
    },
    {
     "name": "stdout",
     "output_type": "stream",
     "text": [
      "HTTPError = 404\n"
     ]
    },
    {
     "name": "stdout",
     "output_type": "stream",
     "text": [
      "Exiting\n'posts: 5'\nPROGRESS: 53% (593/1099)\n'[Inner females] (/forums/en/wow/topic/17613461974)'\n"
     ]
    },
    {
     "name": "stdout",
     "output_type": "stream",
     "text": [
      "HTTPError = 404\n"
     ]
    },
    {
     "name": "stdout",
     "output_type": "stream",
     "text": [
      "Exiting\n'posts: 7'\nPROGRESS: 54% (594/1099)\n'[DH nerf seemed...Harsh?] (/forums/en/wow/topic/17613502064)'\n"
     ]
    },
    {
     "name": "stdout",
     "output_type": "stream",
     "text": [
      "Exiting\n'posts: 1'\nPROGRESS: 54% (595/1099)\n'[Start a petition] (/forums/en/wow/topic/17613552066)'\n"
     ]
    },
    {
     "name": "stdout",
     "output_type": "stream",
     "text": [
      "Exiting\n'posts: 1'\nPROGRESS: 54% (596/1099)\n\"[RATE THE DH'S NAME ABOVE YOU] (/forums/en/wow/topic/17613081181)\"\n"
     ]
    },
    {
     "name": "stdout",
     "output_type": "stream",
     "text": [
      "HTTPError = 404\n"
     ]
    },
    {
     "name": "stdout",
     "output_type": "stream",
     "text": [
      "HTTPError = 404\n"
     ]
    },
    {
     "name": "stdout",
     "output_type": "stream",
     "text": [
      "HTTPError = 404\n"
     ]
    },
    {
     "name": "stdout",
     "output_type": "stream",
     "text": [
      "HTTPError = 404\n"
     ]
    },
    {
     "name": "stdout",
     "output_type": "stream",
     "text": [
      "HTTPError = 404\nHTTPError = 404\n"
     ]
    },
    {
     "name": "stdout",
     "output_type": "stream",
     "text": [
      "HTTPError = 404\n"
     ]
    },
    {
     "name": "stdout",
     "output_type": "stream",
     "text": [
      "HTTPError = 404\n"
     ]
    },
    {
     "name": "stdout",
     "output_type": "stream",
     "text": [
      "HTTPError = 404\n"
     ]
    },
    {
     "name": "stdout",
     "output_type": "stream",
     "text": [
      "Exiting\n'posts: 445'\nPROGRESS: 54% (597/1099)\n'[Damn son.] (/forums/en/wow/topic/17613562097)'\n"
     ]
    },
    {
     "name": "stdout",
     "output_type": "stream",
     "text": [
      "HTTPError = 404\nHTTPError = 404\nHTTPError = 404\n"
     ]
    },
    {
     "name": "stdout",
     "output_type": "stream",
     "text": [
      "Exiting\n'posts: 1'\nPROGRESS: 54% (598/1099)\n\"[DH aren't OP, stop that lie] (/forums/en/wow/topic/17613471900)\"\n"
     ]
    },
    {
     "name": "stdout",
     "output_type": "stream",
     "text": [
      "HTTPError = 404\n"
     ]
    },
    {
     "name": "stdout",
     "output_type": "stream",
     "text": [
      "Exiting\n'posts: 5'\nPROGRESS: 54% (599/1099)\n'[Demon Hunter armor is boring!] (/forums/en/wow/topic/17613521992)'\n"
     ]
    },
    {
     "name": "stdout",
     "output_type": "stream",
     "text": [
      "Exiting\n'posts: 5'\nPROGRESS: 54% (600/1099)\n'[Should I refund my artifact traits?] (/forums/en/wow/topic/17613451985)'\n"
     ]
    },
    {
     "name": "stdout",
     "output_type": "stream",
     "text": [
      "Exiting\n'posts: 1'\nPROGRESS: 54% (601/1099)\n'[We love tuning said no one ever!] (/forums/en/wow/topic/17613562061)'\n"
     ]
    },
    {
     "name": "stdout",
     "output_type": "stream",
     "text": [
      "HTTPError = 404\n"
     ]
    },
    {
     "name": "stdout",
     "output_type": "stream",
     "text": [
      "HTTPError = 404\n"
     ]
    },
    {
     "name": "stdout",
     "output_type": "stream",
     "text": [
      "Exiting\n'posts: 1'\nPROGRESS: 54% (602/1099)\n\"[Why everybody's whining] (/forums/en/wow/topic/17613471839)\"\n"
     ]
    },
    {
     "name": "stdout",
     "output_type": "stream",
     "text": [
      "Exiting\n'posts: 6'\nPROGRESS: 54% (603/1099)\n'[You got nerfed 10% agility in pvp] (/forums/en/wow/topic/17613561702)'\n"
     ]
    },
    {
     "name": "stdout",
     "output_type": "stream",
     "text": [
      "Exiting\n'posts: 19'\nPROGRESS: 54% (604/1099)\n'[Eye Beam Texture] (/forums/en/wow/topic/17613413188)'\n"
     ]
    },
    {
     "name": "stdout",
     "output_type": "stream",
     "text": [
      "Exiting\n'posts: 17'\nPROGRESS: 55% (605/1099)\n'[1v3 Demon Hunter one shot] (/forums/en/wow/topic/17613344022)'\n"
     ]
    },
    {
     "name": "stdout",
     "output_type": "stream",
     "text": [
      "HTTPError = 404\n"
     ]
    },
    {
     "name": "stdout",
     "output_type": "stream",
     "text": [
      "Exiting\n'posts: 59'\nPROGRESS: 55% (606/1099)\n'[Soul flame of rejuvenation] (/forums/en/wow/topic/17613481814)'\n"
     ]
    },
    {
     "name": "stdout",
     "output_type": "stream",
     "text": [
      "Exiting\n'posts: 2'\nPROGRESS: 55% (607/1099)\n'[Raid Help] (/forums/en/wow/topic/17613481631)'\n"
     ]
    },
    {
     "name": "stdout",
     "output_type": "stream",
     "text": [
      "HTTPError = 404\n"
     ]
    },
    {
     "name": "stdout",
     "output_type": "stream",
     "text": [
      "Exiting\n'posts: 3'\nPROGRESS: 55% (608/1099)\n'[Havoc - how to fel rush - momentum build] (/forums/en/wow/topic/17613451870)'\n"
     ]
    },
    {
     "name": "stdout",
     "output_type": "stream",
     "text": [
      "HTTPError = 404\n"
     ]
    },
    {
     "name": "stdout",
     "output_type": "stream",
     "text": [
      "Exiting\n'posts: 2'\nPROGRESS: 55% (609/1099)\n'[Great expansion. But Demon Hunter] (/forums/en/wow/topic/17613521787)'\n"
     ]
    },
    {
     "name": "stdout",
     "output_type": "stream",
     "text": [
      "Exiting\n'posts: 8'\nPROGRESS: 55% (610/1099)\n'[Vengeance have no place in raid] (/forums/en/wow/topic/17613451659)'\n"
     ]
    },
    {
     "name": "stdout",
     "output_type": "stream",
     "text": [
      "Exiting\n'posts: 21'\nPROGRESS: 55% (611/1099)\n'[Solo Maw of Souls (Heroic)] (/forums/en/wow/topic/17613451206)'\n"
     ]
    },
    {
     "name": "stdout",
     "output_type": "stream",
     "text": [
      "Exiting\n'posts: 15'\nPROGRESS: 55% (612/1099)\n'[[Guide] Havoc Demon Hunter PvP] (/forums/en/wow/topic/17613541853)'\n"
     ]
    },
    {
     "name": "stdout",
     "output_type": "stream",
     "text": [
      "Exiting\n'posts: 1'\nPROGRESS: 55% (613/1099)\n'[Imprisoned Forgefiend training dummy] (/forums/en/wow/topic/17613531824)'\n"
     ]
    },
    {
     "name": "stdout",
     "output_type": "stream",
     "text": [
      "HTTPError = 404\n"
     ]
    },
    {
     "name": "stdout",
     "output_type": "stream",
     "text": [
      "Exiting\n'posts: 1'\nPROGRESS: 55% (614/1099)\n'[Demon Blades] (/forums/en/wow/topic/17613551401)'\n"
     ]
    },
    {
     "name": "stdout",
     "output_type": "stream",
     "text": [
      "Exiting\n'posts: 9'\nPROGRESS: 55% (615/1099)\n\"[Addressing DH's inadequate mobility.] (/forums/en/wow/topic/17613281298)\"\n"
     ]
    },
    {
     "name": "stdout",
     "output_type": "stream",
     "text": [
      "Exiting\n'posts: 13'\nPROGRESS: 56% (616/1099)\n'[Unfair Changes to Vengeance DH in PvP] (/forums/en/wow/topic/17613461746)'\n"
     ]
    },
    {
     "name": "stdout",
     "output_type": "stream",
     "text": [
      "Exiting\n'posts: 2'\nPROGRESS: 56% (617/1099)\n'[Where Demon Hunters could use improvement] (/forums/en/wow/topic/17613481584)'\n"
     ]
    },
    {
     "name": "stdout",
     "output_type": "stream",
     "text": [
      "Exiting\n'posts: 6'\nPROGRESS: 56% (618/1099)\n'[New Demon Hunter Help] (/forums/en/wow/topic/17613471700)'\n"
     ]
    },
    {
     "name": "stdout",
     "output_type": "stream",
     "text": [
      "Exiting\n'posts: 1'\nPROGRESS: 56% (619/1099)\n'[Can i pick any other talents?] (/forums/en/wow/topic/17613501668)'\n"
     ]
    },
    {
     "name": "stdout",
     "output_type": "stream",
     "text": [
      "HTTPError = 404\nHTTPError = 404\n"
     ]
    },
    {
     "name": "stdout",
     "output_type": "stream",
     "text": [
      "Exiting\n'posts: 2'\nPROGRESS: 56% (620/1099)\n'[Vengeance Arena] (/forums/en/wow/topic/17613491648)'\n"
     ]
    },
    {
     "name": "stdout",
     "output_type": "stream",
     "text": [
      "HTTPError = 404\n"
     ]
    },
    {
     "name": "stdout",
     "output_type": "stream",
     "text": [
      "Exiting\n'posts: 3'\nPROGRESS: 56% (621/1099)\n'[Trinket help for Vengence!] (/forums/en/wow/topic/17613511704)'\n"
     ]
    },
    {
     "name": "stdout",
     "output_type": "stream",
     "text": [
      "Exiting\n'posts: 2'\nPROGRESS: 56% (622/1099)\n'[Vengeance DH is not for raiding] (/forums/en/wow/topic/17613344500)'\n"
     ]
    },
    {
     "name": "stdout",
     "output_type": "stream",
     "text": [
      "Exiting\n'posts: 34'\nPROGRESS: 56% (623/1099)\n'[Bis trinkets] (/forums/en/wow/topic/17613491521)'\n"
     ]
    },
    {
     "name": "stdout",
     "output_type": "stream",
     "text": [
      "Exiting\n'posts: 2'\nPROGRESS: 56% (624/1099)\n'[Demonic Talent and Eye Beam Texture] (/forums/en/wow/topic/17613423768)'\n"
     ]
    },
    {
     "name": "stdout",
     "output_type": "stream",
     "text": [
      "Exiting\n'posts: 4'\nPROGRESS: 56% (625/1099)\n'[What is that jump?] (/forums/en/wow/topic/17613471447)'\n"
     ]
    },
    {
     "name": "stdout",
     "output_type": "stream",
     "text": [
      "Exiting\n'posts: 5'\nPROGRESS: 56% (626/1099)\n('[Why cant i imprison another player DH in Meta?] '\n '(/forums/en/wow/topic/17613541339)')\n"
     ]
    },
    {
     "name": "stdout",
     "output_type": "stream",
     "text": [
      "Exiting\n'posts: 8'\nPROGRESS: 57% (627/1099)\n'[Running animation] (/forums/en/wow/topic/17613561562)'\n"
     ]
    },
    {
     "name": "stdout",
     "output_type": "stream",
     "text": [
      "Exiting\n'posts: 1'\nPROGRESS: 57% (628/1099)\n('[Am a new player. Need some tips for the DH.] '\n '(/forums/en/wow/topic/17613531353)')\n"
     ]
    },
    {
     "name": "stdout",
     "output_type": "stream",
     "text": [
      "HTTPError = 404\n"
     ]
    },
    {
     "name": "stdout",
     "output_type": "stream",
     "text": [
      "Exiting\n'posts: 2'\nPROGRESS: 57% (629/1099)\n'[Does this build work] (/forums/en/wow/topic/17613451404)'\n"
     ]
    },
    {
     "name": "stdout",
     "output_type": "stream",
     "text": [
      "Exiting\n'posts: 3'\nPROGRESS: 57% (630/1099)\n'[Fel Eruption deals very little damage] (/forums/en/wow/topic/17613444156)'\n"
     ]
    },
    {
     "name": "stdout",
     "output_type": "stream",
     "text": [
      "Exiting\n'posts: 9'\nPROGRESS: 57% (631/1099)\n('[Why Use Momentum? (Fel Eruption is superior?)] '\n '(/forums/en/wow/topic/17613491177)')\n"
     ]
    },
    {
     "name": "stdout",
     "output_type": "stream",
     "text": [
      "Exiting\n'posts: 13'\nPROGRESS: 57% (632/1099)\n\"[What is LFR's problem with DH's?] (/forums/en/wow/topic/17613444046)\"\n"
     ]
    },
    {
     "name": "stdout",
     "output_type": "stream",
     "text": [
      "Exiting\n'posts: 24'\nPROGRESS: 57% (633/1099)\n'[Is Momentum-Fel Rush spec mandatory?] (/forums/en/wow/topic/17613531370)'\n"
     ]
    },
    {
     "name": "stdout",
     "output_type": "stream",
     "text": [
      "Exiting\n'posts: 8'\nPROGRESS: 57% (634/1099)\n('[How do demon hunters stay in the air in arena?] '\n '(/forums/en/wow/topic/17613561428)')\n"
     ]
    },
    {
     "name": "stdout",
     "output_type": "stream",
     "text": [
      "Exiting\n'posts: 3'\nPROGRESS: 57% (635/1099)\n'[Which Champion to take with me] (/forums/en/wow/topic/17613424980)'\n"
     ]
    },
    {
     "name": "stdout",
     "output_type": "stream",
     "text": [
      "Exiting\n'posts: 5'\nPROGRESS: 57% (636/1099)\n'[Reason behind Forced Obliterum Quest?] (/forums/en/wow/topic/17613354661)'\n"
     ]
    },
    {
     "name": "stdout",
     "output_type": "stream",
     "text": [
      "Exiting\n'posts: 8'\nPROGRESS: 57% (637/1099)\n'[Ninja nerf regarding crit?] (/forums/en/wow/topic/17613461448)'\n"
     ]
    },
    {
     "name": "stdout",
     "output_type": "stream",
     "text": [
      "Exiting\n'posts: 4'\nPROGRESS: 58% (638/1099)\n'[Havoc sometimes feeling clunky?] (/forums/en/wow/topic/17613364584)'\n"
     ]
    },
    {
     "name": "stdout",
     "output_type": "stream",
     "text": [
      "Exiting\n'posts: 2'\nPROGRESS: 58% (639/1099)\n'[how to summon a demon] (/forums/en/wow/topic/17613364993)'\n"
     ]
    },
    {
     "name": "stdout",
     "output_type": "stream",
     "text": [
      "Exiting\n'posts: 8'\nPROGRESS: 58% (640/1099)\n'[Vengeance DH - Stat Discussion] (/forums/en/wow/topic/17613394914)'\n"
     ]
    },
    {
     "name": "stdout",
     "output_type": "stream",
     "text": [
      "Exiting\n'posts: 5'\nPROGRESS: 58% (641/1099)\n'[Big havoc nerfs] (/forums/en/wow/topic/17613501322)'\n"
     ]
    },
    {
     "name": "stdout",
     "output_type": "stream",
     "text": [
      "Exiting\n'posts: 6'\nPROGRESS: 58% (642/1099)\n"
     ]
    },
    {
     "name": "stdout",
     "output_type": "stream",
     "text": [
      "'[dh artifact nerf live?] (/forums/en/wow/topic/17613364703)'\nHTTPError = 404\n"
     ]
    },
    {
     "name": "stdout",
     "output_type": "stream",
     "text": [
      "Exiting\n'posts: 12'\nPROGRESS: 58% (643/1099)\n'[Which spec for levelling?] (/forums/en/wow/topic/17613414359)'\n"
     ]
    },
    {
     "name": "stdout",
     "output_type": "stream",
     "text": [
      "Exiting\n'posts: 3'\nPROGRESS: 58% (644/1099)\n'[bugs!!!] (/forums/en/wow/topic/17613434821)'\n"
     ]
    },
    {
     "name": "stdout",
     "output_type": "stream",
     "text": [
      "Exiting\n'posts: 8'\nPROGRESS: 58% (645/1099)\n('[Throw Glaive sheathing glaives for a second after cast?] '\n '(/forums/en/wow/topic/17613491230)')\n"
     ]
    },
    {
     "name": "stdout",
     "output_type": "stream",
     "text": [
      "Exiting\n'posts: 1'\nPROGRESS: 58% (646/1099)\n'[PvE Vengeance] (/forums/en/wow/topic/17613444610)'\n"
     ]
    },
    {
     "name": "stdout",
     "output_type": "stream",
     "text": [
      "Exiting\n'posts: 9'\nPROGRESS: 58% (647/1099)\n'[Vengeance Tanking - really struggling] (/forums/en/wow/topic/17613364534)'\n"
     ]
    },
    {
     "name": "stdout",
     "output_type": "stream",
     "text": [
      "Exiting\n'posts: 21'\nPROGRESS: 58% (648/1099)\n'[Nerf DH] (/forums/en/wow/topic/17613394313)'\n"
     ]
    },
    {
     "name": "stdout",
     "output_type": "stream",
     "text": [
      "Exiting\n'posts: 69'\nPROGRESS: 59% (649/1099)\n"
     ]
    },
    {
     "name": "stdout",
     "output_type": "stream",
     "text": [
      "'[Glyph to hide Demon Form] (/forums/en/wow/topic/17613221851)'\n"
     ]
    },
    {
     "name": "stdout",
     "output_type": "stream",
     "text": [
      "Exiting\n'posts: 38'\nPROGRESS: 59% (650/1099)\n'[Vault of the Wardens ghost?] (/forums/en/wow/topic/17613334915)'\n"
     ]
    },
    {
     "name": "stdout",
     "output_type": "stream",
     "text": [
      "Exiting\n'posts: 3'\nPROGRESS: 59% (651/1099)\n"
     ]
    },
    {
     "name": "stdout",
     "output_type": "stream",
     "text": [
      "'[Vengeance Versatility] (/forums/en/wow/topic/17613444063)'\n"
     ]
    },
    {
     "name": "stdout",
     "output_type": "stream",
     "text": [
      "Exiting\n'posts: 9'\nPROGRESS: 59% (652/1099)\n'[Eyebeam build?] (/forums/en/wow/topic/17613334804)'\n"
     ]
    },
    {
     "name": "stdout",
     "output_type": "stream",
     "text": [
      "Exiting\n'posts: 3'\nPROGRESS: 59% (653/1099)\n('[Why are all World Quest relic rewards for tank?] '\n '(/forums/en/wow/topic/17613344394)')\n"
     ]
    },
    {
     "name": "stdout",
     "output_type": "stream",
     "text": [
      "Exiting\n'posts: 17'\nPROGRESS: 59% (654/1099)\n"
     ]
    },
    {
     "name": "stdout",
     "output_type": "stream",
     "text": [
      "'[Question for my fellows DHs] (/forums/en/wow/topic/17613383119)'\n"
     ]
    },
    {
     "name": "stdout",
     "output_type": "stream",
     "text": [
      "Exiting\n'posts: 18'\nPROGRESS: 59% (655/1099)\n\"[[Suggestion] Illidan's Grasp] (/forums/en/wow/topic/17613344411)\"\n"
     ]
    },
    {
     "name": "stdout",
     "output_type": "stream",
     "text": [
      "Exiting\n'posts: 6'\nPROGRESS: 59% (656/1099)\n'[[Request for improvement] Demonic Trample] (/forums/en/wow/topic/17613334293)'\n"
     ]
    },
    {
     "name": "stdout",
     "output_type": "stream",
     "text": [
      "Exiting\n'posts: 3'\nPROGRESS: 59% (657/1099)\n'[Demon Hunter Emote] (/forums/en/wow/topic/17613384341)'\n"
     ]
    },
    {
     "name": "stdout",
     "output_type": "stream",
     "text": [
      "Exiting\n'posts: 2'\nPROGRESS: 59% (658/1099)\n'[Demonform Rotation?] (/forums/en/wow/topic/17613404483)'\n"
     ]
    },
    {
     "name": "stdout",
     "output_type": "stream",
     "text": [
      "HTTPError = 404\n"
     ]
    },
    {
     "name": "stdout",
     "output_type": "stream",
     "text": [
      "HTTPError = 404\n"
     ]
    },
    {
     "name": "stdout",
     "output_type": "stream",
     "text": [
      "Exiting\n'posts: 4'\nPROGRESS: 59% (659/1099)\n'[Havoc Stat weights?!] (/forums/en/wow/topic/17613394461)'\n"
     ]
    },
    {
     "name": "stdout",
     "output_type": "stream",
     "text": [
      "HTTPError = 404\n"
     ]
    },
    {
     "name": "stdout",
     "output_type": "stream",
     "text": [
      "Exiting\n'posts: 7'\nPROGRESS: 60% (660/1099)\n('[Demon Hunter in Dungeons (Havoc) need advice] '\n '(/forums/en/wow/topic/17613413909)')\n"
     ]
    },
    {
     "name": "stdout",
     "output_type": "stream",
     "text": [
      "Exiting\n'posts: 16'\nPROGRESS: 60% (661/1099)\n'[Rage of illidary or inner demons] (/forums/en/wow/topic/17613384674)'\n"
     ]
    },
    {
     "name": "stdout",
     "output_type": "stream",
     "text": [
      "Exiting\n'posts: 3'\nPROGRESS: 60% (662/1099)\n'[Fix Fel Rush] (/forums/en/wow/topic/17613444226)'\n"
     ]
    },
    {
     "name": "stdout",
     "output_type": "stream",
     "text": [
      "Exiting\n'posts: 7'\nPROGRESS: 60% (663/1099)\n'[DH nerfs announced.] (/forums/en/wow/topic/17613414074)'\n"
     ]
    },
    {
     "name": "stdout",
     "output_type": "stream",
     "text": [
      "HTTPError = 404\n"
     ]
    },
    {
     "name": "stdout",
     "output_type": "stream",
     "text": [
      "Exiting\n'posts: 36'\nPROGRESS: 60% (664/1099)\n'[When did they change imprison] (/forums/en/wow/topic/17613404428)'\n"
     ]
    },
    {
     "name": "stdout",
     "output_type": "stream",
     "text": [
      "HTTPError = 404\nHTTPError = 404\n"
     ]
    },
    {
     "name": "stdout",
     "output_type": "stream",
     "text": [
      "Exiting\n'posts: 3'\nPROGRESS: 60% (665/1099)\n'[Choosing fun over Dps] (/forums/en/wow/topic/17613403572)'\n"
     ]
    },
    {
     "name": "stdout",
     "output_type": "stream",
     "text": [
      "HTTPError = 404\n"
     ]
    },
    {
     "name": "stdout",
     "output_type": "stream",
     "text": [
      "Exiting\n'posts: 11'\nPROGRESS: 60% (666/1099)\n"
     ]
    },
    {
     "name": "stdout",
     "output_type": "stream",
     "text": [
      "'[Bloodlet vs First Blood (PVP)] (/forums/en/wow/topic/17613344640)'\n"
     ]
    },
    {
     "name": "stdout",
     "output_type": "stream",
     "text": [
      "Exiting\n'posts: 3'\nPROGRESS: 60% (667/1099)\n'[Artifact trait vs ilvl question] (/forums/en/wow/topic/17613444442)'\n"
     ]
    },
    {
     "name": "stdout",
     "output_type": "stream",
     "text": [
      "Exiting\n'posts: 3'\nPROGRESS: 60% (668/1099)\n'[Vengeance in BGs are damn fun :3] (/forums/en/wow/topic/17613424568)'\n"
     ]
    },
    {
     "name": "stdout",
     "output_type": "stream",
     "text": [
      "Exiting\n'posts: 1'\nPROGRESS: 60% (669/1099)\n'[Vengeance Legendary bugged] (/forums/en/wow/topic/17613384485)'\n"
     ]
    },
    {
     "name": "stdout",
     "output_type": "stream",
     "text": [
      "Exiting\n'posts: 2'\nPROGRESS: 60% (670/1099)\n'[[HAVOC] Hidden artifact questions] (/forums/en/wow/topic/17613351255)'\n"
     ]
    },
    {
     "name": "stdout",
     "output_type": "stream",
     "text": [
      "HTTPError = 404\n"
     ]
    },
    {
     "name": "stdout",
     "output_type": "stream",
     "text": [
      "Exiting\n'posts: 48'\nPROGRESS: 61% (671/1099)\n'[DH avatars are so funny :)] (/forums/en/wow/topic/17613384454)'\n"
     ]
    },
    {
     "name": "stdout",
     "output_type": "stream",
     "text": [
      "Exiting\n'posts: 2'\nPROGRESS: 61% (672/1099)\n'[Buff fellblade] (/forums/en/wow/topic/17613394365)'\n"
     ]
    },
    {
     "name": "stdout",
     "output_type": "stream",
     "text": [
      "Exiting\n'posts: 5'\nPROGRESS: 61% (673/1099)\n'[stat prio agi first or crit?] (/forums/en/wow/topic/17613383927)'\n"
     ]
    },
    {
     "name": "stdout",
     "output_type": "stream",
     "text": [
      "Exiting\n'posts: 3'\nPROGRESS: 61% (674/1099)\n'[DPS] (/forums/en/wow/topic/17613384331)'\n"
     ]
    },
    {
     "name": "stdout",
     "output_type": "stream",
     "text": [
      "HTTPError = 404\n"
     ]
    },
    {
     "name": "stdout",
     "output_type": "stream",
     "text": [
      "Exiting\n'posts: 2'\nPROGRESS: 61% (675/1099)\n"
     ]
    },
    {
     "name": "stdout",
     "output_type": "stream",
     "text": [
      "'[Hidden Artifact Effect] (/forums/en/wow/topic/17613364442)'\n"
     ]
    },
    {
     "name": "stdout",
     "output_type": "stream",
     "text": [
      "Exiting\n'posts: 1'\nPROGRESS: 61% (676/1099)\n'[Make Chaos strike into 1 hit instead of 2] (/forums/en/wow/topic/17613412994)'\n"
     ]
    },
    {
     "name": "stdout",
     "output_type": "stream",
     "text": [
      "Exiting\n'posts: 7'\nPROGRESS: 61% (677/1099)\n'[Vengeance DH with no sense of direction] (/forums/en/wow/topic/17613394305)'\n"
     ]
    },
    {
     "name": "stdout",
     "output_type": "stream",
     "text": [
      "Exiting\n'posts: 4'\nPROGRESS: 61% (678/1099)\n'[Nerfs and charred warblades] (/forums/en/wow/topic/17613404140)'\n"
     ]
    },
    {
     "name": "stdout",
     "output_type": "stream",
     "text": [
      "HTTPError = 404\nHTTPError = 404\n"
     ]
    },
    {
     "name": "stdout",
     "output_type": "stream",
     "text": [
      "HTTPError = 404\n"
     ]
    },
    {
     "name": "stdout",
     "output_type": "stream",
     "text": [
      "Exiting\n'posts: 1'\nPROGRESS: 61% (679/1099)\n\"[Fel Hammer's Twisting Nether Boss Nerf?] (/forums/en/wow/topic/17613384346)\"\n"
     ]
    },
    {
     "name": "stdout",
     "output_type": "stream",
     "text": [
      "Exiting\n'posts: 1'\nPROGRESS: 61% (680/1099)\n'[Fel rush] (/forums/en/wow/topic/17613364356)'\n"
     ]
    },
    {
     "name": "stdout",
     "output_type": "stream",
     "text": [
      "Exiting\n'posts: 2'\nPROGRESS: 61% (681/1099)\n'[Vengeance not viable in arenas] (/forums/en/wow/topic/17613362818)'\n"
     ]
    },
    {
     "name": "stdout",
     "output_type": "stream",
     "text": [
      "Exiting\n'posts: 11'\nPROGRESS: 62% (682/1099)\n'[Double Jump] (/forums/en/wow/topic/17613354141)'\n"
     ]
    },
    {
     "name": "stdout",
     "output_type": "stream",
     "text": [
      "Exiting\n'posts: 10'\nPROGRESS: 62% (683/1099)\n"
     ]
    },
    {
     "name": "stdout",
     "output_type": "stream",
     "text": [
      "'[Increase Pain Generation?] (/forums/en/wow/topic/17613433745)'\n"
     ]
    },
    {
     "name": "stdout",
     "output_type": "stream",
     "text": [
      "HTTPError = 404\n"
     ]
    },
    {
     "name": "stdout",
     "output_type": "stream",
     "text": [
      "Exiting\n'posts: 5'\nPROGRESS: 62% (684/1099)\n'[Good To B vengeance. (Hidden artifact)] (/forums/en/wow/topic/17613402884)'\n"
     ]
    },
    {
     "name": "stdout",
     "output_type": "stream",
     "text": [
      "Exiting\n'posts: 20'\nPROGRESS: 62% (685/1099)\n'[Both races for both factions?] (/forums/en/wow/topic/17613333972)'\n"
     ]
    },
    {
     "name": "stdout",
     "output_type": "stream",
     "text": [
      "Exiting\n'posts: 10'\nPROGRESS: 62% (686/1099)\n"
     ]
    },
    {
     "name": "stdout",
     "output_type": "stream",
     "text": [
      "\"[DH's are kind of boring?] (/forums/en/wow/topic/17613354181)\"\n"
     ]
    },
    {
     "name": "stdout",
     "output_type": "stream",
     "text": [
      "Exiting\n'posts: 16'\nPROGRESS: 62% (687/1099)\n'[No more follower missions] (/forums/en/wow/topic/17613344092)'\n"
     ]
    },
    {
     "name": "stdout",
     "output_type": "stream",
     "text": [
      "HTTPError = 404\n"
     ]
    },
    {
     "name": "stdout",
     "output_type": "stream",
     "text": [
      "HTTPError = 404\n"
     ]
    },
    {
     "name": "stdout",
     "output_type": "stream",
     "text": [
      "Exiting\n'posts: 2'\nPROGRESS: 62% (688/1099)\n'[Optimum havoc Artifact path] (/forums/en/wow/topic/17613401911)'\n"
     ]
    },
    {
     "name": "stdout",
     "output_type": "stream",
     "text": [
      "Exiting\n'posts: 5'\nPROGRESS: 62% (689/1099)\n'[BiS For Havoc ?] (/forums/en/wow/topic/17613384138)'\n"
     ]
    },
    {
     "name": "stdout",
     "output_type": "stream",
     "text": [
      "Exiting\n'posts: 1'\nPROGRESS: 62% (690/1099)\n'[Vengeance Metamorhosis question] (/forums/en/wow/topic/17613443865)'\n"
     ]
    },
    {
     "name": "stdout",
     "output_type": "stream",
     "text": [
      "Exiting\n'posts: 5'\nPROGRESS: 62% (691/1099)\n('[Bugged Artifact questline for Havoc by disconnect] '\n '(/forums/en/wow/topic/17613394076)')\n"
     ]
    },
    {
     "name": "stdout",
     "output_type": "stream",
     "text": [
      "HTTPError = 404\n"
     ]
    },
    {
     "name": "stdout",
     "output_type": "stream",
     "text": [
      "Exiting\n'posts: 1'\nPROGRESS: 62% (692/1099)\n'[Guise of the Deathwalker STATEMENT] (/forums/en/wow/topic/17613443596)'\n"
     ]
    },
    {
     "name": "stdout",
     "output_type": "stream",
     "text": [
      "HTTPError = 404\n"
     ]
    },
    {
     "name": "stdout",
     "output_type": "stream",
     "text": [
      "HTTPError = 404\n"
     ]
    },
    {
     "name": "stdout",
     "output_type": "stream",
     "text": [
      "Exiting\n'posts: 159'\nPROGRESS: 63% (693/1099)\n'[Sigil detonation cancels glide.] (/forums/en/wow/topic/17613433413)'\n"
     ]
    },
    {
     "name": "stdout",
     "output_type": "stream",
     "text": [
      "HTTPError = 404\n"
     ]
    },
    {
     "name": "stdout",
     "output_type": "stream",
     "text": [
      "Exiting\n'posts: 5'\nPROGRESS: 63% (694/1099)\n'[Different hidden artifacts?] (/forums/en/wow/topic/17613373764)'\n"
     ]
    },
    {
     "name": "stdout",
     "output_type": "stream",
     "text": [
      "Exiting\n'posts: 3'\nPROGRESS: 63% (695/1099)\n'[TBC-style warglaives appearances] (/forums/en/wow/topic/17613122632)'\n"
     ]
    },
    {
     "name": "stdout",
     "output_type": "stream",
     "text": [
      "Exiting\n'posts: 7'\nPROGRESS: 63% (696/1099)\n'[Finnaly the game i always wanted.] (/forums/en/wow/topic/17613381765)'\n"
     ]
    },
    {
     "name": "stdout",
     "output_type": "stream",
     "text": [
      "HTTPError = 404\nHTTPError = 404\n"
     ]
    },
    {
     "name": "stdout",
     "output_type": "stream",
     "text": [
      "Exiting\n'posts: 5'\nPROGRESS: 63% (697/1099)\n'[Help with trinkets!] (/forums/en/wow/topic/17613333881)'\n"
     ]
    },
    {
     "name": "stdout",
     "output_type": "stream",
     "text": [
      "Exiting\n'posts: 2'\nPROGRESS: 63% (698/1099)\n"
     ]
    },
    {
     "name": "stdout",
     "output_type": "stream",
     "text": [
      "'[Rerolling war to dh] (/forums/en/wow/topic/17613433776)'\n"
     ]
    },
    {
     "name": "stdout",
     "output_type": "stream",
     "text": [
      "Exiting\n'posts: 7'\nPROGRESS: 63% (699/1099)\n'[For All Those Who Want A Nerf] (/forums/en/wow/topic/17613382840)'\n"
     ]
    },
    {
     "name": "stdout",
     "output_type": "stream",
     "text": [
      "Exiting\n'posts: 24'\nPROGRESS: 63% (700/1099)\n'[Demon hunter lvl 98] (/forums/en/wow/topic/17613353754)'\n"
     ]
    },
    {
     "name": "stdout",
     "output_type": "stream",
     "text": [
      "Exiting\n'posts: 6'\nPROGRESS: 63% (701/1099)\n'[DH PvP Streamers] (/forums/en/wow/topic/17613423555)'\n"
     ]
    },
    {
     "name": "stdout",
     "output_type": "stream",
     "text": [
      "Exiting\n'posts: 7'\nPROGRESS: 63% (702/1099)\n"
     ]
    },
    {
     "name": "stdout",
     "output_type": "stream",
     "text": [
      "'[World PvP Nab?] (/forums/en/wow/topic/17613443623)'\n"
     ]
    },
    {
     "name": "stdout",
     "output_type": "stream",
     "text": [
      "Exiting\n'posts: 4'\nPROGRESS: 63% (703/1099)\n\"[Havoc's Insane Talent Imbalance] (/forums/en/wow/topic/17613393464)\"\n"
     ]
    },
    {
     "name": "stdout",
     "output_type": "stream",
     "text": [
      "Exiting\n'posts: 7'\nPROGRESS: 64% (704/1099)\n\"[Can't glide] (/forums/en/wow/topic/17613401612)\"\n"
     ]
    },
    {
     "name": "stdout",
     "output_type": "stream",
     "text": [
      "HTTPError = 404\n"
     ]
    },
    {
     "name": "stdout",
     "output_type": "stream",
     "text": [
      "Exiting\n'posts: 4'\nPROGRESS: 64% (705/1099)\n"
     ]
    },
    {
     "name": "stdout",
     "output_type": "stream",
     "text": [
      "'[Demon rage vs inner demons?] (/forums/en/wow/topic/17613353673)'\n"
     ]
    },
    {
     "name": "stdout",
     "output_type": "stream",
     "text": [
      "Exiting\n'posts: 3'\nPROGRESS: 64% (706/1099)\n('[Glide cancelling on jump with \"no path available\"] '\n '(/forums/en/wow/topic/17613383415)')\n"
     ]
    },
    {
     "name": "stdout",
     "output_type": "stream",
     "text": [
      "Exiting\n'posts: 7'\nPROGRESS: 64% (707/1099)\n'[Is the DH transmog you get account wide?] (/forums/en/wow/topic/17613383671)'\n"
     ]
    },
    {
     "name": "stdout",
     "output_type": "stream",
     "text": [
      "Exiting\n'posts: 2'\nPROGRESS: 64% (708/1099)\n'[We need a REAL heal, on demand heal] (/forums/en/wow/topic/17613382238)'\n"
     ]
    },
    {
     "name": "stdout",
     "output_type": "stream",
     "text": [
      "HTTPError = 404\n"
     ]
    },
    {
     "name": "stdout",
     "output_type": "stream",
     "text": [
      "Exiting\n'posts: 22'\nPROGRESS: 64% (709/1099)\n'[Disable third jump glide?] (/forums/en/wow/topic/17613343643)'\n"
     ]
    },
    {
     "name": "stdout",
     "output_type": "stream",
     "text": [
      "Exiting\n'posts: 3'\nPROGRESS: 64% (710/1099)\n"
     ]
    },
    {
     "name": "stdout",
     "output_type": "stream",
     "text": [
      "'[Reverse Magic not working correctly] (/forums/en/wow/topic/17613392949)'\n"
     ]
    },
    {
     "name": "stdout",
     "output_type": "stream",
     "text": [
      "HTTPError = 404\n"
     ]
    },
    {
     "name": "stdout",
     "output_type": "stream",
     "text": [
      "Exiting\n'posts: 8'\nPROGRESS: 64% (711/1099)\n'[Vengeance - Soul fragment management] (/forums/en/wow/topic/17613383590)'\n"
     ]
    },
    {
     "name": "stdout",
     "output_type": "stream",
     "text": [
      "Exiting\n'posts: 2'\nPROGRESS: 64% (712/1099)\n'[My Current Rotations/Build] (/forums/en/wow/topic/17613423402)'\n"
     ]
    },
    {
     "name": "stdout",
     "output_type": "stream",
     "text": [
      "Exiting\n'posts: 4'\nPROGRESS: 64% (713/1099)\n"
     ]
    },
    {
     "name": "stdout",
     "output_type": "stream",
     "text": [
      "'[Justify this BLIZZARD.] (/forums/en/wow/topic/17613423363)'\nHTTPError = 404\n"
     ]
    },
    {
     "name": "stdout",
     "output_type": "stream",
     "text": [
      "Exiting\n'posts: 30'\nPROGRESS: 64% (714/1099)\n('[How come the lowest skill cap class gets to do this?] '\n '(/forums/en/wow/topic/17613423340)')\n"
     ]
    },
    {
     "name": "stdout",
     "output_type": "stream",
     "text": [
      "HTTPError = 404\n"
     ]
    },
    {
     "name": "stdout",
     "output_type": "stream",
     "text": [
      "Exiting\n'posts: 41'\nPROGRESS: 65% (715/1099)\n'[DH Class Hall Quest Bug? Solved] (/forums/en/wow/topic/17613403233)'\n"
     ]
    },
    {
     "name": "stdout",
     "output_type": "stream",
     "text": [
      "HTTPError = 404\n"
     ]
    },
    {
     "name": "stdout",
     "output_type": "stream",
     "text": [
      "Exiting\n'posts: 9'\nPROGRESS: 65% (716/1099)\n'[DH macro to dismout and you glide?] (/forums/en/wow/topic/17613411316)'\n"
     ]
    },
    {
     "name": "stdout",
     "output_type": "stream",
     "text": [
      "HTTPError = 404\n"
     ]
    },
    {
     "name": "stdout",
     "output_type": "stream",
     "text": [
      "Exiting\n'posts: 4'\nPROGRESS: 65% (717/1099)\n"
     ]
    },
    {
     "name": "stdout",
     "output_type": "stream",
     "text": [
      "'[Mardum exploring.] (/forums/en/wow/topic/17613333470)'\n"
     ]
    },
    {
     "name": "stdout",
     "output_type": "stream",
     "text": [
      "Exiting\n'posts: 4'\nPROGRESS: 65% (718/1099)\n"
     ]
    },
    {
     "name": "stdout",
     "output_type": "stream",
     "text": [
      "'[Fel Rush Causing  Dizzyness/exhaustian] (/forums/en/wow/topic/17613363596)'\nHTTPError = 404\n"
     ]
    },
    {
     "name": "stdout",
     "output_type": "stream",
     "text": [
      "Exiting\n'posts: 1'\nPROGRESS: 65% (719/1099)\n"
     ]
    },
    {
     "name": "stdout",
     "output_type": "stream",
     "text": [
      "'[Fel Rush Disconnects (30 and counting)] (/forums/en/wow/topic/17613391264)'\n"
     ]
    },
    {
     "name": "stdout",
     "output_type": "stream",
     "text": [
      "Exiting\n'posts: 11'\nPROGRESS: 65% (720/1099)\n'[Demon hunter rotation. (Question)] (/forums/en/wow/topic/17613403120)'\n"
     ]
    },
    {
     "name": "stdout",
     "output_type": "stream",
     "text": [
      "Exiting\n'posts: 11'\nPROGRESS: 65% (721/1099)\n(\"[Soul Barrier & Prydaz, Xavaric's Magnum Opus Synergy] \"\n '(/forums/en/wow/topic/17613333461)')\n"
     ]
    },
    {
     "name": "stdout",
     "output_type": "stream",
     "text": [
      "Exiting\n'posts: 1'\nPROGRESS: 65% (722/1099)\n"
     ]
    },
    {
     "name": "stdout",
     "output_type": "stream",
     "text": [
      "'[Demon hunter dps help] (/forums/en/wow/topic/17613383401)'\n"
     ]
    },
    {
     "name": "stdout",
     "output_type": "stream",
     "text": [
      "Exiting\n'posts: 2'\nPROGRESS: 65% (723/1099)\n'[DH sheathed glaives....] (/forums/en/wow/topic/17613081370)'\n"
     ]
    },
    {
     "name": "stdout",
     "output_type": "stream",
     "text": [
      "HTTPError = 404\n"
     ]
    },
    {
     "name": "stdout",
     "output_type": "stream",
     "text": [
      "Exiting\n'posts: 51'\nPROGRESS: 65% (724/1099)\n"
     ]
    },
    {
     "name": "stdout",
     "output_type": "stream",
     "text": [
      "'[Reverse Magic Doesnt Work Properly.] (/forums/en/wow/topic/17613363481)'\n"
     ]
    },
    {
     "name": "stdout",
     "output_type": "stream",
     "text": [
      "Exiting\n'posts: 1'\nPROGRESS: 65% (725/1099)\n"
     ]
    },
    {
     "name": "stdout",
     "output_type": "stream",
     "text": [
      "'[Vengeance Stat help] (/forums/en/wow/topic/17613413288)'\n"
     ]
    },
    {
     "name": "stdout",
     "output_type": "stream",
     "text": [
      "Exiting\n'posts: 4'\nPROGRESS: 66% (726/1099)\n('[Question about Sigil of Flame and Flame Crash] '\n '(/forums/en/wow/topic/17613343474)')\n"
     ]
    },
    {
     "name": "stdout",
     "output_type": "stream",
     "text": [
      "Exiting\n'posts: 4'\nPROGRESS: 66% (727/1099)\n'[DHs and interrupts] (/forums/en/wow/topic/17613393350)'\n"
     ]
    },
    {
     "name": "stdout",
     "output_type": "stream",
     "text": [
      "Exiting\n'posts: 5'\nPROGRESS: 66% (728/1099)\n"
     ]
    },
    {
     "name": "stdout",
     "output_type": "stream",
     "text": [
      "'[Demon Hunter Followers] (/forums/en/wow/topic/17613423424)'\n"
     ]
    },
    {
     "name": "stdout",
     "output_type": "stream",
     "text": [
      "Exiting\n'posts: 1'\nPROGRESS: 66% (729/1099)\n'[Why am I loosing dps!?!?!?] (/forums/en/wow/topic/17613333137)'\n"
     ]
    },
    {
     "name": "stdout",
     "output_type": "stream",
     "text": [
      "Exiting\n'posts: 11'\nPROGRESS: 66% (730/1099)\n"
     ]
    },
    {
     "name": "stdout",
     "output_type": "stream",
     "text": [
      "('[Help needed: DH comapign and 30 world quests] '\n '(/forums/en/wow/topic/17613363270)')\nHTTPError = 404\n"
     ]
    },
    {
     "name": "stdout",
     "output_type": "stream",
     "text": [
      "Exiting\n'posts: 5'\nPROGRESS: 66% (731/1099)\n'[Please fix the Order Hall set, Blizzard.] (/forums/en/wow/topic/17613333073)'\n"
     ]
    },
    {
     "name": "stdout",
     "output_type": "stream",
     "text": [
      "Exiting\n'posts: 2'\nPROGRESS: 66% (732/1099)\n'[DH tanks are squisy?] (/forums/en/wow/topic/17613381886)'\n"
     ]
    },
    {
     "name": "stdout",
     "output_type": "stream",
     "text": [
      "Exiting\n'posts: 43'\nPROGRESS: 66% (733/1099)\n'[Artifact PVP talents ?] (/forums/en/wow/topic/17613443202)'\n"
     ]
    },
    {
     "name": "stdout",
     "output_type": "stream",
     "text": [
      "Exiting\n'posts: 2'\nPROGRESS: 66% (734/1099)\n"
     ]
    },
    {
     "name": "stdout",
     "output_type": "stream",
     "text": [
      "('[Bloodlet bug? Tooltip wrong? Or do i just suck?] '\n '(/forums/en/wow/topic/17613402658)')\n"
     ]
    },
    {
     "name": "stdout",
     "output_type": "stream",
     "text": [
      "Exiting\n'posts: 11'\nPROGRESS: 66% (735/1099)\n"
     ]
    },
    {
     "name": "stdout",
     "output_type": "stream",
     "text": [
      "'[dh gameplay and maybe some bugs] (/forums/en/wow/topic/17613383230)'\n"
     ]
    },
    {
     "name": "stdout",
     "output_type": "stream",
     "text": [
      "Exiting\n'posts: 1'\nPROGRESS: 66% (736/1099)\n('[Fury of the Illidari & Inner Demons stun interraction] '\n '(/forums/en/wow/topic/17613242502)')\n"
     ]
    },
    {
     "name": "stdout",
     "output_type": "stream",
     "text": [
      "Exiting\n'posts: 9'\nPROGRESS: 67% (737/1099)\n"
     ]
    },
    {
     "name": "stdout",
     "output_type": "stream",
     "text": [
      "'[Fiery Brand spread] (/forums/en/wow/topic/17613342811)'\n"
     ]
    },
    {
     "name": "stdout",
     "output_type": "stream",
     "text": [
      "Exiting\n'posts: 3'\nPROGRESS: 67% (738/1099)\n"
     ]
    },
    {
     "name": "stdout",
     "output_type": "stream",
     "text": [
      "'[Mythic trash] (/forums/en/wow/topic/17613422358)'\n"
     ]
    },
    {
     "name": "stdout",
     "output_type": "stream",
     "text": [
      "Exiting\n'posts: 14'\nPROGRESS: 67% (739/1099)\n'[Can i play without Momentum playstyle?] (/forums/en/wow/topic/17613432692)'\n"
     ]
    },
    {
     "name": "stdout",
     "output_type": "stream",
     "text": [
      "HTTPError = 404\n"
     ]
    },
    {
     "name": "stdout",
     "output_type": "stream",
     "text": [
      "Exiting\n'posts: 19'\nPROGRESS: 67% (740/1099)\n"
     ]
    },
    {
     "name": "stdout",
     "output_type": "stream",
     "text": [
      "'[DH QQ Threads] (/forums/en/wow/topic/17613432752)'\n"
     ]
    },
    {
     "name": "stdout",
     "output_type": "stream",
     "text": [
      "HTTPError = 404\n"
     ]
    },
    {
     "name": "stdout",
     "output_type": "stream",
     "text": [
      "Exiting\n'posts: 8'\nPROGRESS: 67% (741/1099)\n"
     ]
    },
    {
     "name": "stdout",
     "output_type": "stream",
     "text": [
      "'[Havoc rotation,talent build] (/forums/en/wow/topic/17613412396)'\n"
     ]
    },
    {
     "name": "stdout",
     "output_type": "stream",
     "text": [
      "HTTPError = 404\n"
     ]
    },
    {
     "name": "stdout",
     "output_type": "stream",
     "text": [
      "Exiting\n'posts: 11'\nPROGRESS: 67% (742/1099)\n'[Naga Troops?!?] (/forums/en/wow/topic/17613343016)'\n"
     ]
    },
    {
     "name": "stdout",
     "output_type": "stream",
     "text": [
      "Exiting\n'posts: 3'\nPROGRESS: 67% (743/1099)\n'[Inner Demons Havoc DPS Trait Proc rate] (/forums/en/wow/topic/17613363042)'\n"
     ]
    },
    {
     "name": "stdout",
     "output_type": "stream",
     "text": [
      "Exiting\n'posts: 7'\nPROGRESS: 67% (744/1099)\n"
     ]
    },
    {
     "name": "stdout",
     "output_type": "stream",
     "text": [
      "'[Havoc, how do i sustain myself?] (/forums/en/wow/topic/17613372874)'\n"
     ]
    },
    {
     "name": "stdout",
     "output_type": "stream",
     "text": [
      "Exiting\n'posts: 4'\nPROGRESS: 67% (745/1099)\n'[Warglaive of Azzinoth Hidden Skin] (/forums/en/wow/topic/17613392801)'\n"
     ]
    },
    {
     "name": "stdout",
     "output_type": "stream",
     "text": [
      "Exiting\n'posts: 11'\nPROGRESS: 67% (746/1099)\n"
     ]
    },
    {
     "name": "stdout",
     "output_type": "stream",
     "text": [
      "'[Weapon sheathing :/] (/forums/en/wow/topic/17613442965)'\n"
     ]
    },
    {
     "name": "stdout",
     "output_type": "stream",
     "text": [
      "HTTPError = 404\n"
     ]
    },
    {
     "name": "stdout",
     "output_type": "stream",
     "text": [
      "Exiting\n'posts: 1'\nPROGRESS: 67% (747/1099)\n"
     ]
    },
    {
     "name": "stdout",
     "output_type": "stream",
     "text": [
      "'[First blood, yay or nay?] (/forums/en/wow/topic/17613411718)'\n"
     ]
    },
    {
     "name": "stdout",
     "output_type": "stream",
     "text": [
      "Exiting\n'posts: 8'\nPROGRESS: 68% (748/1099)\n"
     ]
    },
    {
     "name": "stdout",
     "output_type": "stream",
     "text": [
      "('[I just completed my Order Hall Campaign, what next?] '\n '(/forums/en/wow/topic/17613433006)')\n"
     ]
    },
    {
     "name": "stdout",
     "output_type": "stream",
     "text": [
      "Exiting\n'posts: 2'\nPROGRESS: 68% (749/1099)\n'[Damage, Is it really Broken in PVE] (/forums/en/wow/topic/17613442706)'\n"
     ]
    },
    {
     "name": "stdout",
     "output_type": "stream",
     "text": [
      "Exiting\n'posts: 11'\nPROGRESS: 68% (750/1099)\n"
     ]
    },
    {
     "name": "stdout",
     "output_type": "stream",
     "text": [
      "'[Twisting Nether] (/forums/en/wow/topic/17613442876)'\nHTTPError = 404\n"
     ]
    },
    {
     "name": "stdout",
     "output_type": "stream",
     "text": [
      "Exiting\n'posts: 2'\nPROGRESS: 68% (751/1099)\n"
     ]
    },
    {
     "name": "stdout",
     "output_type": "stream",
     "text": [
      "'[Demon Blades vs Momentum] (/forums/en/wow/topic/17613392783)'\n"
     ]
    },
    {
     "name": "stdout",
     "output_type": "stream",
     "text": [
      "Exiting\n'posts: 8'\nPROGRESS: 68% (752/1099)\n'[Demon Hunter Spreadsheet] (/forums/en/wow/topic/17613332936)'\n"
     ]
    },
    {
     "name": "stdout",
     "output_type": "stream",
     "text": [
      "Exiting\n'posts: 1'\nPROGRESS: 68% (753/1099)\n"
     ]
    },
    {
     "name": "stdout",
     "output_type": "stream",
     "text": [
      "'[Demon Blades is a very depressing talent.] (/forums/en/wow/topic/17613432317)'\n"
     ]
    },
    {
     "name": "stdout",
     "output_type": "stream",
     "text": [
      "Exiting\n'posts: 22'\nPROGRESS: 68% (754/1099)\n"
     ]
    },
    {
     "name": "stdout",
     "output_type": "stream",
     "text": [
      "'[(Veng) Metamorphosis lacking animations] (/forums/en/wow/topic/17613342822)'\n"
     ]
    },
    {
     "name": "stdout",
     "output_type": "stream",
     "text": [
      "HTTPError = 404\n"
     ]
    },
    {
     "name": "stdout",
     "output_type": "stream",
     "text": [
      "Exiting\n'posts: 1'\nPROGRESS: 68% (755/1099)\n"
     ]
    },
    {
     "name": "stdout",
     "output_type": "stream",
     "text": [
      "'[Stop asking for healing.] (/forums/en/wow/topic/17613342369)'\n"
     ]
    },
    {
     "name": "stdout",
     "output_type": "stream",
     "text": [
      "Exiting\n'posts: 18'\nPROGRESS: 68% (756/1099)\n"
     ]
    },
    {
     "name": "stdout",
     "output_type": "stream",
     "text": [
      "'[Why doesnt the rule apply?] (/forums/en/wow/topic/17613432745)'\n"
     ]
    },
    {
     "name": "stdout",
     "output_type": "stream",
     "text": [
      "HTTPError = 404\n"
     ]
    },
    {
     "name": "stdout",
     "output_type": "stream",
     "text": [
      "Exiting\n'posts: 11'\nPROGRESS: 68% (757/1099)\n'[Deadlier Warglaives Bugged] (/forums/en/wow/topic/17613362049)'\n"
     ]
    },
    {
     "name": "stdout",
     "output_type": "stream",
     "text": [
      "Exiting\n'posts: 7'\nPROGRESS: 68% (758/1099)\n"
     ]
    },
    {
     "name": "stdout",
     "output_type": "stream",
     "text": [
      "'[Three questions from new guy.] (/forums/en/wow/topic/17613422455)'\n"
     ]
    },
    {
     "name": "stdout",
     "output_type": "stream",
     "text": [
      "Exiting\n'posts: 3'\nPROGRESS: 69% (759/1099)\n"
     ]
    },
    {
     "name": "stdout",
     "output_type": "stream",
     "text": [
      "'[Felblade when rooted] (/forums/en/wow/topic/17613422641)'\n"
     ]
    },
    {
     "name": "stdout",
     "output_type": "stream",
     "text": [
      "Exiting\n'posts: 5'\nPROGRESS: 69% (760/1099)\n"
     ]
    },
    {
     "name": "stdout",
     "output_type": "stream",
     "text": [
      "'[Crux of the Plan bugged] (/forums/en/wow/topic/17613401488)'\nHTTPError = 404\n"
     ]
    },
    {
     "name": "stdout",
     "output_type": "stream",
     "text": [
      "Exiting\n'posts: 6'\nPROGRESS: 69% (761/1099)\n"
     ]
    },
    {
     "name": "stdout",
     "output_type": "stream",
     "text": [
      "'[Fury Bar Addon] (/forums/en/wow/topic/17613442585)'\n"
     ]
    },
    {
     "name": "stdout",
     "output_type": "stream",
     "text": [
      "Exiting\n'posts: 4'\nPROGRESS: 69% (762/1099)\n'[PvE Havoc DPS Guide] (/forums/en/wow/topic/17613422738)'\n"
     ]
    },
    {
     "name": "stdout",
     "output_type": "stream",
     "text": [
      "Exiting\n'posts: 2'\nPROGRESS: 69% (763/1099)\n"
     ]
    },
    {
     "name": "stdout",
     "output_type": "stream",
     "text": [
      "'[\"The Crux Of The Plan\"] (/forums/en/wow/topic/17613352789)'\nHTTPError = 404\nHTTPError = 404\n"
     ]
    },
    {
     "name": "stdout",
     "output_type": "stream",
     "text": [
      "HTTPError = 404\n"
     ]
    },
    {
     "name": "stdout",
     "output_type": "stream",
     "text": [
      "Exiting\n'posts: 1'\nPROGRESS: 69% (764/1099)\n"
     ]
    },
    {
     "name": "stdout",
     "output_type": "stream",
     "text": [
      "'[DH stormwind reputation bug] (/forums/en/wow/topic/17613412667)'\n"
     ]
    },
    {
     "name": "stdout",
     "output_type": "stream",
     "text": [
      "Exiting\n'posts: 1'\nPROGRESS: 69% (765/1099)\n'[Slight lag when using abilities] (/forums/en/wow/topic/17613332666)'\n"
     ]
    },
    {
     "name": "stdout",
     "output_type": "stream",
     "text": [
      "Exiting\n'posts: 2'\nPROGRESS: 69% (766/1099)\n"
     ]
    },
    {
     "name": "stdout",
     "output_type": "stream",
     "text": [
      "'[Class Hall quest] (/forums/en/wow/topic/17613372575)'\nHTTPError = 404\n"
     ]
    },
    {
     "name": "stdout",
     "output_type": "stream",
     "text": [
      "Exiting\n'posts: 4'\nPROGRESS: 69% (767/1099)\n"
     ]
    },
    {
     "name": "stdout",
     "output_type": "stream",
     "text": [
      "'[Demon Hunter Honor Talent bugs] (/forums/en/wow/topic/17613342618)'\n"
     ]
    },
    {
     "name": "stdout",
     "output_type": "stream",
     "text": [
      "HTTPError = 404\n"
     ]
    },
    {
     "name": "stdout",
     "output_type": "stream",
     "text": [
      "Exiting\n'posts: 1'\nPROGRESS: 69% (768/1099)\n"
     ]
    },
    {
     "name": "stdout",
     "output_type": "stream",
     "text": [
      "'[Havoc Raiding Talents?] (/forums/en/wow/topic/17613362038)'\n"
     ]
    },
    {
     "name": "stdout",
     "output_type": "stream",
     "text": [
      "Exiting\n'posts: 19'\nPROGRESS: 69% (769/1099)\n"
     ]
    },
    {
     "name": "stdout",
     "output_type": "stream",
     "text": [
      "'[Best relics?] (/forums/en/wow/topic/17613402488)'\n"
     ]
    },
    {
     "name": "stdout",
     "output_type": "stream",
     "text": [
      "Exiting\n'posts: 2'\nPROGRESS: 70% (770/1099)\n"
     ]
    },
    {
     "name": "stdout",
     "output_type": "stream",
     "text": [
      "'[Artifact Transmog limitations...] (/forums/en/wow/topic/17613241450)'\n"
     ]
    },
    {
     "name": "stdout",
     "output_type": "stream",
     "text": [
      "Exiting\n'posts: 7'\nPROGRESS: 70% (771/1099)\n"
     ]
    },
    {
     "name": "stdout",
     "output_type": "stream",
     "text": [
      "'[Reverse Magic (honor talent) disappearing] (/forums/en/wow/topic/17613352491)'\n"
     ]
    },
    {
     "name": "stdout",
     "output_type": "stream",
     "text": [
      "Exiting\n'posts: 4'\nPROGRESS: 70% (772/1099)\n"
     ]
    },
    {
     "name": "stdout",
     "output_type": "stream",
     "text": [
      "'[Issue collecting research notes.] (/forums/en/wow/topic/17613392468)'\n"
     ]
    },
    {
     "name": "stdout",
     "output_type": "stream",
     "text": [
      "Exiting\n'posts: 3'\nPROGRESS: 70% (773/1099)\n"
     ]
    },
    {
     "name": "stdout",
     "output_type": "stream",
     "text": [
      "'[Vengeance 2v2 comps] (/forums/en/wow/topic/17613412029)'\n"
     ]
    },
    {
     "name": "stdout",
     "output_type": "stream",
     "text": [
      "HTTPError = 404\n"
     ]
    },
    {
     "name": "stdout",
     "output_type": "stream",
     "text": [
      "Exiting\n'posts: 2'\nPROGRESS: 70% (774/1099)\n"
     ]
    },
    {
     "name": "stdout",
     "output_type": "stream",
     "text": [
      "('[PVP - Feral or Boomkin for Demon Hunter arena?] '\n '(/forums/en/wow/topic/17613362011)')\n"
     ]
    },
    {
     "name": "stdout",
     "output_type": "stream",
     "text": [
      "Exiting\n'posts: 4'\nPROGRESS: 70% (775/1099)\n'[Balanced blade bug?] (/forums/en/wow/topic/17613372254)'\n"
     ]
    },
    {
     "name": "stdout",
     "output_type": "stream",
     "text": [
      "Exiting\n'posts: 6'\nPROGRESS: 70% (776/1099)\n'[Fel Rush] (/forums/en/wow/topic/17613382372)'\n"
     ]
    },
    {
     "name": "stdout",
     "output_type": "stream",
     "text": [
      "HTTPError = 404\n"
     ]
    },
    {
     "name": "stdout",
     "output_type": "stream",
     "text": [
      "Exiting\n'posts: 3'\nPROGRESS: 70% (777/1099)\n"
     ]
    },
    {
     "name": "stdout",
     "output_type": "stream",
     "text": [
      "'[DH leveling spec] (/forums/en/wow/topic/17613421643)'\n"
     ]
    },
    {
     "name": "stdout",
     "output_type": "stream",
     "text": [
      "Exiting\n'posts: 10'\nPROGRESS: 70% (778/1099)\n'[Bad texturing] (/forums/en/wow/topic/17613332375)'\n"
     ]
    },
    {
     "name": "stdout",
     "output_type": "stream",
     "text": [
      "HTTPError = 404\n"
     ]
    },
    {
     "name": "stdout",
     "output_type": "stream",
     "text": [
      "Exiting\n'posts: 1'\nPROGRESS: 70% (779/1099)\n"
     ]
    },
    {
     "name": "stdout",
     "output_type": "stream",
     "text": [
      "'[Transmog Warglaives to Fistweapons] (/forums/en/wow/topic/17613251830)'\n"
     ]
    },
    {
     "name": "stdout",
     "output_type": "stream",
     "text": [
      "Exiting\n'posts: 5'\nPROGRESS: 70% (780/1099)\n"
     ]
    },
    {
     "name": "stdout",
     "output_type": "stream",
     "text": [
      "'[DPS and End Game Tank Viability] (/forums/en/wow/topic/17613392291)'\n"
     ]
    },
    {
     "name": "stdout",
     "output_type": "stream",
     "text": [
      "Exiting\n'posts: 9'\nPROGRESS: 71% (781/1099)\n"
     ]
    },
    {
     "name": "stdout",
     "output_type": "stream",
     "text": [
      "'[Demon Hunter bugs] (/forums/en/wow/topic/17613352056)'\n"
     ]
    },
    {
     "name": "stdout",
     "output_type": "stream",
     "text": [
      "HTTPError = 404\n"
     ]
    },
    {
     "name": "stdout",
     "output_type": "stream",
     "text": [
      "Exiting\n'posts: 4'\nPROGRESS: 71% (782/1099)\n"
     ]
    },
    {
     "name": "stdout",
     "output_type": "stream",
     "text": [
      "'[Release Hidden Artifact] (/forums/en/wow/topic/17613392313)'\n"
     ]
    },
    {
     "name": "stdout",
     "output_type": "stream",
     "text": [
      "HTTPError = 404\n"
     ]
    },
    {
     "name": "stdout",
     "output_type": "stream",
     "text": [
      "Exiting\n'posts: 1'\nPROGRESS: 71% (783/1099)\n"
     ]
    },
    {
     "name": "stdout",
     "output_type": "stream",
     "text": [
      "('[A few questions about Burning Alive (the talent)] '\n '(/forums/en/wow/topic/17613352369)')\n"
     ]
    },
    {
     "name": "stdout",
     "output_type": "stream",
     "text": [
      "HTTPError = 404\n"
     ]
    },
    {
     "name": "stdout",
     "output_type": "stream",
     "text": [
      "Exiting\n'posts: 2'\nPROGRESS: 71% (784/1099)\n"
     ]
    },
    {
     "name": "stdout",
     "output_type": "stream",
     "text": [
      "'[Vengeance weapon skins] (/forums/en/wow/topic/17613441527)'\n"
     ]
    },
    {
     "name": "stdout",
     "output_type": "stream",
     "text": [
      "Exiting\n'posts: 4'\nPROGRESS: 71% (785/1099)\n"
     ]
    },
    {
     "name": "stdout",
     "output_type": "stream",
     "text": [
      "\"[Let's talk about Demon Hunter damage :-)] (/forums/en/wow/topic/17613362098)\"\n"
     ]
    },
    {
     "name": "stdout",
     "output_type": "stream",
     "text": [
      "Exiting\n'posts: 18'\nPROGRESS: 71% (786/1099)\n"
     ]
    },
    {
     "name": "stdout",
     "output_type": "stream",
     "text": [
      "'[Changing Spec] (/forums/en/wow/topic/17613382241)'\n"
     ]
    },
    {
     "name": "stdout",
     "output_type": "stream",
     "text": [
      "HTTPError = 404\n"
     ]
    },
    {
     "name": "stdout",
     "output_type": "stream",
     "text": [
      "HTTPError = 404\n"
     ]
    },
    {
     "name": "stdout",
     "output_type": "stream",
     "text": [
      "Exiting\n'posts: 2'\nPROGRESS: 71% (787/1099)\n"
     ]
    },
    {
     "name": "stdout",
     "output_type": "stream",
     "text": [
      "'[Changing spec and blades] (/forums/en/wow/topic/17613352327)'\n"
     ]
    },
    {
     "name": "stdout",
     "output_type": "stream",
     "text": [
      "Exiting\n'posts: 1'\nPROGRESS: 71% (788/1099)\n'[Vengeance stat priority?] (/forums/en/wow/topic/17613412226)'\n"
     ]
    },
    {
     "name": "stdout",
     "output_type": "stream",
     "text": [
      "HTTPError = 404\n"
     ]
    },
    {
     "name": "stdout",
     "output_type": "stream",
     "text": [
      "Exiting\n'posts: 3'\nPROGRESS: 71% (789/1099)\n"
     ]
    },
    {
     "name": "stdout",
     "output_type": "stream",
     "text": [
      "'[Metamorphosis animation \"bug\"!] (/forums/en/wow/topic/17613442048)'\n"
     ]
    },
    {
     "name": "stdout",
     "output_type": "stream",
     "text": [
      "Exiting\n'posts: 3'\nPROGRESS: 71% (790/1099)\n"
     ]
    },
    {
     "name": "stdout",
     "output_type": "stream",
     "text": [
      "('[How many times can you do Twisting Nether?] '\n '(/forums/en/wow/topic/17613432100)')\n"
     ]
    },
    {
     "name": "stdout",
     "output_type": "stream",
     "text": [
      "HTTPError = 404\n"
     ]
    },
    {
     "name": "stdout",
     "output_type": "stream",
     "text": [
      "Exiting\n'posts: 7'\nPROGRESS: 71% (791/1099)\n"
     ]
    },
    {
     "name": "stdout",
     "output_type": "stream",
     "text": [
      "('[Having a really hard time joining mythic dungeons?] '\n '(/forums/en/wow/topic/17613331883)')\n"
     ]
    },
    {
     "name": "stdout",
     "output_type": "stream",
     "text": [
      "Exiting\n'posts: 9'\nPROGRESS: 72% (792/1099)\n"
     ]
    },
    {
     "name": "stdout",
     "output_type": "stream",
     "text": [
      "'[Order hall campaign 60 hour wall] (/forums/en/wow/topic/17613391304)'\n"
     ]
    },
    {
     "name": "stdout",
     "output_type": "stream",
     "text": [
      "HTTPError = 404\n"
     ]
    },
    {
     "name": "stdout",
     "output_type": "stream",
     "text": [
      "Exiting\n'posts: 22'\nPROGRESS: 72% (793/1099)\n"
     ]
    },
    {
     "name": "stdout",
     "output_type": "stream",
     "text": [
      "\"[Candrael's Charm] (/forums/en/wow/topic/17613432128)\"\n"
     ]
    },
    {
     "name": "stdout",
     "output_type": "stream",
     "text": [
      "HTTPError = 404\n"
     ]
    },
    {
     "name": "stdout",
     "output_type": "stream",
     "text": [
      "Exiting\n'posts: 1'\nPROGRESS: 72% (794/1099)\n"
     ]
    },
    {
     "name": "stdout",
     "output_type": "stream",
     "text": [
      "'[Class order hall bug] (/forums/en/wow/topic/17613352104)'\n"
     ]
    },
    {
     "name": "stdout",
     "output_type": "stream",
     "text": [
      "HTTPError = 404\n"
     ]
    },
    {
     "name": "stdout",
     "output_type": "stream",
     "text": [
      "Exiting\n'posts: 4'\nPROGRESS: 72% (795/1099)\n"
     ]
    },
    {
     "name": "stdout",
     "output_type": "stream",
     "text": [
      "'[Fel Rush] (/forums/en/wow/topic/17613412087)'\nHTTPError = 404\n"
     ]
    },
    {
     "name": "stdout",
     "output_type": "stream",
     "text": [
      "Exiting\n'posts: 2'\nPROGRESS: 72% (796/1099)\n"
     ]
    },
    {
     "name": "stdout",
     "output_type": "stream",
     "text": [
      "\"[Can't transmog weapons to fist weapons.] (/forums/en/wow/topic/17613372025)\"\n"
     ]
    },
    {
     "name": "stdout",
     "output_type": "stream",
     "text": [
      "Exiting\n'posts: 2'\nPROGRESS: 72% (797/1099)\n"
     ]
    },
    {
     "name": "stdout",
     "output_type": "stream",
     "text": [
      "'[Inscription cosmetic?] (/forums/en/wow/topic/17613342109)'\n"
     ]
    },
    {
     "name": "stdout",
     "output_type": "stream",
     "text": [
      "Exiting\n'posts: 3'\nPROGRESS: 72% (798/1099)\n"
     ]
    },
    {
     "name": "stdout",
     "output_type": "stream",
     "text": [
      "'[Fel Rush still disconnects people.] (/forums/en/wow/topic/17613412041)'\n"
     ]
    },
    {
     "name": "stdout",
     "output_type": "stream",
     "text": [
      "Exiting\n'posts: 1'\nPROGRESS: 72% (799/1099)\n"
     ]
    },
    {
     "name": "stdout",
     "output_type": "stream",
     "text": [
      "'[Artefact Hidden Abilities] (/forums/en/wow/topic/17613411450)'\n"
     ]
    },
    {
     "name": "stdout",
     "output_type": "stream",
     "text": [
      "Exiting\n'posts: 11'\nPROGRESS: 72% (800/1099)\n"
     ]
    },
    {
     "name": "stdout",
     "output_type": "stream",
     "text": [
      "'[Havoc talents for PvP?] (/forums/en/wow/topic/17613431937)'\n"
     ]
    },
    {
     "name": "stdout",
     "output_type": "stream",
     "text": [
      "Exiting\n'posts: 4'\nPROGRESS: 72% (801/1099)\n"
     ]
    },
    {
     "name": "stdout",
     "output_type": "stream",
     "text": [
      "'[Hidden artifact appearance] (/forums/en/wow/topic/17613292546)'\nHTTPError = 404\n"
     ]
    },
    {
     "name": "stdout",
     "output_type": "stream",
     "text": [
      "Exiting\n'posts: 7'\nPROGRESS: 72% (802/1099)\n"
     ]
    },
    {
     "name": "stdout",
     "output_type": "stream",
     "text": [
      "'[Illidari faction] (/forums/en/wow/topic/17613351965)'\n"
     ]
    },
    {
     "name": "stdout",
     "output_type": "stream",
     "text": [
      "Exiting\n'posts: 5'\nPROGRESS: 73% (803/1099)\n"
     ]
    },
    {
     "name": "stdout",
     "output_type": "stream",
     "text": [
      "'[Can I tank normals?] (/forums/en/wow/topic/17613401953)'\n"
     ]
    },
    {
     "name": "stdout",
     "output_type": "stream",
     "text": [
      "HTTPError = 404\n"
     ]
    },
    {
     "name": "stdout",
     "output_type": "stream",
     "text": [
      "Exiting\n'posts: 3'\nPROGRESS: 73% (804/1099)\n"
     ]
    },
    {
     "name": "stdout",
     "output_type": "stream",
     "text": [
      "'[Passive leech?] (/forums/en/wow/topic/17613361950)'\n"
     ]
    },
    {
     "name": "stdout",
     "output_type": "stream",
     "text": [
      "Exiting\n'posts: 1'\nPROGRESS: 73% (805/1099)\n"
     ]
    },
    {
     "name": "stdout",
     "output_type": "stream",
     "text": [
      "'[Artifact lvl 102 BUG] (/forums/en/wow/topic/17613341461)'\n"
     ]
    },
    {
     "name": "stdout",
     "output_type": "stream",
     "text": [
      "Exiting\n'posts: 4'\nPROGRESS: 73% (806/1099)\n"
     ]
    },
    {
     "name": "stdout",
     "output_type": "stream",
     "text": [
      "'[Vengance DH stats?] (/forums/en/wow/topic/17613361724)'\n"
     ]
    },
    {
     "name": "stdout",
     "output_type": "stream",
     "text": [
      "Exiting\n'posts: 7'\nPROGRESS: 73% (807/1099)\n"
     ]
    },
    {
     "name": "stdout",
     "output_type": "stream",
     "text": [
      "('[Vengeance; Charred Warblades & Trinkets & Ench] '\n '(/forums/en/wow/topic/17613391889)')\nHTTPError = 404\n"
     ]
    },
    {
     "name": "stdout",
     "output_type": "stream",
     "text": [
      "Exiting\n'posts: 2'\nPROGRESS: 73% (808/1099)\n"
     ]
    },
    {
     "name": "stdout",
     "output_type": "stream",
     "text": [
      "'[Newb tank] (/forums/en/wow/topic/17613292438)'\n"
     ]
    },
    {
     "name": "stdout",
     "output_type": "stream",
     "text": [
      "Exiting\n'posts: 13'\nPROGRESS: 73% (809/1099)\n"
     ]
    },
    {
     "name": "stdout",
     "output_type": "stream",
     "text": [
      "'[Working with the wardens] (/forums/en/wow/topic/17613391793)'\n"
     ]
    },
    {
     "name": "stdout",
     "output_type": "stream",
     "text": [
      "Exiting\n'posts: 2'\nPROGRESS: 73% (810/1099)\n"
     ]
    },
    {
     "name": "stdout",
     "output_type": "stream",
     "text": [
      "'[Raid boss hidden artifact] (/forums/en/wow/topic/17613361475)'\nHTTPError = 404\n"
     ]
    },
    {
     "name": "stdout",
     "output_type": "stream",
     "text": [
      "Exiting\n'posts: 8'\nPROGRESS: 73% (811/1099)\n"
     ]
    },
    {
     "name": "stdout",
     "output_type": "stream",
     "text": [
      "'[DH OrderHall Pants bugg] (/forums/en/wow/topic/17613431758)'\n"
     ]
    },
    {
     "name": "stdout",
     "output_type": "stream",
     "text": [
      "HTTPError = 404\n"
     ]
    },
    {
     "name": "stdout",
     "output_type": "stream",
     "text": [
      "Exiting\n'posts: 2'\nPROGRESS: 73% (812/1099)\n"
     ]
    },
    {
     "name": "stdout",
     "output_type": "stream",
     "text": [
      "'[Demonic Appetite Baseline] (/forums/en/wow/topic/17613421722)'\n"
     ]
    },
    {
     "name": "stdout",
     "output_type": "stream",
     "text": [
      "Exiting\n'posts: 1'\nPROGRESS: 73% (813/1099)\n"
     ]
    },
    {
     "name": "stdout",
     "output_type": "stream",
     "text": [
      "'[Twisting Nether debuff in class hall] (/forums/en/wow/topic/17613331217)'\n"
     ]
    },
    {
     "name": "stdout",
     "output_type": "stream",
     "text": [
      "Exiting\n'posts: 4'\nPROGRESS: 74% (814/1099)\n"
     ]
    },
    {
     "name": "stdout",
     "output_type": "stream",
     "text": [
      "'[Doom Guards Curse] (/forums/en/wow/topic/17613361734)'\n"
     ]
    },
    {
     "name": "stdout",
     "output_type": "stream",
     "text": [
      "HTTPError = 404\n"
     ]
    },
    {
     "name": "stdout",
     "output_type": "stream",
     "text": [
      "Exiting\n'posts: 1'\nPROGRESS: 74% (815/1099)\n"
     ]
    },
    {
     "name": "stdout",
     "output_type": "stream",
     "text": [
      "'[[Havoc] Just a little tweak] (/forums/en/wow/topic/17613351728)'\n"
     ]
    },
    {
     "name": "stdout",
     "output_type": "stream",
     "text": [
      "Exiting\n'posts: 3'\nPROGRESS: 74% (816/1099)\n"
     ]
    },
    {
     "name": "stdout",
     "output_type": "stream",
     "text": [
      "('[I want to change green colored abilities to purple] '\n '(/forums/en/wow/topic/17613331414)')\n"
     ]
    },
    {
     "name": "stdout",
     "output_type": "stream",
     "text": [
      "Exiting\n'posts: 10'\nPROGRESS: 74% (817/1099)\n"
     ]
    },
    {
     "name": "stdout",
     "output_type": "stream",
     "text": [
      "'[Havoc or Vengeance : a harsh decision !] (/forums/en/wow/topic/17613411462)'\n"
     ]
    },
    {
     "name": "stdout",
     "output_type": "stream",
     "text": [
      "Exiting\n'posts: 5'\nPROGRESS: 74% (818/1099)\n"
     ]
    },
    {
     "name": "stdout",
     "output_type": "stream",
     "text": [
      "'[How to make DH fun] (/forums/en/wow/topic/17613212680)'\n"
     ]
    },
    {
     "name": "stdout",
     "output_type": "stream",
     "text": [
      "HTTPError = 404\n"
     ]
    },
    {
     "name": "stdout",
     "output_type": "stream",
     "text": [
      "Exiting\n'posts: 22'\nPROGRESS: 74% (819/1099)\n"
     ]
    },
    {
     "name": "stdout",
     "output_type": "stream",
     "text": [
      "'[Havoc and vengeance drops?] (/forums/en/wow/topic/17613401642)'\n"
     ]
    },
    {
     "name": "stdout",
     "output_type": "stream",
     "text": [
      "Exiting\n'posts: 1'\nPROGRESS: 74% (820/1099)\n"
     ]
    },
    {
     "name": "stdout",
     "output_type": "stream",
     "text": [
      "'[Havoc Hidden Appearance?] (/forums/en/wow/topic/17613361643)'\n"
     ]
    },
    {
     "name": "stdout",
     "output_type": "stream",
     "text": [
      "HTTPError = 404\n"
     ]
    },
    {
     "name": "stdout",
     "output_type": "stream",
     "text": [
      "Exiting\n'posts: 1'\nPROGRESS: 74% (821/1099)\n"
     ]
    },
    {
     "name": "stdout",
     "output_type": "stream",
     "text": [
      "'[Weapon upgrade] (/forums/en/wow/topic/17613441540)'\nHTTPError = 404\n"
     ]
    },
    {
     "name": "stdout",
     "output_type": "stream",
     "text": [
      "Exiting\n'posts: 2'\nPROGRESS: 74% (822/1099)\n"
     ]
    },
    {
     "name": "stdout",
     "output_type": "stream",
     "text": [
      "('[Should I be able to \"handle myself\" at 110 as Havoc?] '\n '(/forums/en/wow/topic/17613361584)')\n"
     ]
    },
    {
     "name": "stdout",
     "output_type": "stream",
     "text": [
      "HTTPError = 404\n"
     ]
    },
    {
     "name": "stdout",
     "output_type": "stream",
     "text": [
      "Exiting\n'posts: 9'\nPROGRESS: 74% (823/1099)\n"
     ]
    },
    {
     "name": "stdout",
     "output_type": "stream",
     "text": [
      "'[Shadowmeld after getting interrupted.] (/forums/en/wow/topic/17613391598)'\n"
     ]
    },
    {
     "name": "stdout",
     "output_type": "stream",
     "text": [
      "Exiting\n'posts: 1'\nPROGRESS: 74% (824/1099)\n"
     ]
    },
    {
     "name": "stdout",
     "output_type": "stream",
     "text": [
      "'[Demon Hunter music.] (/forums/en/wow/topic/17613431569)'\n"
     ]
    },
    {
     "name": "stdout",
     "output_type": "stream",
     "text": [
      "HTTPError = 404\n"
     ]
    },
    {
     "name": "stdout",
     "output_type": "stream",
     "text": [
      "Exiting\n'posts: 1'\nPROGRESS: 75% (825/1099)\n"
     ]
    },
    {
     "name": "stdout",
     "output_type": "stream",
     "text": [
      "'[Tattoo Colours] (/forums/en/wow/topic/17613351538)'\n"
     ]
    },
    {
     "name": "stdout",
     "output_type": "stream",
     "text": [
      "Exiting\n'posts: 4'\nPROGRESS: 75% (826/1099)\n"
     ]
    },
    {
     "name": "stdout",
     "output_type": "stream",
     "text": [
      "'[[Request] Havoc needs taunt!] (/forums/en/wow/topic/17613212682)'\n"
     ]
    },
    {
     "name": "stdout",
     "output_type": "stream",
     "text": [
      "Exiting\n'posts: 23'\nPROGRESS: 75% (827/1099)\n"
     ]
    },
    {
     "name": "stdout",
     "output_type": "stream",
     "text": [
      "'[Demon Hunter Cosmetics] (/forums/en/wow/topic/17613441469)'\n"
     ]
    },
    {
     "name": "stdout",
     "output_type": "stream",
     "text": [
      "HTTPError = 404\n"
     ]
    },
    {
     "name": "stdout",
     "output_type": "stream",
     "text": [
      "HTTPError = 404\n"
     ]
    },
    {
     "name": "stdout",
     "output_type": "stream",
     "text": [
      "Exiting\n'posts: 2'\nPROGRESS: 75% (828/1099)\n"
     ]
    },
    {
     "name": "stdout",
     "output_type": "stream",
     "text": [
      "'[DH armory not updating?] (/forums/en/wow/topic/17613341407)'\nHTTPError = 404\n"
     ]
    },
    {
     "name": "stdout",
     "output_type": "stream",
     "text": [
      "Exiting\n'posts: 2'\nPROGRESS: 75% (829/1099)\n"
     ]
    },
    {
     "name": "stdout",
     "output_type": "stream",
     "text": [
      "'[Chaos Strike nerfed ?] (/forums/en/wow/topic/17613431247)'\n"
     ]
    },
    {
     "name": "stdout",
     "output_type": "stream",
     "text": [
      "Exiting\n'posts: 2'\nPROGRESS: 75% (830/1099)\n"
     ]
    },
    {
     "name": "stdout",
     "output_type": "stream",
     "text": [
      "'[help imprison focus macro] (/forums/en/wow/topic/17613391290)'\n"
     ]
    },
    {
     "name": "stdout",
     "output_type": "stream",
     "text": [
      "HTTPError = 404\n"
     ]
    },
    {
     "name": "stdout",
     "output_type": "stream",
     "text": [
      "Exiting\n'posts: 3'\nPROGRESS: 75% (831/1099)\n"
     ]
    },
    {
     "name": "stdout",
     "output_type": "stream",
     "text": [
      "'[Fel Rush Broken.] (/forums/en/wow/topic/17613282713)'\nHTTPError = 404\n"
     ]
    },
    {
     "name": "stdout",
     "output_type": "stream",
     "text": [
      "Exiting\n'posts: 2'\nPROGRESS: 75% (832/1099)\n"
     ]
    },
    {
     "name": "stdout",
     "output_type": "stream",
     "text": [
      "'[Demon Blades - broken?] (/forums/en/wow/topic/17613351221)'\n"
     ]
    },
    {
     "name": "stdout",
     "output_type": "stream",
     "text": [
      "Exiting\n'posts: 9'\nPROGRESS: 75% (833/1099)\n"
     ]
    },
    {
     "name": "stdout",
     "output_type": "stream",
     "text": [
      "'[Twisting Nether - Order Advancement] (/forums/en/wow/topic/17613282657)'\n"
     ]
    },
    {
     "name": "stdout",
     "output_type": "stream",
     "text": [
      "HTTPError = 404\n"
     ]
    },
    {
     "name": "stdout",
     "output_type": "stream",
     "text": [
      "Exiting\n'posts: 5'\nPROGRESS: 75% (834/1099)\n"
     ]
    },
    {
     "name": "stdout",
     "output_type": "stream",
     "text": [
      "'[Stats priority for tanking] (/forums/en/wow/topic/17613322341)'\nHTTPError = 404\n"
     ]
    },
    {
     "name": "stdout",
     "output_type": "stream",
     "text": [
      "Exiting\n'posts: 5'\nPROGRESS: 75% (835/1099)\n"
     ]
    },
    {
     "name": "stdout",
     "output_type": "stream",
     "text": [
      "'[Sigil of Fire] (/forums/en/wow/topic/17613341167)'\n"
     ]
    },
    {
     "name": "stdout",
     "output_type": "stream",
     "text": [
      "Exiting\n'posts: 2'\nPROGRESS: 76% (836/1099)\n"
     ]
    },
    {
     "name": "stdout",
     "output_type": "stream",
     "text": [
      "'[Is Fel Barrage bugged?] (/forums/en/wow/topic/17613272420)'\n"
     ]
    },
    {
     "name": "stdout",
     "output_type": "stream",
     "text": [
      "Exiting\n'posts: 4'\nPROGRESS: 76% (837/1099)\n"
     ]
    },
    {
     "name": "stdout",
     "output_type": "stream",
     "text": [
      "'[Havoc pve survival] (/forums/en/wow/topic/17613322102)'\nHTTPError = 404\n"
     ]
    },
    {
     "name": "stdout",
     "output_type": "stream",
     "text": [
      "Exiting\n'posts: 15'\nPROGRESS: 76% (838/1099)\n"
     ]
    },
    {
     "name": "stdout",
     "output_type": "stream",
     "text": [
      "'[-Demon Blades- Feedback] (/forums/en/wow/topic/17613231929)'\n"
     ]
    },
    {
     "name": "stdout",
     "output_type": "stream",
     "text": [
      "Exiting\n'posts: 10'\nPROGRESS: 76% (839/1099)\n"
     ]
    },
    {
     "name": "stdout",
     "output_type": "stream",
     "text": [
      "('[Did they remove these artifact appearances?] '\n '(/forums/en/wow/topic/17613212736)')\n"
     ]
    },
    {
     "name": "stdout",
     "output_type": "stream",
     "text": [
      "Exiting\n'posts: 3'\nPROGRESS: 76% (840/1099)\n"
     ]
    },
    {
     "name": "stdout",
     "output_type": "stream",
     "text": [
      "'[\"Glory to the illidari\"] (/forums/en/wow/topic/17613322669)'\n"
     ]
    },
    {
     "name": "stdout",
     "output_type": "stream",
     "text": [
      "Exiting\n'posts: 4'\nPROGRESS: 76% (841/1099)\n"
     ]
    },
    {
     "name": "stdout",
     "output_type": "stream",
     "text": [
      "'[DH class campaign end ?] (/forums/en/wow/topic/17613222690)'\n"
     ]
    },
    {
     "name": "stdout",
     "output_type": "stream",
     "text": [
      "HTTPError = 404\nHTTPError = 404\n"
     ]
    },
    {
     "name": "stdout",
     "output_type": "stream",
     "text": [
      "Exiting\n'posts: 2'\nPROGRESS: 76% (842/1099)\n"
     ]
    },
    {
     "name": "stdout",
     "output_type": "stream",
     "text": [
      "'[Third Spec Idea] (/forums/en/wow/topic/17613222720)'\nHTTPError = 404\n"
     ]
    },
    {
     "name": "stdout",
     "output_type": "stream",
     "text": [
      "Exiting\n'posts: 1'\nPROGRESS: 76% (843/1099)\n"
     ]
    },
    {
     "name": "stdout",
     "output_type": "stream",
     "text": [
      "'[Class Hall Map - Right Click] (/forums/en/wow/topic/17613282662)'\n"
     ]
    },
    {
     "name": "stdout",
     "output_type": "stream",
     "text": [
      "HTTPError = 404\n"
     ]
    },
    {
     "name": "stdout",
     "output_type": "stream",
     "text": [
      "Exiting\n'posts: 1'\nPROGRESS: 76% (844/1099)\n"
     ]
    },
    {
     "name": "stdout",
     "output_type": "stream",
     "text": [
      "'[Being kited in PvP doesnt change at 110] (/forums/en/wow/topic/17613252016)'\n"
     ]
    },
    {
     "name": "stdout",
     "output_type": "stream",
     "text": [
      "Exiting\n'posts: 16'\nPROGRESS: 76% (845/1099)\n"
     ]
    },
    {
     "name": "stdout",
     "output_type": "stream",
     "text": [
      "'[Metamorphosis Glide Bug] (/forums/en/wow/topic/17613252665)'\n"
     ]
    },
    {
     "name": "stdout",
     "output_type": "stream",
     "text": [
      "Exiting\n'posts: 2'\nPROGRESS: 76% (846/1099)\n"
     ]
    },
    {
     "name": "stdout",
     "output_type": "stream",
     "text": [
      "'[DH class flying mount?] (/forums/en/wow/topic/17613252499)'\n"
     ]
    },
    {
     "name": "stdout",
     "output_type": "stream",
     "text": [
      "Exiting\n'posts: 11'\nPROGRESS: 77% (847/1099)\n"
     ]
    },
    {
     "name": "stdout",
     "output_type": "stream",
     "text": [
      "'[No weapon for off spec quest] (/forums/en/wow/topic/17613322516)'\n"
     ]
    },
    {
     "name": "stdout",
     "output_type": "stream",
     "text": [
      "Exiting\n'posts: 10'\nPROGRESS: 77% (848/1099)\n"
     ]
    },
    {
     "name": "stdout",
     "output_type": "stream",
     "text": [
      "'[DH 3v3, RBG spec?] (/forums/en/wow/topic/17613242669)'\n"
     ]
    },
    {
     "name": "stdout",
     "output_type": "stream",
     "text": [
      "HTTPError = 404\n"
     ]
    },
    {
     "name": "stdout",
     "output_type": "stream",
     "text": [
      "Exiting\n'posts: 7'\nPROGRESS: 77% (849/1099)\n"
     ]
    },
    {
     "name": "stdout",
     "output_type": "stream",
     "text": [
      "'[Return to DH starting area?] (/forums/en/wow/topic/17613131433)'\n"
     ]
    },
    {
     "name": "stdout",
     "output_type": "stream",
     "text": [
      "Exiting\n'posts: 16'\nPROGRESS: 77% (850/1099)\n"
     ]
    },
    {
     "name": "stdout",
     "output_type": "stream",
     "text": [
      "'[Defeat class hall boss.] (/forums/en/wow/topic/17613242463)'\n"
     ]
    },
    {
     "name": "stdout",
     "output_type": "stream",
     "text": [
      "HTTPError = 404\nHTTPError = 404\n"
     ]
    },
    {
     "name": "stdout",
     "output_type": "stream",
     "text": [
      "Exiting\n'posts: 4'\nPROGRESS: 77% (851/1099)\n"
     ]
    },
    {
     "name": "stdout",
     "output_type": "stream",
     "text": [
      "'[How to get the other glaives?] (/forums/en/wow/topic/17613282303)'\n"
     ]
    },
    {
     "name": "stdout",
     "output_type": "stream",
     "text": [
      "Exiting\n'posts: 6'\nPROGRESS: 77% (852/1099)\n"
     ]
    },
    {
     "name": "stdout",
     "output_type": "stream",
     "text": [
      "'[What havoc talents do you like and why?] (/forums/en/wow/topic/17613302380)'\n"
     ]
    },
    {
     "name": "stdout",
     "output_type": "stream",
     "text": [
      "Exiting\n'posts: 2'\nPROGRESS: 77% (853/1099)\n"
     ]
    },
    {
     "name": "stdout",
     "output_type": "stream",
     "text": [
      "('[Motion sickness of Night elf female combat Animations] '\n '(/forums/en/wow/topic/17613262427)')\n"
     ]
    },
    {
     "name": "stdout",
     "output_type": "stream",
     "text": [
      "Exiting\n'posts: 4'\nPROGRESS: 77% (854/1099)\n"
     ]
    },
    {
     "name": "stdout",
     "output_type": "stream",
     "text": [
      "'[Why Dodge Nerf for Demon Hunters ?] (/forums/en/wow/topic/17613272044)'\n"
     ]
    },
    {
     "name": "stdout",
     "output_type": "stream",
     "text": [
      "Exiting\n'posts: 7'\nPROGRESS: 77% (855/1099)\n"
     ]
    },
    {
     "name": "stdout",
     "output_type": "stream",
     "text": [
      "'[PvE Tanking during leveling] (/forums/en/wow/topic/17613302328)'\n"
     ]
    },
    {
     "name": "stdout",
     "output_type": "stream",
     "text": [
      "Exiting\n'posts: 5'\nPROGRESS: 77% (856/1099)\n"
     ]
    },
    {
     "name": "stdout",
     "output_type": "stream",
     "text": [
      "'[No cost for demon spikes] (/forums/en/wow/topic/17613192441)'\nHTTPError = 404\n"
     ]
    },
    {
     "name": "stdout",
     "output_type": "stream",
     "text": [
      "Exiting\n'posts: 71'\nPROGRESS: 77% (857/1099)\n"
     ]
    },
    {
     "name": "stdout",
     "output_type": "stream",
     "text": [
      "'[Most fun DH spec [PVE]] (/forums/en/wow/topic/17613222194)'\n"
     ]
    },
    {
     "name": "stdout",
     "output_type": "stream",
     "text": [
      "Exiting\n'posts: 6'\nPROGRESS: 78% (858/1099)\n"
     ]
    },
    {
     "name": "stdout",
     "output_type": "stream",
     "text": [
      "'[Fel Rush is still bugged?] (/forums/en/wow/topic/17613212258)'\nHTTPError = 404\n"
     ]
    },
    {
     "name": "stdout",
     "output_type": "stream",
     "text": [
      "HTTPError = 404\n"
     ]
    },
    {
     "name": "stdout",
     "output_type": "stream",
     "text": [
      "Exiting\n'posts: 4'\nPROGRESS: 78% (859/1099)\n"
     ]
    },
    {
     "name": "stdout",
     "output_type": "stream",
     "text": [
      "'[feast on the souls] (/forums/en/wow/topic/17613222165)'\n"
     ]
    },
    {
     "name": "stdout",
     "output_type": "stream",
     "text": [
      "HTTPError = 404\n"
     ]
    },
    {
     "name": "stdout",
     "output_type": "stream",
     "text": [
      "Exiting\n'posts: 2'\nPROGRESS: 78% (860/1099)\n"
     ]
    },
    {
     "name": "stdout",
     "output_type": "stream",
     "text": [
      "'[Glide... and some babbling] (/forums/en/wow/topic/17613301915)'\nHTTPError = 404\n"
     ]
    },
    {
     "name": "stdout",
     "output_type": "stream",
     "text": [
      "HTTPError = 404\n"
     ]
    },
    {
     "name": "stdout",
     "output_type": "stream",
     "text": [
      "HTTPError = 404\n"
     ]
    },
    {
     "name": "stdout",
     "output_type": "stream",
     "text": [
      "Exiting\n'posts: 8'\nPROGRESS: 78% (861/1099)\n"
     ]
    },
    {
     "name": "stdout",
     "output_type": "stream",
     "text": [
      "'[1 DH/Real] (/forums/en/wow/topic/17613242230)'\n"
     ]
    },
    {
     "name": "stdout",
     "output_type": "stream",
     "text": [
      "Exiting\n'posts: 4'\nPROGRESS: 78% (862/1099)\n"
     ]
    },
    {
     "name": "stdout",
     "output_type": "stream",
     "text": [
      "'[RIP Havoc Spec] (/forums/en/wow/topic/17613211959)'\n"
     ]
    },
    {
     "name": "stdout",
     "output_type": "stream",
     "text": [
      "HTTPError = 404\n"
     ]
    },
    {
     "name": "stdout",
     "output_type": "stream",
     "text": [
      "Exiting\n'posts: 19'\nPROGRESS: 78% (863/1099)\n"
     ]
    },
    {
     "name": "stdout",
     "output_type": "stream",
     "text": [
      "'[2 completely different artifact routes??] (/forums/en/wow/topic/17613252119)'\n"
     ]
    },
    {
     "name": "stdout",
     "output_type": "stream",
     "text": [
      "HTTPError = 404\n"
     ]
    },
    {
     "name": "stdout",
     "output_type": "stream",
     "text": [
      "HTTPError = 404\n"
     ]
    },
    {
     "name": "stdout",
     "output_type": "stream",
     "text": [
      "Exiting\n'posts: 7'\nPROGRESS: 78% (864/1099)\n"
     ]
    },
    {
     "name": "stdout",
     "output_type": "stream",
     "text": [
      "'[Getting used to Demon Blades] (/forums/en/wow/topic/17613091377)'\n"
     ]
    },
    {
     "name": "stdout",
     "output_type": "stream",
     "text": [
      "HTTPError = 404\n"
     ]
    },
    {
     "name": "stdout",
     "output_type": "stream",
     "text": [
      "Exiting\n'posts: 75'\nPROGRESS: 78% (865/1099)\n"
     ]
    },
    {
     "name": "stdout",
     "output_type": "stream",
     "text": [
      "('[Please fix the class before it is too late.] '\n '(/forums/en/wow/topic/17613222020)')\n"
     ]
    },
    {
     "name": "stdout",
     "output_type": "stream",
     "text": [
      "Exiting\n'posts: 9'\nPROGRESS: 78% (866/1099)\n"
     ]
    },
    {
     "name": "stdout",
     "output_type": "stream",
     "text": [
      "'[I feel bad for demon hunters.] (/forums/en/wow/topic/17613291768)'\n"
     ]
    },
    {
     "name": "stdout",
     "output_type": "stream",
     "text": [
      "Exiting\n'posts: 23'\nPROGRESS: 78% (867/1099)\n"
     ]
    },
    {
     "name": "stdout",
     "output_type": "stream",
     "text": [
      "'[nice nerf] (/forums/en/wow/topic/17613271775)'\n"
     ]
    },
    {
     "name": "stdout",
     "output_type": "stream",
     "text": [
      "Exiting\n'posts: 27'\nPROGRESS: 78% (868/1099)\n"
     ]
    },
    {
     "name": "stdout",
     "output_type": "stream",
     "text": [
      "'[Post your UI] (/forums/en/wow/topic/17613262134)'\n"
     ]
    },
    {
     "name": "stdout",
     "output_type": "stream",
     "text": [
      "Exiting\n'posts: 1'\nPROGRESS: 79% (869/1099)\n"
     ]
    },
    {
     "name": "stdout",
     "output_type": "stream",
     "text": [
      "'[Last DH changes are idiotic] (/forums/en/wow/topic/17613262020)'\n"
     ]
    },
    {
     "name": "stdout",
     "output_type": "stream",
     "text": [
      "Exiting\n'posts: 4'\nPROGRESS: 79% (870/1099)\n"
     ]
    },
    {
     "name": "stdout",
     "output_type": "stream",
     "text": [
      "'[DH vs World] (/forums/en/wow/topic/17613132236)'\n"
     ]
    },
    {
     "name": "stdout",
     "output_type": "stream",
     "text": [
      "HTTPError = 404\n"
     ]
    },
    {
     "name": "stdout",
     "output_type": "stream",
     "text": [
      "Exiting\n'posts: 15'\nPROGRESS: 79% (871/1099)\n"
     ]
    },
    {
     "name": "stdout",
     "output_type": "stream",
     "text": [
      "'[PSA: Shut up.] (/forums/en/wow/topic/17613092201)'\n"
     ]
    },
    {
     "name": "stdout",
     "output_type": "stream",
     "text": [
      "Exiting\n'posts: 97'\nPROGRESS: 79% (872/1099)\n"
     ]
    },
    {
     "name": "stdout",
     "output_type": "stream",
     "text": [
      "'[Demon hunter PVP] (/forums/en/wow/topic/17613301598)'\n"
     ]
    },
    {
     "name": "stdout",
     "output_type": "stream",
     "text": [
      "HTTPError = 404\n"
     ]
    },
    {
     "name": "stdout",
     "output_type": "stream",
     "text": [
      "Exiting\n'posts: 6'\nPROGRESS: 79% (873/1099)\n"
     ]
    },
    {
     "name": "stdout",
     "output_type": "stream",
     "text": [
      "'[Recent DH changes] (/forums/en/wow/topic/17613251904)'\n"
     ]
    },
    {
     "name": "stdout",
     "output_type": "stream",
     "text": [
      "Exiting\n'posts: 3'\nPROGRESS: 79% (874/1099)\n"
     ]
    },
    {
     "name": "stdout",
     "output_type": "stream",
     "text": [
      "'[Vengeance PvP] (/forums/en/wow/topic/17613301539)'\n"
     ]
    },
    {
     "name": "stdout",
     "output_type": "stream",
     "text": [
      "Exiting\n'posts: 4'\nPROGRESS: 79% (875/1099)\n"
     ]
    },
    {
     "name": "stdout",
     "output_type": "stream",
     "text": [
      "\"[Demon's Blade] (/forums/en/wow/topic/17613231361)\"\n"
     ]
    },
    {
     "name": "stdout",
     "output_type": "stream",
     "text": [
      "Exiting\n'posts: 24'\nPROGRESS: 79% (876/1099)\n"
     ]
    },
    {
     "name": "stdout",
     "output_type": "stream",
     "text": [
      "('[Do we still use Blur for max damage at 110?] '\n '(/forums/en/wow/topic/17613311772)')\n"
     ]
    },
    {
     "name": "stdout",
     "output_type": "stream",
     "text": [
      "HTTPError = 404\n"
     ]
    },
    {
     "name": "stdout",
     "output_type": "stream",
     "text": [
      "Exiting\n'posts: 5'\nPROGRESS: 79% (877/1099)\n"
     ]
    },
    {
     "name": "stdout",
     "output_type": "stream",
     "text": [
      "'[@ Today: Everlong.] (/forums/en/wow/topic/17613092498)'\n"
     ]
    },
    {
     "name": "stdout",
     "output_type": "stream",
     "text": [
      "Exiting\n'posts: 18'\nPROGRESS: 79% (878/1099)\n"
     ]
    },
    {
     "name": "stdout",
     "output_type": "stream",
     "text": [
      "'[demon hunter auto attack miss] (/forums/en/wow/topic/17613241899)'\n"
     ]
    },
    {
     "name": "stdout",
     "output_type": "stream",
     "text": [
      "HTTPError = 404\n"
     ]
    },
    {
     "name": "stdout",
     "output_type": "stream",
     "text": [
      "Exiting\n'posts: 1'\nPROGRESS: 79% (879/1099)\n"
     ]
    },
    {
     "name": "stdout",
     "output_type": "stream",
     "text": [
      "'[FEL RUSH IS OP] (/forums/en/wow/topic/17613291760)'\n"
     ]
    },
    {
     "name": "stdout",
     "output_type": "stream",
     "text": [
      "Exiting\n'posts: 8'\nPROGRESS: 80% (880/1099)\n"
     ]
    },
    {
     "name": "stdout",
     "output_type": "stream",
     "text": [
      "'[Bugs] (/forums/en/wow/topic/17613301440)'\n"
     ]
    },
    {
     "name": "stdout",
     "output_type": "stream",
     "text": [
      "Exiting\n'posts: 2'\nPROGRESS: 80% (881/1099)\n"
     ]
    },
    {
     "name": "stdout",
     "output_type": "stream",
     "text": [
      "'[Soul Fragment for Weakaura] (/forums/en/wow/topic/17613281558)'\n"
     ]
    },
    {
     "name": "stdout",
     "output_type": "stream",
     "text": [
      "Exiting\n'posts: 2'\nPROGRESS: 80% (882/1099)\n"
     ]
    },
    {
     "name": "stdout",
     "output_type": "stream",
     "text": [
      "'[Why demon hunter?] (/forums/en/wow/topic/17613183042)'\n"
     ]
    },
    {
     "name": "stdout",
     "output_type": "stream",
     "text": [
      "Exiting\n'posts: 38'\nPROGRESS: 80% (883/1099)\n"
     ]
    },
    {
     "name": "stdout",
     "output_type": "stream",
     "text": [
      "'[Prepared/momentum and fel blade question] (/forums/en/wow/topic/17613221771)'\n"
     ]
    },
    {
     "name": "stdout",
     "output_type": "stream",
     "text": [
      "Exiting\n'posts: 2'\nPROGRESS: 80% (884/1099)\n"
     ]
    },
    {
     "name": "stdout",
     "output_type": "stream",
     "text": [
      "'[Glaives on the Back] (/forums/en/wow/topic/17613321557)'\n"
     ]
    },
    {
     "name": "stdout",
     "output_type": "stream",
     "text": [
      "HTTPError = 404\nHTTPError = 404\nHTTPError = 404\n"
     ]
    },
    {
     "name": "stdout",
     "output_type": "stream",
     "text": [
      "Exiting\n'posts: 3'\nPROGRESS: 80% (885/1099)\n"
     ]
    },
    {
     "name": "stdout",
     "output_type": "stream",
     "text": [
      "'[Two possible ideas for a third spec.] (/forums/en/wow/topic/17613241386)'\n"
     ]
    },
    {
     "name": "stdout",
     "output_type": "stream",
     "text": [
      "HTTPError = 404\n"
     ]
    },
    {
     "name": "stdout",
     "output_type": "stream",
     "text": [
      "Exiting\n'posts: 14'\nPROGRESS: 80% (886/1099)\n"
     ]
    },
    {
     "name": "stdout",
     "output_type": "stream",
     "text": [
      "'[How are DH in duels?] (/forums/en/wow/topic/17613321556)'\n"
     ]
    },
    {
     "name": "stdout",
     "output_type": "stream",
     "text": [
      "Exiting\n'posts: 9'\nPROGRESS: 80% (887/1099)\n"
     ]
    },
    {
     "name": "stdout",
     "output_type": "stream",
     "text": [
      "'[Do we get heals at 110?] (/forums/en/wow/topic/17613121629)'\n"
     ]
    },
    {
     "name": "stdout",
     "output_type": "stream",
     "text": [
      "Exiting\n'posts: 9'\nPROGRESS: 80% (888/1099)\n"
     ]
    },
    {
     "name": "stdout",
     "output_type": "stream",
     "text": [
      "('[What do you Love or Hate About Demon Hunters?] '\n '(/forums/en/wow/topic/17613181842)')\n"
     ]
    },
    {
     "name": "stdout",
     "output_type": "stream",
     "text": [
      "Exiting\n'posts: 64'\nPROGRESS: 80% (889/1099)\n"
     ]
    },
    {
     "name": "stdout",
     "output_type": "stream",
     "text": [
      "'[Lack of self healing for havoc.] (/forums/en/wow/topic/17613081319)'\n"
     ]
    },
    {
     "name": "stdout",
     "output_type": "stream",
     "text": [
      "HTTPError = 404\n"
     ]
    },
    {
     "name": "stdout",
     "output_type": "stream",
     "text": [
      "Exiting\n'posts: 56'\nPROGRESS: 80% (890/1099)\n"
     ]
    },
    {
     "name": "stdout",
     "output_type": "stream",
     "text": [
      "\"[Can't decide Legion main] (/forums/en/wow/topic/17613221508)\"\n"
     ]
    },
    {
     "name": "stdout",
     "output_type": "stream",
     "text": [
      "HTTPError = 404\n"
     ]
    },
    {
     "name": "stdout",
     "output_type": "stream",
     "text": [
      "Exiting\n'posts: 2'\nPROGRESS: 81% (891/1099)\n"
     ]
    },
    {
     "name": "stdout",
     "output_type": "stream",
     "text": [
      "'[Sigil question] (/forums/en/wow/topic/17613251394)'\n"
     ]
    },
    {
     "name": "stdout",
     "output_type": "stream",
     "text": [
      "Exiting\n'posts: 2'\nPROGRESS: 81% (892/1099)\n"
     ]
    },
    {
     "name": "stdout",
     "output_type": "stream",
     "text": [
      "'[Throw Glaive is now affected by Haste.] (/forums/en/wow/topic/17613271367)'\n"
     ]
    },
    {
     "name": "stdout",
     "output_type": "stream",
     "text": [
      "Exiting\n'posts: 8'\nPROGRESS: 81% (893/1099)\n"
     ]
    },
    {
     "name": "stdout",
     "output_type": "stream",
     "text": [
      "('[Demon Hunters NOT Getting Loot from Quests] '\n '(/forums/en/wow/topic/17613122512)')\n"
     ]
    },
    {
     "name": "stdout",
     "output_type": "stream",
     "text": [
      "Exiting\n'posts: 6'\nPROGRESS: 81% (894/1099)\n"
     ]
    },
    {
     "name": "stdout",
     "output_type": "stream",
     "text": [
      "'[Demon Hunter - 3rd Spec.........] (/forums/en/wow/topic/17613182966)'\n"
     ]
    },
    {
     "name": "stdout",
     "output_type": "stream",
     "text": [
      "Exiting\n'posts: 11'\nPROGRESS: 81% (895/1099)\n"
     ]
    },
    {
     "name": "stdout",
     "output_type": "stream",
     "text": [
      "'[DH Intro vs DK Intro] (/forums/en/wow/topic/17613321175)'\n"
     ]
    },
    {
     "name": "stdout",
     "output_type": "stream",
     "text": [
      "Exiting\n'posts: 13'\nPROGRESS: 81% (896/1099)\n"
     ]
    },
    {
     "name": "stdout",
     "output_type": "stream",
     "text": [
      "'[2 weeks, 2 glaives] (/forums/en/wow/topic/17613172163)'\n"
     ]
    },
    {
     "name": "stdout",
     "output_type": "stream",
     "text": [
      "Exiting\n'posts: 19'\nPROGRESS: 81% (897/1099)\n"
     ]
    },
    {
     "name": "stdout",
     "output_type": "stream",
     "text": [
      "'[addional too no cost for demon spikes] (/forums/en/wow/topic/17613241299)'\n"
     ]
    },
    {
     "name": "stdout",
     "output_type": "stream",
     "text": [
      "Exiting\n'posts: 2'\nPROGRESS: 81% (898/1099)\n"
     ]
    },
    {
     "name": "stdout",
     "output_type": "stream",
     "text": [
      "'[Detainment pvp talent questions] (/forums/en/wow/topic/17613161906)'\n"
     ]
    },
    {
     "name": "stdout",
     "output_type": "stream",
     "text": [
      "Exiting\n'posts: 4'\nPROGRESS: 81% (899/1099)\n"
     ]
    },
    {
     "name": "stdout",
     "output_type": "stream",
     "text": [
      "'[Can we talk Blizz? Please? (Mobility/DPS)] (/forums/en/wow/topic/17613261187)'\n"
     ]
    },
    {
     "name": "stdout",
     "output_type": "stream",
     "text": [
      "Exiting\n'posts: 8'\nPROGRESS: 81% (900/1099)\n"
     ]
    },
    {
     "name": "stdout",
     "output_type": "stream",
     "text": [
      "'[DH vengeance tank  - buff metamorphosis] (/forums/en/wow/topic/17613102302)'\n"
     ]
    },
    {
     "name": "stdout",
     "output_type": "stream",
     "text": [
      "Exiting\n'posts: 19'\nPROGRESS: 81% (901/1099)\n"
     ]
    },
    {
     "name": "stdout",
     "output_type": "stream",
     "text": [
      "'[Black Temple] (/forums/en/wow/topic/17613142920)'\nHTTPError = 404\n"
     ]
    },
    {
     "name": "stdout",
     "output_type": "stream",
     "text": [
      "Exiting\n'posts: 24'\nPROGRESS: 82% (902/1099)\n"
     ]
    },
    {
     "name": "stdout",
     "output_type": "stream",
     "text": [
      "'[Help a wannabe demon hunter please!] (/forums/en/wow/topic/17613133101)'\n"
     ]
    },
    {
     "name": "stdout",
     "output_type": "stream",
     "text": [
      "Exiting\n'posts: 10'\nPROGRESS: 82% (903/1099)\n"
     ]
    },
    {
     "name": "stdout",
     "output_type": "stream",
     "text": [
      "'[First 2 Instances since DH Arrival] (/forums/en/wow/topic/17613142298)'\n"
     ]
    },
    {
     "name": "stdout",
     "output_type": "stream",
     "text": [
      "Exiting\n'posts: 29'\nPROGRESS: 82% (904/1099)\n"
     ]
    },
    {
     "name": "stdout",
     "output_type": "stream",
     "text": [
      "'[So... Black hair.] (/forums/en/wow/topic/17612982164)'\n"
     ]
    },
    {
     "name": "stdout",
     "output_type": "stream",
     "text": [
      "Exiting\n'posts: 32'\nPROGRESS: 82% (905/1099)\n"
     ]
    },
    {
     "name": "stdout",
     "output_type": "stream",
     "text": [
      "'[DH Good class to main at Legion ?] (/forums/en/wow/topic/17613181750)'\n"
     ]
    },
    {
     "name": "stdout",
     "output_type": "stream",
     "text": [
      "Exiting\n'posts: 18'\nPROGRESS: 82% (906/1099)\n"
     ]
    },
    {
     "name": "stdout",
     "output_type": "stream",
     "text": [
      "'[Dark Phoenix helmets bugged on DH] (/forums/en/wow/topic/17613093111)'\n"
     ]
    },
    {
     "name": "stdout",
     "output_type": "stream",
     "text": [
      "HTTPError = 404\n"
     ]
    },
    {
     "name": "stdout",
     "output_type": "stream",
     "text": [
      "Exiting\n'posts: 3'\nPROGRESS: 82% (907/1099)\n"
     ]
    },
    {
     "name": "stdout",
     "output_type": "stream",
     "text": [
      "('[Demon Hunters have no \"roar\" sound!? /roar] '\n '(/forums/en/wow/topic/17612962094)')\n"
     ]
    },
    {
     "name": "stdout",
     "output_type": "stream",
     "text": [
      "Exiting\n'posts: 9'\nPROGRESS: 82% (908/1099)\n"
     ]
    },
    {
     "name": "stdout",
     "output_type": "stream",
     "text": [
      "'[much needed havoc changes] (/forums/en/wow/topic/17613192908)'\n"
     ]
    },
    {
     "name": "stdout",
     "output_type": "stream",
     "text": [
      "HTTPError = 404\n"
     ]
    },
    {
     "name": "stdout",
     "output_type": "stream",
     "text": [
      "HTTPError = 404\n"
     ]
    },
    {
     "name": "stdout",
     "output_type": "stream",
     "text": [
      "Exiting\n'posts: 18'\nPROGRESS: 82% (909/1099)\n"
     ]
    },
    {
     "name": "stdout",
     "output_type": "stream",
     "text": [
      "'[How would you improve the DH gameplay ?] (/forums/en/wow/topic/17613182548)'\n"
     ]
    },
    {
     "name": "stdout",
     "output_type": "stream",
     "text": [
      "HTTPError = 404\n"
     ]
    },
    {
     "name": "stdout",
     "output_type": "stream",
     "text": [
      "Exiting\n'posts: 29'\nPROGRESS: 82% (910/1099)\n"
     ]
    },
    {
     "name": "stdout",
     "output_type": "stream",
     "text": [
      "'[Unbalanced crits with DH] (/forums/en/wow/topic/17613142893)'\n"
     ]
    },
    {
     "name": "stdout",
     "output_type": "stream",
     "text": [
      "Exiting\n'posts: 3'\nPROGRESS: 82% (911/1099)\n"
     ]
    },
    {
     "name": "stdout",
     "output_type": "stream",
     "text": [
      "'[How to Fel Rush right?] (/forums/en/wow/topic/17613122551)'\n"
     ]
    },
    {
     "name": "stdout",
     "output_type": "stream",
     "text": [
      "Exiting\n'posts: 19'\nPROGRESS: 82% (912/1099)\n"
     ]
    },
    {
     "name": "stdout",
     "output_type": "stream",
     "text": [
      "'[Character Sheet and Build Question] (/forums/en/wow/topic/17613122730)'\n"
     ]
    },
    {
     "name": "stdout",
     "output_type": "stream",
     "text": [
      "Exiting\n'posts: 4'\nPROGRESS: 83% (913/1099)\n"
     ]
    },
    {
     "name": "stdout",
     "output_type": "stream",
     "text": [
      "'[Demon Hunter damage bug] (/forums/en/wow/topic/17613172755)'\n"
     ]
    },
    {
     "name": "stdout",
     "output_type": "stream",
     "text": [
      "Exiting\n'posts: 4'\nPROGRESS: 83% (914/1099)\n"
     ]
    },
    {
     "name": "stdout",
     "output_type": "stream",
     "text": [
      "'[Warglaives of Azzinoth: Transmog?] (/forums/en/wow/topic/17613161176)'\n"
     ]
    },
    {
     "name": "stdout",
     "output_type": "stream",
     "text": [
      "HTTPError = 404\n"
     ]
    },
    {
     "name": "stdout",
     "output_type": "stream",
     "text": [
      "Exiting\n'posts: 21'\nPROGRESS: 83% (915/1099)\n"
     ]
    },
    {
     "name": "stdout",
     "output_type": "stream",
     "text": [
      "'[Crit vs Mastery - Anyone tested it?] (/forums/en/wow/topic/17613182653)'\n"
     ]
    },
    {
     "name": "stdout",
     "output_type": "stream",
     "text": [
      "Exiting\n'posts: 6'\nPROGRESS: 83% (916/1099)\n"
     ]
    },
    {
     "name": "stdout",
     "output_type": "stream",
     "text": [
      "'[1 DH per realm?] (/forums/en/wow/topic/17613122197)'\n"
     ]
    },
    {
     "name": "stdout",
     "output_type": "stream",
     "text": [
      "Exiting\n'posts: 17'\nPROGRESS: 83% (917/1099)\n"
     ]
    },
    {
     "name": "stdout",
     "output_type": "stream",
     "text": [
      "'[DH such a disappointment] (/forums/en/wow/topic/17613111837)'\n"
     ]
    },
    {
     "name": "stdout",
     "output_type": "stream",
     "text": [
      "Exiting\n'posts: 35'\nPROGRESS: 83% (918/1099)\n"
     ]
    },
    {
     "name": "stdout",
     "output_type": "stream",
     "text": [
      "'[Cant mog into fist weapons?] (/forums/en/wow/topic/17613091868)'\nHTTPError = 404\nHTTPError = 404\n"
     ]
    },
    {
     "name": "stdout",
     "output_type": "stream",
     "text": [
      "HTTPError = 404\n"
     ]
    },
    {
     "name": "stdout",
     "output_type": "stream",
     "text": [
      "Exiting\n'posts: 15'\nPROGRESS: 83% (919/1099)\n"
     ]
    },
    {
     "name": "stdout",
     "output_type": "stream",
     "text": [
      "'[Warglaives to Fistweapons (Transmog)] (/forums/en/wow/topic/17613172606)'\n"
     ]
    },
    {
     "name": "stdout",
     "output_type": "stream",
     "text": [
      "HTTPError = 404\n"
     ]
    },
    {
     "name": "stdout",
     "output_type": "stream",
     "text": [
      "Exiting\n'posts: 2'\nPROGRESS: 83% (920/1099)\n"
     ]
    },
    {
     "name": "stdout",
     "output_type": "stream",
     "text": [
      "'[Demon Hunter Live vs BETA] (/forums/en/wow/topic/17613142143)'\n"
     ]
    },
    {
     "name": "stdout",
     "output_type": "stream",
     "text": [
      "Exiting\n'posts: 16'\nPROGRESS: 83% (921/1099)\n"
     ]
    },
    {
     "name": "stdout",
     "output_type": "stream",
     "text": [
      "'[Glaive troubles] (/forums/en/wow/topic/17613201392)'\n"
     ]
    },
    {
     "name": "stdout",
     "output_type": "stream",
     "text": [
      "Exiting\n'posts: 20'\nPROGRESS: 83% (922/1099)\n"
     ]
    },
    {
     "name": "stdout",
     "output_type": "stream",
     "text": [
      "'[Vengeance Soulshards Idea] (/forums/en/wow/topic/17613192410)'\nHTTPError = 404\n"
     ]
    },
    {
     "name": "stdout",
     "output_type": "stream",
     "text": [
      "HTTPError = 404\n"
     ]
    },
    {
     "name": "stdout",
     "output_type": "stream",
     "text": [
      "Exiting\n'posts: 3'\nPROGRESS: 83% (923/1099)\n"
     ]
    },
    {
     "name": "stdout",
     "output_type": "stream",
     "text": [
      "'[Phasing in Harbour] (/forums/en/wow/topic/17613132461)'\n"
     ]
    },
    {
     "name": "stdout",
     "output_type": "stream",
     "text": [
      "HTTPError = 404\nHTTPError = 404\nHTTPError = 404\n"
     ]
    },
    {
     "name": "stdout",
     "output_type": "stream",
     "text": [
      "Exiting\n'posts: 7'\nPROGRESS: 84% (924/1099)\n"
     ]
    },
    {
     "name": "stdout",
     "output_type": "stream",
     "text": [
      "'[Only-Demon Hunter, Highmaul Heroic.] (/forums/en/wow/topic/17613151687)'\n"
     ]
    },
    {
     "name": "stdout",
     "output_type": "stream",
     "text": [
      "HTTPError = 404\n"
     ]
    },
    {
     "name": "stdout",
     "output_type": "stream",
     "text": [
      "Exiting\n'posts: 5'\nPROGRESS: 84% (925/1099)\n"
     ]
    },
    {
     "name": "stdout",
     "output_type": "stream",
     "text": [
      "'[Is this normal?] (/forums/en/wow/topic/17613182431)'\n"
     ]
    },
    {
     "name": "stdout",
     "output_type": "stream",
     "text": [
      "Exiting\n'posts: 4'\nPROGRESS: 84% (926/1099)\n"
     ]
    },
    {
     "name": "stdout",
     "output_type": "stream",
     "text": [
      "'[Taking too much dmg as a tank] (/forums/en/wow/topic/17613152324)'\n"
     ]
    },
    {
     "name": "stdout",
     "output_type": "stream",
     "text": [
      "Exiting\n'posts: 15'\nPROGRESS: 84% (927/1099)\n"
     ]
    },
    {
     "name": "stdout",
     "output_type": "stream",
     "text": [
      "('[Best Looting option for Demon Hunters in Legacy Raids.] '\n '(/forums/en/wow/topic/17613162316)')\n"
     ]
    },
    {
     "name": "stdout",
     "output_type": "stream",
     "text": [
      "Exiting\n'posts: 3'\nPROGRESS: 84% (928/1099)\n"
     ]
    },
    {
     "name": "stdout",
     "output_type": "stream",
     "text": [
      "'[No slows? You serious?] (/forums/en/wow/topic/17613122470)'\n"
     ]
    },
    {
     "name": "stdout",
     "output_type": "stream",
     "text": [
      "Exiting\n'posts: 8'\nPROGRESS: 84% (929/1099)\n"
     ]
    },
    {
     "name": "stdout",
     "output_type": "stream",
     "text": [
      "'[No loot from Oondasta] (/forums/en/wow/topic/17613172428)'\n"
     ]
    },
    {
     "name": "stdout",
     "output_type": "stream",
     "text": [
      "Exiting\n'posts: 4'\nPROGRESS: 84% (930/1099)\n"
     ]
    },
    {
     "name": "stdout",
     "output_type": "stream",
     "text": [
      "'[One thing I am NOT understanding (Slows)] (/forums/en/wow/topic/17613092389)'\n"
     ]
    },
    {
     "name": "stdout",
     "output_type": "stream",
     "text": [
      "Exiting\n'posts: 13'\nPROGRESS: 84% (931/1099)\n"
     ]
    },
    {
     "name": "stdout",
     "output_type": "stream",
     "text": [
      "'[Professions?] (/forums/en/wow/topic/17613102109)'\n"
     ]
    },
    {
     "name": "stdout",
     "output_type": "stream",
     "text": [
      "Exiting\n'posts: 5'\nPROGRESS: 84% (932/1099)\n"
     ]
    },
    {
     "name": "stdout",
     "output_type": "stream",
     "text": [
      "(\"[BUG: Demon's Bite cannot be added to action bar] \"\n '(/forums/en/wow/topic/17613022234)')\n"
     ]
    },
    {
     "name": "stdout",
     "output_type": "stream",
     "text": [
      "Exiting\n'posts: 8'\nPROGRESS: 84% (933/1099)\n"
     ]
    },
    {
     "name": "stdout",
     "output_type": "stream",
     "text": [
      "'[Warglaive on the first day! :D] (/forums/en/wow/topic/17612992273)'\n"
     ]
    },
    {
     "name": "stdout",
     "output_type": "stream",
     "text": [
      "Exiting\n'posts: 18'\nPROGRESS: 84% (934/1099)\n"
     ]
    },
    {
     "name": "stdout",
     "output_type": "stream",
     "text": [
      "'[Just wondering about demon blades on beta] (/forums/en/wow/topic/17613142295)'\n"
     ]
    },
    {
     "name": "stdout",
     "output_type": "stream",
     "text": [
      "Exiting\n'posts: 14'\nPROGRESS: 85% (935/1099)\n"
     ]
    },
    {
     "name": "stdout",
     "output_type": "stream",
     "text": [
      "'[blade dance vs chaos strike] (/forums/en/wow/topic/17613161924)'\n"
     ]
    },
    {
     "name": "stdout",
     "output_type": "stream",
     "text": [
      "HTTPError = 404\n"
     ]
    },
    {
     "name": "stdout",
     "output_type": "stream",
     "text": [
      "Exiting\n'posts: 11'\nPROGRESS: 85% (936/1099)\n"
     ]
    },
    {
     "name": "stdout",
     "output_type": "stream",
     "text": [
      "'[Archimode raid gameplay] (/forums/en/wow/topic/17613162256)'\n"
     ]
    },
    {
     "name": "stdout",
     "output_type": "stream",
     "text": [
      "Exiting\n'posts: 5'\nPROGRESS: 85% (937/1099)\n"
     ]
    },
    {
     "name": "stdout",
     "output_type": "stream",
     "text": [
      "'[Tracking Demons?] (/forums/en/wow/topic/17613122224)'\n"
     ]
    },
    {
     "name": "stdout",
     "output_type": "stream",
     "text": [
      "Exiting\n'posts: 7'\nPROGRESS: 85% (938/1099)\n"
     ]
    },
    {
     "name": "stdout",
     "output_type": "stream",
     "text": [
      "'[Minus Value on Mastery] (/forums/en/wow/topic/17613102175)'\n"
     ]
    },
    {
     "name": "stdout",
     "output_type": "stream",
     "text": [
      "Exiting\n'posts: 5'\nPROGRESS: 85% (939/1099)\n"
     ]
    },
    {
     "name": "stdout",
     "output_type": "stream",
     "text": [
      "'[Menacing Eye Level 110] (/forums/en/wow/topic/17613122282)'\n"
     ]
    },
    {
     "name": "stdout",
     "output_type": "stream",
     "text": [
      "Exiting\n'posts: 3'\nPROGRESS: 85% (940/1099)\n"
     ]
    },
    {
     "name": "stdout",
     "output_type": "stream",
     "text": [
      "'[Fel Rush not... Rushing!] (/forums/en/wow/topic/17613192158)'\n"
     ]
    },
    {
     "name": "stdout",
     "output_type": "stream",
     "text": [
      "Exiting\n'posts: 4'\nPROGRESS: 85% (941/1099)\n"
     ]
    },
    {
     "name": "stdout",
     "output_type": "stream",
     "text": [
      "'[Tank Artifact weapon] (/forums/en/wow/topic/17613182188)'\n"
     ]
    },
    {
     "name": "stdout",
     "output_type": "stream",
     "text": [
      "Exiting\n'posts: 8'\nPROGRESS: 85% (942/1099)\n"
     ]
    },
    {
     "name": "stdout",
     "output_type": "stream",
     "text": [
      "'[MoP Mount farming as DH] (/forums/en/wow/topic/17613142015)'\n"
     ]
    },
    {
     "name": "stdout",
     "output_type": "stream",
     "text": [
      "Exiting\n'posts: 8'\nPROGRESS: 85% (943/1099)\n"
     ]
    },
    {
     "name": "stdout",
     "output_type": "stream",
     "text": [
      "'[Demonic Wards could have buff] (/forums/en/wow/topic/17613192152)'\n"
     ]
    },
    {
     "name": "stdout",
     "output_type": "stream",
     "text": [
      "Exiting\n'posts: 8'\nPROGRESS: 85% (944/1099)\n"
     ]
    },
    {
     "name": "stdout",
     "output_type": "stream",
     "text": [
      "'[Stormwind is sending my DH away] (/forums/en/wow/topic/17613092270)'\n"
     ]
    },
    {
     "name": "stdout",
     "output_type": "stream",
     "text": [
      "Exiting\n'posts: 1'\nPROGRESS: 85% (945/1099)\n"
     ]
    },
    {
     "name": "stdout",
     "output_type": "stream",
     "text": [
      "'[Demon Hunters are Great, but...] (/forums/en/wow/topic/17613131601)'\n"
     ]
    },
    {
     "name": "stdout",
     "output_type": "stream",
     "text": [
      "Exiting\n'posts: 27'\nPROGRESS: 86% (946/1099)\n"
     ]
    },
    {
     "name": "stdout",
     "output_type": "stream",
     "text": [
      "'[General questing and Solo] (/forums/en/wow/topic/17613181677)'\n"
     ]
    },
    {
     "name": "stdout",
     "output_type": "stream",
     "text": [
      "Exiting\n'posts: 50'\nPROGRESS: 86% (947/1099)\n"
     ]
    },
    {
     "name": "stdout",
     "output_type": "stream",
     "text": [
      "('[Please make Starter Set looks available to both NE&BE] '\n '(/forums/en/wow/topic/17613191771)')\n"
     ]
    },
    {
     "name": "stdout",
     "output_type": "stream",
     "text": [
      "HTTPError = 404\n"
     ]
    },
    {
     "name": "stdout",
     "output_type": "stream",
     "text": [
      "Exiting\n'posts: 14'\nPROGRESS: 86% (948/1099)\n"
     ]
    },
    {
     "name": "stdout",
     "output_type": "stream",
     "text": [
      "'[I want to show my tattoos!] (/forums/en/wow/topic/17613162080)'\n"
     ]
    },
    {
     "name": "stdout",
     "output_type": "stream",
     "text": [
      "Exiting\n'posts: 10'\nPROGRESS: 86% (949/1099)\n"
     ]
    },
    {
     "name": "stdout",
     "output_type": "stream",
     "text": [
      "'[Stats priority] (/forums/en/wow/topic/17613162082)'\n"
     ]
    },
    {
     "name": "stdout",
     "output_type": "stream",
     "text": [
      "Exiting\n'posts: 2'\nPROGRESS: 86% (950/1099)\n"
     ]
    },
    {
     "name": "stdout",
     "output_type": "stream",
     "text": [
      "'[Demon spikes ( mastery display bug? )] (/forums/en/wow/topic/17613142078)'\n"
     ]
    },
    {
     "name": "stdout",
     "output_type": "stream",
     "text": [
      "Exiting\n'posts: 3'\nPROGRESS: 86% (951/1099)\n"
     ]
    },
    {
     "name": "stdout",
     "output_type": "stream",
     "text": [
      "'[Soul Cleave Healing Bug ?] (/forums/en/wow/topic/17613152101)'\n"
     ]
    },
    {
     "name": "stdout",
     "output_type": "stream",
     "text": [
      "Exiting\n'posts: 11'\nPROGRESS: 86% (952/1099)\n"
     ]
    },
    {
     "name": "stdout",
     "output_type": "stream",
     "text": [
      "'[BoA Glaives] (/forums/en/wow/topic/17613092021)'\n"
     ]
    },
    {
     "name": "stdout",
     "output_type": "stream",
     "text": [
      "Exiting\n'posts: 14'\nPROGRESS: 86% (953/1099)\n"
     ]
    },
    {
     "name": "stdout",
     "output_type": "stream",
     "text": [
      "'[asking for advices to vengeance] (/forums/en/wow/topic/17613142043)'\n"
     ]
    },
    {
     "name": "stdout",
     "output_type": "stream",
     "text": [
      "Exiting\n'posts: 12'\nPROGRESS: 86% (954/1099)\n"
     ]
    },
    {
     "name": "stdout",
     "output_type": "stream",
     "text": [
      "'[DH 3v3 arena coMPS] (/forums/en/wow/topic/17613112097)'\n"
     ]
    },
    {
     "name": "stdout",
     "output_type": "stream",
     "text": [
      "Exiting\n'posts: 1'\nPROGRESS: 86% (955/1099)\n"
     ]
    },
    {
     "name": "stdout",
     "output_type": "stream",
     "text": [
      "'[spectral sight] (/forums/en/wow/topic/17613141314)'\nHTTPError = 404\n"
     ]
    },
    {
     "name": "stdout",
     "output_type": "stream",
     "text": [
      "HTTPError = 404\n"
     ]
    },
    {
     "name": "stdout",
     "output_type": "stream",
     "text": [
      "HTTPError = 404\n"
     ]
    },
    {
     "name": "stdout",
     "output_type": "stream",
     "text": [
      "Exiting\n'posts: 8'\nPROGRESS: 86% (956/1099)\n"
     ]
    },
    {
     "name": "stdout",
     "output_type": "stream",
     "text": [
      "'[Tattoo color difference] (/forums/en/wow/topic/17613132040)'\n"
     ]
    },
    {
     "name": "stdout",
     "output_type": "stream",
     "text": [
      "Exiting\n'posts: 2'\nPROGRESS: 87% (957/1099)\n"
     ]
    },
    {
     "name": "stdout",
     "output_type": "stream",
     "text": [
      "'[Eye Beam is a  lol....] (/forums/en/wow/topic/17613151432)'\n"
     ]
    },
    {
     "name": "stdout",
     "output_type": "stream",
     "text": [
      "Exiting\n'posts: 20'\nPROGRESS: 87% (958/1099)\n"
     ]
    },
    {
     "name": "stdout",
     "output_type": "stream",
     "text": [
      "'[Fel Rushing over edges] (/forums/en/wow/topic/17613151918)'\n"
     ]
    },
    {
     "name": "stdout",
     "output_type": "stream",
     "text": [
      "HTTPError = 404\n"
     ]
    },
    {
     "name": "stdout",
     "output_type": "stream",
     "text": [
      "Exiting\n'posts: 5'\nPROGRESS: 87% (959/1099)\n"
     ]
    },
    {
     "name": "stdout",
     "output_type": "stream",
     "text": [
      "'[Severe lack of DPS] (/forums/en/wow/topic/17613201979)'\n"
     ]
    },
    {
     "name": "stdout",
     "output_type": "stream",
     "text": [
      "Exiting\n'posts: 10'\nPROGRESS: 87% (960/1099)\n"
     ]
    },
    {
     "name": "stdout",
     "output_type": "stream",
     "text": [
      "'[Macros! (spectral sight targeting)] (/forums/en/wow/topic/17613191538)'\n"
     ]
    },
    {
     "name": "stdout",
     "output_type": "stream",
     "text": [
      "HTTPError = 404\n"
     ]
    },
    {
     "name": "stdout",
     "output_type": "stream",
     "text": [
      "Exiting\n'posts: 6'\nPROGRESS: 87% (961/1099)\n"
     ]
    },
    {
     "name": "stdout",
     "output_type": "stream",
     "text": [
      "'[Lack of Warglaives] (/forums/en/wow/topic/17613061857)'\n"
     ]
    },
    {
     "name": "stdout",
     "output_type": "stream",
     "text": [
      "Exiting\n'posts: 8'\nPROGRESS: 87% (962/1099)\n"
     ]
    },
    {
     "name": "stdout",
     "output_type": "stream",
     "text": [
      "'[Having problems with vengeance tanking] (/forums/en/wow/topic/17613131974)'\n"
     ]
    },
    {
     "name": "stdout",
     "output_type": "stream",
     "text": [
      "HTTPError = 404\n"
     ]
    },
    {
     "name": "stdout",
     "output_type": "stream",
     "text": [
      "Exiting\n'posts: 1'\nPROGRESS: 87% (963/1099)\n"
     ]
    },
    {
     "name": "stdout",
     "output_type": "stream",
     "text": [
      "'[Cover of Darkness] (/forums/en/wow/topic/17613171619)'\nHTTPError = 404\n"
     ]
    },
    {
     "name": "stdout",
     "output_type": "stream",
     "text": [
      "Exiting\n'posts: 8'\nPROGRESS: 87% (964/1099)\n"
     ]
    },
    {
     "name": "stdout",
     "output_type": "stream",
     "text": [
      "('[[Request] Allow Havoc Transmog for Vengeance] '\n '(/forums/en/wow/topic/17613171888)')\n"
     ]
    },
    {
     "name": "stdout",
     "output_type": "stream",
     "text": [
      "Exiting\n'posts: 3'\nPROGRESS: 87% (965/1099)\n"
     ]
    },
    {
     "name": "stdout",
     "output_type": "stream",
     "text": [
      "'[Crowd Control] (/forums/en/wow/topic/17613161895)'\n"
     ]
    },
    {
     "name": "stdout",
     "output_type": "stream",
     "text": [
      "Exiting\n'posts: 3'\nPROGRESS: 87% (966/1099)\n"
     ]
    },
    {
     "name": "stdout",
     "output_type": "stream",
     "text": [
      "'[We lack a slow enemy ability.] (/forums/en/wow/topic/17613141166)'\n"
     ]
    },
    {
     "name": "stdout",
     "output_type": "stream",
     "text": [
      "Exiting\n'posts: 57'\nPROGRESS: 87% (967/1099)\n"
     ]
    },
    {
     "name": "stdout",
     "output_type": "stream",
     "text": [
      "'[Mythic dungeons and Normal Raids] (/forums/en/wow/topic/17613191792)'\n"
     ]
    },
    {
     "name": "stdout",
     "output_type": "stream",
     "text": [
      "HTTPError = 404\n"
     ]
    },
    {
     "name": "stdout",
     "output_type": "stream",
     "text": [
      "Exiting\n'posts: 10'\nPROGRESS: 88% (968/1099)\n"
     ]
    },
    {
     "name": "stdout",
     "output_type": "stream",
     "text": [
      "'[Are dh good mythic dungeon tanks?] (/forums/en/wow/topic/17613151292)'\n"
     ]
    },
    {
     "name": "stdout",
     "output_type": "stream",
     "text": [
      "Exiting\n'posts: 13'\nPROGRESS: 88% (969/1099)\n"
     ]
    },
    {
     "name": "stdout",
     "output_type": "stream",
     "text": [
      "('[Extra useful items for DH from a starting zone.] '\n '(/forums/en/wow/topic/17613201861)')\nHTTPError = 404\n"
     ]
    },
    {
     "name": "stdout",
     "output_type": "stream",
     "text": [
      "Exiting\n'posts: 1'\nPROGRESS: 88% (970/1099)\n"
     ]
    },
    {
     "name": "stdout",
     "output_type": "stream",
     "text": [
      "'[DH self healing?] (/forums/en/wow/topic/17613022308)'\nHTTPError = 404\n"
     ]
    },
    {
     "name": "stdout",
     "output_type": "stream",
     "text": [
      "Exiting\n'posts: 24'\nPROGRESS: 88% (971/1099)\n"
     ]
    },
    {
     "name": "stdout",
     "output_type": "stream",
     "text": [
      "'[Carrying the Glaives] (/forums/en/wow/topic/17613101840)'\n"
     ]
    },
    {
     "name": "stdout",
     "output_type": "stream",
     "text": [
      "HTTPError = 404\n"
     ]
    },
    {
     "name": "stdout",
     "output_type": "stream",
     "text": [
      "Exiting\n'posts: 11'\nPROGRESS: 88% (972/1099)\n"
     ]
    },
    {
     "name": "stdout",
     "output_type": "stream",
     "text": [
      "'[Professions for Demon Hunter] (/forums/en/wow/topic/17613111895)'\n"
     ]
    },
    {
     "name": "stdout",
     "output_type": "stream",
     "text": [
      "Exiting\n'posts: 1'\nPROGRESS: 88% (973/1099)\n"
     ]
    },
    {
     "name": "stdout",
     "output_type": "stream",
     "text": [
      "'[crit or agility for pvp please] (/forums/en/wow/topic/17613121599)'\n"
     ]
    },
    {
     "name": "stdout",
     "output_type": "stream",
     "text": [
      "Exiting\n'posts: 14'\nPROGRESS: 88% (974/1099)\n"
     ]
    },
    {
     "name": "stdout",
     "output_type": "stream",
     "text": [
      "('[Struggling With Proving Grounds Silver (Tank)] '\n '(/forums/en/wow/topic/17613101315)')\nHTTPError = 404\n"
     ]
    },
    {
     "name": "stdout",
     "output_type": "stream",
     "text": [
      "Exiting\n'posts: 5'\nPROGRESS: 88% (975/1099)\n"
     ]
    },
    {
     "name": "stdout",
     "output_type": "stream",
     "text": [
      "'[Illidary wargliave textures] (/forums/en/wow/topic/17613171836)'\nHTTPError = 404\n"
     ]
    },
    {
     "name": "stdout",
     "output_type": "stream",
     "text": [
      "Exiting\n'posts: 1'\nPROGRESS: 88% (976/1099)\n"
     ]
    },
    {
     "name": "stdout",
     "output_type": "stream",
     "text": [
      "'[Mobility pvp?] (/forums/en/wow/topic/17613161443)'\n"
     ]
    },
    {
     "name": "stdout",
     "output_type": "stream",
     "text": [
      "HTTPError = 404\n"
     ]
    },
    {
     "name": "stdout",
     "output_type": "stream",
     "text": [
      "Exiting\n'posts: 14'\nPROGRESS: 88% (977/1099)\n"
     ]
    },
    {
     "name": "stdout",
     "output_type": "stream",
     "text": [
      "'[Track Demons] (/forums/en/wow/topic/17613022168)'\n"
     ]
    },
    {
     "name": "stdout",
     "output_type": "stream",
     "text": [
      "HTTPError = 404\n"
     ]
    },
    {
     "name": "stdout",
     "output_type": "stream",
     "text": [
      "HTTPError = 404\n"
     ]
    },
    {
     "name": "stdout",
     "output_type": "stream",
     "text": [
      "Exiting\n'posts: 18'\nPROGRESS: 88% (978/1099)\n"
     ]
    },
    {
     "name": "stdout",
     "output_type": "stream",
     "text": [
      "'[demon hunter demon form like cat form] (/forums/en/wow/topic/17613111706)'\n"
     ]
    },
    {
     "name": "stdout",
     "output_type": "stream",
     "text": [
      "HTTPError = 404\n"
     ]
    },
    {
     "name": "stdout",
     "output_type": "stream",
     "text": [
      "HTTPError = 404\n"
     ]
    },
    {
     "name": "stdout",
     "output_type": "stream",
     "text": [
      "Exiting\n'posts: 6'\nPROGRESS: 89% (979/1099)\n"
     ]
    },
    {
     "name": "stdout",
     "output_type": "stream",
     "text": [
      "'[Demon Hunter PvP is a joke] (/forums/en/wow/topic/17613151542)'\n"
     ]
    },
    {
     "name": "stdout",
     "output_type": "stream",
     "text": [
      "Exiting\n'posts: 7'\nPROGRESS: 89% (980/1099)\n"
     ]
    },
    {
     "name": "stdout",
     "output_type": "stream",
     "text": [
      "'[Fel rush too unsafe to use] (/forums/en/wow/topic/17613171399)'\n"
     ]
    },
    {
     "name": "stdout",
     "output_type": "stream",
     "text": [
      "Exiting\n'posts: 10'\nPROGRESS: 89% (981/1099)\n"
     ]
    },
    {
     "name": "stdout",
     "output_type": "stream",
     "text": [
      "'[What profession for legion?] (/forums/en/wow/topic/17613151730)'\n"
     ]
    },
    {
     "name": "stdout",
     "output_type": "stream",
     "text": [
      "Exiting\n'posts: 7'\nPROGRESS: 89% (982/1099)\n"
     ]
    },
    {
     "name": "stdout",
     "output_type": "stream",
     "text": [
      "(\"[why are so many of us demonhunters prick's] \"\n '(/forums/en/wow/topic/17613161628)')\n"
     ]
    },
    {
     "name": "stdout",
     "output_type": "stream",
     "text": [
      "Exiting\n'posts: 10'\nPROGRESS: 89% (983/1099)\n"
     ]
    },
    {
     "name": "stdout",
     "output_type": "stream",
     "text": [
      "'[Different demon forms?] (/forums/en/wow/topic/17613201657)'\n"
     ]
    },
    {
     "name": "stdout",
     "output_type": "stream",
     "text": [
      "HTTPError = 404\n"
     ]
    },
    {
     "name": "stdout",
     "output_type": "stream",
     "text": [
      "Exiting\n'posts: 5'\nPROGRESS: 89% (984/1099)\n"
     ]
    },
    {
     "name": "stdout",
     "output_type": "stream",
     "text": [
      "'[Demonic Appetite] (/forums/en/wow/topic/17613171386)'\nHTTPError = 404\n"
     ]
    },
    {
     "name": "stdout",
     "output_type": "stream",
     "text": [
      "Exiting\n'posts: 14'\nPROGRESS: 89% (985/1099)\n"
     ]
    },
    {
     "name": "stdout",
     "output_type": "stream",
     "text": [
      "'[Wait what!?] (/forums/en/wow/topic/17613151597)'\n"
     ]
    },
    {
     "name": "stdout",
     "output_type": "stream",
     "text": [
      "HTTPError = 404\n"
     ]
    },
    {
     "name": "stdout",
     "output_type": "stream",
     "text": [
      "Exiting\n'posts: 5'\nPROGRESS: 89% (986/1099)\n"
     ]
    },
    {
     "name": "stdout",
     "output_type": "stream",
     "text": [
      "'[Please Explain Me] (/forums/en/wow/topic/17613131625)'\n"
     ]
    },
    {
     "name": "stdout",
     "output_type": "stream",
     "text": [
      "Exiting\n'posts: 2'\nPROGRESS: 89% (987/1099)\n"
     ]
    },
    {
     "name": "stdout",
     "output_type": "stream",
     "text": [
      "'[Rate the Demon Hunter name above you] (/forums/en/wow/topic/17613201592)'\n"
     ]
    },
    {
     "name": "stdout",
     "output_type": "stream",
     "text": [
      "HTTPError = 404\n"
     ]
    },
    {
     "name": "stdout",
     "output_type": "stream",
     "text": [
      "Exiting\n'posts: 4'\nPROGRESS: 89% (988/1099)\n"
     ]
    },
    {
     "name": "stdout",
     "output_type": "stream",
     "text": [
      "'[What can you change at barber?] (/forums/en/wow/topic/17613041992)'\n"
     ]
    },
    {
     "name": "stdout",
     "output_type": "stream",
     "text": [
      "HTTPError = 404\n"
     ]
    },
    {
     "name": "stdout",
     "output_type": "stream",
     "text": [
      "Exiting\n'posts: 11'\nPROGRESS: 89% (989/1099)\n"
     ]
    },
    {
     "name": "stdout",
     "output_type": "stream",
     "text": [
      "'[[Macro] Secure Glide while mounted] (/forums/en/wow/topic/17613091382)'\n"
     ]
    },
    {
     "name": "stdout",
     "output_type": "stream",
     "text": [
      "Exiting\n'posts: 5'\nPROGRESS: 90% (990/1099)\n"
     ]
    },
    {
     "name": "stdout",
     "output_type": "stream",
     "text": [
      "'[Rate the Demon hunter name above you] (/forums/en/wow/topic/17613131605)'\n"
     ]
    },
    {
     "name": "stdout",
     "output_type": "stream",
     "text": [
      "Exiting\n'posts: 1'\nPROGRESS: 90% (991/1099)\n"
     ]
    },
    {
     "name": "stdout",
     "output_type": "stream",
     "text": [
      "'[Demon Hunter & LFR/Hero dungeon] (/forums/en/wow/topic/17612982200)'\n"
     ]
    },
    {
     "name": "stdout",
     "output_type": "stream",
     "text": [
      "Exiting\n'posts: 9'\nPROGRESS: 90% (992/1099)\n"
     ]
    },
    {
     "name": "stdout",
     "output_type": "stream",
     "text": [
      "('[[Bug] Press both W and S + Double jump = Disconnect] '\n '(/forums/en/wow/topic/17613191301)')\n"
     ]
    },
    {
     "name": "stdout",
     "output_type": "stream",
     "text": [
      "HTTPError = 404\n"
     ]
    },
    {
     "name": "stdout",
     "output_type": "stream",
     "text": [
      "Exiting\n'posts: 9'\nPROGRESS: 90% (993/1099)\n"
     ]
    },
    {
     "name": "stdout",
     "output_type": "stream",
     "text": [
      "'[Havoc seems.. unreasonable?] (/forums/en/wow/topic/17613151577)'\n"
     ]
    },
    {
     "name": "stdout",
     "output_type": "stream",
     "text": [
      "Exiting\n'posts: 1'\nPROGRESS: 90% (994/1099)\n"
     ]
    },
    {
     "name": "stdout",
     "output_type": "stream",
     "text": [
      "\"[[Bug] No transmog on 'of the fallen'] (/forums/en/wow/topic/17613032378)\"\n"
     ]
    },
    {
     "name": "stdout",
     "output_type": "stream",
     "text": [
      "Exiting\n'posts: 10'\nPROGRESS: 90% (995/1099)\n"
     ]
    },
    {
     "name": "stdout",
     "output_type": "stream",
     "text": [
      "'[Fel Rush] (/forums/en/wow/topic/17613062134)'\n"
     ]
    },
    {
     "name": "stdout",
     "output_type": "stream",
     "text": [
      "Exiting\n'posts: 4'\nPROGRESS: 90% (996/1099)\n"
     ]
    },
    {
     "name": "stdout",
     "output_type": "stream",
     "text": [
      "'[Stop QQ/Forum Spam without prior research] (/forums/en/wow/topic/17613151488)'\n"
     ]
    },
    {
     "name": "stdout",
     "output_type": "stream",
     "text": [
      "Exiting\n'posts: 2'\nPROGRESS: 90% (997/1099)\n"
     ]
    },
    {
     "name": "stdout",
     "output_type": "stream",
     "text": [
      "'[Empowered Wards removed?] (/forums/en/wow/topic/17613111345)'\n"
     ]
    },
    {
     "name": "stdout",
     "output_type": "stream",
     "text": [
      "Exiting\n'posts: 3'\nPROGRESS: 90% (998/1099)\n"
     ]
    },
    {
     "name": "stdout",
     "output_type": "stream",
     "text": [
      "'[[BUG] Vengeance - Darkness] (/forums/en/wow/topic/17613062017)'\n"
     ]
    },
    {
     "name": "stdout",
     "output_type": "stream",
     "text": [
      "Exiting\n'posts: 10'\nPROGRESS: 90% (999/1099)\n"
     ]
    },
    {
     "name": "stdout",
     "output_type": "stream",
     "text": [
      "'[PVP @ 110] (/forums/en/wow/topic/17613141461)'\n"
     ]
    },
    {
     "name": "stdout",
     "output_type": "stream",
     "text": [
      "HTTPError = 404\n"
     ]
    },
    {
     "name": "stdout",
     "output_type": "stream",
     "text": [
      "Exiting\n'posts: 2'\nPROGRESS: 90% (1000/1099)\n"
     ]
    },
    {
     "name": "stdout",
     "output_type": "stream",
     "text": [
      "'[Vengeance Metamorphosis Appearance] (/forums/en/wow/topic/17613201446)'\n"
     ]
    },
    {
     "name": "stdout",
     "output_type": "stream",
     "text": [
      "Exiting\n'posts: 3'\nPROGRESS: 91% (1001/1099)\n"
     ]
    },
    {
     "name": "stdout",
     "output_type": "stream",
     "text": [
      "'[Demon Hunter Parcour] (/forums/en/wow/topic/17613101558)'\n"
     ]
    },
    {
     "name": "stdout",
     "output_type": "stream",
     "text": [
      "HTTPError = 404\n"
     ]
    },
    {
     "name": "stdout",
     "output_type": "stream",
     "text": [
      "HTTPError = 404\n"
     ]
    },
    {
     "name": "stdout",
     "output_type": "stream",
     "text": [
      "Exiting\n'posts: 1'\nPROGRESS: 91% (1002/1099)\n"
     ]
    },
    {
     "name": "stdout",
     "output_type": "stream",
     "text": [
      "'[Add NPC that gives Mage food in Sw/Org] (/forums/en/wow/topic/17613201468)'\nHTTPError = 404\n"
     ]
    },
    {
     "name": "stdout",
     "output_type": "stream",
     "text": [
      "Exiting\n'posts: 1'\nPROGRESS: 91% (1003/1099)\n"
     ]
    },
    {
     "name": "stdout",
     "output_type": "stream",
     "text": [
      "'[Animations?] (/forums/en/wow/topic/17613201447)'\n"
     ]
    },
    {
     "name": "stdout",
     "output_type": "stream",
     "text": [
      "Exiting\n'posts: 2'\nPROGRESS: 91% (1004/1099)\n"
     ]
    },
    {
     "name": "stdout",
     "output_type": "stream",
     "text": [
      "'[Fel Rush stops mid animation] (/forums/en/wow/topic/17613042006)'\n"
     ]
    },
    {
     "name": "stdout",
     "output_type": "stream",
     "text": [
      "Exiting\n'posts: 23'\nPROGRESS: 91% (1005/1099)\n"
     ]
    },
    {
     "name": "stdout",
     "output_type": "stream",
     "text": [
      "'[Demonic Language] (/forums/en/wow/topic/17613111400)'\n"
     ]
    },
    {
     "name": "stdout",
     "output_type": "stream",
     "text": [
      "Exiting\n'posts: 7'\nPROGRESS: 91% (1006/1099)\n"
     ]
    },
    {
     "name": "stdout",
     "output_type": "stream",
     "text": [
      "'[Demonic (Language)] (/forums/en/wow/topic/17613111310)'\n"
     ]
    },
    {
     "name": "stdout",
     "output_type": "stream",
     "text": [
      "HTTPError = 404\n"
     ]
    },
    {
     "name": "stdout",
     "output_type": "stream",
     "text": [
      "Exiting\n'posts: 3'\nPROGRESS: 91% (1007/1099)\n"
     ]
    },
    {
     "name": "stdout",
     "output_type": "stream",
     "text": [
      "'[DH Stormwind parkour challenge] (/forums/en/wow/topic/17613131415)'\n"
     ]
    },
    {
     "name": "stdout",
     "output_type": "stream",
     "text": [
      "Exiting\n'posts: 3'\nPROGRESS: 91% (1008/1099)\n"
     ]
    },
    {
     "name": "stdout",
     "output_type": "stream",
     "text": [
      "'[Leap...] (/forums/en/wow/topic/17613091162)'\n"
     ]
    },
    {
     "name": "stdout",
     "output_type": "stream",
     "text": [
      "Exiting\n'posts: 8'\nPROGRESS: 91% (1009/1099)\n"
     ]
    },
    {
     "name": "stdout",
     "output_type": "stream",
     "text": [
      "'[Skin tone change at barbershop?] (/forums/en/wow/topic/17613171320)'\n"
     ]
    },
    {
     "name": "stdout",
     "output_type": "stream",
     "text": [
      "Exiting\n'posts: 8'\nPROGRESS: 91% (1010/1099)\n"
     ]
    },
    {
     "name": "stdout",
     "output_type": "stream",
     "text": [
      "'[Loving DH so far] (/forums/en/wow/topic/17613131388)'\n"
     ]
    },
    {
     "name": "stdout",
     "output_type": "stream",
     "text": [
      "Exiting\n'posts: 4'\nPROGRESS: 91% (1011/1099)\n"
     ]
    },
    {
     "name": "stdout",
     "output_type": "stream",
     "text": [
      "'[BUG REPORT: Demon Blades] (/forums/en/wow/topic/17613191390)'\n"
     ]
    },
    {
     "name": "stdout",
     "output_type": "stream",
     "text": [
      "Exiting\n'posts: 5'\nPROGRESS: 92% (1012/1099)\n"
     ]
    },
    {
     "name": "stdout",
     "output_type": "stream",
     "text": [
      "'[Mark of Supreme Doom] (/forums/en/wow/topic/17613191356)'\n"
     ]
    },
    {
     "name": "stdout",
     "output_type": "stream",
     "text": [
      "HTTPError = 404\n"
     ]
    },
    {
     "name": "stdout",
     "output_type": "stream",
     "text": [
      "Exiting\n'posts: 6'\nPROGRESS: 92% (1013/1099)\n"
     ]
    },
    {
     "name": "stdout",
     "output_type": "stream",
     "text": [
      "'[Havoc cooldowns seem a little too long.] (/forums/en/wow/topic/17613101379)'\n"
     ]
    },
    {
     "name": "stdout",
     "output_type": "stream",
     "text": [
      "Exiting\n'posts: 10'\nPROGRESS: 92% (1014/1099)\n"
     ]
    },
    {
     "name": "stdout",
     "output_type": "stream",
     "text": [
      "'[Single target rotation] (/forums/en/wow/topic/17613201338)'\n"
     ]
    },
    {
     "name": "stdout",
     "output_type": "stream",
     "text": [
      "Exiting\n'posts: 3'\nPROGRESS: 92% (1015/1099)\n"
     ]
    },
    {
     "name": "stdout",
     "output_type": "stream",
     "text": [
      "'[Galleon not dropping any loot?] (/forums/en/wow/topic/17613101381)'\n"
     ]
    },
    {
     "name": "stdout",
     "output_type": "stream",
     "text": [
      "Exiting\n'posts: 3'\nPROGRESS: 92% (1016/1099)\n"
     ]
    },
    {
     "name": "stdout",
     "output_type": "stream",
     "text": [
      "'[Demon hunter scaling 100] (/forums/en/wow/topic/17613111385)'\n"
     ]
    },
    {
     "name": "stdout",
     "output_type": "stream",
     "text": [
      "Exiting\n'posts: 4'\nPROGRESS: 92% (1017/1099)\n"
     ]
    },
    {
     "name": "stdout",
     "output_type": "stream",
     "text": [
      "('[Question about rotation of DH at max 110 lv.] '\n '(/forums/en/wow/topic/17613161237)')\n"
     ]
    },
    {
     "name": "stdout",
     "output_type": "stream",
     "text": [
      "Exiting\n'posts: 9'\nPROGRESS: 92% (1018/1099)\n"
     ]
    },
    {
     "name": "stdout",
     "output_type": "stream",
     "text": [
      "'[Language swapping macro] (/forums/en/wow/topic/17613131214)'\n"
     ]
    },
    {
     "name": "stdout",
     "output_type": "stream",
     "text": [
      "Exiting\n'posts: 6'\nPROGRESS: 92% (1019/1099)\n"
     ]
    },
    {
     "name": "stdout",
     "output_type": "stream",
     "text": [
      "'[Glide problem] (/forums/en/wow/topic/17613101340)'\n"
     ]
    },
    {
     "name": "stdout",
     "output_type": "stream",
     "text": [
      "HTTPError = 404\n"
     ]
    },
    {
     "name": "stdout",
     "output_type": "stream",
     "text": [
      "Exiting\n'posts: 4'\nPROGRESS: 92% (1020/1099)\n"
     ]
    },
    {
     "name": "stdout",
     "output_type": "stream",
     "text": [
      "'[Demon Hunter bugs] (/forums/en/wow/topic/17613131354)'\n"
     ]
    },
    {
     "name": "stdout",
     "output_type": "stream",
     "text": [
      "Exiting\n'posts: 4'\nPROGRESS: 92% (1021/1099)\n"
     ]
    },
    {
     "name": "stdout",
     "output_type": "stream",
     "text": [
      "'[warglaives of azzinoth are reversed on DH] (/forums/en/wow/topic/17613101324)'\n"
     ]
    },
    {
     "name": "stdout",
     "output_type": "stream",
     "text": [
      "Exiting\n'posts: 5'\nPROGRESS: 92% (1022/1099)\n"
     ]
    },
    {
     "name": "stdout",
     "output_type": "stream",
     "text": [
      "('[Apperantly nobody in general cares about this] '\n '(/forums/en/wow/topic/17613201312)')\n"
     ]
    },
    {
     "name": "stdout",
     "output_type": "stream",
     "text": [
      "Exiting\n'posts: 6'\nPROGRESS: 93% (1023/1099)\n"
     ]
    },
    {
     "name": "stdout",
     "output_type": "stream",
     "text": [
      "'[How does the DH compare to the warrior?] (/forums/en/wow/topic/17613032115)'\n"
     ]
    },
    {
     "name": "stdout",
     "output_type": "stream",
     "text": [
      "HTTPError = 404\n"
     ]
    },
    {
     "name": "stdout",
     "output_type": "stream",
     "text": [
      "Exiting\n'posts: 17'\nPROGRESS: 93% (1024/1099)\n"
     ]
    },
    {
     "name": "stdout",
     "output_type": "stream",
     "text": [
      "\"[So we're not OP.] (/forums/en/wow/topic/17613062335)\"\n"
     ]
    },
    {
     "name": "stdout",
     "output_type": "stream",
     "text": [
      "HTTPError = 404\n"
     ]
    },
    {
     "name": "stdout",
     "output_type": "stream",
     "text": [
      "Exiting\n'posts: 38'\nPROGRESS: 93% (1025/1099)\n"
     ]
    },
    {
     "name": "stdout",
     "output_type": "stream",
     "text": [
      "'[Why Havoc is missing tons of tools ?!] (/forums/en/wow/topic/17613141190)'\nHTTPError = 404\n"
     ]
    },
    {
     "name": "stdout",
     "output_type": "stream",
     "text": [
      "HTTPError = 404\n"
     ]
    },
    {
     "name": "stdout",
     "output_type": "stream",
     "text": [
      "Exiting\n'posts: 16'\nPROGRESS: 93% (1026/1099)\n"
     ]
    },
    {
     "name": "stdout",
     "output_type": "stream",
     "text": [
      "'[Offering a little help] (/forums/en/wow/topic/17613181194)'\n"
     ]
    },
    {
     "name": "stdout",
     "output_type": "stream",
     "text": [
      "HTTPError = 404\n"
     ]
    },
    {
     "name": "stdout",
     "output_type": "stream",
     "text": [
      "HTTPError = 404\n"
     ]
    },
    {
     "name": "stdout",
     "output_type": "stream",
     "text": [
      "HTTPError = 404\n"
     ]
    },
    {
     "name": "stdout",
     "output_type": "stream",
     "text": [
      "Exiting\n'posts: 8'\nPROGRESS: 93% (1027/1099)\n"
     ]
    },
    {
     "name": "stdout",
     "output_type": "stream",
     "text": [
      "'[Demon Hunter glyphs arrival?] (/forums/en/wow/topic/17613151270)'\n"
     ]
    },
    {
     "name": "stdout",
     "output_type": "stream",
     "text": [
      "Exiting\n'posts: 2'\nPROGRESS: 93% (1028/1099)\n"
     ]
    },
    {
     "name": "stdout",
     "output_type": "stream",
     "text": [
      "('[Can folk stop freaking out about Demon Blades?] '\n '(/forums/en/wow/topic/17613072382)')\n"
     ]
    },
    {
     "name": "stdout",
     "output_type": "stream",
     "text": [
      "HTTPError = 404\n"
     ]
    },
    {
     "name": "stdout",
     "output_type": "stream",
     "text": [
      "Exiting\n'posts: 13'\nPROGRESS: 93% (1029/1099)\n"
     ]
    },
    {
     "name": "stdout",
     "output_type": "stream",
     "text": [
      "'[People already call me names] (/forums/en/wow/topic/17613002289)'\n"
     ]
    },
    {
     "name": "stdout",
     "output_type": "stream",
     "text": [
      "HTTPError = 404\nHTTPError = 404\n"
     ]
    },
    {
     "name": "stdout",
     "output_type": "stream",
     "text": [
      "Exiting\n'posts: 24'\nPROGRESS: 93% (1030/1099)\n"
     ]
    },
    {
     "name": "stdout",
     "output_type": "stream",
     "text": [
      "'[Professions for Demon Hunter] (/forums/en/wow/topic/17613111261)'\n"
     ]
    },
    {
     "name": "stdout",
     "output_type": "stream",
     "text": [
      "Exiting\n'posts: 7'\nPROGRESS: 93% (1031/1099)\n"
     ]
    },
    {
     "name": "stdout",
     "output_type": "stream",
     "text": [
      "('[Anyone else feel like all you do is wait ?] '\n '(/forums/en/wow/topic/17613012187)')\n"
     ]
    },
    {
     "name": "stdout",
     "output_type": "stream",
     "text": [
      "HTTPError = 404\n"
     ]
    },
    {
     "name": "stdout",
     "output_type": "stream",
     "text": [
      "Exiting\n'posts: 22'\nPROGRESS: 93% (1032/1099)\n"
     ]
    },
    {
     "name": "stdout",
     "output_type": "stream",
     "text": [
      "'[No MS effect, no snares, no heals] (/forums/en/wow/topic/17613181205)'\n"
     ]
    },
    {
     "name": "stdout",
     "output_type": "stream",
     "text": [
      "Exiting\n'posts: 3'\nPROGRESS: 93% (1033/1099)\n"
     ]
    },
    {
     "name": "stdout",
     "output_type": "stream",
     "text": [
      "'[Blindfold bug] (/forums/en/wow/topic/17613022036)'\n"
     ]
    },
    {
     "name": "stdout",
     "output_type": "stream",
     "text": [
      "Exiting\n'posts: 9'\nPROGRESS: 94% (1034/1099)\n"
     ]
    },
    {
     "name": "stdout",
     "output_type": "stream",
     "text": [
      "'[Questing DH....?] (/forums/en/wow/topic/17613131239)'\n"
     ]
    },
    {
     "name": "stdout",
     "output_type": "stream",
     "text": [
      "HTTPError = 404\n"
     ]
    },
    {
     "name": "stdout",
     "output_type": "stream",
     "text": [
      "Exiting\n'posts: 5'\nPROGRESS: 94% (1035/1099)\n"
     ]
    },
    {
     "name": "stdout",
     "output_type": "stream",
     "text": [
      "'[Master Riding?] (/forums/en/wow/topic/17612992335)'\n"
     ]
    },
    {
     "name": "stdout",
     "output_type": "stream",
     "text": [
      "Exiting\n'posts: 4'\nPROGRESS: 94% (1036/1099)\n"
     ]
    },
    {
     "name": "stdout",
     "output_type": "stream",
     "text": [
      "'[First Impression?] (/forums/en/wow/topic/17613072169)'\n"
     ]
    },
    {
     "name": "stdout",
     "output_type": "stream",
     "text": [
      "HTTPError = 404\n"
     ]
    },
    {
     "name": "stdout",
     "output_type": "stream",
     "text": [
      "Exiting\n'posts: 31'\nPROGRESS: 94% (1037/1099)\n"
     ]
    },
    {
     "name": "stdout",
     "output_type": "stream",
     "text": [
      "'[DH Talent] (/forums/en/wow/topic/17612962274)'\n"
     ]
    },
    {
     "name": "stdout",
     "output_type": "stream",
     "text": [
      "HTTPError = 404\nHTTPError = 404\n"
     ]
    },
    {
     "name": "stdout",
     "output_type": "stream",
     "text": [
      "Exiting\n'posts: 6'\nPROGRESS: 94% (1038/1099)\n"
     ]
    },
    {
     "name": "stdout",
     "output_type": "stream",
     "text": [
      "'[Havoc DH is completely fine in pvp] (/forums/en/wow/topic/17613181172)'\n"
     ]
    },
    {
     "name": "stdout",
     "output_type": "stream",
     "text": [
      "Exiting\n'posts: 4'\nPROGRESS: 94% (1039/1099)\n"
     ]
    },
    {
     "name": "stdout",
     "output_type": "stream",
     "text": [
      "'[Disconnect bug] (/forums/en/wow/topic/17613201222)'\n"
     ]
    },
    {
     "name": "stdout",
     "output_type": "stream",
     "text": [
      "Exiting\n'posts: 1'\nPROGRESS: 94% (1040/1099)\n"
     ]
    },
    {
     "name": "stdout",
     "output_type": "stream",
     "text": [
      "'[Lack of informations [spoiler]] (/forums/en/wow/topic/17613101234)'\n"
     ]
    },
    {
     "name": "stdout",
     "output_type": "stream",
     "text": [
      "Exiting\n'posts: 3'\nPROGRESS: 94% (1041/1099)\n"
     ]
    },
    {
     "name": "stdout",
     "output_type": "stream",
     "text": [
      "'[BUG REPORT: Shattered Souls] (/forums/en/wow/topic/17613131218)'\n"
     ]
    },
    {
     "name": "stdout",
     "output_type": "stream",
     "text": [
      "Exiting\n'posts: 2'\nPROGRESS: 94% (1042/1099)\n"
     ]
    },
    {
     "name": "stdout",
     "output_type": "stream",
     "text": [
      "'[Tank DH Flavor and gameplay discussion] (/forums/en/wow/topic/17613121221)'\n"
     ]
    },
    {
     "name": "stdout",
     "output_type": "stream",
     "text": [
      "Exiting\n'posts: 1'\nPROGRESS: 94% (1043/1099)\n"
     ]
    },
    {
     "name": "stdout",
     "output_type": "stream",
     "text": [
      "'[Metamorphosis - First Impression] (/forums/en/wow/topic/17613072429)'\n"
     ]
    },
    {
     "name": "stdout",
     "output_type": "stream",
     "text": [
      "Exiting\n'posts: 7'\nPROGRESS: 94% (1044/1099)\n"
     ]
    },
    {
     "name": "stdout",
     "output_type": "stream",
     "text": [
      "'[Demon hunter parry issue !] (/forums/en/wow/topic/17613091178)'\n"
     ]
    },
    {
     "name": "stdout",
     "output_type": "stream",
     "text": [
      "Exiting\n'posts: 2'\nPROGRESS: 95% (1045/1099)\n"
     ]
    },
    {
     "name": "stdout",
     "output_type": "stream",
     "text": [
      "'[So, tanking?] (/forums/en/wow/topic/17612992155)'\nHTTPError = 404\n"
     ]
    },
    {
     "name": "stdout",
     "output_type": "stream",
     "text": [
      "Exiting\n'posts: 8'\nPROGRESS: 95% (1046/1099)\n"
     ]
    },
    {
     "name": "stdout",
     "output_type": "stream",
     "text": [
      "'[Darkness issue on vengeance dh] (/forums/en/wow/topic/17613062348)'\n"
     ]
    },
    {
     "name": "stdout",
     "output_type": "stream",
     "text": [
      "HTTPError = 404\n"
     ]
    },
    {
     "name": "stdout",
     "output_type": "stream",
     "text": [
      "Exiting\n'posts: 3'\nPROGRESS: 95% (1047/1099)\n"
     ]
    },
    {
     "name": "stdout",
     "output_type": "stream",
     "text": [
      "(\"[Demon hunter - Moroes' Famous Polish bugged] \"\n '(/forums/en/wow/topic/17613052374)')\nHTTPError = 404\n"
     ]
    },
    {
     "name": "stdout",
     "output_type": "stream",
     "text": [
      "HTTPError = 404\n"
     ]
    },
    {
     "name": "stdout",
     "output_type": "stream",
     "text": [
      "Exiting\n'posts: 1'\nPROGRESS: 95% (1048/1099)\n"
     ]
    },
    {
     "name": "stdout",
     "output_type": "stream",
     "text": [
      "'[Movement bug makes DHs almost unplayable.] (/forums/en/wow/topic/17612992186)'\n"
     ]
    },
    {
     "name": "stdout",
     "output_type": "stream",
     "text": [
      "Exiting\n'posts: 15'\nPROGRESS: 95% (1049/1099)\n"
     ]
    },
    {
     "name": "stdout",
     "output_type": "stream",
     "text": [
      "'[Which profession will people roll with?] (/forums/en/wow/topic/17613002390)'\n"
     ]
    },
    {
     "name": "stdout",
     "output_type": "stream",
     "text": [
      "Exiting\n'posts: 1'\nPROGRESS: 95% (1050/1099)\n"
     ]
    },
    {
     "name": "stdout",
     "output_type": "stream",
     "text": [
      "'[Demon Hunter - Something for Draenor] (/forums/en/wow/topic/17612962059)'\n"
     ]
    },
    {
     "name": "stdout",
     "output_type": "stream",
     "text": [
      "HTTPError = 404\n"
     ]
    },
    {
     "name": "stdout",
     "output_type": "stream",
     "text": [
      "Exiting\n'posts: 4'\nPROGRESS: 95% (1051/1099)\n"
     ]
    },
    {
     "name": "stdout",
     "output_type": "stream",
     "text": [
      "('[[possible bug] Standstill Doublejump causes DC] '\n '(/forums/en/wow/topic/17612962259)')\n"
     ]
    },
    {
     "name": "stdout",
     "output_type": "stream",
     "text": [
      "Exiting\n'posts: 3'\nPROGRESS: 95% (1052/1099)\n"
     ]
    },
    {
     "name": "stdout",
     "output_type": "stream",
     "text": [
      "'[What happened to Sigil of Chains?] (/forums/en/wow/topic/17613042274)'\n"
     ]
    },
    {
     "name": "stdout",
     "output_type": "stream",
     "text": [
      "Exiting\n'posts: 4'\nPROGRESS: 95% (1053/1099)\n"
     ]
    },
    {
     "name": "stdout",
     "output_type": "stream",
     "text": [
      "'[Havoc Single target shockingly poor?] (/forums/en/wow/topic/17613052180)'\nHTTPError = 404\n"
     ]
    },
    {
     "name": "stdout",
     "output_type": "stream",
     "text": [
      "Exiting\n'posts: 11'\nPROGRESS: 95% (1054/1099)\n"
     ]
    },
    {
     "name": "stdout",
     "output_type": "stream",
     "text": [
      "'[Illidari and Warglaive Safety] (/forums/en/wow/topic/17613062328)'\n"
     ]
    },
    {
     "name": "stdout",
     "output_type": "stream",
     "text": [
      "Exiting\n'posts: 3'\nPROGRESS: 95% (1055/1099)\n"
     ]
    },
    {
     "name": "stdout",
     "output_type": "stream",
     "text": [
      "'[The Real Issue] (/forums/en/wow/topic/17613022315)'\n"
     ]
    },
    {
     "name": "stdout",
     "output_type": "stream",
     "text": [
      "Exiting\n'posts: 2'\nPROGRESS: 96% (1056/1099)\n"
     ]
    },
    {
     "name": "stdout",
     "output_type": "stream",
     "text": [
      "\"[Who's ready for Battlegrounds?!] (/forums/en/wow/topic/17613072057)\"\n"
     ]
    },
    {
     "name": "stdout",
     "output_type": "stream",
     "text": [
      "HTTPError = 404\n"
     ]
    },
    {
     "name": "stdout",
     "output_type": "stream",
     "text": [
      "Exiting\n'posts: 11'\nPROGRESS: 96% (1057/1099)\n"
     ]
    },
    {
     "name": "stdout",
     "output_type": "stream",
     "text": [
      "'[Missed Secret Items On Mardum] (/forums/en/wow/topic/17613072377)'\n"
     ]
    },
    {
     "name": "stdout",
     "output_type": "stream",
     "text": [
      "Exiting\n'posts: 4'\nPROGRESS: 96% (1058/1099)\n"
     ]
    },
    {
     "name": "stdout",
     "output_type": "stream",
     "text": [
      "'[Demon hunter dps] (/forums/en/wow/topic/17612962107)'\n"
     ]
    },
    {
     "name": "stdout",
     "output_type": "stream",
     "text": [
      "HTTPError = 404\n"
     ]
    },
    {
     "name": "stdout",
     "output_type": "stream",
     "text": [
      "Exiting\n'posts: 2'\nPROGRESS: 96% (1059/1099)\n"
     ]
    },
    {
     "name": "stdout",
     "output_type": "stream",
     "text": [
      "'[Vengeful Glaive Macro] (/forums/en/wow/topic/17613002250)'\n"
     ]
    },
    {
     "name": "stdout",
     "output_type": "stream",
     "text": [
      "Exiting\n'posts: 2'\nPROGRESS: 96% (1060/1099)\n"
     ]
    },
    {
     "name": "stdout",
     "output_type": "stream",
     "text": [
      "'[Prepatch things to do] (/forums/en/wow/topic/17612992181)'\n"
     ]
    },
    {
     "name": "stdout",
     "output_type": "stream",
     "text": [
      "HTTPError = 404\nHTTPError = 404\n"
     ]
    },
    {
     "name": "stdout",
     "output_type": "stream",
     "text": [
      "Exiting\n'posts: 5'\nPROGRESS: 96% (1061/1099)\n"
     ]
    },
    {
     "name": "stdout",
     "output_type": "stream",
     "text": [
      "'[Demon hunter ranged] (/forums/en/wow/topic/17613052210)'\n"
     ]
    },
    {
     "name": "stdout",
     "output_type": "stream",
     "text": [
      "Exiting\n'posts: 14'\nPROGRESS: 96% (1062/1099)\n"
     ]
    },
    {
     "name": "stdout",
     "output_type": "stream",
     "text": [
      "\"[Demon's Bite] (/forums/en/wow/topic/17613011992)\"\n"
     ]
    },
    {
     "name": "stdout",
     "output_type": "stream",
     "text": [
      "Exiting\n'posts: 12'\nPROGRESS: 96% (1063/1099)\n"
     ]
    },
    {
     "name": "stdout",
     "output_type": "stream",
     "text": [
      "'[Blizzard please.] (/forums/en/wow/topic/17613052040)'\n"
     ]
    },
    {
     "name": "stdout",
     "output_type": "stream",
     "text": [
      "Exiting\n'posts: 19'\nPROGRESS: 96% (1064/1099)\n"
     ]
    },
    {
     "name": "stdout",
     "output_type": "stream",
     "text": [
      "'[Only six faces in Character Creation?!] (/forums/en/wow/topic/17613022240)'\n"
     ]
    },
    {
     "name": "stdout",
     "output_type": "stream",
     "text": [
      "Exiting\n'posts: 2'\nPROGRESS: 96% (1065/1099)\n"
     ]
    },
    {
     "name": "stdout",
     "output_type": "stream",
     "text": [
      "('[Night Elf (Male) Fishing Animation is broken!?] '\n '(/forums/en/wow/topic/17613032281)')\n"
     ]
    },
    {
     "name": "stdout",
     "output_type": "stream",
     "text": [
      "Exiting\n'posts: 1'\nPROGRESS: 96% (1066/1099)\n"
     ]
    },
    {
     "name": "stdout",
     "output_type": "stream",
     "text": [
      "'[Demonic appetite - seems clunky.] (/forums/en/wow/topic/17613042219)'\n"
     ]
    },
    {
     "name": "stdout",
     "output_type": "stream",
     "text": [
      "Exiting\n'posts: 5'\nPROGRESS: 97% (1067/1099)\n"
     ]
    },
    {
     "name": "stdout",
     "output_type": "stream",
     "text": [
      "'[DH self healing] (/forums/en/wow/topic/17613042167)'\n"
     ]
    },
    {
     "name": "stdout",
     "output_type": "stream",
     "text": [
      "HTTPError = 404\n"
     ]
    },
    {
     "name": "stdout",
     "output_type": "stream",
     "text": [
      "Exiting\n'posts: 3'\nPROGRESS: 97% (1068/1099)\n"
     ]
    },
    {
     "name": "stdout",
     "output_type": "stream",
     "text": [
      "'[Your new DH name?] (/forums/en/wow/topic/17612991876)'\n"
     ]
    },
    {
     "name": "stdout",
     "output_type": "stream",
     "text": [
      "Exiting\n'posts: 60'\nPROGRESS: 97% (1069/1099)\n"
     ]
    },
    {
     "name": "stdout",
     "output_type": "stream",
     "text": [
      "'[Found a rather lost guy] (/forums/en/wow/topic/17613032166)'\n"
     ]
    },
    {
     "name": "stdout",
     "output_type": "stream",
     "text": [
      "Exiting\n'posts: 2'\nPROGRESS: 97% (1070/1099)\n"
     ]
    },
    {
     "name": "stdout",
     "output_type": "stream",
     "text": [
      "'[Jump disconnect?] (/forums/en/wow/topic/17613012106)'\n"
     ]
    },
    {
     "name": "stdout",
     "output_type": "stream",
     "text": [
      "Exiting\n'posts: 3'\nPROGRESS: 97% (1071/1099)\n"
     ]
    },
    {
     "name": "stdout",
     "output_type": "stream",
     "text": [
      "'[A couple of suggestions] (/forums/en/wow/topic/17612992056)'\n"
     ]
    },
    {
     "name": "stdout",
     "output_type": "stream",
     "text": [
      "Exiting\n'posts: 8'\nPROGRESS: 97% (1072/1099)\n"
     ]
    },
    {
     "name": "stdout",
     "output_type": "stream",
     "text": [
      "'[Shadowmourne and demon hunters] (/forums/en/wow/topic/17613012151)'\n"
     ]
    },
    {
     "name": "stdout",
     "output_type": "stream",
     "text": [
      "Exiting\n'posts: 3'\nPROGRESS: 97% (1073/1099)\n"
     ]
    },
    {
     "name": "stdout",
     "output_type": "stream",
     "text": [
      "'[Blood Elf or Night Elf?] (/forums/en/wow/topic/17613041790)'\n"
     ]
    },
    {
     "name": "stdout",
     "output_type": "stream",
     "text": [
      "Exiting\n'posts: 33'\nPROGRESS: 97% (1074/1099)\n"
     ]
    },
    {
     "name": "stdout",
     "output_type": "stream",
     "text": [
      "'[Tier 2 talents] (/forums/en/wow/topic/17613072278)'\nHTTPError = 404\n"
     ]
    },
    {
     "name": "stdout",
     "output_type": "stream",
     "text": [
      "Exiting\n'posts: 2'\nPROGRESS: 97% (1075/1099)\n"
     ]
    },
    {
     "name": "stdout",
     "output_type": "stream",
     "text": [
      "'[What spec are people maining with DH] (/forums/en/wow/topic/17613011808)'\n"
     ]
    },
    {
     "name": "stdout",
     "output_type": "stream",
     "text": [
      "HTTPError = 404\n"
     ]
    },
    {
     "name": "stdout",
     "output_type": "stream",
     "text": [
      "Exiting\n'posts: 32'\nPROGRESS: 97% (1076/1099)\n"
     ]
    },
    {
     "name": "stdout",
     "output_type": "stream",
     "text": [
      "'[Dh looks meta questions] (/forums/en/wow/topic/17613042150)'\n"
     ]
    },
    {
     "name": "stdout",
     "output_type": "stream",
     "text": [
      "HTTPError = 404\n"
     ]
    },
    {
     "name": "stdout",
     "output_type": "stream",
     "text": [
      "Exiting\n'posts: 1'\nPROGRESS: 97% (1077/1099)\n"
     ]
    },
    {
     "name": "stdout",
     "output_type": "stream",
     "text": [
      "'[A good name?] (/forums/en/wow/topic/17612982169)'\n"
     ]
    },
    {
     "name": "stdout",
     "output_type": "stream",
     "text": [
      "Exiting\n'posts: 9'\nPROGRESS: 98% (1078/1099)\n"
     ]
    },
    {
     "name": "stdout",
     "output_type": "stream",
     "text": [
      "'[Legacy raid access] (/forums/en/wow/topic/17613022195)'\n"
     ]
    },
    {
     "name": "stdout",
     "output_type": "stream",
     "text": [
      "Exiting\n'posts: 3'\nPROGRESS: 98% (1079/1099)\n"
     ]
    },
    {
     "name": "stdout",
     "output_type": "stream",
     "text": [
      "'[Cannot buy jewelry from PvP Vendor] (/forums/en/wow/topic/17613072137)'\n"
     ]
    },
    {
     "name": "stdout",
     "output_type": "stream",
     "text": [
      "Exiting\n'posts: 4'\nPROGRESS: 98% (1080/1099)\n"
     ]
    },
    {
     "name": "stdout",
     "output_type": "stream",
     "text": [
      "'[Demon Hunter transmog] (/forums/en/wow/topic/17613072258)'\n"
     ]
    },
    {
     "name": "stdout",
     "output_type": "stream",
     "text": [
      "Exiting\n'posts: 2'\nPROGRESS: 98% (1081/1099)\n"
     ]
    },
    {
     "name": "stdout",
     "output_type": "stream",
     "text": [
      "'[Attack removed by talent.] (/forums/en/wow/topic/17613022085)'\n"
     ]
    },
    {
     "name": "stdout",
     "output_type": "stream",
     "text": [
      "HTTPError = 404\n"
     ]
    },
    {
     "name": "stdout",
     "output_type": "stream",
     "text": [
      "Exiting\n'posts: 10'\nPROGRESS: 98% (1082/1099)\n"
     ]
    },
    {
     "name": "stdout",
     "output_type": "stream",
     "text": [
      "'[Disappointed(Minor thing).] (/forums/en/wow/topic/17613062087)'\n"
     ]
    },
    {
     "name": "stdout",
     "output_type": "stream",
     "text": [
      "Exiting\n'posts: 3'\nPROGRESS: 98% (1083/1099)\n"
     ]
    },
    {
     "name": "stdout",
     "output_type": "stream",
     "text": [
      "'[Suggestion: DH Quick fix for pvp] (/forums/en/wow/topic/17613052062)'\n"
     ]
    },
    {
     "name": "stdout",
     "output_type": "stream",
     "text": [
      "Exiting\n'posts: 2'\nPROGRESS: 98% (1084/1099)\n"
     ]
    },
    {
     "name": "stdout",
     "output_type": "stream",
     "text": [
      "'[Legion Dalaran] (/forums/en/wow/topic/17613081171)'\n"
     ]
    },
    {
     "name": "stdout",
     "output_type": "stream",
     "text": [
      "Exiting\n'posts: 2'\nPROGRESS: 98% (1085/1099)\n"
     ]
    },
    {
     "name": "stdout",
     "output_type": "stream",
     "text": [
      "'[Female DH skin textures] (/forums/en/wow/topic/17613072162)'\n"
     ]
    },
    {
     "name": "stdout",
     "output_type": "stream",
     "text": [
      "Exiting\n'posts: 2'\nPROGRESS: 98% (1086/1099)\n"
     ]
    },
    {
     "name": "stdout",
     "output_type": "stream",
     "text": [
      "'[Wings color,Wings color] (/forums/en/wow/topic/17613002112)'\n"
     ]
    },
    {
     "name": "stdout",
     "output_type": "stream",
     "text": [
      "Exiting\n'posts: 2'\nPROGRESS: 98% (1087/1099)\n"
     ]
    },
    {
     "name": "stdout",
     "output_type": "stream",
     "text": [
      "'[The return of the legion] (/forums/en/wow/topic/17612962010)'\n"
     ]
    },
    {
     "name": "stdout",
     "output_type": "stream",
     "text": [
      "Exiting\n'posts: 2'\nPROGRESS: 98% (1088/1099)\n"
     ]
    },
    {
     "name": "stdout",
     "output_type": "stream",
     "text": [
      "'[DH demonform nelf and belf] (/forums/en/wow/topic/17613052059)'\n"
     ]
    },
    {
     "name": "stdout",
     "output_type": "stream",
     "text": [
      "HTTPError = 404\n"
     ]
    },
    {
     "name": "stdout",
     "output_type": "stream",
     "text": [
      "HTTPError = 404\n"
     ]
    },
    {
     "name": "stdout",
     "output_type": "stream",
     "text": [
      "Exiting\n'posts: 1'\nPROGRESS: 99% (1089/1099)\n"
     ]
    },
    {
     "name": "stdout",
     "output_type": "stream",
     "text": [
      "'[DH Playable, i cant ??] (/forums/en/wow/topic/17613051972)'\n"
     ]
    },
    {
     "name": "stdout",
     "output_type": "stream",
     "text": [
      "Exiting\n'posts: 12'\nPROGRESS: 99% (1090/1099)\n"
     ]
    },
    {
     "name": "stdout",
     "output_type": "stream",
     "text": [
      "'[While we wait...] (/forums/en/wow/topic/17613061921)'\n"
     ]
    },
    {
     "name": "stdout",
     "output_type": "stream",
     "text": [
      "Exiting\n'posts: 12'\nPROGRESS: 99% (1091/1099)\n"
     ]
    },
    {
     "name": "stdout",
     "output_type": "stream",
     "text": [
      "'[At last...] (/forums/en/wow/topic/17613072129)'\n"
     ]
    },
    {
     "name": "stdout",
     "output_type": "stream",
     "text": [
      "HTTPError = 404\n"
     ]
    },
    {
     "name": "stdout",
     "output_type": "stream",
     "text": [
      "Exiting\n'posts: 9'\nPROGRESS: 99% (1092/1099)\n"
     ]
    },
    {
     "name": "stdout",
     "output_type": "stream",
     "text": [
      "'[Rip Illidan] (/forums/en/wow/topic/17613052017)'\n"
     ]
    },
    {
     "name": "stdout",
     "output_type": "stream",
     "text": [
      "HTTPError = 404\nHTTPError = 404\n"
     ]
    },
    {
     "name": "stdout",
     "output_type": "stream",
     "text": [
      "Exiting\n'posts: 7'\nPROGRESS: 99% (1093/1099)\n"
     ]
    },
    {
     "name": "stdout",
     "output_type": "stream",
     "text": [
      "'[Go to the \"old\" world] (/forums/en/wow/topic/17612971939)'\n"
     ]
    },
    {
     "name": "stdout",
     "output_type": "stream",
     "text": [
      "Exiting\n'posts: 5'\nPROGRESS: 99% (1094/1099)\n"
     ]
    },
    {
     "name": "stdout",
     "output_type": "stream",
     "text": [
      "'[DH forum finally here!] (/forums/en/wow/topic/17612971868)'\n"
     ]
    },
    {
     "name": "stdout",
     "output_type": "stream",
     "text": [
      "Exiting\n'posts: 4'\nPROGRESS: 99% (1095/1099)\n"
     ]
    },
    {
     "name": "stdout",
     "output_type": "stream",
     "text": [
      "'[So is DH any good in PvP?] (/forums/en/wow/topic/17613031949)'\n"
     ]
    },
    {
     "name": "stdout",
     "output_type": "stream",
     "text": [
      "Exiting\n'posts: 5'\nPROGRESS: 99% (1096/1099)\n"
     ]
    },
    {
     "name": "stdout",
     "output_type": "stream",
     "text": [
      "'[Dh playable?] (/forums/en/wow/topic/17612961925)'\n"
     ]
    },
    {
     "name": "stdout",
     "output_type": "stream",
     "text": [
      "Exiting\n'posts: 3'\nPROGRESS: 99% (1097/1099)\n"
     ]
    },
    {
     "name": "stdout",
     "output_type": "stream",
     "text": [
      "'[Demon Hunter Released 10/08/2016 in EU] (/forums/en/wow/topic/17613041822)'\nHTTPError = 404\n"
     ]
    },
    {
     "name": "stdout",
     "output_type": "stream",
     "text": [
      "Exiting\n'posts: 7'\nPROGRESS: 99% (1098/1099)\n"
     ]
    },
    {
     "name": "stdout",
     "output_type": "stream",
     "text": [
      "'[Bring back old models tbh] (/forums/en/wow/topic/17612981934)'\nHTTPError = 404\n"
     ]
    },
    {
     "name": "stdout",
     "output_type": "stream",
     "text": [
      "Exiting\n'posts: 3'\nPROGRESS: 100% (1099/1099)\n"
     ]
    },
    {
     "name": "stdout",
     "output_type": "stream",
     "text": [
      "DONE! Total posts found: 11916\n"
     ]
    }
   ],
   "source": [
    "extracted_topics = []\n",
    "progress_cursor = 1\n",
    "for topicEntry in read_corpora_links_instance[currentClass[0]]:\n",
    "    content = extract_topic(topicEntry)\n",
    "    extracted_topics.extend(content)\n",
    "\n",
    "    progress_percent = int(progress_cursor * 100 / len(read_corpora_links_instance[currentClass[0]]))\n",
    "    print('PROGRESS: ' + str(progress_percent) + '% (' + str(progress_cursor) + '/' \\\n",
    "          + str(len(read_corpora_links_instance[currentClass[0]])) + ')')\n",
    "\n",
    "    if progress_cursor % 50 == 0 or progress_cursor == len(read_corpora_links_instance[currentClass[0]])\\\n",
    "            or len(read_corpora_links_instance[currentClass[0]]) + 1:\n",
    "        save_to_json_file('Resources/Corpora/EU/Posts/', 'corpora_posts_list_' + currentClass[0],\n",
    "                          extracted_topics, 'w')\n",
    "    progress_cursor += 1\n",
    "\n",
    "print('DONE! Total posts found: ' + str(len(extracted_topics)))\n",
    "posts_by_class = {currentClass[0]: extracted_topics}"
   ]
  },
  {
   "cell_type": "code",
   "execution_count": 11,
   "metadata": {},
   "outputs": [],
   "source": [
    "# SAVE LIST OF POSTS\n",
    "posts_by_class = {currentClass[0]: extracted_topics}\n",
    "save_to_json_file('Resources/Corpora/EU/Posts/', 'corpora_posts_' + currentClass[0], posts_by_class, 'w')"
   ]
  },
  {
   "cell_type": "code",
   "execution_count": 12,
   "metadata": {},
   "outputs": [
    {
     "name": "stdout",
     "output_type": "stream",
     "text": [
      "11916\n"
     ]
    }
   ],
   "source": [
    "# READ DICTIONARY OF POSTS\n",
    "posts_by_class = read_from_json_file('Resources/Corpora/EU/Posts/', 'corpora_posts_' + currentClass[0])\n",
    "print(len(posts_by_class[currentClass[0]]))"
   ]
  },
  {
   "cell_type": "code",
   "execution_count": null,
   "metadata": {},
   "outputs": [],
   "source": [
    ""
   ]
  }
 ],
 "metadata": {
  "kernelspec": {
   "display_name": "Python 2",
   "language": "python",
   "name": "python2"
  },
  "language_info": {
   "codemirror_mode": {
    "name": "ipython",
    "version": 2.0
   },
   "file_extension": ".py",
   "mimetype": "text/x-python",
   "name": "python",
   "nbconvert_exporter": "python",
   "pygments_lexer": "ipython2",
   "version": "2.7.12"
  }
 },
 "nbformat": 4,
 "nbformat_minor": 0
}