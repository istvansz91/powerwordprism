{
 "cells": [
  {
   "cell_type": "code",
   "execution_count": 1,
   "metadata": {
    "collapsed": true,
    "scrolled": false
   },
   "outputs": [
    {
     "ename": "SyntaxError",
     "evalue": "Missing parentheses in call to 'print' (<ipython-input-1-1ec78f1c27d9>, line 41)",
     "traceback": [
      "\u001b[1;36m  File \u001b[1;32m\"<ipython-input-1-1ec78f1c27d9>\"\u001b[1;36m, line \u001b[1;32m41\u001b[0m\n\u001b[1;33m    print WowClassesResources.WOW_TOPIC_URLS_EU[0]\u001b[0m\n\u001b[1;37m                            ^\u001b[0m\n\u001b[1;31mSyntaxError\u001b[0m\u001b[1;31m:\u001b[0m Missing parentheses in call to 'print'\n"
     ],
     "output_type": "error"
    }
   ],
   "source": [
    "from bs4 import BeautifulSoup\n",
    "from pprint import pprint\n",
    "import urllib2\n",
    "import json\n",
    "import time\n",
    "\n",
    "\n",
    "class WowClassesResources:\n",
    "    WOW_FORUM_ROOT_URL_EU = 'http://eu.battle.net'\n",
    "    WOW_FORUM_ROOT_URL_US = 'http://us.battle.net'\n",
    "    WOW_FORUM_MID_URL = '/forums/en/wow/'\n",
    "    URL_PAGE_ATTRIBUTE = \"?page=\"\n",
    "\n",
    "    WOW_CLASS_LIST_EU = [('Death Knight', \"874789/\"),\n",
    "                      ('Demon Hunter', \"19369494/\"),\n",
    "                      ('Druid', \"874790/\"),\n",
    "                      ('Hunter', \"874791/\"),\n",
    "                      ('Mage', \"874792/\"),\n",
    "                      ('Monk', \"6038099/\"),\n",
    "                      ('Paladin', \"874793/\"),\n",
    "                      ('Priest', \"874794/\"),\n",
    "                      ('Rogue', \"874795/\"),\n",
    "                      ('Shaman', \"874796/\"),\n",
    "                      ('Warlock', \"874929/\"),\n",
    "                      ('Warrior', \"874930/\")]\n",
    "    WOW_CLASS_LIST_US = [('Death Knight', \"1012662/\"),\n",
    "                      ('Demon Hunter', \"22813967/\"),\n",
    "                      ('Druid', \"1012663/\"),\n",
    "                      ('Hunter', \"1012664/\"),\n",
    "                      ('Mage', \"1012760/\"),\n",
    "                      ('Monk', \"7379141/\"),\n",
    "                      ('Paladin', \"1012668/\"),\n",
    "                      ('Priest', \"1012666/\"),\n",
    "                      ('Rogue', \"1012667/\"),\n",
    "                      ('Shaman', \"1012669/\"),\n",
    "                      ('Warlock', \"1012670/\"),\n",
    "                      ('Warrior', \"1012759/\")]\n",
    "\n",
    "    WOW_TOPIC_URLS_EU = [(c, WOW_FORUM_ROOT_URL_EU + WOW_FORUM_MID_URL + u) for (c, u) in WOW_CLASS_LIST_EU]\n",
    "\n",
    "print WowClassesResources.WOW_TOPIC_URLS_EU[0]\n",
    "url = WowClassesResources.WOW_TOPIC_URLS_EU[0][1]\n",
    "req = urllib2.Request(url)\n",
    "response = urllib2.urlopen(req)\n",
    "html = response.read().decode('utf8')\n",
    "print html[:100]"
   ]
  },
  {
   "cell_type": "code",
   "execution_count": 3,
   "metadata": {
    "collapsed": false,
    "scrolled": true
   },
   "outputs": [],
   "source": [
    "def get_page_content(url):\n",
    "    attempt_number = 0\n",
    "    while True:\n",
    "        # print url\n",
    "        req = urllib2.Request(url)\n",
    "        attempt_number += 1\n",
    "        if attempt_number > 5:\n",
    "            return None\n",
    "        try:\n",
    "            response = urllib2.urlopen(req)\n",
    "        except urllib2.HTTPError, e:\n",
    "            print 'HTTPError = ' + str(e.code)\n",
    "            continue\n",
    "        except Exception, e:\n",
    "            print e\n",
    "            continue\n",
    "        except error, e:\n",
    "            print e\n",
    "            continue\n",
    "        html = response.read().decode('utf8')\n",
    "        break\n",
    "    return html\n",
    "\n",
    "\n",
    "def topic_scrape(forum_url):\n",
    "    all_links = []\n",
    "    i = 1\n",
    "    while True:\n",
    "        html = get_page_content(forum_url + WowClassesResources.URL_PAGE_ATTRIBUTE + str(i))\n",
    "        if html is None:\n",
    "            return []\n",
    "        bs_html = BeautifulSoup(html, \"html.parser\")\n",
    "\n",
    "        all_link_elements = bs_html.find_all(\"a\", class_=\"ForumTopic\")\n",
    "        # pprint(all_link_elements)\n",
    "        link_count = len(all_link_elements)\n",
    "        print str(i) + ' ' + str(link_count)\n",
    "\n",
    "        if link_count == 0:\n",
    "            print 'Exiting'\n",
    "            break\n",
    "        for a in all_link_elements:\n",
    "            # print a\n",
    "            title = unicode(a.find(class_='ForumTopic-title').get_text()).strip()\n",
    "            # print title\n",
    "            all_links.append((a['href'], title))\n",
    "        i += 1\n",
    "        time.sleep(10)\n",
    "    return all_links\n",
    "\n",
    "\n",
    "def extract_topic(topic_title_url_tuple):\n",
    "    topic_url_ending = topic_title_url_tuple[0]\n",
    "    topic_title = topic_title_url_tuple[1]\n",
    "    pprint('[' + topic_title + '] (' + topic_url_ending + ')')\n",
    "    all_posts = []\n",
    "    i = 1\n",
    "    while True:\n",
    "        html = get_page_content(\n",
    "            WowClassesResources.WOW_FORUM_ROOT_URL_EU + topic_url_ending + WowClassesResources.URL_PAGE_ATTRIBUTE + str(\n",
    "                i))\n",
    "        if html is None:\n",
    "            return []\n",
    "        bs_html = BeautifulSoup(html, \"html.parser\")\n",
    "\n",
    "        all_topic_post_elements = bs_html.find_all(\"div\", class_=\"TopicPost-content\")\n",
    "        # pprint(all_topic_post_elements)\n",
    "        link_count = len(all_topic_post_elements)\n",
    "        # print str(i) + ' ' + str(link_count)\n",
    "\n",
    "        if link_count == 0:\n",
    "            print 'Exiting'\n",
    "            break\n",
    "        for element in all_topic_post_elements:\n",
    "            # print a\n",
    "            post_body = unicode(element.find(class_='TopicPost-bodyContent').get_text()).strip()\n",
    "            post_date = element.find(\"a\", class_='TopicPost-timestamp')['data-tooltip-content']\n",
    "            author_element = element.find(\"span\", class_='Author-name')\n",
    "            if author_element is not None:\n",
    "                # post_author = '<UNKNOWN>'\n",
    "                if author_element.a is not None:\n",
    "                    post_author = unicode(author_element.a.get_text()).strip()\n",
    "                else:\n",
    "                    post_author = unicode(author_element.get_text()).strip()\n",
    "                all_posts.append((topic_title, post_date, post_author, post_body))\n",
    "        i += 1\n",
    "        time.sleep(3)\n",
    "    pprint('posts: ' + str(len(all_posts)))\n",
    "    return all_posts\n",
    "\n",
    "\n",
    "def save_to_json_file(path, file_name, topic_content_tuple_list, mode):\n",
    "    with open(path + file_name + '.json', mode) as out_file:\n",
    "        json.dump(topic_content_tuple_list, out_file)\n",
    "\n",
    "\n",
    "def read_from_json_file(path, file_name):\n",
    "    with open(path + file_name + '.json', 'r') as in_file:\n",
    "        return json.load(in_file)"
   ]
  },
  {
   "cell_type": "code",
   "execution_count": 4,
   "metadata": {
    "collapsed": true
   },
   "outputs": [
    {
     "name": "stdout",
     "output_type": "stream",
     "text": [
      "Death Knight\nhttp://eu.battle.net/forums/en/wow/874789/\n"
     ]
    }
   ],
   "source": [
    "# READ CURRENT CLASS TO WORK WITH\n",
    "currentClass = WowClassesResources.WOW_TOPIC_URLS_EU[0]\n",
    "print currentClass[0]\n",
    "print currentClass[1]"
   ]
  },
  {
   "cell_type": "code",
   "execution_count": null,
   "metadata": {
    "collapsed": true
   },
   "outputs": [
    {
     "name": "stdout",
     "output_type": "stream",
     "text": [
      "Death Knight\nhttp://eu.battle.net/forums/en/wow/874789/\n"
     ]
    }
   ],
   "source": [
    "# RUN TOPIC LINK EXTRACTION (ON CURRENT CLASS)\n",
    "corpora_links = {}\n",
    "currentClass_links = topic_scrape(currentClass[1])\n",
    "corpora_links[currentClass[0]] = currentClass_links\n",
    "pprint(corpora_links[currentClass[0]][:10])"
   ]
  },
  {
   "cell_type": "code",
   "execution_count": 7,
   "metadata": {
    "collapsed": true
   },
   "outputs": [],
   "source": [
    "# SAVE EXTRACTED LINKS\n",
    "save_to_json_file('Resources/Corpora/EU/Links/', 'corpora_topic_links_' + currentClass[0],\n",
    "                  corpora_links, 'wb')"
   ]
  },
  {
   "cell_type": "code",
   "execution_count": 25,
   "metadata": {},
   "outputs": [
    {
     "name": "stdout",
     "output_type": "stream",
     "text": [
      "[u'Death Knight']\n[[u'/forums/en/wow/topic/10746975071',\n  u'[Guide]Death Knight 101 (Updated for 7.03)'],\n [u'/forums/en/wow/topic/10119512036', u'Making a Guide?']]\n"
     ]
    }
   ],
   "source": [
    "# READ LINKS FOR A CLASS FROM FILE\n",
    "read_corpora_links_instance \\\n",
    "    = read_from_json_file('Resources/Corpora/EU/Links/', 'corpora_topic_links_' + currentClass[0])\n",
    "pprint(read_corpora_links_instance.keys())\n",
    "pprint(read_corpora_links_instance[currentClass[0]][:2])"
   ]
  },
  {
   "cell_type": "code",
   "execution_count": 45,
   "metadata": {
    "collapsed": true
   },
   "outputs": [
    {
     "name": "stdout",
     "output_type": "stream",
     "text": [
      "u'[[Guide]Death Knight 101 (Updated for 7.03)] (/forums/en/wow/topic/10746975071)'\n"
     ]
    },
    {
     "name": "stdout",
     "output_type": "stream",
     "text": [
      "Exiting\n'posts: 34'\nPROGRESS: 0% (1/11783)\nu'[Making a Guide?] (/forums/en/wow/topic/10119512036)'\n"
     ]
    },
    {
     "name": "stdout",
     "output_type": "stream",
     "text": [
      "Exiting\n'posts: 1'\nPROGRESS: 0% (2/11783)\nu'[Frost and the reverse synergy] (/forums/en/wow/topic/17614484421)'\n"
     ]
    },
    {
     "name": "stdout",
     "output_type": "stream",
     "text": [
      "Exiting\n'posts: 8'\nPROGRESS: 0% (3/11783)\nu'[Bring back 2H-Frost DK... in an cosmetic way] (/forums/en/wow/topic/17614111984)'\n"
     ]
    },
    {
     "name": "stdout",
     "output_type": "stream",
     "text": [
      "[Errno 10054] An existing connection was forcibly closed by the remote host\n"
     ]
    },
    {
     "name": "stdout",
     "output_type": "stream",
     "text": [
      "Exiting\n'posts: 50'\nPROGRESS: 0% (4/11783)\nu'[Blood dk Versatility and Mastery] (/forums/en/wow/topic/17614424436)'\n"
     ]
    },
    {
     "name": "stdout",
     "output_type": "stream",
     "text": [
      "Exiting\n'posts: 4'\nPROGRESS: 0% (5/11783)\nu'[The hiddent artifact appearence sheathe rant post.] (/forums/en/wow/topic/17614493427)'\n"
     ]
    },
    {
     "name": "stdout",
     "output_type": "stream",
     "text": [
      "Exiting\n'posts: 11'\nPROGRESS: 0% (6/11783)\nu'[Please let us sheathe the Frost weapons on the back.] (/forums/en/wow/topic/17614484473)'\n"
     ]
    },
    {
     "name": "stdout",
     "output_type": "stream",
     "text": [
      "Exiting\n'posts: 4'\nPROGRESS: 0% (7/11783)\nu\"[Two-Hande...no wait, it's Dual Wield] (/forums/en/wow/topic/17614424047)\"\n"
     ]
    },
    {
     "name": "stdout",
     "output_type": "stream",
     "text": [
      "Exiting\n'posts: 12'\nPROGRESS: 0% (8/11783)\nu'[Is frost valiable in raids?] (/forums/en/wow/topic/17614543822)'\n"
     ]
    },
    {
     "name": "stdout",
     "output_type": "stream",
     "text": [
      "Exiting\n'posts: 5'\nPROGRESS: 0% (9/11783)\nu'[sims are great] (/forums/en/wow/topic/17614504551)'\n"
     ]
    },
    {
     "name": "stdout",
     "output_type": "stream",
     "text": [
      "Exiting\n'posts: 8'\nPROGRESS: 0% (10/11783)\nu'[Runes of the darkening] (/forums/en/wow/topic/17614503478)'\n"
     ]
    },
    {
     "name": "stdout",
     "output_type": "stream",
     "text": [
      "Exiting\n'posts: 6'\nPROGRESS: 0% (11/11783)\nu'[Sheathe one handers please] (/forums/en/wow/topic/17614424241)'\n"
     ]
    },
    {
     "name": "stdout",
     "output_type": "stream",
     "text": [
      "Exiting\n'posts: 5'\nPROGRESS: 0% (12/11783)\nu'[Frost or unholy] (/forums/en/wow/topic/17614553766)'\n"
     ]
    },
    {
     "name": "stdout",
     "output_type": "stream",
     "text": [
      "Exiting\n'posts: 5'\nPROGRESS: 0% (13/11783)\nu\"[how's frost dk  ? help a friend] (/forums/en/wow/topic/17614513712)\"\n"
     ]
    },
    {
     "name": "stdout",
     "output_type": "stream",
     "text": [
      "Exiting\n'posts: 8'\nPROGRESS: 0% (14/11783)\nu'[Rate the Death Knight transmog above you Part 8!!!] (/forums/en/wow/topic/17612263466)'\n"
     ]
    },
    {
     "name": "stdout",
     "output_type": "stream",
     "text": [
      "HTTPError = 404\n"
     ]
    },
    {
     "name": "stdout",
     "output_type": "stream",
     "text": [
      "[Errno 10054] An existing connection was forcibly closed by the remote host\n"
     ]
    },
    {
     "name": "stdout",
     "output_type": "stream",
     "text": [
      "Exiting\n'posts: 480'\nPROGRESS: 0% (15/11783)\nu'[FROST HIDDEN ARTIFACT APPEARNCE] (/forums/en/wow/topic/17613401278)'\nHTTPError = 404\n"
     ]
    },
    {
     "name": "stdout",
     "output_type": "stream",
     "text": [
      "HTTPError = 404\n"
     ]
    },
    {
     "name": "stdout",
     "output_type": "stream",
     "text": [
      "Exiting\n'posts: 127'\nPROGRESS: 0% (16/11783)\nu'[A little help on frost please] (/forums/en/wow/topic/17614464364)'\n"
     ]
    },
    {
     "name": "stdout",
     "output_type": "stream",
     "text": [
      "Exiting\n'posts: 7'\nPROGRESS: 0% (17/11783)\nu'[DPS problems Blood. (Mythic(+) Dungeons)] (/forums/en/wow/topic/17614464357)'\n"
     ]
    },
    {
     "name": "stdout",
     "output_type": "stream",
     "text": [
      "Exiting\n'posts: 13'\nPROGRESS: 0% (18/11783)\nu'[Acherus Drapes] (/forums/en/wow/topic/17614454533)'\n"
     ]
    },
    {
     "name": "stdout",
     "output_type": "stream",
     "text": [
      "Exiting\n'posts: 2'\nPROGRESS: 0% (19/11783)\nu'[Death chains] (/forums/en/wow/topic/17614474233)'\n"
     ]
    },
    {
     "name": "stdout",
     "output_type": "stream",
     "text": [
      "Exiting\n'posts: 4'\nPROGRESS: 0% (20/11783)\nu'[Icy Talons vs Murderous efficiency] (/forums/en/wow/topic/17614482904)'\n"
     ]
    },
    {
     "name": "stdout",
     "output_type": "stream",
     "text": [
      "Exiting\n'posts: 9'\nPROGRESS: 0% (21/11783)\nu'[Help with my frost dk] (/forums/en/wow/topic/17614463997)'\n"
     ]
    },
    {
     "name": "stdout",
     "output_type": "stream",
     "text": [
      "Exiting\n'posts: 18'\nPROGRESS: 0% (22/11783)\nu'[The Worst expension pvp wise] (/forums/en/wow/topic/17614403956)'\n"
     ]
    },
    {
     "name": "stdout",
     "output_type": "stream",
     "text": [
      "Exiting\n'posts: 9'\nPROGRESS: 0% (23/11783)\nu'[Starting Level for DK] (/forums/en/wow/topic/17614464313)'\n"
     ]
    },
    {
     "name": "stdout",
     "output_type": "stream",
     "text": [
      "Exiting\n'posts: 5'\nPROGRESS: 0% (24/11783)\nu'[Crystalline Swords] (/forums/en/wow/topic/17614474073)'\n"
     ]
    },
    {
     "name": "stdout",
     "output_type": "stream",
     "text": [
      "Exiting\n'posts: 8'\nPROGRESS: 0% (25/11783)\nu'[Unholys with 2k+ rating?] (/forums/en/wow/topic/17614464311)'\n"
     ]
    },
    {
     "name": "stdout",
     "output_type": "stream",
     "text": [
      "Exiting\n'posts: 1'\nPROGRESS: 0% (26/11783)\nu'[YOUR RNG IS CRAP] (/forums/en/wow/topic/17614413898)'\n"
     ]
    },
    {
     "name": "stdout",
     "output_type": "stream",
     "text": [
      "Exiting\n'posts: 18'\nPROGRESS: 0% (27/11783)\nu'[Confused about Frost stat priority] (/forums/en/wow/topic/17614423386)'\n"
     ]
    },
    {
     "name": "stdout",
     "output_type": "stream",
     "text": [
      "Exiting\n'posts: 7'\nPROGRESS: 0% (28/11783)\nu'[Noob unholy DK needs tips/advice] (/forums/en/wow/topic/17614414060)'\n"
     ]
    },
    {
     "name": "stdout",
     "output_type": "stream",
     "text": [
      "Exiting\n'posts: 5'\nPROGRESS: 0% (29/11783)\nu'[Glyph: Crystalline Swords > 2 souls or something] (/forums/en/wow/topic/17614464219)'\n"
     ]
    },
    {
     "name": "stdout",
     "output_type": "stream",
     "text": [
      "Exiting\n'posts: 1'\nPROGRESS: 0% (30/11783)\nu'[Frost dk hidden. DEV NOTE!] (/forums/en/wow/topic/17613971369)'\n"
     ]
    },
    {
     "name": "stdout",
     "output_type": "stream",
     "text": [
      "Exiting\n'posts: 28'\nPROGRESS: 0% (31/11783)\nu'[SimCraft stat weighing] (/forums/en/wow/topic/17614474152)'\n"
     ]
    },
    {
     "name": "stdout",
     "output_type": "stream",
     "text": [
      "Exiting\n'posts: 1'\nPROGRESS: 0% (32/11783)\nu'[Please add the hidden Appearance we deserve] (/forums/en/wow/topic/17614403893)'\n"
     ]
    },
    {
     "name": "stdout",
     "output_type": "stream",
     "text": [
      "Exiting\n'posts: 8'\nPROGRESS: 0% (33/11783)\nu'[thank you blizz for buffing Frost again :)] (/forums/en/wow/topic/17614302404)'\n"
     ]
    },
    {
     "name": "stdout",
     "output_type": "stream",
     "text": [
      "Exiting\n'posts: 6'\nPROGRESS: 0% (34/11783)\nu'[Frost DK not getting hidden skin.] (/forums/en/wow/topic/17614453830)'\n"
     ]
    },
    {
     "name": "stdout",
     "output_type": "stream",
     "text": [
      "[Errno 10054] An existing connection was forcibly closed by the remote host\n"
     ]
    },
    {
     "name": "stdout",
     "output_type": "stream",
     "text": [
      "Exiting\n'posts: 7'\nPROGRESS: 0% (35/11783)\nu'[Unholy DK BIS Trinkets Emerald nightmare?] (/forums/en/wow/topic/17613482463)'\n"
     ]
    },
    {
     "name": "stdout",
     "output_type": "stream",
     "text": [
      "Exiting\n'posts: 19'\nPROGRESS: 0% (36/11783)\nu'[Dk \"sindragosas fury\" is bad compared to others] (/forums/en/wow/topic/17614452696)'\n"
     ]
    },
    {
     "name": "stdout",
     "output_type": "stream",
     "text": [
      "HTTPError = 404\n"
     ]
    },
    {
     "name": "stdout",
     "output_type": "stream",
     "text": [
      "Exiting\n'posts: 22'\nPROGRESS: 0% (37/11783)\nu'[frost dk or dh?] (/forums/en/wow/topic/17614492565)'\n"
     ]
    },
    {
     "name": "stdout",
     "output_type": "stream",
     "text": [
      "Exiting\n'posts: 11'\nPROGRESS: 0% (38/11783)\nu\"[Shadow's edge on Frost DK?] (/forums/en/wow/topic/17614542882)\"\n"
     ]
    },
    {
     "name": "stdout",
     "output_type": "stream",
     "text": [
      "Exiting\n'posts: 2'\nPROGRESS: 0% (39/11783)\nu'[Blood DK 7.1.5] (/forums/en/wow/topic/17614473556)'\n"
     ]
    },
    {
     "name": "stdout",
     "output_type": "stream",
     "text": [
      "[Errno 10054] An existing connection was forcibly closed by the remote host\n"
     ]
    },
    {
     "name": "stdout",
     "output_type": "stream",
     "text": [
      "Exiting\n'posts: 21'\nPROGRESS: 0% (40/11783)\nu'[Rest in peace death knights] (/forums/en/wow/topic/17614501649)'\n"
     ]
    },
    {
     "name": "stdout",
     "output_type": "stream",
     "text": [
      "Exiting\n'posts: 31'\nPROGRESS: 0% (41/11783)\nu'[The main issue of Frost Death Knights as of yet] (/forums/en/wow/topic/17614483600)'\n"
     ]
    },
    {
     "name": "stdout",
     "output_type": "stream",
     "text": [
      "Exiting\n'posts: 6'\nPROGRESS: 0% (42/11783)\nu'[Rune Insciption since Legion prerpatch..] (/forums/en/wow/topic/17614062034)'\n"
     ]
    },
    {
     "name": "stdout",
     "output_type": "stream",
     "text": [
      "[Errno 10054] An existing connection was forcibly closed by the remote host\n"
     ]
    },
    {
     "name": "stdout",
     "output_type": "stream",
     "text": [
      "Exiting\n'posts: 2'\nPROGRESS: 0% (43/11783)\nu'[i feel like a frostflake now..] (/forums/en/wow/topic/17614473550)'\n"
     ]
    },
    {
     "name": "stdout",
     "output_type": "stream",
     "text": [
      "Exiting\n'posts: 15'\nPROGRESS: 0% (44/11783)\nu'[This week affixes + Blood DK] (/forums/en/wow/topic/17614423375)'\n"
     ]
    },
    {
     "name": "stdout",
     "output_type": "stream",
     "text": [
      "Exiting\n'posts: 11'\nPROGRESS: 0% (45/11783)\nu'[Undead and their horses...] (/forums/en/wow/topic/17614513689)'\n"
     ]
    },
    {
     "name": "stdout",
     "output_type": "stream",
     "text": [
      "Exiting\n'posts: 4'\nPROGRESS: 0% (46/11783)\nu'[Frost DK worst artifact traits?] (/forums/en/wow/topic/17614423351)'\n"
     ]
    },
    {
     "name": "stdout",
     "output_type": "stream",
     "text": [
      "Exiting\n'posts: 5'\nPROGRESS: 0% (47/11783)\nu'[Your thoughts on Un/frost Dk pve] (/forums/en/wow/topic/17614551573)'\n"
     ]
    },
    {
     "name": "stdout",
     "output_type": "stream",
     "text": [
      "Exiting\n'posts: 18'\nPROGRESS: 0% (48/11783)\nu'[DK needs a nerf in PvE] (/forums/en/wow/topic/17614502826)'\n"
     ]
    },
    {
     "name": "stdout",
     "output_type": "stream",
     "text": [
      "Exiting\n'posts: 15'\nPROGRESS: 0% (49/11783)\nu'[Hidden artifact Skin!] (/forums/en/wow/topic/17614503548)'\n"
     ]
    },
    {
     "name": "stdout",
     "output_type": "stream",
     "text": [
      "Exiting\n'posts: 16'\nPROGRESS: 0% (50/11783)\nu'[Frost Trinkets] (/forums/en/wow/topic/17614483378)'\n"
     ]
    },
    {
     "name": "stdout",
     "output_type": "stream",
     "text": [
      "Exiting\n'posts: 4'\nPROGRESS: 0% (51/11783)\nu'[Frost and Unholy hidden artifact appearances] (/forums/en/wow/topic/17613351739)'\n"
     ]
    },
    {
     "name": "stdout",
     "output_type": "stream",
     "text": [
      "HTTPError = 404\nHTTPError = 404\n"
     ]
    },
    {
     "name": "stdout",
     "output_type": "stream",
     "text": [
      "Exiting\n'posts: 74'\nPROGRESS: 0% (52/11783)\nu'[Runes of the darkening - hidden effect] (/forums/en/wow/topic/17614493345)'\n"
     ]
    },
    {
     "name": "stdout",
     "output_type": "stream",
     "text": [
      "Exiting\n'posts: 2'\nPROGRESS: 0% (53/11783)\nu'[Is there a reason for AOTD 10 min CD?] (/forums/en/wow/topic/17614302753)'\n"
     ]
    },
    {
     "name": "stdout",
     "output_type": "stream",
     "text": [
      "Exiting\n'posts: 26'\nPROGRESS: 0% (54/11783)\nu'[Runes of Darkening] (/forums/en/wow/topic/17613392894)'\n"
     ]
    },
    {
     "name": "stdout",
     "output_type": "stream",
     "text": [
      "Exiting\n'posts: 11'\nPROGRESS: 0% (55/11783)\nu'[Coolest looking dk around?] (/forums/en/wow/topic/17614371688)'\n"
     ]
    },
    {
     "name": "stdout",
     "output_type": "stream",
     "text": [
      "Exiting\n'posts: 33'\nPROGRESS: 0% (56/11783)\nu'[7.1.5 notes] (/forums/en/wow/topic/17614451287)'\n"
     ]
    },
    {
     "name": "stdout",
     "output_type": "stream",
     "text": [
      "Exiting\n'posts: 18'\nPROGRESS: 0% (57/11783)\nu'[Unholy DK: any heavy Mastery build around?] (/forums/en/wow/topic/17614493132)'\n"
     ]
    },
    {
     "name": "stdout",
     "output_type": "stream",
     "text": [
      "Exiting\n'posts: 9'\nPROGRESS: 0% (58/11783)\nu'[low dps help] (/forums/en/wow/topic/17613772990)'\n"
     ]
    },
    {
     "name": "stdout",
     "output_type": "stream",
     "text": [
      "Exiting\n'posts: 21'\nPROGRESS: 0% (59/11783)\nu\"[Sindragosa's fury has 5 min CD WW monk spell 40s] (/forums/en/wow/topic/17613531201)\"\n"
     ]
    },
    {
     "name": "stdout",
     "output_type": "stream",
     "text": [
      "Exiting\n'posts: 26'\nPROGRESS: 0% (60/11783)\nu'[Abomination bigger???] (/forums/en/wow/topic/17614451859)'\n"
     ]
    },
    {
     "name": "stdout",
     "output_type": "stream",
     "text": [
      "Exiting\n'posts: 6'\nPROGRESS: 0% (61/11783)\nu'[Playing a DK is just depressing] (/forums/en/wow/topic/17614412592)'\n"
     ]
    },
    {
     "name": "stdout",
     "output_type": "stream",
     "text": [
      "Exiting\n'posts: 16'\nPROGRESS: 0% (62/11783)\nu'[Presences] (/forums/en/wow/topic/17614542041)'\n"
     ]
    },
    {
     "name": "stdout",
     "output_type": "stream",
     "text": [
      "Exiting\n'posts: 4'\nPROGRESS: 0% (63/11783)\nu'[Global cooldown] (/forums/en/wow/topic/17614551922)'\n"
     ]
    },
    {
     "name": "stdout",
     "output_type": "stream",
     "text": [
      "Exiting\n'posts: 12'\nPROGRESS: 0% (64/11783)\nu'[Uh buff? Nah lets nerf legendary instead] (/forums/en/wow/topic/17614332000)'\n"
     ]
    },
    {
     "name": "stdout",
     "output_type": "stream",
     "text": [
      "HTTPError = 404\n"
     ]
    },
    {
     "name": "stdout",
     "output_type": "stream",
     "text": [
      "Exiting\n'posts: 62'\nPROGRESS: 0% (65/11783)\nu'[Stat weights] (/forums/en/wow/topic/17614542363)'\n"
     ]
    },
    {
     "name": "stdout",
     "output_type": "stream",
     "text": [
      "Exiting\n'posts: 3'\nPROGRESS: 0% (66/11783)\nu'[New spell] (/forums/en/wow/topic/17614432334)'\n"
     ]
    },
    {
     "name": "stdout",
     "output_type": "stream",
     "text": [
      "Exiting\n'posts: 14'\nPROGRESS: 0% (67/11783)\nu'[GAMEBREAKING - Death Grip BUG require Immediate action] (/forums/en/wow/topic/17614413012)'\n"
     ]
    },
    {
     "name": "stdout",
     "output_type": "stream",
     "text": [
      "Exiting\n'posts: 17'\nPROGRESS: 0% (68/11783)\nu\"[Frost Death Knights's Legendary Helm] (/forums/en/wow/topic/17613702610)\"\n"
     ]
    },
    {
     "name": "stdout",
     "output_type": "stream",
     "text": [
      "Exiting\n'posts: 21'\nPROGRESS: 0% (69/11783)\nu'[Unholy and blood pvp] (/forums/en/wow/topic/17614422354)'\n"
     ]
    },
    {
     "name": "stdout",
     "output_type": "stream",
     "text": [
      "Exiting\n'posts: 5'\nPROGRESS: 0% (70/11783)\nu\"[Time to get serious: Let's have a talk about DK's (PvP)] (/forums/en/wow/topic/17614312748)\"\n"
     ]
    },
    {
     "name": "stdout",
     "output_type": "stream",
     "text": [
      "Exiting\n'posts: 25'\nPROGRESS: 0% (71/11783)\nu'[Blood DK pvp] (/forums/en/wow/topic/17614371703)'\n"
     ]
    },
    {
     "name": "stdout",
     "output_type": "stream",
     "text": [
      "Exiting\n'posts: 17'\nPROGRESS: 0% (72/11783)\nu'[7.1.5 PTR] (/forums/en/wow/topic/17614551612)'\n"
     ]
    },
    {
     "name": "stdout",
     "output_type": "stream",
     "text": [
      "Exiting\n'posts: 6'\nPROGRESS: 0% (73/11783)\nu'[What spec feels more smooth?] (/forums/en/wow/topic/17614422422)'\n"
     ]
    },
    {
     "name": "stdout",
     "output_type": "stream",
     "text": [
      "Exiting\n'posts: 11'\nPROGRESS: 0% (74/11783)\nu'[WORLD FIRST FROST DK WITH HIDDEN SKIN?] (/forums/en/wow/topic/17614492086)'\n"
     ]
    },
    {
     "name": "stdout",
     "output_type": "stream",
     "text": [
      "[Errno 10054] An existing connection was forcibly closed by the remote host\n"
     ]
    },
    {
     "name": "stdout",
     "output_type": "stream",
     "text": [
      "Exiting\n'posts: 5'\nPROGRESS: 0% (75/11783)\nu'[Best race for dk in legion?] (/forums/en/wow/topic/17612361359)'\n"
     ]
    },
    {
     "name": "stdout",
     "output_type": "stream",
     "text": [
      "Exiting\n'posts: 29'\nPROGRESS: 0% (76/11783)\nu'[Memorial for the Death Knight class] (/forums/en/wow/topic/17614541739)'\n"
     ]
    },
    {
     "name": "stdout",
     "output_type": "stream",
     "text": [
      "Exiting\n'posts: 7'\nPROGRESS: 0% (77/11783)\nu'[7.1.5 Blood DK] (/forums/en/wow/topic/17614492469)'\n"
     ]
    },
    {
     "name": "stdout",
     "output_type": "stream",
     "text": [
      "HTTPError = 404\n"
     ]
    },
    {
     "name": "stdout",
     "output_type": "stream",
     "text": [
      "Exiting\n'posts: 2'\nPROGRESS: 0% (78/11783)\nu'[Best transmog set for...] (/forums/en/wow/topic/17614541615)'\n"
     ]
    },
    {
     "name": "stdout",
     "output_type": "stream",
     "text": [
      "[Errno 10054] An existing connection was forcibly closed by the remote host\n"
     ]
    },
    {
     "name": "stdout",
     "output_type": "stream",
     "text": [
      "Exiting\n'posts: 3'\nPROGRESS: 0% (79/11783)\nu'[Dk unholy or frost for pve ( mythic + )] (/forums/en/wow/topic/17614492423)'\nHTTPError = 404\n"
     ]
    },
    {
     "name": "stdout",
     "output_type": "stream",
     "text": [
      "Exiting\n'posts: 4'\nPROGRESS: 0% (80/11783)\nu'[T19 Frost DK Set Bonuses] (/forums/en/wow/topic/17614512462)'\n"
     ]
    },
    {
     "name": "stdout",
     "output_type": "stream",
     "text": [
      "Exiting\n'posts: 4'\nPROGRESS: 0% (81/11783)\nu'[Oblideration talent] (/forums/en/wow/topic/17614412253)'\n"
     ]
    },
    {
     "name": "stdout",
     "output_type": "stream",
     "text": [
      "Exiting\n'posts: 9'\nPROGRESS: 0% (82/11783)\nu'[Blood artifact tree suggestion] (/forums/en/wow/topic/17614462201)'\n"
     ]
    },
    {
     "name": "stdout",
     "output_type": "stream",
     "text": [
      "Exiting\n'posts: 5'\nPROGRESS: 0% (83/11783)\nu'[blizz messed up agian] (/forums/en/wow/topic/17614412221)'\n"
     ]
    },
    {
     "name": "stdout",
     "output_type": "stream",
     "text": [
      "Exiting\n'posts: 5'\nPROGRESS: 0% (84/11783)\nu'[Pet class] (/forums/en/wow/topic/17614472279)'\n"
     ]
    },
    {
     "name": "stdout",
     "output_type": "stream",
     "text": [
      "Exiting\n'posts: 2'\nPROGRESS: 0% (85/11783)\nu'[Why Dk Dont Get Any New Talents] (/forums/en/wow/topic/17614461715)'\n"
     ]
    },
    {
     "name": "stdout",
     "output_type": "stream",
     "text": [
      "Exiting\n'posts: 12'\nPROGRESS: 0% (86/11783)\nu'[BDK Odyn Spear] (/forums/en/wow/topic/17614311679)'\n"
     ]
    },
    {
     "name": "stdout",
     "output_type": "stream",
     "text": [
      "Exiting\n'posts: 13'\nPROGRESS: 0% (87/11783)\nu'[Unholy dk pvp] (/forums/en/wow/topic/17614482120)'\n"
     ]
    },
    {
     "name": "stdout",
     "output_type": "stream",
     "text": [
      "Exiting\n'posts: 6'\nPROGRESS: 0% (88/11783)\nu'[UH PvP - Could use some good advice! :)] (/forums/en/wow/topic/17614292576)'\n"
     ]
    },
    {
     "name": "stdout",
     "output_type": "stream",
     "text": [
      "Exiting\n'posts: 8'\nPROGRESS: 0% (89/11783)\nu'[frost strength nerfed by 25%?] (/forums/en/wow/topic/17614511532)'\n"
     ]
    },
    {
     "name": "stdout",
     "output_type": "stream",
     "text": [
      "Exiting\n'posts: 25'\nPROGRESS: 0% (90/11783)\nu'[Is Shambler Bugged?] (/forums/en/wow/topic/17614282752)'\n"
     ]
    },
    {
     "name": "stdout",
     "output_type": "stream",
     "text": [
      "Exiting\n'posts: 9'\nPROGRESS: 0% (91/11783)\nu'[Keep pet on boss] (/forums/en/wow/topic/17614512144)'\n"
     ]
    },
    {
     "name": "stdout",
     "output_type": "stream",
     "text": [
      "Exiting\n'posts: 8'\nPROGRESS: 0% (92/11783)\nu'[Blood] (/forums/en/wow/topic/17614432276)'\n"
     ]
    },
    {
     "name": "stdout",
     "output_type": "stream",
     "text": [
      "[Errno 10054] An existing connection was forcibly closed by the remote host\n"
     ]
    },
    {
     "name": "stdout",
     "output_type": "stream",
     "text": [
      "HTTPError = 404\n"
     ]
    },
    {
     "name": "stdout",
     "output_type": "stream",
     "text": [
      "Exiting\n'posts: 3'\nPROGRESS: 0% (93/11783)\nu'[Perseverance of the Ebon Martyr, make it viable?] (/forums/en/wow/topic/17614241348)'\n"
     ]
    },
    {
     "name": "stdout",
     "output_type": "stream",
     "text": [
      "Exiting\n'posts: 4'\nPROGRESS: 0% (94/11783)\nu'[Need Help - Frost or Unholy.] (/forums/en/wow/topic/17614402085)'\n"
     ]
    },
    {
     "name": "stdout",
     "output_type": "stream",
     "text": [
      "Exiting\n'posts: 5'\nPROGRESS: 0% (95/11783)\nu'[Please change Perseverance of the Ebon Martyr 7.1.5] (/forums/en/wow/topic/17614402127)'\n"
     ]
    },
    {
     "name": "stdout",
     "output_type": "stream",
     "text": [
      "Exiting\n'posts: 8'\nPROGRESS: 0% (96/11783)\nu'[Enchants and gems] (/forums/en/wow/topic/17614472190)'\n"
     ]
    },
    {
     "name": "stdout",
     "output_type": "stream",
     "text": [
      "Exiting\n'posts: 2'\nPROGRESS: 0% (97/11783)\nu'[Perseverance of the Ebon Martyr in 7.1.5] (/forums/en/wow/topic/17614412159)'\n"
     ]
    },
    {
     "name": "stdout",
     "output_type": "stream",
     "text": [
      "Exiting\n'posts: 1'\nPROGRESS: 0% (98/11783)\nu'[What is this?] (/forums/en/wow/topic/17614491427)'\n"
     ]
    },
    {
     "name": "stdout",
     "output_type": "stream",
     "text": [
      "Exiting\n'posts: 9'\nPROGRESS: 0% (99/11783)\nu'[How is Blood DK atm?] (/forums/en/wow/topic/17614461322)'\n"
     ]
    },
    {
     "name": "stdout",
     "output_type": "stream",
     "text": [
      "Exiting\n'posts: 11'\nPROGRESS: 0% (100/11783)\nu'[What stats to consider] (/forums/en/wow/topic/17614411931)'\n"
     ]
    },
    {
     "name": "stdout",
     "output_type": "stream",
     "text": [
      "Exiting\n'posts: 2'\nPROGRESS: 0% (101/11783)\nu'[Blood in pvp] (/forums/en/wow/topic/17614372880)'\n"
     ]
    },
    {
     "name": "stdout",
     "output_type": "stream",
     "text": [
      "[Errno 10054] An existing connection was forcibly closed by the remote host\n"
     ]
    },
    {
     "name": "stdout",
     "output_type": "stream",
     "text": [
      "Exiting\n'posts: 13'\nPROGRESS: 0% (102/11783)\nu'[Breath of sindragosa return ??] (/forums/en/wow/topic/17614502003)'\n"
     ]
    },
    {
     "name": "stdout",
     "output_type": "stream",
     "text": [
      "Exiting\n'posts: 4'\nPROGRESS: 0% (103/11783)\nu'[Corpse Explosion, why was it removed?] (/forums/en/wow/topic/2504842702)'\n"
     ]
    },
    {
     "name": "stdout",
     "output_type": "stream",
     "text": [
      "Exiting\n'posts: 23'\nPROGRESS: 0% (104/11783)\nu'[Whisp me when u buff dk] (/forums/en/wow/topic/17614401656)'\n"
     ]
    },
    {
     "name": "stdout",
     "output_type": "stream",
     "text": [
      "Exiting\n'posts: 7'\nPROGRESS: 0% (105/11783)\nu'[Small hidden error or bug] (/forums/en/wow/topic/17614471842)'\n"
     ]
    },
    {
     "name": "stdout",
     "output_type": "stream",
     "text": [
      "[Errno 10054] An existing connection was forcibly closed by the remote host\n"
     ]
    },
    {
     "name": "stdout",
     "output_type": "stream",
     "text": [
      "Exiting\n'posts: 1'\nPROGRESS: 0% (106/11783)\nu'[Glacial advance animation] (/forums/en/wow/topic/17614352765)'\n"
     ]
    },
    {
     "name": "stdout",
     "output_type": "stream",
     "text": [
      "Exiting\n'posts: 4'\nPROGRESS: 0% (107/11783)\nu'[Hidden Skins] (/forums/en/wow/topic/17614401614)'\n"
     ]
    },
    {
     "name": "stdout",
     "output_type": "stream",
     "text": [
      "Exiting\n'posts: 5'\nPROGRESS: 0% (108/11783)\nu'[Why dks have artifacts?Nerf it plese] (/forums/en/wow/topic/17614421690)'\n"
     ]
    },
    {
     "name": "stdout",
     "output_type": "stream",
     "text": [
      "Exiting\n'posts: 5'\nPROGRESS: 0% (109/11783)\nu'[Blizzard slowly executing DKs.] (/forums/en/wow/topic/17614311921)'\n"
     ]
    },
    {
     "name": "stdout",
     "output_type": "stream",
     "text": [
      "Exiting\n'posts: 71'\nPROGRESS: 0% (110/11783)\nu'[- 10% to all classes or nothing happen] (/forums/en/wow/topic/17614461709)'\n"
     ]
    },
    {
     "name": "stdout",
     "output_type": "stream",
     "text": [
      "Exiting\n'posts: 1'\nPROGRESS: 0% (111/11783)\nu\"[those developer's notes] (/forums/en/wow/topic/17614352699)\"\n"
     ]
    },
    {
     "name": "stdout",
     "output_type": "stream",
     "text": [
      "Exiting\n'posts: 25'\nPROGRESS: 0% (112/11783)\nu'[DK Specs in PvP] (/forums/en/wow/topic/17614471646)'\n"
     ]
    },
    {
     "name": "stdout",
     "output_type": "stream",
     "text": [
      "Exiting\n'posts: 1'\nPROGRESS: 0% (113/11783)\nu'[Why did frost get nerf?] (/forums/en/wow/topic/17614372903)'\n"
     ]
    },
    {
     "name": "stdout",
     "output_type": "stream",
     "text": [
      "Exiting\n'posts: 12'\nPROGRESS: 0% (114/11783)\nu'[Frost DK PvP? Good?] (/forums/en/wow/topic/17614282603)'\n"
     ]
    },
    {
     "name": "stdout",
     "output_type": "stream",
     "text": [
      "Exiting\n'posts: 8'\nPROGRESS: 0% (115/11783)\nu'[Blood DK Stat Priority / Weights] (/forums/en/wow/topic/17614392065)'\n"
     ]
    },
    {
     "name": "stdout",
     "output_type": "stream",
     "text": [
      "[Errno 10054] An existing connection was forcibly closed by the remote host\n"
     ]
    },
    {
     "name": "stdout",
     "output_type": "stream",
     "text": [
      "Exiting\n'posts: 10'\nPROGRESS: 0% (116/11783)\nu\"[Sindragosa's Fury - Cooldown] (/forums/en/wow/topic/17614421548)\"\n"
     ]
    },
    {
     "name": "stdout",
     "output_type": "stream",
     "text": [
      "Exiting\n'posts: 1'\nPROGRESS: 0% (117/11783)\nu'[Help with switching to Frost] (/forums/en/wow/topic/17614332706)'\n"
     ]
    },
    {
     "name": "stdout",
     "output_type": "stream",
     "text": [
      "Exiting\n'posts: 5'\nPROGRESS: 1% (118/11783)\nu'[Stat question...] (/forums/en/wow/topic/17614511306)'\n"
     ]
    },
    {
     "name": "stdout",
     "output_type": "stream",
     "text": [
      "Exiting\n'posts: 1'\nPROGRESS: 1% (119/11783)\nu'[Remorseless Winter doesnt work] (/forums/en/wow/topic/17614392636)'\n"
     ]
    },
    {
     "name": "stdout",
     "output_type": "stream",
     "text": [
      "Exiting\n'posts: 2'\nPROGRESS: 1% (120/11783)\nu'[Suggestions for unholy - 7.1.5 and beyond] (/forums/en/wow/topic/17614352366)'\n"
     ]
    },
    {
     "name": "stdout",
     "output_type": "stream",
     "text": [
      "Exiting\n'posts: 17'\nPROGRESS: 1% (121/11783)\nu'[You know you got bored of WoW when...] (/forums/en/wow/topic/17614282602)'\n"
     ]
    },
    {
     "name": "stdout",
     "output_type": "stream",
     "text": [
      "Exiting\n'posts: 6'\nPROGRESS: 1% (122/11783)\nu'[Help with Addons] (/forums/en/wow/topic/17614292543)'\n"
     ]
    },
    {
     "name": "stdout",
     "output_type": "stream",
     "text": [
      "Exiting\n'posts: 2'\nPROGRESS: 1% (123/11783)\nu'[Looking for Blood] (/forums/en/wow/topic/17614292303)'\n"
     ]
    },
    {
     "name": "stdout",
     "output_type": "stream",
     "text": [
      "[Errno 10054] An existing connection was forcibly closed by the remote host\n"
     ]
    },
    {
     "name": "stdout",
     "output_type": "stream",
     "text": [
      "Exiting\n'posts: 2'\nPROGRESS: 1% (124/11783)\nu'[Frost vs Unholy for Mythic +] (/forums/en/wow/topic/17614042121)'\n"
     ]
    },
    {
     "name": "stdout",
     "output_type": "stream",
     "text": [
      "Exiting\n'posts: 13'\nPROGRESS: 1% (125/11783)\nu'[Double Doom, Why? :|] (/forums/en/wow/topic/17614382464)'\n"
     ]
    },
    {
     "name": "stdout",
     "output_type": "stream",
     "text": [
      "Exiting\n'posts: 5'\nPROGRESS: 1% (126/11783)\nu\"[IDEA Thread:  Blood DK's Please Share] (/forums/en/wow/topic/17613453482)\"\n"
     ]
    },
    {
     "name": "stdout",
     "output_type": "stream",
     "text": [
      "[Errno 10054] An existing connection was forcibly closed by the remote host\n"
     ]
    },
    {
     "name": "stdout",
     "output_type": "stream",
     "text": [
      "Exiting\n'posts: 14'\nPROGRESS: 1% (127/11783)\nu'[Making Blood great again (talent redesign).] (/forums/en/wow/topic/17614261943)'\n"
     ]
    },
    {
     "name": "stdout",
     "output_type": "stream",
     "text": [
      "[Errno 10054] An existing connection was forcibly closed by the remote host\n"
     ]
    },
    {
     "name": "stdout",
     "output_type": "stream",
     "text": [
      "Exiting\n'posts: 30'\nPROGRESS: 1% (128/11783)\nu'[Aoe or single target unholy] (/forums/en/wow/topic/17614332426)'\n"
     ]
    },
    {
     "name": "stdout",
     "output_type": "stream",
     "text": [
      "Exiting\n'posts: 8'\nPROGRESS: 1% (129/11783)\nu'[Suggestion: QoL frost relic change] (/forums/en/wow/topic/17614332299)'\n"
     ]
    },
    {
     "name": "stdout",
     "output_type": "stream",
     "text": [
      "Exiting\n'posts: 4'\nPROGRESS: 1% (130/11783)\nu'[One Blood and one UH question] (/forums/en/wow/topic/17614372524)'\n"
     ]
    },
    {
     "name": "stdout",
     "output_type": "stream",
     "text": [
      "[Errno 10054] An existing connection was forcibly closed by the remote host\n"
     ]
    },
    {
     "name": "stdout",
     "output_type": "stream",
     "text": [
      "Exiting\n'posts: 9'\nPROGRESS: 1% (131/11783)\nu'[UH or Frost DK for the future?] (/forums/en/wow/topic/17614382182)'\n"
     ]
    },
    {
     "name": "stdout",
     "output_type": "stream",
     "text": [
      "Exiting\n'posts: 10'\nPROGRESS: 1% (132/11783)\nu'[Empower Rune Weapon is missing] (/forums/en/wow/topic/17614342301)'\n"
     ]
    },
    {
     "name": "stdout",
     "output_type": "stream",
     "text": [
      "Exiting\n'posts: 8'\nPROGRESS: 1% (133/11783)\nu'[DK Countdown] (/forums/en/wow/topic/17614332334)'\n"
     ]
    },
    {
     "name": "stdout",
     "output_type": "stream",
     "text": [
      "Exiting\n'posts: 6'\nPROGRESS: 1% (134/11783)\nu'[DK - Make it a GM class] (/forums/en/wow/topic/17614292190)'\n"
     ]
    },
    {
     "name": "stdout",
     "output_type": "stream",
     "text": [
      "Exiting\n'posts: 12'\nPROGRESS: 1% (135/11783)\nu'[unholy death knight hidden artifact appearance] (/forums/en/wow/topic/17614312398)'\n"
     ]
    },
    {
     "name": "stdout",
     "output_type": "stream",
     "text": [
      "Exiting\n'posts: 4'\nPROGRESS: 1% (136/11783)\nu'[Control Undead] (/forums/en/wow/topic/17614322260)'\n"
     ]
    },
    {
     "name": "stdout",
     "output_type": "stream",
     "text": [
      "Exiting\n'posts: 6'\nPROGRESS: 1% (137/11783)\nu'[Blinding Sheet] (/forums/en/wow/topic/17614341915)'\n"
     ]
    },
    {
     "name": "stdout",
     "output_type": "stream",
     "text": [
      "Exiting\n'posts: 3'\nPROGRESS: 1% (138/11783)\nu'[Its time to Revert Sindragosa Pvp Nerf] (/forums/en/wow/topic/17614341693)'\n"
     ]
    },
    {
     "name": "stdout",
     "output_type": "stream",
     "text": [
      "Exiting\n'posts: 17'\nPROGRESS: 1% (139/11783)\nu'[Offcial DK Petition] (/forums/en/wow/topic/17613782673)'\n"
     ]
    },
    {
     "name": "stdout",
     "output_type": "stream",
     "text": [
      "[Errno 10054] An existing connection was forcibly closed by the remote host\n"
     ]
    },
    {
     "name": "stdout",
     "output_type": "stream",
     "text": [
      "HTTPError = 404\n"
     ]
    },
    {
     "name": "stdout",
     "output_type": "stream",
     "text": [
      "Exiting\n'posts: 486'\nPROGRESS: 1% (140/11783)\nu'[I am getting sick of this] (/forums/en/wow/topic/17614312230)'\n"
     ]
    },
    {
     "name": "stdout",
     "output_type": "stream",
     "text": [
      "Exiting\n'posts: 12'\nPROGRESS: 1% (141/11783)\nu'[The problem with Unholy...RNG] (/forums/en/wow/topic/17614332219)'\n"
     ]
    },
    {
     "name": "stdout",
     "output_type": "stream",
     "text": [
      "Exiting\n'posts: 4'\nPROGRESS: 1% (142/11783)\nu'[Blood DK talent choices in higher M+] (/forums/en/wow/topic/17614201299)'\n"
     ]
    },
    {
     "name": "stdout",
     "output_type": "stream",
     "text": [
      "Exiting\n'posts: 8'\nPROGRESS: 1% (143/11783)\nu'[[!] Class Hall Campaign bugged] (/forums/en/wow/topic/17613292306)'\n"
     ]
    },
    {
     "name": "stdout",
     "output_type": "stream",
     "text": [
      "Exiting\n'posts: 35'\nPROGRESS: 1% (144/11783)\nu'[Why do blizzard hate unholy DK?] (/forums/en/wow/topic/17614071313)'\n"
     ]
    },
    {
     "name": "stdout",
     "output_type": "stream",
     "text": [
      "Exiting\n'posts: 23'\nPROGRESS: 1% (145/11783)\nu'[Can someone explain] (/forums/en/wow/topic/17614351665)'\n"
     ]
    },
    {
     "name": "stdout",
     "output_type": "stream",
     "text": [
      "Exiting\n'posts: 5'\nPROGRESS: 1% (146/11783)\nu'[More Runes for runeforging] (/forums/en/wow/topic/17614331939)'\n"
     ]
    },
    {
     "name": "stdout",
     "output_type": "stream",
     "text": [
      "Exiting\n'posts: 2'\nPROGRESS: 1% (147/11783)\nu'[Death Knight Mobility] (/forums/en/wow/topic/17614291624)'\n"
     ]
    },
    {
     "name": "stdout",
     "output_type": "stream",
     "text": [
      "Exiting\n'posts: 4'\nPROGRESS: 1% (148/11783)\nu\"[Question for PvP DK's] (/forums/en/wow/topic/17614312175)\"\n"
     ]
    },
    {
     "name": "stdout",
     "output_type": "stream",
     "text": [
      "Exiting\n'posts: 2'\nPROGRESS: 1% (149/11783)\nu'[5 min CD for 500k damage] (/forums/en/wow/topic/17614352163)'\n"
     ]
    },
    {
     "name": "stdout",
     "output_type": "stream",
     "text": [
      "Exiting\n'posts: 5'\nPROGRESS: 1% (150/11783)\nu'[Frost: Obliteration in PvP] (/forums/en/wow/topic/17614331436)'\n"
     ]
    },
    {
     "name": "stdout",
     "output_type": "stream",
     "text": [
      "HTTPError = 404\n"
     ]
    },
    {
     "name": "stdout",
     "output_type": "stream",
     "text": [
      "Exiting\n'posts: 2'\nPROGRESS: 1% (151/11783)\nu'[Lichborne or Desecrated Ground] (/forums/en/wow/topic/17614351658)'\n"
     ]
    },
    {
     "name": "stdout",
     "output_type": "stream",
     "text": [
      "Exiting\n'posts: 3'\nPROGRESS: 1% (152/11783)\nu'[Blood stats] (/forums/en/wow/topic/17614302059)'\n"
     ]
    },
    {
     "name": "stdout",
     "output_type": "stream",
     "text": [
      "Exiting\n'posts: 6'\nPROGRESS: 1% (153/11783)\nu'[transmog] (/forums/en/wow/topic/17614391698)'\n"
     ]
    },
    {
     "name": "stdout",
     "output_type": "stream",
     "text": [
      "Exiting\n'posts: 2'\nPROGRESS: 1% (154/11783)\nu'[Missing My Runeforging] (/forums/en/wow/topic/17614121330)'\n"
     ]
    },
    {
     "name": "stdout",
     "output_type": "stream",
     "text": [
      "[Errno 10054] An existing connection was forcibly closed by the remote host\n"
     ]
    },
    {
     "name": "stdout",
     "output_type": "stream",
     "text": [
      "Exiting\n'posts: 7'\nPROGRESS: 1% (155/11783)\nu'[Why?] (/forums/en/wow/topic/17614102175)'\n"
     ]
    },
    {
     "name": "stdout",
     "output_type": "stream",
     "text": [
      "[Errno 10054] An existing connection was forcibly closed by the remote host\nHTTPError = 404\n"
     ]
    },
    {
     "name": "stdout",
     "output_type": "stream",
     "text": [
      "Exiting\n'posts: 6'\nPROGRESS: 1% (156/11783)\nu'[It was made the pvp nerf ?] (/forums/en/wow/topic/17614261889)'\n"
     ]
    },
    {
     "name": "stdout",
     "output_type": "stream",
     "text": [
      "Exiting\n'posts: 3'\nPROGRESS: 1% (157/11783)\nu'[RNG and bad character choice.] (/forums/en/wow/topic/17614381671)'\n"
     ]
    },
    {
     "name": "stdout",
     "output_type": "stream",
     "text": [
      "Exiting\n'posts: 3'\nPROGRESS: 1% (158/11783)\nu'[New Blood DK Artifact Skin] (/forums/en/wow/topic/17614071830)'\n"
     ]
    },
    {
     "name": "stdout",
     "output_type": "stream",
     "text": [
      "Exiting\n'posts: 15'\nPROGRESS: 1% (159/11783)\nu'[Frost Dk help with stats please] (/forums/en/wow/topic/17614371917)'\n"
     ]
    },
    {
     "name": "stdout",
     "output_type": "stream",
     "text": [
      "Exiting\n'posts: 3'\nPROGRESS: 1% (160/11783)\nu'[Frost starter rotation] (/forums/en/wow/topic/17614331889)'\n"
     ]
    },
    {
     "name": "stdout",
     "output_type": "stream",
     "text": [
      "Exiting\n'posts: 4'\nPROGRESS: 1% (161/11783)\nu'[Tank or DPS?] (/forums/en/wow/topic/17614072244)'\n"
     ]
    },
    {
     "name": "stdout",
     "output_type": "stream",
     "text": [
      "Exiting\n'posts: 4'\nPROGRESS: 1% (162/11783)\nu'[Blood artifact weapon and how I suck.] (/forums/en/wow/topic/17614092138)'\n"
     ]
    },
    {
     "name": "stdout",
     "output_type": "stream",
     "text": [
      "Exiting\n'posts: 21'\nPROGRESS: 1% (163/11783)\nu'[Just fix Wraithwalk already, please!] (/forums/en/wow/topic/17614271426)'\n"
     ]
    },
    {
     "name": "stdout",
     "output_type": "stream",
     "text": [
      "Exiting\n'posts: 4'\nPROGRESS: 1% (164/11783)\nu'[Frost DK After \"little\" Buff?] (/forums/en/wow/topic/17614081745)'\n"
     ]
    },
    {
     "name": "stdout",
     "output_type": "stream",
     "text": [
      "Exiting\n'posts: 6'\nPROGRESS: 1% (165/11783)\nu'[Unholy Death Knight problems] (/forums/en/wow/topic/17614061688)'\n"
     ]
    },
    {
     "name": "stdout",
     "output_type": "stream",
     "text": [
      "Exiting\n'posts: 13'\nPROGRESS: 1% (166/11783)\nu\"[Toravon's bindings] (/forums/en/wow/topic/17614331406)\"\n"
     ]
    },
    {
     "name": "stdout",
     "output_type": "stream",
     "text": [
      "Exiting\n'posts: 5'\nPROGRESS: 1% (167/11783)\nu'[Frost DK haste bug on armory?] (/forums/en/wow/topic/17613765598)'\n"
     ]
    },
    {
     "name": "stdout",
     "output_type": "stream",
     "text": [
      "Exiting\n'posts: 5'\nPROGRESS: 1% (168/11783)\nu'[Which spec is better in 7.1 ? (Frost or Unholy)] (/forums/en/wow/topic/17613705086)'\n"
     ]
    },
    {
     "name": "stdout",
     "output_type": "stream",
     "text": [
      "HTTPError = 404\n"
     ]
    },
    {
     "name": "stdout",
     "output_type": "stream",
     "text": [
      "Exiting\n'posts: 21'\nPROGRESS: 1% (169/11783)\nu'[Frost DK haste question] (/forums/en/wow/topic/17614241360)'\n"
     ]
    },
    {
     "name": "stdout",
     "output_type": "stream",
     "text": [
      "[Errno 10054] An existing connection was forcibly closed by the remote host\n"
     ]
    },
    {
     "name": "stdout",
     "output_type": "stream",
     "text": [
      "Exiting\n'posts: 3'\nPROGRESS: 1% (170/11783)\nu'[PvP damage reduction on random skills] (/forums/en/wow/topic/17614301481)'\n"
     ]
    },
    {
     "name": "stdout",
     "output_type": "stream",
     "text": [
      "Exiting\n'posts: 1'\nPROGRESS: 1% (171/11783)\nu'[If you could Balance your Spec...?] (/forums/en/wow/topic/17614052060)'\nHTTPError = 404\n"
     ]
    },
    {
     "name": "stdout",
     "output_type": "stream",
     "text": [
      "Exiting\n'posts: 14'\nPROGRESS: 1% (172/11783)\nu'[Frost: Obliteration in PvP] (/forums/en/wow/topic/17614331435)'\n"
     ]
    },
    {
     "name": "stdout",
     "output_type": "stream",
     "text": [
      "Exiting\n'posts: 2'\nPROGRESS: 1% (173/11783)\nu'[[BUG]Gathering Storm vs Legendaries, Frozen Soul etc..] (/forums/en/wow/topic/17614331429)'\n"
     ]
    },
    {
     "name": "stdout",
     "output_type": "stream",
     "text": [
      "Exiting\n'posts: 1'\nPROGRESS: 1% (174/11783)\nu'[Please do I need a Glyph] (/forums/en/wow/topic/17614161321)'\n"
     ]
    },
    {
     "name": "stdout",
     "output_type": "stream",
     "text": [
      "Exiting\n'posts: 3'\nPROGRESS: 1% (175/11783)\nu'[Legendary + viable talents (frost DK)] (/forums/en/wow/topic/17614051320)'\n"
     ]
    },
    {
     "name": "stdout",
     "output_type": "stream",
     "text": [
      "HTTPError = 404\n"
     ]
    },
    {
     "name": "stdout",
     "output_type": "stream",
     "text": [
      "Exiting\n'posts: 12'\nPROGRESS: 1% (176/11783)\nu'[Frost DK stat priorities] (/forums/en/wow/topic/17613755508)'\n"
     ]
    },
    {
     "name": "stdout",
     "output_type": "stream",
     "text": [
      "Exiting\n'posts: 10'\nPROGRESS: 1% (177/11783)\nu'[Frost DK in arena Survivability] (/forums/en/wow/topic/17614122038)'\n"
     ]
    },
    {
     "name": "stdout",
     "output_type": "stream",
     "text": [
      "Exiting\n'posts: 2'\nPROGRESS: 1% (178/11783)\nu'[Patch of Frost was nerfed in Legion] (/forums/en/wow/topic/17614101806)'\n"
     ]
    },
    {
     "name": "stdout",
     "output_type": "stream",
     "text": [
      "Exiting\n'posts: 8'\nPROGRESS: 1% (179/11783)\nu'[Class campaig issue] (/forums/en/wow/topic/17614171249)'\n"
     ]
    },
    {
     "name": "stdout",
     "output_type": "stream",
     "text": [
      "Exiting\n'posts: 2'\nPROGRESS: 1% (180/11783)\nu'[Brutal Gladiators Dreadplate] (/forums/en/wow/topic/17614041796)'\n"
     ]
    },
    {
     "name": "stdout",
     "output_type": "stream",
     "text": [
      "Exiting\n'posts: 6'\nPROGRESS: 1% (181/11783)\nu'[Frost dk artifact help] (/forums/en/wow/topic/17614132156)'\n"
     ]
    },
    {
     "name": "stdout",
     "output_type": "stream",
     "text": [
      "Exiting\n'posts: 1'\nPROGRESS: 1% (182/11783)\nu\"[Nazgrim's Deathcharger?] (/forums/en/wow/topic/17614052084)\"\n"
     ]
    },
    {
     "name": "stdout",
     "output_type": "stream",
     "text": [
      "Exiting\n'posts: 4'\nPROGRESS: 1% (183/11783)\nu'[FDK help..] (/forums/en/wow/topic/17614062100)'\n"
     ]
    },
    {
     "name": "stdout",
     "output_type": "stream",
     "text": [
      "Exiting\n'posts: 3'\nPROGRESS: 1% (184/11783)\nu'[Frost DK need help] (/forums/en/wow/topic/17614062101)'\n"
     ]
    },
    {
     "name": "stdout",
     "output_type": "stream",
     "text": [
      "Exiting\n'posts: 3'\nPROGRESS: 1% (185/11783)\nu'[Reforging] (/forums/en/wow/topic/17614072253)'\n"
     ]
    },
    {
     "name": "stdout",
     "output_type": "stream",
     "text": [
      "Exiting\n'posts: 3'\nPROGRESS: 1% (186/11783)\nu'[PVE/PVP help discussion] (/forums/en/wow/topic/17614132026)'\n"
     ]
    },
    {
     "name": "stdout",
     "output_type": "stream",
     "text": [
      "Exiting\n'posts: 2'\nPROGRESS: 1% (187/11783)\nu'[Leveling build for a DK in 7.1 with heirlooms] (/forums/en/wow/topic/17614051991)'\n"
     ]
    },
    {
     "name": "stdout",
     "output_type": "stream",
     "text": [
      "Exiting\n'posts: 3'\nPROGRESS: 1% (188/11783)\nu'[DK is good or bad ?] (/forums/en/wow/topic/17614061291)'\n"
     ]
    },
    {
     "name": "stdout",
     "output_type": "stream",
     "text": [
      "Exiting\n'posts: 17'\nPROGRESS: 1% (189/11783)\nu'[Enchan or frost] (/forums/en/wow/topic/17614101496)'\n"
     ]
    },
    {
     "name": "stdout",
     "output_type": "stream",
     "text": [
      "Exiting\n'posts: 13'\nPROGRESS: 1% (190/11783)\nu'[Necrotic Strike] (/forums/en/wow/topic/17613794207)'\n"
     ]
    },
    {
     "name": "stdout",
     "output_type": "stream",
     "text": [
      "Exiting\n'posts: 14'\nPROGRESS: 1% (191/11783)\nu'[anyone using Dark arbiter?] (/forums/en/wow/topic/17614131971)'\n"
     ]
    },
    {
     "name": "stdout",
     "output_type": "stream",
     "text": [
      "Exiting\n'posts: 2'\nPROGRESS: 1% (192/11783)\nu'[Class Mounts] (/forums/en/wow/topic/17614111846)'\n"
     ]
    },
    {
     "name": "stdout",
     "output_type": "stream",
     "text": [
      "Exiting\n'posts: 4'\nPROGRESS: 1% (193/11783)\nu'[Unholy DK needs help] (/forums/en/wow/topic/17614131662)'\n"
     ]
    },
    {
     "name": "stdout",
     "output_type": "stream",
     "text": [
      "[Errno 10054] An existing connection was forcibly closed by the remote host\n"
     ]
    },
    {
     "name": "stdout",
     "output_type": "stream",
     "text": [
      "HTTPError = 404\n"
     ]
    },
    {
     "name": "stdout",
     "output_type": "stream",
     "text": [
      "Exiting\n'posts: 3'\nPROGRESS: 1% (194/11783)\nu'[A few suggestions for class mount] (/forums/en/wow/topic/17614092039)'\n"
     ]
    },
    {
     "name": "stdout",
     "output_type": "stream",
     "text": [
      "Exiting\n'posts: 4'\nPROGRESS: 1% (195/11783)\nu'[So how many DKs were at the Blizzcon ?] (/forums/en/wow/topic/17614081593)'\n"
     ]
    },
    {
     "name": "stdout",
     "output_type": "stream",
     "text": [
      "Exiting\n'posts: 10'\nPROGRESS: 1% (196/11783)\nu\"[Blood for random bg's?] (/forums/en/wow/topic/17613765870)\"\n"
     ]
    },
    {
     "name": "stdout",
     "output_type": "stream",
     "text": [
      "[Errno 10054] An existing connection was forcibly closed by the remote host\n"
     ]
    },
    {
     "name": "stdout",
     "output_type": "stream",
     "text": [
      "Exiting\n'posts: 4'\nPROGRESS: 1% (197/11783)\nu'[New Unholy artifact skin] (/forums/en/wow/topic/17614021564)'\n"
     ]
    },
    {
     "name": "stdout",
     "output_type": "stream",
     "text": [
      "[Errno 10054] An existing connection was forcibly closed by the remote host\n"
     ]
    },
    {
     "name": "stdout",
     "output_type": "stream",
     "text": [
      "Exiting\n'posts: 11'\nPROGRESS: 1% (198/11783)\nu'[Frost DK DPS nerfed?] (/forums/en/wow/topic/17614131748)'\nHTTPError = 404\n"
     ]
    },
    {
     "name": "stdout",
     "output_type": "stream",
     "text": [
      "[Errno 10054] An existing connection was forcibly closed by the remote host\n"
     ]
    },
    {
     "name": "stdout",
     "output_type": "stream",
     "text": [
      "Exiting\n'posts: 6'\nPROGRESS: 1% (199/11783)\nu'[Breath of Sindragosa in Arena] (/forums/en/wow/topic/17614021684)'\n"
     ]
    },
    {
     "name": "stdout",
     "output_type": "stream",
     "text": [
      "Exiting\n'posts: 3'\nPROGRESS: 1% (200/11783)\nu'[Frost single target] (/forums/en/wow/topic/17614081780)'\n"
     ]
    },
    {
     "name": "stdout",
     "output_type": "stream",
     "text": [
      "Exiting\n'posts: 2'\nPROGRESS: 1% (201/11783)\nu'[Remorseless winter] (/forums/en/wow/topic/17614131395)'\n"
     ]
    },
    {
     "name": "stdout",
     "output_type": "stream",
     "text": [
      "Exiting\n'posts: 2'\nPROGRESS: 1% (202/11783)\nu'[If someone would be so kind as to tell me why...] (/forums/en/wow/topic/17614041642)'\n"
     ]
    },
    {
     "name": "stdout",
     "output_type": "stream",
     "text": [
      "HTTPError = 404\n"
     ]
    },
    {
     "name": "stdout",
     "output_type": "stream",
     "text": [
      "Exiting\n'posts: 5'\nPROGRESS: 1% (203/11783)\nu'[Sludge belcher] (/forums/en/wow/topic/17614071453)'\n"
     ]
    },
    {
     "name": "stdout",
     "output_type": "stream",
     "text": [
      "Exiting\n'posts: 9'\nPROGRESS: 1% (204/11783)\nu'[Was any death knight weapon shown during] (/forums/en/wow/topic/17614131577)'\n"
     ]
    },
    {
     "name": "stdout",
     "output_type": "stream",
     "text": [
      "[Errno 10054] An existing connection was forcibly closed by the remote host\n"
     ]
    },
    {
     "name": "stdout",
     "output_type": "stream",
     "text": [
      "Exiting\n'posts: 3'\nPROGRESS: 1% (205/11783)\nu'[Please sort Crystalline Sword animation out] (/forums/en/wow/topic/17614071541)'\n"
     ]
    },
    {
     "name": "stdout",
     "output_type": "stream",
     "text": [
      "Exiting\n'posts: 7'\nPROGRESS: 1% (206/11783)\nu'[Frost dk nerf] (/forums/en/wow/topic/17613785713)'\n"
     ]
    },
    {
     "name": "stdout",
     "output_type": "stream",
     "text": [
      "Exiting\n'posts: 49'\nPROGRESS: 1% (207/11783)\nu'[current state of frost dk in pve?] (/forums/en/wow/topic/17613911410)'\n"
     ]
    },
    {
     "name": "stdout",
     "output_type": "stream",
     "text": [
      "[Errno 10054] An existing connection was forcibly closed by the remote host\n"
     ]
    },
    {
     "name": "stdout",
     "output_type": "stream",
     "text": [
      "Exiting\n'posts: 8'\nPROGRESS: 1% (208/11783)\nu'[pvp apocalypse] (/forums/en/wow/topic/17614011363)'\n"
     ]
    },
    {
     "name": "stdout",
     "output_type": "stream",
     "text": [
      "Exiting\n'posts: 3'\nPROGRESS: 1% (209/11783)\nu'[Thanks blizz last mounth for me] (/forums/en/wow/topic/17614041396)'\n"
     ]
    },
    {
     "name": "stdout",
     "output_type": "stream",
     "text": [
      "Exiting\n'posts: 5'\nPROGRESS: 1% (210/11783)\nu\"[I can feel the Frost DK nerfs, that's for sure..] (/forums/en/wow/topic/17614041235)\"\n"
     ]
    },
    {
     "name": "stdout",
     "output_type": "stream",
     "text": [
      "Exiting\n'posts: 7'\nPROGRESS: 1% (211/11783)\nu'[Fdk bis list?] (/forums/en/wow/topic/17614091249)'\n"
     ]
    },
    {
     "name": "stdout",
     "output_type": "stream",
     "text": [
      "Exiting\n'posts: 6'\nPROGRESS: 1% (212/11783)\nu'[Icy veinz are not true? Frost DK Strong as !@#$!] (/forums/en/wow/topic/17614061334)'\n"
     ]
    },
    {
     "name": "stdout",
     "output_type": "stream",
     "text": [
      "Exiting\n'posts: 12'\nPROGRESS: 1% (213/11783)\nu'[DKs and PvP] (/forums/en/wow/topic/17613795233)'\n"
     ]
    },
    {
     "name": "stdout",
     "output_type": "stream",
     "text": [
      "Exiting\n'posts: 14'\nPROGRESS: 1% (214/11783)\nu'[Legendary: Acherus Drapes] (/forums/en/wow/topic/17614061391)'\n"
     ]
    },
    {
     "name": "stdout",
     "output_type": "stream",
     "text": [
      "Exiting\n'posts: 3'\nPROGRESS: 1% (215/11783)\nu'[Frost or Unholy] (/forums/en/wow/topic/17614081346)'\n"
     ]
    },
    {
     "name": "stdout",
     "output_type": "stream",
     "text": [
      "Exiting\n'posts: 1'\nPROGRESS: 1% (216/11783)\nu\"[Sindragosa's Fury] (/forums/en/wow/topic/17613735235)\"\n"
     ]
    },
    {
     "name": "stdout",
     "output_type": "stream",
     "text": [
      "Exiting\n'posts: 27'\nPROGRESS: 1% (217/11783)\nu'[Old DK worth taking out of mothballs?] (/forums/en/wow/topic/17613775422)'\n"
     ]
    },
    {
     "name": "stdout",
     "output_type": "stream",
     "text": [
      "Exiting\n'posts: 5'\nPROGRESS: 1% (218/11783)\nu'[Unholy dks] (/forums/en/wow/topic/17613981398)'\n"
     ]
    },
    {
     "name": "stdout",
     "output_type": "stream",
     "text": [
      "Exiting\n'posts: 7'\nPROGRESS: 1% (219/11783)\nu'[Cooldown \"Froze\" at 5 min!] (/forums/en/wow/topic/17614061309)'\nHTTPError = 404\n"
     ]
    },
    {
     "name": "stdout",
     "output_type": "stream",
     "text": [
      "[Errno 10054] An existing connection was forcibly closed by the remote host\n"
     ]
    },
    {
     "name": "stdout",
     "output_type": "stream",
     "text": [
      "Exiting\n'posts: 3'\nPROGRESS: 1% (220/11783)\nu'[Portal?] (/forums/en/wow/topic/17614101310)'\n"
     ]
    },
    {
     "name": "stdout",
     "output_type": "stream",
     "text": [
      "Exiting\n'posts: 4'\nPROGRESS: 1% (221/11783)\nu'[Just want to thank devs for the unholy buff...] (/forums/en/wow/topic/17613784536)'\n"
     ]
    },
    {
     "name": "stdout",
     "output_type": "stream",
     "text": [
      "Exiting\n'posts: 30'\nPROGRESS: 1% (222/11783)\nu'[DKs Feeling right now] (/forums/en/wow/topic/17613692958)'\n"
     ]
    },
    {
     "name": "stdout",
     "output_type": "stream",
     "text": [
      "Exiting\n'posts: 22'\nPROGRESS: 1% (223/11783)\nu'[Unholy DK worth it?] (/forums/en/wow/topic/17613991292)'\n"
     ]
    },
    {
     "name": "stdout",
     "output_type": "stream",
     "text": [
      "Exiting\n'posts: 6'\nPROGRESS: 1% (224/11783)\nu'[DK mobility] (/forums/en/wow/topic/17613784714)'\n"
     ]
    },
    {
     "name": "stdout",
     "output_type": "stream",
     "text": [
      "Exiting\n'posts: 9'\nPROGRESS: 1% (225/11783)\nu'[Fdk pve?] (/forums/en/wow/topic/17613981333)'\n"
     ]
    },
    {
     "name": "stdout",
     "output_type": "stream",
     "text": [
      "Exiting\n'posts: 4'\nPROGRESS: 1% (226/11783)\nu'[Got my first legendary and have a question] (/forums/en/wow/topic/17613841211)'\n"
     ]
    },
    {
     "name": "stdout",
     "output_type": "stream",
     "text": [
      "[Errno 10054] An existing connection was forcibly closed by the remote host\n"
     ]
    },
    {
     "name": "stdout",
     "output_type": "stream",
     "text": [
      "Exiting\n'posts: 4'\nPROGRESS: 1% (227/11783)\nu'[Frost Crux is not working for PvP?] (/forums/en/wow/topic/17613785772)'\n"
     ]
    },
    {
     "name": "stdout",
     "output_type": "stream",
     "text": [
      "Exiting\n'posts: 3'\nPROGRESS: 1% (228/11783)\nu'[Stats to go and BiS Trinkets (BLOOD)] (/forums/en/wow/topic/17613795082)'\n"
     ]
    },
    {
     "name": "stdout",
     "output_type": "stream",
     "text": [
      "Exiting\n'posts: 22'\nPROGRESS: 1% (229/11783)\nu'[Death Gate To Stromgarde?] (/forums/en/wow/topic/17614011364)'\n"
     ]
    },
    {
     "name": "stdout",
     "output_type": "stream",
     "text": [
      "Exiting\n'posts: 2'\nPROGRESS: 1% (230/11783)\nu'[Tank dmg taken problem.] (/forums/en/wow/topic/17613755449)'\n"
     ]
    },
    {
     "name": "stdout",
     "output_type": "stream",
     "text": [
      "Exiting\n'posts: 10'\nPROGRESS: 1% (231/11783)\nu'[Well It was fun while it lasted... (pvp)] (/forums/en/wow/topic/17613705424)'\n"
     ]
    },
    {
     "name": "stdout",
     "output_type": "stream",
     "text": [
      "Exiting\n'posts: 12'\nPROGRESS: 1% (232/11783)\nu'[UH Hidden Artifcat] (/forums/en/wow/topic/17613785355)'\n"
     ]
    },
    {
     "name": "stdout",
     "output_type": "stream",
     "text": [
      "Exiting\n'posts: 10'\nPROGRESS: 1% (233/11783)\nu'[EN trinkets kinda bad?] (/forums/en/wow/topic/17613775643)'\n"
     ]
    },
    {
     "name": "stdout",
     "output_type": "stream",
     "text": [
      "Exiting\n'posts: 2'\nPROGRESS: 1% (234/11783)\nu'[Addressing Unholy Death Knight Scaling Issues] (/forums/en/wow/topic/17613745478)'\n"
     ]
    },
    {
     "name": "stdout",
     "output_type": "stream",
     "text": [
      "Exiting\n'posts: 18'\nPROGRESS: 1% (235/11783)\nu'[Wandering Plague PvP Talent] (/forums/en/wow/topic/17613423199)'\n"
     ]
    },
    {
     "name": "stdout",
     "output_type": "stream",
     "text": [
      "Exiting\n'posts: 11'\nPROGRESS: 2% (236/11783)\nu'[DK Jokes] (/forums/en/wow/topic/17613742665)'\nHTTPError = 404\n"
     ]
    },
    {
     "name": "stdout",
     "output_type": "stream",
     "text": [
      "HTTPError = 404\n"
     ]
    },
    {
     "name": "stdout",
     "output_type": "stream",
     "text": [
      "Exiting\n'posts: 11'\nPROGRESS: 2% (237/11783)\nu'[Frost hidden artifact found] (/forums/en/wow/topic/17613755348)'\n"
     ]
    },
    {
     "name": "stdout",
     "output_type": "stream",
     "text": [
      "Exiting\n'posts: 8'\nPROGRESS: 2% (238/11783)\nu'[Question about Crystalline Swords] (/forums/en/wow/topic/17613292588)'\n"
     ]
    },
    {
     "name": "stdout",
     "output_type": "stream",
     "text": [
      "[Errno 10054] An existing connection was forcibly closed by the remote host\nHTTPError = 404\n"
     ]
    },
    {
     "name": "stdout",
     "output_type": "stream",
     "text": [
      "Exiting\n'posts: 6'\nPROGRESS: 2% (239/11783)\nu'[Obliteration / Glacial Advance] (/forums/en/wow/topic/17613805318)'\n"
     ]
    },
    {
     "name": "stdout",
     "output_type": "stream",
     "text": [
      "Exiting\n'posts: 6'\nPROGRESS: 2% (240/11783)\nu'[In light of the recent Arms Warrior situation...] (/forums/en/wow/topic/17613705410)'\n"
     ]
    },
    {
     "name": "stdout",
     "output_type": "stream",
     "text": [
      "Exiting\n'posts: 2'\nPROGRESS: 2% (241/11783)\nu\"[Help me in my road to a little succes on arena's] (/forums/en/wow/topic/17613785728)\"\n"
     ]
    },
    {
     "name": "stdout",
     "output_type": "stream",
     "text": [
      "Exiting\n'posts: 2'\nPROGRESS: 2% (242/11783)\nu\"[Unholy .... what's my thing?] (/forums/en/wow/topic/17613714740)\"\n"
     ]
    },
    {
     "name": "stdout",
     "output_type": "stream",
     "text": [
      "Exiting\n'posts: 10'\nPROGRESS: 2% (243/11783)\nu'[How do frost DKs heal 70-80% of their hp?] (/forums/en/wow/topic/17613765593)'\n"
     ]
    },
    {
     "name": "stdout",
     "output_type": "stream",
     "text": [
      "Exiting\n'posts: 8'\nPROGRESS: 2% (244/11783)\nu'[Potion of Prolonged Power viable?] (/forums/en/wow/topic/17613775420)'\n"
     ]
    },
    {
     "name": "stdout",
     "output_type": "stream",
     "text": [
      "Exiting\n'posts: 4'\nPROGRESS: 2% (245/11783)\nu'[7.1 DK is the lowest DPS - RIP] (/forums/en/wow/topic/17613694769)'\n"
     ]
    },
    {
     "name": "stdout",
     "output_type": "stream",
     "text": [
      "Exiting\n'posts: 17'\nPROGRESS: 2% (246/11783)\nu'[Wraith Walk suggestion] (/forums/en/wow/topic/17613735098)'\n"
     ]
    },
    {
     "name": "stdout",
     "output_type": "stream",
     "text": [
      "Exiting\n'posts: 8'\nPROGRESS: 2% (247/11783)\nu'[Frost dk threat issues 7.1] (/forums/en/wow/topic/17613695391)'\n"
     ]
    },
    {
     "name": "stdout",
     "output_type": "stream",
     "text": [
      "Exiting\n'posts: 1'\nPROGRESS: 2% (248/11783)\nu'[Blood Shield Mastery] (/forums/en/wow/topic/17613765444)'\n"
     ]
    },
    {
     "name": "stdout",
     "output_type": "stream",
     "text": [
      "Exiting\n'posts: 6'\nPROGRESS: 2% (249/11783)\nu'[Perseverance of the Ebon Martyr] (/forums/en/wow/topic/17613704985)'\n"
     ]
    },
    {
     "name": "stdout",
     "output_type": "stream",
     "text": [
      "Exiting\n'posts: 4'\nPROGRESS: 2% (250/11783)\nu'[Frost Stat Prio after 7.1?] (/forums/en/wow/topic/17613704397)'\n"
     ]
    },
    {
     "name": "stdout",
     "output_type": "stream",
     "text": [
      "Exiting\n'posts: 17'\nPROGRESS: 2% (251/11783)\nu\"[Question about talent's] (/forums/en/wow/topic/17613725423)\"\n"
     ]
    },
    {
     "name": "stdout",
     "output_type": "stream",
     "text": [
      "Exiting\n'posts: 2'\nPROGRESS: 2% (252/11783)\nu'[HeartStrike - Blood Elf] (/forums/en/wow/topic/17613775248)'\n"
     ]
    },
    {
     "name": "stdout",
     "output_type": "stream",
     "text": [
      "Exiting\n'posts: 10'\nPROGRESS: 2% (253/11783)\nu'[Death and Decay Macros 7.1] (/forums/en/wow/topic/17613804997)'\n"
     ]
    },
    {
     "name": "stdout",
     "output_type": "stream",
     "text": [
      "Exiting\n'posts: 3'\nPROGRESS: 2% (254/11783)\nu\"[Sephuz's secret legendary] (/forums/en/wow/topic/17613745316)\"\n"
     ]
    },
    {
     "name": "stdout",
     "output_type": "stream",
     "text": [
      "Exiting\n'posts: 2'\nPROGRESS: 2% (255/11783)\nu'[Frost VS UH (Legion pve)] (/forums/en/wow/topic/17612081771)'\n"
     ]
    },
    {
     "name": "stdout",
     "output_type": "stream",
     "text": [
      "[Errno 10054] An existing connection was forcibly closed by the remote host\nHTTPError = 404\n"
     ]
    },
    {
     "name": "stdout",
     "output_type": "stream",
     "text": [
      "Exiting\n'posts: 12'\nPROGRESS: 2% (256/11783)\nu\"[Death's Advance 7.1] (/forums/en/wow/topic/17613725349)\"\n"
     ]
    },
    {
     "name": "stdout",
     "output_type": "stream",
     "text": [
      "Exiting\n'posts: 6'\nPROGRESS: 2% (257/11783)\nu'[Frost fever] (/forums/en/wow/topic/17613745053)'\n"
     ]
    },
    {
     "name": "stdout",
     "output_type": "stream",
     "text": [
      "Exiting\n'posts: 3'\nPROGRESS: 2% (258/11783)\nu'[Unholy all the way!] (/forums/en/wow/topic/17613734741)'\n"
     ]
    },
    {
     "name": "stdout",
     "output_type": "stream",
     "text": [
      "Exiting\n'posts: 6'\nPROGRESS: 2% (259/11783)\nu'[Stoneskin and Fallen Crusader] (/forums/en/wow/topic/17613725369)'\n"
     ]
    },
    {
     "name": "stdout",
     "output_type": "stream",
     "text": [
      "Exiting\n'posts: 1'\nPROGRESS: 2% (260/11783)\nu'[Blood dk worth now?] (/forums/en/wow/topic/17613754357)'\n"
     ]
    },
    {
     "name": "stdout",
     "output_type": "stream",
     "text": [
      "Exiting\n'posts: 5'\nPROGRESS: 2% (261/11783)\nu'[Frost dk potentially useless in legion.] (/forums/en/wow/topic/17612391477)'\n"
     ]
    },
    {
     "name": "stdout",
     "output_type": "stream",
     "text": [
      "Exiting\n'posts: 38'\nPROGRESS: 2% (262/11783)\nu'[Is Frost decent now?] (/forums/en/wow/topic/17613754470)'\n"
     ]
    },
    {
     "name": "stdout",
     "output_type": "stream",
     "text": [
      "Exiting\n'posts: 20'\nPROGRESS: 2% (263/11783)\nu'[Bone Shield Stealth nerfed ?!?!] (/forums/en/wow/topic/17613754811)'\n"
     ]
    },
    {
     "name": "stdout",
     "output_type": "stream",
     "text": [
      "Exiting\n'posts: 6'\nPROGRESS: 2% (264/11783)\nu'[Need confirmation of Prydaz being an upgrade (Blood)] (/forums/en/wow/topic/17613804873)'\n"
     ]
    },
    {
     "name": "stdout",
     "output_type": "stream",
     "text": [
      "Exiting\n'posts: 2'\nPROGRESS: 2% (265/11783)\nu'[You think you do...] (/forums/en/wow/topic/17613704819)'\nHTTPError = 404\n"
     ]
    },
    {
     "name": "stdout",
     "output_type": "stream",
     "text": [
      "Exiting\n'posts: 3'\nPROGRESS: 2% (266/11783)\nu'[Bigger abomination.] (/forums/en/wow/topic/17613774817)'\n"
     ]
    },
    {
     "name": "stdout",
     "output_type": "stream",
     "text": [
      "Exiting\n'posts: 4'\nPROGRESS: 2% (267/11783)\nu'[Trinket Advice for UH DK] (/forums/en/wow/topic/17613714455)'\n"
     ]
    },
    {
     "name": "stdout",
     "output_type": "stream",
     "text": [
      "Exiting\n'posts: 12'\nPROGRESS: 2% (268/11783)\nu'[Obliteration] (/forums/en/wow/topic/17613784874)'\n"
     ]
    },
    {
     "name": "stdout",
     "output_type": "stream",
     "text": [
      "Exiting\n'posts: 3'\nPROGRESS: 2% (269/11783)\nu'[Is Frost really supposed to have this little buttons?] (/forums/en/wow/topic/17613783119)'\n"
     ]
    },
    {
     "name": "stdout",
     "output_type": "stream",
     "text": [
      "Exiting\n'posts: 9'\nPROGRESS: 2% (270/11783)\nu'[Unholy Vs Frost] (/forums/en/wow/topic/17613734658)'\n"
     ]
    },
    {
     "name": "stdout",
     "output_type": "stream",
     "text": [
      "Exiting\n'posts: 9'\nPROGRESS: 2% (271/11783)\nu'[Swarm - Class Hall research tier 1] (/forums/en/wow/topic/17613794828)'\n"
     ]
    },
    {
     "name": "stdout",
     "output_type": "stream",
     "text": [
      "HTTPError = 404\n"
     ]
    },
    {
     "name": "stdout",
     "output_type": "stream",
     "text": [
      "Exiting\n'posts: 2'\nPROGRESS: 2% (272/11783)\nu'[Reanimation order class tier 5] (/forums/en/wow/topic/17613725122)'\n"
     ]
    },
    {
     "name": "stdout",
     "output_type": "stream",
     "text": [
      "Exiting\n'posts: 3'\nPROGRESS: 2% (273/11783)\nu'[Change \"Deathlord\" Title - Something Suitable?] (/forums/en/wow/topic/17613783728)'\n"
     ]
    },
    {
     "name": "stdout",
     "output_type": "stream",
     "text": [
      "Exiting\n'posts: 33'\nPROGRESS: 2% (274/11783)\nu'[Frost dk artifact ability...WTF?!!] (/forums/en/wow/topic/17613803018)'\n"
     ]
    },
    {
     "name": "stdout",
     "output_type": "stream",
     "text": [
      "Exiting\n'posts: 23'\nPROGRESS: 2% (275/11783)\nu'[The Hungering Maw - Now 10% ARMOR instead of 5% HP?] (/forums/en/wow/topic/17613784507)'\n"
     ]
    },
    {
     "name": "stdout",
     "output_type": "stream",
     "text": [
      "Exiting\n'posts: 11'\nPROGRESS: 2% (276/11783)\nu'[IBF for blood coming in 7.1] (/forums/en/wow/topic/17613704106)'\n"
     ]
    },
    {
     "name": "stdout",
     "output_type": "stream",
     "text": [
      "Exiting\n'posts: 21'\nPROGRESS: 2% (277/11783)\nu'[[Overpowered Rune Weapon]] (/forums/en/wow/topic/17613744539)'\n"
     ]
    },
    {
     "name": "stdout",
     "output_type": "stream",
     "text": [
      "Exiting\n'posts: 4'\nPROGRESS: 2% (278/11783)\nu'[Drape of Shame for Blood] (/forums/en/wow/topic/17613744802)'\n"
     ]
    },
    {
     "name": "stdout",
     "output_type": "stream",
     "text": [
      "HTTPError = 404\n"
     ]
    },
    {
     "name": "stdout",
     "output_type": "stream",
     "text": [
      "Exiting\n'posts: 5'\nPROGRESS: 2% (279/11783)\nu'[DK unholy dps issue] (/forums/en/wow/topic/17613724549)'\n"
     ]
    },
    {
     "name": "stdout",
     "output_type": "stream",
     "text": [
      "Exiting\n'posts: 15'\nPROGRESS: 2% (280/11783)\nu'[DPS specs] (/forums/en/wow/topic/17613694542)'\n"
     ]
    },
    {
     "name": "stdout",
     "output_type": "stream",
     "text": [
      "Exiting\n'posts: 5'\nPROGRESS: 2% (281/11783)\nu'[Pawn string for Blood DK tank] (/forums/en/wow/topic/17613621351)'\n"
     ]
    },
    {
     "name": "stdout",
     "output_type": "stream",
     "text": [
      "Exiting\n'posts: 12'\nPROGRESS: 2% (282/11783)\nu'[Did they change the Dark Transformation model?] (/forums/en/wow/topic/17613694547)'\n"
     ]
    },
    {
     "name": "stdout",
     "output_type": "stream",
     "text": [
      "Exiting\n'posts: 6'\nPROGRESS: 2% (283/11783)\nu'[Death and decay bug] (/forums/en/wow/topic/17613804470)'\n"
     ]
    },
    {
     "name": "stdout",
     "output_type": "stream",
     "text": [
      "HTTPError = 404\n"
     ]
    },
    {
     "name": "stdout",
     "output_type": "stream",
     "text": [
      "Exiting\n'posts: 4'\nPROGRESS: 2% (284/11783)\nu'[Did they just nerf bone shield?] (/forums/en/wow/topic/17613704387)'\n"
     ]
    },
    {
     "name": "stdout",
     "output_type": "stream",
     "text": [
      "Exiting\n'posts: 4'\nPROGRESS: 2% (285/11783)\nu'[7.1 Frost Build and Stat prio] (/forums/en/wow/topic/17613754341)'\n"
     ]
    },
    {
     "name": "stdout",
     "output_type": "stream",
     "text": [
      "Exiting\n'posts: 3'\nPROGRESS: 2% (286/11783)\nu'[Bone shield bugged] (/forums/en/wow/topic/17613704412)'\n"
     ]
    },
    {
     "name": "stdout",
     "output_type": "stream",
     "text": [
      "Exiting\n'posts: 2'\nPROGRESS: 2% (287/11783)\nu'[PSA! Blood now has Icebound Fortitude] (/forums/en/wow/topic/17613774529)'\n"
     ]
    },
    {
     "name": "stdout",
     "output_type": "stream",
     "text": [
      "Exiting\n'posts: 3'\nPROGRESS: 2% (288/11783)\nu'[Death and Decay no longer while moving?] (/forums/en/wow/topic/17613804407)'\n"
     ]
    },
    {
     "name": "stdout",
     "output_type": "stream",
     "text": [
      "Exiting\n'posts: 2'\nPROGRESS: 2% (289/11783)\nu'[Mythic + Necrotic] (/forums/en/wow/topic/17613473049)'\nHTTPError = 404\n"
     ]
    },
    {
     "name": "stdout",
     "output_type": "stream",
     "text": [
      "Exiting\n'posts: 18'\nPROGRESS: 2% (290/11783)\nu'[Dks are now the worst of the worst?] (/forums/en/wow/topic/17613803866)'\nHTTPError = 404\n"
     ]
    },
    {
     "name": "stdout",
     "output_type": "stream",
     "text": [
      "Exiting\n'posts: 31'\nPROGRESS: 2% (291/11783)\nu'[So what now with murderous intent nerf?] (/forums/en/wow/topic/17613794470)'\n"
     ]
    },
    {
     "name": "stdout",
     "output_type": "stream",
     "text": [
      "Exiting\n'posts: 1'\nPROGRESS: 2% (292/11783)\nu'[New buff in Deathcoil] (/forums/en/wow/topic/17613734469)'\n"
     ]
    },
    {
     "name": "stdout",
     "output_type": "stream",
     "text": [
      "Exiting\n'posts: 2'\nPROGRESS: 2% (293/11783)\nu'[7.1 Unholy Stat Priority? Help!] (/forums/en/wow/topic/17613784452)'\n"
     ]
    },
    {
     "name": "stdout",
     "output_type": "stream",
     "text": [
      "Exiting\n'posts: 3'\nPROGRESS: 2% (294/11783)\nu\"[Sindragosa's Fury Pvp Nerf is unfair] (/forums/en/wow/topic/17613753479)\"\n"
     ]
    },
    {
     "name": "stdout",
     "output_type": "stream",
     "text": [
      "Exiting\n'posts: 12'\nPROGRESS: 2% (295/11783)\nu'[Patchnotes are out and well...] (/forums/en/wow/topic/17613774324)'\n"
     ]
    },
    {
     "name": "stdout",
     "output_type": "stream",
     "text": [
      "Exiting\n'posts: 10'\nPROGRESS: 2% (296/11783)\nu'[Consumption suggestion] (/forums/en/wow/topic/17613804232)'\n"
     ]
    },
    {
     "name": "stdout",
     "output_type": "stream",
     "text": [
      "Exiting\n'posts: 3'\nPROGRESS: 2% (297/11783)\nu'[Dismissing...] (/forums/en/wow/topic/17613724515)'\n"
     ]
    },
    {
     "name": "stdout",
     "output_type": "stream",
     "text": [
      "Exiting\n'posts: 4'\nPROGRESS: 2% (298/11783)\nu'[How to easily fix Blood-tanking.] (/forums/en/wow/topic/17613733991)'\n"
     ]
    },
    {
     "name": "stdout",
     "output_type": "stream",
     "text": [
      "[Errno 10054] An existing connection was forcibly closed by the remote host\n"
     ]
    },
    {
     "name": "stdout",
     "output_type": "stream",
     "text": [
      "Exiting\n'posts: 12'\nPROGRESS: 2% (299/11783)\nu'[Tauren and Worgen DK skin colours.] (/forums/en/wow/topic/17613713928)'\n"
     ]
    },
    {
     "name": "stdout",
     "output_type": "stream",
     "text": [
      "Exiting\n'posts: 3'\nPROGRESS: 2% (300/11783)\nu'[Suggestions for Unholy] (/forums/en/wow/topic/17613704108)'\n"
     ]
    },
    {
     "name": "stdout",
     "output_type": "stream",
     "text": [
      "[Errno 10054] An existing connection was forcibly closed by the remote host\n"
     ]
    },
    {
     "name": "stdout",
     "output_type": "stream",
     "text": [
      "Exiting\n'posts: 4'\nPROGRESS: 2% (301/11783)\nu'[Bonereapers hook attempts] (/forums/en/wow/topic/17613773686)'\n"
     ]
    },
    {
     "name": "stdout",
     "output_type": "stream",
     "text": [
      "[Errno 10054] An existing connection was forcibly closed by the remote host\n"
     ]
    },
    {
     "name": "stdout",
     "output_type": "stream",
     "text": [
      "Exiting\n'posts: 35'\nPROGRESS: 2% (302/11783)\nu'[Class fantasy...] (/forums/en/wow/topic/17613724459)'\nHTTPError = 404\n"
     ]
    },
    {
     "name": "stdout",
     "output_type": "stream",
     "text": [
      "Exiting\n'posts: 4'\nPROGRESS: 2% (303/11783)\nu'[How do I tank as a DK?] (/forums/en/wow/topic/17613792710)'\n"
     ]
    },
    {
     "name": "stdout",
     "output_type": "stream",
     "text": [
      "Exiting\n'posts: 33'\nPROGRESS: 2% (304/11783)\nu'[Describe each spec with 1 word] (/forums/en/wow/topic/17613722835)'\n"
     ]
    },
    {
     "name": "stdout",
     "output_type": "stream",
     "text": [
      "Exiting\n'posts: 38'\nPROGRESS: 2% (305/11783)\nu'[Consumption and Dancing Rune Weapon] (/forums/en/wow/topic/17613764347)'\n"
     ]
    },
    {
     "name": "stdout",
     "output_type": "stream",
     "text": [
      "Exiting\n'posts: 2'\nPROGRESS: 2% (306/11783)\nu'[UH playstyle not rewarding enough?] (/forums/en/wow/topic/17613703844)'\n"
     ]
    },
    {
     "name": "stdout",
     "output_type": "stream",
     "text": [
      "Exiting\n'posts: 8'\nPROGRESS: 2% (307/11783)\nu'[I got the legendary unholy wrist] (/forums/en/wow/topic/17613703361)'\n"
     ]
    },
    {
     "name": "stdout",
     "output_type": "stream",
     "text": [
      "Exiting\n'posts: 27'\nPROGRESS: 2% (308/11783)\nu'[DK buffs on PTR] (/forums/en/wow/topic/17613723419)'\n"
     ]
    },
    {
     "name": "stdout",
     "output_type": "stream",
     "text": [
      "Exiting\n'posts: 61'\nPROGRESS: 2% (309/11783)\nu'[Unholy or Frost?] (/forums/en/wow/topic/17613734043)'\n"
     ]
    },
    {
     "name": "stdout",
     "output_type": "stream",
     "text": [
      "Exiting\n'posts: 4'\nPROGRESS: 2% (310/11783)\nu'[Back in Business few questions] (/forums/en/wow/topic/17613703949)'\n"
     ]
    },
    {
     "name": "stdout",
     "output_type": "stream",
     "text": [
      "[Errno 10054] An existing connection was forcibly closed by the remote host\nHTTPError = 404\n"
     ]
    },
    {
     "name": "stdout",
     "output_type": "stream",
     "text": [
      "[Errno 10054] An existing connection was forcibly closed by the remote host\n"
     ]
    },
    {
     "name": "stdout",
     "output_type": "stream",
     "text": [
      "Exiting\n'posts: 6'\nPROGRESS: 2% (311/11783)\nu'[Really unhappy with my dps should i go frost] (/forums/en/wow/topic/17613723943)'\n"
     ]
    },
    {
     "name": "stdout",
     "output_type": "stream",
     "text": [
      "Exiting\n'posts: 10'\nPROGRESS: 2% (312/11783)\nu'[Why is everyone so negative about Death Knights?] (/forums/en/wow/topic/17613783650)'\n"
     ]
    },
    {
     "name": "stdout",
     "output_type": "stream",
     "text": [
      "HTTPError = 404\n"
     ]
    },
    {
     "name": "stdout",
     "output_type": "stream",
     "text": [
      "Exiting\n'posts: 22'\nPROGRESS: 2% (313/11783)\nu'[So what is the Prio List for UHDK Abilities?] (/forums/en/wow/topic/17613733625)'\n"
     ]
    },
    {
     "name": "stdout",
     "output_type": "stream",
     "text": [
      "Exiting\n'posts: 4'\nPROGRESS: 2% (314/11783)\nu\"[So that's it?] (/forums/en/wow/topic/17613734067)\"\n"
     ]
    },
    {
     "name": "stdout",
     "output_type": "stream",
     "text": [
      "Exiting\n'posts: 3'\nPROGRESS: 2% (315/11783)\nu'[Blizzcon FAQ coming, Death knights mobilise!] (/forums/en/wow/topic/17613763975)'\n"
     ]
    },
    {
     "name": "stdout",
     "output_type": "stream",
     "text": [
      "Exiting\n'posts: 4'\nPROGRESS: 2% (316/11783)\nu'[Should I reroll?] (/forums/en/wow/topic/17613723557)'\nHTTPError = 404\n"
     ]
    },
    {
     "name": "stdout",
     "output_type": "stream",
     "text": [
      "Exiting\n'posts: 12'\nPROGRESS: 2% (317/11783)\nu'[Should I use Death Strike as UH?] (/forums/en/wow/topic/17613694068)'\n"
     ]
    },
    {
     "name": "stdout",
     "output_type": "stream",
     "text": [
      "Exiting\n'posts: 3'\nPROGRESS: 2% (318/11783)\nu'[Unholy DKs?] (/forums/en/wow/topic/17613803802)'\n"
     ]
    },
    {
     "name": "stdout",
     "output_type": "stream",
     "text": [
      "Exiting\n'posts: 7'\nPROGRESS: 2% (319/11783)\nu'[Legendary wrists experience] (/forums/en/wow/topic/17613723932)'\nHTTPError = 404\n"
     ]
    },
    {
     "name": "stdout",
     "output_type": "stream",
     "text": [
      "Exiting\n'posts: 12'\nPROGRESS: 2% (320/11783)\nu'[Reins of Shadow Realm of Shadows - Quest Bug] (/forums/en/wow/topic/17613724188)'\n"
     ]
    },
    {
     "name": "stdout",
     "output_type": "stream",
     "text": [
      "Exiting\n'posts: 1'\nPROGRESS: 2% (321/11783)\nu'[Reanimation & Defile] (/forums/en/wow/topic/17613733916)'\n"
     ]
    },
    {
     "name": "stdout",
     "output_type": "stream",
     "text": [
      "Exiting\n'posts: 2'\nPROGRESS: 2% (322/11783)\nu'[Blood Legion Feedback] (/forums/en/wow/topic/17613783725)'\n"
     ]
    },
    {
     "name": "stdout",
     "output_type": "stream",
     "text": [
      "Exiting\n'posts: 9'\nPROGRESS: 2% (323/11783)\nu'[Chill streak nerf?] (/forums/en/wow/topic/17613723529)'\n"
     ]
    },
    {
     "name": "stdout",
     "output_type": "stream",
     "text": [
      "Exiting\n'posts: 5'\nPROGRESS: 2% (324/11783)\nu'[Bad the bone] (/forums/en/wow/topic/17613783928)'\n"
     ]
    },
    {
     "name": "stdout",
     "output_type": "stream",
     "text": [
      "Exiting\n'posts: 2'\nPROGRESS: 2% (325/11783)\nu'[BiS trinkets on 7.1] (/forums/en/wow/topic/17613733853)'\n"
     ]
    },
    {
     "name": "stdout",
     "output_type": "stream",
     "text": [
      "Exiting\n'posts: 3'\nPROGRESS: 2% (326/11783)\nu'[Blood Hidden Artifact Appearance (Bonejaw)] (/forums/en/wow/topic/17613362052)'\n"
     ]
    },
    {
     "name": "stdout",
     "output_type": "stream",
     "text": [
      "Exiting\n'posts: 10'\nPROGRESS: 2% (327/11783)\nu'[Obliterate Scaling - Eli5] (/forums/en/wow/topic/17613773475)'\n"
     ]
    },
    {
     "name": "stdout",
     "output_type": "stream",
     "text": [
      "Exiting\n'posts: 10'\nPROGRESS: 2% (328/11783)\nu'[Some feedback for Frost DK (not about class ballancing)] (/forums/en/wow/topic/17613753531)'\n"
     ]
    },
    {
     "name": "stdout",
     "output_type": "stream",
     "text": [
      "Exiting\n'posts: 7'\nPROGRESS: 2% (329/11783)\nu'[Frost Hidden Artifact Question] (/forums/en/wow/topic/17613783567)'\n"
     ]
    },
    {
     "name": "stdout",
     "output_type": "stream",
     "text": [
      "Exiting\n'posts: 5'\nPROGRESS: 2% (330/11783)\nu'[Bloodworms.] (/forums/en/wow/topic/17613703133)'\n"
     ]
    },
    {
     "name": "stdout",
     "output_type": "stream",
     "text": [
      "Exiting\n'posts: 6'\nPROGRESS: 2% (331/11783)\nu'[Icy Talons] (/forums/en/wow/topic/17613703392)'\n"
     ]
    },
    {
     "name": "stdout",
     "output_type": "stream",
     "text": [
      "Exiting\n'posts: 7'\nPROGRESS: 2% (332/11783)\nu'[Deathlord Ressurections: Why not more?] (/forums/en/wow/topic/17613723858)'\n"
     ]
    },
    {
     "name": "stdout",
     "output_type": "stream",
     "text": [
      "Exiting\n'posts: 4'\nPROGRESS: 2% (333/11783)\nu'[Frost dk have we had our buff yet] (/forums/en/wow/topic/17613702961)'\n"
     ]
    },
    {
     "name": "stdout",
     "output_type": "stream",
     "text": [
      "Exiting\n'posts: 20'\nPROGRESS: 2% (334/11783)\nu'[Apocalypse = Hidden satyr] (/forums/en/wow/topic/17613703545)'\n"
     ]
    },
    {
     "name": "stdout",
     "output_type": "stream",
     "text": [
      "Exiting\n'posts: 6'\nPROGRESS: 2% (335/11783)\nu'[If you want more buffs/changes to DK 7.1] (/forums/en/wow/topic/17613763689)'\nHTTPError = 404\n"
     ]
    },
    {
     "name": "stdout",
     "output_type": "stream",
     "text": [
      "Exiting\n'posts: 5'\nPROGRESS: 2% (336/11783)\nu'[My class is OP] (/forums/en/wow/topic/17613723403)'\n"
     ]
    },
    {
     "name": "stdout",
     "output_type": "stream",
     "text": [
      "Exiting\n'posts: 8'\nPROGRESS: 2% (337/11783)\nu\"[Spec switching and art'power necessity question] (/forums/en/wow/topic/17613713419)\"\n"
     ]
    },
    {
     "name": "stdout",
     "output_type": "stream",
     "text": [
      "Exiting\n'posts: 2'\nPROGRESS: 2% (338/11783)\nu'[Artifact relics] (/forums/en/wow/topic/17613803071)'\n"
     ]
    },
    {
     "name": "stdout",
     "output_type": "stream",
     "text": [
      "Exiting\n'posts: 5'\nPROGRESS: 2% (339/11783)\nu'[Hypothermia, possible fix] (/forums/en/wow/topic/17613782086)'\n"
     ]
    },
    {
     "name": "stdout",
     "output_type": "stream",
     "text": [
      "[Errno 10054] An existing connection was forcibly closed by the remote host\n"
     ]
    },
    {
     "name": "stdout",
     "output_type": "stream",
     "text": [
      "Exiting\n'posts: 7'\nPROGRESS: 2% (340/11783)\nu'[pvp] (/forums/en/wow/topic/17613783450)'\n"
     ]
    },
    {
     "name": "stdout",
     "output_type": "stream",
     "text": [
      "Exiting\n'posts: 7'\nPROGRESS: 2% (341/11783)\nu'[Somehow Constructive Blood Feedback] (/forums/en/wow/topic/17613763562)'\n"
     ]
    },
    {
     "name": "stdout",
     "output_type": "stream",
     "text": [
      "Exiting\n'posts: 8'\nPROGRESS: 2% (342/11783)\nu'[How much can I trade crit for haste?] (/forums/en/wow/topic/17613773568)'\nHTTPError = 404\n"
     ]
    },
    {
     "name": "stdout",
     "output_type": "stream",
     "text": [
      "Exiting\n'posts: 3'\nPROGRESS: 2% (343/11783)\nu'[low dmg in pvp] (/forums/en/wow/topic/17613723669)'\n"
     ]
    },
    {
     "name": "stdout",
     "output_type": "stream",
     "text": [
      "Exiting\n'posts: 5'\nPROGRESS: 2% (344/11783)\nu'[Unholy DK - give me some advice plx] (/forums/en/wow/topic/17613753340)'\n"
     ]
    },
    {
     "name": "stdout",
     "output_type": "stream",
     "text": [
      "Exiting\n'posts: 9'\nPROGRESS: 2% (345/11783)\nu'[Make UH DK great again!] (/forums/en/wow/topic/17613743267)'\n"
     ]
    },
    {
     "name": "stdout",
     "output_type": "stream",
     "text": [
      "Exiting\n'posts: 5'\nPROGRESS: 2% (346/11783)\nu'[Necrotic Strike Tier 5] (/forums/en/wow/topic/17613803314)'\n"
     ]
    },
    {
     "name": "stdout",
     "output_type": "stream",
     "text": [
      "Exiting\n'posts: 4'\nPROGRESS: 2% (347/11783)\nu'[Blood for Blood is killing me] (/forums/en/wow/topic/17613383335)'\n"
     ]
    },
    {
     "name": "stdout",
     "output_type": "stream",
     "text": [
      "Exiting\n'posts: 8'\nPROGRESS: 2% (348/11783)\nu'[Blood mirror & Cenarius] (/forums/en/wow/topic/17613722539)'\n"
     ]
    },
    {
     "name": "stdout",
     "output_type": "stream",
     "text": [
      "Exiting\n'posts: 4'\nPROGRESS: 2% (349/11783)\nu'[Toravon`s whiteout bindings] (/forums/en/wow/topic/17613723413)'\n"
     ]
    },
    {
     "name": "stdout",
     "output_type": "stream",
     "text": [
      "Exiting\n'posts: 7'\nPROGRESS: 2% (350/11783)\nu'[missing runeforging] (/forums/en/wow/topic/17613422170)'\n"
     ]
    },
    {
     "name": "stdout",
     "output_type": "stream",
     "text": [
      "Exiting\n'posts: 4'\nPROGRESS: 2% (351/11783)\nu'[Blood, Unholy or Frost in legion?] (/forums/en/wow/topic/17613722831)'\n"
     ]
    },
    {
     "name": "stdout",
     "output_type": "stream",
     "text": [
      "Exiting\n'posts: 11'\nPROGRESS: 2% (352/11783)\nu'[Feedback - Why Unholy is falling behind] (/forums/en/wow/topic/17613782401)'\n"
     ]
    },
    {
     "name": "stdout",
     "output_type": "stream",
     "text": [
      "Exiting\n'posts: 15'\nPROGRESS: 2% (353/11783)\nu'[DK feedback PvP] (/forums/en/wow/topic/17613733057)'\n"
     ]
    },
    {
     "name": "stdout",
     "output_type": "stream",
     "text": [
      "Exiting\n'posts: 10'\nPROGRESS: 3% (354/11783)\nu'[Blizz, thanks for listening! Now to address scaling] (/forums/en/wow/topic/17613793226)'\n"
     ]
    },
    {
     "name": "stdout",
     "output_type": "stream",
     "text": [
      "Exiting\n'posts: 4'\nPROGRESS: 3% (355/11783)\nu'[PvP and Runeforging] (/forums/en/wow/topic/17612921364)'\n"
     ]
    },
    {
     "name": "stdout",
     "output_type": "stream",
     "text": [
      "Exiting\n'posts: 6'\nPROGRESS: 3% (356/11783)\nu'[Deathlords battlegear] (/forums/en/wow/topic/17613733259)'\n"
     ]
    },
    {
     "name": "stdout",
     "output_type": "stream",
     "text": [
      "[Errno 10054] An existing connection was forcibly closed by the remote host\n"
     ]
    },
    {
     "name": "stdout",
     "output_type": "stream",
     "text": [
      "Exiting\n'posts: 4'\nPROGRESS: 3% (357/11783)\nu'[Frost DK Stats] (/forums/en/wow/topic/17613793194)'\n"
     ]
    },
    {
     "name": "stdout",
     "output_type": "stream",
     "text": [
      "Exiting\n'posts: 2'\nPROGRESS: 3% (358/11783)\nu'[Bring back frost 2H] (/forums/en/wow/topic/17613762923)'\n"
     ]
    },
    {
     "name": "stdout",
     "output_type": "stream",
     "text": [
      "Exiting\n'posts: 6'\nPROGRESS: 3% (359/11783)\nu'[Any Frost Pve Guides around?] (/forums/en/wow/topic/17613723225)'\n"
     ]
    },
    {
     "name": "stdout",
     "output_type": "stream",
     "text": [
      "Exiting\n'posts: 2'\nPROGRESS: 3% (360/11783)\nu'[Lich King Appeared?] (/forums/en/wow/topic/17613733056)'\n"
     ]
    },
    {
     "name": "stdout",
     "output_type": "stream",
     "text": [
      "Exiting\n'posts: 4'\nPROGRESS: 3% (361/11783)\nu'[Frost Death Knight at Late Game better??] (/forums/en/wow/topic/17613781579)'\n"
     ]
    },
    {
     "name": "stdout",
     "output_type": "stream",
     "text": [
      "Exiting\n'posts: 8'\nPROGRESS: 3% (362/11783)\nu'[I Miss Blood DPS] (/forums/en/wow/topic/16946429935)'\n"
     ]
    },
    {
     "name": "stdout",
     "output_type": "stream",
     "text": [
      "HTTPError = 404\n"
     ]
    },
    {
     "name": "stdout",
     "output_type": "stream",
     "text": [
      "Exiting\n'posts: 24'\nPROGRESS: 3% (363/11783)\nu'[Buff from DS (blood)] (/forums/en/wow/topic/17613793033)'\n"
     ]
    },
    {
     "name": "stdout",
     "output_type": "stream",
     "text": [
      "Exiting\n'posts: 3'\nPROGRESS: 3% (364/11783)\nu'[What FDK needs is better Scaling] (/forums/en/wow/topic/17613702809)'\n"
     ]
    },
    {
     "name": "stdout",
     "output_type": "stream",
     "text": [
      "Exiting\n'posts: 6'\nPROGRESS: 3% (365/11783)\nu'[Pets for Unholy] (/forums/en/wow/topic/17613802845)'\n"
     ]
    },
    {
     "name": "stdout",
     "output_type": "stream",
     "text": [
      "Exiting\n'posts: 7'\nPROGRESS: 3% (366/11783)\nu'[Help a healer understand Blood DKs] (/forums/en/wow/topic/17613742929)'\n"
     ]
    },
    {
     "name": "stdout",
     "output_type": "stream",
     "text": [
      "Exiting\n'posts: 9'\nPROGRESS: 3% (367/11783)\nu'[cant compete as unholy in mythic +] (/forums/en/wow/topic/17613792861)'\n"
     ]
    },
    {
     "name": "stdout",
     "output_type": "stream",
     "text": [
      "Exiting\n'posts: 12'\nPROGRESS: 3% (368/11783)\nu'[Correct stat weight] (/forums/en/wow/topic/17613693000)'\n"
     ]
    },
    {
     "name": "stdout",
     "output_type": "stream",
     "text": [
      "Exiting\n'posts: 6'\nPROGRESS: 3% (369/11783)\nu\"[Let's find out what's wrong here.] (/forums/en/wow/topic/17613712849)\"\n"
     ]
    },
    {
     "name": "stdout",
     "output_type": "stream",
     "text": [
      "Exiting\n'posts: 6'\nPROGRESS: 3% (370/11783)\nu'[\"Deadly\" Durability Artifact Perk] (/forums/en/wow/topic/17613792888)'\n"
     ]
    },
    {
     "name": "stdout",
     "output_type": "stream",
     "text": [
      "Exiting\n'posts: 5'\nPROGRESS: 3% (371/11783)\nu'[Can we still hope?] (/forums/en/wow/topic/17613722706)'\n"
     ]
    },
    {
     "name": "stdout",
     "output_type": "stream",
     "text": [
      "Exiting\n'posts: 10'\nPROGRESS: 3% (372/11783)\nu'[cool dk asthetic potential] (/forums/en/wow/topic/17613752867)'\n"
     ]
    },
    {
     "name": "stdout",
     "output_type": "stream",
     "text": [
      "Exiting\n'posts: 1'\nPROGRESS: 3% (373/11783)\nu'[How are you finding blood spec?] (/forums/en/wow/topic/17613692905)'\n"
     ]
    },
    {
     "name": "stdout",
     "output_type": "stream",
     "text": [
      "Exiting\n'posts: 10'\nPROGRESS: 3% (374/11783)\nu'[Stuck in combat] (/forums/en/wow/topic/17613752849)'\n"
     ]
    },
    {
     "name": "stdout",
     "output_type": "stream",
     "text": [
      "Exiting\n'posts: 2'\nPROGRESS: 3% (375/11783)\nu'[cabbage] (/forums/en/wow/topic/17613712823)'\n"
     ]
    },
    {
     "name": "stdout",
     "output_type": "stream",
     "text": [
      "Exiting\n'posts: 1'\nPROGRESS: 3% (376/11783)\nu'[Bring back corpse explosion] (/forums/en/wow/topic/17613732891)'\n"
     ]
    },
    {
     "name": "stdout",
     "output_type": "stream",
     "text": [
      "Exiting\n'posts: 1'\nPROGRESS: 3% (377/11783)\nu'[Evidence of Balance Issues] (/forums/en/wow/topic/17613732758)'\n"
     ]
    },
    {
     "name": "stdout",
     "output_type": "stream",
     "text": [
      "Exiting\n'posts: 4'\nPROGRESS: 3% (378/11783)\nu'[How is Frost doing in PvE?] (/forums/en/wow/topic/17613722876)'\n"
     ]
    },
    {
     "name": "stdout",
     "output_type": "stream",
     "text": [
      "Exiting\n'posts: 19'\nPROGRESS: 3% (379/11783)\nu'[How much should an 850 unholy be dpsing?] (/forums/en/wow/topic/17613801768)'\n"
     ]
    },
    {
     "name": "stdout",
     "output_type": "stream",
     "text": [
      "Exiting\n'posts: 11'\nPROGRESS: 3% (380/11783)\nu\"[RATE THE DK'S NAME ABOVE YOU 3V] (/forums/en/wow/topic/14755345830)\"\n"
     ]
    },
    {
     "name": "stdout",
     "output_type": "stream",
     "text": [
      "HTTPError = 404\n"
     ]
    },
    {
     "name": "stdout",
     "output_type": "stream",
     "text": [
      "HTTPError = 404\n"
     ]
    },
    {
     "name": "stdout",
     "output_type": "stream",
     "text": [
      "Exiting\n'posts: 364'\nPROGRESS: 3% (381/11783)\nu'[feedback for frost DK] (/forums/en/wow/topic/17613732564)'\n"
     ]
    },
    {
     "name": "stdout",
     "output_type": "stream",
     "text": [
      "Exiting\n'posts: 4'\nPROGRESS: 3% (382/11783)\nu'[Male or Female Belf?] (/forums/en/wow/topic/17613722594)'\n"
     ]
    },
    {
     "name": "stdout",
     "output_type": "stream",
     "text": [
      "HTTPError = 404\n"
     ]
    },
    {
     "name": "stdout",
     "output_type": "stream",
     "text": [
      "Exiting\n'posts: 12'\nPROGRESS: 3% (383/11783)\nu'[Cosmetic change Unholy] (/forums/en/wow/topic/17613702470)'\n"
     ]
    },
    {
     "name": "stdout",
     "output_type": "stream",
     "text": [
      "[Errno 10054] An existing connection was forcibly closed by the remote host\n"
     ]
    },
    {
     "name": "stdout",
     "output_type": "stream",
     "text": [
      "Exiting\n'posts: 8'\nPROGRESS: 3% (384/11783)\nu'[Frost DK trinkets & playstyle] (/forums/en/wow/topic/17613802710)'\n"
     ]
    },
    {
     "name": "stdout",
     "output_type": "stream",
     "text": [
      "Exiting\n'posts: 2'\nPROGRESS: 3% (385/11783)\nu\"[Unhappy with the current state of DK's] (/forums/en/wow/topic/17612894249)\"\n"
     ]
    },
    {
     "name": "stdout",
     "output_type": "stream",
     "text": [
      "Exiting\n'posts: 22'\nPROGRESS: 3% (386/11783)\nu'[Were Blood just nerfed?] (/forums/en/wow/topic/17613771768)'\n"
     ]
    },
    {
     "name": "stdout",
     "output_type": "stream",
     "text": [
      "Exiting\n'posts: 9'\nPROGRESS: 3% (387/11783)\nu'[Devs Hate Dks proof] (/forums/en/wow/topic/17613752624)'\n"
     ]
    },
    {
     "name": "stdout",
     "output_type": "stream",
     "text": [
      "Exiting\n'posts: 1'\nPROGRESS: 3% (388/11783)\nu'[Wraith Walk is awful.] (/forums/en/wow/topic/17613711841)'\n"
     ]
    },
    {
     "name": "stdout",
     "output_type": "stream",
     "text": [
      "Exiting\n'posts: 19'\nPROGRESS: 3% (389/11783)\nu'[Unholy is actually getting left behind] (/forums/en/wow/topic/17613701926)'\n"
     ]
    },
    {
     "name": "stdout",
     "output_type": "stream",
     "text": [
      "Exiting\n'posts: 27'\nPROGRESS: 3% (390/11783)\nu'[3s problem] (/forums/en/wow/topic/17613692660)'\n"
     ]
    },
    {
     "name": "stdout",
     "output_type": "stream",
     "text": [
      "Exiting\n'posts: 3'\nPROGRESS: 3% (391/11783)\nu'[Legion QA 7.1] (/forums/en/wow/topic/17613762642)'\n"
     ]
    },
    {
     "name": "stdout",
     "output_type": "stream",
     "text": [
      "Exiting\n'posts: 2'\nPROGRESS: 3% (392/11783)\nu'[Frost or Unholy in PvP ?] (/forums/en/wow/topic/17613732623)'\n"
     ]
    },
    {
     "name": "stdout",
     "output_type": "stream",
     "text": [
      "Exiting\n'posts: 2'\nPROGRESS: 3% (393/11783)\nu'[The Ebon Hold and missing NPCs] (/forums/en/wow/topic/17613742342)'\n"
     ]
    },
    {
     "name": "stdout",
     "output_type": "stream",
     "text": [
      "HTTPError = 404\n"
     ]
    },
    {
     "name": "stdout",
     "output_type": "stream",
     "text": [
      "Exiting\n'posts: 3'\nPROGRESS: 3% (394/11783)\nu'[Dont make us play frost.] (/forums/en/wow/topic/17613712450)'\n"
     ]
    },
    {
     "name": "stdout",
     "output_type": "stream",
     "text": [
      "Exiting\n'posts: 2'\nPROGRESS: 3% (395/11783)\nu'[How is blood dk atm?] (/forums/en/wow/topic/17613692137)'\n"
     ]
    },
    {
     "name": "stdout",
     "output_type": "stream",
     "text": [
      "Exiting\n'posts: 21'\nPROGRESS: 3% (396/11783)\nu'[Frost am i gonna have bad time?!] (/forums/en/wow/topic/17613692379)'\n"
     ]
    },
    {
     "name": "stdout",
     "output_type": "stream",
     "text": [
      "Exiting\n'posts: 13'\nPROGRESS: 3% (397/11783)\nu'[frost dk pvp] (/forums/en/wow/topic/17613742533)'\n"
     ]
    },
    {
     "name": "stdout",
     "output_type": "stream",
     "text": [
      "Exiting\n'posts: 4'\nPROGRESS: 3% (398/11783)\nu'[For those who say dk arent mean to be mobile] (/forums/en/wow/topic/17613801745)'\n"
     ]
    },
    {
     "name": "stdout",
     "output_type": "stream",
     "text": [
      "Exiting\n'posts: 2'\nPROGRESS: 3% (399/11783)\nu'[Buffing single target dps] (/forums/en/wow/topic/17613692581)'\n"
     ]
    },
    {
     "name": "stdout",
     "output_type": "stream",
     "text": [
      "Exiting\n'posts: 6'\nPROGRESS: 3% (400/11783)\nu'[Unholy Death Knight - Doing low DPS] (/forums/en/wow/topic/17613692550)'\n"
     ]
    },
    {
     "name": "stdout",
     "output_type": "stream",
     "text": [
      "Exiting\n'posts: 6'\nPROGRESS: 3% (401/11783)\nu'[Unholy changes that HAS to happen] (/forums/en/wow/topic/17613533838)'\n"
     ]
    },
    {
     "name": "stdout",
     "output_type": "stream",
     "text": [
      "Exiting\n'posts: 55'\nPROGRESS: 3% (402/11783)\nu'[Frost DK / Runic Attenuation or Frostscythe ?] (/forums/en/wow/topic/17613771974)'\n"
     ]
    },
    {
     "name": "stdout",
     "output_type": "stream",
     "text": [
      "HTTPError = 404\nHTTPError = 404\n"
     ]
    },
    {
     "name": "stdout",
     "output_type": "stream",
     "text": [
      "Exiting\n'posts: 11'\nPROGRESS: 3% (403/11783)\nu'[A slow hard hitting class] (/forums/en/wow/topic/17613702287)'\n"
     ]
    },
    {
     "name": "stdout",
     "output_type": "stream",
     "text": [
      "Exiting\n'posts: 8'\nPROGRESS: 3% (404/11783)\nu'[DK or Warrior?] (/forums/en/wow/topic/17289080208)'\n"
     ]
    },
    {
     "name": "stdout",
     "output_type": "stream",
     "text": [
      "Exiting\n'posts: 27'\nPROGRESS: 3% (405/11783)\nu'[Not a memorable experience!] (/forums/en/wow/topic/17613601334)'\n"
     ]
    },
    {
     "name": "stdout",
     "output_type": "stream",
     "text": [
      "Exiting\n'posts: 8'\nPROGRESS: 3% (406/11783)\nu'[New Sims (NOT SIMS GAME )] (/forums/en/wow/topic/17613791890)'\n"
     ]
    },
    {
     "name": "stdout",
     "output_type": "stream",
     "text": [
      "Exiting\n'posts: 20'\nPROGRESS: 3% (407/11783)\nu'[Possible hint for the frost hidden skin?] (/forums/en/wow/topic/17613503318)'\n"
     ]
    },
    {
     "name": "stdout",
     "output_type": "stream",
     "text": [
      "Exiting\n'posts: 10'\nPROGRESS: 3% (408/11783)\nu'[Did they stealth nerf Unholy?] (/forums/en/wow/topic/17613752245)'\n"
     ]
    },
    {
     "name": "stdout",
     "output_type": "stream",
     "text": [
      "Exiting\n'posts: 7'\nPROGRESS: 3% (409/11783)\nu'[Teron gorefiend as future dk follower?] (/forums/en/wow/topic/17613692422)'\n"
     ]
    },
    {
     "name": "stdout",
     "output_type": "stream",
     "text": [
      "Exiting\n'posts: 2'\nPROGRESS: 3% (410/11783)\nu'[Just started] (/forums/en/wow/topic/17613802179)'\n"
     ]
    },
    {
     "name": "stdout",
     "output_type": "stream",
     "text": [
      "Exiting\n'posts: 4'\nPROGRESS: 3% (411/11783)\nu'[[Frost] Ideas and Suggestions [More QQ]] (/forums/en/wow/topic/17613791311)'\n"
     ]
    },
    {
     "name": "stdout",
     "output_type": "stream",
     "text": [
      "Exiting\n'posts: 11'\nPROGRESS: 3% (412/11783)\nu'[DeathKnight DPS spec. Frost or Unholy?] (/forums/en/wow/topic/17613681267)'\n"
     ]
    },
    {
     "name": "stdout",
     "output_type": "stream",
     "text": [
      "HTTPError = 404\n"
     ]
    },
    {
     "name": "stdout",
     "output_type": "stream",
     "text": [
      "Exiting\n'posts: 24'\nPROGRESS: 3% (413/11783)\nu'[increased range on frost strike] (/forums/en/wow/topic/17613801722)'\n"
     ]
    },
    {
     "name": "stdout",
     "output_type": "stream",
     "text": [
      "[Errno 10054] An existing connection was forcibly closed by the remote host\nHTTPError = 404\n"
     ]
    },
    {
     "name": "stdout",
     "output_type": "stream",
     "text": [
      "[Errno 10054] An existing connection was forcibly closed by the remote host\n"
     ]
    },
    {
     "name": "stdout",
     "output_type": "stream",
     "text": [
      "Exiting\n'posts: 4'\nPROGRESS: 3% (414/11783)\nu'[Acherus Weapons for Xmog?] (/forums/en/wow/topic/17613711930)'\n"
     ]
    },
    {
     "name": "stdout",
     "output_type": "stream",
     "text": [
      "Exiting\n'posts: 3'\nPROGRESS: 3% (415/11783)\nu'[(PvP) Clawing Shadows Vs Scourge Strike] (/forums/en/wow/topic/17613711412)'\n"
     ]
    },
    {
     "name": "stdout",
     "output_type": "stream",
     "text": [
      "Exiting\n'posts: 9'\nPROGRESS: 3% (416/11783)\nu'[Long-awaited changes for Frost in 7.1] (/forums/en/wow/topic/17613731947)'\n"
     ]
    },
    {
     "name": "stdout",
     "output_type": "stream",
     "text": [
      "Exiting\n'posts: 3'\nPROGRESS: 3% (417/11783)\nu\"[Howling Blast can't generate RP] (/forums/en/wow/topic/17613731730)\"\n"
     ]
    },
    {
     "name": "stdout",
     "output_type": "stream",
     "text": [
      "HTTPError = 404\n"
     ]
    },
    {
     "name": "stdout",
     "output_type": "stream",
     "text": [
      "Exiting\n'posts: 4'\nPROGRESS: 3% (418/11783)\nu'[Castigator or clawing shadows] (/forums/en/wow/topic/17613721910)'\n"
     ]
    },
    {
     "name": "stdout",
     "output_type": "stream",
     "text": [
      "Exiting\n'posts: 7'\nPROGRESS: 3% (419/11783)\nu\"[Blood DK problem's] (/forums/en/wow/topic/17613502992)\"\n"
     ]
    },
    {
     "name": "stdout",
     "output_type": "stream",
     "text": [
      "Exiting\n'posts: 32'\nPROGRESS: 3% (420/11783)\nu'[Frost dk changes] (/forums/en/wow/topic/17613751855)'\n"
     ]
    },
    {
     "name": "stdout",
     "output_type": "stream",
     "text": [
      "Exiting\n'posts: 2'\nPROGRESS: 3% (421/11783)\nu'[Class Fantasy - Slow moving? Yes. Hard hitting? No.] (/forums/en/wow/topic/17613741566)'\n"
     ]
    },
    {
     "name": "stdout",
     "output_type": "stream",
     "text": [
      "Exiting\n'posts: 15'\nPROGRESS: 3% (422/11783)\nu'[Frost Artifact wep change pls] (/forums/en/wow/topic/17613691746)'\n"
     ]
    },
    {
     "name": "stdout",
     "output_type": "stream",
     "text": [
      "Exiting\n'posts: 11'\nPROGRESS: 3% (423/11783)\nu'[Unholy apocalypse trait portal to the underworld] (/forums/en/wow/topic/17613731705)'\n"
     ]
    },
    {
     "name": "stdout",
     "output_type": "stream",
     "text": [
      "Exiting\n'posts: 3'\nPROGRESS: 3% (424/11783)\nu'[Current DK state and what needs to change (imo)] (/forums/en/wow/topic/17613751314)'\n"
     ]
    },
    {
     "name": "stdout",
     "output_type": "stream",
     "text": [
      "Exiting\n'posts: 19'\nPROGRESS: 3% (425/11783)\nu'[death strike shield] (/forums/en/wow/topic/17613771597)'\n"
     ]
    },
    {
     "name": "stdout",
     "output_type": "stream",
     "text": [
      "Exiting\n'posts: 4'\nPROGRESS: 3% (426/11783)\nu'[Fix our !@#$ING mobility] (/forums/en/wow/topic/17613571204)'\n"
     ]
    },
    {
     "name": "stdout",
     "output_type": "stream",
     "text": [
      "Exiting\n'posts: 11'\nPROGRESS: 3% (427/11783)\nu\"[BRING BACK DEATH'S ADVANCE] (/forums/en/wow/topic/17613721451)\"\n"
     ]
    },
    {
     "name": "stdout",
     "output_type": "stream",
     "text": [
      "Exiting\n'posts: 3'\nPROGRESS: 3% (428/11783)\nu'[Is it just me or DKs feel undertuned?] (/forums/en/wow/topic/17613731502)'\n"
     ]
    },
    {
     "name": "stdout",
     "output_type": "stream",
     "text": [
      "Exiting\n'posts: 5'\nPROGRESS: 3% (429/11783)\nu'[Can someone check my rotation please.] (/forums/en/wow/topic/17613781727)'\n"
     ]
    },
    {
     "name": "stdout",
     "output_type": "stream",
     "text": [
      "[Errno 10054] An existing connection was forcibly closed by the remote host\n"
     ]
    },
    {
     "name": "stdout",
     "output_type": "stream",
     "text": [
      "Exiting\n'posts: 1'\nPROGRESS: 3% (430/11783)\nu'[warcraft discord server] (/forums/en/wow/topic/17613711682)'\n"
     ]
    },
    {
     "name": "stdout",
     "output_type": "stream",
     "text": [
      "Exiting\n'posts: 1'\nPROGRESS: 3% (431/11783)\nu'[Is RNG Hidden apperance fun?] (/forums/en/wow/topic/17613691209)'\n"
     ]
    },
    {
     "name": "stdout",
     "output_type": "stream",
     "text": [
      "Exiting\n'posts: 15'\nPROGRESS: 3% (432/11783)\nu'[Cant break 200k dps in raids as Unholy @ 851 ilvl] (/forums/en/wow/topic/17613711392)'\n"
     ]
    },
    {
     "name": "stdout",
     "output_type": "stream",
     "text": [
      "Exiting\n'posts: 17'\nPROGRESS: 3% (433/11783)\nu'[3 usless classes] (/forums/en/wow/topic/17613751655)'\n"
     ]
    },
    {
     "name": "stdout",
     "output_type": "stream",
     "text": [
      "Exiting\n'posts: 3'\nPROGRESS: 3% (434/11783)\nu'[Frost Crux - How does it work?] (/forums/en/wow/topic/17613731661)'\n"
     ]
    },
    {
     "name": "stdout",
     "output_type": "stream",
     "text": [
      "[Errno 10054] An existing connection was forcibly closed by the remote host\n"
     ]
    },
    {
     "name": "stdout",
     "output_type": "stream",
     "text": [
      "Exiting\n'posts: 2'\nPROGRESS: 3% (435/11783)\nu'[Bugs, bugs, bugs] (/forums/en/wow/topic/17613731296)'\n"
     ]
    },
    {
     "name": "stdout",
     "output_type": "stream",
     "text": [
      "Exiting\n'posts: 3'\nPROGRESS: 3% (436/11783)\nu'[Hopes for Blood in 7.1] (/forums/en/wow/topic/17613701443)'\n"
     ]
    },
    {
     "name": "stdout",
     "output_type": "stream",
     "text": [
      "Exiting\n'posts: 7'\nPROGRESS: 3% (437/11783)\nu'[just saw this....] (/forums/en/wow/topic/17613721511)'\n"
     ]
    },
    {
     "name": "stdout",
     "output_type": "stream",
     "text": [
      "Exiting\n'posts: 11'\nPROGRESS: 3% (438/11783)\nu'[Unholy Death Knight Gearing/Talents] (/forums/en/wow/topic/17613751567)'\n"
     ]
    },
    {
     "name": "stdout",
     "output_type": "stream",
     "text": [
      "Exiting\n'posts: 4'\nPROGRESS: 3% (439/11783)\nu\"[I'm skeptical about Haste/Mastery for Blood DKs.] (/forums/en/wow/topic/17613731504)\"\n"
     ]
    },
    {
     "name": "stdout",
     "output_type": "stream",
     "text": [
      "Exiting\n'posts: 6'\nPROGRESS: 3% (440/11783)\nu'[Share your stat priority + numbers for 7.0.3.] (/forums/en/wow/topic/17613731505)'\n"
     ]
    },
    {
     "name": "stdout",
     "output_type": "stream",
     "text": [
      "Exiting\n'posts: 2'\nPROGRESS: 3% (441/11783)\nu'[Critics and Unholy class fanatsy] (/forums/en/wow/topic/17613503586)'\n"
     ]
    },
    {
     "name": "stdout",
     "output_type": "stream",
     "text": [
      "[Errno 10054] An existing connection was forcibly closed by the remote host\n"
     ]
    },
    {
     "name": "stdout",
     "output_type": "stream",
     "text": [
      "Exiting\n'posts: 11'\nPROGRESS: 3% (442/11783)\nu'[Unholy DK dps Loss] (/forums/en/wow/topic/17613781489)'\n"
     ]
    },
    {
     "name": "stdout",
     "output_type": "stream",
     "text": [
      "Exiting\n'posts: 5'\nPROGRESS: 3% (443/11783)\nu'[Rune of Razorice does not work in PvP] (/forums/en/wow/topic/17613523713)'\n"
     ]
    },
    {
     "name": "stdout",
     "output_type": "stream",
     "text": [
      "Exiting\n'posts: 6'\nPROGRESS: 3% (444/11783)\nu'[Glacial Advance not registering] (/forums/en/wow/topic/17613691422)'\n"
     ]
    },
    {
     "name": "stdout",
     "output_type": "stream",
     "text": [
      "Exiting\n'posts: 5'\nPROGRESS: 3% (445/11783)\nu'[Need Help In pve] (/forums/en/wow/topic/17613533761)'\n"
     ]
    },
    {
     "name": "stdout",
     "output_type": "stream",
     "text": [
      "Exiting\n'posts: 4'\nPROGRESS: 3% (446/11783)\nu'[DK Power BG] (/forums/en/wow/topic/17613801409)'\n"
     ]
    },
    {
     "name": "stdout",
     "output_type": "stream",
     "text": [
      "Exiting\n'posts: 1'\nPROGRESS: 3% (447/11783)\nu'[Update Abomination Model] (/forums/en/wow/topic/17613112467)'\n"
     ]
    },
    {
     "name": "stdout",
     "output_type": "stream",
     "text": [
      "Exiting\n'posts: 9'\nPROGRESS: 3% (448/11783)\nu'[Unholy pawn strings] (/forums/en/wow/topic/17613731237)'\n"
     ]
    },
    {
     "name": "stdout",
     "output_type": "stream",
     "text": [
      "Exiting\n'posts: 6'\nPROGRESS: 3% (449/11783)\nu'[Red DK Transmogs for Alliance] (/forums/en/wow/topic/17613691301)'\n"
     ]
    },
    {
     "name": "stdout",
     "output_type": "stream",
     "text": [
      "Exiting\n'posts: 5'\nPROGRESS: 3% (450/11783)\nu'[Which trinkets ?] (/forums/en/wow/topic/17613621301)'\n"
     ]
    },
    {
     "name": "stdout",
     "output_type": "stream",
     "text": [
      "Exiting\n'posts: 3'\nPROGRESS: 3% (451/11783)\nu'[UH best comps] (/forums/en/wow/topic/17613781331)'\n"
     ]
    },
    {
     "name": "stdout",
     "output_type": "stream",
     "text": [
      "Exiting\n'posts: 2'\nPROGRESS: 3% (452/11783)\nu'[Runeforging not working in PVP (Frost)] (/forums/en/wow/topic/17613611261)'\n"
     ]
    },
    {
     "name": "stdout",
     "output_type": "stream",
     "text": [
      "Exiting\n'posts: 4'\nPROGRESS: 3% (453/11783)\nu'[Rune of Razorice fix] (/forums/en/wow/topic/17613731317)'\n"
     ]
    },
    {
     "name": "stdout",
     "output_type": "stream",
     "text": [
      "Exiting\n'posts: 1'\nPROGRESS: 3% (454/11783)\nu'[Another day has passed.] (/forums/en/wow/topic/17613731310)'\n"
     ]
    },
    {
     "name": "stdout",
     "output_type": "stream",
     "text": [
      "Exiting\n'posts: 1'\nPROGRESS: 3% (455/11783)\nu'[Dark Stampede] (/forums/en/wow/topic/17613751268)'\n"
     ]
    },
    {
     "name": "stdout",
     "output_type": "stream",
     "text": [
      "Exiting\n'posts: 1'\nPROGRESS: 3% (456/11783)\nu'[Castigator; how much crit?] (/forums/en/wow/topic/17613771201)'\n"
     ]
    },
    {
     "name": "stdout",
     "output_type": "stream",
     "text": [
      "Exiting\n'posts: 6'\nPROGRESS: 3% (457/11783)\nu'[All Will Serve] (/forums/en/wow/topic/17613591227)'\n"
     ]
    },
    {
     "name": "stdout",
     "output_type": "stream",
     "text": [
      "Exiting\n'posts: 5'\nPROGRESS: 3% (458/11783)\nu'[Quick Question for a non Dk, Pvp] (/forums/en/wow/topic/17613691227)'\n"
     ]
    },
    {
     "name": "stdout",
     "output_type": "stream",
     "text": [
      "Exiting\n'posts: 2'\nPROGRESS: 3% (459/11783)\nu'[Is frost coming back soon?] (/forums/en/wow/topic/17613553767)'\n"
     ]
    },
    {
     "name": "stdout",
     "output_type": "stream",
     "text": [
      "Exiting\n'posts: 10'\nPROGRESS: 3% (460/11783)\nu'[Fix rune of razorice] (/forums/en/wow/topic/17613711199)'\n"
     ]
    },
    {
     "name": "stdout",
     "output_type": "stream",
     "text": [
      "Exiting\n'posts: 2'\nPROGRESS: 3% (461/11783)\nu'[Are Frost viable pvp atm?] (/forums/en/wow/topic/17613581337)'\n"
     ]
    },
    {
     "name": "stdout",
     "output_type": "stream",
     "text": [
      "Exiting\n'posts: 3'\nPROGRESS: 3% (462/11783)\nu'[frost dk need stun!!!!!] (/forums/en/wow/topic/17613641233)'\n"
     ]
    },
    {
     "name": "stdout",
     "output_type": "stream",
     "text": [
      "Exiting\n'posts: 5'\nPROGRESS: 3% (463/11783)\nu'[Remove Magic SHELL] (/forums/en/wow/topic/17613641257)'\n"
     ]
    },
    {
     "name": "stdout",
     "output_type": "stream",
     "text": [
      "Exiting\n'posts: 15'\nPROGRESS: 3% (464/11783)\nu'[Give IBF back to Blood] (/forums/en/wow/topic/17613493553)'\n"
     ]
    },
    {
     "name": "stdout",
     "output_type": "stream",
     "text": [
      "Exiting\n'posts: 16'\nPROGRESS: 3% (465/11783)\nu'[Player founds the hidden artifact appearance for Frost.] (/forums/en/wow/topic/17613581212)'\n"
     ]
    },
    {
     "name": "stdout",
     "output_type": "stream",
     "text": [
      "Exiting\n'posts: 3'\nPROGRESS: 3% (466/11783)\nu'[Returning player] (/forums/en/wow/topic/17613463769)'\n"
     ]
    },
    {
     "name": "stdout",
     "output_type": "stream",
     "text": [
      "[Errno 10054] An existing connection was forcibly closed by the remote host\n"
     ]
    },
    {
     "name": "stdout",
     "output_type": "stream",
     "text": [
      "Exiting\n'posts: 6'\nPROGRESS: 3% (467/11783)\nu'[UNHOLY HIDDEN APPEARANCE FOUND] (/forums/en/wow/topic/17613523786)'\n"
     ]
    },
    {
     "name": "stdout",
     "output_type": "stream",
     "text": [
      "Exiting\n'posts: 4'\nPROGRESS: 3% (468/11783)\nu'[What trinket combination for PVE] (/forums/en/wow/topic/17613473657)'\n"
     ]
    },
    {
     "name": "stdout",
     "output_type": "stream",
     "text": [
      "Exiting\n'posts: 5'\nPROGRESS: 3% (469/11783)\nu'[Frost DK PvP Specs (Arena & BG)] (/forums/en/wow/topic/17613533711)'\n"
     ]
    },
    {
     "name": "stdout",
     "output_type": "stream",
     "text": [
      "Exiting\n'posts: 4'\nPROGRESS: 3% (470/11783)\nu'[The State of Death Knights] (/forums/en/wow/topic/17613513551)'\n"
     ]
    },
    {
     "name": "stdout",
     "output_type": "stream",
     "text": [
      "Exiting\n'posts: 12'\nPROGRESS: 3% (471/11783)\nu'[FDK hidden appereance US current status] (/forums/en/wow/topic/17613563767)'\n"
     ]
    },
    {
     "name": "stdout",
     "output_type": "stream",
     "text": [
      "Exiting\n'posts: 2'\nPROGRESS: 4% (472/11783)\nu'[A little help about DKs] (/forums/en/wow/topic/17613553593)'\n"
     ]
    },
    {
     "name": "stdout",
     "output_type": "stream",
     "text": [
      "HTTPError = 404\n"
     ]
    },
    {
     "name": "stdout",
     "output_type": "stream",
     "text": [
      "Exiting\n'posts: 3'\nPROGRESS: 4% (473/11783)\nu'[Unholy hidden skin] (/forums/en/wow/topic/17613543650)'\n"
     ]
    },
    {
     "name": "stdout",
     "output_type": "stream",
     "text": [
      "Exiting\n'posts: 4'\nPROGRESS: 4% (474/11783)\nu'[BDK Cenarius and spectral deflection] (/forums/en/wow/topic/17613533676)'\n"
     ]
    },
    {
     "name": "stdout",
     "output_type": "stream",
     "text": [
      "Exiting\n'posts: 2'\nPROGRESS: 4% (475/11783)\nu'[Are UH DKs undertuned?] (/forums/en/wow/topic/17613522363)'\n"
     ]
    },
    {
     "name": "stdout",
     "output_type": "stream",
     "text": [
      "Exiting\n'posts: 28'\nPROGRESS: 4% (476/11783)\nu'[No devs giving any comments on DKs] (/forums/en/wow/topic/17613462629)'\n"
     ]
    },
    {
     "name": "stdout",
     "output_type": "stream",
     "text": [
      "HTTPError = 404\n"
     ]
    },
    {
     "name": "stdout",
     "output_type": "stream",
     "text": [
      "Exiting\n'posts: 17'\nPROGRESS: 4% (477/11783)\nu\"[Bonereaper's hook found] (/forums/en/wow/topic/17613492248)\"\n"
     ]
    },
    {
     "name": "stdout",
     "output_type": "stream",
     "text": [
      "[Errno 10054] An existing connection was forcibly closed by the remote host\n"
     ]
    },
    {
     "name": "stdout",
     "output_type": "stream",
     "text": [
      "HTTPError = 404\n"
     ]
    },
    {
     "name": "stdout",
     "output_type": "stream",
     "text": [
      "Exiting\n'posts: 7'\nPROGRESS: 4% (478/11783)\nu'[Pala talent Pure of Heart] (/forums/en/wow/topic/17613473539)'\nHTTPError = 404\n"
     ]
    },
    {
     "name": "stdout",
     "output_type": "stream",
     "text": [
      "Exiting\n'posts: 8'\nPROGRESS: 4% (479/11783)\nu'[Crit and Haste question...] (/forums/en/wow/topic/17613543175)'\nHTTPError = 404\n"
     ]
    },
    {
     "name": "stdout",
     "output_type": "stream",
     "text": [
      "Exiting\n'posts: 14'\nPROGRESS: 4% (480/11783)\nu'[Frost single target rotation] (/forums/en/wow/topic/17613452861)'\n"
     ]
    },
    {
     "name": "stdout",
     "output_type": "stream",
     "text": [
      "[Errno 10054] An existing connection was forcibly closed by the remote host\n"
     ]
    },
    {
     "name": "stdout",
     "output_type": "stream",
     "text": [
      "Exiting\n'posts: 14'\nPROGRESS: 4% (481/11783)\nu'[Unable to use Death Gate] (/forums/en/wow/topic/17613483444)'\n"
     ]
    },
    {
     "name": "stdout",
     "output_type": "stream",
     "text": [
      "Exiting\n'posts: 2'\nPROGRESS: 4% (482/11783)\nu'[Mobility issues] (/forums/en/wow/topic/17613503471)'\n"
     ]
    },
    {
     "name": "stdout",
     "output_type": "stream",
     "text": [
      "Exiting\n'posts: 3'\nPROGRESS: 4% (483/11783)\nu'[Do Frost have the worst artifact skill in the game?] (/forums/en/wow/topic/17613472151)'\n"
     ]
    },
    {
     "name": "stdout",
     "output_type": "stream",
     "text": [
      "Exiting\n'posts: 11'\nPROGRESS: 4% (484/11783)\nu'[Questions/discussion regarding DK 2v2.] (/forums/en/wow/topic/17613473613)'\n"
     ]
    },
    {
     "name": "stdout",
     "output_type": "stream",
     "text": [
      "Exiting\n'posts: 1'\nPROGRESS: 4% (485/11783)\nu\"[Datamined Items about Bonereaper's hook] (/forums/en/wow/topic/17613523376)\"\n"
     ]
    },
    {
     "name": "stdout",
     "output_type": "stream",
     "text": [
      "Exiting\n'posts: 6'\nPROGRESS: 4% (486/11783)\nu'[Korgaz Deadaxe] (/forums/en/wow/topic/17613553557)'\n"
     ]
    },
    {
     "name": "stdout",
     "output_type": "stream",
     "text": [
      "Exiting\n'posts: 1'\nPROGRESS: 4% (487/11783)\nu'[The bonereaper hook] (/forums/en/wow/topic/17613452874)'\n"
     ]
    },
    {
     "name": "stdout",
     "output_type": "stream",
     "text": [
      "Exiting\n'posts: 6'\nPROGRESS: 4% (488/11783)\nu'[Have you tried Corpse exploding Archeology sites?] (/forums/en/wow/topic/17613533477)'\n"
     ]
    },
    {
     "name": "stdout",
     "output_type": "stream",
     "text": [
      "Exiting\n'posts: 2'\nPROGRESS: 4% (489/11783)\nu'[State of Frost] (/forums/en/wow/topic/17613512624)'\n"
     ]
    },
    {
     "name": "stdout",
     "output_type": "stream",
     "text": [
      "Exiting\n'posts: 23'\nPROGRESS: 4% (490/11783)\nu'[The Bonereaper Skin Found By Someone] (/forums/en/wow/topic/17613532821)'\n"
     ]
    },
    {
     "name": "stdout",
     "output_type": "stream",
     "text": [
      "Exiting\n'posts: 4'\nPROGRESS: 4% (491/11783)\nu'[Dk State In arena 2/3 s] (/forums/en/wow/topic/17613493348)'\n"
     ]
    },
    {
     "name": "stdout",
     "output_type": "stream",
     "text": [
      "Exiting\n'posts: 5'\nPROGRESS: 4% (492/11783)\nu'[Pre-raid trinkets] (/forums/en/wow/topic/17613513348)'\n"
     ]
    },
    {
     "name": "stdout",
     "output_type": "stream",
     "text": [
      "Exiting\n'posts: 3'\nPROGRESS: 4% (493/11783)\nu'[squishy and no burst] (/forums/en/wow/topic/17613523422)'\n"
     ]
    },
    {
     "name": "stdout",
     "output_type": "stream",
     "text": [
      "Exiting\n'posts: 3'\nPROGRESS: 4% (494/11783)\nu'[RAZORICE STILL NOT WORKING IN PVP] (/forums/en/wow/topic/17613473105)'\n"
     ]
    },
    {
     "name": "stdout",
     "output_type": "stream",
     "text": [
      "Exiting\n'posts: 19'\nPROGRESS: 4% (495/11783)\nu'[Help! Blood Dk Artifact Questline Impossible] (/forums/en/wow/topic/17613553160)'\n"
     ]
    },
    {
     "name": "stdout",
     "output_type": "stream",
     "text": [
      "Exiting\n'posts: 6'\nPROGRESS: 4% (496/11783)\nu'[New PvE Blood DK - Few Questions] (/forums/en/wow/topic/17613553424)'\n"
     ]
    },
    {
     "name": "stdout",
     "output_type": "stream",
     "text": [
      "Exiting\n'posts: 5'\nPROGRESS: 4% (497/11783)\nu'[Fvck the forums, just do your thing] (/forums/en/wow/topic/17613453154)'\n"
     ]
    },
    {
     "name": "stdout",
     "output_type": "stream",
     "text": [
      "Exiting\n'posts: 5'\nPROGRESS: 4% (498/11783)\nu'[Does spec matter for a casual player?] (/forums/en/wow/topic/17613513236)'\n"
     ]
    },
    {
     "name": "stdout",
     "output_type": "stream",
     "text": [
      "Exiting\n'posts: 8'\nPROGRESS: 4% (499/11783)\nu'[Patch 7.1 Necrotic Strike] (/forums/en/wow/topic/17613542975)'\n"
     ]
    },
    {
     "name": "stdout",
     "output_type": "stream",
     "text": [
      "Exiting\n'posts: 17'\nPROGRESS: 4% (500/11783)\nu'[Frost DK... anyone got selfhealing tips?] (/forums/en/wow/topic/17613512845)'\n"
     ]
    },
    {
     "name": "stdout",
     "output_type": "stream",
     "text": [
      "Exiting\n'posts: 19'\nPROGRESS: 4% (501/11783)\nu'[Apocalypse Artifact Ability - bugged?] (/forums/en/wow/topic/17613543283)'\n"
     ]
    },
    {
     "name": "stdout",
     "output_type": "stream",
     "text": [
      "Exiting\n'posts: 1'\nPROGRESS: 4% (502/11783)\nu'[Class Hall set, needs 2h weapon] (/forums/en/wow/topic/17613483054)'\n"
     ]
    },
    {
     "name": "stdout",
     "output_type": "stream",
     "text": [
      "Exiting\n'posts: 9'\nPROGRESS: 4% (503/11783)\nu'[Did my first frost mythics!] (/forums/en/wow/topic/17613463022)'\n"
     ]
    },
    {
     "name": "stdout",
     "output_type": "stream",
     "text": [
      "Exiting\n'posts: 16'\nPROGRESS: 4% (504/11783)\nu'[Who is the best follower to max first?] (/forums/en/wow/topic/17613533284)'\n"
     ]
    },
    {
     "name": "stdout",
     "output_type": "stream",
     "text": [
      "Exiting\n'posts: 2'\nPROGRESS: 4% (505/11783)\nu'[Feedback: Death Knights NEED help] (/forums/en/wow/topic/17613503222)'\n"
     ]
    },
    {
     "name": "stdout",
     "output_type": "stream",
     "text": [
      "Exiting\n'posts: 3'\nPROGRESS: 4% (506/11783)\nu'[State of DKs in Legion (so far)] (/forums/en/wow/topic/17613562919)'\n"
     ]
    },
    {
     "name": "stdout",
     "output_type": "stream",
     "text": [
      "Exiting\n'posts: 17'\nPROGRESS: 4% (507/11783)\nu'[Could Need some advice on Frost] (/forums/en/wow/topic/17613522948)'\n"
     ]
    },
    {
     "name": "stdout",
     "output_type": "stream",
     "text": [
      "Exiting\n'posts: 10'\nPROGRESS: 4% (508/11783)\nu'[Tips and guides for tanks!] (/forums/en/wow/topic/17613543013)'\n"
     ]
    },
    {
     "name": "stdout",
     "output_type": "stream",
     "text": [
      "Exiting\n'posts: 2'\nPROGRESS: 4% (509/11783)\nu'[FDK builds] (/forums/en/wow/topic/17613492865)'\n"
     ]
    },
    {
     "name": "stdout",
     "output_type": "stream",
     "text": [
      "Exiting\n'posts: 6'\nPROGRESS: 4% (510/11783)\nu'[Returning DK] (/forums/en/wow/topic/17613492996)'\n"
     ]
    },
    {
     "name": "stdout",
     "output_type": "stream",
     "text": [
      "Exiting\n'posts: 2'\nPROGRESS: 4% (511/11783)\nu'[7.1 Frozen Center Revert] (/forums/en/wow/topic/17613472993)'\n"
     ]
    },
    {
     "name": "stdout",
     "output_type": "stream",
     "text": [
      "Exiting\n'posts: 7'\nPROGRESS: 4% (512/11783)\nu'[Blood DK DPS?] (/forums/en/wow/topic/17613492953)'\n"
     ]
    },
    {
     "name": "stdout",
     "output_type": "stream",
     "text": [
      "Exiting\n'posts: 4'\nPROGRESS: 4% (513/11783)\nu'[Broken Isles Pathfinder, Part One and Death Knight] (/forums/en/wow/topic/17613451902)'\n"
     ]
    },
    {
     "name": "stdout",
     "output_type": "stream",
     "text": [
      "Exiting\n'posts: 10'\nPROGRESS: 4% (514/11783)\nu'[Hotfix 28] (/forums/en/wow/topic/17613503008)'\n"
     ]
    },
    {
     "name": "stdout",
     "output_type": "stream",
     "text": [
      "Exiting\n'posts: 3'\nPROGRESS: 4% (515/11783)\nu'[are we going to be the \"new warlock\"] (/forums/en/wow/topic/17613472420)'\n"
     ]
    },
    {
     "name": "stdout",
     "output_type": "stream",
     "text": [
      "[Errno 10054] An existing connection was forcibly closed by the remote host\n"
     ]
    },
    {
     "name": "stdout",
     "output_type": "stream",
     "text": [
      "Exiting\n'posts: 23'\nPROGRESS: 4% (516/11783)\nu'[Frost or unholy?] (/forums/en/wow/topic/17613481848)'\n"
     ]
    },
    {
     "name": "stdout",
     "output_type": "stream",
     "text": [
      "Exiting\n'posts: 14'\nPROGRESS: 4% (517/11783)\nu'[Why are blood pvp talents a downgrade?] (/forums/en/wow/topic/17613472959)'\n"
     ]
    },
    {
     "name": "stdout",
     "output_type": "stream",
     "text": [
      "Exiting\n'posts: 5'\nPROGRESS: 4% (518/11783)\nu'[Could Unholy summons appearances be made customizable?] (/forums/en/wow/topic/17613452637)'\n"
     ]
    },
    {
     "name": "stdout",
     "output_type": "stream",
     "text": [
      "Exiting\n'posts: 6'\nPROGRESS: 4% (519/11783)\nu'[How to make DK great again] (/forums/en/wow/topic/17613482662)'\n"
     ]
    },
    {
     "name": "stdout",
     "output_type": "stream",
     "text": [
      "Exiting\n'posts: 14'\nPROGRESS: 4% (520/11783)\nu'[Simcraft.] (/forums/en/wow/topic/17613552847)'\n"
     ]
    },
    {
     "name": "stdout",
     "output_type": "stream",
     "text": [
      "Exiting\n'posts: 5'\nPROGRESS: 4% (521/11783)\nu'[Speed up my DK?] (/forums/en/wow/topic/17613562717)'\n"
     ]
    },
    {
     "name": "stdout",
     "output_type": "stream",
     "text": [
      "Exiting\n'posts: 6'\nPROGRESS: 4% (522/11783)\nu'[Mythic chest in our hall?] (/forums/en/wow/topic/17613452729)'\n"
     ]
    },
    {
     "name": "stdout",
     "output_type": "stream",
     "text": [
      "Exiting\n'posts: 6'\nPROGRESS: 4% (523/11783)\nu'[Vampiric Blood / Blood shield interraction.] (/forums/en/wow/topic/17613472809)'\n"
     ]
    },
    {
     "name": "stdout",
     "output_type": "stream",
     "text": [
      "Exiting\n'posts: 20'\nPROGRESS: 4% (524/11783)\nu'[Next Legion Q&A, we need DKs there!] (/forums/en/wow/topic/17613502866)'\n"
     ]
    },
    {
     "name": "stdout",
     "output_type": "stream",
     "text": [
      "Exiting\n'posts: 1'\nPROGRESS: 4% (525/11783)\nu'[DK fix] (/forums/en/wow/topic/17613532752)'\n"
     ]
    },
    {
     "name": "stdout",
     "output_type": "stream",
     "text": [
      "HTTPError = 404\n"
     ]
    },
    {
     "name": "stdout",
     "output_type": "stream",
     "text": [
      "Exiting\n'posts: 5'\nPROGRESS: 4% (526/11783)\nu\"[Can't decide between Ret Pally or UH Dk (pve)] (/forums/en/wow/topic/17613502823)\"\n"
     ]
    },
    {
     "name": "stdout",
     "output_type": "stream",
     "text": [
      "Exiting\n'posts: 1'\nPROGRESS: 4% (527/11783)\nu'[Trinket Questions (especially Unholy)] (/forums/en/wow/topic/17613472713)'\n"
     ]
    },
    {
     "name": "stdout",
     "output_type": "stream",
     "text": [
      "Exiting\n'posts: 7'\nPROGRESS: 4% (528/11783)\nu'[Frost DK - Constructive Criticism] (/forums/en/wow/topic/17613344065)'\n"
     ]
    },
    {
     "name": "stdout",
     "output_type": "stream",
     "text": [
      "Exiting\n'posts: 57'\nPROGRESS: 4% (529/11783)\nu'[Koltira Deathweaver voice?] (/forums/en/wow/topic/17613552287)'\n"
     ]
    },
    {
     "name": "stdout",
     "output_type": "stream",
     "text": [
      "Exiting\n'posts: 4'\nPROGRESS: 4% (530/11783)\nu'[Death Knight tuning] (/forums/en/wow/topic/17613512664)'\n"
     ]
    },
    {
     "name": "stdout",
     "output_type": "stream",
     "text": [
      "Exiting\n'posts: 1'\nPROGRESS: 4% (531/11783)\nu'[Change Death Coil, or remove GCD from it?] (/forums/en/wow/topic/17613512439)'\n"
     ]
    },
    {
     "name": "stdout",
     "output_type": "stream",
     "text": [
      "Exiting\n'posts: 14'\nPROGRESS: 4% (532/11783)\nu'[Weak Aura Festering Wound] (/forums/en/wow/topic/17613552398)'\n"
     ]
    },
    {
     "name": "stdout",
     "output_type": "stream",
     "text": [
      "Exiting\n'posts: 6'\nPROGRESS: 4% (533/11783)\nu'[Crystalline Swords - change to Frost Bane] (/forums/en/wow/topic/17613492490)'\n"
     ]
    },
    {
     "name": "stdout",
     "output_type": "stream",
     "text": [
      "Exiting\n'posts: 8'\nPROGRESS: 4% (534/11783)\nu'[Blood Dk, 21/09 - 16] (/forums/en/wow/topic/17613521470)'\n"
     ]
    },
    {
     "name": "stdout",
     "output_type": "stream",
     "text": [
      "Exiting\n'posts: 12'\nPROGRESS: 4% (535/11783)\nu'[RE: Patch 7.0.3 Hotfixes - September 23 - PvE PoV] (/forums/en/wow/topic/17613562149)'\n"
     ]
    },
    {
     "name": "stdout",
     "output_type": "stream",
     "text": [
      "Exiting\n'posts: 12'\nPROGRESS: 4% (536/11783)\nu'[death coil proc + dark arbiter] (/forums/en/wow/topic/17613482490)'\n"
     ]
    },
    {
     "name": "stdout",
     "output_type": "stream",
     "text": [
      "Exiting\n'posts: 3'\nPROGRESS: 4% (537/11783)\nu'[Twinblades of the Fallen Spec?] (/forums/en/wow/topic/17613452542)'\n"
     ]
    },
    {
     "name": "stdout",
     "output_type": "stream",
     "text": [
      "Exiting\n'posts: 2'\nPROGRESS: 4% (538/11783)\nu'[Trinket: Faulty countermeassure] (/forums/en/wow/topic/17613532592)'\n"
     ]
    },
    {
     "name": "stdout",
     "output_type": "stream",
     "text": [
      "Exiting\n'posts: 2'\nPROGRESS: 4% (539/11783)\nu'[Artifact trait \"the shambler\"] (/forums/en/wow/topic/17613552357)'\n"
     ]
    },
    {
     "name": "stdout",
     "output_type": "stream",
     "text": [
      "Exiting\n'posts: 5'\nPROGRESS: 4% (540/11783)\nu'[Please Remove/Move Blood for Blood] (/forums/en/wow/topic/17613444704)'\n"
     ]
    },
    {
     "name": "stdout",
     "output_type": "stream",
     "text": [
      "HTTPError = 404\n"
     ]
    },
    {
     "name": "stdout",
     "output_type": "stream",
     "text": [
      "Exiting\n'posts: 7'\nPROGRESS: 4% (541/11783)\nu'[Recent changes + artifact point choosing!] (/forums/en/wow/topic/17613532557)'\n"
     ]
    },
    {
     "name": "stdout",
     "output_type": "stream",
     "text": [
      "Exiting\n'posts: 1'\nPROGRESS: 4% (542/11783)\nu'[Frost Death Knight Underperformance] (/forums/en/wow/topic/17613492470)'\n"
     ]
    },
    {
     "name": "stdout",
     "output_type": "stream",
     "text": [
      "Exiting\n'posts: 9'\nPROGRESS: 4% (543/11783)\nu'[Blizzard: Give us back Death Siphon, Pleaseeee] (/forums/en/wow/topic/17613472516)'\n"
     ]
    },
    {
     "name": "stdout",
     "output_type": "stream",
     "text": [
      "Exiting\n'posts: 3'\nPROGRESS: 4% (544/11783)\nu'[you know blizzard...] (/forums/en/wow/topic/17613522502)'\n"
     ]
    },
    {
     "name": "stdout",
     "output_type": "stream",
     "text": [
      "Exiting\n'posts: 4'\nPROGRESS: 4% (545/11783)\nu'[Blades of the Fallen Prince] (/forums/en/wow/topic/17613482155)'\n"
     ]
    },
    {
     "name": "stdout",
     "output_type": "stream",
     "text": [
      "[Errno 10054] An existing connection was forcibly closed by the remote host\n"
     ]
    },
    {
     "name": "stdout",
     "output_type": "stream",
     "text": [
      "Exiting\n'posts: 20'\nPROGRESS: 4% (546/11783)\nu'[Lvl110 Frost DK] (/forums/en/wow/topic/17613522534)'\n"
     ]
    },
    {
     "name": "stdout",
     "output_type": "stream",
     "text": [
      "Exiting\n'posts: 2'\nPROGRESS: 4% (547/11783)\nu'[Hidden artifact appearance and loot specialization] (/forums/en/wow/topic/17613482411)'\n"
     ]
    },
    {
     "name": "stdout",
     "output_type": "stream",
     "text": [
      "Exiting\n'posts: 3'\nPROGRESS: 4% (548/11783)\nu'[Unholy talent choices] (/forums/en/wow/topic/17613552415)'\n"
     ]
    },
    {
     "name": "stdout",
     "output_type": "stream",
     "text": [
      "Exiting\n'posts: 4'\nPROGRESS: 4% (549/11783)\nu'[Worth Rolling a Dk?] (/forums/en/wow/topic/17613451994)'\n"
     ]
    },
    {
     "name": "stdout",
     "output_type": "stream",
     "text": [
      "Exiting\n'posts: 10'\nPROGRESS: 4% (550/11783)\nu'[About Unholy Artifac(PVP)] (/forums/en/wow/topic/17613512292)'\n"
     ]
    },
    {
     "name": "stdout",
     "output_type": "stream",
     "text": [
      "Exiting\n'posts: 5'\nPROGRESS: 4% (551/11783)\nu\"[Vindictive Gladiator's armor] (/forums/en/wow/topic/17613512444)\"\n"
     ]
    },
    {
     "name": "stdout",
     "output_type": "stream",
     "text": [
      "Exiting\n'posts: 1'\nPROGRESS: 4% (552/11783)\nu'[Xavius] (/forums/en/wow/topic/17613562401)'\n"
     ]
    },
    {
     "name": "stdout",
     "output_type": "stream",
     "text": [
      "HTTPError = 404\n"
     ]
    },
    {
     "name": "stdout",
     "output_type": "stream",
     "text": [
      "Exiting\n'posts: 6'\nPROGRESS: 4% (553/11783)\nu'[Dk twink specs?] (/forums/en/wow/topic/17613532411)'\n"
     ]
    },
    {
     "name": "stdout",
     "output_type": "stream",
     "text": [
      "Exiting\n'posts: 1'\nPROGRESS: 4% (554/11783)\nu'[[BUG] Razorice and RoFC in Arenas!] (/forums/en/wow/topic/17613451811)'\n"
     ]
    },
    {
     "name": "stdout",
     "output_type": "stream",
     "text": [
      "Exiting\n'posts: 12'\nPROGRESS: 4% (555/11783)\nu'[BoS Voidform treatment] (/forums/en/wow/topic/17613502327)'\n"
     ]
    },
    {
     "name": "stdout",
     "output_type": "stream",
     "text": [
      "Exiting\n'posts: 4'\nPROGRESS: 4% (556/11783)\nu'[How much will the frost buffs help?] (/forums/en/wow/topic/17613452257)'\n"
     ]
    },
    {
     "name": "stdout",
     "output_type": "stream",
     "text": [
      "Exiting\n'posts: 3'\nPROGRESS: 4% (557/11783)\nu'[Frost viable after the Buffs ?] (/forums/en/wow/topic/17613472036)'\n"
     ]
    },
    {
     "name": "stdout",
     "output_type": "stream",
     "text": [
      "Exiting\n'posts: 17'\nPROGRESS: 4% (558/11783)\nu'[\"Pure DPS Classes\" vs Mixed] (/forums/en/wow/topic/17613452252)'\n"
     ]
    },
    {
     "name": "stdout",
     "output_type": "stream",
     "text": [
      "Exiting\n'posts: 4'\nPROGRESS: 4% (559/11783)\nu'[Arena/PvP Guide?] (/forums/en/wow/topic/17613542229)'\n"
     ]
    },
    {
     "name": "stdout",
     "output_type": "stream",
     "text": [
      "Exiting\n'posts: 2'\nPROGRESS: 4% (560/11783)\nu'[Glyph of the Wraith Walker] (/forums/en/wow/topic/17613451937)'\n"
     ]
    },
    {
     "name": "stdout",
     "output_type": "stream",
     "text": [
      "Exiting\n'posts: 5'\nPROGRESS: 4% (561/11783)\nu'[Blood Tanking in Emerald Nightmare] (/forums/en/wow/topic/17613461722)'\n"
     ]
    },
    {
     "name": "stdout",
     "output_type": "stream",
     "text": [
      "Exiting\n'posts: 19'\nPROGRESS: 4% (562/11783)\nu'[No way to counter snares/high mobility classes] (/forums/en/wow/topic/17613502148)'\n"
     ]
    },
    {
     "name": "stdout",
     "output_type": "stream",
     "text": [
      "Exiting\n'posts: 3'\nPROGRESS: 4% (563/11783)\nu'[Did they fix the Bone Shield deal on Cenarius?] (/forums/en/wow/topic/17613522204)'\n"
     ]
    },
    {
     "name": "stdout",
     "output_type": "stream",
     "text": [
      "Exiting\n'posts: 2'\nPROGRESS: 4% (564/11783)\nu'[Black Rook Hold and Control Undead interaction.] (/forums/en/wow/topic/17613434313)'\n"
     ]
    },
    {
     "name": "stdout",
     "output_type": "stream",
     "text": [
      "Exiting\n'posts: 5'\nPROGRESS: 4% (565/11783)\nu'[Tank artifact weapon can devour souls? What?] (/forums/en/wow/topic/17613501734)'\n"
     ]
    },
    {
     "name": "stdout",
     "output_type": "stream",
     "text": [
      "Exiting\n'posts: 10'\nPROGRESS: 4% (566/11783)\nu'[How to Frost?] (/forums/en/wow/topic/17613462197)'\n"
     ]
    },
    {
     "name": "stdout",
     "output_type": "stream",
     "text": [
      "Exiting\n'posts: 2'\nPROGRESS: 4% (567/11783)\nu'[[Arena] Razorice not working on Artifact Weapons!!!] (/forums/en/wow/topic/17613561668)'\n"
     ]
    },
    {
     "name": "stdout",
     "output_type": "stream",
     "text": [
      "Exiting\n'posts: 8'\nPROGRESS: 4% (568/11783)\nu'[15% inc speed in 7.1??] (/forums/en/wow/topic/17613501242)'\n"
     ]
    },
    {
     "name": "stdout",
     "output_type": "stream",
     "text": [
      "Exiting\n'posts: 22'\nPROGRESS: 4% (569/11783)\nu'[Fellow Frost DKs! Our prayers have been heard!] (/forums/en/wow/topic/17613562159)'\n"
     ]
    },
    {
     "name": "stdout",
     "output_type": "stream",
     "text": [
      "HTTPError = 404\n"
     ]
    },
    {
     "name": "stdout",
     "output_type": "stream",
     "text": [
      "Exiting\n'posts: 3'\nPROGRESS: 4% (570/11783)\nu'[dk youtuber????] (/forums/en/wow/topic/17613472124)'\n"
     ]
    },
    {
     "name": "stdout",
     "output_type": "stream",
     "text": [
      "Exiting\n'posts: 3'\nPROGRESS: 4% (571/11783)\nu'[BRAKING NEWS] (/forums/en/wow/topic/17613542020)'\n"
     ]
    },
    {
     "name": "stdout",
     "output_type": "stream",
     "text": [
      "[Errno 10054] An existing connection was forcibly closed by the remote host\n"
     ]
    },
    {
     "name": "stdout",
     "output_type": "stream",
     "text": [
      "Exiting\n'posts: 18'\nPROGRESS: 4% (572/11783)\nu'[#BuffFrost] (/forums/en/wow/topic/17613373381)'\n"
     ]
    },
    {
     "name": "stdout",
     "output_type": "stream",
     "text": [
      "Exiting\n'posts: 64'\nPROGRESS: 4% (573/11783)\nu'[Deathcoil petheal] (/forums/en/wow/topic/17613344940)'\n"
     ]
    },
    {
     "name": "stdout",
     "output_type": "stream",
     "text": [
      "Exiting\n'posts: 8'\nPROGRESS: 4% (574/11783)\nu\"[Mechanical Issues and Blood DK's] (/forums/en/wow/topic/17613551981)\"\n"
     ]
    },
    {
     "name": "stdout",
     "output_type": "stream",
     "text": [
      "Exiting\n'posts: 8'\nPROGRESS: 4% (575/11783)\nu'[BLIZZARD PLEASE READ BEFORE NEXT WEEK!] (/forums/en/wow/topic/17613462069)'\n"
     ]
    },
    {
     "name": "stdout",
     "output_type": "stream",
     "text": [
      "HTTPError = 404\n"
     ]
    },
    {
     "name": "stdout",
     "output_type": "stream",
     "text": [
      "Exiting\n'posts: 1'\nPROGRESS: 4% (576/11783)\nu'[Thassarian vs Thoras] (/forums/en/wow/topic/17613461948)'\n"
     ]
    },
    {
     "name": "stdout",
     "output_type": "stream",
     "text": [
      "Exiting\n'posts: 4'\nPROGRESS: 4% (577/11783)\nu'[World pvp as non tank. GARBAGE.] (/forums/en/wow/topic/17613461239)'\n"
     ]
    },
    {
     "name": "stdout",
     "output_type": "stream",
     "text": [
      "[Errno 10054] An existing connection was forcibly closed by the remote host\n"
     ]
    },
    {
     "name": "stdout",
     "output_type": "stream",
     "text": [
      "Exiting\n'posts: 9'\nPROGRESS: 4% (578/11783)\nu'[Nightmarish mobility. Even removed the 15% passive?!] (/forums/en/wow/topic/17613501202)'\n"
     ]
    },
    {
     "name": "stdout",
     "output_type": "stream",
     "text": [
      "HTTPError = 404\n"
     ]
    },
    {
     "name": "stdout",
     "output_type": "stream",
     "text": [
      "Exiting\n'posts: 11'\nPROGRESS: 4% (579/11783)\nu'[Swords in acherus] (/forums/en/wow/topic/17613404310)'\n"
     ]
    },
    {
     "name": "stdout",
     "output_type": "stream",
     "text": [
      "Exiting\n'posts: 8'\nPROGRESS: 4% (580/11783)\nu'[Blood Hidden Artifact Appearance] (/forums/en/wow/topic/17613333056)'\n"
     ]
    },
    {
     "name": "stdout",
     "output_type": "stream",
     "text": [
      "[Errno 10054] An existing connection was forcibly closed by the remote host\n"
     ]
    },
    {
     "name": "stdout",
     "output_type": "stream",
     "text": [
      "Exiting\n'posts: 19'\nPROGRESS: 4% (581/11783)\nu'[It hurts.. So much.. Any UH Mains with a tip or 2?] (/forums/en/wow/topic/17613501765)'\n"
     ]
    },
    {
     "name": "stdout",
     "output_type": "stream",
     "text": [
      "Exiting\n'posts: 3'\nPROGRESS: 4% (582/11783)\nu'[Blood DK 10% Nerf] (/forums/en/wow/topic/17613471930)'\n"
     ]
    },
    {
     "name": "stdout",
     "output_type": "stream",
     "text": [
      "Exiting\n'posts: 4'\nPROGRESS: 4% (583/11783)\nu'[GJ you !@#$ed us again] (/forums/en/wow/topic/17613531747)'\n"
     ]
    },
    {
     "name": "stdout",
     "output_type": "stream",
     "text": [
      "Exiting\n'posts: 4'\nPROGRESS: 4% (584/11783)\nu'[Should i change from frost to unholy? #Buff_frost] (/forums/en/wow/topic/17613541872)'\n"
     ]
    },
    {
     "name": "stdout",
     "output_type": "stream",
     "text": [
      "Exiting\n'posts: 3'\nPROGRESS: 4% (585/11783)\nu'[Mini-bug with unholy] (/forums/en/wow/topic/17613461778)'\nHTTPError = 404\n"
     ]
    },
    {
     "name": "stdout",
     "output_type": "stream",
     "text": [
      "Exiting\n'posts: 4'\nPROGRESS: 4% (586/11783)\nu'[Fix DK eyes already] (/forums/en/wow/topic/17613481751)'\n"
     ]
    },
    {
     "name": "stdout",
     "output_type": "stream",
     "text": [
      "Exiting\n'posts: 6'\nPROGRESS: 4% (587/11783)\nu'[Blizzard must really hate DKs] (/forums/en/wow/topic/17613461601)'\n"
     ]
    },
    {
     "name": "stdout",
     "output_type": "stream",
     "text": [
      "Exiting\n'posts: 11'\nPROGRESS: 4% (588/11783)\nu'[Sha of Pride?] (/forums/en/wow/topic/17613521827)'\n"
     ]
    },
    {
     "name": "stdout",
     "output_type": "stream",
     "text": [
      "Exiting\n'posts: 2'\nPROGRESS: 4% (589/11783)\nu'[Time for an eye update?] (/forums/en/wow/topic/17613551795)'\n"
     ]
    },
    {
     "name": "stdout",
     "output_type": "stream",
     "text": [
      "Exiting\n'posts: 6'\nPROGRESS: 5% (590/11783)\nu'[frost DK or ret Pala ?] (/forums/en/wow/topic/17613511388)'\n"
     ]
    },
    {
     "name": "stdout",
     "output_type": "stream",
     "text": [
      "Exiting\n'posts: 7'\nPROGRESS: 5% (591/11783)\nu'[Frost DK in the Emerald Dream - Day 1] (/forums/en/wow/topic/17613561656)'\n"
     ]
    },
    {
     "name": "stdout",
     "output_type": "stream",
     "text": [
      "Exiting\n'posts: 21'\nPROGRESS: 5% (592/11783)\nu\"[Where's our (dk) blue posts] (/forums/en/wow/topic/17613561790)\"\n"
     ]
    },
    {
     "name": "stdout",
     "output_type": "stream",
     "text": [
      "HTTPError = 404\n"
     ]
    },
    {
     "name": "stdout",
     "output_type": "stream",
     "text": [
      "Exiting\n'posts: 1'\nPROGRESS: 5% (593/11783)\nu'[Successful UH Arena - what comps?] (/forums/en/wow/topic/17613541738)'\n"
     ]
    },
    {
     "name": "stdout",
     "output_type": "stream",
     "text": [
      "Exiting\n'posts: 4'\nPROGRESS: 5% (594/11783)\nu'[Frostscythe vs Obliterate] (/forums/en/wow/topic/17613561231)'\nHTTPError = 404\n"
     ]
    },
    {
     "name": "stdout",
     "output_type": "stream",
     "text": [
      "Exiting\n'posts: 6'\nPROGRESS: 5% (595/11783)\nu'[Should I respec my Artifact Weapon (Blood)] (/forums/en/wow/topic/17613491547)'\n"
     ]
    },
    {
     "name": "stdout",
     "output_type": "stream",
     "text": [
      "Exiting\n'posts: 5'\nPROGRESS: 5% (596/11783)\nu'[Frost \"spec thought\"] (/forums/en/wow/topic/17613531703)'\n"
     ]
    },
    {
     "name": "stdout",
     "output_type": "stream",
     "text": [
      "Exiting\n'posts: 1'\nPROGRESS: 5% (597/11783)\nu'[My only complaint about DK.] (/forums/en/wow/topic/17613551674)'\n"
     ]
    },
    {
     "name": "stdout",
     "output_type": "stream",
     "text": [
      "Exiting\n'posts: 1'\nPROGRESS: 5% (598/11783)\nu'[Frost DK dps] (/forums/en/wow/topic/17613471694)'\n"
     ]
    },
    {
     "name": "stdout",
     "output_type": "stream",
     "text": [
      "Exiting\n'posts: 1'\nPROGRESS: 5% (599/11783)\nu'[UnHoly STR got nerfed ??] (/forums/en/wow/topic/17613461633)'\n"
     ]
    },
    {
     "name": "stdout",
     "output_type": "stream",
     "text": [
      "Exiting\n'posts: 7'\nPROGRESS: 5% (600/11783)\nu'[i am Good As Unholy Dps ?] (/forums/en/wow/topic/17613355146)'\n"
     ]
    },
    {
     "name": "stdout",
     "output_type": "stream",
     "text": [
      "Exiting\n'posts: 8'\nPROGRESS: 5% (601/11783)\nu'[Thoughts on Blood Tanking] (/forums/en/wow/topic/17613373564)'\n"
     ]
    },
    {
     "name": "stdout",
     "output_type": "stream",
     "text": [
      "Exiting\n'posts: 25'\nPROGRESS: 5% (602/11783)\nu'[Frost Death Knight - Mastery obsolete?] (/forums/en/wow/topic/17613531465)'\n"
     ]
    },
    {
     "name": "stdout",
     "output_type": "stream",
     "text": [
      "Exiting\n'posts: 6'\nPROGRESS: 5% (603/11783)\nu'[No Broken seal work order upgrade for DKs...] (/forums/en/wow/topic/17613461564)'\n"
     ]
    },
    {
     "name": "stdout",
     "output_type": "stream",
     "text": [
      "Exiting\n'posts: 2'\nPROGRESS: 5% (604/11783)\nu'[Blood Trinkets] (/forums/en/wow/topic/17613481384)'\n"
     ]
    },
    {
     "name": "stdout",
     "output_type": "stream",
     "text": [
      "Exiting\n'posts: 2'\nPROGRESS: 5% (605/11783)\nu'[Can you share Death and Decay?] (/forums/en/wow/topic/17613334889)'\n"
     ]
    },
    {
     "name": "stdout",
     "output_type": "stream",
     "text": [
      "[Errno 10054] An existing connection was forcibly closed by the remote host\n"
     ]
    },
    {
     "name": "stdout",
     "output_type": "stream",
     "text": [
      "Exiting\n'posts: 3'\nPROGRESS: 5% (606/11783)\nu'[Unholy dk pve!] (/forums/en/wow/topic/17613344929)'\n"
     ]
    },
    {
     "name": "stdout",
     "output_type": "stream",
     "text": [
      "Exiting\n'posts: 6'\nPROGRESS: 5% (607/11783)\nu'[No changes coming through for Frost before raids?] (/forums/en/wow/topic/17613541218)'\n"
     ]
    },
    {
     "name": "stdout",
     "output_type": "stream",
     "text": [
      "Exiting\n'posts: 11'\nPROGRESS: 5% (608/11783)\nu'[I think I made a bad choice (tears of a frost dk)] (/forums/en/wow/topic/17613433402)'\n"
     ]
    },
    {
     "name": "stdout",
     "output_type": "stream",
     "text": [
      "Exiting\n'posts: 10'\nPROGRESS: 5% (609/11783)\nu'[Noob Q: How to tank as a DK?] (/forums/en/wow/topic/17613451453)'\n"
     ]
    },
    {
     "name": "stdout",
     "output_type": "stream",
     "text": [
      "Exiting\n'posts: 8'\nPROGRESS: 5% (610/11783)\nu'[Death knights in Legion] (/forums/en/wow/topic/17613481352)'\n"
     ]
    },
    {
     "name": "stdout",
     "output_type": "stream",
     "text": [
      "Exiting\n'posts: 3'\nPROGRESS: 5% (611/11783)\nu\"[''Glacial Advance''] (/forums/en/wow/topic/17613551238)\"\n"
     ]
    },
    {
     "name": "stdout",
     "output_type": "stream",
     "text": [
      "Exiting\n'posts: 7'\nPROGRESS: 5% (612/11783)\nu'[Frost DK in Legion] (/forums/en/wow/topic/17613461230)'\n"
     ]
    },
    {
     "name": "stdout",
     "output_type": "stream",
     "text": [
      "Exiting\n'posts: 2'\nPROGRESS: 5% (613/11783)\nu'[Frost/unholy hidden skin] (/forums/en/wow/topic/17613561336)'\n"
     ]
    },
    {
     "name": "stdout",
     "output_type": "stream",
     "text": [
      "HTTPError = 404\n"
     ]
    },
    {
     "name": "stdout",
     "output_type": "stream",
     "text": [
      "Exiting\n'posts: 7'\nPROGRESS: 5% (614/11783)\nu'[Do i want a Dk in my 3s?] (/forums/en/wow/topic/17613471306)'\n"
     ]
    },
    {
     "name": "stdout",
     "output_type": "stream",
     "text": [
      "HTTPError = 404\n"
     ]
    },
    {
     "name": "stdout",
     "output_type": "stream",
     "text": [
      "Exiting\n'posts: 9'\nPROGRESS: 5% (615/11783)\nu'[Update 7.1 mythic raids] (/forums/en/wow/topic/17613344633)'\n"
     ]
    },
    {
     "name": "stdout",
     "output_type": "stream",
     "text": [
      "HTTPError = 404\n"
     ]
    },
    {
     "name": "stdout",
     "output_type": "stream",
     "text": [
      "Exiting\n'posts: 7'\nPROGRESS: 5% (616/11783)\nu'[Blood Feast trait issue] (/forums/en/wow/topic/17613384689)'\n"
     ]
    },
    {
     "name": "stdout",
     "output_type": "stream",
     "text": [
      "[Errno 10054] An existing connection was forcibly closed by the remote host\n"
     ]
    },
    {
     "name": "stdout",
     "output_type": "stream",
     "text": [
      "Exiting\n'posts: 3'\nPROGRESS: 5% (617/11783)\nu'[Clawing Shadows vs Evasion] (/forums/en/wow/topic/17613384679)'\n"
     ]
    },
    {
     "name": "stdout",
     "output_type": "stream",
     "text": [
      "Exiting\n'posts: 10'\nPROGRESS: 5% (618/11783)\nu'[Obliteration feels weird.] (/forums/en/wow/topic/17613364637)'\n"
     ]
    },
    {
     "name": "stdout",
     "output_type": "stream",
     "text": [
      "Exiting\n'posts: 11'\nPROGRESS: 5% (619/11783)\nu'[Unholy or frost for PvP] (/forums/en/wow/topic/17613511196)'\n"
     ]
    },
    {
     "name": "stdout",
     "output_type": "stream",
     "text": [
      "Exiting\n'posts: 9'\nPROGRESS: 5% (620/11783)\nu'[Frustrated] (/forums/en/wow/topic/17613384964)'\n"
     ]
    },
    {
     "name": "stdout",
     "output_type": "stream",
     "text": [
      "Exiting\n'posts: 4'\nPROGRESS: 5% (621/11783)\nu'[PvE Frost DK] (/forums/en/wow/topic/17613433490)'\n"
     ]
    },
    {
     "name": "stdout",
     "output_type": "stream",
     "text": [
      "Exiting\n'posts: 13'\nPROGRESS: 5% (622/11783)\nu'[Best profession for mobility?] (/forums/en/wow/topic/17613191388)'\n"
     ]
    },
    {
     "name": "stdout",
     "output_type": "stream",
     "text": [
      "Exiting\n'posts: 3'\nPROGRESS: 5% (623/11783)\nu'[Need an unholy transmog-set] (/forums/en/wow/topic/17613354933)'\n"
     ]
    },
    {
     "name": "stdout",
     "output_type": "stream",
     "text": [
      "Exiting\n'posts: 11'\nPROGRESS: 5% (624/11783)\nu'[Killing Machine (Ability). PvP Talent. Why?] (/forums/en/wow/topic/17613561216)'\n"
     ]
    },
    {
     "name": "stdout",
     "output_type": "stream",
     "text": [
      "Exiting\n'posts: 2'\nPROGRESS: 5% (625/11783)\nu'[Quality of glyphs] (/forums/en/wow/topic/17613364986)'\n"
     ]
    },
    {
     "name": "stdout",
     "output_type": "stream",
     "text": [
      "Exiting\n'posts: 2'\nPROGRESS: 5% (626/11783)\nu'[Lendary Ring] (/forums/en/wow/topic/17613414656)'\n"
     ]
    },
    {
     "name": "stdout",
     "output_type": "stream",
     "text": [
      "Exiting\n'posts: 7'\nPROGRESS: 5% (627/11783)\nu'[the song of our people] (/forums/en/wow/topic/17613364991)'\n"
     ]
    },
    {
     "name": "stdout",
     "output_type": "stream",
     "text": [
      "Exiting\n'posts: 2'\nPROGRESS: 5% (628/11783)\nu'[Surprisingly low health as an Unholy DK] (/forums/en/wow/topic/17613364978)'\n"
     ]
    },
    {
     "name": "stdout",
     "output_type": "stream",
     "text": [
      "Exiting\n'posts: 1'\nPROGRESS: 5% (629/11783)\nu'[Unholy stat weights?] (/forums/en/wow/topic/17613444636)'\n"
     ]
    },
    {
     "name": "stdout",
     "output_type": "stream",
     "text": [
      "Exiting\n'posts: 5'\nPROGRESS: 5% (630/11783)\nu'[So, why choose the dark side?] (/forums/en/wow/topic/17613333992)'\n"
     ]
    },
    {
     "name": "stdout",
     "output_type": "stream",
     "text": [
      "HTTPError = 404\n"
     ]
    },
    {
     "name": "stdout",
     "output_type": "stream",
     "text": [
      "Exiting\n'posts: 21'\nPROGRESS: 5% (631/11783)\nu'[Make Reins of the Deathcharger chargeable] (/forums/en/wow/topic/17613414532)'\n"
     ]
    },
    {
     "name": "stdout",
     "output_type": "stream",
     "text": [
      "[Errno 10054] An existing connection was forcibly closed by the remote host\n"
     ]
    },
    {
     "name": "stdout",
     "output_type": "stream",
     "text": [
      "Exiting\n'posts: 5'\nPROGRESS: 5% (632/11783)\nu'[Blood hidden skin] (/forums/en/wow/topic/17613414494)'\n"
     ]
    },
    {
     "name": "stdout",
     "output_type": "stream",
     "text": [
      "Exiting\n'posts: 15'\nPROGRESS: 5% (633/11783)\nu'[Frost dk worth?] (/forums/en/wow/topic/17613394814)'\n"
     ]
    },
    {
     "name": "stdout",
     "output_type": "stream",
     "text": [
      "Exiting\n'posts: 6'\nPROGRESS: 5% (634/11783)\nu'[Unholy PvP, 7.0.3] (/forums/en/wow/topic/17613394829)'\n"
     ]
    },
    {
     "name": "stdout",
     "output_type": "stream",
     "text": [
      "Exiting\n'posts: 1'\nPROGRESS: 5% (635/11783)\nu'[Crystalline Swords 2.0] (/forums/en/wow/topic/17613394804)'\n"
     ]
    },
    {
     "name": "stdout",
     "output_type": "stream",
     "text": [
      "Exiting\n'posts: 1'\nPROGRESS: 5% (636/11783)\nu'[unholy dk help] (/forums/en/wow/topic/17613344834)'\n"
     ]
    },
    {
     "name": "stdout",
     "output_type": "stream",
     "text": [
      "Exiting\n'posts: 4'\nPROGRESS: 5% (637/11783)\nu'[Official Response to Razorice] (/forums/en/wow/topic/17613404178)'\n"
     ]
    },
    {
     "name": "stdout",
     "output_type": "stream",
     "text": [
      "HTTPError = 404\n"
     ]
    },
    {
     "name": "stdout",
     "output_type": "stream",
     "text": [
      "Exiting\n'posts: 7'\nPROGRESS: 5% (638/11783)\nu'[Runeforge in instanced pvp] (/forums/en/wow/topic/17613374498)'\n"
     ]
    },
    {
     "name": "stdout",
     "output_type": "stream",
     "text": [
      "Exiting\n'posts: 4'\nPROGRESS: 5% (639/11783)\nu'[uh survivability.] (/forums/en/wow/topic/17613334505)'\n"
     ]
    },
    {
     "name": "stdout",
     "output_type": "stream",
     "text": [
      "Exiting\n'posts: 10'\nPROGRESS: 5% (640/11783)\nu'[Is it just me? Or anyone else think the same.] (/forums/en/wow/topic/17613434739)'\n"
     ]
    },
    {
     "name": "stdout",
     "output_type": "stream",
     "text": [
      "Exiting\n'posts: 1'\nPROGRESS: 5% (641/11783)\nu'[Dark Simulacrum macro] (/forums/en/wow/topic/17613424615)'\n"
     ]
    },
    {
     "name": "stdout",
     "output_type": "stream",
     "text": [
      "Exiting\n'posts: 4'\nPROGRESS: 5% (642/11783)\nu\"[So Blood's getting nerfed in 7.1...] (/forums/en/wow/topic/17613354465)\"\n"
     ]
    },
    {
     "name": "stdout",
     "output_type": "stream",
     "text": [
      "Exiting\n'posts: 19'\nPROGRESS: 5% (643/11783)\nu'[Wraith walk opinions] (/forums/en/wow/topic/17613364663)'\n"
     ]
    },
    {
     "name": "stdout",
     "output_type": "stream",
     "text": [
      "Exiting\n'posts: 8'\nPROGRESS: 5% (644/11783)\nu'[Frost DK is OP, clearly//] (/forums/en/wow/topic/17613403727)'\n"
     ]
    },
    {
     "name": "stdout",
     "output_type": "stream",
     "text": [
      "Exiting\n'posts: 13'\nPROGRESS: 5% (645/11783)\nu'[UH dk single target dps] (/forums/en/wow/topic/17613404226)'\n"
     ]
    },
    {
     "name": "stdout",
     "output_type": "stream",
     "text": [
      "Exiting\n'posts: 5'\nPROGRESS: 5% (646/11783)\nu'[DK, Warrior or Paladin? PvP.] (/forums/en/wow/topic/17613364525)'\n"
     ]
    },
    {
     "name": "stdout",
     "output_type": "stream",
     "text": [
      "Exiting\n'posts: 14'\nPROGRESS: 5% (647/11783)\nu'[Make Obliterate Frost Damage] (/forums/en/wow/topic/17613394474)'\n"
     ]
    },
    {
     "name": "stdout",
     "output_type": "stream",
     "text": [
      "Exiting\n'posts: 4'\nPROGRESS: 5% (648/11783)\nu'[Frost deathknight feedback] (/forums/en/wow/topic/17613344509)'\n"
     ]
    },
    {
     "name": "stdout",
     "output_type": "stream",
     "text": [
      "HTTPError = 404\n"
     ]
    },
    {
     "name": "stdout",
     "output_type": "stream",
     "text": [
      "[Errno 10054] An existing connection was forcibly closed by the remote host\n"
     ]
    },
    {
     "name": "stdout",
     "output_type": "stream",
     "text": [
      "Exiting\n'posts: 8'\nPROGRESS: 5% (649/11783)\nu'[Did Blizzard forget how Blood DK works?] (/forums/en/wow/topic/17613424575)'\n"
     ]
    },
    {
     "name": "stdout",
     "output_type": "stream",
     "text": [
      "Exiting\n'posts: 6'\nPROGRESS: 5% (650/11783)\nu'[DK PvP 3s/rbg] (/forums/en/wow/topic/17613344617)'\n"
     ]
    },
    {
     "name": "stdout",
     "output_type": "stream",
     "text": [
      "Exiting\n'posts: 1'\nPROGRESS: 5% (651/11783)\nu'[Trying to Understand Help me here] (/forums/en/wow/topic/17613354662)'\n"
     ]
    },
    {
     "name": "stdout",
     "output_type": "stream",
     "text": [
      "Exiting\n'posts: 8'\nPROGRESS: 5% (652/11783)\nu'[Killing machine: pointless] (/forums/en/wow/topic/17613374347)'\n"
     ]
    },
    {
     "name": "stdout",
     "output_type": "stream",
     "text": [
      "Exiting\n'posts: 1'\nPROGRESS: 5% (653/11783)\nu'[Which relics are BiS for Unholy in PvE] (/forums/en/wow/topic/17613334341)'\nHTTPError = 404\n"
     ]
    },
    {
     "name": "stdout",
     "output_type": "stream",
     "text": [
      "Exiting\n'posts: 6'\nPROGRESS: 5% (654/11783)\nu'[FROST DK] (/forums/en/wow/topic/17613384374)'\n"
     ]
    },
    {
     "name": "stdout",
     "output_type": "stream",
     "text": [
      "Exiting\n'posts: 4'\nPROGRESS: 5% (655/11783)\nu'[Artifact traits reroll] (/forums/en/wow/topic/17613444252)'\n"
     ]
    },
    {
     "name": "stdout",
     "output_type": "stream",
     "text": [
      "HTTPError = 404\n"
     ]
    },
    {
     "name": "stdout",
     "output_type": "stream",
     "text": [
      "Exiting\n'posts: 2'\nPROGRESS: 5% (656/11783)\nu'[Unholy DK feedback from the US forums] (/forums/en/wow/topic/17613373908)'\n"
     ]
    },
    {
     "name": "stdout",
     "output_type": "stream",
     "text": [
      "Exiting\n'posts: 9'\nPROGRESS: 5% (657/11783)\nu'[Blood Vs Frost VS Unholy] (/forums/en/wow/topic/17613354435)'\n"
     ]
    },
    {
     "name": "stdout",
     "output_type": "stream",
     "text": [
      "Exiting\n'posts: 8'\nPROGRESS: 5% (658/11783)\nu'[The state of the DK] (/forums/en/wow/topic/17613364324)'\n"
     ]
    },
    {
     "name": "stdout",
     "output_type": "stream",
     "text": [
      "Exiting\n'posts: 6'\nPROGRESS: 5% (659/11783)\nu'[Crystalline Swords does what exactly?] (/forums/en/wow/topic/17613403757)'\n"
     ]
    },
    {
     "name": "stdout",
     "output_type": "stream",
     "text": [
      "Exiting\n'posts: 12'\nPROGRESS: 5% (660/11783)\nu'[Abandon DK frost asap!] (/forums/en/wow/topic/17613443991)'\n"
     ]
    },
    {
     "name": "stdout",
     "output_type": "stream",
     "text": [
      "Exiting\n'posts: 7'\nPROGRESS: 5% (661/11783)\nu'[Unholy pet macro help] (/forums/en/wow/topic/17613374166)'\n"
     ]
    },
    {
     "name": "stdout",
     "output_type": "stream",
     "text": [
      "Exiting\n'posts: 1'\nPROGRESS: 5% (662/11783)\nu'[Frost] (/forums/en/wow/topic/17613404122)'\n"
     ]
    },
    {
     "name": "stdout",
     "output_type": "stream",
     "text": [
      "Exiting\n'posts: 1'\nPROGRESS: 5% (663/11783)\nu'[Addons/weakauras for festering wound] (/forums/en/wow/topic/17613413844)'\n"
     ]
    },
    {
     "name": "stdout",
     "output_type": "stream",
     "text": [
      "Exiting\n'posts: 3'\nPROGRESS: 5% (664/11783)\nu'[More nerfs] (/forums/en/wow/topic/17613384302)'\n"
     ]
    },
    {
     "name": "stdout",
     "output_type": "stream",
     "text": [
      "Exiting\n'posts: 2'\nPROGRESS: 5% (665/11783)\nu'[Why dk is so weak?] (/forums/en/wow/topic/17613384113)'\n"
     ]
    },
    {
     "name": "stdout",
     "output_type": "stream",
     "text": [
      "Exiting\n'posts: 10'\nPROGRESS: 5% (666/11783)\nu'[Leveling.] (/forums/en/wow/topic/17613403962)'\n"
     ]
    },
    {
     "name": "stdout",
     "output_type": "stream",
     "text": [
      "Exiting\n'posts: 7'\nPROGRESS: 5% (667/11783)\nu'[Sneaky Nerf?] (/forums/en/wow/topic/17613344256)'\nHTTPError = 404\nHTTPError = 404\n"
     ]
    },
    {
     "name": "stdout",
     "output_type": "stream",
     "text": [
      "Exiting\n'posts: 5'\nPROGRESS: 5% (668/11783)\nu'[7.1 awesome buff] (/forums/en/wow/topic/17613344034)'\n"
     ]
    },
    {
     "name": "stdout",
     "output_type": "stream",
     "text": [
      "Exiting\n'posts: 6'\nPROGRESS: 5% (669/11783)\nu'[Unholy DK + PvP = ?] (/forums/en/wow/topic/17613413372)'\n"
     ]
    },
    {
     "name": "stdout",
     "output_type": "stream",
     "text": [
      "Exiting\n'posts: 7'\nPROGRESS: 5% (670/11783)\nu'[Hotifx after Hotfix and still no Razorice fix in PvP] (/forums/en/wow/topic/17613434280)'\n"
     ]
    },
    {
     "name": "stdout",
     "output_type": "stream",
     "text": [
      "Exiting\n'posts: 1'\nPROGRESS: 5% (671/11783)\nu'[Doing the Suramar Withered scenario as a frost DK] (/forums/en/wow/topic/17613403798)'\n"
     ]
    },
    {
     "name": "stdout",
     "output_type": "stream",
     "text": [
      "Exiting\n'posts: 9'\nPROGRESS: 5% (672/11783)\nu'[Reanimation useless?] (/forums/en/wow/topic/17613344188)'\n"
     ]
    },
    {
     "name": "stdout",
     "output_type": "stream",
     "text": [
      "Exiting\n'posts: 2'\nPROGRESS: 5% (673/11783)\nu'[Dk Pvp] (/forums/en/wow/topic/17613414064)'\n"
     ]
    },
    {
     "name": "stdout",
     "output_type": "stream",
     "text": [
      "Exiting\n'posts: 5'\nPROGRESS: 5% (674/11783)\nu'[Early Frost DK thoughts] (/forums/en/wow/topic/17613292032)'\nHTTPError = 404\n"
     ]
    },
    {
     "name": "stdout",
     "output_type": "stream",
     "text": [
      "Exiting\n'posts: 28'\nPROGRESS: 5% (675/11783)\nu'[Trinket for dps] (/forums/en/wow/topic/17613393644)'\n"
     ]
    },
    {
     "name": "stdout",
     "output_type": "stream",
     "text": [
      "Exiting\n'posts: 7'\nPROGRESS: 5% (676/11783)\nu'[Blood DK Crit vs Mastery] (/forums/en/wow/topic/17613403883)'\n"
     ]
    },
    {
     "name": "stdout",
     "output_type": "stream",
     "text": [
      "Exiting\n'posts: 5'\nPROGRESS: 5% (677/11783)\nu'[What happened with Frost?!] (/forums/en/wow/topic/17613382642)'\n"
     ]
    },
    {
     "name": "stdout",
     "output_type": "stream",
     "text": [
      "[Errno 10054] An existing connection was forcibly closed by the remote host\n"
     ]
    },
    {
     "name": "stdout",
     "output_type": "stream",
     "text": [
      "Exiting\n'posts: 59'\nPROGRESS: 5% (678/11783)\nu'[The unholy abo has the kind of movement blood needs] (/forums/en/wow/topic/17613364125)'\n"
     ]
    },
    {
     "name": "stdout",
     "output_type": "stream",
     "text": [
      "[Errno 10054] An existing connection was forcibly closed by the remote host\n"
     ]
    },
    {
     "name": "stdout",
     "output_type": "stream",
     "text": [
      "HTTPError = 404\n"
     ]
    },
    {
     "name": "stdout",
     "output_type": "stream",
     "text": [
      "Exiting\n'posts: 4'\nPROGRESS: 5% (679/11783)\nu\"[Nerf dk's] (/forums/en/wow/topic/17613373646)\"\n"
     ]
    },
    {
     "name": "stdout",
     "output_type": "stream",
     "text": [
      "Exiting\n'posts: 16'\nPROGRESS: 5% (680/11783)\nu'[Scourge Strike, crit and castigator] (/forums/en/wow/topic/17613353825)'\n"
     ]
    },
    {
     "name": "stdout",
     "output_type": "stream",
     "text": [
      "Exiting\n'posts: 6'\nPROGRESS: 5% (681/11783)\nu'[[FROST]What stats on necklaces?] (/forums/en/wow/topic/17613354089)'\n"
     ]
    },
    {
     "name": "stdout",
     "output_type": "stream",
     "text": [
      "Exiting\n'posts: 2'\nPROGRESS: 5% (682/11783)\nu'[Thinking of leveling DK for mythic+/duels/raiding] (/forums/en/wow/topic/17613423728)'\n"
     ]
    },
    {
     "name": "stdout",
     "output_type": "stream",
     "text": [
      "Exiting\n'posts: 6'\nPROGRESS: 5% (683/11783)\nu'[Best dk EU] (/forums/en/wow/topic/17613403747)'\n"
     ]
    },
    {
     "name": "stdout",
     "output_type": "stream",
     "text": [
      "Exiting\n'posts: 2'\nPROGRESS: 5% (684/11783)\nu'[Mastery with castigator] (/forums/en/wow/topic/17613443805)'\n"
     ]
    },
    {
     "name": "stdout",
     "output_type": "stream",
     "text": [
      "[Errno 10054] An existing connection was forcibly closed by the remote host\n"
     ]
    },
    {
     "name": "stdout",
     "output_type": "stream",
     "text": [
      "Exiting\n'posts: 2'\nPROGRESS: 5% (685/11783)\nu'[What Frost needs is] (/forums/en/wow/topic/17613403349)'\n"
     ]
    },
    {
     "name": "stdout",
     "output_type": "stream",
     "text": [
      "[Errno 10054] An existing connection was forcibly closed by the remote host\n"
     ]
    },
    {
     "name": "stdout",
     "output_type": "stream",
     "text": [
      "Exiting\n'posts: 6'\nPROGRESS: 5% (686/11783)\nu'[Rune of stoneskin gargoyle and fallen crusader] (/forums/en/wow/topic/17613423903)'\n"
     ]
    },
    {
     "name": "stdout",
     "output_type": "stream",
     "text": [
      "Exiting\n'posts: 3'\nPROGRESS: 5% (687/11783)\nu'[Quick mog question] (/forums/en/wow/topic/17613353559)'\n"
     ]
    },
    {
     "name": "stdout",
     "output_type": "stream",
     "text": [
      "Exiting\n'posts: 5'\nPROGRESS: 5% (688/11783)\nu'[Wraithwalking should stop to be in \"levitate\" mode] (/forums/en/wow/topic/17613413691)'\n"
     ]
    },
    {
     "name": "stdout",
     "output_type": "stream",
     "text": [
      "HTTPError = 404\n"
     ]
    },
    {
     "name": "stdout",
     "output_type": "stream",
     "text": [
      "Exiting\n'posts: 11'\nPROGRESS: 5% (689/11783)\nu'[Legion - DK usefull Glyphs] (/forums/en/wow/topic/17613363896)'\n"
     ]
    },
    {
     "name": "stdout",
     "output_type": "stream",
     "text": [
      "Exiting\n'posts: 3'\nPROGRESS: 5% (690/11783)\nu'[Potential Lead on Hidden Appearances] (/forums/en/wow/topic/17613443721)'\n"
     ]
    },
    {
     "name": "stdout",
     "output_type": "stream",
     "text": [
      "Exiting\n'posts: 4'\nPROGRESS: 5% (691/11783)\nu'[Blades of the Fallen...on hip??] (/forums/en/wow/topic/17613403592)'\n"
     ]
    },
    {
     "name": "stdout",
     "output_type": "stream",
     "text": [
      "Exiting\n'posts: 3'\nPROGRESS: 5% (692/11783)\nu'[******* Frost relicts] (/forums/en/wow/topic/17613343652)'\n"
     ]
    },
    {
     "name": "stdout",
     "output_type": "stream",
     "text": [
      "Exiting\n'posts: 15'\nPROGRESS: 5% (693/11783)\nu'[Dk UH statistics] (/forums/en/wow/topic/17613413669)'\n"
     ]
    },
    {
     "name": "stdout",
     "output_type": "stream",
     "text": [
      "Exiting\n'posts: 3'\nPROGRESS: 5% (694/11783)\nu'[UH ghost nerf ?] (/forums/en/wow/topic/17613403338)'\n"
     ]
    },
    {
     "name": "stdout",
     "output_type": "stream",
     "text": [
      "Exiting\n'posts: 10'\nPROGRESS: 5% (695/11783)\nu'[Why is Blood for blood the first Tier?] (/forums/en/wow/topic/17613392370)'\n"
     ]
    },
    {
     "name": "stdout",
     "output_type": "stream",
     "text": [
      "Exiting\n'posts: 16'\nPROGRESS: 5% (696/11783)\nu'[Path of Frost - Change] (/forums/en/wow/topic/17613393633)'\n"
     ]
    },
    {
     "name": "stdout",
     "output_type": "stream",
     "text": [
      "Exiting\n'posts: 5'\nPROGRESS: 5% (697/11783)\nu'[The full list of Unholy DK issues/rant] (/forums/en/wow/topic/17613343767)'\n"
     ]
    },
    {
     "name": "stdout",
     "output_type": "stream",
     "text": [
      "Exiting\n'posts: 5'\nPROGRESS: 5% (698/11783)\nu'[Necrosis related question] (/forums/en/wow/topic/17613423660)'\n"
     ]
    },
    {
     "name": "stdout",
     "output_type": "stream",
     "text": [
      "Exiting\n'posts: 3'\nPROGRESS: 5% (699/11783)\nu'[Soul reaper vs Dark Arbiter - PvE raidwise] (/forums/en/wow/topic/17613352844)'\n"
     ]
    },
    {
     "name": "stdout",
     "output_type": "stream",
     "text": [
      "Exiting\n'posts: 7'\nPROGRESS: 5% (700/11783)\nu'[Too much runic power?] (/forums/en/wow/topic/17613443580)'\n"
     ]
    },
    {
     "name": "stdout",
     "output_type": "stream",
     "text": [
      "Exiting\n'posts: 3'\nPROGRESS: 5% (701/11783)\nu'[Unholy and Frost in mythic+. Opinions/thoughts?] (/forums/en/wow/topic/17613133034)'\n"
     ]
    },
    {
     "name": "stdout",
     "output_type": "stream",
     "text": [
      "Exiting\n'posts: 6'\nPROGRESS: 5% (702/11783)\nu'[Tanks now using same gear as dps?] (/forums/en/wow/topic/17613383380)'\n"
     ]
    },
    {
     "name": "stdout",
     "output_type": "stream",
     "text": [
      "Exiting\n'posts: 13'\nPROGRESS: 5% (703/11783)\nu'[Unholy and Blood weapons too small for UD] (/forums/en/wow/topic/17613383517)'\n"
     ]
    },
    {
     "name": "stdout",
     "output_type": "stream",
     "text": [
      "Exiting\n'posts: 2'\nPROGRESS: 5% (704/11783)\nu'[Real state of UH in PvP at Legion - Reinharts review] (/forums/en/wow/topic/17613413268)'\n"
     ]
    },
    {
     "name": "stdout",
     "output_type": "stream",
     "text": [
      "Exiting\n'posts: 8'\nPROGRESS: 5% (705/11783)\nu'[need info DK campaign,Lights hope chapel] (/forums/en/wow/topic/17613433597)'\n"
     ]
    },
    {
     "name": "stdout",
     "output_type": "stream",
     "text": [
      "Exiting\n'posts: 3'\nPROGRESS: 5% (706/11783)\nu'[Ghoul healing -] (/forums/en/wow/topic/17613433605)'\n"
     ]
    },
    {
     "name": "stdout",
     "output_type": "stream",
     "text": [
      "Exiting\n'posts: 1'\nPROGRESS: 6% (707/11783)\nu'[Serious DPS Issue!!] (/forums/en/wow/topic/17613383101)'\n"
     ]
    },
    {
     "name": "stdout",
     "output_type": "stream",
     "text": [
      "Exiting\n'posts: 18'\nPROGRESS: 6% (708/11783)\nu'[pvp specs] (/forums/en/wow/topic/17613443210)'\n"
     ]
    },
    {
     "name": "stdout",
     "output_type": "stream",
     "text": [
      "Exiting\n'posts: 7'\nPROGRESS: 6% (709/11783)\nu'[Things to repair on Frost] (/forums/en/wow/topic/17613433056)'\n"
     ]
    },
    {
     "name": "stdout",
     "output_type": "stream",
     "text": [
      "Exiting\n'posts: 12'\nPROGRESS: 6% (710/11783)\nu'[Lvl up  unholy  talent build] (/forums/en/wow/topic/17613403251)'\n"
     ]
    },
    {
     "name": "stdout",
     "output_type": "stream",
     "text": [
      "Exiting\n'posts: 8'\nPROGRESS: 6% (711/11783)\nu'[How should Blood stats look like?] (/forums/en/wow/topic/17613413328)'\nHTTPError = 404\n"
     ]
    },
    {
     "name": "stdout",
     "output_type": "stream",
     "text": [
      "Exiting\n'posts: 2'\nPROGRESS: 6% (712/11783)\nu'[Unholy DKs 15% Move speed?] (/forums/en/wow/topic/17613383405)'\nHTTPError = 404\n"
     ]
    },
    {
     "name": "stdout",
     "output_type": "stream",
     "text": [
      "Exiting\n'posts: 2'\nPROGRESS: 6% (713/11783)\nu'[Blood Artifact Weapon Quest] (/forums/en/wow/topic/17613353479)'\n"
     ]
    },
    {
     "name": "stdout",
     "output_type": "stream",
     "text": [
      "Exiting\n'posts: 3'\nPROGRESS: 6% (714/11783)\nu'[WeakAuras 2 Necrotic Strike Strings help] (/forums/en/wow/topic/17613423398)'\n"
     ]
    },
    {
     "name": "stdout",
     "output_type": "stream",
     "text": [
      "HTTPError = 404\nHTTPError = 404\n"
     ]
    },
    {
     "name": "stdout",
     "output_type": "stream",
     "text": [
      "Exiting\n'posts: 2'\nPROGRESS: 6% (715/11783)\nu'[Need advice with DPS rotation] (/forums/en/wow/topic/17613333394)'\n"
     ]
    },
    {
     "name": "stdout",
     "output_type": "stream",
     "text": [
      "Exiting\n'posts: 1'\nPROGRESS: 6% (716/11783)\nu'[My humble Idea for Blood in PVP] (/forums/en/wow/topic/17613393225)'\n"
     ]
    },
    {
     "name": "stdout",
     "output_type": "stream",
     "text": [
      "Exiting\n'posts: 2'\nPROGRESS: 6% (717/11783)\nu'[Blood Dk] (/forums/en/wow/topic/17613392305)'\n"
     ]
    },
    {
     "name": "stdout",
     "output_type": "stream",
     "text": [
      "Exiting\n'posts: 13'\nPROGRESS: 6% (718/11783)\nu'[Abomination problem !... It Attacks around..] (/forums/en/wow/topic/17613413271)'\n"
     ]
    },
    {
     "name": "stdout",
     "output_type": "stream",
     "text": [
      "[Errno 10054] An existing connection was forcibly closed by the remote host\n"
     ]
    },
    {
     "name": "stdout",
     "output_type": "stream",
     "text": [
      "Exiting\n'posts: 2'\nPROGRESS: 6% (719/11783)\nu'[Runeforging?] (/forums/en/wow/topic/17613333279)'\n"
     ]
    },
    {
     "name": "stdout",
     "output_type": "stream",
     "text": [
      "Exiting\n'posts: 3'\nPROGRESS: 6% (720/11783)\nu'[Please give us something.] (/forums/en/wow/topic/17613373215)'\n"
     ]
    },
    {
     "name": "stdout",
     "output_type": "stream",
     "text": [
      "Exiting\n'posts: 1'\nPROGRESS: 6% (721/11783)\nu'[frost death knight endagered species] (/forums/en/wow/topic/17613412717)'\n"
     ]
    },
    {
     "name": "stdout",
     "output_type": "stream",
     "text": [
      "Exiting\n'posts: 7'\nPROGRESS: 6% (722/11783)\nu'[Frost DK 1 handers why blizzard, why?] (/forums/en/wow/topic/17613413142)'\n"
     ]
    },
    {
     "name": "stdout",
     "output_type": "stream",
     "text": [
      "Exiting\n'posts: 11'\nPROGRESS: 6% (723/11783)\nu'[One handers.] (/forums/en/wow/topic/17613393182)'\nHTTPError = 404\n"
     ]
    },
    {
     "name": "stdout",
     "output_type": "stream",
     "text": [
      "Exiting\n'posts: 4'\nPROGRESS: 6% (724/11783)\nu'[Runeforging pvp] (/forums/en/wow/topic/17613333146)'\n"
     ]
    },
    {
     "name": "stdout",
     "output_type": "stream",
     "text": [
      "Exiting\n'posts: 4'\nPROGRESS: 6% (725/11783)\nu'[Double doom artifact trait] (/forums/en/wow/topic/17613372663)'\n"
     ]
    },
    {
     "name": "stdout",
     "output_type": "stream",
     "text": [
      "Exiting\n'posts: 10'\nPROGRESS: 6% (726/11783)\nu'[Frost dk legendary helm bugged] (/forums/en/wow/topic/17613382936)'\n"
     ]
    },
    {
     "name": "stdout",
     "output_type": "stream",
     "text": [
      "Exiting\n'posts: 4'\nPROGRESS: 6% (727/11783)\nu'[Best arena comp for UH DK] (/forums/en/wow/topic/17613332655)'\n"
     ]
    },
    {
     "name": "stdout",
     "output_type": "stream",
     "text": [
      "Exiting\n'posts: 8'\nPROGRESS: 6% (728/11783)\nu'[Gcd dk 7.0] (/forums/en/wow/topic/17613361905)'\n"
     ]
    },
    {
     "name": "stdout",
     "output_type": "stream",
     "text": [
      "Exiting\n'posts: 14'\nPROGRESS: 6% (729/11783)\nu'[Any boost chance?] (/forums/en/wow/topic/17613372825)'\n"
     ]
    },
    {
     "name": "stdout",
     "output_type": "stream",
     "text": [
      "Exiting\n'posts: 5'\nPROGRESS: 6% (730/11783)\nu'[Wanted to level DK but] (/forums/en/wow/topic/17613421899)'\n"
     ]
    },
    {
     "name": "stdout",
     "output_type": "stream",
     "text": [
      "Exiting\n'posts: 13'\nPROGRESS: 6% (731/11783)\nu'[Is DK frost Artifact spell bugged?] (/forums/en/wow/topic/17613363099)'\n"
     ]
    },
    {
     "name": "stdout",
     "output_type": "stream",
     "text": [
      "Exiting\n'posts: 3'\nPROGRESS: 6% (732/11783)\nu'[4 Horsemen mounts] (/forums/en/wow/topic/17613362181)'\n"
     ]
    },
    {
     "name": "stdout",
     "output_type": "stream",
     "text": [
      "Exiting\n'posts: 11'\nPROGRESS: 6% (733/11783)\nu'[Wayward Ghouls] (/forums/en/wow/topic/17613352823)'\n"
     ]
    },
    {
     "name": "stdout",
     "output_type": "stream",
     "text": [
      "Exiting\n'posts: 4'\nPROGRESS: 6% (734/11783)\nu'[[Lore] Who would you raise as a horsemen?] (/forums/en/wow/topic/17613422540)'\n"
     ]
    },
    {
     "name": "stdout",
     "output_type": "stream",
     "text": [
      "[Errno 10054] An existing connection was forcibly closed by the remote host\n"
     ]
    },
    {
     "name": "stdout",
     "output_type": "stream",
     "text": [
      "Exiting\n'posts: 24'\nPROGRESS: 6% (735/11783)\nu'[Blood for Blood PVP talent] (/forums/en/wow/topic/17613382191)'\n"
     ]
    },
    {
     "name": "stdout",
     "output_type": "stream",
     "text": [
      "Exiting\n'posts: 14'\nPROGRESS: 6% (736/11783)\nu'[where is 2h frost artifact???] (/forums/en/wow/topic/17612331823)'\n"
     ]
    },
    {
     "name": "stdout",
     "output_type": "stream",
     "text": [
      "Exiting\n'posts: 24'\nPROGRESS: 6% (737/11783)\nu'[Fix Frost Death Knight] (/forums/en/wow/topic/17613342680)'\n"
     ]
    },
    {
     "name": "stdout",
     "output_type": "stream",
     "text": [
      "Exiting\n'posts: 4'\nPROGRESS: 6% (738/11783)\nu'[frost dk Follower with a 2-hander] (/forums/en/wow/topic/17613422932)'\n"
     ]
    },
    {
     "name": "stdout",
     "output_type": "stream",
     "text": [
      "Exiting\n'posts: 1'\nPROGRESS: 6% (739/11783)\nu'[How long before the next blue respons to DK problems?] (/forums/en/wow/topic/17613401967)'\n"
     ]
    },
    {
     "name": "stdout",
     "output_type": "stream",
     "text": [
      "Exiting\n'posts: 17'\nPROGRESS: 6% (740/11783)\nu'[Pure of Heart way to strong in pvp against UH DK] (/forums/en/wow/topic/17613222581)'\n"
     ]
    },
    {
     "name": "stdout",
     "output_type": "stream",
     "text": [
      "HTTPError = 404\n"
     ]
    },
    {
     "name": "stdout",
     "output_type": "stream",
     "text": [
      "Exiting\n'posts: 11'\nPROGRESS: 6% (741/11783)\nu'[Frost DK [Different Builds] Questions] (/forums/en/wow/topic/17613422422)'\n"
     ]
    },
    {
     "name": "stdout",
     "output_type": "stream",
     "text": [
      "[Errno 10054] An existing connection was forcibly closed by the remote host\n"
     ]
    },
    {
     "name": "stdout",
     "output_type": "stream",
     "text": [
      "Exiting\n'posts: 12'\nPROGRESS: 6% (742/11783)\nu\"[Can't see my artifact skill] (/forums/en/wow/topic/17613422860)\"\n"
     ]
    },
    {
     "name": "stdout",
     "output_type": "stream",
     "text": [
      "Exiting\n'posts: 4'\nPROGRESS: 6% (743/11783)\nu'[The Great Mage Hiyorins Adventure in Being a Deathlord!] (/forums/en/wow/topic/17613402383)'\nHTTPError = 404\n"
     ]
    },
    {
     "name": "stdout",
     "output_type": "stream",
     "text": [
      "Exiting\n'posts: 5'\nPROGRESS: 6% (744/11783)\nu'[Force dismount inside Ebon Hold please.] (/forums/en/wow/topic/17613432459)'\n"
     ]
    },
    {
     "name": "stdout",
     "output_type": "stream",
     "text": [
      "Exiting\n'posts: 11'\nPROGRESS: 6% (745/11783)\nu'[Blood DK help please] (/forums/en/wow/topic/17613342547)'\n"
     ]
    },
    {
     "name": "stdout",
     "output_type": "stream",
     "text": [
      "[Errno 10054] An existing connection was forcibly closed by the remote host\n"
     ]
    },
    {
     "name": "stdout",
     "output_type": "stream",
     "text": [
      "Exiting\n'posts: 3'\nPROGRESS: 6% (746/11783)\nu'[About Dk s Razorice in PvP] (/forums/en/wow/topic/17613421457)'\n"
     ]
    },
    {
     "name": "stdout",
     "output_type": "stream",
     "text": [
      "Exiting\n'posts: 7'\nPROGRESS: 6% (747/11783)\nu'[Mythic tanking rune?] (/forums/en/wow/topic/17613412633)'\nHTTPError = 404\n"
     ]
    },
    {
     "name": "stdout",
     "output_type": "stream",
     "text": [
      "Exiting\n'posts: 2'\nPROGRESS: 6% (748/11783)\nu'[Enjoy getting rekt by mages this season :)] (/forums/en/wow/topic/17613382582)'\n"
     ]
    },
    {
     "name": "stdout",
     "output_type": "stream",
     "text": [
      "Exiting\n'posts: 13'\nPROGRESS: 6% (749/11783)\nu'[Question] (/forums/en/wow/topic/17613442519)'\n"
     ]
    },
    {
     "name": "stdout",
     "output_type": "stream",
     "text": [
      "Exiting\n'posts: 3'\nPROGRESS: 6% (750/11783)\nu'[Dk Transmog] (/forums/en/wow/topic/17613342497)'\n"
     ]
    },
    {
     "name": "stdout",
     "output_type": "stream",
     "text": [
      "HTTPError = 404\n"
     ]
    },
    {
     "name": "stdout",
     "output_type": "stream",
     "text": [
      "Exiting\n'posts: 3'\nPROGRESS: 6% (751/11783)\nu'[Best Champions] (/forums/en/wow/topic/17613392004)'\n"
     ]
    },
    {
     "name": "stdout",
     "output_type": "stream",
     "text": [
      "Exiting\n'posts: 7'\nPROGRESS: 6% (752/11783)\nu'[unholy dk pvp guide] (/forums/en/wow/topic/17613402486)'\n"
     ]
    },
    {
     "name": "stdout",
     "output_type": "stream",
     "text": [
      "HTTPError = 404\nHTTPError = 404\n"
     ]
    },
    {
     "name": "stdout",
     "output_type": "stream",
     "text": [
      "Exiting\n'posts: 4'\nPROGRESS: 6% (753/11783)\nu'[How to get bodyguard back] (/forums/en/wow/topic/17613292676)'\n"
     ]
    },
    {
     "name": "stdout",
     "output_type": "stream",
     "text": [
      "Exiting\n'posts: 3'\nPROGRESS: 6% (754/11783)\nu'[Unholy DK rng?] (/forums/en/wow/topic/17613372393)'\n"
     ]
    },
    {
     "name": "stdout",
     "output_type": "stream",
     "text": [
      "Exiting\n'posts: 7'\nPROGRESS: 6% (755/11783)\nu'[Blood - Active Mitigation] (/forums/en/wow/topic/17613382261)'\n"
     ]
    },
    {
     "name": "stdout",
     "output_type": "stream",
     "text": [
      "Exiting\n'posts: 6'\nPROGRESS: 6% (756/11783)\nu'[I demand Frostmourne!] (/forums/en/wow/topic/15161830640)'\n"
     ]
    },
    {
     "name": "stdout",
     "output_type": "stream",
     "text": [
      "[Errno 10054] An existing connection was forcibly closed by the remote host\n"
     ]
    },
    {
     "name": "stdout",
     "output_type": "stream",
     "text": [
      "Exiting\n'posts: 78'\nPROGRESS: 6% (757/11783)\nu'[The Runes of the Darkening] (/forums/en/wow/topic/17613442472)'\n"
     ]
    },
    {
     "name": "stdout",
     "output_type": "stream",
     "text": [
      "[Errno 10054] An existing connection was forcibly closed by the remote host\n"
     ]
    },
    {
     "name": "stdout",
     "output_type": "stream",
     "text": [
      "HTTPError = 404\n"
     ]
    },
    {
     "name": "stdout",
     "output_type": "stream",
     "text": [
      "Exiting\n'posts: 2'\nPROGRESS: 6% (758/11783)\nu'[Question about honor talent- Unholy Mutation] (/forums/en/wow/topic/17613392103)'\n"
     ]
    },
    {
     "name": "stdout",
     "output_type": "stream",
     "text": [
      "Exiting\n'posts: 5'\nPROGRESS: 6% (759/11783)\nu'[Clawing shadow og Castigator?] (/forums/en/wow/topic/17613242602)'\n"
     ]
    },
    {
     "name": "stdout",
     "output_type": "stream",
     "text": [
      "Exiting\n'posts: 8'\nPROGRESS: 6% (760/11783)\nu'[Frost dk problems] (/forums/en/wow/topic/17613422168)'\nHTTPError = 404\n"
     ]
    },
    {
     "name": "stdout",
     "output_type": "stream",
     "text": [
      "Exiting\n'posts: 15'\nPROGRESS: 6% (761/11783)\nu'[Death Knight old animations?] (/forums/en/wow/topic/17613422321)'\n"
     ]
    },
    {
     "name": "stdout",
     "output_type": "stream",
     "text": [
      "Exiting\n'posts: 3'\nPROGRESS: 6% (762/11783)\nu'[Concerned] (/forums/en/wow/topic/17613412412)'\n"
     ]
    },
    {
     "name": "stdout",
     "output_type": "stream",
     "text": [
      "Exiting\n'posts: 7'\nPROGRESS: 6% (763/11783)\nu'[Insane Howling Blast Damage] (/forums/en/wow/topic/17613442403)'\n"
     ]
    },
    {
     "name": "stdout",
     "output_type": "stream",
     "text": [
      "Exiting\n'posts: 3'\nPROGRESS: 6% (764/11783)\nu'[Soul Reaper? Lol] (/forums/en/wow/topic/17613362410)'\n"
     ]
    },
    {
     "name": "stdout",
     "output_type": "stream",
     "text": [
      "Exiting\n'posts: 5'\nPROGRESS: 6% (765/11783)\nu\"[[SPOILERS] Last order hall campain's quest] (/forums/en/wow/topic/17613342361)\"\n"
     ]
    },
    {
     "name": "stdout",
     "output_type": "stream",
     "text": [
      "Exiting\n'posts: 3'\nPROGRESS: 6% (766/11783)\nu'[Haste, Critical Strike and Mastery cap] (/forums/en/wow/topic/17613432435)'\n"
     ]
    },
    {
     "name": "stdout",
     "output_type": "stream",
     "text": [
      "Exiting\n'posts: 2'\nPROGRESS: 6% (767/11783)\nu'[Trap Talents in the PvP Tree be careful] (/forums/en/wow/topic/17613432389)'\n"
     ]
    },
    {
     "name": "stdout",
     "output_type": "stream",
     "text": [
      "Exiting\n'posts: 5'\nPROGRESS: 6% (768/11783)\nu'[Unholy DK - PVE, need help] (/forums/en/wow/topic/17613362326)'\n"
     ]
    },
    {
     "name": "stdout",
     "output_type": "stream",
     "text": [
      "Exiting\n'posts: 3'\nPROGRESS: 6% (769/11783)\nu'[Unholy DK Nerfed/Weak ?!] (/forums/en/wow/topic/17613401838)'\n"
     ]
    },
    {
     "name": "stdout",
     "output_type": "stream",
     "text": [
      "Exiting\n'posts: 18'\nPROGRESS: 6% (770/11783)\nu'[Movement problem in dungeons] (/forums/en/wow/topic/17613422270)'\n"
     ]
    },
    {
     "name": "stdout",
     "output_type": "stream",
     "text": [
      "Exiting\n'posts: 5'\nPROGRESS: 6% (771/11783)\nu'[New Dalaran question] (/forums/en/wow/topic/17613361917)'\n"
     ]
    },
    {
     "name": "stdout",
     "output_type": "stream",
     "text": [
      "Exiting\n'posts: 5'\nPROGRESS: 6% (772/11783)\nu'[portal to the underworld and apocalypse] (/forums/en/wow/topic/17613432019)'\n"
     ]
    },
    {
     "name": "stdout",
     "output_type": "stream",
     "text": [
      "Exiting\n'posts: 4'\nPROGRESS: 6% (773/11783)\nu'[Unholy artifact quest help.] (/forums/en/wow/topic/17613442075)'\n"
     ]
    },
    {
     "name": "stdout",
     "output_type": "stream",
     "text": [
      "Exiting\n'posts: 5'\nPROGRESS: 6% (774/11783)\nu'[Aggregates of Anguish] (/forums/en/wow/topic/17613352294)'\n"
     ]
    },
    {
     "name": "stdout",
     "output_type": "stream",
     "text": [
      "Exiting\n'posts: 2'\nPROGRESS: 6% (775/11783)\nu'[Is the dk campaign bugged?] (/forums/en/wow/topic/17613421670)'\nHTTPError = 404\n"
     ]
    },
    {
     "name": "stdout",
     "output_type": "stream",
     "text": [
      "Exiting\n'posts: 18'\nPROGRESS: 6% (776/11783)\nu'[3rd relic not slot unlocked] (/forums/en/wow/topic/17613351794)'\n"
     ]
    },
    {
     "name": "stdout",
     "output_type": "stream",
     "text": [
      "Exiting\n'posts: 13'\nPROGRESS: 6% (777/11783)\nu\"[Just finished class hall quest's] (/forums/en/wow/topic/17613401625)\"\n"
     ]
    },
    {
     "name": "stdout",
     "output_type": "stream",
     "text": [
      "Exiting\n'posts: 11'\nPROGRESS: 6% (778/11783)\nu'[List of DK Bugs] (/forums/en/wow/topic/17613382112)'\n"
     ]
    },
    {
     "name": "stdout",
     "output_type": "stream",
     "text": [
      "HTTPError = 404\n"
     ]
    },
    {
     "name": "stdout",
     "output_type": "stream",
     "text": [
      "Exiting\n'posts: 1'\nPROGRESS: 6% (779/11783)\nu'[Death Gate Bug!] (/forums/en/wow/topic/17613332092)'\n"
     ]
    },
    {
     "name": "stdout",
     "output_type": "stream",
     "text": [
      "Exiting\n'posts: 1'\nPROGRESS: 6% (780/11783)\nu'[Blood DK Trinkets - Haste or Strenght?] (/forums/en/wow/topic/17613371981)'\n"
     ]
    },
    {
     "name": "stdout",
     "output_type": "stream",
     "text": [
      "Exiting\n'posts: 3'\nPROGRESS: 6% (781/11783)\nu'[Idle ground frost animation] (/forums/en/wow/topic/17612831796)'\n"
     ]
    },
    {
     "name": "stdout",
     "output_type": "stream",
     "text": [
      "Exiting\n'posts: 4'\nPROGRESS: 6% (782/11783)\nu'[questions about the DK class (unholy)] (/forums/en/wow/topic/17613381812)'\n"
     ]
    },
    {
     "name": "stdout",
     "output_type": "stream",
     "text": [
      "Exiting\n'posts: 9'\nPROGRESS: 6% (783/11783)\nu'[All Will Serve] (/forums/en/wow/topic/17613371603)'\n"
     ]
    },
    {
     "name": "stdout",
     "output_type": "stream",
     "text": [
      "Exiting\n'posts: 3'\nPROGRESS: 6% (784/11783)\nu'[Change on Crystaline Swords] (/forums/en/wow/topic/17613341983)'\n"
     ]
    },
    {
     "name": "stdout",
     "output_type": "stream",
     "text": [
      "Exiting\n'posts: 2'\nPROGRESS: 6% (785/11783)\nu'[Those red eyes for blood....] (/forums/en/wow/topic/17613391656)'\n"
     ]
    },
    {
     "name": "stdout",
     "output_type": "stream",
     "text": [
      "Exiting\n'posts: 4'\nPROGRESS: 6% (786/11783)\nu'[Blood DK advice] (/forums/en/wow/topic/17613441624)'\n"
     ]
    },
    {
     "name": "stdout",
     "output_type": "stream",
     "text": [
      "Exiting\n'posts: 4'\nPROGRESS: 6% (787/11783)\nu'[Idea for Blood In pvp] (/forums/en/wow/topic/17613361772)'\n"
     ]
    },
    {
     "name": "stdout",
     "output_type": "stream",
     "text": [
      "Exiting\n'posts: 2'\nPROGRESS: 6% (788/11783)\nu'[EPL teleport gone?] (/forums/en/wow/topic/17613381684)'\n"
     ]
    },
    {
     "name": "stdout",
     "output_type": "stream",
     "text": [
      "Exiting\n'posts: 5'\nPROGRESS: 6% (789/11783)\nu'[Death knight problems] (/forums/en/wow/topic/17613331690)'\n"
     ]
    },
    {
     "name": "stdout",
     "output_type": "stream",
     "text": [
      "Exiting\n'posts: 16'\nPROGRESS: 6% (790/11783)\nu'[maw of the damned quest] (/forums/en/wow/topic/17613411714)'\n"
     ]
    },
    {
     "name": "stdout",
     "output_type": "stream",
     "text": [
      "[Errno 10054] An existing connection was forcibly closed by the remote host\n"
     ]
    },
    {
     "name": "stdout",
     "output_type": "stream",
     "text": [
      "Exiting\n'posts: 5'\nPROGRESS: 6% (791/11783)\nu'[Frost DK: Hypothermia too much RNG] (/forums/en/wow/topic/17613371747)'\n"
     ]
    },
    {
     "name": "stdout",
     "output_type": "stream",
     "text": [
      "Exiting\n'posts: 3'\nPROGRESS: 6% (792/11783)\nu'[Pvp at lvl 110!] (/forums/en/wow/topic/17613351438)'\n"
     ]
    },
    {
     "name": "stdout",
     "output_type": "stream",
     "text": [
      "Exiting\n'posts: 8'\nPROGRESS: 6% (793/11783)\nu'[Blood artifact, laughed my !@# off.] (/forums/en/wow/topic/17613322133)'\n"
     ]
    },
    {
     "name": "stdout",
     "output_type": "stream",
     "text": [
      "Exiting\n'posts: 10'\nPROGRESS: 6% (794/11783)\nu'[Rune of the Stoneskin Gargoyle] (/forums/en/wow/topic/17613411548)'\n"
     ]
    },
    {
     "name": "stdout",
     "output_type": "stream",
     "text": [
      "Exiting\n'posts: 3'\nPROGRESS: 6% (795/11783)\nu'[Question from a new Blood DK player] (/forums/en/wow/topic/17613401853)'\n"
     ]
    },
    {
     "name": "stdout",
     "output_type": "stream",
     "text": [
      "Exiting\n'posts: 2'\nPROGRESS: 6% (796/11783)\nu'[Shadowmeld deactivates itself as Frost DK. Fix plz?] (/forums/en/wow/topic/17613361864)'\n"
     ]
    },
    {
     "name": "stdout",
     "output_type": "stream",
     "text": [
      "Exiting\n'posts: 1'\nPROGRESS: 6% (797/11783)\nu'[\"The Scarlett Assault\"-quest.] (/forums/en/wow/topic/17613331796)'\n"
     ]
    },
    {
     "name": "stdout",
     "output_type": "stream",
     "text": [
      "Exiting\n'posts: 7'\nPROGRESS: 6% (798/11783)\nu'[fire relic] (/forums/en/wow/topic/17613401359)'\n"
     ]
    },
    {
     "name": "stdout",
     "output_type": "stream",
     "text": [
      "Exiting\n'posts: 3'\nPROGRESS: 6% (799/11783)\nu'[Worthless] (/forums/en/wow/topic/17613411791)'\n"
     ]
    },
    {
     "name": "stdout",
     "output_type": "stream",
     "text": [
      "Exiting\n'posts: 1'\nPROGRESS: 6% (800/11783)\nu'[DK nerf a joke?] (/forums/en/wow/topic/17613262629)'\n"
     ]
    },
    {
     "name": "stdout",
     "output_type": "stream",
     "text": [
      "Exiting\n'posts: 26'\nPROGRESS: 6% (801/11783)\nu'[AMS Soaking] (/forums/en/wow/topic/17613331736)'\n"
     ]
    },
    {
     "name": "stdout",
     "output_type": "stream",
     "text": [
      "HTTPError = 404\n"
     ]
    },
    {
     "name": "stdout",
     "output_type": "stream",
     "text": [
      "Exiting\n'posts: 1'\nPROGRESS: 6% (802/11783)\nu'[%10 Haste is just great] (/forums/en/wow/topic/17613361446)'\n"
     ]
    },
    {
     "name": "stdout",
     "output_type": "stream",
     "text": [
      "Exiting\n'posts: 8'\nPROGRESS: 6% (803/11783)\nu'[For the dev team] (/forums/en/wow/topic/17613341768)'\n"
     ]
    },
    {
     "name": "stdout",
     "output_type": "stream",
     "text": [
      "Exiting\n'posts: 1'\nPROGRESS: 6% (804/11783)\nu'[OOH LOOK MY PETS DEAD AGAIN!!] (/forums/en/wow/topic/17613361239)'\n"
     ]
    },
    {
     "name": "stdout",
     "output_type": "stream",
     "text": [
      "Exiting\n'posts: 11'\nPROGRESS: 6% (805/11783)\nu'[So what is a Frost DK now?] (/forums/en/wow/topic/17613331561)'\n"
     ]
    },
    {
     "name": "stdout",
     "output_type": "stream",
     "text": [
      "Exiting\n'posts: 11'\nPROGRESS: 6% (806/11783)\nu'[first scenario bugged since lauch for me?] (/forums/en/wow/topic/17613371630)'\n"
     ]
    },
    {
     "name": "stdout",
     "output_type": "stream",
     "text": [
      "Exiting\n'posts: 3'\nPROGRESS: 6% (807/11783)\nu'[Bring back Wotlk rune system] (/forums/en/wow/topic/17613421664)'\nHTTPError = 404\n"
     ]
    },
    {
     "name": "stdout",
     "output_type": "stream",
     "text": [
      "Exiting\n'posts: 3'\nPROGRESS: 6% (808/11783)\nu'[Track portal to the underworld explosion dmg] (/forums/en/wow/topic/17613401636)'\n"
     ]
    },
    {
     "name": "stdout",
     "output_type": "stream",
     "text": [
      "HTTPError = 404\n"
     ]
    },
    {
     "name": "stdout",
     "output_type": "stream",
     "text": [
      "Exiting\n'posts: 2'\nPROGRESS: 6% (809/11783)\nu\"[Glacial Advance doesn't work half the time] (/forums/en/wow/topic/17613411642)\"\n"
     ]
    },
    {
     "name": "stdout",
     "output_type": "stream",
     "text": [
      "Exiting\n'posts: 2'\nPROGRESS: 6% (810/11783)\nu'[die fast] (/forums/en/wow/topic/17613282648)'\n"
     ]
    },
    {
     "name": "stdout",
     "output_type": "stream",
     "text": [
      "Exiting\n'posts: 12'\nPROGRESS: 6% (811/11783)\nu'[Runeforging is gone after update to legion!!!] (/forums/en/wow/topic/17613401172)'\n"
     ]
    },
    {
     "name": "stdout",
     "output_type": "stream",
     "text": [
      "Exiting\n'posts: 5'\nPROGRESS: 6% (812/11783)\nu'[No Speed Boost in the new Acherus?] (/forums/en/wow/topic/17613391568)'\n"
     ]
    },
    {
     "name": "stdout",
     "output_type": "stream",
     "text": [
      "Exiting\n'posts: 4'\nPROGRESS: 6% (813/11783)\nu'[just thought id share this with you] (/forums/en/wow/topic/17613351593)'\n"
     ]
    },
    {
     "name": "stdout",
     "output_type": "stream",
     "text": [
      "Exiting\n'posts: 2'\nPROGRESS: 6% (814/11783)\nu'[Death Strike Aura ?!] (/forums/en/wow/topic/17613441467)'\n"
     ]
    },
    {
     "name": "stdout",
     "output_type": "stream",
     "text": [
      "HTTPError = 404\n"
     ]
    },
    {
     "name": "stdout",
     "output_type": "stream",
     "text": [
      "Exiting\n'posts: 3'\nPROGRESS: 6% (815/11783)\nu'[Apocalypse changes] (/forums/en/wow/topic/17613321864)'\n"
     ]
    },
    {
     "name": "stdout",
     "output_type": "stream",
     "text": [
      "Exiting\n'posts: 12'\nPROGRESS: 6% (816/11783)\nu'[Yorick reference in Apocalypse trait ability] (/forums/en/wow/topic/17613401416)'\n"
     ]
    },
    {
     "name": "stdout",
     "output_type": "stream",
     "text": [
      "[Errno 10054] An existing connection was forcibly closed by the remote host\n"
     ]
    },
    {
     "name": "stdout",
     "output_type": "stream",
     "text": [
      "Exiting\n'posts: 5'\nPROGRESS: 6% (817/11783)\nu'[Champion cap] (/forums/en/wow/topic/17613361470)'\n"
     ]
    },
    {
     "name": "stdout",
     "output_type": "stream",
     "text": [
      "Exiting\n'posts: 1'\nPROGRESS: 6% (818/11783)\nu'[Frost wraith-walk animation suggestion] (/forums/en/wow/topic/17613441343)'\n"
     ]
    },
    {
     "name": "stdout",
     "output_type": "stream",
     "text": [
      "Exiting\n'posts: 6'\nPROGRESS: 6% (819/11783)\nu'[Blizz u done f***** up] (/forums/en/wow/topic/17613222209)'\n"
     ]
    },
    {
     "name": "stdout",
     "output_type": "stream",
     "text": [
      "Exiting\n'posts: 4'\nPROGRESS: 6% (820/11783)\nu'[Any Orc DK Name Suggestions?] (/forums/en/wow/topic/17613351288)'\n"
     ]
    },
    {
     "name": "stdout",
     "output_type": "stream",
     "text": [
      "Exiting\n'posts: 4'\nPROGRESS: 6% (821/11783)\nu'[blood artifact quests] (/forums/en/wow/topic/17613371250)'\n"
     ]
    },
    {
     "name": "stdout",
     "output_type": "stream",
     "text": [
      "Exiting\n'posts: 8'\nPROGRESS: 6% (822/11783)\nu'[Conquerors darkruned battle gear] (/forums/en/wow/topic/17613312691)'\n"
     ]
    },
    {
     "name": "stdout",
     "output_type": "stream",
     "text": [
      "Exiting\n'posts: 6'\nPROGRESS: 6% (823/11783)\nu'[Draenei Or Worgen Death Knight?] (/forums/en/wow/topic/15162514044)'\n"
     ]
    },
    {
     "name": "stdout",
     "output_type": "stream",
     "text": [
      "Exiting\n'posts: 16'\nPROGRESS: 6% (824/11783)\nu'[Blooddrinker talent] (/forums/en/wow/topic/17613351214)'\n"
     ]
    },
    {
     "name": "stdout",
     "output_type": "stream",
     "text": [
      "Exiting\n'posts: 1'\nPROGRESS: 7% (825/11783)\nu'[Answer to low survivability?] (/forums/en/wow/topic/17613312695)'\n"
     ]
    },
    {
     "name": "stdout",
     "output_type": "stream",
     "text": [
      "Exiting\n'posts: 6'\nPROGRESS: 7% (826/11783)\nu\"[Campaign quest doesn't trigger?] (/forums/en/wow/topic/17613282475)\"\n"
     ]
    },
    {
     "name": "stdout",
     "output_type": "stream",
     "text": [
      "Exiting\n'posts: 6'\nPROGRESS: 7% (827/11783)\nu'[Worst expansion for Frost DKs?] (/forums/en/wow/topic/17613401191)'\n"
     ]
    },
    {
     "name": "stdout",
     "output_type": "stream",
     "text": [
      "Exiting\n'posts: 1'\nPROGRESS: 7% (828/11783)\nu'[Abomination glyph?] (/forums/en/wow/topic/17612991550)'\n"
     ]
    },
    {
     "name": "stdout",
     "output_type": "stream",
     "text": [
      "Exiting\n'posts: 11'\nPROGRESS: 7% (829/11783)\nu'[How are DKs in Legion] (/forums/en/wow/topic/17613212639)'\n"
     ]
    },
    {
     "name": "stdout",
     "output_type": "stream",
     "text": [
      "Exiting\n'posts: 6'\nPROGRESS: 7% (830/11783)\nu'[Unholy Artifact Quest Bug] (/forums/en/wow/topic/17613262737)'\n"
     ]
    },
    {
     "name": "stdout",
     "output_type": "stream",
     "text": [
      "Exiting\n'posts: 2'\nPROGRESS: 7% (831/11783)\nu'[Question about tanking/artifact.] (/forums/en/wow/topic/17613292554)'\n"
     ]
    },
    {
     "name": "stdout",
     "output_type": "stream",
     "text": [
      "Exiting\n'posts: 4'\nPROGRESS: 7% (832/11783)\nu'[DK Artifact quest] (/forums/en/wow/topic/17613282599)'\n"
     ]
    },
    {
     "name": "stdout",
     "output_type": "stream",
     "text": [
      "Exiting\n'posts: 2'\nPROGRESS: 7% (833/11783)\nu'[Tell Me When add on] (/forums/en/wow/topic/17613262437)'\n"
     ]
    },
    {
     "name": "stdout",
     "output_type": "stream",
     "text": [
      "Exiting\n'posts: 6'\nPROGRESS: 7% (834/11783)\nu'[Artifact and illusions] (/forums/en/wow/topic/17613242630)'\n"
     ]
    },
    {
     "name": "stdout",
     "output_type": "stream",
     "text": [
      "Exiting\n'posts: 1'\nPROGRESS: 7% (835/11783)\nu\"[Your opinion on Legion's BDK nerfs?] (/forums/en/wow/topic/16885178944)\"\n"
     ]
    },
    {
     "name": "stdout",
     "output_type": "stream",
     "text": [
      "Exiting\n'posts: 25'\nPROGRESS: 7% (836/11783)\nu'[Shadowed Unit Frames not tracking Scourge?] (/forums/en/wow/topic/17613212576)'\n"
     ]
    },
    {
     "name": "stdout",
     "output_type": "stream",
     "text": [
      "Exiting\n'posts: 1'\nPROGRESS: 7% (837/11783)\nu'[Why does UH DK lose all its burst @ lv 110?] (/forums/en/wow/topic/17613302512)'\n"
     ]
    },
    {
     "name": "stdout",
     "output_type": "stream",
     "text": [
      "Exiting\n'posts: 2'\nPROGRESS: 7% (838/11783)\nu'[Unholy dk problems in PvP] (/forums/en/wow/topic/17613262178)'\n"
     ]
    },
    {
     "name": "stdout",
     "output_type": "stream",
     "text": [
      "Exiting\n'posts: 7'\nPROGRESS: 7% (839/11783)\nu'[Artifact weapons and Illusions] (/forums/en/wow/topic/17613292278)'\n"
     ]
    },
    {
     "name": "stdout",
     "output_type": "stream",
     "text": [
      "Exiting\n'posts: 2'\nPROGRESS: 7% (840/11783)\nu'[Glyph suggestion] (/forums/en/wow/topic/17613272490)'\n"
     ]
    },
    {
     "name": "stdout",
     "output_type": "stream",
     "text": [
      "Exiting\n'posts: 3'\nPROGRESS: 7% (841/11783)\nu'[Unholy DK - WeakAuras] (/forums/en/wow/topic/17613211601)'\nHTTPError = 404\n"
     ]
    },
    {
     "name": "stdout",
     "output_type": "stream",
     "text": [
      "Exiting\n'posts: 7'\nPROGRESS: 7% (842/11783)\nu'[Obliteration needs nerfed] (/forums/en/wow/topic/17613252049)'\n"
     ]
    },
    {
     "name": "stdout",
     "output_type": "stream",
     "text": [
      "Exiting\n'posts: 8'\nPROGRESS: 7% (843/11783)\nu'[R.I.P Frost DK] (/forums/en/wow/topic/17612943974)'\n"
     ]
    },
    {
     "name": "stdout",
     "output_type": "stream",
     "text": [
      "Exiting\n'posts: 66'\nPROGRESS: 7% (844/11783)\nu'[T\\u0131tle] (/forums/en/wow/topic/17613292195)'\n"
     ]
    },
    {
     "name": "stdout",
     "output_type": "stream",
     "text": [
      "Exiting\n'posts: 9'\nPROGRESS: 7% (845/11783)\nu'[Missing Runeforging] (/forums/en/wow/topic/17613302215)'\n"
     ]
    },
    {
     "name": "stdout",
     "output_type": "stream",
     "text": [
      "Exiting\n'posts: 4'\nPROGRESS: 7% (846/11783)\nu'[Frost DK, no access to Class Hall Missions] (/forums/en/wow/topic/17613272312)'\n"
     ]
    },
    {
     "name": "stdout",
     "output_type": "stream",
     "text": [
      "HTTPError = 404\n"
     ]
    },
    {
     "name": "stdout",
     "output_type": "stream",
     "text": [
      "Exiting\n'posts: 4'\nPROGRESS: 7% (847/11783)\nu'[Stat Priority] (/forums/en/wow/topic/17613232337)'\n"
     ]
    },
    {
     "name": "stdout",
     "output_type": "stream",
     "text": [
      "Exiting\n'posts: 1'\nPROGRESS: 7% (848/11783)\nu'[Blizzard this is how we feel] (/forums/en/wow/topic/17613232111)'\n"
     ]
    },
    {
     "name": "stdout",
     "output_type": "stream",
     "text": [
      "Exiting\n'posts: 2'\nPROGRESS: 7% (849/11783)\nu'[Need Help with Deathgrip Makro] (/forums/en/wow/topic/17613272110)'\n"
     ]
    },
    {
     "name": "stdout",
     "output_type": "stream",
     "text": [
      "HTTPError = 404\n"
     ]
    },
    {
     "name": "stdout",
     "output_type": "stream",
     "text": [
      "Exiting\n'posts: 3'\nPROGRESS: 7% (850/11783)\nu'[Ghoul Vs Sludge Belcher] (/forums/en/wow/topic/17613322023)'\n"
     ]
    },
    {
     "name": "stdout",
     "output_type": "stream",
     "text": [
      "Exiting\n'posts: 1'\nPROGRESS: 7% (851/11783)\nu'[Will Ebola Cleave be a good setup in Legion?] (/forums/en/wow/topic/17613281641)'\n"
     ]
    },
    {
     "name": "stdout",
     "output_type": "stream",
     "text": [
      "Exiting\n'posts: 15'\nPROGRESS: 7% (852/11783)\nu'[Gief old sounds back] (/forums/en/wow/topic/17613252086)'\n"
     ]
    },
    {
     "name": "stdout",
     "output_type": "stream",
     "text": [
      "Exiting\n'posts: 1'\nPROGRESS: 7% (853/11783)\nu'[Frost or UH for leveling from 100-to-110+early content?] (/forums/en/wow/topic/17613172840)'\n"
     ]
    },
    {
     "name": "stdout",
     "output_type": "stream",
     "text": [
      "Exiting\n'posts: 17'\nPROGRESS: 7% (854/11783)\nu'[Blood DK Artifact talent route] (/forums/en/wow/topic/17613312010)'\n"
     ]
    },
    {
     "name": "stdout",
     "output_type": "stream",
     "text": [
      "HTTPError = 404\n"
     ]
    },
    {
     "name": "stdout",
     "output_type": "stream",
     "text": [
      "Exiting\n'posts: 2'\nPROGRESS: 7% (855/11783)\nu'[Remorseless Winter not working while stunned.] (/forums/en/wow/topic/17613221984)'\n"
     ]
    },
    {
     "name": "stdout",
     "output_type": "stream",
     "text": [
      "Exiting\n'posts: 2'\nPROGRESS: 7% (856/11783)\nu'[No nerf ?] (/forums/en/wow/topic/17613242025)'\n"
     ]
    },
    {
     "name": "stdout",
     "output_type": "stream",
     "text": [
      "Exiting\n'posts: 3'\nPROGRESS: 7% (857/11783)\nu'[That moment:] (/forums/en/wow/topic/17613212032)'\n"
     ]
    },
    {
     "name": "stdout",
     "output_type": "stream",
     "text": [
      "Exiting\n'posts: 4'\nPROGRESS: 7% (858/11783)\nu'[Frost Artifact Major talents take too long to get to.] (/forums/en/wow/topic/17613302011)'\n"
     ]
    },
    {
     "name": "stdout",
     "output_type": "stream",
     "text": [
      "Exiting\n'posts: 1'\nPROGRESS: 7% (859/11783)\nu'[For the legion beta players, How is dk doing ?] (/forums/en/wow/topic/17611561080)'\n"
     ]
    },
    {
     "name": "stdout",
     "output_type": "stream",
     "text": [
      "Exiting\n'posts: 12'\nPROGRESS: 7% (860/11783)\nu'[Sick of the continuous nerfs] (/forums/en/wow/topic/17613321918)'\n"
     ]
    },
    {
     "name": "stdout",
     "output_type": "stream",
     "text": [
      "Exiting\n'posts: 2'\nPROGRESS: 7% (861/11783)\nu\"[Are DK's finished?] (/forums/en/wow/topic/17613231463)\"\n"
     ]
    },
    {
     "name": "stdout",
     "output_type": "stream",
     "text": [
      "Exiting\n'posts: 16'\nPROGRESS: 7% (862/11783)\nu'[Cervantes - My Death Knight PvP Feedback] (/forums/en/wow/topic/17613181806)'\n"
     ]
    },
    {
     "name": "stdout",
     "output_type": "stream",
     "text": [
      "Exiting\n'posts: 63'\nPROGRESS: 7% (863/11783)\nu'[The blood boil nerf] (/forums/en/wow/topic/17613281163)'\n"
     ]
    },
    {
     "name": "stdout",
     "output_type": "stream",
     "text": [
      "Exiting\n'posts: 8'\nPROGRESS: 7% (864/11783)\nu'[New abomination model] (/forums/en/wow/topic/17613262057)'\n"
     ]
    },
    {
     "name": "stdout",
     "output_type": "stream",
     "text": [
      "Exiting\n'posts: 1'\nPROGRESS: 7% (865/11783)\nu'[Race?] (/forums/en/wow/topic/17613261416)'\n"
     ]
    },
    {
     "name": "stdout",
     "output_type": "stream",
     "text": [
      "Exiting\n'posts: 4'\nPROGRESS: 7% (866/11783)\nu'[Armour set] (/forums/en/wow/topic/17613281744)'\n"
     ]
    },
    {
     "name": "stdout",
     "output_type": "stream",
     "text": [
      "Exiting\n'posts: 6'\nPROGRESS: 7% (867/11783)\nu'[Rate the death knight above you] (/forums/en/wow/topic/17613101290)'\n"
     ]
    },
    {
     "name": "stdout",
     "output_type": "stream",
     "text": [
      "Exiting\n'posts: 30'\nPROGRESS: 7% (868/11783)\nu'[Necrosis talent] (/forums/en/wow/topic/17613221852)'\nHTTPError = 404\n"
     ]
    },
    {
     "name": "stdout",
     "output_type": "stream",
     "text": [
      "Exiting\n'posts: 2'\nPROGRESS: 7% (869/11783)\nu'[Necrotic Strike] (/forums/en/wow/topic/17613211833)'\n"
     ]
    },
    {
     "name": "stdout",
     "output_type": "stream",
     "text": [
      "Exiting\n'posts: 4'\nPROGRESS: 7% (870/11783)\nu'[DK single target aggro sucks!] (/forums/en/wow/topic/17613132591)'\n"
     ]
    },
    {
     "name": "stdout",
     "output_type": "stream",
     "text": [
      "HTTPError = 404\n"
     ]
    },
    {
     "name": "stdout",
     "output_type": "stream",
     "text": [
      "Exiting\n'posts: 16'\nPROGRESS: 7% (871/11783)\nu'[Pet Ghoul in character selection] (/forums/en/wow/topic/1302896576)'\n"
     ]
    },
    {
     "name": "stdout",
     "output_type": "stream",
     "text": [
      "Exiting\n'posts: 5'\nPROGRESS: 7% (872/11783)\nu'[Pet Macros] (/forums/en/wow/topic/17613261868)'\n"
     ]
    },
    {
     "name": "stdout",
     "output_type": "stream",
     "text": [
      "Exiting\n'posts: 3'\nPROGRESS: 7% (873/11783)\nu\"[Frost DK's in Legion] (/forums/en/wow/topic/17613231722)\"\n"
     ]
    },
    {
     "name": "stdout",
     "output_type": "stream",
     "text": [
      "Exiting\n'posts: 2'\nPROGRESS: 7% (874/11783)\nu'[Blood DK worth it?] (/forums/en/wow/topic/17613261812)'\n"
     ]
    },
    {
     "name": "stdout",
     "output_type": "stream",
     "text": [
      "Exiting\n'posts: 3'\nPROGRESS: 7% (875/11783)\nu'[Warlock or Deathknight (help)] (/forums/en/wow/topic/17613231460)'\n"
     ]
    },
    {
     "name": "stdout",
     "output_type": "stream",
     "text": [
      "Exiting\n'posts: 11'\nPROGRESS: 7% (876/11783)\nu'[Rogue or DK] (/forums/en/wow/topic/17613301532)'\n"
     ]
    },
    {
     "name": "stdout",
     "output_type": "stream",
     "text": [
      "Exiting\n'posts: 4'\nPROGRESS: 7% (877/11783)\nu'[Ally Race?] (/forums/en/wow/topic/17613231569)'\n"
     ]
    },
    {
     "name": "stdout",
     "output_type": "stream",
     "text": [
      "Exiting\n'posts: 6'\nPROGRESS: 7% (878/11783)\nu'[Unholy Minion] (/forums/en/wow/topic/17613211456)'\n"
     ]
    },
    {
     "name": "stdout",
     "output_type": "stream",
     "text": [
      "Exiting\n'posts: 6'\nPROGRESS: 7% (879/11783)\nu'[DK speed] (/forums/en/wow/topic/17613261582)'\n"
     ]
    },
    {
     "name": "stdout",
     "output_type": "stream",
     "text": [
      "Exiting\n'posts: 4'\nPROGRESS: 7% (880/11783)\nu'[Unholy has a Ranged Rotation?] (/forums/en/wow/topic/17613251335)'\n"
     ]
    },
    {
     "name": "stdout",
     "output_type": "stream",
     "text": [
      "Exiting\n'posts: 9'\nPROGRESS: 7% (881/11783)\nu'[Is there any point in maining a Blood DK?] (/forums/en/wow/topic/17613221365)'\n"
     ]
    },
    {
     "name": "stdout",
     "output_type": "stream",
     "text": [
      "Exiting\n'posts: 15'\nPROGRESS: 7% (882/11783)\nu'[Replace Death Strike with Death Siphon] (/forums/en/wow/topic/17613191860)'\n"
     ]
    },
    {
     "name": "stdout",
     "output_type": "stream",
     "text": [
      "Exiting\n'posts: 16'\nPROGRESS: 7% (883/11783)\nu'[Shattering Strike or Shattering StrikeS? RazorIce bugs] (/forums/en/wow/topic/17613291172)'\n"
     ]
    },
    {
     "name": "stdout",
     "output_type": "stream",
     "text": [
      "Exiting\n'posts: 6'\nPROGRESS: 7% (884/11783)\nu'[Critical about frost and talents] (/forums/en/wow/topic/17613271468)'\n"
     ]
    },
    {
     "name": "stdout",
     "output_type": "stream",
     "text": [
      "Exiting\n'posts: 1'\nPROGRESS: 7% (885/11783)\nu'[Nerf] (/forums/en/wow/topic/17613311208)'\n"
     ]
    },
    {
     "name": "stdout",
     "output_type": "stream",
     "text": [
      "Exiting\n'posts: 13'\nPROGRESS: 7% (886/11783)\nu'[Frostscythe of Lord Ahune as a polearm!] (/forums/en/wow/topic/17613261343)'\n"
     ]
    },
    {
     "name": "stdout",
     "output_type": "stream",
     "text": [
      "Exiting\n'posts: 2'\nPROGRESS: 7% (887/11783)\nu'[So, DK eyes.] (/forums/en/wow/topic/17613123075)'\n"
     ]
    },
    {
     "name": "stdout",
     "output_type": "stream",
     "text": [
      "Exiting\n'posts: 4'\nPROGRESS: 7% (888/11783)\nu'[Frost builds to try] (/forums/en/wow/topic/17613321338)'\n"
     ]
    },
    {
     "name": "stdout",
     "output_type": "stream",
     "text": [
      "Exiting\n'posts: 1'\nPROGRESS: 7% (889/11783)\nu'[Frost or Unholy for legion?] (/forums/en/wow/topic/17613211356)'\n"
     ]
    },
    {
     "name": "stdout",
     "output_type": "stream",
     "text": [
      "Exiting\n'posts: 2'\nPROGRESS: 7% (890/11783)\nu'[Wraith Walk bug??] (/forums/en/wow/topic/17613092889)'\n"
     ]
    },
    {
     "name": "stdout",
     "output_type": "stream",
     "text": [
      "Exiting\n'posts: 7'\nPROGRESS: 7% (891/11783)\nu'[Blood Boil nerf - no PvP template adjustment] (/forums/en/wow/topic/17613261266)'\n"
     ]
    },
    {
     "name": "stdout",
     "output_type": "stream",
     "text": [
      "Exiting\n'posts: 3'\nPROGRESS: 7% (892/11783)\nu'[Rune of Razorice bugfix] (/forums/en/wow/topic/17613241164)'\n"
     ]
    },
    {
     "name": "stdout",
     "output_type": "stream",
     "text": [
      "Exiting\n'posts: 3'\nPROGRESS: 7% (893/11783)\nu'[dusted off my dk, disapoint a little no dark sim :/] (/forums/en/wow/topic/17613211202)'\n"
     ]
    },
    {
     "name": "stdout",
     "output_type": "stream",
     "text": [
      "Exiting\n'posts: 3'\nPROGRESS: 7% (894/11783)\nu'[Icebound fortitude] (/forums/en/wow/topic/17613211156)'\n"
     ]
    },
    {
     "name": "stdout",
     "output_type": "stream",
     "text": [
      "Exiting\n'posts: 1'\nPROGRESS: 7% (895/11783)\nu'[Strangulate for frost] (/forums/en/wow/topic/17613162963)'\n"
     ]
    },
    {
     "name": "stdout",
     "output_type": "stream",
     "text": [
      "Exiting\n'posts: 2'\nPROGRESS: 7% (896/11783)\nu'[FW viable for lvling in Legion?] (/forums/en/wow/topic/17613142753)'\n"
     ]
    },
    {
     "name": "stdout",
     "output_type": "stream",
     "text": [
      "[Errno 10054] An existing connection was forcibly closed by the remote host\n"
     ]
    },
    {
     "name": "stdout",
     "output_type": "stream",
     "text": [
      "Exiting\n'posts: 13'\nPROGRESS: 7% (897/11783)\nu'[Frost DK Artifact Weapon suggestion] (/forums/en/wow/topic/17613112373)'\n"
     ]
    },
    {
     "name": "stdout",
     "output_type": "stream",
     "text": [
      "Exiting\n'posts: 6'\nPROGRESS: 7% (898/11783)\nu'[Blood DK] (/forums/en/wow/topic/17613182958)'\n"
     ]
    },
    {
     "name": "stdout",
     "output_type": "stream",
     "text": [
      "Exiting\n'posts: 11'\nPROGRESS: 7% (899/11783)\nu'[Frost DK - stat priority?] (/forums/en/wow/topic/17613132689)'\n"
     ]
    },
    {
     "name": "stdout",
     "output_type": "stream",
     "text": [
      "Exiting\n'posts: 5'\nPROGRESS: 7% (900/11783)\nu'[Why do people hate Deaht Knights so much?] (/forums/en/wow/topic/17613142268)'\n"
     ]
    },
    {
     "name": "stdout",
     "output_type": "stream",
     "text": [
      "Exiting\n'posts: 16'\nPROGRESS: 7% (901/11783)\nu'[Warcraft Planet TV on Youtube] (/forums/en/wow/topic/17613092955)'\n"
     ]
    },
    {
     "name": "stdout",
     "output_type": "stream",
     "text": [
      "Exiting\n'posts: 2'\nPROGRESS: 7% (902/11783)\nu'[The Trouble with DKs] (/forums/en/wow/topic/17613162766)'\n"
     ]
    },
    {
     "name": "stdout",
     "output_type": "stream",
     "text": [
      "Exiting\n'posts: 12'\nPROGRESS: 7% (903/11783)\nu'[Are you enjoy the new DKS ?] (/forums/en/wow/topic/17613042304)'\n"
     ]
    },
    {
     "name": "stdout",
     "output_type": "stream",
     "text": [
      "HTTPError = 404\n"
     ]
    },
    {
     "name": "stdout",
     "output_type": "stream",
     "text": [
      "Exiting\n'posts: 48'\nPROGRESS: 7% (904/11783)\nu'[Bone shield stack tracking] (/forums/en/wow/topic/17613192717)'\n"
     ]
    },
    {
     "name": "stdout",
     "output_type": "stream",
     "text": [
      "Exiting\n'posts: 3'\nPROGRESS: 7% (905/11783)\nu'[DKs and legion] (/forums/en/wow/topic/17613202408)'\n"
     ]
    },
    {
     "name": "stdout",
     "output_type": "stream",
     "text": [
      "Exiting\n'posts: 4'\nPROGRESS: 7% (906/11783)\nu\"[Another ''Blood DK's gutted hard'' thread] (/forums/en/wow/topic/17613162567)\"\n"
     ]
    },
    {
     "name": "stdout",
     "output_type": "stream",
     "text": [
      "Exiting\n'posts: 9'\nPROGRESS: 7% (907/11783)\nu'[Maintaining Max Soul Reaper Stacks?] (/forums/en/wow/topic/17613092607)'\n"
     ]
    },
    {
     "name": "stdout",
     "output_type": "stream",
     "text": [
      "Exiting\n'posts: 6'\nPROGRESS: 7% (908/11783)\nu'[Blood DK Nerfs] (/forums/en/wow/topic/17613182060)'\n"
     ]
    },
    {
     "name": "stdout",
     "output_type": "stream",
     "text": [
      "Exiting\n'posts: 10'\nPROGRESS: 7% (909/11783)\nu'[Help me decide on a mog plz] (/forums/en/wow/topic/17613132622)'\n"
     ]
    },
    {
     "name": "stdout",
     "output_type": "stream",
     "text": [
      "Exiting\n'posts: 1'\nPROGRESS: 7% (910/11783)\nu'[Anyone else only playing DK because of fantasy?] (/forums/en/wow/topic/17613202473)'\n"
     ]
    },
    {
     "name": "stdout",
     "output_type": "stream",
     "text": [
      "Exiting\n'posts: 5'\nPROGRESS: 7% (911/11783)\nu'[Blood DK RUINED - Does the artifact make it any better?] (/forums/en/wow/topic/17613191460)'\n"
     ]
    },
    {
     "name": "stdout",
     "output_type": "stream",
     "text": [
      "[Errno 10054] An existing connection was forcibly closed by the remote host\n"
     ]
    },
    {
     "name": "stdout",
     "output_type": "stream",
     "text": [
      "Exiting\n'posts: 16'\nPROGRESS: 7% (912/11783)\nu\"[Dk mobility after death's advance removal] (/forums/en/wow/topic/17612952042)\"\n"
     ]
    },
    {
     "name": "stdout",
     "output_type": "stream",
     "text": [
      "Exiting\n'posts: 41'\nPROGRESS: 7% (913/11783)\nu'[Unholy dk 7.0.3 Trinkets] (/forums/en/wow/topic/17612911142)'\n"
     ]
    },
    {
     "name": "stdout",
     "output_type": "stream",
     "text": [
      "Exiting\n'posts: 12'\nPROGRESS: 7% (914/11783)\nu'[Frost DK not viable in PvP?] (/forums/en/wow/topic/17613111881)'\n"
     ]
    },
    {
     "name": "stdout",
     "output_type": "stream",
     "text": [
      "Exiting\n'posts: 9'\nPROGRESS: 7% (915/11783)\nu'[Unholy artifact appearance] (/forums/en/wow/topic/17613112315)'\n"
     ]
    },
    {
     "name": "stdout",
     "output_type": "stream",
     "text": [
      "Exiting\n'posts: 7'\nPROGRESS: 7% (916/11783)\nu'[Runeforging gone?] (/forums/en/wow/topic/17613122329)'\n"
     ]
    },
    {
     "name": "stdout",
     "output_type": "stream",
     "text": [
      "Exiting\n'posts: 4'\nPROGRESS: 7% (917/11783)\nu'[Help With Frost DPS!] (/forums/en/wow/topic/17613172338)'\n"
     ]
    },
    {
     "name": "stdout",
     "output_type": "stream",
     "text": [
      "Exiting\n'posts: 2'\nPROGRESS: 7% (918/11783)\nu\"[How's Blood DK in PvP?] (/forums/en/wow/topic/17613102334)\"\n"
     ]
    },
    {
     "name": "stdout",
     "output_type": "stream",
     "text": [
      "[Errno 10054] An existing connection was forcibly closed by the remote host\nHTTPError = 404\n"
     ]
    },
    {
     "name": "stdout",
     "output_type": "stream",
     "text": [
      "Exiting\n'posts: 3'\nPROGRESS: 7% (919/11783)\nu'[Artifact ability: Apocalypse] (/forums/en/wow/topic/17613162066)'\n"
     ]
    },
    {
     "name": "stdout",
     "output_type": "stream",
     "text": [
      "Exiting\n'posts: 10'\nPROGRESS: 7% (920/11783)\nu'[Frost or Unholy] (/forums/en/wow/topic/17612913380)'\n"
     ]
    },
    {
     "name": "stdout",
     "output_type": "stream",
     "text": [
      "Exiting\n'posts: 4'\nPROGRESS: 7% (921/11783)\nu'[Death Knight Character selection screen] (/forums/en/wow/topic/17613191978)'\nHTTPError = 404\n"
     ]
    },
    {
     "name": "stdout",
     "output_type": "stream",
     "text": [
      "Exiting\n'posts: 3'\nPROGRESS: 7% (922/11783)\nu'[20 runic power on boss pull. BUG?] (/forums/en/wow/topic/17613141917)'\n"
     ]
    },
    {
     "name": "stdout",
     "output_type": "stream",
     "text": [
      "Exiting\n'posts: 8'\nPROGRESS: 7% (923/11783)\nu'[Frost / Unholy dilemma] (/forums/en/wow/topic/17612992118)'\n"
     ]
    },
    {
     "name": "stdout",
     "output_type": "stream",
     "text": [
      "Exiting\n'posts: 10'\nPROGRESS: 7% (924/11783)\nu'[Runestrike] (/forums/en/wow/topic/17613132072)'\nHTTPError = 404\n"
     ]
    },
    {
     "name": "stdout",
     "output_type": "stream",
     "text": [
      "Exiting\n'posts: 1'\nPROGRESS: 7% (925/11783)\nu'[Suggestion: Undead [Death Strike] voice sound] (/forums/en/wow/topic/17613131791)'\n"
     ]
    },
    {
     "name": "stdout",
     "output_type": "stream",
     "text": [
      "Exiting\n'posts: 3'\nPROGRESS: 7% (926/11783)\nu'[Frostscythe single target on KM procs?] (/forums/en/wow/topic/17612992119)'\n"
     ]
    },
    {
     "name": "stdout",
     "output_type": "stream",
     "text": [
      "Exiting\n'posts: 8'\nPROGRESS: 7% (927/11783)\nu'[Solid defensives tbh] (/forums/en/wow/topic/17613161373)'\n"
     ]
    },
    {
     "name": "stdout",
     "output_type": "stream",
     "text": [
      "Exiting\n'posts: 4'\nPROGRESS: 7% (928/11783)\nu'[Can frost DKs transmog fist weapons in legion?] (/forums/en/wow/topic/17613102032)'\n"
     ]
    },
    {
     "name": "stdout",
     "output_type": "stream",
     "text": [
      "Exiting\n'posts: 5'\nPROGRESS: 7% (929/11783)\nu'[missing runeforging and deathcharger] (/forums/en/wow/topic/17612981590)'\n"
     ]
    },
    {
     "name": "stdout",
     "output_type": "stream",
     "text": [
      "[Errno 10054] An existing connection was forcibly closed by the remote host\n"
     ]
    },
    {
     "name": "stdout",
     "output_type": "stream",
     "text": [
      "Exiting\n'posts: 9'\nPROGRESS: 7% (930/11783)\nu'[Unholy - Death Strike vs Death Coil] (/forums/en/wow/topic/17613171464)'\n"
     ]
    },
    {
     "name": "stdout",
     "output_type": "stream",
     "text": [
      "Exiting\n'posts: 9'\nPROGRESS: 7% (931/11783)\nu'[Tauren or orc?] (/forums/en/wow/topic/17613001879)'\n"
     ]
    },
    {
     "name": "stdout",
     "output_type": "stream",
     "text": [
      "[Errno 10054] An existing connection was forcibly closed by the remote host\n"
     ]
    },
    {
     "name": "stdout",
     "output_type": "stream",
     "text": [
      "Exiting\n'posts: 11'\nPROGRESS: 7% (932/11783)\nu'[Frost DK - Stat Priorities & More!] (/forums/en/wow/topic/17613131476)'\n"
     ]
    },
    {
     "name": "stdout",
     "output_type": "stream",
     "text": [
      "Exiting\n'posts: 6'\nPROGRESS: 7% (933/11783)\nu'[Quest Problem DK related] (/forums/en/wow/topic/17613151353)'\n"
     ]
    },
    {
     "name": "stdout",
     "output_type": "stream",
     "text": [
      "[Errno 10054] An existing connection was forcibly closed by the remote host\n"
     ]
    },
    {
     "name": "stdout",
     "output_type": "stream",
     "text": [
      "Exiting\n'posts: 8'\nPROGRESS: 7% (934/11783)\nu'[Endless Proving Grounds - Tanking info!] (/forums/en/wow/topic/17613191435)'\n"
     ]
    },
    {
     "name": "stdout",
     "output_type": "stream",
     "text": [
      "Exiting\n'posts: 1'\nPROGRESS: 7% (935/11783)\nu'[Cant get back to kalimdor.] (/forums/en/wow/topic/3061857760)'\n"
     ]
    },
    {
     "name": "stdout",
     "output_type": "stream",
     "text": [
      "Exiting\n'posts: 6'\nPROGRESS: 7% (936/11783)\nu'[Horror story...] (/forums/en/wow/topic/17613091235)'\n"
     ]
    },
    {
     "name": "stdout",
     "output_type": "stream",
     "text": [
      "Exiting\n'posts: 7'\nPROGRESS: 7% (937/11783)\nu'[Rune usage order] (/forums/en/wow/topic/17613072444)'\n"
     ]
    },
    {
     "name": "stdout",
     "output_type": "stream",
     "text": [
      "Exiting\n'posts: 3'\nPROGRESS: 7% (938/11783)\nu'[Blood PvP talents] (/forums/en/wow/topic/17613041873)'\n"
     ]
    },
    {
     "name": "stdout",
     "output_type": "stream",
     "text": [
      "Exiting\n'posts: 6'\nPROGRESS: 7% (939/11783)\nu'[Possible to make Death & Decay mouseover?] (/forums/en/wow/topic/17612952079)'\n"
     ]
    },
    {
     "name": "stdout",
     "output_type": "stream",
     "text": [
      "Exiting\n'posts: 6'\nPROGRESS: 7% (940/11783)\nu'[Wraith walk animation bugged?] (/forums/en/wow/topic/17612971954)'\n"
     ]
    },
    {
     "name": "stdout",
     "output_type": "stream",
     "text": [
      "Exiting\n'posts: 5'\nPROGRESS: 7% (941/11783)\nu'[DS voice] (/forums/en/wow/topic/17613061640)'\n"
     ]
    },
    {
     "name": "stdout",
     "output_type": "stream",
     "text": [
      "Exiting\n'posts: 5'\nPROGRESS: 7% (942/11783)\nu'[What a dps DK brings to table in raids or rbgs] (/forums/en/wow/topic/17613021221)'\n"
     ]
    },
    {
     "name": "stdout",
     "output_type": "stream",
     "text": [
      "Exiting\n'posts: 9'\nPROGRESS: 8% (943/11783)\nu'[Are dk runes fixed yet?] (/forums/en/wow/topic/17613061772)'\n"
     ]
    },
    {
     "name": "stdout",
     "output_type": "stream",
     "text": [
      "Exiting\n'posts: 8'\nPROGRESS: 8% (944/11783)\nu'[Transmogg] (/forums/en/wow/topic/17613041882)'\n"
     ]
    },
    {
     "name": "stdout",
     "output_type": "stream",
     "text": [
      "Exiting\n'posts: 5'\nPROGRESS: 8% (945/11783)\nu'[More butchery ?] (/forums/en/wow/topic/17613031913)'\n"
     ]
    },
    {
     "name": "stdout",
     "output_type": "stream",
     "text": [
      "Exiting\n'posts: 7'\nPROGRESS: 8% (946/11783)\nu'[Blood DK] (/forums/en/wow/topic/17613072017)'\n"
     ]
    },
    {
     "name": "stdout",
     "output_type": "stream",
     "text": [
      "Exiting\n'posts: 3'\nPROGRESS: 8% (947/11783)\nu'[A bit confused...] (/forums/en/wow/topic/17612971317)'\n"
     ]
    },
    {
     "name": "stdout",
     "output_type": "stream",
     "text": [
      "Exiting\n'posts: 5'\nPROGRESS: 8% (948/11783)\nu'[mastery and obliterate] (/forums/en/wow/topic/17613011632)'\n"
     ]
    },
    {
     "name": "stdout",
     "output_type": "stream",
     "text": [
      "Exiting\n'posts: 9'\nPROGRESS: 8% (949/11783)\nu'[R.I.P. Dark Simulacrum] (/forums/en/wow/topic/17612981695)'\n"
     ]
    },
    {
     "name": "stdout",
     "output_type": "stream",
     "text": [
      "Exiting\n'posts: 8'\nPROGRESS: 8% (950/11783)\nu'[DK and Mobility - Please fix] (/forums/en/wow/topic/17612863622)'\n"
     ]
    },
    {
     "name": "stdout",
     "output_type": "stream",
     "text": [
      "Exiting\n'posts: 19'\nPROGRESS: 8% (951/11783)\nu'[Another nerf for Clawing Shadows???] (/forums/en/wow/topic/17612991285)'\n"
     ]
    },
    {
     "name": "stdout",
     "output_type": "stream",
     "text": [
      "Exiting\n'posts: 16'\nPROGRESS: 8% (952/11783)\nu'[Death Strike - Sound effects] (/forums/en/wow/topic/17612971715)'\n"
     ]
    },
    {
     "name": "stdout",
     "output_type": "stream",
     "text": [
      "Exiting\n'posts: 1'\nPROGRESS: 8% (953/11783)\nu'[DK voice] (/forums/en/wow/topic/17613031416)'\n"
     ]
    },
    {
     "name": "stdout",
     "output_type": "stream",
     "text": [
      "Exiting\n'posts: 5'\nPROGRESS: 8% (954/11783)\nu'[Funeforge not work in PvP] (/forums/en/wow/topic/17612971581)'\nHTTPError = 404\n"
     ]
    },
    {
     "name": "stdout",
     "output_type": "stream",
     "text": [
      "Exiting\n'posts: 2'\nPROGRESS: 8% (955/11783)\nu'[Blood spec has the least HP in pvp?] (/forums/en/wow/topic/17613021568)'\n"
     ]
    },
    {
     "name": "stdout",
     "output_type": "stream",
     "text": [
      "Exiting\n'posts: 2'\nPROGRESS: 8% (956/11783)\nu'[Can blood get WoD blood tap please?] (/forums/en/wow/topic/17613001487)'\n"
     ]
    },
    {
     "name": "stdout",
     "output_type": "stream",
     "text": [
      "Exiting\n'posts: 6'\nPROGRESS: 8% (957/11783)\nu\"[Death's advance removed?] (/forums/en/wow/topic/17612874067)\"\n"
     ]
    },
    {
     "name": "stdout",
     "output_type": "stream",
     "text": [
      "HTTPError = 404\n"
     ]
    },
    {
     "name": "stdout",
     "output_type": "stream",
     "text": [
      "Exiting\n'posts: 27'\nPROGRESS: 8% (958/11783)\nu'[Pure of Heart and unholy dks] (/forums/en/wow/topic/17613061456)'\n"
     ]
    },
    {
     "name": "stdout",
     "output_type": "stream",
     "text": [
      "Exiting\n'posts: 3'\nPROGRESS: 8% (959/11783)\nu'[Smaller abominations?] (/forums/en/wow/topic/17613051481)'\n"
     ]
    },
    {
     "name": "stdout",
     "output_type": "stream",
     "text": [
      "Exiting\n'posts: 5'\nPROGRESS: 8% (960/11783)\nu'[DK in PvE?] (/forums/en/wow/topic/17613011249)'\n"
     ]
    },
    {
     "name": "stdout",
     "output_type": "stream",
     "text": [
      "Exiting\n'posts: 7'\nPROGRESS: 8% (961/11783)\nu'[Unholy DK PVE/PVP Questions] (/forums/en/wow/topic/17612894295)'\n"
     ]
    },
    {
     "name": "stdout",
     "output_type": "stream",
     "text": [
      "[Errno 10054] An existing connection was forcibly closed by the remote host\n"
     ]
    },
    {
     "name": "stdout",
     "output_type": "stream",
     "text": [
      "Exiting\n'posts: 6'\nPROGRESS: 8% (962/11783)\nu'[Gearing up at 80] (/forums/en/wow/topic/17613041165)'\n"
     ]
    },
    {
     "name": "stdout",
     "output_type": "stream",
     "text": [
      "Exiting\n'posts: 3'\nPROGRESS: 8% (963/11783)\nu'[DK Unholy pvp rotations] (/forums/en/wow/topic/17612971243)'\n"
     ]
    },
    {
     "name": "stdout",
     "output_type": "stream",
     "text": [
      "Exiting\n'posts: 4'\nPROGRESS: 8% (964/11783)\nu'[2 cast spells in 1 macro] (/forums/en/wow/topic/17612924107)'\n"
     ]
    },
    {
     "name": "stdout",
     "output_type": "stream",
     "text": [
      "HTTPError = 404\n"
     ]
    },
    {
     "name": "stdout",
     "output_type": "stream",
     "text": [
      "Exiting\n'posts: 10'\nPROGRESS: 8% (965/11783)\nu'[Unholy in PVP world] (/forums/en/wow/topic/17612903580)'\n"
     ]
    },
    {
     "name": "stdout",
     "output_type": "stream",
     "text": [
      "Exiting\n'posts: 8'\nPROGRESS: 8% (966/11783)\nu'[Legion timewalking BiS] (/forums/en/wow/topic/17612872442)'\n"
     ]
    },
    {
     "name": "stdout",
     "output_type": "stream",
     "text": [
      "Exiting\n'posts: 11'\nPROGRESS: 8% (967/11783)\nu'[Do rune enchantments work in PvP?] (/forums/en/wow/topic/17612903262)'\n"
     ]
    },
    {
     "name": "stdout",
     "output_type": "stream",
     "text": [
      "Exiting\n'posts: 11'\nPROGRESS: 8% (968/11783)\nu'[I see everyone is satisfied with frost] (/forums/en/wow/topic/17612873313)'\n"
     ]
    },
    {
     "name": "stdout",
     "output_type": "stream",
     "text": [
      "Exiting\n'posts: 42'\nPROGRESS: 8% (969/11783)\nu'[BDK Timewalking farm] (/forums/en/wow/topic/17612991235)'\n"
     ]
    },
    {
     "name": "stdout",
     "output_type": "stream",
     "text": [
      "Exiting\n'posts: 1'\nPROGRESS: 8% (970/11783)\nu'[Unholy hidden nerf?] (/forums/en/wow/topic/17612863962)'\n"
     ]
    },
    {
     "name": "stdout",
     "output_type": "stream",
     "text": [
      "Exiting\n'posts: 5'\nPROGRESS: 8% (971/11783)\nu'[Old DKs, can u remember?!?????] (/forums/en/wow/topic/17611941852)'\n"
     ]
    },
    {
     "name": "stdout",
     "output_type": "stream",
     "text": [
      "Exiting\n'posts: 30'\nPROGRESS: 8% (972/11783)\nu'[Frost strike animation bugged] (/forums/en/wow/topic/17612991125)'\n"
     ]
    },
    {
     "name": "stdout",
     "output_type": "stream",
     "text": [
      "[Errno 10054] An existing connection was forcibly closed by the remote host\n"
     ]
    },
    {
     "name": "stdout",
     "output_type": "stream",
     "text": [
      "[Errno 10054] An existing connection was forcibly closed by the remote host\n"
     ]
    },
    {
     "name": "stdout",
     "output_type": "stream",
     "text": [
      "Exiting\n'posts: 1'\nPROGRESS: 8% (973/11783)\nu'[BLood DK Tank and stats] (/forums/en/wow/topic/17612831802)'\n"
     ]
    },
    {
     "name": "stdout",
     "output_type": "stream",
     "text": [
      "Exiting\n'posts: 21'\nPROGRESS: 8% (974/11783)\nu'[Thanks for Unholy] (/forums/en/wow/topic/17612832745)'\n"
     ]
    },
    {
     "name": "stdout",
     "output_type": "stream",
     "text": [
      "Exiting\n'posts: 17'\nPROGRESS: 8% (975/11783)\nu'[HFC 4p bonus bug!] (/forums/en/wow/topic/17612951890)'\n"
     ]
    },
    {
     "name": "stdout",
     "output_type": "stream",
     "text": [
      "Exiting\n'posts: 6'\nPROGRESS: 8% (976/11783)\nu'[Death Knights/Warlock and Necromancer specilization] (/forums/en/wow/topic/17612854138)'\n"
     ]
    },
    {
     "name": "stdout",
     "output_type": "stream",
     "text": [
      "Exiting\n'posts: 9'\nPROGRESS: 8% (977/11783)\nu'[Help needed with the Runeforging profession] (/forums/en/wow/topic/17612943881)'\n"
     ]
    },
    {
     "name": "stdout",
     "output_type": "stream",
     "text": [
      "Exiting\n'posts: 4'\nPROGRESS: 8% (978/11783)\nu\"[Death's Advance] (/forums/en/wow/topic/17612833854)\"\n"
     ]
    },
    {
     "name": "stdout",
     "output_type": "stream",
     "text": [
      "Exiting\n'posts: 7'\nPROGRESS: 8% (979/11783)\nu'[Clawing Shadows Nerfed...] (/forums/en/wow/topic/17612923398)'\n"
     ]
    },
    {
     "name": "stdout",
     "output_type": "stream",
     "text": [
      "Exiting\n'posts: 15'\nPROGRESS: 8% (980/11783)\nu'[Mytic PvE gear vs Elite PvP gear] (/forums/en/wow/topic/17612864089)'\n"
     ]
    },
    {
     "name": "stdout",
     "output_type": "stream",
     "text": [
      "[Errno 10054] An existing connection was forcibly closed by the remote host\n"
     ]
    },
    {
     "name": "stdout",
     "output_type": "stream",
     "text": [
      "Exiting\n'posts: 2'\nPROGRESS: 8% (981/11783)\nu'[Pet Models LOL] (/forums/en/wow/topic/17612874036)'\n"
     ]
    },
    {
     "name": "stdout",
     "output_type": "stream",
     "text": [
      "Exiting\n'posts: 1'\nPROGRESS: 8% (982/11783)\nu'[Blood Boil] (/forums/en/wow/topic/17612893790)'\n"
     ]
    },
    {
     "name": "stdout",
     "output_type": "stream",
     "text": [
      "Exiting\n'posts: 5'\nPROGRESS: 8% (983/11783)\nu'[DK in Arena World Championship] (/forums/en/wow/topic/17612951757)'\n"
     ]
    },
    {
     "name": "stdout",
     "output_type": "stream",
     "text": [
      "Exiting\n'posts: 6'\nPROGRESS: 8% (984/11783)\nu'[Targetcaller in Legion?] (/forums/en/wow/topic/17612923551)'\nHTTPError = 404\n"
     ]
    },
    {
     "name": "stdout",
     "output_type": "stream",
     "text": [
      "HTTPError = 404\n"
     ]
    },
    {
     "name": "stdout",
     "output_type": "stream",
     "text": [
      "Exiting\n'posts: 2'\nPROGRESS: 8% (985/11783)\nu'[Transmogrification Problem] (/forums/en/wow/topic/17612902181)'\n"
     ]
    },
    {
     "name": "stdout",
     "output_type": "stream",
     "text": [
      "Exiting\n'posts: 7'\nPROGRESS: 8% (986/11783)\nu'[simple question] (/forums/en/wow/topic/17612943631)'\n"
     ]
    },
    {
     "name": "stdout",
     "output_type": "stream",
     "text": [
      "Exiting\n'posts: 4'\nPROGRESS: 8% (987/11783)\nu'[Decomposing aura debuff or dot ?] (/forums/en/wow/topic/17612832641)'\n"
     ]
    },
    {
     "name": "stdout",
     "output_type": "stream",
     "text": [
      "Exiting\n'posts: 6'\nPROGRESS: 8% (988/11783)\nu'[Gone for a while, Ilvl is poop] (/forums/en/wow/topic/17612833679)'\n"
     ]
    },
    {
     "name": "stdout",
     "output_type": "stream",
     "text": [
      "Exiting\n'posts: 6'\nPROGRESS: 8% (989/11783)\nu'[Blooddrinker] (/forums/en/wow/topic/17612833649)'\n"
     ]
    },
    {
     "name": "stdout",
     "output_type": "stream",
     "text": [
      "Exiting\n'posts: 2'\nPROGRESS: 8% (990/11783)\nu'[Purge] (/forums/en/wow/topic/17612873873)'\n"
     ]
    },
    {
     "name": "stdout",
     "output_type": "stream",
     "text": [
      "Exiting\n'posts: 1'\nPROGRESS: 8% (991/11783)\nu'[Male Blood Elf Frost DK animations] (/forums/en/wow/topic/17612933534)'\n"
     ]
    },
    {
     "name": "stdout",
     "output_type": "stream",
     "text": [
      "Exiting\n'posts: 2'\nPROGRESS: 8% (992/11783)\nu'[DK most OP class now?] (/forums/en/wow/topic/17612932393)'\n"
     ]
    },
    {
     "name": "stdout",
     "output_type": "stream",
     "text": [
      "Exiting\n'posts: 20'\nPROGRESS: 8% (993/11783)\nu'[How is DK in Pre-Legion & Legion?] (/forums/en/wow/topic/17612893692)'\n"
     ]
    },
    {
     "name": "stdout",
     "output_type": "stream",
     "text": [
      "Exiting\n'posts: 2'\nPROGRESS: 8% (994/11783)\nu'[Pet ghoul dies too quick] (/forums/en/wow/topic/17612913575)'\n"
     ]
    },
    {
     "name": "stdout",
     "output_type": "stream",
     "text": [
      "Exiting\n'posts: 2'\nPROGRESS: 8% (995/11783)\nu'[Class fantasy and recent stealth nerfs] (/forums/en/wow/topic/17612863684)'\n"
     ]
    },
    {
     "name": "stdout",
     "output_type": "stream",
     "text": [
      "Exiting\n'posts: 4'\nPROGRESS: 8% (996/11783)\nu'[So the combat sounds...] (/forums/en/wow/topic/17612882293)'\n"
     ]
    },
    {
     "name": "stdout",
     "output_type": "stream",
     "text": [
      "Exiting\n'posts: 17'\nPROGRESS: 8% (997/11783)\nu'[Blizzard left out new animations?] (/forums/en/wow/topic/17612903252)'\n"
     ]
    },
    {
     "name": "stdout",
     "output_type": "stream",
     "text": [
      "Exiting\n'posts: 3'\nPROGRESS: 8% (998/11783)\nu'[Should I reroll?] (/forums/en/wow/topic/17612853740)'\n"
     ]
    },
    {
     "name": "stdout",
     "output_type": "stream",
     "text": [
      "[Errno 10054] An existing connection was forcibly closed by the remote host\n"
     ]
    },
    {
     "name": "stdout",
     "output_type": "stream",
     "text": [
      "Exiting\n'posts: 4'\nPROGRESS: 8% (999/11783)\nu'[Stuck in starting area] (/forums/en/wow/topic/17612843673)'\n"
     ]
    },
    {
     "name": "stdout",
     "output_type": "stream",
     "text": [
      "Exiting\n'posts: 6'\nPROGRESS: 8% (1000/11783)\nu'[Rogue refugee here.Should I main DK?] (/forums/en/wow/topic/17612863586)'\n"
     ]
    },
    {
     "name": "stdout",
     "output_type": "stream",
     "text": [
      "Exiting\n'posts: 8'\nPROGRESS: 8% (1001/11783)\nu'[New DK Global CD is unplayable] (/forums/en/wow/topic/17612941143)'\n"
     ]
    },
    {
     "name": "stdout",
     "output_type": "stream",
     "text": [
      "Exiting\n'posts: 119'\nPROGRESS: 8% (1002/11783)\nu'[DK Runes] (/forums/en/wow/topic/17612873595)'\n"
     ]
    },
    {
     "name": "stdout",
     "output_type": "stream",
     "text": [
      "Exiting\n'posts: 1'\nPROGRESS: 8% (1003/11783)\nu'[artifact weapon pre expansion] (/forums/en/wow/topic/17612913378)'\n"
     ]
    },
    {
     "name": "stdout",
     "output_type": "stream",
     "text": [
      "Exiting\n'posts: 2'\nPROGRESS: 8% (1004/11783)\nu'[Frost in top tier 3v3 comp in legion ?] (/forums/en/wow/topic/17612863588)'\n"
     ]
    },
    {
     "name": "stdout",
     "output_type": "stream",
     "text": [
      "Exiting\n'posts: 1'\nPROGRESS: 8% (1005/11783)\nu'[Disable death strike scream] (/forums/en/wow/topic/17612863575)'\n"
     ]
    },
    {
     "name": "stdout",
     "output_type": "stream",
     "text": [
      "Exiting\n'posts: 1'\nPROGRESS: 8% (1006/11783)\nu'[Paper pet] (/forums/en/wow/topic/17612923206)'\n"
     ]
    },
    {
     "name": "stdout",
     "output_type": "stream",
     "text": [
      "Exiting\n'posts: 2'\nPROGRESS: 8% (1007/11783)\nu'[How do you feel about your Blood DK?] (/forums/en/wow/topic/17612861173)'\n"
     ]
    },
    {
     "name": "stdout",
     "output_type": "stream",
     "text": [
      "HTTPError = 404\n"
     ]
    },
    {
     "name": "stdout",
     "output_type": "stream",
     "text": [
      "Exiting\n'posts: 40'\nPROGRESS: 8% (1008/11783)\nu'[Best DPS PvE Class] (/forums/en/wow/topic/17612903143)'\n"
     ]
    },
    {
     "name": "stdout",
     "output_type": "stream",
     "text": [
      "Exiting\n'posts: 2'\nPROGRESS: 8% (1009/11783)\nu\"[Why did they destroy frost dk's selfhealing] (/forums/en/wow/topic/17612932093)\"\n"
     ]
    },
    {
     "name": "stdout",
     "output_type": "stream",
     "text": [
      "Exiting\n'posts: 5'\nPROGRESS: 8% (1010/11783)\nu'[Death Grip in Legion] (/forums/en/wow/topic/17612923251)'\n"
     ]
    },
    {
     "name": "stdout",
     "output_type": "stream",
     "text": [
      "[Errno 10054] An existing connection was forcibly closed by the remote host\n"
     ]
    },
    {
     "name": "stdout",
     "output_type": "stream",
     "text": [
      "Exiting\n'posts: 5'\nPROGRESS: 8% (1011/11783)\nu'[Sludge Belcher/ghoul models] (/forums/en/wow/topic/17612913015)'\n"
     ]
    },
    {
     "name": "stdout",
     "output_type": "stream",
     "text": [
      "Exiting\n'posts: 3'\nPROGRESS: 8% (1012/11783)\nu'[Unholy actually makes me feel like a DK again] (/forums/en/wow/topic/17612931468)'\n"
     ]
    },
    {
     "name": "stdout",
     "output_type": "stream",
     "text": [
      "[Errno 10054] An existing connection was forcibly closed by the remote host\nHTTPError = 404\n"
     ]
    },
    {
     "name": "stdout",
     "output_type": "stream",
     "text": [
      "Exiting\n'posts: 28'\nPROGRESS: 8% (1013/11783)\nu'[Love the Unholy DK BUT!....] (/forums/en/wow/topic/17612902834)'\n"
     ]
    },
    {
     "name": "stdout",
     "output_type": "stream",
     "text": [
      "Exiting\n'posts: 6'\nPROGRESS: 8% (1014/11783)\nu'[Runeforge spell gone] (/forums/en/wow/topic/17612863293)'\n"
     ]
    },
    {
     "name": "stdout",
     "output_type": "stream",
     "text": [
      "Exiting\n'posts: 5'\nPROGRESS: 8% (1015/11783)\nu'[DK 1 question,help plz] (/forums/en/wow/topic/17612923123)'\n"
     ]
    },
    {
     "name": "stdout",
     "output_type": "stream",
     "text": [
      "Exiting\n'posts: 3'\nPROGRESS: 8% (1016/11783)\nu\"[help, I'm totally noob again] (/forums/en/wow/topic/17612863116)\"\n"
     ]
    },
    {
     "name": "stdout",
     "output_type": "stream",
     "text": [
      "[Errno 10054] An existing connection was forcibly closed by the remote host\n"
     ]
    },
    {
     "name": "stdout",
     "output_type": "stream",
     "text": [
      "Exiting\n'posts: 6'\nPROGRESS: 8% (1017/11783)\nu'[New frost strike animation not implemented!:<] (/forums/en/wow/topic/17612863214)'\n"
     ]
    },
    {
     "name": "stdout",
     "output_type": "stream",
     "text": [
      "Exiting\n'posts: 4'\nPROGRESS: 8% (1018/11783)\nu'[Make Corpse Explosion fun again please] (/forums/en/wow/topic/17612922891)'\n"
     ]
    },
    {
     "name": "stdout",
     "output_type": "stream",
     "text": [
      "Exiting\n'posts: 1'\nPROGRESS: 8% (1019/11783)\nu'[Help with DK stats] (/forums/en/wow/topic/17612922722)'\n"
     ]
    },
    {
     "name": "stdout",
     "output_type": "stream",
     "text": [
      "Exiting\n'posts: 3'\nPROGRESS: 8% (1020/11783)\nu'[Corpse Shield] (/forums/en/wow/topic/17612852542)'\n"
     ]
    },
    {
     "name": "stdout",
     "output_type": "stream",
     "text": [
      "Exiting\n'posts: 7'\nPROGRESS: 8% (1021/11783)\nu'[Gargoyle and Dark Arbiter targets] (/forums/en/wow/topic/17612932729)'\n"
     ]
    },
    {
     "name": "stdout",
     "output_type": "stream",
     "text": [
      "Exiting\n'posts: 2'\nPROGRESS: 8% (1022/11783)\nu'[Give me my presences back.] (/forums/en/wow/topic/17612851236)'\n"
     ]
    },
    {
     "name": "stdout",
     "output_type": "stream",
     "text": [
      "Exiting\n'posts: 2'\nPROGRESS: 8% (1023/11783)\nu'[WTB minor glyph of Crypt Fiend] (/forums/en/wow/topic/17612891662)'\n"
     ]
    },
    {
     "name": "stdout",
     "output_type": "stream",
     "text": [
      "Exiting\n'posts: 2'\nPROGRESS: 8% (1024/11783)\nu'[PvP DK] (/forums/en/wow/topic/17612932612)'\n"
     ]
    },
    {
     "name": "stdout",
     "output_type": "stream",
     "text": [
      "Exiting\n'posts: 4'\nPROGRESS: 8% (1025/11783)\nu'[Bigger abomination!] (/forums/en/wow/topic/17612902572)'\n"
     ]
    },
    {
     "name": "stdout",
     "output_type": "stream",
     "text": [
      "Exiting\n'posts: 5'\nPROGRESS: 8% (1026/11783)\nu'[Frost or Unholy in Legion?] (/forums/en/wow/topic/17612892773)'\n"
     ]
    },
    {
     "name": "stdout",
     "output_type": "stream",
     "text": [
      "Exiting\n'posts: 3'\nPROGRESS: 8% (1027/11783)\nu'[Can you please patch the enchants already?] (/forums/en/wow/topic/17612912693)'\n"
     ]
    },
    {
     "name": "stdout",
     "output_type": "stream",
     "text": [
      "Exiting\n'posts: 2'\nPROGRESS: 8% (1028/11783)\nu'[Playing Frost feels weak] (/forums/en/wow/topic/17612882123)'\n"
     ]
    },
    {
     "name": "stdout",
     "output_type": "stream",
     "text": [
      "Exiting\n'posts: 26'\nPROGRESS: 8% (1029/11783)\nu'[Minor Glyphs - Unholy Only?] (/forums/en/wow/topic/17612932236)'\n"
     ]
    },
    {
     "name": "stdout",
     "output_type": "stream",
     "text": [
      "Exiting\n'posts: 6'\nPROGRESS: 8% (1030/11783)\nu'[Frost, So Sad ...] (/forums/en/wow/topic/17612901890)'\n"
     ]
    },
    {
     "name": "stdout",
     "output_type": "stream",
     "text": [
      "Exiting\n'posts: 18'\nPROGRESS: 8% (1031/11783)\nu'[no healing for our pets is a joke!] (/forums/en/wow/topic/17612832330)'\n"
     ]
    },
    {
     "name": "stdout",
     "output_type": "stream",
     "text": [
      "Exiting\n'posts: 3'\nPROGRESS: 8% (1032/11783)\nu'[Not so sure about the UH DK and its succes in pvp] (/forums/en/wow/topic/17612902112)'\n"
     ]
    },
    {
     "name": "stdout",
     "output_type": "stream",
     "text": [
      "Exiting\n'posts: 4'\nPROGRESS: 8% (1033/11783)\nu'[Healing the unholy pet] (/forums/en/wow/topic/17612842242)'\n"
     ]
    },
    {
     "name": "stdout",
     "output_type": "stream",
     "text": [
      "Exiting\n'posts: 7'\nPROGRESS: 8% (1034/11783)\nu'[good name for DK character] (/forums/en/wow/topic/2423032812)'\n"
     ]
    },
    {
     "name": "stdout",
     "output_type": "stream",
     "text": [
      "HTTPError = 404\n"
     ]
    },
    {
     "name": "stdout",
     "output_type": "stream",
     "text": [
      "Exiting\n'posts: 220'\nPROGRESS: 8% (1035/11783)\nu\"[Can't use 2h with frost anymore?] (/forums/en/wow/topic/17612911153)\"\n"
     ]
    },
    {
     "name": "stdout",
     "output_type": "stream",
     "text": [
      "Exiting\n'posts: 13'\nPROGRESS: 8% (1036/11783)\nu'[Dont remove two handed frost!] (/forums/en/wow/topic/15162421137)'\n"
     ]
    },
    {
     "name": "stdout",
     "output_type": "stream",
     "text": [
      "Exiting\n'posts: 57'\nPROGRESS: 8% (1037/11783)\nu'[Runeforging my weapon] (/forums/en/wow/topic/17612932217)'\n"
     ]
    },
    {
     "name": "stdout",
     "output_type": "stream",
     "text": [
      "[Errno 10054] An existing connection was forcibly closed by the remote host\n"
     ]
    },
    {
     "name": "stdout",
     "output_type": "stream",
     "text": [
      "Exiting\n'posts: 3'\nPROGRESS: 8% (1038/11783)\nu'[[Help] Unholy Dk question] (/forums/en/wow/topic/17612882030)'\nHTTPError = 404\n"
     ]
    },
    {
     "name": "stdout",
     "output_type": "stream",
     "text": [
      "Exiting\n'posts: 5'\nPROGRESS: 8% (1039/11783)\nu'[Unholy DK Pet Issue (Bug?)] (/forums/en/wow/topic/17612891936)'\n"
     ]
    },
    {
     "name": "stdout",
     "output_type": "stream",
     "text": [
      "Exiting\n'posts: 4'\nPROGRESS: 8% (1040/11783)\nu'[Artifact weapons look really... uninteresting.] (/forums/en/wow/topic/17612842358)'\n"
     ]
    },
    {
     "name": "stdout",
     "output_type": "stream",
     "text": [
      "[Errno 10054] An existing connection was forcibly closed by the remote host\n"
     ]
    },
    {
     "name": "stdout",
     "output_type": "stream",
     "text": [
      "Exiting\n'posts: 3'\nPROGRESS: 8% (1041/11783)\nu'[Explain DKs to a noob] (/forums/en/wow/topic/17612921297)'\n"
     ]
    },
    {
     "name": "stdout",
     "output_type": "stream",
     "text": [
      "Exiting\n'posts: 7'\nPROGRESS: 8% (1042/11783)\nu'[DPS] (/forums/en/wow/topic/17612842322)'\n"
     ]
    },
    {
     "name": "stdout",
     "output_type": "stream",
     "text": [
      "Exiting\n'posts: 4'\nPROGRESS: 8% (1043/11783)\nu'[Legion : Frost movement speed.] (/forums/en/wow/topic/16884179119)'\n"
     ]
    },
    {
     "name": "stdout",
     "output_type": "stream",
     "text": [
      "HTTPError = 404\n"
     ]
    },
    {
     "name": "stdout",
     "output_type": "stream",
     "text": [
      "HTTPError = 404\n"
     ]
    },
    {
     "name": "stdout",
     "output_type": "stream",
     "text": [
      "Exiting\n'posts: 97'\nPROGRESS: 8% (1044/11783)\nu\"[DK's survivability is gone?] (/forums/en/wow/topic/17612851910)\"\n"
     ]
    },
    {
     "name": "stdout",
     "output_type": "stream",
     "text": [
      "Exiting\n'posts: 18'\nPROGRESS: 8% (1045/11783)\nu'[So yeah, i need tips on DK] (/forums/en/wow/topic/17612921984)'\n"
     ]
    },
    {
     "name": "stdout",
     "output_type": "stream",
     "text": [
      "Exiting\n'posts: 1'\nPROGRESS: 8% (1046/11783)\nu'[Frost DPS numbers.] (/forums/en/wow/topic/17612921851)'\n"
     ]
    },
    {
     "name": "stdout",
     "output_type": "stream",
     "text": [
      "Exiting\n'posts: 4'\nPROGRESS: 8% (1047/11783)\nu'[frost or unholy] (/forums/en/wow/topic/17612931614)'\nHTTPError = 404\n"
     ]
    },
    {
     "name": "stdout",
     "output_type": "stream",
     "text": [
      "[Errno 10054] An existing connection was forcibly closed by the remote host\n"
     ]
    },
    {
     "name": "stdout",
     "output_type": "stream",
     "text": [
      "Exiting\n'posts: 5'\nPROGRESS: 8% (1048/11783)\nu'[HELP! What to do now the DK quests lead to Stormwind?] (/forums/en/wow/topic/7669157803)'\n"
     ]
    },
    {
     "name": "stdout",
     "output_type": "stream",
     "text": [
      "Exiting\n'posts: 7'\nPROGRESS: 8% (1049/11783)\nu\"[Frost or unholy?! that's the real question!] (/forums/en/wow/topic/17612911892)\"\n"
     ]
    },
    {
     "name": "stdout",
     "output_type": "stream",
     "text": [
      "Exiting\n'posts: 2'\nPROGRESS: 8% (1050/11783)\nu'[Return to DK] (/forums/en/wow/topic/17612901799)'\n"
     ]
    },
    {
     "name": "stdout",
     "output_type": "stream",
     "text": [
      "[Errno 10054] An existing connection was forcibly closed by the remote host\n"
     ]
    },
    {
     "name": "stdout",
     "output_type": "stream",
     "text": [
      "Exiting\n'posts: 2'\nPROGRESS: 8% (1051/11783)\nu'[Unholy death and decay] (/forums/en/wow/topic/17612851626)'\n"
     ]
    },
    {
     "name": "stdout",
     "output_type": "stream",
     "text": [
      "Exiting\n'posts: 4'\nPROGRESS: 8% (1052/11783)\nu'[Cant change spec???] (/forums/en/wow/topic/17612921727)'\n"
     ]
    },
    {
     "name": "stdout",
     "output_type": "stream",
     "text": [
      "Exiting\n'posts: 7'\nPROGRESS: 8% (1053/11783)\nu'[Artifact transmog] (/forums/en/wow/topic/17612881962)'\n"
     ]
    },
    {
     "name": "stdout",
     "output_type": "stream",
     "text": [
      "Exiting\n'posts: 2'\nPROGRESS: 8% (1054/11783)\nu'[Blood Threat / DPS] (/forums/en/wow/topic/17612911420)'\n"
     ]
    },
    {
     "name": "stdout",
     "output_type": "stream",
     "text": [
      "Exiting\n'posts: 7'\nPROGRESS: 8% (1055/11783)\nu'[Sludge Belcher Crazed Monstrosity Model?] (/forums/en/wow/topic/17612881511)'\n"
     ]
    },
    {
     "name": "stdout",
     "output_type": "stream",
     "text": [
      "[Errno 10054] An existing connection was forcibly closed by the remote host\nHTTPError = 404\n"
     ]
    },
    {
     "name": "stdout",
     "output_type": "stream",
     "text": [
      "Exiting\n'posts: 4'\nPROGRESS: 8% (1056/11783)\nu'[No runeforging ability anymore?] (/forums/en/wow/topic/17612741346)'\n"
     ]
    },
    {
     "name": "stdout",
     "output_type": "stream",
     "text": [
      "HTTPError = 404\n"
     ]
    },
    {
     "name": "stdout",
     "output_type": "stream",
     "text": [
      "Exiting\n'posts: 24'\nPROGRESS: 8% (1057/11783)\nu'[So, Horn of Winter.] (/forums/en/wow/topic/17612931594)'\n"
     ]
    },
    {
     "name": "stdout",
     "output_type": "stream",
     "text": [
      "Exiting\n'posts: 3'\nPROGRESS: 8% (1058/11783)\nu'[Losing Army of the Dead...] (/forums/en/wow/topic/17612481409)'\n"
     ]
    },
    {
     "name": "stdout",
     "output_type": "stream",
     "text": [
      "Exiting\n'posts: 8'\nPROGRESS: 8% (1059/11783)\nu\"[Reaper's Harvest] (/forums/en/wow/topic/17612841430)\"\n"
     ]
    },
    {
     "name": "stdout",
     "output_type": "stream",
     "text": [
      "Exiting\n'posts: 5'\nPROGRESS: 8% (1060/11783)\nu'[Blood Boil bug?] (/forums/en/wow/topic/17612871675)'\n"
     ]
    },
    {
     "name": "stdout",
     "output_type": "stream",
     "text": [
      "Exiting\n'posts: 3'\nPROGRESS: 9% (1061/11783)\nu'[Frost DK maxamize dps(?)] (/forums/en/wow/topic/17612821265)'\n"
     ]
    },
    {
     "name": "stdout",
     "output_type": "stream",
     "text": [
      "HTTPError = 404\n"
     ]
    },
    {
     "name": "stdout",
     "output_type": "stream",
     "text": [
      "Exiting\n'posts: 8'\nPROGRESS: 9% (1062/11783)\nu'[Frost dk dps + trinkets] (/forums/en/wow/topic/17612851640)'\n"
     ]
    },
    {
     "name": "stdout",
     "output_type": "stream",
     "text": [
      "HTTPError = 404\n"
     ]
    },
    {
     "name": "stdout",
     "output_type": "stream",
     "text": [
      "Exiting\n'posts: 3'\nPROGRESS: 9% (1063/11783)\nu'[(BUG) Scourge strike/Clawing shadows animation] (/forums/en/wow/topic/17612931649)'\n"
     ]
    },
    {
     "name": "stdout",
     "output_type": "stream",
     "text": [
      "Exiting\n'posts: 1'\nPROGRESS: 9% (1064/11783)\nu'[Is ebon fever talent working ?] (/forums/en/wow/topic/17612841676)'\n"
     ]
    },
    {
     "name": "stdout",
     "output_type": "stream",
     "text": [
      "Exiting\n'posts: 2'\nPROGRESS: 9% (1065/11783)\nu'[Scourge Strike ... gone missing] (/forums/en/wow/topic/17612901361)'\n"
     ]
    },
    {
     "name": "stdout",
     "output_type": "stream",
     "text": [
      "HTTPError = 404\n"
     ]
    },
    {
     "name": "stdout",
     "output_type": "stream",
     "text": [
      "Exiting\n'posts: 3'\nPROGRESS: 9% (1066/11783)\nu'[Unholy - Spec )High damage( great surv ) pvp] (/forums/en/wow/topic/17612711348)'\n"
     ]
    },
    {
     "name": "stdout",
     "output_type": "stream",
     "text": [
      "[Errno 10054] An existing connection was forcibly closed by the remote host\n"
     ]
    },
    {
     "name": "stdout",
     "output_type": "stream",
     "text": [
      "Exiting\n'posts: 3'\nPROGRESS: 9% (1067/11783)\nu'[7.0 Frost DK Obliterate Damage.] (/forums/en/wow/topic/17612931261)'\n"
     ]
    },
    {
     "name": "stdout",
     "output_type": "stream",
     "text": [
      "Exiting\n'posts: 7'\nPROGRESS: 9% (1068/11783)\nu\"[Where's all my buttoms?] (/forums/en/wow/topic/17612891163)\"\n"
     ]
    },
    {
     "name": "stdout",
     "output_type": "stream",
     "text": [
      "Exiting\n'posts: 6'\nPROGRESS: 9% (1069/11783)\nu'[[BUG] Death and Decay] (/forums/en/wow/topic/17612931312)'\n"
     ]
    },
    {
     "name": "stdout",
     "output_type": "stream",
     "text": [
      "Exiting\n'posts: 2'\nPROGRESS: 9% (1070/11783)\nu'[Informations that i quote] (/forums/en/wow/topic/17612861428)'\n"
     ]
    },
    {
     "name": "stdout",
     "output_type": "stream",
     "text": [
      "Exiting\n'posts: 1'\nPROGRESS: 9% (1071/11783)\nu'[Icy touch and plague strike] (/forums/en/wow/topic/17612811217)'\n"
     ]
    },
    {
     "name": "stdout",
     "output_type": "stream",
     "text": [
      "[Errno 10054] An existing connection was forcibly closed by the remote host\n"
     ]
    },
    {
     "name": "stdout",
     "output_type": "stream",
     "text": [
      "Exiting\n'posts: 5'\nPROGRESS: 9% (1072/11783)\nu'[UH: Healing and surviveability] (/forums/en/wow/topic/17612851244)'\n"
     ]
    },
    {
     "name": "stdout",
     "output_type": "stream",
     "text": [
      "Exiting\n'posts: 1'\nPROGRESS: 9% (1073/11783)\nu'[Sludge Belcher Colour...] (/forums/en/wow/topic/17612851121)'\n"
     ]
    },
    {
     "name": "stdout",
     "output_type": "stream",
     "text": [
      "Exiting\n'posts: 2'\nPROGRESS: 9% (1074/11783)\nu'[Bug? - Female Blood Elf DK Eye Glow] (/forums/en/wow/topic/17612491717)'\n"
     ]
    },
    {
     "name": "stdout",
     "output_type": "stream",
     "text": [
      "Exiting\n'posts: 4'\nPROGRESS: 9% (1075/11783)\nu'[PVP: Unholy DK] (/forums/en/wow/topic/17612262678)'\n"
     ]
    },
    {
     "name": "stdout",
     "output_type": "stream",
     "text": [
      "Exiting\n'posts: 13'\nPROGRESS: 9% (1076/11783)\nu'[unholy PvP Death Strike] (/forums/en/wow/topic/17612811327)'\n"
     ]
    },
    {
     "name": "stdout",
     "output_type": "stream",
     "text": [
      "Exiting\n'posts: 1'\nPROGRESS: 9% (1077/11783)\nu'[Dk after latest patch] (/forums/en/wow/topic/17612491610)'\n"
     ]
    },
    {
     "name": "stdout",
     "output_type": "stream",
     "text": [
      "HTTPError = 404\n"
     ]
    },
    {
     "name": "stdout",
     "output_type": "stream",
     "text": [
      "Exiting\n'posts: 21'\nPROGRESS: 9% (1078/11783)\nu'[Frost to Unholy in Legion?] (/forums/en/wow/topic/17610391339)'\n"
     ]
    },
    {
     "name": "stdout",
     "output_type": "stream",
     "text": [
      "Exiting\n'posts: 30'\nPROGRESS: 9% (1079/11783)\nu'[[Guide] Frost Death Knight - 7.0/Legion PvE guide] (/forums/en/wow/topic/17612521682)'\n"
     ]
    },
    {
     "name": "stdout",
     "output_type": "stream",
     "text": [
      "Exiting\n'posts: 5'\nPROGRESS: 9% (1080/11783)\nu'[Ghoul and sludge belcher] (/forums/en/wow/topic/17610993650)'\n"
     ]
    },
    {
     "name": "stdout",
     "output_type": "stream",
     "text": [
      "Exiting\n'posts: 16'\nPROGRESS: 9% (1081/11783)\nu'[Does racial still matter in Legion pvp?] (/forums/en/wow/topic/17612491597)'\n"
     ]
    },
    {
     "name": "stdout",
     "output_type": "stream",
     "text": [
      "Exiting\n'posts: 6'\nPROGRESS: 9% (1082/11783)\nu'[How Different Is UH In Legion?] (/forums/en/wow/topic/17612581097)'\n"
     ]
    },
    {
     "name": "stdout",
     "output_type": "stream",
     "text": [
      "Exiting\n'posts: 6'\nPROGRESS: 9% (1083/11783)\nu'[Favourite Outfit ruined! Need suggestions] (/forums/en/wow/topic/17612501503)'\n"
     ]
    },
    {
     "name": "stdout",
     "output_type": "stream",
     "text": [
      "Exiting\n'posts: 4'\nPROGRESS: 9% (1084/11783)\nu'[Do we use obliterate or not?] (/forums/en/wow/topic/17612571203)'\n"
     ]
    },
    {
     "name": "stdout",
     "output_type": "stream",
     "text": [
      "Exiting\n'posts: 8'\nPROGRESS: 9% (1085/11783)\nu'[Could somebody help?] (/forums/en/wow/topic/17612401472)'\n"
     ]
    },
    {
     "name": "stdout",
     "output_type": "stream",
     "text": [
      "Exiting\n'posts: 8'\nPROGRESS: 9% (1086/11783)\nu'[Orc or undead dk] (/forums/en/wow/topic/17612361289)'\n"
     ]
    },
    {
     "name": "stdout",
     "output_type": "stream",
     "text": [
      "Exiting\n'posts: 5'\nPROGRESS: 9% (1087/11783)\nu'[Season 3 Blood DK Bonus Armor] (/forums/en/wow/topic/17612343303)'\n"
     ]
    },
    {
     "name": "stdout",
     "output_type": "stream",
     "text": [
      "Exiting\n'posts: 4'\nPROGRESS: 9% (1088/11783)\nu'[Question about talents.] (/forums/en/wow/topic/17612263990)'\n"
     ]
    },
    {
     "name": "stdout",
     "output_type": "stream",
     "text": [
      "[Errno 10054] An existing connection was forcibly closed by the remote host\n"
     ]
    },
    {
     "name": "stdout",
     "output_type": "stream",
     "text": [
      "Exiting\n'posts: 13'\nPROGRESS: 9% (1089/11783)\nu'[[Q] DPS Dk in Challenge Modes] (/forums/en/wow/topic/17612323396)'\n"
     ]
    },
    {
     "name": "stdout",
     "output_type": "stream",
     "text": [
      "Exiting\n'posts: 11'\nPROGRESS: 9% (1090/11783)\nu'[Realm] (/forums/en/wow/topic/17612274293)'\n"
     ]
    },
    {
     "name": "stdout",
     "output_type": "stream",
     "text": [
      "Exiting\n'posts: 6'\nPROGRESS: 9% (1091/11783)\nu'[Dw vs 2h frost dk? read...] (/forums/en/wow/topic/17612272041)'\n"
     ]
    },
    {
     "name": "stdout",
     "output_type": "stream",
     "text": [
      "Exiting\n'posts: 18'\nPROGRESS: 9% (1092/11783)\nu'[I heard that Blood DK will be good in PVP] (/forums/en/wow/topic/17612242524)'\n"
     ]
    },
    {
     "name": "stdout",
     "output_type": "stream",
     "text": [
      "Exiting\n'posts: 7'\nPROGRESS: 9% (1093/11783)\nu'[Choosing a class for Legion] (/forums/en/wow/topic/17612224110)'\n"
     ]
    },
    {
     "name": "stdout",
     "output_type": "stream",
     "text": [
      "Exiting\n'posts: 6'\nPROGRESS: 9% (1094/11783)\nu'[Legion Unholy DK] (/forums/en/wow/topic/17612221491)'\n"
     ]
    },
    {
     "name": "stdout",
     "output_type": "stream",
     "text": [
      "Exiting\n'posts: 22'\nPROGRESS: 9% (1095/11783)\nu'[how to kill disc priest?] (/forums/en/wow/topic/17612253213)'\nHTTPError = 404\n"
     ]
    },
    {
     "name": "stdout",
     "output_type": "stream",
     "text": [
      "Exiting\n'posts: 9'\nPROGRESS: 9% (1096/11783)\nu'[6.2 class trinkets from archimonde] (/forums/en/wow/topic/14381028746)'\n"
     ]
    },
    {
     "name": "stdout",
     "output_type": "stream",
     "text": [
      "[Errno 10054] An existing connection was forcibly closed by the remote host\nHTTPError = 404\n"
     ]
    },
    {
     "name": "stdout",
     "output_type": "stream",
     "text": [
      "[Errno 10054] An existing connection was forcibly closed by the remote host\n"
     ]
    },
    {
     "name": "stdout",
     "output_type": "stream",
     "text": [
      "Exiting\n'posts: 33'\nPROGRESS: 9% (1097/11783)\nu'[Can someone explain my 2h vs 1h experience.] (/forums/en/wow/topic/17612293403)'\n"
     ]
    },
    {
     "name": "stdout",
     "output_type": "stream",
     "text": [
      "Exiting\n'posts: 7'\nPROGRESS: 9% (1098/11783)\nu'[DK trinket choices] (/forums/en/wow/topic/17612273620)'\n"
     ]
    },
    {
     "name": "stdout",
     "output_type": "stream",
     "text": [
      "Exiting\n'posts: 3'\nPROGRESS: 9% (1099/11783)\nu'[Looking for DK PvP guidance & tips] (/forums/en/wow/topic/17612341768)'\n"
     ]
    },
    {
     "name": "stdout",
     "output_type": "stream",
     "text": [
      "Exiting\n'posts: 5'\nPROGRESS: 9% (1100/11783)\nu'[Rate the DK Mog above you Part 8] (/forums/en/wow/topic/17612323494)'\n"
     ]
    },
    {
     "name": "stdout",
     "output_type": "stream",
     "text": [
      "Exiting\n'posts: 3'\nPROGRESS: 9% (1101/11783)\nu'[Rate the Death Knight transmog above you part 7] (/forums/en/wow/topic/16069797675)'\n"
     ]
    },
    {
     "name": "stdout",
     "output_type": "stream",
     "text": [
      "[Errno 10054] An existing connection was forcibly closed by the remote host\n"
     ]
    },
    {
     "name": "stdout",
     "output_type": "stream",
     "text": [
      "Exiting\n'posts: 493'\nPROGRESS: 9% (1102/11783)\nu'[macro] (/forums/en/wow/topic/17612223201)'\n"
     ]
    },
    {
     "name": "stdout",
     "output_type": "stream",
     "text": [
      "Exiting\n'posts: 2'\nPROGRESS: 9% (1103/11783)\nu'[Macro help! Dancing Rune Weapon] (/forums/en/wow/topic/17612292492)'\n"
     ]
    },
    {
     "name": "stdout",
     "output_type": "stream",
     "text": [
      "Exiting\n'posts: 5'\nPROGRESS: 9% (1104/11783)\nu'[Legion Frost DK Blades of the Fallen prince equip issue] (/forums/en/wow/topic/17611571198)'\n"
     ]
    },
    {
     "name": "stdout",
     "output_type": "stream",
     "text": [
      "Exiting\n'posts: 15'\nPROGRESS: 9% (1105/11783)\nu'[Bring back ghoul for raise ally] (/forums/en/wow/topic/17612253119)'\n"
     ]
    },
    {
     "name": "stdout",
     "output_type": "stream",
     "text": [
      "[Errno 10054] An existing connection was forcibly closed by the remote host\n"
     ]
    },
    {
     "name": "stdout",
     "output_type": "stream",
     "text": [
      "Exiting\n'posts: 1'\nPROGRESS: 9% (1106/11783)\nu\"[Death's Advance or Asphyxiate for CMs?] (/forums/en/wow/topic/17612291684)\"\nHTTPError = 404\n"
     ]
    },
    {
     "name": "stdout",
     "output_type": "stream",
     "text": [
      "Exiting\n'posts: 8'\nPROGRESS: 9% (1107/11783)\nu'[Presence macro?] (/forums/en/wow/topic/17612292494)'\n"
     ]
    },
    {
     "name": "stdout",
     "output_type": "stream",
     "text": [
      "Exiting\n'posts: 3'\nPROGRESS: 9% (1108/11783)\nu'[DK name] (/forums/en/wow/topic/7390789338)'\n"
     ]
    },
    {
     "name": "stdout",
     "output_type": "stream",
     "text": [
      "Exiting\n'posts: 40'\nPROGRESS: 9% (1109/11783)\nu'[Macro Question] (/forums/en/wow/topic/17612302532)'\n"
     ]
    },
    {
     "name": "stdout",
     "output_type": "stream",
     "text": [
      "Exiting\n'posts: 2'\nPROGRESS: 9% (1110/11783)\nu'[Legion Weapon Animation] (/forums/en/wow/topic/17612272551)'\n"
     ]
    },
    {
     "name": "stdout",
     "output_type": "stream",
     "text": [
      "HTTPError = 404\n"
     ]
    },
    {
     "name": "stdout",
     "output_type": "stream",
     "text": [
      "Exiting\n'posts: 4'\nPROGRESS: 9% (1111/11783)\nu'[Unholy or Frost] (/forums/en/wow/topic/17612251984)'\nHTTPError = 404\n"
     ]
    },
    {
     "name": "stdout",
     "output_type": "stream",
     "text": [
      "Exiting\n'posts: 12'\nPROGRESS: 9% (1112/11783)\nu'[Unholy] (/forums/en/wow/topic/17612221870)'\n"
     ]
    },
    {
     "name": "stdout",
     "output_type": "stream",
     "text": [
      "Exiting\n'posts: 7'\nPROGRESS: 9% (1113/11783)\nu'[PvE Frost stats priority.] (/forums/en/wow/topic/17612292126)'\n"
     ]
    },
    {
     "name": "stdout",
     "output_type": "stream",
     "text": [
      "Exiting\n'posts: 3'\nPROGRESS: 9% (1114/11783)\nu'[im not having a pet on my unholy reguardless] (/forums/en/wow/topic/17612261864)'\n"
     ]
    },
    {
     "name": "stdout",
     "output_type": "stream",
     "text": [
      "Exiting\n'posts: 7'\nPROGRESS: 9% (1115/11783)\nu'[Death knight worth it?] (/forums/en/wow/topic/17612311378)'\n"
     ]
    },
    {
     "name": "stdout",
     "output_type": "stream",
     "text": [
      "Exiting\n'posts: 7'\nPROGRESS: 9% (1116/11783)\nu'[How to win friends and influence enemies.] (/forums/en/wow/topic/17612231385)'\n"
     ]
    },
    {
     "name": "stdout",
     "output_type": "stream",
     "text": [
      "Exiting\n'posts: 4'\nPROGRESS: 9% (1117/11783)\nu'[What the hell is with DK lore? (Spoilers, I guess?)] (/forums/en/wow/topic/17612321251)'\n"
     ]
    },
    {
     "name": "stdout",
     "output_type": "stream",
     "text": [
      "Exiting\n'posts: 35'\nPROGRESS: 9% (1118/11783)\nu'[Death Knight Transmog Contest] (/forums/en/wow/topic/17612281191)'\n"
     ]
    },
    {
     "name": "stdout",
     "output_type": "stream",
     "text": [
      "Exiting\n'posts: 7'\nPROGRESS: 9% (1119/11783)\nu'[How To: Getting 3K Rating on a Death Knight (Legit)] (/forums/en/wow/topic/17611983674)'\n"
     ]
    },
    {
     "name": "stdout",
     "output_type": "stream",
     "text": [
      "[Errno 10054] An existing connection was forcibly closed by the remote host\n"
     ]
    },
    {
     "name": "stdout",
     "output_type": "stream",
     "text": [
      "Exiting\n'posts: 15'\nPROGRESS: 9% (1120/11783)\nu'[DK on PTR] (/forums/en/wow/topic/17612083196)'\n"
     ]
    },
    {
     "name": "stdout",
     "output_type": "stream",
     "text": [
      "Exiting\n'posts: 46'\nPROGRESS: 9% (1121/11783)\nu'[Unholy trinket help] (/forums/en/wow/topic/17612231286)'\n"
     ]
    },
    {
     "name": "stdout",
     "output_type": "stream",
     "text": [
      "Exiting\n'posts: 9'\nPROGRESS: 9% (1122/11783)\nu\"[I'm finding Frost DK really difficult?] (/forums/en/wow/topic/17612141087)\"\n"
     ]
    },
    {
     "name": "stdout",
     "output_type": "stream",
     "text": [
      "Exiting\n'posts: 5'\nPROGRESS: 9% (1123/11783)\nu'[Time Walking Gear.] (/forums/en/wow/topic/17612191183)'\n"
     ]
    },
    {
     "name": "stdout",
     "output_type": "stream",
     "text": [
      "[Errno 10054] An existing connection was forcibly closed by the remote host\n"
     ]
    },
    {
     "name": "stdout",
     "output_type": "stream",
     "text": [
      "Exiting\n'posts: 4'\nPROGRESS: 9% (1124/11783)\nu'[Unholy vs Frost in Arena] (/forums/en/wow/topic/17612321170)'\n"
     ]
    },
    {
     "name": "stdout",
     "output_type": "stream",
     "text": [
      "Exiting\n'posts: 2'\nPROGRESS: 9% (1125/11783)\nu'[New into Unholy in pvp/ arena] (/forums/en/wow/topic/17612201235)'\n"
     ]
    },
    {
     "name": "stdout",
     "output_type": "stream",
     "text": [
      "Exiting\n'posts: 2'\nPROGRESS: 9% (1126/11783)\nu'[Minion overhaul] (/forums/en/wow/topic/17611273350)'\n"
     ]
    },
    {
     "name": "stdout",
     "output_type": "stream",
     "text": [
      "Exiting\n'posts: 5'\nPROGRESS: 9% (1127/11783)\nu'[Undead or Orc male for DK?!] (/forums/en/wow/topic/17612111130)'\n"
     ]
    },
    {
     "name": "stdout",
     "output_type": "stream",
     "text": [
      "Exiting\n'posts: 9'\nPROGRESS: 9% (1128/11783)\nu'[Need some help with Dark transformation] (/forums/en/wow/topic/17612121183)'\n"
     ]
    },
    {
     "name": "stdout",
     "output_type": "stream",
     "text": [
      "[Errno 10054] An existing connection was forcibly closed by the remote host\n"
     ]
    },
    {
     "name": "stdout",
     "output_type": "stream",
     "text": [
      "Exiting\n'posts: 4'\nPROGRESS: 9% (1129/11783)\nu'[Current PTR Frost/UH dps] (/forums/en/wow/topic/17611973695)'\n"
     ]
    },
    {
     "name": "stdout",
     "output_type": "stream",
     "text": [
      "Exiting\n'posts: 3'\nPROGRESS: 9% (1130/11783)\nu'[New unholy ability: Tame Undead] (/forums/en/wow/topic/17611972520)'\n"
     ]
    },
    {
     "name": "stdout",
     "output_type": "stream",
     "text": [
      "Exiting\n'posts: 7'\nPROGRESS: 9% (1131/11783)\nu'[Face Tattoo] (/forums/en/wow/topic/17612022139)'\n"
     ]
    },
    {
     "name": "stdout",
     "output_type": "stream",
     "text": [
      "Exiting\n'posts: 6'\nPROGRESS: 9% (1132/11783)\nu'[I have some questions regarding PvE performance] (/forums/en/wow/topic/17612201087)'\n"
     ]
    },
    {
     "name": "stdout",
     "output_type": "stream",
     "text": [
      "Exiting\n'posts: 1'\nPROGRESS: 9% (1133/11783)\nu'[Legion t-mog question] (/forums/en/wow/topic/17612061263)'\n"
     ]
    },
    {
     "name": "stdout",
     "output_type": "stream",
     "text": [
      "Exiting\n'posts: 7'\nPROGRESS: 9% (1134/11783)\nu'[Unholy beta] (/forums/en/wow/topic/17612013439)'\n"
     ]
    },
    {
     "name": "stdout",
     "output_type": "stream",
     "text": [
      "Exiting\n'posts: 3'\nPROGRESS: 9% (1135/11783)\nu'[just one minor question...] (/forums/en/wow/topic/17611972348)'\n"
     ]
    },
    {
     "name": "stdout",
     "output_type": "stream",
     "text": [
      "Exiting\n'posts: 4'\nPROGRESS: 9% (1136/11783)\nu'[Frostscyth question] (/forums/en/wow/topic/17612042907)'\n"
     ]
    },
    {
     "name": "stdout",
     "output_type": "stream",
     "text": [
      "Exiting\n'posts: 5'\nPROGRESS: 9% (1137/11783)\nu'[LEGION: Frost Death knight movement...Crap?] (/forums/en/wow/topic/17612032744)'\n"
     ]
    },
    {
     "name": "stdout",
     "output_type": "stream",
     "text": [
      "Exiting\n'posts: 7'\nPROGRESS: 9% (1138/11783)\nu'[Comeback after 2013] (/forums/en/wow/topic/17612032746)'\n"
     ]
    },
    {
     "name": "stdout",
     "output_type": "stream",
     "text": [
      "Exiting\n'posts: 9'\nPROGRESS: 9% (1139/11783)\nu'[Shall i lvl up my DK?] (/forums/en/wow/topic/17611293514)'\n"
     ]
    },
    {
     "name": "stdout",
     "output_type": "stream",
     "text": [
      "Exiting\n'posts: 3'\nPROGRESS: 9% (1140/11783)\nu'[Frost dk stat question..] (/forums/en/wow/topic/17612062489)'\n"
     ]
    },
    {
     "name": "stdout",
     "output_type": "stream",
     "text": [
      "Exiting\n'posts: 10'\nPROGRESS: 9% (1141/11783)\nu'[Best 2vs2 comps?] (/forums/en/wow/topic/17611971445)'\n"
     ]
    },
    {
     "name": "stdout",
     "output_type": "stream",
     "text": [
      "Exiting\n'posts: 6'\nPROGRESS: 9% (1142/11783)\nu'[Crystaline Swords] (/forums/en/wow/topic/17612061761)'\n"
     ]
    },
    {
     "name": "stdout",
     "output_type": "stream",
     "text": [
      "Exiting\n'posts: 6'\nPROGRESS: 9% (1143/11783)\nu'[DK survivability in Ashran] (/forums/en/wow/topic/17611591066)'\n"
     ]
    },
    {
     "name": "stdout",
     "output_type": "stream",
     "text": [
      "Exiting\n'posts: 11'\nPROGRESS: 9% (1144/11783)\nu'[Bdk Legion What a joke!!!] (/forums/en/wow/topic/17610770929)'\n"
     ]
    },
    {
     "name": "stdout",
     "output_type": "stream",
     "text": [
      "HTTPError = 404\n"
     ]
    },
    {
     "name": "stdout",
     "output_type": "stream",
     "text": [
      "Exiting\n'posts: 19'\nPROGRESS: 9% (1145/11783)\nu'[DK voice. Again.] (/forums/en/wow/topic/17611891554)'\nHTTPError = 404\n"
     ]
    },
    {
     "name": "stdout",
     "output_type": "stream",
     "text": [
      "Exiting\n'posts: 6'\nPROGRESS: 9% (1146/11783)\nu'[Is Might of the Frozen Wastes bugged?] (/forums/en/wow/topic/17611981709)'\n"
     ]
    },
    {
     "name": "stdout",
     "output_type": "stream",
     "text": [
      "Exiting\n'posts: 3'\nPROGRESS: 9% (1147/11783)\nu'[does [frost] dk has any 3s viable comps?] (/forums/en/wow/topic/15162419333)'\n"
     ]
    },
    {
     "name": "stdout",
     "output_type": "stream",
     "text": [
      "Exiting\n'posts: 5'\nPROGRESS: 9% (1148/11783)\nu'[Blood threat] (/forums/en/wow/topic/17611851250)'\n"
     ]
    },
    {
     "name": "stdout",
     "output_type": "stream",
     "text": [
      "Exiting\n'posts: 6'\nPROGRESS: 9% (1149/11783)\nu'[[LEGION] Question about Bonestorm] (/forums/en/wow/topic/17611942073)'\n"
     ]
    },
    {
     "name": "stdout",
     "output_type": "stream",
     "text": [
      "Exiting\n'posts: 4'\nPROGRESS: 9% (1150/11783)\nu'[Blood dks in legion - worth starting now?] (/forums/en/wow/topic/17611881680)'\n"
     ]
    },
    {
     "name": "stdout",
     "output_type": "stream",
     "text": [
      "Exiting\n'posts: 8'\nPROGRESS: 9% (1151/11783)\nu'[[Legion] The overall lore, fantasy and feeling of Frost] (/forums/en/wow/topic/17611621077)'\n"
     ]
    },
    {
     "name": "stdout",
     "output_type": "stream",
     "text": [
      "[Errno 10054] An existing connection was forcibly closed by the remote host\n"
     ]
    },
    {
     "name": "stdout",
     "output_type": "stream",
     "text": [
      "Exiting\n'posts: 10'\nPROGRESS: 9% (1152/11783)\nu'[Low dps unholy] (/forums/en/wow/topic/17611333582)'\n"
     ]
    },
    {
     "name": "stdout",
     "output_type": "stream",
     "text": [
      "Exiting\n'posts: 19'\nPROGRESS: 9% (1153/11783)\nu'[Help with race in legion] (/forums/en/wow/topic/17611921513)'\n"
     ]
    },
    {
     "name": "stdout",
     "output_type": "stream",
     "text": [
      "Exiting\n'posts: 7'\nPROGRESS: 9% (1154/11783)\nu\"[What's your opinion?] (/forums/en/wow/topic/17611881728)\"\n"
     ]
    },
    {
     "name": "stdout",
     "output_type": "stream",
     "text": [
      "Exiting\n'posts: 8'\nPROGRESS: 9% (1155/11783)\nu'[Blood in pvp] (/forums/en/wow/topic/17611911754)'\n"
     ]
    },
    {
     "name": "stdout",
     "output_type": "stream",
     "text": [
      "Exiting\n'posts: 1'\nPROGRESS: 9% (1156/11783)\nu'[Lore question.] (/forums/en/wow/topic/17611253498)'\n"
     ]
    },
    {
     "name": "stdout",
     "output_type": "stream",
     "text": [
      "Exiting\n'posts: 10'\nPROGRESS: 9% (1157/11783)\nu'[Strange Acherus bots] (/forums/en/wow/topic/17611353515)'\n"
     ]
    },
    {
     "name": "stdout",
     "output_type": "stream",
     "text": [
      "Exiting\n'posts: 23'\nPROGRESS: 9% (1158/11783)\nu'[What spec will you play in Legion?] (/forums/en/wow/topic/17611011253)'\n"
     ]
    },
    {
     "name": "stdout",
     "output_type": "stream",
     "text": [
      "[Errno 10054] An existing connection was forcibly closed by the remote host\nHTTPError = 404\n"
     ]
    },
    {
     "name": "stdout",
     "output_type": "stream",
     "text": [
      "Exiting\n'posts: 37'\nPROGRESS: 9% (1159/11783)\nu'[PVP Dual Wield Frost DK 6.2 BiS Gear?] (/forums/en/wow/topic/15161828003)'\n"
     ]
    },
    {
     "name": "stdout",
     "output_type": "stream",
     "text": [
      "Exiting\n'posts: 10'\nPROGRESS: 9% (1160/11783)\nu\"[Why can't pandaren be DKs?] (/forums/en/wow/topic/5967256854)\"\n"
     ]
    },
    {
     "name": "stdout",
     "output_type": "stream",
     "text": [
      "Exiting\n'posts: 49'\nPROGRESS: 9% (1161/11783)\nu'[legion: anyone else find this hilarious?] (/forums/en/wow/topic/17611261930)'\n"
     ]
    },
    {
     "name": "stdout",
     "output_type": "stream",
     "text": [
      "Exiting\n'posts: 11'\nPROGRESS: 9% (1162/11783)\nu'[New Death Knight looking to dual-wield asap :-)] (/forums/en/wow/topic/17611253480)'\n"
     ]
    },
    {
     "name": "stdout",
     "output_type": "stream",
     "text": [
      "Exiting\n'posts: 6'\nPROGRESS: 9% (1163/11783)\nu'[How to maximize my DK?] (/forums/en/wow/topic/17611491024)'\n"
     ]
    },
    {
     "name": "stdout",
     "output_type": "stream",
     "text": [
      "Exiting\n'posts: 4'\nPROGRESS: 9% (1164/11783)\nu'[-] (/forums/en/wow/topic/17611471008)'\n"
     ]
    },
    {
     "name": "stdout",
     "output_type": "stream",
     "text": [
      "Exiting\n'posts: 1'\nPROGRESS: 9% (1165/11783)\nu'[The diffrence between Unholy and frost.] (/forums/en/wow/topic/17611302211)'\n"
     ]
    },
    {
     "name": "stdout",
     "output_type": "stream",
     "text": [
      "Exiting\n'posts: 9'\nPROGRESS: 9% (1166/11783)\nu'[Frost DK Dual Hand PVE Rotation] (/forums/en/wow/topic/17611273433)'\nHTTPError = 404\n"
     ]
    },
    {
     "name": "stdout",
     "output_type": "stream",
     "text": [
      "Exiting\n'posts: 2'\nPROGRESS: 9% (1167/11783)\nu'[DW Frost vs Unholy] (/forums/en/wow/topic/17611343286)'\n"
     ]
    },
    {
     "name": "stdout",
     "output_type": "stream",
     "text": [
      "HTTPError = 404\n"
     ]
    },
    {
     "name": "stdout",
     "output_type": "stream",
     "text": [
      "Exiting\n'posts: 7'\nPROGRESS: 9% (1168/11783)\nu'[The rune system: questions] (/forums/en/wow/topic/17611323100)'\n"
     ]
    },
    {
     "name": "stdout",
     "output_type": "stream",
     "text": [
      "Exiting\n'posts: 9'\nPROGRESS: 9% (1169/11783)\nu'[unholy, dwfrost or 2hfrost] (/forums/en/wow/topic/17611253188)'\n"
     ]
    },
    {
     "name": "stdout",
     "output_type": "stream",
     "text": [
      "Exiting\n'posts: 9'\nPROGRESS: 9% (1170/11783)\nu'[Frost DK - Lich Form] (/forums/en/wow/topic/17611322551)'\n"
     ]
    },
    {
     "name": "stdout",
     "output_type": "stream",
     "text": [
      "Exiting\n'posts: 5'\nPROGRESS: 9% (1171/11783)\nu'[\"Plague Leech, Death Siphon\" macro help] (/forums/en/wow/topic/17611282905)'\n"
     ]
    },
    {
     "name": "stdout",
     "output_type": "stream",
     "text": [
      "Exiting\n'posts: 2'\nPROGRESS: 9% (1172/11783)\nu'[Stun duration in Legion] (/forums/en/wow/topic/17611263072)'\n"
     ]
    },
    {
     "name": "stdout",
     "output_type": "stream",
     "text": [
      "Exiting\n'posts: 4'\nPROGRESS: 9% (1173/11783)\nu'[DW Frost DK PvP rotation?] (/forums/en/wow/topic/15161818839)'\n"
     ]
    },
    {
     "name": "stdout",
     "output_type": "stream",
     "text": [
      "Exiting\n'posts: 18'\nPROGRESS: 9% (1174/11783)\nu'[Blood tap macro?] (/forums/en/wow/topic/17611312229)'\n"
     ]
    },
    {
     "name": "stdout",
     "output_type": "stream",
     "text": [
      "HTTPError = 404\n"
     ]
    },
    {
     "name": "stdout",
     "output_type": "stream",
     "text": [
      "Exiting\n'posts: 13'\nPROGRESS: 9% (1175/11783)\nu'[Hunters in 2s??] (/forums/en/wow/topic/17611302416)'\n"
     ]
    },
    {
     "name": "stdout",
     "output_type": "stream",
     "text": [
      "Exiting\n'posts: 10'\nPROGRESS: 9% (1176/11783)\nu'[How do i dual spec my dk?] (/forums/en/wow/topic/14269567769)'\n"
     ]
    },
    {
     "name": "stdout",
     "output_type": "stream",
     "text": [
      "Exiting\n'posts: 3'\nPROGRESS: 9% (1177/11783)\nu'[Rune Crafting: or the complete lack of it.] (/forums/en/wow/topic/17611312514)'\n"
     ]
    },
    {
     "name": "stdout",
     "output_type": "stream",
     "text": [
      "Exiting\n'posts: 2'\nPROGRESS: 9% (1178/11783)\nu'[2v2 and 3v3 Arenas - Frost, Unholy or Blood?] (/forums/en/wow/topic/17611322153)'\nHTTPError = 404\n"
     ]
    },
    {
     "name": "stdout",
     "output_type": "stream",
     "text": [
      "Exiting\n'posts: 1'\nPROGRESS: 10% (1179/11783)\nu'[UH pvp in Legion] (/forums/en/wow/topic/17611292003)'\n"
     ]
    },
    {
     "name": "stdout",
     "output_type": "stream",
     "text": [
      "Exiting\n'posts: 4'\nPROGRESS: 10% (1180/11783)\nu'[i need a lil advice] (/forums/en/wow/topic/17611341433)'\n"
     ]
    },
    {
     "name": "stdout",
     "output_type": "stream",
     "text": [
      "Exiting\n'posts: 11'\nPROGRESS: 10% (1181/11783)\nu'[freezing fog] (/forums/en/wow/topic/17289169571)'\n"
     ]
    },
    {
     "name": "stdout",
     "output_type": "stream",
     "text": [
      "Exiting\n'posts: 9'\nPROGRESS: 10% (1182/11783)\nu'[2H or 1H for Frost in PvP?] (/forums/en/wow/topic/17611341732)'\n"
     ]
    },
    {
     "name": "stdout",
     "output_type": "stream",
     "text": [
      "Exiting\n'posts: 6'\nPROGRESS: 10% (1183/11783)\nu'[Looking for advice to improve ( Video)] (/forums/en/wow/topic/17611331753)'\n"
     ]
    },
    {
     "name": "stdout",
     "output_type": "stream",
     "text": [
      "Exiting\n'posts: 1'\nPROGRESS: 10% (1184/11783)\nu'[Unholy DK 700ilvl+ Average damage?] (/forums/en/wow/topic/17611081542)'\n"
     ]
    },
    {
     "name": "stdout",
     "output_type": "stream",
     "text": [
      "Exiting\n'posts: 12'\nPROGRESS: 10% (1185/11783)\nu'[Unholy DK comps in 3v3] (/forums/en/wow/topic/17611251669)'\n"
     ]
    },
    {
     "name": "stdout",
     "output_type": "stream",
     "text": [
      "Exiting\n'posts: 1'\nPROGRESS: 10% (1186/11783)\nu'[Teach me to tank] (/forums/en/wow/topic/17610933678)'\n"
     ]
    },
    {
     "name": "stdout",
     "output_type": "stream",
     "text": [
      "Exiting\n'posts: 15'\nPROGRESS: 10% (1187/11783)\nu'[Nooby looking for info on DK] (/forums/en/wow/topic/17611301546)'\n"
     ]
    },
    {
     "name": "stdout",
     "output_type": "stream",
     "text": [
      "Exiting\n'posts: 7'\nPROGRESS: 10% (1188/11783)\nu'[Profession] (/forums/en/wow/topic/17611331585)'\n"
     ]
    },
    {
     "name": "stdout",
     "output_type": "stream",
     "text": [
      "Exiting\n'posts: 4'\nPROGRESS: 10% (1189/11783)\nu'[Legion Alpha - Artifact Weapons - Active Ability Idea.] (/forums/en/wow/topic/17611281554)'\n"
     ]
    },
    {
     "name": "stdout",
     "output_type": "stream",
     "text": [
      "Exiting\n'posts: 5'\nPROGRESS: 10% (1190/11783)\nu'[How to: Permanent ghoul in Blood spec (WAIT WHAT?)] (/forums/en/wow/topic/17611251514)'\n"
     ]
    },
    {
     "name": "stdout",
     "output_type": "stream",
     "text": [
      "Exiting\n'posts: 8'\nPROGRESS: 10% (1191/11783)\nu'[Pvp DW Frost dk rotation help?] (/forums/en/wow/topic/17611281585)'\n"
     ]
    },
    {
     "name": "stdout",
     "output_type": "stream",
     "text": [
      "Exiting\n'posts: 2'\nPROGRESS: 10% (1192/11783)\nu'[If you could get a new dk spec] (/forums/en/wow/topic/17611361423)'\n"
     ]
    },
    {
     "name": "stdout",
     "output_type": "stream",
     "text": [
      "Exiting\n'posts: 3'\nPROGRESS: 10% (1193/11783)\nu'[Tips and tricks to boost your DPS as a frost dw DK PVE] (/forums/en/wow/topic/17611141058)'\n"
     ]
    },
    {
     "name": "stdout",
     "output_type": "stream",
     "text": [
      "Exiting\n'posts: 9'\nPROGRESS: 10% (1194/11783)\nu'[DW or 2h as frost pvp?] (/forums/en/wow/topic/17610943708)'\n"
     ]
    },
    {
     "name": "stdout",
     "output_type": "stream",
     "text": [
      "Exiting\n'posts: 14'\nPROGRESS: 10% (1195/11783)\nu'[new Apocalypse in Legion.] (/forums/en/wow/topic/17611111295)'\n"
     ]
    },
    {
     "name": "stdout",
     "output_type": "stream",
     "text": [
      "Exiting\n'posts: 6'\nPROGRESS: 10% (1196/11783)\nu'[What trinket should i use in Mythic HFC? (Necroblight)] (/forums/en/wow/topic/17611301003)'\n"
     ]
    },
    {
     "name": "stdout",
     "output_type": "stream",
     "text": [
      "Exiting\n'posts: 8'\nPROGRESS: 10% (1197/11783)\nu'[2H Frost in Legion] (/forums/en/wow/topic/17611251013)'\n"
     ]
    },
    {
     "name": "stdout",
     "output_type": "stream",
     "text": [
      "Exiting\n'posts: 5'\nPROGRESS: 10% (1198/11783)\nu'[one- or twohanded] (/forums/en/wow/topic/17611351153)'\n"
     ]
    },
    {
     "name": "stdout",
     "output_type": "stream",
     "text": [
      "Exiting\n'posts: 6'\nPROGRESS: 10% (1199/11783)\nu'[Bug?] (/forums/en/wow/topic/17611011533)'\n"
     ]
    },
    {
     "name": "stdout",
     "output_type": "stream",
     "text": [
      "Exiting\n'posts: 4'\nPROGRESS: 10% (1200/11783)\n"
     ]
    },
    {
     "name": "stdout",
     "output_type": "stream",
     "text": [
      "u'[Coolest dk name] (/forums/en/wow/topic/8048825223)'\n"
     ]
    },
    {
     "name": "stdout",
     "output_type": "stream",
     "text": [
      "[Errno 10054] An existing connection was forcibly closed by the remote host\n"
     ]
    },
    {
     "name": "stdout",
     "output_type": "stream",
     "text": [
      "Exiting\n'posts: 229'\nPROGRESS: 10% (1201/11783)\nu'[Problems] (/forums/en/wow/topic/17611131292)'\nHTTPError = 404\n"
     ]
    },
    {
     "name": "stdout",
     "output_type": "stream",
     "text": [
      "Exiting\n'posts: 5'\nPROGRESS: 10% (1202/11783)\nu'[Dk uh [legion]] (/forums/en/wow/topic/17611040932)'\n"
     ]
    },
    {
     "name": "stdout",
     "output_type": "stream",
     "text": [
      "Exiting\n'posts: 13'\nPROGRESS: 10% (1203/11783)\nu'[New to Unholy DKs, looking for tips] (/forums/en/wow/topic/17611101087)'\n"
     ]
    },
    {
     "name": "stdout",
     "output_type": "stream",
     "text": [
      "Exiting\n'posts: 18'\nPROGRESS: 10% (1204/11783)\nu'[Unholy PVE Trinket Question.] (/forums/en/wow/topic/17611231163)'\n"
     ]
    },
    {
     "name": "stdout",
     "output_type": "stream",
     "text": [
      "Exiting\n'posts: 6'\nPROGRESS: 10% (1205/11783)\nu'[Best horde/alliance races for PvP Frost DK?] (/forums/en/wow/topic/12843945005)'\n"
     ]
    },
    {
     "name": "stdout",
     "output_type": "stream",
     "text": [
      "Exiting\n'posts: 14'\nPROGRESS: 10% (1206/11783)\nu\"[Panda DK's, can it be a thing now please?] (/forums/en/wow/topic/17611101281)\"\n"
     ]
    },
    {
     "name": "stdout",
     "output_type": "stream",
     "text": [
      "Exiting\n'posts: 13'\nPROGRESS: 10% (1207/11783)\nu'[I love BoS] (/forums/en/wow/topic/17611141005)'\n"
     ]
    },
    {
     "name": "stdout",
     "output_type": "stream",
     "text": [
      "Exiting\n'posts: 4'\nPROGRESS: 10% (1208/11783)\nu'[Starting a death knight] (/forums/en/wow/topic/17611101323)'\n"
     ]
    },
    {
     "name": "stdout",
     "output_type": "stream",
     "text": [
      "Exiting\n'posts: 4'\nPROGRESS: 10% (1209/11783)\nu'[Dks 1shotting] (/forums/en/wow/topic/17289142319)'\n"
     ]
    },
    {
     "name": "stdout",
     "output_type": "stream",
     "text": [
      "Exiting\n'posts: 33'\nPROGRESS: 10% (1210/11783)\nu'[DK class fantasy] (/forums/en/wow/topic/17611090950)'\n"
     ]
    },
    {
     "name": "stdout",
     "output_type": "stream",
     "text": [
      "[Errno 10054] An existing connection was forcibly closed by the remote host\n"
     ]
    },
    {
     "name": "stdout",
     "output_type": "stream",
     "text": [
      "Exiting\n'posts: 7'\nPROGRESS: 10% (1211/11783)\nu'[Breath of Sindragosa] (/forums/en/wow/topic/17610903070)'\n"
     ]
    },
    {
     "name": "stdout",
     "output_type": "stream",
     "text": [
      "Exiting\n'posts: 5'\nPROGRESS: 10% (1212/11783)\nu'[still no bladed armor for blood in Legion?] (/forums/en/wow/topic/17611091143)'\n"
     ]
    },
    {
     "name": "stdout",
     "output_type": "stream",
     "text": [
      "Exiting\n'posts: 2'\nPROGRESS: 10% (1213/11783)\nu'[Legion Soul reaper makes no sense] (/forums/en/wow/topic/17611070945)'\n"
     ]
    },
    {
     "name": "stdout",
     "output_type": "stream",
     "text": [
      "Exiting\n'posts: 5'\nPROGRESS: 10% (1214/11783)\nu'[Frost vs Unholy presence PvE] (/forums/en/wow/topic/17610984077)'\n"
     ]
    },
    {
     "name": "stdout",
     "output_type": "stream",
     "text": [
      "Exiting\n'posts: 3'\nPROGRESS: 10% (1215/11783)\nu\"[Reaper's Harvest unusable] (/forums/en/wow/topic/17610973482)\"\n"
     ]
    },
    {
     "name": "stdout",
     "output_type": "stream",
     "text": [
      "Exiting\n'posts: 10'\nPROGRESS: 10% (1216/11783)\nu'[Need Help: Enhance Frost Strike] (/forums/en/wow/topic/17610924104)'\nHTTPError = 404\n"
     ]
    },
    {
     "name": "stdout",
     "output_type": "stream",
     "text": [
      "Exiting\n'posts: 8'\nPROGRESS: 10% (1217/11783)\nu'[LEGION: petless unholy pretty please?] (/forums/en/wow/topic/17610521374)'\n"
     ]
    },
    {
     "name": "stdout",
     "output_type": "stream",
     "text": [
      "[Errno 10054] An existing connection was forcibly closed by the remote host\n"
     ]
    },
    {
     "name": "stdout",
     "output_type": "stream",
     "text": [
      "Exiting\n'posts: 41'\nPROGRESS: 10% (1218/11783)\nu'[My proposal for Legion Frost DK class fantasy.] (/forums/en/wow/topic/17610952046)'\n"
     ]
    },
    {
     "name": "stdout",
     "output_type": "stream",
     "text": [
      "Exiting\n'posts: 7'\nPROGRESS: 10% (1219/11783)\nu'[Unholy pvp addon] (/forums/en/wow/topic/17610943936)'\n"
     ]
    },
    {
     "name": "stdout",
     "output_type": "stream",
     "text": [
      "Exiting\n'posts: 1'\nPROGRESS: 10% (1220/11783)\nu'[With my gear should I go Unholy/Frost?] (/forums/en/wow/topic/17610933844)'\n"
     ]
    },
    {
     "name": "stdout",
     "output_type": "stream",
     "text": [
      "Exiting\n'posts: 2'\nPROGRESS: 10% (1221/11783)\nu'[Wraith Walk - Supreme Death Knight mobility!] (/forums/en/wow/topic/17610982865)'\n"
     ]
    },
    {
     "name": "stdout",
     "output_type": "stream",
     "text": [
      "[Errno 10054] An existing connection was forcibly closed by the remote host\n"
     ]
    },
    {
     "name": "stdout",
     "output_type": "stream",
     "text": [
      "Exiting\n'posts: 31'\nPROGRESS: 10% (1222/11783)\nu'[Remorseless Winter] (/forums/en/wow/topic/17610903072)'\n"
     ]
    },
    {
     "name": "stdout",
     "output_type": "stream",
     "text": [
      "Exiting\n'posts: 7'\nPROGRESS: 10% (1223/11783)\nu'[Obliterate or Frost Strike?] (/forums/en/wow/topic/17610962774)'\n"
     ]
    },
    {
     "name": "stdout",
     "output_type": "stream",
     "text": [
      "Exiting\n'posts: 30'\nPROGRESS: 10% (1224/11783)\nu'[Anyone else disappointed with our class hall?] (/forums/en/wow/topic/17610971715)'\n"
     ]
    },
    {
     "name": "stdout",
     "output_type": "stream",
     "text": [
      "Exiting\n'posts: 9'\nPROGRESS: 10% (1225/11783)\nu'[Unholy presence not worth it in pvp?] (/forums/en/wow/topic/17610893329)'\n"
     ]
    },
    {
     "name": "stdout",
     "output_type": "stream",
     "text": [
      "[Errno 10054] An existing connection was forcibly closed by the remote host\n"
     ]
    },
    {
     "name": "stdout",
     "output_type": "stream",
     "text": [
      "Exiting\n'posts: 3'\nPROGRESS: 10% (1226/11783)\nu'[[LEGION]: FROST DK] (/forums/en/wow/topic/17610933431)'\n"
     ]
    },
    {
     "name": "stdout",
     "output_type": "stream",
     "text": [
      "Exiting\n'posts: 13'\nPROGRESS: 10% (1227/11783)\nu'[TRADING POST - AUCTIONHOUSE (To be or not to be,THAT...] (/forums/en/wow/topic/17610893220)'\n"
     ]
    },
    {
     "name": "stdout",
     "output_type": "stream",
     "text": [
      "[Errno 10054] An existing connection was forcibly closed by the remote host\n"
     ]
    },
    {
     "name": "stdout",
     "output_type": "stream",
     "text": [
      "Exiting\n'posts: 4'\nPROGRESS: 10% (1228/11783)\nu'[Plaguebearer] (/forums/en/wow/topic/17610953032)'\nHTTPError = 404\n"
     ]
    },
    {
     "name": "stdout",
     "output_type": "stream",
     "text": [
      "Exiting\n'posts: 3'\nPROGRESS: 10% (1229/11783)\nu'[What addons for pvp as DK?] (/forums/en/wow/topic/17610973100)'\n"
     ]
    },
    {
     "name": "stdout",
     "output_type": "stream",
     "text": [
      "[Errno 10054] An existing connection was forcibly closed by the remote host\n"
     ]
    },
    {
     "name": "stdout",
     "output_type": "stream",
     "text": [
      "Exiting\n'posts: 2'\nPROGRESS: 10% (1230/11783)\nu'[If the ebon blade was to fall apart] (/forums/en/wow/topic/17610943307)'\n"
     ]
    },
    {
     "name": "stdout",
     "output_type": "stream",
     "text": [
      "Exiting\n'posts: 11'\nPROGRESS: 10% (1231/11783)\nu'[Killing machine...] (/forums/en/wow/topic/17611003325)'\n"
     ]
    },
    {
     "name": "stdout",
     "output_type": "stream",
     "text": [
      "Exiting\n'posts: 4'\nPROGRESS: 10% (1232/11783)\nu'[Legion DK Armor Set] (/forums/en/wow/topic/17611003121)'\n"
     ]
    },
    {
     "name": "stdout",
     "output_type": "stream",
     "text": [
      "Exiting\n'posts: 10'\nPROGRESS: 10% (1233/11783)\nu'[UH DK PvP tips.] (/forums/en/wow/topic/17610913287)'\n"
     ]
    },
    {
     "name": "stdout",
     "output_type": "stream",
     "text": [
      "Exiting\n'posts: 2'\nPROGRESS: 10% (1234/11783)\nu'[Unholy pvp macro] (/forums/en/wow/topic/17610973267)'\n"
     ]
    },
    {
     "name": "stdout",
     "output_type": "stream",
     "text": [
      "Exiting\n'posts: 1'\nPROGRESS: 10% (1235/11783)\nu'[Unholy pvp gear.] (/forums/en/wow/topic/17610982944)'\n"
     ]
    },
    {
     "name": "stdout",
     "output_type": "stream",
     "text": [
      "Exiting\n'posts: 3'\nPROGRESS: 10% (1236/11783)\nu'[Frostguard] (/forums/en/wow/topic/17610943234)'\n"
     ]
    },
    {
     "name": "stdout",
     "output_type": "stream",
     "text": [
      "[Errno 10054] An existing connection was forcibly closed by the remote host\n"
     ]
    },
    {
     "name": "stdout",
     "output_type": "stream",
     "text": [
      "Exiting\n'posts: 3'\nPROGRESS: 10% (1237/11783)\nu'[Desecrated Ground] (/forums/en/wow/topic/17610953035)'\n"
     ]
    },
    {
     "name": "stdout",
     "output_type": "stream",
     "text": [
      "Exiting\n'posts: 6'\nPROGRESS: 10% (1238/11783)\nu'[This is not okay blizz! DK orderhall] (/forums/en/wow/topic/17610931271)'\n"
     ]
    },
    {
     "name": "stdout",
     "output_type": "stream",
     "text": [
      "Exiting\n'posts: 7'\nPROGRESS: 10% (1239/11783)\nu'[Anti-magic Zone] (/forums/en/wow/topic/17610892862)'\n"
     ]
    },
    {
     "name": "stdout",
     "output_type": "stream",
     "text": [
      "Exiting\n'posts: 1'\nPROGRESS: 10% (1240/11783)\nu'[Conversion] (/forums/en/wow/topic/17610903069)'\n"
     ]
    },
    {
     "name": "stdout",
     "output_type": "stream",
     "text": [
      "Exiting\n'posts: 1'\nPROGRESS: 10% (1241/11783)\nu'[Can A Deathknight Leave Your \"Deleted Characters\" Page?] (/forums/en/wow/topic/17610952236)'\n"
     ]
    },
    {
     "name": "stdout",
     "output_type": "stream",
     "text": [
      "Exiting\n'posts: 3'\nPROGRESS: 10% (1242/11783)\nu'[The 2h removal from frost] (/forums/en/wow/topic/17610841294)'\n"
     ]
    },
    {
     "name": "stdout",
     "output_type": "stream",
     "text": [
      "[Errno 10054] An existing connection was forcibly closed by the remote host\n"
     ]
    },
    {
     "name": "stdout",
     "output_type": "stream",
     "text": [
      "[Errno 10054] An existing connection was forcibly closed by the remote host\n"
     ]
    },
    {
     "name": "stdout",
     "output_type": "stream",
     "text": [
      "[Errno 10054] An existing connection was forcibly closed by the remote host\n"
     ]
    },
    {
     "name": "stdout",
     "output_type": "stream",
     "text": [
      "HTTPError = 404\n"
     ]
    },
    {
     "name": "stdout",
     "output_type": "stream",
     "text": [
      "Exiting\n'posts: 40'\nPROGRESS: 10% (1243/11783)\nu'[BoS help] (/forums/en/wow/topic/17610972004)'\n"
     ]
    },
    {
     "name": "stdout",
     "output_type": "stream",
     "text": [
      "Exiting\n'posts: 3'\nPROGRESS: 10% (1244/11783)\nu'[DKS ARE EASY TO PLAY. YOU HAVE NO SKILL] (/forums/en/wow/topic/17610902190)'\n"
     ]
    },
    {
     "name": "stdout",
     "output_type": "stream",
     "text": [
      "Exiting\n'posts: 9'\nPROGRESS: 10% (1245/11783)\nu'[To low DPS, need advice] (/forums/en/wow/topic/17610980929)'\n"
     ]
    },
    {
     "name": "stdout",
     "output_type": "stream",
     "text": [
      "HTTPError = 404\n"
     ]
    },
    {
     "name": "stdout",
     "output_type": "stream",
     "text": [
      "Exiting\n'posts: 13'\nPROGRESS: 10% (1246/11783)\nu'[dk worth playing in legion?] (/forums/en/wow/topic/17610860937)'\n"
     ]
    },
    {
     "name": "stdout",
     "output_type": "stream",
     "text": [
      "Exiting\n'posts: 11'\nPROGRESS: 10% (1247/11783)\nu'[New frost DK constantly resource starved, need advice!] (/forums/en/wow/topic/17610902405)'\n"
     ]
    },
    {
     "name": "stdout",
     "output_type": "stream",
     "text": [
      "HTTPError = 404\n"
     ]
    },
    {
     "name": "stdout",
     "output_type": "stream",
     "text": [
      "Exiting\n'posts: 7'\nPROGRESS: 10% (1248/11783)\nu'[Does somebody know which transmog this is?] (/forums/en/wow/topic/17610952332)'\n"
     ]
    },
    {
     "name": "stdout",
     "output_type": "stream",
     "text": [
      "Exiting\n'posts: 2'\nPROGRESS: 10% (1249/11783)\nu'[Unholy Dk in legion] (/forums/en/wow/topic/17610961132)'\n"
     ]
    },
    {
     "name": "stdout",
     "output_type": "stream",
     "text": [
      "Exiting\n'posts: 14'\nPROGRESS: 10% (1250/11783)\nu'[Blood dk for pvp] (/forums/en/wow/topic/17610982260)'\n"
     ]
    },
    {
     "name": "stdout",
     "output_type": "stream",
     "text": [
      "Exiting\n'posts: 1'\nPROGRESS: 10% (1251/11783)\nu'[PVP] (/forums/en/wow/topic/17610902194)'\n"
     ]
    },
    {
     "name": "stdout",
     "output_type": "stream",
     "text": [
      "Exiting\n'posts: 4'\nPROGRESS: 10% (1252/11783)\nu'[Legion talent speculation] (/forums/en/wow/topic/17611002167)'\n"
     ]
    },
    {
     "name": "stdout",
     "output_type": "stream",
     "text": [
      "Exiting\n'posts: 1'\nPROGRESS: 10% (1253/11783)\nu'[Unholy DK Gearing tips] (/forums/en/wow/topic/17610921849)'\n"
     ]
    },
    {
     "name": "stdout",
     "output_type": "stream",
     "text": [
      "Exiting\n'posts: 12'\nPROGRESS: 10% (1254/11783)\nu'[Help me get better deeps.] (/forums/en/wow/topic/17610932082)'\n"
     ]
    },
    {
     "name": "stdout",
     "output_type": "stream",
     "text": [
      "HTTPError = 404\n"
     ]
    },
    {
     "name": "stdout",
     "output_type": "stream",
     "text": [
      "Exiting\n'posts: 3'\nPROGRESS: 10% (1255/11783)\nu\"[What happened to Noth's Special Brew] (/forums/en/wow/topic/2847765198)\"\n"
     ]
    },
    {
     "name": "stdout",
     "output_type": "stream",
     "text": [
      "Exiting\n'posts: 11'\nPROGRESS: 10% (1256/11783)\nu'[Blood- EDH - CMs?] (/forums/en/wow/topic/17610911901)'\n"
     ]
    },
    {
     "name": "stdout",
     "output_type": "stream",
     "text": [
      "Exiting\n'posts: 3'\nPROGRESS: 10% (1257/11783)\nu'[1h Frost PvP: Versatility vs Mastery] (/forums/en/wow/topic/17610891836)'\n"
     ]
    },
    {
     "name": "stdout",
     "output_type": "stream",
     "text": [
      "Exiting\n'posts: 2'\nPROGRESS: 10% (1258/11783)\nu\"[reaper's harvest for blood] (/forums/en/wow/topic/17610911723)\"\n"
     ]
    },
    {
     "name": "stdout",
     "output_type": "stream",
     "text": [
      "Exiting\n'posts: 12'\nPROGRESS: 10% (1259/11783)\nu'[[spoiler] The loss of soul reaper] (/forums/en/wow/topic/17610891706)'\n"
     ]
    },
    {
     "name": "stdout",
     "output_type": "stream",
     "text": [
      "Exiting\n'posts: 5'\nPROGRESS: 10% (1260/11783)\nu'[Blood dk pvp ?] (/forums/en/wow/topic/16946443001)'\n"
     ]
    },
    {
     "name": "stdout",
     "output_type": "stream",
     "text": [
      "Exiting\n'posts: 3'\nPROGRESS: 10% (1261/11783)\nu'[Timewalking gear] (/forums/en/wow/topic/17610961533)'\n"
     ]
    },
    {
     "name": "stdout",
     "output_type": "stream",
     "text": [
      "[Errno 10054] An existing connection was forcibly closed by the remote host\n"
     ]
    },
    {
     "name": "stdout",
     "output_type": "stream",
     "text": [
      "Exiting\n'posts: 8'\nPROGRESS: 10% (1262/11783)\nu'[Legion: We finally get movement speed but....] (/forums/en/wow/topic/17610551928)'\n"
     ]
    },
    {
     "name": "stdout",
     "output_type": "stream",
     "text": [
      "[Errno 10054] An existing connection was forcibly closed by the remote host\n"
     ]
    },
    {
     "name": "stdout",
     "output_type": "stream",
     "text": [
      "Exiting\n'posts: 31'\nPROGRESS: 10% (1263/11783)\nu'[DK Runes] (/forums/en/wow/topic/17610991519)'\n"
     ]
    },
    {
     "name": "stdout",
     "output_type": "stream",
     "text": [
      "Exiting\n'posts: 2'\nPROGRESS: 10% (1264/11783)\nu'[Soul Reaper Icon Flashing like Execute and other Procs.] (/forums/en/wow/topic/17610611296)'\nHTTPError = 404\n"
     ]
    },
    {
     "name": "stdout",
     "output_type": "stream",
     "text": [
      "Exiting\n'posts: 9'\nPROGRESS: 10% (1265/11783)\nu'[UH dk raiding] (/forums/en/wow/topic/17610981239)'\n"
     ]
    },
    {
     "name": "stdout",
     "output_type": "stream",
     "text": [
      "Exiting\n'posts: 2'\nPROGRESS: 10% (1266/11783)\nu'[Unholy DK Weakauras] (/forums/en/wow/topic/13123876511)'\n"
     ]
    },
    {
     "name": "stdout",
     "output_type": "stream",
     "text": [
      "Exiting\n'posts: 11'\nPROGRESS: 10% (1267/11783)\nu'[Talent ideas for UH] (/forums/en/wow/topic/17610961250)'\n"
     ]
    },
    {
     "name": "stdout",
     "output_type": "stream",
     "text": [
      "Exiting\n'posts: 1'\nPROGRESS: 10% (1268/11783)\nu\"[Where's our Blood Death Knight Alpha thread?] (/forums/en/wow/topic/17610981162)\"\n"
     ]
    },
    {
     "name": "stdout",
     "output_type": "stream",
     "text": [
      "Exiting\n'posts: 3'\nPROGRESS: 10% (1269/11783)\nu'[Question about UH and Frost] (/forums/en/wow/topic/17610951205)'\n"
     ]
    },
    {
     "name": "stdout",
     "output_type": "stream",
     "text": [
      "[Errno 10054] An existing connection was forcibly closed by the remote host\n"
     ]
    },
    {
     "name": "stdout",
     "output_type": "stream",
     "text": [
      "Exiting\n'posts: 2'\nPROGRESS: 10% (1270/11783)\nu'[Unholy PvE - trinkets/talents] (/forums/en/wow/topic/17610831186)'\n"
     ]
    },
    {
     "name": "stdout",
     "output_type": "stream",
     "text": [
      "Exiting\n'posts: 4'\nPROGRESS: 10% (1271/11783)\nu'[pvp nerf] (/forums/en/wow/topic/17610661738)'\n"
     ]
    },
    {
     "name": "stdout",
     "output_type": "stream",
     "text": [
      "HTTPError = 404\n"
     ]
    },
    {
     "name": "stdout",
     "output_type": "stream",
     "text": [
      "Exiting\n'posts: 24'\nPROGRESS: 10% (1272/11783)\nu'[Frost post nerf] (/forums/en/wow/topic/17610821070)'\n"
     ]
    },
    {
     "name": "stdout",
     "output_type": "stream",
     "text": [
      "Exiting\n'posts: 7'\nPROGRESS: 10% (1273/11783)\nu'[UH vs frost-raiding] (/forums/en/wow/topic/17610870943)'\n"
     ]
    },
    {
     "name": "stdout",
     "output_type": "stream",
     "text": [
      "Exiting\n'posts: 15'\nPROGRESS: 10% (1274/11783)\nu'[Conversion] (/forums/en/wow/topic/13123113165)'\n"
     ]
    },
    {
     "name": "stdout",
     "output_type": "stream",
     "text": [
      "Exiting\n'posts: 8'\nPROGRESS: 10% (1275/11783)\nu'[Can some one explain the Frost rotation for me] (/forums/en/wow/topic/17610770996)'\n"
     ]
    },
    {
     "name": "stdout",
     "output_type": "stream",
     "text": [
      "Exiting\n'posts: 7'\nPROGRESS: 10% (1276/11783)\nu'[Unholy PvP] (/forums/en/wow/topic/17610711643)'\n"
     ]
    },
    {
     "name": "stdout",
     "output_type": "stream",
     "text": [
      "Exiting\n'posts: 29'\nPROGRESS: 10% (1277/11783)\nu'[The Void and You (\"Green Fire\" re-\"Quest\")] (/forums/en/wow/topic/17610841116)'\n"
     ]
    },
    {
     "name": "stdout",
     "output_type": "stream",
     "text": [
      "Exiting\n'posts: 1'\nPROGRESS: 10% (1278/11783)\nu'[so.. Frost/unholy for legion..] (/forums/en/wow/topic/17610701761)'\n"
     ]
    },
    {
     "name": "stdout",
     "output_type": "stream",
     "text": [
      "Exiting\n'posts: 3'\nPROGRESS: 10% (1279/11783)\nu'[Ditched Frost, Gone Unholy.. Help please :)] (/forums/en/wow/topic/17610781133)'\n"
     ]
    },
    {
     "name": "stdout",
     "output_type": "stream",
     "text": [
      "Exiting\n'posts: 4'\nPROGRESS: 10% (1280/11783)\nu'[Help - Frost DW struggle to maintain dps.] (/forums/en/wow/topic/17610771062)'\n"
     ]
    },
    {
     "name": "stdout",
     "output_type": "stream",
     "text": [
      "Exiting\n'posts: 4'\nPROGRESS: 10% (1281/11783)\nu'[Double Frost DK] (/forums/en/wow/topic/17610820952)'\n"
     ]
    },
    {
     "name": "stdout",
     "output_type": "stream",
     "text": [
      "Exiting\n'posts: 6'\nPROGRESS: 10% (1282/11783)\nu'[Legion Alpha DK Ability : Wraith Walk] (/forums/en/wow/topic/17610701639)'\n"
     ]
    },
    {
     "name": "stdout",
     "output_type": "stream",
     "text": [
      "Exiting\n'posts: 11'\nPROGRESS: 10% (1283/11783)\nu'[Unholy dk 718 ilvl low dps] (/forums/en/wow/topic/17610711295)'\n"
     ]
    },
    {
     "name": "stdout",
     "output_type": "stream",
     "text": [
      "Exiting\n'posts: 23'\nPROGRESS: 10% (1284/11783)\nu'[Necroblight on trash?] (/forums/en/wow/topic/17610651698)'\n"
     ]
    },
    {
     "name": "stdout",
     "output_type": "stream",
     "text": [
      "Exiting\n'posts: 5'\nPROGRESS: 10% (1285/11783)\nu'[Trinket] (/forums/en/wow/topic/17610701766)'\n"
     ]
    },
    {
     "name": "stdout",
     "output_type": "stream",
     "text": [
      "Exiting\n'posts: 2'\nPROGRESS: 10% (1286/11783)\nu'[Change my optimization for MM ?] (/forums/en/wow/topic/17610681455)'\n"
     ]
    },
    {
     "name": "stdout",
     "output_type": "stream",
     "text": [
      "Exiting\n'posts: 4'\nPROGRESS: 10% (1287/11783)\nu'[Dk weapon enchant] (/forums/en/wow/topic/17610701584)'\n"
     ]
    },
    {
     "name": "stdout",
     "output_type": "stream",
     "text": [
      "Exiting\n'posts: 4'\nPROGRESS: 10% (1288/11783)\nu'[AMS] (/forums/en/wow/topic/17610551016)'\n"
     ]
    },
    {
     "name": "stdout",
     "output_type": "stream",
     "text": [
      "HTTPError = 404\n"
     ]
    },
    {
     "name": "stdout",
     "output_type": "stream",
     "text": [
      "Exiting\n'posts: 10'\nPROGRESS: 10% (1289/11783)\nu'[Best race to play for DK.] (/forums/en/wow/topic/12989421522)'\n"
     ]
    },
    {
     "name": "stdout",
     "output_type": "stream",
     "text": [
      "Exiting\n'posts: 29'\nPROGRESS: 10% (1290/11783)\nu'[Black Temple Solo] (/forums/en/wow/topic/17610711249)'\n"
     ]
    },
    {
     "name": "stdout",
     "output_type": "stream",
     "text": [
      "Exiting\n'posts: 4'\nPROGRESS: 10% (1291/11783)\nu'[Winged steed of the ebon hold] (/forums/en/wow/topic/17610561316)'\n"
     ]
    },
    {
     "name": "stdout",
     "output_type": "stream",
     "text": [
      "Exiting\n'posts: 7'\nPROGRESS: 10% (1292/11783)\nu'[Plague leech/NP bug or?] (/forums/en/wow/topic/17610741256)'\n"
     ]
    },
    {
     "name": "stdout",
     "output_type": "stream",
     "text": [
      "[Errno 10054] An existing connection was forcibly closed by the remote host\nHTTPError = 404\n"
     ]
    },
    {
     "name": "stdout",
     "output_type": "stream",
     "text": [
      "Exiting\n'posts: 3'\nPROGRESS: 10% (1293/11783)\nu'[Starting out as Blood - Slow spec?] (/forums/en/wow/topic/17610631037)'\n"
     ]
    },
    {
     "name": "stdout",
     "output_type": "stream",
     "text": [
      "Exiting\n'posts: 4'\nPROGRESS: 10% (1294/11783)\nu'[Gronntooth War Horn and other trinkets] (/forums/en/wow/topic/17610710984)'\n"
     ]
    },
    {
     "name": "stdout",
     "output_type": "stream",
     "text": [
      "Exiting\n'posts: 6'\nPROGRESS: 10% (1295/11783)\nu'[Best DK mounts?] (/forums/en/wow/topic/17288642245)'\n"
     ]
    },
    {
     "name": "stdout",
     "output_type": "stream",
     "text": [
      "Exiting\n'posts: 17'\nPROGRESS: 10% (1296/11783)\nu'[IF unholy could be pet-less] (/forums/en/wow/topic/17610622191)'\n"
     ]
    },
    {
     "name": "stdout",
     "output_type": "stream",
     "text": [
      "Exiting\n'posts: 10'\nPROGRESS: 11% (1297/11783)\nu'[Returning Blood DK, some questions] (/forums/en/wow/topic/17610542101)'\n"
     ]
    },
    {
     "name": "stdout",
     "output_type": "stream",
     "text": [
      "HTTPError = 404\n"
     ]
    },
    {
     "name": "stdout",
     "output_type": "stream",
     "text": [
      "Exiting\n'posts: 4'\nPROGRESS: 11% (1298/11783)\nu\"[Britten's Spell Flash (PvP + PvE) Changed My Game] (/forums/en/wow/topic/17610561648)\"\n"
     ]
    },
    {
     "name": "stdout",
     "output_type": "stream",
     "text": [
      "Exiting\n'posts: 18'\nPROGRESS: 11% (1299/11783)\nu'[why hate for petless unholy?] (/forums/en/wow/topic/17610551834)'\n"
     ]
    },
    {
     "name": "stdout",
     "output_type": "stream",
     "text": [
      "[Errno 10054] An existing connection was forcibly closed by the remote host\n"
     ]
    },
    {
     "name": "stdout",
     "output_type": "stream",
     "text": [
      "Exiting\n'posts: 11'\nPROGRESS: 11% (1300/11783)\nu'[Unholy in  pvp] (/forums/en/wow/topic/17610551762)'\n"
     ]
    },
    {
     "name": "stdout",
     "output_type": "stream",
     "text": [
      "Exiting\n'posts: 7'\nPROGRESS: 11% (1301/11783)\nu'[Frost DK overview as of 22nd FEB] (/forums/en/wow/topic/17610522013)'\n"
     ]
    },
    {
     "name": "stdout",
     "output_type": "stream",
     "text": [
      "Exiting\n'posts: 2'\nPROGRESS: 11% (1302/11783)\nu'[Heroic Raiding DPS issues please help.] (/forums/en/wow/topic/17610610899)'\n"
     ]
    },
    {
     "name": "stdout",
     "output_type": "stream",
     "text": [
      "Exiting\n'posts: 35'\nPROGRESS: 11% (1303/11783)\nu'[No 100% damage buff to frost strike?] (/forums/en/wow/topic/17610541917)'\n"
     ]
    },
    {
     "name": "stdout",
     "output_type": "stream",
     "text": [
      "Exiting\n'posts: 10'\nPROGRESS: 11% (1304/11783)\nu'[So...about DPS] (/forums/en/wow/topic/17610541999)'\n"
     ]
    },
    {
     "name": "stdout",
     "output_type": "stream",
     "text": [
      "Exiting\n'posts: 4'\nPROGRESS: 11% (1305/11783)\nu'[Combatlogs Feedback Please] (/forums/en/wow/topic/17610581964)'\n"
     ]
    },
    {
     "name": "stdout",
     "output_type": "stream",
     "text": [
      "Exiting\n'posts: 1'\nPROGRESS: 11% (1306/11783)\nu'[Some UH DK pet sugestions for Blizzard devs] (/forums/en/wow/topic/16884048742)'\n"
     ]
    },
    {
     "name": "stdout",
     "output_type": "stream",
     "text": [
      "Exiting\n'posts: 6'\nPROGRESS: 11% (1307/11783)\nu'[Death Knight Theme Song] (/forums/en/wow/topic/17610290876)'\n"
     ]
    },
    {
     "name": "stdout",
     "output_type": "stream",
     "text": [
      "Exiting\n'posts: 13'\nPROGRESS: 11% (1308/11783)\nu\"[More info on Blood DK's] (/forums/en/wow/topic/17610581820)\"\n"
     ]
    },
    {
     "name": "stdout",
     "output_type": "stream",
     "text": [
      "Exiting\n'posts: 2'\nPROGRESS: 11% (1309/11783)\nu'[New DK (DW-Frost)] (/forums/en/wow/topic/17610551506)'\n"
     ]
    },
    {
     "name": "stdout",
     "output_type": "stream",
     "text": [
      "Exiting\n'posts: 15'\nPROGRESS: 11% (1310/11783)\nu'[Legion Question] (/forums/en/wow/topic/17610511823)'\n"
     ]
    },
    {
     "name": "stdout",
     "output_type": "stream",
     "text": [
      "Exiting\n'posts: 5'\nPROGRESS: 11% (1311/11783)\nu'[Legions latest change to Frost CC talents] (/forums/en/wow/topic/17610611134)'\n"
     ]
    },
    {
     "name": "stdout",
     "output_type": "stream",
     "text": [
      "Exiting\n'posts: 13'\nPROGRESS: 11% (1312/11783)\nu'[Frost dk poor DPS, what i am doing wrong?] (/forums/en/wow/topic/17610421084)'\n"
     ]
    },
    {
     "name": "stdout",
     "output_type": "stream",
     "text": [
      "Exiting\n'posts: 35'\nPROGRESS: 11% (1313/11783)\nu'[Runic power building - frost pvp] (/forums/en/wow/topic/17610430902)'\n"
     ]
    },
    {
     "name": "stdout",
     "output_type": "stream",
     "text": [
      "Exiting\n'posts: 8'\nPROGRESS: 11% (1314/11783)\nu'[Which Wep to use?] (/forums/en/wow/topic/17610561376)'\n"
     ]
    },
    {
     "name": "stdout",
     "output_type": "stream",
     "text": [
      "[Errno 10054] An existing connection was forcibly closed by the remote host\n"
     ]
    },
    {
     "name": "stdout",
     "output_type": "stream",
     "text": [
      "Exiting\n'posts: 8'\nPROGRESS: 11% (1315/11783)\nu'[PvP unholy help] (/forums/en/wow/topic/17610531439)'\n"
     ]
    },
    {
     "name": "stdout",
     "output_type": "stream",
     "text": [
      "Exiting\n'posts: 8'\nPROGRESS: 11% (1316/11783)\nu'[Anyone have a Blood DK set for Weakauras 2?] (/forums/en/wow/topic/17610481153)'\n"
     ]
    },
    {
     "name": "stdout",
     "output_type": "stream",
     "text": [
      "Exiting\n'posts: 4'\nPROGRESS: 11% (1317/11783)\nu'[What addon can move my runes?] (/forums/en/wow/topic/7818571954)'\n"
     ]
    },
    {
     "name": "stdout",
     "output_type": "stream",
     "text": [
      "[Errno 10054] An existing connection was forcibly closed by the remote host\n"
     ]
    },
    {
     "name": "stdout",
     "output_type": "stream",
     "text": [
      "Exiting\n'posts: 10'\nPROGRESS: 11% (1318/11783)\nu'[Soul Reaper proc] (/forums/en/wow/topic/14268997690)'\n"
     ]
    },
    {
     "name": "stdout",
     "output_type": "stream",
     "text": [
      "Exiting\n'posts: 6'\nPROGRESS: 11% (1319/11783)\nu'[low dps] (/forums/en/wow/topic/17610551262)'\n"
     ]
    },
    {
     "name": "stdout",
     "output_type": "stream",
     "text": [
      "Exiting\n'posts: 4'\nPROGRESS: 11% (1320/11783)\nu'[Fight Log Blood DK - How am I doing?] (/forums/en/wow/topic/17610491254)'\n"
     ]
    },
    {
     "name": "stdout",
     "output_type": "stream",
     "text": [
      "[Errno 10054] An existing connection was forcibly closed by the remote host\n"
     ]
    },
    {
     "name": "stdout",
     "output_type": "stream",
     "text": [
      "Exiting\n'posts: 8'\nPROGRESS: 11% (1321/11783)\nu'[another call for the wrath rune system to return] (/forums/en/wow/topic/17289170497)'\n"
     ]
    },
    {
     "name": "stdout",
     "output_type": "stream",
     "text": [
      "Exiting\n'posts: 12'\nPROGRESS: 11% (1322/11783)\nu'[unholy is back (legion)] (/forums/en/wow/topic/16824892878)'\n"
     ]
    },
    {
     "name": "stdout",
     "output_type": "stream",
     "text": [
      "Exiting\n'posts: 9'\nPROGRESS: 11% (1323/11783)\nu'[Gronntooth War Horn worth using?] (/forums/en/wow/topic/17610591015)'\n"
     ]
    },
    {
     "name": "stdout",
     "output_type": "stream",
     "text": [
      "Exiting\n'posts: 3'\nPROGRESS: 11% (1324/11783)\nu'[Frost dk with 2h] (/forums/en/wow/topic/17610461070)'\nHTTPError = 404\n"
     ]
    },
    {
     "name": "stdout",
     "output_type": "stream",
     "text": [
      "Exiting\n'posts: 4'\nPROGRESS: 11% (1325/11783)\nu'[Runic Corruption or Blood tap (pvp)] (/forums/en/wow/topic/13124768599)'\n"
     ]
    },
    {
     "name": "stdout",
     "output_type": "stream",
     "text": [
      "Exiting\n'posts: 12'\nPROGRESS: 11% (1326/11783)\nu'[Recently boosted frost dk - low dps] (/forums/en/wow/topic/17288698856)'\n"
     ]
    },
    {
     "name": "stdout",
     "output_type": "stream",
     "text": [
      "[Errno 10054] An existing connection was forcibly closed by the remote host\n"
     ]
    },
    {
     "name": "stdout",
     "output_type": "stream",
     "text": [
      "Exiting\n'posts: 27'\nPROGRESS: 11% (1327/11783)\nu'[Frost DK Legion Overview as of 4th Feb] (/forums/en/wow/topic/17610401356)'\n"
     ]
    },
    {
     "name": "stdout",
     "output_type": "stream",
     "text": [
      "Exiting\n'posts: 8'\nPROGRESS: 11% (1328/11783)\nu'[Blood Presence needs to be more punishing] (/forums/en/wow/topic/17289171215)'\n"
     ]
    },
    {
     "name": "stdout",
     "output_type": "stream",
     "text": [
      "Exiting\n'posts: 28'\nPROGRESS: 11% (1329/11783)\nu'[2v2 frost dk help] (/forums/en/wow/topic/17289082289)'\n"
     ]
    },
    {
     "name": "stdout",
     "output_type": "stream",
     "text": [
      "Exiting\n'posts: 6'\nPROGRESS: 11% (1330/11783)\nu'[Unholy trinkets] (/forums/en/wow/topic/17288991980)'\n"
     ]
    },
    {
     "name": "stdout",
     "output_type": "stream",
     "text": [
      "Exiting\n'posts: 11'\nPROGRESS: 11% (1331/11783)\nu'[Best race for DK lore] (/forums/en/wow/topic/7960936908)'\n"
     ]
    },
    {
     "name": "stdout",
     "output_type": "stream",
     "text": [
      "Exiting\n'posts: 23'\nPROGRESS: 11% (1332/11783)\nu\"[Legion:Idea's or solutions for DK] (/forums/en/wow/topic/17610450907)\"\n"
     ]
    },
    {
     "name": "stdout",
     "output_type": "stream",
     "text": [
      "Exiting\n'posts: 11'\nPROGRESS: 11% (1333/11783)\nu\"[Best transmog for DK's?] (/forums/en/wow/topic/6133953575)\"\n"
     ]
    },
    {
     "name": "stdout",
     "output_type": "stream",
     "text": [
      "Exiting\n'posts: 108'\nPROGRESS: 11% (1334/11783)\nu\"[2's n 3's combs] (/forums/en/wow/topic/17288642404)\"\n"
     ]
    },
    {
     "name": "stdout",
     "output_type": "stream",
     "text": [
      "Exiting\n'posts: 4'\nPROGRESS: 11% (1335/11783)\nu'[Transmog help] (/forums/en/wow/topic/17289311226)'\n"
     ]
    },
    {
     "name": "stdout",
     "output_type": "stream",
     "text": [
      "Exiting\n'posts: 2'\nPROGRESS: 11% (1336/11783)\nu'[Trinkets for dw frost?] (/forums/en/wow/topic/17289141614)'\n"
     ]
    },
    {
     "name": "stdout",
     "output_type": "stream",
     "text": [
      "Exiting\n'posts: 8'\nPROGRESS: 11% (1337/11783)\nu'[current stats priority for dual wield frost dk] (/forums/en/wow/topic/17289081540)'\n"
     ]
    },
    {
     "name": "stdout",
     "output_type": "stream",
     "text": [
      "Exiting\n'posts: 8'\nPROGRESS: 11% (1338/11783)\nu'[Mastery and Multistrike] (/forums/en/wow/topic/17289910818)'\n"
     ]
    },
    {
     "name": "stdout",
     "output_type": "stream",
     "text": [
      "Exiting\n'posts: 12'\nPROGRESS: 11% (1339/11783)\nu'[I lost Strangulate. Like literally.] (/forums/en/wow/topic/17288992085)'\n"
     ]
    },
    {
     "name": "stdout",
     "output_type": "stream",
     "text": [
      "Exiting\n'posts: 4'\nPROGRESS: 11% (1340/11783)\nu'[Presences removed in legion?] (/forums/en/wow/topic/16744274501)'\nHTTPError = 404\n"
     ]
    },
    {
     "name": "stdout",
     "output_type": "stream",
     "text": [
      "[Errno 10054] An existing connection was forcibly closed by the remote host\n"
     ]
    },
    {
     "name": "stdout",
     "output_type": "stream",
     "text": [
      "Exiting\n'posts: 40'\nPROGRESS: 11% (1341/11783)\nu'[DK Weapons and Loading Screen] (/forums/en/wow/topic/17289172212)'\n"
     ]
    },
    {
     "name": "stdout",
     "output_type": "stream",
     "text": [
      "HTTPError = 404\n"
     ]
    },
    {
     "name": "stdout",
     "output_type": "stream",
     "text": [
      "Exiting\n'posts: 5'\nPROGRESS: 11% (1342/11783)\nu'[DK vs rest] (/forums/en/wow/topic/17288892079)'\n"
     ]
    },
    {
     "name": "stdout",
     "output_type": "stream",
     "text": [
      "Exiting\n'posts: 5'\nPROGRESS: 11% (1343/11783)\nu'[725 ilvl !@#$ty UH dps... in need of help] (/forums/en/wow/topic/17289081993)'\n"
     ]
    },
    {
     "name": "stdout",
     "output_type": "stream",
     "text": [
      "Exiting\n'posts: 8'\nPROGRESS: 11% (1344/11783)\nu'[Dk order hall] (/forums/en/wow/topic/17288700846)'\n"
     ]
    },
    {
     "name": "stdout",
     "output_type": "stream",
     "text": [
      "Exiting\n'posts: 6'\nPROGRESS: 11% (1345/11783)\nu'[Archie as Unholy] (/forums/en/wow/topic/17288642068)'\n"
     ]
    },
    {
     "name": "stdout",
     "output_type": "stream",
     "text": [
      "Exiting\n'posts: 4'\nPROGRESS: 11% (1346/11783)\nu'[anyone re rolling to DH if so why ?] (/forums/en/wow/topic/17288701798)'\n"
     ]
    },
    {
     "name": "stdout",
     "output_type": "stream",
     "text": [
      "Exiting\n'posts: 21'\nPROGRESS: 11% (1347/11783)\nu'[Unholy PvP Deathrunes] (/forums/en/wow/topic/17289141777)'\n"
     ]
    },
    {
     "name": "stdout",
     "output_type": "stream",
     "text": [
      "Exiting\n'posts: 2'\nPROGRESS: 11% (1348/11783)\nu'[Transmog: Troll death knight] (/forums/en/wow/topic/17288991675)'\n"
     ]
    },
    {
     "name": "stdout",
     "output_type": "stream",
     "text": [
      "Exiting\n'posts: 2'\nPROGRESS: 11% (1349/11783)\nu'[UH DK Questions] (/forums/en/wow/topic/17289141420)'\n"
     ]
    },
    {
     "name": "stdout",
     "output_type": "stream",
     "text": [
      "Exiting\n'posts: 4'\nPROGRESS: 11% (1350/11783)\n"
     ]
    },
    {
     "name": "stdout",
     "output_type": "stream",
     "text": [
      "u'[Sindy Breath] (/forums/en/wow/topic/17288991512)'\n"
     ]
    },
    {
     "name": "stdout",
     "output_type": "stream",
     "text": [
      "Exiting\n'posts: 8'\nPROGRESS: 11% (1351/11783)\nu'[Multistrike/Mastery Cap - Should i go for crit?] (/forums/en/wow/topic/17288991635)'\n"
     ]
    },
    {
     "name": "stdout",
     "output_type": "stream",
     "text": [
      "Exiting\n'posts: 2'\nPROGRESS: 11% (1352/11783)\nu'[DK or WW Monk for raiding until Legion? (PVE only)] (/forums/en/wow/topic/17288640972)'\n"
     ]
    },
    {
     "name": "stdout",
     "output_type": "stream",
     "text": [
      "Exiting\n'posts: 8'\nPROGRESS: 11% (1353/11783)\nu'[Cant control my Dk rotation] (/forums/en/wow/topic/17289020665)'\n"
     ]
    },
    {
     "name": "stdout",
     "output_type": "stream",
     "text": [
      "Exiting\n'posts: 11'\nPROGRESS: 11% (1354/11783)\nu'[Death Knight order hall complaint] (/forums/en/wow/topic/17288640999)'\n"
     ]
    },
    {
     "name": "stdout",
     "output_type": "stream",
     "text": [
      "Exiting\n'posts: 21'\nPROGRESS: 11% (1355/11783)\nu'[Dual wield or 2H Weapon] (/forums/en/wow/topic/17288701042)'\n"
     ]
    },
    {
     "name": "stdout",
     "output_type": "stream",
     "text": [
      "Exiting\n'posts: 6'\nPROGRESS: 11% (1356/11783)\nu'[Decisions, Decisions.] (/forums/en/wow/topic/17289141613)'\n"
     ]
    },
    {
     "name": "stdout",
     "output_type": "stream",
     "text": [
      "Exiting\n'posts: 6'\nPROGRESS: 11% (1357/11783)\nu\"[A couple of infrequent bugs I've found.] (/forums/en/wow/topic/17289169837)\"\n"
     ]
    },
    {
     "name": "stdout",
     "output_type": "stream",
     "text": [
      "Exiting\n'posts: 9'\nPROGRESS: 11% (1358/11783)\nu'[Weapon sheating] (/forums/en/wow/topic/17288641468)'\n"
     ]
    },
    {
     "name": "stdout",
     "output_type": "stream",
     "text": [
      "Exiting\n'posts: 3'\nPROGRESS: 11% (1359/11783)\nu'[2h and double 1h] (/forums/en/wow/topic/17289310425)'\n"
     ]
    },
    {
     "name": "stdout",
     "output_type": "stream",
     "text": [
      "Exiting\n'posts: 18'\nPROGRESS: 11% (1360/11783)\nu'[Dk rune system?] (/forums/en/wow/topic/3888361392)'\nHTTPError = 404\n"
     ]
    },
    {
     "name": "stdout",
     "output_type": "stream",
     "text": [
      "HTTPError = 404\n"
     ]
    },
    {
     "name": "stdout",
     "output_type": "stream",
     "text": [
      "Exiting\n'posts: 9'\nPROGRESS: 11% (1361/11783)\nu'[Unholy DK issue PvE] (/forums/en/wow/topic/17289020279)'\n"
     ]
    },
    {
     "name": "stdout",
     "output_type": "stream",
     "text": [
      "Exiting\n'posts: 3'\nPROGRESS: 11% (1362/11783)\nu'[Challenge Mode BiS list help] (/forums/en/wow/topic/17289141078)'\n"
     ]
    },
    {
     "name": "stdout",
     "output_type": "stream",
     "text": [
      "Exiting\n'posts: 4'\nPROGRESS: 11% (1363/11783)\nu'[PVP dk] (/forums/en/wow/topic/17288990817)'\n"
     ]
    },
    {
     "name": "stdout",
     "output_type": "stream",
     "text": [
      "[Errno 10054] An existing connection was forcibly closed by the remote host\n"
     ]
    },
    {
     "name": "stdout",
     "output_type": "stream",
     "text": [
      "Exiting\n'posts: 1'\nPROGRESS: 11% (1364/11783)\nu'[Death Knight Eye Glow] (/forums/en/wow/topic/17289019817)'\n"
     ]
    },
    {
     "name": "stdout",
     "output_type": "stream",
     "text": [
      "Exiting\n'posts: 11'\nPROGRESS: 11% (1365/11783)\nu'[Dark sim] (/forums/en/wow/topic/17289140477)'\n"
     ]
    },
    {
     "name": "stdout",
     "output_type": "stream",
     "text": [
      "Exiting\n'posts: 8'\nPROGRESS: 11% (1366/11783)\nu'[Just to sum things up with Frost and Unholy.] (/forums/en/wow/topic/17289080558)'\n"
     ]
    },
    {
     "name": "stdout",
     "output_type": "stream",
     "text": [
      "Exiting\n'posts: 6'\nPROGRESS: 11% (1367/11783)\nu'[Unholy (Myhtic) Trinket Suggestion - Need Help] (/forums/en/wow/topic/17289910485)'\n"
     ]
    },
    {
     "name": "stdout",
     "output_type": "stream",
     "text": [
      "Exiting\n'posts: 5'\nPROGRESS: 11% (1368/11783)\nu'[DK Rankings - What Do They Say About Us?] (/forums/en/wow/topic/17288890171)'\n"
     ]
    },
    {
     "name": "stdout",
     "output_type": "stream",
     "text": [
      "Exiting\n'posts: 17'\nPROGRESS: 11% (1369/11783)\nu'[Unholy DK Trinket Question] (/forums/en/wow/topic/17288700561)'\n"
     ]
    },
    {
     "name": "stdout",
     "output_type": "stream",
     "text": [
      "Exiting\n'posts: 4'\nPROGRESS: 11% (1370/11783)\nu'[Can Blood DK solo WoW heroics?] (/forums/en/wow/topic/17289320469)'\n"
     ]
    },
    {
     "name": "stdout",
     "output_type": "stream",
     "text": [
      "Exiting\n'posts: 7'\nPROGRESS: 11% (1371/11783)\nu'[Frost DK 2H Bar Setup & Rotation] (/forums/en/wow/topic/17288890600)'\n"
     ]
    },
    {
     "name": "stdout",
     "output_type": "stream",
     "text": [
      "Exiting\n'posts: 1'\nPROGRESS: 11% (1372/11783)\nu'[Frost DW best weapons in HFC] (/forums/en/wow/topic/17289080757)'\n"
     ]
    },
    {
     "name": "stdout",
     "output_type": "stream",
     "text": [
      "[Errno 10054] An existing connection was forcibly closed by the remote host\n"
     ]
    },
    {
     "name": "stdout",
     "output_type": "stream",
     "text": [
      "Exiting\n'posts: 3'\nPROGRESS: 11% (1373/11783)\nu'[Dark Simulacrum] (/forums/en/wow/topic/17289910564)'\n"
     ]
    },
    {
     "name": "stdout",
     "output_type": "stream",
     "text": [
      "Exiting\n'posts: 4'\nPROGRESS: 11% (1374/11783)\nu'[frost pve  macro] (/forums/en/wow/topic/17289910504)'\n"
     ]
    },
    {
     "name": "stdout",
     "output_type": "stream",
     "text": [
      "Exiting\n'posts: 2'\nPROGRESS: 11% (1375/11783)\nu'[New player - new Death Knight] (/forums/en/wow/topic/17288710122)'\n"
     ]
    },
    {
     "name": "stdout",
     "output_type": "stream",
     "text": [
      "Exiting\n'posts: 6'\nPROGRESS: 11% (1376/11783)\nu'[2h or DW for PvP?] (/forums/en/wow/topic/17289079986)'\n"
     ]
    },
    {
     "name": "stdout",
     "output_type": "stream",
     "text": [
      "Exiting\n'posts: 4'\nPROGRESS: 11% (1377/11783)\nu'[Blood: How much is too much?] (/forums/en/wow/topic/17288890161)'\n"
     ]
    },
    {
     "name": "stdout",
     "output_type": "stream",
     "text": [
      "Exiting\n'posts: 9'\nPROGRESS: 11% (1378/11783)\nu'[(A) Tusks of Mannoroth] (/forums/en/wow/topic/17288640322)'\n"
     ]
    },
    {
     "name": "stdout",
     "output_type": "stream",
     "text": [
      "Exiting\n'posts: 2'\nPROGRESS: 11% (1379/11783)\nu'[Best spec and trinkets for wod cm] (/forums/en/wow/topic/17223934382)'\n"
     ]
    },
    {
     "name": "stdout",
     "output_type": "stream",
     "text": [
      "Exiting\n'posts: 10'\nPROGRESS: 11% (1380/11783)\nu'[Help with Weakauras] (/forums/en/wow/topic/17289170020)'\n"
     ]
    },
    {
     "name": "stdout",
     "output_type": "stream",
     "text": [
      "Exiting\n'posts: 8'\nPROGRESS: 11% (1381/11783)\nu'[Frost!? Unholy!? Blood(y) Hell what do i pick! (pvp)] (/forums/en/wow/topic/17289169404)'\n"
     ]
    },
    {
     "name": "stdout",
     "output_type": "stream",
     "text": [
      "Exiting\n'posts: 10'\nPROGRESS: 11% (1382/11783)\nu'[[H] Intervention 5/13 mythic recruiting] (/forums/en/wow/topic/17289140022)'\n"
     ]
    },
    {
     "name": "stdout",
     "output_type": "stream",
     "text": [
      "Exiting\n'posts: 1'\nPROGRESS: 11% (1383/11783)\nu'[Which Spec to go for PvE?] (/forums/en/wow/topic/17289319879)'\n"
     ]
    },
    {
     "name": "stdout",
     "output_type": "stream",
     "text": [
      "Exiting\n'posts: 11'\nPROGRESS: 11% (1384/11783)\nu'[What should I buy next ?] (/forums/en/wow/topic/17288639989)'\n"
     ]
    },
    {
     "name": "stdout",
     "output_type": "stream",
     "text": [
      "Exiting\n'posts: 1'\nPROGRESS: 11% (1385/11783)\nu'[Who do you guys watch ? Twitch and Youtube] (/forums/en/wow/topic/17288699873)'\n"
     ]
    },
    {
     "name": "stdout",
     "output_type": "stream",
     "text": [
      "Exiting\n'posts: 4'\nPROGRESS: 11% (1386/11783)\nu'[Catching up with Frost] (/forums/en/wow/topic/17289079582)'\n"
     ]
    },
    {
     "name": "stdout",
     "output_type": "stream",
     "text": [
      "Exiting\n'posts: 8'\nPROGRESS: 11% (1387/11783)\nu\"[90 boost and went frost but what's best leveling! 2-100] (/forums/en/wow/topic/17289169706)\"\n"
     ]
    },
    {
     "name": "stdout",
     "output_type": "stream",
     "text": [
      "Exiting\n'posts: 3'\nPROGRESS: 11% (1388/11783)\nu'[Unholy DK Heirlooms] (/forums/en/wow/topic/17288639740)'\n"
     ]
    },
    {
     "name": "stdout",
     "output_type": "stream",
     "text": [
      "Exiting\n'posts: 2'\nPROGRESS: 11% (1389/11783)\nu'[Minor Glyphs not working!] (/forums/en/wow/topic/17288699708)'\nHTTPError = 404\n"
     ]
    },
    {
     "name": "stdout",
     "output_type": "stream",
     "text": [
      "Exiting\n'posts: 3'\nPROGRESS: 11% (1390/11783)\nu\"[Pre-purchasing Legion profession's for level 100 boost] (/forums/en/wow/topic/16885289726)\"\n"
     ]
    },
    {
     "name": "stdout",
     "output_type": "stream",
     "text": [
      "Exiting\n'posts: 10'\nPROGRESS: 11% (1391/11783)\nu'[Fellow Death knights I call upon your help] (/forums/en/wow/topic/17289909310)'\n"
     ]
    },
    {
     "name": "stdout",
     "output_type": "stream",
     "text": [
      "Exiting\n'posts: 10'\nPROGRESS: 11% (1392/11783)\nu'[frost dk damage rotation] (/forums/en/wow/topic/17224045717)'\n"
     ]
    },
    {
     "name": "stdout",
     "output_type": "stream",
     "text": [
      "Exiting\n'posts: 29'\nPROGRESS: 11% (1393/11783)\nu'[Tusks of Mannoroth farm] (/forums/en/wow/topic/17224042235)'\n"
     ]
    },
    {
     "name": "stdout",
     "output_type": "stream",
     "text": [
      "Exiting\n'posts: 17'\nPROGRESS: 11% (1394/11783)\nu'[Blood and BiS] (/forums/en/wow/topic/17289019331)'\n"
     ]
    },
    {
     "name": "stdout",
     "output_type": "stream",
     "text": [
      "Exiting\n'posts: 5'\nPROGRESS: 11% (1395/11783)\nu'[DW frost? Unholy?] (/forums/en/wow/topic/17289169619)'\n"
     ]
    },
    {
     "name": "stdout",
     "output_type": "stream",
     "text": [
      "Exiting\n'posts: 7'\nPROGRESS: 11% (1396/11783)\nu'[Unholy stats help] (/forums/en/wow/topic/17225983680)'\n"
     ]
    },
    {
     "name": "stdout",
     "output_type": "stream",
     "text": [
      "Exiting\n'posts: 8'\nPROGRESS: 11% (1397/11783)\nu'[Main as frost dk?] (/forums/en/wow/topic/17168345968)'\n"
     ]
    },
    {
     "name": "stdout",
     "output_type": "stream",
     "text": [
      "Exiting\n'posts: 16'\nPROGRESS: 11% (1398/11783)\nu'[from 2h to dw] (/forums/en/wow/topic/16885180189)'\n"
     ]
    },
    {
     "name": "stdout",
     "output_type": "stream",
     "text": [
      "Exiting\n'posts: 10'\nPROGRESS: 11% (1399/11783)\nu'[Need help with rotations] (/forums/en/wow/topic/17288889124)'\n"
     ]
    },
    {
     "name": "stdout",
     "output_type": "stream",
     "text": [
      "Exiting\n'posts: 5'\nPROGRESS: 11% (1400/11783)\nu'[Race change for transmog] (/forums/en/wow/topic/17289139042)'\n"
     ]
    },
    {
     "name": "stdout",
     "output_type": "stream",
     "text": [
      "HTTPError = 404\n"
     ]
    },
    {
     "name": "stdout",
     "output_type": "stream",
     "text": [
      "Exiting\n'posts: 2'\nPROGRESS: 11% (1401/11783)\nu'[PvE: Unholy 100 talents +BiS] (/forums/en/wow/topic/17288988799)'\n"
     ]
    },
    {
     "name": "stdout",
     "output_type": "stream",
     "text": [
      "Exiting\n'posts: 16'\nPROGRESS: 11% (1402/11783)\nu'[Help with advise please!] (/forums/en/wow/topic/17289079315)'\nHTTPError = 404\n"
     ]
    },
    {
     "name": "stdout",
     "output_type": "stream",
     "text": [
      "Exiting\n'posts: 5'\nPROGRESS: 11% (1403/11783)\nu'[Unholy vs Frost - Non Raiding] (/forums/en/wow/topic/17289909045)'\n"
     ]
    },
    {
     "name": "stdout",
     "output_type": "stream",
     "text": [
      "Exiting\n'posts: 5'\nPROGRESS: 11% (1404/11783)\nu\"[Frost DK with HC [Calamity's Edge], Should I still DW?] (/forums/en/wow/topic/17289139098)\"\n"
     ]
    },
    {
     "name": "stdout",
     "output_type": "stream",
     "text": [
      "Exiting\n'posts: 3'\nPROGRESS: 11% (1405/11783)\nu'[happy newyear] (/forums/en/wow/topic/17289168906)'\n"
     ]
    },
    {
     "name": "stdout",
     "output_type": "stream",
     "text": [
      "Exiting\n'posts: 8'\nPROGRESS: 11% (1406/11783)\nu'[Unholy pvp stats] (/forums/en/wow/topic/16947229252)'\n"
     ]
    },
    {
     "name": "stdout",
     "output_type": "stream",
     "text": [
      "Exiting\n'posts: 6'\nPROGRESS: 11% (1407/11783)\nu'[Frost PVP, 2h or DW?] (/forums/en/wow/topic/17288988809)'\n"
     ]
    },
    {
     "name": "stdout",
     "output_type": "stream",
     "text": [
      "Exiting\n'posts: 3'\nPROGRESS: 11% (1408/11783)\nu'[Iskar UH Talents] (/forums/en/wow/topic/17289168878)'\n"
     ]
    },
    {
     "name": "stdout",
     "output_type": "stream",
     "text": [
      "Exiting\n'posts: 6'\nPROGRESS: 11% (1409/11783)\nu'[A question regarding frost DK trinkets..] (/forums/en/wow/topic/17289308808)'\n"
     ]
    },
    {
     "name": "stdout",
     "output_type": "stream",
     "text": [
      "Exiting\n'posts: 3'\nPROGRESS: 11% (1410/11783)\nu'[Dk is a OP class in Pvp?] (/forums/en/wow/topic/17168749439)'\n"
     ]
    },
    {
     "name": "stdout",
     "output_type": "stream",
     "text": [
      "Exiting\n'posts: 30'\nPROGRESS: 11% (1411/11783)\nu'[DK the most boring tank rotation?] (/forums/en/wow/topic/17289308781)'\n"
     ]
    },
    {
     "name": "stdout",
     "output_type": "stream",
     "text": [
      "Exiting\n'posts: 7'\nPROGRESS: 11% (1412/11783)\nu\"[Can't Dps] (/forums/en/wow/topic/17224045794)\"\n"
     ]
    },
    {
     "name": "stdout",
     "output_type": "stream",
     "text": [
      "[Errno 10054] An existing connection was forcibly closed by the remote host\n"
     ]
    },
    {
     "name": "stdout",
     "output_type": "stream",
     "text": [
      "Exiting\n'posts: 3'\nPROGRESS: 11% (1413/11783)\nu'[Artifact - Forced Dual Wield] (/forums/en/wow/topic/17225983527)'\nHTTPError = 404\n"
     ]
    },
    {
     "name": "stdout",
     "output_type": "stream",
     "text": [
      "Exiting\n'posts: 8'\nPROGRESS: 12% (1414/11783)\nu'[Quest reward: Advanced combat mechanics] (/forums/en/wow/topic/17224953566)'\n"
     ]
    },
    {
     "name": "stdout",
     "output_type": "stream",
     "text": [
      "Exiting\n'posts: 1'\nPROGRESS: 12% (1415/11783)\nu'[Frost DW DK dps] (/forums/en/wow/topic/17224034896)'\n"
     ]
    },
    {
     "name": "stdout",
     "output_type": "stream",
     "text": [
      "Exiting\n'posts: 4'\nPROGRESS: 12% (1416/11783)\nu'[Breaking 4piece tier bonus ?] (/forums/en/wow/topic/17225273217)'\n"
     ]
    },
    {
     "name": "stdout",
     "output_type": "stream",
     "text": [
      "Exiting\n'posts: 9'\nPROGRESS: 12% (1417/11783)\nu'[List of dispellable/stealable buffs?] (/forums/en/wow/topic/16884967802)'\n"
     ]
    },
    {
     "name": "stdout",
     "output_type": "stream",
     "text": [
      "Exiting\n'posts: 4'\nPROGRESS: 12% (1418/11783)\nu'[Raiding question.] (/forums/en/wow/topic/17224213393)'\n"
     ]
    },
    {
     "name": "stdout",
     "output_type": "stream",
     "text": [
      "Exiting\n'posts: 4'\nPROGRESS: 12% (1419/11783)\nu\"[DK's need a serious nerf.] (/forums/en/wow/topic/14628402696)\"\n"
     ]
    },
    {
     "name": "stdout",
     "output_type": "stream",
     "text": [
      "Exiting\n'posts: 69'\nPROGRESS: 12% (1420/11783)\nu'[Nooblet at pvp. Should I start with Frost or Blood.] (/forums/en/wow/topic/17226233339)'\n"
     ]
    },
    {
     "name": "stdout",
     "output_type": "stream",
     "text": [
      "Exiting\n'posts: 4'\nPROGRESS: 12% (1421/11783)\nu'[Weak Auras DK Silence] (/forums/en/wow/topic/16884186358)'\n"
     ]
    },
    {
     "name": "stdout",
     "output_type": "stream",
     "text": [
      "Exiting\n'posts: 2'\nPROGRESS: 12% (1422/11783)\nu\"[Can't see my runes] (/forums/en/wow/topic/17223875020)\"\n"
     ]
    },
    {
     "name": "stdout",
     "output_type": "stream",
     "text": [
      "Exiting\n'posts: 3'\nPROGRESS: 12% (1423/11783)\nu'[(Soon to be) Unholy DK needs a bit of guidance!] (/forums/en/wow/topic/17226233203)'\n"
     ]
    },
    {
     "name": "stdout",
     "output_type": "stream",
     "text": [
      "Exiting\n'posts: 11'\nPROGRESS: 12% (1424/11783)\nu'[Frost Dk could get 2k using a sega megadrive pad] (/forums/en/wow/topic/16946428552)'\nHTTPError = 404\n"
     ]
    },
    {
     "name": "stdout",
     "output_type": "stream",
     "text": [
      "Exiting\n'posts: 14'\nPROGRESS: 12% (1425/11783)\nu'[Help a new DK out?] (/forums/en/wow/topic/17223933938)'\n"
     ]
    },
    {
     "name": "stdout",
     "output_type": "stream",
     "text": [
      "Exiting\n'posts: 6'\nPROGRESS: 12% (1426/11783)\nu'[what is the logic behind current  frost specialization?] (/forums/en/wow/topic/16884961297)'\n"
     ]
    },
    {
     "name": "stdout",
     "output_type": "stream",
     "text": [
      "[Errno 10054] An existing connection was forcibly closed by the remote host\n"
     ]
    },
    {
     "name": "stdout",
     "output_type": "stream",
     "text": [
      "Exiting\n'posts: 20'\nPROGRESS: 12% (1427/11783)\nu'[breath of syndragosa removed] (/forums/en/wow/topic/16885181872)'\n"
     ]
    },
    {
     "name": "stdout",
     "output_type": "stream",
     "text": [
      "HTTPError = 404\n"
     ]
    },
    {
     "name": "stdout",
     "output_type": "stream",
     "text": [
      "Exiting\n'posts: 24'\nPROGRESS: 12% (1428/11783)\nu\"[Our 'Order Hall' in Legion] (/forums/en/wow/topic/15162510613)\"\n"
     ]
    },
    {
     "name": "stdout",
     "output_type": "stream",
     "text": [
      "Exiting\n'posts: 31'\nPROGRESS: 12% (1429/11783)\nu'[Any DW DK got a good blood tap macro?] (/forums/en/wow/topic/7818812699)'\n"
     ]
    },
    {
     "name": "stdout",
     "output_type": "stream",
     "text": [
      "Exiting\n'posts: 14'\nPROGRESS: 12% (1430/11783)\nu'[Unholy death knight pvp viability] (/forums/en/wow/topic/16884966760)'\n"
     ]
    },
    {
     "name": "stdout",
     "output_type": "stream",
     "text": [
      "Exiting\n'posts: 18'\nPROGRESS: 12% (1431/11783)\nu'[Might of the frozen wastes] (/forums/en/wow/topic/17168589895)'\n"
     ]
    },
    {
     "name": "stdout",
     "output_type": "stream",
     "text": [
      "Exiting\n'posts: 4'\nPROGRESS: 12% (1432/11783)\nu'[secondary stat?] (/forums/en/wow/topic/16946616889)'\n"
     ]
    },
    {
     "name": "stdout",
     "output_type": "stream",
     "text": [
      "Exiting\n'posts: 3'\nPROGRESS: 12% (1433/11783)\nu'[Horde race for DK?] (/forums/en/wow/topic/16884182926)'\n"
     ]
    },
    {
     "name": "stdout",
     "output_type": "stream",
     "text": [
      "Exiting\n'posts: 19'\nPROGRESS: 12% (1434/11783)\nu'[How do we kill a Disc Priest?] (/forums/en/wow/topic/12976857585)'\n"
     ]
    },
    {
     "name": "stdout",
     "output_type": "stream",
     "text": [
      "Exiting\n'posts: 20'\nPROGRESS: 12% (1435/11783)\nu'[SUF Help! Prioritise stealable/removeable buffs??] (/forums/en/wow/topic/16885297291)'\n"
     ]
    },
    {
     "name": "stdout",
     "output_type": "stream",
     "text": [
      "Exiting\n'posts: 1'\nPROGRESS: 12% (1436/11783)\nu'[Death and Decay Glyph pls] (/forums/en/wow/topic/16885225866)'\n"
     ]
    },
    {
     "name": "stdout",
     "output_type": "stream",
     "text": [
      "Exiting\n'posts: 3'\nPROGRESS: 12% (1437/11783)\nu'[Unholy Mastery and multistrike CAP] (/forums/en/wow/topic/16885292602)'\n"
     ]
    },
    {
     "name": "stdout",
     "output_type": "stream",
     "text": [
      "[Errno 10054] An existing connection was forcibly closed by the remote host\n"
     ]
    },
    {
     "name": "stdout",
     "output_type": "stream",
     "text": [
      "Exiting\n'posts: 9'\nPROGRESS: 12% (1438/11783)\nu'[Frost DK Challenge Mode] (/forums/en/wow/topic/16884184611)'\n"
     ]
    },
    {
     "name": "stdout",
     "output_type": "stream",
     "text": [
      "Exiting\n'posts: 7'\nPROGRESS: 12% (1439/11783)\nu'[Legion Beta build - DK edition] (/forums/en/wow/topic/16824892521)'\n"
     ]
    },
    {
     "name": "stdout",
     "output_type": "stream",
     "text": [
      "[Errno 10054] An existing connection was forcibly closed by the remote host\nHTTPError = 404\n"
     ]
    },
    {
     "name": "stdout",
     "output_type": "stream",
     "text": [
      "Exiting\n'posts: 38'\nPROGRESS: 12% (1440/11783)\nu'[3v3 Comps for Dk] (/forums/en/wow/topic/16946619091)'\n"
     ]
    },
    {
     "name": "stdout",
     "output_type": "stream",
     "text": [
      "Exiting\n'posts: 7'\nPROGRESS: 12% (1441/11783)\nu'[Unholy DK PvP question.] (/forums/en/wow/topic/16884960485)'\n"
     ]
    },
    {
     "name": "stdout",
     "output_type": "stream",
     "text": [
      "[Errno 10054] An existing connection was forcibly closed by the remote host\n"
     ]
    },
    {
     "name": "stdout",
     "output_type": "stream",
     "text": [
      "Exiting\n'posts: 6'\nPROGRESS: 12% (1442/11783)\nu'[DK] (/forums/en/wow/topic/16946188111)'\n"
     ]
    },
    {
     "name": "stdout",
     "output_type": "stream",
     "text": [
      "Exiting\n'posts: 6'\nPROGRESS: 12% (1443/11783)\nu'[Frost dk weapon priority] (/forums/en/wow/topic/16885292572)'\n"
     ]
    },
    {
     "name": "stdout",
     "output_type": "stream",
     "text": [
      "Exiting\n'posts: 5'\nPROGRESS: 12% (1444/11783)\nu'[PVP frost dk DW/2H stat priority ?!] (/forums/en/wow/topic/15059857989)'\n"
     ]
    },
    {
     "name": "stdout",
     "output_type": "stream",
     "text": [
      "Exiting\n'posts: 11'\nPROGRESS: 12% (1445/11783)\nu'[Horde race for DK?] (/forums/en/wow/topic/16884602609)'\n"
     ]
    },
    {
     "name": "stdout",
     "output_type": "stream",
     "text": [
      "Exiting\n'posts: 5'\nPROGRESS: 12% (1446/11783)\nu'[Frost dk bis PvP gear?] (/forums/en/wow/topic/16946616956)'\n"
     ]
    },
    {
     "name": "stdout",
     "output_type": "stream",
     "text": [
      "Exiting\n'posts: 8'\nPROGRESS: 12% (1447/11783)\nu'[3v3 Comps for Dk] (/forums/en/wow/topic/16884603555)'\n"
     ]
    },
    {
     "name": "stdout",
     "output_type": "stream",
     "text": [
      "Exiting\n'posts: 2'\nPROGRESS: 12% (1448/11783)\nu'[Lvl 100 boost] (/forums/en/wow/topic/16946185715)'\n"
     ]
    },
    {
     "name": "stdout",
     "output_type": "stream",
     "text": [
      "Exiting\n'posts: 5'\nPROGRESS: 12% (1449/11783)\nu'[Worried about unholy talent tree] (/forums/en/wow/topic/16885182199)'\n"
     ]
    },
    {
     "name": "stdout",
     "output_type": "stream",
     "text": [
      "Exiting\n'posts: 6'\nPROGRESS: 12% (1450/11783)\nu'[Help with gearing.] (/forums/en/wow/topic/16946438742)'\n"
     ]
    },
    {
     "name": "stdout",
     "output_type": "stream",
     "text": [
      "Exiting\n'posts: 3'\nPROGRESS: 12% (1451/11783)\nu'[Fresh lvl 100 Death Knight PvP Unholy Or Frost ?] (/forums/en/wow/topic/16947227974)'\n"
     ]
    },
    {
     "name": "stdout",
     "output_type": "stream",
     "text": [
      "Exiting\n'posts: 6'\nPROGRESS: 12% (1452/11783)\nu'[Frost DKs Artifact Weapon lacks concept. Some ideas:] (/forums/en/wow/topic/16885290576)'\n"
     ]
    },
    {
     "name": "stdout",
     "output_type": "stream",
     "text": [
      "Exiting\n'posts: 9'\nPROGRESS: 12% (1453/11783)\nu'[Gronntooth War Horn vs Rumbling Pebble] (/forums/en/wow/topic/16824852742)'\nHTTPError = 404\n"
     ]
    },
    {
     "name": "stdout",
     "output_type": "stream",
     "text": [
      "Exiting\n'posts: 13'\nPROGRESS: 12% (1454/11783)\nu'[Important Question regarding Frost strike in raiding] (/forums/en/wow/topic/16885178815)'\n"
     ]
    },
    {
     "name": "stdout",
     "output_type": "stream",
     "text": [
      "Exiting\n'posts: 8'\nPROGRESS: 12% (1455/11783)\nu'[DPS lvl 100 Frost DK , suggestions.] (/forums/en/wow/topic/16885291951)'\n"
     ]
    },
    {
     "name": "stdout",
     "output_type": "stream",
     "text": [
      "Exiting\n'posts: 4'\nPROGRESS: 12% (1456/11783)\nu'[Need advice for DKs in HFC] (/forums/en/wow/topic/16885219715)'\n"
     ]
    },
    {
     "name": "stdout",
     "output_type": "stream",
     "text": [
      "Exiting\n'posts: 8'\nPROGRESS: 12% (1457/11783)\nu'[Noob DK Rotation] (/forums/en/wow/topic/16884601465)'\n"
     ]
    },
    {
     "name": "stdout",
     "output_type": "stream",
     "text": [
      "Exiting\n'posts: 3'\nPROGRESS: 12% (1458/11783)\nu'[Problem with deeps] (/forums/en/wow/topic/16946427807)'\n"
     ]
    },
    {
     "name": "stdout",
     "output_type": "stream",
     "text": [
      "Exiting\n'posts: 4'\nPROGRESS: 12% (1459/11783)\nu'[Frost DK rotation and action bar] (/forums/en/wow/topic/16885220034)'\n"
     ]
    },
    {
     "name": "stdout",
     "output_type": "stream",
     "text": [
      "HTTPError = 404\n"
     ]
    },
    {
     "name": "stdout",
     "output_type": "stream",
     "text": [
      "Exiting\n'posts: 11'\nPROGRESS: 12% (1460/11783)\nu'[death knight or paladin or warrior?] (/forums/en/wow/topic/16884960358)'\n"
     ]
    },
    {
     "name": "stdout",
     "output_type": "stream",
     "text": [
      "Exiting\n'posts: 5'\nPROGRESS: 12% (1461/11783)\nu'[Blood tanking stat priority] (/forums/en/wow/topic/16883848897)'\n"
     ]
    },
    {
     "name": "stdout",
     "output_type": "stream",
     "text": [
      "Exiting\n'posts: 12'\nPROGRESS: 12% (1462/11783)\nu'[Bone Shield, pls1!] (/forums/en/wow/topic/16772147452)'\n"
     ]
    },
    {
     "name": "stdout",
     "output_type": "stream",
     "text": [
      "Exiting\n'posts: 5'\nPROGRESS: 12% (1463/11783)\nu'[icy touch] (/forums/en/wow/topic/16884600451)'\n"
     ]
    },
    {
     "name": "stdout",
     "output_type": "stream",
     "text": [
      "Exiting\n'posts: 6'\nPROGRESS: 12% (1464/11783)\nu'[Heroic Warforged Upgrade] (/forums/en/wow/topic/16885220438)'\n"
     ]
    },
    {
     "name": "stdout",
     "output_type": "stream",
     "text": [
      "Exiting\n'posts: 4'\nPROGRESS: 12% (1465/11783)\nu'[When to Unholy & is 2h better than DW in any scenario?] (/forums/en/wow/topic/16885328853)'\n"
     ]
    },
    {
     "name": "stdout",
     "output_type": "stream",
     "text": [
      "Exiting\n'posts: 22'\nPROGRESS: 12% (1466/11783)\nu'[Kormrok-Grasping Hands] (/forums/en/wow/topic/16885180184)'\n"
     ]
    },
    {
     "name": "stdout",
     "output_type": "stream",
     "text": [
      "Exiting\n'posts: 6'\nPROGRESS: 12% (1467/11783)\nu'[The bloodlegion..] (/forums/en/wow/topic/16946435252)'\n"
     ]
    },
    {
     "name": "stdout",
     "output_type": "stream",
     "text": [
      "[Errno 10054] An existing connection was forcibly closed by the remote host\nHTTPError = 404\n"
     ]
    },
    {
     "name": "stdout",
     "output_type": "stream",
     "text": [
      "Exiting\n'posts: 8'\nPROGRESS: 12% (1468/11783)\nu'[Killing Machine - Advice?] (/forums/en/wow/topic/16946545551)'\n"
     ]
    },
    {
     "name": "stdout",
     "output_type": "stream",
     "text": [
      "Exiting\n'posts: 9'\nPROGRESS: 12% (1469/11783)\nu'[Regarding Glacial Advance, a Frost DK talent.] (/forums/en/wow/topic/16884599907)'\nHTTPError = 404\n"
     ]
    },
    {
     "name": "stdout",
     "output_type": "stream",
     "text": [
      "Exiting\n'posts: 2'\nPROGRESS: 12% (1470/11783)\nu'[just saw the artifact weapons...] (/forums/en/wow/topic/16823472750)'\n"
     ]
    },
    {
     "name": "stdout",
     "output_type": "stream",
     "text": [
      "Exiting\n'posts: 37'\nPROGRESS: 12% (1471/11783)\nu'[Removal of Soul Reaper] (/forums/en/wow/topic/16885288386)'\n"
     ]
    },
    {
     "name": "stdout",
     "output_type": "stream",
     "text": [
      "Exiting\n'posts: 12'\nPROGRESS: 12% (1472/11783)\nu'[New to unholy - questions about festering and necrotic] (/forums/en/wow/topic/16885289318)'\n"
     ]
    },
    {
     "name": "stdout",
     "output_type": "stream",
     "text": [
      "Exiting\n'posts: 3'\nPROGRESS: 12% (1473/11783)\nu'[Artifact weapons on back] (/forums/en/wow/topic/16946614796)'\n"
     ]
    },
    {
     "name": "stdout",
     "output_type": "stream",
     "text": [
      "Exiting\n'posts: 11'\nPROGRESS: 12% (1474/11783)\nu'[Bonus armor = no attack power for dk] (/forums/en/wow/topic/16885180041)'\n"
     ]
    },
    {
     "name": "stdout",
     "output_type": "stream",
     "text": [
      "Exiting\n'posts: 6'\nPROGRESS: 12% (1475/11783)\nu'[frost pvp] (/forums/en/wow/topic/16884179429)'\n"
     ]
    },
    {
     "name": "stdout",
     "output_type": "stream",
     "text": [
      "Exiting\n'posts: 5'\nPROGRESS: 12% (1476/11783)\nu'[Death Knight Changes.] (/forums/en/wow/topic/16884179628)'\n"
     ]
    },
    {
     "name": "stdout",
     "output_type": "stream",
     "text": [
      "Exiting\n'posts: 5'\nPROGRESS: 12% (1477/11783)\nu'[Help with 2s/3s shizz] (/forums/en/wow/topic/16885179346)'\n"
     ]
    },
    {
     "name": "stdout",
     "output_type": "stream",
     "text": [
      "Exiting\n'posts: 2'\nPROGRESS: 12% (1478/11783)\nu'[Dk survivability] (/forums/en/wow/topic/16885178707)'\n"
     ]
    },
    {
     "name": "stdout",
     "output_type": "stream",
     "text": [
      "Exiting\n'posts: 13'\nPROGRESS: 12% (1479/11783)\nu'[Is having 2 legendary rings for dual specs...] (/forums/en/wow/topic/16946185263)'\n"
     ]
    },
    {
     "name": "stdout",
     "output_type": "stream",
     "text": [
      "Exiting\n'posts: 5'\nPROGRESS: 12% (1480/11783)\nu'[Disease Gameplay] (/forums/en/wow/topic/16883848697)'\n"
     ]
    },
    {
     "name": "stdout",
     "output_type": "stream",
     "text": [
      "[Errno 10054] An existing connection was forcibly closed by the remote host\n"
     ]
    },
    {
     "name": "stdout",
     "output_type": "stream",
     "text": [
      "Exiting\n'posts: 2'\nPROGRESS: 12% (1481/11783)\nu\"[A little trick for ya'll.] (/forums/en/wow/topic/16885289426)\"\n"
     ]
    },
    {
     "name": "stdout",
     "output_type": "stream",
     "text": [
      "Exiting\n'posts: 16'\nPROGRESS: 12% (1482/11783)\nu'[Unholy dps: NP vs BoS] (/forums/en/wow/topic/16885289475)'\n"
     ]
    },
    {
     "name": "stdout",
     "output_type": "stream",
     "text": [
      "Exiting\n'posts: 4'\nPROGRESS: 12% (1483/11783)\nu'[PvE Obliterate] (/forums/en/wow/topic/16946184969)'\n"
     ]
    },
    {
     "name": "stdout",
     "output_type": "stream",
     "text": [
      "Exiting\n'posts: 6'\nPROGRESS: 12% (1484/11783)\nu'[Ebon Hand Banner] (/forums/en/wow/topic/16885289588)'\n"
     ]
    },
    {
     "name": "stdout",
     "output_type": "stream",
     "text": [
      "Exiting\n'posts: 2'\nPROGRESS: 12% (1485/11783)\nu'[how to beat a dk] (/forums/en/wow/topic/16884959307)'\n"
     ]
    },
    {
     "name": "stdout",
     "output_type": "stream",
     "text": [
      "Exiting\n'posts: 19'\nPROGRESS: 12% (1486/11783)\nu'[UH PvP] (/forums/en/wow/topic/16885288889)'\n"
     ]
    },
    {
     "name": "stdout",
     "output_type": "stream",
     "text": [
      "Exiting\n'posts: 5'\nPROGRESS: 12% (1487/11783)\nu'[Legion ghoul issue] (/forums/en/wow/topic/16946434608)'\n"
     ]
    },
    {
     "name": "stdout",
     "output_type": "stream",
     "text": [
      "Exiting\n'posts: 3'\nPROGRESS: 12% (1488/11783)\nu'[Have frost DKs lost death coil] (/forums/en/wow/topic/16884178795)'\n"
     ]
    },
    {
     "name": "stdout",
     "output_type": "stream",
     "text": [
      "Exiting\n'posts: 3'\nPROGRESS: 12% (1489/11783)\nu'[Leaked Killing Machine changes] (/forums/en/wow/topic/16884178505)'\n"
     ]
    },
    {
     "name": "stdout",
     "output_type": "stream",
     "text": [
      "[Errno 10054] An existing connection was forcibly closed by the remote host\n"
     ]
    },
    {
     "name": "stdout",
     "output_type": "stream",
     "text": [
      "HTTPError = 404\n"
     ]
    },
    {
     "name": "stdout",
     "output_type": "stream",
     "text": [
      "Exiting\n'posts: 10'\nPROGRESS: 12% (1490/11783)\nu'[2H dps without a pet?] (/forums/en/wow/topic/16823542753)'\n"
     ]
    },
    {
     "name": "stdout",
     "output_type": "stream",
     "text": [
      "Exiting\n'posts: 42'\nPROGRESS: 12% (1491/11783)\nu'[recently returned to wow, need some DK catching up] (/forums/en/wow/topic/16885218975)'\n"
     ]
    },
    {
     "name": "stdout",
     "output_type": "stream",
     "text": [
      "Exiting\n'posts: 3'\nPROGRESS: 12% (1492/11783)\nu'[Yet another year in Ebon Hold] (/forums/en/wow/topic/16823462546)'\n"
     ]
    },
    {
     "name": "stdout",
     "output_type": "stream",
     "text": [
      "Exiting\n'posts: 12'\nPROGRESS: 12% (1493/11783)\nu'[Best Alliance Realm?] (/forums/en/wow/topic/6297782804)'\n"
     ]
    },
    {
     "name": "stdout",
     "output_type": "stream",
     "text": [
      "Exiting\n'posts: 46'\nPROGRESS: 12% (1494/11783)\nu'[Legion PvP could be a problem.] (/forums/en/wow/topic/16884958522)'\n"
     ]
    },
    {
     "name": "stdout",
     "output_type": "stream",
     "text": [
      "Exiting\n'posts: 6'\nPROGRESS: 12% (1495/11783)\nu'[Isnt Remoless winter supposed to deal damage in Legion] (/forums/en/wow/topic/16884598505)'\n"
     ]
    },
    {
     "name": "stdout",
     "output_type": "stream",
     "text": [
      "Exiting\n'posts: 3'\nPROGRESS: 12% (1496/11783)\nu'[Artifact trees now public.] (/forums/en/wow/topic/16884598541)'\n"
     ]
    },
    {
     "name": "stdout",
     "output_type": "stream",
     "text": [
      "Exiting\n'posts: 14'\nPROGRESS: 12% (1497/11783)\nu'[Legion Blood looks like fun.....] (/forums/en/wow/topic/16722772167)'\n"
     ]
    },
    {
     "name": "stdout",
     "output_type": "stream",
     "text": [
      "Exiting\n'posts: 12'\nPROGRESS: 12% (1498/11783)\nu'[Looking for a good Death Knight DPS (PvE)] (/forums/en/wow/topic/16742624134)'\n"
     ]
    },
    {
     "name": "stdout",
     "output_type": "stream",
     "text": [
      "Exiting\n'posts: 5'\nPROGRESS: 12% (1499/11783)\nu'[Multistrike] (/forums/en/wow/topic/13122975460)'\n"
     ]
    },
    {
     "name": "stdout",
     "output_type": "stream",
     "text": [
      "Exiting\n'posts: 15'\nPROGRESS: 12% (1500/11783)\n"
     ]
    },
    {
     "name": "stdout",
     "output_type": "stream",
     "text": [
      "u'[A plea to keep Blood tap in Legion] (/forums/en/wow/topic/16884178302)'\n"
     ]
    },
    {
     "name": "stdout",
     "output_type": "stream",
     "text": [
      "Exiting\n'posts: 12'\nPROGRESS: 12% (1501/11783)\nu'[Addon for runes] (/forums/en/wow/topic/16884178364)'\n"
     ]
    },
    {
     "name": "stdout",
     "output_type": "stream",
     "text": [
      "Exiting\n'posts: 5'\nPROGRESS: 12% (1502/11783)\nu'[Looking for a DW frost for some challenge mode.] (/forums/en/wow/topic/16885328461)'\n"
     ]
    },
    {
     "name": "stdout",
     "output_type": "stream",
     "text": [
      "Exiting\n'posts: 4'\nPROGRESS: 12% (1503/11783)\nu'[So....Dual wield vs Two handed.. Or just Unholy?] (/forums/en/wow/topic/16823542816)'\n"
     ]
    },
    {
     "name": "stdout",
     "output_type": "stream",
     "text": [
      "HTTPError = 404\n"
     ]
    },
    {
     "name": "stdout",
     "output_type": "stream",
     "text": [
      "Exiting\n'posts: 4'\nPROGRESS: 12% (1504/11783)\nu'[Whats better in pvp at lower levels of dk] (/forums/en/wow/topic/6297382962)'\n"
     ]
    },
    {
     "name": "stdout",
     "output_type": "stream",
     "text": [
      "Exiting\n'posts: 9'\nPROGRESS: 12% (1505/11783)\nu'[Legion PvP talents] (/forums/en/wow/topic/16823462610)'\n"
     ]
    },
    {
     "name": "stdout",
     "output_type": "stream",
     "text": [
      "Exiting\n'posts: 4'\nPROGRESS: 12% (1506/11783)\nu'[Unholy Legion talents discussion] (/forums/en/wow/topic/16824922679)'\n"
     ]
    },
    {
     "name": "stdout",
     "output_type": "stream",
     "text": [
      "Exiting\n'posts: 24'\nPROGRESS: 12% (1507/11783)\nu'[please keep 2h frost in legion!] (/forums/en/wow/topic/16823752681)'\n"
     ]
    },
    {
     "name": "stdout",
     "output_type": "stream",
     "text": [
      "Exiting\n'posts: 15'\nPROGRESS: 12% (1508/11783)\nu'[<Intervention> in search of DK for mythic] (/forums/en/wow/topic/16824532985)'\n"
     ]
    },
    {
     "name": "stdout",
     "output_type": "stream",
     "text": [
      "Exiting\n'posts: 1'\nPROGRESS: 12% (1509/11783)\nu'[DK in high demand for our 3/13 mythic raiding team] (/forums/en/wow/topic/16824532966)'\n"
     ]
    },
    {
     "name": "stdout",
     "output_type": "stream",
     "text": [
      "Exiting\n'posts: 2'\nPROGRESS: 12% (1510/11783)\nu'[So um.. Bloodworms are back \"Yay\"] (/forums/en/wow/topic/16824532936)'\n"
     ]
    },
    {
     "name": "stdout",
     "output_type": "stream",
     "text": [
      "Exiting\n'posts: 1'\nPROGRESS: 12% (1511/11783)\nu'[DK Mythic T19] (/forums/en/wow/topic/16824852925)'\n"
     ]
    },
    {
     "name": "stdout",
     "output_type": "stream",
     "text": [
      "Exiting\n'posts: 5'\nPROGRESS: 12% (1512/11783)\nu'[Damage galore 6.2.3] (/forums/en/wow/topic/16743014880)'\n"
     ]
    },
    {
     "name": "stdout",
     "output_type": "stream",
     "text": [
      "Exiting\n'posts: 16'\nPROGRESS: 12% (1513/11783)\nu'[Boosted DK , Need help about unholy.] (/forums/en/wow/topic/16823472201)'\n"
     ]
    },
    {
     "name": "stdout",
     "output_type": "stream",
     "text": [
      "Exiting\n'posts: 12'\nPROGRESS: 12% (1514/11783)\nu'[So soulreaper got removed.] (/forums/en/wow/topic/16824922640)'\n"
     ]
    },
    {
     "name": "stdout",
     "output_type": "stream",
     "text": [
      "Exiting\n'posts: 10'\nPROGRESS: 12% (1515/11783)\nu'[Question about trinkets] (/forums/en/wow/topic/16823542616)'\n"
     ]
    },
    {
     "name": "stdout",
     "output_type": "stream",
     "text": [
      "Exiting\n'posts: 4'\nPROGRESS: 12% (1516/11783)\nu'[Set Bonuses changing?] (/forums/en/wow/topic/16743805180)'\n"
     ]
    },
    {
     "name": "stdout",
     "output_type": "stream",
     "text": [
      "Exiting\n'posts: 6'\nPROGRESS: 12% (1517/11783)\nu'[Bloodworms are back] (/forums/en/wow/topic/16824532693)'\n"
     ]
    },
    {
     "name": "stdout",
     "output_type": "stream",
     "text": [
      "Exiting\n'posts: 1'\nPROGRESS: 12% (1518/11783)\nu'[Suggestion: re-imagining the Death Knight] (/forums/en/wow/topic/16823742640)'\n"
     ]
    },
    {
     "name": "stdout",
     "output_type": "stream",
     "text": [
      "Exiting\n'posts: 4'\nPROGRESS: 12% (1519/11783)\nu\"[[Legion] DW frost and 2H unholy doesn't make sense] (/forums/en/wow/topic/15162510913)\"\n"
     ]
    },
    {
     "name": "stdout",
     "output_type": "stream",
     "text": [
      "Exiting\n'posts: 48'\nPROGRESS: 12% (1520/11783)\nu'[Legion dks - glyphs..?] (/forums/en/wow/topic/16742885078)'\n"
     ]
    },
    {
     "name": "stdout",
     "output_type": "stream",
     "text": [
      "Exiting\n'posts: 11'\nPROGRESS: 12% (1521/11783)\nu'[Legion artifact weapon quest problem] (/forums/en/wow/topic/15161281937)'\n"
     ]
    },
    {
     "name": "stdout",
     "output_type": "stream",
     "text": [
      "Exiting\n'posts: 10'\nPROGRESS: 12% (1522/11783)\nu'[Back in game] (/forums/en/wow/topic/16823472329)'\n"
     ]
    },
    {
     "name": "stdout",
     "output_type": "stream",
     "text": [
      "[Errno 10054] An existing connection was forcibly closed by the remote host\n"
     ]
    },
    {
     "name": "stdout",
     "output_type": "stream",
     "text": [
      "Exiting\n'posts: 3'\nPROGRESS: 12% (1523/11783)\nu'[Need help with stats Frost DK Dual Wield] (/forums/en/wow/topic/16742625034)'\n"
     ]
    },
    {
     "name": "stdout",
     "output_type": "stream",
     "text": [
      "Exiting\n'posts: 8'\nPROGRESS: 12% (1524/11783)\nu'[Suggestion: more intuitive resource system.] (/forums/en/wow/topic/16743815018)'\nHTTPError = 404\n"
     ]
    },
    {
     "name": "stdout",
     "output_type": "stream",
     "text": [
      "Exiting\n'posts: 5'\nPROGRESS: 12% (1525/11783)\nu'[Newbie death knight needs some advice about gearing] (/forums/en/wow/topic/16820931939)'\n"
     ]
    },
    {
     "name": "stdout",
     "output_type": "stream",
     "text": [
      "Exiting\n'posts: 7'\nPROGRESS: 12% (1526/11783)\nu'[Obliterate is back ?] (/forums/en/wow/topic/16742794969)'\n"
     ]
    },
    {
     "name": "stdout",
     "output_type": "stream",
     "text": [
      "[Errno 10054] An existing connection was forcibly closed by the remote host\n"
     ]
    },
    {
     "name": "stdout",
     "output_type": "stream",
     "text": [
      "Exiting\n'posts: 6'\nPROGRESS: 12% (1527/11783)\nu'[Which Uh-Trinket with 6.2.3] (/forums/en/wow/topic/16742834761)'\n"
     ]
    },
    {
     "name": "stdout",
     "output_type": "stream",
     "text": [
      "Exiting\n'posts: 7'\nPROGRESS: 12% (1528/11783)\nu'[WHAT HAPEND TO DEATHKNIGHT?] (/forums/en/wow/topic/16743414515)'\n"
     ]
    },
    {
     "name": "stdout",
     "output_type": "stream",
     "text": [
      "Exiting\n'posts: 12'\nPROGRESS: 12% (1529/11783)\nu'[new talent idea] (/forums/en/wow/topic/16518332991)'\n"
     ]
    },
    {
     "name": "stdout",
     "output_type": "stream",
     "text": [
      "Exiting\n'posts: 10'\nPROGRESS: 12% (1530/11783)\nu'[OmniCC and rune timer] (/forums/en/wow/topic/16743805030)'\n"
     ]
    },
    {
     "name": "stdout",
     "output_type": "stream",
     "text": [
      "Exiting\n'posts: 1'\nPROGRESS: 12% (1531/11783)\nu'[Blood stat % soft caps?] (/forums/en/wow/topic/16742624853)'\n"
     ]
    },
    {
     "name": "stdout",
     "output_type": "stream",
     "text": [
      "[Errno 10054] An existing connection was forcibly closed by the remote host\n"
     ]
    },
    {
     "name": "stdout",
     "output_type": "stream",
     "text": [
      "Exiting\n'posts: 4'\nPROGRESS: 13% (1532/11783)\nu'[frost 2h pvp stat prio] (/forums/en/wow/topic/13901850435)'\n"
     ]
    },
    {
     "name": "stdout",
     "output_type": "stream",
     "text": [
      "[Errno 10054] An existing connection was forcibly closed by the remote host\n"
     ]
    },
    {
     "name": "stdout",
     "output_type": "stream",
     "text": [
      "Exiting\n'posts: 16'\nPROGRESS: 13% (1533/11783)\nu'[They should have made this a 2h Unholy sword] (/forums/en/wow/topic/16742874223)'\nHTTPError = 404\n"
     ]
    },
    {
     "name": "stdout",
     "output_type": "stream",
     "text": [
      "Exiting\n'posts: 8'\nPROGRESS: 13% (1534/11783)\nu'[news about our necrotic strike.] (/forums/en/wow/topic/16723662199)'\n"
     ]
    },
    {
     "name": "stdout",
     "output_type": "stream",
     "text": [
      "Exiting\n'posts: 7'\nPROGRESS: 13% (1535/11783)\nu'[Conversion is useless] (/forums/en/wow/topic/16742834190)'\n"
     ]
    },
    {
     "name": "stdout",
     "output_type": "stream",
     "text": [
      "Exiting\n'posts: 6'\nPROGRESS: 13% (1536/11783)\nu'[1 rune is fine] (/forums/en/wow/topic/16742624118)'\nHTTPError = 404\n"
     ]
    },
    {
     "name": "stdout",
     "output_type": "stream",
     "text": [
      "Exiting\n'posts: 28'\nPROGRESS: 13% (1537/11783)\nu'[Greatest DK Macro] (/forums/en/wow/topic/16744344290)'\n"
     ]
    },
    {
     "name": "stdout",
     "output_type": "stream",
     "text": [
      "Exiting\n'posts: 4'\nPROGRESS: 13% (1538/11783)\nu'[Frost vs Unholy DPS] (/forums/en/wow/topic/16519933073)'\n"
     ]
    },
    {
     "name": "stdout",
     "output_type": "stream",
     "text": [
      "Exiting\n'posts: 7'\nPROGRESS: 13% (1539/11783)\nu'[Troll Death Knight] (/forums/en/wow/topic/1820913873)'\n"
     ]
    },
    {
     "name": "stdout",
     "output_type": "stream",
     "text": [
      "Exiting\n'posts: 15'\nPROGRESS: 13% (1540/11783)\nu'[Soul Reaper in Legion] (/forums/en/wow/topic/16517813009)'\n"
     ]
    },
    {
     "name": "stdout",
     "output_type": "stream",
     "text": [
      "Exiting\n'posts: 8'\nPROGRESS: 13% (1541/11783)\nu'[LMFAO only 1 rune in legion?] (/forums/en/wow/topic/16518042646)'\n"
     ]
    },
    {
     "name": "stdout",
     "output_type": "stream",
     "text": [
      "Exiting\n'posts: 72'\nPROGRESS: 13% (1542/11783)\nu'[Should i Roll a DK?] (/forums/en/wow/topic/16518932163)'\n"
     ]
    },
    {
     "name": "stdout",
     "output_type": "stream",
     "text": [
      "Exiting\n'posts: 10'\nPROGRESS: 13% (1543/11783)\nu'[Blood Death Knight Addons] (/forums/en/wow/topic/16519282220)'\n"
     ]
    },
    {
     "name": "stdout",
     "output_type": "stream",
     "text": [
      "Exiting\n'posts: 5'\nPROGRESS: 13% (1544/11783)\nu'[UH help] (/forums/en/wow/topic/16743814304)'\n"
     ]
    },
    {
     "name": "stdout",
     "output_type": "stream",
     "text": [
      "Exiting\n'posts: 6'\nPROGRESS: 13% (1545/11783)\nu'[Dk class preview] (/forums/en/wow/topic/16519933075)'\n"
     ]
    },
    {
     "name": "stdout",
     "output_type": "stream",
     "text": [
      "Exiting\n'posts: 39'\nPROGRESS: 13% (1546/11783)\nu'[Frost DK PVP - 2H vs DualW.] (/forums/en/wow/topic/16722942283)'\n"
     ]
    },
    {
     "name": "stdout",
     "output_type": "stream",
     "text": [
      "Exiting\n'posts: 2'\nPROGRESS: 13% (1547/11783)\nu'[Soul Reaper cooldowns - PvE] (/forums/en/wow/topic/16722582156)'\n"
     ]
    },
    {
     "name": "stdout",
     "output_type": "stream",
     "text": [
      "Exiting\n'posts: 3'\nPROGRESS: 13% (1548/11783)\nu'[Unholy AoE in Legion - fantasy and playstyle] (/forums/en/wow/topic/16517813000)'\n"
     ]
    },
    {
     "name": "stdout",
     "output_type": "stream",
     "text": [
      "Exiting\n'posts: 12'\nPROGRESS: 13% (1549/11783)\nu'[Alot of new abilities from Wowhead] (/forums/en/wow/topic/16722552106)'\n"
     ]
    },
    {
     "name": "stdout",
     "output_type": "stream",
     "text": [
      "Exiting\n'posts: 1'\nPROGRESS: 13% (1550/11783)\n"
     ]
    },
    {
     "name": "stdout",
     "output_type": "stream",
     "text": [
      "u'[Unholy DK artifact weapon] (/forums/en/wow/topic/16518332515)'\n"
     ]
    },
    {
     "name": "stdout",
     "output_type": "stream",
     "text": [
      "Exiting\n'posts: 19'\nPROGRESS: 13% (1551/11783)\nu'[Put it up alread!] (/forums/en/wow/topic/16518932940)'\n"
     ]
    },
    {
     "name": "stdout",
     "output_type": "stream",
     "text": [
      "Exiting\n'posts: 2'\nPROGRESS: 13% (1552/11783)\nu'[BoS as UH] (/forums/en/wow/topic/16519022834)'\n"
     ]
    },
    {
     "name": "stdout",
     "output_type": "stream",
     "text": [
      "Exiting\n'posts: 4'\nPROGRESS: 13% (1553/11783)\nu'[Soloing heart of fear] (/forums/en/wow/topic/16517912838)'\n"
     ]
    },
    {
     "name": "stdout",
     "output_type": "stream",
     "text": [
      "Exiting\n'posts: 5'\nPROGRESS: 13% (1554/11783)\nu'[Frost DW newb, halp!] (/forums/en/wow/topic/16519282935)'\n"
     ]
    },
    {
     "name": "stdout",
     "output_type": "stream",
     "text": [
      "Exiting\n'posts: 2'\nPROGRESS: 13% (1555/11783)\nu'[6.2 Unholy or Frost for pve?] (/forums/en/wow/topic/14381348677)'\n"
     ]
    },
    {
     "name": "stdout",
     "output_type": "stream",
     "text": [
      "Exiting\n'posts: 11'\nPROGRESS: 13% (1556/11783)\nu'[Unholy AoE made simple] (/forums/en/wow/topic/16519282928)'\n"
     ]
    },
    {
     "name": "stdout",
     "output_type": "stream",
     "text": [
      "Exiting\n'posts: 3'\nPROGRESS: 13% (1557/11783)\nu'[Simple Unholy rotation possible?] (/forums/en/wow/topic/16518332870)'\n"
     ]
    },
    {
     "name": "stdout",
     "output_type": "stream",
     "text": [
      "Exiting\n'posts: 3'\nPROGRESS: 13% (1558/11783)\nu'[How do you DKs feel?] (/forums/en/wow/topic/16518382810)'\n"
     ]
    },
    {
     "name": "stdout",
     "output_type": "stream",
     "text": [
      "Exiting\n'posts: 7'\nPROGRESS: 13% (1559/11783)\nu'[Hey blizz] (/forums/en/wow/topic/16518582721)'\n"
     ]
    },
    {
     "name": "stdout",
     "output_type": "stream",
     "text": [
      "Exiting\n'posts: 2'\nPROGRESS: 13% (1560/11783)\nu'[2 handed vs Dual wield] (/forums/en/wow/topic/16520702805)'\n"
     ]
    },
    {
     "name": "stdout",
     "output_type": "stream",
     "text": [
      "[Errno 10054] An existing connection was forcibly closed by the remote host\n"
     ]
    },
    {
     "name": "stdout",
     "output_type": "stream",
     "text": [
      "Exiting\n'posts: 4'\nPROGRESS: 13% (1561/11783)\nu'[Is frost DW pleasing to the eye?] (/forums/en/wow/topic/16518042474)'\n"
     ]
    },
    {
     "name": "stdout",
     "output_type": "stream",
     "text": [
      "Exiting\n'posts: 6'\nPROGRESS: 13% (1562/11783)\nu'[New Legion DK info] (/forums/en/wow/topic/16517812688)'\n"
     ]
    },
    {
     "name": "stdout",
     "output_type": "stream",
     "text": [
      "Exiting\n'posts: 6'\nPROGRESS: 13% (1563/11783)\nu'[Please improve the DK Glyphs] (/forums/en/wow/topic/16518332073)'\n"
     ]
    },
    {
     "name": "stdout",
     "output_type": "stream",
     "text": [
      "Exiting\n'posts: 5'\nPROGRESS: 13% (1564/11783)\nu'[Low dmg at low lvl =<] (/forums/en/wow/topic/16519282482)'\n"
     ]
    },
    {
     "name": "stdout",
     "output_type": "stream",
     "text": [
      "Exiting\n'posts: 6'\nPROGRESS: 13% (1565/11783)\nu'[Best 2 handed annimations] (/forums/en/wow/topic/16519022325)'\nHTTPError = 404\n"
     ]
    },
    {
     "name": "stdout",
     "output_type": "stream",
     "text": [
      "[Errno 10054] An existing connection was forcibly closed by the remote host\n"
     ]
    },
    {
     "name": "stdout",
     "output_type": "stream",
     "text": [
      "Exiting\n'posts: 9'\nPROGRESS: 13% (1566/11783)\nu'[Frost DK wish list LEGION] (/forums/en/wow/topic/16518042234)'\n"
     ]
    },
    {
     "name": "stdout",
     "output_type": "stream",
     "text": [
      "Exiting\n'posts: 21'\nPROGRESS: 13% (1567/11783)\nu'[Fixing frost DK pve scaling - brainstorm] (/forums/en/wow/topic/6893511005)'\n"
     ]
    },
    {
     "name": "stdout",
     "output_type": "stream",
     "text": [
      "Exiting\n'posts: 14'\nPROGRESS: 13% (1568/11783)\nu'[Rune Add-on] (/forums/en/wow/topic/16517911755)'\nHTTPError = 404\n"
     ]
    },
    {
     "name": "stdout",
     "output_type": "stream",
     "text": [
      "Exiting\n'posts: 5'\nPROGRESS: 13% (1569/11783)\nu'[DK buffs incoming] (/forums/en/wow/topic/16518382280)'\n"
     ]
    },
    {
     "name": "stdout",
     "output_type": "stream",
     "text": [
      "Exiting\n'posts: 23'\nPROGRESS: 13% (1570/11783)\nu'[My Unholy Wishlist (Legion)] (/forums/en/wow/topic/16203140352)'\n"
     ]
    },
    {
     "name": "stdout",
     "output_type": "stream",
     "text": [
      "Exiting\n'posts: 18'\nPROGRESS: 13% (1571/11783)\nu'[Frost or Necroblight?] (/forums/en/wow/topic/16519932135)'\n"
     ]
    },
    {
     "name": "stdout",
     "output_type": "stream",
     "text": [
      "Exiting\n'posts: 4'\nPROGRESS: 13% (1572/11783)\nu'[Illusion weapon enchant] (/forums/en/wow/topic/16518582170)'\n"
     ]
    },
    {
     "name": "stdout",
     "output_type": "stream",
     "text": [
      "Exiting\n'posts: 6'\nPROGRESS: 13% (1573/11783)\nu'[Are Blood Death Knights Really That Bad?] (/forums/en/wow/topic/16413411443)'\n"
     ]
    },
    {
     "name": "stdout",
     "output_type": "stream",
     "text": [
      "Exiting\n'posts: 16'\nPROGRESS: 13% (1574/11783)\nu'[Dueling other frost dk with 2H] (/forums/en/wow/topic/16518042316)'\n"
     ]
    },
    {
     "name": "stdout",
     "output_type": "stream",
     "text": [
      "Exiting\n'posts: 7'\nPROGRESS: 13% (1575/11783)\nu\"[Arena 2's question] (/forums/en/wow/topic/16518932248)\"\n"
     ]
    },
    {
     "name": "stdout",
     "output_type": "stream",
     "text": [
      "Exiting\n'posts: 4'\nPROGRESS: 13% (1576/11783)\nu'[Unholy in Legion.] (/forums/en/wow/topic/16070657722)'\n"
     ]
    },
    {
     "name": "stdout",
     "output_type": "stream",
     "text": [
      "Exiting\n'posts: 12'\nPROGRESS: 13% (1577/11783)\nu'[Does DKs needs DPS buff (PVE)?] (/forums/en/wow/topic/15940394107)'\n"
     ]
    },
    {
     "name": "stdout",
     "output_type": "stream",
     "text": [
      "Exiting\n'posts: 24'\nPROGRESS: 13% (1578/11783)\nu'[Significantly low dps compared to others] (/forums/en/wow/topic/16518381692)'\n"
     ]
    },
    {
     "name": "stdout",
     "output_type": "stream",
     "text": [
      "Exiting\n'posts: 7'\nPROGRESS: 13% (1579/11783)\nu'[At what point does dual wield...] (/forums/en/wow/topic/16069777630)'\n"
     ]
    },
    {
     "name": "stdout",
     "output_type": "stream",
     "text": [
      "Exiting\n'posts: 31'\nPROGRESS: 13% (1580/11783)\nu'[Frost DK - 685 iLvL, how can I improve dps?] (/forums/en/wow/topic/16482748111)'\n"
     ]
    },
    {
     "name": "stdout",
     "output_type": "stream",
     "text": [
      "Exiting\n'posts: 5'\nPROGRESS: 13% (1581/11783)\nu'[Pvp and Pve Stat priority] (/forums/en/wow/topic/16392709360)'\n"
     ]
    },
    {
     "name": "stdout",
     "output_type": "stream",
     "text": [
      "[Errno 10054] An existing connection was forcibly closed by the remote host\n"
     ]
    },
    {
     "name": "stdout",
     "output_type": "stream",
     "text": [
      "[Errno 10054] An existing connection was forcibly closed by the remote host\nHTTPError = 404\n"
     ]
    },
    {
     "name": "stdout",
     "output_type": "stream",
     "text": [
      "Exiting\n'posts: 4'\nPROGRESS: 13% (1582/11783)\nu'[How do I stop missing on raiders dummy and WoD bosses?] (/forums/en/wow/topic/16466816549)'\n"
     ]
    },
    {
     "name": "stdout",
     "output_type": "stream",
     "text": [
      "Exiting\n'posts: 3'\nPROGRESS: 13% (1583/11783)\nu'[Searching for Shoulder pads with feather (Transmog)] (/forums/en/wow/topic/16463696225)'\n"
     ]
    },
    {
     "name": "stdout",
     "output_type": "stream",
     "text": [
      "Exiting\n'posts: 2'\nPROGRESS: 13% (1584/11783)\nu\"[Reaper's Harvest - Wandering plague + ElvUI] (/forums/en/wow/topic/16413411178)\"\n"
     ]
    },
    {
     "name": "stdout",
     "output_type": "stream",
     "text": [
      "Exiting\n'posts: 4'\nPROGRESS: 13% (1585/11783)\nu'[issues with DW DPS] (/forums/en/wow/topic/16392759160)'\nHTTPError = 404\n"
     ]
    },
    {
     "name": "stdout",
     "output_type": "stream",
     "text": [
      "Exiting\n'posts: 7'\nPROGRESS: 13% (1586/11783)\nu'[The Light of Dawn: is there a way to replay the event?] (/forums/en/wow/topic/16392279228)'\n"
     ]
    },
    {
     "name": "stdout",
     "output_type": "stream",
     "text": [
      "Exiting\n'posts: 2'\nPROGRESS: 13% (1587/11783)\nu'[Trinkets for Blood / UH?] (/forums/en/wow/topic/16392559184)'\n"
     ]
    },
    {
     "name": "stdout",
     "output_type": "stream",
     "text": [
      "Exiting\n'posts: 3'\nPROGRESS: 13% (1588/11783)\nu'[New blood DK] (/forums/en/wow/topic/16202760896)'\n"
     ]
    },
    {
     "name": "stdout",
     "output_type": "stream",
     "text": [
      "Exiting\n'posts: 23'\nPROGRESS: 13% (1589/11783)\nu'[Mastery PVP Gear] (/forums/en/wow/topic/16202681227)'\n"
     ]
    },
    {
     "name": "stdout",
     "output_type": "stream",
     "text": [
      "Exiting\n'posts: 5'\nPROGRESS: 13% (1590/11783)\nu'[Infinite Bos?] (/forums/en/wow/topic/16203580740)'\nHTTPError = 404\n"
     ]
    },
    {
     "name": "stdout",
     "output_type": "stream",
     "text": [
      "Exiting\n'posts: 8'\nPROGRESS: 13% (1591/11783)\nu'[6.2.3. UH Trinket choice] (/forums/en/wow/topic/16202640740)'\nHTTPError = 404\n"
     ]
    },
    {
     "name": "stdout",
     "output_type": "stream",
     "text": [
      "Exiting\n'posts: 10'\nPROGRESS: 13% (1592/11783)\nu'[Unholy tanking] (/forums/en/wow/topic/16203640903)'\n"
     ]
    },
    {
     "name": "stdout",
     "output_type": "stream",
     "text": [
      "Exiting\n'posts: 5'\nPROGRESS: 13% (1593/11783)\nu'[Frost DK novice needs help...] (/forums/en/wow/topic/16202560914)'\n"
     ]
    },
    {
     "name": "stdout",
     "output_type": "stream",
     "text": [
      "HTTPError = 404\n"
     ]
    },
    {
     "name": "stdout",
     "output_type": "stream",
     "text": [
      "Exiting\n'posts: 9'\nPROGRESS: 13% (1594/11783)\nu'[Please help, blood or frost (Read thread)] (/forums/en/wow/topic/16202840889)'\n"
     ]
    },
    {
     "name": "stdout",
     "output_type": "stream",
     "text": [
      "Exiting\n'posts: 6'\nPROGRESS: 13% (1595/11783)\nu'[fk off 100 % passive parry class] (/forums/en/wow/topic/16204030864)'\n"
     ]
    },
    {
     "name": "stdout",
     "output_type": "stream",
     "text": [
      "Exiting\n'posts: 9'\nPROGRESS: 13% (1596/11783)\nu\"[UH dk's viable throughout HFC?] (/forums/en/wow/topic/16204031059)\"\n"
     ]
    },
    {
     "name": "stdout",
     "output_type": "stream",
     "text": [
      "Exiting\n'posts: 3'\nPROGRESS: 13% (1597/11783)\nu'[any dk challanger mode guide?] (/forums/en/wow/topic/16203580799)'\n"
     ]
    },
    {
     "name": "stdout",
     "output_type": "stream",
     "text": [
      "Exiting\n'posts: 2'\nPROGRESS: 13% (1598/11783)\nu'[PvE Necrotic Plague vs Standart desease] (/forums/en/wow/topic/16202760348)'\n"
     ]
    },
    {
     "name": "stdout",
     "output_type": "stream",
     "text": [
      "Exiting\n'posts: 7'\nPROGRESS: 13% (1599/11783)\nu'[Soul reaper wa for frost and unholy] (/forums/en/wow/topic/16204030954)'\n"
     ]
    },
    {
     "name": "stdout",
     "output_type": "stream",
     "text": [
      "Exiting\n'posts: 2'\nPROGRESS: 13% (1600/11783)\n"
     ]
    },
    {
     "name": "stdout",
     "output_type": "stream",
     "text": [
      "u'[How to start PvE with fresh 100lvl DK] (/forums/en/wow/topic/16203370800)'\n"
     ]
    },
    {
     "name": "stdout",
     "output_type": "stream",
     "text": [
      "Exiting\n'posts: 4'\nPROGRESS: 13% (1601/11783)\nu'[DW Enchants] (/forums/en/wow/topic/16202680794)'\n"
     ]
    },
    {
     "name": "stdout",
     "output_type": "stream",
     "text": [
      "Exiting\n'posts: 2'\nPROGRESS: 13% (1602/11783)\nu'[Challenge mode! Need som advice please!] (/forums/en/wow/topic/16202760724)'\n"
     ]
    },
    {
     "name": "stdout",
     "output_type": "stream",
     "text": [
      "Exiting\n'posts: 4'\nPROGRESS: 13% (1603/11783)\nu'[Can we clear this out once and for all?] (/forums/en/wow/topic/16204160360)'\n"
     ]
    },
    {
     "name": "stdout",
     "output_type": "stream",
     "text": [
      "Exiting\n'posts: 11'\nPROGRESS: 13% (1604/11783)\nu'[From Frost DW to Unholy] (/forums/en/wow/topic/16203370574)'\n"
     ]
    },
    {
     "name": "stdout",
     "output_type": "stream",
     "text": [
      "Exiting\n'posts: 27'\nPROGRESS: 13% (1605/11783)\nu'[Help with DPS] (/forums/en/wow/topic/16204030745)'\n"
     ]
    },
    {
     "name": "stdout",
     "output_type": "stream",
     "text": [
      "Exiting\n'posts: 2'\nPROGRESS: 13% (1606/11783)\nu'[i want to learn to tank] (/forums/en/wow/topic/16204160566)'\n"
     ]
    },
    {
     "name": "stdout",
     "output_type": "stream",
     "text": [
      "Exiting\n'posts: 3'\nPROGRESS: 13% (1607/11783)\nu'[Possible to start DK?] (/forums/en/wow/topic/16203140519)'\n"
     ]
    },
    {
     "name": "stdout",
     "output_type": "stream",
     "text": [
      "Exiting\n'posts: 3'\nPROGRESS: 13% (1608/11783)\nu'[Why does everyone hate the unholy pet?] (/forums/en/wow/topic/15999520097)'\n"
     ]
    },
    {
     "name": "stdout",
     "output_type": "stream",
     "text": [
      "Exiting\n'posts: 19'\nPROGRESS: 13% (1609/11783)\nu'[Death Knight Halls & Legion Ideas] (/forums/en/wow/topic/16069847883)'\n"
     ]
    },
    {
     "name": "stdout",
     "output_type": "stream",
     "text": [
      "Exiting\n'posts: 8'\nPROGRESS: 13% (1610/11783)\nu'[Trinket on Xhul] (/forums/en/wow/topic/16070017908)'\n"
     ]
    },
    {
     "name": "stdout",
     "output_type": "stream",
     "text": [
      "Exiting\n'posts: 7'\nPROGRESS: 13% (1611/11783)\nu'[Howling blast looks darker?] (/forums/en/wow/topic/16203630305)'\n"
     ]
    },
    {
     "name": "stdout",
     "output_type": "stream",
     "text": [
      "Exiting\n'posts: 2'\nPROGRESS: 13% (1612/11783)\nu'[Necrotic strike will come back] (/forums/en/wow/topic/14213361478)'\n"
     ]
    },
    {
     "name": "stdout",
     "output_type": "stream",
     "text": [
      "Exiting\n'posts: 66'\nPROGRESS: 13% (1613/11783)\nu'[Picking a Tank.] (/forums/en/wow/topic/16069837651)'\n"
     ]
    },
    {
     "name": "stdout",
     "output_type": "stream",
     "text": [
      "Exiting\n'posts: 7'\nPROGRESS: 13% (1614/11783)\nu'[Easiest - Unholy/Frost PvP] (/forums/en/wow/topic/16069777778)'\n"
     ]
    },
    {
     "name": "stdout",
     "output_type": "stream",
     "text": [
      "Exiting\n'posts: 8'\nPROGRESS: 13% (1615/11783)\nu'[Any usefull guides for UH?] (/forums/en/wow/topic/16071017234)'\n"
     ]
    },
    {
     "name": "stdout",
     "output_type": "stream",
     "text": [
      "Exiting\n'posts: 7'\nPROGRESS: 13% (1616/11783)\nu'[Hi] (/forums/en/wow/topic/16070017666)'\n"
     ]
    },
    {
     "name": "stdout",
     "output_type": "stream",
     "text": [
      "Exiting\n'posts: 10'\nPROGRESS: 13% (1617/11783)\nu'[Rate the Death Knight transmog above you part 6] (/forums/en/wow/topic/13987410523)'\n"
     ]
    },
    {
     "name": "stdout",
     "output_type": "stream",
     "text": [
      "HTTPError = 404\n"
     ]
    },
    {
     "name": "stdout",
     "output_type": "stream",
     "text": [
      "[Errno 10054] An existing connection was forcibly closed by the remote host\n"
     ]
    },
    {
     "name": "stdout",
     "output_type": "stream",
     "text": [
      "HTTPError = 404\n"
     ]
    },
    {
     "name": "stdout",
     "output_type": "stream",
     "text": [
      "HTTPError = 404\n"
     ]
    },
    {
     "name": "stdout",
     "output_type": "stream",
     "text": [
      "[Errno 10054] An existing connection was forcibly closed by the remote host\n"
     ]
    },
    {
     "name": "stdout",
     "output_type": "stream",
     "text": [
      "Exiting\n'posts: 490'\nPROGRESS: 13% (1618/11783)\nu'[udead or belf dk?] (/forums/en/wow/topic/15161423225)'\n"
     ]
    },
    {
     "name": "stdout",
     "output_type": "stream",
     "text": [
      "Exiting\n'posts: 12'\nPROGRESS: 13% (1619/11783)\nu'[why killing 2h frost?] (/forums/en/wow/topic/15161893110)'\n"
     ]
    },
    {
     "name": "stdout",
     "output_type": "stream",
     "text": [
      "Exiting\n'posts: 54'\nPROGRESS: 13% (1620/11783)\nu'[Questions Concerning DKs] (/forums/en/wow/topic/16070857415)'\n"
     ]
    },
    {
     "name": "stdout",
     "output_type": "stream",
     "text": [
      "Exiting\n'posts: 8'\nPROGRESS: 13% (1621/11783)\nu'[What is the Best Weapon for Level 80? Are PvP weapons?] (/forums/en/wow/topic/16070117497)'\n"
     ]
    },
    {
     "name": "stdout",
     "output_type": "stream",
     "text": [
      "[Errno 10054] An existing connection was forcibly closed by the remote host\n"
     ]
    },
    {
     "name": "stdout",
     "output_type": "stream",
     "text": [
      "Exiting\n'posts: 4'\nPROGRESS: 13% (1622/11783)\nu'[UI Help Needed (Diseases etc)] (/forums/en/wow/topic/16070117402)'\n"
     ]
    },
    {
     "name": "stdout",
     "output_type": "stream",
     "text": [
      "HTTPError = 404\n"
     ]
    },
    {
     "name": "stdout",
     "output_type": "stream",
     "text": [
      "[Errno 10054] An existing connection was forcibly closed by the remote host\n"
     ]
    },
    {
     "name": "stdout",
     "output_type": "stream",
     "text": [
      "Exiting\n'posts: 4'\nPROGRESS: 13% (1623/11783)\nu'[Frost dk PvP- 2h or Dw?] (/forums/en/wow/topic/13113291305)'\n"
     ]
    },
    {
     "name": "stdout",
     "output_type": "stream",
     "text": [
      "Exiting\n'posts: 24'\nPROGRESS: 13% (1624/11783)\nu'[2v2 Comp to run] (/forums/en/wow/topic/16070387281)'\n"
     ]
    },
    {
     "name": "stdout",
     "output_type": "stream",
     "text": [
      "Exiting\n'posts: 2'\nPROGRESS: 13% (1625/11783)\nu'[Gorefiends Grasp] (/forums/en/wow/topic/16070017287)'\n"
     ]
    },
    {
     "name": "stdout",
     "output_type": "stream",
     "text": [
      "Exiting\n'posts: 2'\nPROGRESS: 13% (1626/11783)\nu'[BiS PVP gear for DW Frost DK] (/forums/en/wow/topic/15998749793)'\n"
     ]
    },
    {
     "name": "stdout",
     "output_type": "stream",
     "text": [
      "Exiting\n'posts: 11'\nPROGRESS: 13% (1627/11783)\nu'[DPS issue as Frost] (/forums/en/wow/topic/16070657187)'\n"
     ]
    },
    {
     "name": "stdout",
     "output_type": "stream",
     "text": [
      "Exiting\n'posts: 4'\nPROGRESS: 13% (1628/11783)\nu'[Legion death knight reworks] (/forums/en/wow/topic/15999290095)'\nHTTPError = 404\n"
     ]
    },
    {
     "name": "stdout",
     "output_type": "stream",
     "text": [
      "Exiting\n'posts: 5'\nPROGRESS: 13% (1629/11783)\nu'[Blood Tap Question] (/forums/en/wow/topic/15161352422)'\n"
     ]
    },
    {
     "name": "stdout",
     "output_type": "stream",
     "text": [
      "Exiting\n'posts: 11'\nPROGRESS: 13% (1630/11783)\nu'[Devs have forgotten their own DK lore. Shameful!] (/forums/en/wow/topic/15889749277)'\n"
     ]
    },
    {
     "name": "stdout",
     "output_type": "stream",
     "text": [
      "[Errno 10054] An existing connection was forcibly closed by the remote host\n"
     ]
    },
    {
     "name": "stdout",
     "output_type": "stream",
     "text": [
      "Exiting\n'posts: 28'\nPROGRESS: 13% (1631/11783)\nu'[Warrior or DK tanking] (/forums/en/wow/topic/15998889900)'\n"
     ]
    },
    {
     "name": "stdout",
     "output_type": "stream",
     "text": [
      "Exiting\n'posts: 6'\nPROGRESS: 13% (1632/11783)\nu'[PvE trinkets in PvP] (/forums/en/wow/topic/14369116850)'\n"
     ]
    },
    {
     "name": "stdout",
     "output_type": "stream",
     "text": [
      "Exiting\n'posts: 10'\nPROGRESS: 13% (1633/11783)\nu'[Continue Questline?] (/forums/en/wow/topic/15998890328)'\n"
     ]
    },
    {
     "name": "stdout",
     "output_type": "stream",
     "text": [
      "Exiting\n'posts: 4'\nPROGRESS: 13% (1634/11783)\nu'[Coming back to WoW] (/forums/en/wow/topic/15941154491)'\n"
     ]
    },
    {
     "name": "stdout",
     "output_type": "stream",
     "text": [
      "Exiting\n'posts: 3'\nPROGRESS: 13% (1635/11783)\nu'[Advice for casual DK ?] (/forums/en/wow/topic/15998870060)'\n"
     ]
    },
    {
     "name": "stdout",
     "output_type": "stream",
     "text": [
      "Exiting\n'posts: 7'\nPROGRESS: 13% (1636/11783)\nu'[Wits End with DW Frost DPS] (/forums/en/wow/topic/15999520073)'\n"
     ]
    },
    {
     "name": "stdout",
     "output_type": "stream",
     "text": [
      "Exiting\n'posts: 18'\nPROGRESS: 13% (1637/11783)\nu\"[Dear DW Frost DK's(pve) haste ?] (/forums/en/wow/topic/15939834511)\"\n"
     ]
    },
    {
     "name": "stdout",
     "output_type": "stream",
     "text": [
      "Exiting\n'posts: 3'\nPROGRESS: 13% (1638/11783)\nu'[Blood DK PvP Help,] (/forums/en/wow/topic/15999949937)'\n"
     ]
    },
    {
     "name": "stdout",
     "output_type": "stream",
     "text": [
      "Exiting\n'posts: 5'\nPROGRESS: 13% (1639/11783)\nu\"[Deathknights in Legion, What i'd like to see. and you?] (/forums/en/wow/topic/15161332482)\"\n"
     ]
    },
    {
     "name": "stdout",
     "output_type": "stream",
     "text": [
      "Exiting\n'posts: 23'\nPROGRESS: 13% (1640/11783)\nu'[ideas for UH with new Legion talent system] (/forums/en/wow/topic/15889748859)'\n"
     ]
    },
    {
     "name": "stdout",
     "output_type": "stream",
     "text": [
      "Exiting\n'posts: 10'\nPROGRESS: 13% (1641/11783)\nu'[Blizzard Make Blood DPS viable please....] (/forums/en/wow/topic/15940034292)'\n"
     ]
    },
    {
     "name": "stdout",
     "output_type": "stream",
     "text": [
      "Exiting\n'posts: 11'\nPROGRESS: 13% (1642/11783)\nu'[Dk Legion Artifact suggestion. (small but interesting)] (/forums/en/wow/topic/15999949913)'\n"
     ]
    },
    {
     "name": "stdout",
     "output_type": "stream",
     "text": [
      "Exiting\n'posts: 5'\nPROGRESS: 13% (1643/11783)\nu'[Death Knights... the clingy class...] (/forums/en/wow/topic/15889259248)'\n"
     ]
    },
    {
     "name": "stdout",
     "output_type": "stream",
     "text": [
      "Exiting\n'posts: 14'\nPROGRESS: 13% (1644/11783)\nu'[Rivendare set] (/forums/en/wow/topic/15890088971)'\n"
     ]
    },
    {
     "name": "stdout",
     "output_type": "stream",
     "text": [
      "Exiting\n'posts: 5'\nPROGRESS: 13% (1645/11783)\nu'[The overlooked talent combo in PvP] (/forums/en/wow/topic/15940274237)'\n"
     ]
    },
    {
     "name": "stdout",
     "output_type": "stream",
     "text": [
      "Exiting\n'posts: 6'\nPROGRESS: 13% (1646/11783)\nu'[Broken minion] (/forums/en/wow/topic/15938884383)'\n"
     ]
    },
    {
     "name": "stdout",
     "output_type": "stream",
     "text": [
      "Exiting\n'posts: 3'\nPROGRESS: 13% (1647/11783)\nu'[Twin Emperors of RAGEQUIT!!!] (/forums/en/wow/topic/15889489307)'\n"
     ]
    },
    {
     "name": "stdout",
     "output_type": "stream",
     "text": [
      "Exiting\n'posts: 9'\nPROGRESS: 13% (1648/11783)\nu'[Death Knights in Arenas] (/forums/en/wow/topic/15941154385)'\n"
     ]
    },
    {
     "name": "stdout",
     "output_type": "stream",
     "text": [
      "Exiting\n'posts: 4'\nPROGRESS: 13% (1649/11783)\nu'[When to use Frost stike ?] (/forums/en/wow/topic/15941154451)'\n"
     ]
    },
    {
     "name": "stdout",
     "output_type": "stream",
     "text": [
      "Exiting\n'posts: 6'\nPROGRESS: 14% (1650/11783)\n"
     ]
    },
    {
     "name": "stdout",
     "output_type": "stream",
     "text": [
      "u'[Tips] (/forums/en/wow/topic/15939834286)'\n"
     ]
    },
    {
     "name": "stdout",
     "output_type": "stream",
     "text": [
      "Exiting\n'posts: 7'\nPROGRESS: 14% (1651/11783)\nu'[Request to Buff unholy DKs] (/forums/en/wow/topic/15940573952)'\n"
     ]
    },
    {
     "name": "stdout",
     "output_type": "stream",
     "text": [
      "Exiting\n'posts: 5'\nPROGRESS: 14% (1652/11783)\nu'[Chains of Ice and chilblains are a joke!] (/forums/en/wow/topic/15939803919)'\n"
     ]
    },
    {
     "name": "stdout",
     "output_type": "stream",
     "text": [
      "Exiting\n'posts: 8'\nPROGRESS: 14% (1653/11783)\nu'[is it me or UH dmg is a big pile of......] (/forums/en/wow/topic/15939494049)'\n"
     ]
    },
    {
     "name": "stdout",
     "output_type": "stream",
     "text": [
      "Exiting\n'posts: 6'\nPROGRESS: 14% (1654/11783)\nu'[Diseases and haste] (/forums/en/wow/topic/15939374169)'\n"
     ]
    },
    {
     "name": "stdout",
     "output_type": "stream",
     "text": [
      "Exiting\n'posts: 3'\nPROGRESS: 14% (1655/11783)\nu'[Headless horseman t-mog] (/forums/en/wow/topic/15939414100)'\nHTTPError = 404\n"
     ]
    },
    {
     "name": "stdout",
     "output_type": "stream",
     "text": [
      "Exiting\n'posts: 3'\nPROGRESS: 14% (1656/11783)\nu'[Howlol blast] (/forums/en/wow/topic/15939373988)'\n"
     ]
    },
    {
     "name": "stdout",
     "output_type": "stream",
     "text": [
      "Exiting\n'posts: 10'\nPROGRESS: 14% (1657/11783)\nu'[Class Specific Gearing] (/forums/en/wow/topic/15889258801)'\n"
     ]
    },
    {
     "name": "stdout",
     "output_type": "stream",
     "text": [
      "Exiting\n'posts: 4'\nPROGRESS: 14% (1658/11783)\nu'[dk useless?] (/forums/en/wow/topic/15939833891)'\n"
     ]
    },
    {
     "name": "stdout",
     "output_type": "stream",
     "text": [
      "HTTPError = 404\n"
     ]
    },
    {
     "name": "stdout",
     "output_type": "stream",
     "text": [
      "Exiting\n'posts: 9'\nPROGRESS: 14% (1659/11783)\nu'[Which weapon?] (/forums/en/wow/topic/15939834006)'\n"
     ]
    },
    {
     "name": "stdout",
     "output_type": "stream",
     "text": [
      "Exiting\n'posts: 4'\nPROGRESS: 14% (1660/11783)\nu'[6.2.2 PvP] (/forums/en/wow/topic/15890139307)'\n"
     ]
    },
    {
     "name": "stdout",
     "output_type": "stream",
     "text": [
      "Exiting\n'posts: 5'\nPROGRESS: 14% (1661/11783)\nu'[New to Dk] (/forums/en/wow/topic/15939413840)'\n"
     ]
    },
    {
     "name": "stdout",
     "output_type": "stream",
     "text": [
      "Exiting\n'posts: 2'\nPROGRESS: 14% (1662/11783)\nu'[dk and pvp 3 question,] (/forums/en/wow/topic/15889259092)'\n"
     ]
    },
    {
     "name": "stdout",
     "output_type": "stream",
     "text": [
      "Exiting\n'posts: 4'\nPROGRESS: 14% (1663/11783)\nu'[hunters get deathgrip] (/forums/en/wow/topic/15161894371)'\n"
     ]
    },
    {
     "name": "stdout",
     "output_type": "stream",
     "text": [
      "Exiting\n'posts: 90'\nPROGRESS: 14% (1664/11783)\nu'[Buff Army of the dead already!] (/forums/en/wow/topic/15162423332)'\n"
     ]
    },
    {
     "name": "stdout",
     "output_type": "stream",
     "text": [
      "Exiting\n'posts: 31'\nPROGRESS: 14% (1665/11783)\nu'[Aspiring blood DK question] (/forums/en/wow/topic/15889259127)'\n"
     ]
    },
    {
     "name": "stdout",
     "output_type": "stream",
     "text": [
      "Exiting\n'posts: 4'\nPROGRESS: 14% (1666/11783)\nu'[Unholy - Festering Strike] (/forums/en/wow/topic/15890359080)'\n"
     ]
    },
    {
     "name": "stdout",
     "output_type": "stream",
     "text": [
      "[Errno 10054] An existing connection was forcibly closed by the remote host\n"
     ]
    },
    {
     "name": "stdout",
     "output_type": "stream",
     "text": [
      "Exiting\n'posts: 4'\nPROGRESS: 14% (1667/11783)\nu'[Twitch Streaming Dk/Warr] (/forums/en/wow/topic/15889829075)'\n"
     ]
    },
    {
     "name": "stdout",
     "output_type": "stream",
     "text": [
      "Exiting\n'posts: 2'\nPROGRESS: 14% (1668/11783)\nu'[Did any of you got a 1H from a Baleful Armament ?] (/forums/en/wow/topic/15060398015)'\n"
     ]
    },
    {
     "name": "stdout",
     "output_type": "stream",
     "text": [
      "Exiting\n'posts: 15'\nPROGRESS: 14% (1669/11783)\nu'[Back to WoW after 4 years, needing a lot of help.] (/forums/en/wow/topic/15890359059)'\n"
     ]
    },
    {
     "name": "stdout",
     "output_type": "stream",
     "text": [
      "Exiting\n'posts: 9'\nPROGRESS: 14% (1670/11783)\nu'[Back to DK] (/forums/en/wow/topic/15890228960)'\n"
     ]
    },
    {
     "name": "stdout",
     "output_type": "stream",
     "text": [
      "Exiting\n'posts: 3'\nPROGRESS: 14% (1671/11783)\nu'[Blood dk trink: Turnbuckle Teamwork or Discordant] (/forums/en/wow/topic/15161253636)'\n"
     ]
    },
    {
     "name": "stdout",
     "output_type": "stream",
     "text": [
      "Exiting\n'posts: 5'\nPROGRESS: 14% (1672/11783)\nu'[Noob question: 2H vs DW damage difference] (/forums/en/wow/topic/15161313218)'\n"
     ]
    },
    {
     "name": "stdout",
     "output_type": "stream",
     "text": [
      "Exiting\n'posts: 5'\nPROGRESS: 14% (1673/11783)\nu'[Is this decent dps dw?] (/forums/en/wow/topic/15161823950)'\n"
     ]
    },
    {
     "name": "stdout",
     "output_type": "stream",
     "text": [
      "Exiting\n'posts: 24'\nPROGRESS: 14% (1674/11783)\nu'[This class needs something new.] (/forums/en/wow/topic/15161247109)'\n"
     ]
    },
    {
     "name": "stdout",
     "output_type": "stream",
     "text": [
      "Exiting\n'posts: 15'\nPROGRESS: 14% (1675/11783)\nu'[stat help] (/forums/en/wow/topic/15162514405)'\n"
     ]
    },
    {
     "name": "stdout",
     "output_type": "stream",
     "text": [
      "Exiting\n'posts: 4'\nPROGRESS: 14% (1676/11783)\nu'[HEART STRIKE] (/forums/en/wow/topic/15161249620)'\n"
     ]
    },
    {
     "name": "stdout",
     "output_type": "stream",
     "text": [
      "Exiting\n'posts: 20'\nPROGRESS: 14% (1677/11783)\nu'[Suggestion: Death Knight healing spec] (/forums/en/wow/topic/15161834200)'\n"
     ]
    },
    {
     "name": "stdout",
     "output_type": "stream",
     "text": [
      "Exiting\n'posts: 16'\nPROGRESS: 14% (1678/11783)\nu'[Army of the Dead doing almost no damage] (/forums/en/wow/topic/15161423320)'\n"
     ]
    },
    {
     "name": "stdout",
     "output_type": "stream",
     "text": [
      "[Errno 10054] An existing connection was forcibly closed by the remote host\n"
     ]
    },
    {
     "name": "stdout",
     "output_type": "stream",
     "text": [
      "Exiting\n'posts: 13'\nPROGRESS: 14% (1679/11783)\nu'[Anti magic zone] (/forums/en/wow/topic/15161822587)'\n"
     ]
    },
    {
     "name": "stdout",
     "output_type": "stream",
     "text": [
      "Exiting\n'posts: 25'\nPROGRESS: 14% (1680/11783)\nu'[so...  about this \"hero class\" thing... undead?] (/forums/en/wow/topic/15161353454)'\n"
     ]
    },
    {
     "name": "stdout",
     "output_type": "stream",
     "text": [
      "Exiting\n'posts: 7'\nPROGRESS: 14% (1681/11783)\nu'[Newcomer looking for company] (/forums/en/wow/topic/15161893782)'\n"
     ]
    },
    {
     "name": "stdout",
     "output_type": "stream",
     "text": [
      "HTTPError = 404\n"
     ]
    },
    {
     "name": "stdout",
     "output_type": "stream",
     "text": [
      "Exiting\n'posts: 17'\nPROGRESS: 14% (1682/11783)\nu'[Unholy against kiters ?] (/forums/en/wow/topic/15161283983)'\n"
     ]
    },
    {
     "name": "stdout",
     "output_type": "stream",
     "text": [
      "Exiting\n'posts: 6'\nPROGRESS: 14% (1683/11783)\nu'[Give us unholy without pet] (/forums/en/wow/topic/15161420779)'\n"
     ]
    },
    {
     "name": "stdout",
     "output_type": "stream",
     "text": [
      "Exiting\n'posts: 25'\nPROGRESS: 14% (1684/11783)\nu'[Gratz to WW monks on buff. Now we are alone. (pvp)] (/forums/en/wow/topic/15161282055)'\n"
     ]
    },
    {
     "name": "stdout",
     "output_type": "stream",
     "text": [
      "[Errno 10054] An existing connection was forcibly closed by the remote host\n"
     ]
    },
    {
     "name": "stdout",
     "output_type": "stream",
     "text": [
      "Exiting\n'posts: 21'\nPROGRESS: 14% (1685/11783)\nu'[In Memoriam: Festerblight] (/forums/en/wow/topic/15161823020)'\n"
     ]
    },
    {
     "name": "stdout",
     "output_type": "stream",
     "text": [
      "Exiting\n'posts: 8'\nPROGRESS: 14% (1686/11783)\nu'[What do you prefer? 2H or DW?] (/forums/en/wow/topic/15161251104)'\n"
     ]
    },
    {
     "name": "stdout",
     "output_type": "stream",
     "text": [
      "Exiting\n'posts: 68'\nPROGRESS: 14% (1687/11783)\nu'[PvP or PvE] (/forums/en/wow/topic/15161893980)'\nHTTPError = 404\n"
     ]
    },
    {
     "name": "stdout",
     "output_type": "stream",
     "text": [
      "Exiting\n'posts: 2'\nPROGRESS: 14% (1688/11783)\nu'[Help in UH DK] (/forums/en/wow/topic/15161303829)'\n"
     ]
    },
    {
     "name": "stdout",
     "output_type": "stream",
     "text": [
      "Exiting\n'posts: 12'\nPROGRESS: 14% (1689/11783)\nu'[What do you want to see in Legion?] (/forums/en/wow/topic/15161312276)'\n"
     ]
    },
    {
     "name": "stdout",
     "output_type": "stream",
     "text": [
      "Exiting\n'posts: 23'\nPROGRESS: 14% (1690/11783)\nu'[Arena DK are too slow] (/forums/en/wow/topic/15161821246)'\n"
     ]
    },
    {
     "name": "stdout",
     "output_type": "stream",
     "text": [
      "Exiting\n'posts: 14'\nPROGRESS: 14% (1691/11783)\nu'[DW Frost Trinkets] (/forums/en/wow/topic/15161281121)'\n"
     ]
    },
    {
     "name": "stdout",
     "output_type": "stream",
     "text": [
      "Exiting\n'posts: 6'\nPROGRESS: 14% (1692/11783)\nu'[Am I doing the correct rotation? 2h frost dk PVE] (/forums/en/wow/topic/15161283325)'\n"
     ]
    },
    {
     "name": "stdout",
     "output_type": "stream",
     "text": [
      "Exiting\n'posts: 6'\nPROGRESS: 14% (1693/11783)\nu'[if dw and 2h cand do the same dmg in pvp,] (/forums/en/wow/topic/15161303212)'\n"
     ]
    },
    {
     "name": "stdout",
     "output_type": "stream",
     "text": [
      "Exiting\n'posts: 9'\nPROGRESS: 14% (1694/11783)\nu'[What happened to corpse explosion?] (/forums/en/wow/topic/15161313548)'\n"
     ]
    },
    {
     "name": "stdout",
     "output_type": "stream",
     "text": [
      "Exiting\n'posts: 2'\nPROGRESS: 14% (1695/11783)\nu'[DW/2H swapping] (/forums/en/wow/topic/15161253538)'\n"
     ]
    },
    {
     "name": "stdout",
     "output_type": "stream",
     "text": [
      "Exiting\n'posts: 3'\nPROGRESS: 14% (1696/11783)\nu'[Dw Frost raiding] (/forums/en/wow/topic/15161281535)'\n"
     ]
    },
    {
     "name": "stdout",
     "output_type": "stream",
     "text": [
      "Exiting\n'posts: 13'\nPROGRESS: 14% (1697/11783)\nu\"[Legion vs DK's - thoughts on how it will be?] (/forums/en/wow/topic/15161302798)\"\n"
     ]
    },
    {
     "name": "stdout",
     "output_type": "stream",
     "text": [
      "Exiting\n'posts: 17'\nPROGRESS: 14% (1698/11783)\nu'[Uh dk pls help me] (/forums/en/wow/topic/15161823070)'\n"
     ]
    },
    {
     "name": "stdout",
     "output_type": "stream",
     "text": [
      "Exiting\n'posts: 4'\nPROGRESS: 14% (1699/11783)\nu'[my frost dk hitting like a wet noodle] (/forums/en/wow/topic/15161821951)'\n"
     ]
    },
    {
     "name": "stdout",
     "output_type": "stream",
     "text": [
      "Exiting\n'posts: 12'\nPROGRESS: 14% (1700/11783)\n"
     ]
    },
    {
     "name": "stdout",
     "output_type": "stream",
     "text": [
      "u'[Wait what, are DKs getting a huge change?] (/forums/en/wow/topic/15161312550)'\n"
     ]
    },
    {
     "name": "stdout",
     "output_type": "stream",
     "text": [
      "Exiting\n'posts: 20'\nPROGRESS: 14% (1701/11783)\nu'[just a thought for a talent] (/forums/en/wow/topic/15161283288)'\n"
     ]
    },
    {
     "name": "stdout",
     "output_type": "stream",
     "text": [
      "Exiting\n'posts: 3'\nPROGRESS: 14% (1702/11783)\nu'[deathknights got the wrong theme going on] (/forums/en/wow/topic/15162513203)'\n"
     ]
    },
    {
     "name": "stdout",
     "output_type": "stream",
     "text": [
      "Exiting\n'posts: 2'\nPROGRESS: 14% (1703/11783)\nu'[Dk or enhance for 3s?] (/forums/en/wow/topic/15161419735)'\n"
     ]
    },
    {
     "name": "stdout",
     "output_type": "stream",
     "text": [
      "Exiting\n'posts: 9'\nPROGRESS: 14% (1704/11783)\nu'[Frost Dw 700 ilvl but still underwhelming dps] (/forums/en/wow/topic/15161351271)'\n"
     ]
    },
    {
     "name": "stdout",
     "output_type": "stream",
     "text": [
      "Exiting\n'posts: 16'\nPROGRESS: 14% (1705/11783)\nu'[Grimrail Depot- Need some help :(] (/forums/en/wow/topic/15161822364)'\n"
     ]
    },
    {
     "name": "stdout",
     "output_type": "stream",
     "text": [
      "Exiting\n'posts: 4'\nPROGRESS: 14% (1706/11783)\nu'[3s arthas cleave] (/forums/en/wow/topic/15161312413)'\n"
     ]
    },
    {
     "name": "stdout",
     "output_type": "stream",
     "text": [
      "Exiting\n'posts: 7'\nPROGRESS: 14% (1707/11783)\nu'[How is blood holding up thee days] (/forums/en/wow/topic/15161892038)'\n"
     ]
    },
    {
     "name": "stdout",
     "output_type": "stream",
     "text": [
      "Exiting\n'posts: 9'\nPROGRESS: 14% (1708/11783)\nu'[/leveling DK info/] (/forums/en/wow/topic/15161252560)'\n"
     ]
    },
    {
     "name": "stdout",
     "output_type": "stream",
     "text": [
      "[Errno 10054] An existing connection was forcibly closed by the remote host\n"
     ]
    },
    {
     "name": "stdout",
     "output_type": "stream",
     "text": [
      "[Errno 10054] An existing connection was forcibly closed by the remote host\n"
     ]
    },
    {
     "name": "stdout",
     "output_type": "stream",
     "text": [
      "Exiting\n'posts: 2'\nPROGRESS: 14% (1709/11783)\nu'[91 Twinking] (/forums/en/wow/topic/15162510549)'\n"
     ]
    },
    {
     "name": "stdout",
     "output_type": "stream",
     "text": [
      "Exiting\n'posts: 2'\nPROGRESS: 14% (1710/11783)\nu'[Obliterate] (/forums/en/wow/topic/15162512315)'\n"
     ]
    },
    {
     "name": "stdout",
     "output_type": "stream",
     "text": [
      "Exiting\n'posts: 10'\nPROGRESS: 14% (1711/11783)\nu'[Unholy DK tips] (/forums/en/wow/topic/15161331437)'\n"
     ]
    },
    {
     "name": "stdout",
     "output_type": "stream",
     "text": [
      "Exiting\n'posts: 7'\nPROGRESS: 14% (1712/11783)\nu'[6.2.1 changes] (/forums/en/wow/topic/15161351399)'\n"
     ]
    },
    {
     "name": "stdout",
     "output_type": "stream",
     "text": [
      "Exiting\n'posts: 4'\nPROGRESS: 14% (1713/11783)\nu'[Need help with dps please] (/forums/en/wow/topic/15161892285)'\nHTTPError = 404\n"
     ]
    },
    {
     "name": "stdout",
     "output_type": "stream",
     "text": [
      "Exiting\n'posts: 10'\nPROGRESS: 14% (1714/11783)\nu'[Representation in ladder 2s and 3s] (/forums/en/wow/topic/15161832379)'\n"
     ]
    },
    {
     "name": "stdout",
     "output_type": "stream",
     "text": [
      "Exiting\n'posts: 2'\nPROGRESS: 14% (1715/11783)\nu'[Horde race [after buffs]] (/forums/en/wow/topic/15161302173)'\n"
     ]
    },
    {
     "name": "stdout",
     "output_type": "stream",
     "text": [
      "Exiting\n'posts: 6'\nPROGRESS: 14% (1716/11783)\nu'[DK Help!] (/forums/en/wow/topic/15161832294)'\n"
     ]
    },
    {
     "name": "stdout",
     "output_type": "stream",
     "text": [
      "Exiting\n'posts: 10'\nPROGRESS: 14% (1717/11783)\nu'[Creating and Deleting DeathKnights] (/forums/en/wow/topic/15161311528)'\n"
     ]
    },
    {
     "name": "stdout",
     "output_type": "stream",
     "text": [
      "Exiting\n'posts: 7'\nPROGRESS: 14% (1718/11783)\nu'[Obliterate & Outbreak question] (/forums/en/wow/topic/15161821908)'\n"
     ]
    },
    {
     "name": "stdout",
     "output_type": "stream",
     "text": [
      "Exiting\n'posts: 3'\nPROGRESS: 14% (1719/11783)\nu'[New dk] (/forums/en/wow/topic/15161832199)'\n"
     ]
    },
    {
     "name": "stdout",
     "output_type": "stream",
     "text": [
      "Exiting\n'posts: 2'\nPROGRESS: 14% (1720/11783)\nu'[Ideas - Talents, Glyphs, Modifiers and Changes] (/forums/en/wow/topic/15161349978)'\n"
     ]
    },
    {
     "name": "stdout",
     "output_type": "stream",
     "text": [
      "Exiting\n'posts: 17'\nPROGRESS: 14% (1721/11783)\nu'[Trinket help! N pebble or M insignia?] (/forums/en/wow/topic/15161281809)'\n"
     ]
    },
    {
     "name": "stdout",
     "output_type": "stream",
     "text": [
      "Exiting\n'posts: 1'\nPROGRESS: 14% (1722/11783)\nu'[Necrotic strike] (/forums/en/wow/topic/15161310809)'\n"
     ]
    },
    {
     "name": "stdout",
     "output_type": "stream",
     "text": [
      "Exiting\n'posts: 8'\nPROGRESS: 14% (1723/11783)\nu'[Unholy or frost for random BGs ??] (/forums/en/wow/topic/15161331527)'\n"
     ]
    },
    {
     "name": "stdout",
     "output_type": "stream",
     "text": [
      "Exiting\n'posts: 4'\nPROGRESS: 14% (1724/11783)\nu\"[I don't play Frost, but..] (/forums/en/wow/topic/15161420558)\"\n"
     ]
    },
    {
     "name": "stdout",
     "output_type": "stream",
     "text": [
      "Exiting\n'posts: 22'\nPROGRESS: 14% (1725/11783)\nu'[Frost DW Prio] (/forums/en/wow/topic/15162511729)'\n"
     ]
    },
    {
     "name": "stdout",
     "output_type": "stream",
     "text": [
      "HTTPError = 404\n"
     ]
    },
    {
     "name": "stdout",
     "output_type": "stream",
     "text": [
      "Exiting\n'posts: 3'\nPROGRESS: 14% (1726/11783)\nu'[Blood Tank Stats] (/forums/en/wow/topic/15161301546)'\n"
     ]
    },
    {
     "name": "stdout",
     "output_type": "stream",
     "text": [
      "Exiting\n'posts: 4'\nPROGRESS: 14% (1727/11783)\nu'[dw frost stats] (/forums/en/wow/topic/15161311534)'\n"
     ]
    },
    {
     "name": "stdout",
     "output_type": "stream",
     "text": [
      "Exiting\n'posts: 1'\nPROGRESS: 14% (1728/11783)\nu\"[LF DK's @ Canes Venatici Guild] (/forums/en/wow/topic/15162511659)\"\n"
     ]
    },
    {
     "name": "stdout",
     "output_type": "stream",
     "text": [
      "Exiting\n'posts: 2'\nPROGRESS: 14% (1729/11783)\nu'[Weapon enchants?] (/forums/en/wow/topic/15161311452)'\n"
     ]
    },
    {
     "name": "stdout",
     "output_type": "stream",
     "text": [
      "Exiting\n'posts: 3'\nPROGRESS: 14% (1730/11783)\nu'[stamina stacking] (/forums/en/wow/topic/15161891567)'\n"
     ]
    },
    {
     "name": "stdout",
     "output_type": "stream",
     "text": [
      "Exiting\n'posts: 3'\nPROGRESS: 14% (1731/11783)\nu'[Frost 2h(PvP)] (/forums/en/wow/topic/15161331504)'\n"
     ]
    },
    {
     "name": "stdout",
     "output_type": "stream",
     "text": [
      "Exiting\n'posts: 3'\nPROGRESS: 14% (1732/11783)\nu'[2H Frost will be removed in Legion] (/forums/en/wow/topic/15161350422)'\n"
     ]
    },
    {
     "name": "stdout",
     "output_type": "stream",
     "text": [
      "HTTPError = 404\n"
     ]
    },
    {
     "name": "stdout",
     "output_type": "stream",
     "text": [
      "Exiting\n'posts: 60'\nPROGRESS: 14% (1733/11783)\nu'[Is Death Knight alright as of now?] (/forums/en/wow/topic/15161330961)'\n"
     ]
    },
    {
     "name": "stdout",
     "output_type": "stream",
     "text": [
      "Exiting\n'posts: 11'\nPROGRESS: 14% (1734/11783)\nu'[How Blind can you be? (DPS complain)] (/forums/en/wow/topic/15161330746)'\nHTTPError = 404\n"
     ]
    },
    {
     "name": "stdout",
     "output_type": "stream",
     "text": [
      "Exiting\n'posts: 12'\nPROGRESS: 14% (1735/11783)\nu'[DK PvP advice required] (/forums/en/wow/topic/15161251037)'\n"
     ]
    },
    {
     "name": "stdout",
     "output_type": "stream",
     "text": [
      "Exiting\n'posts: 5'\nPROGRESS: 14% (1736/11783)\nu'[I die way too quickly against close range classes?] (/forums/en/wow/topic/15161421114)'\n"
     ]
    },
    {
     "name": "stdout",
     "output_type": "stream",
     "text": [
      "Exiting\n'posts: 3'\nPROGRESS: 14% (1737/11783)\nu'[Bye bye 2H Frost] (/forums/en/wow/topic/15161830577)'\n"
     ]
    },
    {
     "name": "stdout",
     "output_type": "stream",
     "text": [
      "Exiting\n'posts: 37'\nPROGRESS: 14% (1738/11783)\nu'[DW or 2hander PVP] (/forums/en/wow/topic/15161891196)'\n"
     ]
    },
    {
     "name": "stdout",
     "output_type": "stream",
     "text": [
      "Exiting\n'posts: 7'\nPROGRESS: 14% (1739/11783)\nu'[Well done Blizzard.] (/forums/en/wow/topic/15162416524)'\n"
     ]
    },
    {
     "name": "stdout",
     "output_type": "stream",
     "text": [
      "Exiting\n'posts: 17'\nPROGRESS: 14% (1740/11783)\nu'[dual wield pvp trinket choice] (/forums/en/wow/topic/15161820703)'\n"
     ]
    },
    {
     "name": "stdout",
     "output_type": "stream",
     "text": [
      "[Errno 10054] An existing connection was forcibly closed by the remote host\n"
     ]
    },
    {
     "name": "stdout",
     "output_type": "stream",
     "text": [
      "Exiting\n'posts: 4'\nPROGRESS: 14% (1741/11783)\nu'[What race?] (/forums/en/wow/topic/15161249581)'\n"
     ]
    },
    {
     "name": "stdout",
     "output_type": "stream",
     "text": [
      "Exiting\n'posts: 15'\nPROGRESS: 14% (1742/11783)\nu'[PvP Specc] (/forums/en/wow/topic/15161330984)'\n"
     ]
    },
    {
     "name": "stdout",
     "output_type": "stream",
     "text": [
      "Exiting\n'posts: 2'\nPROGRESS: 14% (1743/11783)\nu'[DW Best Burst Rotation for PvE Pulls?] (/forums/en/wow/topic/15161420857)'\nHTTPError = 404\n"
     ]
    },
    {
     "name": "stdout",
     "output_type": "stream",
     "text": [
      "Exiting\n'posts: 2'\nPROGRESS: 14% (1744/11783)\nu'[Frost dw Trinket problem] (/forums/en/wow/topic/15161250470)'\n"
     ]
    },
    {
     "name": "stdout",
     "output_type": "stream",
     "text": [
      "Exiting\n'posts: 3'\nPROGRESS: 14% (1745/11783)\nu'[Did frost DKs PVE get a secret nerf or am I cursed?] (/forums/en/wow/topic/15161890032)'\n"
     ]
    },
    {
     "name": "stdout",
     "output_type": "stream",
     "text": [
      "Exiting\n'posts: 6'\nPROGRESS: 14% (1746/11783)\nu\"[Legendary Artifact's] (/forums/en/wow/topic/15161250547)\"\n"
     ]
    },
    {
     "name": "stdout",
     "output_type": "stream",
     "text": [
      "Exiting\n'posts: 34'\nPROGRESS: 14% (1747/11783)\nu'[an idea, opinions please] (/forums/en/wow/topic/15162420654)'\n"
     ]
    },
    {
     "name": "stdout",
     "output_type": "stream",
     "text": [
      "HTTPError = 404\n"
     ]
    },
    {
     "name": "stdout",
     "output_type": "stream",
     "text": [
      "Exiting\n'posts: 8'\nPROGRESS: 14% (1748/11783)\nu'[Dk comps (help)] (/forums/en/wow/topic/15161330687)'\n"
     ]
    },
    {
     "name": "stdout",
     "output_type": "stream",
     "text": [
      "[Errno 10054] An existing connection was forcibly closed by the remote host\n"
     ]
    },
    {
     "name": "stdout",
     "output_type": "stream",
     "text": [
      "Exiting\n'posts: 1'\nPROGRESS: 14% (1749/11783)\nu'[7.0 DK HYPE THREAD, [NECROTIC STRIKE OMG]] (/forums/en/wow/topic/15161330441)'\n"
     ]
    },
    {
     "name": "stdout",
     "output_type": "stream",
     "text": [
      "Exiting\n'posts: 7'\nPROGRESS: 14% (1750/11783)\n"
     ]
    },
    {
     "name": "stdout",
     "output_type": "stream",
     "text": [
      "u'[Death Grip + Asphyxiate] (/forums/en/wow/topic/15161249344)'\n"
     ]
    },
    {
     "name": "stdout",
     "output_type": "stream",
     "text": [
      "Exiting\n'posts: 10'\nPROGRESS: 14% (1751/11783)\nu'[DK Frost Action bar not understood well] (/forums/en/wow/topic/15161420434)'\n"
     ]
    },
    {
     "name": "stdout",
     "output_type": "stream",
     "text": [
      "Exiting\n'posts: 4'\nPROGRESS: 14% (1752/11783)\nu'[Pls bring back Necrotic Strike with 7.0] (/forums/en/wow/topic/15161420194)'\n"
     ]
    },
    {
     "name": "stdout",
     "output_type": "stream",
     "text": [
      "Exiting\n'posts: 9'\nPROGRESS: 14% (1753/11783)\nu'[UH class trinket] (/forums/en/wow/topic/15161310322)'\n"
     ]
    },
    {
     "name": "stdout",
     "output_type": "stream",
     "text": [
      "Exiting\n'posts: 2'\nPROGRESS: 14% (1754/11783)\nu'[which trinket?] (/forums/en/wow/topic/15161890357)'\nHTTPError = 404\n"
     ]
    },
    {
     "name": "stdout",
     "output_type": "stream",
     "text": [
      "Exiting\n'posts: 3'\nPROGRESS: 14% (1755/11783)\nu'[explaining ashran DK problem.....] (/forums/en/wow/topic/15162420182)'\n"
     ]
    },
    {
     "name": "stdout",
     "output_type": "stream",
     "text": [
      "Exiting\n'posts: 8'\nPROGRESS: 14% (1756/11783)\nu'[For those who are sick about the state of Dks in Arena] (/forums/en/wow/topic/15161829745)'\n"
     ]
    },
    {
     "name": "stdout",
     "output_type": "stream",
     "text": [
      "[Errno 10054] An existing connection was forcibly closed by the remote host\nHTTPError = 404\n"
     ]
    },
    {
     "name": "stdout",
     "output_type": "stream",
     "text": [
      "Exiting\n'posts: 10'\nPROGRESS: 14% (1757/11783)\nu'[Specs for pve] (/forums/en/wow/topic/15162420311)'\n"
     ]
    },
    {
     "name": "stdout",
     "output_type": "stream",
     "text": [
      "[Errno 10054] An existing connection was forcibly closed by the remote host\n"
     ]
    },
    {
     "name": "stdout",
     "output_type": "stream",
     "text": [
      "Exiting\n'posts: 3'\nPROGRESS: 14% (1758/11783)\nu'[Legendary ring] (/forums/en/wow/topic/15161820136)'\n"
     ]
    },
    {
     "name": "stdout",
     "output_type": "stream",
     "text": [
      "HTTPError = 404\n"
     ]
    },
    {
     "name": "stdout",
     "output_type": "stream",
     "text": [
      "Exiting\n'posts: 3'\nPROGRESS: 14% (1759/11783)\nu'[Plague Leech Talent. Help plz!] (/forums/en/wow/topic/15161329229)'\n"
     ]
    },
    {
     "name": "stdout",
     "output_type": "stream",
     "text": [
      "Exiting\n'posts: 12'\nPROGRESS: 14% (1760/11783)\nu'[Frost DW Arena / pvp] (/forums/en/wow/topic/15161330228)'\nHTTPError = 404\n"
     ]
    },
    {
     "name": "stdout",
     "output_type": "stream",
     "text": [
      "HTTPError = 404\n"
     ]
    },
    {
     "name": "stdout",
     "output_type": "stream",
     "text": [
      "Exiting\n'posts: 4'\nPROGRESS: 14% (1761/11783)\nu'[Necrotic plague] (/forums/en/wow/topic/15162509810)'\n"
     ]
    },
    {
     "name": "stdout",
     "output_type": "stream",
     "text": [
      "Exiting\n'posts: 15'\nPROGRESS: 14% (1762/11783)\nu'[im bad?] (/forums/en/wow/topic/15161279642)'\n"
     ]
    },
    {
     "name": "stdout",
     "output_type": "stream",
     "text": [
      "Exiting\n'posts: 3'\nPROGRESS: 14% (1763/11783)\nu'[1 Macro Help] (/forums/en/wow/topic/15161280117)'\n"
     ]
    },
    {
     "name": "stdout",
     "output_type": "stream",
     "text": [
      "Exiting\n'posts: 5'\nPROGRESS: 14% (1764/11783)\nu'[Switching from DW Frost to 2H Frost for ST encounters ?] (/forums/en/wow/topic/15161310080)'\n"
     ]
    },
    {
     "name": "stdout",
     "output_type": "stream",
     "text": [
      "Exiting\n'posts: 5'\nPROGRESS: 14% (1765/11783)\nu\"[How difficult are blood DK's?] (/forums/en/wow/topic/15161280008)\"\n"
     ]
    },
    {
     "name": "stdout",
     "output_type": "stream",
     "text": [
      "Exiting\n'posts: 5'\nPROGRESS: 14% (1766/11783)\nu'[unholy dks problem] (/forums/en/wow/topic/15049205011)'\n"
     ]
    },
    {
     "name": "stdout",
     "output_type": "stream",
     "text": [
      "Exiting\n'posts: 31'\nPROGRESS: 14% (1767/11783)\nu'[im bad?] (/forums/en/wow/topic/15161309641)'\n"
     ]
    },
    {
     "name": "stdout",
     "output_type": "stream",
     "text": [
      "Exiting\n'posts: 4'\nPROGRESS: 15% (1768/11783)\nu'[Frost dk 3s comps] (/forums/en/wow/topic/15161819691)'\n"
     ]
    },
    {
     "name": "stdout",
     "output_type": "stream",
     "text": [
      "Exiting\n'posts: 3'\nPROGRESS: 15% (1769/11783)\nu\"[I'm Bad..Or DK in PvP is Kinda Lacking..?] (/forums/en/wow/topic/15161299629)\"\n"
     ]
    },
    {
     "name": "stdout",
     "output_type": "stream",
     "text": [
      "Exiting\n'posts: 9'\nPROGRESS: 15% (1770/11783)\nu'[Frost DK PvP: 2H or DW?] (/forums/en/wow/topic/15161349642)'\n"
     ]
    },
    {
     "name": "stdout",
     "output_type": "stream",
     "text": [
      "Exiting\n'posts: 3'\nPROGRESS: 15% (1771/11783)\nu'[Frost DK DW : Monster truck or sports car ?] (/forums/en/wow/topic/15161299588)'\n"
     ]
    },
    {
     "name": "stdout",
     "output_type": "stream",
     "text": [
      "Exiting\n'posts: 5'\nPROGRESS: 15% (1772/11783)\nu'[Frost DK DW Stat Priority?] (/forums/en/wow/topic/15161419370)'\n"
     ]
    },
    {
     "name": "stdout",
     "output_type": "stream",
     "text": [
      "Exiting\n'posts: 6'\nPROGRESS: 15% (1773/11783)\nu'[Blood Death Knight Shields.] (/forums/en/wow/topic/15161278229)'\n"
     ]
    },
    {
     "name": "stdout",
     "output_type": "stream",
     "text": [
      "Exiting\n'posts: 14'\nPROGRESS: 15% (1774/11783)\nu'[Fallen crusader.] (/forums/en/wow/topic/15161349575)'\n"
     ]
    },
    {
     "name": "stdout",
     "output_type": "stream",
     "text": [
      "[Errno 10054] An existing connection was forcibly closed by the remote host\n"
     ]
    },
    {
     "name": "stdout",
     "output_type": "stream",
     "text": [
      "Exiting\n'posts: 3'\nPROGRESS: 15% (1775/11783)\nu'[Getting my DPS up in Frost] (/forums/en/wow/topic/15161419444)'\n"
     ]
    },
    {
     "name": "stdout",
     "output_type": "stream",
     "text": [
      "Exiting\n'posts: 6'\nPROGRESS: 15% (1776/11783)\nu'[How Unholy DK should be.(PVP wise)] (/forums/en/wow/topic/15161309570)'\n"
     ]
    },
    {
     "name": "stdout",
     "output_type": "stream",
     "text": [
      "Exiting\n'posts: 1'\nPROGRESS: 15% (1777/11783)\nu'[DK difference between specs] (/forums/en/wow/topic/15161279153)'\n"
     ]
    },
    {
     "name": "stdout",
     "output_type": "stream",
     "text": [
      "Exiting\n'posts: 4'\nPROGRESS: 15% (1778/11783)\nu'[Unholy in 3s at high rating and more] (/forums/en/wow/topic/15162509639)'\n"
     ]
    },
    {
     "name": "stdout",
     "output_type": "stream",
     "text": [
      "HTTPError = 404\n"
     ]
    },
    {
     "name": "stdout",
     "output_type": "stream",
     "text": [
      "Exiting\n'posts: 2'\nPROGRESS: 15% (1779/11783)\nu'[survival probs- feel abit squishi] (/forums/en/wow/topic/15161819229)'\n"
     ]
    },
    {
     "name": "stdout",
     "output_type": "stream",
     "text": [
      "Exiting\n'posts: 3'\nPROGRESS: 15% (1780/11783)\nu'[Returning to DK, need some info] (/forums/en/wow/topic/15161419168)'\n"
     ]
    },
    {
     "name": "stdout",
     "output_type": "stream",
     "text": [
      "Exiting\n'posts: 5'\nPROGRESS: 15% (1781/11783)\nu'[Glyph of Dark Succor] (/forums/en/wow/topic/15161279306)'\n"
     ]
    },
    {
     "name": "stdout",
     "output_type": "stream",
     "text": [
      "Exiting\n'posts: 3'\nPROGRESS: 15% (1782/11783)\nu'[DK Help... ty] (/forums/en/wow/topic/15161249187)'\n"
     ]
    },
    {
     "name": "stdout",
     "output_type": "stream",
     "text": [
      "Exiting\n'posts: 4'\nPROGRESS: 15% (1783/11783)\nu'[Dw low dps?] (/forums/en/wow/topic/15161349158)'\n"
     ]
    },
    {
     "name": "stdout",
     "output_type": "stream",
     "text": [
      "Exiting\n'posts: 6'\nPROGRESS: 15% (1784/11783)\nu'[How Does DS Work?] (/forums/en/wow/topic/15161309001)'\n"
     ]
    },
    {
     "name": "stdout",
     "output_type": "stream",
     "text": [
      "Exiting\n'posts: 14'\nPROGRESS: 15% (1785/11783)\nu'[Weakaura string for 1h frost] (/forums/en/wow/topic/15161309188)'\n"
     ]
    },
    {
     "name": "stdout",
     "output_type": "stream",
     "text": [
      "Exiting\n'posts: 1'\nPROGRESS: 15% (1786/11783)\nu'[Can you redesign the class plz] (/forums/en/wow/topic/15161247918)'\n"
     ]
    },
    {
     "name": "stdout",
     "output_type": "stream",
     "text": [
      "[Errno 10054] An existing connection was forcibly closed by the remote host\n"
     ]
    },
    {
     "name": "stdout",
     "output_type": "stream",
     "text": [
      "Exiting\n'posts: 3'\nPROGRESS: 15% (1787/11783)\nu'[Dk for Pve Best Spec?] (/forums/en/wow/topic/15161329040)'\n"
     ]
    },
    {
     "name": "stdout",
     "output_type": "stream",
     "text": [
      "[Errno 10054] An existing connection was forcibly closed by the remote host\n"
     ]
    },
    {
     "name": "stdout",
     "output_type": "stream",
     "text": [
      "[Errno 10054] An existing connection was forcibly closed by the remote host\n"
     ]
    },
    {
     "name": "stdout",
     "output_type": "stream",
     "text": [
      "Exiting\n'posts: 7'\nPROGRESS: 15% (1788/11783)\nu'[Baleful Items] (/forums/en/wow/topic/15161309087)'\n"
     ]
    },
    {
     "name": "stdout",
     "output_type": "stream",
     "text": [
      "Exiting\n'posts: 5'\nPROGRESS: 15% (1789/11783)\nu'[RNG bonusrolls/etc as Frost] (/forums/en/wow/topic/15161819091)'\n"
     ]
    },
    {
     "name": "stdout",
     "output_type": "stream",
     "text": [
      "Exiting\n'posts: 2'\nPROGRESS: 15% (1790/11783)\nu'[Dks single target dps] (/forums/en/wow/topic/15161328732)'\n"
     ]
    },
    {
     "name": "stdout",
     "output_type": "stream",
     "text": [
      "Exiting\n'posts: 3'\nPROGRESS: 15% (1791/11783)\nu'[Frost dk 2pc bonus \"bug\"?] (/forums/en/wow/topic/15161419015)'\nHTTPError = 404\n"
     ]
    },
    {
     "name": "stdout",
     "output_type": "stream",
     "text": [
      "Exiting\n'posts: 3'\nPROGRESS: 15% (1792/11783)\nu'[dual wielding or two handed in 6.2?] (/forums/en/wow/topic/15161419012)'\n"
     ]
    },
    {
     "name": "stdout",
     "output_type": "stream",
     "text": [
      "Exiting\n'posts: 2'\nPROGRESS: 15% (1793/11783)\nu'[Playing with necrotic plague] (/forums/en/wow/topic/15161328688)'\n"
     ]
    },
    {
     "name": "stdout",
     "output_type": "stream",
     "text": [
      "Exiting\n'posts: 5'\nPROGRESS: 15% (1794/11783)\nu'[Unholy PvP Necrotic plague vs normal dots] (/forums/en/wow/topic/15161829167)'\n"
     ]
    },
    {
     "name": "stdout",
     "output_type": "stream",
     "text": [
      "Exiting\n'posts: 2'\nPROGRESS: 15% (1795/11783)\nu'[Choosing 2nd trinket (Frost DK PvE)] (/forums/en/wow/topic/15161829144)'\n"
     ]
    },
    {
     "name": "stdout",
     "output_type": "stream",
     "text": [
      "Exiting\n'posts: 3'\nPROGRESS: 15% (1796/11783)\nu'[DK solo: Supreme Lord Kazzak] (/forums/en/wow/topic/15161308452)'\n"
     ]
    },
    {
     "name": "stdout",
     "output_type": "stream",
     "text": [
      "[Errno 10054] An existing connection was forcibly closed by the remote host\n"
     ]
    },
    {
     "name": "stdout",
     "output_type": "stream",
     "text": [
      "Exiting\n'posts: 11'\nPROGRESS: 15% (1797/11783)\nu'[Frost Dk PvP] (/forums/en/wow/topic/15161889084)'\n"
     ]
    },
    {
     "name": "stdout",
     "output_type": "stream",
     "text": [
      "[Errno 10054] An existing connection was forcibly closed by the remote host\n"
     ]
    },
    {
     "name": "stdout",
     "output_type": "stream",
     "text": [
      "Exiting\n'posts: 1'\nPROGRESS: 15% (1798/11783)\nu'[Blood tap issue] (/forums/en/wow/topic/15161418666)'\n"
     ]
    },
    {
     "name": "stdout",
     "output_type": "stream",
     "text": [
      "[Errno 10054] An existing connection was forcibly closed by the remote host\n"
     ]
    },
    {
     "name": "stdout",
     "output_type": "stream",
     "text": [
      "Exiting\n'posts: 2'\nPROGRESS: 15% (1799/11783)\nu'[Breath of sindregosa (PvP) Dmg? Halp!] (/forums/en/wow/topic/15161418591)'\n"
     ]
    },
    {
     "name": "stdout",
     "output_type": "stream",
     "text": [
      "HTTPError = 404\n"
     ]
    },
    {
     "name": "stdout",
     "output_type": "stream",
     "text": [
      "Exiting\n'posts: 12'\nPROGRESS: 15% (1800/11783)\n"
     ]
    },
    {
     "name": "stdout",
     "output_type": "stream",
     "text": [
      "u'[500k hp dks in arena] (/forums/en/wow/topic/15161278109)'\n"
     ]
    },
    {
     "name": "stdout",
     "output_type": "stream",
     "text": [
      "Exiting\n'posts: 8'\nPROGRESS: 15% (1801/11783)\nu'[Restarting Arena] (/forums/en/wow/topic/15161298883)'\n"
     ]
    },
    {
     "name": "stdout",
     "output_type": "stream",
     "text": [
      "Exiting\n'posts: 3'\nPROGRESS: 15% (1802/11783)\nu'[LF DK channel] (/forums/en/wow/topic/15161818864)'\n"
     ]
    },
    {
     "name": "stdout",
     "output_type": "stream",
     "text": [
      "[Errno 10054] An existing connection was forcibly closed by the remote host\n"
     ]
    },
    {
     "name": "stdout",
     "output_type": "stream",
     "text": [
      "HTTPError = 404\n"
     ]
    },
    {
     "name": "stdout",
     "output_type": "stream",
     "text": [
      "Exiting\n'posts: 4'\nPROGRESS: 15% (1803/11783)\nu'[Mastery & Multistrike rate (PVE)] (/forums/en/wow/topic/15161308842)'\n"
     ]
    },
    {
     "name": "stdout",
     "output_type": "stream",
     "text": [
      "Exiting\n'posts: 5'\nPROGRESS: 15% (1804/11783)\nu'[DK / Resto Druid 2s advice] (/forums/en/wow/topic/15161308656)'\n"
     ]
    },
    {
     "name": "stdout",
     "output_type": "stream",
     "text": [
      "Exiting\n'posts: 7'\nPROGRESS: 15% (1805/11783)\nu'[2H or DW for pvp? 2k+?? (Frost dk)] (/forums/en/wow/topic/15161248767)'\n"
     ]
    },
    {
     "name": "stdout",
     "output_type": "stream",
     "text": [
      "Exiting\n'posts: 2'\nPROGRESS: 15% (1806/11783)\nu'[Frost dk duel feral druid? help..] (/forums/en/wow/topic/15162418864)'\n"
     ]
    },
    {
     "name": "stdout",
     "output_type": "stream",
     "text": [
      "Exiting\n'posts: 5'\nPROGRESS: 15% (1807/11783)\nu'[best race for a death knight (looks wise not advantage)] (/forums/en/wow/topic/15059857996)'\n"
     ]
    },
    {
     "name": "stdout",
     "output_type": "stream",
     "text": [
      "Exiting\n'posts: 18'\nPROGRESS: 15% (1808/11783)\nu'[Frost DW rotation] (/forums/en/wow/topic/15161308736)'\n"
     ]
    },
    {
     "name": "stdout",
     "output_type": "stream",
     "text": [
      "Exiting\n'posts: 3'\nPROGRESS: 15% (1809/11783)\nu'[Alternative talents to regenerate runes?] (/forums/en/wow/topic/15162417942)'\n"
     ]
    },
    {
     "name": "stdout",
     "output_type": "stream",
     "text": [
      "Exiting\n'posts: 13'\nPROGRESS: 15% (1810/11783)\nu'[Frost DK 2h or DW?] (/forums/en/wow/topic/15161888650)'\n"
     ]
    },
    {
     "name": "stdout",
     "output_type": "stream",
     "text": [
      "[Errno 10054] An existing connection was forcibly closed by the remote host\n"
     ]
    },
    {
     "name": "stdout",
     "output_type": "stream",
     "text": [
      "Exiting\n'posts: 4'\nPROGRESS: 15% (1811/11783)\nu\"[Are Dk's a rewarding class in PvP?] (/forums/en/wow/topic/15161247623)\"\n"
     ]
    },
    {
     "name": "stdout",
     "output_type": "stream",
     "text": [
      "Exiting\n'posts: 9'\nPROGRESS: 15% (1812/11783)\nu'[News on Archi trinket?] (/forums/en/wow/topic/15161886755)'\n"
     ]
    },
    {
     "name": "stdout",
     "output_type": "stream",
     "text": [
      "Exiting\n'posts: 14'\nPROGRESS: 15% (1813/11783)\nu'[Solo Blood DK Race] (/forums/en/wow/topic/15161308422)'\n"
     ]
    },
    {
     "name": "stdout",
     "output_type": "stream",
     "text": [
      "Exiting\n'posts: 4'\nPROGRESS: 15% (1814/11783)\nu'[Two questions surrounding dual wield frost.] (/forums/en/wow/topic/15161828638)'\n"
     ]
    },
    {
     "name": "stdout",
     "output_type": "stream",
     "text": [
      "Exiting\n'posts: 3'\nPROGRESS: 15% (1815/11783)\nu'[Unholy without pet] (/forums/en/wow/topic/15161888401)'\n"
     ]
    },
    {
     "name": "stdout",
     "output_type": "stream",
     "text": [
      "Exiting\n'posts: 8'\nPROGRESS: 15% (1816/11783)\nu'[Weak Auras: Blood DK] (/forums/en/wow/topic/15161328428)'\n"
     ]
    },
    {
     "name": "stdout",
     "output_type": "stream",
     "text": [
      "Exiting\n'posts: 1'\nPROGRESS: 15% (1817/11783)\nu'[Need help deciding on a tanking class~] (/forums/en/wow/topic/15161298377)'\nHTTPError = 404\n"
     ]
    },
    {
     "name": "stdout",
     "output_type": "stream",
     "text": [
      "[Errno 10054] An existing connection was forcibly closed by the remote host\n"
     ]
    },
    {
     "name": "stdout",
     "output_type": "stream",
     "text": [
      "Exiting\n'posts: 4'\nPROGRESS: 15% (1818/11783)\nu'[how to dps as unholy in pvp] (/forums/en/wow/topic/15161827987)'\n"
     ]
    },
    {
     "name": "stdout",
     "output_type": "stream",
     "text": [
      "Exiting\n'posts: 15'\nPROGRESS: 15% (1819/11783)\nu'[Under 25k dps with 680+ ilvl?] (/forums/en/wow/topic/15161308067)'\n"
     ]
    },
    {
     "name": "stdout",
     "output_type": "stream",
     "text": [
      "Exiting\n'posts: 11'\nPROGRESS: 15% (1820/11783)\nu'[Rate the transmog above you!] (/forums/en/wow/topic/15161308205)'\n"
     ]
    },
    {
     "name": "stdout",
     "output_type": "stream",
     "text": [
      "Exiting\n'posts: 1'\nPROGRESS: 15% (1821/11783)\nu'[Can you redesign the class plz (pvp)] (/forums/en/wow/topic/15161828113)'\n"
     ]
    },
    {
     "name": "stdout",
     "output_type": "stream",
     "text": [
      "Exiting\n'posts: 5'\nPROGRESS: 15% (1822/11783)\nu'[Unholy dk PvE] (/forums/en/wow/topic/15162508130)'\n"
     ]
    },
    {
     "name": "stdout",
     "output_type": "stream",
     "text": [
      "Exiting\n'posts: 7'\nPROGRESS: 15% (1823/11783)\nu'[Frost DK: Crafted weapons and upgrading] (/forums/en/wow/topic/15161417936)'\n"
     ]
    },
    {
     "name": "stdout",
     "output_type": "stream",
     "text": [
      "Exiting\n'posts: 6'\nPROGRESS: 15% (1824/11783)\nu'[How to see duel wield hits as a single hit?] (/forums/en/wow/topic/15161887827)'\n"
     ]
    },
    {
     "name": "stdout",
     "output_type": "stream",
     "text": [
      "Exiting\n'posts: 6'\nPROGRESS: 15% (1825/11783)\nu'[why?] (/forums/en/wow/topic/15161296828)'\n"
     ]
    },
    {
     "name": "stdout",
     "output_type": "stream",
     "text": [
      "Exiting\n'posts: 19'\nPROGRESS: 15% (1826/11783)\nu'[New to Blood DK, Aggro Problems] (/forums/en/wow/topic/15161417884)'\n"
     ]
    },
    {
     "name": "stdout",
     "output_type": "stream",
     "text": [
      "Exiting\n'posts: 3'\nPROGRESS: 15% (1827/11783)\nu'[DPS Help needed pve - pulling my hair out!] (/forums/en/wow/topic/15162508072)'\n"
     ]
    },
    {
     "name": "stdout",
     "output_type": "stream",
     "text": [
      "Exiting\n'posts: 8'\nPROGRESS: 15% (1828/11783)\nu'[Frost DK Heirlooms?] (/forums/en/wow/topic/15161327913)'\n"
     ]
    },
    {
     "name": "stdout",
     "output_type": "stream",
     "text": [
      "Exiting\n'posts: 4'\nPROGRESS: 15% (1829/11783)\nu'[Dk transmog advice!] (/forums/en/wow/topic/15161247842)'\n"
     ]
    },
    {
     "name": "stdout",
     "output_type": "stream",
     "text": [
      "Exiting\n'posts: 4'\nPROGRESS: 15% (1830/11783)\nu'[Trinket question] (/forums/en/wow/topic/15161827944)'\n"
     ]
    },
    {
     "name": "stdout",
     "output_type": "stream",
     "text": [
      "Exiting\n'posts: 6'\nPROGRESS: 15% (1831/11783)\nu'[Runes and my OCD] (/forums/en/wow/topic/15161327378)'\n"
     ]
    },
    {
     "name": "stdout",
     "output_type": "stream",
     "text": [
      "Exiting\n'posts: 10'\nPROGRESS: 15% (1832/11783)\nu'[more frost dk nerfs inc] (/forums/en/wow/topic/15162417905)'\n"
     ]
    },
    {
     "name": "stdout",
     "output_type": "stream",
     "text": [
      "[Errno 10054] An existing connection was forcibly closed by the remote host\n"
     ]
    },
    {
     "name": "stdout",
     "output_type": "stream",
     "text": [
      "Exiting\n'posts: 2'\nPROGRESS: 15% (1833/11783)\nu'[PvP 2H/DW] (/forums/en/wow/topic/15162417895)'\n"
     ]
    },
    {
     "name": "stdout",
     "output_type": "stream",
     "text": [
      "Exiting\n'posts: 1'\nPROGRESS: 15% (1834/11783)\nu'[DW frost DK - losing DPS problem] (/forums/en/wow/topic/15162416857)'\n"
     ]
    },
    {
     "name": "stdout",
     "output_type": "stream",
     "text": [
      "Exiting\n'posts: 20'\nPROGRESS: 15% (1835/11783)\nu'[Frost 2h or DW?] (/forums/en/wow/topic/15161417587)'\n"
     ]
    },
    {
     "name": "stdout",
     "output_type": "stream",
     "text": [
      "Exiting\n'posts: 16'\nPROGRESS: 15% (1836/11783)\nu'[deathrune becomes bugged changed to a bloodrune as fros] (/forums/en/wow/topic/15161276120)'\n"
     ]
    },
    {
     "name": "stdout",
     "output_type": "stream",
     "text": [
      "Exiting\n'posts: 13'\nPROGRESS: 15% (1837/11783)\nu'[Frost DK blood rune bug] (/forums/en/wow/topic/15161347721)'\n"
     ]
    },
    {
     "name": "stdout",
     "output_type": "stream",
     "text": [
      "[Errno 10054] An existing connection was forcibly closed by the remote host\n"
     ]
    },
    {
     "name": "stdout",
     "output_type": "stream",
     "text": [
      "Exiting\n'posts: 7'\nPROGRESS: 15% (1838/11783)\nu\"[Dk's 2 set Tier bonus bugged??] (/forums/en/wow/topic/15161347807)\"\n"
     ]
    },
    {
     "name": "stdout",
     "output_type": "stream",
     "text": [
      "Exiting\n'posts: 3'\nPROGRESS: 15% (1839/11783)\nu'[Leveling my Deathknight] (/forums/en/wow/topic/15161817714)'\n"
     ]
    },
    {
     "name": "stdout",
     "output_type": "stream",
     "text": [
      "[Errno 10054] An existing connection was forcibly closed by the remote host\n"
     ]
    },
    {
     "name": "stdout",
     "output_type": "stream",
     "text": [
      "Exiting\n'posts: 3'\nPROGRESS: 15% (1840/11783)\nu'[Advanced PvP tips] (/forums/en/wow/topic/15161826989)'\n"
     ]
    },
    {
     "name": "stdout",
     "output_type": "stream",
     "text": [
      "Exiting\n'posts: 8'\nPROGRESS: 15% (1841/11783)\nu'[DK is just !@#$ again] (/forums/en/wow/topic/15060807748)'\n"
     ]
    },
    {
     "name": "stdout",
     "output_type": "stream",
     "text": [
      "Exiting\n'posts: 46'\nPROGRESS: 15% (1842/11783)\nu'[Good frost DK names?] (/forums/en/wow/topic/13987619811)'\n"
     ]
    },
    {
     "name": "stdout",
     "output_type": "stream",
     "text": [
      "Exiting\n'posts: 17'\nPROGRESS: 15% (1843/11783)\nu'[Simple solution to a Simple problem - Fix Mobility(pvp)] (/forums/en/wow/topic/15161277003)'\nHTTPError = 404\n"
     ]
    },
    {
     "name": "stdout",
     "output_type": "stream",
     "text": [
      "Exiting\n'posts: 14'\nPROGRESS: 15% (1844/11783)\nu'[Blood of the North] (/forums/en/wow/topic/15161327410)'\n"
     ]
    },
    {
     "name": "stdout",
     "output_type": "stream",
     "text": [
      "Exiting\n'posts: 3'\nPROGRESS: 15% (1845/11783)\nu'[Challenge Mode Frost DK] (/forums/en/wow/topic/15161887144)'\n"
     ]
    },
    {
     "name": "stdout",
     "output_type": "stream",
     "text": [
      "Exiting\n'posts: 42'\nPROGRESS: 15% (1846/11783)\nu'[Hotfix: DK nerfs in PVP] (/forums/en/wow/topic/15060198291)'\n"
     ]
    },
    {
     "name": "stdout",
     "output_type": "stream",
     "text": [
      "Exiting\n'posts: 4'\nPROGRESS: 15% (1847/11783)\nu'[4p or 2p/2p] (/forums/en/wow/topic/15162417371)'\n"
     ]
    },
    {
     "name": "stdout",
     "output_type": "stream",
     "text": [
      "[Errno 10054] An existing connection was forcibly closed by the remote host\n"
     ]
    },
    {
     "name": "stdout",
     "output_type": "stream",
     "text": [
      "Exiting\n'posts: 1'\nPROGRESS: 15% (1848/11783)\nu'[why is eveyone saying that human racials got nerfed ?] (/forums/en/wow/topic/15161347338)'\n"
     ]
    },
    {
     "name": "stdout",
     "output_type": "stream",
     "text": [
      "Exiting\n'posts: 5'\nPROGRESS: 15% (1849/11783)\nu'[Dark simularcum] (/forums/en/wow/topic/15161886229)'\n"
     ]
    },
    {
     "name": "stdout",
     "output_type": "stream",
     "text": [
      "Exiting\n'posts: 5'\nPROGRESS: 15% (1850/11783)\n"
     ]
    },
    {
     "name": "stdout",
     "output_type": "stream",
     "text": [
      "u'[NEED SOME HELP !] (/forums/en/wow/topic/15161347321)'\n"
     ]
    },
    {
     "name": "stdout",
     "output_type": "stream",
     "text": [
      "Exiting\n'posts: 2'\nPROGRESS: 15% (1851/11783)\nu'[Damn healers are op ^_^] (/forums/en/wow/topic/15162506100)'\n"
     ]
    },
    {
     "name": "stdout",
     "output_type": "stream",
     "text": [
      "Exiting\n'posts: 16'\nPROGRESS: 15% (1852/11783)\nu'[Sour Reaper - pevepe] (/forums/en/wow/topic/15161827270)'\n"
     ]
    },
    {
     "name": "stdout",
     "output_type": "stream",
     "text": [
      "Exiting\n'posts: 7'\nPROGRESS: 15% (1853/11783)\nu'[question] (/forums/en/wow/topic/15161347165)'\nHTTPError = 404\n"
     ]
    },
    {
     "name": "stdout",
     "output_type": "stream",
     "text": [
      "Exiting\n'posts: 7'\nPROGRESS: 15% (1854/11783)\nu'[2s dk comps] (/forums/en/wow/topic/15161296675)'\n"
     ]
    },
    {
     "name": "stdout",
     "output_type": "stream",
     "text": [
      "[Errno 10054] An existing connection was forcibly closed by the remote host\n"
     ]
    },
    {
     "name": "stdout",
     "output_type": "stream",
     "text": [
      "Exiting\n'posts: 7'\nPROGRESS: 15% (1855/11783)\nu'[DW frost enchants] (/forums/en/wow/topic/15161417125)'\n"
     ]
    },
    {
     "name": "stdout",
     "output_type": "stream",
     "text": [
      "Exiting\n'posts: 4'\nPROGRESS: 15% (1856/11783)\nu'[Haste for DW frost DK] (/forums/en/wow/topic/15161347117)'\n"
     ]
    },
    {
     "name": "stdout",
     "output_type": "stream",
     "text": [
      "Exiting\n'posts: 4'\nPROGRESS: 15% (1857/11783)\nu'[Need some help !!] (/forums/en/wow/topic/15161307056)'\n"
     ]
    },
    {
     "name": "stdout",
     "output_type": "stream",
     "text": [
      "Exiting\n'posts: 3'\nPROGRESS: 15% (1858/11783)\nu'[Help :)] (/forums/en/wow/topic/15161816959)'\n"
     ]
    },
    {
     "name": "stdout",
     "output_type": "stream",
     "text": [
      "Exiting\n'posts: 7'\nPROGRESS: 15% (1859/11783)\nu'[Help me choosing a Death Knight name] (/forums/en/wow/topic/15161306970)'\n"
     ]
    },
    {
     "name": "stdout",
     "output_type": "stream",
     "text": [
      "Exiting\n'posts: 5'\nPROGRESS: 15% (1860/11783)\nu'[Love for the \"Worst Gear Ever\"] (/forums/en/wow/topic/15161326960)'\n"
     ]
    },
    {
     "name": "stdout",
     "output_type": "stream",
     "text": [
      "Exiting\n'posts: 6'\nPROGRESS: 15% (1861/11783)\nu'[7 day free time] (/forums/en/wow/topic/15161816928)'\n"
     ]
    },
    {
     "name": "stdout",
     "output_type": "stream",
     "text": [
      "Exiting\n'posts: 4'\nPROGRESS: 15% (1862/11783)\nu'[Necromancer transmog] (/forums/en/wow/topic/15162506932)'\n"
     ]
    },
    {
     "name": "stdout",
     "output_type": "stream",
     "text": [
      "Exiting\n'posts: 2'\nPROGRESS: 15% (1863/11783)\nu'[Blood Tap] (/forums/en/wow/topic/15161306795)'\n"
     ]
    },
    {
     "name": "stdout",
     "output_type": "stream",
     "text": [
      "Exiting\n'posts: 3'\nPROGRESS: 15% (1864/11783)\nu'[Arena : Level 100 talent.] (/forums/en/wow/topic/15161346293)'\nHTTPError = 404\n"
     ]
    },
    {
     "name": "stdout",
     "output_type": "stream",
     "text": [
      "Exiting\n'posts: 8'\nPROGRESS: 15% (1865/11783)\nu'[Frost DK overhaul for 7.0] (/forums/en/wow/topic/15060398092)'\n"
     ]
    },
    {
     "name": "stdout",
     "output_type": "stream",
     "text": [
      "Exiting\n'posts: 9'\nPROGRESS: 15% (1866/11783)\nu'[What dps should I put out?] (/forums/en/wow/topic/15161296784)'\n"
     ]
    },
    {
     "name": "stdout",
     "output_type": "stream",
     "text": [
      "Exiting\n'posts: 5'\nPROGRESS: 15% (1867/11783)\nu'[Why 1h?] (/forums/en/wow/topic/15161346625)'\n"
     ]
    },
    {
     "name": "stdout",
     "output_type": "stream",
     "text": [
      "Exiting\n'posts: 12'\nPROGRESS: 15% (1868/11783)\nu'[2H or 2x 1H?] (/forums/en/wow/topic/15162506789)'\n"
     ]
    },
    {
     "name": "stdout",
     "output_type": "stream",
     "text": [
      "Exiting\n'posts: 3'\nPROGRESS: 15% (1869/11783)\nu'[Nerfing DK again ? what do your Devs smoke ?] (/forums/en/wow/topic/15060677674)'\n"
     ]
    },
    {
     "name": "stdout",
     "output_type": "stream",
     "text": [
      "Exiting\n'posts: 74'\nPROGRESS: 15% (1870/11783)\nu'[dk addon help?] (/forums/en/wow/topic/15161816443)'\n"
     ]
    },
    {
     "name": "stdout",
     "output_type": "stream",
     "text": [
      "Exiting\n'posts: 6'\nPROGRESS: 15% (1871/11783)\nu'[Which year approximately we can play frost in pve again] (/forums/en/wow/topic/15060397974)'\n"
     ]
    },
    {
     "name": "stdout",
     "output_type": "stream",
     "text": [
      "Exiting\n'posts: 5'\nPROGRESS: 15% (1872/11783)\nu'[Commin back to wow. Is there a point?] (/forums/en/wow/topic/15161816439)'\n"
     ]
    },
    {
     "name": "stdout",
     "output_type": "stream",
     "text": [
      "Exiting\n'posts: 3'\nPROGRESS: 15% (1873/11783)\nu'[So Unholy Will be?] (/forums/en/wow/topic/15059817852)'\n"
     ]
    },
    {
     "name": "stdout",
     "output_type": "stream",
     "text": [
      "Exiting\n'posts: 25'\nPROGRESS: 15% (1874/11783)\nu'[buff nedded for 2h] (/forums/en/wow/topic/15161816247)'\n"
     ]
    },
    {
     "name": "stdout",
     "output_type": "stream",
     "text": [
      "Exiting\n'posts: 11'\nPROGRESS: 15% (1875/11783)\nu'[Howling Blast Animation] (/forums/en/wow/topic/15161246379)'\n"
     ]
    },
    {
     "name": "stdout",
     "output_type": "stream",
     "text": [
      "Exiting\n'posts: 1'\nPROGRESS: 15% (1876/11783)\nu'[Baleful trinket vs mythic tectus trinket (DWF)] (/forums/en/wow/topic/15161276374)'\n"
     ]
    },
    {
     "name": "stdout",
     "output_type": "stream",
     "text": [
      "Exiting\n'posts: 2'\nPROGRESS: 15% (1877/11783)\nu'[Frost dk to dps meter] (/forums/en/wow/topic/15161826437)'\n"
     ]
    },
    {
     "name": "stdout",
     "output_type": "stream",
     "text": [
      "Exiting\n'posts: 4'\nPROGRESS: 15% (1878/11783)\nu\"[So... DW or 2H ?? [PVP, 3s']] (/forums/en/wow/topic/15161886111)\"\n"
     ]
    },
    {
     "name": "stdout",
     "output_type": "stream",
     "text": [
      "Exiting\n'posts: 10'\nPROGRESS: 15% (1879/11783)\nu'[Unholy is what this game needs.] (/forums/en/wow/topic/15161346102)'\n"
     ]
    },
    {
     "name": "stdout",
     "output_type": "stream",
     "text": [
      "Exiting\n'posts: 12'\nPROGRESS: 15% (1880/11783)\nu'[Nerf train keeps going on] (/forums/en/wow/topic/15162506131)'\n"
     ]
    },
    {
     "name": "stdout",
     "output_type": "stream",
     "text": [
      "Exiting\n'posts: 16'\nPROGRESS: 15% (1881/11783)\nu'[In combat switching weapons as frost.] (/forums/en/wow/topic/15161816163)'\n"
     ]
    },
    {
     "name": "stdout",
     "output_type": "stream",
     "text": [
      "Exiting\n'posts: 2'\nPROGRESS: 15% (1882/11783)\nu'[Stat priortity DK Frost] (/forums/en/wow/topic/15060357882)'\n"
     ]
    },
    {
     "name": "stdout",
     "output_type": "stream",
     "text": [
      "Exiting\n'posts: 11'\nPROGRESS: 15% (1883/11783)\nu'[Frost or unholy ? For raids] (/forums/en/wow/topic/15060678072)'\n"
     ]
    },
    {
     "name": "stdout",
     "output_type": "stream",
     "text": [
      "Exiting\n'posts: 6'\nPROGRESS: 15% (1884/11783)\nu'[Blood and legendary ring.] (/forums/en/wow/topic/15060807972)'\n"
     ]
    },
    {
     "name": "stdout",
     "output_type": "stream",
     "text": [
      "Exiting\n'posts: 10'\nPROGRESS: 15% (1885/11783)\nu'[Raiding Guild] (/forums/en/wow/topic/15060188193)'\n"
     ]
    },
    {
     "name": "stdout",
     "output_type": "stream",
     "text": [
      "Exiting\n'posts: 2'\nPROGRESS: 16% (1886/11783)\nu'[T18 set bonuses] (/forums/en/wow/topic/15060188158)'\n"
     ]
    },
    {
     "name": "stdout",
     "output_type": "stream",
     "text": [
      "Exiting\n'posts: 2'\nPROGRESS: 16% (1887/11783)\nu'[How to self-heal as frost?] (/forums/en/wow/topic/15060678087)'\n"
     ]
    },
    {
     "name": "stdout",
     "output_type": "stream",
     "text": [
      "Exiting\n'posts: 5'\nPROGRESS: 16% (1888/11783)\nu'[Massgrip glitch..?] (/forums/en/wow/topic/15060387984)'\nHTTPError = 404\n"
     ]
    },
    {
     "name": "stdout",
     "output_type": "stream",
     "text": [
      "Exiting\n'posts: 6'\nPROGRESS: 16% (1889/11783)\nu'[DW Frost Weapons choice] (/forums/en/wow/topic/15060357685)'\n"
     ]
    },
    {
     "name": "stdout",
     "output_type": "stream",
     "text": [
      "Exiting\n'posts: 4'\nPROGRESS: 16% (1890/11783)\nu'[About Frost After Nerfs] (/forums/en/wow/topic/15059858238)'\n"
     ]
    },
    {
     "name": "stdout",
     "output_type": "stream",
     "text": [
      "Exiting\n'posts: 7'\nPROGRESS: 16% (1891/11783)\nu'[How can I maximize the blood dk (need help)] (/forums/en/wow/topic/15060807754)'\n"
     ]
    },
    {
     "name": "stdout",
     "output_type": "stream",
     "text": [
      "Exiting\n'posts: 1'\nPROGRESS: 16% (1892/11783)\nu'[What spec for DPS?] (/forums/en/wow/topic/15060198361)'\n"
     ]
    },
    {
     "name": "stdout",
     "output_type": "stream",
     "text": [
      "Exiting\n'posts: 4'\nPROGRESS: 16% (1893/11783)\nu'[Can blizz just stop it?] (/forums/en/wow/topic/15060007825)'\n"
     ]
    },
    {
     "name": "stdout",
     "output_type": "stream",
     "text": [
      "Exiting\n'posts: 3'\nPROGRESS: 16% (1894/11783)\nu'[Comeback to wow?] (/forums/en/wow/topic/15060357633)'\n"
     ]
    },
    {
     "name": "stdout",
     "output_type": "stream",
     "text": [
      "Exiting\n'posts: 1'\nPROGRESS: 16% (1895/11783)\nu'[Why troll dks?] (/forums/en/wow/topic/15060198125)'\n"
     ]
    },
    {
     "name": "stdout",
     "output_type": "stream",
     "text": [
      "HTTPError = 404\n"
     ]
    },
    {
     "name": "stdout",
     "output_type": "stream",
     "text": [
      "Exiting\n'posts: 20'\nPROGRESS: 16% (1896/11783)\nu'[PvP wise With al those Nerfs is better DW or 2H?] (/forums/en/wow/topic/15060787428)'\n"
     ]
    },
    {
     "name": "stdout",
     "output_type": "stream",
     "text": [
      "Exiting\n'posts: 1'\nPROGRESS: 16% (1897/11783)\nu'[What they nerf  on DW ??] (/forums/en/wow/topic/15060387654)'\n"
     ]
    },
    {
     "name": "stdout",
     "output_type": "stream",
     "text": [
      "Exiting\n'posts: 5'\nPROGRESS: 16% (1898/11783)\nu'[Dk or Retri pala?] (/forums/en/wow/topic/14899383470)'\n"
     ]
    },
    {
     "name": "stdout",
     "output_type": "stream",
     "text": [
      "Exiting\n'posts: 16'\nPROGRESS: 16% (1899/11783)\nu'[What spec are you gonna play in 6.2 ? :)] (/forums/en/wow/topic/15059817493)'\n"
     ]
    },
    {
     "name": "stdout",
     "output_type": "stream",
     "text": [
      "Exiting\n'posts: 18'\nPROGRESS: 16% (1900/11783)\n"
     ]
    },
    {
     "name": "stdout",
     "output_type": "stream",
     "text": [
      "u'[What are you doing blizz?] (/forums/en/wow/topic/15060357468)'\nHTTPError = 404\n"
     ]
    },
    {
     "name": "stdout",
     "output_type": "stream",
     "text": [
      "Exiting\n'posts: 2'\nPROGRESS: 16% (1901/11783)\nu'[June 25th [Hotfix]] (/forums/en/wow/topic/15060187736)'\n"
     ]
    },
    {
     "name": "stdout",
     "output_type": "stream",
     "text": [
      "Exiting\n'posts: 2'\nPROGRESS: 16% (1902/11783)\nu'[DK Weapon choice PVP] (/forums/en/wow/topic/15060357495)'\n"
     ]
    },
    {
     "name": "stdout",
     "output_type": "stream",
     "text": [
      "Exiting\n'posts: 2'\nPROGRESS: 16% (1903/11783)\nu'[Frost DK PvP/PvE DW or 2H?(New DK player )] (/forums/en/wow/topic/15060387586)'\n"
     ]
    },
    {
     "name": "stdout",
     "output_type": "stream",
     "text": [
      "Exiting\n'posts: 3'\nPROGRESS: 16% (1904/11783)\nu'[The only motivation to play again, gone in 2 days] (/forums/en/wow/topic/15060787291)'\n"
     ]
    },
    {
     "name": "stdout",
     "output_type": "stream",
     "text": [
      "Exiting\n'posts: 9'\nPROGRESS: 16% (1905/11783)\nu'[To the devs regarding the recent DK nerfs] (/forums/en/wow/topic/15060387580)'\n"
     ]
    },
    {
     "name": "stdout",
     "output_type": "stream",
     "text": [
      "Exiting\n'posts: 12'\nPROGRESS: 16% (1906/11783)\nu'[Basicly cant bring a frost dk to a raid again] (/forums/en/wow/topic/15060397780)'\n"
     ]
    },
    {
     "name": "stdout",
     "output_type": "stream",
     "text": [
      "Exiting\n'posts: 3'\nPROGRESS: 16% (1907/11783)\nu'[DW or 2H as frost dk?] (/forums/en/wow/topic/15061137390)'\n"
     ]
    },
    {
     "name": "stdout",
     "output_type": "stream",
     "text": [
      "HTTPError = 404\n"
     ]
    },
    {
     "name": "stdout",
     "output_type": "stream",
     "text": [
      "Exiting\n'posts: 9'\nPROGRESS: 16% (1908/11783)\nu'[What was the point of PTR then?] (/forums/en/wow/topic/15060807535)'\n"
     ]
    },
    {
     "name": "stdout",
     "output_type": "stream",
     "text": [
      "Exiting\n'posts: 1'\nPROGRESS: 16% (1909/11783)\nu'[Use of blood tap] (/forums/en/wow/topic/15060356609)'\n"
     ]
    },
    {
     "name": "stdout",
     "output_type": "stream",
     "text": [
      "[Errno 10054] An existing connection was forcibly closed by the remote host\n"
     ]
    },
    {
     "name": "stdout",
     "output_type": "stream",
     "text": [
      "Exiting\n'posts: 7'\nPROGRESS: 16% (1910/11783)\nu'[Dual Wield Frost] (/forums/en/wow/topic/15060807369)'\n"
     ]
    },
    {
     "name": "stdout",
     "output_type": "stream",
     "text": [
      "Exiting\n'posts: 2'\nPROGRESS: 16% (1911/11783)\nu'[Blood DK need of assistance] (/forums/en/wow/topic/15060197935)'\n"
     ]
    },
    {
     "name": "stdout",
     "output_type": "stream",
     "text": [
      "Exiting\n'posts: 1'\nPROGRESS: 16% (1912/11783)\nu'[How is DK 1vs1?] (/forums/en/wow/topic/15059857579)'\n"
     ]
    },
    {
     "name": "stdout",
     "output_type": "stream",
     "text": [
      "Exiting\n'posts: 6'\nPROGRESS: 16% (1913/11783)\nu'[DW PTR results] (/forums/en/wow/topic/14899710619)'\nHTTPError = 404\n"
     ]
    },
    {
     "name": "stdout",
     "output_type": "stream",
     "text": [
      "Exiting\n'posts: 19'\nPROGRESS: 16% (1914/11783)\nu'[Help with dungeons] (/forums/en/wow/topic/15060396440)'\n"
     ]
    },
    {
     "name": "stdout",
     "output_type": "stream",
     "text": [
      "Exiting\n'posts: 11'\nPROGRESS: 16% (1915/11783)\nu\"[Transmog issue, need fellow DK's help!] (/forums/en/wow/topic/15061137232)\"\nHTTPError = 404\n"
     ]
    },
    {
     "name": "stdout",
     "output_type": "stream",
     "text": [
      "Exiting\n'posts: 2'\nPROGRESS: 16% (1916/11783)\nu'[Breath of Syndragosa in PvP] (/forums/en/wow/topic/15049844950)'\nHTTPError = 404\n"
     ]
    },
    {
     "name": "stdout",
     "output_type": "stream",
     "text": [
      "Exiting\n'posts: 9'\nPROGRESS: 16% (1917/11783)\nu'[NERF DKS OMG!] (/forums/en/wow/topic/15059856660)'\n"
     ]
    },
    {
     "name": "stdout",
     "output_type": "stream",
     "text": [
      "Exiting\n'posts: 7'\nPROGRESS: 16% (1918/11783)\nu'[Dk and 6.2 help!] (/forums/en/wow/topic/15059816370)'\n"
     ]
    },
    {
     "name": "stdout",
     "output_type": "stream",
     "text": [
      "Exiting\n'posts: 7'\nPROGRESS: 16% (1919/11783)\nu'[DK is too op in pvp] (/forums/en/wow/topic/13686110221)'\n"
     ]
    },
    {
     "name": "stdout",
     "output_type": "stream",
     "text": [
      "Exiting\n'posts: 70'\nPROGRESS: 16% (1920/11783)\nu'[Runic Power - 1 Less Than Required?] (/forums/en/wow/topic/15061136123)'\n"
     ]
    },
    {
     "name": "stdout",
     "output_type": "stream",
     "text": [
      "Exiting\n'posts: 3'\nPROGRESS: 16% (1921/11783)\nu'[hey guys i really really need a help] (/forums/en/wow/topic/15049574890)'\n"
     ]
    },
    {
     "name": "stdout",
     "output_type": "stream",
     "text": [
      "[Errno 10054] An existing connection was forcibly closed by the remote host\n"
     ]
    },
    {
     "name": "stdout",
     "output_type": "stream",
     "text": [
      "Exiting\n'posts: 3'\nPROGRESS: 16% (1922/11783)\nu'[Ways to speed up a blood death knight?] (/forums/en/wow/topic/14900034050)'\n"
     ]
    },
    {
     "name": "stdout",
     "output_type": "stream",
     "text": [
      "Exiting\n'posts: 8'\nPROGRESS: 16% (1923/11783)\nu'[Question about Unholy PvP] (/forums/en/wow/topic/14899964072)'\n"
     ]
    },
    {
     "name": "stdout",
     "output_type": "stream",
     "text": [
      "Exiting\n'posts: 2'\nPROGRESS: 16% (1924/11783)\nu'[Question about Obliterate] (/forums/en/wow/topic/14899764354)'\n"
     ]
    },
    {
     "name": "stdout",
     "output_type": "stream",
     "text": [
      "Exiting\n'posts: 4'\nPROGRESS: 16% (1925/11783)\nu'[Blood Dk Trinkets] (/forums/en/wow/topic/14899579827)'\n"
     ]
    },
    {
     "name": "stdout",
     "output_type": "stream",
     "text": [
      "HTTPError = 404\n"
     ]
    },
    {
     "name": "stdout",
     "output_type": "stream",
     "text": [
      "Exiting\n'posts: 9'\nPROGRESS: 16% (1926/11783)\nu'[Creating a DK?] (/forums/en/wow/topic/14899712178)'\n"
     ]
    },
    {
     "name": "stdout",
     "output_type": "stream",
     "text": [
      "Exiting\n'posts: 8'\nPROGRESS: 16% (1927/11783)\nu'[Confessions of a Death Knight] (/forums/en/wow/topic/14899492701)'\n"
     ]
    },
    {
     "name": "stdout",
     "output_type": "stream",
     "text": [
      "Exiting\n'posts: 19'\nPROGRESS: 16% (1928/11783)\nu'[Appearance Change for DKs] (/forums/en/wow/topic/14899582411)'\n"
     ]
    },
    {
     "name": "stdout",
     "output_type": "stream",
     "text": [
      "Exiting\n'posts: 4'\nPROGRESS: 16% (1929/11783)\nu'[DK Rune cooldown not showing?] (/forums/en/wow/topic/14899962802)'\n"
     ]
    },
    {
     "name": "stdout",
     "output_type": "stream",
     "text": [
      "Exiting\n'posts: 4'\nPROGRESS: 16% (1930/11783)\nu'[Require help with weakauras] (/forums/en/wow/topic/14899712185)'\n"
     ]
    },
    {
     "name": "stdout",
     "output_type": "stream",
     "text": [
      "Exiting\n'posts: 3'\nPROGRESS: 16% (1931/11783)\nu'[need a blue reply plz :(...] (/forums/en/wow/topic/14899462197)'\n"
     ]
    },
    {
     "name": "stdout",
     "output_type": "stream",
     "text": [
      "Exiting\n'posts: 5'\nPROGRESS: 16% (1932/11783)\nu'[Sigh] (/forums/en/wow/topic/14899961489)'\n"
     ]
    },
    {
     "name": "stdout",
     "output_type": "stream",
     "text": [
      "Exiting\n'posts: 26'\nPROGRESS: 16% (1933/11783)\nu'[Unholy Dk Pvp potential] (/forums/en/wow/topic/14821603416)'\n"
     ]
    },
    {
     "name": "stdout",
     "output_type": "stream",
     "text": [
      "Exiting\n'posts: 6'\nPROGRESS: 16% (1934/11783)\nu'[Which gear should I choose? (stats)] (/forums/en/wow/topic/14900031530)'\n"
     ]
    },
    {
     "name": "stdout",
     "output_type": "stream",
     "text": [
      "Exiting\n'posts: 5'\nPROGRESS: 16% (1935/11783)\nu'[Unholy pvp problems, looking for advice] (/forums/en/wow/topic/14899551253)'\n"
     ]
    },
    {
     "name": "stdout",
     "output_type": "stream",
     "text": [
      "[Errno 10054] An existing connection was forcibly closed by the remote host\n"
     ]
    },
    {
     "name": "stdout",
     "output_type": "stream",
     "text": [
      "Exiting\n'posts: 9'\nPROGRESS: 16% (1936/11783)\nu'[Necrotic Plague] (/forums/en/wow/topic/14755005783)'\n"
     ]
    },
    {
     "name": "stdout",
     "output_type": "stream",
     "text": [
      "Exiting\n'posts: 4'\nPROGRESS: 16% (1937/11783)\nu'[Frost dk pvp set] (/forums/en/wow/topic/14628394074)'\n"
     ]
    },
    {
     "name": "stdout",
     "output_type": "stream",
     "text": [
      "Exiting\n'posts: 14'\nPROGRESS: 16% (1938/11783)\nu'[Is it worth to play a dps dk] (/forums/en/wow/topic/14821403656)'\n"
     ]
    },
    {
     "name": "stdout",
     "output_type": "stream",
     "text": [
      "Exiting\n'posts: 14'\nPROGRESS: 16% (1939/11783)\nu'[DK is the strongest class in WoD.] (/forums/en/wow/topic/14628594328)'\nHTTPError = 404\n"
     ]
    },
    {
     "name": "stdout",
     "output_type": "stream",
     "text": [
      "Exiting\n'posts: 24'\nPROGRESS: 16% (1940/11783)\nu'[Death Knight Losing its Luster] (/forums/en/wow/topic/14821093513)'\n"
     ]
    },
    {
     "name": "stdout",
     "output_type": "stream",
     "text": [
      "Exiting\n'posts: 17'\nPROGRESS: 16% (1941/11783)\nu'[ilvl 668 22-23k dps seems low] (/forums/en/wow/topic/14900031292)'\n"
     ]
    },
    {
     "name": "stdout",
     "output_type": "stream",
     "text": [
      "Exiting\n'posts: 5'\nPROGRESS: 16% (1942/11783)\nu'[Just a question about necrotic plague stacks] (/forums/en/wow/topic/14899461396)'\n"
     ]
    },
    {
     "name": "stdout",
     "output_type": "stream",
     "text": [
      "Exiting\n'posts: 11'\nPROGRESS: 16% (1943/11783)\nu'[Frost pvp - have some doubts about talents] (/forums/en/wow/topic/14898850400)'\n"
     ]
    },
    {
     "name": "stdout",
     "output_type": "stream",
     "text": [
      "Exiting\n'posts: 4'\nPROGRESS: 16% (1944/11783)\nu'[DW PVP viable in 6.2] (/forums/en/wow/topic/14900030300)'\n"
     ]
    },
    {
     "name": "stdout",
     "output_type": "stream",
     "text": [
      "HTTPError = 404\n"
     ]
    },
    {
     "name": "stdout",
     "output_type": "stream",
     "text": [
      "Exiting\n'posts: 10'\nPROGRESS: 16% (1945/11783)\nu'[Get DK a seperate Healing Spec :D] (/forums/en/wow/topic/14755906378)'\n"
     ]
    },
    {
     "name": "stdout",
     "output_type": "stream",
     "text": [
      "Exiting\n'posts: 4'\nPROGRESS: 16% (1946/11783)\nu'[rate the death knight name above you] (/forums/en/wow/topic/14821053650)'\n"
     ]
    },
    {
     "name": "stdout",
     "output_type": "stream",
     "text": [
      "Exiting\n'posts: 9'\nPROGRESS: 16% (1947/11783)\nu'[Frost dk and blood boil] (/forums/en/wow/topic/14755616724)'\n"
     ]
    },
    {
     "name": "stdout",
     "output_type": "stream",
     "text": [
      "Exiting\n'posts: 6'\nPROGRESS: 16% (1948/11783)\nu'[DK 3v3 - walking dead cleave montage..] (/forums/en/wow/topic/14628454156)'\n"
     ]
    },
    {
     "name": "stdout",
     "output_type": "stream",
     "text": [
      "[Errno 10054] An existing connection was forcibly closed by the remote host\n"
     ]
    },
    {
     "name": "stdout",
     "output_type": "stream",
     "text": [
      "Exiting\n'posts: 7'\nPROGRESS: 16% (1949/11783)\nu'[Crimson Scourge Spelling Fault] (/forums/en/wow/topic/14755056700)'\n"
     ]
    },
    {
     "name": "stdout",
     "output_type": "stream",
     "text": [
      "Exiting\n'posts: 2'\nPROGRESS: 16% (1950/11783)\n"
     ]
    },
    {
     "name": "stdout",
     "output_type": "stream",
     "text": [
      "u'[Frost DKs still stuck with Defile?] (/forums/en/wow/topic/14821403480)'\n"
     ]
    },
    {
     "name": "stdout",
     "output_type": "stream",
     "text": [
      "Exiting\n'posts: 4'\nPROGRESS: 16% (1951/11783)\nu'[Gargoyle! The Great and Weak-ish?] (/forums/en/wow/topic/14628724428)'\n"
     ]
    },
    {
     "name": "stdout",
     "output_type": "stream",
     "text": [
      "Exiting\n'posts: 14'\nPROGRESS: 16% (1952/11783)\nu'[Resto Shamans in 3s] (/forums/en/wow/topic/14821862680)'\n"
     ]
    },
    {
     "name": "stdout",
     "output_type": "stream",
     "text": [
      "Exiting\n'posts: 5'\nPROGRESS: 16% (1953/11783)\nu'[should I change spec?] (/forums/en/wow/topic/14821092785)'\n"
     ]
    },
    {
     "name": "stdout",
     "output_type": "stream",
     "text": [
      "Exiting\n'posts: 10'\nPROGRESS: 16% (1954/11783)\nu'[Blood BoS rotation] (/forums/en/wow/topic/14821582861)'\n"
     ]
    },
    {
     "name": "stdout",
     "output_type": "stream",
     "text": [
      "Exiting\n'posts: 3'\nPROGRESS: 16% (1955/11783)\nu'[Me vs a resto druid, how to catch it?] (/forums/en/wow/topic/14755756882)'\n"
     ]
    },
    {
     "name": "stdout",
     "output_type": "stream",
     "text": [
      "Exiting\n'posts: 11'\nPROGRESS: 16% (1956/11783)\nu'[Necroblight or Defile for single target?] (/forums/en/wow/topic/14821862372)'\n"
     ]
    },
    {
     "name": "stdout",
     "output_type": "stream",
     "text": [
      "Exiting\n'posts: 5'\nPROGRESS: 16% (1957/11783)\nu'[2h frost PvE is more than viable!] (/forums/en/wow/topic/14381380152)'\n"
     ]
    },
    {
     "name": "stdout",
     "output_type": "stream",
     "text": [
      "Exiting\n'posts: 22'\nPROGRESS: 16% (1958/11783)\nu'[The return of the DW Frost?] (/forums/en/wow/topic/14755426011)'\n"
     ]
    },
    {
     "name": "stdout",
     "output_type": "stream",
     "text": [
      "Exiting\n'posts: 15'\nPROGRESS: 16% (1959/11783)\nu'[Frost dk and blood boil] (/forums/en/wow/topic/14755346894)'\n"
     ]
    },
    {
     "name": "stdout",
     "output_type": "stream",
     "text": [
      "Exiting\n'posts: 1'\nPROGRESS: 16% (1960/11783)\nu'[How to be: Death Knights] (/forums/en/wow/topic/14755565896)'\n"
     ]
    },
    {
     "name": "stdout",
     "output_type": "stream",
     "text": [
      "[Errno 10054] An existing connection was forcibly closed by the remote host\n"
     ]
    },
    {
     "name": "stdout",
     "output_type": "stream",
     "text": [
      "Exiting\n'posts: 8'\nPROGRESS: 16% (1961/11783)\nu\"[Draenei DK's out there?] (/forums/en/wow/topic/14381278095)\"\n"
     ]
    },
    {
     "name": "stdout",
     "output_type": "stream",
     "text": [
      "Exiting\n'posts: 23'\nPROGRESS: 16% (1962/11783)\nu'[LVL 60 twink Video/Guild] (/forums/en/wow/topic/10494571524)'\n"
     ]
    },
    {
     "name": "stdout",
     "output_type": "stream",
     "text": [
      "Exiting\n'posts: 3'\nPROGRESS: 16% (1963/11783)\nu'[Help with BRF] (/forums/en/wow/topic/14755375792)'\n"
     ]
    },
    {
     "name": "stdout",
     "output_type": "stream",
     "text": [
      "Exiting\n'posts: 3'\nPROGRESS: 16% (1964/11783)\nu'[Am I ok to tank in HCs or LFR?] (/forums/en/wow/topic/14628454763)'\n"
     ]
    },
    {
     "name": "stdout",
     "output_type": "stream",
     "text": [
      "Exiting\n'posts: 7'\nPROGRESS: 16% (1965/11783)\nu'[Blood DK stupidly hard to beat while levelling?] (/forums/en/wow/topic/14755376133)'\n"
     ]
    },
    {
     "name": "stdout",
     "output_type": "stream",
     "text": [
      "HTTPError = 404\n"
     ]
    },
    {
     "name": "stdout",
     "output_type": "stream",
     "text": [
      "Exiting\n'posts: 2'\nPROGRESS: 16% (1966/11783)\nu'[BoS Nerfed to 20RP/second] (/forums/en/wow/topic/14381160804)'\n"
     ]
    },
    {
     "name": "stdout",
     "output_type": "stream",
     "text": [
      "Exiting\n'posts: 57'\nPROGRESS: 16% (1967/11783)\nu'[unholy dk and  hunter] (/forums/en/wow/topic/14628492837)'\n"
     ]
    },
    {
     "name": "stdout",
     "output_type": "stream",
     "text": [
      "Exiting\n'posts: 9'\nPROGRESS: 16% (1968/11783)\nu\"[RATE THE DK'S NAME ABOVE YOU 2V] (/forums/en/wow/topic/9052906690)\"\n"
     ]
    },
    {
     "name": "stdout",
     "output_type": "stream",
     "text": [
      "Exiting\n'posts: 490'\nPROGRESS: 16% (1969/11783)\nu\"[What's this? DK interrupts at millisecond (cheating)] (/forums/en/wow/topic/13123875576)\"\n"
     ]
    },
    {
     "name": "stdout",
     "output_type": "stream",
     "text": [
      "Exiting\n'posts: 33'\nPROGRESS: 16% (1970/11783)\nu'[Talent for frost DK] (/forums/en/wow/topic/14628394177)'\n"
     ]
    },
    {
     "name": "stdout",
     "output_type": "stream",
     "text": [
      "Exiting\n'posts: 6'\nPROGRESS: 16% (1971/11783)\nu'[Wrong food buff?!?!] (/forums/en/wow/topic/14628493537)'\n"
     ]
    },
    {
     "name": "stdout",
     "output_type": "stream",
     "text": [
      "Exiting\n'posts: 16'\nPROGRESS: 16% (1972/11783)\nu'[DK 3v3 - walking dead cleave montage..] (/forums/en/wow/topic/14628513985)'\nHTTPError = 404\n"
     ]
    },
    {
     "name": "stdout",
     "output_type": "stream",
     "text": [
      "Exiting\n'posts: 1'\nPROGRESS: 16% (1973/11783)\nu'[The Level Requirement for a DK] (/forums/en/wow/topic/14381330569)'\n"
     ]
    },
    {
     "name": "stdout",
     "output_type": "stream",
     "text": [
      "Exiting\n'posts: 5'\nPROGRESS: 16% (1974/11783)\nu'[DW Frost viable?] (/forums/en/wow/topic/14628103845)'\n"
     ]
    },
    {
     "name": "stdout",
     "output_type": "stream",
     "text": [
      "Exiting\n'posts: 2'\nPROGRESS: 16% (1975/11783)\nu'[Runes and Obliterate] (/forums/en/wow/topic/14628403664)'\n"
     ]
    },
    {
     "name": "stdout",
     "output_type": "stream",
     "text": [
      "HTTPError = 404\n"
     ]
    },
    {
     "name": "stdout",
     "output_type": "stream",
     "text": [
      "Exiting\n'posts: 5'\nPROGRESS: 16% (1976/11783)\nu'[macroed blood tap vs runic corruption in pvp] (/forums/en/wow/topic/14381450596)'\n"
     ]
    },
    {
     "name": "stdout",
     "output_type": "stream",
     "text": [
      "Exiting\n'posts: 5'\nPROGRESS: 16% (1977/11783)\nu'[6.2 PTR Anti-Magic Shell] (/forums/en/wow/topic/14628393007)'\n"
     ]
    },
    {
     "name": "stdout",
     "output_type": "stream",
     "text": [
      "[Errno 10054] An existing connection was forcibly closed by the remote host\n"
     ]
    },
    {
     "name": "stdout",
     "output_type": "stream",
     "text": [
      "Exiting\n'posts: 9'\nPROGRESS: 16% (1978/11783)\nu'[The stigma of being a deathknight] (/forums/en/wow/topic/14628823378)'\n"
     ]
    },
    {
     "name": "stdout",
     "output_type": "stream",
     "text": [
      "Exiting\n'posts: 13'\nPROGRESS: 16% (1979/11783)\nu'[Defile - Unholy] (/forums/en/wow/topic/14628493458)'\n"
     ]
    },
    {
     "name": "stdout",
     "output_type": "stream",
     "text": [
      "Exiting\n'posts: 14'\nPROGRESS: 16% (1980/11783)\nu'[lvl100 talents unaffected by Razorice] (/forums/en/wow/topic/14628692828)'\n"
     ]
    },
    {
     "name": "stdout",
     "output_type": "stream",
     "text": [
      "Exiting\n'posts: 7'\nPROGRESS: 16% (1981/11783)\nu'[Help me to improve my dmg] (/forums/en/wow/topic/14628393176)'\n"
     ]
    },
    {
     "name": "stdout",
     "output_type": "stream",
     "text": [
      "Exiting\n'posts: 5'\nPROGRESS: 16% (1982/11783)\nu'[Frost or Unholy PVP (2v2)] (/forums/en/wow/topic/14628103070)'\n"
     ]
    },
    {
     "name": "stdout",
     "output_type": "stream",
     "text": [
      "Exiting\n'posts: 6'\nPROGRESS: 16% (1983/11783)\nu'[Death Knight macro - will this one benefit me?] (/forums/en/wow/topic/6297783228)'\n"
     ]
    },
    {
     "name": "stdout",
     "output_type": "stream",
     "text": [
      "Exiting\n'posts: 6'\nPROGRESS: 16% (1984/11783)\nu'[6.2 Blood DK mastery buff?] (/forums/en/wow/topic/14628402779)'\n"
     ]
    },
    {
     "name": "stdout",
     "output_type": "stream",
     "text": [
      "Exiting\n'posts: 6'\nPROGRESS: 16% (1985/11783)\nu'[Weird interaction - Vampiric Blood and Death Strike] (/forums/en/wow/topic/14618461736)'\nHTTPError = 404\n"
     ]
    },
    {
     "name": "stdout",
     "output_type": "stream",
     "text": [
      "Exiting\n'posts: 8'\nPROGRESS: 16% (1986/11783)\nu'[Not doing high dps] (/forums/en/wow/topic/14381330875)'\n"
     ]
    },
    {
     "name": "stdout",
     "output_type": "stream",
     "text": [
      "[Errno 10054] An existing connection was forcibly closed by the remote host\n"
     ]
    },
    {
     "name": "stdout",
     "output_type": "stream",
     "text": [
      "Exiting\n'posts: 4'\nPROGRESS: 16% (1987/11783)\nu'[Improve me please] (/forums/en/wow/topic/14628393001)'\n"
     ]
    },
    {
     "name": "stdout",
     "output_type": "stream",
     "text": [
      "Exiting\n'posts: 6'\nPROGRESS: 16% (1988/11783)\nu'[Frost 2H - Runic Empowerment vs. Blood Tap - PvE] (/forums/en/wow/topic/14628822780)'\n"
     ]
    },
    {
     "name": "stdout",
     "output_type": "stream",
     "text": [
      "HTTPError = 404\n"
     ]
    },
    {
     "name": "stdout",
     "output_type": "stream",
     "text": [
      "Exiting\n'posts: 9'\nPROGRESS: 16% (1989/11783)\nu'[should i go dps or tank as a dk?] (/forums/en/wow/topic/14381280361)'\n"
     ]
    },
    {
     "name": "stdout",
     "output_type": "stream",
     "text": [
      "Exiting\n'posts: 7'\nPROGRESS: 16% (1990/11783)\nu'[dw frost dk any good in pvp?] (/forums/en/wow/topic/14381660921)'\nHTTPError = 404\n"
     ]
    },
    {
     "name": "stdout",
     "output_type": "stream",
     "text": [
      "Exiting\n'posts: 21'\nPROGRESS: 16% (1991/11783)\nu'[Rate the death knight above you part 10] (/forums/en/wow/topic/13605110551)'\n"
     ]
    },
    {
     "name": "stdout",
     "output_type": "stream",
     "text": [
      "HTTPError = 404\n"
     ]
    },
    {
     "name": "stdout",
     "output_type": "stream",
     "text": [
      "HTTPError = 404\n"
     ]
    },
    {
     "name": "stdout",
     "output_type": "stream",
     "text": [
      "Exiting\n'posts: 162'\nPROGRESS: 16% (1992/11783)\nu'[Unholy or frost for TSG] (/forums/en/wow/topic/14381900344)'\n"
     ]
    },
    {
     "name": "stdout",
     "output_type": "stream",
     "text": [
      "Exiting\n'posts: 5'\nPROGRESS: 16% (1993/11783)\nu\"[Squidgy DK's] (/forums/en/wow/topic/14381279373)\"\nHTTPError = 404\nHTTPError = 404\n"
     ]
    },
    {
     "name": "stdout",
     "output_type": "stream",
     "text": [
      "Exiting\n'posts: 7'\nPROGRESS: 16% (1994/11783)\nu'[6.2 pvp sets - dk/shaman video] (/forums/en/wow/topic/14381090803)'\n"
     ]
    },
    {
     "name": "stdout",
     "output_type": "stream",
     "text": [
      "Exiting\n'posts: 1'\nPROGRESS: 16% (1995/11783)\nu'[DK Blood need help with blackhand] (/forums/en/wow/topic/14381160660)'\n"
     ]
    },
    {
     "name": "stdout",
     "output_type": "stream",
     "text": [
      "Exiting\n'posts: 7'\nPROGRESS: 16% (1996/11783)\nu'[Raid talents.] (/forums/en/wow/topic/14381380372)'\n"
     ]
    },
    {
     "name": "stdout",
     "output_type": "stream",
     "text": [
      "Exiting\n'posts: 2'\nPROGRESS: 16% (1997/11783)\nu'[unholy pvp buffs?] (/forums/en/wow/topic/14381159968)'\n"
     ]
    },
    {
     "name": "stdout",
     "output_type": "stream",
     "text": [
      "Exiting\n'posts: 13'\nPROGRESS: 16% (1998/11783)\nu'[Scourge strike new pvp mechanic viable?] (/forums/en/wow/topic/14381380139)'\n"
     ]
    },
    {
     "name": "stdout",
     "output_type": "stream",
     "text": [
      "Exiting\n'posts: 5'\nPROGRESS: 16% (1999/11783)\nu'[DK vs BM Hunter] (/forums/en/wow/topic/13987371506)'\n"
     ]
    },
    {
     "name": "stdout",
     "output_type": "stream",
     "text": [
      "Exiting\n'posts: 18'\nPROGRESS: 16% (2000/11783)\n"
     ]
    },
    {
     "name": "stdout",
     "output_type": "stream",
     "text": [
      "u'[Blood DK or Brewmaster Monk?] (/forums/en/wow/topic/14381328547)'\n"
     ]
    },
    {
     "name": "stdout",
     "output_type": "stream",
     "text": [
      "Exiting\n'posts: 11'\nPROGRESS: 16% (2001/11783)\nu'[LF experienced Blood DKs to help me forward] (/forums/en/wow/topic/14381330292)'\n"
     ]
    },
    {
     "name": "stdout",
     "output_type": "stream",
     "text": [
      "Exiting\n'posts: 3'\nPROGRESS: 16% (2002/11783)\nu'[weapons to use for Blood spec] (/forums/en/wow/topic/14381029526)'\n"
     ]
    },
    {
     "name": "stdout",
     "output_type": "stream",
     "text": [
      "Exiting\n'posts: 7'\nPROGRESS: 16% (2003/11783)\nu'[6.2 UH vs Frost] (/forums/en/wow/topic/14381029083)'\n"
     ]
    },
    {
     "name": "stdout",
     "output_type": "stream",
     "text": [
      "Exiting\n'posts: 10'\nPROGRESS: 17% (2004/11783)\nu'[Hellfire Citadel 6.2 mog] (/forums/en/wow/topic/14381240054)'\n"
     ]
    },
    {
     "name": "stdout",
     "output_type": "stream",
     "text": [
      "Exiting\n'posts: 3'\nPROGRESS: 17% (2005/11783)\nu'[a question about necrotic plague and shadowfrost damage] (/forums/en/wow/topic/14381450026)'\n"
     ]
    },
    {
     "name": "stdout",
     "output_type": "stream",
     "text": [
      "Exiting\n'posts: 5'\nPROGRESS: 17% (2006/11783)\nu'[Trying to find that extra bit of DPS 2h UH] (/forums/en/wow/topic/14381089901)'\n"
     ]
    },
    {
     "name": "stdout",
     "output_type": "stream",
     "text": [
      "Exiting\n'posts: 2'\nPROGRESS: 17% (2007/11783)\nu'[stat prio for 2h frost PvE?] (/forums/en/wow/topic/14381379789)'\n"
     ]
    },
    {
     "name": "stdout",
     "output_type": "stream",
     "text": [
      "Exiting\n'posts: 3'\nPROGRESS: 17% (2008/11783)\nu'[Frost DKs expecting a nerf?] (/forums/en/wow/topic/14213481601)'\n"
     ]
    },
    {
     "name": "stdout",
     "output_type": "stream",
     "text": [
      "[Errno 10054] An existing connection was forcibly closed by the remote host\n"
     ]
    },
    {
     "name": "stdout",
     "output_type": "stream",
     "text": [
      "Exiting\n'posts: 13'\nPROGRESS: 17% (2009/11783)\nu'[Any Frost DK steamers/youtubers? (pvp)] (/forums/en/wow/topic/14269647061)'\n"
     ]
    },
    {
     "name": "stdout",
     "output_type": "stream",
     "text": [
      "Exiting\n'posts: 3'\nPROGRESS: 17% (2010/11783)\nu'[Question about mechanics for Death pact.] (/forums/en/wow/topic/14381899657)'\n"
     ]
    },
    {
     "name": "stdout",
     "output_type": "stream",
     "text": [
      "Exiting\n'posts: 2'\nPROGRESS: 17% (2011/11783)\nu'[2v2 - Frost DK / Resto Druid] (/forums/en/wow/topic/14381349283)'\n"
     ]
    },
    {
     "name": "stdout",
     "output_type": "stream",
     "text": [
      "Exiting\n'posts: 4'\nPROGRESS: 17% (2012/11783)\nu'[Rune system bug] (/forums/en/wow/topic/14381449546)'\n"
     ]
    },
    {
     "name": "stdout",
     "output_type": "stream",
     "text": [
      "Exiting\n'posts: 3'\nPROGRESS: 17% (2013/11783)\nu'[Frost-Unholy PvP balanced?] (/forums/en/wow/topic/14381659371)'\n"
     ]
    },
    {
     "name": "stdout",
     "output_type": "stream",
     "text": [
      "Exiting\n'posts: 3'\nPROGRESS: 17% (2014/11783)\nu'[Army of the Dead worth to be used before bossfight?] (/forums/en/wow/topic/14381089379)'\n"
     ]
    },
    {
     "name": "stdout",
     "output_type": "stream",
     "text": [
      "Exiting\n'posts: 6'\nPROGRESS: 17% (2015/11783)\nu'[Having any trouble dueling as Unholy?] (/forums/en/wow/topic/14269327651)'\n"
     ]
    },
    {
     "name": "stdout",
     "output_type": "stream",
     "text": [
      "Exiting\n'posts: 14'\nPROGRESS: 17% (2016/11783)\nu'[my dps is so low] (/forums/en/wow/topic/14381378982)'\n"
     ]
    },
    {
     "name": "stdout",
     "output_type": "stream",
     "text": [
      "Exiting\n'posts: 7'\nPROGRESS: 17% (2017/11783)\nu'[Skullflower and Magdalena on Finalboss this sunday] (/forums/en/wow/topic/14381089197)'\n"
     ]
    },
    {
     "name": "stdout",
     "output_type": "stream",
     "text": [
      "Exiting\n'posts: 1'\nPROGRESS: 17% (2018/11783)\nu'[Actual dialogue in Normal BRF] (/forums/en/wow/topic/14381278698)'\n"
     ]
    },
    {
     "name": "stdout",
     "output_type": "stream",
     "text": [
      "Exiting\n'posts: 9'\nPROGRESS: 17% (2019/11783)\nu'[Dk/ww late season capping montage(1.6-1.8mmr)] (/forums/en/wow/topic/14381659219)'\n"
     ]
    },
    {
     "name": "stdout",
     "output_type": "stream",
     "text": [
      "Exiting\n'posts: 1'\nPROGRESS: 17% (2020/11783)\nu'[Frost dk double dps comps] (/forums/en/wow/topic/14381238830)'\n"
     ]
    },
    {
     "name": "stdout",
     "output_type": "stream",
     "text": [
      "Exiting\n'posts: 5'\nPROGRESS: 17% (2021/11783)\nu'[How is unholy dps compared to others?] (/forums/en/wow/topic/13987330841)'\n"
     ]
    },
    {
     "name": "stdout",
     "output_type": "stream",
     "text": [
      "Exiting\n'posts: 8'\nPROGRESS: 17% (2022/11783)\nu'[Arena - Frost - Talents] (/forums/en/wow/topic/14381088902)'\n"
     ]
    },
    {
     "name": "stdout",
     "output_type": "stream",
     "text": [
      "Exiting\n'posts: 8'\nPROGRESS: 17% (2023/11783)\nu'[Blood pvp speek up] (/forums/en/wow/topic/14269677853)'\n"
     ]
    },
    {
     "name": "stdout",
     "output_type": "stream",
     "text": [
      "Exiting\n'posts: 9'\nPROGRESS: 17% (2024/11783)\nu'[Rerolling Unholy PVP] (/forums/en/wow/topic/14381278884)'\n"
     ]
    },
    {
     "name": "stdout",
     "output_type": "stream",
     "text": [
      "Exiting\n'posts: 2'\nPROGRESS: 17% (2025/11783)\nu'[T18 DK Sets released] (/forums/en/wow/topic/14381028936)'\n"
     ]
    },
    {
     "name": "stdout",
     "output_type": "stream",
     "text": [
      "Exiting\n'posts: 9'\nPROGRESS: 17% (2026/11783)\nu'[6.2 dk pvp set - regular/elite] (/forums/en/wow/topic/14381158820)'\n"
     ]
    },
    {
     "name": "stdout",
     "output_type": "stream",
     "text": [
      "Exiting\n'posts: 7'\nPROGRESS: 17% (2027/11783)\nu'[6.2 Changes thread.] (/forums/en/wow/topic/14269567803)'\n"
     ]
    },
    {
     "name": "stdout",
     "output_type": "stream",
     "text": [
      "Exiting\n'posts: 26'\nPROGRESS: 17% (2028/11783)\nu'[LK 25-HC solo, talents and glyphs?] (/forums/en/wow/topic/14381278431)'\n"
     ]
    },
    {
     "name": "stdout",
     "output_type": "stream",
     "text": [
      "Exiting\n'posts: 5'\nPROGRESS: 17% (2029/11783)\nu'[Death Knight will be the superior class in 6.2.] (/forums/en/wow/topic/14269397976)'\n"
     ]
    },
    {
     "name": "stdout",
     "output_type": "stream",
     "text": [
      "Exiting\n'posts: 15'\nPROGRESS: 17% (2030/11783)\nu'[Lost My Skills, Help Please!] (/forums/en/wow/topic/14381658067)'\n"
     ]
    },
    {
     "name": "stdout",
     "output_type": "stream",
     "text": [
      "Exiting\n'posts: 7'\nPROGRESS: 17% (2031/11783)\nu'[2H vs DW PVE] (/forums/en/wow/topic/14381238168)'\n"
     ]
    },
    {
     "name": "stdout",
     "output_type": "stream",
     "text": [
      "[Errno 10054] An existing connection was forcibly closed by the remote host\n"
     ]
    },
    {
     "name": "stdout",
     "output_type": "stream",
     "text": [
      "Exiting\n'posts: 3'\nPROGRESS: 17% (2032/11783)\nu'[Glyph of death coil bug] (/forums/en/wow/topic/14381348433)'\n"
     ]
    },
    {
     "name": "stdout",
     "output_type": "stream",
     "text": [
      "Exiting\n'posts: 8'\nPROGRESS: 17% (2033/11783)\nu'[We need a nerf] (/forums/en/wow/topic/14269586972)'\n"
     ]
    },
    {
     "name": "stdout",
     "output_type": "stream",
     "text": [
      "Exiting\n'posts: 24'\nPROGRESS: 17% (2034/11783)\nu'[blood BoS help] (/forums/en/wow/topic/14381027992)'\n"
     ]
    },
    {
     "name": "stdout",
     "output_type": "stream",
     "text": [
      "Exiting\n'posts: 17'\nPROGRESS: 17% (2035/11783)\nu'[Blood as dps] (/forums/en/wow/topic/14381448107)'\n"
     ]
    },
    {
     "name": "stdout",
     "output_type": "stream",
     "text": [
      "Exiting\n'posts: 4'\nPROGRESS: 17% (2036/11783)\nu'[Blood DK PvE BiS and Stat Prio (Whats best????)] (/forums/en/wow/topic/14368876947)'\n"
     ]
    },
    {
     "name": "stdout",
     "output_type": "stream",
     "text": [
      "Exiting\n'posts: 4'\nPROGRESS: 17% (2037/11783)\nu'[Death knight set in 6.2] (/forums/en/wow/topic/14381328072)'\n"
     ]
    },
    {
     "name": "stdout",
     "output_type": "stream",
     "text": [
      "Exiting\n'posts: 2'\nPROGRESS: 17% (2038/11783)\nu'[Unholy or Frost dps?] (/forums/en/wow/topic/14269328200)'\n"
     ]
    },
    {
     "name": "stdout",
     "output_type": "stream",
     "text": [
      "Exiting\n'posts: 5'\nPROGRESS: 17% (2039/11783)\nu'[Defile and Festering Strike Unholy] (/forums/en/wow/topic/14269328146)'\n"
     ]
    },
    {
     "name": "stdout",
     "output_type": "stream",
     "text": [
      "Exiting\n'posts: 2'\nPROGRESS: 17% (2040/11783)\nu'[Is a dk fun] (/forums/en/wow/topic/14269447840)'\n"
     ]
    },
    {
     "name": "stdout",
     "output_type": "stream",
     "text": [
      "Exiting\n'posts: 7'\nPROGRESS: 17% (2041/11783)\nu'[Concerned DW Frost DK. (Machete does DW!)] (/forums/en/wow/topic/13987928984)'\n"
     ]
    },
    {
     "name": "stdout",
     "output_type": "stream",
     "text": [
      "Exiting\n'posts: 8'\nPROGRESS: 17% (2042/11783)\nu'[Is Plague Strike bugged for Unholy?] (/forums/en/wow/topic/14269587322)'\n"
     ]
    },
    {
     "name": "stdout",
     "output_type": "stream",
     "text": [
      "HTTPError = 404\n"
     ]
    },
    {
     "name": "stdout",
     "output_type": "stream",
     "text": [
      "Exiting\n'posts: 10'\nPROGRESS: 17% (2043/11783)\nu'[advice plz,so many opinions these days] (/forums/en/wow/topic/14269567668)'\n"
     ]
    },
    {
     "name": "stdout",
     "output_type": "stream",
     "text": [
      "Exiting\n'posts: 3'\nPROGRESS: 17% (2044/11783)\nu\"[I'm sorry.] (/forums/en/wow/topic/14268997395)\"\n"
     ]
    },
    {
     "name": "stdout",
     "output_type": "stream",
     "text": [
      "[Errno 10054] An existing connection was forcibly closed by the remote host\n"
     ]
    },
    {
     "name": "stdout",
     "output_type": "stream",
     "text": [
      "Exiting\n'posts: 12'\nPROGRESS: 17% (2045/11783)\nu'[Unholy PvP] (/forums/en/wow/topic/13987450278)'\n"
     ]
    },
    {
     "name": "stdout",
     "output_type": "stream",
     "text": [
      "Exiting\n'posts: 11'\nPROGRESS: 17% (2046/11783)\nu'[Best Dk race alliance (PvP)] (/forums/en/wow/topic/14269327754)'\n"
     ]
    },
    {
     "name": "stdout",
     "output_type": "stream",
     "text": [
      "HTTPError = 404\n"
     ]
    },
    {
     "name": "stdout",
     "output_type": "stream",
     "text": [
      "Exiting\n'posts: 2'\nPROGRESS: 17% (2047/11783)\nu'[Frost pvp blood boil] (/forums/en/wow/topic/14269397602)'\nHTTPError = 404\n"
     ]
    },
    {
     "name": "stdout",
     "output_type": "stream",
     "text": [
      "Exiting\n'posts: 2'\nPROGRESS: 17% (2048/11783)\nu'[Good with unholy?] (/forums/en/wow/topic/14213481378)'\n"
     ]
    },
    {
     "name": "stdout",
     "output_type": "stream",
     "text": [
      "Exiting\n'posts: 8'\nPROGRESS: 17% (2049/11783)\nu'[Is DK the definition of \"fine\"?] (/forums/en/wow/topic/13987541628)'\n"
     ]
    },
    {
     "name": "stdout",
     "output_type": "stream",
     "text": [
      "Exiting\n'posts: 19'\nPROGRESS: 17% (2050/11783)\n"
     ]
    },
    {
     "name": "stdout",
     "output_type": "stream",
     "text": [
      "u'[Character selection screen] (/forums/en/wow/topic/13987651423)'\n"
     ]
    },
    {
     "name": "stdout",
     "output_type": "stream",
     "text": [
      "Exiting\n'posts: 6'\nPROGRESS: 17% (2051/11783)\nu'[Orcish Name For A Death Knight?] (/forums/en/wow/topic/13987101590)'\n"
     ]
    },
    {
     "name": "stdout",
     "output_type": "stream",
     "text": [
      "Exiting\n'posts: 5'\nPROGRESS: 17% (2052/11783)\nu'[Frost Mage is getting any benefit from my 4pc bonus?] (/forums/en/wow/topic/14213391370)'\n"
     ]
    },
    {
     "name": "stdout",
     "output_type": "stream",
     "text": [
      "Exiting\n'posts: 4'\nPROGRESS: 17% (2053/11783)\nu'[NER DKS !!] (/forums/en/wow/topic/14269566980)'\n"
     ]
    },
    {
     "name": "stdout",
     "output_type": "stream",
     "text": [
      "Exiting\n'posts: 10'\nPROGRESS: 17% (2054/11783)\nu'[Theory crafting night.] (/forums/en/wow/topic/14269446948)'\n"
     ]
    },
    {
     "name": "stdout",
     "output_type": "stream",
     "text": [
      "Exiting\n'posts: 3'\nPROGRESS: 17% (2055/11783)\nu\"[Nerf DK's] (/forums/en/wow/topic/14269327011)\"\n"
     ]
    },
    {
     "name": "stdout",
     "output_type": "stream",
     "text": [
      "Exiting\n'posts: 2'\nPROGRESS: 17% (2056/11783)\nu'[Stupid unholy dk question] (/forums/en/wow/topic/13987621199)'\n"
     ]
    },
    {
     "name": "stdout",
     "output_type": "stream",
     "text": [
      "Exiting\n'posts: 10'\nPROGRESS: 17% (2057/11783)\nu\"[Unholy Dk's TO OP!] (/forums/en/wow/topic/11267907048)\"\n"
     ]
    },
    {
     "name": "stdout",
     "output_type": "stream",
     "text": [
      "Exiting\n'posts: 26'\nPROGRESS: 17% (2058/11783)\nu'[first dk] (/forums/en/wow/topic/14213181261)'\n"
     ]
    },
    {
     "name": "stdout",
     "output_type": "stream",
     "text": [
      "Exiting\n'posts: 6'\nPROGRESS: 17% (2059/11783)\nu'[Undead or Orc] (/forums/en/wow/topic/8819242320)'\n"
     ]
    },
    {
     "name": "stdout",
     "output_type": "stream",
     "text": [
      "Exiting\n'posts: 25'\nPROGRESS: 17% (2060/11783)\nu'[Defile on healing meters] (/forums/en/wow/topic/14212701325)'\n"
     ]
    },
    {
     "name": "stdout",
     "output_type": "stream",
     "text": [
      "Exiting\n'posts: 6'\nPROGRESS: 17% (2061/11783)\nu'[Whats more stat prior?] (/forums/en/wow/topic/13989761794)'\n"
     ]
    },
    {
     "name": "stdout",
     "output_type": "stream",
     "text": [
      "Exiting\n'posts: 4'\nPROGRESS: 17% (2062/11783)\nu'[Multistrike in when in Blood vs Unholy] (/forums/en/wow/topic/13987541719)'\n"
     ]
    },
    {
     "name": "stdout",
     "output_type": "stream",
     "text": [
      "Exiting\n'posts: 3'\nPROGRESS: 17% (2063/11783)\nu'[What are your keybinds?] (/forums/en/wow/topic/13987621210)'\n"
     ]
    },
    {
     "name": "stdout",
     "output_type": "stream",
     "text": [
      "Exiting\n'posts: 24'\nPROGRESS: 17% (2064/11783)\nu'[Forced Spec, Unholy, Shame.] (/forums/en/wow/topic/13901300836)'\n"
     ]
    },
    {
     "name": "stdout",
     "output_type": "stream",
     "text": [
      "Exiting\n'posts: 24'\nPROGRESS: 17% (2065/11783)\nu'[6.2 DW Frost Buffs inc] (/forums/en/wow/topic/13989761497)'\n"
     ]
    },
    {
     "name": "stdout",
     "output_type": "stream",
     "text": [
      "Exiting\n'posts: 5'\nPROGRESS: 17% (2066/11783)\nu'[Talents for Blackrock Foundry] (/forums/en/wow/topic/13987410955)'\n"
     ]
    },
    {
     "name": "stdout",
     "output_type": "stream",
     "text": [
      "Exiting\n'posts: 12'\nPROGRESS: 17% (2067/11783)\nu'[Soul Reaper & Dark Simulacrum are obsolete] (/forums/en/wow/topic/13686012119)'\n"
     ]
    },
    {
     "name": "stdout",
     "output_type": "stream",
     "text": [
      "[Errno 10054] An existing connection was forcibly closed by the remote host\n"
     ]
    },
    {
     "name": "stdout",
     "output_type": "stream",
     "text": [
      "Exiting\n'posts: 36'\nPROGRESS: 17% (2068/11783)\nu'[Raid Dps] (/forums/en/wow/topic/13987371009)'\n"
     ]
    },
    {
     "name": "stdout",
     "output_type": "stream",
     "text": [
      "HTTPError = 404\n"
     ]
    },
    {
     "name": "stdout",
     "output_type": "stream",
     "text": [
      "Exiting\n'posts: 6'\nPROGRESS: 17% (2069/11783)\nu'[Low level DK tanking?] (/forums/en/wow/topic/13987450677)'\n"
     ]
    },
    {
     "name": "stdout",
     "output_type": "stream",
     "text": [
      "Exiting\n'posts: 8'\nPROGRESS: 17% (2070/11783)\nu'[Just saw a DK without glowing blue eyes] (/forums/en/wow/topic/13987451233)'\n"
     ]
    },
    {
     "name": "stdout",
     "output_type": "stream",
     "text": [
      "[Errno 10054] An existing connection was forcibly closed by the remote host\n"
     ]
    },
    {
     "name": "stdout",
     "output_type": "stream",
     "text": [
      "Exiting\n'posts: 4'\nPROGRESS: 17% (2071/11783)\nu'[Dks need some massive pvp buffs now] (/forums/en/wow/topic/13987928796)'\n"
     ]
    },
    {
     "name": "stdout",
     "output_type": "stream",
     "text": [
      "[Errno 10054] An existing connection was forcibly closed by the remote host\n"
     ]
    },
    {
     "name": "stdout",
     "output_type": "stream",
     "text": [
      "Exiting\n'posts: 44'\nPROGRESS: 17% (2072/11783)\nu'[Raise Ally cooldown?] (/forums/en/wow/topic/13987281182)'\n"
     ]
    },
    {
     "name": "stdout",
     "output_type": "stream",
     "text": [
      "HTTPError = 404\n"
     ]
    },
    {
     "name": "stdout",
     "output_type": "stream",
     "text": [
      "Exiting\n'posts: 4'\nPROGRESS: 17% (2073/11783)\nu'[Death Knight self heal, really bad ???] (/forums/en/wow/topic/13987930360)'\n"
     ]
    },
    {
     "name": "stdout",
     "output_type": "stream",
     "text": [
      "Exiting\n'posts: 11'\nPROGRESS: 17% (2074/11783)\nu'[Which one?] (/forums/en/wow/topic/13987930713)'\n"
     ]
    },
    {
     "name": "stdout",
     "output_type": "stream",
     "text": [
      "[Errno 10054] An existing connection was forcibly closed by the remote host\n"
     ]
    },
    {
     "name": "stdout",
     "output_type": "stream",
     "text": [
      "Exiting\n'posts: 5'\nPROGRESS: 17% (2075/11783)\nu'[DW Frost: Why use KM on FS?] (/forums/en/wow/topic/13987280131)'\n"
     ]
    },
    {
     "name": "stdout",
     "output_type": "stream",
     "text": [
      "Exiting\n'posts: 18'\nPROGRESS: 17% (2076/11783)\nu'[PVProblems - Gearing and friendship.] (/forums/en/wow/topic/13987370459)'\n"
     ]
    },
    {
     "name": "stdout",
     "output_type": "stream",
     "text": [
      "Exiting\n'posts: 3'\nPROGRESS: 17% (2077/11783)\nu'[\"Old School\" vs Necroblight] (/forums/en/wow/topic/13989760523)'\n"
     ]
    },
    {
     "name": "stdout",
     "output_type": "stream",
     "text": [
      "Exiting\n'posts: 3'\nPROGRESS: 17% (2078/11783)\nu'[Frost presence cost of Frost Strike] (/forums/en/wow/topic/13987930502)'\nHTTPError = 404\n"
     ]
    },
    {
     "name": "stdout",
     "output_type": "stream",
     "text": [
      "Exiting\n'posts: 2'\nPROGRESS: 17% (2079/11783)\nu'[When can I leave first location?] (/forums/en/wow/topic/13987648874)'\n"
     ]
    },
    {
     "name": "stdout",
     "output_type": "stream",
     "text": [
      "Exiting\n'posts: 9'\nPROGRESS: 17% (2080/11783)\nu'[Killing healers ...] (/forums/en/wow/topic/13987449194)'\n"
     ]
    },
    {
     "name": "stdout",
     "output_type": "stream",
     "text": [
      "Exiting\n'posts: 13'\nPROGRESS: 17% (2081/11783)\nu'[the old blood death knight] (/forums/en/wow/topic/13987368763)'\n"
     ]
    },
    {
     "name": "stdout",
     "output_type": "stream",
     "text": [
      "Exiting\n'posts: 7'\nPROGRESS: 17% (2082/11783)\nu'[unholy 4 piece] (/forums/en/wow/topic/13987280401)'\n"
     ]
    },
    {
     "name": "stdout",
     "output_type": "stream",
     "text": [
      "[Errno 10054] An existing connection was forcibly closed by the remote host\n"
     ]
    },
    {
     "name": "stdout",
     "output_type": "stream",
     "text": [
      "Exiting\n'posts: 2'\nPROGRESS: 17% (2083/11783)\nu'[Blood PvP] (/forums/en/wow/topic/13989760084)'\n"
     ]
    },
    {
     "name": "stdout",
     "output_type": "stream",
     "text": [
      "Exiting\n'posts: 7'\nPROGRESS: 17% (2084/11783)\nu'[Minimum level to solo WotLK Heroics?] (/forums/en/wow/topic/13902191067)'\n"
     ]
    },
    {
     "name": "stdout",
     "output_type": "stream",
     "text": [
      "Exiting\n'posts: 8'\nPROGRESS: 17% (2085/11783)\nu'[Blood Soul Reaper] (/forums/en/wow/topic/13987930170)'\n"
     ]
    },
    {
     "name": "stdout",
     "output_type": "stream",
     "text": [
      "Exiting\n'posts: 8'\nPROGRESS: 17% (2086/11783)\nu'[Nerf those !@#$ing DK healing] (/forums/en/wow/topic/13987409372)'\n"
     ]
    },
    {
     "name": "stdout",
     "output_type": "stream",
     "text": [
      "Exiting\n'posts: 28'\nPROGRESS: 17% (2087/11783)\nu'[New to Unholy.] (/forums/en/wow/topic/13987280138)'\n"
     ]
    },
    {
     "name": "stdout",
     "output_type": "stream",
     "text": [
      "Exiting\n'posts: 3'\nPROGRESS: 17% (2088/11783)\nu'[Is Blood DK viable in Mythic end-game content?] (/forums/en/wow/topic/13987649385)'\n"
     ]
    },
    {
     "name": "stdout",
     "output_type": "stream",
     "text": [
      "Exiting\n'posts: 11'\nPROGRESS: 17% (2089/11783)\nu'[If an Undead Death Knight dies what does that make him?] (/forums/en/wow/topic/13902201119)'\n"
     ]
    },
    {
     "name": "stdout",
     "output_type": "stream",
     "text": [
      "Exiting\n'posts: 10'\nPROGRESS: 17% (2090/11783)\nu'[Blood Spec Damage Problems] (/forums/en/wow/topic/13987539950)'\n"
     ]
    },
    {
     "name": "stdout",
     "output_type": "stream",
     "text": [
      "[Errno 10054] An existing connection was forcibly closed by the remote host\n"
     ]
    },
    {
     "name": "stdout",
     "output_type": "stream",
     "text": [
      "Exiting\n'posts: 5'\nPROGRESS: 17% (2091/11783)\nu'[Hotfix - how its change AoE rotation /nerfed somuch...] (/forums/en/wow/topic/13987409066)'\n"
     ]
    },
    {
     "name": "stdout",
     "output_type": "stream",
     "text": [
      "Exiting\n'posts: 18'\nPROGRESS: 17% (2092/11783)\nu'[Is Necrotic Plague Bugged?] (/forums/en/wow/topic/13987449871)'\n"
     ]
    },
    {
     "name": "stdout",
     "output_type": "stream",
     "text": [
      "Exiting\n'posts: 3'\nPROGRESS: 17% (2093/11783)\nu'[Which DK name should I pick?] (/forums/en/wow/topic/13987649816)'\n"
     ]
    },
    {
     "name": "stdout",
     "output_type": "stream",
     "text": [
      "HTTPError = 404\n"
     ]
    },
    {
     "name": "stdout",
     "output_type": "stream",
     "text": [
      "Exiting\n'posts: 4'\nPROGRESS: 17% (2094/11783)\nu'[proving grounds] (/forums/en/wow/topic/13987619708)'\n"
     ]
    },
    {
     "name": "stdout",
     "output_type": "stream",
     "text": [
      "Exiting\n'posts: 5'\nPROGRESS: 17% (2095/11783)\nu'[DK Stats] (/forums/en/wow/topic/13987439566)'\n"
     ]
    },
    {
     "name": "stdout",
     "output_type": "stream",
     "text": [
      "Exiting\n'posts: 6'\nPROGRESS: 17% (2096/11783)\nu'[Frost Runes - Blood boil bug] (/forums/en/wow/topic/13987409724)'\nHTTPError = 404\n"
     ]
    },
    {
     "name": "stdout",
     "output_type": "stream",
     "text": [
      "Exiting\n'posts: 3'\nPROGRESS: 17% (2097/11783)\nu'[Playstyle Breath of Sindragosa - Tank] (/forums/en/wow/topic/13987279369)'\n"
     ]
    },
    {
     "name": "stdout",
     "output_type": "stream",
     "text": [
      "Exiting\n'posts: 14'\nPROGRESS: 17% (2098/11783)\nu'[Frost PvE - DW and 2h] (/forums/en/wow/topic/13987929359)'\n"
     ]
    },
    {
     "name": "stdout",
     "output_type": "stream",
     "text": [
      "Exiting\n'posts: 6'\nPROGRESS: 17% (2099/11783)\nu'[Blood boil bugged? ( Unholy)] (/forums/en/wow/topic/13987099473)'\n"
     ]
    },
    {
     "name": "stdout",
     "output_type": "stream",
     "text": [
      "Exiting\n'posts: 5'\nPROGRESS: 17% (2100/11783)\n"
     ]
    },
    {
     "name": "stdout",
     "output_type": "stream",
     "text": [
      "u'[Death runes and blood boil] (/forums/en/wow/topic/13987649577)'\n"
     ]
    },
    {
     "name": "stdout",
     "output_type": "stream",
     "text": [
      "Exiting\n'posts: 2'\nPROGRESS: 17% (2101/11783)\nu'[Dps issues] (/forums/en/wow/topic/13987539478)'\n"
     ]
    },
    {
     "name": "stdout",
     "output_type": "stream",
     "text": [
      "Exiting\n'posts: 6'\nPROGRESS: 17% (2102/11783)\nu'[(UH) Breath of Sindragosa, when/how to use it?] (/forums/en/wow/topic/13987929312)'\nHTTPError = 404\n"
     ]
    },
    {
     "name": "stdout",
     "output_type": "stream",
     "text": [
      "Exiting\n'posts: 3'\nPROGRESS: 17% (2103/11783)\nu'[Unholy questions] (/forums/en/wow/topic/13987539547)'\n"
     ]
    },
    {
     "name": "stdout",
     "output_type": "stream",
     "text": [
      "Exiting\n'posts: 3'\nPROGRESS: 17% (2104/11783)\nu'[Glyth of Path of Frost] (/forums/en/wow/topic/13987439222)'\n"
     ]
    },
    {
     "name": "stdout",
     "output_type": "stream",
     "text": [
      "Exiting\n'posts: 4'\nPROGRESS: 17% (2105/11783)\nu'[- Deleted -] (/forums/en/wow/topic/13987099362)'\n"
     ]
    },
    {
     "name": "stdout",
     "output_type": "stream",
     "text": [
      "Exiting\n'posts: 5'\nPROGRESS: 17% (2106/11783)\nu'[hotfix on 19th Mar 2015, deathrune from frostrune] (/forums/en/wow/topic/13989759503)'\n"
     ]
    },
    {
     "name": "stdout",
     "output_type": "stream",
     "text": [
      "Exiting\n'posts: 9'\nPROGRESS: 17% (2107/11783)\nu'[Plague leech and blood tap] (/forums/en/wow/topic/13987099364)'\n"
     ]
    },
    {
     "name": "stdout",
     "output_type": "stream",
     "text": [
      "Exiting\n'posts: 3'\nPROGRESS: 17% (2108/11783)\nu'[UH DPS, Any tips are welcome, im about to give up.] (/forums/en/wow/topic/13987929210)'\n"
     ]
    },
    {
     "name": "stdout",
     "output_type": "stream",
     "text": [
      "Exiting\n'posts: 8'\nPROGRESS: 17% (2109/11783)\nu'[Breath of Sindragosa healing on physical damage?] (/forums/en/wow/topic/13987099244)'\n"
     ]
    },
    {
     "name": "stdout",
     "output_type": "stream",
     "text": [
      "Exiting\n'posts: 1'\nPROGRESS: 17% (2110/11783)\nu'[DPS HELP!] (/forums/en/wow/topic/13987329204)'\n"
     ]
    },
    {
     "name": "stdout",
     "output_type": "stream",
     "text": [
      "Exiting\n'posts: 5'\nPROGRESS: 17% (2111/11783)\nu'[Am I missing something? (Blood)] (/forums/en/wow/topic/13902191068)'\n"
     ]
    },
    {
     "name": "stdout",
     "output_type": "stream",
     "text": [
      "Exiting\n'posts: 11'\nPROGRESS: 17% (2112/11783)\nu'[Afraid to go on :/] (/forums/en/wow/topic/13901781266)'\n"
     ]
    },
    {
     "name": "stdout",
     "output_type": "stream",
     "text": [
      "Exiting\n'posts: 4'\nPROGRESS: 17% (2113/11783)\nu'[Reaping Hotfix and Unholy AoE] (/forums/en/wow/topic/13989758906)'\n"
     ]
    },
    {
     "name": "stdout",
     "output_type": "stream",
     "text": [
      "[Errno 10054] An existing connection was forcibly closed by the remote host\n"
     ]
    },
    {
     "name": "stdout",
     "output_type": "stream",
     "text": [
      "Exiting\n'posts: 39'\nPROGRESS: 17% (2114/11783)\nu'[killing disc prist] (/forums/en/wow/topic/13987538694)'\n"
     ]
    },
    {
     "name": "stdout",
     "output_type": "stream",
     "text": [
      "Exiting\n'posts: 7'\nPROGRESS: 17% (2115/11783)\nu'[Rune of Razorice bugged?] (/forums/en/wow/topic/13987279051)'\n"
     ]
    },
    {
     "name": "stdout",
     "output_type": "stream",
     "text": [
      "[Errno 10054] An existing connection was forcibly closed by the remote host\n"
     ]
    },
    {
     "name": "stdout",
     "output_type": "stream",
     "text": [
      "Exiting\n'posts: 1'\nPROGRESS: 17% (2116/11783)\nu\"[death's advance bug?] (/forums/en/wow/topic/13686108512)\"\n"
     ]
    },
    {
     "name": "stdout",
     "output_type": "stream",
     "text": [
      "Exiting\n'posts: 7'\nPROGRESS: 17% (2117/11783)\nu'[dk stat pvp] (/forums/en/wow/topic/13987448785)'\n"
     ]
    },
    {
     "name": "stdout",
     "output_type": "stream",
     "text": [
      "Exiting\n'posts: 8'\nPROGRESS: 17% (2118/11783)\nu'[Screenshot of action bar] (/forums/en/wow/topic/13902190868)'\n"
     ]
    },
    {
     "name": "stdout",
     "output_type": "stream",
     "text": [
      "[Errno 10054] An existing connection was forcibly closed by the remote host\n"
     ]
    },
    {
     "name": "stdout",
     "output_type": "stream",
     "text": [
      "Exiting\n'posts: 7'\nPROGRESS: 17% (2119/11783)\nu'[How important is legendary ring?] (/forums/en/wow/topic/13901301302)'\n"
     ]
    },
    {
     "name": "stdout",
     "output_type": "stream",
     "text": [
      "Exiting\n'posts: 9'\nPROGRESS: 17% (2120/11783)\nu'[Frost DK nerff] (/forums/en/wow/topic/13987538732)'\n"
     ]
    },
    {
     "name": "stdout",
     "output_type": "stream",
     "text": [
      "Exiting\n'posts: 10'\nPROGRESS: 18% (2121/11783)\nu\"[Can't see Defile ?] (/forums/en/wow/topic/13987438787)\"\n"
     ]
    },
    {
     "name": "stdout",
     "output_type": "stream",
     "text": [
      "Exiting\n'posts: 5'\nPROGRESS: 18% (2122/11783)\nu'[Blood: Why no Level 100 Magic Shield Talent?] (/forums/en/wow/topic/13902200988)'\n"
     ]
    },
    {
     "name": "stdout",
     "output_type": "stream",
     "text": [
      "Exiting\n'posts: 4'\nPROGRESS: 18% (2123/11783)\nu'[DK frost dps problem ? ( PvE )] (/forums/en/wow/topic/13987648687)'\n"
     ]
    },
    {
     "name": "stdout",
     "output_type": "stream",
     "text": [
      "[Errno 10054] An existing connection was forcibly closed by the remote host\n"
     ]
    },
    {
     "name": "stdout",
     "output_type": "stream",
     "text": [
      "Exiting\n'posts: 4'\nPROGRESS: 18% (2124/11783)\nu'[Most viable for both PvP and PvE] (/forums/en/wow/topic/13901371193)'\n"
     ]
    },
    {
     "name": "stdout",
     "output_type": "stream",
     "text": [
      "Exiting\n'posts: 2'\nPROGRESS: 18% (2125/11783)\nu'[Frost DK PvP noob questions.] (/forums/en/wow/topic/13901781174)'\n"
     ]
    },
    {
     "name": "stdout",
     "output_type": "stream",
     "text": [
      "Exiting\n'posts: 5'\nPROGRESS: 18% (2126/11783)\nu'[Are there any Frost PVP guides out there?] (/forums/en/wow/topic/13901920840)'\n"
     ]
    },
    {
     "name": "stdout",
     "output_type": "stream",
     "text": [
      "[Errno 10054] An existing connection was forcibly closed by the remote host\n"
     ]
    },
    {
     "name": "stdout",
     "output_type": "stream",
     "text": [
      "Exiting\n'posts: 30'\nPROGRESS: 18% (2127/11783)\nu'[When to use the talent necrotic plague?] (/forums/en/wow/topic/13902231257)'\n"
     ]
    },
    {
     "name": "stdout",
     "output_type": "stream",
     "text": [
      "Exiting\n'posts: 4'\nPROGRESS: 18% (2128/11783)\nu'[T17 4p set  kinda f$@king bad?] (/forums/en/wow/topic/13902201246)'\n"
     ]
    },
    {
     "name": "stdout",
     "output_type": "stream",
     "text": [
      "Exiting\n'posts: 6'\nPROGRESS: 18% (2129/11783)\nu'[Would you stick to Dk after Nerf?] (/forums/en/wow/topic/13902191183)'\n"
     ]
    },
    {
     "name": "stdout",
     "output_type": "stream",
     "text": [
      "Exiting\n'posts: 12'\nPROGRESS: 18% (2130/11783)\nu\"[Deathknights. What makes them a 'Hero class'?] (/forums/en/wow/topic/13901300936)\"\n"
     ]
    },
    {
     "name": "stdout",
     "output_type": "stream",
     "text": [
      "HTTPError = 404\n"
     ]
    },
    {
     "name": "stdout",
     "output_type": "stream",
     "text": [
      "Exiting\n'posts: 30'\nPROGRESS: 18% (2131/11783)\nu\"[Why do DW frost DK's even use icy touch?] (/forums/en/wow/topic/13686772282)\"\n"
     ]
    },
    {
     "name": "stdout",
     "output_type": "stream",
     "text": [
      "Exiting\n'posts: 3'\nPROGRESS: 18% (2132/11783)\nu'[DK looms] (/forums/en/wow/topic/13901851185)'\n"
     ]
    },
    {
     "name": "stdout",
     "output_type": "stream",
     "text": [
      "Exiting\n'posts: 3'\nPROGRESS: 18% (2133/11783)\nu'[Tank DK heirlooms] (/forums/en/wow/topic/13901870358)'\n"
     ]
    },
    {
     "name": "stdout",
     "output_type": "stream",
     "text": [
      "Exiting\n'posts: 4'\nPROGRESS: 18% (2134/11783)\nu'[Alliance Race] (/forums/en/wow/topic/13902231034)'\n"
     ]
    },
    {
     "name": "stdout",
     "output_type": "stream",
     "text": [
      "Exiting\n'posts: 4'\nPROGRESS: 18% (2135/11783)\nu'[Unholy DK buffed in PvP???] (/forums/en/wow/topic/13901301091)'\n"
     ]
    },
    {
     "name": "stdout",
     "output_type": "stream",
     "text": [
      "Exiting\n'posts: 2'\nPROGRESS: 18% (2136/11783)\nu'[6.1 and festerstrike display] (/forums/en/wow/topic/13901851164)'\n"
     ]
    },
    {
     "name": "stdout",
     "output_type": "stream",
     "text": [
      "Exiting\n'posts: 5'\nPROGRESS: 18% (2137/11783)\nu'[Necrotic Plague - Still Crap] (/forums/en/wow/topic/13902190749)'\n"
     ]
    },
    {
     "name": "stdout",
     "output_type": "stream",
     "text": [
      "Exiting\n'posts: 20'\nPROGRESS: 18% (2138/11783)\nu'[Should i lvl my dk] (/forums/en/wow/topic/13901991092)'\n"
     ]
    },
    {
     "name": "stdout",
     "output_type": "stream",
     "text": [
      "Exiting\n'posts: 4'\nPROGRESS: 18% (2139/11783)\nu'[DK DPS (PVE). Frost or Unholy?] (/forums/en/wow/topic/13901381038)'\nHTTPError = 404\n"
     ]
    },
    {
     "name": "stdout",
     "output_type": "stream",
     "text": [
      "Exiting\n'posts: 5'\nPROGRESS: 18% (2140/11783)\nu'[Unholy - what i am doing wrong?] (/forums/en/wow/topic/13686791249)'\n"
     ]
    },
    {
     "name": "stdout",
     "output_type": "stream",
     "text": [
      "Exiting\n'posts: 28'\nPROGRESS: 18% (2141/11783)\nu\"[so I see a lot of frost dk's in 2s..] (/forums/en/wow/topic/13901870868)\"\n"
     ]
    },
    {
     "name": "stdout",
     "output_type": "stream",
     "text": [
      "Exiting\n'posts: 8'\nPROGRESS: 18% (2142/11783)\nu\"[Blood DK's & multistrike & crit] (/forums/en/wow/topic/13901850945)\"\n"
     ]
    },
    {
     "name": "stdout",
     "output_type": "stream",
     "text": [
      "[Errno 10054] An existing connection was forcibly closed by the remote host\n"
     ]
    },
    {
     "name": "stdout",
     "output_type": "stream",
     "text": [
      "Exiting\n'posts: 3'\nPROGRESS: 18% (2143/11783)\nu'[My problems With Death Knight in PvP] (/forums/en/wow/topic/13901370898)'\n"
     ]
    },
    {
     "name": "stdout",
     "output_type": "stream",
     "text": [
      "Exiting\n'posts: 3'\nPROGRESS: 18% (2144/11783)\nu'[Is frost dk the modern version of 2h enh shaman?] (/forums/en/wow/topic/13902230928)'\n"
     ]
    },
    {
     "name": "stdout",
     "output_type": "stream",
     "text": [
      "Exiting\n'posts: 2'\nPROGRESS: 18% (2145/11783)\nu'[Warrior or DK DPS?] (/forums/en/wow/topic/13902190118)'\nHTTPError = 404\n"
     ]
    },
    {
     "name": "stdout",
     "output_type": "stream",
     "text": [
      "Exiting\n'posts: 13'\nPROGRESS: 18% (2146/11783)\nu'[Best Arena partner for a Frost DK in 2on2s?] (/forums/en/wow/topic/13686041003)'\n"
     ]
    },
    {
     "name": "stdout",
     "output_type": "stream",
     "text": [
      "Exiting\n'posts: 9'\nPROGRESS: 18% (2147/11783)\nu'[Simulationcraft] (/forums/en/wow/topic/13902230493)'\n"
     ]
    },
    {
     "name": "stdout",
     "output_type": "stream",
     "text": [
      "Exiting\n'posts: 5'\nPROGRESS: 18% (2148/11783)\nu'[Unholy Stat Weights] (/forums/en/wow/topic/13901380713)'\n"
     ]
    },
    {
     "name": "stdout",
     "output_type": "stream",
     "text": [
      "Exiting\n'posts: 6'\nPROGRESS: 18% (2149/11783)\nu'[Proving Grounds: Endless 49 DMG] (/forums/en/wow/topic/13604831343)'\n"
     ]
    },
    {
     "name": "stdout",
     "output_type": "stream",
     "text": [
      "[Errno 10054] An existing connection was forcibly closed by the remote host\nHTTPError = 404\n"
     ]
    },
    {
     "name": "stdout",
     "output_type": "stream",
     "text": [
      "Exiting\n'posts: 2'\nPROGRESS: 18% (2150/11783)\n"
     ]
    },
    {
     "name": "stdout",
     "output_type": "stream",
     "text": [
      "u'[Frost: Glyph of Outbreak or Plague Strike?] (/forums/en/wow/topic/13901370702)'\n"
     ]
    },
    {
     "name": "stdout",
     "output_type": "stream",
     "text": [
      "Exiting\n'posts: 7'\nPROGRESS: 18% (2151/11783)\nu'[Tier 17 2-Set Bonus for Frost DK - Wrong or unfair?] (/forums/en/wow/topic/13687301740)'\n"
     ]
    },
    {
     "name": "stdout",
     "output_type": "stream",
     "text": [
      "Exiting\n'posts: 9'\nPROGRESS: 18% (2152/11783)\nu'[Possible to move Killing Machine-proc images?] (/forums/en/wow/topic/13901300275)'\n"
     ]
    },
    {
     "name": "stdout",
     "output_type": "stream",
     "text": [
      "Exiting\n'posts: 6'\nPROGRESS: 18% (2153/11783)\nu'[DK pvp in 6.1 talk!] (/forums/en/wow/topic/13902200603)'\n"
     ]
    },
    {
     "name": "stdout",
     "output_type": "stream",
     "text": [
      "Exiting\n'posts: 7'\nPROGRESS: 18% (2154/11783)\nu\"[Question for you DK's about 2v2.] (/forums/en/wow/topic/13902200689)\"\n"
     ]
    },
    {
     "name": "stdout",
     "output_type": "stream",
     "text": [
      "Exiting\n'posts: 2'\nPROGRESS: 18% (2155/11783)\nu'[Frost DW vs Unholy Aoe] (/forums/en/wow/topic/13686008836)'\n"
     ]
    },
    {
     "name": "stdout",
     "output_type": "stream",
     "text": [
      "[Errno 10054] An existing connection was forcibly closed by the remote host\n"
     ]
    },
    {
     "name": "stdout",
     "output_type": "stream",
     "text": [
      "Exiting\n'posts: 10'\nPROGRESS: 18% (2156/11783)\nu'[Remember when] (/forums/en/wow/topic/13686182065)'\n"
     ]
    },
    {
     "name": "stdout",
     "output_type": "stream",
     "text": [
      "HTTPError = 404\n"
     ]
    },
    {
     "name": "stdout",
     "output_type": "stream",
     "text": [
      "Exiting\n'posts: 26'\nPROGRESS: 18% (2157/11783)\nu'[Frost Fever & Blood Plague issue 6.1] (/forums/en/wow/topic/13902230562)'\nHTTPError = 404\n"
     ]
    },
    {
     "name": "stdout",
     "output_type": "stream",
     "text": [
      "Exiting\n'posts: 1'\nPROGRESS: 18% (2158/11783)\nu'[Drov the Ruiner solo kill...] (/forums/en/wow/topic/13901380678)'\n"
     ]
    },
    {
     "name": "stdout",
     "output_type": "stream",
     "text": [
      "Exiting\n'posts: 3'\nPROGRESS: 18% (2159/11783)\nu'[What beats a dk 1v1?] (/forums/en/wow/topic/13686770003)'\n"
     ]
    },
    {
     "name": "stdout",
     "output_type": "stream",
     "text": [
      "Exiting\n'posts: 29'\nPROGRESS: 18% (2160/11783)\nu'[Frost Death Knight Doing 1v2 Arena Easily [Patch 6.1]] (/forums/en/wow/topic/13901920554)'\n"
     ]
    },
    {
     "name": "stdout",
     "output_type": "stream",
     "text": [
      "[Errno 10054] An existing connection was forcibly closed by the remote host\n"
     ]
    },
    {
     "name": "stdout",
     "output_type": "stream",
     "text": [
      "Exiting\n'posts: 3'\nPROGRESS: 18% (2161/11783)\nu'[DK dps in raids] (/forums/en/wow/topic/13686180789)'\n"
     ]
    },
    {
     "name": "stdout",
     "output_type": "stream",
     "text": [
      "Exiting\n'posts: 29'\nPROGRESS: 18% (2162/11783)\nu'[Are Death Knights... literally dead?] (/forums/en/wow/topic/13687002288)'\n"
     ]
    },
    {
     "name": "stdout",
     "output_type": "stream",
     "text": [
      "HTTPError = 404\n"
     ]
    },
    {
     "name": "stdout",
     "output_type": "stream",
     "text": [
      "Exiting\n'posts: 8'\nPROGRESS: 18% (2163/11783)\nu\"[My UI, sharing with other DK's] (/forums/en/wow/topic/13686770538)\"\n"
     ]
    },
    {
     "name": "stdout",
     "output_type": "stream",
     "text": [
      "Exiting\n'posts: 15'\nPROGRESS: 18% (2164/11783)\nu'[How can Blizzard be this blind?] (/forums/en/wow/topic/13687301536)'\n"
     ]
    },
    {
     "name": "stdout",
     "output_type": "stream",
     "text": [
      "Exiting\n'posts: 25'\nPROGRESS: 18% (2165/11783)\nu'[Trinket question] (/forums/en/wow/topic/13901300175)'\n"
     ]
    },
    {
     "name": "stdout",
     "output_type": "stream",
     "text": [
      "Exiting\n'posts: 2'\nPROGRESS: 18% (2166/11783)\nu'[Stat prio for DW Frost?] (/forums/en/wow/topic/13901380175)'\n"
     ]
    },
    {
     "name": "stdout",
     "output_type": "stream",
     "text": [
      "Exiting\n'posts: 3'\nPROGRESS: 18% (2167/11783)\nu'[DK flight points when starting out.] (/forums/en/wow/topic/13901850151)'\n"
     ]
    },
    {
     "name": "stdout",
     "output_type": "stream",
     "text": [
      "Exiting\n'posts: 3'\nPROGRESS: 18% (2168/11783)\nu'[Best Raid DK Interface ever ^_^] (/forums/en/wow/topic/13686552146)'\n"
     ]
    },
    {
     "name": "stdout",
     "output_type": "stream",
     "text": [
      "HTTPError = 404\n"
     ]
    },
    {
     "name": "stdout",
     "output_type": "stream",
     "text": [
      "Exiting\n'posts: 6'\nPROGRESS: 18% (2169/11783)\nu'[Returning DK, Few questions] (/forums/en/wow/topic/13686772295)'\n"
     ]
    },
    {
     "name": "stdout",
     "output_type": "stream",
     "text": [
      "Exiting\n'posts: 5'\nPROGRESS: 18% (2170/11783)\nu'[Soul Reaper] (/forums/en/wow/topic/13686550453)'\n"
     ]
    },
    {
     "name": "stdout",
     "output_type": "stream",
     "text": [
      "Exiting\n'posts: 86'\nPROGRESS: 18% (2171/11783)\nu'[How to fix rune cooldowns?] (/forums/en/wow/topic/13687301866)'\nHTTPError = 404\n"
     ]
    },
    {
     "name": "stdout",
     "output_type": "stream",
     "text": [
      "Exiting\n'posts: 14'\nPROGRESS: 18% (2172/11783)\nu'[I never feel like doing dk now] (/forums/en/wow/topic/13686552083)'\n"
     ]
    },
    {
     "name": "stdout",
     "output_type": "stream",
     "text": [
      "[Errno 10054] An existing connection was forcibly closed by the remote host\n"
     ]
    },
    {
     "name": "stdout",
     "output_type": "stream",
     "text": [
      "Exiting\n'posts: 1'\nPROGRESS: 18% (2173/11783)\nu'[DK vs Ranged] (/forums/en/wow/topic/13687301989)'\n"
     ]
    },
    {
     "name": "stdout",
     "output_type": "stream",
     "text": [
      "Exiting\n'posts: 10'\nPROGRESS: 18% (2174/11783)\nu'[Blood PvP] (/forums/en/wow/topic/13686072119)'\n"
     ]
    },
    {
     "name": "stdout",
     "output_type": "stream",
     "text": [
      "Exiting\n'posts: 4'\nPROGRESS: 18% (2175/11783)\nu'[When you..] (/forums/en/wow/topic/13686791594)'\n"
     ]
    },
    {
     "name": "stdout",
     "output_type": "stream",
     "text": [
      "Exiting\n'posts: 10'\nPROGRESS: 18% (2176/11783)\nu'[Question regarding heirlooms 6.1] (/forums/en/wow/topic/13686161905)'\n"
     ]
    },
    {
     "name": "stdout",
     "output_type": "stream",
     "text": [
      "Exiting\n'posts: 2'\nPROGRESS: 18% (2177/11783)\nu'[Improving 2H Frost DPS?] (/forums/en/wow/topic/13686041617)'\n"
     ]
    },
    {
     "name": "stdout",
     "output_type": "stream",
     "text": [
      "Exiting\n'posts: 8'\nPROGRESS: 18% (2178/11783)\nu'[6.1 Necroblight question] (/forums/en/wow/topic/13686771768)'\n"
     ]
    },
    {
     "name": "stdout",
     "output_type": "stream",
     "text": [
      "Exiting\n'posts: 13'\nPROGRESS: 18% (2179/11783)\nu'[Swapping remorseless winter and deaths advance?] (/forums/en/wow/topic/13686771662)'\n"
     ]
    },
    {
     "name": "stdout",
     "output_type": "stream",
     "text": [
      "Exiting\n'posts: 11'\nPROGRESS: 18% (2180/11783)\nu'[Duck Knight: what is \"wrong\" with it] (/forums/en/wow/topic/13686111117)'\n"
     ]
    },
    {
     "name": "stdout",
     "output_type": "stream",
     "text": [
      "Exiting\n'posts: 9'\nPROGRESS: 18% (2181/11783)\nu'[Rune timer] (/forums/en/wow/topic/13686011349)'\n"
     ]
    },
    {
     "name": "stdout",
     "output_type": "stream",
     "text": [
      "[Errno 10054] An existing connection was forcibly closed by the remote host\n"
     ]
    },
    {
     "name": "stdout",
     "output_type": "stream",
     "text": [
      "Exiting\n'posts: 4'\nPROGRESS: 18% (2182/11783)\nu'[unholy or frost ?] (/forums/en/wow/topic/13686011942)'\n"
     ]
    },
    {
     "name": "stdout",
     "output_type": "stream",
     "text": [
      "[Errno 10054] An existing connection was forcibly closed by the remote host\n"
     ]
    },
    {
     "name": "stdout",
     "output_type": "stream",
     "text": [
      "Exiting\n'posts: 2'\nPROGRESS: 18% (2183/11783)\nu'[does frost do more damage than unholy ?] (/forums/en/wow/topic/13686111680)'\n"
     ]
    },
    {
     "name": "stdout",
     "output_type": "stream",
     "text": [
      "Exiting\n'posts: 4'\nPROGRESS: 18% (2184/11783)\nu'[Conversion & Breath of Sindragosa?] (/forums/en/wow/topic/13686771831)'\n"
     ]
    },
    {
     "name": "stdout",
     "output_type": "stream",
     "text": [
      "Exiting\n'posts: 3'\nPROGRESS: 18% (2185/11783)\nu'[Help with BLood DK Threat Vs Druid+] (/forums/en/wow/topic/13686040184)'\n"
     ]
    },
    {
     "name": "stdout",
     "output_type": "stream",
     "text": [
      "Exiting\n'posts: 21'\nPROGRESS: 18% (2186/11783)\nu'[The state of Army, and why it needs a change!] (/forums/en/wow/topic/13686550406)'\n"
     ]
    },
    {
     "name": "stdout",
     "output_type": "stream",
     "text": [
      "Exiting\n'posts: 17'\nPROGRESS: 18% (2187/11783)\nu'[Graphic Bug Startergear for BE?] (/forums/en/wow/topic/13686161626)'\n"
     ]
    },
    {
     "name": "stdout",
     "output_type": "stream",
     "text": [
      "Exiting\n'posts: 1'\nPROGRESS: 18% (2188/11783)\nu'[Necrotic plague spreading automatically is stupid.] (/forums/en/wow/topic/12808650806)'\n"
     ]
    },
    {
     "name": "stdout",
     "output_type": "stream",
     "text": [
      "HTTPError = 404\n"
     ]
    },
    {
     "name": "stdout",
     "output_type": "stream",
     "text": [
      "Exiting\n'posts: 35'\nPROGRESS: 18% (2189/11783)\nu'[so how do you heal now in pvp (2v2s, or duels)- siphon?] (/forums/en/wow/topic/13686011554)'\n"
     ]
    },
    {
     "name": "stdout",
     "output_type": "stream",
     "text": [
      "Exiting\n'posts: 4'\nPROGRESS: 18% (2190/11783)\nu'[Agro Issues] (/forums/en/wow/topic/13686811114)'\n"
     ]
    },
    {
     "name": "stdout",
     "output_type": "stream",
     "text": [
      "Exiting\n'posts: 4'\nPROGRESS: 18% (2191/11783)\nu'[Dead pact changed!?] (/forums/en/wow/topic/13687301352)'\n"
     ]
    },
    {
     "name": "stdout",
     "output_type": "stream",
     "text": [
      "Exiting\n'posts: 3'\nPROGRESS: 18% (2192/11783)\nu'[Why do they want to nerf dk healing, anyone seen feral] (/forums/en/wow/topic/13687300907)'\n"
     ]
    },
    {
     "name": "stdout",
     "output_type": "stream",
     "text": [
      "Exiting\n'posts: 4'\nPROGRESS: 18% (2193/11783)\nu'[Need help with unholy.] (/forums/en/wow/topic/13686811121)'\n"
     ]
    },
    {
     "name": "stdout",
     "output_type": "stream",
     "text": [
      "Exiting\n'posts: 5'\nPROGRESS: 18% (2194/11783)\nu'[Questions about DK (from a noobie)] (/forums/en/wow/topic/13686010364)'\n"
     ]
    },
    {
     "name": "stdout",
     "output_type": "stream",
     "text": [
      "Exiting\n'posts: 2'\nPROGRESS: 18% (2195/11783)\nu'[Unholy / Sub-Spec Suggestion] (/forums/en/wow/topic/13123156469)'\n"
     ]
    },
    {
     "name": "stdout",
     "output_type": "stream",
     "text": [
      "Exiting\n'posts: 11'\nPROGRESS: 18% (2196/11783)\nu'[Stay with my DK or swap to a Rogue?] (/forums/en/wow/topic/9413861401)'\n"
     ]
    },
    {
     "name": "stdout",
     "output_type": "stream",
     "text": [
      "Exiting\n'posts: 9'\nPROGRESS: 18% (2197/11783)\nu'[Unholy using defile single target?] (/forums/en/wow/topic/13687001369)'\n"
     ]
    },
    {
     "name": "stdout",
     "output_type": "stream",
     "text": [
      "Exiting\n'posts: 4'\nPROGRESS: 18% (2198/11783)\nu'[haste or multistrike] (/forums/en/wow/topic/13687000038)'\n"
     ]
    },
    {
     "name": "stdout",
     "output_type": "stream",
     "text": [
      "Exiting\n'posts: 6'\nPROGRESS: 18% (2199/11783)\nu'[DW frost, you are missed ..<3] (/forums/en/wow/topic/13686770653)'\n"
     ]
    },
    {
     "name": "stdout",
     "output_type": "stream",
     "text": [
      "Exiting\n'posts: 13'\nPROGRESS: 18% (2200/11783)\n"
     ]
    },
    {
     "name": "stdout",
     "output_type": "stream",
     "text": [
      "u'[Best looking armors in the game] (/forums/en/wow/topic/13687300101)'\n"
     ]
    },
    {
     "name": "stdout",
     "output_type": "stream",
     "text": [
      "Exiting\n'posts: 23'\nPROGRESS: 18% (2201/11783)\nu'[Blood dk proving grounds wave 161-170. Enjoy!] (/forums/en/wow/topic/13687001123)'\n"
     ]
    },
    {
     "name": "stdout",
     "output_type": "stream",
     "text": [
      "[Errno 10054] An existing connection was forcibly closed by the remote host\n"
     ]
    },
    {
     "name": "stdout",
     "output_type": "stream",
     "text": [
      "Exiting\n'posts: 5'\nPROGRESS: 18% (2202/11783)\nu'[DK in pve.] (/forums/en/wow/topic/13686011123)'\n"
     ]
    },
    {
     "name": "stdout",
     "output_type": "stream",
     "text": [
      "Exiting\n'posts: 2'\nPROGRESS: 18% (2203/11783)\nu'[Frost DK PvP question] (/forums/en/wow/topic/13687300411)'\n"
     ]
    },
    {
     "name": "stdout",
     "output_type": "stream",
     "text": [
      "Exiting\n'posts: 6'\nPROGRESS: 18% (2204/11783)\nu'[Dear blizzard read this.] (/forums/en/wow/topic/13686109147)'\n"
     ]
    },
    {
     "name": "stdout",
     "output_type": "stream",
     "text": [
      "Exiting\n'posts: 27'\nPROGRESS: 18% (2205/11783)\nu'[Blood DK level 100 dungeon, wipefest] (/forums/en/wow/topic/13686770935)'\n"
     ]
    },
    {
     "name": "stdout",
     "output_type": "stream",
     "text": [
      "Exiting\n'posts: 3'\nPROGRESS: 18% (2206/11783)\nu'[DK in blood - Silver Proving Grounds] (/forums/en/wow/topic/13686810342)'\n"
     ]
    },
    {
     "name": "stdout",
     "output_type": "stream",
     "text": [
      "Exiting\n'posts: 7'\nPROGRESS: 18% (2207/11783)\nu'[Level 75 tier talents need a rework.] (/forums/en/wow/topic/13687300836)'\n"
     ]
    },
    {
     "name": "stdout",
     "output_type": "stream",
     "text": [
      "Exiting\n'posts: 6'\nPROGRESS: 18% (2208/11783)\nu'[Glyphs question] (/forums/en/wow/topic/13687299278)'\n"
     ]
    },
    {
     "name": "stdout",
     "output_type": "stream",
     "text": [
      "Exiting\n'posts: 7'\nPROGRESS: 18% (2209/11783)\nu'[Death Knights in PvP] (/forums/en/wow/topic/13687299843)'\n"
     ]
    },
    {
     "name": "stdout",
     "output_type": "stream",
     "text": [
      "Exiting\n'posts: 8'\nPROGRESS: 18% (2210/11783)\nu'[\\'Silver is not enough, Gold should be required\"] (/forums/en/wow/topic/13686110325)'\n"
     ]
    },
    {
     "name": "stdout",
     "output_type": "stream",
     "text": [
      "Exiting\n'posts: 10'\nPROGRESS: 18% (2211/11783)\nu'[Magma plated battlegear] (/forums/en/wow/topic/13687000705)'\n"
     ]
    },
    {
     "name": "stdout",
     "output_type": "stream",
     "text": [
      "Exiting\n'posts: 9'\nPROGRESS: 18% (2212/11783)\nu'[Blizzard broke DK threat with recent nerf?] (/forums/en/wow/topic/13686550485)'\n"
     ]
    },
    {
     "name": "stdout",
     "output_type": "stream",
     "text": [
      "Exiting\n'posts: 4'\nPROGRESS: 18% (2213/11783)\nu'[Defile hitbox] (/forums/en/wow/topic/13686010689)'\n"
     ]
    },
    {
     "name": "stdout",
     "output_type": "stream",
     "text": [
      "Exiting\n'posts: 6'\nPROGRESS: 18% (2214/11783)\nu'[beginner blood dk help] (/forums/en/wow/topic/13686770611)'\n"
     ]
    },
    {
     "name": "stdout",
     "output_type": "stream",
     "text": [
      "Exiting\n'posts: 4'\nPROGRESS: 18% (2215/11783)\nu'[Deathstrike Healing] (/forums/en/wow/topic/13687000208)'\n"
     ]
    },
    {
     "name": "stdout",
     "output_type": "stream",
     "text": [
      "Exiting\n'posts: 14'\nPROGRESS: 18% (2216/11783)\nu'[Glyph of the Abomination] (/forums/en/wow/topic/13687000765)'\n"
     ]
    },
    {
     "name": "stdout",
     "output_type": "stream",
     "text": [
      "Exiting\n'posts: 3'\nPROGRESS: 18% (2217/11783)\nu'[Pointers] (/forums/en/wow/topic/13686110745)'\n"
     ]
    },
    {
     "name": "stdout",
     "output_type": "stream",
     "text": [
      "Exiting\n'posts: 3'\nPROGRESS: 18% (2218/11783)\nu'[Question regarding dual wield.] (/forums/en/wow/topic/13686010748)'\n"
     ]
    },
    {
     "name": "stdout",
     "output_type": "stream",
     "text": [
      "Exiting\n'posts: 3'\nPROGRESS: 18% (2219/11783)\nu'[Frost AOE] (/forums/en/wow/topic/13686550139)'\n"
     ]
    },
    {
     "name": "stdout",
     "output_type": "stream",
     "text": [
      "Exiting\n'posts: 6'\nPROGRESS: 18% (2220/11783)\nu'[Suggestion to make lvl 60 tier talents more interesting] (/forums/en/wow/topic/13687000659)'\n"
     ]
    },
    {
     "name": "stdout",
     "output_type": "stream",
     "text": [
      "Exiting\n'posts: 2'\nPROGRESS: 18% (2221/11783)\nu'[A few questions about blood DKs] (/forums/en/wow/topic/13686040509)'\n"
     ]
    },
    {
     "name": "stdout",
     "output_type": "stream",
     "text": [
      "Exiting\n'posts: 3'\nPROGRESS: 18% (2222/11783)\nu'[Blood spec, glyph of outbreak] (/forums/en/wow/topic/13686010567)'\n"
     ]
    },
    {
     "name": "stdout",
     "output_type": "stream",
     "text": [
      "Exiting\n'posts: 5'\nPROGRESS: 18% (2223/11783)\nu'[DK PvE] (/forums/en/wow/topic/13686110535)'\nHTTPError = 404\n"
     ]
    },
    {
     "name": "stdout",
     "output_type": "stream",
     "text": [
      "Exiting\n'posts: 4'\nPROGRESS: 18% (2224/11783)\nu'[Dealing maximum damage Multi target in RBG?] (/forums/en/wow/topic/13686039973)'\n"
     ]
    },
    {
     "name": "stdout",
     "output_type": "stream",
     "text": [
      "Exiting\n'posts: 15'\nPROGRESS: 18% (2225/11783)\nu'[DK in 2v2s] (/forums/en/wow/topic/13687300473)'\n"
     ]
    },
    {
     "name": "stdout",
     "output_type": "stream",
     "text": [
      "[Errno 10054] An existing connection was forcibly closed by the remote host\n"
     ]
    },
    {
     "name": "stdout",
     "output_type": "stream",
     "text": [
      "Exiting\n'posts: 2'\nPROGRESS: 18% (2226/11783)\nu'[soloing all Wod 5man hc\\xb4s] (/forums/en/wow/topic/13687299996)'\n"
     ]
    },
    {
     "name": "stdout",
     "output_type": "stream",
     "text": [
      "Exiting\n'posts: 5'\nPROGRESS: 18% (2227/11783)\nu'[Mastery or Multistrike when going Necroticblight?] (/forums/en/wow/topic/13686070441)'\n"
     ]
    },
    {
     "name": "stdout",
     "output_type": "stream",
     "text": [
      "Exiting\n'posts: 2'\nPROGRESS: 18% (2228/11783)\nu'[LF DK tank to our rbg team.] (/forums/en/wow/topic/13687000368)'\n"
     ]
    },
    {
     "name": "stdout",
     "output_type": "stream",
     "text": [
      "Exiting\n'posts: 2'\nPROGRESS: 18% (2229/11783)\nu'[Stat Priority, Frost & Blood.  Lets get to the bottom!] (/forums/en/wow/topic/13687000057)'\n"
     ]
    },
    {
     "name": "stdout",
     "output_type": "stream",
     "text": [
      "Exiting\n'posts: 6'\nPROGRESS: 18% (2230/11783)\nu'[How do you beat hunters 1v1?] (/forums/en/wow/topic/13686010288)'\n"
     ]
    },
    {
     "name": "stdout",
     "output_type": "stream",
     "text": [
      "Exiting\n'posts: 8'\nPROGRESS: 18% (2231/11783)\nu'[DK = Fotm class of all time] (/forums/en/wow/topic/13686008811)'\nHTTPError = 404\n"
     ]
    },
    {
     "name": "stdout",
     "output_type": "stream",
     "text": [
      "Exiting\n'posts: 26'\nPROGRESS: 18% (2232/11783)\nu'[Hilarious Ghoul Names] (/forums/en/wow/topic/13686808940)'\n"
     ]
    },
    {
     "name": "stdout",
     "output_type": "stream",
     "text": [
      "Exiting\n'posts: 8'\nPROGRESS: 18% (2233/11783)\nu'[I Want an explanation NOW] (/forums/en/wow/topic/13604911343)'\nHTTPError = 404\n"
     ]
    },
    {
     "name": "stdout",
     "output_type": "stream",
     "text": [
      "Exiting\n'posts: 30'\nPROGRESS: 18% (2234/11783)\nu'[Losing Faith in DW Frost] (/forums/en/wow/topic/13686790012)'\n"
     ]
    },
    {
     "name": "stdout",
     "output_type": "stream",
     "text": [
      "[Errno 10054] An existing connection was forcibly closed by the remote host\n"
     ]
    },
    {
     "name": "stdout",
     "output_type": "stream",
     "text": [
      "Exiting\n'posts: 3'\nPROGRESS: 18% (2235/11783)\nu'[Time to prepare for more PvP QQ...] (/forums/en/wow/topic/13686010041)'\n"
     ]
    },
    {
     "name": "stdout",
     "output_type": "stream",
     "text": [
      "Exiting\n'posts: 10'\nPROGRESS: 18% (2236/11783)\nu'[Best looking weapons in the game?] (/forums/en/wow/topic/5966448615)'\n"
     ]
    },
    {
     "name": "stdout",
     "output_type": "stream",
     "text": [
      "Exiting\n'posts: 49'\nPROGRESS: 18% (2237/11783)\nu'[Littlemilan] (/forums/en/wow/topic/13686770102)'\n"
     ]
    },
    {
     "name": "stdout",
     "output_type": "stream",
     "text": [
      "Exiting\n'posts: 6'\nPROGRESS: 18% (2238/11783)\nu'[PVP Blood] (/forums/en/wow/topic/13686179824)'\nHTTPError = 404\n"
     ]
    },
    {
     "name": "stdout",
     "output_type": "stream",
     "text": [
      "HTTPError = 404\n"
     ]
    },
    {
     "name": "stdout",
     "output_type": "stream",
     "text": [
      "Exiting\n'posts: 4'\nPROGRESS: 19% (2239/11783)\nu'[New Death Knight] (/forums/en/wow/topic/13686110117)'\n"
     ]
    },
    {
     "name": "stdout",
     "output_type": "stream",
     "text": [
      "Exiting\n'posts: 5'\nPROGRESS: 19% (2240/11783)\nu'[Unholy and the minion! :/] (/forums/en/wow/topic/13605030618)'\n"
     ]
    },
    {
     "name": "stdout",
     "output_type": "stream",
     "text": [
      "HTTPError = 404\n"
     ]
    },
    {
     "name": "stdout",
     "output_type": "stream",
     "text": [
      "Exiting\n'posts: 12'\nPROGRESS: 19% (2241/11783)\nu'[Frost, Unholy, DW, 2H] (/forums/en/wow/topic/13686009911)'\n"
     ]
    },
    {
     "name": "stdout",
     "output_type": "stream",
     "text": [
      "Exiting\n'posts: 4'\nPROGRESS: 19% (2242/11783)\nu'[This needs fixing.] (/forums/en/wow/topic/13686070018)'\n"
     ]
    },
    {
     "name": "stdout",
     "output_type": "stream",
     "text": [
      "Exiting\n'posts: 4'\nPROGRESS: 19% (2243/11783)\nu'[Got the DK out of storage] (/forums/en/wow/topic/13686159970)'\n"
     ]
    },
    {
     "name": "stdout",
     "output_type": "stream",
     "text": [
      "Exiting\n'posts: 4'\nPROGRESS: 19% (2244/11783)\nu'[Low single target dps, blood] (/forums/en/wow/topic/13687299570)'\n"
     ]
    },
    {
     "name": "stdout",
     "output_type": "stream",
     "text": [
      "Exiting\n'posts: 9'\nPROGRESS: 19% (2245/11783)\nu'[Dark Succor doesn\\'t alert me when It\\'s \" buffed \"] (/forums/en/wow/topic/12618404215)'\n"
     ]
    },
    {
     "name": "stdout",
     "output_type": "stream",
     "text": [
      "Exiting\n'posts: 6'\nPROGRESS: 19% (2246/11783)\nu'[Frost changes suggestions] (/forums/en/wow/topic/13686159360)'\n"
     ]
    },
    {
     "name": "stdout",
     "output_type": "stream",
     "text": [
      "Exiting\n'posts: 13'\nPROGRESS: 19% (2247/11783)\nu'[What makes dks so strong?] (/forums/en/wow/topic/13686158854)'\n"
     ]
    },
    {
     "name": "stdout",
     "output_type": "stream",
     "text": [
      "Exiting\n'posts: 9'\nPROGRESS: 19% (2248/11783)\nu'[DK professions, JWC and ...?] (/forums/en/wow/topic/13686998626)'\n"
     ]
    },
    {
     "name": "stdout",
     "output_type": "stream",
     "text": [
      "Exiting\n'posts: 14'\nPROGRESS: 19% (2249/11783)\nu'[Dark Simulacrum] (/forums/en/wow/topic/13687299701)'\n"
     ]
    },
    {
     "name": "stdout",
     "output_type": "stream",
     "text": [
      "Exiting\n'posts: 5'\nPROGRESS: 19% (2250/11783)\n"
     ]
    },
    {
     "name": "stdout",
     "output_type": "stream",
     "text": [
      "u'[Nerf DKs] (/forums/en/wow/topic/13686769322)'\n"
     ]
    },
    {
     "name": "stdout",
     "output_type": "stream",
     "text": [
      "Exiting\n'posts: 20'\nPROGRESS: 19% (2251/11783)\nu'[Most unskilled lowbie class in the game= DK] (/forums/en/wow/topic/13686788892)'\n"
     ]
    },
    {
     "name": "stdout",
     "output_type": "stream",
     "text": [
      "Exiting\n'posts: 21'\nPROGRESS: 19% (2252/11783)\nu'[[Guide]Unholy, with some Death Knight on the side...] (/forums/en/wow/topic/13123155117)'\n"
     ]
    },
    {
     "name": "stdout",
     "output_type": "stream",
     "text": [
      "Exiting\n'posts: 36'\nPROGRESS: 19% (2253/11783)\nu'[Defile or Necrotic Plague?] (/forums/en/wow/topic/13604981355)'\n"
     ]
    },
    {
     "name": "stdout",
     "output_type": "stream",
     "text": [
      "Exiting\n'posts: 15'\nPROGRESS: 19% (2254/11783)\nu'[DK suck att tanking?] (/forums/en/wow/topic/13686039269)'\n"
     ]
    },
    {
     "name": "stdout",
     "output_type": "stream",
     "text": [
      "HTTPError = 404\n"
     ]
    },
    {
     "name": "stdout",
     "output_type": "stream",
     "text": [
      "Exiting\n'posts: 21'\nPROGRESS: 19% (2255/11783)\nu'[cant get the hang of necro blight :( have a log] (/forums/en/wow/topic/13686009195)'\n"
     ]
    },
    {
     "name": "stdout",
     "output_type": "stream",
     "text": [
      "Exiting\n'posts: 7'\nPROGRESS: 19% (2256/11783)\nu'[DK PVP] (/forums/en/wow/topic/13686159334)'\n"
     ]
    },
    {
     "name": "stdout",
     "output_type": "stream",
     "text": [
      "Exiting\n'posts: 6'\nPROGRESS: 19% (2257/11783)\nu'[Tier 17 Set Bonus?] (/forums/en/wow/topic/13604831408)'\nHTTPError = 404\n"
     ]
    },
    {
     "name": "stdout",
     "output_type": "stream",
     "text": [
      "Exiting\n'posts: 8'\nPROGRESS: 19% (2258/11783)\nu'[Can KM proc from multistrikes?] (/forums/en/wow/topic/13686039477)'\n"
     ]
    },
    {
     "name": "stdout",
     "output_type": "stream",
     "text": [
      "Exiting\n'posts: 2'\nPROGRESS: 19% (2259/11783)\nu'[What do I do wrong tanking Gruul?] (/forums/en/wow/topic/13686789386)'\n"
     ]
    },
    {
     "name": "stdout",
     "output_type": "stream",
     "text": [
      "Exiting\n'posts: 2'\nPROGRESS: 19% (2260/11783)\nu'[Death Knights, rejoice!] (/forums/en/wow/topic/13686179219)'\n"
     ]
    },
    {
     "name": "stdout",
     "output_type": "stream",
     "text": [
      "Exiting\n'posts: 10'\nPROGRESS: 19% (2261/11783)\nu'[Death Pact or Conversion] (/forums/en/wow/topic/13686068967)'\n"
     ]
    },
    {
     "name": "stdout",
     "output_type": "stream",
     "text": [
      "Exiting\n'posts: 3'\nPROGRESS: 19% (2262/11783)\nu'[Might of the Frozen Waste / Threat of Thassarian?] (/forums/en/wow/topic/13686109243)'\n"
     ]
    },
    {
     "name": "stdout",
     "output_type": "stream",
     "text": [
      "Exiting\n'posts: 2'\nPROGRESS: 19% (2263/11783)\nu'[Help with my off spec dps.] (/forums/en/wow/topic/13686179110)'\n"
     ]
    },
    {
     "name": "stdout",
     "output_type": "stream",
     "text": [
      "Exiting\n'posts: 3'\nPROGRESS: 19% (2264/11783)\nu'[Frost Death Knight Arena] (/forums/en/wow/topic/13686789100)'\n"
     ]
    },
    {
     "name": "stdout",
     "output_type": "stream",
     "text": [
      "[Errno 10054] An existing connection was forcibly closed by the remote host\n"
     ]
    },
    {
     "name": "stdout",
     "output_type": "stream",
     "text": [
      "Exiting\n'posts: 2'\nPROGRESS: 19% (2265/11783)\nu'[So I hear a lot about Necroblight.] (/forums/en/wow/topic/13686108894)'\n"
     ]
    },
    {
     "name": "stdout",
     "output_type": "stream",
     "text": [
      "Exiting\n'posts: 6'\nPROGRESS: 19% (2266/11783)\nu'[6.1 Talent Changes] (/forums/en/wow/topic/13686178534)'\n"
     ]
    },
    {
     "name": "stdout",
     "output_type": "stream",
     "text": [
      "[Errno 10054] An existing connection was forcibly closed by the remote host\n"
     ]
    },
    {
     "name": "stdout",
     "output_type": "stream",
     "text": [
      "[Errno 10054] An existing connection was forcibly closed by the remote host\n"
     ]
    },
    {
     "name": "stdout",
     "output_type": "stream",
     "text": [
      "Exiting\n'posts: 40'\nPROGRESS: 19% (2267/11783)\nu\"[Dps Death Knight's Set bonuses..!?] (/forums/en/wow/topic/13686038511)\"\n"
     ]
    },
    {
     "name": "stdout",
     "output_type": "stream",
     "text": [
      "Exiting\n'posts: 2'\nPROGRESS: 19% (2268/11783)\nu'[Help 100 talents for pvp] (/forums/en/wow/topic/13686808907)'\n"
     ]
    },
    {
     "name": "stdout",
     "output_type": "stream",
     "text": [
      "Exiting\n'posts: 1'\nPROGRESS: 19% (2269/11783)\nu'[Refining Frost DK Mechanics (Constructive)] (/forums/en/wow/topic/13686548534)'\n"
     ]
    },
    {
     "name": "stdout",
     "output_type": "stream",
     "text": [
      "Exiting\n'posts: 14'\nPROGRESS: 19% (2270/11783)\nu'[Help with unholy DK please] (/forums/en/wow/topic/13605641314)'\n"
     ]
    },
    {
     "name": "stdout",
     "output_type": "stream",
     "text": [
      "Exiting\n'posts: 7'\nPROGRESS: 19% (2271/11783)\nu'[Frost DK 6.0.3/6.1 Guide!] (/forums/en/wow/topic/13605031109)'\n"
     ]
    },
    {
     "name": "stdout",
     "output_type": "stream",
     "text": [
      "Exiting\n'posts: 9'\nPROGRESS: 19% (2272/11783)\nu'[Strangulate ?] (/forums/en/wow/topic/13686178773)'\n"
     ]
    },
    {
     "name": "stdout",
     "output_type": "stream",
     "text": [
      "Exiting\n'posts: 2'\nPROGRESS: 19% (2273/11783)\nu'[Arena problemzzz] (/forums/en/wow/topic/13604911675)'\n"
     ]
    },
    {
     "name": "stdout",
     "output_type": "stream",
     "text": [
      "Exiting\n'posts: 13'\nPROGRESS: 19% (2274/11783)\nu'[Is MSV soloable on normal?] (/forums/en/wow/topic/13604570334)'\n"
     ]
    },
    {
     "name": "stdout",
     "output_type": "stream",
     "text": [
      "Exiting\n'posts: 5'\nPROGRESS: 19% (2275/11783)\nu'[Best comb with frost dk and resto druid] (/forums/en/wow/topic/13686008763)'\n"
     ]
    },
    {
     "name": "stdout",
     "output_type": "stream",
     "text": [
      "Exiting\n'posts: 1'\nPROGRESS: 19% (2276/11783)\nu'[Unholy Minion Idea] (/forums/en/wow/topic/13604571459)'\n"
     ]
    },
    {
     "name": "stdout",
     "output_type": "stream",
     "text": [
      "Exiting\n'posts: 5'\nPROGRESS: 19% (2277/11783)\nu'[Lvl 100 Talent Change] (/forums/en/wow/topic/13686108651)'\n"
     ]
    },
    {
     "name": "stdout",
     "output_type": "stream",
     "text": [
      "[Errno 10054] An existing connection was forcibly closed by the remote host\n"
     ]
    },
    {
     "name": "stdout",
     "output_type": "stream",
     "text": [
      "[Errno 10054] An existing connection was forcibly closed by the remote host\n"
     ]
    },
    {
     "name": "stdout",
     "output_type": "stream",
     "text": [
      "Exiting\n'posts: 1'\nPROGRESS: 19% (2278/11783)\nu'[Dismiss Gargoyle?] (/forums/en/wow/topic/13606461469)'\n"
     ]
    },
    {
     "name": "stdout",
     "output_type": "stream",
     "text": [
      "Exiting\n'posts: 7'\nPROGRESS: 19% (2279/11783)\nu'[DK twitch streamers, PVP] (/forums/en/wow/topic/13123158468)'\n"
     ]
    },
    {
     "name": "stdout",
     "output_type": "stream",
     "text": [
      "Exiting\n'posts: 8'\nPROGRESS: 19% (2280/11783)\nu\"[I love NP, but my god it's bad.] (/forums/en/wow/topic/12989619654)\"\n"
     ]
    },
    {
     "name": "stdout",
     "output_type": "stream",
     "text": [
      "Exiting\n'posts: 10'\nPROGRESS: 19% (2281/11783)\nu'[Breath of Sindragosa for DW Frost suggestion] (/forums/en/wow/topic/13605031069)'\n"
     ]
    },
    {
     "name": "stdout",
     "output_type": "stream",
     "text": [
      "Exiting\n'posts: 4'\nPROGRESS: 19% (2282/11783)\nu'[Death Knight Trinkets (Pve,frost)] (/forums/en/wow/topic/13686158503)'\n"
     ]
    },
    {
     "name": "stdout",
     "output_type": "stream",
     "text": [
      "Exiting\n'posts: 1'\nPROGRESS: 19% (2283/11783)\nu'[Question PVP on frost DKs] (/forums/en/wow/topic/13604741202)'\n"
     ]
    },
    {
     "name": "stdout",
     "output_type": "stream",
     "text": [
      "Exiting\n'posts: 5'\nPROGRESS: 19% (2284/11783)\nu'[Weak Unholy set?] (/forums/en/wow/topic/13123317974)'\n"
     ]
    },
    {
     "name": "stdout",
     "output_type": "stream",
     "text": [
      "Exiting\n'posts: 8'\nPROGRESS: 19% (2285/11783)\nu'[BRF progression with bugged BB/np, bugged Reaping and..] (/forums/en/wow/topic/13605791159)'\n"
     ]
    },
    {
     "name": "stdout",
     "output_type": "stream",
     "text": [
      "Exiting\n'posts: 8'\nPROGRESS: 19% (2286/11783)\nu'[Blood pvp] (/forums/en/wow/topic/13606041379)'\n"
     ]
    },
    {
     "name": "stdout",
     "output_type": "stream",
     "text": [
      "Exiting\n'posts: 3'\nPROGRESS: 19% (2287/11783)\nu'[Are DKs Really Broken] (/forums/en/wow/topic/13604911416)'\n"
     ]
    },
    {
     "name": "stdout",
     "output_type": "stream",
     "text": [
      "Exiting\n'posts: 10'\nPROGRESS: 19% (2288/11783)\nu'[I was wondering...] (/forums/en/wow/topic/13605111265)'\n"
     ]
    },
    {
     "name": "stdout",
     "output_type": "stream",
     "text": [
      "Exiting\n'posts: 1'\nPROGRESS: 19% (2289/11783)\nu'[Noob/beginner Frost Death Knight Pvp :)] (/forums/en/wow/topic/13605111144)'\n"
     ]
    },
    {
     "name": "stdout",
     "output_type": "stream",
     "text": [
      "Exiting\n'posts: 7'\nPROGRESS: 19% (2290/11783)\nu'[Frost rune question] (/forums/en/wow/topic/13122959301)'\n"
     ]
    },
    {
     "name": "stdout",
     "output_type": "stream",
     "text": [
      "Exiting\n'posts: 9'\nPROGRESS: 19% (2291/11783)\nu'[Is DW viable in PvP?] (/forums/en/wow/topic/13124239047)'\n"
     ]
    },
    {
     "name": "stdout",
     "output_type": "stream",
     "text": [
      "[Errno 10054] An existing connection was forcibly closed by the remote host\n"
     ]
    },
    {
     "name": "stdout",
     "output_type": "stream",
     "text": [
      "Exiting\n'posts: 29'\nPROGRESS: 19% (2292/11783)\nu'[Suggestion to improve frost scaling] (/forums/en/wow/topic/13604980968)'\n"
     ]
    },
    {
     "name": "stdout",
     "output_type": "stream",
     "text": [
      "Exiting\n'posts: 4'\nPROGRESS: 19% (2293/11783)\nu'[Necrotic Plague, where and how?] (/forums/en/wow/topic/13604910963)'\n"
     ]
    },
    {
     "name": "stdout",
     "output_type": "stream",
     "text": [
      "Exiting\n'posts: 8'\nPROGRESS: 19% (2294/11783)\nu'[Blood Itemisation Questions] (/forums/en/wow/topic/13123428936)'\n"
     ]
    },
    {
     "name": "stdout",
     "output_type": "stream",
     "text": [
      "Exiting\n'posts: 3'\nPROGRESS: 19% (2295/11783)\nu'[Glyph of Empowerment] (/forums/en/wow/topic/13606461139)'\n"
     ]
    },
    {
     "name": "stdout",
     "output_type": "stream",
     "text": [
      "Exiting\n'posts: 1'\nPROGRESS: 19% (2296/11783)\nu'[Is DK worth playing?] (/forums/en/wow/topic/13604910553)'\n"
     ]
    },
    {
     "name": "stdout",
     "output_type": "stream",
     "text": [
      "Exiting\n'posts: 12'\nPROGRESS: 19% (2297/11783)\nu'[WoD perks] (/forums/en/wow/topic/13604740914)'\n"
     ]
    },
    {
     "name": "stdout",
     "output_type": "stream",
     "text": [
      "Exiting\n'posts: 5'\nPROGRESS: 19% (2298/11783)\nu'[2s spec with hunter/dk] (/forums/en/wow/topic/13604980700)'\n"
     ]
    },
    {
     "name": "stdout",
     "output_type": "stream",
     "text": [
      "HTTPError = 404\n"
     ]
    },
    {
     "name": "stdout",
     "output_type": "stream",
     "text": [
      "Exiting\n'posts: 3'\nPROGRESS: 19% (2299/11783)\nu'[TSG vs hunter comps] (/forums/en/wow/topic/13606040810)'\n"
     ]
    },
    {
     "name": "stdout",
     "output_type": "stream",
     "text": [
      "Exiting\n'posts: 5'\nPROGRESS: 19% (2300/11783)\n"
     ]
    },
    {
     "name": "stdout",
     "output_type": "stream",
     "text": [
      "u'[High ilvl low dps Whts happening :s] (/forums/en/wow/topic/13123428988)'\n"
     ]
    },
    {
     "name": "stdout",
     "output_type": "stream",
     "text": [
      "Exiting\n'posts: 11'\nPROGRESS: 19% (2301/11783)\nu'[Frost Dk vs retribution paladin] (/forums/en/wow/topic/13606040871)'\n"
     ]
    },
    {
     "name": "stdout",
     "output_type": "stream",
     "text": [
      "Exiting\n'posts: 2'\nPROGRESS: 19% (2302/11783)\nu'[DK DPS] (/forums/en/wow/topic/1417585457)'\n"
     ]
    },
    {
     "name": "stdout",
     "output_type": "stream",
     "text": [
      "Exiting\n'posts: 11'\nPROGRESS: 19% (2303/11783)\nu'[blood dk proving grounds wave 146-159] (/forums/en/wow/topic/13124238875)'\n"
     ]
    },
    {
     "name": "stdout",
     "output_type": "stream",
     "text": [
      "Exiting\n'posts: 12'\nPROGRESS: 19% (2304/11783)\nu'[How to kill a DK as a mage...] (/forums/en/wow/topic/13606460533)'\n"
     ]
    },
    {
     "name": "stdout",
     "output_type": "stream",
     "text": [
      "Exiting\n'posts: 9'\nPROGRESS: 19% (2305/11783)\nu'[(pvp)Nerf frost buff unholy] (/forums/en/wow/topic/13123118233)'\n"
     ]
    },
    {
     "name": "stdout",
     "output_type": "stream",
     "text": [
      "Exiting\n'posts: 41'\nPROGRESS: 19% (2306/11783)\nu'[UH PvP stat prio] (/forums/en/wow/topic/13604570501)'\n"
     ]
    },
    {
     "name": "stdout",
     "output_type": "stream",
     "text": [
      "Exiting\n'posts: 5'\nPROGRESS: 19% (2307/11783)\nu'[Frost vs UH] (/forums/en/wow/topic/13122978359)'\n"
     ]
    },
    {
     "name": "stdout",
     "output_type": "stream",
     "text": [
      "Exiting\n'posts: 25'\nPROGRESS: 19% (2308/11783)\nu'[Ilevel 661 -2H Frost DK low dps- what Am I doing wrong?] (/forums/en/wow/topic/13122956244)'\n"
     ]
    },
    {
     "name": "stdout",
     "output_type": "stream",
     "text": [
      "Exiting\n'posts: 24'\nPROGRESS: 19% (2309/11783)\nu'[Best DK player?] (/forums/en/wow/topic/13123878999)'\n"
     ]
    },
    {
     "name": "stdout",
     "output_type": "stream",
     "text": [
      "Exiting\n'posts: 6'\nPROGRESS: 19% (2310/11783)\nu'[BoS No Longer Costs RP!] (/forums/en/wow/topic/13124238873)'\n"
     ]
    },
    {
     "name": "stdout",
     "output_type": "stream",
     "text": [
      "HTTPError = 404\n"
     ]
    },
    {
     "name": "stdout",
     "output_type": "stream",
     "text": [
      "Exiting\n'posts: 11'\nPROGRESS: 19% (2311/11783)\nu'[DEFILE] (/forums/en/wow/topic/13123117398)'\n"
     ]
    },
    {
     "name": "stdout",
     "output_type": "stream",
     "text": [
      "Exiting\n'posts: 11'\nPROGRESS: 19% (2312/11783)\nu'[Hello, need some advice] (/forums/en/wow/topic/13605030509)'\n"
     ]
    },
    {
     "name": "stdout",
     "output_type": "stream",
     "text": [
      "[Errno 10054] An existing connection was forcibly closed by the remote host\n"
     ]
    },
    {
     "name": "stdout",
     "output_type": "stream",
     "text": [
      "Exiting\n'posts: 1'\nPROGRESS: 19% (2313/11783)\nu'[Racial query] (/forums/en/wow/topic/13123879055)'\n"
     ]
    },
    {
     "name": "stdout",
     "output_type": "stream",
     "text": [
      "Exiting\n'posts: 6'\nPROGRESS: 19% (2314/11783)\nu'[Tier 17 set bonus] (/forums/en/wow/topic/13123848971)'\n"
     ]
    },
    {
     "name": "stdout",
     "output_type": "stream",
     "text": [
      "Exiting\n'posts: 11'\nPROGRESS: 19% (2315/11783)\nu'[Rate the death knight above you part 9] (/forums/en/wow/topic/11982468992)'\n"
     ]
    },
    {
     "name": "stdout",
     "output_type": "stream",
     "text": [
      "HTTPError = 404\n"
     ]
    },
    {
     "name": "stdout",
     "output_type": "stream",
     "text": [
      "Exiting\n'posts: 490'\nPROGRESS: 19% (2316/11783)\nu'[Death Knight permanent Problem?] (/forums/en/wow/topic/13123428990)'\n"
     ]
    },
    {
     "name": "stdout",
     "output_type": "stream",
     "text": [
      "Exiting\n'posts: 5'\nPROGRESS: 19% (2317/11783)\nu'[PvP frost] (/forums/en/wow/topic/13122978776)'\n"
     ]
    },
    {
     "name": "stdout",
     "output_type": "stream",
     "text": [
      "Exiting\n'posts: 14'\nPROGRESS: 19% (2318/11783)\nu\"[Give Unholy DK's mortal strike (PvP)] (/forums/en/wow/topic/13124769311)\"\n"
     ]
    },
    {
     "name": "stdout",
     "output_type": "stream",
     "text": [
      "Exiting\n'posts: 3'\nPROGRESS: 19% (2319/11783)\nu'[Bonus Armor for dps] (/forums/en/wow/topic/13123428968)'\n"
     ]
    },
    {
     "name": "stdout",
     "output_type": "stream",
     "text": [
      "Exiting\n'posts: 3'\nPROGRESS: 19% (2320/11783)\nu'[Is this a joke? It has to be a joke.] (/forums/en/wow/topic/13124766548)'\n"
     ]
    },
    {
     "name": "stdout",
     "output_type": "stream",
     "text": [
      "[Errno 10054] An existing connection was forcibly closed by the remote host\n"
     ]
    },
    {
     "name": "stdout",
     "output_type": "stream",
     "text": [
      "Exiting\n'posts: 51'\nPROGRESS: 19% (2321/11783)\nu'[Whats teh best spec for a leveling DK] (/forums/en/wow/topic/13124238787)'\n"
     ]
    },
    {
     "name": "stdout",
     "output_type": "stream",
     "text": [
      "Exiting\n'posts: 10'\nPROGRESS: 19% (2322/11783)\nu'[Frost for PVP - what presence, weapon and enchants] (/forums/en/wow/topic/13123158532)'\n"
     ]
    },
    {
     "name": "stdout",
     "output_type": "stream",
     "text": [
      "Exiting\n'posts: 19'\nPROGRESS: 19% (2323/11783)\nu'[Dark Simulacrum on Storm Elemental] (/forums/en/wow/topic/13124769114)'\n"
     ]
    },
    {
     "name": "stdout",
     "output_type": "stream",
     "text": [
      "Exiting\n'posts: 6'\nPROGRESS: 19% (2324/11783)\nu\"[Death Knight's toolkit is outdated] (/forums/en/wow/topic/13123318787)\"\n"
     ]
    },
    {
     "name": "stdout",
     "output_type": "stream",
     "text": [
      "Exiting\n'posts: 12'\nPROGRESS: 19% (2325/11783)\nu'[Noob Death Knight] (/forums/en/wow/topic/13123158764)'\n"
     ]
    },
    {
     "name": "stdout",
     "output_type": "stream",
     "text": [
      "Exiting\n'posts: 8'\nPROGRESS: 19% (2326/11783)\nu'[PVP - How to not get squished like a bug] (/forums/en/wow/topic/13124769145)'\n"
     ]
    },
    {
     "name": "stdout",
     "output_type": "stream",
     "text": [
      "[Errno 10054] An existing connection was forcibly closed by the remote host\n"
     ]
    },
    {
     "name": "stdout",
     "output_type": "stream",
     "text": [
      "Exiting\n'posts: 4'\nPROGRESS: 19% (2327/11783)\nu'[Suggestions for DK team utility] (/forums/en/wow/topic/13124238111)'\n"
     ]
    },
    {
     "name": "stdout",
     "output_type": "stream",
     "text": [
      "Exiting\n'posts: 8'\nPROGRESS: 19% (2328/11783)\nu'[Nyela appreciation thread.] (/forums/en/wow/topic/13123718112)'\n"
     ]
    },
    {
     "name": "stdout",
     "output_type": "stream",
     "text": [
      "Exiting\n'posts: 4'\nPROGRESS: 19% (2329/11783)\nu'[Death Knight Eye-glow] (/forums/en/wow/topic/1874249930)'\n"
     ]
    },
    {
     "name": "stdout",
     "output_type": "stream",
     "text": [
      "Exiting\n'posts: 17'\nPROGRESS: 19% (2330/11783)\nu'[New to blood] (/forums/en/wow/topic/13123878196)'\n"
     ]
    },
    {
     "name": "stdout",
     "output_type": "stream",
     "text": [
      "Exiting\n'posts: 5'\nPROGRESS: 19% (2331/11783)\nu'[6.1 Talent Changes] (/forums/en/wow/topic/13122978295)'\n"
     ]
    },
    {
     "name": "stdout",
     "output_type": "stream",
     "text": [
      "Exiting\n'posts: 21'\nPROGRESS: 19% (2332/11783)\nu'[2h Frost/Haste in UH pressence 2.0] (/forums/en/wow/topic/13123878008)'\n"
     ]
    },
    {
     "name": "stdout",
     "output_type": "stream",
     "text": [
      "HTTPError = 404\n"
     ]
    },
    {
     "name": "stdout",
     "output_type": "stream",
     "text": [
      "Exiting\n'posts: 18'\nPROGRESS: 19% (2333/11783)\nu'[Ret or DK] (/forums/en/wow/topic/13122976504)'\n"
     ]
    },
    {
     "name": "stdout",
     "output_type": "stream",
     "text": [
      "Exiting\n'posts: 17'\nPROGRESS: 19% (2334/11783)\nu'[What is the hardest class to kill as a DK?] (/forums/en/wow/topic/7646144987)'\n"
     ]
    },
    {
     "name": "stdout",
     "output_type": "stream",
     "text": [
      "HTTPError = 404\n"
     ]
    },
    {
     "name": "stdout",
     "output_type": "stream",
     "text": [
      "Exiting\n'posts: 52'\nPROGRESS: 19% (2335/11783)\nu'[Breath of Sindragosa buggy?] (/forums/en/wow/topic/13123318684)'\n"
     ]
    },
    {
     "name": "stdout",
     "output_type": "stream",
     "text": [
      "Exiting\n'posts: 2'\nPROGRESS: 19% (2336/11783)\nu'[DW frost what?] (/forums/en/wow/topic/13123158689)'\n"
     ]
    },
    {
     "name": "stdout",
     "output_type": "stream",
     "text": [
      "Exiting\n'posts: 2'\nPROGRESS: 19% (2337/11783)\nu'[List of ideas for changes for DK.] (/forums/en/wow/topic/13123157417)'\n"
     ]
    },
    {
     "name": "stdout",
     "output_type": "stream",
     "text": [
      "Exiting\n'posts: 75'\nPROGRESS: 19% (2338/11783)\nu'[Need some advice.] (/forums/en/wow/topic/13123428088)'\n"
     ]
    },
    {
     "name": "stdout",
     "output_type": "stream",
     "text": [
      "Exiting\n'posts: 9'\nPROGRESS: 19% (2339/11783)\nu'[Dk Macros help] (/forums/en/wow/topic/13124238386)'\n"
     ]
    },
    {
     "name": "stdout",
     "output_type": "stream",
     "text": [
      "Exiting\n'posts: 1'\nPROGRESS: 19% (2340/11783)\nu'[Dual wield in PvP ??] (/forums/en/wow/topic/13122978391)'\n"
     ]
    },
    {
     "name": "stdout",
     "output_type": "stream",
     "text": [
      "Exiting\n'posts: 5'\nPROGRESS: 19% (2341/11783)\nu'[Best healer class for 2s?] (/forums/en/wow/topic/13124768587)'\n"
     ]
    },
    {
     "name": "stdout",
     "output_type": "stream",
     "text": [
      "Exiting\n'posts: 7'\nPROGRESS: 19% (2342/11783)\nu'[Rate the Deathknight above you <3] (/forums/en/wow/topic/13123158362)'\nHTTPError = 404\n"
     ]
    },
    {
     "name": "stdout",
     "output_type": "stream",
     "text": [
      "Exiting\n'posts: 2'\nPROGRESS: 19% (2343/11783)\nu'[Best gear/stats for DK PvP?] (/forums/en/wow/topic/13123717734)'\n"
     ]
    },
    {
     "name": "stdout",
     "output_type": "stream",
     "text": [
      "Exiting\n'posts: 12'\nPROGRESS: 19% (2344/11783)\nu'[The reason to upgrade your Salvage Yard to level 3] (/forums/en/wow/topic/13124763638)'\n"
     ]
    },
    {
     "name": "stdout",
     "output_type": "stream",
     "text": [
      "Exiting\n'posts: 18'\nPROGRESS: 19% (2345/11783)\nu'[Frost 2h stats priority in PvP?] (/forums/en/wow/topic/13122978201)'\n"
     ]
    },
    {
     "name": "stdout",
     "output_type": "stream",
     "text": [
      "Exiting\n'posts: 8'\nPROGRESS: 19% (2346/11783)\nu'[Axe, Sword, or Mace?] (/forums/en/wow/topic/3313134878)'\n"
     ]
    },
    {
     "name": "stdout",
     "output_type": "stream",
     "text": [
      "[Errno 10054] An existing connection was forcibly closed by the remote host\n"
     ]
    },
    {
     "name": "stdout",
     "output_type": "stream",
     "text": [
      "Exiting\n'posts: 12'\nPROGRESS: 19% (2347/11783)\nu'[Dk/lock/healer good?] (/forums/en/wow/topic/13123117293)'\n"
     ]
    },
    {
     "name": "stdout",
     "output_type": "stream",
     "text": [
      "Exiting\n'posts: 8'\nPROGRESS: 19% (2348/11783)\nu'[Death Tank i WoD - help.] (/forums/en/wow/topic/13123427853)'\n"
     ]
    },
    {
     "name": "stdout",
     "output_type": "stream",
     "text": [
      "Exiting\n'posts: 8'\nPROGRESS: 19% (2349/11783)\nu'[#SaveUnh:Design problems that are associated with spec] (/forums/en/wow/topic/13123117778)'\n"
     ]
    },
    {
     "name": "stdout",
     "output_type": "stream",
     "text": [
      "Exiting\n'posts: 4'\nPROGRESS: 19% (2350/11783)\n"
     ]
    },
    {
     "name": "stdout",
     "output_type": "stream",
     "text": [
      "u'[Chose of PVP gear (Set bonus or not?)] (/forums/en/wow/topic/13123847504)'\n"
     ]
    },
    {
     "name": "stdout",
     "output_type": "stream",
     "text": [
      "Exiting\n'posts: 8'\nPROGRESS: 19% (2351/11783)\nu'[#opheroclass] (/forums/en/wow/topic/13123157869)'\n"
     ]
    },
    {
     "name": "stdout",
     "output_type": "stream",
     "text": [
      "Exiting\n'posts: 19'\nPROGRESS: 19% (2352/11783)\nu'[PvP Tank Death Knight] (/forums/en/wow/topic/13122978072)'\n"
     ]
    },
    {
     "name": "stdout",
     "output_type": "stream",
     "text": [
      "[Errno 10054] An existing connection was forcibly closed by the remote host\n"
     ]
    },
    {
     "name": "stdout",
     "output_type": "stream",
     "text": [
      "Exiting\n'posts: 2'\nPROGRESS: 19% (2353/11783)\nu'[Arena, delete this !@#$y dk!] (/forums/en/wow/topic/13123427422)'\nHTTPError = 404\n"
     ]
    },
    {
     "name": "stdout",
     "output_type": "stream",
     "text": [
      "Exiting\n'posts: 41'\nPROGRESS: 19% (2354/11783)\nu\"[Blood-Dk doesn't feel like a Tank? Changesuggestions] (/forums/en/wow/topic/13123847965)\"\n"
     ]
    },
    {
     "name": "stdout",
     "output_type": "stream",
     "text": [
      "Exiting\n'posts: 1'\nPROGRESS: 19% (2355/11783)\nu'[Rotation start] (/forums/en/wow/topic/13123847868)'\n"
     ]
    },
    {
     "name": "stdout",
     "output_type": "stream",
     "text": [
      "Exiting\n'posts: 6'\nPROGRESS: 19% (2356/11783)\nu'[Buffs to Death Knights?] (/forums/en/wow/topic/13123877133)'\n"
     ]
    },
    {
     "name": "stdout",
     "output_type": "stream",
     "text": [
      "Exiting\n'posts: 33'\nPROGRESS: 20% (2357/11783)\nu'[Plaguebearer---an idea i had this morning] (/forums/en/wow/topic/13124237164)'\n"
     ]
    },
    {
     "name": "stdout",
     "output_type": "stream",
     "text": [
      "Exiting\n'posts: 3'\nPROGRESS: 20% (2358/11783)\nu'[TotfW solo Frost DK Glitch] (/forums/en/wow/topic/13123876900)'\n"
     ]
    },
    {
     "name": "stdout",
     "output_type": "stream",
     "text": [
      "Exiting\n'posts: 5'\nPROGRESS: 20% (2359/11783)\nu'[The future of AoE aggro] (/forums/en/wow/topic/13123106617)'\n"
     ]
    },
    {
     "name": "stdout",
     "output_type": "stream",
     "text": [
      "Exiting\n'posts: 11'\nPROGRESS: 20% (2360/11783)\nu'[Unholy DK PvP problem] (/forums/en/wow/topic/13123426556)'\n"
     ]
    },
    {
     "name": "stdout",
     "output_type": "stream",
     "text": [
      "Exiting\n'posts: 5'\nPROGRESS: 20% (2361/11783)\nu'[Set bonus [PVP]] (/forums/en/wow/topic/13124236614)'\n"
     ]
    },
    {
     "name": "stdout",
     "output_type": "stream",
     "text": [
      "Exiting\n'posts: 8'\nPROGRESS: 20% (2362/11783)\nu'[Can death knights dual wield ?] (/forums/en/wow/topic/13123317404)'\n"
     ]
    },
    {
     "name": "stdout",
     "output_type": "stream",
     "text": [
      "Exiting\n'posts: 8'\nPROGRESS: 20% (2363/11783)\nu'[Short burst of damage] (/forums/en/wow/topic/13123115671)'\n"
     ]
    },
    {
     "name": "stdout",
     "output_type": "stream",
     "text": [
      "Exiting\n'posts: 13'\nPROGRESS: 20% (2364/11783)\nu'[2v2 against Hunter + Resto Druid] (/forums/en/wow/topic/13124767773)'\n"
     ]
    },
    {
     "name": "stdout",
     "output_type": "stream",
     "text": [
      "Exiting\n'posts: 7'\nPROGRESS: 20% (2365/11783)\nu\"[We're fine, yeah?] (/forums/en/wow/topic/13122977142)\"\n"
     ]
    },
    {
     "name": "stdout",
     "output_type": "stream",
     "text": [
      "Exiting\n'posts: 18'\nPROGRESS: 20% (2366/11783)\nu'[Any tips for fighting resto shamans?] (/forums/en/wow/topic/13122977334)'\n"
     ]
    },
    {
     "name": "stdout",
     "output_type": "stream",
     "text": [
      "Exiting\n'posts: 3'\nPROGRESS: 20% (2367/11783)\nu'[Haste soft cap?] (/forums/en/wow/topic/13122977315)'\n"
     ]
    },
    {
     "name": "stdout",
     "output_type": "stream",
     "text": [
      "Exiting\n'posts: 2'\nPROGRESS: 20% (2368/11783)\nu'[No Demand for 3v3] (/forums/en/wow/topic/13123427093)'\n"
     ]
    },
    {
     "name": "stdout",
     "output_type": "stream",
     "text": [
      "Exiting\n'posts: 4'\nPROGRESS: 20% (2369/11783)\nu'[Obliterate change] (/forums/en/wow/topic/13122957413)'\n"
     ]
    },
    {
     "name": "stdout",
     "output_type": "stream",
     "text": [
      "Exiting\n'posts: 6'\nPROGRESS: 20% (2370/11783)\nu'[Unholy Buffs!] (/forums/en/wow/topic/13123426323)'\n"
     ]
    },
    {
     "name": "stdout",
     "output_type": "stream",
     "text": [
      "Exiting\n'posts: 22'\nPROGRESS: 20% (2371/11783)\nu'[DK dps challenge mode dps..!?] (/forums/en/wow/topic/13124767366)'\n"
     ]
    },
    {
     "name": "stdout",
     "output_type": "stream",
     "text": [
      "Exiting\n'posts: 5'\nPROGRESS: 20% (2372/11783)\nu'[BiS for Challenge Mode Atm] (/forums/en/wow/topic/13124767556)'\n"
     ]
    },
    {
     "name": "stdout",
     "output_type": "stream",
     "text": [
      "Exiting\n'posts: 2'\nPROGRESS: 20% (2373/11783)\nu'[Suggestion - Frost tank] (/forums/en/wow/topic/13123877093)'\n"
     ]
    },
    {
     "name": "stdout",
     "output_type": "stream",
     "text": [
      "Exiting\n'posts: 4'\nPROGRESS: 20% (2374/11783)\nu'[Glyph of hunter grip] (/forums/en/wow/topic/13122977230)'\n"
     ]
    },
    {
     "name": "stdout",
     "output_type": "stream",
     "text": [
      "Exiting\n'posts: 1'\nPROGRESS: 20% (2375/11783)\nu'[Why not DC?] (/forums/en/wow/topic/13123107099)'\nHTTPError = 404\n"
     ]
    },
    {
     "name": "stdout",
     "output_type": "stream",
     "text": [
      "Exiting\n'posts: 8'\nPROGRESS: 20% (2376/11783)\nu'[Nerf unholy but buff frost... 6.1 notes] (/forums/en/wow/topic/13122977201)'\n"
     ]
    },
    {
     "name": "stdout",
     "output_type": "stream",
     "text": [
      "Exiting\n'posts: 3'\nPROGRESS: 20% (2377/11783)\nu'[Another blood boil nerf......] (/forums/en/wow/topic/13123157257)'\n"
     ]
    },
    {
     "name": "stdout",
     "output_type": "stream",
     "text": [
      "Exiting\n'posts: 5'\nPROGRESS: 20% (2378/11783)\nu'[Unholy: \"Master of ......\"what,death and decay?] (/forums/en/wow/topic/13122977102)'\nHTTPError = 404\n"
     ]
    },
    {
     "name": "stdout",
     "output_type": "stream",
     "text": [
      "[Errno 10054] An existing connection was forcibly closed by the remote host\n"
     ]
    },
    {
     "name": "stdout",
     "output_type": "stream",
     "text": [
      "Exiting\n'posts: 2'\nPROGRESS: 20% (2379/11783)\nu'[Still pulling top aoe.] (/forums/en/wow/topic/13123116500)'\n"
     ]
    },
    {
     "name": "stdout",
     "output_type": "stream",
     "text": [
      "Exiting\n'posts: 20'\nPROGRESS: 20% (2380/11783)\nu'[Can you class get anymore op?] (/forums/en/wow/topic/13122976993)'\n"
     ]
    },
    {
     "name": "stdout",
     "output_type": "stream",
     "text": [
      "Exiting\n'posts: 20'\nPROGRESS: 20% (2381/11783)\nu'[Blood Boil nerf...] (/forums/en/wow/topic/13123876309)'\n"
     ]
    },
    {
     "name": "stdout",
     "output_type": "stream",
     "text": [
      "[Errno 10054] An existing connection was forcibly closed by the remote host\n"
     ]
    },
    {
     "name": "stdout",
     "output_type": "stream",
     "text": [
      "Exiting\n'posts: 19'\nPROGRESS: 20% (2382/11783)\nu'[Unholy or Frost in pve? Single and multi-target.] (/forums/en/wow/topic/13122956843)'\n"
     ]
    },
    {
     "name": "stdout",
     "output_type": "stream",
     "text": [
      "[Errno 10054] An existing connection was forcibly closed by the remote host\n"
     ]
    },
    {
     "name": "stdout",
     "output_type": "stream",
     "text": [
      "Exiting\n'posts: 8'\nPROGRESS: 20% (2383/11783)\nu'[Unholy or frost] (/forums/en/wow/topic/13124767283)'\n"
     ]
    },
    {
     "name": "stdout",
     "output_type": "stream",
     "text": [
      "[Errno 10054] An existing connection was forcibly closed by the remote host\n"
     ]
    },
    {
     "name": "stdout",
     "output_type": "stream",
     "text": [
      "Exiting\n'posts: 3'\nPROGRESS: 20% (2384/11783)\nu'[Where did this spell go?] (/forums/en/wow/topic/13123106954)'\n"
     ]
    },
    {
     "name": "stdout",
     "output_type": "stream",
     "text": [
      "Exiting\n'posts: 4'\nPROGRESS: 20% (2385/11783)\nu'[Blood Boil nerf ( Unholy Pov )] (/forums/en/wow/topic/13123116229)'\n"
     ]
    },
    {
     "name": "stdout",
     "output_type": "stream",
     "text": [
      "Exiting\n'posts: 8'\nPROGRESS: 20% (2386/11783)\nu'[#SaveUnholy (copy from Reinheart US)] (/forums/en/wow/topic/13124236911)'\n"
     ]
    },
    {
     "name": "stdout",
     "output_type": "stream",
     "text": [
      "Exiting\n'posts: 19'\nPROGRESS: 20% (2387/11783)\nu'[Stat prio changes?] (/forums/en/wow/topic/13123116671)'\n"
     ]
    },
    {
     "name": "stdout",
     "output_type": "stream",
     "text": [
      "Exiting\n'posts: 3'\nPROGRESS: 20% (2388/11783)\nu'[Blood DK CM Stat Weights] (/forums/en/wow/topic/13124767043)'\n"
     ]
    },
    {
     "name": "stdout",
     "output_type": "stream",
     "text": [
      "Exiting\n'posts: 4'\nPROGRESS: 20% (2389/11783)\nu'[PVP Arena DK] (/forums/en/wow/topic/13124236890)'\n"
     ]
    },
    {
     "name": "stdout",
     "output_type": "stream",
     "text": [
      "Exiting\n'posts: 4'\nPROGRESS: 20% (2390/11783)\nu'[PVE dps help] (/forums/en/wow/topic/13123116499)'\n"
     ]
    },
    {
     "name": "stdout",
     "output_type": "stream",
     "text": [
      "Exiting\n'posts: 8'\nPROGRESS: 20% (2391/11783)\nu'[[Frost 2H] Unholy Presence is quite close to Frost.] (/forums/en/wow/topic/13123426624)'\n"
     ]
    },
    {
     "name": "stdout",
     "output_type": "stream",
     "text": [
      "Exiting\n'posts: 5'\nPROGRESS: 20% (2392/11783)\nu'[Give us Heart Strike back please !] (/forums/en/wow/topic/13123846277)'\n"
     ]
    },
    {
     "name": "stdout",
     "output_type": "stream",
     "text": [
      "Exiting\n'posts: 10'\nPROGRESS: 20% (2393/11783)\nu'[Glyph of Enduring Infection + Necrotic Plague] (/forums/en/wow/topic/13123426549)'\n"
     ]
    },
    {
     "name": "stdout",
     "output_type": "stream",
     "text": [
      "Exiting\n'posts: 2'\nPROGRESS: 20% (2394/11783)\nu'[To the Boffins and Number crunchers I need your advice] (/forums/en/wow/topic/13122956818)'\n"
     ]
    },
    {
     "name": "stdout",
     "output_type": "stream",
     "text": [
      "Exiting\n'posts: 1'\nPROGRESS: 20% (2395/11783)\nu'[Scourge and Festering strike 28% buff (13 Jan hotfixes)] (/forums/en/wow/topic/13124236556)'\n"
     ]
    },
    {
     "name": "stdout",
     "output_type": "stream",
     "text": [
      "[Errno 10054] An existing connection was forcibly closed by the remote host\n"
     ]
    },
    {
     "name": "stdout",
     "output_type": "stream",
     "text": [
      "Exiting\n'posts: 5'\nPROGRESS: 20% (2396/11783)\nu'[I just fail to understand the 2-Handed Frost rotation..] (/forums/en/wow/topic/13122956500)'\n"
     ]
    },
    {
     "name": "stdout",
     "output_type": "stream",
     "text": [
      "Exiting\n'posts: 12'\nPROGRESS: 20% (2397/11783)\nu'[Dk still good, after 6.1?] (/forums/en/wow/topic/13123875887)'\n"
     ]
    },
    {
     "name": "stdout",
     "output_type": "stream",
     "text": [
      "Exiting\n'posts: 18'\nPROGRESS: 20% (2398/11783)\nu'[One bad day. One sad story.] (/forums/en/wow/topic/13123116323)'\n"
     ]
    },
    {
     "name": "stdout",
     "output_type": "stream",
     "text": [
      "Exiting\n'posts: 6'\nPROGRESS: 20% (2399/11783)\nu'[Music to match your DK antics!] (/forums/en/wow/topic/13123105278)'\nHTTPError = 404\n"
     ]
    },
    {
     "name": "stdout",
     "output_type": "stream",
     "text": [
      "Exiting\n'posts: 25'\nPROGRESS: 20% (2400/11783)\n"
     ]
    },
    {
     "name": "stdout",
     "output_type": "stream",
     "text": [
      "u'[Pick a race!] (/forums/en/wow/topic/13123846232)'\n"
     ]
    },
    {
     "name": "stdout",
     "output_type": "stream",
     "text": [
      "Exiting\n'posts: 10'\nPROGRESS: 20% (2401/11783)\nu'[lag on my horde DK] (/forums/en/wow/topic/13123156432)'\n"
     ]
    },
    {
     "name": "stdout",
     "output_type": "stream",
     "text": [
      "[Errno 10054] An existing connection was forcibly closed by the remote host\n"
     ]
    },
    {
     "name": "stdout",
     "output_type": "stream",
     "text": [
      "[Errno 10054] An existing connection was forcibly closed by the remote host\n"
     ]
    },
    {
     "name": "stdout",
     "output_type": "stream",
     "text": [
      "Exiting\n'posts: 3'\nPROGRESS: 20% (2402/11783)\nu'[Unholy,frost for 2s??] (/forums/en/wow/topic/13123116353)'\n"
     ]
    },
    {
     "name": "stdout",
     "output_type": "stream",
     "text": [
      "Exiting\n'posts: 2'\nPROGRESS: 20% (2403/11783)\nu'[Only PvE - Unholy will be nerfed in 6.1?] (/forums/en/wow/topic/13123716189)'\n"
     ]
    },
    {
     "name": "stdout",
     "output_type": "stream",
     "text": [
      "Exiting\n'posts: 7'\nPROGRESS: 20% (2404/11783)\nu'[PvP Blood dk Arena comps?] (/forums/en/wow/topic/13123106222)'\n"
     ]
    },
    {
     "name": "stdout",
     "output_type": "stream",
     "text": [
      "Exiting\n'posts: 3'\nPROGRESS: 20% (2405/11783)\nu'[What is the best?! Unholy frost or Blood] (/forums/en/wow/topic/13123875783)'\n"
     ]
    },
    {
     "name": "stdout",
     "output_type": "stream",
     "text": [
      "Exiting\n'posts: 3'\nPROGRESS: 20% (2406/11783)\nu'[Blood dk DPS SPEC.] (/forums/en/wow/topic/13123105598)'\n"
     ]
    },
    {
     "name": "stdout",
     "output_type": "stream",
     "text": [
      "Exiting\n'posts: 14'\nPROGRESS: 20% (2407/11783)\nu'[4th pvp set bonus become more usefull?] (/forums/en/wow/topic/13123716139)'\n"
     ]
    },
    {
     "name": "stdout",
     "output_type": "stream",
     "text": [
      "Exiting\n'posts: 1'\nPROGRESS: 20% (2408/11783)\nu'[DK NERF/BUFF] (/forums/en/wow/topic/13123846139)'\n"
     ]
    },
    {
     "name": "stdout",
     "output_type": "stream",
     "text": [
      "Exiting\n'posts: 14'\nPROGRESS: 20% (2409/11783)\nu\"[That's how you stop BB being better than HB] (/forums/en/wow/topic/13123116190)\"\n"
     ]
    },
    {
     "name": "stdout",
     "output_type": "stream",
     "text": [
      "Exiting\n'posts: 10'\nPROGRESS: 20% (2410/11783)\nu'[Does Race Matter?] (/forums/en/wow/topic/13122976083)'\nHTTPError = 404\n"
     ]
    },
    {
     "name": "stdout",
     "output_type": "stream",
     "text": [
      "Exiting\n'posts: 7'\nPROGRESS: 20% (2411/11783)\nu'[How does one kill Restro Druids?] (/forums/en/wow/topic/13122976333)'\n"
     ]
    },
    {
     "name": "stdout",
     "output_type": "stream",
     "text": [
      "Exiting\n'posts: 2'\nPROGRESS: 20% (2412/11783)\nu'[why 3 tipes of gear???] (/forums/en/wow/topic/13123845585)'\n"
     ]
    },
    {
     "name": "stdout",
     "output_type": "stream",
     "text": [
      "Exiting\n'posts: 6'\nPROGRESS: 20% (2413/11783)\nu'[unholy & downtime] (/forums/en/wow/topic/13123425972)'\n"
     ]
    },
    {
     "name": "stdout",
     "output_type": "stream",
     "text": [
      "Exiting\n'posts: 6'\nPROGRESS: 20% (2414/11783)\nu'[Help a brother! Frost dk talent choice] (/forums/en/wow/topic/13122975173)'\n"
     ]
    },
    {
     "name": "stdout",
     "output_type": "stream",
     "text": [
      "Exiting\n'posts: 7'\nPROGRESS: 20% (2415/11783)\nu'[Unholy pressence for frost? Yay or Nay] (/forums/en/wow/topic/13123154204)'\n"
     ]
    },
    {
     "name": "stdout",
     "output_type": "stream",
     "text": [
      "[Errno 10054] An existing connection was forcibly closed by the remote host\n"
     ]
    },
    {
     "name": "stdout",
     "output_type": "stream",
     "text": [
      "Exiting\n'posts: 15'\nPROGRESS: 20% (2416/11783)\nu'[I need help with conversion please (pvp)] (/forums/en/wow/topic/13123155820)'\n"
     ]
    },
    {
     "name": "stdout",
     "output_type": "stream",
     "text": [
      "Exiting\n'posts: 4'\nPROGRESS: 20% (2417/11783)\nu'[Plague Leech without Necrotic Plague] (/forums/en/wow/topic/13123875979)'\n"
     ]
    },
    {
     "name": "stdout",
     "output_type": "stream",
     "text": [
      "Exiting\n'posts: 3'\nPROGRESS: 20% (2418/11783)\nu'[Killing Machine - Improve Game Play for Deathknights] (/forums/en/wow/topic/13123715589)'\n"
     ]
    },
    {
     "name": "stdout",
     "output_type": "stream",
     "text": [
      "Exiting\n'posts: 10'\nPROGRESS: 20% (2419/11783)\nu'[Blizzard is this a joke????unholy nerf???] (/forums/en/wow/topic/13123715596)'\n"
     ]
    },
    {
     "name": "stdout",
     "output_type": "stream",
     "text": [
      "Exiting\n'posts: 17'\nPROGRESS: 20% (2420/11783)\nu'[Transmog advice - CM set + Wep , LF tabard] (/forums/en/wow/topic/13122955997)'\n"
     ]
    },
    {
     "name": "stdout",
     "output_type": "stream",
     "text": [
      "Exiting\n'posts: 4'\nPROGRESS: 20% (2421/11783)\nu'[Non-Mythic- Unholy/Blood...?] (/forums/en/wow/topic/13124766137)'\n"
     ]
    },
    {
     "name": "stdout",
     "output_type": "stream",
     "text": [
      "Exiting\n'posts: 2'\nPROGRESS: 20% (2422/11783)\nu'[DK and alliance?] (/forums/en/wow/topic/13123316017)'\n"
     ]
    },
    {
     "name": "stdout",
     "output_type": "stream",
     "text": [
      "Exiting\n'posts: 3'\nPROGRESS: 20% (2423/11783)\nu'[DK PvP: Need som advice here] (/forums/en/wow/topic/13122955933)'\n"
     ]
    },
    {
     "name": "stdout",
     "output_type": "stream",
     "text": [
      "Exiting\n'posts: 2'\nPROGRESS: 20% (2424/11783)\nu'[2 Handed Weapon Transmog] (/forums/en/wow/topic/13123425372)'\n"
     ]
    },
    {
     "name": "stdout",
     "output_type": "stream",
     "text": [
      "Exiting\n'posts: 11'\nPROGRESS: 20% (2425/11783)\nu'[Dampening Fixed.  So why Increase the RP of Conversion?] (/forums/en/wow/topic/13124235637)'\nHTTPError = 404\n"
     ]
    },
    {
     "name": "stdout",
     "output_type": "stream",
     "text": [
      "[Errno 10054] An existing connection was forcibly closed by the remote host\n"
     ]
    },
    {
     "name": "stdout",
     "output_type": "stream",
     "text": [
      "Exiting\n'posts: 21'\nPROGRESS: 20% (2426/11783)\nu'[DK PvP races opiniions] (/forums/en/wow/topic/13123845744)'\n"
     ]
    },
    {
     "name": "stdout",
     "output_type": "stream",
     "text": [
      "Exiting\n'posts: 8'\nPROGRESS: 20% (2427/11783)\nu'[Blood Boil to spread diseases as frost?] (/forums/en/wow/topic/13122955934)'\n"
     ]
    },
    {
     "name": "stdout",
     "output_type": "stream",
     "text": [
      "Exiting\n'posts: 3'\nPROGRESS: 20% (2428/11783)\nu'[Death coil  for frost conversion for blood] (/forums/en/wow/topic/13124235850)'\n"
     ]
    },
    {
     "name": "stdout",
     "output_type": "stream",
     "text": [
      "Exiting\n'posts: 1'\nPROGRESS: 20% (2429/11783)\nu'[Frost: Howling Blast versus Blood Boil] (/forums/en/wow/topic/13123115712)'\n"
     ]
    },
    {
     "name": "stdout",
     "output_type": "stream",
     "text": [
      "Exiting\n'posts: 1'\nPROGRESS: 20% (2430/11783)\nu'[Coliseum] (/forums/en/wow/topic/13123425228)'\n"
     ]
    },
    {
     "name": "stdout",
     "output_type": "stream",
     "text": [
      "Exiting\n'posts: 11'\nPROGRESS: 20% (2431/11783)\nu'[Tanking from 58-90] (/forums/en/wow/topic/13122975821)'\n"
     ]
    },
    {
     "name": "stdout",
     "output_type": "stream",
     "text": [
      "Exiting\n'posts: 3'\nPROGRESS: 20% (2432/11783)\nu'[Fix conversion already?!] (/forums/en/wow/topic/13123313476)'\n"
     ]
    },
    {
     "name": "stdout",
     "output_type": "stream",
     "text": [
      "Exiting\n'posts: 57'\nPROGRESS: 20% (2433/11783)\nu'[Frost dk vs Brewmaster] (/forums/en/wow/topic/13124765980)'\n"
     ]
    },
    {
     "name": "stdout",
     "output_type": "stream",
     "text": [
      "Exiting\n'posts: 6'\nPROGRESS: 20% (2434/11783)\nu'[Necrotic plague or breath of sindragosa for uh pvp] (/forums/en/wow/topic/13123115546)'\n"
     ]
    },
    {
     "name": "stdout",
     "output_type": "stream",
     "text": [
      "Exiting\n'posts: 4'\nPROGRESS: 20% (2435/11783)\nu'[Unh Dk 4 set dispelable/stealable WTF ??] (/forums/en/wow/topic/13124765978)'\n"
     ]
    },
    {
     "name": "stdout",
     "output_type": "stream",
     "text": [
      "Exiting\n'posts: 1'\nPROGRESS: 20% (2436/11783)\nu'[Good comps for arenas?] (/forums/en/wow/topic/13123115625)'\n"
     ]
    },
    {
     "name": "stdout",
     "output_type": "stream",
     "text": [
      "Exiting\n'posts: 1'\nPROGRESS: 20% (2437/11783)\nu'[Talents for single target?] (/forums/en/wow/topic/13123875527)'\n"
     ]
    },
    {
     "name": "stdout",
     "output_type": "stream",
     "text": [
      "[Errno 10054] An existing connection was forcibly closed by the remote host\n"
     ]
    },
    {
     "name": "stdout",
     "output_type": "stream",
     "text": [
      "Exiting\n'posts: 8'\nPROGRESS: 20% (2438/11783)\nu'[Fresh 100 Dk pvp help] (/forums/en/wow/topic/13122975689)'\n"
     ]
    },
    {
     "name": "stdout",
     "output_type": "stream",
     "text": [
      "Exiting\n'posts: 3'\nPROGRESS: 20% (2439/11783)\nu'[PvP 4set bonus?] (/forums/en/wow/topic/13124235312)'\n"
     ]
    },
    {
     "name": "stdout",
     "output_type": "stream",
     "text": [
      "Exiting\n'posts: 13'\nPROGRESS: 20% (2440/11783)\nu'[Stat priority - Ilvl 650+] (/forums/en/wow/topic/13122955399)'\n"
     ]
    },
    {
     "name": "stdout",
     "output_type": "stream",
     "text": [
      "Exiting\n'posts: 5'\nPROGRESS: 20% (2441/11783)\nu'[How to beat Rdruid/Hunt ?] (/forums/en/wow/topic/13123105296)'\n"
     ]
    },
    {
     "name": "stdout",
     "output_type": "stream",
     "text": [
      "Exiting\n'posts: 18'\nPROGRESS: 20% (2442/11783)\nu'[Unholy or Frost for PvP?] (/forums/en/wow/topic/13122975605)'\n"
     ]
    },
    {
     "name": "stdout",
     "output_type": "stream",
     "text": [
      "Exiting\n'posts: 2'\nPROGRESS: 20% (2443/11783)\nu\"[Hatred for DK's might be justified] (/forums/en/wow/topic/13123424800)\"\n"
     ]
    },
    {
     "name": "stdout",
     "output_type": "stream",
     "text": [
      "HTTPError = 404\n"
     ]
    },
    {
     "name": "stdout",
     "output_type": "stream",
     "text": [
      "Exiting\n'posts: 16'\nPROGRESS: 20% (2444/11783)\nu'[An idea for Death Knights regarding their OP healing] (/forums/en/wow/topic/13123152216)'\n"
     ]
    },
    {
     "name": "stdout",
     "output_type": "stream",
     "text": [
      "Exiting\n'posts: 16'\nPROGRESS: 20% (2445/11783)\nu'[Need some help due to low DPS] (/forums/en/wow/topic/13124235291)'\n"
     ]
    },
    {
     "name": "stdout",
     "output_type": "stream",
     "text": [
      "Exiting\n'posts: 5'\nPROGRESS: 20% (2446/11783)\nu'[Is double frost still good in 2s after the nerf???] (/forums/en/wow/topic/13124235244)'\n"
     ]
    },
    {
     "name": "stdout",
     "output_type": "stream",
     "text": [
      "Exiting\n'posts: 4'\nPROGRESS: 20% (2447/11783)\nu'[Unholy DK recount] (/forums/en/wow/topic/13123314133)'\n"
     ]
    },
    {
     "name": "stdout",
     "output_type": "stream",
     "text": [
      "[Errno 10054] An existing connection was forcibly closed by the remote host\n"
     ]
    },
    {
     "name": "stdout",
     "output_type": "stream",
     "text": [
      "Exiting\n'posts: 7'\nPROGRESS: 20% (2448/11783)\nu'[Back to Unholy?] (/forums/en/wow/topic/13123115277)'\n"
     ]
    },
    {
     "name": "stdout",
     "output_type": "stream",
     "text": [
      "Exiting\n'posts: 5'\nPROGRESS: 20% (2449/11783)\nu'[Increased damage taken?] (/forums/en/wow/topic/13122975508)'\n"
     ]
    },
    {
     "name": "stdout",
     "output_type": "stream",
     "text": [
      "Exiting\n'posts: 4'\nPROGRESS: 20% (2450/11783)\n"
     ]
    },
    {
     "name": "stdout",
     "output_type": "stream",
     "text": [
      "u'[Need advice for a new high level death-knight.] (/forums/en/wow/topic/13124765621)'\n"
     ]
    },
    {
     "name": "stdout",
     "output_type": "stream",
     "text": [
      "Exiting\n'posts: 6'\nPROGRESS: 20% (2451/11783)\nu'[more classes not races] (/forums/en/wow/topic/13123115355)'\n"
     ]
    },
    {
     "name": "stdout",
     "output_type": "stream",
     "text": [
      "Exiting\n'posts: 11'\nPROGRESS: 20% (2452/11783)\nu'[Blizzard maybe time to read external sites and graphs?] (/forums/en/wow/topic/13122975229)'\n"
     ]
    },
    {
     "name": "stdout",
     "output_type": "stream",
     "text": [
      "Exiting\n'posts: 10'\nPROGRESS: 20% (2453/11783)\nu'[Calculating IF scabbard ONcooldown OR with Pillar] (/forums/en/wow/topic/13122975444)'\n"
     ]
    },
    {
     "name": "stdout",
     "output_type": "stream",
     "text": [
      "Exiting\n'posts: 3'\nPROGRESS: 20% (2454/11783)\nu'[Frost dk pvp macros?] (/forums/en/wow/topic/13124765439)'\n"
     ]
    },
    {
     "name": "stdout",
     "output_type": "stream",
     "text": [
      "Exiting\n'posts: 9'\nPROGRESS: 20% (2455/11783)\nu'[Looking for good DK for 3s! 2400 push, triple blood] (/forums/en/wow/topic/13122954854)'\n"
     ]
    },
    {
     "name": "stdout",
     "output_type": "stream",
     "text": [
      "Exiting\n'posts: 5'\nPROGRESS: 20% (2456/11783)\nu'[Pvp question] (/forums/en/wow/topic/13123715162)'\n"
     ]
    },
    {
     "name": "stdout",
     "output_type": "stream",
     "text": [
      "Exiting\n'posts: 3'\nPROGRESS: 20% (2457/11783)\nu'[Need help enhancement shamans] (/forums/en/wow/topic/13123845296)'\n"
     ]
    },
    {
     "name": "stdout",
     "output_type": "stream",
     "text": [
      "Exiting\n'posts: 5'\nPROGRESS: 20% (2458/11783)\nu'[Stat prio as of 690 (epic) pvp gear - UH/frost] (/forums/en/wow/topic/13124235411)'\n"
     ]
    },
    {
     "name": "stdout",
     "output_type": "stream",
     "text": [
      "Exiting\n'posts: 1'\nPROGRESS: 20% (2459/11783)\nu'[Little Brawling Help?] (/forums/en/wow/topic/13123104925)'\n"
     ]
    },
    {
     "name": "stdout",
     "output_type": "stream",
     "text": [
      "Exiting\n'posts: 3'\nPROGRESS: 20% (2460/11783)\nu'[Dk heal mortal strike] (/forums/en/wow/topic/13122954922)'\n"
     ]
    },
    {
     "name": "stdout",
     "output_type": "stream",
     "text": [
      "Exiting\n'posts: 13'\nPROGRESS: 20% (2461/11783)\nu'[Conversion Nerfed - Jan. 6] (/forums/en/wow/topic/13123155215)'\n"
     ]
    },
    {
     "name": "stdout",
     "output_type": "stream",
     "text": [
      "Exiting\n'posts: 22'\nPROGRESS: 20% (2462/11783)\nu'[PvP blood dk, 100 lvl talent?] (/forums/en/wow/topic/13122975117)'\n"
     ]
    },
    {
     "name": "stdout",
     "output_type": "stream",
     "text": [
      "Exiting\n'posts: 13'\nPROGRESS: 20% (2463/11783)\nu'[How to face double frost in 2s] (/forums/en/wow/topic/13123314922)'\n"
     ]
    },
    {
     "name": "stdout",
     "output_type": "stream",
     "text": [
      "Exiting\n'posts: 21'\nPROGRESS: 20% (2464/11783)\nu'[Buff DK Self-Healing] (/forums/en/wow/topic/13124765377)'\n"
     ]
    },
    {
     "name": "stdout",
     "output_type": "stream",
     "text": [
      "Exiting\n'posts: 5'\nPROGRESS: 20% (2465/11783)\nu'[deathknight skill ceiling etc] (/forums/en/wow/topic/13123875208)'\n"
     ]
    },
    {
     "name": "stdout",
     "output_type": "stream",
     "text": [
      "Exiting\n'posts: 7'\nPROGRESS: 20% (2466/11783)\nu'[lvl 91 640il gear??] (/forums/en/wow/topic/13123845077)'\n"
     ]
    },
    {
     "name": "stdout",
     "output_type": "stream",
     "text": [
      "Exiting\n'posts: 8'\nPROGRESS: 20% (2467/11783)\nu'[Love the h8! The smack talk gives motivation!] (/forums/en/wow/topic/13123155362)'\n"
     ]
    },
    {
     "name": "stdout",
     "output_type": "stream",
     "text": [
      "Exiting\n'posts: 3'\nPROGRESS: 20% (2468/11783)\nu'[Help with low PvE gear 100lvl and stats.] (/forums/en/wow/topic/13123105229)'\n"
     ]
    },
    {
     "name": "stdout",
     "output_type": "stream",
     "text": [
      "Exiting\n'posts: 2'\nPROGRESS: 20% (2469/11783)\nu'[Cant get past 21k dps..] (/forums/en/wow/topic/13123104826)'\n"
     ]
    },
    {
     "name": "stdout",
     "output_type": "stream",
     "text": [
      "Exiting\n'posts: 12'\nPROGRESS: 20% (2470/11783)\nu\"[Imperator Mar'gok] (/forums/en/wow/topic/13123424926)\"\n"
     ]
    },
    {
     "name": "stdout",
     "output_type": "stream",
     "text": [
      "Exiting\n'posts: 5'\nPROGRESS: 20% (2471/11783)\nu'[To bad ppl that complain about DKs..] (/forums/en/wow/topic/13123313158)'\n"
     ]
    },
    {
     "name": "stdout",
     "output_type": "stream",
     "text": [
      "Exiting\n'posts: 61'\nPROGRESS: 20% (2472/11783)\nu'[I want to make a DK] (/forums/en/wow/topic/13123425019)'\n"
     ]
    },
    {
     "name": "stdout",
     "output_type": "stream",
     "text": [
      "Exiting\n'posts: 8'\nPROGRESS: 20% (2473/11783)\nu'[frost dk pvp 6.0.3 help ?] (/forums/en/wow/topic/12844094707)'\n"
     ]
    },
    {
     "name": "stdout",
     "output_type": "stream",
     "text": [
      "Exiting\n'posts: 5'\nPROGRESS: 20% (2474/11783)\nu'[Unholy dk lacking single target pressure] (/forums/en/wow/topic/13123315105)'\n"
     ]
    },
    {
     "name": "stdout",
     "output_type": "stream",
     "text": [
      "Exiting\n'posts: 7'\nPROGRESS: 21% (2475/11783)\nu'[Heart-Lesion Greatsword... anyway to get it?] (/forums/en/wow/topic/12440034466)'\n"
     ]
    },
    {
     "name": "stdout",
     "output_type": "stream",
     "text": [
      "Exiting\n'posts: 14'\nPROGRESS: 21% (2476/11783)\nu'[Blizzard cave and fix the sympton] (/forums/en/wow/topic/13123105074)'\n"
     ]
    },
    {
     "name": "stdout",
     "output_type": "stream",
     "text": [
      "Exiting\n'posts: 5'\nPROGRESS: 21% (2477/11783)\nu'[Death Strike] (/forums/en/wow/topic/13123114921)'\nHTTPError = 404\n"
     ]
    },
    {
     "name": "stdout",
     "output_type": "stream",
     "text": [
      "Exiting\n'posts: 4'\nPROGRESS: 21% (2478/11783)\nu'[Enhanced runeforging question] (/forums/en/wow/topic/13123844858)'\n"
     ]
    },
    {
     "name": "stdout",
     "output_type": "stream",
     "text": [
      "Exiting\n'posts: 3'\nPROGRESS: 21% (2479/11783)\nu\"[Brawl'gar Tips] (/forums/en/wow/topic/13124235147)\"\n"
     ]
    },
    {
     "name": "stdout",
     "output_type": "stream",
     "text": [
      "Exiting\n'posts: 2'\nPROGRESS: 21% (2480/11783)\nu'[How do we do against paladins 1 vs 1] (/forums/en/wow/topic/13123114865)'\n"
     ]
    },
    {
     "name": "stdout",
     "output_type": "stream",
     "text": [
      "Exiting\n'posts: 6'\nPROGRESS: 21% (2481/11783)\nu'[Please give frost dks NS] (/forums/en/wow/topic/13123115054)'\n"
     ]
    },
    {
     "name": "stdout",
     "output_type": "stream",
     "text": [
      "Exiting\n'posts: 1'\nPROGRESS: 21% (2482/11783)\nu'[Please..] (/forums/en/wow/topic/13123155091)'\n"
     ]
    },
    {
     "name": "stdout",
     "output_type": "stream",
     "text": [
      "Exiting\n'posts: 10'\nPROGRESS: 21% (2483/11783)\nu'[NP and stats.] (/forums/en/wow/topic/13124765141)'\n"
     ]
    },
    {
     "name": "stdout",
     "output_type": "stream",
     "text": [
      "Exiting\n'posts: 2'\nPROGRESS: 21% (2484/11783)\nu'[...] (/forums/en/wow/topic/13123105018)'\nHTTPError = 404\n"
     ]
    },
    {
     "name": "stdout",
     "output_type": "stream",
     "text": [
      "Exiting\n'posts: 3'\nPROGRESS: 21% (2485/11783)\nu'[Frost Dk PvP] (/forums/en/wow/topic/13122955096)'\nHTTPError = 404\n"
     ]
    },
    {
     "name": "stdout",
     "output_type": "stream",
     "text": [
      "Exiting\n'posts: 2'\nPROGRESS: 21% (2486/11783)\nu\"[Dk's are literally immortal in a 1v1] (/forums/en/wow/topic/13123104781)\"\n"
     ]
    },
    {
     "name": "stdout",
     "output_type": "stream",
     "text": [
      "Exiting\n'posts: 22'\nPROGRESS: 21% (2487/11783)\nu'[I just want to thank Holinka for wasting my time] (/forums/en/wow/topic/13123113162)'\n"
     ]
    },
    {
     "name": "stdout",
     "output_type": "stream",
     "text": [
      "Exiting\n'posts: 56'\nPROGRESS: 21% (2488/11783)\nu'[Questions about Blood Knight talents] (/forums/en/wow/topic/13123315043)'\n"
     ]
    },
    {
     "name": "stdout",
     "output_type": "stream",
     "text": [
      "Exiting\n'posts: 2'\nPROGRESS: 21% (2489/11783)\nu'[Soloable level 100 instances?] (/forums/en/wow/topic/13123314447)'\n"
     ]
    },
    {
     "name": "stdout",
     "output_type": "stream",
     "text": [
      "[Errno 10054] An existing connection was forcibly closed by the remote host\n"
     ]
    },
    {
     "name": "stdout",
     "output_type": "stream",
     "text": [
      "Exiting\n'posts: 8'\nPROGRESS: 21% (2490/11783)\nu'[Frost vs Unholy] (/forums/en/wow/topic/13124765026)'\n"
     ]
    },
    {
     "name": "stdout",
     "output_type": "stream",
     "text": [
      "Exiting\n'posts: 2'\nPROGRESS: 21% (2491/11783)\nu'[trinket question PvE] (/forums/en/wow/topic/13123114765)'\n"
     ]
    },
    {
     "name": "stdout",
     "output_type": "stream",
     "text": [
      "Exiting\n'posts: 4'\nPROGRESS: 21% (2492/11783)\nu'[Working as intended.] (/forums/en/wow/topic/13124764226)'\n"
     ]
    },
    {
     "name": "stdout",
     "output_type": "stream",
     "text": [
      "Exiting\n'posts: 13'\nPROGRESS: 21% (2493/11783)\nu'[Usuage of Deathrunes] (/forums/en/wow/topic/13123714694)'\n"
     ]
    },
    {
     "name": "stdout",
     "output_type": "stream",
     "text": [
      "[Errno 10054] An existing connection was forcibly closed by the remote host\n"
     ]
    },
    {
     "name": "stdout",
     "output_type": "stream",
     "text": [
      "Exiting\n'posts: 4'\nPROGRESS: 21% (2494/11783)\nu'[A game for the devs?] (/forums/en/wow/topic/13123713226)'\n"
     ]
    },
    {
     "name": "stdout",
     "output_type": "stream",
     "text": [
      "[Errno 10054] An existing connection was forcibly closed by the remote host\n"
     ]
    },
    {
     "name": "stdout",
     "output_type": "stream",
     "text": [
      "Exiting\n'posts: 21'\nPROGRESS: 21% (2495/11783)\nu'[Secondary stat for PvP] (/forums/en/wow/topic/13123424441)'\n"
     ]
    },
    {
     "name": "stdout",
     "output_type": "stream",
     "text": [
      "Exiting\n'posts: 3'\nPROGRESS: 21% (2496/11783)\nu\"[dk lf dk for 2's rating] (/forums/en/wow/topic/13123844405)\"\n"
     ]
    },
    {
     "name": "stdout",
     "output_type": "stream",
     "text": [
      "[Errno 10054] An existing connection was forcibly closed by the remote host\n"
     ]
    },
    {
     "name": "stdout",
     "output_type": "stream",
     "text": [
      "Exiting\n'posts: 9'\nPROGRESS: 21% (2497/11783)\nu'[Two-hand or one-hand + shield?] (/forums/en/wow/topic/13122954847)'\n"
     ]
    },
    {
     "name": "stdout",
     "output_type": "stream",
     "text": [
      "Exiting\n'posts: 6'\nPROGRESS: 21% (2498/11783)\nu'[Lichborne DC heal?] (/forums/en/wow/topic/13123154650)'\n"
     ]
    },
    {
     "name": "stdout",
     "output_type": "stream",
     "text": [
      "[Errno 10054] An existing connection was forcibly closed by the remote host\n"
     ]
    },
    {
     "name": "stdout",
     "output_type": "stream",
     "text": [
      "Exiting\n'posts: 3'\nPROGRESS: 21% (2499/11783)\nu'[DK Opinions] (/forums/en/wow/topic/13123424351)'\nHTTPError = 404\n"
     ]
    },
    {
     "name": "stdout",
     "output_type": "stream",
     "text": [
      "Exiting\n'posts: 5'\nPROGRESS: 21% (2500/11783)\n"
     ]
    },
    {
     "name": "stdout",
     "output_type": "stream",
     "text": [
      "u'[Death Grip] (/forums/en/wow/topic/13123113959)'\n"
     ]
    },
    {
     "name": "stdout",
     "output_type": "stream",
     "text": [
      "Exiting\n'posts: 13'\nPROGRESS: 21% (2501/11783)\nu'[Ok so i really need help with dps] (/forums/en/wow/topic/13123104762)'\n"
     ]
    },
    {
     "name": "stdout",
     "output_type": "stream",
     "text": [
      "Exiting\n'posts: 2'\nPROGRESS: 21% (2502/11783)\nu'[fist weapon ?] (/forums/en/wow/topic/13124234759)'\n"
     ]
    },
    {
     "name": "stdout",
     "output_type": "stream",
     "text": [
      "Exiting\n'posts: 2'\nPROGRESS: 21% (2503/11783)\nu'[Coliseum] (/forums/en/wow/topic/13122954859)'\n"
     ]
    },
    {
     "name": "stdout",
     "output_type": "stream",
     "text": [
      "Exiting\n'posts: 1'\nPROGRESS: 21% (2504/11783)\nu\"[Fix conversion already? Can't find any response] (/forums/en/wow/topic/13123713912)\"\n"
     ]
    },
    {
     "name": "stdout",
     "output_type": "stream",
     "text": [
      "Exiting\n'posts: 26'\nPROGRESS: 21% (2505/11783)\nu'[Are we the only ones that are over the top.] (/forums/en/wow/topic/13123424344)'\n"
     ]
    },
    {
     "name": "stdout",
     "output_type": "stream",
     "text": [
      "Exiting\n'posts: 12'\nPROGRESS: 21% (2506/11783)\nu'[DK self healing] (/forums/en/wow/topic/13123313193)'\n"
     ]
    },
    {
     "name": "stdout",
     "output_type": "stream",
     "text": [
      "Exiting\n'posts: 18'\nPROGRESS: 21% (2507/11783)\nu'[we have /kill button /we need nerf /we hit 2 button etc] (/forums/en/wow/topic/13122954718)'\n"
     ]
    },
    {
     "name": "stdout",
     "output_type": "stream",
     "text": [
      "Exiting\n'posts: 2'\nPROGRESS: 21% (2508/11783)\nu'[Healing like healers ?] (/forums/en/wow/topic/13123154226)'\n"
     ]
    },
    {
     "name": "stdout",
     "output_type": "stream",
     "text": [
      "Exiting\n'posts: 13'\nPROGRESS: 21% (2509/11783)\nu'[Blood tanks hit too much?] (/forums/en/wow/topic/13124764455)'\n"
     ]
    },
    {
     "name": "stdout",
     "output_type": "stream",
     "text": [
      "Exiting\n'posts: 21'\nPROGRESS: 21% (2510/11783)\nu'[can you guys help a feral out please?] (/forums/en/wow/topic/13123114567)'\n"
     ]
    },
    {
     "name": "stdout",
     "output_type": "stream",
     "text": [
      "HTTPError = 404\n"
     ]
    },
    {
     "name": "stdout",
     "output_type": "stream",
     "text": [
      "Exiting\n'posts: 7'\nPROGRESS: 21% (2511/11783)\nu'[Blood, Frost or Unholy??] (/forums/en/wow/topic/13123844619)'\n"
     ]
    },
    {
     "name": "stdout",
     "output_type": "stream",
     "text": [
      "Exiting\n'posts: 2'\nPROGRESS: 21% (2512/11783)\nu'[Stuck in Archerus] (/forums/en/wow/topic/13122974684)'\n"
     ]
    },
    {
     "name": "stdout",
     "output_type": "stream",
     "text": [
      "Exiting\n'posts: 3'\nPROGRESS: 21% (2513/11783)\nu'[Best T5 talent for PvP?] (/forums/en/wow/topic/13123424368)'\n"
     ]
    },
    {
     "name": "stdout",
     "output_type": "stream",
     "text": [
      "Exiting\n'posts: 3'\nPROGRESS: 21% (2514/11783)\nu'[Important gear question  !!!!] (/forums/en/wow/topic/13124234230)'\n"
     ]
    },
    {
     "name": "stdout",
     "output_type": "stream",
     "text": [
      "HTTPError = 404\n"
     ]
    },
    {
     "name": "stdout",
     "output_type": "stream",
     "text": [
      "Exiting\n'posts: 7'\nPROGRESS: 21% (2515/11783)\nu'[DKS OP post pics of them not dieing in pvp] (/forums/en/wow/topic/13123714140)'\n"
     ]
    },
    {
     "name": "stdout",
     "output_type": "stream",
     "text": [
      "Exiting\n'posts: 26'\nPROGRESS: 21% (2516/11783)\nu'[Little question] (/forums/en/wow/topic/13122954518)'\n"
     ]
    },
    {
     "name": "stdout",
     "output_type": "stream",
     "text": [
      "Exiting\n'posts: 3'\nPROGRESS: 21% (2517/11783)\nu'[Forsaken Death Knights?] (/forums/en/wow/topic/13124234494)'\n"
     ]
    },
    {
     "name": "stdout",
     "output_type": "stream",
     "text": [
      "Exiting\n'posts: 2'\nPROGRESS: 21% (2518/11783)\nu'[Frost DK: 2h or 1h? (PVE)] (/forums/en/wow/topic/13122954154)'\n"
     ]
    },
    {
     "name": "stdout",
     "output_type": "stream",
     "text": [
      "Exiting\n'posts: 5'\nPROGRESS: 21% (2519/11783)\nu'[Which race to play as DK in PvE?] (/forums/en/wow/topic/13124233614)'\n"
     ]
    },
    {
     "name": "stdout",
     "output_type": "stream",
     "text": [
      "Exiting\n'posts: 7'\nPROGRESS: 21% (2520/11783)\nu'[Why is conversion better on frost than UH?] (/forums/en/wow/topic/13123154523)'\n"
     ]
    },
    {
     "name": "stdout",
     "output_type": "stream",
     "text": [
      "Exiting\n'posts: 3'\nPROGRESS: 21% (2521/11783)\nu'[Lv 60 talent, which one?] (/forums/en/wow/topic/13123114191)'\n"
     ]
    },
    {
     "name": "stdout",
     "output_type": "stream",
     "text": [
      "HTTPError = 404\n"
     ]
    },
    {
     "name": "stdout",
     "output_type": "stream",
     "text": [
      "Exiting\n'posts: 11'\nPROGRESS: 21% (2522/11783)\nu'[Frost 2hand or dual wield?] (/forums/en/wow/topic/13122952956)'\n"
     ]
    },
    {
     "name": "stdout",
     "output_type": "stream",
     "text": [
      "Exiting\n'posts: 13'\nPROGRESS: 21% (2523/11783)\nu'[Noob question about Presence.] (/forums/en/wow/topic/13124763997)'\n"
     ]
    },
    {
     "name": "stdout",
     "output_type": "stream",
     "text": [
      "Exiting\n'posts: 14'\nPROGRESS: 21% (2524/11783)\nu'[Mark of the thunderlord enchant as dk?] (/forums/en/wow/topic/13123844357)'\n"
     ]
    },
    {
     "name": "stdout",
     "output_type": "stream",
     "text": [
      "[Errno 10054] An existing connection was forcibly closed by the remote host\n"
     ]
    },
    {
     "name": "stdout",
     "output_type": "stream",
     "text": [
      "Exiting\n'posts: 2'\nPROGRESS: 21% (2525/11783)\nu'[LF a Frost DK to push some rating at 2s] (/forums/en/wow/topic/13123714220)'\n"
     ]
    },
    {
     "name": "stdout",
     "output_type": "stream",
     "text": [
      "Exiting\n'posts: 5'\nPROGRESS: 21% (2526/11783)\nu'[Fix That 2v2 double DK] (/forums/en/wow/topic/13122974382)'\n"
     ]
    },
    {
     "name": "stdout",
     "output_type": "stream",
     "text": [
      "Exiting\n'posts: 4'\nPROGRESS: 21% (2527/11783)\nu'[Will unholy be stronger than frost with full gear?] (/forums/en/wow/topic/13122974059)'\n"
     ]
    },
    {
     "name": "stdout",
     "output_type": "stream",
     "text": [
      "Exiting\n'posts: 4'\nPROGRESS: 21% (2528/11783)\nu'[Triple Blood. Rise brothers and sisters!] (/forums/en/wow/topic/13124764228)'\n"
     ]
    },
    {
     "name": "stdout",
     "output_type": "stream",
     "text": [
      "Exiting\n'posts: 8'\nPROGRESS: 21% (2529/11783)\nu'[When I join an arena as Blood, my spec change to Frost?] (/forums/en/wow/topic/13123104268)'\n"
     ]
    },
    {
     "name": "stdout",
     "output_type": "stream",
     "text": [
      "Exiting\n'posts: 3'\nPROGRESS: 21% (2530/11783)\nu'[What to wear (PVP)] (/forums/en/wow/topic/13124234266)'\n"
     ]
    },
    {
     "name": "stdout",
     "output_type": "stream",
     "text": [
      "Exiting\n'posts: 2'\nPROGRESS: 21% (2531/11783)\nu'[Opinions] (/forums/en/wow/topic/13123713885)'\n"
     ]
    },
    {
     "name": "stdout",
     "output_type": "stream",
     "text": [
      "Exiting\n'posts: 21'\nPROGRESS: 21% (2532/11783)\nu'[I just did a 20 min vs a dk] (/forums/en/wow/topic/13123104019)'\n"
     ]
    },
    {
     "name": "stdout",
     "output_type": "stream",
     "text": [
      "Exiting\n'posts: 9'\nPROGRESS: 21% (2533/11783)\nu'[My alts a deathknight what am I doing wrong?] (/forums/en/wow/topic/13122953616)'\n"
     ]
    },
    {
     "name": "stdout",
     "output_type": "stream",
     "text": [
      "Exiting\n'posts: 7'\nPROGRESS: 21% (2534/11783)\nu'[Thanks.] (/forums/en/wow/topic/13123713556)'\n"
     ]
    },
    {
     "name": "stdout",
     "output_type": "stream",
     "text": [
      "Exiting\n'posts: 12'\nPROGRESS: 21% (2535/11783)\nu'[Hey. Buff Death knights healing] (/forums/en/wow/topic/13123104012)'\n"
     ]
    },
    {
     "name": "stdout",
     "output_type": "stream",
     "text": [
      "Exiting\n'posts: 27'\nPROGRESS: 21% (2536/11783)\nu'[Suggested fix for DKs in PvP] (/forums/en/wow/topic/13123873932)'\n"
     ]
    },
    {
     "name": "stdout",
     "output_type": "stream",
     "text": [
      "Exiting\n'posts: 45'\nPROGRESS: 21% (2537/11783)\nu'[Help with DPS...] (/forums/en/wow/topic/13122974070)'\nHTTPError = 404\n"
     ]
    },
    {
     "name": "stdout",
     "output_type": "stream",
     "text": [
      "Exiting\n'posts: 2'\nPROGRESS: 21% (2538/11783)\nu'[To DW or not] (/forums/en/wow/topic/13123103834)'\n"
     ]
    },
    {
     "name": "stdout",
     "output_type": "stream",
     "text": [
      "Exiting\n'posts: 6'\nPROGRESS: 21% (2539/11783)\nu'[Blood DK LF Blood DK(s) to push 2s/3s rating] (/forums/en/wow/topic/13123422311)'\n"
     ]
    },
    {
     "name": "stdout",
     "output_type": "stream",
     "text": [
      "Exiting\n'posts: 19'\nPROGRESS: 21% (2540/11783)\nu'[Hunters..] (/forums/en/wow/topic/13123873293)'\n"
     ]
    },
    {
     "name": "stdout",
     "output_type": "stream",
     "text": [
      "Exiting\n'posts: 12'\nPROGRESS: 21% (2541/11783)\nu'[Tips for blood dk DPS in HM] (/forums/en/wow/topic/13123843515)'\n"
     ]
    },
    {
     "name": "stdout",
     "output_type": "stream",
     "text": [
      "Exiting\n'posts: 9'\nPROGRESS: 21% (2542/11783)\nu\"[vol'jin rep gear and best stats.] (/forums/en/wow/topic/13123843614)\"\n"
     ]
    },
    {
     "name": "stdout",
     "output_type": "stream",
     "text": [
      "Exiting\n'posts: 5'\nPROGRESS: 21% (2543/11783)\nu'[3v3 - which spec?] (/forums/en/wow/topic/13122953879)'\n"
     ]
    },
    {
     "name": "stdout",
     "output_type": "stream",
     "text": [
      "[Errno 10054] An existing connection was forcibly closed by the remote host\n"
     ]
    },
    {
     "name": "stdout",
     "output_type": "stream",
     "text": [
      "Exiting\n'posts: 2'\nPROGRESS: 21% (2544/11783)\nu'[hiiiii] (/forums/en/wow/topic/13123153606)'\n"
     ]
    },
    {
     "name": "stdout",
     "output_type": "stream",
     "text": [
      "Exiting\n'posts: 5'\nPROGRESS: 21% (2545/11783)\nu'[Frost DK wow] (/forums/en/wow/topic/13123313812)'\n"
     ]
    },
    {
     "name": "stdout",
     "output_type": "stream",
     "text": [
      "Exiting\n'posts: 10'\nPROGRESS: 21% (2546/11783)\nu'[Best stat PvP wise] (/forums/en/wow/topic/13124763985)'\n"
     ]
    },
    {
     "name": "stdout",
     "output_type": "stream",
     "text": [
      "Exiting\n'posts: 2'\nPROGRESS: 21% (2547/11783)\nu'[Shannox Solo] (/forums/en/wow/topic/6787988747)'\n"
     ]
    },
    {
     "name": "stdout",
     "output_type": "stream",
     "text": [
      "Exiting\n'posts: 14'\nPROGRESS: 21% (2548/11783)\nu'[Frost Dual Wield Dps Help Needed!] (/forums/en/wow/topic/13124763626)'\n"
     ]
    },
    {
     "name": "stdout",
     "output_type": "stream",
     "text": [
      "Exiting\n'posts: 7'\nPROGRESS: 21% (2549/11783)\nu'[What can i do against a frost dk?] (/forums/en/wow/topic/13123313809)'\n"
     ]
    },
    {
     "name": "stdout",
     "output_type": "stream",
     "text": [
      "[Errno 10054] An existing connection was forcibly closed by the remote host\n"
     ]
    },
    {
     "name": "stdout",
     "output_type": "stream",
     "text": [
      "Exiting\n'posts: 11'\nPROGRESS: 21% (2550/11783)\n"
     ]
    },
    {
     "name": "stdout",
     "output_type": "stream",
     "text": [
      "u'[UH Pet stops attacking.] (/forums/en/wow/topic/13123843616)'\n"
     ]
    },
    {
     "name": "stdout",
     "output_type": "stream",
     "text": [
      "Exiting\n'posts: 4'\nPROGRESS: 21% (2551/11783)\nu'[DW UNHOLY NOW !] (/forums/en/wow/topic/13122973597)'\n"
     ]
    },
    {
     "name": "stdout",
     "output_type": "stream",
     "text": [
      "Exiting\n'posts: 4'\nPROGRESS: 21% (2552/11783)\nu'[Is it possible to beat a frost dk as unholy?] (/forums/en/wow/topic/13122953585)'\n"
     ]
    },
    {
     "name": "stdout",
     "output_type": "stream",
     "text": [
      "Exiting\n'posts: 2'\nPROGRESS: 21% (2553/11783)\nu'[Best spec currently?] (/forums/en/wow/topic/13123153533)'\n"
     ]
    },
    {
     "name": "stdout",
     "output_type": "stream",
     "text": [
      "[Errno 10054] An existing connection was forcibly closed by the remote host\n"
     ]
    },
    {
     "name": "stdout",
     "output_type": "stream",
     "text": [
      "Exiting\n'posts: 6'\nPROGRESS: 21% (2554/11783)\nu'[Blood tanking stats?] (/forums/en/wow/topic/13123873573)'\n"
     ]
    },
    {
     "name": "stdout",
     "output_type": "stream",
     "text": [
      "[Errno 10054] An existing connection was forcibly closed by the remote host\n"
     ]
    },
    {
     "name": "stdout",
     "output_type": "stream",
     "text": [
      "Exiting\n'posts: 2'\nPROGRESS: 21% (2555/11783)\nu'[Great day] (/forums/en/wow/topic/13123873566)'\n"
     ]
    },
    {
     "name": "stdout",
     "output_type": "stream",
     "text": [
      "Exiting\n'posts: 1'\nPROGRESS: 21% (2556/11783)\nu'[DK scaling] (/forums/en/wow/topic/13123113080)'\n"
     ]
    },
    {
     "name": "stdout",
     "output_type": "stream",
     "text": [
      "Exiting\n'posts: 6'\nPROGRESS: 21% (2557/11783)\nu'[cant wait to see the dk nerf and the haters roll FotM] (/forums/en/wow/topic/13123153596)'\n"
     ]
    },
    {
     "name": "stdout",
     "output_type": "stream",
     "text": [
      "Exiting\n'posts: 9'\nPROGRESS: 21% (2558/11783)\nu'[Why all the hate on Necro Plague??] (/forums/en/wow/topic/13123423336)'\n"
     ]
    },
    {
     "name": "stdout",
     "output_type": "stream",
     "text": [
      "Exiting\n'posts: 10'\nPROGRESS: 21% (2559/11783)\nu'[how much multi can i dump for strength?] (/forums/en/wow/topic/13124763459)'\n"
     ]
    },
    {
     "name": "stdout",
     "output_type": "stream",
     "text": [
      "Exiting\n'posts: 5'\nPROGRESS: 21% (2560/11783)\nu'[Dark Succor and Soul Reaper flash icon] (/forums/en/wow/topic/13123113217)'\n"
     ]
    },
    {
     "name": "stdout",
     "output_type": "stream",
     "text": [
      "[Errno 10054] An existing connection was forcibly closed by the remote host\n"
     ]
    },
    {
     "name": "stdout",
     "output_type": "stream",
     "text": [
      "Exiting\n'posts: 8'\nPROGRESS: 21% (2561/11783)\nu'[how to maximize healing as frost dk] (/forums/en/wow/topic/13123313461)'\n"
     ]
    },
    {
     "name": "stdout",
     "output_type": "stream",
     "text": [
      "Exiting\n'posts: 5'\nPROGRESS: 21% (2562/11783)\nu'[Is Blood dk still good in 2s???] (/forums/en/wow/topic/13123873352)'\n"
     ]
    },
    {
     "name": "stdout",
     "output_type": "stream",
     "text": [
      "Exiting\n'posts: 7'\nPROGRESS: 21% (2563/11783)\nu'[Crit rating for Multistrike during Killing Machine] (/forums/en/wow/topic/13123153509)'\n"
     ]
    },
    {
     "name": "stdout",
     "output_type": "stream",
     "text": [
      "[Errno 10054] An existing connection was forcibly closed by the remote host\n"
     ]
    },
    {
     "name": "stdout",
     "output_type": "stream",
     "text": [
      "Exiting\n'posts: 5'\nPROGRESS: 21% (2564/11783)\nu'[Defile vs Necrotic Plague?] (/forums/en/wow/topic/13123312470)'\n"
     ]
    },
    {
     "name": "stdout",
     "output_type": "stream",
     "text": [
      "Exiting\n'posts: 61'\nPROGRESS: 21% (2565/11783)\nu'[Frost Damage is Ludacris.] (/forums/en/wow/topic/13123113119)'\n"
     ]
    },
    {
     "name": "stdout",
     "output_type": "stream",
     "text": [
      "Exiting\n'posts: 29'\nPROGRESS: 21% (2566/11783)\nu'[Best Healer for unholy in 2s??] (/forums/en/wow/topic/13123113364)'\n"
     ]
    },
    {
     "name": "stdout",
     "output_type": "stream",
     "text": [
      "Exiting\n'posts: 3'\nPROGRESS: 21% (2567/11783)\nu'[Need some help (gear related)] (/forums/en/wow/topic/13123313437)'\n"
     ]
    },
    {
     "name": "stdout",
     "output_type": "stream",
     "text": [
      "Exiting\n'posts: 1'\nPROGRESS: 21% (2568/11783)\nu'[Excuse me while I flex my big cannons.] (/forums/en/wow/topic/13123423201)'\n"
     ]
    },
    {
     "name": "stdout",
     "output_type": "stream",
     "text": [
      "HTTPError = 404\n"
     ]
    },
    {
     "name": "stdout",
     "output_type": "stream",
     "text": [
      "Exiting\n'posts: 1'\nPROGRESS: 21% (2569/11783)\nu'[Blood (PvE) DKs have too many spells] (/forums/en/wow/topic/13123112434)'\n"
     ]
    },
    {
     "name": "stdout",
     "output_type": "stream",
     "text": [
      "Exiting\n'posts: 15'\nPROGRESS: 21% (2570/11783)\nu'[3v3 3 blood dks] (/forums/en/wow/topic/13123153379)'\n"
     ]
    },
    {
     "name": "stdout",
     "output_type": "stream",
     "text": [
      "Exiting\n'posts: 1'\nPROGRESS: 21% (2571/11783)\nu'[Conversion or Death Pact for survival?] (/forums/en/wow/topic/13123113225)'\n"
     ]
    },
    {
     "name": "stdout",
     "output_type": "stream",
     "text": [
      "Exiting\n'posts: 6'\nPROGRESS: 21% (2572/11783)\nu'[Runic Corruption: Glitchy, or Quirky?] (/forums/en/wow/topic/13123102824)'\nHTTPError = 404\n"
     ]
    },
    {
     "name": "stdout",
     "output_type": "stream",
     "text": [
      "HTTPError = 404\n"
     ]
    },
    {
     "name": "stdout",
     "output_type": "stream",
     "text": [
      "Exiting\n'posts: 11'\nPROGRESS: 21% (2573/11783)\nu'[Is DK fun to play?] (/forums/en/wow/topic/13123153319)'\n"
     ]
    },
    {
     "name": "stdout",
     "output_type": "stream",
     "text": [
      "Exiting\n'posts: 6'\nPROGRESS: 21% (2574/11783)\nu'[Whats the best professions for a lvl 90 Unholy DK?] (/forums/en/wow/topic/13123873222)'\nHTTPError = 404\n"
     ]
    },
    {
     "name": "stdout",
     "output_type": "stream",
     "text": [
      "Exiting\n'posts: 2'\nPROGRESS: 21% (2575/11783)\nu'[Death and Decay, target myself] (/forums/en/wow/topic/13122953177)'\n"
     ]
    },
    {
     "name": "stdout",
     "output_type": "stream",
     "text": [
      "Exiting\n'posts: 3'\nPROGRESS: 21% (2576/11783)\nu'[Frost DK PvP Secondary-stat priority] (/forums/en/wow/topic/13123713139)'\n"
     ]
    },
    {
     "name": "stdout",
     "output_type": "stream",
     "text": [
      "Exiting\n'posts: 1'\nPROGRESS: 21% (2577/11783)\nu'[WOTLK Death Knight tanking] (/forums/en/wow/topic/13123713116)'\n"
     ]
    },
    {
     "name": "stdout",
     "output_type": "stream",
     "text": [
      "Exiting\n'posts: 2'\nPROGRESS: 21% (2578/11783)\nu'[Unholy confusion and should I change?] (/forums/en/wow/topic/13123103264)'\n"
     ]
    },
    {
     "name": "stdout",
     "output_type": "stream",
     "text": [
      "Exiting\n'posts: 1'\nPROGRESS: 21% (2579/11783)\nu'[DK unholy  ilevel645 (low dps)] (/forums/en/wow/topic/13123872772)'\n"
     ]
    },
    {
     "name": "stdout",
     "output_type": "stream",
     "text": [
      "Exiting\n'posts: 8'\nPROGRESS: 21% (2580/11783)\nu'[Turbulent Armament - Frost] (/forums/en/wow/topic/13123313128)'\n"
     ]
    },
    {
     "name": "stdout",
     "output_type": "stream",
     "text": [
      "Exiting\n'posts: 7'\nPROGRESS: 21% (2581/11783)\nu'[List of BiS gear for pvp frost dk?] (/forums/en/wow/topic/13123713077)'\n"
     ]
    },
    {
     "name": "stdout",
     "output_type": "stream",
     "text": [
      "Exiting\n'posts: 2'\nPROGRESS: 21% (2582/11783)\nu'[This is pvp now. sad.. 2x immortal frost DK 2667 mmr.] (/forums/en/wow/topic/13123712573)'\n"
     ]
    },
    {
     "name": "stdout",
     "output_type": "stream",
     "text": [
      "Exiting\n'posts: 32'\nPROGRESS: 21% (2583/11783)\nu'[Self healing from DKs is too OP] (/forums/en/wow/topic/13123312443)'\n"
     ]
    },
    {
     "name": "stdout",
     "output_type": "stream",
     "text": [
      "HTTPError = 404\nHTTPError = 404\n"
     ]
    },
    {
     "name": "stdout",
     "output_type": "stream",
     "text": [
      "Exiting\n'posts: 21'\nPROGRESS: 21% (2584/11783)\nu'[DK/Rdruid vs Hunter/Rdruid] (/forums/en/wow/topic/13123313186)'\n"
     ]
    },
    {
     "name": "stdout",
     "output_type": "stream",
     "text": [
      "Exiting\n'posts: 2'\nPROGRESS: 21% (2585/11783)\nu'[UH dps help!!!] (/forums/en/wow/topic/13124762374)'\n"
     ]
    },
    {
     "name": "stdout",
     "output_type": "stream",
     "text": [
      "Exiting\n'posts: 5'\nPROGRESS: 21% (2586/11783)\nu'[Bring back to death coil for frost Death Knights.] (/forums/en/wow/topic/13124763234)'\n"
     ]
    },
    {
     "name": "stdout",
     "output_type": "stream",
     "text": [
      "Exiting\n'posts: 2'\nPROGRESS: 21% (2587/11783)\nu'[2s tactic unholy/ holy pala vs survival/healer] (/forums/en/wow/topic/13124762900)'\n"
     ]
    },
    {
     "name": "stdout",
     "output_type": "stream",
     "text": [
      "Exiting\n'posts: 6'\nPROGRESS: 21% (2588/11783)\nu'[Obliterate and Howling Blast Analysis] (/forums/en/wow/topic/13124233092)'\n"
     ]
    },
    {
     "name": "stdout",
     "output_type": "stream",
     "text": [
      "Exiting\n'posts: 1'\nPROGRESS: 21% (2589/11783)\nu'[Paladin or DK Tank?] (/forums/en/wow/topic/13124763161)'\n"
     ]
    },
    {
     "name": "stdout",
     "output_type": "stream",
     "text": [
      "Exiting\n'posts: 3'\nPROGRESS: 21% (2590/11783)\nu'[2h Frost statprio and statweight] (/forums/en/wow/topic/13123872677)'\n"
     ]
    },
    {
     "name": "stdout",
     "output_type": "stream",
     "text": [
      "Exiting\n'posts: 9'\nPROGRESS: 21% (2591/11783)\nu\"[DK's are NOT OP! to all the haters, read.] (/forums/en/wow/topic/13123152473)\"\n"
     ]
    },
    {
     "name": "stdout",
     "output_type": "stream",
     "text": [
      "Exiting\n'posts: 27'\nPROGRESS: 21% (2592/11783)\nu'[How bad is 2h Frost AOE?] (/forums/en/wow/topic/13122952667)'\n"
     ]
    },
    {
     "name": "stdout",
     "output_type": "stream",
     "text": [
      "Exiting\n'posts: 4'\nPROGRESS: 22% (2593/11783)\nu'[Death Pact not affected by dampening] (/forums/en/wow/topic/12990141040)'\n"
     ]
    },
    {
     "name": "stdout",
     "output_type": "stream",
     "text": [
      "Exiting\n'posts: 7'\nPROGRESS: 22% (2594/11783)\nu'[PvP - Frost loot specialization] (/forums/en/wow/topic/12989591305)'\n"
     ]
    },
    {
     "name": "stdout",
     "output_type": "stream",
     "text": [
      "Exiting\n'posts: 8'\nPROGRESS: 22% (2595/11783)\nu'[unholy or frost 2h or 1h in pve?] (/forums/en/wow/topic/13123152250)'\n"
     ]
    },
    {
     "name": "stdout",
     "output_type": "stream",
     "text": [
      "Exiting\n'posts: 12'\nPROGRESS: 22% (2596/11783)\nu'[Issues with rune addons] (/forums/en/wow/topic/13123842621)'\n"
     ]
    },
    {
     "name": "stdout",
     "output_type": "stream",
     "text": [
      "Exiting\n'posts: 2'\nPROGRESS: 22% (2597/11783)\nu'[CP pvp piece - Buy or wait?] (/forums/en/wow/topic/13123422618)'\n"
     ]
    },
    {
     "name": "stdout",
     "output_type": "stream",
     "text": [
      "Exiting\n'posts: 3'\nPROGRESS: 22% (2598/11783)\nu'[Bugged Dark Simulacrum] (/forums/en/wow/topic/13123312510)'\n"
     ]
    },
    {
     "name": "stdout",
     "output_type": "stream",
     "text": [
      "Exiting\n'posts: 4'\nPROGRESS: 22% (2599/11783)\nu'[Brawlers boss Dark Summoner] (/forums/en/wow/topic/13123842613)'\n"
     ]
    },
    {
     "name": "stdout",
     "output_type": "stream",
     "text": [
      "Exiting\n'posts: 3'\nPROGRESS: 22% (2600/11783)\n"
     ]
    },
    {
     "name": "stdout",
     "output_type": "stream",
     "text": [
      "u'[Low DPS as Frost DK - DW (PvE)] (/forums/en/wow/topic/13123312608)'\n"
     ]
    },
    {
     "name": "stdout",
     "output_type": "stream",
     "text": [
      "Exiting\n'posts: 4'\nPROGRESS: 22% (2601/11783)\nu'[WoD Death Knight changes.] (/forums/en/wow/topic/10494459969)'\n"
     ]
    },
    {
     "name": "stdout",
     "output_type": "stream",
     "text": [
      "Exiting\n'posts: 103'\nPROGRESS: 22% (2602/11783)\nu'[Level 100 unholy talents in pvp.] (/forums/en/wow/topic/13123102204)'\n"
     ]
    },
    {
     "name": "stdout",
     "output_type": "stream",
     "text": [
      "Exiting\n'posts: 12'\nPROGRESS: 22% (2603/11783)\nu'[Why Do Death Knights Have A Bad Reputation?] (/forums/en/wow/topic/12990050992)'\n"
     ]
    },
    {
     "name": "stdout",
     "output_type": "stream",
     "text": [
      "Exiting\n'posts: 58'\nPROGRESS: 22% (2604/11783)\nu'[Boost Empower Rune weapon plx!] (/forums/en/wow/topic/13113751248)'\n"
     ]
    },
    {
     "name": "stdout",
     "output_type": "stream",
     "text": [
      "Exiting\n'posts: 9'\nPROGRESS: 22% (2605/11783)\nu'[Blood Tap, Runic Corruption or Runic Emp?] (/forums/en/wow/topic/13123712579)'\n"
     ]
    },
    {
     "name": "stdout",
     "output_type": "stream",
     "text": [
      "Exiting\n'posts: 5'\nPROGRESS: 22% (2606/11783)\nu'[Soul reaper 50% haste] (/forums/en/wow/topic/13123422392)'\n"
     ]
    },
    {
     "name": "stdout",
     "output_type": "stream",
     "text": [
      "Exiting\n'posts: 6'\nPROGRESS: 22% (2607/11783)\nu'[The struggle for my new class] (/forums/en/wow/topic/13123102443)'\n"
     ]
    },
    {
     "name": "stdout",
     "output_type": "stream",
     "text": [
      "Exiting\n'posts: 10'\nPROGRESS: 22% (2608/11783)\nu'[Buff that lousy Timmy already!] (/forums/en/wow/topic/13123422316)'\n"
     ]
    },
    {
     "name": "stdout",
     "output_type": "stream",
     "text": [
      "Exiting\n'posts: 5'\nPROGRESS: 22% (2609/11783)\nu'[low dps unholy pve] (/forums/en/wow/topic/13113751302)'\n"
     ]
    },
    {
     "name": "stdout",
     "output_type": "stream",
     "text": [
      "Exiting\n'posts: 9'\nPROGRESS: 22% (2610/11783)\nu'[Arena 2v2] (/forums/en/wow/topic/13123712410)'\n"
     ]
    },
    {
     "name": "stdout",
     "output_type": "stream",
     "text": [
      "Exiting\n'posts: 6'\nPROGRESS: 22% (2611/11783)\nu'[Need some help with dps] (/forums/en/wow/topic/12990121352)'\n"
     ]
    },
    {
     "name": "stdout",
     "output_type": "stream",
     "text": [
      "Exiting\n'posts: 12'\nPROGRESS: 22% (2612/11783)\nu'[Glyph of resilient grip bug?] (/forums/en/wow/topic/13122952174)'\n"
     ]
    },
    {
     "name": "stdout",
     "output_type": "stream",
     "text": [
      "Exiting\n'posts: 5'\nPROGRESS: 22% (2613/11783)\nu'[Abomination as One man Army] (/forums/en/wow/topic/13123152291)'\n"
     ]
    },
    {
     "name": "stdout",
     "output_type": "stream",
     "text": [
      "Exiting\n'posts: 7'\nPROGRESS: 22% (2614/11783)\nu'[HC butcher ?] (/forums/en/wow/topic/13123102333)'\n"
     ]
    },
    {
     "name": "stdout",
     "output_type": "stream",
     "text": [
      "Exiting\n'posts: 3'\nPROGRESS: 22% (2615/11783)\nu'[Defile look and Corpse Explosion still broken] (/forums/en/wow/topic/13123842292)'\n"
     ]
    },
    {
     "name": "stdout",
     "output_type": "stream",
     "text": [
      "[Errno 10054] An existing connection was forcibly closed by the remote host\n"
     ]
    },
    {
     "name": "stdout",
     "output_type": "stream",
     "text": [
      "Exiting\n'posts: 3'\nPROGRESS: 22% (2616/11783)\nu'[so DK nerf coming soon ye?] (/forums/en/wow/topic/12990110863)'\n"
     ]
    },
    {
     "name": "stdout",
     "output_type": "stream",
     "text": [
      "Exiting\n'posts: 47'\nPROGRESS: 22% (2617/11783)\nu'[Which race for a DK in PvP?] (/forums/en/wow/topic/13123102266)'\n"
     ]
    },
    {
     "name": "stdout",
     "output_type": "stream",
     "text": [
      "Exiting\n'posts: 4'\nPROGRESS: 22% (2618/11783)\nu'[Death Knight music playlist...] (/forums/en/wow/topic/12990159826)'\n"
     ]
    },
    {
     "name": "stdout",
     "output_type": "stream",
     "text": [
      "Exiting\n'posts: 33'\nPROGRESS: 22% (2619/11783)\nu'[Frost DK guide for WoD (DW and 2H)] (/forums/en/wow/topic/12989420945)'\n"
     ]
    },
    {
     "name": "stdout",
     "output_type": "stream",
     "text": [
      "Exiting\n'posts: 15'\nPROGRESS: 22% (2620/11783)\nu'[Help me understand Purgatory ...] (/forums/en/wow/topic/12989681228)'\n"
     ]
    },
    {
     "name": "stdout",
     "output_type": "stream",
     "text": [
      "HTTPError = 404\n"
     ]
    },
    {
     "name": "stdout",
     "output_type": "stream",
     "text": [
      "[Errno 10054] An existing connection was forcibly closed by the remote host\n"
     ]
    },
    {
     "name": "stdout",
     "output_type": "stream",
     "text": [
      "Exiting\n'posts: 8'\nPROGRESS: 22% (2621/11783)\nu'[Unholy PvP Gameplay] (/forums/en/wow/topic/12989421537)'\nHTTPError = 404\n"
     ]
    },
    {
     "name": "stdout",
     "output_type": "stream",
     "text": [
      "Exiting\n'posts: 5'\nPROGRESS: 22% (2622/11783)\nu'[Macro for Defile] (/forums/en/wow/topic/13114181331)'\n"
     ]
    },
    {
     "name": "stdout",
     "output_type": "stream",
     "text": [
      "Exiting\n'posts: 2'\nPROGRESS: 22% (2623/11783)\nu'[Struggling with 3v3 comp] (/forums/en/wow/topic/12989320743)'\n"
     ]
    },
    {
     "name": "stdout",
     "output_type": "stream",
     "text": [
      "[Errno 10054] An existing connection was forcibly closed by the remote host\n"
     ]
    },
    {
     "name": "stdout",
     "output_type": "stream",
     "text": [
      "Exiting\n'posts: 6'\nPROGRESS: 22% (2624/11783)\nu'[Blood tap feeling clumsy(Blood spec)] (/forums/en/wow/topic/12990051399)'\n"
     ]
    },
    {
     "name": "stdout",
     "output_type": "stream",
     "text": [
      "Exiting\n'posts: 9'\nPROGRESS: 22% (2625/11783)\nu'[REMOVE THE CLASS DK OR !@#$IN NERF IT!! ITS BROKEN!!!!!] (/forums/en/wow/topic/12990120527)'\n"
     ]
    },
    {
     "name": "stdout",
     "output_type": "stream",
     "text": [
      "Exiting\n'posts: 45'\nPROGRESS: 22% (2626/11783)\nu'[Is blood in a good space?] (/forums/en/wow/topic/12990141374)'\n"
     ]
    },
    {
     "name": "stdout",
     "output_type": "stream",
     "text": [
      "Exiting\n'posts: 3'\nPROGRESS: 22% (2627/11783)\nu'[Blood dk keybindings] (/forums/en/wow/topic/12990120761)'\n"
     ]
    },
    {
     "name": "stdout",
     "output_type": "stream",
     "text": [
      "Exiting\n'posts: 9'\nPROGRESS: 22% (2628/11783)\nu'[Low TPS?] (/forums/en/wow/topic/12989681273)'\n"
     ]
    },
    {
     "name": "stdout",
     "output_type": "stream",
     "text": [
      "Exiting\n'posts: 9'\nPROGRESS: 22% (2629/11783)\nu'[frost or unholy ?] (/forums/en/wow/topic/12990121135)'\n"
     ]
    },
    {
     "name": "stdout",
     "output_type": "stream",
     "text": [
      "Exiting\n'posts: 3'\nPROGRESS: 22% (2630/11783)\nu'[TSG - What end talent?] (/forums/en/wow/topic/12989590938)'\n"
     ]
    },
    {
     "name": "stdout",
     "output_type": "stream",
     "text": [
      "Exiting\n'posts: 4'\nPROGRESS: 22% (2631/11783)\nu'[Death coil for frost.] (/forums/en/wow/topic/12990110959)'\n"
     ]
    },
    {
     "name": "stdout",
     "output_type": "stream",
     "text": [
      "Exiting\n'posts: 9'\nPROGRESS: 22% (2632/11783)\nu'[Unholy lagging behind? *fml*] (/forums/en/wow/topic/12989590911)'\n"
     ]
    },
    {
     "name": "stdout",
     "output_type": "stream",
     "text": [
      "[Errno 10054] An existing connection was forcibly closed by the remote host\n"
     ]
    },
    {
     "name": "stdout",
     "output_type": "stream",
     "text": [
      "Exiting\n'posts: 12'\nPROGRESS: 22% (2633/11783)\nu'[Unholy loot Specialisation] (/forums/en/wow/topic/12990051188)'\n"
     ]
    },
    {
     "name": "stdout",
     "output_type": "stream",
     "text": [
      "Exiting\n'posts: 3'\nPROGRESS: 22% (2634/11783)\nu'[Death Knight + Rerti 2v2,3v3] (/forums/en/wow/topic/12989320773)'\n"
     ]
    },
    {
     "name": "stdout",
     "output_type": "stream",
     "text": [
      "Exiting\n'posts: 4'\nPROGRESS: 22% (2635/11783)\nu'[7% Damage Buff.] (/forums/en/wow/topic/12990049750)'\n"
     ]
    },
    {
     "name": "stdout",
     "output_type": "stream",
     "text": [
      "Exiting\n'posts: 47'\nPROGRESS: 22% (2636/11783)\nu'[PVP Presence....] (/forums/en/wow/topic/12990111034)'\n"
     ]
    },
    {
     "name": "stdout",
     "output_type": "stream",
     "text": [
      "Exiting\n'posts: 8'\nPROGRESS: 22% (2637/11783)\nu'[Why Do Death Knights Have A Bad Reputation?] (/forums/en/wow/topic/12990160991)'\n"
     ]
    },
    {
     "name": "stdout",
     "output_type": "stream",
     "text": [
      "Exiting\n'posts: 13'\nPROGRESS: 22% (2638/11783)\nu'[Blood PvP] (/forums/en/wow/topic/12990140886)'\n"
     ]
    },
    {
     "name": "stdout",
     "output_type": "stream",
     "text": [
      "Exiting\n'posts: 5'\nPROGRESS: 22% (2639/11783)\nu'[Rune of Stoneskin Gargoyle] (/forums/en/wow/topic/12989320888)'\n"
     ]
    },
    {
     "name": "stdout",
     "output_type": "stream",
     "text": [
      "Exiting\n'posts: 2'\nPROGRESS: 22% (2640/11783)\nu'[630 heroic dungeon chest drop bug] (/forums/en/wow/topic/12977377858)'\n"
     ]
    },
    {
     "name": "stdout",
     "output_type": "stream",
     "text": [
      "Exiting\n'posts: 10'\nPROGRESS: 22% (2641/11783)\nu'[How do you open as a frost2h?] (/forums/en/wow/topic/12989590669)'\n"
     ]
    },
    {
     "name": "stdout",
     "output_type": "stream",
     "text": [
      "[Errno 10054] An existing connection was forcibly closed by the remote host\n"
     ]
    },
    {
     "name": "stdout",
     "output_type": "stream",
     "text": [
      "[Errno 10054] An existing connection was forcibly closed by the remote host\n"
     ]
    },
    {
     "name": "stdout",
     "output_type": "stream",
     "text": [
      "Exiting\n'posts: 5'\nPROGRESS: 22% (2642/11783)\nu'[Future for DKs in PvE] (/forums/en/wow/topic/12989930935)'\n"
     ]
    },
    {
     "name": "stdout",
     "output_type": "stream",
     "text": [
      "Exiting\n'posts: 5'\nPROGRESS: 22% (2643/11783)\nu'[FoTM?] (/forums/en/wow/topic/12989590235)'\n"
     ]
    },
    {
     "name": "stdout",
     "output_type": "stream",
     "text": [
      "Exiting\n'posts: 14'\nPROGRESS: 22% (2644/11783)\nu'[Frost - KM procs and runic power] (/forums/en/wow/topic/12989590607)'\n"
     ]
    },
    {
     "name": "stdout",
     "output_type": "stream",
     "text": [
      "Exiting\n'posts: 7'\nPROGRESS: 22% (2645/11783)\nu'[picking a death knight] (/forums/en/wow/topic/12989679725)'\n"
     ]
    },
    {
     "name": "stdout",
     "output_type": "stream",
     "text": [
      "Exiting\n'posts: 11'\nPROGRESS: 22% (2646/11783)\nu'[Death Coil] (/forums/en/wow/topic/12990140528)'\n"
     ]
    },
    {
     "name": "stdout",
     "output_type": "stream",
     "text": [
      "Exiting\n'posts: 4'\nPROGRESS: 22% (2647/11783)\nu'[frost dk pvp 2v2 (new dk player)] (/forums/en/wow/topic/12989930719)'\n"
     ]
    },
    {
     "name": "stdout",
     "output_type": "stream",
     "text": [
      "Exiting\n'posts: 3'\nPROGRESS: 22% (2648/11783)\nu'[Blood DK PvP] (/forums/en/wow/topic/12989620445)'\n"
     ]
    },
    {
     "name": "stdout",
     "output_type": "stream",
     "text": [
      "Exiting\n'posts: 16'\nPROGRESS: 22% (2649/11783)\nu'[Do you miss Necrotic Strike?] (/forums/en/wow/topic/12990110819)'\n"
     ]
    },
    {
     "name": "stdout",
     "output_type": "stream",
     "text": [
      "Exiting\n'posts: 2'\nPROGRESS: 22% (2650/11783)\n"
     ]
    },
    {
     "name": "stdout",
     "output_type": "stream",
     "text": [
      "u'[Dk over warr atm?] (/forums/en/wow/topic/12989680746)'\n"
     ]
    },
    {
     "name": "stdout",
     "output_type": "stream",
     "text": [
      "Exiting\n'posts: 4'\nPROGRESS: 22% (2651/11783)\nu'[Should I ?] (/forums/en/wow/topic/12990050613)'\n"
     ]
    },
    {
     "name": "stdout",
     "output_type": "stream",
     "text": [
      "Exiting\n'posts: 3'\nPROGRESS: 22% (2652/11783)\nu'[tracking cooldowns] (/forums/en/wow/topic/12989420437)'\n"
     ]
    },
    {
     "name": "stdout",
     "output_type": "stream",
     "text": [
      "Exiting\n'posts: 4'\nPROGRESS: 22% (2653/11783)\nu'[UH dk completely lost] (/forums/en/wow/topic/12990140279)'\n"
     ]
    },
    {
     "name": "stdout",
     "output_type": "stream",
     "text": [
      "Exiting\n'posts: 22'\nPROGRESS: 22% (2654/11783)\nu'[Frost or Unholy for PVE?] (/forums/en/wow/topic/12989420358)'\n"
     ]
    },
    {
     "name": "stdout",
     "output_type": "stream",
     "text": [
      "Exiting\n'posts: 17'\nPROGRESS: 22% (2655/11783)\nu'[Lack of good 1h weapons] (/forums/en/wow/topic/12990140317)'\n"
     ]
    },
    {
     "name": "stdout",
     "output_type": "stream",
     "text": [
      "Exiting\n'posts: 4'\nPROGRESS: 22% (2656/11783)\nu'[Doing \"nibbleh\" as DK??!?!] (/forums/en/wow/topic/7921262270)'\n"
     ]
    },
    {
     "name": "stdout",
     "output_type": "stream",
     "text": [
      "Exiting\n'posts: 28'\nPROGRESS: 22% (2657/11783)\nu'[Need PvP advise.(UH)] (/forums/en/wow/topic/12990140642)'\n"
     ]
    },
    {
     "name": "stdout",
     "output_type": "stream",
     "text": [
      "Exiting\n'posts: 2'\nPROGRESS: 22% (2658/11783)\nu'[Why we cant have new runeforging enchants?] (/forums/en/wow/topic/12990109344)'\n"
     ]
    },
    {
     "name": "stdout",
     "output_type": "stream",
     "text": [
      "Exiting\n'posts: 11'\nPROGRESS: 22% (2659/11783)\nu'[Frost or Unholy DK for PvP?] (/forums/en/wow/topic/12989320538)'\n"
     ]
    },
    {
     "name": "stdout",
     "output_type": "stream",
     "text": [
      "Exiting\n'posts: 3'\nPROGRESS: 22% (2660/11783)\nu'[Weakauras2 \"Shadow of Death\" Buff (Draenor Perk)] (/forums/en/wow/topic/12618565430)'\nHTTPError = 404\n"
     ]
    },
    {
     "name": "stdout",
     "output_type": "stream",
     "text": [
      "Exiting\n'posts: 5'\nPROGRESS: 22% (2661/11783)\nu'[Icy Touch Multistrike] (/forums/en/wow/topic/12989680647)'\n"
     ]
    },
    {
     "name": "stdout",
     "output_type": "stream",
     "text": [
      "Exiting\n'posts: 3'\nPROGRESS: 22% (2662/11783)\nu'[Rate the Death Knight name above you (OMG not again!)] (/forums/en/wow/topic/1498510116)'\n"
     ]
    },
    {
     "name": "stdout",
     "output_type": "stream",
     "text": [
      "Exiting\n'posts: 7'\nPROGRESS: 22% (2663/11783)\nu'[Hmm, Unholy seems easier than Frost ...] (/forums/en/wow/topic/12990140478)'\n"
     ]
    },
    {
     "name": "stdout",
     "output_type": "stream",
     "text": [
      "Exiting\n'posts: 6'\nPROGRESS: 22% (2664/11783)\nu'[Frost DK after hotfix?] (/forums/en/wow/topic/12989450169)'\n"
     ]
    },
    {
     "name": "stdout",
     "output_type": "stream",
     "text": [
      "Exiting\n'posts: 10'\nPROGRESS: 22% (2665/11783)\nu'[Do you use Blood Plague as Frost DK in PvP?] (/forums/en/wow/topic/12989620414)'\n"
     ]
    },
    {
     "name": "stdout",
     "output_type": "stream",
     "text": [
      "Exiting\n'posts: 4'\nPROGRESS: 22% (2666/11783)\nu'[All this talk about cleave?] (/forums/en/wow/topic/12989420363)'\n"
     ]
    },
    {
     "name": "stdout",
     "output_type": "stream",
     "text": [
      "Exiting\n'posts: 7'\nPROGRESS: 22% (2667/11783)\nu'[Need help to improve my dps ( UH)] (/forums/en/wow/topic/12989419946)'\n"
     ]
    },
    {
     "name": "stdout",
     "output_type": "stream",
     "text": [
      "[Errno 10054] An existing connection was forcibly closed by the remote host\n"
     ]
    },
    {
     "name": "stdout",
     "output_type": "stream",
     "text": [
      "Exiting\n'posts: 13'\nPROGRESS: 22% (2668/11783)\nu\"[Pruning?  I'm using a lot more buttons!] (/forums/en/wow/topic/12990140166)\"\n"
     ]
    },
    {
     "name": "stdout",
     "output_type": "stream",
     "text": [
      "Exiting\n'posts: 4'\nPROGRESS: 22% (2669/11783)\nu\"[Need help, i'm doing something wrong :'(] (/forums/en/wow/topic/12989620040)\"\n"
     ]
    },
    {
     "name": "stdout",
     "output_type": "stream",
     "text": [
      "Exiting\n'posts: 4'\nPROGRESS: 22% (2670/11783)\nu'[dk too easy class and too op] (/forums/en/wow/topic/12989590037)'\n"
     ]
    },
    {
     "name": "stdout",
     "output_type": "stream",
     "text": [
      "Exiting\n'posts: 15'\nPROGRESS: 22% (2671/11783)\nu'[So i have two questions...] (/forums/en/wow/topic/12989589821)'\n"
     ]
    },
    {
     "name": "stdout",
     "output_type": "stream",
     "text": [
      "Exiting\n'posts: 4'\nPROGRESS: 22% (2672/11783)\nu'[Assistance is needed] (/forums/en/wow/topic/12990120028)'\n"
     ]
    },
    {
     "name": "stdout",
     "output_type": "stream",
     "text": [
      "Exiting\n'posts: 4'\nPROGRESS: 22% (2673/11783)\nu'[Frost help rune question] (/forums/en/wow/topic/12990109715)'\n"
     ]
    },
    {
     "name": "stdout",
     "output_type": "stream",
     "text": [
      "Exiting\n'posts: 7'\nPROGRESS: 22% (2674/11783)\nu'[Magic Runes addon - Rune tracker] (/forums/en/wow/topic/12990049883)'\n"
     ]
    },
    {
     "name": "stdout",
     "output_type": "stream",
     "text": [
      "Exiting\n'posts: 5'\nPROGRESS: 22% (2675/11783)\nu'[DK strong , will it stay so?] (/forums/en/wow/topic/12990109986)'\n"
     ]
    },
    {
     "name": "stdout",
     "output_type": "stream",
     "text": [
      "Exiting\n'posts: 11'\nPROGRESS: 22% (2676/11783)\nu'[Weak auras 2 string?] (/forums/en/wow/topic/12990049898)'\n"
     ]
    },
    {
     "name": "stdout",
     "output_type": "stream",
     "text": [
      "Exiting\n'posts: 2'\nPROGRESS: 22% (2677/11783)\nu'[PVP-Deathknight: I require your assistance] (/forums/en/wow/topic/12990119807)'\n"
     ]
    },
    {
     "name": "stdout",
     "output_type": "stream",
     "text": [
      "Exiting\n'posts: 4'\nPROGRESS: 22% (2678/11783)\nu'[Explain why we\\'re \"op\"] (/forums/en/wow/topic/12844175432)'\n"
     ]
    },
    {
     "name": "stdout",
     "output_type": "stream",
     "text": [
      "HTTPError = 404\n"
     ]
    },
    {
     "name": "stdout",
     "output_type": "stream",
     "text": [
      "[Errno 10054] An existing connection was forcibly closed by the remote host\n"
     ]
    },
    {
     "name": "stdout",
     "output_type": "stream",
     "text": [
      "Exiting\n'posts: 105'\nPROGRESS: 22% (2679/11783)\nu'[How much better is UH than frost really?] (/forums/en/wow/topic/12989619566)'\n"
     ]
    },
    {
     "name": "stdout",
     "output_type": "stream",
     "text": [
      "Exiting\n'posts: 10'\nPROGRESS: 22% (2680/11783)\nu\"[Have a question I can't seem to find the answer to.] (/forums/en/wow/topic/12990049712)\"\n"
     ]
    },
    {
     "name": "stdout",
     "output_type": "stream",
     "text": [
      "Exiting\n'posts: 4'\nPROGRESS: 22% (2681/11783)\nu'[Necrotic plague bugged vs affli locks?] (/forums/en/wow/topic/12989589341)'\n"
     ]
    },
    {
     "name": "stdout",
     "output_type": "stream",
     "text": [
      "HTTPError = 404\n"
     ]
    },
    {
     "name": "stdout",
     "output_type": "stream",
     "text": [
      "Exiting\n'posts: 2'\nPROGRESS: 22% (2682/11783)\nu'[2,4k DK enchant?] (/forums/en/wow/topic/12989679901)'\n"
     ]
    },
    {
     "name": "stdout",
     "output_type": "stream",
     "text": [
      "Exiting\n'posts: 1'\nPROGRESS: 22% (2683/11783)\nu'[Prio for UH?!] (/forums/en/wow/topic/12990159352)'\n"
     ]
    },
    {
     "name": "stdout",
     "output_type": "stream",
     "text": [
      "Exiting\n'posts: 10'\nPROGRESS: 22% (2684/11783)\nu'[RBG Targetcalling as a DK?] (/forums/en/wow/topic/12989419866)'\n"
     ]
    },
    {
     "name": "stdout",
     "output_type": "stream",
     "text": [
      "Exiting\n'posts: 2'\nPROGRESS: 22% (2685/11783)\nu\"[Are DK's any fun this expac?] (/forums/en/wow/topic/12990119473)\"\nHTTPError = 404\nHTTPError = 404\n"
     ]
    },
    {
     "name": "stdout",
     "output_type": "stream",
     "text": [
      "Exiting\n'posts: 8'\nPROGRESS: 22% (2686/11783)\nu'[Blood dps vs Frost dps] (/forums/en/wow/topic/12990139527)'\n"
     ]
    },
    {
     "name": "stdout",
     "output_type": "stream",
     "text": [
      "Exiting\n'posts: 6'\nPROGRESS: 22% (2687/11783)\nu'[BDK and stats prio (help)] (/forums/en/wow/topic/12844146465)'\n"
     ]
    },
    {
     "name": "stdout",
     "output_type": "stream",
     "text": [
      "Exiting\n'posts: 12'\nPROGRESS: 22% (2688/11783)\nu'[Couple of questions (Unholy DK)] (/forums/en/wow/topic/12989449353)'\nHTTPError = 404\n"
     ]
    },
    {
     "name": "stdout",
     "output_type": "stream",
     "text": [
      "Exiting\n'posts: 5'\nPROGRESS: 22% (2689/11783)\nu'[UH DK Proven assailant guide] (/forums/en/wow/topic/12989419659)'\n"
     ]
    },
    {
     "name": "stdout",
     "output_type": "stream",
     "text": [
      "Exiting\n'posts: 1'\nPROGRESS: 22% (2690/11783)\nu\"[Faceroll at first sight, maybe it isn't later?] (/forums/en/wow/topic/12990139480)\"\n"
     ]
    },
    {
     "name": "stdout",
     "output_type": "stream",
     "text": [
      "Exiting\n'posts: 12'\nPROGRESS: 22% (2691/11783)\nu'[Mastery or Multistrike?] (/forums/en/wow/topic/12989929357)'\n"
     ]
    },
    {
     "name": "stdout",
     "output_type": "stream",
     "text": [
      "Exiting\n'posts: 5'\nPROGRESS: 22% (2692/11783)\nu'[The concept behind Unholy.] (/forums/en/wow/topic/12977377779)'\n"
     ]
    },
    {
     "name": "stdout",
     "output_type": "stream",
     "text": [
      "Exiting\n'posts: 10'\nPROGRESS: 22% (2693/11783)\nu'[Frost Dk problems? All answers!] (/forums/en/wow/topic/12844696496)'\n"
     ]
    },
    {
     "name": "stdout",
     "output_type": "stream",
     "text": [
      "Exiting\n'posts: 26'\nPROGRESS: 22% (2694/11783)\nu\"[Brawler's Guild: Nibbleh] (/forums/en/wow/topic/12989929470)\"\n"
     ]
    },
    {
     "name": "stdout",
     "output_type": "stream",
     "text": [
      "Exiting\n'posts: 4'\nPROGRESS: 22% (2695/11783)\nu'[Raise Ally cooldown?] (/forums/en/wow/topic/12989929449)'\n"
     ]
    },
    {
     "name": "stdout",
     "output_type": "stream",
     "text": [
      "HTTPError = 404\n"
     ]
    },
    {
     "name": "stdout",
     "output_type": "stream",
     "text": [
      "Exiting\n'posts: 8'\nPROGRESS: 22% (2696/11783)\nu'[Unholy vs Frost PVE] (/forums/en/wow/topic/12989678880)'\n"
     ]
    },
    {
     "name": "stdout",
     "output_type": "stream",
     "text": [
      "Exiting\n'posts: 6'\nPROGRESS: 22% (2697/11783)\nu'[Runeforge in Garrison] (/forums/en/wow/topic/12618236548)'\n"
     ]
    },
    {
     "name": "stdout",
     "output_type": "stream",
     "text": [
      "Exiting\n'posts: 12'\nPROGRESS: 22% (2698/11783)\nu'[Frost to Blood] (/forums/en/wow/topic/12989419434)'\n"
     ]
    },
    {
     "name": "stdout",
     "output_type": "stream",
     "text": [
      "HTTPError = 404\n"
     ]
    },
    {
     "name": "stdout",
     "output_type": "stream",
     "text": [
      "Exiting\n'posts: 3'\nPROGRESS: 22% (2699/11783)\nu'[Why I love playing AV or IoS on my DK :3] (/forums/en/wow/topic/12990049337)'\n"
     ]
    },
    {
     "name": "stdout",
     "output_type": "stream",
     "text": [
      "Exiting\n'posts: 7'\nPROGRESS: 22% (2700/11783)\n"
     ]
    },
    {
     "name": "stdout",
     "output_type": "stream",
     "text": [
      "u'[Dw Frost Dk PvP Stat Priority?] (/forums/en/wow/topic/12990119305)'\n"
     ]
    },
    {
     "name": "stdout",
     "output_type": "stream",
     "text": [
      "Exiting\n'posts: 2'\nPROGRESS: 22% (2701/11783)\nu'[Rune CD] (/forums/en/wow/topic/12990159160)'\n"
     ]
    },
    {
     "name": "stdout",
     "output_type": "stream",
     "text": [
      "Exiting\n'posts: 5'\nPROGRESS: 22% (2702/11783)\nu'[Question about rotation/stats/dps general] (/forums/en/wow/topic/12976737848)'\n"
     ]
    },
    {
     "name": "stdout",
     "output_type": "stream",
     "text": [
      "Exiting\n'posts: 3'\nPROGRESS: 22% (2703/11783)\nu'[Stat priorities] (/forums/en/wow/topic/12989679342)'\n"
     ]
    },
    {
     "name": "stdout",
     "output_type": "stream",
     "text": [
      "Exiting\n'posts: 3'\nPROGRESS: 22% (2704/11783)\nu'[Does Blizzard want us to go 2H?] (/forums/en/wow/topic/12957585849)'\nHTTPError = 404\n"
     ]
    },
    {
     "name": "stdout",
     "output_type": "stream",
     "text": [
      "Exiting\n'posts: 11'\nPROGRESS: 22% (2705/11783)\nu'[Dead Knights Still Breathe?] (/forums/en/wow/topic/12989679200)'\n"
     ]
    },
    {
     "name": "stdout",
     "output_type": "stream",
     "text": [
      "Exiting\n'posts: 11'\nPROGRESS: 22% (2706/11783)\nu'[Blood tap macro for Blood dk] (/forums/en/wow/topic/12977747860)'\n"
     ]
    },
    {
     "name": "stdout",
     "output_type": "stream",
     "text": [
      "Exiting\n'posts: 7'\nPROGRESS: 22% (2707/11783)\nu'[On downtime and overall feel of the class in WoD] (/forums/en/wow/topic/12977747933)'\n"
     ]
    },
    {
     "name": "stdout",
     "output_type": "stream",
     "text": [
      "Exiting\n'posts: 8'\nPROGRESS: 22% (2708/11783)\nu'[Death Knight or Arms Warrior for PVP?] (/forums/en/wow/topic/12990139131)'\n"
     ]
    },
    {
     "name": "stdout",
     "output_type": "stream",
     "text": [
      "Exiting\n'posts: 15'\nPROGRESS: 22% (2709/11783)\nu'[i think there is somthing wierd hidden from us all.] (/forums/en/wow/topic/12990119035)'\n"
     ]
    },
    {
     "name": "stdout",
     "output_type": "stream",
     "text": [
      "Exiting\n'posts: 7'\nPROGRESS: 22% (2710/11783)\nu'[Blood tap tracker addon] (/forums/en/wow/topic/12990119241)'\n"
     ]
    },
    {
     "name": "stdout",
     "output_type": "stream",
     "text": [
      "Exiting\n'posts: 2'\nPROGRESS: 23% (2711/11783)\nu'[The Conversion Conundrum] (/forums/en/wow/topic/12989449171)'\n"
     ]
    },
    {
     "name": "stdout",
     "output_type": "stream",
     "text": [
      "Exiting\n'posts: 3'\nPROGRESS: 23% (2712/11783)\nu'[How buggy is your Plague leech?] (/forums/en/wow/topic/12989418847)'\n"
     ]
    },
    {
     "name": "stdout",
     "output_type": "stream",
     "text": [
      "[Errno 10054] An existing connection was forcibly closed by the remote host\n"
     ]
    },
    {
     "name": "stdout",
     "output_type": "stream",
     "text": [
      "Exiting\n'posts: 5'\nPROGRESS: 23% (2713/11783)\nu'[Darkmoon trinket for DK?] (/forums/en/wow/topic/12989679258)'\n"
     ]
    },
    {
     "name": "stdout",
     "output_type": "stream",
     "text": [
      "Exiting\n'posts: 2'\nPROGRESS: 23% (2714/11783)\nu'[Low dps, my gear or just me being bad?] (/forums/en/wow/topic/12977437876)'\n"
     ]
    },
    {
     "name": "stdout",
     "output_type": "stream",
     "text": [
      "Exiting\n'posts: 10'\nPROGRESS: 23% (2715/11783)\nu'[Blood DK Arena] (/forums/en/wow/topic/12990158919)'\n"
     ]
    },
    {
     "name": "stdout",
     "output_type": "stream",
     "text": [
      "Exiting\n'posts: 9'\nPROGRESS: 23% (2716/11783)\nu'[2H vs. DW?] (/forums/en/wow/topic/12990049107)'\n"
     ]
    },
    {
     "name": "stdout",
     "output_type": "stream",
     "text": [
      "Exiting\n'posts: 1'\nPROGRESS: 23% (2717/11783)\nu'[Outdated unholy info] (/forums/en/wow/topic/12989619125)'\n"
     ]
    },
    {
     "name": "stdout",
     "output_type": "stream",
     "text": [
      "Exiting\n'posts: 1'\nPROGRESS: 23% (2718/11783)\nu'[So how was your first highmaul run?] (/forums/en/wow/topic/12976857788)'\n"
     ]
    },
    {
     "name": "stdout",
     "output_type": "stream",
     "text": [
      "Exiting\n'posts: 10'\nPROGRESS: 23% (2719/11783)\nu'[Frost vs UH for PVE] (/forums/en/wow/topic/12958495828)'\n"
     ]
    },
    {
     "name": "stdout",
     "output_type": "stream",
     "text": [
      "[Errno 10054] An existing connection was forcibly closed by the remote host\n"
     ]
    },
    {
     "name": "stdout",
     "output_type": "stream",
     "text": [
      "[Errno 10054] An existing connection was forcibly closed by the remote host\n"
     ]
    },
    {
     "name": "stdout",
     "output_type": "stream",
     "text": [
      "Exiting\n'posts: 12'\nPROGRESS: 23% (2720/11783)\nu'[Unholy dk] (/forums/en/wow/topic/12977377724)'\n"
     ]
    },
    {
     "name": "stdout",
     "output_type": "stream",
     "text": [
      "Exiting\n'posts: 8'\nPROGRESS: 23% (2721/11783)\nu'[NP + Conversion?] (/forums/en/wow/topic/12844336075)'\n"
     ]
    },
    {
     "name": "stdout",
     "output_type": "stream",
     "text": [
      "Exiting\n'posts: 10'\nPROGRESS: 23% (2722/11783)\nu'[DKs, Arenas and Healers] (/forums/en/wow/topic/12959065854)'\n"
     ]
    },
    {
     "name": "stdout",
     "output_type": "stream",
     "text": [
      "Exiting\n'posts: 8'\nPROGRESS: 23% (2723/11783)\nu'[Unholy or Frost for PVP?] (/forums/en/wow/topic/12977377820)'\n"
     ]
    },
    {
     "name": "stdout",
     "output_type": "stream",
     "text": [
      "Exiting\n'posts: 4'\nPROGRESS: 23% (2724/11783)\nu'[So where are the DW Deathknights at?] (/forums/en/wow/topic/12989418813)'\n"
     ]
    },
    {
     "name": "stdout",
     "output_type": "stream",
     "text": [
      "Exiting\n'posts: 3'\nPROGRESS: 23% (2725/11783)\nu'[Help to Unholy?] (/forums/en/wow/topic/12957536091)'\n"
     ]
    },
    {
     "name": "stdout",
     "output_type": "stream",
     "text": [
      "Exiting\n'posts: 14'\nPROGRESS: 23% (2726/11783)\nu'[A little advice?] (/forums/en/wow/topic/12957575940)'\n"
     ]
    },
    {
     "name": "stdout",
     "output_type": "stream",
     "text": [
      "Exiting\n'posts: 6'\nPROGRESS: 23% (2727/11783)\nu'[Blood Rune Tap macro.] (/forums/en/wow/topic/12977717704)'\n"
     ]
    },
    {
     "name": "stdout",
     "output_type": "stream",
     "text": [
      "Exiting\n'posts: 7'\nPROGRESS: 23% (2728/11783)\nu'[do i stay with the dk] (/forums/en/wow/topic/12844096753)'\n"
     ]
    },
    {
     "name": "stdout",
     "output_type": "stream",
     "text": [
      "Exiting\n'posts: 10'\nPROGRESS: 23% (2729/11783)\nu'[Multistrike test (BDK)] (/forums/en/wow/topic/12959066050)'\n"
     ]
    },
    {
     "name": "stdout",
     "output_type": "stream",
     "text": [
      "Exiting\n'posts: 8'\nPROGRESS: 23% (2730/11783)\nu'[100 lvl talend uh pvp confused] (/forums/en/wow/topic/12844096717)'\n"
     ]
    },
    {
     "name": "stdout",
     "output_type": "stream",
     "text": [
      "Exiting\n'posts: 7'\nPROGRESS: 23% (2731/11783)\nu'[Death Knights: Known issues and bugs.] (/forums/en/wow/topic/12957485631)'\n"
     ]
    },
    {
     "name": "stdout",
     "output_type": "stream",
     "text": [
      "Exiting\n'posts: 13'\nPROGRESS: 23% (2732/11783)\nu'[Glyph of Consecrator for Defile?] (/forums/en/wow/topic/12957585918)'\n"
     ]
    },
    {
     "name": "stdout",
     "output_type": "stream",
     "text": [
      "Exiting\n'posts: 3'\nPROGRESS: 23% (2733/11783)\nu'[Does Master Simple still work?] (/forums/en/wow/topic/12977627831)'\n"
     ]
    },
    {
     "name": "stdout",
     "output_type": "stream",
     "text": [
      "Exiting\n'posts: 4'\nPROGRESS: 23% (2734/11783)\nu'[Epic Dungeons for Frost Death Knight?] (/forums/en/wow/topic/12977177729)'\n"
     ]
    },
    {
     "name": "stdout",
     "output_type": "stream",
     "text": [
      "[Errno 10054] An existing connection was forcibly closed by the remote host\n"
     ]
    },
    {
     "name": "stdout",
     "output_type": "stream",
     "text": [
      "Exiting\n'posts: 1'\nPROGRESS: 23% (2735/11783)\nu'[Frost Vs Uh PVP As Ret/Dk/Priest] (/forums/en/wow/topic/12977617711)'\n"
     ]
    },
    {
     "name": "stdout",
     "output_type": "stream",
     "text": [
      "Exiting\n'posts: 1'\nPROGRESS: 23% (2736/11783)\nu\"[blood DK problem at CM's] (/forums/en/wow/topic/12844845814)\"\n"
     ]
    },
    {
     "name": "stdout",
     "output_type": "stream",
     "text": [
      "Exiting\n'posts: 29'\nPROGRESS: 23% (2737/11783)\nu'[How do you not get bored?] (/forums/en/wow/topic/12957535991)'\n"
     ]
    },
    {
     "name": "stdout",
     "output_type": "stream",
     "text": [
      "Exiting\n'posts: 5'\nPROGRESS: 23% (2738/11783)\nu'[New Runeforging Choice] (/forums/en/wow/topic/12957545682)'\n"
     ]
    },
    {
     "name": "stdout",
     "output_type": "stream",
     "text": [
      "[Errno 10054] An existing connection was forcibly closed by the remote host\n"
     ]
    },
    {
     "name": "stdout",
     "output_type": "stream",
     "text": [
      "Exiting\n'posts: 4'\nPROGRESS: 23% (2739/11783)\nu'[Engineering Head worth it?] (/forums/en/wow/topic/12957575829)'\n"
     ]
    },
    {
     "name": "stdout",
     "output_type": "stream",
     "text": [
      "Exiting\n'posts: 9'\nPROGRESS: 23% (2740/11783)\nu'[perma breath] (/forums/en/wow/topic/12821982156)'\n"
     ]
    },
    {
     "name": "stdout",
     "output_type": "stream",
     "text": [
      "Exiting\n'posts: 8'\nPROGRESS: 23% (2741/11783)\nu'[on pets] (/forums/en/wow/topic/12959065886)'\n"
     ]
    },
    {
     "name": "stdout",
     "output_type": "stream",
     "text": [
      "Exiting\n'posts: 1'\nPROGRESS: 23% (2742/11783)\nu'[Single target DPS] (/forums/en/wow/topic/12844146309)'\n"
     ]
    },
    {
     "name": "stdout",
     "output_type": "stream",
     "text": [
      "Exiting\n'posts: 12'\nPROGRESS: 23% (2743/11783)\nu'[Raid spot for a DK?] (/forums/en/wow/topic/12844426843)'\n"
     ]
    },
    {
     "name": "stdout",
     "output_type": "stream",
     "text": [
      "Exiting\n'posts: 11'\nPROGRESS: 23% (2744/11783)\nu'[Re-rolling to Unholy PvE - A bunch of questions!] (/forums/en/wow/topic/12844095580)'\n"
     ]
    },
    {
     "name": "stdout",
     "output_type": "stream",
     "text": [
      "Exiting\n'posts: 16'\nPROGRESS: 23% (2745/11783)\nu'[Unholy.] (/forums/en/wow/topic/12844146723)'\n"
     ]
    },
    {
     "name": "stdout",
     "output_type": "stream",
     "text": [
      "Exiting\n'posts: 6'\nPROGRESS: 23% (2746/11783)\nu'[Oops, this can be removed.] (/forums/en/wow/topic/12959025778)'\n"
     ]
    },
    {
     "name": "stdout",
     "output_type": "stream",
     "text": [
      "Exiting\n'posts: 1'\nPROGRESS: 23% (2747/11783)\nu'[Which spec should i go for?] (/forums/en/wow/topic/12844146151)'\n"
     ]
    },
    {
     "name": "stdout",
     "output_type": "stream",
     "text": [
      "Exiting\n'posts: 15'\nPROGRESS: 23% (2748/11783)\nu'[[Guide] Unholy Death Knight - Updated for Patch 6.0.3] (/forums/en/wow/topic/10831563820)'\n"
     ]
    },
    {
     "name": "stdout",
     "output_type": "stream",
     "text": [
      "Exiting\n'posts: 44'\nPROGRESS: 23% (2749/11783)\nu'[Bad rune uses] (/forums/en/wow/topic/12844094354)'\n"
     ]
    },
    {
     "name": "stdout",
     "output_type": "stream",
     "text": [
      "Exiting\n'posts: 3'\nPROGRESS: 23% (2750/11783)\n"
     ]
    },
    {
     "name": "stdout",
     "output_type": "stream",
     "text": [
      "u'[Doing more dps as frost.] (/forums/en/wow/topic/12844146619)'\n"
     ]
    },
    {
     "name": "stdout",
     "output_type": "stream",
     "text": [
      "Exiting\n'posts: 4'\nPROGRESS: 23% (2751/11783)\nu'[PVE- Frost or  unholy?] (/forums/en/wow/topic/12844694833)'\n"
     ]
    },
    {
     "name": "stdout",
     "output_type": "stream",
     "text": [
      "Exiting\n'posts: 21'\nPROGRESS: 23% (2752/11783)\nu'[Pvp frost] (/forums/en/wow/topic/12844396748)'\n"
     ]
    },
    {
     "name": "stdout",
     "output_type": "stream",
     "text": [
      "Exiting\n'posts: 1'\nPROGRESS: 23% (2753/11783)\nu'[DK Gear specs] (/forums/en/wow/topic/12844746638)'\n"
     ]
    },
    {
     "name": "stdout",
     "output_type": "stream",
     "text": [
      "Exiting\n'posts: 3'\nPROGRESS: 23% (2754/11783)\nu'[Scabbard of Kyanos Frost theorycrafting] (/forums/en/wow/topic/12844886486)'\n"
     ]
    },
    {
     "name": "stdout",
     "output_type": "stream",
     "text": [
      "Exiting\n'posts: 3'\nPROGRESS: 23% (2755/11783)\nu'[Addon for procs] (/forums/en/wow/topic/12844396696)'\n"
     ]
    },
    {
     "name": "stdout",
     "output_type": "stream",
     "text": [
      "Exiting\n'posts: 2'\nPROGRESS: 23% (2756/11783)\nu'[New Blood dk having alot of downtime] (/forums/en/wow/topic/12843946214)'\n"
     ]
    },
    {
     "name": "stdout",
     "output_type": "stream",
     "text": [
      "[Errno 10054] An existing connection was forcibly closed by the remote host\n"
     ]
    },
    {
     "name": "stdout",
     "output_type": "stream",
     "text": [
      "Exiting\n'posts: 7'\nPROGRESS: 23% (2757/11783)\nu'[I cant learn unholy rotation !!!!!] (/forums/en/wow/topic/12843946621)'\n"
     ]
    },
    {
     "name": "stdout",
     "output_type": "stream",
     "text": [
      "Exiting\n'posts: 5'\nPROGRESS: 23% (2758/11783)\nu'[Death Coil rarely failing to grant the 2 Blood Charges] (/forums/en/wow/topic/12843946177)'\n"
     ]
    },
    {
     "name": "stdout",
     "output_type": "stream",
     "text": [
      "Exiting\n'posts: 5'\nPROGRESS: 23% (2759/11783)\nu'[blood perk enhanced death coil] (/forums/en/wow/topic/12844336668)'\n"
     ]
    },
    {
     "name": "stdout",
     "output_type": "stream",
     "text": [
      "[Errno 10054] An existing connection was forcibly closed by the remote host\n"
     ]
    },
    {
     "name": "stdout",
     "output_type": "stream",
     "text": [
      "Exiting\n'posts: 1'\nPROGRESS: 23% (2760/11783)\nu'[Frost DK dps scaling issues?] (/forums/en/wow/topic/12844355119)'\n"
     ]
    },
    {
     "name": "stdout",
     "output_type": "stream",
     "text": [
      "Exiting\n'posts: 9'\nPROGRESS: 23% (2761/11783)\nu'[Frost DK Dps Help] (/forums/en/wow/topic/12844846494)'\n"
     ]
    },
    {
     "name": "stdout",
     "output_type": "stream",
     "text": [
      "Exiting\n'posts: 3'\nPROGRESS: 23% (2762/11783)\nu'[Some quick/noob questions about DK.] (/forums/en/wow/topic/12844096509)'\n"
     ]
    },
    {
     "name": "stdout",
     "output_type": "stream",
     "text": [
      "HTTPError = 404\n"
     ]
    },
    {
     "name": "stdout",
     "output_type": "stream",
     "text": [
      "Exiting\n'posts: 9'\nPROGRESS: 23% (2763/11783)\nu'[Soul Reaper against Deterrence] (/forums/en/wow/topic/12844426406)'\n"
     ]
    },
    {
     "name": "stdout",
     "output_type": "stream",
     "text": [
      "Exiting\n'posts: 3'\nPROGRESS: 23% (2764/11783)\nu'[UH pvp survivability] (/forums/en/wow/topic/12844176557)'\n"
     ]
    },
    {
     "name": "stdout",
     "output_type": "stream",
     "text": [
      "[Errno 10054] An existing connection was forcibly closed by the remote host\n"
     ]
    },
    {
     "name": "stdout",
     "output_type": "stream",
     "text": [
      "Exiting\n'posts: 4'\nPROGRESS: 23% (2765/11783)\nu'[2h frost single target rotation optimization help] (/forums/en/wow/topic/12844396592)'\n"
     ]
    },
    {
     "name": "stdout",
     "output_type": "stream",
     "text": [
      "Exiting\n'posts: 1'\nPROGRESS: 23% (2766/11783)\nu'[No brain BDK gameplay] (/forums/en/wow/topic/12844395867)'\n"
     ]
    },
    {
     "name": "stdout",
     "output_type": "stream",
     "text": [
      "Exiting\n'posts: 9'\nPROGRESS: 23% (2767/11783)\nu'[frsot dk vs healer poor ?] (/forums/en/wow/topic/12844696392)'\n"
     ]
    },
    {
     "name": "stdout",
     "output_type": "stream",
     "text": [
      "HTTPError = 404\nHTTPError = 404\n"
     ]
    },
    {
     "name": "stdout",
     "output_type": "stream",
     "text": [
      "Exiting\n'posts: 2'\nPROGRESS: 23% (2768/11783)\nu'[frost dk vs healer] (/forums/en/wow/topic/12844146399)'\n"
     ]
    },
    {
     "name": "stdout",
     "output_type": "stream",
     "text": [
      "Exiting\n'posts: 2'\nPROGRESS: 23% (2769/11783)\nu'[Ability Sequence for Unholy PvP? (Necrotic stacking)] (/forums/en/wow/topic/12844146412)'\n"
     ]
    },
    {
     "name": "stdout",
     "output_type": "stream",
     "text": [
      "Exiting\n'posts: 2'\nPROGRESS: 23% (2770/11783)\nu'[fak for sake] (/forums/en/wow/topic/12844146358)'\n"
     ]
    },
    {
     "name": "stdout",
     "output_type": "stream",
     "text": [
      "Exiting\n'posts: 3'\nPROGRESS: 23% (2771/11783)\nu'[Frost Dk & Warglaives] (/forums/en/wow/topic/12844696272)'\n"
     ]
    },
    {
     "name": "stdout",
     "output_type": "stream",
     "text": [
      "Exiting\n'posts: 5'\nPROGRESS: 23% (2772/11783)\nu'[Endless Tank-  I need help] (/forums/en/wow/topic/12844696357)'\n"
     ]
    },
    {
     "name": "stdout",
     "output_type": "stream",
     "text": [
      "[Errno 10054] An existing connection was forcibly closed by the remote host\n"
     ]
    },
    {
     "name": "stdout",
     "output_type": "stream",
     "text": [
      "Exiting\n'posts: 4'\nPROGRESS: 23% (2773/11783)\nu'[Frost DK for CM Gold?!] (/forums/en/wow/topic/12844396187)'\n"
     ]
    },
    {
     "name": "stdout",
     "output_type": "stream",
     "text": [
      "Exiting\n'posts: 9'\nPROGRESS: 23% (2774/11783)\nu'[BoS Uber-Macro] (/forums/en/wow/topic/12844145879)'\n"
     ]
    },
    {
     "name": "stdout",
     "output_type": "stream",
     "text": [
      "Exiting\n'posts: 5'\nPROGRESS: 23% (2775/11783)\nu'[UH DK PVP - Which Glyphs did you go for?] (/forums/en/wow/topic/12843946363)'\n"
     ]
    },
    {
     "name": "stdout",
     "output_type": "stream",
     "text": [
      "Exiting\n'posts: 2'\nPROGRESS: 23% (2776/11783)\nu'[Blood Death Knight tanking.] (/forums/en/wow/topic/12844696160)'\n"
     ]
    },
    {
     "name": "stdout",
     "output_type": "stream",
     "text": [
      "Exiting\n'posts: 9'\nPROGRESS: 23% (2777/11783)\nu'[DK Gear] (/forums/en/wow/topic/12844176242)'\n"
     ]
    },
    {
     "name": "stdout",
     "output_type": "stream",
     "text": [
      "Exiting\n'posts: 6'\nPROGRESS: 23% (2778/11783)\nu'[Priority stats for Uh PVP?] (/forums/en/wow/topic/12844695996)'\n"
     ]
    },
    {
     "name": "stdout",
     "output_type": "stream",
     "text": [
      "Exiting\n'posts: 8'\nPROGRESS: 23% (2779/11783)\nu'[Unholy without the pet?] (/forums/en/wow/topic/12844096172)'\n"
     ]
    },
    {
     "name": "stdout",
     "output_type": "stream",
     "text": [
      "Exiting\n'posts: 3'\nPROGRESS: 23% (2780/11783)\nu'[Remove BoS, Remove defile, tweak Ebonplague.] (/forums/en/wow/topic/12844355533)'\n"
     ]
    },
    {
     "name": "stdout",
     "output_type": "stream",
     "text": [
      "Exiting\n'posts: 6'\nPROGRESS: 23% (2781/11783)\nu'[Stables for a pale horse?] (/forums/en/wow/topic/12808621132)'\n"
     ]
    },
    {
     "name": "stdout",
     "output_type": "stream",
     "text": [
      "Exiting\n'posts: 3'\nPROGRESS: 23% (2782/11783)\nu'[Unholy PvE Talent choices] (/forums/en/wow/topic/12844426066)'\n"
     ]
    },
    {
     "name": "stdout",
     "output_type": "stream",
     "text": [
      "Exiting\n'posts: 4'\nPROGRESS: 23% (2783/11783)\nu'[I want these pet cosmetic glyphs implemented] (/forums/en/wow/topic/12844846086)'\n"
     ]
    },
    {
     "name": "stdout",
     "output_type": "stream",
     "text": [
      "[Errno 10054] An existing connection was forcibly closed by the remote host\n"
     ]
    },
    {
     "name": "stdout",
     "output_type": "stream",
     "text": [
      "Exiting\n'posts: 3'\nPROGRESS: 23% (2784/11783)\nu'[NEED HELP BADLY - Unholy] (/forums/en/wow/topic/12844395954)'\n"
     ]
    },
    {
     "name": "stdout",
     "output_type": "stream",
     "text": [
      "Exiting\n'posts: 6'\nPROGRESS: 23% (2785/11783)\nu'[Dk gargoyle glyph, yay or nay] (/forums/en/wow/topic/12844336115)'\n"
     ]
    },
    {
     "name": "stdout",
     "output_type": "stream",
     "text": [
      "Exiting\n'posts: 1'\nPROGRESS: 23% (2786/11783)\nu'[Lucid Dream is recruiting for Mythic] (/forums/en/wow/topic/12844695955)'\n"
     ]
    },
    {
     "name": "stdout",
     "output_type": "stream",
     "text": [
      "Exiting\n'posts: 4'\nPROGRESS: 23% (2787/11783)\nu'[BoS now works with Plaguebearer?] (/forums/en/wow/topic/12844095776)'\n"
     ]
    },
    {
     "name": "stdout",
     "output_type": "stream",
     "text": [
      "Exiting\n'posts: 4'\nPROGRESS: 23% (2788/11783)\nu'[Ebon Plaguebringer] (/forums/en/wow/topic/12844355913)'\n"
     ]
    },
    {
     "name": "stdout",
     "output_type": "stream",
     "text": [
      "Exiting\n'posts: 1'\nPROGRESS: 23% (2789/11783)\nu'[PvP DK nerfed (25 nov 2014 hotfix)] (/forums/en/wow/topic/12844885450)'\n"
     ]
    },
    {
     "name": "stdout",
     "output_type": "stream",
     "text": [
      "Exiting\n'posts: 24'\nPROGRESS: 23% (2790/11783)\nu'[Low Dps ? pls help] (/forums/en/wow/topic/12844695793)'\n"
     ]
    },
    {
     "name": "stdout",
     "output_type": "stream",
     "text": [
      "Exiting\n'posts: 5'\nPROGRESS: 23% (2791/11783)\nu'[Frost DK ore Unholy DK for PvP?] (/forums/en/wow/topic/12844335777)'\n"
     ]
    },
    {
     "name": "stdout",
     "output_type": "stream",
     "text": [
      "Exiting\n'posts: 8'\nPROGRESS: 23% (2792/11783)\nu'[How are dk tanks?] (/forums/en/wow/topic/12844355012)'\n"
     ]
    },
    {
     "name": "stdout",
     "output_type": "stream",
     "text": [
      "Exiting\n'posts: 10'\nPROGRESS: 23% (2793/11783)\nu'[Are DKs bursty?] (/forums/en/wow/topic/12844175869)'\n"
     ]
    },
    {
     "name": "stdout",
     "output_type": "stream",
     "text": [
      "Exiting\n'posts: 7'\nPROGRESS: 23% (2794/11783)\nu'[Stats prio for PvP] (/forums/en/wow/topic/12844145827)'\n"
     ]
    },
    {
     "name": "stdout",
     "output_type": "stream",
     "text": [
      "[Errno 10054] An existing connection was forcibly closed by the remote host\n"
     ]
    },
    {
     "name": "stdout",
     "output_type": "stream",
     "text": [
      "Exiting\n'posts: 1'\nPROGRESS: 23% (2795/11783)\nu'[Blood boil spam is killing me] (/forums/en/wow/topic/12618035511)'\n"
     ]
    },
    {
     "name": "stdout",
     "output_type": "stream",
     "text": [
      "Exiting\n'posts: 21'\nPROGRESS: 23% (2796/11783)\nu'[Glyph of suicidal grip] (/forums/en/wow/topic/12844745415)'\n"
     ]
    },
    {
     "name": "stdout",
     "output_type": "stream",
     "text": [
      "Exiting\n'posts: 7'\nPROGRESS: 23% (2797/11783)\nu'[Dwarf Death Knights?] (/forums/en/wow/topic/12844095256)'\n"
     ]
    },
    {
     "name": "stdout",
     "output_type": "stream",
     "text": [
      "Exiting\n'posts: 5'\nPROGRESS: 23% (2798/11783)\nu'[PvP Trinkets, help] (/forums/en/wow/topic/12844425792)'\n"
     ]
    },
    {
     "name": "stdout",
     "output_type": "stream",
     "text": [
      "Exiting\n'posts: 3'\nPROGRESS: 23% (2799/11783)\nu'[DK masterclass] (/forums/en/wow/topic/12844745422)'\n"
     ]
    },
    {
     "name": "stdout",
     "output_type": "stream",
     "text": [
      "Exiting\n'posts: 11'\nPROGRESS: 23% (2800/11783)\n"
     ]
    },
    {
     "name": "stdout",
     "output_type": "stream",
     "text": [
      "u\"[Fix Corpse Explosion animation (it's non-existing now)] (/forums/en/wow/topic/12844885579)\"\n"
     ]
    },
    {
     "name": "stdout",
     "output_type": "stream",
     "text": [
      "Exiting\n'posts: 4'\nPROGRESS: 23% (2801/11783)\nu'[Death Strike + Blood Shield + Resolve is out of hand.] (/forums/en/wow/topic/12844094759)'\n"
     ]
    },
    {
     "name": "stdout",
     "output_type": "stream",
     "text": [
      "Exiting\n'posts: 15'\nPROGRESS: 23% (2802/11783)\nu'[Tauren, only choice as Horde DK tank?] (/forums/en/wow/topic/12844745651)'\n"
     ]
    },
    {
     "name": "stdout",
     "output_type": "stream",
     "text": [
      "Exiting\n'posts: 5'\nPROGRESS: 23% (2803/11783)\nu\"[PVP Spec's and Experiences] (/forums/en/wow/topic/12844745705)\"\n"
     ]
    },
    {
     "name": "stdout",
     "output_type": "stream",
     "text": [
      "Exiting\n'posts: 1'\nPROGRESS: 23% (2804/11783)\nu'[Anyone got tank proving grounds gold as DK?] (/forums/en/wow/topic/12844335086)'\n"
     ]
    },
    {
     "name": "stdout",
     "output_type": "stream",
     "text": [
      "Exiting\n'posts: 10'\nPROGRESS: 23% (2805/11783)\nu'[Best spec for PvP] (/forums/en/wow/topic/12844845463)'\n"
     ]
    },
    {
     "name": "stdout",
     "output_type": "stream",
     "text": [
      "Exiting\n'posts: 8'\nPROGRESS: 23% (2806/11783)\nu'[2v2 comps] (/forums/en/wow/topic/12844425685)'\n"
     ]
    },
    {
     "name": "stdout",
     "output_type": "stream",
     "text": [
      "Exiting\n'posts: 1'\nPROGRESS: 23% (2807/11783)\nu'[Two fun specs vs. each other] (/forums/en/wow/topic/12844335731)'\n"
     ]
    },
    {
     "name": "stdout",
     "output_type": "stream",
     "text": [
      "Exiting\n'posts: 3'\nPROGRESS: 23% (2808/11783)\nu'[PvP: Dropping CC trinket non-human] (/forums/en/wow/topic/12844335598)'\n"
     ]
    },
    {
     "name": "stdout",
     "output_type": "stream",
     "text": [
      "Exiting\n'posts: 6'\nPROGRESS: 23% (2809/11783)\nu'[Breath of sindra] (/forums/en/wow/topic/12844175371)'\n"
     ]
    },
    {
     "name": "stdout",
     "output_type": "stream",
     "text": [
      "Exiting\n'posts: 3'\nPROGRESS: 23% (2810/11783)\nu'[Pets and multistrike] (/forums/en/wow/topic/12844695376)'\n"
     ]
    },
    {
     "name": "stdout",
     "output_type": "stream",
     "text": [
      "Exiting\n'posts: 2'\nPROGRESS: 23% (2811/11783)\nu'[Ebon Plaguebringer?] (/forums/en/wow/topic/12618273917)'\n"
     ]
    },
    {
     "name": "stdout",
     "output_type": "stream",
     "text": [
      "Exiting\n'posts: 7'\nPROGRESS: 23% (2812/11783)\nu'[2h frost pvp stat prio?] (/forums/en/wow/topic/12844425404)'\n"
     ]
    },
    {
     "name": "stdout",
     "output_type": "stream",
     "text": [
      "Exiting\n'posts: 6'\nPROGRESS: 23% (2813/11783)\nu'[Bosses dropping gear with crit for Blood Spec] (/forums/en/wow/topic/12843944889)'\n"
     ]
    },
    {
     "name": "stdout",
     "output_type": "stream",
     "text": [
      "Exiting\n'posts: 10'\nPROGRESS: 23% (2814/11783)\nu'[Downtime frost 2H] (/forums/en/wow/topic/12618246084)'\n"
     ]
    },
    {
     "name": "stdout",
     "output_type": "stream",
     "text": [
      "Exiting\n'posts: 8'\nPROGRESS: 23% (2815/11783)\nu'[Frost DKs viable for both PvE and PvP?] (/forums/en/wow/topic/12844845309)'\n"
     ]
    },
    {
     "name": "stdout",
     "output_type": "stream",
     "text": [
      "Exiting\n'posts: 6'\nPROGRESS: 23% (2816/11783)\nu'[Professions?] (/forums/en/wow/topic/12843945327)'\n"
     ]
    },
    {
     "name": "stdout",
     "output_type": "stream",
     "text": [
      "Exiting\n'posts: 7'\nPROGRESS: 23% (2817/11783)\nu'[Another downside of using Necrotic Plague (PvE / PvP)] (/forums/en/wow/topic/12843945096)'\n"
     ]
    },
    {
     "name": "stdout",
     "output_type": "stream",
     "text": [
      "Exiting\n'posts: 6'\nPROGRESS: 23% (2818/11783)\nu'[PvP Help] (/forums/en/wow/topic/12844175311)'\n"
     ]
    },
    {
     "name": "stdout",
     "output_type": "stream",
     "text": [
      "Exiting\n'posts: 3'\nPROGRESS: 23% (2819/11783)\nu'[Necrotic Plague VS Regular dots : Simulation] (/forums/en/wow/topic/12844145104)'\n"
     ]
    },
    {
     "name": "stdout",
     "output_type": "stream",
     "text": [
      "Exiting\n'posts: 11'\nPROGRESS: 23% (2820/11783)\nu'[Unholy healing] (/forums/en/wow/topic/12843944707)'\n"
     ]
    },
    {
     "name": "stdout",
     "output_type": "stream",
     "text": [
      "Exiting\n'posts: 10'\nPROGRESS: 23% (2821/11783)\nu'[DK defensive] (/forums/en/wow/topic/12843944391)'\n"
     ]
    },
    {
     "name": "stdout",
     "output_type": "stream",
     "text": [
      "Exiting\n'posts: 4'\nPROGRESS: 23% (2822/11783)\nu'[ICC 25 Hc] (/forums/en/wow/topic/12844355169)'\n"
     ]
    },
    {
     "name": "stdout",
     "output_type": "stream",
     "text": [
      "Exiting\n'posts: 5'\nPROGRESS: 23% (2823/11783)\nu'[Need som pointers about tanking.] (/forums/en/wow/topic/12844175040)'\n"
     ]
    },
    {
     "name": "stdout",
     "output_type": "stream",
     "text": [
      "Exiting\n'posts: 6'\nPROGRESS: 23% (2824/11783)\nu'[Unholy PvE damage Help] (/forums/en/wow/topic/12844695070)'\n"
     ]
    },
    {
     "name": "stdout",
     "output_type": "stream",
     "text": [
      "Exiting\n'posts: 5'\nPROGRESS: 23% (2825/11783)\nu'[Best lvl 100 talent PvP?] (/forums/en/wow/topic/12618125685)'\n"
     ]
    },
    {
     "name": "stdout",
     "output_type": "stream",
     "text": [
      "Exiting\n'posts: 16'\nPROGRESS: 23% (2826/11783)\nu'[Feedback] (/forums/en/wow/topic/12844174930)'\n"
     ]
    },
    {
     "name": "stdout",
     "output_type": "stream",
     "text": [
      "Exiting\n'posts: 2'\nPROGRESS: 23% (2827/11783)\nu'[Ability Cooldown VS Rune Cooldown.] (/forums/en/wow/topic/12844694951)'\nHTTPError = 404\n"
     ]
    },
    {
     "name": "stdout",
     "output_type": "stream",
     "text": [
      "Exiting\n'posts: 2'\nPROGRESS: 24% (2828/11783)\nu'[Blood runes] (/forums/en/wow/topic/12844425082)'\n"
     ]
    },
    {
     "name": "stdout",
     "output_type": "stream",
     "text": [
      "Exiting\n'posts: 2'\nPROGRESS: 24% (2829/11783)\nu'[Challenge mode] (/forums/en/wow/topic/12844695050)'\n"
     ]
    },
    {
     "name": "stdout",
     "output_type": "stream",
     "text": [
      "Exiting\n'posts: 5'\nPROGRESS: 24% (2830/11783)\nu'[Gearing with the assigned loot system.] (/forums/en/wow/topic/12843944830)'\n"
     ]
    },
    {
     "name": "stdout",
     "output_type": "stream",
     "text": [
      "Exiting\n'posts: 6'\nPROGRESS: 24% (2831/11783)\nu'[Frost Vs Uh Dk Pvp In Wod] (/forums/en/wow/topic/10368038909)'\n"
     ]
    },
    {
     "name": "stdout",
     "output_type": "stream",
     "text": [
      "Exiting\n'posts: 42'\nPROGRESS: 24% (2832/11783)\nu'[Unholy Spec Lvl 100 Skill, which should I take] (/forums/en/wow/topic/12828593088)'\n"
     ]
    },
    {
     "name": "stdout",
     "output_type": "stream",
     "text": [
      "Exiting\n'posts: 13'\nPROGRESS: 24% (2833/11783)\nu'[dk blood] (/forums/en/wow/topic/12821942726)'\n"
     ]
    },
    {
     "name": "stdout",
     "output_type": "stream",
     "text": [
      "Exiting\n'posts: 11'\nPROGRESS: 24% (2834/11783)\nu'[rune tap aura] (/forums/en/wow/topic/12844744994)'\n"
     ]
    },
    {
     "name": "stdout",
     "output_type": "stream",
     "text": [
      "[Errno 10054] An existing connection was forcibly closed by the remote host\n"
     ]
    },
    {
     "name": "stdout",
     "output_type": "stream",
     "text": [
      "Exiting\n'posts: 1'\nPROGRESS: 24% (2835/11783)\nu'[Mastery or Multistrike for blood?] (/forums/en/wow/topic/12844174901)'\n"
     ]
    },
    {
     "name": "stdout",
     "output_type": "stream",
     "text": [
      "Exiting\n'posts: 2'\nPROGRESS: 24% (2836/11783)\nu'[What spec to solo lich king on 25 hc?] (/forums/en/wow/topic/12822492689)'\n"
     ]
    },
    {
     "name": "stdout",
     "output_type": "stream",
     "text": [
      "Exiting\n'posts: 9'\nPROGRESS: 24% (2837/11783)\nu\"[I love dk's now] (/forums/en/wow/topic/12844744865)\"\n"
     ]
    },
    {
     "name": "stdout",
     "output_type": "stream",
     "text": [
      "Exiting\n'posts: 3'\nPROGRESS: 24% (2838/11783)\nu'[Defile] (/forums/en/wow/topic/12844334885)'\n"
     ]
    },
    {
     "name": "stdout",
     "output_type": "stream",
     "text": [
      "Exiting\n'posts: 4'\nPROGRESS: 24% (2839/11783)\nu'[Soul Reaper] (/forums/en/wow/topic/12843944518)'\n"
     ]
    },
    {
     "name": "stdout",
     "output_type": "stream",
     "text": [
      "Exiting\n'posts: 10'\nPROGRESS: 24% (2840/11783)\nu'[Helmet from Ragnaros is useless for Unholy] (/forums/en/wow/topic/12844094669)'\n"
     ]
    },
    {
     "name": "stdout",
     "output_type": "stream",
     "text": [
      "[Errno 10054] An existing connection was forcibly closed by the remote host\n"
     ]
    },
    {
     "name": "stdout",
     "output_type": "stream",
     "text": [
      "Exiting\n'posts: 5'\nPROGRESS: 24% (2841/11783)\nu'[Dreadplate / Plate pvp gear] (/forums/en/wow/topic/12844144352)'\n"
     ]
    },
    {
     "name": "stdout",
     "output_type": "stream",
     "text": [
      "Exiting\n'posts: 3'\nPROGRESS: 24% (2842/11783)\nu'[The new Lich Kings!] (/forums/en/wow/topic/12822562198)'\n"
     ]
    },
    {
     "name": "stdout",
     "output_type": "stream",
     "text": [
      "Exiting\n'posts: 19'\nPROGRESS: 24% (2843/11783)\nu'[question for questing.] (/forums/en/wow/topic/12844094604)'\n"
     ]
    },
    {
     "name": "stdout",
     "output_type": "stream",
     "text": [
      "Exiting\n'posts: 8'\nPROGRESS: 24% (2844/11783)\nu'[blood tap] (/forums/en/wow/topic/12844884469)'\n"
     ]
    },
    {
     "name": "stdout",
     "output_type": "stream",
     "text": [
      "Exiting\n'posts: 6'\nPROGRESS: 24% (2845/11783)\nu'[Death pact or Death Siphon?] (/forums/en/wow/topic/12844334612)'\n"
     ]
    },
    {
     "name": "stdout",
     "output_type": "stream",
     "text": [
      "Exiting\n'posts: 5'\nPROGRESS: 24% (2846/11783)\nu'[Icc 25 hc] (/forums/en/wow/topic/12822492744)'\n"
     ]
    },
    {
     "name": "stdout",
     "output_type": "stream",
     "text": [
      "Exiting\n'posts: 11'\nPROGRESS: 24% (2847/11783)\nu'[blood dk = epic joke dmg bg ?] (/forums/en/wow/topic/12822382370)'\n"
     ]
    },
    {
     "name": "stdout",
     "output_type": "stream",
     "text": [
      "Exiting\n'posts: 6'\nPROGRESS: 24% (2848/11783)\nu'[My 2H Frost.  Not optimal, but a lot of fun!] (/forums/en/wow/topic/12844844490)'\n"
     ]
    },
    {
     "name": "stdout",
     "output_type": "stream",
     "text": [
      "Exiting\n'posts: 2'\nPROGRESS: 24% (2849/11783)\nu'[Blood Dk pls need some help] (/forums/en/wow/topic/12821982633)'\n"
     ]
    },
    {
     "name": "stdout",
     "output_type": "stream",
     "text": [
      "Exiting\n'posts: 2'\nPROGRESS: 24% (2850/11783)\n"
     ]
    },
    {
     "name": "stdout",
     "output_type": "stream",
     "text": [
      "u'[RiP double grip - it will be missed ;_;] (/forums/en/wow/topic/12828593069)'\n"
     ]
    },
    {
     "name": "stdout",
     "output_type": "stream",
     "text": [
      "[Errno 10054] An existing connection was forcibly closed by the remote host\n"
     ]
    },
    {
     "name": "stdout",
     "output_type": "stream",
     "text": [
      "Exiting\n'posts: 8'\nPROGRESS: 24% (2851/11783)\nu'[Getting a blood rune] (/forums/en/wow/topic/12844394389)'\n"
     ]
    },
    {
     "name": "stdout",
     "output_type": "stream",
     "text": [
      "Exiting\n'posts: 1'\nPROGRESS: 24% (2852/11783)\nu'[Level 100 talent - PvP useless?] (/forums/en/wow/topic/12822112199)'\n"
     ]
    },
    {
     "name": "stdout",
     "output_type": "stream",
     "text": [
      "Exiting\n'posts: 13'\nPROGRESS: 24% (2853/11783)\nu'[pvp gear] (/forums/en/wow/topic/12844174336)'\n"
     ]
    },
    {
     "name": "stdout",
     "output_type": "stream",
     "text": [
      "Exiting\n'posts: 1'\nPROGRESS: 24% (2854/11783)\nu'[will dw frost be viable at some point?] (/forums/en/wow/topic/12822302686)'\n"
     ]
    },
    {
     "name": "stdout",
     "output_type": "stream",
     "text": [
      "HTTPError = 404\n"
     ]
    },
    {
     "name": "stdout",
     "output_type": "stream",
     "text": [
      "Exiting\n'posts: 3'\nPROGRESS: 24% (2855/11783)\nu'[What DPS should i be aiming for on the Dummie?] (/forums/en/wow/topic/12822542695)'\n"
     ]
    },
    {
     "name": "stdout",
     "output_type": "stream",
     "text": [
      "Exiting\n'posts: 2'\nPROGRESS: 24% (2856/11783)\nu'[Purgatory fix?] (/forums/en/wow/topic/12618443398)'\n"
     ]
    },
    {
     "name": "stdout",
     "output_type": "stream",
     "text": [
      "[Errno 10054] An existing connection was forcibly closed by the remote host\n"
     ]
    },
    {
     "name": "stdout",
     "output_type": "stream",
     "text": [
      "Exiting\n'posts: 6'\nPROGRESS: 24% (2857/11783)\nu'[DK DPS in WoD] (/forums/en/wow/topic/12618443655)'\n"
     ]
    },
    {
     "name": "stdout",
     "output_type": "stream",
     "text": [
      "HTTPError = 404\nHTTPError = 404\n"
     ]
    },
    {
     "name": "stdout",
     "output_type": "stream",
     "text": [
      "Exiting\n'posts: 16'\nPROGRESS: 24% (2858/11783)\nu'[Runeforges] (/forums/en/wow/topic/12822302198)'\n"
     ]
    },
    {
     "name": "stdout",
     "output_type": "stream",
     "text": [
      "Exiting\n'posts: 5'\nPROGRESS: 24% (2859/11783)\nu'[UH pvp stat prio - WoD] (/forums/en/wow/topic/12821942211)'\n"
     ]
    },
    {
     "name": "stdout",
     "output_type": "stream",
     "text": [
      "Exiting\n'posts: 5'\nPROGRESS: 24% (2860/11783)\nu'[Necrotic Plague, yay or nay?] (/forums/en/wow/topic/12618276200)'\n"
     ]
    },
    {
     "name": "stdout",
     "output_type": "stream",
     "text": [
      "Exiting\n'posts: 12'\nPROGRESS: 24% (2861/11783)\nu'[Trouble Tanking. please help.] (/forums/en/wow/topic/12821982098)'\n"
     ]
    },
    {
     "name": "stdout",
     "output_type": "stream",
     "text": [
      "Exiting\n'posts: 8'\nPROGRESS: 24% (2862/11783)\nu'[DK for a casual WoW gamer?] (/forums/en/wow/topic/12821982177)'\n"
     ]
    },
    {
     "name": "stdout",
     "output_type": "stream",
     "text": [
      "Exiting\n'posts: 6'\nPROGRESS: 24% (2863/11783)\nu'[Frost DK PvP - 2hander or 1hander?] (/forums/en/wow/topic/12822562364)'\n"
     ]
    },
    {
     "name": "stdout",
     "output_type": "stream",
     "text": [
      "Exiting\n'posts: 7'\nPROGRESS: 24% (2864/11783)\nu'[Best spec for PvP.] (/forums/en/wow/topic/12618566065)'\n"
     ]
    },
    {
     "name": "stdout",
     "output_type": "stream",
     "text": [
      "Exiting\n'posts: 12'\nPROGRESS: 24% (2865/11783)\nu'[Ze tank] (/forums/en/wow/topic/12822562309)'\n"
     ]
    },
    {
     "name": "stdout",
     "output_type": "stream",
     "text": [
      "[Errno 10054] An existing connection was forcibly closed by the remote host\n"
     ]
    },
    {
     "name": "stdout",
     "output_type": "stream",
     "text": [
      "[Errno 10054] An existing connection was forcibly closed by the remote host\n"
     ]
    },
    {
     "name": "stdout",
     "output_type": "stream",
     "text": [
      "Exiting\n'posts: 3'\nPROGRESS: 24% (2866/11783)\nu'[Rate my mog v420] (/forums/en/wow/topic/12822542265)'\n"
     ]
    },
    {
     "name": "stdout",
     "output_type": "stream",
     "text": [
      "Exiting\n'posts: 1'\nPROGRESS: 24% (2867/11783)\nu'[Unholy stats. Is the Gargoyle and ghoul included?] (/forums/en/wow/topic/12822402261)'\n"
     ]
    },
    {
     "name": "stdout",
     "output_type": "stream",
     "text": [
      "Exiting\n'posts: 1'\nPROGRESS: 24% (2868/11783)\nu\"[DK's crap/broken?] (/forums/en/wow/topic/12808391094)\"\n"
     ]
    },
    {
     "name": "stdout",
     "output_type": "stream",
     "text": [
      "Exiting\n'posts: 5'\nPROGRESS: 24% (2869/11783)\nu'[Frost dk haste passive 5% ?] (/forums/en/wow/topic/12618565807)'\n"
     ]
    },
    {
     "name": "stdout",
     "output_type": "stream",
     "text": [
      "HTTPError = 404\n"
     ]
    },
    {
     "name": "stdout",
     "output_type": "stream",
     "text": [
      "Exiting\n'posts: 15'\nPROGRESS: 24% (2870/11783)\nu\"[DK's crap/broken?] (/forums/en/wow/topic/12808271037)\"\n"
     ]
    },
    {
     "name": "stdout",
     "output_type": "stream",
     "text": [
      "[Errno 10054] An existing connection was forcibly closed by the remote host\n"
     ]
    },
    {
     "name": "stdout",
     "output_type": "stream",
     "text": [
      "Exiting\n'posts: 5'\nPROGRESS: 24% (2871/11783)\nu'[Multistrike vs mastery as 2h frost] (/forums/en/wow/topic/12808971027)'\n"
     ]
    },
    {
     "name": "stdout",
     "output_type": "stream",
     "text": [
      "HTTPError = 404\n"
     ]
    },
    {
     "name": "stdout",
     "output_type": "stream",
     "text": [
      "Exiting\n'posts: 3'\nPROGRESS: 24% (2872/11783)\nu'[DK on Warlords of Draenor] (/forums/en/wow/topic/12618185579)'\n"
     ]
    },
    {
     "name": "stdout",
     "output_type": "stream",
     "text": [
      "Exiting\n'posts: 3'\nPROGRESS: 24% (2873/11783)\nu'[Leech vs Warforged & General Items upgrades post] (/forums/en/wow/topic/12808971022)'\n"
     ]
    },
    {
     "name": "stdout",
     "output_type": "stream",
     "text": [
      "Exiting\n'posts: 2'\nPROGRESS: 24% (2874/11783)\nu'[New DK 6.0.3] (/forums/en/wow/topic/12618406150)'\n"
     ]
    },
    {
     "name": "stdout",
     "output_type": "stream",
     "text": [
      "Exiting\n'posts: 6'\nPROGRESS: 24% (2875/11783)\nu'[Necrotic Plague: How does it work?] (/forums/en/wow/topic/12439484228)'\n"
     ]
    },
    {
     "name": "stdout",
     "output_type": "stream",
     "text": [
      "Exiting\n'posts: 3'\nPROGRESS: 24% (2876/11783)\nu'[blood DK pull sequence?] (/forums/en/wow/topic/12618405993)'\n"
     ]
    },
    {
     "name": "stdout",
     "output_type": "stream",
     "text": [
      "Exiting\n'posts: 8'\nPROGRESS: 24% (2877/11783)\nu'[Warlords s1 PvP trinkets] (/forums/en/wow/topic/12808620965)'\n"
     ]
    },
    {
     "name": "stdout",
     "output_type": "stream",
     "text": [
      "[Errno 10054] An existing connection was forcibly closed by the remote host\n"
     ]
    },
    {
     "name": "stdout",
     "output_type": "stream",
     "text": [
      "[Errno 10054] An existing connection was forcibly closed by the remote host\n"
     ]
    },
    {
     "name": "stdout",
     "output_type": "stream",
     "text": [
      "Exiting\n'posts: 3'\nPROGRESS: 24% (2878/11783)\nu'[nerf defile and or unholy mastery...] (/forums/en/wow/topic/12808610759)'\n"
     ]
    },
    {
     "name": "stdout",
     "output_type": "stream",
     "text": [
      "HTTPError = 404\n"
     ]
    },
    {
     "name": "stdout",
     "output_type": "stream",
     "text": [
      "[Errno 10054] An existing connection was forcibly closed by the remote host\n"
     ]
    },
    {
     "name": "stdout",
     "output_type": "stream",
     "text": [
      "Exiting\n'posts: 4'\nPROGRESS: 24% (2879/11783)\nu'[What spec for leveling 90-100?] (/forums/en/wow/topic/12618563815)'\n"
     ]
    },
    {
     "name": "stdout",
     "output_type": "stream",
     "text": [
      "Exiting\n'posts: 18'\nPROGRESS: 24% (2880/11783)\nu'[DK Blood \"true\" stat priority?] (/forums/en/wow/topic/12618076279)'\n"
     ]
    },
    {
     "name": "stdout",
     "output_type": "stream",
     "text": [
      "Exiting\n'posts: 5'\nPROGRESS: 24% (2881/11783)\nu'[Shadow of Death Bugged?] (/forums/en/wow/topic/12808580774)'\n"
     ]
    },
    {
     "name": "stdout",
     "output_type": "stream",
     "text": [
      "Exiting\n'posts: 1'\nPROGRESS: 24% (2882/11783)\nu'[State of UH DK while lvling in WoD - Your thoughts?] (/forums/en/wow/topic/12618235794)'\n"
     ]
    },
    {
     "name": "stdout",
     "output_type": "stream",
     "text": [
      "Exiting\n'posts: 3'\nPROGRESS: 24% (2883/11783)\nu'[Created dk with level 90 boost and am need of help.] (/forums/en/wow/topic/12617765709)'\n"
     ]
    },
    {
     "name": "stdout",
     "output_type": "stream",
     "text": [
      "Exiting\n'posts: 7'\nPROGRESS: 24% (2884/11783)\nu'[Improved DG: The penny drops] (/forums/en/wow/topic/12618566154)'\n"
     ]
    },
    {
     "name": "stdout",
     "output_type": "stream",
     "text": [
      "Exiting\n'posts: 2'\nPROGRESS: 24% (2885/11783)\nu'[Frost VS UH + Stat Prios at 100?] (/forums/en/wow/topic/12618035947)'\n"
     ]
    },
    {
     "name": "stdout",
     "output_type": "stream",
     "text": [
      "Exiting\n'posts: 4'\nPROGRESS: 24% (2886/11783)\nu'[Frost 2h VS Unholy] (/forums/en/wow/topic/12618125878)'\n"
     ]
    },
    {
     "name": "stdout",
     "output_type": "stream",
     "text": [
      "Exiting\n'posts: 3'\nPROGRESS: 24% (2887/11783)\nu'[Feedback: Crimson Scourge proc no longer interesting.] (/forums/en/wow/topic/12618125595)'\n"
     ]
    },
    {
     "name": "stdout",
     "output_type": "stream",
     "text": [
      "Exiting\n'posts: 5'\nPROGRESS: 24% (2888/11783)\nu'[Blood world PvP Too Strong.] (/forums/en/wow/topic/12618403669)'\n"
     ]
    },
    {
     "name": "stdout",
     "output_type": "stream",
     "text": [
      "Exiting\n'posts: 20'\nPROGRESS: 24% (2889/11783)\nu'[NP now deals 20% more damage] (/forums/en/wow/topic/12617604628)'\n"
     ]
    },
    {
     "name": "stdout",
     "output_type": "stream",
     "text": [
      "Exiting\n'posts: 18'\nPROGRESS: 24% (2890/11783)\nu\"[Queue's and lag are insane. Here's what will fix it.] (/forums/en/wow/topic/12618275683)\"\n"
     ]
    },
    {
     "name": "stdout",
     "output_type": "stream",
     "text": [
      "Exiting\n'posts: 2'\nPROGRESS: 24% (2891/11783)\nu'[Plaguebearer: Useless?] (/forums/en/wow/topic/12618564868)'\n"
     ]
    },
    {
     "name": "stdout",
     "output_type": "stream",
     "text": [
      "Exiting\n'posts: 7'\nPROGRESS: 24% (2892/11783)\nu'[BloodBoil always transfers the death rune to Blood rune] (/forums/en/wow/topic/12618235219)'\n"
     ]
    },
    {
     "name": "stdout",
     "output_type": "stream",
     "text": [
      "HTTPError = 404\n"
     ]
    },
    {
     "name": "stdout",
     "output_type": "stream",
     "text": [
      "Exiting\n'posts: 2'\nPROGRESS: 24% (2893/11783)\nu'[Blood DK vs. Spine of Deathwing] (/forums/en/wow/topic/12618243517)'\n"
     ]
    },
    {
     "name": "stdout",
     "output_type": "stream",
     "text": [
      "Exiting\n'posts: 13'\nPROGRESS: 24% (2894/11783)\nu'[Hello] (/forums/en/wow/topic/12618443418)'\n"
     ]
    },
    {
     "name": "stdout",
     "output_type": "stream",
     "text": [
      "Exiting\n'posts: 11'\nPROGRESS: 24% (2895/11783)\nu'[What are Dks like] (/forums/en/wow/topic/12618033875)'\n"
     ]
    },
    {
     "name": "stdout",
     "output_type": "stream",
     "text": [
      "Exiting\n'posts: 7'\nPROGRESS: 24% (2896/11783)\nu'[Dk talents are not viable.] (/forums/en/wow/topic/12618563481)'\n"
     ]
    },
    {
     "name": "stdout",
     "output_type": "stream",
     "text": [
      "HTTPError = 404\n"
     ]
    },
    {
     "name": "stdout",
     "output_type": "stream",
     "text": [
      "Exiting\n'posts: 38'\nPROGRESS: 24% (2897/11783)\nu'[If hunters can, why cant we?] (/forums/en/wow/topic/12618034455)'\n"
     ]
    },
    {
     "name": "stdout",
     "output_type": "stream",
     "text": [
      "[Errno 10054] An existing connection was forcibly closed by the remote host\n"
     ]
    },
    {
     "name": "stdout",
     "output_type": "stream",
     "text": [
      "Exiting\n'posts: 9'\nPROGRESS: 24% (2898/11783)\nu'[So what do you think now?!] (/forums/en/wow/topic/12618074696)'\n"
     ]
    },
    {
     "name": "stdout",
     "output_type": "stream",
     "text": [
      "Exiting\n'posts: 1'\nPROGRESS: 24% (2899/11783)\nu\"[Can't decide between UH/Frost] (/forums/en/wow/topic/12618033527)\"\n"
     ]
    },
    {
     "name": "stdout",
     "output_type": "stream",
     "text": [
      "Exiting\n'posts: 22'\nPROGRESS: 24% (2900/11783)\n"
     ]
    },
    {
     "name": "stdout",
     "output_type": "stream",
     "text": [
      "u'[DK Solo Set-up] (/forums/en/wow/topic/12618444105)'\n"
     ]
    },
    {
     "name": "stdout",
     "output_type": "stream",
     "text": [
      "[Errno 10054] An existing connection was forcibly closed by the remote host\n"
     ]
    },
    {
     "name": "stdout",
     "output_type": "stream",
     "text": [
      "[Errno 10054] An existing connection was forcibly closed by the remote host\n"
     ]
    },
    {
     "name": "stdout",
     "output_type": "stream",
     "text": [
      "Exiting\n'posts: 2'\nPROGRESS: 24% (2901/11783)\nu'[warrior mog without the glowing eyes] (/forums/en/wow/topic/12618123650)'\n"
     ]
    },
    {
     "name": "stdout",
     "output_type": "stream",
     "text": [
      "Exiting\n'posts: 3'\nPROGRESS: 24% (2902/11783)\nu'[necrotic strike gone ? :o] (/forums/en/wow/topic/12618073135)'\n"
     ]
    },
    {
     "name": "stdout",
     "output_type": "stream",
     "text": [
      "Exiting\n'posts: 9'\nPROGRESS: 24% (2903/11783)\nu'[Bug: Death Siphon] (/forums/en/wow/topic/12618073463)'\nHTTPError = 404\n"
     ]
    },
    {
     "name": "stdout",
     "output_type": "stream",
     "text": [
      "Exiting\n'posts: 8'\nPROGRESS: 24% (2904/11783)\nu'[DK talent tree, a joke for PvE DPS?] (/forums/en/wow/topic/12618563598)'\n"
     ]
    },
    {
     "name": "stdout",
     "output_type": "stream",
     "text": [
      "Exiting\n'posts: 9'\nPROGRESS: 24% (2905/11783)\nu'[New to DK, what spec ?] (/forums/en/wow/topic/12618243686)'\n"
     ]
    },
    {
     "name": "stdout",
     "output_type": "stream",
     "text": [
      "Exiting\n'posts: 6'\nPROGRESS: 24% (2906/11783)\nu'[Sindragosa, Dustwallow Marsh, weapon damage DK cracks.] (/forums/en/wow/topic/12618033175)'\n"
     ]
    },
    {
     "name": "stdout",
     "output_type": "stream",
     "text": [
      "Exiting\n'posts: 9'\nPROGRESS: 24% (2907/11783)\nu'[frost slower now?] (/forums/en/wow/topic/12618033014)'\n"
     ]
    },
    {
     "name": "stdout",
     "output_type": "stream",
     "text": [
      "[Errno 10054] An existing connection was forcibly closed by the remote host\n"
     ]
    },
    {
     "name": "stdout",
     "output_type": "stream",
     "text": [
      "Exiting\n'posts: 3'\nPROGRESS: 24% (2908/11783)\nu'[looking for help.] (/forums/en/wow/topic/12618123489)'\n"
     ]
    },
    {
     "name": "stdout",
     "output_type": "stream",
     "text": [
      "Exiting\n'posts: 5'\nPROGRESS: 24% (2909/11783)\nu'[Choosing WoD Main] (/forums/en/wow/topic/12618273494)'\n"
     ]
    },
    {
     "name": "stdout",
     "output_type": "stream",
     "text": [
      "Exiting\n'posts: 7'\nPROGRESS: 24% (2910/11783)\nu'[DK tanks nerfed] (/forums/en/wow/topic/12618442641)'\n"
     ]
    },
    {
     "name": "stdout",
     "output_type": "stream",
     "text": [
      "[Errno 10054] An existing connection was forcibly closed by the remote host\n"
     ]
    },
    {
     "name": "stdout",
     "output_type": "stream",
     "text": [
      "HTTPError = 404\n"
     ]
    },
    {
     "name": "stdout",
     "output_type": "stream",
     "text": [
      "Exiting\n'posts: 119'\nPROGRESS: 24% (2911/11783)\nu'[Unholdy DK WoD PvE?] (/forums/en/wow/topic/12618403465)'\n"
     ]
    },
    {
     "name": "stdout",
     "output_type": "stream",
     "text": [
      "Exiting\n'posts: 5'\nPROGRESS: 24% (2912/11783)\nu'[How many enemies do I use Blood Boil at?] (/forums/en/wow/topic/12617763045)'\n"
     ]
    },
    {
     "name": "stdout",
     "output_type": "stream",
     "text": [
      "Exiting\n'posts: 3'\nPROGRESS: 24% (2913/11783)\nu'[Corpse Explosion] (/forums/en/wow/topic/12618232720)'\n"
     ]
    },
    {
     "name": "stdout",
     "output_type": "stream",
     "text": [
      "Exiting\n'posts: 5'\nPROGRESS: 24% (2914/11783)\nu'[I want a special quest too as a hero class!] (/forums/en/wow/topic/12618443110)'\n"
     ]
    },
    {
     "name": "stdout",
     "output_type": "stream",
     "text": [
      "Exiting\n'posts: 12'\nPROGRESS: 24% (2915/11783)\nu'[Unholy Necrotic Plague PvP] (/forums/en/wow/topic/12618033020)'\n"
     ]
    },
    {
     "name": "stdout",
     "output_type": "stream",
     "text": [
      "Exiting\n'posts: 3'\nPROGRESS: 24% (2916/11783)\nu\"[Anti - Magic Zone ? It's just standing there...] (/forums/en/wow/topic/12618233199)\"\n"
     ]
    },
    {
     "name": "stdout",
     "output_type": "stream",
     "text": [
      "Exiting\n'posts: 4'\nPROGRESS: 24% (2917/11783)\nu'[So Beta is over and...] (/forums/en/wow/topic/12618443367)'\n"
     ]
    },
    {
     "name": "stdout",
     "output_type": "stream",
     "text": [
      "[Errno 10054] An existing connection was forcibly closed by the remote host\n"
     ]
    },
    {
     "name": "stdout",
     "output_type": "stream",
     "text": [
      "Exiting\n'posts: 1'\nPROGRESS: 24% (2918/11783)\nu'[cheesing mechanics with AMS] (/forums/en/wow/topic/12618443229)'\n"
     ]
    },
    {
     "name": "stdout",
     "output_type": "stream",
     "text": [
      "Exiting\n'posts: 5'\nPROGRESS: 24% (2919/11783)\nu'[Dk 6.0.3 nerfed] (/forums/en/wow/topic/12533374631)'\n"
     ]
    },
    {
     "name": "stdout",
     "output_type": "stream",
     "text": [
      "HTTPError = 404\n"
     ]
    },
    {
     "name": "stdout",
     "output_type": "stream",
     "text": [
      "[Errno 10054] An existing connection was forcibly closed by the remote host\n"
     ]
    },
    {
     "name": "stdout",
     "output_type": "stream",
     "text": [
      "Exiting\n'posts: 12'\nPROGRESS: 24% (2920/11783)\nu'[Confused About DPS - Unholy] (/forums/en/wow/topic/12618032673)'\n"
     ]
    },
    {
     "name": "stdout",
     "output_type": "stream",
     "text": [
      "Exiting\n'posts: 20'\nPROGRESS: 24% (2921/11783)\nu'[DK TANK NERFED WHY ?] (/forums/en/wow/topic/12618032476)'\n"
     ]
    },
    {
     "name": "stdout",
     "output_type": "stream",
     "text": [
      "HTTPError = 404\n"
     ]
    },
    {
     "name": "stdout",
     "output_type": "stream",
     "text": [
      "Exiting\n'posts: 22'\nPROGRESS: 24% (2922/11783)\nu'[Soul reaper PvP Damage] (/forums/en/wow/topic/12618072294)'\n"
     ]
    },
    {
     "name": "stdout",
     "output_type": "stream",
     "text": [
      "Exiting\n'posts: 7'\nPROGRESS: 24% (2923/11783)\nu\"[30 Blood DK's vs SoO ( Heroic ) today !!] (/forums/en/wow/topic/12618072958)\"\n"
     ]
    },
    {
     "name": "stdout",
     "output_type": "stream",
     "text": [
      "Exiting\n'posts: 3'\nPROGRESS: 24% (2924/11783)\nu'[Dark simulacrum in SoO] (/forums/en/wow/topic/12618072464)'\n"
     ]
    },
    {
     "name": "stdout",
     "output_type": "stream",
     "text": [
      "[Errno 10054] An existing connection was forcibly closed by the remote host\n"
     ]
    },
    {
     "name": "stdout",
     "output_type": "stream",
     "text": [
      "Exiting\n'posts: 8'\nPROGRESS: 24% (2925/11783)\nu'[Is the Death Knight underpowered ?] (/forums/en/wow/topic/12618072070)'\n"
     ]
    },
    {
     "name": "stdout",
     "output_type": "stream",
     "text": [
      "Exiting\n'posts: 19'\nPROGRESS: 24% (2926/11783)\nu'[Need help - new to death knight] (/forums/en/wow/topic/12618232073)'\nHTTPError = 404\n"
     ]
    },
    {
     "name": "stdout",
     "output_type": "stream",
     "text": [
      "Exiting\n'posts: 6'\nPROGRESS: 24% (2927/11783)\nu\"[can't IBS out of stuns] (/forums/en/wow/topic/12618561876)\"\n"
     ]
    },
    {
     "name": "stdout",
     "output_type": "stream",
     "text": [
      "Exiting\n'posts: 8'\nPROGRESS: 24% (2928/11783)\nu'[Frost DK-DW or 2h?] (/forums/en/wow/topic/12618032911)'\nHTTPError = 404\n"
     ]
    },
    {
     "name": "stdout",
     "output_type": "stream",
     "text": [
      "Exiting\n'posts: 3'\nPROGRESS: 24% (2929/11783)\nu'[20 DKS vs SOO Mythic FULL clear. Garrosh from 1st pull] (/forums/en/wow/topic/12618122859)'\nHTTPError = 404\n"
     ]
    },
    {
     "name": "stdout",
     "output_type": "stream",
     "text": [
      "Exiting\n'posts: 1'\nPROGRESS: 24% (2930/11783)\nu'[Blood feels unplayable to me] (/forums/en/wow/topic/12523922351)'\n"
     ]
    },
    {
     "name": "stdout",
     "output_type": "stream",
     "text": [
      "[Errno 10054] An existing connection was forcibly closed by the remote host\n"
     ]
    },
    {
     "name": "stdout",
     "output_type": "stream",
     "text": [
      "Exiting\n'posts: 12'\nPROGRESS: 24% (2931/11783)\nu'[Blood DK magic damage intake scaling bug?] (/forums/en/wow/topic/12618232503)'\n"
     ]
    },
    {
     "name": "stdout",
     "output_type": "stream",
     "text": [
      "Exiting\n'posts: 3'\nPROGRESS: 24% (2932/11783)\nu'[DK info please answer] (/forums/en/wow/topic/12618402660)'\n"
     ]
    },
    {
     "name": "stdout",
     "output_type": "stream",
     "text": [
      "[Errno 10054] An existing connection was forcibly closed by the remote host\n"
     ]
    },
    {
     "name": "stdout",
     "output_type": "stream",
     "text": [
      "Exiting\n'posts: 4'\nPROGRESS: 24% (2933/11783)\nu'[Dodge and Parry 6.0] (/forums/en/wow/topic/12618122704)'\n"
     ]
    },
    {
     "name": "stdout",
     "output_type": "stream",
     "text": [
      "Exiting\n'posts: 2'\nPROGRESS: 24% (2934/11783)\nu'[Unholy dots] (/forums/en/wow/topic/12618122264)'\n"
     ]
    },
    {
     "name": "stdout",
     "output_type": "stream",
     "text": [
      "Exiting\n'posts: 8'\nPROGRESS: 24% (2935/11783)\nu'[[Blood] Gear List for WoD; Getting Ready for Raids] (/forums/en/wow/topic/12618442821)'\n"
     ]
    },
    {
     "name": "stdout",
     "output_type": "stream",
     "text": [
      "Exiting\n'posts: 1'\nPROGRESS: 24% (2936/11783)\nu'[Unholy stats gems?] (/forums/en/wow/topic/12618242746)'\n"
     ]
    },
    {
     "name": "stdout",
     "output_type": "stream",
     "text": [
      "Exiting\n'posts: 5'\nPROGRESS: 24% (2937/11783)\nu'[DW?] (/forums/en/wow/topic/12618182668)'\n"
     ]
    },
    {
     "name": "stdout",
     "output_type": "stream",
     "text": [
      "Exiting\n'posts: 1'\nPROGRESS: 24% (2938/11783)\nu'[DK tier 11 heroic transmog] (/forums/en/wow/topic/12618402195)'\n"
     ]
    },
    {
     "name": "stdout",
     "output_type": "stream",
     "text": [
      "Exiting\n'posts: 9'\nPROGRESS: 24% (2939/11783)\nu'[L90 talents bugged when switching to remorseless winter] (/forums/en/wow/topic/12618231808)'\n"
     ]
    },
    {
     "name": "stdout",
     "output_type": "stream",
     "text": [
      "Exiting\n'posts: 3'\nPROGRESS: 24% (2940/11783)\nu'[Question regarding low lvl tanking] (/forums/en/wow/topic/12618242600)'\n"
     ]
    },
    {
     "name": "stdout",
     "output_type": "stream",
     "text": [
      "Exiting\n'posts: 1'\nPROGRESS: 24% (2941/11783)\nu'[UH macros] (/forums/en/wow/topic/12618032295)'\n"
     ]
    },
    {
     "name": "stdout",
     "output_type": "stream",
     "text": [
      "Exiting\n'posts: 2'\nPROGRESS: 24% (2942/11783)\nu'[Frost creation] (/forums/en/wow/topic/12618241991)'\n"
     ]
    },
    {
     "name": "stdout",
     "output_type": "stream",
     "text": [
      "Exiting\n'posts: 5'\nPROGRESS: 24% (2943/11783)\nu'[Need some Help for Horde DK (Racials)] (/forums/en/wow/topic/12618071958)'\n"
     ]
    },
    {
     "name": "stdout",
     "output_type": "stream",
     "text": [
      "Exiting\n'posts: 11'\nPROGRESS: 24% (2944/11783)\nu'[WOD  DK Min/Max Racials Debate. Which Is best?] (/forums/en/wow/topic/12618242260)'\n"
     ]
    },
    {
     "name": "stdout",
     "output_type": "stream",
     "text": [
      "[Errno 10054] An existing connection was forcibly closed by the remote host\n"
     ]
    },
    {
     "name": "stdout",
     "output_type": "stream",
     "text": [
      "Exiting\n'posts: 3'\nPROGRESS: 24% (2945/11783)\nu'[Blood boil sound] (/forums/en/wow/topic/12533613988)'\n"
     ]
    },
    {
     "name": "stdout",
     "output_type": "stream",
     "text": [
      "Exiting\n'posts: 7'\nPROGRESS: 25% (2946/11783)\nu'[Frost or Unholy at lvl 100?] (/forums/en/wow/topic/12618032294)'\n"
     ]
    },
    {
     "name": "stdout",
     "output_type": "stream",
     "text": [
      "Exiting\n'posts: 1'\nPROGRESS: 25% (2947/11783)\nu'[Did somebody miss me?] (/forums/en/wow/topic/12618032223)'\n"
     ]
    },
    {
     "name": "stdout",
     "output_type": "stream",
     "text": [
      "HTTPError = 404\n"
     ]
    },
    {
     "name": "stdout",
     "output_type": "stream",
     "text": [
      "Exiting\n'posts: 12'\nPROGRESS: 25% (2948/11783)\nu'[Need help with Unholy. (PvE)] (/forums/en/wow/topic/12618561866)'\n"
     ]
    },
    {
     "name": "stdout",
     "output_type": "stream",
     "text": [
      "Exiting\n'posts: 6'\nPROGRESS: 25% (2949/11783)\nu'[New player Frost DK] (/forums/en/wow/topic/12618232161)'\n"
     ]
    },
    {
     "name": "stdout",
     "output_type": "stream",
     "text": [
      "Exiting\n'posts: 2'\nPROGRESS: 25% (2950/11783)\n"
     ]
    },
    {
     "name": "stdout",
     "output_type": "stream",
     "text": [
      "u'[How does the Death Knight play in WoD?] (/forums/en/wow/topic/12618232054)'\n"
     ]
    },
    {
     "name": "stdout",
     "output_type": "stream",
     "text": [
      "Exiting\n'posts: 5'\nPROGRESS: 25% (2951/11783)\nu'[2h vs dual wield - Frost DK PvE] (/forums/en/wow/topic/10494843527)'\n"
     ]
    },
    {
     "name": "stdout",
     "output_type": "stream",
     "text": [
      "Exiting\n'posts: 24'\nPROGRESS: 25% (2952/11783)\nu'[Help please!] (/forums/en/wow/topic/12618241927)'\n"
     ]
    },
    {
     "name": "stdout",
     "output_type": "stream",
     "text": [
      "Exiting\n'posts: 7'\nPROGRESS: 25% (2953/11783)\nu'[Frost DW working as intended?] (/forums/en/wow/topic/12618072156)'\n"
     ]
    },
    {
     "name": "stdout",
     "output_type": "stream",
     "text": [
      "Exiting\n'posts: 4'\nPROGRESS: 25% (2954/11783)\nu'[dk frost 2h] (/forums/en/wow/topic/12534574121)'\n"
     ]
    },
    {
     "name": "stdout",
     "output_type": "stream",
     "text": [
      "Exiting\n'posts: 6'\nPROGRESS: 25% (2955/11783)\nu'[Setting up tell me when] (/forums/en/wow/topic/12533614785)'\n"
     ]
    },
    {
     "name": "stdout",
     "output_type": "stream",
     "text": [
      "Exiting\n'posts: 7'\nPROGRESS: 25% (2956/11783)\nu'[Dual-wield and Rune of Cinferglacier. Bring em back ple] (/forums/en/wow/topic/12618402128)'\n"
     ]
    },
    {
     "name": "stdout",
     "output_type": "stream",
     "text": [
      "Exiting\n'posts: 2'\nPROGRESS: 25% (2957/11783)\nu'[Raise ally bug - confirmed to not be a bug] (/forums/en/wow/topic/12618232043)'\n"
     ]
    },
    {
     "name": "stdout",
     "output_type": "stream",
     "text": [
      "[Errno 10054] An existing connection was forcibly closed by the remote host\nHTTPError = 404\n"
     ]
    },
    {
     "name": "stdout",
     "output_type": "stream",
     "text": [
      "Exiting\n'posts: 4'\nPROGRESS: 25% (2958/11783)\nu'[Addons] (/forums/en/wow/topic/12618442036)'\n"
     ]
    },
    {
     "name": "stdout",
     "output_type": "stream",
     "text": [
      "Exiting\n'posts: 2'\nPROGRESS: 25% (2959/11783)\nu'[PVE Unholy Stat Priority Question] (/forums/en/wow/topic/12618181866)'\n"
     ]
    },
    {
     "name": "stdout",
     "output_type": "stream",
     "text": [
      "HTTPError = 404\n"
     ]
    },
    {
     "name": "stdout",
     "output_type": "stream",
     "text": [
      "Exiting\n'posts: 4'\nPROGRESS: 25% (2960/11783)\nu'[[UH PVP] Find spare runes for Chains of Ice?] (/forums/en/wow/topic/12618121774)'\n"
     ]
    },
    {
     "name": "stdout",
     "output_type": "stream",
     "text": [
      "Exiting\n'posts: 5'\nPROGRESS: 25% (2961/11783)\nu\"[DK's boring?] (/forums/en/wow/topic/12534574774)\"\n"
     ]
    },
    {
     "name": "stdout",
     "output_type": "stream",
     "text": [
      "Exiting\n'posts: 14'\nPROGRESS: 25% (2962/11783)\nu'[DK help] (/forums/en/wow/topic/12618231880)'\n"
     ]
    },
    {
     "name": "stdout",
     "output_type": "stream",
     "text": [
      "Exiting\n'posts: 4'\nPROGRESS: 25% (2963/11783)\nu'[Control Undead on Headless Horseman!] (/forums/en/wow/topic/12618241923)'\n"
     ]
    },
    {
     "name": "stdout",
     "output_type": "stream",
     "text": [
      "[Errno 10054] An existing connection was forcibly closed by the remote host\n"
     ]
    },
    {
     "name": "stdout",
     "output_type": "stream",
     "text": [
      "Exiting\n'posts: 1'\nPROGRESS: 25% (2964/11783)\nu'[Unholy Might gone?] (/forums/en/wow/topic/12533824992)'\n"
     ]
    },
    {
     "name": "stdout",
     "output_type": "stream",
     "text": [
      "Exiting\n'posts: 6'\nPROGRESS: 25% (2965/11783)\nu'[Looking for Steampunk armor to transmog.] (/forums/en/wow/topic/12533823623)'\n"
     ]
    },
    {
     "name": "stdout",
     "output_type": "stream",
     "text": [
      "Exiting\n'posts: 7'\nPROGRESS: 25% (2966/11783)\nu'[Soul reaper dmg to low] (/forums/en/wow/topic/12533614038)'\n"
     ]
    },
    {
     "name": "stdout",
     "output_type": "stream",
     "text": [
      "Exiting\n'posts: 9'\nPROGRESS: 25% (2967/11783)\nu'[Blood viable in PVP?] (/forums/en/wow/topic/12618181723)'\n"
     ]
    },
    {
     "name": "stdout",
     "output_type": "stream",
     "text": [
      "Exiting\n'posts: 4'\nPROGRESS: 25% (2968/11783)\nu\"[Engineering must for DK's?] (/forums/en/wow/topic/12618231789)\"\n"
     ]
    },
    {
     "name": "stdout",
     "output_type": "stream",
     "text": [
      "[Errno 10054] An existing connection was forcibly closed by the remote host\n"
     ]
    },
    {
     "name": "stdout",
     "output_type": "stream",
     "text": [
      "Exiting\n'posts: 2'\nPROGRESS: 25% (2969/11783)\nu'[Corpse Explosion] (/forums/en/wow/topic/12439465205)'\n"
     ]
    },
    {
     "name": "stdout",
     "output_type": "stream",
     "text": [
      "Exiting\n'posts: 8'\nPROGRESS: 25% (2970/11783)\nu'[Good race for DK?] (/forums/en/wow/topic/12534324777)'\n"
     ]
    },
    {
     "name": "stdout",
     "output_type": "stream",
     "text": [
      "Exiting\n'posts: 9'\nPROGRESS: 25% (2971/11783)\nu'[Dillema] (/forums/en/wow/topic/12533644653)'\n"
     ]
    },
    {
     "name": "stdout",
     "output_type": "stream",
     "text": [
      "Exiting\n'posts: 11'\nPROGRESS: 25% (2972/11783)\nu\"[major buff for uh dk's] (/forums/en/wow/topic/12534504958)\"\n"
     ]
    },
    {
     "name": "stdout",
     "output_type": "stream",
     "text": [
      "Exiting\n'posts: 3'\nPROGRESS: 25% (2973/11783)\nu'[Best Frost/Unholy profession?] (/forums/en/wow/topic/12533614349)'\n"
     ]
    },
    {
     "name": "stdout",
     "output_type": "stream",
     "text": [
      "Exiting\n'posts: 6'\nPROGRESS: 25% (2974/11783)\nu'[Shaman or Death Knight] (/forums/en/wow/topic/12439465774)'\n"
     ]
    },
    {
     "name": "stdout",
     "output_type": "stream",
     "text": [
      "Exiting\n'posts: 7'\nPROGRESS: 25% (2975/11783)\nu'[Unholy DPS] (/forums/en/wow/topic/12534715161)'\n"
     ]
    },
    {
     "name": "stdout",
     "output_type": "stream",
     "text": [
      "Exiting\n'posts: 5'\nPROGRESS: 25% (2976/11783)\nu'[Chaos Knight transmog] (/forums/en/wow/topic/12533515157)'\n"
     ]
    },
    {
     "name": "stdout",
     "output_type": "stream",
     "text": [
      "Exiting\n'posts: 1'\nPROGRESS: 25% (2977/11783)\nu'[Druid or Death Knight] (/forums/en/wow/topic/12533824914)'\n"
     ]
    },
    {
     "name": "stdout",
     "output_type": "stream",
     "text": [
      "Exiting\n'posts: 2'\nPROGRESS: 25% (2978/11783)\nu'[So many options Help!] (/forums/en/wow/topic/12534714997)'\n"
     ]
    },
    {
     "name": "stdout",
     "output_type": "stream",
     "text": [
      "Exiting\n'posts: 2'\nPROGRESS: 25% (2979/11783)\nu'[What happened to my voice?] (/forums/en/wow/topic/12439924164)'\n"
     ]
    },
    {
     "name": "stdout",
     "output_type": "stream",
     "text": [
      "[Errno 10054] An existing connection was forcibly closed by the remote host\n"
     ]
    },
    {
     "name": "stdout",
     "output_type": "stream",
     "text": [
      "Exiting\n'posts: 11'\nPROGRESS: 25% (2980/11783)\nu'[DW frost in WoD] (/forums/en/wow/topic/12534714935)'\n"
     ]
    },
    {
     "name": "stdout",
     "output_type": "stream",
     "text": [
      "Exiting\n'posts: 1'\nPROGRESS: 25% (2981/11783)\nu'[Give me back my DW...] (/forums/en/wow/topic/12585448719)'\n"
     ]
    },
    {
     "name": "stdout",
     "output_type": "stream",
     "text": [
      "Exiting\n'posts: 5'\nPROGRESS: 25% (2982/11783)\nu'[Death Siphon in old raids] (/forums/en/wow/topic/12533614829)'\n"
     ]
    },
    {
     "name": "stdout",
     "output_type": "stream",
     "text": [
      "Exiting\n'posts: 1'\nPROGRESS: 25% (2983/11783)\nu'[Crimson scourge + Necrotic plague = quick question] (/forums/en/wow/topic/12533744595)'\n"
     ]
    },
    {
     "name": "stdout",
     "output_type": "stream",
     "text": [
      "[Errno 10054] An existing connection was forcibly closed by the remote host\n"
     ]
    },
    {
     "name": "stdout",
     "output_type": "stream",
     "text": [
      "Exiting\n'posts: 4'\nPROGRESS: 25% (2984/11783)\nu'[Blood DK Stats?] (/forums/en/wow/topic/12533644096)'\n"
     ]
    },
    {
     "name": "stdout",
     "output_type": "stream",
     "text": [
      "Exiting\n'posts: 9'\nPROGRESS: 25% (2985/11783)\nu'[We could use more options (Runeforging / Presences)] (/forums/en/wow/topic/12440034790)'\n"
     ]
    },
    {
     "name": "stdout",
     "output_type": "stream",
     "text": [
      "Exiting\n'posts: 2'\nPROGRESS: 25% (2986/11783)\nu\"[Transmog, Quel'Delar or Quel'Delar? (HELP) :D] (/forums/en/wow/topic/12533514499)\"\n"
     ]
    },
    {
     "name": "stdout",
     "output_type": "stream",
     "text": [
      "Exiting\n'posts: 5'\nPROGRESS: 25% (2987/11783)\nu'[Unholy ?? (PvP)] (/forums/en/wow/topic/12534324524)'\n"
     ]
    },
    {
     "name": "stdout",
     "output_type": "stream",
     "text": [
      "Exiting\n'posts: 3'\nPROGRESS: 25% (2988/11783)\nu'[Frost Fever spread by Blood Boil not applying CB] (/forums/en/wow/topic/12534574191)'\n"
     ]
    },
    {
     "name": "stdout",
     "output_type": "stream",
     "text": [
      "Exiting\n'posts: 14'\nPROGRESS: 25% (2989/11783)\nu'[Blood shield & resolve] (/forums/en/wow/topic/12534324284)'\n"
     ]
    },
    {
     "name": "stdout",
     "output_type": "stream",
     "text": [
      "Exiting\n'posts: 3'\nPROGRESS: 25% (2990/11783)\nu'[Conclave of Wind (HC 10M) solo?] (/forums/en/wow/topic/12534573516)'\n"
     ]
    },
    {
     "name": "stdout",
     "output_type": "stream",
     "text": [
      "Exiting\n'posts: 4'\nPROGRESS: 25% (2991/11783)\nu'[Conversion useless talent?] (/forums/en/wow/topic/12534894123)'\n"
     ]
    },
    {
     "name": "stdout",
     "output_type": "stream",
     "text": [
      "HTTPError = 404\n"
     ]
    },
    {
     "name": "stdout",
     "output_type": "stream",
     "text": [
      "Exiting\n'posts: 11'\nPROGRESS: 25% (2992/11783)\nu'[How Dks play out? Pre-patch/WoD?] (/forums/en/wow/topic/12534714101)'\n"
     ]
    },
    {
     "name": "stdout",
     "output_type": "stream",
     "text": [
      "HTTPError = 404\n"
     ]
    },
    {
     "name": "stdout",
     "output_type": "stream",
     "text": [
      "Exiting\n'posts: 9'\nPROGRESS: 25% (2993/11783)\nu'[New to Frost DK, can\\'t get my \"rotation\" right] (/forums/en/wow/topic/12439825961)'\n"
     ]
    },
    {
     "name": "stdout",
     "output_type": "stream",
     "text": [
      "Exiting\n'posts: 17'\nPROGRESS: 25% (2994/11783)\nu'[Blood dks in the new patch] (/forums/en/wow/topic/12534714367)'\n"
     ]
    },
    {
     "name": "stdout",
     "output_type": "stream",
     "text": [
      "[Errno 10054] An existing connection was forcibly closed by the remote host\n"
     ]
    },
    {
     "name": "stdout",
     "output_type": "stream",
     "text": [
      "[Errno 10054] An existing connection was forcibly closed by the remote host\n"
     ]
    },
    {
     "name": "stdout",
     "output_type": "stream",
     "text": [
      "Exiting\n'posts: 1'\nPROGRESS: 25% (2995/11783)\nu'[About instant 90 affecting DK?] (/forums/en/wow/topic/12533743969)'\n"
     ]
    },
    {
     "name": "stdout",
     "output_type": "stream",
     "text": [
      "Exiting\n'posts: 9'\nPROGRESS: 25% (2996/11783)\nu'[BoS Nerfed] (/forums/en/wow/topic/12533823472)'\n"
     ]
    },
    {
     "name": "stdout",
     "output_type": "stream",
     "text": [
      "Exiting\n'posts: 8'\nPROGRESS: 25% (2997/11783)\nu'[2 Hand Frost] (/forums/en/wow/topic/12534324056)'\n"
     ]
    },
    {
     "name": "stdout",
     "output_type": "stream",
     "text": [
      "Exiting\n'posts: 5'\nPROGRESS: 25% (2998/11783)\nu'[What proffesions are best for Unholy DK] (/forums/en/wow/topic/12533824162)'\n"
     ]
    },
    {
     "name": "stdout",
     "output_type": "stream",
     "text": [
      "Exiting\n'posts: 2'\nPROGRESS: 25% (2999/11783)\nu'[PVP survivability?] (/forums/en/wow/topic/12533544166)'\n"
     ]
    },
    {
     "name": "stdout",
     "output_type": "stream",
     "text": [
      "Exiting\n'posts: 3'\nPROGRESS: 25% (3000/11783)\n"
     ]
    },
    {
     "name": "stdout",
     "output_type": "stream",
     "text": [
      "u'[Monk or Death Knight] (/forums/en/wow/topic/12533614121)'\n"
     ]
    },
    {
     "name": "stdout",
     "output_type": "stream",
     "text": [
      "Exiting\n'posts: 6'\nPROGRESS: 25% (3001/11783)\nu'[Unfair towards blood dks-PVP] (/forums/en/wow/topic/12533373691)'\n"
     ]
    },
    {
     "name": "stdout",
     "output_type": "stream",
     "text": [
      "Exiting\n'posts: 4'\nPROGRESS: 25% (3002/11783)\nu'[Transmog help please] (/forums/en/wow/topic/12533373919)'\n"
     ]
    },
    {
     "name": "stdout",
     "output_type": "stream",
     "text": [
      "[Errno 10054] An existing connection was forcibly closed by the remote host\n"
     ]
    },
    {
     "name": "stdout",
     "output_type": "stream",
     "text": [
      "Exiting\n'posts: 3'\nPROGRESS: 25% (3003/11783)\nu'[Transmog from level 55] (/forums/en/wow/topic/12534894024)'\n"
     ]
    },
    {
     "name": "stdout",
     "output_type": "stream",
     "text": [
      "Exiting\n'posts: 3'\nPROGRESS: 25% (3004/11783)\nu'[Plaguebearer] (/forums/en/wow/topic/12534503387)'\n"
     ]
    },
    {
     "name": "stdout",
     "output_type": "stream",
     "text": [
      "Exiting\n'posts: 10'\nPROGRESS: 25% (3005/11783)\nu'[Frost Duck] (/forums/en/wow/topic/12534573971)'\n"
     ]
    },
    {
     "name": "stdout",
     "output_type": "stream",
     "text": [
      "Exiting\n'posts: 9'\nPROGRESS: 25% (3006/11783)\nu'[2 DKs vs Garrosh Normal] (/forums/en/wow/topic/12534573905)'\n"
     ]
    },
    {
     "name": "stdout",
     "output_type": "stream",
     "text": [
      "Exiting\n'posts: 2'\nPROGRESS: 25% (3007/11783)\nu'[Unholy Core Abilities] (/forums/en/wow/topic/12533513904)'\n"
     ]
    },
    {
     "name": "stdout",
     "output_type": "stream",
     "text": [
      "Exiting\n'posts: 2'\nPROGRESS: 25% (3008/11783)\nu'[Soul reaper > howling blast] (/forums/en/wow/topic/12533543892)'\n"
     ]
    },
    {
     "name": "stdout",
     "output_type": "stream",
     "text": [
      "Exiting\n'posts: 5'\nPROGRESS: 25% (3009/11783)\nu'[Unholy vs frost presence for frost 2h] (/forums/en/wow/topic/12439985487)'\n"
     ]
    },
    {
     "name": "stdout",
     "output_type": "stream",
     "text": [
      "HTTPError = 404\n"
     ]
    },
    {
     "name": "stdout",
     "output_type": "stream",
     "text": [
      "[Errno 10054] An existing connection was forcibly closed by the remote host\n"
     ]
    },
    {
     "name": "stdout",
     "output_type": "stream",
     "text": [
      "Exiting\n'posts: 12'\nPROGRESS: 25% (3010/11783)\nu'[Tanking Celestials on a PvP Realm.] (/forums/en/wow/topic/12533613388)'\n"
     ]
    },
    {
     "name": "stdout",
     "output_type": "stream",
     "text": [
      "Exiting\n'posts: 11'\nPROGRESS: 25% (3011/11783)\nu'[Tier 11 HC set in Prepatch] (/forums/en/wow/topic/12534503363)'\n"
     ]
    },
    {
     "name": "stdout",
     "output_type": "stream",
     "text": [
      "[Errno 10054] An existing connection was forcibly closed by the remote host\n"
     ]
    },
    {
     "name": "stdout",
     "output_type": "stream",
     "text": [
      "Exiting\n'posts: 3'\nPROGRESS: 25% (3012/11783)\nu'[Automatic spec change in arena/bg] (/forums/en/wow/topic/12439484775)'\n"
     ]
    },
    {
     "name": "stdout",
     "output_type": "stream",
     "text": [
      "Exiting\n'posts: 3'\nPROGRESS: 25% (3013/11783)\nu\"[So I logged in.  Didn't change a thing] (/forums/en/wow/topic/12440064200)\"\n"
     ]
    },
    {
     "name": "stdout",
     "output_type": "stream",
     "text": [
      "Exiting\n'posts: 27'\nPROGRESS: 25% (3014/11783)\nu'[versatility] (/forums/en/wow/topic/12533823636)'\n"
     ]
    },
    {
     "name": "stdout",
     "output_type": "stream",
     "text": [
      "Exiting\n'posts: 4'\nPROGRESS: 25% (3015/11783)\nu'[Quick beta question: Does...] (/forums/en/wow/topic/12533613606)'\n"
     ]
    },
    {
     "name": "stdout",
     "output_type": "stream",
     "text": [
      "Exiting\n'posts: 7'\nPROGRESS: 25% (3016/11783)\nu'[killing machine munching] (/forums/en/wow/topic/12533513451)'\n"
     ]
    },
    {
     "name": "stdout",
     "output_type": "stream",
     "text": [
      "Exiting\n'posts: 8'\nPROGRESS: 25% (3017/11783)\nu'[Frost DK PVP Presence] (/forums/en/wow/topic/12533613499)'\nHTTPError = 404\n"
     ]
    },
    {
     "name": "stdout",
     "output_type": "stream",
     "text": [
      "Exiting\n'posts: 5'\nPROGRESS: 25% (3018/11783)\nu'[6.0.2 DW Frost DK Rotation] (/forums/en/wow/topic/12534573407)'\n"
     ]
    },
    {
     "name": "stdout",
     "output_type": "stream",
     "text": [
      "Exiting\n'posts: 5'\nPROGRESS: 25% (3019/11783)\nu'[Unholy DK Questions.] (/forums/en/wow/topic/12533513497)'\n"
     ]
    },
    {
     "name": "stdout",
     "output_type": "stream",
     "text": [
      "[Errno 10054] An existing connection was forcibly closed by the remote host\nHTTPError = 404\n"
     ]
    },
    {
     "name": "stdout",
     "output_type": "stream",
     "text": [
      "Exiting\n'posts: 1'\nPROGRESS: 25% (3020/11783)\nu'[Can Death Knights Be Next? [Blue Post Please]] (/forums/en/wow/topic/12439825962)'\n"
     ]
    },
    {
     "name": "stdout",
     "output_type": "stream",
     "text": [
      "Exiting\n'posts: 8'\nPROGRESS: 25% (3021/11783)\nu'[Gemming now?] (/forums/en/wow/topic/12439925858)'\n"
     ]
    },
    {
     "name": "stdout",
     "output_type": "stream",
     "text": [
      "Exiting\n'posts: 5'\nPROGRESS: 25% (3022/11783)\nu'[Blood DK macro] (/forums/en/wow/topic/12533543407)'\n"
     ]
    },
    {
     "name": "stdout",
     "output_type": "stream",
     "text": [
      "[Errno 10054] An existing connection was forcibly closed by the remote host\n"
     ]
    },
    {
     "name": "stdout",
     "output_type": "stream",
     "text": [
      "Exiting\n'posts: 3'\nPROGRESS: 25% (3023/11783)\nu'[Frost DK AOE & Questions] (/forums/en/wow/topic/12534323396)'\n"
     ]
    },
    {
     "name": "stdout",
     "output_type": "stream",
     "text": [
      "Exiting\n'posts: 1'\nPROGRESS: 25% (3024/11783)\nu'[Unholy] (/forums/en/wow/topic/12439986076)'\n"
     ]
    },
    {
     "name": "stdout",
     "output_type": "stream",
     "text": [
      "Exiting\n'posts: 13'\nPROGRESS: 25% (3025/11783)\nu'[Missing Bosses] (/forums/en/wow/topic/12440025265)'\n"
     ]
    },
    {
     "name": "stdout",
     "output_type": "stream",
     "text": [
      "Exiting\n'posts: 5'\nPROGRESS: 25% (3026/11783)\nu\"[DK's Blood Boil AOE and Death Siphon TOTALLY BROKEN !] (/forums/en/wow/topic/12439984009)\"\n"
     ]
    },
    {
     "name": "stdout",
     "output_type": "stream",
     "text": [
      "Exiting\n'posts: 35'\nPROGRESS: 25% (3027/11783)\nu'[frost mastery working or not?] (/forums/en/wow/topic/12440035869)'\n"
     ]
    },
    {
     "name": "stdout",
     "output_type": "stream",
     "text": [
      "HTTPError = 404\n"
     ]
    },
    {
     "name": "stdout",
     "output_type": "stream",
     "text": [
      "Exiting\n'posts: 5'\nPROGRESS: 25% (3028/11783)\nu'[Low level blood dks op?] (/forums/en/wow/topic/12533513229)'\n"
     ]
    },
    {
     "name": "stdout",
     "output_type": "stream",
     "text": [
      "Exiting\n'posts: 6'\nPROGRESS: 25% (3029/11783)\nu'[DK changes] (/forums/en/wow/topic/12533513321)'\n"
     ]
    },
    {
     "name": "stdout",
     "output_type": "stream",
     "text": [
      "Exiting\n'posts: 1'\nPROGRESS: 25% (3030/11783)\nu'[Blood DK == Protection Warrior?] (/forums/en/wow/topic/12439986084)'\n"
     ]
    },
    {
     "name": "stdout",
     "output_type": "stream",
     "text": [
      "Exiting\n'posts: 5'\nPROGRESS: 25% (3031/11783)\nu'[Please nerf blood presence or/and buff unholy presence] (/forums/en/wow/topic/12439925483)'\n"
     ]
    },
    {
     "name": "stdout",
     "output_type": "stream",
     "text": [
      "Exiting\n'posts: 15'\nPROGRESS: 25% (3032/11783)\nu'[R.I.P Blood Spec] (/forums/en/wow/topic/12439244912)'\n"
     ]
    },
    {
     "name": "stdout",
     "output_type": "stream",
     "text": [
      "[Errno 10054] An existing connection was forcibly closed by the remote host\n"
     ]
    },
    {
     "name": "stdout",
     "output_type": "stream",
     "text": [
      "Exiting\n'posts: 24'\nPROGRESS: 25% (3033/11783)\nu'[DW Frost Dk 6.0] (/forums/en/wow/topic/12440065849)'\n"
     ]
    },
    {
     "name": "stdout",
     "output_type": "stream",
     "text": [
      "Exiting\n'posts: 4'\nPROGRESS: 25% (3034/11783)\nu\"[I know it won't last....] (/forums/en/wow/topic/12440035781)\"\n"
     ]
    },
    {
     "name": "stdout",
     "output_type": "stream",
     "text": [
      "Exiting\n'posts: 2'\nPROGRESS: 25% (3035/11783)\nu'[Requesting changes to RP-spender] (/forums/en/wow/topic/12440065857)'\n"
     ]
    },
    {
     "name": "stdout",
     "output_type": "stream",
     "text": [
      "Exiting\n'posts: 1'\nPROGRESS: 25% (3036/11783)\nu'[DPSing as Blood?] (/forums/en/wow/topic/12439485296)'\n"
     ]
    },
    {
     "name": "stdout",
     "output_type": "stream",
     "text": [
      "[Errno 10054] An existing connection was forcibly closed by the remote host\n"
     ]
    },
    {
     "name": "stdout",
     "output_type": "stream",
     "text": [
      "Exiting\n'posts: 8'\nPROGRESS: 25% (3037/11783)\nu'[Conversion useless] (/forums/en/wow/topic/12440064848)'\n"
     ]
    },
    {
     "name": "stdout",
     "output_type": "stream",
     "text": [
      "Exiting\n'posts: 20'\nPROGRESS: 25% (3038/11783)\nu'[My NE DK has a carrot up his bum] (/forums/en/wow/topic/12439455750)'\n"
     ]
    },
    {
     "name": "stdout",
     "output_type": "stream",
     "text": [
      "Exiting\n'posts: 3'\nPROGRESS: 25% (3039/11783)\nu'[2h or 2x 1h Frost PVP] (/forums/en/wow/topic/12439695604)'\n"
     ]
    },
    {
     "name": "stdout",
     "output_type": "stream",
     "text": [
      "Exiting\n'posts: 10'\nPROGRESS: 25% (3040/11783)\nu\"[Dripping Willow's Chance on Hit effect.] (/forums/en/wow/topic/12439245628)\"\n"
     ]
    },
    {
     "name": "stdout",
     "output_type": "stream",
     "text": [
      "Exiting\n'posts: 1'\nPROGRESS: 25% (3041/11783)\nu'[Suggestion for Dark Transformation visuals] (/forums/en/wow/topic/12439985144)'\n"
     ]
    },
    {
     "name": "stdout",
     "output_type": "stream",
     "text": [
      "Exiting\n'posts: 6'\nPROGRESS: 25% (3042/11783)\nu'[Probably a silly idea for 2H Frost] (/forums/en/wow/topic/12439245187)'\n"
     ]
    },
    {
     "name": "stdout",
     "output_type": "stream",
     "text": [
      "Exiting\n'posts: 6'\nPROGRESS: 25% (3043/11783)\nu'[Unable to control gargoyle anymore] (/forums/en/wow/topic/12439695098)'\n"
     ]
    },
    {
     "name": "stdout",
     "output_type": "stream",
     "text": [
      "Exiting\n'posts: 4'\nPROGRESS: 25% (3044/11783)\nu'[Mortal strike effect] (/forums/en/wow/topic/12439825340)'\n"
     ]
    },
    {
     "name": "stdout",
     "output_type": "stream",
     "text": [
      "Exiting\n'posts: 6'\nPROGRESS: 25% (3045/11783)\nu'[QOL change to Dark Transformation] (/forums/en/wow/topic/12439824624)'\n"
     ]
    },
    {
     "name": "stdout",
     "output_type": "stream",
     "text": [
      "Exiting\n'posts: 2'\nPROGRESS: 25% (3046/11783)\nu'[Dark Succor proc missing visual indicator?] (/forums/en/wow/topic/12440024239)'\nHTTPError = 404\n"
     ]
    },
    {
     "name": "stdout",
     "output_type": "stream",
     "text": [
      "Exiting\n'posts: 4'\nPROGRESS: 25% (3047/11783)\nu'[What presence in PvP?] (/forums/en/wow/topic/12439825088)'\n"
     ]
    },
    {
     "name": "stdout",
     "output_type": "stream",
     "text": [
      "Exiting\n'posts: 3'\nPROGRESS: 25% (3048/11783)\nu'[Blood, am i doing it wrong?] (/forums/en/wow/topic/12439825127)'\n"
     ]
    },
    {
     "name": "stdout",
     "output_type": "stream",
     "text": [
      "Exiting\n'posts: 6'\nPROGRESS: 25% (3049/11783)\nu'[WoD Spec] (/forums/en/wow/topic/12440035333)'\n"
     ]
    },
    {
     "name": "stdout",
     "output_type": "stream",
     "text": [
      "HTTPError = 404\n"
     ]
    },
    {
     "name": "stdout",
     "output_type": "stream",
     "text": [
      "[Errno 10054] An existing connection was forcibly closed by the remote host\n"
     ]
    },
    {
     "name": "stdout",
     "output_type": "stream",
     "text": [
      "Exiting\n'posts: 2'\nPROGRESS: 25% (3050/11783)\n"
     ]
    },
    {
     "name": "stdout",
     "output_type": "stream",
     "text": [
      "u'[Plague Leech & Necrotic Plague] (/forums/en/wow/topic/12439925152)'\n"
     ]
    },
    {
     "name": "stdout",
     "output_type": "stream",
     "text": [
      "Exiting\n'posts: 4'\nPROGRESS: 25% (3051/11783)\nu'[Blood DK] (/forums/en/wow/topic/12439994877)'\n"
     ]
    },
    {
     "name": "stdout",
     "output_type": "stream",
     "text": [
      "Exiting\n'posts: 9'\nPROGRESS: 25% (3052/11783)\nu'[Boosted a DK, and Skills Missed ?] (/forums/en/wow/topic/12439484234)'\n"
     ]
    },
    {
     "name": "stdout",
     "output_type": "stream",
     "text": [
      "Exiting\n'posts: 5'\nPROGRESS: 25% (3053/11783)\nu'[Not very important but LOL] (/forums/en/wow/topic/12439484812)'\n"
     ]
    },
    {
     "name": "stdout",
     "output_type": "stream",
     "text": [
      "[Errno 10054] An existing connection was forcibly closed by the remote host\n"
     ]
    },
    {
     "name": "stdout",
     "output_type": "stream",
     "text": [
      "Exiting\n'posts: 3'\nPROGRESS: 25% (3054/11783)\nu'[2h Frost stats in PvP] (/forums/en/wow/topic/12439454908)'\n"
     ]
    },
    {
     "name": "stdout",
     "output_type": "stream",
     "text": [
      "Exiting\n'posts: 2'\nPROGRESS: 25% (3055/11783)\nu'[Help with Tanking] (/forums/en/wow/topic/12439824893)'\n"
     ]
    },
    {
     "name": "stdout",
     "output_type": "stream",
     "text": [
      "Exiting\n'posts: 2'\nPROGRESS: 25% (3056/11783)\nu'[Insane] (/forums/en/wow/topic/12439454880)'\n"
     ]
    },
    {
     "name": "stdout",
     "output_type": "stream",
     "text": [
      "Exiting\n'posts: 2'\nPROGRESS: 25% (3057/11783)\nu'[WHERE IS MA NECROTIC STRYKE] (/forums/en/wow/topic/12440064085)'\n"
     ]
    },
    {
     "name": "stdout",
     "output_type": "stream",
     "text": [
      "Exiting\n'posts: 17'\nPROGRESS: 25% (3058/11783)\nu'[Place for Blood DK in WoD?] (/forums/en/wow/topic/12439484198)'\n"
     ]
    },
    {
     "name": "stdout",
     "output_type": "stream",
     "text": [
      "Exiting\n'posts: 31'\nPROGRESS: 25% (3059/11783)\nu'[Fix Blood DKs #2K14...] (/forums/en/wow/topic/12439694715)'\n"
     ]
    },
    {
     "name": "stdout",
     "output_type": "stream",
     "text": [
      "Exiting\n'posts: 8'\nPROGRESS: 25% (3060/11783)\nu'[Why is horn of winter still on my bars?] (/forums/en/wow/topic/12439984862)'\n"
     ]
    },
    {
     "name": "stdout",
     "output_type": "stream",
     "text": [
      "Exiting\n'posts: 5'\nPROGRESS: 25% (3061/11783)\nu'[Howling Blast visual bug?] (/forums/en/wow/topic/12439984879)'\n"
     ]
    },
    {
     "name": "stdout",
     "output_type": "stream",
     "text": [
      "Exiting\n'posts: 5'\nPROGRESS: 25% (3062/11783)\nu'[Unholy DK transmog set?] (/forums/en/wow/topic/12439244216)'\n"
     ]
    },
    {
     "name": "stdout",
     "output_type": "stream",
     "text": [
      "Exiting\n'posts: 8'\nPROGRESS: 25% (3063/11783)\nu'[Death Knights for the Alliance] (/forums/en/wow/topic/12439244572)'\n"
     ]
    },
    {
     "name": "stdout",
     "output_type": "stream",
     "text": [
      "Exiting\n'posts: 6'\nPROGRESS: 26% (3064/11783)\nu'[Frost Fever + Seeping Willow bug!] (/forums/en/wow/topic/12440024295)'\n"
     ]
    },
    {
     "name": "stdout",
     "output_type": "stream",
     "text": [
      "Exiting\n'posts: 3'\nPROGRESS: 26% (3065/11783)\nu'[My simple idea for a better blood] (/forums/en/wow/topic/12439244666)'\n"
     ]
    },
    {
     "name": "stdout",
     "output_type": "stream",
     "text": [
      "Exiting\n'posts: 1'\nPROGRESS: 26% (3066/11783)\nu'[can someone tell me about UH dks in WoD?] (/forums/en/wow/topic/12364677337)'\n"
     ]
    },
    {
     "name": "stdout",
     "output_type": "stream",
     "text": [
      "[Errno 10054] An existing connection was forcibly closed by the remote host\n"
     ]
    },
    {
     "name": "stdout",
     "output_type": "stream",
     "text": [
      "Exiting\n'posts: 7'\nPROGRESS: 26% (3067/11783)\nu'[New models and DK flying mount] (/forums/en/wow/topic/12439454700)'\n"
     ]
    },
    {
     "name": "stdout",
     "output_type": "stream",
     "text": [
      "Exiting\n'posts: 1'\nPROGRESS: 26% (3068/11783)\nu'[I Shall Assume..] (/forums/en/wow/topic/12439694250)'\n"
     ]
    },
    {
     "name": "stdout",
     "output_type": "stream",
     "text": [
      "Exiting\n'posts: 11'\nPROGRESS: 26% (3069/11783)\nu'[Level 60 Talent Choice Question] (/forums/en/wow/topic/12440064680)'\n"
     ]
    },
    {
     "name": "stdout",
     "output_type": "stream",
     "text": [
      "Exiting\n'posts: 3'\nPROGRESS: 26% (3070/11783)\nu'[2h or dw in WoD?] (/forums/en/wow/topic/12439454490)'\n"
     ]
    },
    {
     "name": "stdout",
     "output_type": "stream",
     "text": [
      "Exiting\n'posts: 5'\nPROGRESS: 26% (3071/11783)\nu'[Did anyone like blood in beta?] (/forums/en/wow/topic/12439984629)'\n"
     ]
    },
    {
     "name": "stdout",
     "output_type": "stream",
     "text": [
      "Exiting\n'posts: 3'\nPROGRESS: 26% (3072/11783)\nu'[Blood Boil: Working as Intended] (/forums/en/wow/topic/12439994479)'\n"
     ]
    },
    {
     "name": "stdout",
     "output_type": "stream",
     "text": [
      "Exiting\n'posts: 5'\nPROGRESS: 26% (3073/11783)\nu'[Frost DK stat prio] (/forums/en/wow/topic/12439694241)'\n"
     ]
    },
    {
     "name": "stdout",
     "output_type": "stream",
     "text": [
      "Exiting\n'posts: 5'\nPROGRESS: 26% (3074/11783)\nu'[Frost  - Levelling made Ez] (/forums/en/wow/topic/12439484339)'\nHTTPError = 404\n"
     ]
    },
    {
     "name": "stdout",
     "output_type": "stream",
     "text": [
      "Exiting\n'posts: 1'\nPROGRESS: 26% (3075/11783)\nu\"[Help can't find trainer!] (/forums/en/wow/topic/12439924283)\"\n"
     ]
    },
    {
     "name": "stdout",
     "output_type": "stream",
     "text": [
      "Exiting\n'posts: 3'\nPROGRESS: 26% (3076/11783)\nu'[has Pestilence been removed] (/forums/en/wow/topic/12439244141)'\n"
     ]
    },
    {
     "name": "stdout",
     "output_type": "stream",
     "text": [
      "Exiting\n'posts: 11'\nPROGRESS: 26% (3077/11783)\nu'[DK in 6.02.. first quest impression] (/forums/en/wow/topic/12439824164)'\nHTTPError = 404\n"
     ]
    },
    {
     "name": "stdout",
     "output_type": "stream",
     "text": [
      "Exiting\n'posts: 3'\nPROGRESS: 26% (3078/11783)\nu'[Death Knights + Warlords of Draenor?] (/forums/en/wow/topic/12439984285)'\n"
     ]
    },
    {
     "name": "stdout",
     "output_type": "stream",
     "text": [
      "Exiting\n'posts: 1'\nPROGRESS: 26% (3079/11783)\nu'[DK PVP/PVE SPEC] (/forums/en/wow/topic/12439464004)'\n"
     ]
    },
    {
     "name": "stdout",
     "output_type": "stream",
     "text": [
      "Exiting\n'posts: 2'\nPROGRESS: 26% (3080/11783)\nu'[Blood Boil (literally) broken?] (/forums/en/wow/topic/12439994204)'\n"
     ]
    },
    {
     "name": "stdout",
     "output_type": "stream",
     "text": [
      "Exiting\n'posts: 6'\nPROGRESS: 26% (3081/11783)\nu\"[Congratulations DK's, Its Your Time Again] (/forums/en/wow/topic/12427712680)\"\n"
     ]
    },
    {
     "name": "stdout",
     "output_type": "stream",
     "text": [
      "Exiting\n'posts: 4'\nPROGRESS: 26% (3082/11783)\nu'[seems hopeless] (/forums/en/wow/topic/12439823959)'\n"
     ]
    },
    {
     "name": "stdout",
     "output_type": "stream",
     "text": [
      "Exiting\n'posts: 4'\nPROGRESS: 26% (3083/11783)\nu'[Dk/Rogue] (/forums/en/wow/topic/12439693989)'\n"
     ]
    },
    {
     "name": "stdout",
     "output_type": "stream",
     "text": [
      "Exiting\n'posts: 1'\nPROGRESS: 26% (3084/11783)\nu'[Death Knight in WoD First Impressions] (/forums/en/wow/topic/12427402729)'\nHTTPError = 404\n"
     ]
    },
    {
     "name": "stdout",
     "output_type": "stream",
     "text": [
      "Exiting\n'posts: 12'\nPROGRESS: 26% (3085/11783)\nu'[Help with runes.] (/forums/en/wow/topic/12364357470)'\nHTTPError = 404\n"
     ]
    },
    {
     "name": "stdout",
     "output_type": "stream",
     "text": [
      "Exiting\n'posts: 3'\nPROGRESS: 26% (3086/11783)\nu'[Quick question] (/forums/en/wow/topic/12430803025)'\n"
     ]
    },
    {
     "name": "stdout",
     "output_type": "stream",
     "text": [
      "Exiting\n'posts: 4'\nPROGRESS: 26% (3087/11783)\nu'[2H Frost: An explanation of when Crit>Haste] (/forums/en/wow/topic/8241424202)'\n"
     ]
    },
    {
     "name": "stdout",
     "output_type": "stream",
     "text": [
      "[Errno 10054] An existing connection was forcibly closed by the remote host\n"
     ]
    },
    {
     "name": "stdout",
     "output_type": "stream",
     "text": [
      "Exiting\n'posts: 40'\nPROGRESS: 26% (3088/11783)\nu'[Frost single target damage, cap at 120K ilvl 541] (/forums/en/wow/topic/12206281006)'\n"
     ]
    },
    {
     "name": "stdout",
     "output_type": "stream",
     "text": [
      "Exiting\n'posts: 26'\nPROGRESS: 26% (3089/11783)\nu'[Unholy or Blood [WoD]] (/forums/en/wow/topic/12364937479)'\n"
     ]
    },
    {
     "name": "stdout",
     "output_type": "stream",
     "text": [
      "Exiting\n'posts: 5'\nPROGRESS: 26% (3090/11783)\nu'[dk rage] (/forums/en/wow/topic/12365427380)'\n"
     ]
    },
    {
     "name": "stdout",
     "output_type": "stream",
     "text": [
      "Exiting\n'posts: 6'\nPROGRESS: 26% (3091/11783)\nu'[Dk pets suggestion] (/forums/en/wow/topic/12365426610)'\n"
     ]
    },
    {
     "name": "stdout",
     "output_type": "stream",
     "text": [
      "Exiting\n'posts: 9'\nPROGRESS: 26% (3092/11783)\nu\"[Blood DK's in PvP.] (/forums/en/wow/topic/12365427239)\"\n"
     ]
    },
    {
     "name": "stdout",
     "output_type": "stream",
     "text": [
      "Exiting\n'posts: 7'\nPROGRESS: 26% (3093/11783)\nu'[Best race for wod pvp] (/forums/en/wow/topic/12365247407)'\n"
     ]
    },
    {
     "name": "stdout",
     "output_type": "stream",
     "text": [
      "Exiting\n'posts: 2'\nPROGRESS: 26% (3094/11783)\nu\"[Can't reach hitcap] (/forums/en/wow/topic/12365427221)\"\n"
     ]
    },
    {
     "name": "stdout",
     "output_type": "stream",
     "text": [
      "Exiting\n'posts: 4'\nPROGRESS: 26% (3095/11783)\nu'[DK Transmog thread!] (/forums/en/wow/topic/12029622845)'\n"
     ]
    },
    {
     "name": "stdout",
     "output_type": "stream",
     "text": [
      "Exiting\n'posts: 38'\nPROGRESS: 26% (3096/11783)\nu'[What would you change about Death Knights?] (/forums/en/wow/topic/12286979821)'\n"
     ]
    },
    {
     "name": "stdout",
     "output_type": "stream",
     "text": [
      "Exiting\n'posts: 12'\nPROGRESS: 26% (3097/11783)\nu'[hi pvp geared going for pve] (/forums/en/wow/topic/12364007168)'\n"
     ]
    },
    {
     "name": "stdout",
     "output_type": "stream",
     "text": [
      "Exiting\n'posts: 3'\nPROGRESS: 26% (3098/11783)\nu'[Uh damage in wod? (pvp)] (/forums/en/wow/topic/12364676917)'\n"
     ]
    },
    {
     "name": "stdout",
     "output_type": "stream",
     "text": [
      "[Errno 10054] An existing connection was forcibly closed by the remote host\n"
     ]
    },
    {
     "name": "stdout",
     "output_type": "stream",
     "text": [
      "Exiting\n'posts: 4'\nPROGRESS: 26% (3099/11783)\nu'[Making a farewell 5.4.8 pvp video] (/forums/en/wow/topic/12365246852)'\n"
     ]
    },
    {
     "name": "stdout",
     "output_type": "stream",
     "text": [
      "Exiting\n'posts: 1'\nPROGRESS: 26% (3100/11783)\n"
     ]
    },
    {
     "name": "stdout",
     "output_type": "stream",
     "text": [
      "u'[WoD Gear changes] (/forums/en/wow/topic/12364816484)'\n"
     ]
    },
    {
     "name": "stdout",
     "output_type": "stream",
     "text": [
      "Exiting\n'posts: 3'\nPROGRESS: 26% (3101/11783)\nu'[My little Issue] (/forums/en/wow/topic/12364356767)'\n"
     ]
    },
    {
     "name": "stdout",
     "output_type": "stream",
     "text": [
      "Exiting\n'posts: 2'\nPROGRESS: 26% (3102/11783)\nu'[Unholy Frenzy, self cast or cast it on Summon Gargoyle?] (/forums/en/wow/topic/12205660608)'\n"
     ]
    },
    {
     "name": "stdout",
     "output_type": "stream",
     "text": [
      "Exiting\n'posts: 6'\nPROGRESS: 26% (3103/11783)\nu'[Frost DK hotbar] (/forums/en/wow/topic/12364006501)'\n"
     ]
    },
    {
     "name": "stdout",
     "output_type": "stream",
     "text": [
      "Exiting\n'posts: 3'\nPROGRESS: 26% (3104/11783)\nu'[death knight and season 4 items] (/forums/en/wow/topic/1549386198)'\n"
     ]
    },
    {
     "name": "stdout",
     "output_type": "stream",
     "text": [
      "Exiting\n'posts: 5'\nPROGRESS: 26% (3105/11783)\nu'[About unholy dw?] (/forums/en/wow/topic/12287149936)'\n"
     ]
    },
    {
     "name": "stdout",
     "output_type": "stream",
     "text": [
      "Exiting\n'posts: 8'\nPROGRESS: 26% (3106/11783)\nu'[[Poll] Are you happy with the Blood DK changes in WoD?] (/forums/en/wow/topic/12287069883)'\n"
     ]
    },
    {
     "name": "stdout",
     "output_type": "stream",
     "text": [
      "Exiting\n'posts: 6'\nPROGRESS: 26% (3107/11783)\nu'[New DK needs help] (/forums/en/wow/topic/12286888958)'\n"
     ]
    },
    {
     "name": "stdout",
     "output_type": "stream",
     "text": [
      "Exiting\n'posts: 7'\nPROGRESS: 26% (3108/11783)\nu'[Coolest Race for Death-Knights? Your opinions!] (/forums/en/wow/topic/5724312398)'\n"
     ]
    },
    {
     "name": "stdout",
     "output_type": "stream",
     "text": [
      "Exiting\n'posts: 54'\nPROGRESS: 26% (3109/11783)\nu'[Changing faces] (/forums/en/wow/topic/12286979687)'\n"
     ]
    },
    {
     "name": "stdout",
     "output_type": "stream",
     "text": [
      "[Errno 10054] An existing connection was forcibly closed by the remote host\n"
     ]
    },
    {
     "name": "stdout",
     "output_type": "stream",
     "text": [
      "Exiting\n'posts: 2'\nPROGRESS: 26% (3110/11783)\nu'[1 question?] (/forums/en/wow/topic/12287519744)'\n"
     ]
    },
    {
     "name": "stdout",
     "output_type": "stream",
     "text": [
      "Exiting\n'posts: 3'\nPROGRESS: 26% (3111/11783)\nu'[WoD] (/forums/en/wow/topic/12287149568)'\n"
     ]
    },
    {
     "name": "stdout",
     "output_type": "stream",
     "text": [
      "Exiting\n'posts: 9'\nPROGRESS: 26% (3112/11783)\nu'[Upgradeding UH gear] (/forums/en/wow/topic/12206011788)'\n"
     ]
    },
    {
     "name": "stdout",
     "output_type": "stream",
     "text": [
      "Exiting\n'posts: 15'\nPROGRESS: 26% (3113/11783)\nu'[UH Gemming] (/forums/en/wow/topic/12286769219)'\n"
     ]
    },
    {
     "name": "stdout",
     "output_type": "stream",
     "text": [
      "Exiting\n'posts: 2'\nPROGRESS: 26% (3114/11783)\nu'[Question about DK Downtime in WoD] (/forums/en/wow/topic/12206280990)'\n"
     ]
    },
    {
     "name": "stdout",
     "output_type": "stream",
     "text": [
      "Exiting\n'posts: 12'\nPROGRESS: 26% (3115/11783)\nu'[TellMeWhen Blood DK Build] (/forums/en/wow/topic/7739833948)'\n"
     ]
    },
    {
     "name": "stdout",
     "output_type": "stream",
     "text": [
      "Exiting\n'posts: 4'\nPROGRESS: 26% (3116/11783)\nu'[Army of the dead not taunting] (/forums/en/wow/topic/12287518773)'\n"
     ]
    },
    {
     "name": "stdout",
     "output_type": "stream",
     "text": [
      "Exiting\n'posts: 4'\nPROGRESS: 26% (3117/11783)\nu'[Legendary cloak?] (/forums/en/wow/topic/12042624649)'\n"
     ]
    },
    {
     "name": "stdout",
     "output_type": "stream",
     "text": [
      "Exiting\n'posts: 11'\nPROGRESS: 26% (3118/11783)\nu'[4 Piece vs Warforged] (/forums/en/wow/topic/12206291659)'\n"
     ]
    },
    {
     "name": "stdout",
     "output_type": "stream",
     "text": [
      "Exiting\n'posts: 10'\nPROGRESS: 26% (3119/11783)\nu'[DK army] (/forums/en/wow/topic/12206630883)'\n"
     ]
    },
    {
     "name": "stdout",
     "output_type": "stream",
     "text": [
      "[Errno 10054] An existing connection was forcibly closed by the remote host\n"
     ]
    },
    {
     "name": "stdout",
     "output_type": "stream",
     "text": [
      "[Errno 10054] An existing connection was forcibly closed by the remote host\n"
     ]
    },
    {
     "name": "stdout",
     "output_type": "stream",
     "text": [
      "Exiting\n'posts: 5'\nPROGRESS: 26% (3120/11783)\nu'[Strength Polearms] (/forums/en/wow/topic/5945534518)'\n"
     ]
    },
    {
     "name": "stdout",
     "output_type": "stream",
     "text": [
      "Exiting\n'posts: 26'\nPROGRESS: 26% (3121/11783)\nu'[For all DKS!] (/forums/en/wow/topic/12195139543)'\n"
     ]
    },
    {
     "name": "stdout",
     "output_type": "stream",
     "text": [
      "Exiting\n'posts: 5'\nPROGRESS: 26% (3122/11783)\nu'[Am I doing something wrong?] (/forums/en/wow/topic/12206631383)'\n"
     ]
    },
    {
     "name": "stdout",
     "output_type": "stream",
     "text": [
      "Exiting\n'posts: 9'\nPROGRESS: 26% (3123/11783)\nu\"[Can't decide for WoD!] (/forums/en/wow/topic/12206291269)\"\n"
     ]
    },
    {
     "name": "stdout",
     "output_type": "stream",
     "text": [
      "Exiting\n'posts: 7'\nPROGRESS: 26% (3124/11783)\nu'[Raise Dead animation] (/forums/en/wow/topic/12206551661)'\n"
     ]
    },
    {
     "name": "stdout",
     "output_type": "stream",
     "text": [
      "Exiting\n'posts: 1'\nPROGRESS: 26% (3125/11783)\nu'[Unholly DK Damage in WoD Beta] (/forums/en/wow/topic/11892129260)'\n"
     ]
    },
    {
     "name": "stdout",
     "output_type": "stream",
     "text": [
      "Exiting\n'posts: 14'\nPROGRESS: 26% (3126/11783)\nu'[BLOOD DK ptr feedback.] (/forums/en/wow/topic/11982298697)'\n"
     ]
    },
    {
     "name": "stdout",
     "output_type": "stream",
     "text": [
      "HTTPError = 404\n"
     ]
    },
    {
     "name": "stdout",
     "output_type": "stream",
     "text": [
      "[Errno 10054] An existing connection was forcibly closed by the remote host\n"
     ]
    },
    {
     "name": "stdout",
     "output_type": "stream",
     "text": [
      "Exiting\n'posts: 16'\nPROGRESS: 26% (3127/11783)\nu\"[Why I'm a DK thread] (/forums/en/wow/topic/11761016558)\"\n"
     ]
    },
    {
     "name": "stdout",
     "output_type": "stream",
     "text": [
      "Exiting\n'posts: 23'\nPROGRESS: 26% (3128/11783)\nu'[Frost dk 2s 3s WOD] (/forums/en/wow/topic/12042454319)'\n"
     ]
    },
    {
     "name": "stdout",
     "output_type": "stream",
     "text": [
      "Exiting\n'posts: 5'\nPROGRESS: 26% (3129/11783)\nu'[Need personal opinion from Experienced DK - HC weapons] (/forums/en/wow/topic/12024732400)'\n"
     ]
    },
    {
     "name": "stdout",
     "output_type": "stream",
     "text": [
      "Exiting\n'posts: 8'\nPROGRESS: 26% (3130/11783)\nu'[Really bad dmg on pvp] (/forums/en/wow/topic/12130062948)'\n"
     ]
    },
    {
     "name": "stdout",
     "output_type": "stream",
     "text": [
      "Exiting\n'posts: 6'\nPROGRESS: 26% (3131/11783)\nu'[Update your PTRs] (/forums/en/wow/topic/11982408439)'\n"
     ]
    },
    {
     "name": "stdout",
     "output_type": "stream",
     "text": [
      "Exiting\n'posts: 11'\nPROGRESS: 26% (3132/11783)\nu'[Does it have to be that way?] (/forums/en/wow/topic/12130803549)'\n"
     ]
    },
    {
     "name": "stdout",
     "output_type": "stream",
     "text": [
      "Exiting\n'posts: 5'\nPROGRESS: 26% (3133/11783)\nu'[Frost in WoD] (/forums/en/wow/topic/12041534526)'\n"
     ]
    },
    {
     "name": "stdout",
     "output_type": "stream",
     "text": [
      "Exiting\n'posts: 15'\nPROGRESS: 26% (3134/11783)\nu'[Question about Massgrip] (/forums/en/wow/topic/12130492978)'\n"
     ]
    },
    {
     "name": "stdout",
     "output_type": "stream",
     "text": [
      "Exiting\n'posts: 9'\nPROGRESS: 26% (3135/11783)\nu'[<Deleted>] (/forums/en/wow/topic/12190318937)'\n"
     ]
    },
    {
     "name": "stdout",
     "output_type": "stream",
     "text": [
      "Exiting\n'posts: 3'\nPROGRESS: 26% (3136/11783)\nu'[probably compaired a zillion times] (/forums/en/wow/topic/12130723380)'\n"
     ]
    },
    {
     "name": "stdout",
     "output_type": "stream",
     "text": [
      "Exiting\n'posts: 2'\nPROGRESS: 26% (3137/11783)\nu'[Blood DPS spec making a comeback?] (/forums/en/wow/topic/12130493193)'\n"
     ]
    },
    {
     "name": "stdout",
     "output_type": "stream",
     "text": [
      "Exiting\n'posts: 8'\nPROGRESS: 26% (3138/11783)\nu'[Necrotic Strike Removal] (/forums/en/wow/topic/10922872781)'\n"
     ]
    },
    {
     "name": "stdout",
     "output_type": "stream",
     "text": [
      "Exiting\n'posts: 31'\nPROGRESS: 26% (3139/11783)\nu'[Necrotic Plague nerfed on WoD Beta... AGAIN] (/forums/en/wow/topic/11467466669)'\n"
     ]
    },
    {
     "name": "stdout",
     "output_type": "stream",
     "text": [
      "Exiting\n'posts: 38'\nPROGRESS: 26% (3140/11783)\nu'[Haste v Mastery v Crit v Strength] (/forums/en/wow/topic/12130533747)'\n"
     ]
    },
    {
     "name": "stdout",
     "output_type": "stream",
     "text": [
      "Exiting\n'posts: 7'\nPROGRESS: 26% (3141/11783)\nu'[Dps seems low] (/forums/en/wow/topic/12130242977)'\n"
     ]
    },
    {
     "name": "stdout",
     "output_type": "stream",
     "text": [
      "Exiting\n'posts: 28'\nPROGRESS: 26% (3142/11783)\nu'[blood tanking in wod?] (/forums/en/wow/topic/11890060195)'\n"
     ]
    },
    {
     "name": "stdout",
     "output_type": "stream",
     "text": [
      "Exiting\n'posts: 7'\nPROGRESS: 26% (3143/11783)\nu'[Blood pvp] (/forums/en/wow/topic/12130803140)'\n"
     ]
    },
    {
     "name": "stdout",
     "output_type": "stream",
     "text": [
      "Exiting\n'posts: 2'\nPROGRESS: 26% (3144/11783)\nu'[[PVP] Unholy DK questions] (/forums/en/wow/topic/12108160695)'\n"
     ]
    },
    {
     "name": "stdout",
     "output_type": "stream",
     "text": [
      "[Errno 10054] An existing connection was forcibly closed by the remote host\n"
     ]
    },
    {
     "name": "stdout",
     "output_type": "stream",
     "text": [
      "Exiting\n'posts: 7'\nPROGRESS: 26% (3145/11783)\nu'[low ilvl blood tanking.] (/forums/en/wow/topic/11982758228)'\n"
     ]
    },
    {
     "name": "stdout",
     "output_type": "stream",
     "text": [
      "Exiting\n'posts: 13'\nPROGRESS: 26% (3146/11783)\nu'[[WoD Beta] Our new PvP spec is...] (/forums/en/wow/topic/12041534248)'\n"
     ]
    },
    {
     "name": "stdout",
     "output_type": "stream",
     "text": [
      "Exiting\n'posts: 8'\nPROGRESS: 26% (3147/11783)\nu'[Unholy superior to Frost in WOD] (/forums/en/wow/topic/11982758453)'\n"
     ]
    },
    {
     "name": "stdout",
     "output_type": "stream",
     "text": [
      "Exiting\n'posts: 14'\nPROGRESS: 26% (3148/11783)\nu'[Challenge mod question - frost dk] (/forums/en/wow/topic/11982458742)'\nHTTPError = 404\n"
     ]
    },
    {
     "name": "stdout",
     "output_type": "stream",
     "text": [
      "Exiting\n'posts: 7'\nPROGRESS: 26% (3149/11783)\nu'[Rate the DK`s Transmog :)] (/forums/en/wow/topic/12100399952)'\nHTTPError = 404\n"
     ]
    },
    {
     "name": "stdout",
     "output_type": "stream",
     "text": [
      "Exiting\n'posts: 1'\nPROGRESS: 26% (3150/11783)\n"
     ]
    },
    {
     "name": "stdout",
     "output_type": "stream",
     "text": [
      "u'[Frost-/Plauge Knight, Get Good....] (/forums/en/wow/topic/12041534344)'\n"
     ]
    },
    {
     "name": "stdout",
     "output_type": "stream",
     "text": [
      "Exiting\n'posts: 4'\nPROGRESS: 26% (3151/11783)\nu'[Help My DPS] (/forums/en/wow/topic/11982758739)'\n"
     ]
    },
    {
     "name": "stdout",
     "output_type": "stream",
     "text": [
      "Exiting\n'posts: 9'\nPROGRESS: 26% (3152/11783)\nu'[How will u level in WOD] (/forums/en/wow/topic/12042194638)'\n"
     ]
    },
    {
     "name": "stdout",
     "output_type": "stream",
     "text": [
      "Exiting\n'posts: 11'\nPROGRESS: 26% (3153/11783)\nu'[Are we still a \"hero\" class?] (/forums/en/wow/topic/11759887174)'\n"
     ]
    },
    {
     "name": "stdout",
     "output_type": "stream",
     "text": [
      "Exiting\n'posts: 26'\nPROGRESS: 26% (3154/11783)\nu'[Death Pact + Purgatory, WoD] (/forums/en/wow/topic/12042194520)'\n"
     ]
    },
    {
     "name": "stdout",
     "output_type": "stream",
     "text": [
      "Exiting\n'posts: 5'\nPROGRESS: 26% (3155/11783)\nu'[BloodTanking and Fallen Crusader - Tanking Runeforge?] (/forums/en/wow/topic/12041754447)'\n"
     ]
    },
    {
     "name": "stdout",
     "output_type": "stream",
     "text": [
      "Exiting\n'posts: 3'\nPROGRESS: 26% (3156/11783)\nu'[Blood tanking help] (/forums/en/wow/topic/12042444343)'\n"
     ]
    },
    {
     "name": "stdout",
     "output_type": "stream",
     "text": [
      "Exiting\n'posts: 2'\nPROGRESS: 26% (3157/11783)\nu'[Are DKs good at pvp?] (/forums/en/wow/topic/11889999623)'\n"
     ]
    },
    {
     "name": "stdout",
     "output_type": "stream",
     "text": [
      "[Errno 10054] An existing connection was forcibly closed by the remote host\n"
     ]
    },
    {
     "name": "stdout",
     "output_type": "stream",
     "text": [
      "HTTPError = 404\n"
     ]
    },
    {
     "name": "stdout",
     "output_type": "stream",
     "text": [
      "Exiting\n'posts: 7'\nPROGRESS: 26% (3158/11783)\nu'[Im so bad in Proving Grounds!] (/forums/en/wow/topic/10494861839)'\n"
     ]
    },
    {
     "name": "stdout",
     "output_type": "stream",
     "text": [
      "Exiting\n'posts: 12'\nPROGRESS: 26% (3159/11783)\nu'[NP versus FF/BP revisited] (/forums/en/wow/topic/11982358278)'\n"
     ]
    },
    {
     "name": "stdout",
     "output_type": "stream",
     "text": [
      "Exiting\n'posts: 10'\nPROGRESS: 26% (3160/11783)\nu'[UH gems - Which ones?] (/forums/en/wow/topic/11982518713)'\n"
     ]
    },
    {
     "name": "stdout",
     "output_type": "stream",
     "text": [
      "Exiting\n'posts: 6'\nPROGRESS: 26% (3161/11783)\nu'[DK dps in 5.4 (NOT PVP)] (/forums/en/wow/topic/8427192911)'\n"
     ]
    },
    {
     "name": "stdout",
     "output_type": "stream",
     "text": [
      "[Errno 10054] An existing connection was forcibly closed by the remote host\n"
     ]
    },
    {
     "name": "stdout",
     "output_type": "stream",
     "text": [
      "Exiting\n'posts: 18'\nPROGRESS: 26% (3162/11783)\nu'[Rate the Death Knight set above you part 8] (/forums/en/wow/topic/10494791384)'\n"
     ]
    },
    {
     "name": "stdout",
     "output_type": "stream",
     "text": [
      "Exiting\n'posts: 482'\nPROGRESS: 26% (3163/11783)\nu'[[PTR] 5.4 DK Concerns, Tier16 and DPS (PvE)] (/forums/en/wow/topic/7762386329)'\nHTTPError = 404\n"
     ]
    },
    {
     "name": "stdout",
     "output_type": "stream",
     "text": [
      "Exiting\n'posts: 11'\nPROGRESS: 26% (3164/11783)\nu'[Soloable content?] (/forums/en/wow/topic/11761416541)'\n"
     ]
    },
    {
     "name": "stdout",
     "output_type": "stream",
     "text": [
      "Exiting\n'posts: 7'\nPROGRESS: 26% (3165/11783)\nu'[Some thoughts, after dueling, my first reaction] (/forums/en/wow/topic/11982298528)'\n"
     ]
    },
    {
     "name": "stdout",
     "output_type": "stream",
     "text": [
      "Exiting\n'posts: 1'\nPROGRESS: 26% (3166/11783)\nu'[New to Unholy (PvP), need some advice] (/forums/en/wow/topic/11982758208)'\n"
     ]
    },
    {
     "name": "stdout",
     "output_type": "stream",
     "text": [
      "Exiting\n'posts: 4'\nPROGRESS: 26% (3167/11783)\nu'[Few questions about Unholy PvP] (/forums/en/wow/topic/11889520068)'\n"
     ]
    },
    {
     "name": "stdout",
     "output_type": "stream",
     "text": [
      "Exiting\n'posts: 8'\nPROGRESS: 26% (3168/11783)\nu'[Tips for a Arena/pvp?] (/forums/en/wow/topic/11889850049)'\n"
     ]
    },
    {
     "name": "stdout",
     "output_type": "stream",
     "text": [
      "Exiting\n'posts: 4'\nPROGRESS: 26% (3169/11783)\nu'[No macro guide/etc for DK?] (/forums/en/wow/topic/11890310242)'\n"
     ]
    },
    {
     "name": "stdout",
     "output_type": "stream",
     "text": [
      "Exiting\n'posts: 3'\nPROGRESS: 26% (3170/11783)\nu'[UD or BE dk for pvp WOD?] (/forums/en/wow/topic/11890359470)'\n"
     ]
    },
    {
     "name": "stdout",
     "output_type": "stream",
     "text": [
      "Exiting\n'posts: 8'\nPROGRESS: 26% (3171/11783)\nu'[What race do you think looks best for DK?] (/forums/en/wow/topic/11761876463)'\n"
     ]
    },
    {
     "name": "stdout",
     "output_type": "stream",
     "text": [
      "Exiting\n'posts: 22'\nPROGRESS: 26% (3172/11783)\nu'[How can I improve my survivability?] (/forums/en/wow/topic/11761017602)'\n"
     ]
    },
    {
     "name": "stdout",
     "output_type": "stream",
     "text": [
      "Exiting\n'posts: 6'\nPROGRESS: 26% (3173/11783)\nu'[Low damage in 2s?] (/forums/en/wow/topic/11892129889)'\n"
     ]
    },
    {
     "name": "stdout",
     "output_type": "stream",
     "text": [
      "Exiting\n'posts: 7'\nPROGRESS: 26% (3174/11783)\nu'[Blood DKs in WoD] (/forums/en/wow/topic/11889539408)'\n"
     ]
    },
    {
     "name": "stdout",
     "output_type": "stream",
     "text": [
      "Exiting\n'posts: 16'\nPROGRESS: 26% (3175/11783)\nu'[My feelings about Death Knights...] (/forums/en/wow/topic/11889519061)'\n"
     ]
    },
    {
     "name": "stdout",
     "output_type": "stream",
     "text": [
      "Exiting\n'posts: 8'\nPROGRESS: 26% (3176/11783)\nu'[DK or Hunter?] (/forums/en/wow/topic/11890059563)'\n"
     ]
    },
    {
     "name": "stdout",
     "output_type": "stream",
     "text": [
      "Exiting\n'posts: 2'\nPROGRESS: 26% (3177/11783)\nu'[2h or DW Frost for Challenge Modes?] (/forums/en/wow/topic/11660566517)'\n"
     ]
    },
    {
     "name": "stdout",
     "output_type": "stream",
     "text": [
      "Exiting\n'posts: 13'\nPROGRESS: 26% (3178/11783)\nu'[rename the specs] (/forums/en/wow/topic/11889519275)'\n"
     ]
    },
    {
     "name": "stdout",
     "output_type": "stream",
     "text": [
      "Exiting\n'posts: 6'\nPROGRESS: 26% (3179/11783)\nu'[WoD Unholy DK, Death coil and Multi Strike.] (/forums/en/wow/topic/11759887445)'\n"
     ]
    },
    {
     "name": "stdout",
     "output_type": "stream",
     "text": [
      "Exiting\n'posts: 8'\nPROGRESS: 26% (3180/11783)\nu\"[DK's rejoice nobbel has found ur highlord] (/forums/en/wow/topic/11761046457)\"\n"
     ]
    },
    {
     "name": "stdout",
     "output_type": "stream",
     "text": [
      "Exiting\n'posts: 3'\nPROGRESS: 26% (3181/11783)\nu'[how the !@#$ do i survive blood rage phase? (10man HC)] (/forums/en/wow/topic/11759887611)'\n"
     ]
    },
    {
     "name": "stdout",
     "output_type": "stream",
     "text": [
      "Exiting\n'posts: 5'\nPROGRESS: 27% (3182/11783)\nu\"[PvP - I don't know what the !@#$ to do] (/forums/en/wow/topic/11760506849)\"\n"
     ]
    },
    {
     "name": "stdout",
     "output_type": "stream",
     "text": [
      "Exiting\n'posts: 4'\nPROGRESS: 27% (3183/11783)\nu'[Beta dks] (/forums/en/wow/topic/11760016798)'\n"
     ]
    },
    {
     "name": "stdout",
     "output_type": "stream",
     "text": [
      "Exiting\n'posts: 8'\nPROGRESS: 27% (3184/11783)\nu'[Picking up blood as off-spec(from unholy)] (/forums/en/wow/topic/11602490339)'\n"
     ]
    },
    {
     "name": "stdout",
     "output_type": "stream",
     "text": [
      "Exiting\n'posts: 6'\nPROGRESS: 27% (3185/11783)\nu'[What is this?] (/forums/en/wow/topic/11760016575)'\n"
     ]
    },
    {
     "name": "stdout",
     "output_type": "stream",
     "text": [
      "Exiting\n'posts: 8'\nPROGRESS: 27% (3186/11783)\nu'[Drop me some answers to these quick DK questions.] (/forums/en/wow/topic/11664457250)'\nHTTPError = 404\n"
     ]
    },
    {
     "name": "stdout",
     "output_type": "stream",
     "text": [
      "Exiting\n'posts: 8'\nPROGRESS: 27% (3187/11783)\nu'[Death Coil Macro] (/forums/en/wow/topic/11760376003)'\n"
     ]
    },
    {
     "name": "stdout",
     "output_type": "stream",
     "text": [
      "Exiting\n'posts: 3'\nPROGRESS: 27% (3188/11783)\nu'[New Runeforgings] (/forums/en/wow/topic/11760997000)'\n"
     ]
    },
    {
     "name": "stdout",
     "output_type": "stream",
     "text": [
      "Exiting\n'posts: 2'\nPROGRESS: 27% (3189/11783)\nu'[Ice rotation] (/forums/en/wow/topic/11760376066)'\n"
     ]
    },
    {
     "name": "stdout",
     "output_type": "stream",
     "text": [
      "Exiting\n'posts: 6'\nPROGRESS: 27% (3190/11783)\nu'[What spec for pve dk?] (/forums/en/wow/topic/11633793315)'\n"
     ]
    },
    {
     "name": "stdout",
     "output_type": "stream",
     "text": [
      "Exiting\n'posts: 8'\nPROGRESS: 27% (3191/11783)\nu'[Bloody Dancing Steel] (/forums/en/wow/topic/11760015957)'\n"
     ]
    },
    {
     "name": "stdout",
     "output_type": "stream",
     "text": [
      "Exiting\n'posts: 10'\nPROGRESS: 27% (3192/11783)\nu'[Death Knight or Paladin, what is stronger?] (/forums/en/wow/topic/7257316668)'\n"
     ]
    },
    {
     "name": "stdout",
     "output_type": "stream",
     "text": [
      "Exiting\n'posts: 6'\nPROGRESS: 27% (3193/11783)\nu'[Few questions on Blood] (/forums/en/wow/topic/11761046252)'\n"
     ]
    },
    {
     "name": "stdout",
     "output_type": "stream",
     "text": [
      "Exiting\n'posts: 5'\nPROGRESS: 27% (3194/11783)\nu'[Pillar of Frost redundant?] (/forums/en/wow/topic/11759886183)'\n"
     ]
    },
    {
     "name": "stdout",
     "output_type": "stream",
     "text": [
      "Exiting\n'posts: 4'\nPROGRESS: 27% (3195/11783)\nu'[Level 100 talents buffed] (/forums/en/wow/topic/11633233415)'\n"
     ]
    },
    {
     "name": "stdout",
     "output_type": "stream",
     "text": [
      "Exiting\n'posts: 9'\nPROGRESS: 27% (3196/11783)\nu'[Unholy DK playstyle and rotation] (/forums/en/wow/topic/11664747429)'\n"
     ]
    },
    {
     "name": "stdout",
     "output_type": "stream",
     "text": [
      "Exiting\n'posts: 3'\nPROGRESS: 27% (3197/11783)\nu'[Ultimate deathknight Belt !] (/forums/en/wow/topic/11663087147)'\n"
     ]
    },
    {
     "name": "stdout",
     "output_type": "stream",
     "text": [
      "Exiting\n'posts: 8'\nPROGRESS: 27% (3198/11783)\nu'[Gemming as a DK] (/forums/en/wow/topic/11548525626)'\n"
     ]
    },
    {
     "name": "stdout",
     "output_type": "stream",
     "text": [
      "Exiting\n'posts: 13'\nPROGRESS: 27% (3199/11783)\nu'[Night elfs in WoD animation] (/forums/en/wow/topic/11662816268)'\n"
     ]
    },
    {
     "name": "stdout",
     "output_type": "stream",
     "text": [
      "HTTPError = 404\n"
     ]
    },
    {
     "name": "stdout",
     "output_type": "stream",
     "text": [
      "Exiting\n'posts: 4'\nPROGRESS: 27% (3200/11783)\n"
     ]
    },
    {
     "name": "stdout",
     "output_type": "stream",
     "text": [
      "u'[Vanilla wow player coming back need some help please.] (/forums/en/wow/topic/11662817119)'\n"
     ]
    },
    {
     "name": "stdout",
     "output_type": "stream",
     "text": [
      "Exiting\n'posts: 3'\nPROGRESS: 27% (3201/11783)\nu'[Death knight..] (/forums/en/wow/topic/11547315039)'\n"
     ]
    },
    {
     "name": "stdout",
     "output_type": "stream",
     "text": [
      "Exiting\n'posts: 6'\nPROGRESS: 27% (3202/11783)\nu'[Tanking for WOD] (/forums/en/wow/topic/11662896511)'\n"
     ]
    },
    {
     "name": "stdout",
     "output_type": "stream",
     "text": [
      "Exiting\n'posts: 3'\nPROGRESS: 27% (3203/11783)\nu'[Levellling] (/forums/en/wow/topic/11547144919)'\n"
     ]
    },
    {
     "name": "stdout",
     "output_type": "stream",
     "text": [
      "Exiting\n'posts: 7'\nPROGRESS: 27% (3204/11783)\nu'[What are your opinions on the changes to Blood?] (/forums/en/wow/topic/11633233273)'\n"
     ]
    },
    {
     "name": "stdout",
     "output_type": "stream",
     "text": [
      "Exiting\n'posts: 10'\nPROGRESS: 27% (3205/11783)\nu'[Killing Machine: Over 9000!!!] (/forums/en/wow/topic/11633143426)'\n"
     ]
    },
    {
     "name": "stdout",
     "output_type": "stream",
     "text": [
      "Exiting\n'posts: 3'\nPROGRESS: 27% (3206/11783)\nu'[are uou gonna play dk in WoD] (/forums/en/wow/topic/11660435936)'\n"
     ]
    },
    {
     "name": "stdout",
     "output_type": "stream",
     "text": [
      "[Errno 10054] An existing connection was forcibly closed by the remote host\n"
     ]
    },
    {
     "name": "stdout",
     "output_type": "stream",
     "text": [
      "[Errno 10054] An existing connection was forcibly closed by the remote host\n"
     ]
    },
    {
     "name": "stdout",
     "output_type": "stream",
     "text": [
      "Exiting\n'posts: 8'\nPROGRESS: 27% (3207/11783)\nu'[Frost DK-Switching between weps to use FS & Obliterate?] (/forums/en/wow/topic/11663116329)'\n"
     ]
    },
    {
     "name": "stdout",
     "output_type": "stream",
     "text": [
      "Exiting\n'posts: 3'\nPROGRESS: 27% (3208/11783)\nu'[Best Alliance Race for DK in WoD] (/forums/en/wow/topic/11602260172)'\n"
     ]
    },
    {
     "name": "stdout",
     "output_type": "stream",
     "text": [
      "Exiting\n'posts: 11'\nPROGRESS: 27% (3209/11783)\nu'[#Acherus DK Roundtable and Beta Key Giveaway] (/forums/en/wow/topic/11664846564)'\n"
     ]
    },
    {
     "name": "stdout",
     "output_type": "stream",
     "text": [
      "Exiting\n'posts: 1'\nPROGRESS: 27% (3210/11783)\nu'[562 Blood Dk, reforging] (/forums/en/wow/topic/11663086335)'\n"
     ]
    },
    {
     "name": "stdout",
     "output_type": "stream",
     "text": [
      "Exiting\n'posts: 3'\nPROGRESS: 27% (3211/11783)\nu'[Adding Battle tag] (/forums/en/wow/topic/11634143465)'\n"
     ]
    },
    {
     "name": "stdout",
     "output_type": "stream",
     "text": [
      "Exiting\n'posts: 4'\nPROGRESS: 27% (3212/11783)\nu'[Gifts for Warriors - Ability pruning for DKs] (/forums/en/wow/topic/11602200365)'\n"
     ]
    },
    {
     "name": "stdout",
     "output_type": "stream",
     "text": [
      "HTTPError = 404\n"
     ]
    },
    {
     "name": "stdout",
     "output_type": "stream",
     "text": [
      "Exiting\n'posts: 7'\nPROGRESS: 27% (3213/11783)\nu'[Frost DK in PvP] (/forums/en/wow/topic/11603200217)'\n"
     ]
    },
    {
     "name": "stdout",
     "output_type": "stream",
     "text": [
      "Exiting\n'posts: 8'\nPROGRESS: 27% (3214/11783)\nu'[Death Knight] (/forums/en/wow/topic/11404491146)'\n"
     ]
    },
    {
     "name": "stdout",
     "output_type": "stream",
     "text": [
      "Exiting\n'posts: 10'\nPROGRESS: 27% (3215/11783)\nu'[Give Runeforging some unique visuals!] (/forums/en/wow/topic/11602880477)'\n"
     ]
    },
    {
     "name": "stdout",
     "output_type": "stream",
     "text": [
      "Exiting\n'posts: 6'\nPROGRESS: 27% (3216/11783)\nu\"[Petition: Templar's Verdict animation] (/forums/en/wow/topic/11602490392)\"\n"
     ]
    },
    {
     "name": "stdout",
     "output_type": "stream",
     "text": [
      "Exiting\n'posts: 4'\nPROGRESS: 27% (3217/11783)\nu'[Why crit over Haste 2h Dk] (/forums/en/wow/topic/11603200489)'\n"
     ]
    },
    {
     "name": "stdout",
     "output_type": "stream",
     "text": [
      "[Errno 10054] An existing connection was forcibly closed by the remote host\n"
     ]
    },
    {
     "name": "stdout",
     "output_type": "stream",
     "text": [
      "[Errno 10054] An existing connection was forcibly closed by the remote host\n"
     ]
    },
    {
     "name": "stdout",
     "output_type": "stream",
     "text": [
      "Exiting\n'posts: 5'\nPROGRESS: 27% (3218/11783)\nu'[No blood presence = Dead?] (/forums/en/wow/topic/11490919012)'\n"
     ]
    },
    {
     "name": "stdout",
     "output_type": "stream",
     "text": [
      "Exiting\n'posts: 28'\nPROGRESS: 27% (3219/11783)\nu'[Hellooooooooooooooooooooooooo] (/forums/en/wow/topic/11547145333)'\n"
     ]
    },
    {
     "name": "stdout",
     "output_type": "stream",
     "text": [
      "Exiting\n'posts: 8'\nPROGRESS: 27% (3220/11783)\nu'[Tanking UI - What do you use?] (/forums/en/wow/topic/11602490252)'\n"
     ]
    },
    {
     "name": "stdout",
     "output_type": "stream",
     "text": [
      "Exiting\n'posts: 6'\nPROGRESS: 27% (3221/11783)\nu'[Interesting Thread] (/forums/en/wow/topic/11602260189)'\n"
     ]
    },
    {
     "name": "stdout",
     "output_type": "stream",
     "text": [
      "Exiting\n'posts: 5'\nPROGRESS: 27% (3222/11783)\nu'[Frost DK - One-hand or Two-hand?] (/forums/en/wow/topic/8819812571)'\n"
     ]
    },
    {
     "name": "stdout",
     "output_type": "stream",
     "text": [
      "Exiting\n'posts: 16'\nPROGRESS: 27% (3223/11783)\nu'[Any other pets?] (/forums/en/wow/topic/11546665232)'\n"
     ]
    },
    {
     "name": "stdout",
     "output_type": "stream",
     "text": [
      "Exiting\n'posts: 6'\nPROGRESS: 27% (3224/11783)\nu'[Dedicated PVP tank] (/forums/en/wow/topic/11546665271)'\nHTTPError = 404\n"
     ]
    },
    {
     "name": "stdout",
     "output_type": "stream",
     "text": [
      "Exiting\n'posts: 6'\nPROGRESS: 27% (3225/11783)\nu'[AoE as DK in WoD] (/forums/en/wow/topic/11546495113)'\n"
     ]
    },
    {
     "name": "stdout",
     "output_type": "stream",
     "text": [
      "Exiting\n'posts: 15'\nPROGRESS: 27% (3226/11783)\nu'[Newb DK seeking advice] (/forums/en/wow/topic/11546494702)'\n"
     ]
    },
    {
     "name": "stdout",
     "output_type": "stream",
     "text": [
      "[Errno 10054] An existing connection was forcibly closed by the remote host\n"
     ]
    },
    {
     "name": "stdout",
     "output_type": "stream",
     "text": [
      "Exiting\n'posts: 8'\nPROGRESS: 27% (3227/11783)\nu'[Frost not changing from MoP] (/forums/en/wow/topic/11501150436)'\n"
     ]
    },
    {
     "name": "stdout",
     "output_type": "stream",
     "text": [
      "[Errno 10054] An existing connection was forcibly closed by the remote host\n"
     ]
    },
    {
     "name": "stdout",
     "output_type": "stream",
     "text": [
      "Exiting\n'posts: 28'\nPROGRESS: 27% (3228/11783)\nu'[Avengers plate gear viable for blood?] (/forums/en/wow/topic/11548085211)'\n"
     ]
    },
    {
     "name": "stdout",
     "output_type": "stream",
     "text": [
      "Exiting\n'posts: 4'\nPROGRESS: 27% (3229/11783)\nu'[Blood DK Question For WoD] (/forums/en/wow/topic/11547315154)'\n"
     ]
    },
    {
     "name": "stdout",
     "output_type": "stream",
     "text": [
      "Exiting\n'posts: 2'\nPROGRESS: 27% (3230/11783)\nu'[WoD changes, looking for tips.] (/forums/en/wow/topic/11546504983)'\n"
     ]
    },
    {
     "name": "stdout",
     "output_type": "stream",
     "text": [
      "Exiting\n'posts: 1'\nPROGRESS: 27% (3231/11783)\nu\"[Any other Class AoE's like a DK?] (/forums/en/wow/topic/11540363992)\"\n"
     ]
    },
    {
     "name": "stdout",
     "output_type": "stream",
     "text": [
      "Exiting\n'posts: 12'\nPROGRESS: 27% (3232/11783)\nu'[Is it possible to solo Valithria Dreamwalker (ICC)?] (/forums/en/wow/topic/11501220202)'\n"
     ]
    },
    {
     "name": "stdout",
     "output_type": "stream",
     "text": [
      "Exiting\n'posts: 13'\nPROGRESS: 27% (3233/11783)\nu'[Boosting Death Knight to level 90!] (/forums/en/wow/topic/10033603754)'\n"
     ]
    },
    {
     "name": "stdout",
     "output_type": "stream",
     "text": [
      "Exiting\n'posts: 5'\nPROGRESS: 27% (3234/11783)\nu'[WoD: Blood as DPS?] (/forums/en/wow/topic/11502390962)'\n"
     ]
    },
    {
     "name": "stdout",
     "output_type": "stream",
     "text": [
      "Exiting\n'posts: 13'\nPROGRESS: 27% (3235/11783)\nu'[Unholy specc missing character?] (/forums/en/wow/topic/11548084872)'\n"
     ]
    },
    {
     "name": "stdout",
     "output_type": "stream",
     "text": [
      "Exiting\n'posts: 3'\nPROGRESS: 27% (3236/11783)\nu'[Is my gear hurting my dps or do I need to improve?] (/forums/en/wow/topic/11546504535)'\n"
     ]
    },
    {
     "name": "stdout",
     "output_type": "stream",
     "text": [
      "[Errno 10054] An existing connection was forcibly closed by the remote host\n"
     ]
    },
    {
     "name": "stdout",
     "output_type": "stream",
     "text": [
      "Exiting\n'posts: 14'\nPROGRESS: 27% (3237/11783)\nu'[Help for newb DK Unholy] (/forums/en/wow/topic/11502500523)'\n"
     ]
    },
    {
     "name": "stdout",
     "output_type": "stream",
     "text": [
      "Exiting\n'posts: 3'\nPROGRESS: 27% (3238/11783)\nu'[WoD DK Partner] (/forums/en/wow/topic/11502960711)'\n"
     ]
    },
    {
     "name": "stdout",
     "output_type": "stream",
     "text": [
      "Exiting\n'posts: 2'\nPROGRESS: 27% (3239/11783)\nu'[Frost DK in PVP] (/forums/en/wow/topic/11536023526)'\n"
     ]
    },
    {
     "name": "stdout",
     "output_type": "stream",
     "text": [
      "Exiting\n'posts: 2'\nPROGRESS: 27% (3240/11783)\nu'[Rise Ally without Runic Cost] (/forums/en/wow/topic/11503060501)'\n"
     ]
    },
    {
     "name": "stdout",
     "output_type": "stream",
     "text": [
      "Exiting\n'posts: 13'\nPROGRESS: 27% (3241/11783)\nu\"[So I'm learning the hard class (frost) AoE rotation] (/forums/en/wow/topic/11478907980)\"\n"
     ]
    },
    {
     "name": "stdout",
     "output_type": "stream",
     "text": [
      "Exiting\n'posts: 13'\nPROGRESS: 27% (3242/11783)\nu'[DK in 2v2- advice needed] (/forums/en/wow/topic/7646685317)'\n"
     ]
    },
    {
     "name": "stdout",
     "output_type": "stream",
     "text": [
      "Exiting\n'posts: 10'\nPROGRESS: 27% (3243/11783)\nu'[Unholy death knight BAD? - HELP] (/forums/en/wow/topic/11268727205)'\n"
     ]
    },
    {
     "name": "stdout",
     "output_type": "stream",
     "text": [
      "Exiting\n'posts: 23'\nPROGRESS: 27% (3244/11783)\nu'[Newb needs advice] (/forums/en/wow/topic/11502960272)'\n"
     ]
    },
    {
     "name": "stdout",
     "output_type": "stream",
     "text": [
      "Exiting\n'posts: 5'\nPROGRESS: 27% (3245/11783)\nu'[Idea for DK Cosmetics] (/forums/en/wow/topic/11490799140)'\n"
     ]
    },
    {
     "name": "stdout",
     "output_type": "stream",
     "text": [
      "Exiting\n'posts: 3'\nPROGRESS: 27% (3246/11783)\nu'[idea to mix anti magic shield and dark  simulacrum] (/forums/en/wow/topic/11478357794)'\n"
     ]
    },
    {
     "name": "stdout",
     "output_type": "stream",
     "text": [
      "HTTPError = 404\n"
     ]
    },
    {
     "name": "stdout",
     "output_type": "stream",
     "text": [
      "Exiting\n'posts: 7'\nPROGRESS: 27% (3247/11783)\nu'[Tips for Blood DK?] (/forums/en/wow/topic/11478687859)'\n"
     ]
    },
    {
     "name": "stdout",
     "output_type": "stream",
     "text": [
      "Exiting\n'posts: 4'\nPROGRESS: 27% (3248/11783)\nu'[Better get used to being a damage bot...] (/forums/en/wow/topic/11478867891)'\n"
     ]
    },
    {
     "name": "stdout",
     "output_type": "stream",
     "text": [
      "Exiting\n'posts: 21'\nPROGRESS: 27% (3249/11783)\nu\"[Dust of your 'Mogs and showcase 'em!] (/forums/en/wow/topic/11405730566)\"\n"
     ]
    },
    {
     "name": "stdout",
     "output_type": "stream",
     "text": [
      "Exiting\n'posts: 11'\nPROGRESS: 27% (3250/11783)\n"
     ]
    },
    {
     "name": "stdout",
     "output_type": "stream",
     "text": [
      "u\"[What's our main stat going to be next expansion?] (/forums/en/wow/topic/11405770727)\"\n"
     ]
    },
    {
     "name": "stdout",
     "output_type": "stream",
     "text": [
      "Exiting\n'posts: 19'\nPROGRESS: 27% (3251/11783)\nu'[Nerf Death strike] (/forums/en/wow/topic/11478357733)'\n"
     ]
    },
    {
     "name": "stdout",
     "output_type": "stream",
     "text": [
      "Exiting\n'posts: 4'\nPROGRESS: 27% (3252/11783)\nu'[Dual Wield Unholy?] (/forums/en/wow/topic/11467806805)'\n"
     ]
    },
    {
     "name": "stdout",
     "output_type": "stream",
     "text": [
      "Exiting\n'posts: 6'\nPROGRESS: 27% (3253/11783)\nu'[I Want To Kill Garrosh- Help?] (/forums/en/wow/topic/11478137712)'\n"
     ]
    },
    {
     "name": "stdout",
     "output_type": "stream",
     "text": [
      "Exiting\n'posts: 4'\nPROGRESS: 27% (3254/11783)\nu'[\"Garrosh smash!\".. makes me feel squishy, any tips?] (/forums/en/wow/topic/11467496685)'\n"
     ]
    },
    {
     "name": "stdout",
     "output_type": "stream",
     "text": [
      "[Errno 10054] An existing connection was forcibly closed by the remote host\n"
     ]
    },
    {
     "name": "stdout",
     "output_type": "stream",
     "text": [
      "Exiting\n'posts: 9'\nPROGRESS: 27% (3255/11783)\nu'[HELP! Mages and Warriors in 2s] (/forums/en/wow/topic/11467516686)'\n"
     ]
    },
    {
     "name": "stdout",
     "output_type": "stream",
     "text": [
      "Exiting\n'posts: 2'\nPROGRESS: 27% (3256/11783)\nu'[Unholy Blight, Necrotic Plague and Chilblains for WoD] (/forums/en/wow/topic/11461156066)'\n"
     ]
    },
    {
     "name": "stdout",
     "output_type": "stream",
     "text": [
      "Exiting\n'posts: 4'\nPROGRESS: 27% (3257/11783)\nu'[Continual snare for 30 seconds...] (/forums/en/wow/topic/10494463670)'\n"
     ]
    },
    {
     "name": "stdout",
     "output_type": "stream",
     "text": [
      "Exiting\n'posts: 18'\nPROGRESS: 27% (3258/11783)\nu'[Blood help hands] (/forums/en/wow/topic/11461156028)'\n"
     ]
    },
    {
     "name": "stdout",
     "output_type": "stream",
     "text": [
      "Exiting\n'posts: 1'\nPROGRESS: 27% (3259/11783)\nu'[[DW Frost DK] Worried about the Lv. 100 talents.] (/forums/en/wow/topic/11404491021)'\n"
     ]
    },
    {
     "name": "stdout",
     "output_type": "stream",
     "text": [
      "Exiting\n'posts: 7'\nPROGRESS: 27% (3260/11783)\nu'[WoD Necrotic Plague and 2set PvP bonus] (/forums/en/wow/topic/11404420701)'\n"
     ]
    },
    {
     "name": "stdout",
     "output_type": "stream",
     "text": [
      "Exiting\n'posts: 6'\nPROGRESS: 27% (3261/11783)\nu'[Why is Raise Dead being removed for Frost?] (/forums/en/wow/topic/11405731194)'\n"
     ]
    },
    {
     "name": "stdout",
     "output_type": "stream",
     "text": [
      "[Errno 10054] An existing connection was forcibly closed by the remote host\n"
     ]
    },
    {
     "name": "stdout",
     "output_type": "stream",
     "text": [
      "Exiting\n'posts: 11'\nPROGRESS: 27% (3262/11783)\nu'[DW frost, am i doing it wrong?] (/forums/en/wow/topic/11405140681)'\n"
     ]
    },
    {
     "name": "stdout",
     "output_type": "stream",
     "text": [
      "Exiting\n'posts: 12'\nPROGRESS: 27% (3263/11783)\nu'[Dk T16 Elite Pvp Gear... Those eyes...] (/forums/en/wow/topic/11324922882)'\n"
     ]
    },
    {
     "name": "stdout",
     "output_type": "stream",
     "text": [
      "Exiting\n'posts: 15'\nPROGRESS: 27% (3264/11783)\nu'[DKs are still the same as they were 4 years ago.] (/forums/en/wow/topic/11325033417)'\n"
     ]
    },
    {
     "name": "stdout",
     "output_type": "stream",
     "text": [
      "Exiting\n'posts: 19'\nPROGRESS: 27% (3265/11783)\nu'[Just started my PVP journey with DK and ...] (/forums/en/wow/topic/11406280907)'\n"
     ]
    },
    {
     "name": "stdout",
     "output_type": "stream",
     "text": [
      "Exiting\n'posts: 7'\nPROGRESS: 27% (3266/11783)\nu'[DK WoD Mythic/ElitePvP set! (aww yiss)] (/forums/en/wow/topic/11268606856)'\n"
     ]
    },
    {
     "name": "stdout",
     "output_type": "stream",
     "text": [
      "Exiting\n'posts: 12'\nPROGRESS: 27% (3267/11783)\nu'[Should I level a DK for PvP?] (/forums/en/wow/topic/11405240571)'\n"
     ]
    },
    {
     "name": "stdout",
     "output_type": "stream",
     "text": [
      "Exiting\n'posts: 3'\nPROGRESS: 27% (3268/11783)\nu'[FDK and haste?] (/forums/en/wow/topic/11268187154)'\n"
     ]
    },
    {
     "name": "stdout",
     "output_type": "stream",
     "text": [
      "Exiting\n'posts: 2'\nPROGRESS: 27% (3269/11783)\nu'[Runic Corruption VS Runic Empowerment?] (/forums/en/wow/topic/11267907154)'\nHTTPError = 404\n"
     ]
    },
    {
     "name": "stdout",
     "output_type": "stream",
     "text": [
      "Exiting\n'posts: 7'\nPROGRESS: 27% (3270/11783)\nu'[Quick Question- Raise Ally] (/forums/en/wow/topic/11268726974)'\n"
     ]
    },
    {
     "name": "stdout",
     "output_type": "stream",
     "text": [
      "[Errno 10054] An existing connection was forcibly closed by the remote host\n"
     ]
    },
    {
     "name": "stdout",
     "output_type": "stream",
     "text": [
      "Exiting\n'posts: 7'\nPROGRESS: 27% (3271/11783)\nu\"[so how are DK's doing at pvp?] (/forums/en/wow/topic/11325133378)\"\n"
     ]
    },
    {
     "name": "stdout",
     "output_type": "stream",
     "text": [
      "Exiting\n'posts: 3'\nPROGRESS: 27% (3272/11783)\nu'[Dear Blizzard,] (/forums/en/wow/topic/11325533626)'\n"
     ]
    },
    {
     "name": "stdout",
     "output_type": "stream",
     "text": [
      "Exiting\n'posts: 2'\nPROGRESS: 27% (3273/11783)\nu'[Does the resource system get more fast paced?] (/forums/en/wow/topic/11324622736)'\n"
     ]
    },
    {
     "name": "stdout",
     "output_type": "stream",
     "text": [
      "Exiting\n'posts: 9'\nPROGRESS: 27% (3274/11783)\nu'[Warlords of Dreanor Frost Death Knight] (/forums/en/wow/topic/11181808083)'\n"
     ]
    },
    {
     "name": "stdout",
     "output_type": "stream",
     "text": [
      "Exiting\n'posts: 66'\nPROGRESS: 27% (3275/11783)\nu'[PvP Unholy question about strenght/pvp power] (/forums/en/wow/topic/11325033394)'\n"
     ]
    },
    {
     "name": "stdout",
     "output_type": "stream",
     "text": [
      "Exiting\n'posts: 2'\nPROGRESS: 27% (3276/11783)\nu'[Going dual wield, which weapons are better?] (/forums/en/wow/topic/11325152552)'\n"
     ]
    },
    {
     "name": "stdout",
     "output_type": "stream",
     "text": [
      "Exiting\n'posts: 5'\nPROGRESS: 27% (3277/11783)\nu'[Death Knight Opinions] (/forums/en/wow/topic/11325482925)'\n"
     ]
    },
    {
     "name": "stdout",
     "output_type": "stream",
     "text": [
      "Exiting\n'posts: 4'\nPROGRESS: 27% (3278/11783)\nu'[Necrotic Plague - Finally] (/forums/en/wow/topic/11325033160)'\n"
     ]
    },
    {
     "name": "stdout",
     "output_type": "stream",
     "text": [
      "Exiting\n'posts: 1'\nPROGRESS: 27% (3279/11783)\nu'[Returning after almost a year] (/forums/en/wow/topic/11325532611)'\n"
     ]
    },
    {
     "name": "stdout",
     "output_type": "stream",
     "text": [
      "HTTPError = 404\n"
     ]
    },
    {
     "name": "stdout",
     "output_type": "stream",
     "text": [
      "Exiting\n'posts: 3'\nPROGRESS: 27% (3280/11783)\nu'[New Endgamer looking for gear critique/advice] (/forums/en/wow/topic/11267867854)'\n"
     ]
    },
    {
     "name": "stdout",
     "output_type": "stream",
     "text": [
      "Exiting\n'posts: 3'\nPROGRESS: 27% (3281/11783)\nu'[Unholy DK Pvp Wod ?] (/forums/en/wow/topic/11324392573)'\n"
     ]
    },
    {
     "name": "stdout",
     "output_type": "stream",
     "text": [
      "Exiting\n'posts: 3'\nPROGRESS: 27% (3282/11783)\nu'[10 DKs vs Garrosh HEROIC Recruitment] (/forums/en/wow/topic/11043815522)'\n"
     ]
    },
    {
     "name": "stdout",
     "output_type": "stream",
     "text": [
      "HTTPError = 404\n"
     ]
    },
    {
     "name": "stdout",
     "output_type": "stream",
     "text": [
      "Exiting\n'posts: 8'\nPROGRESS: 27% (3283/11783)\nu\"[[PVE] Are Blood dk's good atm?] (/forums/en/wow/topic/11181138908)\"\n"
     ]
    },
    {
     "name": "stdout",
     "output_type": "stream",
     "text": [
      "Exiting\n'posts: 12'\nPROGRESS: 27% (3284/11783)\nu'[what sort of gear do you need to solo cata raids?] (/forums/en/wow/topic/11324392469)'\n"
     ]
    },
    {
     "name": "stdout",
     "output_type": "stream",
     "text": [
      "Exiting\n'posts: 5'\nPROGRESS: 27% (3285/11783)\nu'[[Blood DK] Need Challenge Mode advice] (/forums/en/wow/topic/11325032682)'\n"
     ]
    },
    {
     "name": "stdout",
     "output_type": "stream",
     "text": [
      "HTTPError = 404\n"
     ]
    },
    {
     "name": "stdout",
     "output_type": "stream",
     "text": [
      "Exiting\n'posts: 1'\nPROGRESS: 27% (3286/11783)\nu'[Frost and Conversion as RP dump] (/forums/en/wow/topic/11181538347)'\nHTTPError = 404\n"
     ]
    },
    {
     "name": "stdout",
     "output_type": "stream",
     "text": [
      "Exiting\n'posts: 32'\nPROGRESS: 27% (3287/11783)\nu'[A quick DK question] (/forums/en/wow/topic/11268267667)'\n"
     ]
    },
    {
     "name": "stdout",
     "output_type": "stream",
     "text": [
      "HTTPError = 404\n"
     ]
    },
    {
     "name": "stdout",
     "output_type": "stream",
     "text": [
      "Exiting\n'posts: 5'\nPROGRESS: 27% (3288/11783)\nu'[ouch my !@#$!] (/forums/en/wow/topic/11322062106)'\n"
     ]
    },
    {
     "name": "stdout",
     "output_type": "stream",
     "text": [
      "HTTPError = 404\n"
     ]
    },
    {
     "name": "stdout",
     "output_type": "stream",
     "text": [
      "Exiting\n'posts: 8'\nPROGRESS: 27% (3289/11783)\nu'[Concern regarding Heart Strike removal (beta)] (/forums/en/wow/topic/11163816723)'\n"
     ]
    },
    {
     "name": "stdout",
     "output_type": "stream",
     "text": [
      "Exiting\n'posts: 6'\nPROGRESS: 27% (3290/11783)\nu'[So Happy] (/forums/en/wow/topic/11181168893)'\n"
     ]
    },
    {
     "name": "stdout",
     "output_type": "stream",
     "text": [
      "Exiting\n'posts: 7'\nPROGRESS: 27% (3291/11783)\nu'[WoD Blood Pestilence Spam] (/forums/en/wow/topic/11252855315)'\n"
     ]
    },
    {
     "name": "stdout",
     "output_type": "stream",
     "text": [
      "Exiting\n'posts: 8'\nPROGRESS: 27% (3292/11783)\nu'[New level 90, any tips on getting good weapons?] (/forums/en/wow/topic/9694049778)'\n"
     ]
    },
    {
     "name": "stdout",
     "output_type": "stream",
     "text": [
      "Exiting\n'posts: 6'\nPROGRESS: 27% (3293/11783)\nu'[Is DK really for me or?] (/forums/en/wow/topic/11042696146)'\nHTTPError = 404\n"
     ]
    },
    {
     "name": "stdout",
     "output_type": "stream",
     "text": [
      "Exiting\n'posts: 8'\nPROGRESS: 27% (3294/11783)\nu'[QOL WOD DKs] (/forums/en/wow/topic/11267867169)'\nHTTPError = 404\n"
     ]
    },
    {
     "name": "stdout",
     "output_type": "stream",
     "text": [
      "Exiting\n'posts: 6'\nPROGRESS: 27% (3295/11783)\nu'[Frost or Unholy pvp] (/forums/en/wow/topic/11267516854)'\n"
     ]
    },
    {
     "name": "stdout",
     "output_type": "stream",
     "text": [
      "Exiting\n'posts: 7'\nPROGRESS: 27% (3296/11783)\nu'[DK confusing? how did we end up here] (/forums/en/wow/topic/11132203830)'\n"
     ]
    },
    {
     "name": "stdout",
     "output_type": "stream",
     "text": [
      "Exiting\n'posts: 10'\nPROGRESS: 27% (3297/11783)\nu'[Unholy Death Knight PvP Guide 5.4.8] (/forums/en/wow/topic/11268026887)'\n"
     ]
    },
    {
     "name": "stdout",
     "output_type": "stream",
     "text": [
      "Exiting\n'posts: 2'\nPROGRESS: 27% (3298/11783)\nu\"[No noteable PvP DK's?] (/forums/en/wow/topic/11235623629)\"\n"
     ]
    },
    {
     "name": "stdout",
     "output_type": "stream",
     "text": [
      "Exiting\n'posts: 10'\nPROGRESS: 27% (3299/11783)\nu'[Spending too long out of runes] (/forums/en/wow/topic/11181339030)'\n"
     ]
    },
    {
     "name": "stdout",
     "output_type": "stream",
     "text": [
      "Exiting\n'posts: 11'\nPROGRESS: 28% (3300/11783)\n"
     ]
    },
    {
     "name": "stdout",
     "output_type": "stream",
     "text": [
      "u'[thoughts on DK-pvp BLOOD] (/forums/en/wow/topic/11268606763)'\n"
     ]
    },
    {
     "name": "stdout",
     "output_type": "stream",
     "text": [
      "HTTPError = 404\n"
     ]
    },
    {
     "name": "stdout",
     "output_type": "stream",
     "text": [
      "Exiting\n'posts: 6'\nPROGRESS: 28% (3301/11783)\nu'[[Question]Blood DK - Tanking] (/forums/en/wow/topic/11268606809)'\n"
     ]
    },
    {
     "name": "stdout",
     "output_type": "stream",
     "text": [
      "Exiting\n'posts: 4'\nPROGRESS: 28% (3302/11783)\nu'[No frost spec in pvp?] (/forums/en/wow/topic/11252275339)'\n"
     ]
    },
    {
     "name": "stdout",
     "output_type": "stream",
     "text": [
      "Exiting\n'posts: 5'\nPROGRESS: 28% (3303/11783)\nu'[WOD forced to play DW] (/forums/en/wow/topic/11252055103)'\n"
     ]
    },
    {
     "name": "stdout",
     "output_type": "stream",
     "text": [
      "Exiting\n'posts: 8'\nPROGRESS: 28% (3304/11783)\nu'[[PvP] Frost DK discussion] (/forums/en/wow/topic/11252055291)'\n"
     ]
    },
    {
     "name": "stdout",
     "output_type": "stream",
     "text": [
      "Exiting\n'posts: 2'\nPROGRESS: 28% (3305/11783)\nu'[Is it just me?] (/forums/en/wow/topic/11236163540)'\n"
     ]
    },
    {
     "name": "stdout",
     "output_type": "stream",
     "text": [
      "Exiting\n'posts: 11'\nPROGRESS: 28% (3306/11783)\nu'[Best races in Alliance for DK?] (/forums/en/wow/topic/11181338680)'\n"
     ]
    },
    {
     "name": "stdout",
     "output_type": "stream",
     "text": [
      "[Errno 10054] An existing connection was forcibly closed by the remote host\n"
     ]
    },
    {
     "name": "stdout",
     "output_type": "stream",
     "text": [
      "Exiting\n'posts: 26'\nPROGRESS: 28% (3307/11783)\nu'[Weakauras 2 - Blood Tap Stack Count text?] (/forums/en/wow/topic/11236163504)'\n"
     ]
    },
    {
     "name": "stdout",
     "output_type": "stream",
     "text": [
      "Exiting\n'posts: 4'\nPROGRESS: 28% (3308/11783)\nu'[Frost in 3s.] (/forums/en/wow/topic/11236173555)'\n"
     ]
    },
    {
     "name": "stdout",
     "output_type": "stream",
     "text": [
      "Exiting\n'posts: 2'\nPROGRESS: 28% (3309/11783)\nu'[Season 16 PvP set (apperantly?)] (/forums/en/wow/topic/11181338876)'\n"
     ]
    },
    {
     "name": "stdout",
     "output_type": "stream",
     "text": [
      "Exiting\n'posts: 9'\nPROGRESS: 28% (3310/11783)\nu'[Transmog Help!] (/forums/en/wow/topic/11182299045)'\n"
     ]
    },
    {
     "name": "stdout",
     "output_type": "stream",
     "text": [
      "Exiting\n'posts: 2'\nPROGRESS: 28% (3311/11783)\nu'[Blood threat issues vs a Warrior] (/forums/en/wow/topic/10922873463)'\n"
     ]
    },
    {
     "name": "stdout",
     "output_type": "stream",
     "text": [
      "[Errno 10054] An existing connection was forcibly closed by the remote host\n"
     ]
    },
    {
     "name": "stdout",
     "output_type": "stream",
     "text": [
      "Exiting\n'posts: 5'\nPROGRESS: 28% (3312/11783)\nu'[Necrotic Plague - Again] (/forums/en/wow/topic/11180918696)'\n"
     ]
    },
    {
     "name": "stdout",
     "output_type": "stream",
     "text": [
      "Exiting\n'posts: 7'\nPROGRESS: 28% (3313/11783)\nu'[Blood trash threat] (/forums/en/wow/topic/11181898340)'\n"
     ]
    },
    {
     "name": "stdout",
     "output_type": "stream",
     "text": [
      "Exiting\n'posts: 3'\nPROGRESS: 28% (3314/11783)\nu'[Should I level a DK?] (/forums/en/wow/topic/11165016536)'\n"
     ]
    },
    {
     "name": "stdout",
     "output_type": "stream",
     "text": [
      "Exiting\n'posts: 9'\nPROGRESS: 28% (3315/11783)\nu'[What is the single target PVE rotation for unholy dk?] (/forums/en/wow/topic/11181428796)'\n"
     ]
    },
    {
     "name": "stdout",
     "output_type": "stream",
     "text": [
      "Exiting\n'posts: 6'\nPROGRESS: 28% (3316/11783)\nu'[Frost or Unholy? [PVE]] (/forums/en/wow/topic/11182298804)'\n"
     ]
    },
    {
     "name": "stdout",
     "output_type": "stream",
     "text": [
      "[Errno 10054] An existing connection was forcibly closed by the remote host\n"
     ]
    },
    {
     "name": "stdout",
     "output_type": "stream",
     "text": [
      "Exiting\n'posts: 3'\nPROGRESS: 28% (3317/11783)\nu'[DK Survivability] (/forums/en/wow/topic/11132513749)'\n"
     ]
    },
    {
     "name": "stdout",
     "output_type": "stream",
     "text": [
      "Exiting\n'posts: 20'\nPROGRESS: 28% (3318/11783)\nu'[DPS Issues] (/forums/en/wow/topic/11132933383)'\n"
     ]
    },
    {
     "name": "stdout",
     "output_type": "stream",
     "text": [
      "[Errno 10054] An existing connection was forcibly closed by the remote host\n"
     ]
    },
    {
     "name": "stdout",
     "output_type": "stream",
     "text": [
      "[Errno 10054] An existing connection was forcibly closed by the remote host\n"
     ]
    },
    {
     "name": "stdout",
     "output_type": "stream",
     "text": [
      "Exiting\n'posts: 12'\nPROGRESS: 28% (3319/11783)\nu'[Unholy Or Frost?] (/forums/en/wow/topic/11181168545)'\n"
     ]
    },
    {
     "name": "stdout",
     "output_type": "stream",
     "text": [
      "Exiting\n'posts: 2'\nPROGRESS: 28% (3320/11783)\nu'[Blood needs changes. (Beta)] (/forums/en/wow/topic/11164356702)'\n"
     ]
    },
    {
     "name": "stdout",
     "output_type": "stream",
     "text": [
      "Exiting\n'posts: 8'\nPROGRESS: 28% (3321/11783)\nu'[When to go dw frost ?] (/forums/en/wow/topic/10974557359)'\n"
     ]
    },
    {
     "name": "stdout",
     "output_type": "stream",
     "text": [
      "Exiting\n'posts: 25'\nPROGRESS: 28% (3322/11783)\nu'[Help me be better] (/forums/en/wow/topic/11181138223)'\n"
     ]
    },
    {
     "name": "stdout",
     "output_type": "stream",
     "text": [
      "Exiting\n'posts: 1'\nPROGRESS: 28% (3323/11783)\nu'[Frost DK PVP stat priority] (/forums/en/wow/topic/11132933574)'\n"
     ]
    },
    {
     "name": "stdout",
     "output_type": "stream",
     "text": [
      "Exiting\n'posts: 5'\nPROGRESS: 28% (3324/11783)\nu'[Optimise my DK] (/forums/en/wow/topic/11132513160)'\n"
     ]
    },
    {
     "name": "stdout",
     "output_type": "stream",
     "text": [
      "Exiting\n'posts: 3'\nPROGRESS: 28% (3325/11783)\nu'[Learning to tank without a guild - advice needed.] (/forums/en/wow/topic/11164136641)'\n"
     ]
    },
    {
     "name": "stdout",
     "output_type": "stream",
     "text": [
      "Exiting\n'posts: 4'\nPROGRESS: 28% (3326/11783)\nu'[My priority and stats - DW Frost] (/forums/en/wow/topic/11132513495)'\n"
     ]
    },
    {
     "name": "stdout",
     "output_type": "stream",
     "text": [
      "Exiting\n'posts: 5'\nPROGRESS: 28% (3327/11783)\nu\"[How are unholy dk's doing in PvE?] (/forums/en/wow/topic/11120832215)\"\n"
     ]
    },
    {
     "name": "stdout",
     "output_type": "stream",
     "text": [
      "Exiting\n'posts: 10'\nPROGRESS: 28% (3328/11783)\nu'[error] (/forums/en/wow/topic/11132623811)'\n"
     ]
    },
    {
     "name": "stdout",
     "output_type": "stream",
     "text": [
      "Exiting\n'posts: 3'\nPROGRESS: 28% (3329/11783)\nu'[Combat Text Pains] (/forums/en/wow/topic/11132683846)'\n"
     ]
    },
    {
     "name": "stdout",
     "output_type": "stream",
     "text": [
      "[Errno 10054] An existing connection was forcibly closed by the remote host\n"
     ]
    },
    {
     "name": "stdout",
     "output_type": "stream",
     "text": [
      "Exiting\n'posts: 1'\nPROGRESS: 28% (3330/11783)\nu'[Visual Hopes for T17 armor? LORD OF THE RINGS Nazgul] (/forums/en/wow/topic/11042694413)'\n"
     ]
    },
    {
     "name": "stdout",
     "output_type": "stream",
     "text": [
      "Exiting\n'posts: 6'\nPROGRESS: 28% (3331/11783)\nu'[Micromanaging Blood Tap downright best for 2h Frost] (/forums/en/wow/topic/11120002117)'\n"
     ]
    },
    {
     "name": "stdout",
     "output_type": "stream",
     "text": [
      "Exiting\n'posts: 11'\nPROGRESS: 28% (3332/11783)\nu'[Riposte] (/forums/en/wow/topic/11132933426)'\n"
     ]
    },
    {
     "name": "stdout",
     "output_type": "stream",
     "text": [
      "Exiting\n'posts: 7'\nPROGRESS: 28% (3333/11783)\nu'[Which rune to choose for a Blood DK?] (/forums/en/wow/topic/11043445477)'\n"
     ]
    },
    {
     "name": "stdout",
     "output_type": "stream",
     "text": [
      "Exiting\n'posts: 8'\nPROGRESS: 28% (3334/11783)\nu'[Do we knight or bones?] (/forums/en/wow/topic/11042695873)'\n"
     ]
    },
    {
     "name": "stdout",
     "output_type": "stream",
     "text": [
      "Exiting\n'posts: 7'\nPROGRESS: 28% (3335/11783)\nu'[What should I do?] (/forums/en/wow/topic/11133083292)'\nHTTPError = 404\n"
     ]
    },
    {
     "name": "stdout",
     "output_type": "stream",
     "text": [
      "HTTPError = 404\n"
     ]
    },
    {
     "name": "stdout",
     "output_type": "stream",
     "text": [
      "Exiting\n'posts: 2'\nPROGRESS: 28% (3336/11783)\nu'[wotlk rune generation] (/forums/en/wow/topic/11043385096)'\n"
     ]
    },
    {
     "name": "stdout",
     "output_type": "stream",
     "text": [
      "Exiting\n'posts: 13'\nPROGRESS: 28% (3337/11783)\nu'[Festering Strike/Scourge Strike rune dump] (/forums/en/wow/topic/11119662233)'\n"
     ]
    },
    {
     "name": "stdout",
     "output_type": "stream",
     "text": [
      "Exiting\n'posts: 6'\nPROGRESS: 28% (3338/11783)\nu'[Must have DK Tank addons] (/forums/en/wow/topic/11043255497)'\n"
     ]
    },
    {
     "name": "stdout",
     "output_type": "stream",
     "text": [
      "Exiting\n'posts: 9'\nPROGRESS: 28% (3339/11783)\nu'[Death Knight Tier 17] (/forums/en/wow/topic/11044104432)'\n"
     ]
    },
    {
     "name": "stdout",
     "output_type": "stream",
     "text": [
      "Exiting\n'posts: 27'\nPROGRESS: 28% (3340/11783)\nu'[Powerleveling Blood DK through dungeons] (/forums/en/wow/topic/11043385876)'\n"
     ]
    },
    {
     "name": "stdout",
     "output_type": "stream",
     "text": [
      "Exiting\n'posts: 6'\nPROGRESS: 28% (3341/11783)\nu'[Unholy PvP - Feels kind of Random please help.] (/forums/en/wow/topic/11120421975)'\n"
     ]
    },
    {
     "name": "stdout",
     "output_type": "stream",
     "text": [
      "Exiting\n'posts: 2'\nPROGRESS: 28% (3342/11783)\nu'[Blood has no identity anymore] (/forums/en/wow/topic/10762226438)'\n"
     ]
    },
    {
     "name": "stdout",
     "output_type": "stream",
     "text": [
      "Exiting\n'posts: 77'\nPROGRESS: 28% (3343/11783)\nu'[More fun] (/forums/en/wow/topic/11043605828)'\n"
     ]
    },
    {
     "name": "stdout",
     "output_type": "stream",
     "text": [
      "Exiting\n'posts: 2'\nPROGRESS: 28% (3344/11783)\nu'[t17] (/forums/en/wow/topic/11043384363)'\n"
     ]
    },
    {
     "name": "stdout",
     "output_type": "stream",
     "text": [
      "Exiting\n'posts: 29'\nPROGRESS: 28% (3345/11783)\nu'[Beta Diseases: Frost] (/forums/en/wow/topic/11043384701)'\n"
     ]
    },
    {
     "name": "stdout",
     "output_type": "stream",
     "text": [
      "Exiting\n'posts: 7'\nPROGRESS: 28% (3346/11783)\nu'[DW frost pvp] (/forums/en/wow/topic/11042695236)'\nHTTPError = 404\n"
     ]
    },
    {
     "name": "stdout",
     "output_type": "stream",
     "text": [
      "Exiting\n'posts: 3'\nPROGRESS: 28% (3347/11783)\nu'[Spirit of Harmony] (/forums/en/wow/topic/10494861661)'\n"
     ]
    },
    {
     "name": "stdout",
     "output_type": "stream",
     "text": [
      "Exiting\n'posts: 8'\nPROGRESS: 28% (3348/11783)\nu'[Which add on this DK is using?] (/forums/en/wow/topic/11043414651)'\n"
     ]
    },
    {
     "name": "stdout",
     "output_type": "stream",
     "text": [
      "Exiting\n'posts: 4'\nPROGRESS: 28% (3349/11783)\nu'[Just got Beta access!] (/forums/en/wow/topic/11043414785)'\n"
     ]
    },
    {
     "name": "stdout",
     "output_type": "stream",
     "text": [
      "Exiting\n'posts: 11'\nPROGRESS: 28% (3350/11783)\n"
     ]
    },
    {
     "name": "stdout",
     "output_type": "stream",
     "text": [
      "u'[Beta Diseases: Unholy] (/forums/en/wow/topic/11043604860)'\n"
     ]
    },
    {
     "name": "stdout",
     "output_type": "stream",
     "text": [
      "Exiting\n'posts: 1'\nPROGRESS: 28% (3351/11783)\nu'[Garrosh 10HC] (/forums/en/wow/topic/11043254569)'\n"
     ]
    },
    {
     "name": "stdout",
     "output_type": "stream",
     "text": [
      "Exiting\n'posts: 3'\nPROGRESS: 28% (3352/11783)\nu'[Fast way to regear?] (/forums/en/wow/topic/11043254368)'\n"
     ]
    },
    {
     "name": "stdout",
     "output_type": "stream",
     "text": [
      "[Errno 10054] An existing connection was forcibly closed by the remote host\n"
     ]
    },
    {
     "name": "stdout",
     "output_type": "stream",
     "text": [
      "Exiting\n'posts: 4'\nPROGRESS: 28% (3353/11783)\nu'[Dark Simulacrum;working as intended ?] (/forums/en/wow/topic/11043354362)'\n"
     ]
    },
    {
     "name": "stdout",
     "output_type": "stream",
     "text": [
      "Exiting\n'posts: 2'\nPROGRESS: 28% (3354/11783)\nu'[Unholy Pet visual change idea.] (/forums/en/wow/topic/11032683344)'\n"
     ]
    },
    {
     "name": "stdout",
     "output_type": "stream",
     "text": [
      "Exiting\n'posts: 4'\nPROGRESS: 28% (3355/11783)\nu'[Deathknight single target damage, pet macros.] (/forums/en/wow/topic/11032543336)'\nHTTPError = 404\n"
     ]
    },
    {
     "name": "stdout",
     "output_type": "stream",
     "text": [
      "Exiting\n'posts: 2'\nPROGRESS: 28% (3356/11783)\nu\"[Anyone feel like Blizzard regrets adding DK's?] (/forums/en/wow/topic/10993749636)\"\n"
     ]
    },
    {
     "name": "stdout",
     "output_type": "stream",
     "text": [
      "Exiting\n'posts: 9'\nPROGRESS: 28% (3357/11783)\nu'[Dual wielding in WOD] (/forums/en/wow/topic/10993809991)'\n"
     ]
    },
    {
     "name": "stdout",
     "output_type": "stream",
     "text": [
      "Exiting\n'posts: 9'\nPROGRESS: 28% (3358/11783)\nu'[Death pact Macro MoP] (/forums/en/wow/topic/5616542577)'\n"
     ]
    },
    {
     "name": "stdout",
     "output_type": "stream",
     "text": [
      "Exiting\n'posts: 31'\nPROGRESS: 28% (3359/11783)\nu'[Frost DK viable for 2k with full effort and comp?] (/forums/en/wow/topic/10993329695)'\n"
     ]
    },
    {
     "name": "stdout",
     "output_type": "stream",
     "text": [
      "Exiting\n'posts: 7'\nPROGRESS: 28% (3360/11783)\nu'[Blood DK?] (/forums/en/wow/topic/10993839617)'\n"
     ]
    },
    {
     "name": "stdout",
     "output_type": "stream",
     "text": [
      "[Errno 10054] An existing connection was forcibly closed by the remote host\n"
     ]
    },
    {
     "name": "stdout",
     "output_type": "stream",
     "text": [
      "Exiting\n'posts: 6'\nPROGRESS: 28% (3361/11783)\nu'[DPS Issues.] (/forums/en/wow/topic/10979488045)'\n"
     ]
    },
    {
     "name": "stdout",
     "output_type": "stream",
     "text": [
      "[Errno 10054] An existing connection was forcibly closed by the remote host\n"
     ]
    },
    {
     "name": "stdout",
     "output_type": "stream",
     "text": [
      "Exiting\n'posts: 6'\nPROGRESS: 28% (3362/11783)\nu'[NP Information] (/forums/en/wow/topic/10979487945)'\n"
     ]
    },
    {
     "name": "stdout",
     "output_type": "stream",
     "text": [
      "Exiting\n'posts: 8'\nPROGRESS: 28% (3363/11783)\nu\"[DK's dead in WoD?] (/forums/en/wow/topic/10922873089)\"\n"
     ]
    },
    {
     "name": "stdout",
     "output_type": "stream",
     "text": [
      "Exiting\n'posts: 13'\nPROGRESS: 28% (3364/11783)\nu'[Unholy dps question] (/forums/en/wow/topic/10979637878)'\n"
     ]
    },
    {
     "name": "stdout",
     "output_type": "stream",
     "text": [
      "[Errno 10054] An existing connection was forcibly closed by the remote host\n"
     ]
    },
    {
     "name": "stdout",
     "output_type": "stream",
     "text": [
      "Exiting\n'posts: 8'\nPROGRESS: 28% (3365/11783)\nu'[Gargoyle targeting bug.] (/forums/en/wow/topic/10975627466)'\n"
     ]
    },
    {
     "name": "stdout",
     "output_type": "stream",
     "text": [
      "Exiting\n'posts: 2'\nPROGRESS: 28% (3366/11783)\nu\"[Dk's R so Op!!1!] (/forums/en/wow/topic/10887138663)\"\n"
     ]
    },
    {
     "name": "stdout",
     "output_type": "stream",
     "text": [
      "Exiting\n'posts: 15'\nPROGRESS: 28% (3367/11783)\nu'[Do you HAVE to go dw frost for greater dps ?] (/forums/en/wow/topic/10888029400)'\n"
     ]
    },
    {
     "name": "stdout",
     "output_type": "stream",
     "text": [
      "Exiting\n'posts: 13'\nPROGRESS: 28% (3368/11783)\nu'[[WoD] Pestilence - New Icon/Name] (/forums/en/wow/topic/10887688932)'\n"
     ]
    },
    {
     "name": "stdout",
     "output_type": "stream",
     "text": [
      "Exiting\n'posts: 3'\nPROGRESS: 28% (3369/11783)\nu'[Frost dk arena!] (/forums/en/wow/topic/10923812841)'\n"
     ]
    },
    {
     "name": "stdout",
     "output_type": "stream",
     "text": [
      "Exiting\n'posts: 4'\nPROGRESS: 28% (3370/11783)\nu'[Are Dk a dead specc?] (/forums/en/wow/topic/10923892476)'\n"
     ]
    },
    {
     "name": "stdout",
     "output_type": "stream",
     "text": [
      "Exiting\n'posts: 11'\nPROGRESS: 28% (3371/11783)\nu'[Partial BT Charges?] (/forums/en/wow/topic/10923612630)'\n"
     ]
    },
    {
     "name": "stdout",
     "output_type": "stream",
     "text": [
      "Exiting\n'posts: 6'\nPROGRESS: 28% (3372/11783)\nu'[Dk`s alpha infos] (/forums/en/wow/topic/10887889439)'\n"
     ]
    },
    {
     "name": "stdout",
     "output_type": "stream",
     "text": [
      "Exiting\n'posts: 5'\nPROGRESS: 28% (3373/11783)\nu'[What spec is best for me?] (/forums/en/wow/topic/10923452395)'\n"
     ]
    },
    {
     "name": "stdout",
     "output_type": "stream",
     "text": [
      "Exiting\n'posts: 3'\nPROGRESS: 28% (3374/11783)\nu'[Mastery VS strength for dual wield builds] (/forums/en/wow/topic/10923652412)'\n"
     ]
    },
    {
     "name": "stdout",
     "output_type": "stream",
     "text": [
      "Exiting\n'posts: 3'\nPROGRESS: 28% (3375/11783)\nu'[Which rotation is best for frost dk] (/forums/en/wow/topic/10887618697)'\n"
     ]
    },
    {
     "name": "stdout",
     "output_type": "stream",
     "text": [
      "[Errno 10054] An existing connection was forcibly closed by the remote host\n"
     ]
    },
    {
     "name": "stdout",
     "output_type": "stream",
     "text": [
      "Exiting\n'posts: 26'\nPROGRESS: 28% (3376/11783)\nu'[Returning DK feels powerless] (/forums/en/wow/topic/10877947776)'\n"
     ]
    },
    {
     "name": "stdout",
     "output_type": "stream",
     "text": [
      "Exiting\n'posts: 6'\nPROGRESS: 28% (3377/11783)\nu'[Capacitive Primal Diamond vs Reverberating Primal] (/forums/en/wow/topic/10887108732)'\n"
     ]
    },
    {
     "name": "stdout",
     "output_type": "stream",
     "text": [
      "Exiting\n'posts: 3'\nPROGRESS: 28% (3378/11783)\nu'[The DK Considderation] (/forums/en/wow/topic/10832264179)'\n"
     ]
    },
    {
     "name": "stdout",
     "output_type": "stream",
     "text": [
      "Exiting\n'posts: 8'\nPROGRESS: 28% (3379/11783)\nu\"[DK's now] (/forums/en/wow/topic/10878207796)\"\n"
     ]
    },
    {
     "name": "stdout",
     "output_type": "stream",
     "text": [
      "Exiting\n'posts: 5'\nPROGRESS: 28% (3380/11783)\nu'[How much haste do you like?] (/forums/en/wow/topic/10763637150)'\n"
     ]
    },
    {
     "name": "stdout",
     "output_type": "stream",
     "text": [
      "Exiting\n'posts: 12'\nPROGRESS: 28% (3381/11783)\nu'[ilevel 494 Frost DK DPS maxing out at 37k with rotation] (/forums/en/wow/topic/10831954245)'\n"
     ]
    },
    {
     "name": "stdout",
     "output_type": "stream",
     "text": [
      "Exiting\n'posts: 13'\nPROGRESS: 28% (3382/11783)\nu'[UH PvP Rotation.] (/forums/en/wow/topic/10831693989)'\n"
     ]
    },
    {
     "name": "stdout",
     "output_type": "stream",
     "text": [
      "Exiting\n'posts: 12'\nPROGRESS: 28% (3383/11783)\nu'[Need help with a few keybinds i have left!] (/forums/en/wow/topic/10762366628)'\n"
     ]
    },
    {
     "name": "stdout",
     "output_type": "stream",
     "text": [
      "Exiting\n'posts: 5'\nPROGRESS: 28% (3384/11783)\nu'[Which presence do you use?] (/forums/en/wow/topic/10878357760)'\n"
     ]
    },
    {
     "name": "stdout",
     "output_type": "stream",
     "text": [
      "Exiting\n'posts: 5'\nPROGRESS: 28% (3385/11783)\nu'[All DK Ordos kill] (/forums/en/wow/topic/10878357852)'\n"
     ]
    },
    {
     "name": "stdout",
     "output_type": "stream",
     "text": [
      "[Errno 10054] An existing connection was forcibly closed by the remote host\n"
     ]
    },
    {
     "name": "stdout",
     "output_type": "stream",
     "text": [
      "[Errno 10054] An existing connection was forcibly closed by the remote host\n"
     ]
    },
    {
     "name": "stdout",
     "output_type": "stream",
     "text": [
      "Exiting\n'posts: 1'\nPROGRESS: 28% (3386/11783)\nu'[Dark Simulacrum macro @ Garrosh fight] (/forums/en/wow/topic/10831473505)'\n"
     ]
    },
    {
     "name": "stdout",
     "output_type": "stream",
     "text": [
      "Exiting\n'posts: 8'\nPROGRESS: 28% (3387/11783)\nu\"[Is it me, or are DK's hard to control?] (/forums/en/wow/topic/10748084916)\"\n"
     ]
    },
    {
     "name": "stdout",
     "output_type": "stream",
     "text": [
      "Exiting\n'posts: 10'\nPROGRESS: 28% (3388/11783)\nu'[Frost not going to be a 3 Button Spec in WoD...] (/forums/en/wow/topic/10832343702)'\n"
     ]
    },
    {
     "name": "stdout",
     "output_type": "stream",
     "text": [
      "Exiting\n'posts: 7'\nPROGRESS: 28% (3389/11783)\nu'[Warlocks.] (/forums/en/wow/topic/10342324689)'\n"
     ]
    },
    {
     "name": "stdout",
     "output_type": "stream",
     "text": [
      "Exiting\n'posts: 11'\nPROGRESS: 28% (3390/11783)\nu'[I have no idea on how to play DK] (/forums/en/wow/topic/10832343278)'\n"
     ]
    },
    {
     "name": "stdout",
     "output_type": "stream",
     "text": [
      "Exiting\n'posts: 5'\nPROGRESS: 28% (3391/11783)\nu'[4-piece worth it on DW frost?] (/forums/en/wow/topic/10832344097)'\n"
     ]
    },
    {
     "name": "stdout",
     "output_type": "stream",
     "text": [
      "Exiting\n'posts: 2'\nPROGRESS: 28% (3392/11783)\nu'[Frost pvp going into WoD.] (/forums/en/wow/topic/10831584143)'\n"
     ]
    },
    {
     "name": "stdout",
     "output_type": "stream",
     "text": [
      "Exiting\n'posts: 3'\nPROGRESS: 28% (3393/11783)\nu'[blood dk dual weald?] (/forums/en/wow/topic/10831673852)'\n"
     ]
    },
    {
     "name": "stdout",
     "output_type": "stream",
     "text": [
      "[Errno 10054] An existing connection was forcibly closed by the remote host\nHTTPError = 404\n"
     ]
    },
    {
     "name": "stdout",
     "output_type": "stream",
     "text": [
      "Exiting\n'posts: 5'\nPROGRESS: 28% (3394/11783)\nu'[Unholy single target?] (/forums/en/wow/topic/10831673942)'\n"
     ]
    },
    {
     "name": "stdout",
     "output_type": "stream",
     "text": [
      "[Errno 10054] An existing connection was forcibly closed by the remote host\n"
     ]
    },
    {
     "name": "stdout",
     "output_type": "stream",
     "text": [
      "Exiting\n'posts: 3'\nPROGRESS: 28% (3395/11783)\nu\"[How 'solo' can you go? (old raids)] (/forums/en/wow/topic/10831933568)\"\n"
     ]
    },
    {
     "name": "stdout",
     "output_type": "stream",
     "text": [
      "Exiting\n'posts: 15'\nPROGRESS: 28% (3396/11783)\nu'[Worgen Death knights] (/forums/en/wow/topic/10832343334)'\n"
     ]
    },
    {
     "name": "stdout",
     "output_type": "stream",
     "text": [
      "Exiting\n'posts: 8'\nPROGRESS: 28% (3397/11783)\nu'[Frost DK pve atm] (/forums/en/wow/topic/10763357325)'\n"
     ]
    },
    {
     "name": "stdout",
     "output_type": "stream",
     "text": [
      "Exiting\n'posts: 22'\nPROGRESS: 28% (3398/11783)\nu'[How To Be A Good Blood Death Knight In PVP (Edited)] (/forums/en/wow/topic/7860747702)'\n"
     ]
    },
    {
     "name": "stdout",
     "output_type": "stream",
     "text": [
      "HTTPError = 404\n"
     ]
    },
    {
     "name": "stdout",
     "output_type": "stream",
     "text": [
      "Exiting\n'posts: 16'\nPROGRESS: 28% (3399/11783)\nu'[Blood presence bug?] (/forums/en/wow/topic/10832283545)'\n"
     ]
    },
    {
     "name": "stdout",
     "output_type": "stream",
     "text": [
      "Exiting\n'posts: 3'\nPROGRESS: 28% (3400/11783)\n"
     ]
    },
    {
     "name": "stdout",
     "output_type": "stream",
     "text": [
      "u'[New DK feels squishy] (/forums/en/wow/topic/10762226543)'\n"
     ]
    },
    {
     "name": "stdout",
     "output_type": "stream",
     "text": [
      "Exiting\n'posts: 5'\nPROGRESS: 28% (3401/11783)\nu'[Blood DK: HS Removal and Pestilence] (/forums/en/wow/topic/10815891632)'\n"
     ]
    },
    {
     "name": "stdout",
     "output_type": "stream",
     "text": [
      "Exiting\n'posts: 6'\nPROGRESS: 28% (3402/11783)\nu'[How are Frost Dk`s in pvp atm] (/forums/en/wow/topic/10700680405)'\n"
     ]
    },
    {
     "name": "stdout",
     "output_type": "stream",
     "text": [
      "Exiting\n'posts: 20'\nPROGRESS: 28% (3403/11783)\nu'[WoD AMS Macro.] (/forums/en/wow/topic/10763356453)'\n"
     ]
    },
    {
     "name": "stdout",
     "output_type": "stream",
     "text": [
      "Exiting\n'posts: 18'\nPROGRESS: 28% (3404/11783)\nu'[Question about one handers for blood] (/forums/en/wow/topic/10815031792)'\n"
     ]
    },
    {
     "name": "stdout",
     "output_type": "stream",
     "text": [
      "Exiting\n'posts: 7'\nPROGRESS: 28% (3405/11783)\nu'[help with improving] (/forums/en/wow/topic/10815721622)'\n"
     ]
    },
    {
     "name": "stdout",
     "output_type": "stream",
     "text": [
      "Exiting\n'posts: 2'\nPROGRESS: 28% (3406/11783)\nu'[PvP stats Priority] (/forums/en/wow/topic/10700370091)'\n"
     ]
    },
    {
     "name": "stdout",
     "output_type": "stream",
     "text": [
      "Exiting\n'posts: 8'\nPROGRESS: 28% (3407/11783)\nu'[Should i boost a DK for pvp?] (/forums/en/wow/topic/10763056999)'\n"
     ]
    },
    {
     "name": "stdout",
     "output_type": "stream",
     "text": [
      "Exiting\n'posts: 4'\nPROGRESS: 28% (3408/11783)\nu'[blood dk changes huh?] (/forums/en/wow/topic/10494172582)'\n"
     ]
    },
    {
     "name": "stdout",
     "output_type": "stream",
     "text": [
      "Exiting\n'posts: 11'\nPROGRESS: 28% (3409/11783)\nu'[Frost DK Firelands Solo?] (/forums/en/wow/topic/10763377503)'\n"
     ]
    },
    {
     "name": "stdout",
     "output_type": "stream",
     "text": [
      "Exiting\n'posts: 7'\nPROGRESS: 28% (3410/11783)\nu'[so] (/forums/en/wow/topic/10762366696)'\n"
     ]
    },
    {
     "name": "stdout",
     "output_type": "stream",
     "text": [
      "Exiting\n'posts: 7'\nPROGRESS: 28% (3411/11783)\nu'[DK PvP - What am I doing wrong?] (/forums/en/wow/topic/10763056391)'\n"
     ]
    },
    {
     "name": "stdout",
     "output_type": "stream",
     "text": [
      "Exiting\n'posts: 25'\nPROGRESS: 28% (3412/11783)\nu'[Death grip] (/forums/en/wow/topic/10763326943)'\n"
     ]
    },
    {
     "name": "stdout",
     "output_type": "stream",
     "text": [
      "Exiting\n'posts: 2'\nPROGRESS: 28% (3413/11783)\nu'[Change, Quest & Story, Hero] (/forums/en/wow/topic/10762236682)'\n"
     ]
    },
    {
     "name": "stdout",
     "output_type": "stream",
     "text": [
      "Exiting\n'posts: 2'\nPROGRESS: 28% (3414/11783)\nu'[Latest DK changes] (/forums/en/wow/topic/10747374908)'\n"
     ]
    },
    {
     "name": "stdout",
     "output_type": "stream",
     "text": [
      "Exiting\n'posts: 12'\nPROGRESS: 28% (3415/11783)\nu'[tips] (/forums/en/wow/topic/10763636453)'\n"
     ]
    },
    {
     "name": "stdout",
     "output_type": "stream",
     "text": [
      "Exiting\n'posts: 3'\nPROGRESS: 28% (3416/11783)\nu'[New frost DK crash course] (/forums/en/wow/topic/10700370805)'\n"
     ]
    },
    {
     "name": "stdout",
     "output_type": "stream",
     "text": [
      "Exiting\n'posts: 16'\nPROGRESS: 28% (3417/11783)\nu'[I suck at Death Knightery...] (/forums/en/wow/topic/10700840179)'\n"
     ]
    },
    {
     "name": "stdout",
     "output_type": "stream",
     "text": [
      "Exiting\n'posts: 7'\nPROGRESS: 29% (3418/11783)\nu'[Frost PvP in WoD] (/forums/en/wow/topic/10700370531)'\n"
     ]
    },
    {
     "name": "stdout",
     "output_type": "stream",
     "text": [
      "Exiting\n'posts: 4'\nPROGRESS: 29% (3419/11783)\nu'[Need Help With 5 Necro build] (/forums/en/wow/topic/10747034946)'\n"
     ]
    },
    {
     "name": "stdout",
     "output_type": "stream",
     "text": [
      "Exiting\n'posts: 4'\nPROGRESS: 29% (3420/11783)\nu\"[Ive seen fury warriors transmog 2h, so why can't DK;s?] (/forums/en/wow/topic/10494932225)\"\n"
     ]
    },
    {
     "name": "stdout",
     "output_type": "stream",
     "text": [
      "Exiting\n'posts: 13'\nPROGRESS: 29% (3421/11783)\nu'[Need help Improving my dps on this dk] (/forums/en/wow/topic/10747604701)'\nHTTPError = 404\n"
     ]
    },
    {
     "name": "stdout",
     "output_type": "stream",
     "text": [
      "Exiting\n'posts: 5'\nPROGRESS: 29% (3422/11783)\nu'[DK better tank??] (/forums/en/wow/topic/10700679981)'\n"
     ]
    },
    {
     "name": "stdout",
     "output_type": "stream",
     "text": [
      "[Errno 10054] An existing connection was forcibly closed by the remote host\n"
     ]
    },
    {
     "name": "stdout",
     "output_type": "stream",
     "text": [
      "Exiting\n'posts: 10'\nPROGRESS: 29% (3423/11783)\nu'[Blood DK 56 Talent choices] (/forums/en/wow/topic/10700330833)'\n"
     ]
    },
    {
     "name": "stdout",
     "output_type": "stream",
     "text": [
      "Exiting\n'posts: 2'\nPROGRESS: 29% (3424/11783)\nu'[Remove presence switching and turn it into a passive :D] (/forums/en/wow/topic/10494861041)'\n"
     ]
    },
    {
     "name": "stdout",
     "output_type": "stream",
     "text": [
      "Exiting\n'posts: 9'\nPROGRESS: 29% (3425/11783)\nu'[UH dk minions.] (/forums/en/wow/topic/10700800206)'\n"
     ]
    },
    {
     "name": "stdout",
     "output_type": "stream",
     "text": [
      "Exiting\n'posts: 3'\nPROGRESS: 29% (3426/11783)\nu'[Unholy DK in PvP] (/forums/en/wow/topic/10700680797)'\n"
     ]
    },
    {
     "name": "stdout",
     "output_type": "stream",
     "text": [
      "Exiting\n'posts: 4'\nPROGRESS: 29% (3427/11783)\nu'[DK not a unique class any more(:] (/forums/en/wow/topic/10494173213)'\n"
     ]
    },
    {
     "name": "stdout",
     "output_type": "stream",
     "text": [
      "Exiting\n'posts: 9'\nPROGRESS: 29% (3428/11783)\nu'[Should I do a Blood DK over...] (/forums/en/wow/topic/10699560037)'\n"
     ]
    },
    {
     "name": "stdout",
     "output_type": "stream",
     "text": [
      "Exiting\n'posts: 3'\nPROGRESS: 29% (3429/11783)\nu'[Death Strike indikator / Portrait meter / Source thingy] (/forums/en/wow/topic/10700680255)'\n"
     ]
    },
    {
     "name": "stdout",
     "output_type": "stream",
     "text": [
      "Exiting\n'posts: 2'\nPROGRESS: 29% (3430/11783)\nu'[Dual wield VS 2H] (/forums/en/wow/topic/10495064045)'\n"
     ]
    },
    {
     "name": "stdout",
     "output_type": "stream",
     "text": [
      "Exiting\n'posts: 4'\nPROGRESS: 29% (3431/11783)\nu'[Problems soloing gluth (25m)] (/forums/en/wow/topic/10700320112)'\n"
     ]
    },
    {
     "name": "stdout",
     "output_type": "stream",
     "text": [
      "Exiting\n'posts: 2'\nPROGRESS: 29% (3432/11783)\nu'[Super easy question] (/forums/en/wow/topic/10494843680)'\n"
     ]
    },
    {
     "name": "stdout",
     "output_type": "stream",
     "text": [
      "Exiting\n'posts: 10'\nPROGRESS: 29% (3433/11783)\nu'[Why is my DPS so bad?] (/forums/en/wow/topic/10494873789)'\n"
     ]
    },
    {
     "name": "stdout",
     "output_type": "stream",
     "text": [
      "Exiting\n'posts: 14'\nPROGRESS: 29% (3434/11783)\nu'[UH DPS - Depleted Runes question] (/forums/en/wow/topic/10494843440)'\n"
     ]
    },
    {
     "name": "stdout",
     "output_type": "stream",
     "text": [
      "[Errno 10054] An existing connection was forcibly closed by the remote host\n"
     ]
    },
    {
     "name": "stdout",
     "output_type": "stream",
     "text": [
      "Exiting\n'posts: 6'\nPROGRESS: 29% (3435/11783)\nu'[Need some help/advice for challenge modes] (/forums/en/wow/topic/10494573880)'\n"
     ]
    },
    {
     "name": "stdout",
     "output_type": "stream",
     "text": [
      "HTTPError = 404\n"
     ]
    },
    {
     "name": "stdout",
     "output_type": "stream",
     "text": [
      "Exiting\n'posts: 4'\nPROGRESS: 29% (3436/11783)\nu'[PVP frost DW or Two hander ?] (/forums/en/wow/topic/10495060838)'\n"
     ]
    },
    {
     "name": "stdout",
     "output_type": "stream",
     "text": [
      "Exiting\n'posts: 8'\nPROGRESS: 29% (3437/11783)\nu'[UH DK dmg, PvP question.] (/forums/en/wow/topic/10494683444)'\n"
     ]
    },
    {
     "name": "stdout",
     "output_type": "stream",
     "text": [
      "Exiting\n'posts: 6'\nPROGRESS: 29% (3438/11783)\nu'[WoD: Slow damage intake + reactive gameplay? What?] (/forums/en/wow/topic/10494933205)'\n"
     ]
    },
    {
     "name": "stdout",
     "output_type": "stream",
     "text": [
      "Exiting\n'posts: 17'\nPROGRESS: 29% (3439/11783)\nu'[Best DK race for horde?] (/forums/en/wow/topic/10494793003)'\n"
     ]
    },
    {
     "name": "stdout",
     "output_type": "stream",
     "text": [
      "[Errno 10054] An existing connection was forcibly closed by the remote host\n"
     ]
    },
    {
     "name": "stdout",
     "output_type": "stream",
     "text": [
      "Exiting\n'posts: 6'\nPROGRESS: 29% (3440/11783)\nu'[2h frost crit or haste ?] (/forums/en/wow/topic/10495533358)'\n"
     ]
    },
    {
     "name": "stdout",
     "output_type": "stream",
     "text": [
      "Exiting\n'posts: 7'\nPROGRESS: 29% (3441/11783)\nu'[Necrotic Plague Stacking] (/forums/en/wow/topic/10495062860)'\n"
     ]
    },
    {
     "name": "stdout",
     "output_type": "stream",
     "text": [
      "Exiting\n'posts: 4'\nPROGRESS: 29% (3442/11783)\nu'[Blood Tap Macro Is Bad?] (/forums/en/wow/topic/10494681109)'\n"
     ]
    },
    {
     "name": "stdout",
     "output_type": "stream",
     "text": [
      "Exiting\n'posts: 14'\nPROGRESS: 29% (3443/11783)\nu'[Our pet and CC] (/forums/en/wow/topic/10494573166)'\n"
     ]
    },
    {
     "name": "stdout",
     "output_type": "stream",
     "text": [
      "Exiting\n'posts: 1'\nPROGRESS: 29% (3444/11783)\nu'[How do you survive?] (/forums/en/wow/topic/10494931750)'\n"
     ]
    },
    {
     "name": "stdout",
     "output_type": "stream",
     "text": [
      "Exiting\n'posts: 8'\nPROGRESS: 29% (3445/11783)\nu'[Is dk 4 piece for frost worth it?] (/forums/en/wow/topic/10494682952)'\n"
     ]
    },
    {
     "name": "stdout",
     "output_type": "stream",
     "text": [
      "Exiting\n'posts: 6'\nPROGRESS: 29% (3446/11783)\nu'[Everyone is frost] (/forums/en/wow/topic/10494789928)'\n"
     ]
    },
    {
     "name": "stdout",
     "output_type": "stream",
     "text": [
      "[Errno 10054] An existing connection was forcibly closed by the remote host\n"
     ]
    },
    {
     "name": "stdout",
     "output_type": "stream",
     "text": [
      "Exiting\n'posts: 61'\nPROGRESS: 29% (3447/11783)\nu'[60 DK twink Vidd/Guild] (/forums/en/wow/topic/10494791444)'\n"
     ]
    },
    {
     "name": "stdout",
     "output_type": "stream",
     "text": [
      "Exiting\n'posts: 4'\nPROGRESS: 29% (3448/11783)\nu'[frost dk pvp ?] (/forums/en/wow/topic/10494791872)'\n"
     ]
    },
    {
     "name": "stdout",
     "output_type": "stream",
     "text": [
      "Exiting\n'posts: 6'\nPROGRESS: 29% (3449/11783)\nu'[Would YOU give UH a go if the pet was not required?] (/forums/en/wow/topic/10495111249)'\n"
     ]
    },
    {
     "name": "stdout",
     "output_type": "stream",
     "text": [
      "Exiting\n'posts: 12'\nPROGRESS: 29% (3450/11783)\n"
     ]
    },
    {
     "name": "stdout",
     "output_type": "stream",
     "text": [
      "u'[PVPing in Blood pres as UH?] (/forums/en/wow/topic/10494462299)'\n"
     ]
    },
    {
     "name": "stdout",
     "output_type": "stream",
     "text": [
      "Exiting\n'posts: 9'\nPROGRESS: 29% (3451/11783)\nu'[warrior - death knight?] (/forums/en/wow/topic/10494872731)'\n"
     ]
    },
    {
     "name": "stdout",
     "output_type": "stream",
     "text": [
      "Exiting\n'posts: 4'\nPROGRESS: 29% (3452/11783)\nu'[So back to attackpower blood DKs in WoD...] (/forums/en/wow/topic/10494680877)'\n"
     ]
    },
    {
     "name": "stdout",
     "output_type": "stream",
     "text": [
      "Exiting\n'posts: 7'\nPROGRESS: 29% (3453/11783)\nu'[UH DPS question] (/forums/en/wow/topic/10494862005)'\n"
     ]
    },
    {
     "name": "stdout",
     "output_type": "stream",
     "text": [
      "[Errno 10054] An existing connection was forcibly closed by the remote host\n"
     ]
    },
    {
     "name": "stdout",
     "output_type": "stream",
     "text": [
      "Exiting\n'posts: 3'\nPROGRESS: 29% (3454/11783)\nu'[Frost DK (Low dps) Please take a look :)] (/forums/en/wow/topic/10494861934)'\n"
     ]
    },
    {
     "name": "stdout",
     "output_type": "stream",
     "text": [
      "Exiting\n'posts: 7'\nPROGRESS: 29% (3455/11783)\nu'[Death Coil vs Rune Strike as Blood] (/forums/en/wow/topic/10494789914)'\n"
     ]
    },
    {
     "name": "stdout",
     "output_type": "stream",
     "text": [
      "Exiting\n'posts: 7'\nPROGRESS: 29% (3456/11783)\nu'[WoD CLASS CHOICE HELP!!!!!] (/forums/en/wow/topic/10494682036)'\n"
     ]
    },
    {
     "name": "stdout",
     "output_type": "stream",
     "text": [
      "Exiting\n'posts: 2'\nPROGRESS: 29% (3457/11783)\nu'[New death knight here] (/forums/en/wow/topic/10494791624)'\n"
     ]
    },
    {
     "name": "stdout",
     "output_type": "stream",
     "text": [
      "Exiting\n'posts: 3'\nPROGRESS: 29% (3458/11783)\nu'[the same old what spec for leveling post] (/forums/en/wow/topic/10494680195)'\n"
     ]
    },
    {
     "name": "stdout",
     "output_type": "stream",
     "text": [
      "Exiting\n'posts: 8'\nPROGRESS: 29% (3459/11783)\nu\"[PVP macro's] (/forums/en/wow/topic/10495110729)\"\n"
     ]
    },
    {
     "name": "stdout",
     "output_type": "stream",
     "text": [
      "Exiting\n'posts: 4'\nPROGRESS: 29% (3460/11783)\nu'[Rate the Death Knight set above you part 7] (/forums/en/wow/topic/8882098190)'\n"
     ]
    },
    {
     "name": "stdout",
     "output_type": "stream",
     "text": [
      "[Errno 10054] An existing connection was forcibly closed by the remote host\n"
     ]
    }
   ],
   "source": [
    "extracted_topics = []\n",
    "progress_cursor = 1\n",
    "for topicEntry in read_corpora_links_instance[currentClass[0]]:\n",
    "    content = extract_topic(topicEntry)\n",
    "    extracted_topics.extend(content)\n",
    "\n",
    "    progress_percent = int(progress_cursor * 100 / len(read_corpora_links_instance[currentClass[0]]))\n",
    "    print 'PROGRESS: ' + str(progress_percent) + '% (' + str(progress_cursor) + '/' \\\n",
    "          + str(len(read_corpora_links_instance[currentClass[0]])) + ')'\n",
    "\n",
    "    if progress_cursor % 50 == 0:\n",
    "        save_to_json_file('Resources/Corpora/EU/Posts/', 'corpora_posts_list_' + currentClass[0],\n",
    "                          extracted_topics, 'wb')\n",
    "    progress_cursor += 1\n",
    "\n",
    "print 'DONE! Total posts found: ' + str(len(extracted_topics))\n",
    "posts_by_class = {currentClass[0]: extracted_topics}"
   ]
  },
  {
   "cell_type": "code",
   "execution_count": null,
   "metadata": {},
   "outputs": [],
   "source": [
    "# SAVE LIST OF POSTS\n",
    "posts_by_class = {currentClass[0]: extracted_topics}\n",
    "save_to_json_file('Resources/Corpora/EU/Posts/', 'corpora_posts_' + currentClass[0], posts_by_class, 'wb')"
   ]
  },
  {
   "cell_type": "code",
   "execution_count": 10,
   "metadata": {},
   "outputs": [
    {
     "name": "stdout",
     "output_type": "stream",
     "text": [
      "34186\n"
     ]
    }
   ],
   "source": [
    "# READ DICTIONARY OF POSTS\n",
    "posts_by_class = read_from_json_file('Resources/Corpora/EU/Posts/', 'corpora_posts_' + currentClass[0])\n",
    "print len(posts_by_class[currentClass[0]])"
   ]
  },
  {
   "cell_type": "code",
   "execution_count": null,
   "metadata": {},
   "outputs": [],
   "source": [
    ""
   ]
  }
 ],
 "metadata": {
  "kernelspec": {
   "display_name": "Python 2",
   "language": "python",
   "name": "python2"
  },
  "language_info": {
   "codemirror_mode": {
    "name": "ipython",
    "version": 2.0
   },
   "file_extension": ".py",
   "mimetype": "text/x-python",
   "name": "python",
   "nbconvert_exporter": "python",
   "pygments_lexer": "ipython2",
   "version": "2.7.12"
  }
 },
 "nbformat": 4,
 "nbformat_minor": 0
}